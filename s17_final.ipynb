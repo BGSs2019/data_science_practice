{
 "cells": [
  {
   "cell_type": "markdown",
   "id": "64272cbb",
   "metadata": {},
   "source": [
    "# Финальный проект"
   ]
  },
  {
   "cell_type": "markdown",
   "id": "58046aaa",
   "metadata": {},
   "source": [
    "<a id='section_id'></a>\n",
    "## Содержание\n",
    "\n",
    "[Шаг 1. Загрузка данных](#section_id1)\n",
    "\n",
    "[Шаг 2. Предобработка данных](#section_id2)\n",
    "\n",
    "[Шаг 3. Исследовательский анализ данных](#section_id3)\n",
    "\n",
    "[Шаг 4. Подготовка данных](#section_id4)\n",
    "\n",
    "[Шаг 5. Обучение моделей](#section_id5)\n",
    "\n",
    "[Шаг 6. Общий вывод](#section_id6)"
   ]
  },
  {
   "cell_type": "markdown",
   "id": "5d7e9381",
   "metadata": {},
   "source": [
    "## Описание исследования\n",
    "\n",
    "Оператор связи «ТелеДом» хочет бороться с оттоком клиентов. Для этого его сотрудники начнут предлагать промокоды и специальные условия всем, кто планирует отказаться от услуг связи. Чтобы заранее находить таких пользователей, «ТелеДому» нужна модель, которая будет предсказывать, разорвёт ли абонент договор. Команда оператора собрала персональные данные о некоторых клиентах, информацию об их тарифах и услугах. Задача — обучить на этих данных модель для прогноза оттока клиентов."
   ]
  },
  {
   "cell_type": "markdown",
   "id": "aab85e8e",
   "metadata": {},
   "source": [
    "## Цель исследования\n",
    "\n",
    "- Обучить модель машинного обучения для решения задачи бинарной классификации по предсказанию оттока клиентов"
   ]
  },
  {
   "cell_type": "markdown",
   "id": "8b2d37c2",
   "metadata": {},
   "source": [
    "## Описание данных\n",
    "Данные состоят из нескольких файлов, полученных из разных источников:\n",
    "\n",
    "- contract_new.csv — информация о договоре;\n",
    "- personal_new.csv — персональные данные клиента;\n",
    "- internet_new.csv — информация об интернет-услугах;\n",
    "- phone_new.csv — информация об услугах телефонии.\n",
    "\n",
    "Файл **contract_new.csv**:\n",
    "- customerID — идентификатор абонента;\n",
    "- BeginDate — дата начала действия договора;\n",
    "- EndDate — дата окончания действия договора;\n",
    "- Type — тип оплаты: раз в год-два или ежемесячно;\n",
    "- PaperlessBilling — электронный расчётный лист;\n",
    "- PaymentMethod — тип платежа;\n",
    "- MonthlyCharges — расходы за месяц;\n",
    "- TotalCharges — общие расходы абонента.\n",
    "\n",
    "Файл **personal_new.csv**:\n",
    "- customerID — идентификатор пользователя;\n",
    "- gender — пол;\n",
    "- SeniorCitizen — является ли абонент пенсионером;\n",
    "- Partner — есть ли у абонента супруг или супруга;\n",
    "- Dependents — есть ли у абонента дети.\n",
    "\n",
    "Файл **internet_new.csv**:\n",
    "- customerID — идентификатор пользователя;\n",
    "- InternetService — тип подключения;\n",
    "- OnlineSecurity — блокировка опасных сайтов;\n",
    "- OnlineBackup — облачное хранилище файлов для резервного копирования данных;\n",
    "- DeviceProtection — антивирус;\n",
    "- TechSupport — выделенная линия технической поддержки;\n",
    "- StreamingTV — стриминговое телевидение;\n",
    "- StreamingMovies — каталог фильмов.\n",
    "\n",
    "Файл **phone_new.csv**:\n",
    "- customerID — идентификатор пользователя;\n",
    "- MultipleLines — подключение телефона к нескольким линиям одновременно."
   ]
  },
  {
   "cell_type": "markdown",
   "id": "aae391a1",
   "metadata": {},
   "source": [
    "## Ход исследования\n",
    "\n",
    "1. Получение данных\n",
    "2. Предобработка данных\n",
    "3. Исследовательский анализ\n",
    "4. Подготовка данных\n",
    "5. Обучение моделей\n",
    "6. Выводы"
   ]
  },
  {
   "cell_type": "markdown",
   "id": "4e6d6c10",
   "metadata": {},
   "source": [
    "## Импорт библиотек"
   ]
  },
  {
   "cell_type": "code",
   "execution_count": 1,
   "id": "1ffc6001",
   "metadata": {},
   "outputs": [],
   "source": [
    "# установка библиотек\n",
    "!pip install phik -q\n",
    "!pip install category_encoders -q\n",
    "!pip install shap -q"
   ]
  },
  {
   "cell_type": "code",
   "execution_count": 2,
   "id": "83cd67ef",
   "metadata": {},
   "outputs": [],
   "source": [
    "# импорт библиотек\n",
    "\n",
    "# работа с данными\n",
    "import pandas as pd\n",
    "import numpy as np\n",
    "\n",
    "# работа с графикой\n",
    "from matplotlib import pyplot as plt\n",
    "import seaborn as sns\n",
    "\n",
    "# анализ признаков\n",
    "from phik.report import plot_correlation_matrix\n",
    "from phik import phik_matrix\n",
    "\n",
    "# инструменты подготовки данных и машинного обучения\n",
    "from sklearn.model_selection import train_test_split\n",
    "from sklearn.preprocessing import StandardScaler, MinMaxScaler\n",
    "from category_encoders import TargetEncoder\n",
    "from lightgbm import LGBMClassifier\n",
    "from sklearn.tree import DecisionTreeClassifier\n",
    "from sklearn.neighbors import KNeighborsClassifier\n",
    "\n",
    "# пайплайны\n",
    "from sklearn.pipeline import Pipeline\n",
    "from sklearn.compose import ColumnTransformer\n",
    "from sklearn.model_selection import GridSearchCV\n",
    "\n",
    "# импорт метрик\n",
    "from sklearn.metrics import roc_auc_score, confusion_matrix\n",
    "\n",
    "# импорт инструментов анализа\n",
    "import shap"
   ]
  },
  {
   "cell_type": "markdown",
   "id": "c3024c2d",
   "metadata": {},
   "source": [
    "## Задание констант"
   ]
  },
  {
   "cell_type": "code",
   "execution_count": 3,
   "id": "bf5dfa05",
   "metadata": {},
   "outputs": [],
   "source": [
    "# задание констант\n",
    "RANDOM_STATE = 100225\n",
    "TEST_SIZE = 0.25"
   ]
  },
  {
   "cell_type": "markdown",
   "id": "b1227d53",
   "metadata": {},
   "source": [
    "<a id='section_id1'></a>\n",
    "## Шаг 1. Загрузка данных\n",
    "[к содержанию](#section_id)"
   ]
  },
  {
   "cell_type": "code",
   "execution_count": 4,
   "id": "3d92374f",
   "metadata": {},
   "outputs": [],
   "source": [
    "# загрузка данных\n",
    "try:\n",
    "    # попытка загрузки локальных файлов\n",
    "    contract = pd.read_csv('contract_new.csv')\n",
    "    personal = pd.read_csv('personal_new.csv')\n",
    "    internet = pd.read_csv('internet_new.csv')\n",
    "    phone = pd.read_csv('phone_new.csv')\n",
    "except:\n",
    "    # загрузка данных через интернет\n",
    "    contract = pd.read_csv('https://code.s3.yandex.net/datasets/contract_new.csv')\n",
    "    personal = pd.read_csv('https://code.s3.yandex.net/datasets/personal_new.csv')\n",
    "    internet = pd.read_csv('https://code.s3.yandex.net/datasets/internet_new.csv')\n",
    "    phone = pd.read_csv('https://code.s3.yandex.net/datasets/phone_new.csv')"
   ]
  },
  {
   "cell_type": "code",
   "execution_count": 5,
   "id": "2ea34299",
   "metadata": {},
   "outputs": [],
   "source": [
    "# корректировка названий столбцов в соответствии с \"хорошим стилем\"\n",
    "def make_snake(header):\n",
    "    '''Функция принимает на вход заголовок и возвращает их snake_case варианты'''\n",
    "    result = ''\n",
    "    \n",
    "    # поставить перед всеми словами нижнее подчеркивание\n",
    "    for i, letter in enumerate(header):\n",
    "        if letter.isupper() and header[i-1].isupper():\n",
    "            result += letter.lower()\n",
    "        elif letter.isupper():\n",
    "            result += '_' + letter.lower()\n",
    "        else:\n",
    "            result += letter\n",
    "            \n",
    "    # удалить нижнее подчеркивание в начале слова\n",
    "    if result[0] == '_':\n",
    "        result = result[1:]\n",
    "        \n",
    "    return result"
   ]
  },
  {
   "cell_type": "code",
   "execution_count": 6,
   "id": "6fcbb825",
   "metadata": {},
   "outputs": [],
   "source": [
    "# корректировка названий столбцов\n",
    "contract.columns = [make_snake(header) for header in contract.columns]\n",
    "personal.columns = [make_snake(header) for header in personal.columns]\n",
    "internet.columns = [make_snake(header) for header in internet.columns]\n",
    "phone.columns = [make_snake(header) for header in phone.columns]"
   ]
  },
  {
   "cell_type": "code",
   "execution_count": 7,
   "id": "08a8ef3e",
   "metadata": {},
   "outputs": [],
   "source": [
    "# задание индекс столбца для каждого датасета\n",
    "contract = contract.set_index('customer_id')\n",
    "personal = personal.set_index('customer_id')\n",
    "internet = internet.set_index('customer_id')\n",
    "phone = phone.set_index('customer_id')"
   ]
  },
  {
   "cell_type": "code",
   "execution_count": 8,
   "id": "9be8e763",
   "metadata": {},
   "outputs": [],
   "source": [
    "# функция для обзора данных\n",
    "def preview(dataset):\n",
    "    '''Функция принимает на вход набор данных и выводит основную информацию о нем.'''\n",
    "    display(dataset.head())\n",
    "    dataset.info()\n",
    "    display(dataset.describe(include='all').T)"
   ]
  },
  {
   "cell_type": "code",
   "execution_count": 9,
   "id": "20947fd5",
   "metadata": {
    "scrolled": true
   },
   "outputs": [
    {
     "data": {
      "text/html": [
       "<div>\n",
       "<style scoped>\n",
       "    .dataframe tbody tr th:only-of-type {\n",
       "        vertical-align: middle;\n",
       "    }\n",
       "\n",
       "    .dataframe tbody tr th {\n",
       "        vertical-align: top;\n",
       "    }\n",
       "\n",
       "    .dataframe thead th {\n",
       "        text-align: right;\n",
       "    }\n",
       "</style>\n",
       "<table border=\"1\" class=\"dataframe\">\n",
       "  <thead>\n",
       "    <tr style=\"text-align: right;\">\n",
       "      <th></th>\n",
       "      <th>begin_date</th>\n",
       "      <th>end_date</th>\n",
       "      <th>type</th>\n",
       "      <th>paperless_billing</th>\n",
       "      <th>payment_method</th>\n",
       "      <th>monthly_charges</th>\n",
       "      <th>total_charges</th>\n",
       "    </tr>\n",
       "    <tr>\n",
       "      <th>customer_id</th>\n",
       "      <th></th>\n",
       "      <th></th>\n",
       "      <th></th>\n",
       "      <th></th>\n",
       "      <th></th>\n",
       "      <th></th>\n",
       "      <th></th>\n",
       "    </tr>\n",
       "  </thead>\n",
       "  <tbody>\n",
       "    <tr>\n",
       "      <th>7590-VHVEG</th>\n",
       "      <td>2020-01-01</td>\n",
       "      <td>No</td>\n",
       "      <td>Month-to-month</td>\n",
       "      <td>Yes</td>\n",
       "      <td>Electronic check</td>\n",
       "      <td>29.85</td>\n",
       "      <td>31.04</td>\n",
       "    </tr>\n",
       "    <tr>\n",
       "      <th>5575-GNVDE</th>\n",
       "      <td>2017-04-01</td>\n",
       "      <td>No</td>\n",
       "      <td>One year</td>\n",
       "      <td>No</td>\n",
       "      <td>Mailed check</td>\n",
       "      <td>56.95</td>\n",
       "      <td>2071.84</td>\n",
       "    </tr>\n",
       "    <tr>\n",
       "      <th>3668-QPYBK</th>\n",
       "      <td>2019-10-01</td>\n",
       "      <td>No</td>\n",
       "      <td>Month-to-month</td>\n",
       "      <td>Yes</td>\n",
       "      <td>Mailed check</td>\n",
       "      <td>53.85</td>\n",
       "      <td>226.17</td>\n",
       "    </tr>\n",
       "    <tr>\n",
       "      <th>7795-CFOCW</th>\n",
       "      <td>2016-05-01</td>\n",
       "      <td>No</td>\n",
       "      <td>One year</td>\n",
       "      <td>No</td>\n",
       "      <td>Bank transfer (automatic)</td>\n",
       "      <td>42.30</td>\n",
       "      <td>1960.6</td>\n",
       "    </tr>\n",
       "    <tr>\n",
       "      <th>9237-HQITU</th>\n",
       "      <td>2019-09-01</td>\n",
       "      <td>No</td>\n",
       "      <td>Month-to-month</td>\n",
       "      <td>Yes</td>\n",
       "      <td>Electronic check</td>\n",
       "      <td>70.70</td>\n",
       "      <td>353.5</td>\n",
       "    </tr>\n",
       "  </tbody>\n",
       "</table>\n",
       "</div>"
      ],
      "text/plain": [
       "             begin_date end_date            type paperless_billing  \\\n",
       "customer_id                                                          \n",
       "7590-VHVEG   2020-01-01       No  Month-to-month               Yes   \n",
       "5575-GNVDE   2017-04-01       No        One year                No   \n",
       "3668-QPYBK   2019-10-01       No  Month-to-month               Yes   \n",
       "7795-CFOCW   2016-05-01       No        One year                No   \n",
       "9237-HQITU   2019-09-01       No  Month-to-month               Yes   \n",
       "\n",
       "                        payment_method  monthly_charges total_charges  \n",
       "customer_id                                                            \n",
       "7590-VHVEG            Electronic check            29.85         31.04  \n",
       "5575-GNVDE                Mailed check            56.95       2071.84  \n",
       "3668-QPYBK                Mailed check            53.85        226.17  \n",
       "7795-CFOCW   Bank transfer (automatic)            42.30        1960.6  \n",
       "9237-HQITU            Electronic check            70.70         353.5  "
      ]
     },
     "metadata": {},
     "output_type": "display_data"
    },
    {
     "name": "stdout",
     "output_type": "stream",
     "text": [
      "<class 'pandas.core.frame.DataFrame'>\n",
      "Index: 7043 entries, 7590-VHVEG to 3186-AJIEK\n",
      "Data columns (total 7 columns):\n",
      " #   Column             Non-Null Count  Dtype  \n",
      "---  ------             --------------  -----  \n",
      " 0   begin_date         7043 non-null   object \n",
      " 1   end_date           7043 non-null   object \n",
      " 2   type               7043 non-null   object \n",
      " 3   paperless_billing  7043 non-null   object \n",
      " 4   payment_method     7043 non-null   object \n",
      " 5   monthly_charges    7043 non-null   float64\n",
      " 6   total_charges      7043 non-null   object \n",
      "dtypes: float64(1), object(6)\n",
      "memory usage: 440.2+ KB\n"
     ]
    },
    {
     "data": {
      "text/html": [
       "<div>\n",
       "<style scoped>\n",
       "    .dataframe tbody tr th:only-of-type {\n",
       "        vertical-align: middle;\n",
       "    }\n",
       "\n",
       "    .dataframe tbody tr th {\n",
       "        vertical-align: top;\n",
       "    }\n",
       "\n",
       "    .dataframe thead th {\n",
       "        text-align: right;\n",
       "    }\n",
       "</style>\n",
       "<table border=\"1\" class=\"dataframe\">\n",
       "  <thead>\n",
       "    <tr style=\"text-align: right;\">\n",
       "      <th></th>\n",
       "      <th>count</th>\n",
       "      <th>unique</th>\n",
       "      <th>top</th>\n",
       "      <th>freq</th>\n",
       "      <th>mean</th>\n",
       "      <th>std</th>\n",
       "      <th>min</th>\n",
       "      <th>25%</th>\n",
       "      <th>50%</th>\n",
       "      <th>75%</th>\n",
       "      <th>max</th>\n",
       "    </tr>\n",
       "  </thead>\n",
       "  <tbody>\n",
       "    <tr>\n",
       "      <th>begin_date</th>\n",
       "      <td>7043</td>\n",
       "      <td>77</td>\n",
       "      <td>2014-02-01</td>\n",
       "      <td>366</td>\n",
       "      <td>NaN</td>\n",
       "      <td>NaN</td>\n",
       "      <td>NaN</td>\n",
       "      <td>NaN</td>\n",
       "      <td>NaN</td>\n",
       "      <td>NaN</td>\n",
       "      <td>NaN</td>\n",
       "    </tr>\n",
       "    <tr>\n",
       "      <th>end_date</th>\n",
       "      <td>7043</td>\n",
       "      <td>67</td>\n",
       "      <td>No</td>\n",
       "      <td>5942</td>\n",
       "      <td>NaN</td>\n",
       "      <td>NaN</td>\n",
       "      <td>NaN</td>\n",
       "      <td>NaN</td>\n",
       "      <td>NaN</td>\n",
       "      <td>NaN</td>\n",
       "      <td>NaN</td>\n",
       "    </tr>\n",
       "    <tr>\n",
       "      <th>type</th>\n",
       "      <td>7043</td>\n",
       "      <td>3</td>\n",
       "      <td>Month-to-month</td>\n",
       "      <td>3875</td>\n",
       "      <td>NaN</td>\n",
       "      <td>NaN</td>\n",
       "      <td>NaN</td>\n",
       "      <td>NaN</td>\n",
       "      <td>NaN</td>\n",
       "      <td>NaN</td>\n",
       "      <td>NaN</td>\n",
       "    </tr>\n",
       "    <tr>\n",
       "      <th>paperless_billing</th>\n",
       "      <td>7043</td>\n",
       "      <td>2</td>\n",
       "      <td>Yes</td>\n",
       "      <td>4171</td>\n",
       "      <td>NaN</td>\n",
       "      <td>NaN</td>\n",
       "      <td>NaN</td>\n",
       "      <td>NaN</td>\n",
       "      <td>NaN</td>\n",
       "      <td>NaN</td>\n",
       "      <td>NaN</td>\n",
       "    </tr>\n",
       "    <tr>\n",
       "      <th>payment_method</th>\n",
       "      <td>7043</td>\n",
       "      <td>4</td>\n",
       "      <td>Electronic check</td>\n",
       "      <td>2365</td>\n",
       "      <td>NaN</td>\n",
       "      <td>NaN</td>\n",
       "      <td>NaN</td>\n",
       "      <td>NaN</td>\n",
       "      <td>NaN</td>\n",
       "      <td>NaN</td>\n",
       "      <td>NaN</td>\n",
       "    </tr>\n",
       "    <tr>\n",
       "      <th>monthly_charges</th>\n",
       "      <td>7043.0</td>\n",
       "      <td>NaN</td>\n",
       "      <td>NaN</td>\n",
       "      <td>NaN</td>\n",
       "      <td>64.761692</td>\n",
       "      <td>30.090047</td>\n",
       "      <td>18.25</td>\n",
       "      <td>35.5</td>\n",
       "      <td>70.35</td>\n",
       "      <td>89.85</td>\n",
       "      <td>118.75</td>\n",
       "    </tr>\n",
       "    <tr>\n",
       "      <th>total_charges</th>\n",
       "      <td>7043</td>\n",
       "      <td>6658</td>\n",
       "      <td></td>\n",
       "      <td>11</td>\n",
       "      <td>NaN</td>\n",
       "      <td>NaN</td>\n",
       "      <td>NaN</td>\n",
       "      <td>NaN</td>\n",
       "      <td>NaN</td>\n",
       "      <td>NaN</td>\n",
       "      <td>NaN</td>\n",
       "    </tr>\n",
       "  </tbody>\n",
       "</table>\n",
       "</div>"
      ],
      "text/plain": [
       "                    count unique               top  freq       mean  \\\n",
       "begin_date           7043     77        2014-02-01   366        NaN   \n",
       "end_date             7043     67                No  5942        NaN   \n",
       "type                 7043      3    Month-to-month  3875        NaN   \n",
       "paperless_billing    7043      2               Yes  4171        NaN   \n",
       "payment_method       7043      4  Electronic check  2365        NaN   \n",
       "monthly_charges    7043.0    NaN               NaN   NaN  64.761692   \n",
       "total_charges        7043   6658                      11        NaN   \n",
       "\n",
       "                         std    min   25%    50%    75%     max  \n",
       "begin_date               NaN    NaN   NaN    NaN    NaN     NaN  \n",
       "end_date                 NaN    NaN   NaN    NaN    NaN     NaN  \n",
       "type                     NaN    NaN   NaN    NaN    NaN     NaN  \n",
       "paperless_billing        NaN    NaN   NaN    NaN    NaN     NaN  \n",
       "payment_method           NaN    NaN   NaN    NaN    NaN     NaN  \n",
       "monthly_charges    30.090047  18.25  35.5  70.35  89.85  118.75  \n",
       "total_charges            NaN    NaN   NaN    NaN    NaN     NaN  "
      ]
     },
     "metadata": {},
     "output_type": "display_data"
    }
   ],
   "source": [
    "# обзор данных о контрактах\n",
    "preview(contract)"
   ]
  },
  {
   "cell_type": "code",
   "execution_count": 10,
   "id": "cc6a84aa",
   "metadata": {
    "scrolled": true
   },
   "outputs": [
    {
     "data": {
      "text/html": [
       "<div>\n",
       "<style scoped>\n",
       "    .dataframe tbody tr th:only-of-type {\n",
       "        vertical-align: middle;\n",
       "    }\n",
       "\n",
       "    .dataframe tbody tr th {\n",
       "        vertical-align: top;\n",
       "    }\n",
       "\n",
       "    .dataframe thead th {\n",
       "        text-align: right;\n",
       "    }\n",
       "</style>\n",
       "<table border=\"1\" class=\"dataframe\">\n",
       "  <thead>\n",
       "    <tr style=\"text-align: right;\">\n",
       "      <th></th>\n",
       "      <th>gender</th>\n",
       "      <th>senior_citizen</th>\n",
       "      <th>partner</th>\n",
       "      <th>dependents</th>\n",
       "    </tr>\n",
       "    <tr>\n",
       "      <th>customer_id</th>\n",
       "      <th></th>\n",
       "      <th></th>\n",
       "      <th></th>\n",
       "      <th></th>\n",
       "    </tr>\n",
       "  </thead>\n",
       "  <tbody>\n",
       "    <tr>\n",
       "      <th>7590-VHVEG</th>\n",
       "      <td>Female</td>\n",
       "      <td>0</td>\n",
       "      <td>Yes</td>\n",
       "      <td>No</td>\n",
       "    </tr>\n",
       "    <tr>\n",
       "      <th>5575-GNVDE</th>\n",
       "      <td>Male</td>\n",
       "      <td>0</td>\n",
       "      <td>No</td>\n",
       "      <td>No</td>\n",
       "    </tr>\n",
       "    <tr>\n",
       "      <th>3668-QPYBK</th>\n",
       "      <td>Male</td>\n",
       "      <td>0</td>\n",
       "      <td>No</td>\n",
       "      <td>No</td>\n",
       "    </tr>\n",
       "    <tr>\n",
       "      <th>7795-CFOCW</th>\n",
       "      <td>Male</td>\n",
       "      <td>0</td>\n",
       "      <td>No</td>\n",
       "      <td>No</td>\n",
       "    </tr>\n",
       "    <tr>\n",
       "      <th>9237-HQITU</th>\n",
       "      <td>Female</td>\n",
       "      <td>0</td>\n",
       "      <td>No</td>\n",
       "      <td>No</td>\n",
       "    </tr>\n",
       "  </tbody>\n",
       "</table>\n",
       "</div>"
      ],
      "text/plain": [
       "             gender  senior_citizen partner dependents\n",
       "customer_id                                           \n",
       "7590-VHVEG   Female               0     Yes         No\n",
       "5575-GNVDE     Male               0      No         No\n",
       "3668-QPYBK     Male               0      No         No\n",
       "7795-CFOCW     Male               0      No         No\n",
       "9237-HQITU   Female               0      No         No"
      ]
     },
     "metadata": {},
     "output_type": "display_data"
    },
    {
     "name": "stdout",
     "output_type": "stream",
     "text": [
      "<class 'pandas.core.frame.DataFrame'>\n",
      "Index: 7043 entries, 7590-VHVEG to 3186-AJIEK\n",
      "Data columns (total 4 columns):\n",
      " #   Column          Non-Null Count  Dtype \n",
      "---  ------          --------------  ----- \n",
      " 0   gender          7043 non-null   object\n",
      " 1   senior_citizen  7043 non-null   int64 \n",
      " 2   partner         7043 non-null   object\n",
      " 3   dependents      7043 non-null   object\n",
      "dtypes: int64(1), object(3)\n",
      "memory usage: 275.1+ KB\n"
     ]
    },
    {
     "data": {
      "text/html": [
       "<div>\n",
       "<style scoped>\n",
       "    .dataframe tbody tr th:only-of-type {\n",
       "        vertical-align: middle;\n",
       "    }\n",
       "\n",
       "    .dataframe tbody tr th {\n",
       "        vertical-align: top;\n",
       "    }\n",
       "\n",
       "    .dataframe thead th {\n",
       "        text-align: right;\n",
       "    }\n",
       "</style>\n",
       "<table border=\"1\" class=\"dataframe\">\n",
       "  <thead>\n",
       "    <tr style=\"text-align: right;\">\n",
       "      <th></th>\n",
       "      <th>count</th>\n",
       "      <th>unique</th>\n",
       "      <th>top</th>\n",
       "      <th>freq</th>\n",
       "      <th>mean</th>\n",
       "      <th>std</th>\n",
       "      <th>min</th>\n",
       "      <th>25%</th>\n",
       "      <th>50%</th>\n",
       "      <th>75%</th>\n",
       "      <th>max</th>\n",
       "    </tr>\n",
       "  </thead>\n",
       "  <tbody>\n",
       "    <tr>\n",
       "      <th>gender</th>\n",
       "      <td>7043</td>\n",
       "      <td>2</td>\n",
       "      <td>Male</td>\n",
       "      <td>3555</td>\n",
       "      <td>NaN</td>\n",
       "      <td>NaN</td>\n",
       "      <td>NaN</td>\n",
       "      <td>NaN</td>\n",
       "      <td>NaN</td>\n",
       "      <td>NaN</td>\n",
       "      <td>NaN</td>\n",
       "    </tr>\n",
       "    <tr>\n",
       "      <th>senior_citizen</th>\n",
       "      <td>7043.0</td>\n",
       "      <td>NaN</td>\n",
       "      <td>NaN</td>\n",
       "      <td>NaN</td>\n",
       "      <td>0.162147</td>\n",
       "      <td>0.368612</td>\n",
       "      <td>0.0</td>\n",
       "      <td>0.0</td>\n",
       "      <td>0.0</td>\n",
       "      <td>0.0</td>\n",
       "      <td>1.0</td>\n",
       "    </tr>\n",
       "    <tr>\n",
       "      <th>partner</th>\n",
       "      <td>7043</td>\n",
       "      <td>2</td>\n",
       "      <td>No</td>\n",
       "      <td>3641</td>\n",
       "      <td>NaN</td>\n",
       "      <td>NaN</td>\n",
       "      <td>NaN</td>\n",
       "      <td>NaN</td>\n",
       "      <td>NaN</td>\n",
       "      <td>NaN</td>\n",
       "      <td>NaN</td>\n",
       "    </tr>\n",
       "    <tr>\n",
       "      <th>dependents</th>\n",
       "      <td>7043</td>\n",
       "      <td>2</td>\n",
       "      <td>No</td>\n",
       "      <td>4933</td>\n",
       "      <td>NaN</td>\n",
       "      <td>NaN</td>\n",
       "      <td>NaN</td>\n",
       "      <td>NaN</td>\n",
       "      <td>NaN</td>\n",
       "      <td>NaN</td>\n",
       "      <td>NaN</td>\n",
       "    </tr>\n",
       "  </tbody>\n",
       "</table>\n",
       "</div>"
      ],
      "text/plain": [
       "                 count unique   top  freq      mean       std  min  25%  50%  \\\n",
       "gender            7043      2  Male  3555       NaN       NaN  NaN  NaN  NaN   \n",
       "senior_citizen  7043.0    NaN   NaN   NaN  0.162147  0.368612  0.0  0.0  0.0   \n",
       "partner           7043      2    No  3641       NaN       NaN  NaN  NaN  NaN   \n",
       "dependents        7043      2    No  4933       NaN       NaN  NaN  NaN  NaN   \n",
       "\n",
       "                75%  max  \n",
       "gender          NaN  NaN  \n",
       "senior_citizen  0.0  1.0  \n",
       "partner         NaN  NaN  \n",
       "dependents      NaN  NaN  "
      ]
     },
     "metadata": {},
     "output_type": "display_data"
    }
   ],
   "source": [
    "# обзор персональных данных\n",
    "preview(personal)"
   ]
  },
  {
   "cell_type": "code",
   "execution_count": 11,
   "id": "3962f6a7",
   "metadata": {
    "scrolled": true
   },
   "outputs": [
    {
     "data": {
      "text/html": [
       "<div>\n",
       "<style scoped>\n",
       "    .dataframe tbody tr th:only-of-type {\n",
       "        vertical-align: middle;\n",
       "    }\n",
       "\n",
       "    .dataframe tbody tr th {\n",
       "        vertical-align: top;\n",
       "    }\n",
       "\n",
       "    .dataframe thead th {\n",
       "        text-align: right;\n",
       "    }\n",
       "</style>\n",
       "<table border=\"1\" class=\"dataframe\">\n",
       "  <thead>\n",
       "    <tr style=\"text-align: right;\">\n",
       "      <th></th>\n",
       "      <th>internet_service</th>\n",
       "      <th>online_security</th>\n",
       "      <th>online_backup</th>\n",
       "      <th>device_protection</th>\n",
       "      <th>tech_support</th>\n",
       "      <th>streaming_tv</th>\n",
       "      <th>streaming_movies</th>\n",
       "    </tr>\n",
       "    <tr>\n",
       "      <th>customer_id</th>\n",
       "      <th></th>\n",
       "      <th></th>\n",
       "      <th></th>\n",
       "      <th></th>\n",
       "      <th></th>\n",
       "      <th></th>\n",
       "      <th></th>\n",
       "    </tr>\n",
       "  </thead>\n",
       "  <tbody>\n",
       "    <tr>\n",
       "      <th>7590-VHVEG</th>\n",
       "      <td>DSL</td>\n",
       "      <td>No</td>\n",
       "      <td>Yes</td>\n",
       "      <td>No</td>\n",
       "      <td>No</td>\n",
       "      <td>No</td>\n",
       "      <td>No</td>\n",
       "    </tr>\n",
       "    <tr>\n",
       "      <th>5575-GNVDE</th>\n",
       "      <td>DSL</td>\n",
       "      <td>Yes</td>\n",
       "      <td>No</td>\n",
       "      <td>Yes</td>\n",
       "      <td>No</td>\n",
       "      <td>No</td>\n",
       "      <td>No</td>\n",
       "    </tr>\n",
       "    <tr>\n",
       "      <th>3668-QPYBK</th>\n",
       "      <td>DSL</td>\n",
       "      <td>Yes</td>\n",
       "      <td>Yes</td>\n",
       "      <td>No</td>\n",
       "      <td>No</td>\n",
       "      <td>No</td>\n",
       "      <td>No</td>\n",
       "    </tr>\n",
       "    <tr>\n",
       "      <th>7795-CFOCW</th>\n",
       "      <td>DSL</td>\n",
       "      <td>Yes</td>\n",
       "      <td>No</td>\n",
       "      <td>Yes</td>\n",
       "      <td>Yes</td>\n",
       "      <td>No</td>\n",
       "      <td>No</td>\n",
       "    </tr>\n",
       "    <tr>\n",
       "      <th>9237-HQITU</th>\n",
       "      <td>Fiber optic</td>\n",
       "      <td>No</td>\n",
       "      <td>No</td>\n",
       "      <td>No</td>\n",
       "      <td>No</td>\n",
       "      <td>No</td>\n",
       "      <td>No</td>\n",
       "    </tr>\n",
       "  </tbody>\n",
       "</table>\n",
       "</div>"
      ],
      "text/plain": [
       "            internet_service online_security online_backup device_protection  \\\n",
       "customer_id                                                                    \n",
       "7590-VHVEG               DSL              No           Yes                No   \n",
       "5575-GNVDE               DSL             Yes            No               Yes   \n",
       "3668-QPYBK               DSL             Yes           Yes                No   \n",
       "7795-CFOCW               DSL             Yes            No               Yes   \n",
       "9237-HQITU       Fiber optic              No            No                No   \n",
       "\n",
       "            tech_support streaming_tv streaming_movies  \n",
       "customer_id                                             \n",
       "7590-VHVEG            No           No               No  \n",
       "5575-GNVDE            No           No               No  \n",
       "3668-QPYBK            No           No               No  \n",
       "7795-CFOCW           Yes           No               No  \n",
       "9237-HQITU            No           No               No  "
      ]
     },
     "metadata": {},
     "output_type": "display_data"
    },
    {
     "name": "stdout",
     "output_type": "stream",
     "text": [
      "<class 'pandas.core.frame.DataFrame'>\n",
      "Index: 5517 entries, 7590-VHVEG to 3186-AJIEK\n",
      "Data columns (total 7 columns):\n",
      " #   Column             Non-Null Count  Dtype \n",
      "---  ------             --------------  ----- \n",
      " 0   internet_service   5517 non-null   object\n",
      " 1   online_security    5517 non-null   object\n",
      " 2   online_backup      5517 non-null   object\n",
      " 3   device_protection  5517 non-null   object\n",
      " 4   tech_support       5517 non-null   object\n",
      " 5   streaming_tv       5517 non-null   object\n",
      " 6   streaming_movies   5517 non-null   object\n",
      "dtypes: object(7)\n",
      "memory usage: 344.8+ KB\n"
     ]
    },
    {
     "data": {
      "text/html": [
       "<div>\n",
       "<style scoped>\n",
       "    .dataframe tbody tr th:only-of-type {\n",
       "        vertical-align: middle;\n",
       "    }\n",
       "\n",
       "    .dataframe tbody tr th {\n",
       "        vertical-align: top;\n",
       "    }\n",
       "\n",
       "    .dataframe thead th {\n",
       "        text-align: right;\n",
       "    }\n",
       "</style>\n",
       "<table border=\"1\" class=\"dataframe\">\n",
       "  <thead>\n",
       "    <tr style=\"text-align: right;\">\n",
       "      <th></th>\n",
       "      <th>count</th>\n",
       "      <th>unique</th>\n",
       "      <th>top</th>\n",
       "      <th>freq</th>\n",
       "    </tr>\n",
       "  </thead>\n",
       "  <tbody>\n",
       "    <tr>\n",
       "      <th>internet_service</th>\n",
       "      <td>5517</td>\n",
       "      <td>2</td>\n",
       "      <td>Fiber optic</td>\n",
       "      <td>3096</td>\n",
       "    </tr>\n",
       "    <tr>\n",
       "      <th>online_security</th>\n",
       "      <td>5517</td>\n",
       "      <td>2</td>\n",
       "      <td>No</td>\n",
       "      <td>3498</td>\n",
       "    </tr>\n",
       "    <tr>\n",
       "      <th>online_backup</th>\n",
       "      <td>5517</td>\n",
       "      <td>2</td>\n",
       "      <td>No</td>\n",
       "      <td>3088</td>\n",
       "    </tr>\n",
       "    <tr>\n",
       "      <th>device_protection</th>\n",
       "      <td>5517</td>\n",
       "      <td>2</td>\n",
       "      <td>No</td>\n",
       "      <td>3095</td>\n",
       "    </tr>\n",
       "    <tr>\n",
       "      <th>tech_support</th>\n",
       "      <td>5517</td>\n",
       "      <td>2</td>\n",
       "      <td>No</td>\n",
       "      <td>3473</td>\n",
       "    </tr>\n",
       "    <tr>\n",
       "      <th>streaming_tv</th>\n",
       "      <td>5517</td>\n",
       "      <td>2</td>\n",
       "      <td>No</td>\n",
       "      <td>2810</td>\n",
       "    </tr>\n",
       "    <tr>\n",
       "      <th>streaming_movies</th>\n",
       "      <td>5517</td>\n",
       "      <td>2</td>\n",
       "      <td>No</td>\n",
       "      <td>2785</td>\n",
       "    </tr>\n",
       "  </tbody>\n",
       "</table>\n",
       "</div>"
      ],
      "text/plain": [
       "                  count unique          top  freq\n",
       "internet_service   5517      2  Fiber optic  3096\n",
       "online_security    5517      2           No  3498\n",
       "online_backup      5517      2           No  3088\n",
       "device_protection  5517      2           No  3095\n",
       "tech_support       5517      2           No  3473\n",
       "streaming_tv       5517      2           No  2810\n",
       "streaming_movies   5517      2           No  2785"
      ]
     },
     "metadata": {},
     "output_type": "display_data"
    }
   ],
   "source": [
    "# обзор данных по интернет услугам\n",
    "preview(internet)"
   ]
  },
  {
   "cell_type": "code",
   "execution_count": 12,
   "id": "42c91299",
   "metadata": {
    "scrolled": true
   },
   "outputs": [
    {
     "data": {
      "text/html": [
       "<div>\n",
       "<style scoped>\n",
       "    .dataframe tbody tr th:only-of-type {\n",
       "        vertical-align: middle;\n",
       "    }\n",
       "\n",
       "    .dataframe tbody tr th {\n",
       "        vertical-align: top;\n",
       "    }\n",
       "\n",
       "    .dataframe thead th {\n",
       "        text-align: right;\n",
       "    }\n",
       "</style>\n",
       "<table border=\"1\" class=\"dataframe\">\n",
       "  <thead>\n",
       "    <tr style=\"text-align: right;\">\n",
       "      <th></th>\n",
       "      <th>multiple_lines</th>\n",
       "    </tr>\n",
       "    <tr>\n",
       "      <th>customer_id</th>\n",
       "      <th></th>\n",
       "    </tr>\n",
       "  </thead>\n",
       "  <tbody>\n",
       "    <tr>\n",
       "      <th>5575-GNVDE</th>\n",
       "      <td>No</td>\n",
       "    </tr>\n",
       "    <tr>\n",
       "      <th>3668-QPYBK</th>\n",
       "      <td>No</td>\n",
       "    </tr>\n",
       "    <tr>\n",
       "      <th>9237-HQITU</th>\n",
       "      <td>No</td>\n",
       "    </tr>\n",
       "    <tr>\n",
       "      <th>9305-CDSKC</th>\n",
       "      <td>Yes</td>\n",
       "    </tr>\n",
       "    <tr>\n",
       "      <th>1452-KIOVK</th>\n",
       "      <td>Yes</td>\n",
       "    </tr>\n",
       "  </tbody>\n",
       "</table>\n",
       "</div>"
      ],
      "text/plain": [
       "            multiple_lines\n",
       "customer_id               \n",
       "5575-GNVDE              No\n",
       "3668-QPYBK              No\n",
       "9237-HQITU              No\n",
       "9305-CDSKC             Yes\n",
       "1452-KIOVK             Yes"
      ]
     },
     "metadata": {},
     "output_type": "display_data"
    },
    {
     "name": "stdout",
     "output_type": "stream",
     "text": [
      "<class 'pandas.core.frame.DataFrame'>\n",
      "Index: 6361 entries, 5575-GNVDE to 3186-AJIEK\n",
      "Data columns (total 1 columns):\n",
      " #   Column          Non-Null Count  Dtype \n",
      "---  ------          --------------  ----- \n",
      " 0   multiple_lines  6361 non-null   object\n",
      "dtypes: object(1)\n",
      "memory usage: 99.4+ KB\n"
     ]
    },
    {
     "data": {
      "text/html": [
       "<div>\n",
       "<style scoped>\n",
       "    .dataframe tbody tr th:only-of-type {\n",
       "        vertical-align: middle;\n",
       "    }\n",
       "\n",
       "    .dataframe tbody tr th {\n",
       "        vertical-align: top;\n",
       "    }\n",
       "\n",
       "    .dataframe thead th {\n",
       "        text-align: right;\n",
       "    }\n",
       "</style>\n",
       "<table border=\"1\" class=\"dataframe\">\n",
       "  <thead>\n",
       "    <tr style=\"text-align: right;\">\n",
       "      <th></th>\n",
       "      <th>count</th>\n",
       "      <th>unique</th>\n",
       "      <th>top</th>\n",
       "      <th>freq</th>\n",
       "    </tr>\n",
       "  </thead>\n",
       "  <tbody>\n",
       "    <tr>\n",
       "      <th>multiple_lines</th>\n",
       "      <td>6361</td>\n",
       "      <td>2</td>\n",
       "      <td>No</td>\n",
       "      <td>3390</td>\n",
       "    </tr>\n",
       "  </tbody>\n",
       "</table>\n",
       "</div>"
      ],
      "text/plain": [
       "               count unique top  freq\n",
       "multiple_lines  6361      2  No  3390"
      ]
     },
     "metadata": {},
     "output_type": "display_data"
    }
   ],
   "source": [
    "# обзор данных по телефон услугам\n",
    "preview(phone)"
   ]
  },
  {
   "cell_type": "code",
   "execution_count": 13,
   "id": "c6a65d48",
   "metadata": {},
   "outputs": [],
   "source": [
    "# объединение данных в один датафрейм по индексу customer_id\n",
    "df = pd.concat([contract, personal, internet, phone], axis=1, join='outer')"
   ]
  },
  {
   "cell_type": "markdown",
   "id": "9f8f4745",
   "metadata": {},
   "source": [
    "<a id='section_id2'></a>\n",
    "## Шаг 2. Предобработка данных\n",
    "[к содержанию](#section_id)"
   ]
  },
  {
   "cell_type": "code",
   "execution_count": 14,
   "id": "bac80d14",
   "metadata": {
    "scrolled": false
   },
   "outputs": [
    {
     "data": {
      "text/html": [
       "<div>\n",
       "<style scoped>\n",
       "    .dataframe tbody tr th:only-of-type {\n",
       "        vertical-align: middle;\n",
       "    }\n",
       "\n",
       "    .dataframe tbody tr th {\n",
       "        vertical-align: top;\n",
       "    }\n",
       "\n",
       "    .dataframe thead th {\n",
       "        text-align: right;\n",
       "    }\n",
       "</style>\n",
       "<table border=\"1\" class=\"dataframe\">\n",
       "  <thead>\n",
       "    <tr style=\"text-align: right;\">\n",
       "      <th></th>\n",
       "      <th>begin_date</th>\n",
       "      <th>end_date</th>\n",
       "      <th>type</th>\n",
       "      <th>paperless_billing</th>\n",
       "      <th>payment_method</th>\n",
       "      <th>monthly_charges</th>\n",
       "      <th>total_charges</th>\n",
       "      <th>gender</th>\n",
       "      <th>senior_citizen</th>\n",
       "      <th>partner</th>\n",
       "      <th>dependents</th>\n",
       "      <th>internet_service</th>\n",
       "      <th>online_security</th>\n",
       "      <th>online_backup</th>\n",
       "      <th>device_protection</th>\n",
       "      <th>tech_support</th>\n",
       "      <th>streaming_tv</th>\n",
       "      <th>streaming_movies</th>\n",
       "      <th>multiple_lines</th>\n",
       "    </tr>\n",
       "    <tr>\n",
       "      <th>customer_id</th>\n",
       "      <th></th>\n",
       "      <th></th>\n",
       "      <th></th>\n",
       "      <th></th>\n",
       "      <th></th>\n",
       "      <th></th>\n",
       "      <th></th>\n",
       "      <th></th>\n",
       "      <th></th>\n",
       "      <th></th>\n",
       "      <th></th>\n",
       "      <th></th>\n",
       "      <th></th>\n",
       "      <th></th>\n",
       "      <th></th>\n",
       "      <th></th>\n",
       "      <th></th>\n",
       "      <th></th>\n",
       "      <th></th>\n",
       "    </tr>\n",
       "  </thead>\n",
       "  <tbody>\n",
       "    <tr>\n",
       "      <th>7590-VHVEG</th>\n",
       "      <td>2020-01-01</td>\n",
       "      <td>No</td>\n",
       "      <td>Month-to-month</td>\n",
       "      <td>Yes</td>\n",
       "      <td>Electronic check</td>\n",
       "      <td>29.85</td>\n",
       "      <td>31.04</td>\n",
       "      <td>Female</td>\n",
       "      <td>0</td>\n",
       "      <td>Yes</td>\n",
       "      <td>No</td>\n",
       "      <td>DSL</td>\n",
       "      <td>No</td>\n",
       "      <td>Yes</td>\n",
       "      <td>No</td>\n",
       "      <td>No</td>\n",
       "      <td>No</td>\n",
       "      <td>No</td>\n",
       "      <td>NaN</td>\n",
       "    </tr>\n",
       "    <tr>\n",
       "      <th>5575-GNVDE</th>\n",
       "      <td>2017-04-01</td>\n",
       "      <td>No</td>\n",
       "      <td>One year</td>\n",
       "      <td>No</td>\n",
       "      <td>Mailed check</td>\n",
       "      <td>56.95</td>\n",
       "      <td>2071.84</td>\n",
       "      <td>Male</td>\n",
       "      <td>0</td>\n",
       "      <td>No</td>\n",
       "      <td>No</td>\n",
       "      <td>DSL</td>\n",
       "      <td>Yes</td>\n",
       "      <td>No</td>\n",
       "      <td>Yes</td>\n",
       "      <td>No</td>\n",
       "      <td>No</td>\n",
       "      <td>No</td>\n",
       "      <td>No</td>\n",
       "    </tr>\n",
       "    <tr>\n",
       "      <th>3668-QPYBK</th>\n",
       "      <td>2019-10-01</td>\n",
       "      <td>No</td>\n",
       "      <td>Month-to-month</td>\n",
       "      <td>Yes</td>\n",
       "      <td>Mailed check</td>\n",
       "      <td>53.85</td>\n",
       "      <td>226.17</td>\n",
       "      <td>Male</td>\n",
       "      <td>0</td>\n",
       "      <td>No</td>\n",
       "      <td>No</td>\n",
       "      <td>DSL</td>\n",
       "      <td>Yes</td>\n",
       "      <td>Yes</td>\n",
       "      <td>No</td>\n",
       "      <td>No</td>\n",
       "      <td>No</td>\n",
       "      <td>No</td>\n",
       "      <td>No</td>\n",
       "    </tr>\n",
       "    <tr>\n",
       "      <th>7795-CFOCW</th>\n",
       "      <td>2016-05-01</td>\n",
       "      <td>No</td>\n",
       "      <td>One year</td>\n",
       "      <td>No</td>\n",
       "      <td>Bank transfer (automatic)</td>\n",
       "      <td>42.30</td>\n",
       "      <td>1960.6</td>\n",
       "      <td>Male</td>\n",
       "      <td>0</td>\n",
       "      <td>No</td>\n",
       "      <td>No</td>\n",
       "      <td>DSL</td>\n",
       "      <td>Yes</td>\n",
       "      <td>No</td>\n",
       "      <td>Yes</td>\n",
       "      <td>Yes</td>\n",
       "      <td>No</td>\n",
       "      <td>No</td>\n",
       "      <td>NaN</td>\n",
       "    </tr>\n",
       "    <tr>\n",
       "      <th>9237-HQITU</th>\n",
       "      <td>2019-09-01</td>\n",
       "      <td>No</td>\n",
       "      <td>Month-to-month</td>\n",
       "      <td>Yes</td>\n",
       "      <td>Electronic check</td>\n",
       "      <td>70.70</td>\n",
       "      <td>353.5</td>\n",
       "      <td>Female</td>\n",
       "      <td>0</td>\n",
       "      <td>No</td>\n",
       "      <td>No</td>\n",
       "      <td>Fiber optic</td>\n",
       "      <td>No</td>\n",
       "      <td>No</td>\n",
       "      <td>No</td>\n",
       "      <td>No</td>\n",
       "      <td>No</td>\n",
       "      <td>No</td>\n",
       "      <td>No</td>\n",
       "    </tr>\n",
       "  </tbody>\n",
       "</table>\n",
       "</div>"
      ],
      "text/plain": [
       "             begin_date end_date            type paperless_billing  \\\n",
       "customer_id                                                          \n",
       "7590-VHVEG   2020-01-01       No  Month-to-month               Yes   \n",
       "5575-GNVDE   2017-04-01       No        One year                No   \n",
       "3668-QPYBK   2019-10-01       No  Month-to-month               Yes   \n",
       "7795-CFOCW   2016-05-01       No        One year                No   \n",
       "9237-HQITU   2019-09-01       No  Month-to-month               Yes   \n",
       "\n",
       "                        payment_method  monthly_charges total_charges  gender  \\\n",
       "customer_id                                                                     \n",
       "7590-VHVEG            Electronic check            29.85         31.04  Female   \n",
       "5575-GNVDE                Mailed check            56.95       2071.84    Male   \n",
       "3668-QPYBK                Mailed check            53.85        226.17    Male   \n",
       "7795-CFOCW   Bank transfer (automatic)            42.30        1960.6    Male   \n",
       "9237-HQITU            Electronic check            70.70         353.5  Female   \n",
       "\n",
       "             senior_citizen partner dependents internet_service  \\\n",
       "customer_id                                                       \n",
       "7590-VHVEG                0     Yes         No              DSL   \n",
       "5575-GNVDE                0      No         No              DSL   \n",
       "3668-QPYBK                0      No         No              DSL   \n",
       "7795-CFOCW                0      No         No              DSL   \n",
       "9237-HQITU                0      No         No      Fiber optic   \n",
       "\n",
       "            online_security online_backup device_protection tech_support  \\\n",
       "customer_id                                                                \n",
       "7590-VHVEG               No           Yes                No           No   \n",
       "5575-GNVDE              Yes            No               Yes           No   \n",
       "3668-QPYBK              Yes           Yes                No           No   \n",
       "7795-CFOCW              Yes            No               Yes          Yes   \n",
       "9237-HQITU               No            No                No           No   \n",
       "\n",
       "            streaming_tv streaming_movies multiple_lines  \n",
       "customer_id                                               \n",
       "7590-VHVEG            No               No            NaN  \n",
       "5575-GNVDE            No               No             No  \n",
       "3668-QPYBK            No               No             No  \n",
       "7795-CFOCW            No               No            NaN  \n",
       "9237-HQITU            No               No             No  "
      ]
     },
     "metadata": {},
     "output_type": "display_data"
    },
    {
     "name": "stdout",
     "output_type": "stream",
     "text": [
      "<class 'pandas.core.frame.DataFrame'>\n",
      "Index: 7043 entries, 7590-VHVEG to 3186-AJIEK\n",
      "Data columns (total 19 columns):\n",
      " #   Column             Non-Null Count  Dtype  \n",
      "---  ------             --------------  -----  \n",
      " 0   begin_date         7043 non-null   object \n",
      " 1   end_date           7043 non-null   object \n",
      " 2   type               7043 non-null   object \n",
      " 3   paperless_billing  7043 non-null   object \n",
      " 4   payment_method     7043 non-null   object \n",
      " 5   monthly_charges    7043 non-null   float64\n",
      " 6   total_charges      7043 non-null   object \n",
      " 7   gender             7043 non-null   object \n",
      " 8   senior_citizen     7043 non-null   int64  \n",
      " 9   partner            7043 non-null   object \n",
      " 10  dependents         7043 non-null   object \n",
      " 11  internet_service   5517 non-null   object \n",
      " 12  online_security    5517 non-null   object \n",
      " 13  online_backup      5517 non-null   object \n",
      " 14  device_protection  5517 non-null   object \n",
      " 15  tech_support       5517 non-null   object \n",
      " 16  streaming_tv       5517 non-null   object \n",
      " 17  streaming_movies   5517 non-null   object \n",
      " 18  multiple_lines     6361 non-null   object \n",
      "dtypes: float64(1), int64(1), object(17)\n",
      "memory usage: 1.1+ MB\n"
     ]
    },
    {
     "data": {
      "text/html": [
       "<div>\n",
       "<style scoped>\n",
       "    .dataframe tbody tr th:only-of-type {\n",
       "        vertical-align: middle;\n",
       "    }\n",
       "\n",
       "    .dataframe tbody tr th {\n",
       "        vertical-align: top;\n",
       "    }\n",
       "\n",
       "    .dataframe thead th {\n",
       "        text-align: right;\n",
       "    }\n",
       "</style>\n",
       "<table border=\"1\" class=\"dataframe\">\n",
       "  <thead>\n",
       "    <tr style=\"text-align: right;\">\n",
       "      <th></th>\n",
       "      <th>count</th>\n",
       "      <th>unique</th>\n",
       "      <th>top</th>\n",
       "      <th>freq</th>\n",
       "      <th>mean</th>\n",
       "      <th>std</th>\n",
       "      <th>min</th>\n",
       "      <th>25%</th>\n",
       "      <th>50%</th>\n",
       "      <th>75%</th>\n",
       "      <th>max</th>\n",
       "    </tr>\n",
       "  </thead>\n",
       "  <tbody>\n",
       "    <tr>\n",
       "      <th>begin_date</th>\n",
       "      <td>7043</td>\n",
       "      <td>77</td>\n",
       "      <td>2014-02-01</td>\n",
       "      <td>366</td>\n",
       "      <td>NaN</td>\n",
       "      <td>NaN</td>\n",
       "      <td>NaN</td>\n",
       "      <td>NaN</td>\n",
       "      <td>NaN</td>\n",
       "      <td>NaN</td>\n",
       "      <td>NaN</td>\n",
       "    </tr>\n",
       "    <tr>\n",
       "      <th>end_date</th>\n",
       "      <td>7043</td>\n",
       "      <td>67</td>\n",
       "      <td>No</td>\n",
       "      <td>5942</td>\n",
       "      <td>NaN</td>\n",
       "      <td>NaN</td>\n",
       "      <td>NaN</td>\n",
       "      <td>NaN</td>\n",
       "      <td>NaN</td>\n",
       "      <td>NaN</td>\n",
       "      <td>NaN</td>\n",
       "    </tr>\n",
       "    <tr>\n",
       "      <th>type</th>\n",
       "      <td>7043</td>\n",
       "      <td>3</td>\n",
       "      <td>Month-to-month</td>\n",
       "      <td>3875</td>\n",
       "      <td>NaN</td>\n",
       "      <td>NaN</td>\n",
       "      <td>NaN</td>\n",
       "      <td>NaN</td>\n",
       "      <td>NaN</td>\n",
       "      <td>NaN</td>\n",
       "      <td>NaN</td>\n",
       "    </tr>\n",
       "    <tr>\n",
       "      <th>paperless_billing</th>\n",
       "      <td>7043</td>\n",
       "      <td>2</td>\n",
       "      <td>Yes</td>\n",
       "      <td>4171</td>\n",
       "      <td>NaN</td>\n",
       "      <td>NaN</td>\n",
       "      <td>NaN</td>\n",
       "      <td>NaN</td>\n",
       "      <td>NaN</td>\n",
       "      <td>NaN</td>\n",
       "      <td>NaN</td>\n",
       "    </tr>\n",
       "    <tr>\n",
       "      <th>payment_method</th>\n",
       "      <td>7043</td>\n",
       "      <td>4</td>\n",
       "      <td>Electronic check</td>\n",
       "      <td>2365</td>\n",
       "      <td>NaN</td>\n",
       "      <td>NaN</td>\n",
       "      <td>NaN</td>\n",
       "      <td>NaN</td>\n",
       "      <td>NaN</td>\n",
       "      <td>NaN</td>\n",
       "      <td>NaN</td>\n",
       "    </tr>\n",
       "    <tr>\n",
       "      <th>monthly_charges</th>\n",
       "      <td>7043.0</td>\n",
       "      <td>NaN</td>\n",
       "      <td>NaN</td>\n",
       "      <td>NaN</td>\n",
       "      <td>64.761692</td>\n",
       "      <td>30.090047</td>\n",
       "      <td>18.25</td>\n",
       "      <td>35.5</td>\n",
       "      <td>70.35</td>\n",
       "      <td>89.85</td>\n",
       "      <td>118.75</td>\n",
       "    </tr>\n",
       "    <tr>\n",
       "      <th>total_charges</th>\n",
       "      <td>7043</td>\n",
       "      <td>6658</td>\n",
       "      <td></td>\n",
       "      <td>11</td>\n",
       "      <td>NaN</td>\n",
       "      <td>NaN</td>\n",
       "      <td>NaN</td>\n",
       "      <td>NaN</td>\n",
       "      <td>NaN</td>\n",
       "      <td>NaN</td>\n",
       "      <td>NaN</td>\n",
       "    </tr>\n",
       "    <tr>\n",
       "      <th>gender</th>\n",
       "      <td>7043</td>\n",
       "      <td>2</td>\n",
       "      <td>Male</td>\n",
       "      <td>3555</td>\n",
       "      <td>NaN</td>\n",
       "      <td>NaN</td>\n",
       "      <td>NaN</td>\n",
       "      <td>NaN</td>\n",
       "      <td>NaN</td>\n",
       "      <td>NaN</td>\n",
       "      <td>NaN</td>\n",
       "    </tr>\n",
       "    <tr>\n",
       "      <th>senior_citizen</th>\n",
       "      <td>7043.0</td>\n",
       "      <td>NaN</td>\n",
       "      <td>NaN</td>\n",
       "      <td>NaN</td>\n",
       "      <td>0.162147</td>\n",
       "      <td>0.368612</td>\n",
       "      <td>0.0</td>\n",
       "      <td>0.0</td>\n",
       "      <td>0.0</td>\n",
       "      <td>0.0</td>\n",
       "      <td>1.0</td>\n",
       "    </tr>\n",
       "    <tr>\n",
       "      <th>partner</th>\n",
       "      <td>7043</td>\n",
       "      <td>2</td>\n",
       "      <td>No</td>\n",
       "      <td>3641</td>\n",
       "      <td>NaN</td>\n",
       "      <td>NaN</td>\n",
       "      <td>NaN</td>\n",
       "      <td>NaN</td>\n",
       "      <td>NaN</td>\n",
       "      <td>NaN</td>\n",
       "      <td>NaN</td>\n",
       "    </tr>\n",
       "    <tr>\n",
       "      <th>dependents</th>\n",
       "      <td>7043</td>\n",
       "      <td>2</td>\n",
       "      <td>No</td>\n",
       "      <td>4933</td>\n",
       "      <td>NaN</td>\n",
       "      <td>NaN</td>\n",
       "      <td>NaN</td>\n",
       "      <td>NaN</td>\n",
       "      <td>NaN</td>\n",
       "      <td>NaN</td>\n",
       "      <td>NaN</td>\n",
       "    </tr>\n",
       "    <tr>\n",
       "      <th>internet_service</th>\n",
       "      <td>5517</td>\n",
       "      <td>2</td>\n",
       "      <td>Fiber optic</td>\n",
       "      <td>3096</td>\n",
       "      <td>NaN</td>\n",
       "      <td>NaN</td>\n",
       "      <td>NaN</td>\n",
       "      <td>NaN</td>\n",
       "      <td>NaN</td>\n",
       "      <td>NaN</td>\n",
       "      <td>NaN</td>\n",
       "    </tr>\n",
       "    <tr>\n",
       "      <th>online_security</th>\n",
       "      <td>5517</td>\n",
       "      <td>2</td>\n",
       "      <td>No</td>\n",
       "      <td>3498</td>\n",
       "      <td>NaN</td>\n",
       "      <td>NaN</td>\n",
       "      <td>NaN</td>\n",
       "      <td>NaN</td>\n",
       "      <td>NaN</td>\n",
       "      <td>NaN</td>\n",
       "      <td>NaN</td>\n",
       "    </tr>\n",
       "    <tr>\n",
       "      <th>online_backup</th>\n",
       "      <td>5517</td>\n",
       "      <td>2</td>\n",
       "      <td>No</td>\n",
       "      <td>3088</td>\n",
       "      <td>NaN</td>\n",
       "      <td>NaN</td>\n",
       "      <td>NaN</td>\n",
       "      <td>NaN</td>\n",
       "      <td>NaN</td>\n",
       "      <td>NaN</td>\n",
       "      <td>NaN</td>\n",
       "    </tr>\n",
       "    <tr>\n",
       "      <th>device_protection</th>\n",
       "      <td>5517</td>\n",
       "      <td>2</td>\n",
       "      <td>No</td>\n",
       "      <td>3095</td>\n",
       "      <td>NaN</td>\n",
       "      <td>NaN</td>\n",
       "      <td>NaN</td>\n",
       "      <td>NaN</td>\n",
       "      <td>NaN</td>\n",
       "      <td>NaN</td>\n",
       "      <td>NaN</td>\n",
       "    </tr>\n",
       "    <tr>\n",
       "      <th>tech_support</th>\n",
       "      <td>5517</td>\n",
       "      <td>2</td>\n",
       "      <td>No</td>\n",
       "      <td>3473</td>\n",
       "      <td>NaN</td>\n",
       "      <td>NaN</td>\n",
       "      <td>NaN</td>\n",
       "      <td>NaN</td>\n",
       "      <td>NaN</td>\n",
       "      <td>NaN</td>\n",
       "      <td>NaN</td>\n",
       "    </tr>\n",
       "    <tr>\n",
       "      <th>streaming_tv</th>\n",
       "      <td>5517</td>\n",
       "      <td>2</td>\n",
       "      <td>No</td>\n",
       "      <td>2810</td>\n",
       "      <td>NaN</td>\n",
       "      <td>NaN</td>\n",
       "      <td>NaN</td>\n",
       "      <td>NaN</td>\n",
       "      <td>NaN</td>\n",
       "      <td>NaN</td>\n",
       "      <td>NaN</td>\n",
       "    </tr>\n",
       "    <tr>\n",
       "      <th>streaming_movies</th>\n",
       "      <td>5517</td>\n",
       "      <td>2</td>\n",
       "      <td>No</td>\n",
       "      <td>2785</td>\n",
       "      <td>NaN</td>\n",
       "      <td>NaN</td>\n",
       "      <td>NaN</td>\n",
       "      <td>NaN</td>\n",
       "      <td>NaN</td>\n",
       "      <td>NaN</td>\n",
       "      <td>NaN</td>\n",
       "    </tr>\n",
       "    <tr>\n",
       "      <th>multiple_lines</th>\n",
       "      <td>6361</td>\n",
       "      <td>2</td>\n",
       "      <td>No</td>\n",
       "      <td>3390</td>\n",
       "      <td>NaN</td>\n",
       "      <td>NaN</td>\n",
       "      <td>NaN</td>\n",
       "      <td>NaN</td>\n",
       "      <td>NaN</td>\n",
       "      <td>NaN</td>\n",
       "      <td>NaN</td>\n",
       "    </tr>\n",
       "  </tbody>\n",
       "</table>\n",
       "</div>"
      ],
      "text/plain": [
       "                    count unique               top  freq       mean  \\\n",
       "begin_date           7043     77        2014-02-01   366        NaN   \n",
       "end_date             7043     67                No  5942        NaN   \n",
       "type                 7043      3    Month-to-month  3875        NaN   \n",
       "paperless_billing    7043      2               Yes  4171        NaN   \n",
       "payment_method       7043      4  Electronic check  2365        NaN   \n",
       "monthly_charges    7043.0    NaN               NaN   NaN  64.761692   \n",
       "total_charges        7043   6658                      11        NaN   \n",
       "gender               7043      2              Male  3555        NaN   \n",
       "senior_citizen     7043.0    NaN               NaN   NaN   0.162147   \n",
       "partner              7043      2                No  3641        NaN   \n",
       "dependents           7043      2                No  4933        NaN   \n",
       "internet_service     5517      2       Fiber optic  3096        NaN   \n",
       "online_security      5517      2                No  3498        NaN   \n",
       "online_backup        5517      2                No  3088        NaN   \n",
       "device_protection    5517      2                No  3095        NaN   \n",
       "tech_support         5517      2                No  3473        NaN   \n",
       "streaming_tv         5517      2                No  2810        NaN   \n",
       "streaming_movies     5517      2                No  2785        NaN   \n",
       "multiple_lines       6361      2                No  3390        NaN   \n",
       "\n",
       "                         std    min   25%    50%    75%     max  \n",
       "begin_date               NaN    NaN   NaN    NaN    NaN     NaN  \n",
       "end_date                 NaN    NaN   NaN    NaN    NaN     NaN  \n",
       "type                     NaN    NaN   NaN    NaN    NaN     NaN  \n",
       "paperless_billing        NaN    NaN   NaN    NaN    NaN     NaN  \n",
       "payment_method           NaN    NaN   NaN    NaN    NaN     NaN  \n",
       "monthly_charges    30.090047  18.25  35.5  70.35  89.85  118.75  \n",
       "total_charges            NaN    NaN   NaN    NaN    NaN     NaN  \n",
       "gender                   NaN    NaN   NaN    NaN    NaN     NaN  \n",
       "senior_citizen      0.368612    0.0   0.0    0.0    0.0     1.0  \n",
       "partner                  NaN    NaN   NaN    NaN    NaN     NaN  \n",
       "dependents               NaN    NaN   NaN    NaN    NaN     NaN  \n",
       "internet_service         NaN    NaN   NaN    NaN    NaN     NaN  \n",
       "online_security          NaN    NaN   NaN    NaN    NaN     NaN  \n",
       "online_backup            NaN    NaN   NaN    NaN    NaN     NaN  \n",
       "device_protection        NaN    NaN   NaN    NaN    NaN     NaN  \n",
       "tech_support             NaN    NaN   NaN    NaN    NaN     NaN  \n",
       "streaming_tv             NaN    NaN   NaN    NaN    NaN     NaN  \n",
       "streaming_movies         NaN    NaN   NaN    NaN    NaN     NaN  \n",
       "multiple_lines           NaN    NaN   NaN    NaN    NaN     NaN  "
      ]
     },
     "metadata": {},
     "output_type": "display_data"
    }
   ],
   "source": [
    "preview(df)"
   ]
  },
  {
   "cell_type": "markdown",
   "id": "15037bd6",
   "metadata": {},
   "source": [
    "### Приведение типов данных"
   ]
  },
  {
   "cell_type": "code",
   "execution_count": 15,
   "id": "6b4fe5d4",
   "metadata": {},
   "outputs": [],
   "source": [
    "# приведение типов данных столбца begin_date\n",
    "try:\n",
    "    df['begin_date'] = pd.to_datetime(df['begin_date'])\n",
    "except:\n",
    "    print('Проблемы приведением дат')"
   ]
  },
  {
   "cell_type": "code",
   "execution_count": 16,
   "id": "eb710548",
   "metadata": {},
   "outputs": [
    {
     "name": "stdout",
     "output_type": "stream",
     "text": [
      "Проблемы с приведением дат\n"
     ]
    }
   ],
   "source": [
    "# приведение типов данных столбца end_date\n",
    "try:\n",
    "    df['end_date'] = pd.to_datetime(df['end_date'])\n",
    "except:\n",
    "    print('Проблемы с приведением дат')"
   ]
  },
  {
   "cell_type": "code",
   "execution_count": 17,
   "id": "72fc3356",
   "metadata": {},
   "outputs": [
    {
     "data": {
      "text/plain": [
       "No            5942\n",
       "2020-01-01      39\n",
       "2019-12-01      38\n",
       "2018-11-01      35\n",
       "2019-09-01      32\n",
       "              ... \n",
       "2014-12-01       2\n",
       "2015-04-01       2\n",
       "2014-10-01       1\n",
       "2014-06-01       1\n",
       "2014-11-01       1\n",
       "Name: end_date, Length: 67, dtype: int64"
      ]
     },
     "execution_count": 17,
     "metadata": {},
     "output_type": "execute_result"
    }
   ],
   "source": [
    "# изучение столбца с конечной датой\n",
    "df['end_date'].value_counts()"
   ]
  },
  {
   "cell_type": "markdown",
   "id": "c006fe6c",
   "metadata": {},
   "source": [
    "- Присутствует значения No, которые означают, что клиент не расторг контракт. Не будем изменять данные значения для получения целевого признака в дальнейшем"
   ]
  },
  {
   "cell_type": "code",
   "execution_count": 18,
   "id": "757f99ae",
   "metadata": {},
   "outputs": [
    {
     "name": "stdout",
     "output_type": "stream",
     "text": [
      "Проблемы с приведением чисел\n"
     ]
    }
   ],
   "source": [
    "# приведение типов данных столбца total_charges\n",
    "try:\n",
    "    df['total_charges'] = pd.to_numeric(df['total_charges'])\n",
    "except:\n",
    "    print('Проблемы с приведением чисел')"
   ]
  },
  {
   "cell_type": "code",
   "execution_count": 19,
   "id": "4adfe271",
   "metadata": {},
   "outputs": [
    {
     "data": {
      "text/plain": [
       "          11\n",
       "20.45      6\n",
       "101.0      5\n",
       "255.0      4\n",
       "1007.5     4\n",
       "          ..\n",
       "288.9      1\n",
       "219.02     1\n",
       "393.75     1\n",
       "2679.6     1\n",
       "931.8      1\n",
       "Name: total_charges, Length: 6658, dtype: int64"
      ]
     },
     "execution_count": 19,
     "metadata": {},
     "output_type": "execute_result"
    }
   ],
   "source": [
    "# изучение столбца total_charges\n",
    "df['total_charges'].value_counts()"
   ]
  },
  {
   "cell_type": "markdown",
   "id": "fe8069b9",
   "metadata": {},
   "source": [
    "Присутствуют 11 значений с символом пробела вместо суммы расходов"
   ]
  },
  {
   "cell_type": "code",
   "execution_count": 20,
   "id": "deb89096",
   "metadata": {},
   "outputs": [
    {
     "data": {
      "text/html": [
       "<div>\n",
       "<style scoped>\n",
       "    .dataframe tbody tr th:only-of-type {\n",
       "        vertical-align: middle;\n",
       "    }\n",
       "\n",
       "    .dataframe tbody tr th {\n",
       "        vertical-align: top;\n",
       "    }\n",
       "\n",
       "    .dataframe thead th {\n",
       "        text-align: right;\n",
       "    }\n",
       "</style>\n",
       "<table border=\"1\" class=\"dataframe\">\n",
       "  <thead>\n",
       "    <tr style=\"text-align: right;\">\n",
       "      <th></th>\n",
       "      <th>begin_date</th>\n",
       "      <th>end_date</th>\n",
       "      <th>type</th>\n",
       "      <th>paperless_billing</th>\n",
       "      <th>payment_method</th>\n",
       "      <th>monthly_charges</th>\n",
       "      <th>total_charges</th>\n",
       "      <th>gender</th>\n",
       "      <th>senior_citizen</th>\n",
       "      <th>partner</th>\n",
       "      <th>dependents</th>\n",
       "      <th>internet_service</th>\n",
       "      <th>online_security</th>\n",
       "      <th>online_backup</th>\n",
       "      <th>device_protection</th>\n",
       "      <th>tech_support</th>\n",
       "      <th>streaming_tv</th>\n",
       "      <th>streaming_movies</th>\n",
       "      <th>multiple_lines</th>\n",
       "    </tr>\n",
       "    <tr>\n",
       "      <th>customer_id</th>\n",
       "      <th></th>\n",
       "      <th></th>\n",
       "      <th></th>\n",
       "      <th></th>\n",
       "      <th></th>\n",
       "      <th></th>\n",
       "      <th></th>\n",
       "      <th></th>\n",
       "      <th></th>\n",
       "      <th></th>\n",
       "      <th></th>\n",
       "      <th></th>\n",
       "      <th></th>\n",
       "      <th></th>\n",
       "      <th></th>\n",
       "      <th></th>\n",
       "      <th></th>\n",
       "      <th></th>\n",
       "      <th></th>\n",
       "    </tr>\n",
       "  </thead>\n",
       "  <tbody>\n",
       "    <tr>\n",
       "      <th>4472-LVYGI</th>\n",
       "      <td>2020-02-01</td>\n",
       "      <td>No</td>\n",
       "      <td>Two year</td>\n",
       "      <td>Yes</td>\n",
       "      <td>Bank transfer (automatic)</td>\n",
       "      <td>52.55</td>\n",
       "      <td></td>\n",
       "      <td>Female</td>\n",
       "      <td>0</td>\n",
       "      <td>Yes</td>\n",
       "      <td>Yes</td>\n",
       "      <td>DSL</td>\n",
       "      <td>Yes</td>\n",
       "      <td>No</td>\n",
       "      <td>Yes</td>\n",
       "      <td>Yes</td>\n",
       "      <td>Yes</td>\n",
       "      <td>No</td>\n",
       "      <td>NaN</td>\n",
       "    </tr>\n",
       "    <tr>\n",
       "      <th>3115-CZMZD</th>\n",
       "      <td>2020-02-01</td>\n",
       "      <td>No</td>\n",
       "      <td>Two year</td>\n",
       "      <td>No</td>\n",
       "      <td>Mailed check</td>\n",
       "      <td>20.25</td>\n",
       "      <td></td>\n",
       "      <td>Male</td>\n",
       "      <td>0</td>\n",
       "      <td>No</td>\n",
       "      <td>Yes</td>\n",
       "      <td>NaN</td>\n",
       "      <td>NaN</td>\n",
       "      <td>NaN</td>\n",
       "      <td>NaN</td>\n",
       "      <td>NaN</td>\n",
       "      <td>NaN</td>\n",
       "      <td>NaN</td>\n",
       "      <td>No</td>\n",
       "    </tr>\n",
       "    <tr>\n",
       "      <th>5709-LVOEQ</th>\n",
       "      <td>2020-02-01</td>\n",
       "      <td>No</td>\n",
       "      <td>Two year</td>\n",
       "      <td>No</td>\n",
       "      <td>Mailed check</td>\n",
       "      <td>80.85</td>\n",
       "      <td></td>\n",
       "      <td>Female</td>\n",
       "      <td>0</td>\n",
       "      <td>Yes</td>\n",
       "      <td>Yes</td>\n",
       "      <td>DSL</td>\n",
       "      <td>Yes</td>\n",
       "      <td>Yes</td>\n",
       "      <td>Yes</td>\n",
       "      <td>No</td>\n",
       "      <td>Yes</td>\n",
       "      <td>Yes</td>\n",
       "      <td>No</td>\n",
       "    </tr>\n",
       "    <tr>\n",
       "      <th>4367-NUYAO</th>\n",
       "      <td>2020-02-01</td>\n",
       "      <td>No</td>\n",
       "      <td>Two year</td>\n",
       "      <td>No</td>\n",
       "      <td>Mailed check</td>\n",
       "      <td>25.75</td>\n",
       "      <td></td>\n",
       "      <td>Male</td>\n",
       "      <td>0</td>\n",
       "      <td>Yes</td>\n",
       "      <td>Yes</td>\n",
       "      <td>NaN</td>\n",
       "      <td>NaN</td>\n",
       "      <td>NaN</td>\n",
       "      <td>NaN</td>\n",
       "      <td>NaN</td>\n",
       "      <td>NaN</td>\n",
       "      <td>NaN</td>\n",
       "      <td>Yes</td>\n",
       "    </tr>\n",
       "    <tr>\n",
       "      <th>1371-DWPAZ</th>\n",
       "      <td>2020-02-01</td>\n",
       "      <td>No</td>\n",
       "      <td>Two year</td>\n",
       "      <td>No</td>\n",
       "      <td>Credit card (automatic)</td>\n",
       "      <td>56.05</td>\n",
       "      <td></td>\n",
       "      <td>Female</td>\n",
       "      <td>0</td>\n",
       "      <td>Yes</td>\n",
       "      <td>Yes</td>\n",
       "      <td>DSL</td>\n",
       "      <td>Yes</td>\n",
       "      <td>Yes</td>\n",
       "      <td>Yes</td>\n",
       "      <td>Yes</td>\n",
       "      <td>Yes</td>\n",
       "      <td>No</td>\n",
       "      <td>NaN</td>\n",
       "    </tr>\n",
       "    <tr>\n",
       "      <th>7644-OMVMY</th>\n",
       "      <td>2020-02-01</td>\n",
       "      <td>No</td>\n",
       "      <td>Two year</td>\n",
       "      <td>No</td>\n",
       "      <td>Mailed check</td>\n",
       "      <td>19.85</td>\n",
       "      <td></td>\n",
       "      <td>Male</td>\n",
       "      <td>0</td>\n",
       "      <td>Yes</td>\n",
       "      <td>Yes</td>\n",
       "      <td>NaN</td>\n",
       "      <td>NaN</td>\n",
       "      <td>NaN</td>\n",
       "      <td>NaN</td>\n",
       "      <td>NaN</td>\n",
       "      <td>NaN</td>\n",
       "      <td>NaN</td>\n",
       "      <td>No</td>\n",
       "    </tr>\n",
       "    <tr>\n",
       "      <th>3213-VVOLG</th>\n",
       "      <td>2020-02-01</td>\n",
       "      <td>No</td>\n",
       "      <td>Two year</td>\n",
       "      <td>No</td>\n",
       "      <td>Mailed check</td>\n",
       "      <td>25.35</td>\n",
       "      <td></td>\n",
       "      <td>Male</td>\n",
       "      <td>0</td>\n",
       "      <td>Yes</td>\n",
       "      <td>Yes</td>\n",
       "      <td>NaN</td>\n",
       "      <td>NaN</td>\n",
       "      <td>NaN</td>\n",
       "      <td>NaN</td>\n",
       "      <td>NaN</td>\n",
       "      <td>NaN</td>\n",
       "      <td>NaN</td>\n",
       "      <td>Yes</td>\n",
       "    </tr>\n",
       "    <tr>\n",
       "      <th>2520-SGTTA</th>\n",
       "      <td>2020-02-01</td>\n",
       "      <td>No</td>\n",
       "      <td>Two year</td>\n",
       "      <td>No</td>\n",
       "      <td>Mailed check</td>\n",
       "      <td>20.00</td>\n",
       "      <td></td>\n",
       "      <td>Female</td>\n",
       "      <td>0</td>\n",
       "      <td>Yes</td>\n",
       "      <td>Yes</td>\n",
       "      <td>NaN</td>\n",
       "      <td>NaN</td>\n",
       "      <td>NaN</td>\n",
       "      <td>NaN</td>\n",
       "      <td>NaN</td>\n",
       "      <td>NaN</td>\n",
       "      <td>NaN</td>\n",
       "      <td>No</td>\n",
       "    </tr>\n",
       "    <tr>\n",
       "      <th>2923-ARZLG</th>\n",
       "      <td>2020-02-01</td>\n",
       "      <td>No</td>\n",
       "      <td>One year</td>\n",
       "      <td>Yes</td>\n",
       "      <td>Mailed check</td>\n",
       "      <td>19.70</td>\n",
       "      <td></td>\n",
       "      <td>Male</td>\n",
       "      <td>0</td>\n",
       "      <td>Yes</td>\n",
       "      <td>Yes</td>\n",
       "      <td>NaN</td>\n",
       "      <td>NaN</td>\n",
       "      <td>NaN</td>\n",
       "      <td>NaN</td>\n",
       "      <td>NaN</td>\n",
       "      <td>NaN</td>\n",
       "      <td>NaN</td>\n",
       "      <td>No</td>\n",
       "    </tr>\n",
       "    <tr>\n",
       "      <th>4075-WKNIU</th>\n",
       "      <td>2020-02-01</td>\n",
       "      <td>No</td>\n",
       "      <td>Two year</td>\n",
       "      <td>No</td>\n",
       "      <td>Mailed check</td>\n",
       "      <td>73.35</td>\n",
       "      <td></td>\n",
       "      <td>Female</td>\n",
       "      <td>0</td>\n",
       "      <td>Yes</td>\n",
       "      <td>Yes</td>\n",
       "      <td>DSL</td>\n",
       "      <td>No</td>\n",
       "      <td>Yes</td>\n",
       "      <td>Yes</td>\n",
       "      <td>Yes</td>\n",
       "      <td>Yes</td>\n",
       "      <td>No</td>\n",
       "      <td>Yes</td>\n",
       "    </tr>\n",
       "    <tr>\n",
       "      <th>2775-SEFEE</th>\n",
       "      <td>2020-02-01</td>\n",
       "      <td>No</td>\n",
       "      <td>Two year</td>\n",
       "      <td>Yes</td>\n",
       "      <td>Bank transfer (automatic)</td>\n",
       "      <td>61.90</td>\n",
       "      <td></td>\n",
       "      <td>Male</td>\n",
       "      <td>0</td>\n",
       "      <td>No</td>\n",
       "      <td>Yes</td>\n",
       "      <td>DSL</td>\n",
       "      <td>Yes</td>\n",
       "      <td>Yes</td>\n",
       "      <td>No</td>\n",
       "      <td>Yes</td>\n",
       "      <td>No</td>\n",
       "      <td>No</td>\n",
       "      <td>Yes</td>\n",
       "    </tr>\n",
       "  </tbody>\n",
       "</table>\n",
       "</div>"
      ],
      "text/plain": [
       "            begin_date end_date      type paperless_billing  \\\n",
       "customer_id                                                   \n",
       "4472-LVYGI  2020-02-01       No  Two year               Yes   \n",
       "3115-CZMZD  2020-02-01       No  Two year                No   \n",
       "5709-LVOEQ  2020-02-01       No  Two year                No   \n",
       "4367-NUYAO  2020-02-01       No  Two year                No   \n",
       "1371-DWPAZ  2020-02-01       No  Two year                No   \n",
       "7644-OMVMY  2020-02-01       No  Two year                No   \n",
       "3213-VVOLG  2020-02-01       No  Two year                No   \n",
       "2520-SGTTA  2020-02-01       No  Two year                No   \n",
       "2923-ARZLG  2020-02-01       No  One year               Yes   \n",
       "4075-WKNIU  2020-02-01       No  Two year                No   \n",
       "2775-SEFEE  2020-02-01       No  Two year               Yes   \n",
       "\n",
       "                        payment_method  monthly_charges total_charges  gender  \\\n",
       "customer_id                                                                     \n",
       "4472-LVYGI   Bank transfer (automatic)            52.55                Female   \n",
       "3115-CZMZD                Mailed check            20.25                  Male   \n",
       "5709-LVOEQ                Mailed check            80.85                Female   \n",
       "4367-NUYAO                Mailed check            25.75                  Male   \n",
       "1371-DWPAZ     Credit card (automatic)            56.05                Female   \n",
       "7644-OMVMY                Mailed check            19.85                  Male   \n",
       "3213-VVOLG                Mailed check            25.35                  Male   \n",
       "2520-SGTTA                Mailed check            20.00                Female   \n",
       "2923-ARZLG                Mailed check            19.70                  Male   \n",
       "4075-WKNIU                Mailed check            73.35                Female   \n",
       "2775-SEFEE   Bank transfer (automatic)            61.90                  Male   \n",
       "\n",
       "             senior_citizen partner dependents internet_service  \\\n",
       "customer_id                                                       \n",
       "4472-LVYGI                0     Yes        Yes              DSL   \n",
       "3115-CZMZD                0      No        Yes              NaN   \n",
       "5709-LVOEQ                0     Yes        Yes              DSL   \n",
       "4367-NUYAO                0     Yes        Yes              NaN   \n",
       "1371-DWPAZ                0     Yes        Yes              DSL   \n",
       "7644-OMVMY                0     Yes        Yes              NaN   \n",
       "3213-VVOLG                0     Yes        Yes              NaN   \n",
       "2520-SGTTA                0     Yes        Yes              NaN   \n",
       "2923-ARZLG                0     Yes        Yes              NaN   \n",
       "4075-WKNIU                0     Yes        Yes              DSL   \n",
       "2775-SEFEE                0      No        Yes              DSL   \n",
       "\n",
       "            online_security online_backup device_protection tech_support  \\\n",
       "customer_id                                                                \n",
       "4472-LVYGI              Yes            No               Yes          Yes   \n",
       "3115-CZMZD              NaN           NaN               NaN          NaN   \n",
       "5709-LVOEQ              Yes           Yes               Yes           No   \n",
       "4367-NUYAO              NaN           NaN               NaN          NaN   \n",
       "1371-DWPAZ              Yes           Yes               Yes          Yes   \n",
       "7644-OMVMY              NaN           NaN               NaN          NaN   \n",
       "3213-VVOLG              NaN           NaN               NaN          NaN   \n",
       "2520-SGTTA              NaN           NaN               NaN          NaN   \n",
       "2923-ARZLG              NaN           NaN               NaN          NaN   \n",
       "4075-WKNIU               No           Yes               Yes          Yes   \n",
       "2775-SEFEE              Yes           Yes                No          Yes   \n",
       "\n",
       "            streaming_tv streaming_movies multiple_lines  \n",
       "customer_id                                               \n",
       "4472-LVYGI           Yes               No            NaN  \n",
       "3115-CZMZD           NaN              NaN             No  \n",
       "5709-LVOEQ           Yes              Yes             No  \n",
       "4367-NUYAO           NaN              NaN            Yes  \n",
       "1371-DWPAZ           Yes               No            NaN  \n",
       "7644-OMVMY           NaN              NaN             No  \n",
       "3213-VVOLG           NaN              NaN            Yes  \n",
       "2520-SGTTA           NaN              NaN             No  \n",
       "2923-ARZLG           NaN              NaN             No  \n",
       "4075-WKNIU           Yes               No            Yes  \n",
       "2775-SEFEE            No               No            Yes  "
      ]
     },
     "execution_count": 20,
     "metadata": {},
     "output_type": "execute_result"
    }
   ],
   "source": [
    "# изучение данных с символом пробела в столбце суммы расходов\n",
    "df[df['total_charges'] == ' ']"
   ]
  },
  {
   "cell_type": "markdown",
   "id": "2d0faafa",
   "metadata": {},
   "source": [
    "- Все эти клиенты заключили договор в 1 февраля 2020 года, значит их полные расходы равны месячным расходам. Копируем значения из столбца monthly_charges в столбец total_charges и установим тип данных float64"
   ]
  },
  {
   "cell_type": "code",
   "execution_count": 21,
   "id": "5caa98e9",
   "metadata": {},
   "outputs": [],
   "source": [
    "# копирование значений в столбец total_charges и приведение типов данных\n",
    "df.loc[df['total_charges']==' ', 'total_charges'] = df.loc[df['total_charges']==' ', 'monthly_charges']\n",
    "df['total_charges'] = pd.to_numeric(df['total_charges'])"
   ]
  },
  {
   "cell_type": "markdown",
   "id": "7ded0e24",
   "metadata": {},
   "source": [
    "### Анализ пропусков"
   ]
  },
  {
   "cell_type": "code",
   "execution_count": 22,
   "id": "ebfa46c1",
   "metadata": {},
   "outputs": [
    {
     "data": {
      "text/plain": [
       "begin_date              0\n",
       "end_date                0\n",
       "type                    0\n",
       "paperless_billing       0\n",
       "payment_method          0\n",
       "monthly_charges         0\n",
       "total_charges           0\n",
       "gender                  0\n",
       "senior_citizen          0\n",
       "partner                 0\n",
       "dependents              0\n",
       "internet_service     1526\n",
       "online_security      1526\n",
       "online_backup        1526\n",
       "device_protection    1526\n",
       "tech_support         1526\n",
       "streaming_tv         1526\n",
       "streaming_movies     1526\n",
       "multiple_lines        682\n",
       "dtype: int64"
      ]
     },
     "execution_count": 22,
     "metadata": {},
     "output_type": "execute_result"
    }
   ],
   "source": [
    "# анализ пропусков\n",
    "df.isna().sum()"
   ]
  },
  {
   "cell_type": "markdown",
   "id": "bd15a5a2",
   "metadata": {},
   "source": [
    "- Если клиент не пользуется интернет услугами, то у него в столбцах internet_service, online_security, online_backup, device_protection, tech_support, streaming_tv, streaming_movies будут пропуски, которые логично заменить значениями No.\n",
    "- В случае, если клиент не пользуется телефонией, то в столбце multiple_lines будут пропуски, которые также логично заменить значениями No."
   ]
  },
  {
   "cell_type": "code",
   "execution_count": 23,
   "id": "347d9d08",
   "metadata": {},
   "outputs": [],
   "source": [
    "# замена пропусков значениями No\n",
    "df = df.fillna('No')"
   ]
  },
  {
   "cell_type": "markdown",
   "id": "d2de3040",
   "metadata": {},
   "source": [
    "### Анализ дубликатов"
   ]
  },
  {
   "cell_type": "code",
   "execution_count": 24,
   "id": "4535e028",
   "metadata": {},
   "outputs": [
    {
     "data": {
      "text/plain": [
       "4"
      ]
     },
     "execution_count": 24,
     "metadata": {},
     "output_type": "execute_result"
    }
   ],
   "source": [
    "# анализ полных дубликатов\n",
    "df.duplicated().sum()"
   ]
  },
  {
   "cell_type": "code",
   "execution_count": 25,
   "id": "ee295cc9",
   "metadata": {},
   "outputs": [
    {
     "data": {
      "text/html": [
       "<div>\n",
       "<style scoped>\n",
       "    .dataframe tbody tr th:only-of-type {\n",
       "        vertical-align: middle;\n",
       "    }\n",
       "\n",
       "    .dataframe tbody tr th {\n",
       "        vertical-align: top;\n",
       "    }\n",
       "\n",
       "    .dataframe thead th {\n",
       "        text-align: right;\n",
       "    }\n",
       "</style>\n",
       "<table border=\"1\" class=\"dataframe\">\n",
       "  <thead>\n",
       "    <tr style=\"text-align: right;\">\n",
       "      <th></th>\n",
       "      <th>begin_date</th>\n",
       "      <th>end_date</th>\n",
       "      <th>type</th>\n",
       "      <th>paperless_billing</th>\n",
       "      <th>payment_method</th>\n",
       "      <th>monthly_charges</th>\n",
       "      <th>total_charges</th>\n",
       "      <th>gender</th>\n",
       "      <th>senior_citizen</th>\n",
       "      <th>partner</th>\n",
       "      <th>dependents</th>\n",
       "      <th>internet_service</th>\n",
       "      <th>online_security</th>\n",
       "      <th>online_backup</th>\n",
       "      <th>device_protection</th>\n",
       "      <th>tech_support</th>\n",
       "      <th>streaming_tv</th>\n",
       "      <th>streaming_movies</th>\n",
       "      <th>multiple_lines</th>\n",
       "    </tr>\n",
       "    <tr>\n",
       "      <th>customer_id</th>\n",
       "      <th></th>\n",
       "      <th></th>\n",
       "      <th></th>\n",
       "      <th></th>\n",
       "      <th></th>\n",
       "      <th></th>\n",
       "      <th></th>\n",
       "      <th></th>\n",
       "      <th></th>\n",
       "      <th></th>\n",
       "      <th></th>\n",
       "      <th></th>\n",
       "      <th></th>\n",
       "      <th></th>\n",
       "      <th></th>\n",
       "      <th></th>\n",
       "      <th></th>\n",
       "      <th></th>\n",
       "      <th></th>\n",
       "    </tr>\n",
       "  </thead>\n",
       "  <tbody>\n",
       "    <tr>\n",
       "      <th>4376-KFVRS</th>\n",
       "      <td>2014-02-01</td>\n",
       "      <td>No</td>\n",
       "      <td>Two year</td>\n",
       "      <td>Yes</td>\n",
       "      <td>Credit card (automatic)</td>\n",
       "      <td>114.05</td>\n",
       "      <td>8211.60</td>\n",
       "      <td>Male</td>\n",
       "      <td>0</td>\n",
       "      <td>Yes</td>\n",
       "      <td>Yes</td>\n",
       "      <td>Fiber optic</td>\n",
       "      <td>Yes</td>\n",
       "      <td>Yes</td>\n",
       "      <td>Yes</td>\n",
       "      <td>Yes</td>\n",
       "      <td>Yes</td>\n",
       "      <td>Yes</td>\n",
       "      <td>Yes</td>\n",
       "    </tr>\n",
       "    <tr>\n",
       "      <th>2866-IKBTM</th>\n",
       "      <td>2020-01-01</td>\n",
       "      <td>No</td>\n",
       "      <td>Month-to-month</td>\n",
       "      <td>No</td>\n",
       "      <td>Mailed check</td>\n",
       "      <td>19.55</td>\n",
       "      <td>19.55</td>\n",
       "      <td>Female</td>\n",
       "      <td>0</td>\n",
       "      <td>No</td>\n",
       "      <td>No</td>\n",
       "      <td>No</td>\n",
       "      <td>No</td>\n",
       "      <td>No</td>\n",
       "      <td>No</td>\n",
       "      <td>No</td>\n",
       "      <td>No</td>\n",
       "      <td>No</td>\n",
       "      <td>No</td>\n",
       "    </tr>\n",
       "    <tr>\n",
       "      <th>4312-KFRXN</th>\n",
       "      <td>2014-02-01</td>\n",
       "      <td>No</td>\n",
       "      <td>Two year</td>\n",
       "      <td>No</td>\n",
       "      <td>Mailed check</td>\n",
       "      <td>25.40</td>\n",
       "      <td>1828.80</td>\n",
       "      <td>Male</td>\n",
       "      <td>0</td>\n",
       "      <td>Yes</td>\n",
       "      <td>No</td>\n",
       "      <td>No</td>\n",
       "      <td>No</td>\n",
       "      <td>No</td>\n",
       "      <td>No</td>\n",
       "      <td>No</td>\n",
       "      <td>No</td>\n",
       "      <td>No</td>\n",
       "      <td>Yes</td>\n",
       "    </tr>\n",
       "    <tr>\n",
       "      <th>8605-ITULD</th>\n",
       "      <td>2020-01-01</td>\n",
       "      <td>No</td>\n",
       "      <td>Month-to-month</td>\n",
       "      <td>No</td>\n",
       "      <td>Mailed check</td>\n",
       "      <td>19.55</td>\n",
       "      <td>19.55</td>\n",
       "      <td>Female</td>\n",
       "      <td>0</td>\n",
       "      <td>No</td>\n",
       "      <td>No</td>\n",
       "      <td>No</td>\n",
       "      <td>No</td>\n",
       "      <td>No</td>\n",
       "      <td>No</td>\n",
       "      <td>No</td>\n",
       "      <td>No</td>\n",
       "      <td>No</td>\n",
       "      <td>No</td>\n",
       "    </tr>\n",
       "    <tr>\n",
       "      <th>0673-IGUQO</th>\n",
       "      <td>2020-01-01</td>\n",
       "      <td>No</td>\n",
       "      <td>Month-to-month</td>\n",
       "      <td>No</td>\n",
       "      <td>Mailed check</td>\n",
       "      <td>20.45</td>\n",
       "      <td>20.45</td>\n",
       "      <td>Male</td>\n",
       "      <td>0</td>\n",
       "      <td>No</td>\n",
       "      <td>No</td>\n",
       "      <td>No</td>\n",
       "      <td>No</td>\n",
       "      <td>No</td>\n",
       "      <td>No</td>\n",
       "      <td>No</td>\n",
       "      <td>No</td>\n",
       "      <td>No</td>\n",
       "      <td>No</td>\n",
       "    </tr>\n",
       "    <tr>\n",
       "      <th>2668-TZSPS</th>\n",
       "      <td>2020-01-01</td>\n",
       "      <td>No</td>\n",
       "      <td>Month-to-month</td>\n",
       "      <td>No</td>\n",
       "      <td>Mailed check</td>\n",
       "      <td>20.45</td>\n",
       "      <td>20.45</td>\n",
       "      <td>Male</td>\n",
       "      <td>0</td>\n",
       "      <td>No</td>\n",
       "      <td>No</td>\n",
       "      <td>No</td>\n",
       "      <td>No</td>\n",
       "      <td>No</td>\n",
       "      <td>No</td>\n",
       "      <td>No</td>\n",
       "      <td>No</td>\n",
       "      <td>No</td>\n",
       "      <td>No</td>\n",
       "    </tr>\n",
       "    <tr>\n",
       "      <th>3892-NXAZG</th>\n",
       "      <td>2014-02-01</td>\n",
       "      <td>No</td>\n",
       "      <td>Two year</td>\n",
       "      <td>Yes</td>\n",
       "      <td>Credit card (automatic)</td>\n",
       "      <td>114.05</td>\n",
       "      <td>8211.60</td>\n",
       "      <td>Male</td>\n",
       "      <td>0</td>\n",
       "      <td>Yes</td>\n",
       "      <td>Yes</td>\n",
       "      <td>Fiber optic</td>\n",
       "      <td>Yes</td>\n",
       "      <td>Yes</td>\n",
       "      <td>Yes</td>\n",
       "      <td>Yes</td>\n",
       "      <td>Yes</td>\n",
       "      <td>Yes</td>\n",
       "      <td>Yes</td>\n",
       "    </tr>\n",
       "    <tr>\n",
       "      <th>8774-GSBUN</th>\n",
       "      <td>2014-02-01</td>\n",
       "      <td>No</td>\n",
       "      <td>Two year</td>\n",
       "      <td>No</td>\n",
       "      <td>Mailed check</td>\n",
       "      <td>25.40</td>\n",
       "      <td>1828.80</td>\n",
       "      <td>Male</td>\n",
       "      <td>0</td>\n",
       "      <td>Yes</td>\n",
       "      <td>No</td>\n",
       "      <td>No</td>\n",
       "      <td>No</td>\n",
       "      <td>No</td>\n",
       "      <td>No</td>\n",
       "      <td>No</td>\n",
       "      <td>No</td>\n",
       "      <td>No</td>\n",
       "      <td>Yes</td>\n",
       "    </tr>\n",
       "  </tbody>\n",
       "</table>\n",
       "</div>"
      ],
      "text/plain": [
       "            begin_date end_date            type paperless_billing  \\\n",
       "customer_id                                                         \n",
       "4376-KFVRS  2014-02-01       No        Two year               Yes   \n",
       "2866-IKBTM  2020-01-01       No  Month-to-month                No   \n",
       "4312-KFRXN  2014-02-01       No        Two year                No   \n",
       "8605-ITULD  2020-01-01       No  Month-to-month                No   \n",
       "0673-IGUQO  2020-01-01       No  Month-to-month                No   \n",
       "2668-TZSPS  2020-01-01       No  Month-to-month                No   \n",
       "3892-NXAZG  2014-02-01       No        Two year               Yes   \n",
       "8774-GSBUN  2014-02-01       No        Two year                No   \n",
       "\n",
       "                      payment_method  monthly_charges  total_charges  gender  \\\n",
       "customer_id                                                                    \n",
       "4376-KFVRS   Credit card (automatic)           114.05        8211.60    Male   \n",
       "2866-IKBTM              Mailed check            19.55          19.55  Female   \n",
       "4312-KFRXN              Mailed check            25.40        1828.80    Male   \n",
       "8605-ITULD              Mailed check            19.55          19.55  Female   \n",
       "0673-IGUQO              Mailed check            20.45          20.45    Male   \n",
       "2668-TZSPS              Mailed check            20.45          20.45    Male   \n",
       "3892-NXAZG   Credit card (automatic)           114.05        8211.60    Male   \n",
       "8774-GSBUN              Mailed check            25.40        1828.80    Male   \n",
       "\n",
       "             senior_citizen partner dependents internet_service  \\\n",
       "customer_id                                                       \n",
       "4376-KFVRS                0     Yes        Yes      Fiber optic   \n",
       "2866-IKBTM                0      No         No               No   \n",
       "4312-KFRXN                0     Yes         No               No   \n",
       "8605-ITULD                0      No         No               No   \n",
       "0673-IGUQO                0      No         No               No   \n",
       "2668-TZSPS                0      No         No               No   \n",
       "3892-NXAZG                0     Yes        Yes      Fiber optic   \n",
       "8774-GSBUN                0     Yes         No               No   \n",
       "\n",
       "            online_security online_backup device_protection tech_support  \\\n",
       "customer_id                                                                \n",
       "4376-KFVRS              Yes           Yes               Yes          Yes   \n",
       "2866-IKBTM               No            No                No           No   \n",
       "4312-KFRXN               No            No                No           No   \n",
       "8605-ITULD               No            No                No           No   \n",
       "0673-IGUQO               No            No                No           No   \n",
       "2668-TZSPS               No            No                No           No   \n",
       "3892-NXAZG              Yes           Yes               Yes          Yes   \n",
       "8774-GSBUN               No            No                No           No   \n",
       "\n",
       "            streaming_tv streaming_movies multiple_lines  \n",
       "customer_id                                               \n",
       "4376-KFVRS           Yes              Yes            Yes  \n",
       "2866-IKBTM            No               No             No  \n",
       "4312-KFRXN            No               No            Yes  \n",
       "8605-ITULD            No               No             No  \n",
       "0673-IGUQO            No               No             No  \n",
       "2668-TZSPS            No               No             No  \n",
       "3892-NXAZG           Yes              Yes            Yes  \n",
       "8774-GSBUN            No               No            Yes  "
      ]
     },
     "execution_count": 25,
     "metadata": {},
     "output_type": "execute_result"
    }
   ],
   "source": [
    "# просмотр полных дубликатов\n",
    "df[df.duplicated(keep=False)]"
   ]
  },
  {
   "cell_type": "markdown",
   "id": "c0680dd4",
   "metadata": {},
   "source": [
    "- Дубликаты строк имеют разные индексы с идентификатором клиента, не будем исключать эти данные"
   ]
  },
  {
   "cell_type": "markdown",
   "id": "696b94ec",
   "metadata": {},
   "source": [
    "<a id='section_id3'></a>\n",
    "## Шаг 3. Исследовательский анализ данных\n",
    "[к содержанию](#section_id)"
   ]
  },
  {
   "cell_type": "code",
   "execution_count": 26,
   "id": "b44977fc",
   "metadata": {},
   "outputs": [
    {
     "data": {
      "text/html": [
       "<div>\n",
       "<style scoped>\n",
       "    .dataframe tbody tr th:only-of-type {\n",
       "        vertical-align: middle;\n",
       "    }\n",
       "\n",
       "    .dataframe tbody tr th {\n",
       "        vertical-align: top;\n",
       "    }\n",
       "\n",
       "    .dataframe thead th {\n",
       "        text-align: right;\n",
       "    }\n",
       "</style>\n",
       "<table border=\"1\" class=\"dataframe\">\n",
       "  <thead>\n",
       "    <tr style=\"text-align: right;\">\n",
       "      <th></th>\n",
       "      <th>count</th>\n",
       "      <th>unique</th>\n",
       "      <th>top</th>\n",
       "      <th>freq</th>\n",
       "      <th>mean</th>\n",
       "      <th>min</th>\n",
       "      <th>25%</th>\n",
       "      <th>50%</th>\n",
       "      <th>75%</th>\n",
       "      <th>max</th>\n",
       "      <th>std</th>\n",
       "    </tr>\n",
       "  </thead>\n",
       "  <tbody>\n",
       "    <tr>\n",
       "      <th>begin_date</th>\n",
       "      <td>7043</td>\n",
       "      <td>NaN</td>\n",
       "      <td>NaN</td>\n",
       "      <td>NaN</td>\n",
       "      <td>2017-04-30 13:01:50.918642688</td>\n",
       "      <td>2013-10-01 00:00:00</td>\n",
       "      <td>2015-06-01 00:00:00</td>\n",
       "      <td>2017-09-01 00:00:00</td>\n",
       "      <td>2019-04-01 00:00:00</td>\n",
       "      <td>2020-02-01 00:00:00</td>\n",
       "      <td>NaN</td>\n",
       "    </tr>\n",
       "    <tr>\n",
       "      <th>end_date</th>\n",
       "      <td>7043</td>\n",
       "      <td>67</td>\n",
       "      <td>No</td>\n",
       "      <td>5942</td>\n",
       "      <td>NaN</td>\n",
       "      <td>NaN</td>\n",
       "      <td>NaN</td>\n",
       "      <td>NaN</td>\n",
       "      <td>NaN</td>\n",
       "      <td>NaN</td>\n",
       "      <td>NaN</td>\n",
       "    </tr>\n",
       "    <tr>\n",
       "      <th>type</th>\n",
       "      <td>7043</td>\n",
       "      <td>3</td>\n",
       "      <td>Month-to-month</td>\n",
       "      <td>3875</td>\n",
       "      <td>NaN</td>\n",
       "      <td>NaN</td>\n",
       "      <td>NaN</td>\n",
       "      <td>NaN</td>\n",
       "      <td>NaN</td>\n",
       "      <td>NaN</td>\n",
       "      <td>NaN</td>\n",
       "    </tr>\n",
       "    <tr>\n",
       "      <th>paperless_billing</th>\n",
       "      <td>7043</td>\n",
       "      <td>2</td>\n",
       "      <td>Yes</td>\n",
       "      <td>4171</td>\n",
       "      <td>NaN</td>\n",
       "      <td>NaN</td>\n",
       "      <td>NaN</td>\n",
       "      <td>NaN</td>\n",
       "      <td>NaN</td>\n",
       "      <td>NaN</td>\n",
       "      <td>NaN</td>\n",
       "    </tr>\n",
       "    <tr>\n",
       "      <th>payment_method</th>\n",
       "      <td>7043</td>\n",
       "      <td>4</td>\n",
       "      <td>Electronic check</td>\n",
       "      <td>2365</td>\n",
       "      <td>NaN</td>\n",
       "      <td>NaN</td>\n",
       "      <td>NaN</td>\n",
       "      <td>NaN</td>\n",
       "      <td>NaN</td>\n",
       "      <td>NaN</td>\n",
       "      <td>NaN</td>\n",
       "    </tr>\n",
       "    <tr>\n",
       "      <th>monthly_charges</th>\n",
       "      <td>7043.0</td>\n",
       "      <td>NaN</td>\n",
       "      <td>NaN</td>\n",
       "      <td>NaN</td>\n",
       "      <td>64.761692</td>\n",
       "      <td>18.25</td>\n",
       "      <td>35.5</td>\n",
       "      <td>70.35</td>\n",
       "      <td>89.85</td>\n",
       "      <td>118.75</td>\n",
       "      <td>30.090047</td>\n",
       "    </tr>\n",
       "    <tr>\n",
       "      <th>total_charges</th>\n",
       "      <td>7043.0</td>\n",
       "      <td>NaN</td>\n",
       "      <td>NaN</td>\n",
       "      <td>NaN</td>\n",
       "      <td>2115.377573</td>\n",
       "      <td>19.05</td>\n",
       "      <td>436.75</td>\n",
       "      <td>1343.35</td>\n",
       "      <td>3236.69</td>\n",
       "      <td>9221.38</td>\n",
       "      <td>2112.678861</td>\n",
       "    </tr>\n",
       "    <tr>\n",
       "      <th>gender</th>\n",
       "      <td>7043</td>\n",
       "      <td>2</td>\n",
       "      <td>Male</td>\n",
       "      <td>3555</td>\n",
       "      <td>NaN</td>\n",
       "      <td>NaN</td>\n",
       "      <td>NaN</td>\n",
       "      <td>NaN</td>\n",
       "      <td>NaN</td>\n",
       "      <td>NaN</td>\n",
       "      <td>NaN</td>\n",
       "    </tr>\n",
       "    <tr>\n",
       "      <th>senior_citizen</th>\n",
       "      <td>7043.0</td>\n",
       "      <td>NaN</td>\n",
       "      <td>NaN</td>\n",
       "      <td>NaN</td>\n",
       "      <td>0.162147</td>\n",
       "      <td>0.0</td>\n",
       "      <td>0.0</td>\n",
       "      <td>0.0</td>\n",
       "      <td>0.0</td>\n",
       "      <td>1.0</td>\n",
       "      <td>0.368612</td>\n",
       "    </tr>\n",
       "    <tr>\n",
       "      <th>partner</th>\n",
       "      <td>7043</td>\n",
       "      <td>2</td>\n",
       "      <td>No</td>\n",
       "      <td>3641</td>\n",
       "      <td>NaN</td>\n",
       "      <td>NaN</td>\n",
       "      <td>NaN</td>\n",
       "      <td>NaN</td>\n",
       "      <td>NaN</td>\n",
       "      <td>NaN</td>\n",
       "      <td>NaN</td>\n",
       "    </tr>\n",
       "    <tr>\n",
       "      <th>dependents</th>\n",
       "      <td>7043</td>\n",
       "      <td>2</td>\n",
       "      <td>No</td>\n",
       "      <td>4933</td>\n",
       "      <td>NaN</td>\n",
       "      <td>NaN</td>\n",
       "      <td>NaN</td>\n",
       "      <td>NaN</td>\n",
       "      <td>NaN</td>\n",
       "      <td>NaN</td>\n",
       "      <td>NaN</td>\n",
       "    </tr>\n",
       "    <tr>\n",
       "      <th>internet_service</th>\n",
       "      <td>7043</td>\n",
       "      <td>3</td>\n",
       "      <td>Fiber optic</td>\n",
       "      <td>3096</td>\n",
       "      <td>NaN</td>\n",
       "      <td>NaN</td>\n",
       "      <td>NaN</td>\n",
       "      <td>NaN</td>\n",
       "      <td>NaN</td>\n",
       "      <td>NaN</td>\n",
       "      <td>NaN</td>\n",
       "    </tr>\n",
       "    <tr>\n",
       "      <th>online_security</th>\n",
       "      <td>7043</td>\n",
       "      <td>2</td>\n",
       "      <td>No</td>\n",
       "      <td>5024</td>\n",
       "      <td>NaN</td>\n",
       "      <td>NaN</td>\n",
       "      <td>NaN</td>\n",
       "      <td>NaN</td>\n",
       "      <td>NaN</td>\n",
       "      <td>NaN</td>\n",
       "      <td>NaN</td>\n",
       "    </tr>\n",
       "    <tr>\n",
       "      <th>online_backup</th>\n",
       "      <td>7043</td>\n",
       "      <td>2</td>\n",
       "      <td>No</td>\n",
       "      <td>4614</td>\n",
       "      <td>NaN</td>\n",
       "      <td>NaN</td>\n",
       "      <td>NaN</td>\n",
       "      <td>NaN</td>\n",
       "      <td>NaN</td>\n",
       "      <td>NaN</td>\n",
       "      <td>NaN</td>\n",
       "    </tr>\n",
       "    <tr>\n",
       "      <th>device_protection</th>\n",
       "      <td>7043</td>\n",
       "      <td>2</td>\n",
       "      <td>No</td>\n",
       "      <td>4621</td>\n",
       "      <td>NaN</td>\n",
       "      <td>NaN</td>\n",
       "      <td>NaN</td>\n",
       "      <td>NaN</td>\n",
       "      <td>NaN</td>\n",
       "      <td>NaN</td>\n",
       "      <td>NaN</td>\n",
       "    </tr>\n",
       "    <tr>\n",
       "      <th>tech_support</th>\n",
       "      <td>7043</td>\n",
       "      <td>2</td>\n",
       "      <td>No</td>\n",
       "      <td>4999</td>\n",
       "      <td>NaN</td>\n",
       "      <td>NaN</td>\n",
       "      <td>NaN</td>\n",
       "      <td>NaN</td>\n",
       "      <td>NaN</td>\n",
       "      <td>NaN</td>\n",
       "      <td>NaN</td>\n",
       "    </tr>\n",
       "    <tr>\n",
       "      <th>streaming_tv</th>\n",
       "      <td>7043</td>\n",
       "      <td>2</td>\n",
       "      <td>No</td>\n",
       "      <td>4336</td>\n",
       "      <td>NaN</td>\n",
       "      <td>NaN</td>\n",
       "      <td>NaN</td>\n",
       "      <td>NaN</td>\n",
       "      <td>NaN</td>\n",
       "      <td>NaN</td>\n",
       "      <td>NaN</td>\n",
       "    </tr>\n",
       "    <tr>\n",
       "      <th>streaming_movies</th>\n",
       "      <td>7043</td>\n",
       "      <td>2</td>\n",
       "      <td>No</td>\n",
       "      <td>4311</td>\n",
       "      <td>NaN</td>\n",
       "      <td>NaN</td>\n",
       "      <td>NaN</td>\n",
       "      <td>NaN</td>\n",
       "      <td>NaN</td>\n",
       "      <td>NaN</td>\n",
       "      <td>NaN</td>\n",
       "    </tr>\n",
       "    <tr>\n",
       "      <th>multiple_lines</th>\n",
       "      <td>7043</td>\n",
       "      <td>2</td>\n",
       "      <td>No</td>\n",
       "      <td>4072</td>\n",
       "      <td>NaN</td>\n",
       "      <td>NaN</td>\n",
       "      <td>NaN</td>\n",
       "      <td>NaN</td>\n",
       "      <td>NaN</td>\n",
       "      <td>NaN</td>\n",
       "      <td>NaN</td>\n",
       "    </tr>\n",
       "  </tbody>\n",
       "</table>\n",
       "</div>"
      ],
      "text/plain": [
       "                    count unique               top  freq  \\\n",
       "begin_date           7043    NaN               NaN   NaN   \n",
       "end_date             7043     67                No  5942   \n",
       "type                 7043      3    Month-to-month  3875   \n",
       "paperless_billing    7043      2               Yes  4171   \n",
       "payment_method       7043      4  Electronic check  2365   \n",
       "monthly_charges    7043.0    NaN               NaN   NaN   \n",
       "total_charges      7043.0    NaN               NaN   NaN   \n",
       "gender               7043      2              Male  3555   \n",
       "senior_citizen     7043.0    NaN               NaN   NaN   \n",
       "partner              7043      2                No  3641   \n",
       "dependents           7043      2                No  4933   \n",
       "internet_service     7043      3       Fiber optic  3096   \n",
       "online_security      7043      2                No  5024   \n",
       "online_backup        7043      2                No  4614   \n",
       "device_protection    7043      2                No  4621   \n",
       "tech_support         7043      2                No  4999   \n",
       "streaming_tv         7043      2                No  4336   \n",
       "streaming_movies     7043      2                No  4311   \n",
       "multiple_lines       7043      2                No  4072   \n",
       "\n",
       "                                            mean                  min  \\\n",
       "begin_date         2017-04-30 13:01:50.918642688  2013-10-01 00:00:00   \n",
       "end_date                                     NaN                  NaN   \n",
       "type                                         NaN                  NaN   \n",
       "paperless_billing                            NaN                  NaN   \n",
       "payment_method                               NaN                  NaN   \n",
       "monthly_charges                        64.761692                18.25   \n",
       "total_charges                        2115.377573                19.05   \n",
       "gender                                       NaN                  NaN   \n",
       "senior_citizen                          0.162147                  0.0   \n",
       "partner                                      NaN                  NaN   \n",
       "dependents                                   NaN                  NaN   \n",
       "internet_service                             NaN                  NaN   \n",
       "online_security                              NaN                  NaN   \n",
       "online_backup                                NaN                  NaN   \n",
       "device_protection                            NaN                  NaN   \n",
       "tech_support                                 NaN                  NaN   \n",
       "streaming_tv                                 NaN                  NaN   \n",
       "streaming_movies                             NaN                  NaN   \n",
       "multiple_lines                               NaN                  NaN   \n",
       "\n",
       "                                   25%                  50%  \\\n",
       "begin_date         2015-06-01 00:00:00  2017-09-01 00:00:00   \n",
       "end_date                           NaN                  NaN   \n",
       "type                               NaN                  NaN   \n",
       "paperless_billing                  NaN                  NaN   \n",
       "payment_method                     NaN                  NaN   \n",
       "monthly_charges                   35.5                70.35   \n",
       "total_charges                   436.75              1343.35   \n",
       "gender                             NaN                  NaN   \n",
       "senior_citizen                     0.0                  0.0   \n",
       "partner                            NaN                  NaN   \n",
       "dependents                         NaN                  NaN   \n",
       "internet_service                   NaN                  NaN   \n",
       "online_security                    NaN                  NaN   \n",
       "online_backup                      NaN                  NaN   \n",
       "device_protection                  NaN                  NaN   \n",
       "tech_support                       NaN                  NaN   \n",
       "streaming_tv                       NaN                  NaN   \n",
       "streaming_movies                   NaN                  NaN   \n",
       "multiple_lines                     NaN                  NaN   \n",
       "\n",
       "                                   75%                  max          std  \n",
       "begin_date         2019-04-01 00:00:00  2020-02-01 00:00:00          NaN  \n",
       "end_date                           NaN                  NaN          NaN  \n",
       "type                               NaN                  NaN          NaN  \n",
       "paperless_billing                  NaN                  NaN          NaN  \n",
       "payment_method                     NaN                  NaN          NaN  \n",
       "monthly_charges                  89.85               118.75    30.090047  \n",
       "total_charges                  3236.69              9221.38  2112.678861  \n",
       "gender                             NaN                  NaN          NaN  \n",
       "senior_citizen                     0.0                  1.0     0.368612  \n",
       "partner                            NaN                  NaN          NaN  \n",
       "dependents                         NaN                  NaN          NaN  \n",
       "internet_service                   NaN                  NaN          NaN  \n",
       "online_security                    NaN                  NaN          NaN  \n",
       "online_backup                      NaN                  NaN          NaN  \n",
       "device_protection                  NaN                  NaN          NaN  \n",
       "tech_support                       NaN                  NaN          NaN  \n",
       "streaming_tv                       NaN                  NaN          NaN  \n",
       "streaming_movies                   NaN                  NaN          NaN  \n",
       "multiple_lines                     NaN                  NaN          NaN  "
      ]
     },
     "metadata": {},
     "output_type": "display_data"
    }
   ],
   "source": [
    "# исследование признаков\n",
    "display(df.describe(include='all', datetime_is_numeric=True).T)"
   ]
  },
  {
   "cell_type": "markdown",
   "id": "eae53edf",
   "metadata": {},
   "source": [
    "Не рассматриваемые признаки:\n",
    "- **begin_date** - не рассматриваем данный признак\n",
    "- **end_date** - не рассматриваем данный признак, признак будет использован для создания целевого\n",
    "\n",
    "Количественные признаки, используем масштабирование:\n",
    "- **monthly_charges** \n",
    "- **total_charges**\n",
    "\n",
    "Категориальные признаки, используем кодирование:\n",
    "- **type**\n",
    "- **paperless_billing**\n",
    "- **payment_method**\n",
    "- **gender**\n",
    "- **senior_citizen**\n",
    "- **partner**\n",
    "- **dependents**\n",
    "- **internet_service**\n",
    "- **online_security**\n",
    "- **online_backup**\n",
    "- **device_protection**\n",
    "- **tech_support**\n",
    "- **streaming_tv**\n",
    "- **streaming_movies**\n",
    "- **multiple_lines**"
   ]
  },
  {
   "cell_type": "code",
   "execution_count": 27,
   "id": "bd223064",
   "metadata": {},
   "outputs": [
    {
     "data": {
      "image/png": "[encoded data removed]",
      "text/plain": [
       "<Figure size 1152x432 with 2 Axes>"
      ]
     },
     "metadata": {
      "needs_background": "light"
     },
     "output_type": "display_data"
    }
   ],
   "source": [
    "# графики месячных расходов\n",
    "fig, ax = plt.subplots(ncols=2, figsize=(16, 6))\n",
    "fig.suptitle('Графики месячных расходов')\n",
    "sns.histplot(x=df['monthly_charges'], bins=30, ax=ax[0])\n",
    "sns.boxplot(y=df['monthly_charges'], ax=ax[1])\n",
    "ax[0].set_title('Гистограмма месячных расходов')\n",
    "ax[0].set_xlabel('Месячные расходы')\n",
    "ax[0].set_ylabel('Количество пользователей')\n",
    "ax[1].set_title('Диаграмма размаха месячных расходов')\n",
    "ax[1].set_ylabel('Месячные расходы')\n",
    "ax[1].set_xlabel('Месячные расходы')\n",
    "plt.show()"
   ]
  },
  {
   "cell_type": "markdown",
   "id": "be0ffc29",
   "metadata": {},
   "source": [
    "- Более 1000 пользователей имеют минимальные месячные расходы от 20 до 30 ед. стоимости. Распределение остальной выборки напоминает нормальное. Возможно, достаточно большую часть пользователей устраивают услуги за эту стоимость, или в какой-то период времени проводилась промо акция."
   ]
  },
  {
   "cell_type": "code",
   "execution_count": 28,
   "id": "e335fc6a",
   "metadata": {},
   "outputs": [
    {
     "data": {
      "image/png": "[encoded data removed]",
      "text/plain": [
       "<Figure size 1152x432 with 2 Axes>"
      ]
     },
     "metadata": {
      "needs_background": "light"
     },
     "output_type": "display_data"
    }
   ],
   "source": [
    "# гистограмма суммарных расходов\n",
    "fig, ax = plt.subplots(ncols=2, figsize=(16, 6))\n",
    "fig.suptitle('Графики суммарных расходов')\n",
    "sns.histplot(x=df['total_charges'], bins=50, ax=ax[0])\n",
    "sns.boxplot(y=df['total_charges'], ax=ax[1])\n",
    "ax[0].set_title('Гистограмма суммарных расходов')\n",
    "ax[0].set_xlabel('Суммарные расходы')\n",
    "ax[0].set_ylabel('Количество пользователей')\n",
    "ax[1].set_title('Диаграмма размаха суммарных расходов')\n",
    "ax[1].set_ylabel('Суммарные расходы')\n",
    "ax[1].set_xlabel('Суммарные расходы')\n",
    "plt.show()"
   ]
  },
  {
   "cell_type": "code",
   "execution_count": 29,
   "id": "49a5fd75",
   "metadata": {},
   "outputs": [
    {
     "data": {
      "text/plain": [
       "customer_id\n",
       "8091-TTVAX   2015-04-01\n",
       "9959-WOFKT   2014-03-01\n",
       "5248-YGIJN   2014-02-01\n",
       "8769-KKTPH   2014-11-01\n",
       "5067-XJQFU   2014-08-01\n",
       "                ...    \n",
       "0218-QNVAS   2014-03-01\n",
       "7203-OYKCT   2014-02-01\n",
       "1035-IPQPU   2014-11-01\n",
       "2234-XADUH   2014-02-01\n",
       "3186-AJIEK   2014-08-01\n",
       "Name: begin_date, Length: 544, dtype: datetime64[ns]"
      ]
     },
     "execution_count": 29,
     "metadata": {},
     "output_type": "execute_result"
    }
   ],
   "source": [
    "# проверка длительности контрактов клиентов\n",
    "df[df['total_charges'] >= 6000]['begin_date']"
   ]
  },
  {
   "cell_type": "markdown",
   "id": "3b0f8a64",
   "metadata": {},
   "source": [
    "- Распределение суммарных расходов напоминает экспоненциальное. Существуют пользователи, расходы которых очень высоки, превышают 6000 ед. стоимости. Это старые клиенты, контракты которых заключены более 5 лет назад\n",
    "- Определим, каких клиентов больше среди расторгнувших контракт: с высокими или низкими месячными и суммарными расходами"
   ]
  },
  {
   "cell_type": "code",
   "execution_count": 30,
   "id": "164d31de",
   "metadata": {},
   "outputs": [
    {
     "data": {
      "image/png": "[encoded data removed]",
      "text/plain": [
       "<Figure size 1152x432 with 2 Axes>"
      ]
     },
     "metadata": {
      "needs_background": "light"
     },
     "output_type": "display_data"
    }
   ],
   "source": [
    "# построим гистограмму месячных расходов, с разделением расторжению договора\n",
    "still = df[df['end_date'] == 'No']\n",
    "gone = df[df['end_date'] != 'No']\n",
    "\n",
    "fig, ax = plt.subplots(ncols=2, figsize=(16, 6))\n",
    "fig.suptitle('Анализ расторжения договоров по стоимости')\n",
    "# месячные расходы\n",
    "sns.histplot(x=still['monthly_charges'], hue=0, ax=ax[0])\n",
    "sns.histplot(x=gone['monthly_charges'], hue=2, ax=ax[0])\n",
    "ax[0].set_xlabel('Месячные расходы')\n",
    "ax[0].set_ylabel('Количество пользователей')\n",
    "# суммарные расходы\n",
    "sns.histplot(x=still['total_charges'], hue=0, ax=ax[1])\n",
    "sns.histplot(x=gone['total_charges'], hue=2, ax=ax[1])\n",
    "ax[1].set_xlabel('Суммарные расходы')\n",
    "ax[1].set_ylabel('Количество пользователей')\n",
    "plt.show()"
   ]
  },
  {
   "cell_type": "markdown",
   "id": "e2d04c0e",
   "metadata": {},
   "source": [
    "- Среди ушедших клиентов выделяется сдвинутый вправо пик, т.е. большее значение суммарных расходов\n",
    "- Среди ушедших также сдвинуто вправо среднее значение месячных расходов\n",
    "- Получается компания теряет клиентов, которые приносили большие суммарные доходы (старые клиенты) и клиентов, которые приносили сравнительно больший доход каждый месяц"
   ]
  },
  {
   "cell_type": "code",
   "execution_count": 31,
   "id": "09da24fb",
   "metadata": {
    "scrolled": false
   },
   "outputs": [
    {
     "data": {
      "image/png": "[encoded data removed]",
      "text/plain": [
       "<Figure size 1152x1728 with 15 Axes>"
      ]
     },
     "metadata": {
      "needs_background": "light"
     },
     "output_type": "display_data"
    }
   ],
   "source": [
    "# диаграммы категориальных признаков\n",
    "cat_cols = ['type',\n",
    "    'paperless_billing',\n",
    "    'payment_method',\n",
    "    'gender',\n",
    "    'senior_citizen',\n",
    "    'partner',\n",
    "    'dependents',\n",
    "    'internet_service',\n",
    "    'online_security',\n",
    "    'online_backup',\n",
    "    'device_protection',\n",
    "    'tech_support',\n",
    "    'streaming_tv',\n",
    "    'streaming_movies',\n",
    "    'multiple_lines']\n",
    "\n",
    "fig, ax = plt.subplots(ncols=3, nrows=5, figsize=(16, 24))\n",
    "fig.subplots_adjust(wspace=0.2, hspace=1.0)\n",
    "fig.suptitle('Диаграммы категориальных признаков')\n",
    "for i, col in enumerate(cat_cols):\n",
    "    ax[i//3, i%3].tick_params(axis='x', rotation=45)\n",
    "    sns.histplot(x=still[col], hue=0, ax=ax[i//3, i%3])\n",
    "    sns.histplot(x=gone[col], hue=2, ax=ax[i//3, i%3])\n",
    "plt.show()"
   ]
  },
  {
   "cell_type": "markdown",
   "id": "0bbf3f18",
   "metadata": {},
   "source": [
    "- Большая часть клиентов не является пенсионерами, использует месячную подписку, не пользуется дополнительными интернет услугами и предпочитает вариант оплаты онлайн\n",
    "- Среди ушедших клиентов больше пенсионеров, тех, кто пользовался streaming_tv, streaming_movies и multiple_lines\n",
    "- Создадим целевой признак на основе столбцов begin_date и end_date для оценки влияния признаков на отток клиентов.\n",
    "- Будем обозначать отток 1, сохранение договора 0"
   ]
  },
  {
   "cell_type": "markdown",
   "id": "8de38924",
   "metadata": {},
   "source": [
    "### Создание признаков"
   ]
  },
  {
   "cell_type": "code",
   "execution_count": 32,
   "id": "db6c8de3",
   "metadata": {},
   "outputs": [],
   "source": [
    "# создание целевого признака\n",
    "df['gone'] = np.where(df['end_date'] == 'No', 1, 0)"
   ]
  },
  {
   "cell_type": "code",
   "execution_count": 33,
   "id": "7bc8fda2",
   "metadata": {},
   "outputs": [],
   "source": [
    "# создание дополнительного признака длителности заключенного договора\n",
    "# добавление столбца\n",
    "df['end'] = np.where(df['end_date'] == 'No', '2020-01-01', df['end_date'])\n",
    "\n",
    "# приведение типа\n",
    "try:\n",
    "    df['end'] = pd.to_datetime(df['end'])\n",
    "except:\n",
    "    print('Ошибка приведения типа даты')\n",
    "\n",
    "# вычисление длительности контракта\n",
    "try:\n",
    "    df['duration'] = (df['end'] - df['begin_date']).dt.days\n",
    "except:\n",
    "    print('Ошибка приведения типа числа')\n",
    "    \n",
    "# удаление лишних признаков из датафрейма\n",
    "df = df.drop(['end', 'begin_date', 'end_date'], axis=1)"
   ]
  },
  {
   "cell_type": "markdown",
   "id": "48298188",
   "metadata": {},
   "source": [
    "### Корреляционный анализ"
   ]
  },
  {
   "cell_type": "code",
   "execution_count": 34,
   "id": "bd4c5cd4",
   "metadata": {},
   "outputs": [
    {
     "name": "stdout",
     "output_type": "stream",
     "text": [
      "interval columns not set, guessing: ['monthly_charges', 'total_charges', 'senior_citizen', 'gone', 'duration']\n"
     ]
    },
    {
     "data": {
      "image/png": "[encoded data removed]",
      "text/plain": [
       "<Figure size 1152x1152 with 2 Axes>"
      ]
     },
     "metadata": {
      "needs_background": "light"
     },
     "output_type": "display_data"
    }
   ],
   "source": [
    "# анализ корреляционных зависимостей между признаками\n",
    "phik_overview = df.phik_matrix()\n",
    "\n",
    "plot_correlation_matrix(\n",
    "    phik_overview.values,\n",
    "    x_labels=phik_overview.columns,\n",
    "    y_labels=phik_overview.index,\n",
    "    figsize=(16, 16)\n",
    ")"
   ]
  },
  {
   "cell_type": "markdown",
   "id": "17a0e21a",
   "metadata": {},
   "source": [
    "- Сильнее всего коррелируют с целевым признаком gone признаки: duration, total_charges, multiple_lines\n",
    "- Слабее всего с целевым коррелируют признаки: gender, dependents, internet_service. Отбросим данные признаки для уменьшения размерности\n",
    "- Признак internet_service сильно коррелирует с monthly_charges, коэффициент корреляции 0.92. Отбросим этот признак из рассмотрения"
   ]
  },
  {
   "cell_type": "code",
   "execution_count": 35,
   "id": "df665968",
   "metadata": {},
   "outputs": [],
   "source": [
    "# удаление лишних признаков\n",
    "df = df.drop(['internet_service', 'gender', 'dependents'], axis=1)"
   ]
  },
  {
   "cell_type": "markdown",
   "id": "992c9a29",
   "metadata": {},
   "source": [
    "<a id='section_id4'></a>\n",
    "## Шаг 4. Подготовка данных\n",
    "[к содержанию](#section_id)"
   ]
  },
  {
   "cell_type": "code",
   "execution_count": 36,
   "id": "8b7c77af",
   "metadata": {},
   "outputs": [
    {
     "data": {
      "text/plain": [
       "((5282, 15), (1761, 15))"
      ]
     },
     "execution_count": 36,
     "metadata": {},
     "output_type": "execute_result"
    }
   ],
   "source": [
    "# разделение данных на тренировочную и тестовую выборку\n",
    "X_train, X_test, y_train, y_test = train_test_split(\n",
    "    df.drop(['gone'], axis=1),\n",
    "    df['gone'],\n",
    "    test_size=TEST_SIZE,\n",
    "    random_state=RANDOM_STATE)\n",
    "\n",
    "X_train.shape, X_test.shape"
   ]
  },
  {
   "cell_type": "code",
   "execution_count": 37,
   "id": "83f2aa71",
   "metadata": {},
   "outputs": [],
   "source": [
    "# списки столбцов для обработки\n",
    "num_columns = ['monthly_charges',\n",
    "               'total_charges',\n",
    "               'duration']\n",
    "cat_columns = ['type',\n",
    "               'paperless_billing',\n",
    "               'payment_method',\n",
    "               'partner', \n",
    "               'online_security',\n",
    "               'online_backup', \n",
    "               'device_protection',\n",
    "               'tech_support',\n",
    "               'streaming_tv',\n",
    "               'streaming_movies',\n",
    "               'multiple_lines']\n",
    "no_change = ['senior_citizen']"
   ]
  },
  {
   "cell_type": "code",
   "execution_count": 38,
   "id": "973e8553",
   "metadata": {},
   "outputs": [],
   "source": [
    "# пайплайн для кодирования категориальных признаков\n",
    "te_pipe = Pipeline(\n",
    "    [('te', TargetEncoder())]\n",
    "    )"
   ]
  },
  {
   "cell_type": "code",
   "execution_count": 39,
   "id": "b2dc5f13",
   "metadata": {},
   "outputs": [],
   "source": [
    "# общий пайплайн для подготовки данных\n",
    "data_preprocessor = ColumnTransformer(\n",
    "    [('te', te_pipe, cat_columns),\n",
    "     ('num', MinMaxScaler(), num_columns)\n",
    "    ], \n",
    "    remainder='passthrough'\n",
    ")"
   ]
  },
  {
   "cell_type": "code",
   "execution_count": 40,
   "id": "6dbf0c5c",
   "metadata": {},
   "outputs": [],
   "source": [
    "# итоговый пайплайн\n",
    "pipe_final = Pipeline([\n",
    "    ('preprocessor', data_preprocessor),\n",
    "    ('models', DecisionTreeClassifier())\n",
    "])"
   ]
  },
  {
   "cell_type": "code",
   "execution_count": 41,
   "id": "942cb9c4",
   "metadata": {},
   "outputs": [],
   "source": [
    "# задание параметров для пайплайна\n",
    "param_grid = [\n",
    "    # словарь для модели DecisionTreeClassifier()\n",
    "    {\n",
    "        'models': [DecisionTreeClassifier(random_state=RANDOM_STATE)],\n",
    "        'models__max_depth': range(5, 8),\n",
    "        'models__min_samples_split': range(2, 5),\n",
    "        'models__min_samples_leaf': range(1, 5),\n",
    "        'preprocessor__num': [StandardScaler(), MinMaxScaler(), 'passthrough']  \n",
    "    },\n",
    "    \n",
    "    # словарь для модели KNeighborsClassifier() \n",
    "    {\n",
    "        'models': [KNeighborsClassifier()],\n",
    "        'models__n_neighbors': range(4, 7),\n",
    "        'preprocessor__num': [StandardScaler(), MinMaxScaler(), 'passthrough']   \n",
    "    },\n",
    "\n",
    "    # словарь для модели LightGBM()\n",
    "    {\n",
    "        'models': [LGBMClassifier(random_state=RANDOM_STATE, n_jobs=-1)],\n",
    "        'models__max_depth': [2, 5],\n",
    "        'models__learning_rate': [1.0, 10.0],\n",
    "        'preprocessor__num': [StandardScaler(), MinMaxScaler(), 'passthrough']  \n",
    "    }\n",
    "]"
   ]
  },
  {
   "cell_type": "markdown",
   "id": "973ecda8",
   "metadata": {},
   "source": [
    "<a id='section_id5'></a>\n",
    "## Шаг 5. Обучение моделей\n",
    "[к содержанию](#section_id)"
   ]
  },
  {
   "cell_type": "code",
   "execution_count": 42,
   "id": "d35a6084",
   "metadata": {},
   "outputs": [],
   "source": [
    "# инициализация подбора параметров\n",
    "grid_search = GridSearchCV(\n",
    "    pipe_final, \n",
    "    param_grid, \n",
    "    cv=5,\n",
    "    scoring='roc_auc',\n",
    "    n_jobs=-1\n",
    ")"
   ]
  },
  {
   "cell_type": "code",
   "execution_count": 43,
   "id": "b934b609",
   "metadata": {},
   "outputs": [
    {
     "name": "stdout",
     "output_type": "stream",
     "text": [
      "Лучшая модель и её параметры:\n",
      "\n",
      " Pipeline(steps=[('preprocessor',\n",
      "                 ColumnTransformer(remainder='passthrough',\n",
      "                                   transformers=[('te',\n",
      "                                                  Pipeline(steps=[('te',\n",
      "                                                                   TargetEncoder())]),\n",
      "                                                  ['type', 'paperless_billing',\n",
      "                                                   'payment_method', 'partner',\n",
      "                                                   'online_security',\n",
      "                                                   'online_backup',\n",
      "                                                   'device_protection',\n",
      "                                                   'tech_support',\n",
      "                                                   'streaming_tv',\n",
      "                                                   'streaming_movies',\n",
      "                                                   'multiple_lines']),\n",
      "                                                 ('num', MinMaxScaler(),\n",
      "                                                  ['monthly_charges',\n",
      "                                                   'total_charges',\n",
      "                                                   'duration'])])),\n",
      "                ('models',\n",
      "                 LGBMClassifier(learning_rate=1.0, max_depth=2,\n",
      "                                random_state=100225))])\n",
      "Метрика лучшей модели на тренировочной выборке: 0.865397405573199\n",
      "CPU times: user 2min 26s, sys: 458 ms, total: 2min 27s\n",
      "Wall time: 2min 27s\n"
     ]
    }
   ],
   "source": [
    "%%time\n",
    "# запуск подбора параметров\n",
    "grid_search.fit(X_train, y_train)\n",
    "\n",
    "print('Лучшая модель и её параметры:\\n\\n', grid_search.best_estimator_)\n",
    "print ('Метрика лучшей модели на тренировочной выборке:', grid_search.best_score_)"
   ]
  },
  {
   "cell_type": "markdown",
   "id": "19861f17",
   "metadata": {},
   "source": [
    "### Анализ результатов обучения"
   ]
  },
  {
   "cell_type": "code",
   "execution_count": 44,
   "id": "dceb6900",
   "metadata": {
    "scrolled": false
   },
   "outputs": [
    {
     "data": {
      "text/html": [
       "<div>\n",
       "<style scoped>\n",
       "    .dataframe tbody tr th:only-of-type {\n",
       "        vertical-align: middle;\n",
       "    }\n",
       "\n",
       "    .dataframe tbody tr th {\n",
       "        vertical-align: top;\n",
       "    }\n",
       "\n",
       "    .dataframe thead th {\n",
       "        text-align: right;\n",
       "    }\n",
       "</style>\n",
       "<table border=\"1\" class=\"dataframe\">\n",
       "  <thead>\n",
       "    <tr style=\"text-align: right;\">\n",
       "      <th></th>\n",
       "      <th>mean_fit_time</th>\n",
       "      <th>std_fit_time</th>\n",
       "      <th>mean_score_time</th>\n",
       "      <th>std_score_time</th>\n",
       "      <th>param_models</th>\n",
       "      <th>param_models__max_depth</th>\n",
       "      <th>param_models__min_samples_leaf</th>\n",
       "      <th>param_models__min_samples_split</th>\n",
       "      <th>param_preprocessor__num</th>\n",
       "      <th>param_models__n_neighbors</th>\n",
       "      <th>param_models__learning_rate</th>\n",
       "      <th>params</th>\n",
       "      <th>split0_test_score</th>\n",
       "      <th>split1_test_score</th>\n",
       "      <th>split2_test_score</th>\n",
       "      <th>split3_test_score</th>\n",
       "      <th>split4_test_score</th>\n",
       "      <th>mean_test_score</th>\n",
       "      <th>std_test_score</th>\n",
       "      <th>rank_test_score</th>\n",
       "    </tr>\n",
       "  </thead>\n",
       "  <tbody>\n",
       "    <tr>\n",
       "      <th>118</th>\n",
       "      <td>0.379800</td>\n",
       "      <td>0.061283</td>\n",
       "      <td>0.077818</td>\n",
       "      <td>0.041519</td>\n",
       "      <td>LGBMClassifier(learning_rate=1.0, max_depth=2,...</td>\n",
       "      <td>2</td>\n",
       "      <td>NaN</td>\n",
       "      <td>NaN</td>\n",
       "      <td>MinMaxScaler()</td>\n",
       "      <td>NaN</td>\n",
       "      <td>1.0</td>\n",
       "      <td>{'models': LGBMClassifier(learning_rate=1.0, m...</td>\n",
       "      <td>0.873393</td>\n",
       "      <td>0.871063</td>\n",
       "      <td>0.869163</td>\n",
       "      <td>0.876851</td>\n",
       "      <td>0.836517</td>\n",
       "      <td>0.865397</td>\n",
       "      <td>0.014666</td>\n",
       "      <td>1</td>\n",
       "    </tr>\n",
       "    <tr>\n",
       "      <th>117</th>\n",
       "      <td>0.311428</td>\n",
       "      <td>0.037587</td>\n",
       "      <td>0.095189</td>\n",
       "      <td>0.034206</td>\n",
       "      <td>LGBMClassifier(learning_rate=1.0, max_depth=2,...</td>\n",
       "      <td>2</td>\n",
       "      <td>NaN</td>\n",
       "      <td>NaN</td>\n",
       "      <td>StandardScaler()</td>\n",
       "      <td>NaN</td>\n",
       "      <td>1.0</td>\n",
       "      <td>{'models': LGBMClassifier(learning_rate=1.0, m...</td>\n",
       "      <td>0.853880</td>\n",
       "      <td>0.861463</td>\n",
       "      <td>0.862123</td>\n",
       "      <td>0.871125</td>\n",
       "      <td>0.847323</td>\n",
       "      <td>0.859183</td>\n",
       "      <td>0.008065</td>\n",
       "      <td>2</td>\n",
       "    </tr>\n",
       "    <tr>\n",
       "      <th>119</th>\n",
       "      <td>0.363157</td>\n",
       "      <td>0.029678</td>\n",
       "      <td>0.075327</td>\n",
       "      <td>0.039655</td>\n",
       "      <td>LGBMClassifier(learning_rate=1.0, max_depth=2,...</td>\n",
       "      <td>2</td>\n",
       "      <td>NaN</td>\n",
       "      <td>NaN</td>\n",
       "      <td>passthrough</td>\n",
       "      <td>NaN</td>\n",
       "      <td>1.0</td>\n",
       "      <td>{'models': LGBMClassifier(learning_rate=1.0, m...</td>\n",
       "      <td>0.842173</td>\n",
       "      <td>0.863285</td>\n",
       "      <td>0.869163</td>\n",
       "      <td>0.869057</td>\n",
       "      <td>0.841732</td>\n",
       "      <td>0.857082</td>\n",
       "      <td>0.012536</td>\n",
       "      <td>3</td>\n",
       "    </tr>\n",
       "    <tr>\n",
       "      <th>120</th>\n",
       "      <td>0.843544</td>\n",
       "      <td>0.151246</td>\n",
       "      <td>0.109149</td>\n",
       "      <td>0.008574</td>\n",
       "      <td>LGBMClassifier(learning_rate=1.0, max_depth=2,...</td>\n",
       "      <td>5</td>\n",
       "      <td>NaN</td>\n",
       "      <td>NaN</td>\n",
       "      <td>StandardScaler()</td>\n",
       "      <td>NaN</td>\n",
       "      <td>1.0</td>\n",
       "      <td>{'models': LGBMClassifier(learning_rate=1.0, m...</td>\n",
       "      <td>0.855699</td>\n",
       "      <td>0.860607</td>\n",
       "      <td>0.852566</td>\n",
       "      <td>0.859672</td>\n",
       "      <td>0.841289</td>\n",
       "      <td>0.853967</td>\n",
       "      <td>0.006962</td>\n",
       "      <td>4</td>\n",
       "    </tr>\n",
       "    <tr>\n",
       "      <th>121</th>\n",
       "      <td>0.730436</td>\n",
       "      <td>0.074240</td>\n",
       "      <td>0.078693</td>\n",
       "      <td>0.042105</td>\n",
       "      <td>LGBMClassifier(learning_rate=1.0, max_depth=2,...</td>\n",
       "      <td>5</td>\n",
       "      <td>NaN</td>\n",
       "      <td>NaN</td>\n",
       "      <td>MinMaxScaler()</td>\n",
       "      <td>NaN</td>\n",
       "      <td>1.0</td>\n",
       "      <td>{'models': LGBMClassifier(learning_rate=1.0, m...</td>\n",
       "      <td>0.844895</td>\n",
       "      <td>0.850932</td>\n",
       "      <td>0.740625</td>\n",
       "      <td>0.848944</td>\n",
       "      <td>0.844193</td>\n",
       "      <td>0.825918</td>\n",
       "      <td>0.042720</td>\n",
       "      <td>5</td>\n",
       "    </tr>\n",
       "    <tr>\n",
       "      <th>122</th>\n",
       "      <td>0.746358</td>\n",
       "      <td>0.076940</td>\n",
       "      <td>0.106621</td>\n",
       "      <td>0.008349</td>\n",
       "      <td>LGBMClassifier(learning_rate=1.0, max_depth=2,...</td>\n",
       "      <td>5</td>\n",
       "      <td>NaN</td>\n",
       "      <td>NaN</td>\n",
       "      <td>passthrough</td>\n",
       "      <td>NaN</td>\n",
       "      <td>1.0</td>\n",
       "      <td>{'models': LGBMClassifier(learning_rate=1.0, m...</td>\n",
       "      <td>0.844922</td>\n",
       "      <td>0.840243</td>\n",
       "      <td>0.740625</td>\n",
       "      <td>0.836104</td>\n",
       "      <td>0.733958</td>\n",
       "      <td>0.799170</td>\n",
       "      <td>0.050645</td>\n",
       "      <td>6</td>\n",
       "    </tr>\n",
       "    <tr>\n",
       "      <th>16</th>\n",
       "      <td>0.165934</td>\n",
       "      <td>0.003836</td>\n",
       "      <td>0.023286</td>\n",
       "      <td>0.000200</td>\n",
       "      <td>DecisionTreeClassifier(random_state=100225)</td>\n",
       "      <td>5</td>\n",
       "      <td>2</td>\n",
       "      <td>4</td>\n",
       "      <td>MinMaxScaler()</td>\n",
       "      <td>NaN</td>\n",
       "      <td>NaN</td>\n",
       "      <td>{'models': DecisionTreeClassifier(random_state...</td>\n",
       "      <td>0.787990</td>\n",
       "      <td>0.805687</td>\n",
       "      <td>0.792378</td>\n",
       "      <td>0.784527</td>\n",
       "      <td>0.781589</td>\n",
       "      <td>0.790434</td>\n",
       "      <td>0.008433</td>\n",
       "      <td>7</td>\n",
       "    </tr>\n",
       "    <tr>\n",
       "      <th>15</th>\n",
       "      <td>0.167378</td>\n",
       "      <td>0.001132</td>\n",
       "      <td>0.023170</td>\n",
       "      <td>0.000585</td>\n",
       "      <td>DecisionTreeClassifier(random_state=100225)</td>\n",
       "      <td>5</td>\n",
       "      <td>2</td>\n",
       "      <td>4</td>\n",
       "      <td>StandardScaler()</td>\n",
       "      <td>NaN</td>\n",
       "      <td>NaN</td>\n",
       "      <td>{'models': DecisionTreeClassifier(random_state...</td>\n",
       "      <td>0.787990</td>\n",
       "      <td>0.805687</td>\n",
       "      <td>0.792378</td>\n",
       "      <td>0.784527</td>\n",
       "      <td>0.781589</td>\n",
       "      <td>0.790434</td>\n",
       "      <td>0.008433</td>\n",
       "      <td>7</td>\n",
       "    </tr>\n",
       "    <tr>\n",
       "      <th>14</th>\n",
       "      <td>0.169995</td>\n",
       "      <td>0.002494</td>\n",
       "      <td>0.022727</td>\n",
       "      <td>0.000211</td>\n",
       "      <td>DecisionTreeClassifier(random_state=100225)</td>\n",
       "      <td>5</td>\n",
       "      <td>2</td>\n",
       "      <td>3</td>\n",
       "      <td>passthrough</td>\n",
       "      <td>NaN</td>\n",
       "      <td>NaN</td>\n",
       "      <td>{'models': DecisionTreeClassifier(random_state...</td>\n",
       "      <td>0.787990</td>\n",
       "      <td>0.805687</td>\n",
       "      <td>0.792378</td>\n",
       "      <td>0.784527</td>\n",
       "      <td>0.781589</td>\n",
       "      <td>0.790434</td>\n",
       "      <td>0.008433</td>\n",
       "      <td>7</td>\n",
       "    </tr>\n",
       "    <tr>\n",
       "      <th>13</th>\n",
       "      <td>0.184610</td>\n",
       "      <td>0.011473</td>\n",
       "      <td>0.024867</td>\n",
       "      <td>0.000760</td>\n",
       "      <td>DecisionTreeClassifier(random_state=100225)</td>\n",
       "      <td>5</td>\n",
       "      <td>2</td>\n",
       "      <td>3</td>\n",
       "      <td>MinMaxScaler()</td>\n",
       "      <td>NaN</td>\n",
       "      <td>NaN</td>\n",
       "      <td>{'models': DecisionTreeClassifier(random_state...</td>\n",
       "      <td>0.787990</td>\n",
       "      <td>0.805687</td>\n",
       "      <td>0.792378</td>\n",
       "      <td>0.784527</td>\n",
       "      <td>0.781589</td>\n",
       "      <td>0.790434</td>\n",
       "      <td>0.008433</td>\n",
       "      <td>7</td>\n",
       "    </tr>\n",
       "  </tbody>\n",
       "</table>\n",
       "</div>"
      ],
      "text/plain": [
       "     mean_fit_time  std_fit_time  mean_score_time  std_score_time  \\\n",
       "118       0.379800      0.061283         0.077818        0.041519   \n",
       "117       0.311428      0.037587         0.095189        0.034206   \n",
       "119       0.363157      0.029678         0.075327        0.039655   \n",
       "120       0.843544      0.151246         0.109149        0.008574   \n",
       "121       0.730436      0.074240         0.078693        0.042105   \n",
       "122       0.746358      0.076940         0.106621        0.008349   \n",
       "16        0.165934      0.003836         0.023286        0.000200   \n",
       "15        0.167378      0.001132         0.023170        0.000585   \n",
       "14        0.169995      0.002494         0.022727        0.000211   \n",
       "13        0.184610      0.011473         0.024867        0.000760   \n",
       "\n",
       "                                          param_models  \\\n",
       "118  LGBMClassifier(learning_rate=1.0, max_depth=2,...   \n",
       "117  LGBMClassifier(learning_rate=1.0, max_depth=2,...   \n",
       "119  LGBMClassifier(learning_rate=1.0, max_depth=2,...   \n",
       "120  LGBMClassifier(learning_rate=1.0, max_depth=2,...   \n",
       "121  LGBMClassifier(learning_rate=1.0, max_depth=2,...   \n",
       "122  LGBMClassifier(learning_rate=1.0, max_depth=2,...   \n",
       "16         DecisionTreeClassifier(random_state=100225)   \n",
       "15         DecisionTreeClassifier(random_state=100225)   \n",
       "14         DecisionTreeClassifier(random_state=100225)   \n",
       "13         DecisionTreeClassifier(random_state=100225)   \n",
       "\n",
       "    param_models__max_depth param_models__min_samples_leaf  \\\n",
       "118                       2                            NaN   \n",
       "117                       2                            NaN   \n",
       "119                       2                            NaN   \n",
       "120                       5                            NaN   \n",
       "121                       5                            NaN   \n",
       "122                       5                            NaN   \n",
       "16                        5                              2   \n",
       "15                        5                              2   \n",
       "14                        5                              2   \n",
       "13                        5                              2   \n",
       "\n",
       "    param_models__min_samples_split param_preprocessor__num  \\\n",
       "118                             NaN          MinMaxScaler()   \n",
       "117                             NaN        StandardScaler()   \n",
       "119                             NaN             passthrough   \n",
       "120                             NaN        StandardScaler()   \n",
       "121                             NaN          MinMaxScaler()   \n",
       "122                             NaN             passthrough   \n",
       "16                                4          MinMaxScaler()   \n",
       "15                                4        StandardScaler()   \n",
       "14                                3             passthrough   \n",
       "13                                3          MinMaxScaler()   \n",
       "\n",
       "    param_models__n_neighbors param_models__learning_rate  \\\n",
       "118                       NaN                         1.0   \n",
       "117                       NaN                         1.0   \n",
       "119                       NaN                         1.0   \n",
       "120                       NaN                         1.0   \n",
       "121                       NaN                         1.0   \n",
       "122                       NaN                         1.0   \n",
       "16                        NaN                         NaN   \n",
       "15                        NaN                         NaN   \n",
       "14                        NaN                         NaN   \n",
       "13                        NaN                         NaN   \n",
       "\n",
       "                                                params  split0_test_score  \\\n",
       "118  {'models': LGBMClassifier(learning_rate=1.0, m...           0.873393   \n",
       "117  {'models': LGBMClassifier(learning_rate=1.0, m...           0.853880   \n",
       "119  {'models': LGBMClassifier(learning_rate=1.0, m...           0.842173   \n",
       "120  {'models': LGBMClassifier(learning_rate=1.0, m...           0.855699   \n",
       "121  {'models': LGBMClassifier(learning_rate=1.0, m...           0.844895   \n",
       "122  {'models': LGBMClassifier(learning_rate=1.0, m...           0.844922   \n",
       "16   {'models': DecisionTreeClassifier(random_state...           0.787990   \n",
       "15   {'models': DecisionTreeClassifier(random_state...           0.787990   \n",
       "14   {'models': DecisionTreeClassifier(random_state...           0.787990   \n",
       "13   {'models': DecisionTreeClassifier(random_state...           0.787990   \n",
       "\n",
       "     split1_test_score  split2_test_score  split3_test_score  \\\n",
       "118           0.871063           0.869163           0.876851   \n",
       "117           0.861463           0.862123           0.871125   \n",
       "119           0.863285           0.869163           0.869057   \n",
       "120           0.860607           0.852566           0.859672   \n",
       "121           0.850932           0.740625           0.848944   \n",
       "122           0.840243           0.740625           0.836104   \n",
       "16            0.805687           0.792378           0.784527   \n",
       "15            0.805687           0.792378           0.784527   \n",
       "14            0.805687           0.792378           0.784527   \n",
       "13            0.805687           0.792378           0.784527   \n",
       "\n",
       "     split4_test_score  mean_test_score  std_test_score  rank_test_score  \n",
       "118           0.836517         0.865397        0.014666                1  \n",
       "117           0.847323         0.859183        0.008065                2  \n",
       "119           0.841732         0.857082        0.012536                3  \n",
       "120           0.841289         0.853967        0.006962                4  \n",
       "121           0.844193         0.825918        0.042720                5  \n",
       "122           0.733958         0.799170        0.050645                6  \n",
       "16            0.781589         0.790434        0.008433                7  \n",
       "15            0.781589         0.790434        0.008433                7  \n",
       "14            0.781589         0.790434        0.008433                7  \n",
       "13            0.781589         0.790434        0.008433                7  "
      ]
     },
     "execution_count": 44,
     "metadata": {},
     "output_type": "execute_result"
    }
   ],
   "source": [
    "# получение результатов\n",
    "results = pd.DataFrame(grid_search.cv_results_)\n",
    "results.sort_values(by='rank_test_score', inplace=True)\n",
    "results.head(10)"
   ]
  },
  {
   "cell_type": "markdown",
   "id": "9aa393aa",
   "metadata": {},
   "source": [
    "- Лучше всего с задачей справилась модель LGBMClassifier(learning_rate=1.0, max_depth=2, random_state=100225) с использванием MinMaxScaler для количественных признаков и TargetEncoder для категориальных."
   ]
  },
  {
   "cell_type": "code",
   "execution_count": 45,
   "id": "6917a14d",
   "metadata": {},
   "outputs": [
    {
     "name": "stdout",
     "output_type": "stream",
     "text": [
      "Площадь ROC-кривой: 0.89659216608067\n"
     ]
    }
   ],
   "source": [
    "# расчет метрики на тестовой выборке\n",
    "probabilities = grid_search.best_estimator_.predict_proba(X_test)\n",
    "probabilities_one = probabilities[:, 1]\n",
    "print('Площадь ROC-кривой:', roc_auc_score(y_test, probabilities_one))"
   ]
  },
  {
   "cell_type": "markdown",
   "id": "5a8f29ab",
   "metadata": {},
   "source": [
    "- Метрика roc_auc на тестовой выборке удовлетворяет условию задачи"
   ]
  },
  {
   "cell_type": "code",
   "execution_count": 46,
   "id": "68d3cf15",
   "metadata": {},
   "outputs": [],
   "source": [
    "# создание списка названий столбцов после трансформации\n",
    "transformer_columns = list(grid_search.best_estimator_.named_steps['preprocessor']\n",
    "     .named_transformers_['te']\n",
    "     .named_steps['te']\n",
    "     .get_feature_names_out()) \\\n",
    "+ num_columns + no_change"
   ]
  },
  {
   "cell_type": "code",
   "execution_count": 47,
   "id": "0160b00d",
   "metadata": {},
   "outputs": [
    {
     "data": {
      "image/png": "[encoded data removed]",
      "text/plain": [
       "<Figure size 576x540 with 2 Axes>"
      ]
     },
     "metadata": {
      "needs_background": "light"
     },
     "output_type": "display_data"
    }
   ],
   "source": [
    "# построение графика важности признаков модели на основе shap\n",
    "X_train_2 = pipe_final.named_steps['preprocessor'].fit_transform(X_train, y_train)\n",
    "explainer = shap.Explainer(grid_search.best_estimator_.named_steps['models'], X_train_2)\n",
    "X_test_2 = pipe_final.named_steps['preprocessor'].transform(X_test)\n",
    "X_test_2 = pd.DataFrame(X_test_2, columns=transformer_columns)\n",
    "\n",
    "shap_values = explainer(X_test_2, check_additivity=False)\n",
    "\n",
    "shap.plots.beeswarm(shap_values[:,:], max_display=20) "
   ]
  },
  {
   "cell_type": "markdown",
   "id": "c7e1eb8d",
   "metadata": {},
   "source": [
    "- Модель определила значимость признаков таким образом, что подвердилось предположение с этапа корреляционного анализа. Признаки total_charges, duration сильнее всего коррелируют с целевым признаком оттока клиентов. Также в пятерку лидеров по влиянию на целевой признак попали признаки monthly_charges, type, payment_method.\n",
    "- Чем больше total_charges (суммарные расходы), тем больше вероятность оттока клиента\n",
    "- Чем меньше duration (длительность контракта) и monthly_charges (ежемесячные расходы), тем меньше вероятность оттока клиента"
   ]
  },
  {
   "cell_type": "code",
   "execution_count": 48,
   "id": "c3232657",
   "metadata": {},
   "outputs": [
    {
     "data": {
      "image/png": "[encoded data removed]",
      "text/plain": [
       "<Figure size 432x288 with 2 Axes>"
      ]
     },
     "metadata": {
      "needs_background": "light"
     },
     "output_type": "display_data"
    }
   ],
   "source": [
    "# получение предсказаний лучшей модели\n",
    "y_pred = grid_search.best_estimator_.predict(X_test)\n",
    "\n",
    "# построение матрицы ошибок\n",
    "cm = confusion_matrix(y_test, y_pred)\n",
    "ax = sns.heatmap(cm, annot=True, fmt='d', cmap='Blues_r')\n",
    "ax.set(xlabel=' Предсказанные значения', ylabel='Истинные значения')\n",
    "plt.show()"
   ]
  },
  {
   "cell_type": "markdown",
   "id": "03aec5f6",
   "metadata": {},
   "source": [
    "- Ошибок первого рода (FP значений) - 136 \n",
    "- Ошибок второго рода (FN значений) - 136\n",
    "- Корректных TP значений - 1447\n",
    "- Корректных TN значений - 42\n",
    "\n",
    "В случае если необходимо обеспечить минимальный отток, т.е. классифицировать как можно больше потенциальных клиентов, которые могут расторгнуть контракт, и к примеру провести промо-акцию, следует снизить порог классификации, тем самым уменьшив количество FN, увеличив метрику recall. В случае, если необходимо провести точечную работу с клиентами, которые точно уйдут, необходимо уменьшать FP, увеличивать метрику precision, увеличивая порог классификации."
   ]
  },
  {
   "cell_type": "markdown",
   "id": "064d6e62",
   "metadata": {},
   "source": [
    "<a id='section_id6'></a>\n",
    "## Шаг 6. Общий вывод\n",
    "[к содержанию](#section_id)"
   ]
  },
  {
   "cell_type": "markdown",
   "id": "2a9686e4",
   "metadata": {},
   "source": [
    "В результате работы была построена модель машинного обучения для решения задачи классфикации оттока клиентов телекоммуникационной компании:\n",
    "1. Была произведена **загрузка данных** и **предобработка данных**: данные, полученные из разных источников, были объединены, пропуски в данных были заполнены значениями No для указания на отсутствие информации. Пропуски в суммарных расходах были заполнены значениями месячных расходов так как контракты клиентов были заключены в месяц сбора данных. Целевой признак получен из столбца end_date, путем определения наличия даты расторжения договора. Клиенты, расторгнувшие договор были помечены 1, оставшиеся 0.\n",
    "2. **Исследовательский анализ** показал различия по признакам среди клиентов, которые расторгли договор, и теми, кто этого не сделал. Среди ушедших клиентов наблюдается большее значение суммарных расходов и месячных расходов. Было выдвинуто предположение, что уходят старые клиенты, т.е. клиенты с длительным сроком обсуживания. Было принято решение добавить признак длительности заключенного договора duration (разница в днях дат расторжения и заключения договора). В результуте корреляционного анализа выяснили, что сильнее всего коррелируют с целевым признаком признаки длительности и суммарных расходов. Также была обнаружена мультиколинеарность признаков internet_service и monthly_charges, которая была устранена удалением internet_service. Также были отброшены признаки, слабо коррелирующие с целевым: gender и dependents.\n",
    "3. На этапе **подготовки данных** были определены методы обработки столбцов для передачи в модель машинного обучения. Были определены пайплайны, и выбраны параметры моделей. Параметры подбирались с помощью гиперпараметрического поиска с кросс-валидацией GridSearchCV. Поиск должен был подобрать MinMaxScaler или StandardScaler для количественных признаков, гиперпараметры для DecisionTreeClassifier, KNighborsClassifier, LGBMClassifier\n",
    "4. В результате **обучения моделей** методом гиперпараметрического поиска была определена лучшая модель LGBMClassifier(learning_rate=1.0, max_depth=2, random_state=100225) с использванием MinMaxScaler для количественных признаков и TargetEncoder для категориальных. Модель показала метрику roc_auc 0.865 на тренировочной выборке и 0.897 на тестовой. Модель обучалась на признаках:\n",
    "\n",
    "- количественные признаки (MinMaxScaler): 'monthly_charges', 'total_charges', 'duration'\n",
    "- категориальные признаки (TargetEncoder): 'type', 'paperless_billing', 'payment_method', 'partner', 'online_security', 'online_backup', 'device_protection', 'tech_support', 'streaming_tv', 'streaming_movies', 'multiple_lines'\n",
    "- признаки без изменений: 'senior_citizen' \n",
    "\n",
    "Для модели оказались наиболее важными признаки: total_charges, duration, monthly_charges, type, payment_method.\n",
    "\n",
    "5. Рекомендации заказчику: в случае если необходимо обеспечить минимальный отток, т.е. классифицировать как можно больше потенциальных клиентов, которые могут расторгнуть контракт, и, к примеру, провести промо-акцию, следует снизить порог классификации, тем самым уменьшив количество FN, увеличив метрику recall. В случае, если необходимо провести точечную работу с клиентами, которые точно уйдут, необходимо уменьшать FP, увеличивать метрику precision, увеличивая порог классификации."
   ]
  }
 ],
 "metadata": {
  "ExecuteTimeLog": [
   {
    "duration": 80,
    "start_time": "2025-02-12T17:41:19.803Z"
   },
   {
    "duration": 428,
    "start_time": "2025-02-12T17:41:28.174Z"
   },
   {
    "duration": 3,
    "start_time": "2025-02-12T17:43:57.209Z"
   },
   {
    "duration": 384,
    "start_time": "2025-02-16T09:11:20.800Z"
   },
   {
    "duration": 2,
    "start_time": "2025-02-16T09:11:21.186Z"
   },
   {
    "duration": 378,
    "start_time": "2025-02-16T09:11:21.190Z"
   },
   {
    "duration": 4,
    "start_time": "2025-02-16T09:19:49.167Z"
   },
   {
    "duration": 4,
    "start_time": "2025-02-16T09:19:51.198Z"
   },
   {
    "duration": 69,
    "start_time": "2025-02-16T09:20:02.467Z"
   },
   {
    "duration": 19,
    "start_time": "2025-02-16T09:20:08.805Z"
   },
   {
    "duration": 105,
    "start_time": "2025-02-16T09:23:50.823Z"
   },
   {
    "duration": 6,
    "start_time": "2025-02-16T09:23:56.571Z"
   },
   {
    "duration": 263,
    "start_time": "2025-02-16T09:23:58.906Z"
   },
   {
    "duration": 6,
    "start_time": "2025-02-16T09:24:00.362Z"
   },
   {
    "duration": 24,
    "start_time": "2025-02-16T09:24:01.849Z"
   },
   {
    "duration": 12,
    "start_time": "2025-02-16T09:24:04.204Z"
   },
   {
    "duration": 4,
    "start_time": "2025-02-16T09:24:35.339Z"
   },
   {
    "duration": 15,
    "start_time": "2025-02-16T09:24:37.392Z"
   },
   {
    "duration": 4,
    "start_time": "2025-02-16T09:27:00.154Z"
   },
   {
    "duration": 4,
    "start_time": "2025-02-16T09:27:01.700Z"
   },
   {
    "duration": 12,
    "start_time": "2025-02-16T09:27:04.325Z"
   },
   {
    "duration": 228,
    "start_time": "2025-02-16T09:28:15.231Z"
   },
   {
    "duration": 3,
    "start_time": "2025-02-16T09:28:15.832Z"
   },
   {
    "duration": 4,
    "start_time": "2025-02-16T09:28:16.324Z"
   },
   {
    "duration": 11,
    "start_time": "2025-02-16T09:28:17.939Z"
   },
   {
    "duration": 227,
    "start_time": "2025-02-16T09:29:45.685Z"
   },
   {
    "duration": 4,
    "start_time": "2025-02-16T09:29:46.183Z"
   },
   {
    "duration": 5,
    "start_time": "2025-02-16T09:29:46.851Z"
   },
   {
    "duration": 11,
    "start_time": "2025-02-16T09:29:47.472Z"
   },
   {
    "duration": 10,
    "start_time": "2025-02-16T09:31:40.237Z"
   },
   {
    "duration": 5,
    "start_time": "2025-02-16T09:31:49.213Z"
   },
   {
    "duration": 3,
    "start_time": "2025-02-16T09:31:50.716Z"
   },
   {
    "duration": 7,
    "start_time": "2025-02-16T09:33:08.420Z"
   },
   {
    "duration": 58,
    "start_time": "2025-02-16T09:33:12.961Z"
   },
   {
    "duration": 49,
    "start_time": "2025-02-16T09:33:47.955Z"
   },
   {
    "duration": 44,
    "start_time": "2025-02-16T09:34:33.052Z"
   },
   {
    "duration": 31,
    "start_time": "2025-02-16T09:35:11.777Z"
   },
   {
    "duration": 17,
    "start_time": "2025-02-16T09:51:14.501Z"
   },
   {
    "duration": 137,
    "start_time": "2025-02-16T09:51:25.096Z"
   },
   {
    "duration": 407,
    "start_time": "2025-02-16T09:54:24.799Z"
   },
   {
    "duration": 3,
    "start_time": "2025-02-16T09:54:25.208Z"
   },
   {
    "duration": 235,
    "start_time": "2025-02-16T09:54:25.213Z"
   },
   {
    "duration": 4,
    "start_time": "2025-02-16T09:54:25.451Z"
   },
   {
    "duration": 39,
    "start_time": "2025-02-16T09:54:25.458Z"
   },
   {
    "duration": 22,
    "start_time": "2025-02-16T09:54:25.499Z"
   },
   {
    "duration": 16,
    "start_time": "2025-02-16T09:54:25.523Z"
   },
   {
    "duration": 63,
    "start_time": "2025-02-16T09:54:25.541Z"
   },
   {
    "duration": 50,
    "start_time": "2025-02-16T09:54:25.606Z"
   },
   {
    "duration": 41,
    "start_time": "2025-02-16T09:54:25.658Z"
   },
   {
    "duration": 48,
    "start_time": "2025-02-16T09:54:25.701Z"
   },
   {
    "duration": 30,
    "start_time": "2025-02-16T09:54:25.751Z"
   },
   {
    "duration": 146,
    "start_time": "2025-02-16T09:54:25.783Z"
   },
   {
    "duration": 14,
    "start_time": "2025-02-16T09:57:25.273Z"
   },
   {
    "duration": 86,
    "start_time": "2025-02-16T09:57:27.765Z"
   },
   {
    "duration": 14,
    "start_time": "2025-02-16T09:58:02.214Z"
   },
   {
    "duration": 128,
    "start_time": "2025-02-16T09:58:04.189Z"
   },
   {
    "duration": 13,
    "start_time": "2025-02-16T09:58:12.066Z"
   },
   {
    "duration": 88,
    "start_time": "2025-02-16T09:58:14.202Z"
   },
   {
    "duration": 12,
    "start_time": "2025-02-16T09:58:38.161Z"
   },
   {
    "duration": 90,
    "start_time": "2025-02-16T09:58:40.116Z"
   },
   {
    "duration": 3,
    "start_time": "2025-02-16T09:59:35.713Z"
   },
   {
    "duration": 5,
    "start_time": "2025-02-16T10:00:01.692Z"
   },
   {
    "duration": 81,
    "start_time": "2025-02-16T10:00:32.888Z"
   },
   {
    "duration": 13,
    "start_time": "2025-02-16T10:00:50.397Z"
   },
   {
    "duration": 10,
    "start_time": "2025-02-16T10:08:43.484Z"
   },
   {
    "duration": 9,
    "start_time": "2025-02-16T10:08:51.571Z"
   },
   {
    "duration": 5,
    "start_time": "2025-02-16T10:08:59.855Z"
   },
   {
    "duration": 7,
    "start_time": "2025-02-16T10:10:41.036Z"
   },
   {
    "duration": 65,
    "start_time": "2025-02-16T10:10:42.902Z"
   },
   {
    "duration": 10,
    "start_time": "2025-02-16T10:10:58.730Z"
   },
   {
    "duration": 89,
    "start_time": "2025-02-16T10:11:01.382Z"
   },
   {
    "duration": 13,
    "start_time": "2025-02-16T10:12:44.972Z"
   },
   {
    "duration": 86,
    "start_time": "2025-02-16T10:12:46.592Z"
   },
   {
    "duration": 9,
    "start_time": "2025-02-16T10:14:38.366Z"
   },
   {
    "duration": 15,
    "start_time": "2025-02-16T10:15:12.770Z"
   },
   {
    "duration": 86,
    "start_time": "2025-02-16T10:15:15.401Z"
   },
   {
    "duration": 14,
    "start_time": "2025-02-16T10:15:53.021Z"
   },
   {
    "duration": 99,
    "start_time": "2025-02-16T10:15:55.287Z"
   },
   {
    "duration": 11,
    "start_time": "2025-02-16T10:16:15.406Z"
   },
   {
    "duration": 85,
    "start_time": "2025-02-16T10:16:20.692Z"
   },
   {
    "duration": 11,
    "start_time": "2025-02-16T10:18:05.182Z"
   },
   {
    "duration": 12,
    "start_time": "2025-02-16T11:00:08.796Z"
   },
   {
    "duration": 2094,
    "start_time": "2025-02-16T11:00:10.402Z"
   },
   {
    "duration": 16,
    "start_time": "2025-02-16T11:01:49.342Z"
   },
   {
    "duration": 91,
    "start_time": "2025-02-16T11:02:17.437Z"
   },
   {
    "duration": 11,
    "start_time": "2025-02-16T11:04:33.453Z"
   },
   {
    "duration": 12,
    "start_time": "2025-02-16T11:04:33.989Z"
   },
   {
    "duration": 91,
    "start_time": "2025-02-16T11:04:36.813Z"
   },
   {
    "duration": 429,
    "start_time": "2025-02-16T11:07:18.352Z"
   },
   {
    "duration": 2,
    "start_time": "2025-02-16T11:07:18.784Z"
   },
   {
    "duration": 369,
    "start_time": "2025-02-16T11:07:18.788Z"
   },
   {
    "duration": 4,
    "start_time": "2025-02-16T11:07:19.159Z"
   },
   {
    "duration": 111,
    "start_time": "2025-02-16T11:07:19.165Z"
   },
   {
    "duration": 20,
    "start_time": "2025-02-16T11:07:19.277Z"
   },
   {
    "duration": 6,
    "start_time": "2025-02-16T11:07:19.299Z"
   },
   {
    "duration": 63,
    "start_time": "2025-02-16T11:07:19.307Z"
   },
   {
    "duration": 37,
    "start_time": "2025-02-16T11:07:19.372Z"
   },
   {
    "duration": 61,
    "start_time": "2025-02-16T11:07:19.412Z"
   },
   {
    "duration": 23,
    "start_time": "2025-02-16T11:07:19.475Z"
   },
   {
    "duration": 26,
    "start_time": "2025-02-16T11:07:19.499Z"
   },
   {
    "duration": 106,
    "start_time": "2025-02-16T11:07:19.527Z"
   },
   {
    "duration": 13,
    "start_time": "2025-02-16T11:07:19.648Z"
   },
   {
    "duration": 12,
    "start_time": "2025-02-16T11:23:08.520Z"
   },
   {
    "duration": 395,
    "start_time": "2025-02-16T11:36:28.990Z"
   },
   {
    "duration": 2,
    "start_time": "2025-02-16T11:36:29.387Z"
   },
   {
    "duration": 267,
    "start_time": "2025-02-16T11:36:29.391Z"
   },
   {
    "duration": 5,
    "start_time": "2025-02-16T11:36:29.660Z"
   },
   {
    "duration": 32,
    "start_time": "2025-02-16T11:36:29.667Z"
   },
   {
    "duration": 16,
    "start_time": "2025-02-16T11:36:29.701Z"
   },
   {
    "duration": 3,
    "start_time": "2025-02-16T11:36:29.719Z"
   },
   {
    "duration": 71,
    "start_time": "2025-02-16T11:36:29.724Z"
   },
   {
    "duration": 58,
    "start_time": "2025-02-16T11:36:29.797Z"
   },
   {
    "duration": 42,
    "start_time": "2025-02-16T11:36:29.858Z"
   },
   {
    "duration": 52,
    "start_time": "2025-02-16T11:36:29.901Z"
   },
   {
    "duration": 13,
    "start_time": "2025-02-16T11:36:29.955Z"
   },
   {
    "duration": 112,
    "start_time": "2025-02-16T11:36:29.970Z"
   },
   {
    "duration": 13,
    "start_time": "2025-02-16T11:36:30.085Z"
   },
   {
    "duration": 42,
    "start_time": "2025-02-16T11:36:30.099Z"
   },
   {
    "duration": 27,
    "start_time": "2025-02-16T11:36:30.143Z"
   },
   {
    "duration": 3,
    "start_time": "2025-02-16T12:00:38.366Z"
   },
   {
    "duration": 9,
    "start_time": "2025-02-16T12:00:38.372Z"
   },
   {
    "duration": 223,
    "start_time": "2025-02-16T12:00:38.383Z"
   },
   {
    "duration": 4,
    "start_time": "2025-02-16T12:00:38.608Z"
   },
   {
    "duration": 17,
    "start_time": "2025-02-16T12:00:38.614Z"
   },
   {
    "duration": 19,
    "start_time": "2025-02-16T12:00:38.633Z"
   },
   {
    "duration": 7,
    "start_time": "2025-02-16T12:00:38.654Z"
   },
   {
    "duration": 53,
    "start_time": "2025-02-16T12:00:38.663Z"
   },
   {
    "duration": 48,
    "start_time": "2025-02-16T12:00:38.718Z"
   },
   {
    "duration": 39,
    "start_time": "2025-02-16T12:00:38.768Z"
   },
   {
    "duration": 47,
    "start_time": "2025-02-16T12:00:38.809Z"
   },
   {
    "duration": 13,
    "start_time": "2025-02-16T12:00:38.858Z"
   },
   {
    "duration": 131,
    "start_time": "2025-02-16T12:00:38.873Z"
   },
   {
    "duration": 12,
    "start_time": "2025-02-16T12:00:39.007Z"
   },
   {
    "duration": 4,
    "start_time": "2025-02-16T12:06:56.595Z"
   },
   {
    "duration": 13,
    "start_time": "2025-02-16T12:06:56.601Z"
   },
   {
    "duration": 232,
    "start_time": "2025-02-16T12:06:56.616Z"
   },
   {
    "duration": 5,
    "start_time": "2025-02-16T12:06:56.850Z"
   },
   {
    "duration": 75,
    "start_time": "2025-02-16T12:06:56.856Z"
   },
   {
    "duration": 24,
    "start_time": "2025-02-16T12:06:56.933Z"
   },
   {
    "duration": 5,
    "start_time": "2025-02-16T12:06:56.959Z"
   },
   {
    "duration": 72,
    "start_time": "2025-02-16T12:06:56.966Z"
   },
   {
    "duration": 35,
    "start_time": "2025-02-16T12:06:57.040Z"
   },
   {
    "duration": 63,
    "start_time": "2025-02-16T12:06:57.077Z"
   },
   {
    "duration": 21,
    "start_time": "2025-02-16T12:06:57.142Z"
   },
   {
    "duration": 87,
    "start_time": "2025-02-16T12:06:57.165Z"
   },
   {
    "duration": 7,
    "start_time": "2025-02-16T12:07:02.287Z"
   },
   {
    "duration": 5,
    "start_time": "2025-02-16T12:07:03.519Z"
   },
   {
    "duration": 6,
    "start_time": "2025-02-16T12:07:05.264Z"
   },
   {
    "duration": 2,
    "start_time": "2025-02-16T12:07:30.611Z"
   },
   {
    "duration": 23,
    "start_time": "2025-02-16T12:07:30.616Z"
   },
   {
    "duration": 458,
    "start_time": "2025-02-16T12:07:30.641Z"
   },
   {
    "duration": 5,
    "start_time": "2025-02-16T12:07:31.101Z"
   },
   {
    "duration": 9,
    "start_time": "2025-02-16T12:07:31.109Z"
   },
   {
    "duration": 16,
    "start_time": "2025-02-16T12:07:31.120Z"
   },
   {
    "duration": 4,
    "start_time": "2025-02-16T12:07:31.138Z"
   },
   {
    "duration": 66,
    "start_time": "2025-02-16T12:07:31.145Z"
   },
   {
    "duration": 47,
    "start_time": "2025-02-16T12:07:31.213Z"
   },
   {
    "duration": 44,
    "start_time": "2025-02-16T12:07:31.262Z"
   },
   {
    "duration": 45,
    "start_time": "2025-02-16T12:07:31.307Z"
   },
   {
    "duration": 154,
    "start_time": "2025-02-16T12:07:31.354Z"
   },
   {
    "duration": 70,
    "start_time": "2025-02-16T12:07:31.509Z"
   },
   {
    "duration": 28,
    "start_time": "2025-02-16T12:07:31.582Z"
   },
   {
    "duration": 30,
    "start_time": "2025-02-16T12:07:31.612Z"
   },
   {
    "duration": 8,
    "start_time": "2025-02-16T12:08:29.424Z"
   },
   {
    "duration": 9,
    "start_time": "2025-02-16T12:10:57.806Z"
   },
   {
    "duration": 22,
    "start_time": "2025-02-16T12:12:30.487Z"
   },
   {
    "duration": 662,
    "start_time": "2025-02-16T12:19:01.817Z"
   },
   {
    "duration": 3,
    "start_time": "2025-02-16T12:19:51.255Z"
   },
   {
    "duration": 83,
    "start_time": "2025-02-16T12:19:51.260Z"
   },
   {
    "duration": 282,
    "start_time": "2025-02-16T12:19:51.345Z"
   },
   {
    "duration": 5,
    "start_time": "2025-02-16T12:19:51.629Z"
   },
   {
    "duration": 48,
    "start_time": "2025-02-16T12:19:51.636Z"
   },
   {
    "duration": 27,
    "start_time": "2025-02-16T12:19:51.686Z"
   },
   {
    "duration": 22,
    "start_time": "2025-02-16T12:19:51.714Z"
   },
   {
    "duration": 73,
    "start_time": "2025-02-16T12:19:51.738Z"
   },
   {
    "duration": 52,
    "start_time": "2025-02-16T12:19:51.814Z"
   },
   {
    "duration": 36,
    "start_time": "2025-02-16T12:19:51.867Z"
   },
   {
    "duration": 74,
    "start_time": "2025-02-16T12:19:51.905Z"
   },
   {
    "duration": 19,
    "start_time": "2025-02-16T12:19:51.980Z"
   },
   {
    "duration": 32,
    "start_time": "2025-02-16T12:19:52.001Z"
   },
   {
    "duration": 16,
    "start_time": "2025-02-16T12:19:52.034Z"
   },
   {
    "duration": 18,
    "start_time": "2025-02-16T12:19:52.051Z"
   },
   {
    "duration": 6,
    "start_time": "2025-02-16T12:19:52.071Z"
   },
   {
    "duration": 14,
    "start_time": "2025-02-16T12:19:52.079Z"
   },
   {
    "duration": 30,
    "start_time": "2025-02-16T12:19:52.095Z"
   },
   {
    "duration": 554,
    "start_time": "2025-02-16T12:19:52.127Z"
   },
   {
    "duration": 6,
    "start_time": "2025-02-16T12:20:29.381Z"
   },
   {
    "duration": 11,
    "start_time": "2025-02-16T12:20:59.150Z"
   },
   {
    "duration": 23,
    "start_time": "2025-02-16T12:22:50.527Z"
   },
   {
    "duration": 6,
    "start_time": "2025-02-16T12:23:04.234Z"
   },
   {
    "duration": 10,
    "start_time": "2025-02-16T12:23:27.339Z"
   },
   {
    "duration": 6,
    "start_time": "2025-02-16T12:23:40.031Z"
   },
   {
    "duration": 10,
    "start_time": "2025-02-16T12:24:15.498Z"
   },
   {
    "duration": 95,
    "start_time": "2025-02-16T12:24:30.655Z"
   },
   {
    "duration": 3,
    "start_time": "2025-02-16T12:26:22.273Z"
   },
   {
    "duration": 11,
    "start_time": "2025-02-16T12:26:22.278Z"
   },
   {
    "duration": 267,
    "start_time": "2025-02-16T12:26:22.291Z"
   },
   {
    "duration": 5,
    "start_time": "2025-02-16T12:26:22.560Z"
   },
   {
    "duration": 26,
    "start_time": "2025-02-16T12:26:22.566Z"
   },
   {
    "duration": 32,
    "start_time": "2025-02-16T12:26:22.594Z"
   },
   {
    "duration": 4,
    "start_time": "2025-02-16T12:26:22.628Z"
   },
   {
    "duration": 63,
    "start_time": "2025-02-16T12:26:22.633Z"
   },
   {
    "duration": 35,
    "start_time": "2025-02-16T12:26:22.697Z"
   },
   {
    "duration": 39,
    "start_time": "2025-02-16T12:26:22.747Z"
   },
   {
    "duration": 21,
    "start_time": "2025-02-16T12:26:22.788Z"
   },
   {
    "duration": 43,
    "start_time": "2025-02-16T12:26:22.810Z"
   },
   {
    "duration": 123,
    "start_time": "2025-02-16T12:26:22.854Z"
   },
   {
    "duration": 6,
    "start_time": "2025-02-16T12:26:22.979Z"
   },
   {
    "duration": 11,
    "start_time": "2025-02-16T12:26:22.987Z"
   },
   {
    "duration": 9,
    "start_time": "2025-02-16T12:26:23.000Z"
   },
   {
    "duration": 15,
    "start_time": "2025-02-16T12:26:23.011Z"
   },
   {
    "duration": 21,
    "start_time": "2025-02-16T12:26:23.028Z"
   },
   {
    "duration": 22,
    "start_time": "2025-02-16T12:26:23.051Z"
   },
   {
    "duration": 10,
    "start_time": "2025-02-16T12:26:23.075Z"
   },
   {
    "duration": 11,
    "start_time": "2025-02-16T12:26:23.087Z"
   },
   {
    "duration": 6,
    "start_time": "2025-02-16T12:29:39.484Z"
   },
   {
    "duration": 13,
    "start_time": "2025-02-16T12:33:22.055Z"
   },
   {
    "duration": 7,
    "start_time": "2025-02-16T12:33:43.453Z"
   },
   {
    "duration": 17,
    "start_time": "2025-02-16T12:34:15.934Z"
   },
   {
    "duration": 18,
    "start_time": "2025-02-16T12:34:21.140Z"
   },
   {
    "duration": 26,
    "start_time": "2025-02-16T12:34:34.310Z"
   },
   {
    "duration": 7,
    "start_time": "2025-02-16T12:35:01.651Z"
   },
   {
    "duration": 7,
    "start_time": "2025-02-16T12:35:34.741Z"
   },
   {
    "duration": 6,
    "start_time": "2025-02-16T12:35:49.963Z"
   },
   {
    "duration": 7,
    "start_time": "2025-02-16T12:36:16.699Z"
   },
   {
    "duration": 6,
    "start_time": "2025-02-16T12:36:27.763Z"
   },
   {
    "duration": 6,
    "start_time": "2025-02-16T12:36:38.900Z"
   },
   {
    "duration": 7,
    "start_time": "2025-02-16T12:39:48.621Z"
   },
   {
    "duration": 28,
    "start_time": "2025-02-16T12:42:53.294Z"
   },
   {
    "duration": 1989,
    "start_time": "2025-02-16T12:43:30.139Z"
   },
   {
    "duration": 26,
    "start_time": "2025-02-16T12:43:38.610Z"
   },
   {
    "duration": 16,
    "start_time": "2025-02-16T12:44:06.087Z"
   },
   {
    "duration": 16,
    "start_time": "2025-02-16T12:44:23.368Z"
   },
   {
    "duration": 31,
    "start_time": "2025-02-16T12:45:26.534Z"
   },
   {
    "duration": 8,
    "start_time": "2025-02-16T12:45:39.306Z"
   },
   {
    "duration": 4,
    "start_time": "2025-02-16T12:45:47.006Z"
   },
   {
    "duration": 4,
    "start_time": "2025-02-16T12:45:50.500Z"
   },
   {
    "duration": 15,
    "start_time": "2025-02-16T12:45:53.443Z"
   },
   {
    "duration": 2,
    "start_time": "2025-02-16T12:46:38.801Z"
   },
   {
    "duration": 27,
    "start_time": "2025-02-16T12:46:54.808Z"
   },
   {
    "duration": 89,
    "start_time": "2025-02-16T12:47:41.920Z"
   },
   {
    "duration": 3,
    "start_time": "2025-02-16T12:49:00.436Z"
   },
   {
    "duration": 34,
    "start_time": "2025-02-16T12:49:00.441Z"
   },
   {
    "duration": 285,
    "start_time": "2025-02-16T12:49:00.477Z"
   },
   {
    "duration": 5,
    "start_time": "2025-02-16T12:49:00.764Z"
   },
   {
    "duration": 32,
    "start_time": "2025-02-16T12:49:00.772Z"
   },
   {
    "duration": 31,
    "start_time": "2025-02-16T12:49:00.806Z"
   },
   {
    "duration": 6,
    "start_time": "2025-02-16T12:49:00.838Z"
   },
   {
    "duration": 58,
    "start_time": "2025-02-16T12:49:00.845Z"
   },
   {
    "duration": 48,
    "start_time": "2025-02-16T12:49:00.905Z"
   },
   {
    "duration": 39,
    "start_time": "2025-02-16T12:49:00.955Z"
   },
   {
    "duration": 24,
    "start_time": "2025-02-16T12:49:00.995Z"
   },
   {
    "duration": 40,
    "start_time": "2025-02-16T12:49:01.021Z"
   },
   {
    "duration": 119,
    "start_time": "2025-02-16T12:49:01.063Z"
   },
   {
    "duration": 7,
    "start_time": "2025-02-16T12:49:01.185Z"
   },
   {
    "duration": 42,
    "start_time": "2025-02-16T12:49:01.194Z"
   },
   {
    "duration": 15,
    "start_time": "2025-02-16T12:49:01.238Z"
   },
   {
    "duration": 40,
    "start_time": "2025-02-16T12:49:01.255Z"
   },
   {
    "duration": 51,
    "start_time": "2025-02-16T12:49:01.296Z"
   },
   {
    "duration": 103,
    "start_time": "2025-02-16T12:49:01.349Z"
   },
   {
    "duration": 98,
    "start_time": "2025-02-16T12:49:01.454Z"
   },
   {
    "duration": 24,
    "start_time": "2025-02-16T12:49:01.554Z"
   },
   {
    "duration": 27,
    "start_time": "2025-02-16T12:49:01.579Z"
   },
   {
    "duration": 114,
    "start_time": "2025-02-16T12:49:01.608Z"
   },
   {
    "duration": 38,
    "start_time": "2025-02-16T12:49:01.725Z"
   },
   {
    "duration": 31,
    "start_time": "2025-02-16T12:51:10.887Z"
   },
   {
    "duration": 70,
    "start_time": "2025-02-16T12:52:19.931Z"
   },
   {
    "duration": 61,
    "start_time": "2025-02-16T12:54:19.458Z"
   },
   {
    "duration": 5,
    "start_time": "2025-02-16T13:00:43.971Z"
   },
   {
    "duration": 5,
    "start_time": "2025-02-16T13:07:19.499Z"
   },
   {
    "duration": 4,
    "start_time": "2025-02-16T13:07:29.039Z"
   },
   {
    "duration": 5,
    "start_time": "2025-02-16T13:07:45.628Z"
   },
   {
    "duration": 5,
    "start_time": "2025-02-16T13:07:49.066Z"
   },
   {
    "duration": 11,
    "start_time": "2025-02-16T13:08:08.678Z"
   },
   {
    "duration": 4,
    "start_time": "2025-02-16T13:08:54.168Z"
   },
   {
    "duration": 57,
    "start_time": "2025-02-16T13:09:49.178Z"
   },
   {
    "duration": 2,
    "start_time": "2025-02-16T13:10:14.484Z"
   },
   {
    "duration": 35,
    "start_time": "2025-02-16T13:10:14.488Z"
   },
   {
    "duration": 352,
    "start_time": "2025-02-16T13:10:14.525Z"
   },
   {
    "duration": 5,
    "start_time": "2025-02-16T13:10:14.878Z"
   },
   {
    "duration": 43,
    "start_time": "2025-02-16T13:10:14.885Z"
   },
   {
    "duration": 10,
    "start_time": "2025-02-16T13:10:14.929Z"
   },
   {
    "duration": 3,
    "start_time": "2025-02-16T13:10:14.941Z"
   },
   {
    "duration": 53,
    "start_time": "2025-02-16T13:10:14.946Z"
   },
   {
    "duration": 48,
    "start_time": "2025-02-16T13:10:15.001Z"
   },
   {
    "duration": 68,
    "start_time": "2025-02-16T13:10:15.051Z"
   },
   {
    "duration": 27,
    "start_time": "2025-02-16T13:10:15.120Z"
   },
   {
    "duration": 25,
    "start_time": "2025-02-16T13:10:15.149Z"
   },
   {
    "duration": 131,
    "start_time": "2025-02-16T13:10:15.176Z"
   },
   {
    "duration": 6,
    "start_time": "2025-02-16T13:10:15.312Z"
   },
   {
    "duration": 66,
    "start_time": "2025-02-16T13:10:15.320Z"
   },
   {
    "duration": 26,
    "start_time": "2025-02-16T13:10:15.388Z"
   },
   {
    "duration": 17,
    "start_time": "2025-02-16T13:10:15.416Z"
   },
   {
    "duration": 25,
    "start_time": "2025-02-16T13:10:15.436Z"
   },
   {
    "duration": 44,
    "start_time": "2025-02-16T13:10:15.463Z"
   },
   {
    "duration": 35,
    "start_time": "2025-02-16T13:10:15.509Z"
   },
   {
    "duration": 84,
    "start_time": "2025-02-16T13:10:15.546Z"
   },
   {
    "duration": 43,
    "start_time": "2025-02-16T13:10:15.631Z"
   },
   {
    "duration": 117,
    "start_time": "2025-02-16T13:10:15.676Z"
   },
   {
    "duration": 31,
    "start_time": "2025-02-16T13:10:15.795Z"
   },
   {
    "duration": 61,
    "start_time": "2025-02-16T13:10:15.828Z"
   },
   {
    "duration": 969,
    "start_time": "2025-02-16T14:53:04.305Z"
   },
   {
    "duration": 174,
    "start_time": "2025-02-16T14:55:29.902Z"
   },
   {
    "duration": 197,
    "start_time": "2025-02-16T14:55:35.735Z"
   },
   {
    "duration": 190,
    "start_time": "2025-02-16T14:55:59.581Z"
   },
   {
    "duration": 289,
    "start_time": "2025-02-16T14:57:41.128Z"
   },
   {
    "duration": 208,
    "start_time": "2025-02-16T14:58:10.480Z"
   },
   {
    "duration": 279,
    "start_time": "2025-02-16T14:58:36.028Z"
   },
   {
    "duration": 319,
    "start_time": "2025-02-16T14:59:20.955Z"
   },
   {
    "duration": 235,
    "start_time": "2025-02-16T14:59:35.780Z"
   },
   {
    "duration": 203,
    "start_time": "2025-02-16T15:00:00.725Z"
   },
   {
    "duration": 210,
    "start_time": "2025-02-16T15:00:07.751Z"
   },
   {
    "duration": 214,
    "start_time": "2025-02-16T15:00:18.213Z"
   },
   {
    "duration": 237,
    "start_time": "2025-02-16T15:01:12.780Z"
   },
   {
    "duration": 1353,
    "start_time": "2025-02-16T15:15:44.049Z"
   },
   {
    "duration": 296,
    "start_time": "2025-02-16T15:17:59.479Z"
   },
   {
    "duration": 283,
    "start_time": "2025-02-16T15:18:47.395Z"
   },
   {
    "duration": 289,
    "start_time": "2025-02-16T15:19:07.052Z"
   },
   {
    "duration": 304,
    "start_time": "2025-02-16T15:21:00.741Z"
   },
   {
    "duration": 305,
    "start_time": "2025-02-16T15:21:27.608Z"
   },
   {
    "duration": 312,
    "start_time": "2025-02-16T15:21:59.945Z"
   },
   {
    "duration": 505,
    "start_time": "2025-02-16T15:22:10.449Z"
   },
   {
    "duration": 78,
    "start_time": "2025-02-16T15:24:14.174Z"
   },
   {
    "duration": 75,
    "start_time": "2025-02-16T15:25:29.084Z"
   },
   {
    "duration": 505,
    "start_time": "2025-02-16T15:25:36.166Z"
   },
   {
    "duration": 313,
    "start_time": "2025-02-16T15:25:49.169Z"
   },
   {
    "duration": 312,
    "start_time": "2025-02-16T15:25:54.800Z"
   },
   {
    "duration": 328,
    "start_time": "2025-02-16T15:26:06.140Z"
   },
   {
    "duration": 99,
    "start_time": "2025-02-16T15:26:30.304Z"
   },
   {
    "duration": 129,
    "start_time": "2025-02-16T15:26:42.756Z"
   },
   {
    "duration": 103,
    "start_time": "2025-02-16T15:27:27.249Z"
   },
   {
    "duration": 306,
    "start_time": "2025-02-16T15:28:43.319Z"
   },
   {
    "duration": 1418,
    "start_time": "2025-02-16T15:29:11.432Z"
   },
   {
    "duration": 354,
    "start_time": "2025-02-16T15:31:25.865Z"
   },
   {
    "duration": 312,
    "start_time": "2025-02-16T15:31:44.273Z"
   },
   {
    "duration": 306,
    "start_time": "2025-02-16T15:32:08.896Z"
   },
   {
    "duration": 18,
    "start_time": "2025-02-16T15:36:31.664Z"
   },
   {
    "duration": 24,
    "start_time": "2025-02-16T15:36:36.732Z"
   },
   {
    "duration": 25,
    "start_time": "2025-02-16T15:37:31.174Z"
   },
   {
    "duration": 75,
    "start_time": "2025-02-16T15:37:42.890Z"
   },
   {
    "duration": 8,
    "start_time": "2025-02-16T15:37:46.015Z"
   },
   {
    "duration": 297,
    "start_time": "2025-02-16T15:38:50.318Z"
   },
   {
    "duration": 323,
    "start_time": "2025-02-16T15:39:02.107Z"
   },
   {
    "duration": 9,
    "start_time": "2025-02-16T15:46:45.930Z"
   },
   {
    "duration": 12,
    "start_time": "2025-02-16T15:46:59.807Z"
   },
   {
    "duration": 9,
    "start_time": "2025-02-16T15:47:05.152Z"
   },
   {
    "duration": 6,
    "start_time": "2025-02-16T15:47:09.460Z"
   },
   {
    "duration": 8,
    "start_time": "2025-02-16T15:47:15.750Z"
   },
   {
    "duration": 203,
    "start_time": "2025-02-16T15:56:24.924Z"
   },
   {
    "duration": 183,
    "start_time": "2025-02-16T15:56:34.727Z"
   },
   {
    "duration": 212,
    "start_time": "2025-02-16T15:57:06.423Z"
   },
   {
    "duration": 263,
    "start_time": "2025-02-16T15:57:40.809Z"
   },
   {
    "duration": 508,
    "start_time": "2025-02-16T16:01:24.474Z"
   },
   {
    "duration": 777,
    "start_time": "2025-02-16T16:01:54.265Z"
   },
   {
    "duration": 522,
    "start_time": "2025-02-16T16:02:01.216Z"
   },
   {
    "duration": 549,
    "start_time": "2025-02-16T16:02:05.565Z"
   },
   {
    "duration": 515,
    "start_time": "2025-02-16T16:02:11.885Z"
   },
   {
    "duration": 500,
    "start_time": "2025-02-16T16:02:22.190Z"
   },
   {
    "duration": 507,
    "start_time": "2025-02-16T16:02:49.173Z"
   },
   {
    "duration": 507,
    "start_time": "2025-02-16T16:03:16.850Z"
   },
   {
    "duration": 771,
    "start_time": "2025-02-16T16:05:01.741Z"
   },
   {
    "duration": 501,
    "start_time": "2025-02-16T16:05:08.259Z"
   },
   {
    "duration": 506,
    "start_time": "2025-02-16T16:05:13.921Z"
   },
   {
    "duration": 506,
    "start_time": "2025-02-16T16:05:18.082Z"
   },
   {
    "duration": 512,
    "start_time": "2025-02-16T16:05:23.802Z"
   },
   {
    "duration": 505,
    "start_time": "2025-02-16T16:05:27.088Z"
   },
   {
    "duration": 519,
    "start_time": "2025-02-16T16:05:30.473Z"
   },
   {
    "duration": 497,
    "start_time": "2025-02-16T16:05:39.107Z"
   },
   {
    "duration": 1528,
    "start_time": "2025-02-16T16:15:23.242Z"
   },
   {
    "duration": 1182,
    "start_time": "2025-02-16T16:15:39.254Z"
   },
   {
    "duration": 1175,
    "start_time": "2025-02-16T16:16:20.895Z"
   },
   {
    "duration": 1223,
    "start_time": "2025-02-16T16:16:32.439Z"
   },
   {
    "duration": 1980,
    "start_time": "2025-02-16T16:16:53.153Z"
   },
   {
    "duration": 1175,
    "start_time": "2025-02-16T16:17:20.965Z"
   },
   {
    "duration": 1216,
    "start_time": "2025-02-16T16:17:46.382Z"
   },
   {
    "duration": 1857,
    "start_time": "2025-02-16T16:18:07.191Z"
   },
   {
    "duration": 1635,
    "start_time": "2025-02-16T16:18:35.530Z"
   },
   {
    "duration": 1658,
    "start_time": "2025-02-16T16:18:51.110Z"
   },
   {
    "duration": 1958,
    "start_time": "2025-02-16T16:19:20.091Z"
   },
   {
    "duration": 81,
    "start_time": "2025-02-16T16:28:30.358Z"
   },
   {
    "duration": 2476,
    "start_time": "2025-02-16T16:31:12.008Z"
   },
   {
    "duration": 5,
    "start_time": "2025-02-16T16:35:11.053Z"
   },
   {
    "duration": 14,
    "start_time": "2025-02-16T16:39:01.815Z"
   },
   {
    "duration": 28335,
    "start_time": "2025-02-16T16:39:28.118Z"
   },
   {
    "duration": 111,
    "start_time": "2025-02-16T16:39:58.402Z"
   },
   {
    "duration": 21,
    "start_time": "2025-02-16T16:40:06.777Z"
   },
   {
    "duration": 5461,
    "start_time": "2025-02-16T16:40:25.830Z"
   },
   {
    "duration": 5909,
    "start_time": "2025-02-16T16:40:43.792Z"
   },
   {
    "duration": 5068,
    "start_time": "2025-02-16T16:41:00.404Z"
   },
   {
    "duration": 5439,
    "start_time": "2025-02-16T16:41:16.817Z"
   },
   {
    "duration": 1337,
    "start_time": "2025-02-16T16:47:19.835Z"
   },
   {
    "duration": 13,
    "start_time": "2025-02-16T16:47:26.706Z"
   },
   {
    "duration": 33,
    "start_time": "2025-02-16T16:49:38.491Z"
   },
   {
    "duration": 12,
    "start_time": "2025-02-16T16:49:54.780Z"
   },
   {
    "duration": 112,
    "start_time": "2025-02-16T16:49:56.369Z"
   },
   {
    "duration": 3075,
    "start_time": "2025-02-16T16:51:23.545Z"
   },
   {
    "duration": 4,
    "start_time": "2025-02-16T16:51:26.623Z"
   },
   {
    "duration": 56,
    "start_time": "2025-02-16T16:51:26.628Z"
   },
   {
    "duration": 369,
    "start_time": "2025-02-16T16:51:26.686Z"
   },
   {
    "duration": 9,
    "start_time": "2025-02-16T16:51:27.060Z"
   },
   {
    "duration": 5,
    "start_time": "2025-02-16T16:51:27.074Z"
   },
   {
    "duration": 11,
    "start_time": "2025-02-16T16:51:27.080Z"
   },
   {
    "duration": 19,
    "start_time": "2025-02-16T16:51:27.092Z"
   },
   {
    "duration": 70,
    "start_time": "2025-02-16T16:51:27.113Z"
   },
   {
    "duration": 38,
    "start_time": "2025-02-16T16:51:27.185Z"
   },
   {
    "duration": 78,
    "start_time": "2025-02-16T16:51:27.225Z"
   },
   {
    "duration": 22,
    "start_time": "2025-02-16T16:51:27.305Z"
   },
   {
    "duration": 22,
    "start_time": "2025-02-16T16:51:27.361Z"
   },
   {
    "duration": 107,
    "start_time": "2025-02-16T16:51:27.386Z"
   },
   {
    "duration": 7,
    "start_time": "2025-02-16T16:51:27.494Z"
   },
   {
    "duration": 6,
    "start_time": "2025-02-16T16:51:27.502Z"
   },
   {
    "duration": 22,
    "start_time": "2025-02-16T16:51:27.509Z"
   },
   {
    "duration": 18,
    "start_time": "2025-02-16T16:51:27.533Z"
   },
   {
    "duration": 20,
    "start_time": "2025-02-16T16:51:27.554Z"
   },
   {
    "duration": 25,
    "start_time": "2025-02-16T16:51:27.577Z"
   },
   {
    "duration": 10,
    "start_time": "2025-02-16T16:51:27.604Z"
   },
   {
    "duration": 59,
    "start_time": "2025-02-16T16:51:27.616Z"
   },
   {
    "duration": 57,
    "start_time": "2025-02-16T16:51:27.678Z"
   },
   {
    "duration": 36,
    "start_time": "2025-02-16T16:51:27.736Z"
   },
   {
    "duration": 31,
    "start_time": "2025-02-16T16:51:27.775Z"
   },
   {
    "duration": 79,
    "start_time": "2025-02-16T16:51:27.808Z"
   },
   {
    "duration": 383,
    "start_time": "2025-02-16T16:51:27.888Z"
   },
   {
    "duration": 365,
    "start_time": "2025-02-16T16:51:28.273Z"
   },
   {
    "duration": 36,
    "start_time": "2025-02-16T16:51:28.639Z"
   },
   {
    "duration": 600,
    "start_time": "2025-02-16T16:51:28.676Z"
   },
   {
    "duration": 2914,
    "start_time": "2025-02-16T16:51:29.278Z"
   },
   {
    "duration": 6,
    "start_time": "2025-02-16T16:51:32.194Z"
   },
   {
    "duration": 77,
    "start_time": "2025-02-16T16:51:32.202Z"
   },
   {
    "duration": 0,
    "start_time": "2025-02-16T16:51:32.281Z"
   },
   {
    "duration": 35,
    "start_time": "2025-02-16T16:51:39.742Z"
   },
   {
    "duration": 5002,
    "start_time": "2025-02-16T16:51:42.235Z"
   },
   {
    "duration": 8,
    "start_time": "2025-02-16T16:52:01.817Z"
   },
   {
    "duration": 3113,
    "start_time": "2025-02-16T16:53:31.556Z"
   },
   {
    "duration": 7,
    "start_time": "2025-02-16T16:53:34.673Z"
   },
   {
    "duration": 33,
    "start_time": "2025-02-16T16:53:34.681Z"
   },
   {
    "duration": 280,
    "start_time": "2025-02-16T16:53:34.716Z"
   },
   {
    "duration": 4,
    "start_time": "2025-02-16T16:53:34.999Z"
   },
   {
    "duration": 28,
    "start_time": "2025-02-16T16:53:35.005Z"
   },
   {
    "duration": 11,
    "start_time": "2025-02-16T16:53:35.035Z"
   },
   {
    "duration": 10,
    "start_time": "2025-02-16T16:53:35.048Z"
   },
   {
    "duration": 70,
    "start_time": "2025-02-16T16:53:35.062Z"
   },
   {
    "duration": 62,
    "start_time": "2025-02-16T16:53:35.134Z"
   },
   {
    "duration": 65,
    "start_time": "2025-02-16T16:53:35.198Z"
   },
   {
    "duration": 27,
    "start_time": "2025-02-16T16:53:35.265Z"
   },
   {
    "duration": 14,
    "start_time": "2025-02-16T16:53:35.294Z"
   },
   {
    "duration": 124,
    "start_time": "2025-02-16T16:53:35.311Z"
   },
   {
    "duration": 21,
    "start_time": "2025-02-16T16:53:35.437Z"
   },
   {
    "duration": 16,
    "start_time": "2025-02-16T16:53:35.461Z"
   },
   {
    "duration": 21,
    "start_time": "2025-02-16T16:53:35.479Z"
   },
   {
    "duration": 33,
    "start_time": "2025-02-16T16:53:35.503Z"
   },
   {
    "duration": 35,
    "start_time": "2025-02-16T16:53:35.538Z"
   },
   {
    "duration": 29,
    "start_time": "2025-02-16T16:53:35.576Z"
   },
   {
    "duration": 11,
    "start_time": "2025-02-16T16:53:35.607Z"
   },
   {
    "duration": 52,
    "start_time": "2025-02-16T16:53:35.620Z"
   },
   {
    "duration": 54,
    "start_time": "2025-02-16T16:53:35.676Z"
   },
   {
    "duration": 55,
    "start_time": "2025-02-16T16:53:35.732Z"
   },
   {
    "duration": 57,
    "start_time": "2025-02-16T16:53:35.788Z"
   },
   {
    "duration": 82,
    "start_time": "2025-02-16T16:53:35.846Z"
   },
   {
    "duration": 386,
    "start_time": "2025-02-16T16:53:35.930Z"
   },
   {
    "duration": 376,
    "start_time": "2025-02-16T16:53:36.318Z"
   },
   {
    "duration": 8,
    "start_time": "2025-02-16T16:53:36.695Z"
   },
   {
    "duration": 594,
    "start_time": "2025-02-16T16:53:36.704Z"
   },
   {
    "duration": 3306,
    "start_time": "2025-02-16T16:53:37.300Z"
   },
   {
    "duration": 4,
    "start_time": "2025-02-16T16:53:40.608Z"
   },
   {
    "duration": 102,
    "start_time": "2025-02-16T16:53:40.614Z"
   },
   {
    "duration": 18,
    "start_time": "2025-02-16T16:53:40.718Z"
   },
   {
    "duration": 5041,
    "start_time": "2025-02-16T16:53:40.738Z"
   },
   {
    "duration": 262,
    "start_time": "2025-02-16T17:00:57.778Z"
   },
   {
    "duration": 18,
    "start_time": "2025-02-16T17:02:52.208Z"
   },
   {
    "duration": 8,
    "start_time": "2025-02-16T17:03:13.500Z"
   },
   {
    "duration": 3578,
    "start_time": "2025-02-17T07:55:09.521Z"
   },
   {
    "duration": 1706,
    "start_time": "2025-02-17T07:55:13.101Z"
   },
   {
    "duration": 3,
    "start_time": "2025-02-17T07:55:14.808Z"
   },
   {
    "duration": 478,
    "start_time": "2025-02-17T07:55:14.813Z"
   },
   {
    "duration": 4,
    "start_time": "2025-02-17T07:55:15.294Z"
   },
   {
    "duration": 25,
    "start_time": "2025-02-17T07:55:15.300Z"
   },
   {
    "duration": 23,
    "start_time": "2025-02-17T07:55:15.327Z"
   },
   {
    "duration": 5,
    "start_time": "2025-02-17T07:55:15.351Z"
   },
   {
    "duration": 61,
    "start_time": "2025-02-17T07:55:15.358Z"
   },
   {
    "duration": 55,
    "start_time": "2025-02-17T07:55:15.421Z"
   },
   {
    "duration": 39,
    "start_time": "2025-02-17T07:55:15.477Z"
   },
   {
    "duration": 21,
    "start_time": "2025-02-17T07:55:15.518Z"
   },
   {
    "duration": 40,
    "start_time": "2025-02-17T07:55:15.541Z"
   },
   {
    "duration": 117,
    "start_time": "2025-02-17T07:55:15.585Z"
   },
   {
    "duration": 6,
    "start_time": "2025-02-17T07:55:15.703Z"
   },
   {
    "duration": 15,
    "start_time": "2025-02-17T07:55:15.711Z"
   },
   {
    "duration": 12,
    "start_time": "2025-02-17T07:55:15.728Z"
   },
   {
    "duration": 8,
    "start_time": "2025-02-17T07:55:15.741Z"
   },
   {
    "duration": 30,
    "start_time": "2025-02-17T07:55:15.751Z"
   },
   {
    "duration": 24,
    "start_time": "2025-02-17T07:55:15.783Z"
   },
   {
    "duration": 9,
    "start_time": "2025-02-17T07:55:15.809Z"
   },
   {
    "duration": 15,
    "start_time": "2025-02-17T07:55:15.819Z"
   },
   {
    "duration": 44,
    "start_time": "2025-02-17T07:55:15.836Z"
   },
   {
    "duration": 17,
    "start_time": "2025-02-17T07:55:15.883Z"
   },
   {
    "duration": 30,
    "start_time": "2025-02-17T07:55:15.902Z"
   },
   {
    "duration": 87,
    "start_time": "2025-02-17T07:55:15.933Z"
   },
   {
    "duration": 333,
    "start_time": "2025-02-17T07:55:16.022Z"
   },
   {
    "duration": 334,
    "start_time": "2025-02-17T07:55:16.357Z"
   },
   {
    "duration": 8,
    "start_time": "2025-02-17T07:55:16.693Z"
   },
   {
    "duration": 576,
    "start_time": "2025-02-17T07:55:16.702Z"
   },
   {
    "duration": 2657,
    "start_time": "2025-02-17T07:55:17.279Z"
   },
   {
    "duration": 6,
    "start_time": "2025-02-17T07:55:19.937Z"
   },
   {
    "duration": 14,
    "start_time": "2025-02-17T07:55:19.945Z"
   },
   {
    "duration": 4622,
    "start_time": "2025-02-17T07:55:19.961Z"
   },
   {
    "duration": 137,
    "start_time": "2025-02-17T07:55:24.585Z"
   },
   {
    "duration": 0,
    "start_time": "2025-02-17T07:55:24.723Z"
   },
   {
    "duration": 0,
    "start_time": "2025-02-17T07:55:24.725Z"
   },
   {
    "duration": 5,
    "start_time": "2025-02-17T07:55:44.009Z"
   },
   {
    "duration": 10,
    "start_time": "2025-02-17T07:55:48.188Z"
   },
   {
    "duration": 10,
    "start_time": "2025-02-17T07:56:30.436Z"
   },
   {
    "duration": 5,
    "start_time": "2025-02-17T08:23:45.908Z"
   },
   {
    "duration": 5,
    "start_time": "2025-02-17T08:29:50.042Z"
   },
   {
    "duration": 23,
    "start_time": "2025-02-17T08:32:19.220Z"
   },
   {
    "duration": 6219,
    "start_time": "2025-02-17T08:36:47.987Z"
   },
   {
    "duration": 93,
    "start_time": "2025-02-17T08:37:18.832Z"
   },
   {
    "duration": 10,
    "start_time": "2025-02-17T08:37:59.380Z"
   },
   {
    "duration": 67,
    "start_time": "2025-02-17T08:48:49.417Z"
   },
   {
    "duration": 20441,
    "start_time": "2025-02-17T08:49:06.476Z"
   },
   {
    "duration": 7815,
    "start_time": "2025-02-17T08:49:32.648Z"
   },
   {
    "duration": 2091,
    "start_time": "2025-02-17T08:49:40.466Z"
   },
   {
    "duration": 2,
    "start_time": "2025-02-17T08:49:42.559Z"
   },
   {
    "duration": 319,
    "start_time": "2025-02-17T08:49:42.563Z"
   },
   {
    "duration": 5,
    "start_time": "2025-02-17T08:49:42.885Z"
   },
   {
    "duration": 21,
    "start_time": "2025-02-17T08:49:42.892Z"
   },
   {
    "duration": 13,
    "start_time": "2025-02-17T08:49:42.914Z"
   },
   {
    "duration": 3,
    "start_time": "2025-02-17T08:49:42.929Z"
   },
   {
    "duration": 65,
    "start_time": "2025-02-17T08:49:42.934Z"
   },
   {
    "duration": 37,
    "start_time": "2025-02-17T08:49:43.001Z"
   },
   {
    "duration": 69,
    "start_time": "2025-02-17T08:49:43.040Z"
   },
   {
    "duration": 28,
    "start_time": "2025-02-17T08:49:43.111Z"
   },
   {
    "duration": 44,
    "start_time": "2025-02-17T08:49:43.141Z"
   },
   {
    "duration": 121,
    "start_time": "2025-02-17T08:49:43.189Z"
   },
   {
    "duration": 8,
    "start_time": "2025-02-17T08:49:43.313Z"
   },
   {
    "duration": 9,
    "start_time": "2025-02-17T08:49:43.324Z"
   },
   {
    "duration": 12,
    "start_time": "2025-02-17T08:49:43.335Z"
   },
   {
    "duration": 28,
    "start_time": "2025-02-17T08:49:43.349Z"
   },
   {
    "duration": 11,
    "start_time": "2025-02-17T08:49:43.379Z"
   },
   {
    "duration": 24,
    "start_time": "2025-02-17T08:49:43.392Z"
   },
   {
    "duration": 9,
    "start_time": "2025-02-17T08:49:43.418Z"
   },
   {
    "duration": 17,
    "start_time": "2025-02-17T08:49:43.428Z"
   },
   {
    "duration": 35,
    "start_time": "2025-02-17T08:49:43.446Z"
   },
   {
    "duration": 16,
    "start_time": "2025-02-17T08:49:43.483Z"
   },
   {
    "duration": 33,
    "start_time": "2025-02-17T08:49:43.500Z"
   },
   {
    "duration": 91,
    "start_time": "2025-02-17T08:49:43.535Z"
   },
   {
    "duration": 339,
    "start_time": "2025-02-17T08:49:43.628Z"
   },
   {
    "duration": 427,
    "start_time": "2025-02-17T08:49:43.969Z"
   },
   {
    "duration": 9,
    "start_time": "2025-02-17T08:49:44.398Z"
   },
   {
    "duration": 487,
    "start_time": "2025-02-17T08:49:44.408Z"
   },
   {
    "duration": 2450,
    "start_time": "2025-02-17T08:49:44.897Z"
   },
   {
    "duration": 4,
    "start_time": "2025-02-17T08:49:47.349Z"
   },
   {
    "duration": 14,
    "start_time": "2025-02-17T08:49:47.355Z"
   },
   {
    "duration": 4278,
    "start_time": "2025-02-17T08:49:47.371Z"
   },
   {
    "duration": 5,
    "start_time": "2025-02-17T08:49:51.651Z"
   },
   {
    "duration": 48,
    "start_time": "2025-02-17T08:49:51.658Z"
   },
   {
    "duration": 10,
    "start_time": "2025-02-17T08:49:51.708Z"
   },
   {
    "duration": 17,
    "start_time": "2025-02-17T08:49:51.720Z"
   },
   {
    "duration": 205,
    "start_time": "2025-02-17T08:49:51.739Z"
   },
   {
    "duration": 0,
    "start_time": "2025-02-17T08:49:51.946Z"
   },
   {
    "duration": 0,
    "start_time": "2025-02-17T08:49:51.947Z"
   },
   {
    "duration": 0,
    "start_time": "2025-02-17T08:49:51.949Z"
   },
   {
    "duration": 0,
    "start_time": "2025-02-17T08:49:51.950Z"
   },
   {
    "duration": 1,
    "start_time": "2025-02-17T08:49:51.950Z"
   },
   {
    "duration": 3,
    "start_time": "2025-02-17T08:50:11.226Z"
   },
   {
    "duration": 13,
    "start_time": "2025-02-17T08:50:13.998Z"
   },
   {
    "duration": 3,
    "start_time": "2025-02-17T08:50:25.317Z"
   },
   {
    "duration": 5,
    "start_time": "2025-02-17T08:50:28.072Z"
   },
   {
    "duration": 3,
    "start_time": "2025-02-17T08:50:31.689Z"
   },
   {
    "duration": 29013,
    "start_time": "2025-02-17T08:50:33.462Z"
   },
   {
    "duration": 6,
    "start_time": "2025-02-17T08:51:41.185Z"
   },
   {
    "duration": 4,
    "start_time": "2025-02-17T08:51:42.781Z"
   },
   {
    "duration": 197172,
    "start_time": "2025-02-17T08:51:44.197Z"
   },
   {
    "duration": 29,
    "start_time": "2025-02-17T08:56:56.530Z"
   },
   {
    "duration": 7,
    "start_time": "2025-02-17T09:04:36.023Z"
   },
   {
    "duration": 4,
    "start_time": "2025-02-17T09:04:36.829Z"
   },
   {
    "duration": 165797,
    "start_time": "2025-02-17T09:04:37.379Z"
   },
   {
    "duration": 29,
    "start_time": "2025-02-17T09:07:23.178Z"
   },
   {
    "duration": 29,
    "start_time": "2025-02-17T09:09:13.896Z"
   },
   {
    "duration": 4,
    "start_time": "2025-02-17T09:09:22.135Z"
   },
   {
    "duration": 3,
    "start_time": "2025-02-17T09:09:23.436Z"
   },
   {
    "duration": 28684,
    "start_time": "2025-02-17T09:09:24.619Z"
   },
   {
    "duration": 16,
    "start_time": "2025-02-17T09:09:53.305Z"
   },
   {
    "duration": 5,
    "start_time": "2025-02-17T09:10:12.029Z"
   },
   {
    "duration": 5,
    "start_time": "2025-02-17T09:10:25.517Z"
   },
   {
    "duration": 5,
    "start_time": "2025-02-17T09:10:27.782Z"
   },
   {
    "duration": 985315,
    "start_time": "2025-02-17T09:10:28.682Z"
   },
   {
    "duration": 107,
    "start_time": "2025-02-17T09:26:54.000Z"
   },
   {
    "duration": 45,
    "start_time": "2025-02-17T09:27:58.472Z"
   },
   {
    "duration": 47,
    "start_time": "2025-02-17T09:31:41.940Z"
   },
   {
    "duration": 31,
    "start_time": "2025-02-17T09:33:19.158Z"
   },
   {
    "duration": 245,
    "start_time": "2025-02-17T09:34:03.188Z"
   },
   {
    "duration": 245,
    "start_time": "2025-02-17T09:34:17.368Z"
   },
   {
    "duration": 298,
    "start_time": "2025-02-17T09:42:31.297Z"
   },
   {
    "duration": 7,
    "start_time": "2025-02-17T09:43:25.586Z"
   },
   {
    "duration": 13,
    "start_time": "2025-02-17T09:45:07.448Z"
   },
   {
    "duration": 13,
    "start_time": "2025-02-17T09:45:15.505Z"
   },
   {
    "duration": 264,
    "start_time": "2025-02-17T09:46:33.931Z"
   },
   {
    "duration": 15,
    "start_time": "2025-02-17T09:48:34.937Z"
   },
   {
    "duration": 3,
    "start_time": "2025-02-17T09:48:46.399Z"
   },
   {
    "duration": 15,
    "start_time": "2025-02-17T09:48:55.188Z"
   },
   {
    "duration": 3,
    "start_time": "2025-02-17T09:49:43.264Z"
   },
   {
    "duration": 7,
    "start_time": "2025-02-17T09:49:49.384Z"
   },
   {
    "duration": 13,
    "start_time": "2025-02-17T09:50:09.355Z"
   },
   {
    "duration": 13,
    "start_time": "2025-02-17T09:50:17.668Z"
   },
   {
    "duration": 7,
    "start_time": "2025-02-17T09:50:22.227Z"
   },
   {
    "duration": 6,
    "start_time": "2025-02-17T09:51:15.475Z"
   },
   {
    "duration": 13,
    "start_time": "2025-02-17T09:51:27.630Z"
   },
   {
    "duration": 6,
    "start_time": "2025-02-17T09:51:37.630Z"
   },
   {
    "duration": 13,
    "start_time": "2025-02-17T09:51:54.173Z"
   },
   {
    "duration": 11,
    "start_time": "2025-02-17T09:51:57.199Z"
   },
   {
    "duration": 13,
    "start_time": "2025-02-17T09:52:03.991Z"
   },
   {
    "duration": 6,
    "start_time": "2025-02-17T09:52:07.299Z"
   },
   {
    "duration": 12,
    "start_time": "2025-02-17T09:54:25.596Z"
   },
   {
    "duration": 13,
    "start_time": "2025-02-17T09:54:31.399Z"
   },
   {
    "duration": 4,
    "start_time": "2025-02-17T09:54:34.471Z"
   },
   {
    "duration": 15,
    "start_time": "2025-02-17T09:56:47.968Z"
   },
   {
    "duration": 12,
    "start_time": "2025-02-17T09:56:59.917Z"
   },
   {
    "duration": 12,
    "start_time": "2025-02-17T09:57:05.565Z"
   },
   {
    "duration": 5,
    "start_time": "2025-02-17T09:57:15.851Z"
   },
   {
    "duration": 14,
    "start_time": "2025-02-17T09:58:47.162Z"
   },
   {
    "duration": 15,
    "start_time": "2025-02-17T09:58:53.355Z"
   },
   {
    "duration": 13,
    "start_time": "2025-02-17T09:59:26.420Z"
   },
   {
    "duration": 9,
    "start_time": "2025-02-17T10:00:21.292Z"
   },
   {
    "duration": 5,
    "start_time": "2025-02-17T10:00:33.924Z"
   },
   {
    "duration": 251,
    "start_time": "2025-02-17T10:01:57.370Z"
   },
   {
    "duration": 1330,
    "start_time": "2025-02-17T10:02:28.507Z"
   },
   {
    "duration": 251,
    "start_time": "2025-02-17T10:03:43.570Z"
   },
   {
    "duration": 12,
    "start_time": "2025-02-17T10:06:28.522Z"
   },
   {
    "duration": 190,
    "start_time": "2025-02-17T10:06:34.861Z"
   },
   {
    "duration": 11,
    "start_time": "2025-02-17T10:07:53.703Z"
   },
   {
    "duration": 5,
    "start_time": "2025-02-17T10:07:59.152Z"
   },
   {
    "duration": 11,
    "start_time": "2025-02-17T10:08:08.273Z"
   },
   {
    "duration": 6,
    "start_time": "2025-02-17T10:08:13.168Z"
   },
   {
    "duration": 5,
    "start_time": "2025-02-17T10:08:26.710Z"
   },
   {
    "duration": 5,
    "start_time": "2025-02-17T10:08:34.661Z"
   },
   {
    "duration": 4,
    "start_time": "2025-02-17T10:08:50.072Z"
   },
   {
    "duration": 6,
    "start_time": "2025-02-17T10:14:28.560Z"
   },
   {
    "duration": 4,
    "start_time": "2025-02-17T10:15:06.208Z"
   },
   {
    "duration": 2,
    "start_time": "2025-02-17T10:15:06.991Z"
   },
   {
    "duration": 3,
    "start_time": "2025-02-17T10:15:08.146Z"
   },
   {
    "duration": 4,
    "start_time": "2025-02-17T10:15:08.887Z"
   },
   {
    "duration": 4,
    "start_time": "2025-02-17T10:15:09.536Z"
   },
   {
    "duration": 3,
    "start_time": "2025-02-17T10:15:11.200Z"
   },
   {
    "duration": 147961,
    "start_time": "2025-02-17T10:15:12.128Z"
   },
   {
    "duration": 85,
    "start_time": "2025-02-17T10:17:40.091Z"
   },
   {
    "duration": 33,
    "start_time": "2025-02-17T10:17:40.178Z"
   },
   {
    "duration": 13,
    "start_time": "2025-02-17T10:22:49.004Z"
   },
   {
    "duration": 12,
    "start_time": "2025-02-17T10:23:48.451Z"
   },
   {
    "duration": 12,
    "start_time": "2025-02-17T10:24:10.348Z"
   },
   {
    "duration": 38,
    "start_time": "2025-02-17T10:24:21.006Z"
   },
   {
    "duration": 7608,
    "start_time": "2025-02-17T10:24:37.966Z"
   },
   {
    "duration": 2045,
    "start_time": "2025-02-17T10:24:45.577Z"
   },
   {
    "duration": 2,
    "start_time": "2025-02-17T10:24:47.624Z"
   },
   {
    "duration": 440,
    "start_time": "2025-02-17T10:24:47.629Z"
   },
   {
    "duration": 5,
    "start_time": "2025-02-17T10:24:48.070Z"
   },
   {
    "duration": 14,
    "start_time": "2025-02-17T10:24:48.076Z"
   },
   {
    "duration": 14,
    "start_time": "2025-02-17T10:24:48.092Z"
   },
   {
    "duration": 8,
    "start_time": "2025-02-17T10:24:48.107Z"
   },
   {
    "duration": 59,
    "start_time": "2025-02-17T10:24:48.117Z"
   },
   {
    "duration": 36,
    "start_time": "2025-02-17T10:24:48.180Z"
   },
   {
    "duration": 78,
    "start_time": "2025-02-17T10:24:48.217Z"
   },
   {
    "duration": 22,
    "start_time": "2025-02-17T10:24:48.298Z"
   },
   {
    "duration": 14,
    "start_time": "2025-02-17T10:24:48.322Z"
   },
   {
    "duration": 112,
    "start_time": "2025-02-17T10:24:48.338Z"
   },
   {
    "duration": 24,
    "start_time": "2025-02-17T10:24:48.451Z"
   },
   {
    "duration": 24,
    "start_time": "2025-02-17T10:24:48.477Z"
   },
   {
    "duration": 17,
    "start_time": "2025-02-17T10:24:48.503Z"
   },
   {
    "duration": 6,
    "start_time": "2025-02-17T10:24:48.521Z"
   },
   {
    "duration": 13,
    "start_time": "2025-02-17T10:24:48.529Z"
   },
   {
    "duration": 32,
    "start_time": "2025-02-17T10:24:48.544Z"
   },
   {
    "duration": 10,
    "start_time": "2025-02-17T10:24:48.578Z"
   },
   {
    "duration": 13,
    "start_time": "2025-02-17T10:24:48.590Z"
   },
   {
    "duration": 16,
    "start_time": "2025-02-17T10:24:48.605Z"
   },
   {
    "duration": 20,
    "start_time": "2025-02-17T10:24:48.623Z"
   },
   {
    "duration": 59,
    "start_time": "2025-02-17T10:24:48.645Z"
   },
   {
    "duration": 76,
    "start_time": "2025-02-17T10:24:48.705Z"
   },
   {
    "duration": 317,
    "start_time": "2025-02-17T10:24:48.783Z"
   },
   {
    "duration": 402,
    "start_time": "2025-02-17T10:24:49.104Z"
   },
   {
    "duration": 8,
    "start_time": "2025-02-17T10:24:49.508Z"
   },
   {
    "duration": 500,
    "start_time": "2025-02-17T10:24:49.518Z"
   },
   {
    "duration": 2339,
    "start_time": "2025-02-17T10:24:50.020Z"
   },
   {
    "duration": 4,
    "start_time": "2025-02-17T10:24:52.361Z"
   },
   {
    "duration": 30,
    "start_time": "2025-02-17T10:24:52.367Z"
   },
   {
    "duration": 4125,
    "start_time": "2025-02-17T10:24:52.398Z"
   },
   {
    "duration": 5,
    "start_time": "2025-02-17T10:24:56.525Z"
   },
   {
    "duration": 16,
    "start_time": "2025-02-17T10:24:56.531Z"
   },
   {
    "duration": 13,
    "start_time": "2025-02-17T10:24:56.548Z"
   },
   {
    "duration": 3,
    "start_time": "2025-02-17T10:24:56.574Z"
   },
   {
    "duration": 15,
    "start_time": "2025-02-17T10:24:56.579Z"
   },
   {
    "duration": 148,
    "start_time": "2025-02-17T10:24:56.596Z"
   },
   {
    "duration": 0,
    "start_time": "2025-02-17T10:24:56.746Z"
   },
   {
    "duration": 0,
    "start_time": "2025-02-17T10:24:56.747Z"
   },
   {
    "duration": 0,
    "start_time": "2025-02-17T10:24:56.749Z"
   },
   {
    "duration": 0,
    "start_time": "2025-02-17T10:24:56.750Z"
   },
   {
    "duration": 0,
    "start_time": "2025-02-17T10:24:56.751Z"
   },
   {
    "duration": 0,
    "start_time": "2025-02-17T10:24:56.753Z"
   },
   {
    "duration": 0,
    "start_time": "2025-02-17T10:24:56.754Z"
   },
   {
    "duration": 0,
    "start_time": "2025-02-17T10:24:56.755Z"
   },
   {
    "duration": 0,
    "start_time": "2025-02-17T10:24:56.757Z"
   },
   {
    "duration": 4,
    "start_time": "2025-02-17T10:27:32.594Z"
   },
   {
    "duration": 5,
    "start_time": "2025-02-17T10:27:33.361Z"
   },
   {
    "duration": 3,
    "start_time": "2025-02-17T10:27:35.802Z"
   },
   {
    "duration": 718965,
    "start_time": "2025-02-17T10:27:36.122Z"
   },
   {
    "duration": 43,
    "start_time": "2025-02-17T10:39:35.089Z"
   },
   {
    "duration": 77,
    "start_time": "2025-02-17T10:39:35.134Z"
   },
   {
    "duration": 335,
    "start_time": "2025-02-17T10:39:35.213Z"
   },
   {
    "duration": 0,
    "start_time": "2025-02-17T10:39:35.550Z"
   },
   {
    "duration": 13,
    "start_time": "2025-02-17T10:45:34.740Z"
   },
   {
    "duration": 7,
    "start_time": "2025-02-17T10:45:45.121Z"
   },
   {
    "duration": 13,
    "start_time": "2025-02-17T10:45:57.765Z"
   },
   {
    "duration": 6,
    "start_time": "2025-02-17T10:46:07.731Z"
   },
   {
    "duration": 20,
    "start_time": "2025-02-17T10:46:19.280Z"
   },
   {
    "duration": 7,
    "start_time": "2025-02-17T10:46:51.661Z"
   },
   {
    "duration": 15,
    "start_time": "2025-02-17T10:47:28.280Z"
   },
   {
    "duration": 5,
    "start_time": "2025-02-17T10:47:40.504Z"
   },
   {
    "duration": 17,
    "start_time": "2025-02-17T10:48:01.282Z"
   },
   {
    "duration": 4,
    "start_time": "2025-02-17T10:48:44.715Z"
   },
   {
    "duration": 275,
    "start_time": "2025-02-17T10:49:06.302Z"
   },
   {
    "duration": 1363,
    "start_time": "2025-02-17T10:49:13.318Z"
   },
   {
    "duration": 5,
    "start_time": "2025-02-17T10:49:28.476Z"
   },
   {
    "duration": 6,
    "start_time": "2025-02-17T10:50:13.732Z"
   },
   {
    "duration": 5,
    "start_time": "2025-02-17T10:51:50.028Z"
   },
   {
    "duration": 4,
    "start_time": "2025-02-17T10:51:58.326Z"
   },
   {
    "duration": 6,
    "start_time": "2025-02-17T10:52:09.137Z"
   },
   {
    "duration": 18,
    "start_time": "2025-02-17T10:52:34.761Z"
   },
   {
    "duration": 11,
    "start_time": "2025-02-17T10:52:42.768Z"
   },
   {
    "duration": 1365,
    "start_time": "2025-02-17T10:52:56.454Z"
   },
   {
    "duration": 23,
    "start_time": "2025-02-17T10:53:14.800Z"
   },
   {
    "duration": 2654,
    "start_time": "2025-02-17T10:53:20.120Z"
   },
   {
    "duration": 6,
    "start_time": "2025-02-17T11:02:10.218Z"
   },
   {
    "duration": 16,
    "start_time": "2025-02-17T11:02:15.499Z"
   },
   {
    "duration": 5,
    "start_time": "2025-02-17T11:03:09.764Z"
   },
   {
    "duration": 94,
    "start_time": "2025-02-17T11:03:33.384Z"
   },
   {
    "duration": 107,
    "start_time": "2025-02-17T11:03:49.768Z"
   },
   {
    "duration": 336,
    "start_time": "2025-02-17T11:04:27.739Z"
   },
   {
    "duration": 8309,
    "start_time": "2025-02-17T11:16:18.153Z"
   },
   {
    "duration": 2153,
    "start_time": "2025-02-17T11:16:26.465Z"
   },
   {
    "duration": 3,
    "start_time": "2025-02-17T11:16:28.620Z"
   },
   {
    "duration": 271,
    "start_time": "2025-02-17T11:16:28.624Z"
   },
   {
    "duration": 4,
    "start_time": "2025-02-17T11:16:28.898Z"
   },
   {
    "duration": 13,
    "start_time": "2025-02-17T11:16:28.905Z"
   },
   {
    "duration": 15,
    "start_time": "2025-02-17T11:16:28.920Z"
   },
   {
    "duration": 11,
    "start_time": "2025-02-17T11:16:28.938Z"
   },
   {
    "duration": 69,
    "start_time": "2025-02-17T11:16:28.951Z"
   },
   {
    "duration": 33,
    "start_time": "2025-02-17T11:16:29.022Z"
   },
   {
    "duration": 66,
    "start_time": "2025-02-17T11:16:29.057Z"
   },
   {
    "duration": 20,
    "start_time": "2025-02-17T11:16:29.125Z"
   },
   {
    "duration": 34,
    "start_time": "2025-02-17T11:16:29.147Z"
   },
   {
    "duration": 103,
    "start_time": "2025-02-17T11:16:29.184Z"
   },
   {
    "duration": 6,
    "start_time": "2025-02-17T11:16:29.288Z"
   },
   {
    "duration": 7,
    "start_time": "2025-02-17T11:16:29.296Z"
   },
   {
    "duration": 10,
    "start_time": "2025-02-17T11:16:29.304Z"
   },
   {
    "duration": 5,
    "start_time": "2025-02-17T11:16:29.315Z"
   },
   {
    "duration": 13,
    "start_time": "2025-02-17T11:16:29.322Z"
   },
   {
    "duration": 69,
    "start_time": "2025-02-17T11:16:29.337Z"
   },
   {
    "duration": 8,
    "start_time": "2025-02-17T11:16:29.408Z"
   },
   {
    "duration": 18,
    "start_time": "2025-02-17T11:16:29.418Z"
   },
   {
    "duration": 36,
    "start_time": "2025-02-17T11:16:29.438Z"
   },
   {
    "duration": 35,
    "start_time": "2025-02-17T11:16:29.477Z"
   },
   {
    "duration": 31,
    "start_time": "2025-02-17T11:16:29.514Z"
   },
   {
    "duration": 58,
    "start_time": "2025-02-17T11:16:29.546Z"
   },
   {
    "duration": 331,
    "start_time": "2025-02-17T11:16:29.606Z"
   },
   {
    "duration": 444,
    "start_time": "2025-02-17T11:16:29.938Z"
   },
   {
    "duration": 8,
    "start_time": "2025-02-17T11:16:30.384Z"
   },
   {
    "duration": 523,
    "start_time": "2025-02-17T11:16:30.394Z"
   },
   {
    "duration": 2571,
    "start_time": "2025-02-17T11:16:30.920Z"
   },
   {
    "duration": 5,
    "start_time": "2025-02-17T11:16:33.493Z"
   },
   {
    "duration": 26,
    "start_time": "2025-02-17T11:16:33.500Z"
   },
   {
    "duration": 5106,
    "start_time": "2025-02-17T11:16:33.527Z"
   },
   {
    "duration": 5,
    "start_time": "2025-02-17T11:16:38.635Z"
   },
   {
    "duration": 34,
    "start_time": "2025-02-17T11:16:38.642Z"
   },
   {
    "duration": 4,
    "start_time": "2025-02-17T11:16:38.678Z"
   },
   {
    "duration": 47,
    "start_time": "2025-02-17T11:16:38.683Z"
   },
   {
    "duration": 21,
    "start_time": "2025-02-17T11:16:38.732Z"
   },
   {
    "duration": 6,
    "start_time": "2025-02-17T11:16:38.754Z"
   },
   {
    "duration": 6,
    "start_time": "2025-02-17T11:16:38.764Z"
   },
   {
    "duration": 6,
    "start_time": "2025-02-17T11:16:38.771Z"
   },
   {
    "duration": 798199,
    "start_time": "2025-02-17T11:16:38.778Z"
   },
   {
    "duration": 44,
    "start_time": "2025-02-17T11:29:56.979Z"
   },
   {
    "duration": 58,
    "start_time": "2025-02-17T11:29:57.026Z"
   },
   {
    "duration": 196,
    "start_time": "2025-02-17T11:29:57.086Z"
   },
   {
    "duration": 0,
    "start_time": "2025-02-17T11:29:57.284Z"
   },
   {
    "duration": 0,
    "start_time": "2025-02-17T11:29:57.285Z"
   },
   {
    "duration": 0,
    "start_time": "2025-02-17T11:29:57.287Z"
   },
   {
    "duration": 84,
    "start_time": "2025-02-17T11:41:18.506Z"
   },
   {
    "duration": 15,
    "start_time": "2025-02-17T11:41:32.313Z"
   },
   {
    "duration": 16,
    "start_time": "2025-02-17T11:42:24.263Z"
   },
   {
    "duration": 5,
    "start_time": "2025-02-17T11:42:35.498Z"
   },
   {
    "duration": 3,
    "start_time": "2025-02-17T11:42:49.336Z"
   },
   {
    "duration": 2432,
    "start_time": "2025-02-17T11:42:51.856Z"
   },
   {
    "duration": 8513,
    "start_time": "2025-02-17T11:43:35.133Z"
   },
   {
    "duration": 2363,
    "start_time": "2025-02-17T11:43:43.649Z"
   },
   {
    "duration": 4,
    "start_time": "2025-02-17T11:43:46.014Z"
   },
   {
    "duration": 481,
    "start_time": "2025-02-17T11:43:46.022Z"
   },
   {
    "duration": 5,
    "start_time": "2025-02-17T11:43:46.505Z"
   },
   {
    "duration": 10,
    "start_time": "2025-02-17T11:43:46.512Z"
   },
   {
    "duration": 17,
    "start_time": "2025-02-17T11:43:46.524Z"
   },
   {
    "duration": 16,
    "start_time": "2025-02-17T11:43:46.542Z"
   },
   {
    "duration": 79,
    "start_time": "2025-02-17T11:43:46.561Z"
   },
   {
    "duration": 46,
    "start_time": "2025-02-17T11:43:46.643Z"
   },
   {
    "duration": 45,
    "start_time": "2025-02-17T11:43:46.691Z"
   },
   {
    "duration": 50,
    "start_time": "2025-02-17T11:43:46.738Z"
   },
   {
    "duration": 40,
    "start_time": "2025-02-17T11:43:46.790Z"
   },
   {
    "duration": 130,
    "start_time": "2025-02-17T11:43:46.832Z"
   },
   {
    "duration": 7,
    "start_time": "2025-02-17T11:43:46.975Z"
   },
   {
    "duration": 30,
    "start_time": "2025-02-17T11:43:46.984Z"
   },
   {
    "duration": 15,
    "start_time": "2025-02-17T11:43:47.017Z"
   },
   {
    "duration": 9,
    "start_time": "2025-02-17T11:43:47.034Z"
   },
   {
    "duration": 18,
    "start_time": "2025-02-17T11:43:47.044Z"
   },
   {
    "duration": 29,
    "start_time": "2025-02-17T11:43:47.064Z"
   },
   {
    "duration": 11,
    "start_time": "2025-02-17T11:43:47.095Z"
   },
   {
    "duration": 22,
    "start_time": "2025-02-17T11:43:47.108Z"
   },
   {
    "duration": 12,
    "start_time": "2025-02-17T11:43:47.133Z"
   },
   {
    "duration": 40,
    "start_time": "2025-02-17T11:43:47.148Z"
   },
   {
    "duration": 35,
    "start_time": "2025-02-17T11:43:47.191Z"
   },
   {
    "duration": 87,
    "start_time": "2025-02-17T11:43:47.228Z"
   },
   {
    "duration": 352,
    "start_time": "2025-02-17T11:43:47.317Z"
   },
   {
    "duration": 507,
    "start_time": "2025-02-17T11:43:47.673Z"
   },
   {
    "duration": 10,
    "start_time": "2025-02-17T11:43:48.182Z"
   },
   {
    "duration": 536,
    "start_time": "2025-02-17T11:43:48.194Z"
   },
   {
    "duration": 2784,
    "start_time": "2025-02-17T11:43:48.732Z"
   },
   {
    "duration": 7,
    "start_time": "2025-02-17T11:43:51.518Z"
   },
   {
    "duration": 26,
    "start_time": "2025-02-17T11:43:51.528Z"
   },
   {
    "duration": 4707,
    "start_time": "2025-02-17T11:43:51.556Z"
   },
   {
    "duration": 11,
    "start_time": "2025-02-17T11:43:56.266Z"
   },
   {
    "duration": 18,
    "start_time": "2025-02-17T11:43:56.280Z"
   },
   {
    "duration": 5,
    "start_time": "2025-02-17T11:43:56.301Z"
   },
   {
    "duration": 8,
    "start_time": "2025-02-17T11:43:56.308Z"
   },
   {
    "duration": 22,
    "start_time": "2025-02-17T11:43:56.318Z"
   },
   {
    "duration": 18,
    "start_time": "2025-02-17T11:43:56.342Z"
   },
   {
    "duration": 26,
    "start_time": "2025-02-17T11:43:56.362Z"
   },
   {
    "duration": 12,
    "start_time": "2025-02-17T11:43:56.390Z"
   },
   {
    "duration": 171692,
    "start_time": "2025-02-17T11:43:56.404Z"
   },
   {
    "duration": 44,
    "start_time": "2025-02-17T11:46:48.174Z"
   },
   {
    "duration": 56,
    "start_time": "2025-02-17T11:46:48.220Z"
   },
   {
    "duration": 3,
    "start_time": "2025-02-17T11:46:48.278Z"
   },
   {
    "duration": 2414,
    "start_time": "2025-02-17T11:46:48.283Z"
   },
   {
    "duration": 519,
    "start_time": "2025-02-17T11:46:50.700Z"
   },
   {
    "duration": 8530,
    "start_time": "2025-02-17T12:06:14.891Z"
   },
   {
    "duration": 2169,
    "start_time": "2025-02-17T12:06:23.424Z"
   },
   {
    "duration": 3,
    "start_time": "2025-02-17T12:06:25.595Z"
   },
   {
    "duration": 309,
    "start_time": "2025-02-17T12:06:25.599Z"
   },
   {
    "duration": 5,
    "start_time": "2025-02-17T12:06:25.910Z"
   },
   {
    "duration": 10,
    "start_time": "2025-02-17T12:06:25.917Z"
   },
   {
    "duration": 59,
    "start_time": "2025-02-17T12:06:25.929Z"
   },
   {
    "duration": 3,
    "start_time": "2025-02-17T12:06:25.991Z"
   },
   {
    "duration": 71,
    "start_time": "2025-02-17T12:06:25.996Z"
   },
   {
    "duration": 44,
    "start_time": "2025-02-17T12:06:26.077Z"
   },
   {
    "duration": 70,
    "start_time": "2025-02-17T12:06:26.123Z"
   },
   {
    "duration": 31,
    "start_time": "2025-02-17T12:06:26.195Z"
   },
   {
    "duration": 15,
    "start_time": "2025-02-17T12:06:26.228Z"
   },
   {
    "duration": 132,
    "start_time": "2025-02-17T12:06:26.245Z"
   },
   {
    "duration": 7,
    "start_time": "2025-02-17T12:06:26.379Z"
   },
   {
    "duration": 12,
    "start_time": "2025-02-17T12:06:26.388Z"
   },
   {
    "duration": 11,
    "start_time": "2025-02-17T12:06:26.402Z"
   },
   {
    "duration": 19,
    "start_time": "2025-02-17T12:06:26.415Z"
   },
   {
    "duration": 16,
    "start_time": "2025-02-17T12:06:26.437Z"
   },
   {
    "duration": 36,
    "start_time": "2025-02-17T12:06:26.456Z"
   },
   {
    "duration": 11,
    "start_time": "2025-02-17T12:06:26.494Z"
   },
   {
    "duration": 15,
    "start_time": "2025-02-17T12:06:26.508Z"
   },
   {
    "duration": 11,
    "start_time": "2025-02-17T12:06:26.526Z"
   },
   {
    "duration": 51,
    "start_time": "2025-02-17T12:06:26.539Z"
   },
   {
    "duration": 33,
    "start_time": "2025-02-17T12:06:26.592Z"
   },
   {
    "duration": 86,
    "start_time": "2025-02-17T12:06:26.628Z"
   },
   {
    "duration": 347,
    "start_time": "2025-02-17T12:06:26.716Z"
   },
   {
    "duration": 475,
    "start_time": "2025-02-17T12:06:27.068Z"
   },
   {
    "duration": 9,
    "start_time": "2025-02-17T12:06:27.545Z"
   },
   {
    "duration": 567,
    "start_time": "2025-02-17T12:06:27.556Z"
   },
   {
    "duration": 2726,
    "start_time": "2025-02-17T12:06:28.126Z"
   },
   {
    "duration": 5,
    "start_time": "2025-02-17T12:06:30.854Z"
   },
   {
    "duration": 32,
    "start_time": "2025-02-17T12:06:30.860Z"
   },
   {
    "duration": 4563,
    "start_time": "2025-02-17T12:06:30.894Z"
   },
   {
    "duration": 5,
    "start_time": "2025-02-17T12:06:35.459Z"
   },
   {
    "duration": 25,
    "start_time": "2025-02-17T12:06:35.476Z"
   },
   {
    "duration": 4,
    "start_time": "2025-02-17T12:06:35.503Z"
   },
   {
    "duration": 10,
    "start_time": "2025-02-17T12:06:35.509Z"
   },
   {
    "duration": 14,
    "start_time": "2025-02-17T12:06:35.522Z"
   },
   {
    "duration": 7,
    "start_time": "2025-02-17T12:06:35.538Z"
   },
   {
    "duration": 30,
    "start_time": "2025-02-17T12:06:35.547Z"
   },
   {
    "duration": 14,
    "start_time": "2025-02-17T12:06:35.579Z"
   },
   {
    "duration": 168100,
    "start_time": "2025-02-17T12:06:35.595Z"
   },
   {
    "duration": 114,
    "start_time": "2025-02-17T12:09:23.697Z"
   },
   {
    "duration": 63,
    "start_time": "2025-02-17T12:09:23.813Z"
   },
   {
    "duration": 3,
    "start_time": "2025-02-17T12:09:23.878Z"
   },
   {
    "duration": 2462,
    "start_time": "2025-02-17T12:09:23.883Z"
   },
   {
    "duration": 510,
    "start_time": "2025-02-17T12:09:26.348Z"
   },
   {
    "duration": 51319,
    "start_time": "2025-02-18T14:06:57.448Z"
   },
   {
    "duration": 1616,
    "start_time": "2025-02-18T14:08:11.911Z"
   },
   {
    "duration": 18833,
    "start_time": "2025-02-18T14:08:23.556Z"
   },
   {
    "duration": 40538,
    "start_time": "2025-02-18T14:08:45.888Z"
   },
   {
    "duration": 1330,
    "start_time": "2025-02-18T14:15:26.114Z"
   },
   {
    "duration": 1418,
    "start_time": "2025-02-18T14:15:28.818Z"
   },
   {
    "duration": 8776,
    "start_time": "2025-02-18T14:15:36.061Z"
   },
   {
    "duration": 49,
    "start_time": "2025-02-18T14:21:11.204Z"
   },
   {
    "duration": 14,
    "start_time": "2025-02-18T14:25:01.244Z"
   },
   {
    "duration": 42,
    "start_time": "2025-02-18T14:37:14.414Z"
   },
   {
    "duration": 6550,
    "start_time": "2025-02-18T14:37:51.696Z"
   },
   {
    "duration": 17510,
    "start_time": "2025-02-18T14:43:13.371Z"
   },
   {
    "duration": 7021,
    "start_time": "2025-02-18T14:49:13.200Z"
   },
   {
    "duration": 19,
    "start_time": "2025-02-18T14:49:30.855Z"
   },
   {
    "duration": 28190,
    "start_time": "2025-02-18T14:49:41.841Z"
   },
   {
    "duration": 54,
    "start_time": "2025-02-18T14:57:11.415Z"
   },
   {
    "duration": 14,
    "start_time": "2025-02-18T14:57:55.149Z"
   },
   {
    "duration": 11487,
    "start_time": "2025-02-18T14:58:43.619Z"
   },
   {
    "duration": 13220,
    "start_time": "2025-02-18T14:59:19.624Z"
   },
   {
    "duration": 7400,
    "start_time": "2025-02-18T15:01:41.376Z"
   },
   {
    "duration": 22,
    "start_time": "2025-02-18T15:02:00.046Z"
   },
   {
    "duration": 8967,
    "start_time": "2025-02-18T15:13:46.887Z"
   },
   {
    "duration": 23244,
    "start_time": "2025-02-18T15:21:38.195Z"
   },
   {
    "duration": 2938,
    "start_time": "2025-02-18T15:22:38.456Z"
   },
   {
    "duration": 7785,
    "start_time": "2025-02-18T15:22:47.251Z"
   },
   {
    "duration": 2477,
    "start_time": "2025-02-18T15:22:55.039Z"
   },
   {
    "duration": 4,
    "start_time": "2025-02-18T15:30:03.112Z"
   },
   {
    "duration": 802,
    "start_time": "2025-02-18T15:30:25.496Z"
   },
   {
    "duration": 7990,
    "start_time": "2025-02-18T15:37:37.377Z"
   },
   {
    "duration": 6,
    "start_time": "2025-02-18T15:37:45.370Z"
   },
   {
    "duration": 9,
    "start_time": "2025-02-18T15:37:45.378Z"
   },
   {
    "duration": 487,
    "start_time": "2025-02-18T15:37:45.390Z"
   },
   {
    "duration": 5,
    "start_time": "2025-02-18T15:37:45.879Z"
   },
   {
    "duration": 13,
    "start_time": "2025-02-18T15:37:45.886Z"
   },
   {
    "duration": 9,
    "start_time": "2025-02-18T15:37:45.901Z"
   },
   {
    "duration": 4,
    "start_time": "2025-02-18T15:37:45.911Z"
   },
   {
    "duration": 62,
    "start_time": "2025-02-18T15:37:45.917Z"
   },
   {
    "duration": 51,
    "start_time": "2025-02-18T15:37:45.983Z"
   },
   {
    "duration": 38,
    "start_time": "2025-02-18T15:37:46.036Z"
   },
   {
    "duration": 51,
    "start_time": "2025-02-18T15:37:46.075Z"
   },
   {
    "duration": 13,
    "start_time": "2025-02-18T15:37:46.128Z"
   },
   {
    "duration": 114,
    "start_time": "2025-02-18T15:37:46.143Z"
   },
   {
    "duration": 6,
    "start_time": "2025-02-18T15:37:46.259Z"
   },
   {
    "duration": 6,
    "start_time": "2025-02-18T15:37:46.267Z"
   },
   {
    "duration": 6,
    "start_time": "2025-02-18T15:37:46.275Z"
   },
   {
    "duration": 4,
    "start_time": "2025-02-18T15:37:46.283Z"
   },
   {
    "duration": 33,
    "start_time": "2025-02-18T15:37:46.289Z"
   },
   {
    "duration": 24,
    "start_time": "2025-02-18T15:37:46.324Z"
   },
   {
    "duration": 9,
    "start_time": "2025-02-18T15:37:46.351Z"
   },
   {
    "duration": 12,
    "start_time": "2025-02-18T15:37:46.362Z"
   },
   {
    "duration": 46,
    "start_time": "2025-02-18T15:37:46.376Z"
   },
   {
    "duration": 16,
    "start_time": "2025-02-18T15:37:46.424Z"
   },
   {
    "duration": 30,
    "start_time": "2025-02-18T15:37:46.442Z"
   },
   {
    "duration": 109,
    "start_time": "2025-02-18T15:37:46.474Z"
   },
   {
    "duration": 317,
    "start_time": "2025-02-18T15:37:46.585Z"
   },
   {
    "duration": 314,
    "start_time": "2025-02-18T15:37:46.913Z"
   },
   {
    "duration": 9,
    "start_time": "2025-02-18T15:37:47.229Z"
   },
   {
    "duration": 483,
    "start_time": "2025-02-18T15:37:47.240Z"
   },
   {
    "duration": 2409,
    "start_time": "2025-02-18T15:38:12.462Z"
   },
   {
    "duration": 2209,
    "start_time": "2025-02-18T15:38:31.814Z"
   },
   {
    "duration": 2093,
    "start_time": "2025-02-18T15:42:10.265Z"
   },
   {
    "duration": 2135,
    "start_time": "2025-02-18T15:44:40.419Z"
   },
   {
    "duration": 1981,
    "start_time": "2025-02-18T15:45:13.008Z"
   },
   {
    "duration": 2128,
    "start_time": "2025-02-18T15:49:02.356Z"
   },
   {
    "duration": 1827,
    "start_time": "2025-02-18T15:49:26.226Z"
   },
   {
    "duration": 1869,
    "start_time": "2025-02-18T15:51:54.071Z"
   },
   {
    "duration": 2184,
    "start_time": "2025-02-18T15:52:15.060Z"
   },
   {
    "duration": 2512,
    "start_time": "2025-02-18T15:52:26.219Z"
   },
   {
    "duration": 1384,
    "start_time": "2025-02-18T15:53:55.053Z"
   },
   {
    "duration": 1345,
    "start_time": "2025-02-18T15:54:22.034Z"
   },
   {
    "duration": 2774,
    "start_time": "2025-02-18T15:55:32.133Z"
   },
   {
    "duration": 2602,
    "start_time": "2025-02-18T15:55:52.379Z"
   },
   {
    "duration": 2553,
    "start_time": "2025-02-18T15:57:07.104Z"
   },
   {
    "duration": 1640,
    "start_time": "2025-02-18T15:57:25.267Z"
   },
   {
    "duration": 2304,
    "start_time": "2025-02-18T15:57:32.544Z"
   },
   {
    "duration": 1957,
    "start_time": "2025-02-18T15:57:53.344Z"
   },
   {
    "duration": 2407,
    "start_time": "2025-02-18T15:58:30.928Z"
   },
   {
    "duration": 2532,
    "start_time": "2025-02-18T15:59:15.997Z"
   },
   {
    "duration": 1976,
    "start_time": "2025-02-18T15:59:49.726Z"
   },
   {
    "duration": 2285,
    "start_time": "2025-02-18T16:00:02.306Z"
   },
   {
    "duration": 2094,
    "start_time": "2025-02-18T16:00:16.324Z"
   },
   {
    "duration": 2288,
    "start_time": "2025-02-18T16:00:31.869Z"
   },
   {
    "duration": 2293,
    "start_time": "2025-02-18T16:00:35.022Z"
   },
   {
    "duration": 2159,
    "start_time": "2025-02-18T16:00:55.585Z"
   },
   {
    "duration": 2304,
    "start_time": "2025-02-18T16:01:18.164Z"
   },
   {
    "duration": 2109,
    "start_time": "2025-02-18T16:01:29.869Z"
   },
   {
    "duration": 2111,
    "start_time": "2025-02-18T16:01:53.739Z"
   },
   {
    "duration": 1971,
    "start_time": "2025-02-18T16:02:08.927Z"
   },
   {
    "duration": 2218,
    "start_time": "2025-02-18T16:02:20.208Z"
   },
   {
    "duration": 1922,
    "start_time": "2025-02-18T16:02:29.358Z"
   },
   {
    "duration": 2197,
    "start_time": "2025-02-18T16:02:38.163Z"
   },
   {
    "duration": 1917,
    "start_time": "2025-02-18T16:04:23.587Z"
   },
   {
    "duration": 1835,
    "start_time": "2025-02-18T16:04:42.611Z"
   },
   {
    "duration": 2070,
    "start_time": "2025-02-18T16:06:02.068Z"
   },
   {
    "duration": 1860,
    "start_time": "2025-02-18T16:08:25.733Z"
   },
   {
    "duration": 1974,
    "start_time": "2025-02-18T16:08:43.452Z"
   },
   {
    "duration": 1770,
    "start_time": "2025-02-18T16:09:30.419Z"
   },
   {
    "duration": 2060,
    "start_time": "2025-02-18T16:09:43.736Z"
   },
   {
    "duration": 1781,
    "start_time": "2025-02-18T16:09:58.509Z"
   },
   {
    "duration": 2233,
    "start_time": "2025-02-18T16:10:06.865Z"
   },
   {
    "duration": 2132,
    "start_time": "2025-02-18T16:10:23.743Z"
   },
   {
    "duration": 1814,
    "start_time": "2025-02-18T16:10:30.727Z"
   },
   {
    "duration": 2001,
    "start_time": "2025-02-18T16:10:38.327Z"
   },
   {
    "duration": 1791,
    "start_time": "2025-02-18T16:10:43.345Z"
   },
   {
    "duration": 2286,
    "start_time": "2025-02-18T16:11:25.654Z"
   },
   {
    "duration": 2279,
    "start_time": "2025-02-18T16:12:58.243Z"
   },
   {
    "duration": 2299,
    "start_time": "2025-02-18T16:13:08.849Z"
   },
   {
    "duration": 8065,
    "start_time": "2025-02-18T16:15:45.401Z"
   },
   {
    "duration": 2012,
    "start_time": "2025-02-18T16:15:53.469Z"
   },
   {
    "duration": 3,
    "start_time": "2025-02-18T16:15:55.483Z"
   },
   {
    "duration": 791,
    "start_time": "2025-02-18T16:15:55.490Z"
   },
   {
    "duration": 5,
    "start_time": "2025-02-18T16:15:56.284Z"
   },
   {
    "duration": 7,
    "start_time": "2025-02-18T16:15:56.290Z"
   },
   {
    "duration": 10,
    "start_time": "2025-02-18T16:15:56.299Z"
   },
   {
    "duration": 3,
    "start_time": "2025-02-18T16:15:56.312Z"
   },
   {
    "duration": 58,
    "start_time": "2025-02-18T16:15:56.317Z"
   },
   {
    "duration": 52,
    "start_time": "2025-02-18T16:15:56.379Z"
   },
   {
    "duration": 40,
    "start_time": "2025-02-18T16:15:56.433Z"
   },
   {
    "duration": 49,
    "start_time": "2025-02-18T16:15:56.475Z"
   },
   {
    "duration": 19,
    "start_time": "2025-02-18T16:15:56.528Z"
   },
   {
    "duration": 126,
    "start_time": "2025-02-18T16:15:56.551Z"
   },
   {
    "duration": 6,
    "start_time": "2025-02-18T16:15:56.679Z"
   },
   {
    "duration": 125,
    "start_time": "2025-02-18T16:15:56.687Z"
   },
   {
    "duration": 67,
    "start_time": "2025-02-18T16:15:56.814Z"
   },
   {
    "duration": 5,
    "start_time": "2025-02-18T16:15:56.883Z"
   },
   {
    "duration": 15,
    "start_time": "2025-02-18T16:15:56.889Z"
   },
   {
    "duration": 25,
    "start_time": "2025-02-18T16:15:56.906Z"
   },
   {
    "duration": 9,
    "start_time": "2025-02-18T16:15:56.934Z"
   },
   {
    "duration": 20,
    "start_time": "2025-02-18T16:15:56.945Z"
   },
   {
    "duration": 11,
    "start_time": "2025-02-18T16:15:56.967Z"
   },
   {
    "duration": 16,
    "start_time": "2025-02-18T16:15:56.979Z"
   },
   {
    "duration": 45,
    "start_time": "2025-02-18T16:15:56.997Z"
   },
   {
    "duration": 80,
    "start_time": "2025-02-18T16:15:57.045Z"
   },
   {
    "duration": 439,
    "start_time": "2025-02-18T16:15:57.127Z"
   },
   {
    "duration": 332,
    "start_time": "2025-02-18T16:15:57.572Z"
   },
   {
    "duration": 9,
    "start_time": "2025-02-18T16:15:57.913Z"
   },
   {
    "duration": 488,
    "start_time": "2025-02-18T16:15:57.924Z"
   },
   {
    "duration": 2337,
    "start_time": "2025-02-18T16:15:58.414Z"
   },
   {
    "duration": 5,
    "start_time": "2025-02-18T16:16:00.753Z"
   },
   {
    "duration": 129,
    "start_time": "2025-02-18T16:16:00.761Z"
   },
   {
    "duration": 4212,
    "start_time": "2025-02-18T16:16:00.892Z"
   },
   {
    "duration": 6,
    "start_time": "2025-02-18T16:16:05.114Z"
   },
   {
    "duration": 20,
    "start_time": "2025-02-18T16:16:05.121Z"
   },
   {
    "duration": 83,
    "start_time": "2025-02-18T16:16:05.143Z"
   },
   {
    "duration": 4,
    "start_time": "2025-02-18T16:16:05.229Z"
   },
   {
    "duration": 15,
    "start_time": "2025-02-18T16:16:05.236Z"
   },
   {
    "duration": 3,
    "start_time": "2025-02-18T16:16:05.253Z"
   },
   {
    "duration": 5,
    "start_time": "2025-02-18T16:16:05.258Z"
   },
   {
    "duration": 4,
    "start_time": "2025-02-18T16:16:05.264Z"
   },
   {
    "duration": 157943,
    "start_time": "2025-02-18T16:16:05.270Z"
   },
   {
    "duration": 38,
    "start_time": "2025-02-18T16:18:43.216Z"
   },
   {
    "duration": 57,
    "start_time": "2025-02-18T16:18:43.257Z"
   },
   {
    "duration": 3,
    "start_time": "2025-02-18T16:18:43.317Z"
   },
   {
    "duration": 2394,
    "start_time": "2025-02-18T16:18:43.322Z"
   },
   {
    "duration": 352,
    "start_time": "2025-02-18T16:18:45.718Z"
   },
   {
    "duration": 8078,
    "start_time": "2025-02-18T16:22:51.966Z"
   },
   {
    "duration": 2086,
    "start_time": "2025-02-18T16:23:00.048Z"
   },
   {
    "duration": 3,
    "start_time": "2025-02-18T16:23:02.136Z"
   },
   {
    "duration": 440,
    "start_time": "2025-02-18T16:23:02.141Z"
   },
   {
    "duration": 5,
    "start_time": "2025-02-18T16:23:02.585Z"
   },
   {
    "duration": 41,
    "start_time": "2025-02-18T16:23:02.592Z"
   },
   {
    "duration": 13,
    "start_time": "2025-02-18T16:23:02.635Z"
   },
   {
    "duration": 3,
    "start_time": "2025-02-18T16:23:02.650Z"
   },
   {
    "duration": 55,
    "start_time": "2025-02-18T16:23:02.655Z"
   },
   {
    "duration": 36,
    "start_time": "2025-02-18T16:23:02.712Z"
   },
   {
    "duration": 99,
    "start_time": "2025-02-18T16:23:02.750Z"
   },
   {
    "duration": 69,
    "start_time": "2025-02-18T16:23:02.851Z"
   },
   {
    "duration": 19,
    "start_time": "2025-02-18T16:23:02.922Z"
   },
   {
    "duration": 111,
    "start_time": "2025-02-18T16:23:02.946Z"
   },
   {
    "duration": 7,
    "start_time": "2025-02-18T16:23:03.059Z"
   },
   {
    "duration": 9,
    "start_time": "2025-02-18T16:23:03.068Z"
   },
   {
    "duration": 33,
    "start_time": "2025-02-18T16:23:03.080Z"
   },
   {
    "duration": 18,
    "start_time": "2025-02-18T16:23:03.117Z"
   },
   {
    "duration": 14,
    "start_time": "2025-02-18T16:23:03.138Z"
   },
   {
    "duration": 110,
    "start_time": "2025-02-18T16:23:03.157Z"
   },
   {
    "duration": 10,
    "start_time": "2025-02-18T16:23:03.270Z"
   },
   {
    "duration": 35,
    "start_time": "2025-02-18T16:23:03.282Z"
   },
   {
    "duration": 12,
    "start_time": "2025-02-18T16:23:03.319Z"
   },
   {
    "duration": 16,
    "start_time": "2025-02-18T16:23:03.334Z"
   },
   {
    "duration": 33,
    "start_time": "2025-02-18T16:23:03.352Z"
   },
   {
    "duration": 82,
    "start_time": "2025-02-18T16:23:03.387Z"
   },
   {
    "duration": 442,
    "start_time": "2025-02-18T16:23:03.471Z"
   },
   {
    "duration": 323,
    "start_time": "2025-02-18T16:23:03.915Z"
   },
   {
    "duration": 9,
    "start_time": "2025-02-18T16:23:04.240Z"
   },
   {
    "duration": 501,
    "start_time": "2025-02-18T16:23:04.251Z"
   },
   {
    "duration": 2516,
    "start_time": "2025-02-18T16:23:04.754Z"
   },
   {
    "duration": 5,
    "start_time": "2025-02-18T16:23:07.273Z"
   },
   {
    "duration": 17,
    "start_time": "2025-02-18T16:23:07.280Z"
   },
   {
    "duration": 4403,
    "start_time": "2025-02-18T16:23:07.299Z"
   },
   {
    "duration": 11,
    "start_time": "2025-02-18T16:23:11.704Z"
   },
   {
    "duration": 79,
    "start_time": "2025-02-18T16:23:11.717Z"
   },
   {
    "duration": 12,
    "start_time": "2025-02-18T16:23:11.799Z"
   },
   {
    "duration": 10,
    "start_time": "2025-02-18T16:23:11.813Z"
   },
   {
    "duration": 5,
    "start_time": "2025-02-18T16:23:11.825Z"
   },
   {
    "duration": 6,
    "start_time": "2025-02-18T16:23:11.832Z"
   },
   {
    "duration": 6,
    "start_time": "2025-02-18T16:23:11.844Z"
   },
   {
    "duration": 3,
    "start_time": "2025-02-18T16:23:11.852Z"
   },
   {
    "duration": 147569,
    "start_time": "2025-02-18T16:23:11.857Z"
   },
   {
    "duration": 38,
    "start_time": "2025-02-18T16:25:39.429Z"
   },
   {
    "duration": 31,
    "start_time": "2025-02-18T16:25:39.515Z"
   },
   {
    "duration": 27,
    "start_time": "2025-02-18T16:25:39.549Z"
   },
   {
    "duration": 2303,
    "start_time": "2025-02-18T16:25:39.578Z"
   },
   {
    "duration": 301,
    "start_time": "2025-02-18T16:25:41.883Z"
   }
  ],
  "kernelspec": {
   "display_name": "Python 3 (ipykernel)",
   "language": "python",
   "name": "python3"
  },
  "language_info": {
   "codemirror_mode": {
    "name": "ipython",
    "version": 3
   },
   "file_extension": ".py",
   "mimetype": "text/x-python",
   "name": "python",
   "nbconvert_exporter": "python",
   "pygments_lexer": "ipython3",
   "version": "3.9.5"
  },
  "toc": {
   "base_numbering": 1,
   "nav_menu": {},
   "number_sections": false,
   "sideBar": true,
   "skip_h1_title": true,
   "title_cell": "Table of Contents",
   "title_sidebar": "Contents",
   "toc_cell": false,
   "toc_position": {
    "height": "calc(100% - 180px)",
    "left": "10px",
    "top": "150px",
    "width": "218px"
   },
   "toc_section_display": true,
   "toc_window_display": true
  }
 },
 "nbformat": 4,
 "nbformat_minor": 5
}
