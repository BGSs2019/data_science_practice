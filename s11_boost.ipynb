{
 "cells": [
  {
   "cell_type": "markdown",
   "metadata": {},
   "source": [
    "# Определение стоимости автомобилей"
   ]
  },
  {
   "cell_type": "markdown",
   "metadata": {},
   "source": [
    "## Описание исследования\n",
    "\n",
    "Сервис по продаже автомобилей с пробегом «Не бит, не крашен» разрабатывает приложение для привлечения новых клиентов. В нём можно быстро узнать рыночную стоимость своего автомобиля. В вашем распоряжении исторические данные: технические характеристики, комплектации и цены автомобилей. Вам нужно построить модель для определения стоимости. \n",
    "\n",
    "Заказчику важны:\n",
    "\n",
    "- качество предсказания;\n",
    "- скорость предсказания;\n",
    "- время обучения."
   ]
  },
  {
   "cell_type": "markdown",
   "metadata": {},
   "source": [
    "## Цель исследования\n",
    "\n",
    "- Создать регрессионную модель машинного обучения, которая будет способна прогнозировать рыночную стоимость автомобиля по данным"
   ]
  },
  {
   "cell_type": "markdown",
   "metadata": {},
   "source": [
    "## Ход исследования\n",
    "\n",
    "1. Получение данных\n",
    "2. Предобработка данных\n",
    "3. Исследовательский анализ\n",
    "4. Подготовка данных\n",
    "5. Обучение моделей\n",
    "6. Выводы"
   ]
  },
  {
   "cell_type": "markdown",
   "metadata": {},
   "source": [
    "<a id='section_id'></a>\n",
    "## Содержание \n",
    "\n",
    "[Шаг 1. Загрузка данных](#section_id1)\n",
    "\n",
    "[Шаг 2. Предобработка данных](#section_id2)\n",
    "\n",
    "[Шаг 3. Подготовка данных](#section_id3)\n",
    "\n",
    "[Шаг 4. Обучение моделей](#section_id4)\n",
    "\n",
    "[Шаг 5. Анализ результатов](#section_id5)\n",
    "\n",
    "[Шаг 6. Выбор лучшей модели](#section_id6)\n",
    "\n",
    "[Общий вывод](#section_id7)"
   ]
  },
  {
   "cell_type": "code",
   "execution_count": null,
   "metadata": {},
   "outputs": [],
   "source": [
    "# установка библиотек\n",
    "!pip install phik -q\n",
    "!pip install category_encoders -q"
   ]
  },
  {
   "cell_type": "code",
   "execution_count": null,
   "metadata": {},
   "outputs": [],
   "source": [
    "# импорт библиотек\n",
    "\n",
    "# работа с данными\n",
    "import pandas as pd\n",
    "import numpy as np\n",
    "\n",
    "# графика\n",
    "import matplotlib.pyplot as plt\n",
    "import seaborn as sns\n",
    "\n",
    "# инструменты анализа\n",
    "from phik.report import plot_correlation_matrix\n",
    "from phik import phik_matrix\n",
    "\n",
    "# подготовка данных\n",
    "from sklearn.model_selection import train_test_split\n",
    "from sklearn.preprocessing import StandardScaler, MinMaxScaler\n",
    "from category_encoders import TargetEncoder\n",
    "\n",
    "# пайплайны\n",
    "from sklearn.pipeline import Pipeline\n",
    "from sklearn.compose import ColumnTransformer\n",
    "\n",
    "# модели машинного обучения\n",
    "from sklearn.tree import DecisionTreeRegressor\n",
    "from lightgbm import LGBMRegressor\n",
    "\n",
    "# инструменты управления ресурсами\n",
    "import joblib\n",
    "\n",
    "# инструменты поиска\n",
    "from sklearn.model_selection import GridSearchCV\n",
    "\n",
    "# \n",
    "from sklearn.metrics import mean_squared_error"
   ]
  },
  {
   "cell_type": "code",
   "execution_count": null,
   "metadata": {},
   "outputs": [],
   "source": [
    "# константы\n",
    "TEST_SIZE = 0.25 \n",
    "RANDOM_STATE = 42"
   ]
  },
  {
   "cell_type": "markdown",
   "metadata": {},
   "source": [
    "<a id='section_id1'></a>\n",
    "## Шаг 1. Загрузка данных\n",
    "[к содержанию](#section_id)"
   ]
  },
  {
   "cell_type": "code",
   "execution_count": null,
   "metadata": {},
   "outputs": [],
   "source": [
    "# загрузка данных\n",
    "df = pd.read_csv('/datasets/autos.csv', parse_dates=['DateCrawled', 'DateCreated', 'LastSeen'])\n",
    "df.head()"
   ]
  },
  {
   "cell_type": "markdown",
   "metadata": {},
   "source": [
    "<a id='section_id2'></a>\n",
    "## Шаг 2. Предобработка данных\n",
    "[к содержанию](#section_id)"
   ]
  },
  {
   "cell_type": "markdown",
   "metadata": {},
   "source": [
    "### Корректировка названий столбцов"
   ]
  },
  {
   "cell_type": "code",
   "execution_count": null,
   "metadata": {},
   "outputs": [],
   "source": [
    "# функция для snake_case\n",
    "def make_snake(header):\n",
    "    '''Функция принимает на вход заголовок и возвращает snake_case'''\n",
    "    result = ''\n",
    "    \n",
    "    # поставить перед всеми словами нижнее подчеркивание\n",
    "    for letter in header:\n",
    "        if letter.isupper():\n",
    "            result += '_' + letter.lower()\n",
    "        else:\n",
    "            result += letter\n",
    "            \n",
    "    # удалить нижнее подчеркивание в начале слова\n",
    "    if result[0] == '_':\n",
    "        result = result[1:]\n",
    "    return result"
   ]
  },
  {
   "cell_type": "code",
   "execution_count": null,
   "metadata": {},
   "outputs": [],
   "source": [
    "# корректировка названий столбцов\n",
    "df.columns = [make_snake(header) for header in df.columns]"
   ]
  },
  {
   "cell_type": "markdown",
   "metadata": {},
   "source": [
    "### Обзор данных"
   ]
  },
  {
   "cell_type": "code",
   "execution_count": null,
   "metadata": {},
   "outputs": [],
   "source": [
    "# функция для обзора данных\n",
    "def preview(dataset):\n",
    "    '''Функция принимает на вход набор данных и выводит основную информацию о нем.'''\n",
    "    display(dataset.head())\n",
    "    dataset.info()\n",
    "    display(dataset.describe(include='all', datetime_is_numeric=True).T)"
   ]
  },
  {
   "cell_type": "code",
   "execution_count": null,
   "metadata": {
    "scrolled": false
   },
   "outputs": [],
   "source": [
    "# обзор данных\n",
    "preview(df)"
   ]
  },
  {
   "cell_type": "markdown",
   "metadata": {},
   "source": [
    "### Удаление неинформативных признаков\n",
    "\n",
    "К удалению предлагаю:\n",
    "\n",
    "- registration_month - месяц регистрации автомобиля\n",
    "- date_crawled — дата скачивания анкеты из базы\n",
    "- date_created — дата создания анкеты\n",
    "- number_of_pictures — количество фотографий автомобиля\n",
    "- postal_code — почтовый индекс владельца анкеты (пользователя)\n",
    "- last_seen — дата последней активности пользователя\n",
    "\n",
    "Даже если признаки коррелируют с целевым, не логично прогнозировать по ним стоимость автомобиля."
   ]
  },
  {
   "cell_type": "code",
   "execution_count": null,
   "metadata": {},
   "outputs": [],
   "source": [
    "# удаление неинформативных признаков\n",
    "df = df[['registration_year',\n",
    "         'price',\n",
    "         'vehicle_type',\n",
    "         'gearbox',\n",
    "         'power',\n",
    "         'model',\n",
    "         'kilometer',\n",
    "         'fuel_type',\n",
    "         'brand',\n",
    "         'repaired']]"
   ]
  },
  {
   "cell_type": "markdown",
   "metadata": {},
   "source": [
    "### Заполнение пропусков"
   ]
  },
  {
   "cell_type": "code",
   "execution_count": null,
   "metadata": {},
   "outputs": [],
   "source": [
    "# определение столбцов с пропусками\n",
    "nulls = pd.DataFrame({'nulls' : df.isna().sum(), 'percent' : round(df.isna().mean()*100)})\n",
    "nulls"
   ]
  },
  {
   "cell_type": "code",
   "execution_count": null,
   "metadata": {
    "scrolled": true
   },
   "outputs": [],
   "source": [
    "# просмотр строк с пропусками\n",
    "df[df.isna().any(axis=1)].sample(10)"
   ]
  },
  {
   "cell_type": "markdown",
   "metadata": {},
   "source": [
    "Пропуски в model и vehicle_type можно заменить значением 'other'.\n",
    "\n",
    "Пропуски по категориальным признакам repaired, fuel_type, gearbox заполним значениями 'unknown'"
   ]
  },
  {
   "cell_type": "code",
   "execution_count": null,
   "metadata": {},
   "outputs": [],
   "source": [
    "# заполнение пропусков\n",
    "df[['vehicle_type', 'fuel_type']] = df[['vehicle_type', 'fuel_type']].fillna('other')\n",
    "df[['repaired', 'model', 'gearbox']] = df[['repaired', 'model', 'gearbox']].fillna('unknown')"
   ]
  },
  {
   "cell_type": "markdown",
   "metadata": {},
   "source": [
    "### Исследовательский анализ"
   ]
  },
  {
   "cell_type": "markdown",
   "metadata": {},
   "source": [
    "- vehicle_type — тип автомобильного кузова - категориальный признак, предпочтительно кодирование OHE\n",
    "- gearbox — тип коробки передач - категориальный признак, предпочтительно кодирование OHE\n",
    "- power — мощность (л. с.) - количественный признак, необходимо произвести масштабирование\n",
    "- model — модель автомобиля - категориальный признак, предпочтительно кодирование OHE\n",
    "- kilometer — пробег (км) - количественный признак, необходимо произвести масштабирование\n",
    "- fuel_type — тип топлива - категориальный признак, предпочтительно кодирование OHE\n",
    "- brand — марка автомобиля - категориальный признак, предпочтительно кодирование OHE\n",
    "- repaired — была машина в ремонте или нет - категориальный признак, предпочтительно кодирование OHE"
   ]
  },
  {
   "cell_type": "code",
   "execution_count": null,
   "metadata": {},
   "outputs": [],
   "source": [
    "# изучение столбца 'fuel_type'\n",
    "df['fuel_type'].unique()"
   ]
  },
  {
   "cell_type": "code",
   "execution_count": null,
   "metadata": {},
   "outputs": [],
   "source": [
    "# замена значений в столце 'fuel_type'\n",
    "df['fuel_type'] = df['fuel_type'].str.replace('gasoline', 'petrol')\n",
    "df['fuel_type'] = df['fuel_type'].str.replace('cng', 'lpg')"
   ]
  },
  {
   "cell_type": "markdown",
   "metadata": {},
   "source": [
    "### Исследование аномалий"
   ]
  },
  {
   "cell_type": "code",
   "execution_count": null,
   "metadata": {},
   "outputs": [],
   "source": [
    "# списки названий столбцов\n",
    "num_columns = ['power',\n",
    "               'kilometer',\n",
    "               'price',\n",
    "               'registration_year']\n",
    "cat_columns = ['vehicle_type',\n",
    "               'gearbox',\n",
    "               'model',\n",
    "               'fuel_type',\n",
    "               'brand',\n",
    "               'repaired']"
   ]
  },
  {
   "cell_type": "code",
   "execution_count": null,
   "metadata": {},
   "outputs": [],
   "source": [
    "# гистограмма признака power\n",
    "sns.histplot(data=df, x='power', bins=10, binwidth=20)\n",
    "plt.title('Мощность автомобиля')\n",
    "plt.show()"
   ]
  },
  {
   "cell_type": "markdown",
   "metadata": {},
   "source": [
    "- В столбце **power** присутствуют аномальные значения. Адекватные значения мощности представленных в датасете автомобилей от 30 до 500 лошаиных сил. Также учтём, что машина может продаваться вообще без двигателя. Оставим в выборке автомобили с мощностью 0 л.с."
   ]
  },
  {
   "cell_type": "code",
   "execution_count": null,
   "metadata": {},
   "outputs": [],
   "source": [
    "# удаление аномалий\n",
    "df = df[(df['power'] == 0) |(df['power'] > 30) & (df['power'] < 500)]"
   ]
  },
  {
   "cell_type": "code",
   "execution_count": null,
   "metadata": {
    "scrolled": true
   },
   "outputs": [],
   "source": [
    "# гистограмма признака power\n",
    "sns.histplot(data=df, x='power', bins=10, binwidth=20)\n",
    "plt.title('Мощность автомобиля')\n",
    "plt.show()"
   ]
  },
  {
   "cell_type": "code",
   "execution_count": null,
   "metadata": {},
   "outputs": [],
   "source": [
    "# диаграмма размаха признака kilometer\n",
    "sns.boxplot(data=df, y='kilometer')\n",
    "plt.title('Пробег автомобиля')\n",
    "plt.show()"
   ]
  },
  {
   "cell_type": "markdown",
   "metadata": {},
   "source": [
    "- Значения в столбце **kilometer** находятся в адекватных пределах, пробег 140000 км для подержанных машин - это неплохой результат"
   ]
  },
  {
   "cell_type": "code",
   "execution_count": null,
   "metadata": {},
   "outputs": [],
   "source": [
    "# графики признака price\n",
    "fig, ax = plt.subplots(1,2, figsize=(10, 5))\n",
    "sns.boxplot(data=df, y='price', ax=ax[0])\n",
    "sns.histplot(data=df, x='price', ax=ax[1])\n",
    "plt.suptitle('Цена автомобиля')\n",
    "plt.show()"
   ]
  },
  {
   "cell_type": "markdown",
   "metadata": {},
   "source": [
    "- Значения в столбце **price** имеют большое количество значений выше Q3+1.5*IQR. Не будем удалять их из рассмотрения, чтобы не потерять данные."
   ]
  },
  {
   "cell_type": "code",
   "execution_count": null,
   "metadata": {},
   "outputs": [],
   "source": [
    "# диаграмма размаха признака registration_year\n",
    "sns.boxplot(data=df, y='registration_year')\n",
    "plt.title('Год регистрации автомобиля')\n",
    "plt.show()"
   ]
  },
  {
   "cell_type": "markdown",
   "metadata": {},
   "source": [
    "- Значения в столбце **registration_year** имеют неадекватные значения года регистрации. Заменим 211 значений выше 2024 года и 99 ниже 1950 на 2024 и 1950 соответственно."
   ]
  },
  {
   "cell_type": "code",
   "execution_count": null,
   "metadata": {},
   "outputs": [],
   "source": [
    "# Заменим значения года, на корректные\n",
    "df.loc[df['registration_year'] > 2024, 'registration_year'] = 2024\n",
    "df.loc[df['registration_year'] < 1950, 'registration_year'] = 1950"
   ]
  },
  {
   "cell_type": "code",
   "execution_count": null,
   "metadata": {},
   "outputs": [],
   "source": [
    "# диаграмма размаха признака registration_year\n",
    "sns.boxplot(data=df, y='registration_year')\n",
    "plt.title('Год регистрации автомобиля после изменений')\n",
    "plt.show()"
   ]
  },
  {
   "cell_type": "code",
   "execution_count": null,
   "metadata": {},
   "outputs": [],
   "source": [
    "# столбчатая диаграмма признака vehicle_type\n",
    "sns.barplot(x=df['vehicle_type'].unique(), y=df['vehicle_type'].value_counts())\n",
    "plt.title('Тип кузова')\n",
    "plt.show()"
   ]
  },
  {
   "cell_type": "code",
   "execution_count": null,
   "metadata": {},
   "outputs": [],
   "source": [
    "# столбчатая диаграмма признака gearbox\n",
    "sns.barplot(x=df['gearbox'].unique(), y=df['gearbox'].value_counts())\n",
    "plt.title('Тип коробки передач')\n",
    "plt.show()"
   ]
  },
  {
   "cell_type": "code",
   "execution_count": null,
   "metadata": {},
   "outputs": [],
   "source": [
    "# столбчатая диаграмма признака model (5 наиболее часто встречаемых моделей)\n",
    "sns.barplot(x=df['model'].unique()[:5], y=df['model'].value_counts()[:5])\n",
    "plt.title('5 наиболее часто встречаемых моделей авто')\n",
    "plt.show()"
   ]
  },
  {
   "cell_type": "code",
   "execution_count": null,
   "metadata": {},
   "outputs": [],
   "source": [
    "# столбчатая диаграмма признака fuel_type\n",
    "sns.barplot(x=df['fuel_type'].unique(), y=df['fuel_type'].value_counts())\n",
    "plt.title('Количество авто по типу топлива')\n",
    "plt.show()"
   ]
  },
  {
   "cell_type": "code",
   "execution_count": null,
   "metadata": {},
   "outputs": [],
   "source": [
    "# столбчатая диаграмма признака brand (5 наиболее часто встречаемых брендов авто)\n",
    "sns.barplot(x=df['brand'].unique()[:5], y=df['brand'].value_counts()[:5])\n",
    "plt.title('5 наиболее часто встречаемых брендов авто')\n",
    "plt.show()"
   ]
  },
  {
   "cell_type": "code",
   "execution_count": null,
   "metadata": {},
   "outputs": [],
   "source": [
    "# столбчатая диаграмма признака repaired\n",
    "sns.barplot(x=df['repaired'].unique(), y=df['repaired'].value_counts())\n",
    "plt.title('Количество авто по состоянию')\n",
    "plt.show()"
   ]
  },
  {
   "cell_type": "markdown",
   "metadata": {},
   "source": [
    "### Корреляционный анализ"
   ]
  },
  {
   "cell_type": "code",
   "execution_count": null,
   "metadata": {},
   "outputs": [],
   "source": [
    "# анализ корреляционных зависимостей между признаками\n",
    "phik_overview = df.phik_matrix(verbose=False)\n",
    "\n",
    "plot_correlation_matrix(\n",
    "    phik_overview.values,\n",
    "    x_labels=phik_overview.columns,\n",
    "    y_labels=phik_overview.index,\n",
    "    figsize=(12, 12)\n",
    ")"
   ]
  },
  {
   "cell_type": "markdown",
   "metadata": {},
   "source": [
    "По шкале Чеддока в средней корреляции с целевым находятся признаки model, power, registration_year слабой связью с целевым обладают repaired, brand, kilometer, gearbox, очень слабая связь у fuel_type\n",
    "\n",
    "Присутствует мультиколлинеарность между признаками model и brand, которую необходимо устранить.\n",
    "Удалим признак model."
   ]
  },
  {
   "cell_type": "code",
   "execution_count": null,
   "metadata": {},
   "outputs": [],
   "source": [
    "# удаление столбца brand\n",
    "df = df[['price',\n",
    "         'registration_year',\n",
    "         'vehicle_type',\n",
    "         'gearbox',\n",
    "         'power',\n",
    "         'brand',\n",
    "         'kilometer',\n",
    "         'fuel_type',\n",
    "         'repaired']]"
   ]
  },
  {
   "cell_type": "markdown",
   "metadata": {},
   "source": [
    "<a id='section_id3'></a>\n",
    "## Шаг 3. Подготовка данных\n",
    "[к содержанию](#section_id)"
   ]
  },
  {
   "cell_type": "code",
   "execution_count": null,
   "metadata": {},
   "outputs": [],
   "source": [
    "# создание тренировочной и тестовой выборки\n",
    "X_train, X_test, y_train, y_test = train_test_split(\n",
    "    df.drop(['price'], axis=1),\n",
    "    df['price'],\n",
    "    test_size = TEST_SIZE, \n",
    "    random_state = RANDOM_STATE)\n",
    "\n",
    "X_train.shape, X_test.shape"
   ]
  },
  {
   "cell_type": "code",
   "execution_count": null,
   "metadata": {},
   "outputs": [],
   "source": [
    "# список num_columns\n",
    "num_columns = ['power',\n",
    "               'kilometer',\n",
    "               'registration_year']\n",
    "\n",
    "# список te_columns\n",
    "te_columns = ['vehicle_type',\n",
    "               'gearbox',\n",
    "               'brand',\n",
    "               'fuel_type',\n",
    "               'repaired']"
   ]
  },
  {
   "cell_type": "code",
   "execution_count": null,
   "metadata": {},
   "outputs": [],
   "source": [
    "# пайплайн для кодирования ohe_columns\n",
    "te_pipe = Pipeline(\n",
    "    [('te', TargetEncoder())]\n",
    "    )"
   ]
  },
  {
   "cell_type": "code",
   "execution_count": null,
   "metadata": {},
   "outputs": [],
   "source": [
    "# общий пайплайн для подготовки данных\n",
    "data_preprocessor = ColumnTransformer(\n",
    "    [('te', te_pipe, te_columns),\n",
    "     ('num', MinMaxScaler(), num_columns)\n",
    "    ], \n",
    "    remainder='passthrough'\n",
    ")"
   ]
  },
  {
   "cell_type": "code",
   "execution_count": null,
   "metadata": {},
   "outputs": [],
   "source": [
    "# итоговый пайплайн\n",
    "pipe_final = Pipeline([\n",
    "    ('preprocessor', data_preprocessor),\n",
    "    ('models', LinearRegression())\n",
    "])"
   ]
  },
  {
   "cell_type": "code",
   "execution_count": null,
   "metadata": {},
   "outputs": [],
   "source": [
    "# задание параметров для пайплайна\n",
    "param_grid = [\n",
    "    # словарь для модели decisionTreeRegressor()\n",
    "    {\n",
    "        'models': [DecisionTreeRegressor(random_state=RANDOM_STATE)],\n",
    "        'models__max_features': range(3, 5),\n",
    "        'models__max_depth': range(5, 10),\n",
    "        'preprocessor__num': [StandardScaler(), MinMaxScaler(), 'passthrough'] \n",
    "    },\n",
    "    # словарь для модели LightGBM()\n",
    "    {\n",
    "        'models': [LGBMRegressor(n_jobs=-1)],\n",
    "        'models__max_depth': [4, 5],\n",
    "        'models__learning_rate': [1.0, 10.0],\n",
    "        'preprocessor__num': [StandardScaler(), MinMaxScaler(), 'passthrough']  \n",
    "    }\n",
    "]"
   ]
  },
  {
   "cell_type": "markdown",
   "metadata": {},
   "source": [
    "<a id='section_id4'></a>\n",
    "## Шаг 4. Обучение моделей\n",
    "[к содержанию](#section_id)"
   ]
  },
  {
   "cell_type": "code",
   "execution_count": null,
   "metadata": {},
   "outputs": [],
   "source": [
    "# инициализация подбора параметров\n",
    "grid_search = GridSearchCV(\n",
    "    pipe_final, \n",
    "    param_grid, \n",
    "    cv=5,\n",
    "    scoring='neg_root_mean_squared_error',\n",
    "    n_jobs=-1,\n",
    "    verbose=1\n",
    ")"
   ]
  },
  {
   "cell_type": "code",
   "execution_count": null,
   "metadata": {},
   "outputs": [],
   "source": [
    "# настройка библиотеки для работы с многопоточными вычислениями\n",
    "joblib.parallel_backend('threading')"
   ]
  },
  {
   "cell_type": "code",
   "execution_count": null,
   "metadata": {
    "scrolled": true
   },
   "outputs": [],
   "source": [
    "%%time\n",
    "# запуск подбора параметров\n",
    "grid_search.fit(X_train, y_train)\n",
    "\n",
    "print('Лучшая модель и её параметры:\\n\\n', grid_search.best_estimator_)\n",
    "print ('Метрика лучшей модели на тренировочной выборке:', grid_search.best_score_)"
   ]
  },
  {
   "cell_type": "markdown",
   "metadata": {},
   "source": [
    "<a id='section_id5'></a>\n",
    "## Шаг 5. Анализ результатов\n",
    "[к содержанию](#section_id)"
   ]
  },
  {
   "cell_type": "code",
   "execution_count": null,
   "metadata": {},
   "outputs": [],
   "source": [
    "# анализ важности признаков\n",
    "grid_search.best_estimator_._final_estimator.feature_importances_"
   ]
  },
  {
   "cell_type": "code",
   "execution_count": null,
   "metadata": {
    "scrolled": false
   },
   "outputs": [],
   "source": [
    "# получение результатов\n",
    "results = pd.DataFrame(grid_search.cv_results_)\n",
    "results.sort_values(by='rank_test_score', inplace=True)\n",
    "results.head()"
   ]
  },
  {
   "cell_type": "code",
   "execution_count": null,
   "metadata": {},
   "outputs": [],
   "source": [
    "# выбор лучшей модели DecisionTreeRegressor\n",
    "best_tree = results[results['param_models'].astype('str').str.contains('Decision')].iloc[0]\n",
    "best_tree"
   ]
  },
  {
   "cell_type": "code",
   "execution_count": null,
   "metadata": {
    "scrolled": true
   },
   "outputs": [],
   "source": [
    "# выбор лучшей модели LGBMRegressor\n",
    "best_lgbm = results[results['param_models'].astype('str').str.contains('LGBM')].iloc[0]\n",
    "best_lgbm"
   ]
  },
  {
   "cell_type": "markdown",
   "metadata": {},
   "source": [
    "**Анализ времени обучения (mean_fit_time):**\n",
    "- DecisionTreeRegressor - 0.82 секунды\n",
    "- LGBMRegressor - 5.06 секунды\n",
    "\n",
    "**Анализ времени предсказания (mean_score_time):**\n",
    "- DecisionTreeRegressor - 52 миллисекунды\n",
    "- LGBMRegressor - 484 миллисекунды\n",
    "\n",
    "**Анализ качества моделей (mean_test_score)**\n",
    "- Метрика лучшей модели DecisionTreeRegressor на тестовой выборке: 2185.94\n",
    "- Метрика лучшей модели LGBMRegressor на тестовой выборке: 1895.89"
   ]
  },
  {
   "cell_type": "markdown",
   "metadata": {},
   "source": [
    "<a id='section_id6'></a>\n",
    "## Шаг 6. Выбор лучшей модели\n",
    "[к содержанию](#section_id)"
   ]
  },
  {
   "cell_type": "markdown",
   "metadata": {},
   "source": [
    "С точки зрения заказчика лучшими характеристиками обладает модель:\n",
    "\n",
    "    mean_fit_time                                                           0.823442\n",
    "    mean_score_time                                                         0.052086\n",
    "    param_models                              DecisionTreeRegressor(random_state=42)\n",
    "    mean_test_score                                                     -2185.941665\n",
    "    rank_test_score                                                                7\n",
    "\n",
    "Модель DecisionTreeRegressor побеждает в сравнении с LGBMRegressor в плане скорости обучения и предсказания, и незначительно проигрывает в качестве."
   ]
  },
  {
   "cell_type": "code",
   "execution_count": null,
   "metadata": {},
   "outputs": [],
   "source": [
    "# трансформация данных\n",
    "grid_search.best_estimator_.named_steps['preprocessor'].fit(X_train, y_train)\n",
    "X_train_transformed = grid_search.best_estimator_.named_steps['preprocessor'].transform(X_train)\n",
    "X_test_transformed = grid_search.best_estimator_.named_steps['preprocessor'].transform(X_test)"
   ]
  },
  {
   "cell_type": "code",
   "execution_count": null,
   "metadata": {},
   "outputs": [],
   "source": [
    "# запись лучшей модели в переменную\n",
    "best_tree_model = results.loc[28, 'param_models']"
   ]
  },
  {
   "cell_type": "code",
   "execution_count": null,
   "metadata": {},
   "outputs": [],
   "source": [
    "# обучение лучшей модели\n",
    "best_tree_model.fit(X_train_transformed, y_train)"
   ]
  },
  {
   "cell_type": "code",
   "execution_count": null,
   "metadata": {},
   "outputs": [],
   "source": [
    "# расчет метрики на тестовой выборке для LGBMRegressor\n",
    "y_test_pred_lgbm = best_tree_model.predict(X_test_transformed)\n",
    "print('Метрика лучшей модели LGBMRegressor на тестовой выборке:', \n",
    "      mean_squared_error(y_test, y_test_pred_lgbm, squared=False))"
   ]
  },
  {
   "cell_type": "markdown",
   "metadata": {},
   "source": [
    "<a id='section_id7'></a>\n",
    "## Общий вывод\n",
    "[к содержанию](#section_id)"
   ]
  },
  {
   "cell_type": "markdown",
   "metadata": {},
   "source": [
    "В ходе выполнения проекта была решена задача регрессии по прогнозированию стоимости подержанных автомобилей на основе данных.\n",
    "\n",
    "Была выполнена предобработка данных:\n",
    "- удалены неинформативные признаки: registration_month, date_crawled, date_created, number_of_pictures, postal_code, last_seen\n",
    "- заполнены пропуски категориальных признаков категориями 'other' и 'unknown'\n",
    "- в ходе корреляционного анализа обнаружена мультиколинеарность между признаками 'brand' и 'model'\n",
    "\n",
    "С помощью пайплайна были подобраны лучшие параметры для моделей трёх классов: DecisionTreeRegressor, LGBMRegressor. Для оценки качества использовалась метрика RMSE.\n",
    "\n",
    "Выбор о рекомендации заказчику модели был сделан в пользу скорости обучения и предсказания модели. На тестовых данных лучшая модель DecisionTreeRegressor показала допустимое значение метрики RMSE в 2136.52."
   ]
  }
 ],
 "metadata": {
  "ExecuteTimeLog": [
   {
    "duration": 79,
    "start_time": "2024-12-04T19:43:25.463Z"
   },
   {
    "duration": 61,
    "start_time": "2024-12-04T19:44:01.643Z"
   },
   {
    "duration": 63,
    "start_time": "2024-12-04T19:44:34.167Z"
   },
   {
    "duration": 93,
    "start_time": "2024-12-04T19:45:03.683Z"
   },
   {
    "duration": 57,
    "start_time": "2024-12-04T19:45:27.239Z"
   },
   {
    "duration": 565,
    "start_time": "2024-12-04T19:51:51.383Z"
   },
   {
    "duration": 1530,
    "start_time": "2024-12-04T19:52:50.425Z"
   },
   {
    "duration": 1203,
    "start_time": "2024-12-04T19:53:02.620Z"
   },
   {
    "duration": 263,
    "start_time": "2024-12-04T19:53:57.800Z"
   },
   {
    "duration": 4,
    "start_time": "2024-12-04T19:54:29.472Z"
   },
   {
    "duration": 1394,
    "start_time": "2024-12-04T19:54:53.524Z"
   },
   {
    "duration": 5916,
    "start_time": "2024-12-04T19:58:36.271Z"
   },
   {
    "duration": 1517,
    "start_time": "2024-12-04T19:59:20.565Z"
   },
   {
    "duration": 39244,
    "start_time": "2024-12-04T20:00:54.676Z"
   },
   {
    "duration": 513,
    "start_time": "2024-12-04T20:05:35.490Z"
   },
   {
    "duration": 1205,
    "start_time": "2024-12-04T20:05:36.006Z"
   },
   {
    "duration": 3,
    "start_time": "2024-12-04T20:05:37.214Z"
   },
   {
    "duration": 1485,
    "start_time": "2024-12-04T20:05:37.219Z"
   },
   {
    "duration": 52,
    "start_time": "2024-12-06T16:48:34.201Z"
   },
   {
    "duration": 436,
    "start_time": "2024-12-06T16:51:45.940Z"
   },
   {
    "duration": 1345,
    "start_time": "2024-12-06T16:51:48.703Z"
   },
   {
    "duration": 5,
    "start_time": "2024-12-06T16:51:50.703Z"
   },
   {
    "duration": 405,
    "start_time": "2024-12-06T16:51:59.598Z"
   },
   {
    "duration": 957,
    "start_time": "2024-12-06T16:52:00.005Z"
   },
   {
    "duration": 3,
    "start_time": "2024-12-06T16:52:00.964Z"
   },
   {
    "duration": 1254,
    "start_time": "2024-12-06T16:52:00.969Z"
   },
   {
    "duration": 83,
    "start_time": "2024-12-06T16:52:02.226Z"
   },
   {
    "duration": 0,
    "start_time": "2024-12-06T16:52:02.311Z"
   },
   {
    "duration": 38,
    "start_time": "2024-12-06T16:52:12.818Z"
   },
   {
    "duration": 384,
    "start_time": "2024-12-06T16:58:17.209Z"
   },
   {
    "duration": 1005,
    "start_time": "2024-12-06T16:58:17.595Z"
   },
   {
    "duration": 3,
    "start_time": "2024-12-06T16:58:18.604Z"
   },
   {
    "duration": 1244,
    "start_time": "2024-12-06T16:58:18.609Z"
   },
   {
    "duration": 31,
    "start_time": "2024-12-06T16:58:19.855Z"
   },
   {
    "duration": 10,
    "start_time": "2024-12-06T16:58:19.887Z"
   },
   {
    "duration": 111,
    "start_time": "2024-12-06T16:59:59.419Z"
   },
   {
    "duration": 67,
    "start_time": "2024-12-06T17:03:59.094Z"
   },
   {
    "duration": 188,
    "start_time": "2024-12-06T17:04:05.322Z"
   },
   {
    "duration": 118,
    "start_time": "2024-12-06T17:04:11.078Z"
   },
   {
    "duration": 223,
    "start_time": "2024-12-06T17:04:39.758Z"
   },
   {
    "duration": 234,
    "start_time": "2024-12-06T17:05:18.912Z"
   },
   {
    "duration": 231,
    "start_time": "2024-12-06T17:05:59.430Z"
   },
   {
    "duration": 224,
    "start_time": "2024-12-06T17:06:12.415Z"
   },
   {
    "duration": 228,
    "start_time": "2024-12-06T17:06:43.532Z"
   },
   {
    "duration": 225,
    "start_time": "2024-12-06T17:07:06.109Z"
   },
   {
    "duration": 373,
    "start_time": "2024-12-06T17:07:12.611Z"
   },
   {
    "duration": 985,
    "start_time": "2024-12-06T17:07:12.986Z"
   },
   {
    "duration": 4,
    "start_time": "2024-12-06T17:07:13.972Z"
   },
   {
    "duration": 1239,
    "start_time": "2024-12-06T17:07:13.977Z"
   },
   {
    "duration": 31,
    "start_time": "2024-12-06T17:07:15.219Z"
   },
   {
    "duration": 251,
    "start_time": "2024-12-06T17:07:15.251Z"
   },
   {
    "duration": 2,
    "start_time": "2024-12-06T17:07:15.503Z"
   },
   {
    "duration": 4,
    "start_time": "2024-12-06T17:07:15.507Z"
   },
   {
    "duration": 221,
    "start_time": "2024-12-06T17:07:36.519Z"
   },
   {
    "duration": 223,
    "start_time": "2024-12-06T17:07:54.912Z"
   },
   {
    "duration": 280,
    "start_time": "2024-12-06T17:08:35.219Z"
   },
   {
    "duration": 219,
    "start_time": "2024-12-06T17:09:18.423Z"
   },
   {
    "duration": 227,
    "start_time": "2024-12-06T17:11:20.225Z"
   },
   {
    "duration": 33,
    "start_time": "2024-12-06T18:15:51.165Z"
   },
   {
    "duration": 46,
    "start_time": "2024-12-06T18:15:57.674Z"
   },
   {
    "duration": 118,
    "start_time": "2024-12-06T18:23:51.632Z"
   },
   {
    "duration": 235,
    "start_time": "2024-12-06T18:24:40.979Z"
   },
   {
    "duration": 422,
    "start_time": "2024-12-06T18:25:57.016Z"
   },
   {
    "duration": 951,
    "start_time": "2024-12-06T18:25:57.440Z"
   },
   {
    "duration": 3,
    "start_time": "2024-12-06T18:25:58.393Z"
   },
   {
    "duration": 1278,
    "start_time": "2024-12-06T18:25:58.398Z"
   },
   {
    "duration": 30,
    "start_time": "2024-12-06T18:25:59.679Z"
   },
   {
    "duration": 236,
    "start_time": "2024-12-06T18:25:59.711Z"
   },
   {
    "duration": 235,
    "start_time": "2024-12-06T18:25:59.949Z"
   },
   {
    "duration": 3,
    "start_time": "2024-12-06T18:26:00.186Z"
   },
   {
    "duration": 39,
    "start_time": "2024-12-06T18:26:00.190Z"
   },
   {
    "duration": 5,
    "start_time": "2024-12-06T18:27:54.162Z"
   },
   {
    "duration": 118,
    "start_time": "2024-12-06T18:28:14.201Z"
   },
   {
    "duration": 168,
    "start_time": "2024-12-06T18:28:22.888Z"
   },
   {
    "duration": 172,
    "start_time": "2024-12-06T18:33:18.258Z"
   },
   {
    "duration": 207,
    "start_time": "2024-12-06T18:33:33.698Z"
   },
   {
    "duration": 175,
    "start_time": "2024-12-06T18:35:12.377Z"
   },
   {
    "duration": 110,
    "start_time": "2024-12-06T18:35:19.284Z"
   },
   {
    "duration": 123,
    "start_time": "2024-12-06T18:35:37.863Z"
   },
   {
    "duration": 129,
    "start_time": "2024-12-06T18:36:00.962Z"
   },
   {
    "duration": 176,
    "start_time": "2024-12-06T18:36:14.959Z"
   },
   {
    "duration": 174,
    "start_time": "2024-12-06T18:36:21.473Z"
   },
   {
    "duration": 111,
    "start_time": "2024-12-06T18:36:28.251Z"
   },
   {
    "duration": 143,
    "start_time": "2024-12-06T18:36:47.205Z"
   },
   {
    "duration": 117,
    "start_time": "2024-12-06T18:56:26.351Z"
   },
   {
    "duration": 111,
    "start_time": "2024-12-06T18:57:04.254Z"
   },
   {
    "duration": 143,
    "start_time": "2024-12-06T18:57:10.646Z"
   },
   {
    "duration": 167,
    "start_time": "2024-12-06T18:57:58.807Z"
   },
   {
    "duration": 135,
    "start_time": "2024-12-06T18:58:11.596Z"
   },
   {
    "duration": 38,
    "start_time": "2024-12-06T19:05:00.213Z"
   },
   {
    "duration": 20,
    "start_time": "2024-12-06T19:14:08.647Z"
   },
   {
    "duration": 256,
    "start_time": "2024-12-06T19:15:05.034Z"
   },
   {
    "duration": 11,
    "start_time": "2024-12-06T19:15:18.076Z"
   },
   {
    "duration": 10,
    "start_time": "2024-12-06T19:15:23.272Z"
   },
   {
    "duration": 377,
    "start_time": "2024-12-06T19:15:37.121Z"
   },
   {
    "duration": 988,
    "start_time": "2024-12-06T19:15:37.500Z"
   },
   {
    "duration": 3,
    "start_time": "2024-12-06T19:15:38.490Z"
   },
   {
    "duration": 1220,
    "start_time": "2024-12-06T19:15:38.495Z"
   },
   {
    "duration": 26,
    "start_time": "2024-12-06T19:15:39.717Z"
   },
   {
    "duration": 281,
    "start_time": "2024-12-06T19:15:39.745Z"
   },
   {
    "duration": 138,
    "start_time": "2024-12-06T19:15:40.027Z"
   },
   {
    "duration": 71,
    "start_time": "2024-12-06T19:15:40.167Z"
   },
   {
    "duration": 0,
    "start_time": "2024-12-06T19:15:40.239Z"
   },
   {
    "duration": 222,
    "start_time": "2024-12-06T19:17:40.894Z"
   },
   {
    "duration": 383,
    "start_time": "2024-12-06T19:22:35.509Z"
   },
   {
    "duration": 943,
    "start_time": "2024-12-06T19:22:35.895Z"
   },
   {
    "duration": 4,
    "start_time": "2024-12-06T19:22:36.839Z"
   },
   {
    "duration": 1192,
    "start_time": "2024-12-06T19:22:36.845Z"
   },
   {
    "duration": 33,
    "start_time": "2024-12-06T19:22:38.038Z"
   },
   {
    "duration": 233,
    "start_time": "2024-12-06T19:22:38.073Z"
   },
   {
    "duration": 145,
    "start_time": "2024-12-06T19:22:38.308Z"
   },
   {
    "duration": 296,
    "start_time": "2024-12-06T19:22:38.455Z"
   },
   {
    "duration": 3,
    "start_time": "2024-12-06T19:22:38.753Z"
   },
   {
    "duration": 171,
    "start_time": "2024-12-06T19:23:05.700Z"
   },
   {
    "duration": 154,
    "start_time": "2024-12-06T19:23:39.519Z"
   },
   {
    "duration": 130,
    "start_time": "2024-12-06T19:23:45.552Z"
   },
   {
    "duration": 912,
    "start_time": "2024-12-06T19:25:47.111Z"
   },
   {
    "duration": 392,
    "start_time": "2024-12-06T19:25:51.792Z"
   },
   {
    "duration": 931,
    "start_time": "2024-12-06T19:25:52.186Z"
   },
   {
    "duration": 4,
    "start_time": "2024-12-06T19:25:53.118Z"
   },
   {
    "duration": 1742,
    "start_time": "2024-12-06T19:25:53.123Z"
   },
   {
    "duration": 30,
    "start_time": "2024-12-06T19:25:54.867Z"
   },
   {
    "duration": 462,
    "start_time": "2024-12-06T19:25:54.901Z"
   },
   {
    "duration": 297,
    "start_time": "2024-12-06T19:25:55.365Z"
   },
   {
    "duration": 414,
    "start_time": "2024-12-06T19:25:55.664Z"
   },
   {
    "duration": 125,
    "start_time": "2024-12-06T19:25:56.080Z"
   },
   {
    "duration": 1111,
    "start_time": "2024-12-06T19:32:36.418Z"
   },
   {
    "duration": 15,
    "start_time": "2024-12-06T19:32:54.976Z"
   },
   {
    "duration": 1106,
    "start_time": "2024-12-06T19:34:22.356Z"
   },
   {
    "duration": 427,
    "start_time": "2024-12-06T19:34:27.930Z"
   },
   {
    "duration": 1172,
    "start_time": "2024-12-06T19:34:28.359Z"
   },
   {
    "duration": 4,
    "start_time": "2024-12-06T19:34:29.532Z"
   },
   {
    "duration": 601,
    "start_time": "2024-12-06T19:34:29.537Z"
   },
   {
    "duration": 38,
    "start_time": "2024-12-06T19:34:30.140Z"
   },
   {
    "duration": 242,
    "start_time": "2024-12-06T19:34:30.180Z"
   },
   {
    "duration": 124,
    "start_time": "2024-12-06T19:34:30.424Z"
   },
   {
    "duration": 231,
    "start_time": "2024-12-06T19:34:30.550Z"
   },
   {
    "duration": 79,
    "start_time": "2024-12-06T19:34:30.784Z"
   },
   {
    "duration": 434,
    "start_time": "2024-12-06T19:35:26.052Z"
   },
   {
    "duration": 1132,
    "start_time": "2024-12-06T19:35:26.488Z"
   },
   {
    "duration": 3,
    "start_time": "2024-12-06T19:35:27.622Z"
   },
   {
    "duration": 848,
    "start_time": "2024-12-06T19:35:27.627Z"
   },
   {
    "duration": 29,
    "start_time": "2024-12-06T19:35:28.476Z"
   },
   {
    "duration": 407,
    "start_time": "2024-12-06T19:35:28.563Z"
   },
   {
    "duration": 309,
    "start_time": "2024-12-06T19:35:28.972Z"
   },
   {
    "duration": 301,
    "start_time": "2024-12-06T19:35:29.282Z"
   },
   {
    "duration": 78,
    "start_time": "2024-12-06T19:35:29.585Z"
   },
   {
    "duration": 3,
    "start_time": "2024-12-06T19:41:16.762Z"
   },
   {
    "duration": 1120,
    "start_time": "2024-12-06T19:41:16.767Z"
   },
   {
    "duration": 3,
    "start_time": "2024-12-06T19:41:17.889Z"
   },
   {
    "duration": 551,
    "start_time": "2024-12-06T19:41:17.894Z"
   },
   {
    "duration": 25,
    "start_time": "2024-12-06T19:41:18.447Z"
   },
   {
    "duration": 212,
    "start_time": "2024-12-06T19:41:18.474Z"
   },
   {
    "duration": 120,
    "start_time": "2024-12-06T19:41:18.687Z"
   },
   {
    "duration": 69,
    "start_time": "2024-12-06T19:41:18.809Z"
   },
   {
    "duration": 45,
    "start_time": "2024-12-06T19:43:23.898Z"
   },
   {
    "duration": 146,
    "start_time": "2024-12-06T19:43:27.626Z"
   },
   {
    "duration": 49,
    "start_time": "2024-12-06T19:45:59.300Z"
   },
   {
    "duration": 4,
    "start_time": "2024-12-06T19:47:18.550Z"
   },
   {
    "duration": 10,
    "start_time": "2024-12-06T19:47:32.655Z"
   },
   {
    "duration": 122,
    "start_time": "2024-12-06T19:48:26.760Z"
   },
   {
    "duration": 124,
    "start_time": "2024-12-06T19:48:33.626Z"
   },
   {
    "duration": 130,
    "start_time": "2024-12-06T19:49:34.043Z"
   },
   {
    "duration": 40,
    "start_time": "2024-12-06T20:03:27.512Z"
   },
   {
    "duration": 1323,
    "start_time": "2024-12-06T20:03:45.315Z"
   },
   {
    "duration": 3,
    "start_time": "2024-12-06T20:04:13.587Z"
   },
   {
    "duration": 571,
    "start_time": "2024-12-06T20:04:14.620Z"
   },
   {
    "duration": 1106,
    "start_time": "2024-12-06T20:05:34.645Z"
   },
   {
    "duration": 4,
    "start_time": "2024-12-06T20:05:39.787Z"
   },
   {
    "duration": 539,
    "start_time": "2024-12-06T20:05:46.757Z"
   },
   {
    "duration": 17,
    "start_time": "2024-12-06T20:08:32.840Z"
   },
   {
    "duration": 20,
    "start_time": "2024-12-06T20:08:41.876Z"
   },
   {
    "duration": 403,
    "start_time": "2024-12-06T20:09:10.785Z"
   },
   {
    "duration": 1144,
    "start_time": "2024-12-06T20:09:11.190Z"
   },
   {
    "duration": 4,
    "start_time": "2024-12-06T20:09:12.336Z"
   },
   {
    "duration": 580,
    "start_time": "2024-12-06T20:09:12.342Z"
   },
   {
    "duration": 27,
    "start_time": "2024-12-06T20:09:12.924Z"
   },
   {
    "duration": 202,
    "start_time": "2024-12-06T20:09:12.952Z"
   },
   {
    "duration": 135,
    "start_time": "2024-12-06T20:09:13.155Z"
   },
   {
    "duration": 74,
    "start_time": "2024-12-06T20:09:13.291Z"
   },
   {
    "duration": 164,
    "start_time": "2024-12-06T20:09:13.367Z"
   },
   {
    "duration": 5,
    "start_time": "2024-12-06T20:09:13.534Z"
   },
   {
    "duration": 1490,
    "start_time": "2024-12-07T06:52:16.970Z"
   },
   {
    "duration": 6,
    "start_time": "2024-12-07T07:30:23.482Z"
   },
   {
    "duration": 108,
    "start_time": "2024-12-07T07:33:31.125Z"
   },
   {
    "duration": 3,
    "start_time": "2024-12-07T07:33:37.212Z"
   },
   {
    "duration": 1475,
    "start_time": "2024-12-07T07:33:37.217Z"
   },
   {
    "duration": 3,
    "start_time": "2024-12-07T07:33:38.693Z"
   },
   {
    "duration": 583,
    "start_time": "2024-12-07T07:33:38.698Z"
   },
   {
    "duration": 4,
    "start_time": "2024-12-07T07:33:39.283Z"
   },
   {
    "duration": 4,
    "start_time": "2024-12-07T07:46:46.816Z"
   },
   {
    "duration": 16,
    "start_time": "2024-12-07T07:47:59.733Z"
   },
   {
    "duration": 11,
    "start_time": "2024-12-07T07:48:42.250Z"
   },
   {
    "duration": 3,
    "start_time": "2024-12-07T07:49:06.198Z"
   },
   {
    "duration": 3,
    "start_time": "2024-12-07T07:49:07.072Z"
   },
   {
    "duration": 4,
    "start_time": "2024-12-07T07:49:31.159Z"
   },
   {
    "duration": 4,
    "start_time": "2024-12-07T07:49:32.197Z"
   },
   {
    "duration": 3,
    "start_time": "2024-12-07T07:49:42.667Z"
   },
   {
    "duration": 3,
    "start_time": "2024-12-07T07:51:37.379Z"
   },
   {
    "duration": 1100,
    "start_time": "2024-12-07T07:51:39.358Z"
   },
   {
    "duration": 3,
    "start_time": "2024-12-07T07:51:43.546Z"
   },
   {
    "duration": 3,
    "start_time": "2024-12-07T07:51:44.251Z"
   },
   {
    "duration": 3,
    "start_time": "2024-12-07T07:51:49.083Z"
   },
   {
    "duration": 557,
    "start_time": "2024-12-07T07:51:50.326Z"
   },
   {
    "duration": 16,
    "start_time": "2024-12-07T07:52:53.070Z"
   },
   {
    "duration": 195,
    "start_time": "2024-12-07T07:52:57.510Z"
   },
   {
    "duration": 117,
    "start_time": "2024-12-07T07:53:04.487Z"
   },
   {
    "duration": 55,
    "start_time": "2024-12-07T07:54:06.768Z"
   },
   {
    "duration": 165,
    "start_time": "2024-12-07T07:54:14.797Z"
   },
   {
    "duration": 5,
    "start_time": "2024-12-07T07:54:49.163Z"
   },
   {
    "duration": 9,
    "start_time": "2024-12-07T07:54:49.947Z"
   },
   {
    "duration": 10,
    "start_time": "2024-12-07T07:54:55.497Z"
   },
   {
    "duration": 78,
    "start_time": "2024-12-07T08:00:15.736Z"
   },
   {
    "duration": 529,
    "start_time": "2024-12-07T08:02:34.487Z"
   },
   {
    "duration": 19,
    "start_time": "2024-12-07T08:07:48.991Z"
   },
   {
    "duration": 514,
    "start_time": "2024-12-07T08:07:55.533Z"
   },
   {
    "duration": 15,
    "start_time": "2024-12-07T08:09:06.169Z"
   },
   {
    "duration": 22,
    "start_time": "2024-12-07T08:09:30.292Z"
   },
   {
    "duration": 15,
    "start_time": "2024-12-07T08:09:31.591Z"
   },
   {
    "duration": 553,
    "start_time": "2024-12-07T08:09:55.245Z"
   },
   {
    "duration": 3,
    "start_time": "2024-12-07T08:10:23.539Z"
   },
   {
    "duration": 1244,
    "start_time": "2024-12-07T08:10:23.544Z"
   },
   {
    "duration": 4,
    "start_time": "2024-12-07T08:10:24.789Z"
   },
   {
    "duration": 20,
    "start_time": "2024-12-07T08:10:24.795Z"
   },
   {
    "duration": 27,
    "start_time": "2024-12-07T08:10:24.817Z"
   },
   {
    "duration": 629,
    "start_time": "2024-12-07T08:10:24.846Z"
   },
   {
    "duration": 15,
    "start_time": "2024-12-07T08:10:25.477Z"
   },
   {
    "duration": 226,
    "start_time": "2024-12-07T08:10:25.494Z"
   },
   {
    "duration": 134,
    "start_time": "2024-12-07T08:10:25.722Z"
   },
   {
    "duration": 58,
    "start_time": "2024-12-07T08:10:25.858Z"
   },
   {
    "duration": 199,
    "start_time": "2024-12-07T08:10:25.918Z"
   },
   {
    "duration": 4,
    "start_time": "2024-12-07T08:10:26.119Z"
   },
   {
    "duration": 17,
    "start_time": "2024-12-07T08:10:26.125Z"
   },
   {
    "duration": 529,
    "start_time": "2024-12-07T08:10:26.145Z"
   },
   {
    "duration": 18,
    "start_time": "2024-12-07T08:10:26.676Z"
   },
   {
    "duration": 12,
    "start_time": "2024-12-07T08:10:26.696Z"
   },
   {
    "duration": 653,
    "start_time": "2024-12-07T08:10:35.008Z"
   },
   {
    "duration": 24,
    "start_time": "2024-12-07T08:11:50.007Z"
   },
   {
    "duration": 517,
    "start_time": "2024-12-07T08:11:53.220Z"
   },
   {
    "duration": 2,
    "start_time": "2024-12-07T08:12:44.287Z"
   },
   {
    "duration": 1231,
    "start_time": "2024-12-07T08:12:44.292Z"
   },
   {
    "duration": 4,
    "start_time": "2024-12-07T08:12:45.525Z"
   },
   {
    "duration": 9,
    "start_time": "2024-12-07T08:12:45.530Z"
   },
   {
    "duration": 27,
    "start_time": "2024-12-07T08:12:45.541Z"
   },
   {
    "duration": 661,
    "start_time": "2024-12-07T08:12:45.570Z"
   },
   {
    "duration": 28,
    "start_time": "2024-12-07T08:12:46.233Z"
   },
   {
    "duration": 228,
    "start_time": "2024-12-07T08:12:46.263Z"
   },
   {
    "duration": 130,
    "start_time": "2024-12-07T08:12:46.493Z"
   },
   {
    "duration": 68,
    "start_time": "2024-12-07T08:12:46.624Z"
   },
   {
    "duration": 164,
    "start_time": "2024-12-07T08:12:46.694Z"
   },
   {
    "duration": 7,
    "start_time": "2024-12-07T08:12:46.860Z"
   },
   {
    "duration": 8,
    "start_time": "2024-12-07T08:12:46.870Z"
   },
   {
    "duration": 556,
    "start_time": "2024-12-07T08:12:46.879Z"
   },
   {
    "duration": 69,
    "start_time": "2024-12-07T08:18:26.602Z"
   },
   {
    "duration": 69,
    "start_time": "2024-12-07T08:18:43.779Z"
   },
   {
    "duration": 71,
    "start_time": "2024-12-07T08:18:54.768Z"
   },
   {
    "duration": 71,
    "start_time": "2024-12-07T08:19:04.324Z"
   },
   {
    "duration": 28,
    "start_time": "2024-12-07T08:19:29.497Z"
   },
   {
    "duration": 73,
    "start_time": "2024-12-07T08:19:36.428Z"
   },
   {
    "duration": 24,
    "start_time": "2024-12-07T08:20:47.780Z"
   },
   {
    "duration": 62,
    "start_time": "2024-12-07T08:20:50.771Z"
   },
   {
    "duration": 25,
    "start_time": "2024-12-07T08:21:02.075Z"
   },
   {
    "duration": 66,
    "start_time": "2024-12-07T08:21:04.154Z"
   },
   {
    "duration": 32,
    "start_time": "2024-12-07T08:21:13.205Z"
   },
   {
    "duration": 66,
    "start_time": "2024-12-07T08:21:15.074Z"
   },
   {
    "duration": 3,
    "start_time": "2024-12-07T08:21:59.886Z"
   },
   {
    "duration": 1230,
    "start_time": "2024-12-07T08:21:59.891Z"
   },
   {
    "duration": 5,
    "start_time": "2024-12-07T08:22:01.123Z"
   },
   {
    "duration": 25,
    "start_time": "2024-12-07T08:22:01.130Z"
   },
   {
    "duration": 19,
    "start_time": "2024-12-07T08:22:01.157Z"
   },
   {
    "duration": 617,
    "start_time": "2024-12-07T08:22:01.178Z"
   },
   {
    "duration": 16,
    "start_time": "2024-12-07T08:22:01.797Z"
   },
   {
    "duration": 238,
    "start_time": "2024-12-07T08:22:01.815Z"
   },
   {
    "duration": 136,
    "start_time": "2024-12-07T08:22:02.055Z"
   },
   {
    "duration": 67,
    "start_time": "2024-12-07T08:22:02.193Z"
   },
   {
    "duration": 165,
    "start_time": "2024-12-07T08:22:02.262Z"
   },
   {
    "duration": 5,
    "start_time": "2024-12-07T08:22:02.428Z"
   },
   {
    "duration": 86,
    "start_time": "2024-12-07T08:22:02.435Z"
   },
   {
    "duration": 556,
    "start_time": "2024-12-07T08:22:02.522Z"
   },
   {
    "duration": 73,
    "start_time": "2024-12-07T08:22:03.080Z"
   },
   {
    "duration": 25,
    "start_time": "2024-12-07T08:22:03.154Z"
   },
   {
    "duration": 58,
    "start_time": "2024-12-07T08:22:23.641Z"
   },
   {
    "duration": 37,
    "start_time": "2024-12-07T08:23:23.051Z"
   },
   {
    "duration": 35,
    "start_time": "2024-12-07T08:23:45.598Z"
   },
   {
    "duration": 87,
    "start_time": "2024-12-07T08:23:54.809Z"
   },
   {
    "duration": 75,
    "start_time": "2024-12-07T08:24:05.567Z"
   },
   {
    "duration": 3,
    "start_time": "2024-12-07T08:24:43.217Z"
   },
   {
    "duration": 1205,
    "start_time": "2024-12-07T08:24:43.221Z"
   },
   {
    "duration": 4,
    "start_time": "2024-12-07T08:24:44.427Z"
   },
   {
    "duration": 5,
    "start_time": "2024-12-07T08:24:44.433Z"
   },
   {
    "duration": 14,
    "start_time": "2024-12-07T08:24:44.439Z"
   },
   {
    "duration": 633,
    "start_time": "2024-12-07T08:24:44.455Z"
   },
   {
    "duration": 17,
    "start_time": "2024-12-07T08:24:45.089Z"
   },
   {
    "duration": 234,
    "start_time": "2024-12-07T08:24:45.107Z"
   },
   {
    "duration": 135,
    "start_time": "2024-12-07T08:24:45.343Z"
   },
   {
    "duration": 47,
    "start_time": "2024-12-07T08:24:45.480Z"
   },
   {
    "duration": 183,
    "start_time": "2024-12-07T08:24:45.528Z"
   },
   {
    "duration": 5,
    "start_time": "2024-12-07T08:24:45.713Z"
   },
   {
    "duration": 20,
    "start_time": "2024-12-07T08:24:45.719Z"
   },
   {
    "duration": 556,
    "start_time": "2024-12-07T08:24:45.741Z"
   },
   {
    "duration": 7,
    "start_time": "2024-12-07T08:25:07.416Z"
   },
   {
    "duration": 27,
    "start_time": "2024-12-07T08:25:16.205Z"
   },
   {
    "duration": 19,
    "start_time": "2024-12-07T08:26:54.965Z"
   },
   {
    "duration": 9,
    "start_time": "2024-12-07T08:28:00.437Z"
   },
   {
    "duration": 15,
    "start_time": "2024-12-07T08:28:12.023Z"
   },
   {
    "duration": 9,
    "start_time": "2024-12-07T08:28:35.027Z"
   },
   {
    "duration": 15,
    "start_time": "2024-12-07T08:28:47.346Z"
   },
   {
    "duration": 18,
    "start_time": "2024-12-07T08:29:56.405Z"
   },
   {
    "duration": 2857,
    "start_time": "2024-12-07T08:31:29.602Z"
   },
   {
    "duration": 37,
    "start_time": "2024-12-07T08:31:48.024Z"
   },
   {
    "duration": 39,
    "start_time": "2024-12-07T08:32:26.363Z"
   },
   {
    "duration": 17,
    "start_time": "2024-12-07T08:37:10.917Z"
   },
   {
    "duration": 610,
    "start_time": "2024-12-07T08:37:14.733Z"
   },
   {
    "duration": 29,
    "start_time": "2024-12-07T08:37:21.327Z"
   },
   {
    "duration": 518,
    "start_time": "2024-12-07T08:37:23.494Z"
   },
   {
    "duration": 9,
    "start_time": "2024-12-07T08:38:07.591Z"
   },
   {
    "duration": 123,
    "start_time": "2024-12-07T08:38:14.455Z"
   },
   {
    "duration": 19,
    "start_time": "2024-12-07T08:38:36.032Z"
   },
   {
    "duration": 479,
    "start_time": "2024-12-07T08:38:38.129Z"
   },
   {
    "duration": 19,
    "start_time": "2024-12-07T08:39:18.452Z"
   },
   {
    "duration": 47,
    "start_time": "2024-12-07T08:40:21.782Z"
   },
   {
    "duration": 56,
    "start_time": "2024-12-07T08:40:33.803Z"
   },
   {
    "duration": 55,
    "start_time": "2024-12-07T08:40:41.691Z"
   },
   {
    "duration": 67,
    "start_time": "2024-12-07T08:41:09.641Z"
   },
   {
    "duration": 72,
    "start_time": "2024-12-07T08:41:18.843Z"
   },
   {
    "duration": 68,
    "start_time": "2024-12-07T08:41:26.652Z"
   },
   {
    "duration": 4,
    "start_time": "2024-12-07T08:43:00.862Z"
   },
   {
    "duration": 1145,
    "start_time": "2024-12-07T08:43:00.868Z"
   },
   {
    "duration": 4,
    "start_time": "2024-12-07T08:43:02.014Z"
   },
   {
    "duration": 29,
    "start_time": "2024-12-07T08:43:02.020Z"
   },
   {
    "duration": 12,
    "start_time": "2024-12-07T08:43:02.051Z"
   },
   {
    "duration": 558,
    "start_time": "2024-12-07T08:43:02.065Z"
   },
   {
    "duration": 28,
    "start_time": "2024-12-07T08:43:02.624Z"
   },
   {
    "duration": 199,
    "start_time": "2024-12-07T08:43:02.654Z"
   },
   {
    "duration": 122,
    "start_time": "2024-12-07T08:43:02.855Z"
   },
   {
    "duration": 49,
    "start_time": "2024-12-07T08:43:02.978Z"
   },
   {
    "duration": 179,
    "start_time": "2024-12-07T08:43:03.029Z"
   },
   {
    "duration": 6,
    "start_time": "2024-12-07T08:43:03.211Z"
   },
   {
    "duration": 20,
    "start_time": "2024-12-07T08:43:03.220Z"
   },
   {
    "duration": 370,
    "start_time": "2024-12-07T08:43:03.243Z"
   },
   {
    "duration": 19,
    "start_time": "2024-12-07T08:43:03.615Z"
   },
   {
    "duration": 342,
    "start_time": "2024-12-07T08:43:55.042Z"
   },
   {
    "duration": 3,
    "start_time": "2024-12-07T08:44:02.256Z"
   },
   {
    "duration": 1108,
    "start_time": "2024-12-07T08:44:02.261Z"
   },
   {
    "duration": 4,
    "start_time": "2024-12-07T08:44:03.371Z"
   },
   {
    "duration": 37,
    "start_time": "2024-12-07T08:44:03.376Z"
   },
   {
    "duration": 4,
    "start_time": "2024-12-07T08:44:03.416Z"
   },
   {
    "duration": 629,
    "start_time": "2024-12-07T08:44:03.422Z"
   },
   {
    "duration": 16,
    "start_time": "2024-12-07T08:44:04.053Z"
   },
   {
    "duration": 210,
    "start_time": "2024-12-07T08:44:04.072Z"
   },
   {
    "duration": 121,
    "start_time": "2024-12-07T08:44:04.284Z"
   },
   {
    "duration": 74,
    "start_time": "2024-12-07T08:44:04.407Z"
   },
   {
    "duration": 151,
    "start_time": "2024-12-07T08:44:04.482Z"
   },
   {
    "duration": 5,
    "start_time": "2024-12-07T08:44:04.634Z"
   },
   {
    "duration": 25,
    "start_time": "2024-12-07T08:44:04.640Z"
   },
   {
    "duration": 338,
    "start_time": "2024-12-07T08:44:04.668Z"
   },
   {
    "duration": 18,
    "start_time": "2024-12-07T08:44:05.008Z"
   },
   {
    "duration": 4602,
    "start_time": "2024-12-07T08:46:41.286Z"
   },
   {
    "duration": 4553,
    "start_time": "2024-12-07T08:47:27.291Z"
   },
   {
    "duration": 2,
    "start_time": "2024-12-07T08:48:21.444Z"
   },
   {
    "duration": 10,
    "start_time": "2024-12-07T08:48:52.547Z"
   },
   {
    "duration": 3685,
    "start_time": "2024-12-07T08:49:15.344Z"
   },
   {
    "duration": 79,
    "start_time": "2024-12-07T08:49:19.952Z"
   },
   {
    "duration": 17,
    "start_time": "2024-12-07T08:49:39.490Z"
   },
   {
    "duration": 4597,
    "start_time": "2024-12-07T08:49:45.924Z"
   },
   {
    "duration": 4478,
    "start_time": "2024-12-07T08:50:21.065Z"
   },
   {
    "duration": 16,
    "start_time": "2024-12-07T09:12:30.525Z"
   },
   {
    "duration": 12,
    "start_time": "2024-12-07T09:12:43.189Z"
   },
   {
    "duration": 2,
    "start_time": "2024-12-07T09:19:59.279Z"
   },
   {
    "duration": 10,
    "start_time": "2024-12-07T09:20:35.448Z"
   },
   {
    "duration": 270,
    "start_time": "2024-12-07T09:21:27.504Z"
   },
   {
    "duration": 58,
    "start_time": "2024-12-07T09:21:32.980Z"
   },
   {
    "duration": 7,
    "start_time": "2024-12-07T09:33:43.373Z"
   },
   {
    "duration": 20,
    "start_time": "2024-12-07T09:36:01.467Z"
   },
   {
    "duration": 4,
    "start_time": "2024-12-07T09:36:10.618Z"
   },
   {
    "duration": 9,
    "start_time": "2024-12-07T09:38:53.452Z"
   },
   {
    "duration": 9,
    "start_time": "2024-12-07T09:41:45.528Z"
   },
   {
    "duration": 3,
    "start_time": "2024-12-07T09:41:54.720Z"
   },
   {
    "duration": 3,
    "start_time": "2024-12-07T09:42:01.440Z"
   },
   {
    "duration": 3,
    "start_time": "2024-12-07T09:42:03.624Z"
   },
   {
    "duration": 24,
    "start_time": "2024-12-07T09:44:49.611Z"
   },
   {
    "duration": 3,
    "start_time": "2024-12-07T09:45:13.618Z"
   },
   {
    "duration": 29,
    "start_time": "2024-12-07T09:49:17.865Z"
   },
   {
    "duration": 4,
    "start_time": "2024-12-07T09:55:03.611Z"
   },
   {
    "duration": 6,
    "start_time": "2024-12-07T15:51:37.913Z"
   },
   {
    "duration": 30,
    "start_time": "2024-12-07T15:53:40.651Z"
   },
   {
    "duration": 130,
    "start_time": "2024-12-07T15:53:49.930Z"
   },
   {
    "duration": 5,
    "start_time": "2024-12-07T15:53:56.683Z"
   },
   {
    "duration": 39,
    "start_time": "2024-12-07T15:55:53.944Z"
   },
   {
    "duration": 4,
    "start_time": "2024-12-07T15:56:00.073Z"
   },
   {
    "duration": 10,
    "start_time": "2024-12-07T15:56:04.407Z"
   },
   {
    "duration": 3,
    "start_time": "2024-12-07T15:57:25.066Z"
   },
   {
    "duration": 5,
    "start_time": "2024-12-07T15:57:59.392Z"
   },
   {
    "duration": 101276,
    "start_time": "2024-12-07T15:58:16.350Z"
   },
   {
    "duration": 2696,
    "start_time": "2024-12-07T16:00:01.786Z"
   },
   {
    "duration": 1526,
    "start_time": "2024-12-07T16:00:04.485Z"
   },
   {
    "duration": 2,
    "start_time": "2024-12-07T16:00:06.013Z"
   },
   {
    "duration": 1286,
    "start_time": "2024-12-07T16:00:06.017Z"
   },
   {
    "duration": 4,
    "start_time": "2024-12-07T16:00:07.306Z"
   },
   {
    "duration": 24,
    "start_time": "2024-12-07T16:00:07.312Z"
   },
   {
    "duration": 4,
    "start_time": "2024-12-07T16:00:07.337Z"
   },
   {
    "duration": 613,
    "start_time": "2024-12-07T16:00:07.343Z"
   },
   {
    "duration": 27,
    "start_time": "2024-12-07T16:00:07.964Z"
   },
   {
    "duration": 224,
    "start_time": "2024-12-07T16:00:07.993Z"
   },
   {
    "duration": 145,
    "start_time": "2024-12-07T16:00:08.219Z"
   },
   {
    "duration": 60,
    "start_time": "2024-12-07T16:00:08.366Z"
   },
   {
    "duration": 190,
    "start_time": "2024-12-07T16:00:08.428Z"
   },
   {
    "duration": 4,
    "start_time": "2024-12-07T16:00:08.621Z"
   },
   {
    "duration": 38,
    "start_time": "2024-12-07T16:00:08.627Z"
   },
   {
    "duration": 397,
    "start_time": "2024-12-07T16:00:08.667Z"
   },
   {
    "duration": 26,
    "start_time": "2024-12-07T16:00:09.065Z"
   },
   {
    "duration": 4692,
    "start_time": "2024-12-07T16:00:09.093Z"
   },
   {
    "duration": 4943,
    "start_time": "2024-12-07T16:00:13.786Z"
   },
   {
    "duration": 33,
    "start_time": "2024-12-07T16:00:18.730Z"
   },
   {
    "duration": 59,
    "start_time": "2024-12-07T16:00:18.766Z"
   },
   {
    "duration": 3,
    "start_time": "2024-12-07T16:00:18.827Z"
   },
   {
    "duration": 9,
    "start_time": "2024-12-07T16:00:18.831Z"
   },
   {
    "duration": 44,
    "start_time": "2024-12-07T16:00:18.842Z"
   },
   {
    "duration": 6,
    "start_time": "2024-12-07T16:00:18.887Z"
   },
   {
    "duration": 25,
    "start_time": "2024-12-07T16:00:18.894Z"
   },
   {
    "duration": 30,
    "start_time": "2024-12-07T16:00:18.920Z"
   },
   {
    "duration": 74997,
    "start_time": "2024-12-07T16:00:18.952Z"
   },
   {
    "duration": 2629,
    "start_time": "2024-12-07T16:01:37.051Z"
   },
   {
    "duration": 1513,
    "start_time": "2024-12-07T16:01:39.683Z"
   },
   {
    "duration": 2,
    "start_time": "2024-12-07T16:01:41.198Z"
   },
   {
    "duration": 1186,
    "start_time": "2024-12-07T16:01:41.202Z"
   },
   {
    "duration": 4,
    "start_time": "2024-12-07T16:01:42.390Z"
   },
   {
    "duration": 10,
    "start_time": "2024-12-07T16:01:42.395Z"
   },
   {
    "duration": 3,
    "start_time": "2024-12-07T16:01:42.406Z"
   },
   {
    "duration": 604,
    "start_time": "2024-12-07T16:01:42.411Z"
   },
   {
    "duration": 26,
    "start_time": "2024-12-07T16:01:43.016Z"
   },
   {
    "duration": 214,
    "start_time": "2024-12-07T16:01:43.043Z"
   },
   {
    "duration": 133,
    "start_time": "2024-12-07T16:01:43.258Z"
   },
   {
    "duration": 70,
    "start_time": "2024-12-07T16:01:43.393Z"
   },
   {
    "duration": 180,
    "start_time": "2024-12-07T16:01:43.465Z"
   },
   {
    "duration": 8,
    "start_time": "2024-12-07T16:01:43.653Z"
   },
   {
    "duration": 8,
    "start_time": "2024-12-07T16:01:43.669Z"
   },
   {
    "duration": 428,
    "start_time": "2024-12-07T16:01:43.678Z"
   },
   {
    "duration": 27,
    "start_time": "2024-12-07T16:01:44.108Z"
   },
   {
    "duration": 4804,
    "start_time": "2024-12-07T16:01:44.137Z"
   },
   {
    "duration": 4788,
    "start_time": "2024-12-07T16:01:48.942Z"
   },
   {
    "duration": 29,
    "start_time": "2024-12-07T16:01:53.731Z"
   },
   {
    "duration": 67,
    "start_time": "2024-12-07T16:01:53.765Z"
   },
   {
    "duration": 4,
    "start_time": "2024-12-07T16:01:53.834Z"
   },
   {
    "duration": 7,
    "start_time": "2024-12-07T16:01:53.840Z"
   },
   {
    "duration": 15,
    "start_time": "2024-12-07T16:01:53.852Z"
   },
   {
    "duration": 8,
    "start_time": "2024-12-07T16:01:53.870Z"
   },
   {
    "duration": 9,
    "start_time": "2024-12-07T16:01:53.880Z"
   },
   {
    "duration": 20,
    "start_time": "2024-12-07T16:01:53.891Z"
   },
   {
    "duration": 124497,
    "start_time": "2024-12-07T16:01:53.913Z"
   },
   {
    "duration": 2897,
    "start_time": "2024-12-07T16:03:59.767Z"
   },
   {
    "duration": 1626,
    "start_time": "2024-12-07T16:04:02.666Z"
   },
   {
    "duration": 3,
    "start_time": "2024-12-07T16:04:04.293Z"
   },
   {
    "duration": 1301,
    "start_time": "2024-12-07T16:04:04.298Z"
   },
   {
    "duration": 5,
    "start_time": "2024-12-07T16:04:05.601Z"
   },
   {
    "duration": 28,
    "start_time": "2024-12-07T16:04:05.607Z"
   },
   {
    "duration": 28,
    "start_time": "2024-12-07T16:04:05.637Z"
   },
   {
    "duration": 746,
    "start_time": "2024-12-07T16:04:05.667Z"
   },
   {
    "duration": 27,
    "start_time": "2024-12-07T16:04:06.414Z"
   },
   {
    "duration": 223,
    "start_time": "2024-12-07T16:04:06.460Z"
   },
   {
    "duration": 136,
    "start_time": "2024-12-07T16:04:06.684Z"
   },
   {
    "duration": 83,
    "start_time": "2024-12-07T16:04:06.822Z"
   },
   {
    "duration": 190,
    "start_time": "2024-12-07T16:04:06.907Z"
   },
   {
    "duration": 6,
    "start_time": "2024-12-07T16:04:07.100Z"
   },
   {
    "duration": 59,
    "start_time": "2024-12-07T16:04:07.107Z"
   },
   {
    "duration": 395,
    "start_time": "2024-12-07T16:04:07.168Z"
   },
   {
    "duration": 25,
    "start_time": "2024-12-07T16:04:07.566Z"
   },
   {
    "duration": 4820,
    "start_time": "2024-12-07T16:04:07.593Z"
   },
   {
    "duration": 5031,
    "start_time": "2024-12-07T16:04:12.414Z"
   },
   {
    "duration": 21,
    "start_time": "2024-12-07T16:04:17.447Z"
   },
   {
    "duration": 62,
    "start_time": "2024-12-07T16:04:17.470Z"
   },
   {
    "duration": 26,
    "start_time": "2024-12-07T16:04:17.533Z"
   },
   {
    "duration": 7,
    "start_time": "2024-12-07T16:04:17.561Z"
   },
   {
    "duration": 3,
    "start_time": "2024-12-07T16:04:17.570Z"
   },
   {
    "duration": 6,
    "start_time": "2024-12-07T16:04:17.574Z"
   },
   {
    "duration": 10,
    "start_time": "2024-12-07T16:04:17.581Z"
   },
   {
    "duration": 13,
    "start_time": "2024-12-07T16:04:17.593Z"
   },
   {
    "duration": 82776,
    "start_time": "2024-12-07T16:04:17.608Z"
   },
   {
    "duration": 3447,
    "start_time": "2024-12-08T06:45:34.121Z"
   },
   {
    "duration": 1614,
    "start_time": "2024-12-08T06:45:37.571Z"
   },
   {
    "duration": 2,
    "start_time": "2024-12-08T06:45:39.187Z"
   },
   {
    "duration": 1483,
    "start_time": "2024-12-08T06:45:39.191Z"
   },
   {
    "duration": 4,
    "start_time": "2024-12-08T06:45:40.675Z"
   },
   {
    "duration": 15,
    "start_time": "2024-12-08T06:45:40.681Z"
   },
   {
    "duration": 5,
    "start_time": "2024-12-08T06:45:40.698Z"
   },
   {
    "duration": 565,
    "start_time": "2024-12-08T06:45:40.704Z"
   },
   {
    "duration": 26,
    "start_time": "2024-12-08T06:45:41.270Z"
   },
   {
    "duration": 200,
    "start_time": "2024-12-08T06:45:41.299Z"
   },
   {
    "duration": 127,
    "start_time": "2024-12-08T06:45:41.501Z"
   },
   {
    "duration": 66,
    "start_time": "2024-12-08T06:45:41.629Z"
   },
   {
    "duration": 175,
    "start_time": "2024-12-08T06:45:41.697Z"
   },
   {
    "duration": 5,
    "start_time": "2024-12-08T06:45:41.874Z"
   },
   {
    "duration": 14,
    "start_time": "2024-12-08T06:45:41.880Z"
   },
   {
    "duration": 358,
    "start_time": "2024-12-08T06:45:41.895Z"
   },
   {
    "duration": 24,
    "start_time": "2024-12-08T06:45:42.255Z"
   },
   {
    "duration": 4472,
    "start_time": "2024-12-08T06:45:42.281Z"
   },
   {
    "duration": 4567,
    "start_time": "2024-12-08T06:45:46.754Z"
   },
   {
    "duration": 14,
    "start_time": "2024-12-08T06:45:51.323Z"
   },
   {
    "duration": 68,
    "start_time": "2024-12-08T06:45:51.338Z"
   },
   {
    "duration": 3,
    "start_time": "2024-12-08T06:45:51.407Z"
   },
   {
    "duration": 6,
    "start_time": "2024-12-08T06:45:51.412Z"
   },
   {
    "duration": 8,
    "start_time": "2024-12-08T06:45:51.420Z"
   },
   {
    "duration": 9,
    "start_time": "2024-12-08T06:45:51.430Z"
   },
   {
    "duration": 15,
    "start_time": "2024-12-08T06:45:51.441Z"
   },
   {
    "duration": 68,
    "start_time": "2024-12-08T06:45:51.457Z"
   },
   {
    "duration": 163047,
    "start_time": "2024-12-08T06:45:51.528Z"
   },
   {
    "duration": 0,
    "start_time": "2024-12-08T06:48:34.578Z"
   },
   {
    "duration": 17,
    "start_time": "2024-12-08T06:48:42.928Z"
   },
   {
    "duration": 49,
    "start_time": "2024-12-08T06:56:31.249Z"
   },
   {
    "duration": 1703,
    "start_time": "2024-12-08T07:19:58.601Z"
   },
   {
    "duration": 1636,
    "start_time": "2024-12-08T07:20:37.345Z"
   },
   {
    "duration": 1656,
    "start_time": "2024-12-08T07:20:53.526Z"
   },
   {
    "duration": 1633,
    "start_time": "2024-12-08T08:31:03.071Z"
   },
   {
    "duration": 1055,
    "start_time": "2024-12-08T08:40:13.874Z"
   },
   {
    "duration": 934,
    "start_time": "2024-12-08T08:40:50.336Z"
   },
   {
    "duration": 939,
    "start_time": "2024-12-08T08:40:56.972Z"
   },
   {
    "duration": 971,
    "start_time": "2024-12-08T08:41:03.355Z"
   },
   {
    "duration": 2672,
    "start_time": "2024-12-08T08:44:13.958Z"
   },
   {
    "duration": 1616,
    "start_time": "2024-12-08T08:44:16.633Z"
   },
   {
    "duration": 2,
    "start_time": "2024-12-08T08:44:18.251Z"
   },
   {
    "duration": 1252,
    "start_time": "2024-12-08T08:44:18.256Z"
   },
   {
    "duration": 4,
    "start_time": "2024-12-08T08:44:19.510Z"
   },
   {
    "duration": 21,
    "start_time": "2024-12-08T08:44:19.515Z"
   },
   {
    "duration": 5,
    "start_time": "2024-12-08T08:44:19.538Z"
   },
   {
    "duration": 565,
    "start_time": "2024-12-08T08:44:19.544Z"
   },
   {
    "duration": 26,
    "start_time": "2024-12-08T08:44:20.111Z"
   },
   {
    "duration": 214,
    "start_time": "2024-12-08T08:44:20.139Z"
   },
   {
    "duration": 124,
    "start_time": "2024-12-08T08:44:20.354Z"
   },
   {
    "duration": 75,
    "start_time": "2024-12-08T08:44:20.481Z"
   },
   {
    "duration": 170,
    "start_time": "2024-12-08T08:44:20.558Z"
   },
   {
    "duration": 5,
    "start_time": "2024-12-08T08:44:20.731Z"
   },
   {
    "duration": 30,
    "start_time": "2024-12-08T08:44:20.737Z"
   },
   {
    "duration": 395,
    "start_time": "2024-12-08T08:44:20.768Z"
   },
   {
    "duration": 24,
    "start_time": "2024-12-08T08:44:21.165Z"
   },
   {
    "duration": 4577,
    "start_time": "2024-12-08T08:44:21.191Z"
   },
   {
    "duration": 4532,
    "start_time": "2024-12-08T08:44:25.770Z"
   },
   {
    "duration": 16,
    "start_time": "2024-12-08T08:44:30.304Z"
   },
   {
    "duration": 101,
    "start_time": "2024-12-08T08:44:30.321Z"
   },
   {
    "duration": 4,
    "start_time": "2024-12-08T08:44:30.423Z"
   },
   {
    "duration": 46,
    "start_time": "2024-12-08T08:44:30.429Z"
   },
   {
    "duration": 20,
    "start_time": "2024-12-08T08:44:30.477Z"
   },
   {
    "duration": 47,
    "start_time": "2024-12-08T08:44:30.499Z"
   },
   {
    "duration": 65,
    "start_time": "2024-12-08T08:44:30.548Z"
   },
   {
    "duration": 21,
    "start_time": "2024-12-08T08:44:30.615Z"
   },
   {
    "duration": 64041,
    "start_time": "2024-12-08T08:44:30.638Z"
   },
   {
    "duration": 0,
    "start_time": "2024-12-08T08:45:34.681Z"
   },
   {
    "duration": 4,
    "start_time": "2024-12-08T08:45:41.716Z"
   },
   {
    "duration": 18,
    "start_time": "2024-12-08T08:45:51.606Z"
   },
   {
    "duration": 10,
    "start_time": "2024-12-08T08:46:08.995Z"
   },
   {
    "duration": 3,
    "start_time": "2024-12-08T08:47:50.469Z"
   },
   {
    "duration": 2,
    "start_time": "2024-12-08T08:47:51.083Z"
   },
   {
    "duration": 5,
    "start_time": "2024-12-08T08:47:51.629Z"
   },
   {
    "duration": 3,
    "start_time": "2024-12-08T08:47:55.396Z"
   },
   {
    "duration": 4,
    "start_time": "2024-12-08T08:47:56.077Z"
   },
   {
    "duration": 2633,
    "start_time": "2024-12-08T08:49:45.549Z"
   },
   {
    "duration": 1477,
    "start_time": "2024-12-08T08:49:48.185Z"
   },
   {
    "duration": 3,
    "start_time": "2024-12-08T08:49:49.664Z"
   },
   {
    "duration": 1139,
    "start_time": "2024-12-08T08:49:49.669Z"
   },
   {
    "duration": 5,
    "start_time": "2024-12-08T08:49:50.810Z"
   },
   {
    "duration": 8,
    "start_time": "2024-12-08T08:49:50.816Z"
   },
   {
    "duration": 9,
    "start_time": "2024-12-08T08:49:50.825Z"
   },
   {
    "duration": 566,
    "start_time": "2024-12-08T08:49:50.835Z"
   },
   {
    "duration": 25,
    "start_time": "2024-12-08T08:49:51.403Z"
   },
   {
    "duration": 209,
    "start_time": "2024-12-08T08:49:51.430Z"
   },
   {
    "duration": 125,
    "start_time": "2024-12-08T08:49:51.640Z"
   },
   {
    "duration": 62,
    "start_time": "2024-12-08T08:49:51.767Z"
   },
   {
    "duration": 173,
    "start_time": "2024-12-08T08:49:51.830Z"
   },
   {
    "duration": 4,
    "start_time": "2024-12-08T08:49:52.006Z"
   },
   {
    "duration": 41,
    "start_time": "2024-12-08T08:49:52.012Z"
   },
   {
    "duration": 405,
    "start_time": "2024-12-08T08:49:52.055Z"
   },
   {
    "duration": 26,
    "start_time": "2024-12-08T08:49:52.462Z"
   },
   {
    "duration": 4643,
    "start_time": "2024-12-08T08:49:52.490Z"
   },
   {
    "duration": 4620,
    "start_time": "2024-12-08T08:49:57.135Z"
   },
   {
    "duration": 14,
    "start_time": "2024-12-08T08:50:01.756Z"
   },
   {
    "duration": 87,
    "start_time": "2024-12-08T08:50:01.772Z"
   },
   {
    "duration": 4,
    "start_time": "2024-12-08T08:50:01.860Z"
   },
   {
    "duration": 14,
    "start_time": "2024-12-08T08:50:01.865Z"
   },
   {
    "duration": 40,
    "start_time": "2024-12-08T08:50:01.881Z"
   },
   {
    "duration": 14,
    "start_time": "2024-12-08T08:50:01.923Z"
   },
   {
    "duration": 0,
    "start_time": "2024-12-08T08:50:01.939Z"
   },
   {
    "duration": 0,
    "start_time": "2024-12-08T08:50:01.941Z"
   },
   {
    "duration": 0,
    "start_time": "2024-12-08T08:50:01.942Z"
   },
   {
    "duration": 3,
    "start_time": "2024-12-08T08:50:13.180Z"
   },
   {
    "duration": 3,
    "start_time": "2024-12-08T08:50:15.694Z"
   },
   {
    "duration": 3,
    "start_time": "2024-12-08T08:50:16.318Z"
   },
   {
    "duration": 4,
    "start_time": "2024-12-08T08:50:16.743Z"
   },
   {
    "duration": 41707,
    "start_time": "2024-12-08T08:50:17.414Z"
   },
   {
    "duration": 58,
    "start_time": "2024-12-08T08:51:34.505Z"
   },
   {
    "duration": 3,
    "start_time": "2024-12-08T08:51:34.692Z"
   },
   {
    "duration": 3,
    "start_time": "2024-12-08T08:51:34.855Z"
   },
   {
    "duration": 3,
    "start_time": "2024-12-08T08:51:35.203Z"
   },
   {
    "duration": 3,
    "start_time": "2024-12-08T08:51:37.151Z"
   },
   {
    "duration": 3,
    "start_time": "2024-12-08T08:51:38.543Z"
   },
   {
    "duration": 4,
    "start_time": "2024-12-08T08:51:39.080Z"
   },
   {
    "duration": 76057,
    "start_time": "2024-12-08T08:51:41.313Z"
   },
   {
    "duration": 3,
    "start_time": "2024-12-08T08:58:38.560Z"
   },
   {
    "duration": 50,
    "start_time": "2024-12-08T08:59:15.672Z"
   },
   {
    "duration": 1612,
    "start_time": "2024-12-08T08:59:34.882Z"
   },
   {
    "duration": 1502,
    "start_time": "2024-12-08T09:00:06.697Z"
   },
   {
    "duration": 33787,
    "start_time": "2024-12-08T09:00:57.528Z"
   },
   {
    "duration": 50,
    "start_time": "2024-12-08T09:02:27.376Z"
   },
   {
    "duration": 2513,
    "start_time": "2024-12-08T09:02:37.182Z"
   },
   {
    "duration": 1465,
    "start_time": "2024-12-08T09:02:39.698Z"
   },
   {
    "duration": 3,
    "start_time": "2024-12-08T09:02:41.165Z"
   },
   {
    "duration": 1399,
    "start_time": "2024-12-08T09:02:41.170Z"
   },
   {
    "duration": 4,
    "start_time": "2024-12-08T09:02:42.570Z"
   },
   {
    "duration": 8,
    "start_time": "2024-12-08T09:02:42.576Z"
   },
   {
    "duration": 12,
    "start_time": "2024-12-08T09:02:42.585Z"
   },
   {
    "duration": 549,
    "start_time": "2024-12-08T09:02:42.599Z"
   },
   {
    "duration": 22,
    "start_time": "2024-12-08T09:02:43.151Z"
   },
   {
    "duration": 200,
    "start_time": "2024-12-08T09:02:43.176Z"
   },
   {
    "duration": 121,
    "start_time": "2024-12-08T09:02:43.378Z"
   },
   {
    "duration": 67,
    "start_time": "2024-12-08T09:02:43.500Z"
   },
   {
    "duration": 161,
    "start_time": "2024-12-08T09:02:43.568Z"
   },
   {
    "duration": 4,
    "start_time": "2024-12-08T09:02:43.731Z"
   },
   {
    "duration": 6,
    "start_time": "2024-12-08T09:02:43.737Z"
   },
   {
    "duration": 415,
    "start_time": "2024-12-08T09:02:43.753Z"
   },
   {
    "duration": 24,
    "start_time": "2024-12-08T09:02:44.170Z"
   },
   {
    "duration": 4617,
    "start_time": "2024-12-08T09:02:44.196Z"
   },
   {
    "duration": 4631,
    "start_time": "2024-12-08T09:02:48.814Z"
   },
   {
    "duration": 13,
    "start_time": "2024-12-08T09:02:53.451Z"
   },
   {
    "duration": 52,
    "start_time": "2024-12-08T09:02:53.466Z"
   },
   {
    "duration": 3,
    "start_time": "2024-12-08T09:02:53.520Z"
   },
   {
    "duration": 28,
    "start_time": "2024-12-08T09:02:53.524Z"
   },
   {
    "duration": 1069,
    "start_time": "2024-12-08T09:02:53.554Z"
   },
   {
    "duration": 981,
    "start_time": "2024-12-08T09:03:13.356Z"
   },
   {
    "duration": 119,
    "start_time": "2024-12-08T09:03:58.347Z"
   },
   {
    "duration": 51256,
    "start_time": "2024-12-08T09:04:17.158Z"
   },
   {
    "duration": 82,
    "start_time": "2024-12-08T09:05:25.051Z"
   },
   {
    "duration": 10,
    "start_time": "2024-12-08T09:07:18.708Z"
   },
   {
    "duration": 6,
    "start_time": "2024-12-08T09:07:45.138Z"
   },
   {
    "duration": 4,
    "start_time": "2024-12-08T09:13:57.952Z"
   },
   {
    "duration": 3,
    "start_time": "2024-12-08T09:13:59.295Z"
   },
   {
    "duration": 3,
    "start_time": "2024-12-08T09:14:00.600Z"
   },
   {
    "duration": 3,
    "start_time": "2024-12-08T09:14:01.504Z"
   },
   {
    "duration": 3,
    "start_time": "2024-12-08T09:14:03.712Z"
   },
   {
    "duration": 3,
    "start_time": "2024-12-08T09:14:04.513Z"
   },
   {
    "duration": 11016,
    "start_time": "2024-12-08T09:14:05.354Z"
   },
   {
    "duration": 5,
    "start_time": "2024-12-08T09:14:45.512Z"
   },
   {
    "duration": 5,
    "start_time": "2024-12-08T09:14:48.088Z"
   },
   {
    "duration": 3,
    "start_time": "2024-12-08T09:14:49.384Z"
   },
   {
    "duration": 4,
    "start_time": "2024-12-08T09:14:49.762Z"
   },
   {
    "duration": 2598,
    "start_time": "2024-12-08T09:15:04.150Z"
   },
   {
    "duration": 1997,
    "start_time": "2024-12-08T09:15:06.750Z"
   },
   {
    "duration": 2,
    "start_time": "2024-12-08T09:15:08.749Z"
   },
   {
    "duration": 1148,
    "start_time": "2024-12-08T09:15:08.753Z"
   },
   {
    "duration": 4,
    "start_time": "2024-12-08T09:15:09.902Z"
   },
   {
    "duration": 8,
    "start_time": "2024-12-08T09:15:09.908Z"
   },
   {
    "duration": 7,
    "start_time": "2024-12-08T09:15:09.917Z"
   },
   {
    "duration": 570,
    "start_time": "2024-12-08T09:15:09.926Z"
   },
   {
    "duration": 25,
    "start_time": "2024-12-08T09:15:10.498Z"
   },
   {
    "duration": 206,
    "start_time": "2024-12-08T09:15:10.526Z"
   },
   {
    "duration": 130,
    "start_time": "2024-12-08T09:15:10.733Z"
   },
   {
    "duration": 61,
    "start_time": "2024-12-08T09:15:10.865Z"
   },
   {
    "duration": 176,
    "start_time": "2024-12-08T09:15:10.928Z"
   },
   {
    "duration": 5,
    "start_time": "2024-12-08T09:15:11.105Z"
   },
   {
    "duration": 10,
    "start_time": "2024-12-08T09:15:11.112Z"
   },
   {
    "duration": 368,
    "start_time": "2024-12-08T09:15:11.123Z"
   },
   {
    "duration": 26,
    "start_time": "2024-12-08T09:15:11.493Z"
   },
   {
    "duration": 4657,
    "start_time": "2024-12-08T09:15:11.520Z"
   },
   {
    "duration": 4630,
    "start_time": "2024-12-08T09:15:16.178Z"
   },
   {
    "duration": 15,
    "start_time": "2024-12-08T09:15:20.810Z"
   },
   {
    "duration": 92,
    "start_time": "2024-12-08T09:15:20.827Z"
   },
   {
    "duration": 4,
    "start_time": "2024-12-08T09:15:20.921Z"
   },
   {
    "duration": 29,
    "start_time": "2024-12-08T09:15:20.927Z"
   },
   {
    "duration": 10,
    "start_time": "2024-12-08T09:15:20.957Z"
   },
   {
    "duration": 16,
    "start_time": "2024-12-08T09:15:20.969Z"
   },
   {
    "duration": 30,
    "start_time": "2024-12-08T09:15:20.986Z"
   },
   {
    "duration": 27,
    "start_time": "2024-12-08T09:15:21.018Z"
   },
   {
    "duration": 318312,
    "start_time": "2024-12-08T09:15:21.048Z"
   },
   {
    "duration": 14,
    "start_time": "2024-12-08T09:20:59.180Z"
   },
   {
    "duration": 16,
    "start_time": "2024-12-08T09:21:14.927Z"
   },
   {
    "duration": 18,
    "start_time": "2024-12-08T09:22:29.040Z"
   },
   {
    "duration": 11,
    "start_time": "2024-12-08T09:29:34.653Z"
   },
   {
    "duration": 3,
    "start_time": "2024-12-08T09:29:35.171Z"
   },
   {
    "duration": 3,
    "start_time": "2024-12-08T09:29:36.165Z"
   },
   {
    "duration": 5,
    "start_time": "2024-12-08T09:29:42.620Z"
   },
   {
    "duration": 3,
    "start_time": "2024-12-08T09:30:47.020Z"
   },
   {
    "duration": 6,
    "start_time": "2024-12-08T09:30:47.764Z"
   },
   {
    "duration": 57396,
    "start_time": "2024-12-08T09:30:49.311Z"
   },
   {
    "duration": 14,
    "start_time": "2024-12-08T09:32:03.267Z"
   },
   {
    "duration": 18,
    "start_time": "2024-12-08T09:32:17.764Z"
   },
   {
    "duration": 18,
    "start_time": "2024-12-08T09:34:18.254Z"
   },
   {
    "duration": 23881,
    "start_time": "2024-12-08T09:34:22.384Z"
   },
   {
    "duration": 10,
    "start_time": "2024-12-08T09:35:25.169Z"
   },
   {
    "duration": 8,
    "start_time": "2024-12-08T09:36:12.142Z"
   },
   {
    "duration": 990,
    "start_time": "2024-12-08T09:36:32.027Z"
   },
   {
    "duration": 5,
    "start_time": "2024-12-08T09:37:07.337Z"
   },
   {
    "duration": 3,
    "start_time": "2024-12-08T09:37:08.096Z"
   },
   {
    "duration": 22864,
    "start_time": "2024-12-08T09:37:08.800Z"
   },
   {
    "duration": 1032,
    "start_time": "2024-12-08T09:37:31.668Z"
   },
   {
    "duration": 20,
    "start_time": "2024-12-08T09:39:36.650Z"
   },
   {
    "duration": 2529,
    "start_time": "2024-12-08T09:40:08.321Z"
   },
   {
    "duration": 1520,
    "start_time": "2024-12-08T09:40:10.853Z"
   },
   {
    "duration": 3,
    "start_time": "2024-12-08T09:40:12.374Z"
   },
   {
    "duration": 1219,
    "start_time": "2024-12-08T09:40:12.379Z"
   },
   {
    "duration": 4,
    "start_time": "2024-12-08T09:40:13.600Z"
   },
   {
    "duration": 6,
    "start_time": "2024-12-08T09:40:13.605Z"
   },
   {
    "duration": 4,
    "start_time": "2024-12-08T09:40:13.612Z"
   },
   {
    "duration": 667,
    "start_time": "2024-12-08T09:40:13.617Z"
   },
   {
    "duration": 27,
    "start_time": "2024-12-08T09:40:14.285Z"
   },
   {
    "duration": 226,
    "start_time": "2024-12-08T09:40:14.313Z"
   },
   {
    "duration": 143,
    "start_time": "2024-12-08T09:40:14.540Z"
   },
   {
    "duration": 83,
    "start_time": "2024-12-08T09:40:14.685Z"
   },
   {
    "duration": 171,
    "start_time": "2024-12-08T09:40:14.769Z"
   },
   {
    "duration": 18,
    "start_time": "2024-12-08T09:40:14.943Z"
   },
   {
    "duration": 19,
    "start_time": "2024-12-08T09:40:14.962Z"
   },
   {
    "duration": 385,
    "start_time": "2024-12-08T09:40:14.983Z"
   },
   {
    "duration": 26,
    "start_time": "2024-12-08T09:40:15.369Z"
   },
   {
    "duration": 4712,
    "start_time": "2024-12-08T09:40:15.397Z"
   },
   {
    "duration": 4859,
    "start_time": "2024-12-08T09:40:20.111Z"
   },
   {
    "duration": 15,
    "start_time": "2024-12-08T09:40:24.972Z"
   },
   {
    "duration": 75,
    "start_time": "2024-12-08T09:40:24.989Z"
   },
   {
    "duration": 3,
    "start_time": "2024-12-08T09:40:25.066Z"
   },
   {
    "duration": 4,
    "start_time": "2024-12-08T09:40:25.071Z"
   },
   {
    "duration": 4,
    "start_time": "2024-12-08T09:40:25.077Z"
   },
   {
    "duration": 5,
    "start_time": "2024-12-08T09:40:25.082Z"
   },
   {
    "duration": 17,
    "start_time": "2024-12-08T09:40:25.089Z"
   },
   {
    "duration": 13,
    "start_time": "2024-12-08T09:40:25.107Z"
   },
   {
    "duration": 3097,
    "start_time": "2024-12-08T09:42:48.718Z"
   },
   {
    "duration": 1589,
    "start_time": "2024-12-08T09:42:51.819Z"
   },
   {
    "duration": 3,
    "start_time": "2024-12-08T09:42:53.410Z"
   },
   {
    "duration": 1194,
    "start_time": "2024-12-08T09:42:53.414Z"
   },
   {
    "duration": 4,
    "start_time": "2024-12-08T09:42:54.610Z"
   },
   {
    "duration": 18,
    "start_time": "2024-12-08T09:42:54.616Z"
   },
   {
    "duration": 6,
    "start_time": "2024-12-08T09:42:54.636Z"
   },
   {
    "duration": 586,
    "start_time": "2024-12-08T09:42:54.644Z"
   },
   {
    "duration": 35,
    "start_time": "2024-12-08T09:42:55.233Z"
   },
   {
    "duration": 214,
    "start_time": "2024-12-08T09:42:55.270Z"
   },
   {
    "duration": 128,
    "start_time": "2024-12-08T09:42:55.485Z"
   },
   {
    "duration": 74,
    "start_time": "2024-12-08T09:42:55.615Z"
   },
   {
    "duration": 176,
    "start_time": "2024-12-08T09:42:55.690Z"
   },
   {
    "duration": 5,
    "start_time": "2024-12-08T09:42:55.867Z"
   },
   {
    "duration": 7,
    "start_time": "2024-12-08T09:42:55.873Z"
   },
   {
    "duration": 364,
    "start_time": "2024-12-08T09:42:55.881Z"
   },
   {
    "duration": 27,
    "start_time": "2024-12-08T09:42:56.246Z"
   },
   {
    "duration": 4534,
    "start_time": "2024-12-08T09:42:56.275Z"
   },
   {
    "duration": 4648,
    "start_time": "2024-12-08T09:43:00.810Z"
   },
   {
    "duration": 15,
    "start_time": "2024-12-08T09:43:05.460Z"
   },
   {
    "duration": 96,
    "start_time": "2024-12-08T09:43:05.477Z"
   },
   {
    "duration": 4,
    "start_time": "2024-12-08T09:43:05.575Z"
   },
   {
    "duration": 35,
    "start_time": "2024-12-08T09:43:05.581Z"
   },
   {
    "duration": 31,
    "start_time": "2024-12-08T09:43:05.618Z"
   },
   {
    "duration": 8,
    "start_time": "2024-12-08T09:43:05.651Z"
   },
   {
    "duration": 5,
    "start_time": "2024-12-08T09:43:05.660Z"
   },
   {
    "duration": 41,
    "start_time": "2024-12-08T09:43:05.668Z"
   },
   {
    "duration": 2638119,
    "start_time": "2024-12-08T09:43:05.711Z"
   },
   {
    "duration": 2638,
    "start_time": "2024-12-08T10:27:07.237Z"
   },
   {
    "duration": 1505,
    "start_time": "2024-12-08T10:27:09.878Z"
   },
   {
    "duration": 2,
    "start_time": "2024-12-08T10:27:11.385Z"
   },
   {
    "duration": 1228,
    "start_time": "2024-12-08T10:27:11.390Z"
   },
   {
    "duration": 4,
    "start_time": "2024-12-08T10:27:12.620Z"
   },
   {
    "duration": 39,
    "start_time": "2024-12-08T10:27:12.626Z"
   },
   {
    "duration": 38,
    "start_time": "2024-12-08T10:27:12.667Z"
   },
   {
    "duration": 580,
    "start_time": "2024-12-08T10:27:12.707Z"
   },
   {
    "duration": 26,
    "start_time": "2024-12-08T10:27:13.289Z"
   },
   {
    "duration": 219,
    "start_time": "2024-12-08T10:27:13.317Z"
   },
   {
    "duration": 145,
    "start_time": "2024-12-08T10:27:13.538Z"
   },
   {
    "duration": 82,
    "start_time": "2024-12-08T10:27:13.685Z"
   },
   {
    "duration": 225,
    "start_time": "2024-12-08T10:27:13.768Z"
   },
   {
    "duration": 6,
    "start_time": "2024-12-08T10:27:13.996Z"
   },
   {
    "duration": 9,
    "start_time": "2024-12-08T10:27:14.004Z"
   },
   {
    "duration": 397,
    "start_time": "2024-12-08T10:27:14.015Z"
   },
   {
    "duration": 24,
    "start_time": "2024-12-08T10:27:14.414Z"
   },
   {
    "duration": 4745,
    "start_time": "2024-12-08T10:27:14.440Z"
   },
   {
    "duration": 4881,
    "start_time": "2024-12-08T10:27:19.186Z"
   },
   {
    "duration": 15,
    "start_time": "2024-12-08T10:27:24.068Z"
   },
   {
    "duration": 80,
    "start_time": "2024-12-08T10:27:24.085Z"
   },
   {
    "duration": 3,
    "start_time": "2024-12-08T10:27:24.167Z"
   },
   {
    "duration": 5,
    "start_time": "2024-12-08T10:27:24.172Z"
   },
   {
    "duration": 6,
    "start_time": "2024-12-08T10:27:24.179Z"
   },
   {
    "duration": 30,
    "start_time": "2024-12-08T10:27:24.186Z"
   },
   {
    "duration": 19,
    "start_time": "2024-12-08T10:27:24.218Z"
   },
   {
    "duration": 7,
    "start_time": "2024-12-08T10:27:24.239Z"
   },
   {
    "duration": 2663,
    "start_time": "2024-12-08T10:34:06.438Z"
   },
   {
    "duration": 1497,
    "start_time": "2024-12-08T10:34:09.104Z"
   },
   {
    "duration": 3,
    "start_time": "2024-12-08T10:34:10.602Z"
   },
   {
    "duration": 1240,
    "start_time": "2024-12-08T10:34:10.607Z"
   },
   {
    "duration": 17,
    "start_time": "2024-12-08T10:34:11.851Z"
   },
   {
    "duration": 4,
    "start_time": "2024-12-08T10:34:11.869Z"
   },
   {
    "duration": 7,
    "start_time": "2024-12-08T10:34:11.874Z"
   },
   {
    "duration": 607,
    "start_time": "2024-12-08T10:34:11.883Z"
   },
   {
    "duration": 26,
    "start_time": "2024-12-08T10:34:12.492Z"
   },
   {
    "duration": 223,
    "start_time": "2024-12-08T10:34:12.520Z"
   },
   {
    "duration": 135,
    "start_time": "2024-12-08T10:34:12.745Z"
   },
   {
    "duration": 82,
    "start_time": "2024-12-08T10:34:12.882Z"
   },
   {
    "duration": 164,
    "start_time": "2024-12-08T10:34:12.966Z"
   },
   {
    "duration": 5,
    "start_time": "2024-12-08T10:34:13.131Z"
   },
   {
    "duration": 29,
    "start_time": "2024-12-08T10:34:13.138Z"
   },
   {
    "duration": 385,
    "start_time": "2024-12-08T10:34:13.169Z"
   },
   {
    "duration": 33,
    "start_time": "2024-12-08T10:34:13.555Z"
   },
   {
    "duration": 4852,
    "start_time": "2024-12-08T10:34:13.589Z"
   },
   {
    "duration": 4943,
    "start_time": "2024-12-08T10:34:18.442Z"
   },
   {
    "duration": 17,
    "start_time": "2024-12-08T10:34:23.387Z"
   },
   {
    "duration": 87,
    "start_time": "2024-12-08T10:34:23.406Z"
   },
   {
    "duration": 4,
    "start_time": "2024-12-08T10:34:23.495Z"
   },
   {
    "duration": 18,
    "start_time": "2024-12-08T10:34:23.501Z"
   },
   {
    "duration": 17,
    "start_time": "2024-12-08T10:34:23.521Z"
   },
   {
    "duration": 25,
    "start_time": "2024-12-08T10:34:23.540Z"
   },
   {
    "duration": 4,
    "start_time": "2024-12-08T10:34:23.567Z"
   },
   {
    "duration": 9,
    "start_time": "2024-12-08T10:34:23.573Z"
   },
   {
    "duration": 2663,
    "start_time": "2024-12-08T10:41:18.442Z"
   },
   {
    "duration": 1488,
    "start_time": "2024-12-08T10:41:21.108Z"
   },
   {
    "duration": 3,
    "start_time": "2024-12-08T10:41:22.597Z"
   },
   {
    "duration": 1193,
    "start_time": "2024-12-08T10:41:22.601Z"
   },
   {
    "duration": 3,
    "start_time": "2024-12-08T10:41:23.796Z"
   },
   {
    "duration": 6,
    "start_time": "2024-12-08T10:41:23.801Z"
   },
   {
    "duration": 8,
    "start_time": "2024-12-08T10:41:23.808Z"
   },
   {
    "duration": 662,
    "start_time": "2024-12-08T10:41:23.818Z"
   },
   {
    "duration": 25,
    "start_time": "2024-12-08T10:41:24.482Z"
   },
   {
    "duration": 221,
    "start_time": "2024-12-08T10:41:24.508Z"
   },
   {
    "duration": 141,
    "start_time": "2024-12-08T10:41:24.730Z"
   },
   {
    "duration": 62,
    "start_time": "2024-12-08T10:41:24.873Z"
   },
   {
    "duration": 185,
    "start_time": "2024-12-08T10:41:24.936Z"
   },
   {
    "duration": 5,
    "start_time": "2024-12-08T10:41:25.123Z"
   },
   {
    "duration": 10,
    "start_time": "2024-12-08T10:41:25.129Z"
   },
   {
    "duration": 425,
    "start_time": "2024-12-08T10:41:25.141Z"
   },
   {
    "duration": 25,
    "start_time": "2024-12-08T10:41:25.567Z"
   },
   {
    "duration": 4703,
    "start_time": "2024-12-08T10:41:25.594Z"
   },
   {
    "duration": 4926,
    "start_time": "2024-12-08T10:41:30.298Z"
   },
   {
    "duration": 28,
    "start_time": "2024-12-08T10:41:35.226Z"
   },
   {
    "duration": 65,
    "start_time": "2024-12-08T10:41:35.265Z"
   },
   {
    "duration": 4,
    "start_time": "2024-12-08T10:41:35.331Z"
   },
   {
    "duration": 28,
    "start_time": "2024-12-08T10:41:35.336Z"
   },
   {
    "duration": 9,
    "start_time": "2024-12-08T10:41:35.366Z"
   },
   {
    "duration": 8,
    "start_time": "2024-12-08T10:41:35.377Z"
   },
   {
    "duration": 33,
    "start_time": "2024-12-08T10:41:35.387Z"
   },
   {
    "duration": 9,
    "start_time": "2024-12-08T10:41:35.422Z"
   },
   {
    "duration": 2632,
    "start_time": "2024-12-08T10:42:56.548Z"
   },
   {
    "duration": 1532,
    "start_time": "2024-12-08T10:42:59.182Z"
   },
   {
    "duration": 3,
    "start_time": "2024-12-08T10:43:00.716Z"
   },
   {
    "duration": 1264,
    "start_time": "2024-12-08T10:43:00.721Z"
   },
   {
    "duration": 4,
    "start_time": "2024-12-08T10:43:01.987Z"
   },
   {
    "duration": 23,
    "start_time": "2024-12-08T10:43:01.993Z"
   },
   {
    "duration": 8,
    "start_time": "2024-12-08T10:43:02.018Z"
   },
   {
    "duration": 638,
    "start_time": "2024-12-08T10:43:02.027Z"
   },
   {
    "duration": 25,
    "start_time": "2024-12-08T10:43:02.667Z"
   },
   {
    "duration": 218,
    "start_time": "2024-12-08T10:43:02.694Z"
   },
   {
    "duration": 131,
    "start_time": "2024-12-08T10:43:02.914Z"
   },
   {
    "duration": 74,
    "start_time": "2024-12-08T10:43:03.046Z"
   },
   {
    "duration": 182,
    "start_time": "2024-12-08T10:43:03.121Z"
   },
   {
    "duration": 5,
    "start_time": "2024-12-08T10:43:03.305Z"
   },
   {
    "duration": 14,
    "start_time": "2024-12-08T10:43:03.311Z"
   },
   {
    "duration": 387,
    "start_time": "2024-12-08T10:43:03.327Z"
   },
   {
    "duration": 24,
    "start_time": "2024-12-08T10:43:03.716Z"
   },
   {
    "duration": 4736,
    "start_time": "2024-12-08T10:43:03.764Z"
   },
   {
    "duration": 4941,
    "start_time": "2024-12-08T10:43:08.502Z"
   },
   {
    "duration": 27,
    "start_time": "2024-12-08T10:43:13.445Z"
   },
   {
    "duration": 72,
    "start_time": "2024-12-08T10:43:13.474Z"
   },
   {
    "duration": 3,
    "start_time": "2024-12-08T10:43:13.548Z"
   },
   {
    "duration": 18,
    "start_time": "2024-12-08T10:43:13.561Z"
   },
   {
    "duration": 7,
    "start_time": "2024-12-08T10:43:13.581Z"
   },
   {
    "duration": 5,
    "start_time": "2024-12-08T10:43:13.590Z"
   },
   {
    "duration": 4,
    "start_time": "2024-12-08T10:43:13.597Z"
   },
   {
    "duration": 9,
    "start_time": "2024-12-08T10:43:13.603Z"
   },
   {
    "duration": 197107,
    "start_time": "2024-12-08T10:43:13.614Z"
   },
   {
    "duration": 2664,
    "start_time": "2024-12-08T10:46:45.167Z"
   },
   {
    "duration": 1588,
    "start_time": "2024-12-08T10:46:47.834Z"
   },
   {
    "duration": 2,
    "start_time": "2024-12-08T10:46:49.424Z"
   },
   {
    "duration": 1216,
    "start_time": "2024-12-08T10:46:49.427Z"
   },
   {
    "duration": 19,
    "start_time": "2024-12-08T10:46:50.645Z"
   },
   {
    "duration": 9,
    "start_time": "2024-12-08T10:46:50.665Z"
   },
   {
    "duration": 14,
    "start_time": "2024-12-08T10:46:50.676Z"
   },
   {
    "duration": 694,
    "start_time": "2024-12-08T10:46:50.692Z"
   },
   {
    "duration": 26,
    "start_time": "2024-12-08T10:46:51.387Z"
   },
   {
    "duration": 225,
    "start_time": "2024-12-08T10:46:51.414Z"
   },
   {
    "duration": 141,
    "start_time": "2024-12-08T10:46:51.641Z"
   },
   {
    "duration": 82,
    "start_time": "2024-12-08T10:46:51.784Z"
   },
   {
    "duration": 167,
    "start_time": "2024-12-08T10:46:51.868Z"
   },
   {
    "duration": 4,
    "start_time": "2024-12-08T10:46:52.038Z"
   },
   {
    "duration": 35,
    "start_time": "2024-12-08T10:46:52.044Z"
   },
   {
    "duration": 366,
    "start_time": "2024-12-08T10:46:52.081Z"
   },
   {
    "duration": 35,
    "start_time": "2024-12-08T10:46:52.448Z"
   },
   {
    "duration": 4709,
    "start_time": "2024-12-08T10:46:52.484Z"
   },
   {
    "duration": 4955,
    "start_time": "2024-12-08T10:46:57.194Z"
   },
   {
    "duration": 16,
    "start_time": "2024-12-08T10:47:02.151Z"
   },
   {
    "duration": 93,
    "start_time": "2024-12-08T10:47:02.169Z"
   },
   {
    "duration": 3,
    "start_time": "2024-12-08T10:47:02.264Z"
   },
   {
    "duration": 8,
    "start_time": "2024-12-08T10:47:02.268Z"
   },
   {
    "duration": 9,
    "start_time": "2024-12-08T10:47:02.277Z"
   },
   {
    "duration": 29,
    "start_time": "2024-12-08T10:47:02.288Z"
   },
   {
    "duration": 28,
    "start_time": "2024-12-08T10:47:02.319Z"
   },
   {
    "duration": 34,
    "start_time": "2024-12-08T10:47:02.349Z"
   },
   {
    "duration": 427680,
    "start_time": "2024-12-08T10:47:02.385Z"
   },
   {
    "duration": 2681,
    "start_time": "2024-12-08T10:54:14.817Z"
   },
   {
    "duration": 1500,
    "start_time": "2024-12-08T10:54:17.500Z"
   },
   {
    "duration": 3,
    "start_time": "2024-12-08T10:54:19.002Z"
   },
   {
    "duration": 1214,
    "start_time": "2024-12-08T10:54:19.007Z"
   },
   {
    "duration": 4,
    "start_time": "2024-12-08T10:54:20.222Z"
   },
   {
    "duration": 19,
    "start_time": "2024-12-08T10:54:20.228Z"
   },
   {
    "duration": 17,
    "start_time": "2024-12-08T10:54:20.249Z"
   },
   {
    "duration": 581,
    "start_time": "2024-12-08T10:54:20.267Z"
   },
   {
    "duration": 27,
    "start_time": "2024-12-08T10:54:20.860Z"
   },
   {
    "duration": 216,
    "start_time": "2024-12-08T10:54:20.890Z"
   },
   {
    "duration": 129,
    "start_time": "2024-12-08T10:54:21.108Z"
   },
   {
    "duration": 78,
    "start_time": "2024-12-08T10:54:21.238Z"
   },
   {
    "duration": 183,
    "start_time": "2024-12-08T10:54:21.318Z"
   },
   {
    "duration": 5,
    "start_time": "2024-12-08T10:54:21.502Z"
   },
   {
    "duration": 11,
    "start_time": "2024-12-08T10:54:21.509Z"
   },
   {
    "duration": 381,
    "start_time": "2024-12-08T10:54:21.521Z"
   },
   {
    "duration": 24,
    "start_time": "2024-12-08T10:54:21.904Z"
   },
   {
    "duration": 4799,
    "start_time": "2024-12-08T10:54:21.930Z"
   },
   {
    "duration": 4905,
    "start_time": "2024-12-08T10:54:26.730Z"
   },
   {
    "duration": 28,
    "start_time": "2024-12-08T10:54:31.637Z"
   },
   {
    "duration": 60,
    "start_time": "2024-12-08T10:54:31.667Z"
   },
   {
    "duration": 3,
    "start_time": "2024-12-08T10:54:31.729Z"
   },
   {
    "duration": 93,
    "start_time": "2024-12-08T10:54:31.734Z"
   },
   {
    "duration": 36,
    "start_time": "2024-12-08T10:54:31.828Z"
   },
   {
    "duration": 13,
    "start_time": "2024-12-08T10:54:31.866Z"
   },
   {
    "duration": 6,
    "start_time": "2024-12-08T10:54:31.880Z"
   },
   {
    "duration": 18,
    "start_time": "2024-12-08T10:54:31.888Z"
   },
   {
    "duration": 2658,
    "start_time": "2024-12-08T11:19:39.321Z"
   },
   {
    "duration": 1502,
    "start_time": "2024-12-08T11:19:41.982Z"
   },
   {
    "duration": 2,
    "start_time": "2024-12-08T11:19:43.486Z"
   },
   {
    "duration": 1284,
    "start_time": "2024-12-08T11:19:43.490Z"
   },
   {
    "duration": 4,
    "start_time": "2024-12-08T11:19:44.777Z"
   },
   {
    "duration": 18,
    "start_time": "2024-12-08T11:19:44.783Z"
   },
   {
    "duration": 10,
    "start_time": "2024-12-08T11:19:44.803Z"
   },
   {
    "duration": 601,
    "start_time": "2024-12-08T11:19:44.814Z"
   },
   {
    "duration": 24,
    "start_time": "2024-12-08T11:19:45.417Z"
   },
   {
    "duration": 230,
    "start_time": "2024-12-08T11:19:45.443Z"
   },
   {
    "duration": 123,
    "start_time": "2024-12-08T11:19:45.675Z"
   },
   {
    "duration": 122,
    "start_time": "2024-12-08T11:19:45.800Z"
   },
   {
    "duration": 208,
    "start_time": "2024-12-08T11:19:45.924Z"
   },
   {
    "duration": 5,
    "start_time": "2024-12-08T11:19:46.135Z"
   },
   {
    "duration": 17,
    "start_time": "2024-12-08T11:19:46.141Z"
   },
   {
    "duration": 375,
    "start_time": "2024-12-08T11:19:46.159Z"
   },
   {
    "duration": 33,
    "start_time": "2024-12-08T11:19:46.536Z"
   },
   {
    "duration": 4842,
    "start_time": "2024-12-08T11:19:46.570Z"
   },
   {
    "duration": 5044,
    "start_time": "2024-12-08T11:19:51.414Z"
   },
   {
    "duration": 28,
    "start_time": "2024-12-08T11:19:56.461Z"
   },
   {
    "duration": 68,
    "start_time": "2024-12-08T11:19:56.492Z"
   },
   {
    "duration": 10,
    "start_time": "2024-12-08T11:19:56.563Z"
   },
   {
    "duration": 11,
    "start_time": "2024-12-08T11:19:56.574Z"
   },
   {
    "duration": 32,
    "start_time": "2024-12-08T11:19:56.586Z"
   },
   {
    "duration": 4,
    "start_time": "2024-12-08T11:19:56.619Z"
   },
   {
    "duration": 10,
    "start_time": "2024-12-08T11:19:56.625Z"
   },
   {
    "duration": 13,
    "start_time": "2024-12-08T11:19:56.637Z"
   },
   {
    "duration": 2722,
    "start_time": "2024-12-08T11:20:29.540Z"
   },
   {
    "duration": 1543,
    "start_time": "2024-12-08T11:20:32.268Z"
   },
   {
    "duration": 2,
    "start_time": "2024-12-08T11:20:33.813Z"
   },
   {
    "duration": 1343,
    "start_time": "2024-12-08T11:20:33.817Z"
   },
   {
    "duration": 7,
    "start_time": "2024-12-08T11:20:35.162Z"
   },
   {
    "duration": 8,
    "start_time": "2024-12-08T11:20:35.171Z"
   },
   {
    "duration": 23,
    "start_time": "2024-12-08T11:20:35.181Z"
   },
   {
    "duration": 629,
    "start_time": "2024-12-08T11:20:35.206Z"
   },
   {
    "duration": 41,
    "start_time": "2024-12-08T11:20:35.837Z"
   },
   {
    "duration": 234,
    "start_time": "2024-12-08T11:20:35.880Z"
   },
   {
    "duration": 153,
    "start_time": "2024-12-08T11:20:36.115Z"
   },
   {
    "duration": 63,
    "start_time": "2024-12-08T11:20:36.269Z"
   },
   {
    "duration": 186,
    "start_time": "2024-12-08T11:20:36.334Z"
   },
   {
    "duration": 5,
    "start_time": "2024-12-08T11:20:36.522Z"
   },
   {
    "duration": 40,
    "start_time": "2024-12-08T11:20:36.529Z"
   },
   {
    "duration": 399,
    "start_time": "2024-12-08T11:20:36.570Z"
   },
   {
    "duration": 25,
    "start_time": "2024-12-08T11:20:36.971Z"
   },
   {
    "duration": 4723,
    "start_time": "2024-12-08T11:20:36.998Z"
   },
   {
    "duration": 5021,
    "start_time": "2024-12-08T11:20:41.722Z"
   },
   {
    "duration": 17,
    "start_time": "2024-12-08T11:20:46.752Z"
   },
   {
    "duration": 68,
    "start_time": "2024-12-08T11:20:46.771Z"
   },
   {
    "duration": 14,
    "start_time": "2024-12-08T11:20:46.841Z"
   },
   {
    "duration": 30,
    "start_time": "2024-12-08T11:20:46.864Z"
   },
   {
    "duration": 16,
    "start_time": "2024-12-08T11:20:46.896Z"
   },
   {
    "duration": 8,
    "start_time": "2024-12-08T11:20:46.914Z"
   },
   {
    "duration": 10,
    "start_time": "2024-12-08T11:20:46.923Z"
   },
   {
    "duration": 8,
    "start_time": "2024-12-08T11:20:46.935Z"
   },
   {
    "duration": 1695625,
    "start_time": "2024-12-08T11:20:46.946Z"
   },
   {
    "duration": 2659,
    "start_time": "2024-12-08T11:50:01.218Z"
   },
   {
    "duration": 1509,
    "start_time": "2024-12-08T11:50:03.880Z"
   },
   {
    "duration": 3,
    "start_time": "2024-12-08T11:50:05.391Z"
   },
   {
    "duration": 1291,
    "start_time": "2024-12-08T11:50:05.396Z"
   },
   {
    "duration": 4,
    "start_time": "2024-12-08T11:50:06.690Z"
   },
   {
    "duration": 27,
    "start_time": "2024-12-08T11:50:06.696Z"
   },
   {
    "duration": 10,
    "start_time": "2024-12-08T11:50:06.725Z"
   },
   {
    "duration": 618,
    "start_time": "2024-12-08T11:50:06.737Z"
   },
   {
    "duration": 28,
    "start_time": "2024-12-08T11:50:07.356Z"
   },
   {
    "duration": 227,
    "start_time": "2024-12-08T11:50:07.386Z"
   },
   {
    "duration": 152,
    "start_time": "2024-12-08T11:50:07.615Z"
   },
   {
    "duration": 63,
    "start_time": "2024-12-08T11:50:07.769Z"
   },
   {
    "duration": 188,
    "start_time": "2024-12-08T11:50:07.834Z"
   },
   {
    "duration": 5,
    "start_time": "2024-12-08T11:50:08.026Z"
   },
   {
    "duration": 14,
    "start_time": "2024-12-08T11:50:08.033Z"
   },
   {
    "duration": 376,
    "start_time": "2024-12-08T11:50:08.049Z"
   },
   {
    "duration": 42,
    "start_time": "2024-12-08T11:50:08.427Z"
   },
   {
    "duration": 4866,
    "start_time": "2024-12-08T11:50:08.471Z"
   },
   {
    "duration": 5151,
    "start_time": "2024-12-08T11:50:13.338Z"
   },
   {
    "duration": 14,
    "start_time": "2024-12-08T11:50:18.491Z"
   },
   {
    "duration": 80,
    "start_time": "2024-12-08T11:50:18.506Z"
   },
   {
    "duration": 4,
    "start_time": "2024-12-08T11:50:18.587Z"
   },
   {
    "duration": 17,
    "start_time": "2024-12-08T11:50:18.593Z"
   },
   {
    "duration": 7,
    "start_time": "2024-12-08T11:50:18.612Z"
   },
   {
    "duration": 11,
    "start_time": "2024-12-08T11:50:18.620Z"
   },
   {
    "duration": 136,
    "start_time": "2024-12-08T11:50:18.632Z"
   },
   {
    "duration": 0,
    "start_time": "2024-12-08T11:50:18.770Z"
   },
   {
    "duration": 0,
    "start_time": "2024-12-08T11:50:18.771Z"
   },
   {
    "duration": 4,
    "start_time": "2024-12-08T11:50:42.116Z"
   },
   {
    "duration": 2773,
    "start_time": "2024-12-08T11:50:46.643Z"
   },
   {
    "duration": 1505,
    "start_time": "2024-12-08T11:50:49.419Z"
   },
   {
    "duration": 3,
    "start_time": "2024-12-08T11:50:50.926Z"
   },
   {
    "duration": 1241,
    "start_time": "2024-12-08T11:50:50.930Z"
   },
   {
    "duration": 4,
    "start_time": "2024-12-08T11:50:52.174Z"
   },
   {
    "duration": 5,
    "start_time": "2024-12-08T11:50:52.180Z"
   },
   {
    "duration": 21,
    "start_time": "2024-12-08T11:50:52.187Z"
   },
   {
    "duration": 606,
    "start_time": "2024-12-08T11:50:52.210Z"
   },
   {
    "duration": 26,
    "start_time": "2024-12-08T11:50:52.818Z"
   },
   {
    "duration": 228,
    "start_time": "2024-12-08T11:50:52.846Z"
   },
   {
    "duration": 131,
    "start_time": "2024-12-08T11:50:53.075Z"
   },
   {
    "duration": 82,
    "start_time": "2024-12-08T11:50:53.207Z"
   },
   {
    "duration": 174,
    "start_time": "2024-12-08T11:50:53.291Z"
   },
   {
    "duration": 4,
    "start_time": "2024-12-08T11:50:53.468Z"
   },
   {
    "duration": 66,
    "start_time": "2024-12-08T11:50:53.474Z"
   },
   {
    "duration": 429,
    "start_time": "2024-12-08T11:50:53.541Z"
   },
   {
    "duration": 31,
    "start_time": "2024-12-08T11:50:53.977Z"
   },
   {
    "duration": 4671,
    "start_time": "2024-12-08T11:50:54.010Z"
   },
   {
    "duration": 4847,
    "start_time": "2024-12-08T11:50:58.682Z"
   },
   {
    "duration": 24,
    "start_time": "2024-12-08T11:51:03.530Z"
   },
   {
    "duration": 75,
    "start_time": "2024-12-08T11:51:03.555Z"
   },
   {
    "duration": 4,
    "start_time": "2024-12-08T11:51:03.631Z"
   },
   {
    "duration": 29,
    "start_time": "2024-12-08T11:51:03.636Z"
   },
   {
    "duration": 6,
    "start_time": "2024-12-08T11:51:03.667Z"
   },
   {
    "duration": 3,
    "start_time": "2024-12-08T11:51:03.675Z"
   },
   {
    "duration": 5,
    "start_time": "2024-12-08T11:51:03.679Z"
   },
   {
    "duration": 31,
    "start_time": "2024-12-08T11:51:03.685Z"
   },
   {
    "duration": 839155,
    "start_time": "2024-12-08T11:51:03.717Z"
   },
   {
    "duration": 6,
    "start_time": "2024-12-08T12:24:48.458Z"
   },
   {
    "duration": 4,
    "start_time": "2024-12-08T12:26:50.986Z"
   },
   {
    "duration": 7,
    "start_time": "2024-12-08T12:30:29.270Z"
   },
   {
    "duration": 2557,
    "start_time": "2024-12-08T12:39:00.918Z"
   },
   {
    "duration": 1601,
    "start_time": "2024-12-08T12:39:03.478Z"
   },
   {
    "duration": 2,
    "start_time": "2024-12-08T12:39:05.081Z"
   },
   {
    "duration": 1204,
    "start_time": "2024-12-08T12:39:05.085Z"
   },
   {
    "duration": 4,
    "start_time": "2024-12-08T12:39:06.291Z"
   },
   {
    "duration": 20,
    "start_time": "2024-12-08T12:39:06.297Z"
   },
   {
    "duration": 5,
    "start_time": "2024-12-08T12:39:06.319Z"
   },
   {
    "duration": 580,
    "start_time": "2024-12-08T12:39:06.325Z"
   },
   {
    "duration": 23,
    "start_time": "2024-12-08T12:39:06.907Z"
   },
   {
    "duration": 210,
    "start_time": "2024-12-08T12:39:06.932Z"
   },
   {
    "duration": 122,
    "start_time": "2024-12-08T12:39:07.144Z"
   },
   {
    "duration": 54,
    "start_time": "2024-12-08T12:39:07.268Z"
   },
   {
    "duration": 173,
    "start_time": "2024-12-08T12:39:07.324Z"
   },
   {
    "duration": 5,
    "start_time": "2024-12-08T12:39:07.500Z"
   },
   {
    "duration": 27,
    "start_time": "2024-12-08T12:39:07.507Z"
   },
   {
    "duration": 354,
    "start_time": "2024-12-08T12:39:07.536Z"
   },
   {
    "duration": 24,
    "start_time": "2024-12-08T12:39:07.892Z"
   },
   {
    "duration": 4523,
    "start_time": "2024-12-08T12:39:07.918Z"
   },
   {
    "duration": 4645,
    "start_time": "2024-12-08T12:39:12.442Z"
   },
   {
    "duration": 19,
    "start_time": "2024-12-08T12:39:17.089Z"
   },
   {
    "duration": 73,
    "start_time": "2024-12-08T12:39:17.109Z"
   },
   {
    "duration": 3,
    "start_time": "2024-12-08T12:39:17.184Z"
   },
   {
    "duration": 11,
    "start_time": "2024-12-08T12:39:17.189Z"
   },
   {
    "duration": 5,
    "start_time": "2024-12-08T12:39:17.202Z"
   },
   {
    "duration": 36,
    "start_time": "2024-12-08T12:39:17.209Z"
   },
   {
    "duration": 29,
    "start_time": "2024-12-08T12:39:17.246Z"
   },
   {
    "duration": 18,
    "start_time": "2024-12-08T12:39:17.277Z"
   },
   {
    "duration": 4203687,
    "start_time": "2024-12-08T12:39:17.296Z"
   },
   {
    "duration": 162,
    "start_time": "2024-12-08T13:49:20.986Z"
   },
   {
    "duration": 28,
    "start_time": "2024-12-08T13:51:14.610Z"
   },
   {
    "duration": 1113,
    "start_time": "2024-12-08T13:55:53.867Z"
   },
   {
    "duration": 14,
    "start_time": "2024-12-08T13:57:16.312Z"
   },
   {
    "duration": 5,
    "start_time": "2024-12-08T13:58:20.706Z"
   },
   {
    "duration": 4,
    "start_time": "2024-12-08T13:59:58.818Z"
   },
   {
    "duration": 6,
    "start_time": "2024-12-08T14:00:17.937Z"
   },
   {
    "duration": 6,
    "start_time": "2024-12-08T14:01:12.401Z"
   },
   {
    "duration": 6,
    "start_time": "2024-12-08T14:02:07.572Z"
   },
   {
    "duration": 12,
    "start_time": "2024-12-08T14:02:20.488Z"
   },
   {
    "duration": 6,
    "start_time": "2024-12-08T14:02:27.429Z"
   },
   {
    "duration": 14,
    "start_time": "2024-12-08T14:02:36.807Z"
   },
   {
    "duration": 4,
    "start_time": "2024-12-08T14:02:49.497Z"
   },
   {
    "duration": 4,
    "start_time": "2024-12-08T14:02:59.597Z"
   },
   {
    "duration": 4,
    "start_time": "2024-12-08T14:03:20.122Z"
   },
   {
    "duration": 4,
    "start_time": "2024-12-08T14:03:27.541Z"
   },
   {
    "duration": 10,
    "start_time": "2024-12-08T14:04:13.408Z"
   },
   {
    "duration": 5,
    "start_time": "2024-12-08T14:04:34.758Z"
   },
   {
    "duration": 1035,
    "start_time": "2024-12-08T14:05:00.695Z"
   },
   {
    "duration": 900,
    "start_time": "2024-12-08T14:06:42.359Z"
   },
   {
    "duration": 943,
    "start_time": "2024-12-08T14:06:54.494Z"
   },
   {
    "duration": 3,
    "start_time": "2024-12-08T14:08:01.315Z"
   },
   {
    "duration": 4,
    "start_time": "2024-12-08T14:08:10.465Z"
   },
   {
    "duration": 10,
    "start_time": "2024-12-08T14:09:07.177Z"
   },
   {
    "duration": 16,
    "start_time": "2024-12-08T14:10:13.626Z"
   },
   {
    "duration": 64,
    "start_time": "2024-12-08T14:10:59.564Z"
   },
   {
    "duration": 16,
    "start_time": "2024-12-08T14:11:07.780Z"
   },
   {
    "duration": 15,
    "start_time": "2024-12-08T14:11:19.233Z"
   },
   {
    "duration": 24,
    "start_time": "2024-12-08T14:13:54.160Z"
   },
   {
    "duration": 16,
    "start_time": "2024-12-08T14:14:30.585Z"
   },
   {
    "duration": 15,
    "start_time": "2024-12-08T14:14:53.429Z"
   },
   {
    "duration": 15,
    "start_time": "2024-12-08T14:14:54.405Z"
   },
   {
    "duration": 21,
    "start_time": "2024-12-08T14:14:57.542Z"
   },
   {
    "duration": 5,
    "start_time": "2024-12-08T14:18:20.717Z"
   },
   {
    "duration": 780,
    "start_time": "2024-12-08T14:21:34.230Z"
   },
   {
    "duration": 5,
    "start_time": "2024-12-08T14:22:13.437Z"
   },
   {
    "duration": 3,
    "start_time": "2024-12-08T14:22:44.591Z"
   },
   {
    "duration": 79,
    "start_time": "2024-12-08T14:22:55.972Z"
   },
   {
    "duration": 4,
    "start_time": "2024-12-08T14:23:48.933Z"
   },
   {
    "duration": 4,
    "start_time": "2024-12-08T14:23:51.420Z"
   },
   {
    "duration": 141,
    "start_time": "2024-12-08T14:23:54.226Z"
   },
   {
    "duration": 5,
    "start_time": "2024-12-08T14:29:35.970Z"
   },
   {
    "duration": 43,
    "start_time": "2024-12-08T14:30:48.202Z"
   },
   {
    "duration": 12,
    "start_time": "2024-12-08T14:31:55.420Z"
   },
   {
    "duration": 12,
    "start_time": "2024-12-08T14:33:47.568Z"
   },
   {
    "duration": 14,
    "start_time": "2024-12-08T14:38:19.258Z"
   },
   {
    "duration": 8,
    "start_time": "2024-12-08T14:39:00.799Z"
   },
   {
    "duration": 468,
    "start_time": "2024-12-08T14:39:40.757Z"
   },
   {
    "duration": 3203,
    "start_time": "2024-12-08T14:39:50.251Z"
   },
   {
    "duration": 2792,
    "start_time": "2024-12-08T14:40:13.662Z"
   },
   {
    "duration": 1218,
    "start_time": "2024-12-08T14:40:50.401Z"
   },
   {
    "duration": 57314,
    "start_time": "2024-12-08T14:41:15.559Z"
   },
   {
    "duration": 119,
    "start_time": "2024-12-08T14:42:26.041Z"
   },
   {
    "duration": 603,
    "start_time": "2024-12-08T14:42:56.290Z"
   },
   {
    "duration": 182,
    "start_time": "2024-12-08T14:43:08.972Z"
   },
   {
    "duration": 46,
    "start_time": "2024-12-08T14:43:22.851Z"
   },
   {
    "duration": 10,
    "start_time": "2024-12-08T14:43:32.229Z"
   },
   {
    "duration": 38,
    "start_time": "2024-12-08T14:44:24.740Z"
   },
   {
    "duration": 390,
    "start_time": "2024-12-08T14:45:37.795Z"
   },
   {
    "duration": 63,
    "start_time": "2024-12-09T16:25:59.792Z"
   },
   {
    "duration": 43,
    "start_time": "2024-12-09T16:26:04.818Z"
   },
   {
    "duration": 14,
    "start_time": "2024-12-09T16:29:25.486Z"
   },
   {
    "duration": 6,
    "start_time": "2024-12-09T16:29:30.643Z"
   },
   {
    "duration": 3826,
    "start_time": "2024-12-09T16:29:34.299Z"
   },
   {
    "duration": 1578,
    "start_time": "2024-12-09T16:29:39.581Z"
   },
   {
    "duration": 3,
    "start_time": "2024-12-09T16:29:41.412Z"
   },
   {
    "duration": 1384,
    "start_time": "2024-12-09T16:29:43.635Z"
   },
   {
    "duration": 4,
    "start_time": "2024-12-09T16:29:47.419Z"
   },
   {
    "duration": 3,
    "start_time": "2024-12-09T16:29:48.139Z"
   },
   {
    "duration": 4,
    "start_time": "2024-12-09T16:29:51.908Z"
   },
   {
    "duration": 486,
    "start_time": "2024-12-09T16:29:52.965Z"
   },
   {
    "duration": 87,
    "start_time": "2024-12-09T16:30:13.651Z"
   },
   {
    "duration": 27,
    "start_time": "2024-12-09T16:30:20.707Z"
   },
   {
    "duration": 169,
    "start_time": "2024-12-09T16:30:31.580Z"
   },
   {
    "duration": 100,
    "start_time": "2024-12-09T16:30:33.076Z"
   },
   {
    "duration": 156,
    "start_time": "2024-12-09T16:34:52.287Z"
   },
   {
    "duration": 77,
    "start_time": "2024-12-09T16:36:44.122Z"
   },
   {
    "duration": 2801,
    "start_time": "2024-12-09T16:36:57.202Z"
   },
   {
    "duration": 6,
    "start_time": "2024-12-09T16:37:00.006Z"
   },
   {
    "duration": 74,
    "start_time": "2024-12-09T16:37:00.013Z"
   },
   {
    "duration": 1020,
    "start_time": "2024-12-09T16:37:00.092Z"
   },
   {
    "duration": 4,
    "start_time": "2024-12-09T16:37:01.113Z"
   },
   {
    "duration": 5,
    "start_time": "2024-12-09T16:37:01.119Z"
   },
   {
    "duration": 4,
    "start_time": "2024-12-09T16:37:01.126Z"
   },
   {
    "duration": 524,
    "start_time": "2024-12-09T16:37:01.131Z"
   },
   {
    "duration": 17,
    "start_time": "2024-12-09T16:37:01.657Z"
   },
   {
    "duration": 256,
    "start_time": "2024-12-09T16:37:01.687Z"
   },
   {
    "duration": 99,
    "start_time": "2024-12-09T16:37:01.945Z"
   },
   {
    "duration": 92,
    "start_time": "2024-12-09T16:37:02.045Z"
   },
   {
    "duration": 16,
    "start_time": "2024-12-09T16:41:28.565Z"
   },
   {
    "duration": 2898,
    "start_time": "2024-12-09T16:41:51.970Z"
   },
   {
    "duration": 5,
    "start_time": "2024-12-09T16:41:54.871Z"
   },
   {
    "duration": 7,
    "start_time": "2024-12-09T16:41:54.878Z"
   },
   {
    "duration": 1137,
    "start_time": "2024-12-09T16:41:54.887Z"
   },
   {
    "duration": 6,
    "start_time": "2024-12-09T16:41:56.027Z"
   },
   {
    "duration": 12,
    "start_time": "2024-12-09T16:41:56.034Z"
   },
   {
    "duration": 7,
    "start_time": "2024-12-09T16:41:56.047Z"
   },
   {
    "duration": 577,
    "start_time": "2024-12-09T16:41:56.056Z"
   },
   {
    "duration": 26,
    "start_time": "2024-12-09T16:41:56.635Z"
   },
   {
    "duration": 201,
    "start_time": "2024-12-09T16:41:56.663Z"
   },
   {
    "duration": 112,
    "start_time": "2024-12-09T16:41:56.865Z"
   },
   {
    "duration": 132,
    "start_time": "2024-12-09T16:41:56.979Z"
   },
   {
    "duration": 2852,
    "start_time": "2024-12-09T16:42:22.779Z"
   },
   {
    "duration": 7,
    "start_time": "2024-12-09T16:42:25.636Z"
   },
   {
    "duration": 7,
    "start_time": "2024-12-09T16:42:25.645Z"
   },
   {
    "duration": 1062,
    "start_time": "2024-12-09T16:42:25.654Z"
   },
   {
    "duration": 4,
    "start_time": "2024-12-09T16:42:26.717Z"
   },
   {
    "duration": 5,
    "start_time": "2024-12-09T16:42:26.723Z"
   },
   {
    "duration": 5,
    "start_time": "2024-12-09T16:42:26.730Z"
   },
   {
    "duration": 515,
    "start_time": "2024-12-09T16:42:26.736Z"
   },
   {
    "duration": 16,
    "start_time": "2024-12-09T16:42:27.252Z"
   },
   {
    "duration": 191,
    "start_time": "2024-12-09T16:42:27.270Z"
   },
   {
    "duration": 106,
    "start_time": "2024-12-09T16:42:27.463Z"
   },
   {
    "duration": 130,
    "start_time": "2024-12-09T16:42:27.570Z"
   },
   {
    "duration": 32,
    "start_time": "2024-12-09T16:43:02.476Z"
   },
   {
    "duration": 91,
    "start_time": "2024-12-09T16:43:56.310Z"
   },
   {
    "duration": 949,
    "start_time": "2024-12-09T16:45:22.973Z"
   },
   {
    "duration": 22,
    "start_time": "2024-12-09T16:45:30.717Z"
   },
   {
    "duration": 31,
    "start_time": "2024-12-09T16:45:49.045Z"
   },
   {
    "duration": 331,
    "start_time": "2024-12-09T16:48:28.290Z"
   },
   {
    "duration": 5,
    "start_time": "2024-12-09T16:48:31.801Z"
   },
   {
    "duration": 3,
    "start_time": "2024-12-09T16:48:35.098Z"
   },
   {
    "duration": 69,
    "start_time": "2024-12-09T16:50:55.334Z"
   },
   {
    "duration": 3,
    "start_time": "2024-12-09T16:51:15.021Z"
   },
   {
    "duration": 477,
    "start_time": "2024-12-09T16:51:17.463Z"
   },
   {
    "duration": 3,
    "start_time": "2024-12-09T16:52:29.412Z"
   },
   {
    "duration": 542,
    "start_time": "2024-12-09T16:52:31.617Z"
   },
   {
    "duration": 56,
    "start_time": "2024-12-09T16:57:38.813Z"
   },
   {
    "duration": 5,
    "start_time": "2024-12-09T17:01:42.327Z"
   },
   {
    "duration": 57,
    "start_time": "2024-12-09T17:03:00.420Z"
   },
   {
    "duration": 2764,
    "start_time": "2024-12-09T17:04:18.051Z"
   },
   {
    "duration": 5,
    "start_time": "2024-12-09T17:04:20.818Z"
   },
   {
    "duration": 18,
    "start_time": "2024-12-09T17:04:20.824Z"
   },
   {
    "duration": 913,
    "start_time": "2024-12-09T17:04:20.844Z"
   },
   {
    "duration": 3,
    "start_time": "2024-12-09T17:04:21.759Z"
   },
   {
    "duration": 14,
    "start_time": "2024-12-09T17:04:21.764Z"
   },
   {
    "duration": 41,
    "start_time": "2024-12-09T17:04:21.780Z"
   },
   {
    "duration": 427,
    "start_time": "2024-12-09T17:04:21.823Z"
   },
   {
    "duration": 15,
    "start_time": "2024-12-09T17:04:22.251Z"
   },
   {
    "duration": 174,
    "start_time": "2024-12-09T17:04:22.269Z"
   },
   {
    "duration": 94,
    "start_time": "2024-12-09T17:04:22.445Z"
   },
   {
    "duration": 109,
    "start_time": "2024-12-09T17:04:22.540Z"
   },
   {
    "duration": 22,
    "start_time": "2024-12-09T17:04:22.650Z"
   },
   {
    "duration": 387,
    "start_time": "2024-12-09T17:04:22.673Z"
   },
   {
    "duration": 5,
    "start_time": "2024-12-09T17:04:23.062Z"
   },
   {
    "duration": 30,
    "start_time": "2024-12-09T17:04:23.069Z"
   },
   {
    "duration": 511,
    "start_time": "2024-12-09T17:04:23.101Z"
   },
   {
    "duration": 33,
    "start_time": "2024-12-09T17:04:23.613Z"
   },
   {
    "duration": 3702,
    "start_time": "2024-12-09T17:04:23.648Z"
   },
   {
    "duration": 5,
    "start_time": "2024-12-09T17:04:35.405Z"
   },
   {
    "duration": 3,
    "start_time": "2024-12-09T17:04:38.373Z"
   },
   {
    "duration": 901,
    "start_time": "2024-12-09T17:04:40.329Z"
   },
   {
    "duration": 555,
    "start_time": "2024-12-09T17:06:37.619Z"
   },
   {
    "duration": 32,
    "start_time": "2024-12-09T17:06:38.176Z"
   },
   {
    "duration": 3711,
    "start_time": "2024-12-09T17:06:39.038Z"
   },
   {
    "duration": 64,
    "start_time": "2024-12-09T17:07:10.237Z"
   },
   {
    "duration": 46,
    "start_time": "2024-12-09T17:07:19.560Z"
   },
   {
    "duration": 19,
    "start_time": "2024-12-09T17:07:30.750Z"
   },
   {
    "duration": 19,
    "start_time": "2024-12-09T17:07:39.933Z"
   },
   {
    "duration": 20,
    "start_time": "2024-12-09T17:07:43.353Z"
   },
   {
    "duration": 5,
    "start_time": "2024-12-09T17:08:35.446Z"
   },
   {
    "duration": 2,
    "start_time": "2024-12-09T17:08:39.056Z"
   },
   {
    "duration": 583,
    "start_time": "2024-12-09T17:08:40.208Z"
   },
   {
    "duration": 36,
    "start_time": "2024-12-09T17:08:42.176Z"
   },
   {
    "duration": 4213,
    "start_time": "2024-12-09T17:08:43.370Z"
   },
   {
    "duration": 8,
    "start_time": "2024-12-09T17:08:58.695Z"
   },
   {
    "duration": 3,
    "start_time": "2024-12-09T17:08:58.862Z"
   },
   {
    "duration": 603,
    "start_time": "2024-12-09T17:08:59.929Z"
   },
   {
    "duration": 5,
    "start_time": "2024-12-09T17:09:11.433Z"
   },
   {
    "duration": 3,
    "start_time": "2024-12-09T17:09:11.863Z"
   },
   {
    "duration": 585,
    "start_time": "2024-12-09T17:09:13.713Z"
   },
   {
    "duration": 20,
    "start_time": "2024-12-09T17:09:17.552Z"
   },
   {
    "duration": 4250,
    "start_time": "2024-12-09T17:09:18.976Z"
   },
   {
    "duration": 5,
    "start_time": "2024-12-09T17:10:51.763Z"
   },
   {
    "duration": 3,
    "start_time": "2024-12-09T17:10:52.199Z"
   },
   {
    "duration": 605,
    "start_time": "2024-12-09T17:10:53.354Z"
   },
   {
    "duration": 25,
    "start_time": "2024-12-09T17:10:56.587Z"
   },
   {
    "duration": 3899,
    "start_time": "2024-12-09T17:10:57.496Z"
   },
   {
    "duration": 37,
    "start_time": "2024-12-09T17:12:17.519Z"
   },
   {
    "duration": 36,
    "start_time": "2024-12-09T17:12:25.756Z"
   },
   {
    "duration": 43,
    "start_time": "2024-12-09T17:12:31.734Z"
   },
   {
    "duration": 43,
    "start_time": "2024-12-09T17:14:40.665Z"
   },
   {
    "duration": 19,
    "start_time": "2024-12-09T17:15:00.935Z"
   },
   {
    "duration": 35,
    "start_time": "2024-12-09T17:15:08.133Z"
   },
   {
    "duration": 27,
    "start_time": "2024-12-09T17:15:42.470Z"
   },
   {
    "duration": 9,
    "start_time": "2024-12-09T17:16:18.997Z"
   },
   {
    "duration": 2,
    "start_time": "2024-12-09T17:16:19.537Z"
   },
   {
    "duration": 944,
    "start_time": "2024-12-09T17:16:20.463Z"
   },
   {
    "duration": 869,
    "start_time": "2024-12-09T17:16:48.207Z"
   },
   {
    "duration": 18,
    "start_time": "2024-12-09T17:16:55.707Z"
   },
   {
    "duration": 905,
    "start_time": "2024-12-09T17:17:10.857Z"
   },
   {
    "duration": 4,
    "start_time": "2024-12-09T17:17:14.601Z"
   },
   {
    "duration": 13,
    "start_time": "2024-12-09T17:17:14.983Z"
   },
   {
    "duration": 21,
    "start_time": "2024-12-09T17:17:21.528Z"
   },
   {
    "duration": 25,
    "start_time": "2024-12-09T17:17:32.686Z"
   },
   {
    "duration": 20,
    "start_time": "2024-12-09T17:18:17.116Z"
   },
   {
    "duration": 7,
    "start_time": "2024-12-09T17:20:16.899Z"
   },
   {
    "duration": 4,
    "start_time": "2024-12-09T17:20:18.611Z"
   },
   {
    "duration": 15,
    "start_time": "2024-12-09T17:20:20.042Z"
   },
   {
    "duration": 4,
    "start_time": "2024-12-09T17:20:34.931Z"
   },
   {
    "duration": 3,
    "start_time": "2024-12-09T17:20:35.203Z"
   },
   {
    "duration": 20,
    "start_time": "2024-12-09T17:20:37.082Z"
   },
   {
    "duration": 4,
    "start_time": "2024-12-09T17:21:31.114Z"
   },
   {
    "duration": 3,
    "start_time": "2024-12-09T17:21:32.315Z"
   },
   {
    "duration": 110,
    "start_time": "2024-12-09T17:21:33.266Z"
   },
   {
    "duration": 4,
    "start_time": "2024-12-09T17:22:30.519Z"
   },
   {
    "duration": 3,
    "start_time": "2024-12-09T17:22:31.042Z"
   },
   {
    "duration": 297,
    "start_time": "2024-12-09T17:22:34.068Z"
   },
   {
    "duration": 4,
    "start_time": "2024-12-09T17:22:54.873Z"
   },
   {
    "duration": 4,
    "start_time": "2024-12-09T17:22:55.196Z"
   },
   {
    "duration": 961,
    "start_time": "2024-12-09T17:22:56.916Z"
   },
   {
    "duration": 40,
    "start_time": "2024-12-09T17:23:08.261Z"
   },
   {
    "duration": 3976,
    "start_time": "2024-12-09T17:23:10.532Z"
   },
   {
    "duration": 5,
    "start_time": "2024-12-09T17:24:50.875Z"
   },
   {
    "duration": 3,
    "start_time": "2024-12-09T17:24:51.333Z"
   },
   {
    "duration": 621,
    "start_time": "2024-12-09T17:24:52.280Z"
   },
   {
    "duration": 31,
    "start_time": "2024-12-09T17:24:56.791Z"
   },
   {
    "duration": 4110,
    "start_time": "2024-12-09T17:24:58.118Z"
   },
   {
    "duration": 5,
    "start_time": "2024-12-09T17:26:22.616Z"
   },
   {
    "duration": 3,
    "start_time": "2024-12-09T17:26:23.115Z"
   },
   {
    "duration": 616,
    "start_time": "2024-12-09T17:26:24.918Z"
   },
   {
    "duration": 25,
    "start_time": "2024-12-09T17:26:26.413Z"
   },
   {
    "duration": 3869,
    "start_time": "2024-12-09T17:26:27.511Z"
   },
   {
    "duration": 19,
    "start_time": "2024-12-09T17:27:22.446Z"
   },
   {
    "duration": 65,
    "start_time": "2024-12-09T17:29:33.579Z"
   },
   {
    "duration": 3,
    "start_time": "2024-12-09T17:37:16.158Z"
   },
   {
    "duration": 20,
    "start_time": "2024-12-09T17:37:16.631Z"
   },
   {
    "duration": 3,
    "start_time": "2024-12-09T17:37:17.084Z"
   },
   {
    "duration": 3,
    "start_time": "2024-12-09T17:37:20.430Z"
   },
   {
    "duration": 12,
    "start_time": "2024-12-09T17:37:21.940Z"
   },
   {
    "duration": 4,
    "start_time": "2024-12-09T17:37:47.406Z"
   },
   {
    "duration": 2,
    "start_time": "2024-12-09T17:37:48.355Z"
   },
   {
    "duration": 21,
    "start_time": "2024-12-09T17:37:49.389Z"
   },
   {
    "duration": 3,
    "start_time": "2024-12-09T17:39:16.910Z"
   },
   {
    "duration": 3,
    "start_time": "2024-12-09T17:39:17.174Z"
   },
   {
    "duration": 21467,
    "start_time": "2024-12-09T17:39:19.305Z"
   },
   {
    "duration": 404,
    "start_time": "2024-12-09T17:40:03.461Z"
   },
   {
    "duration": 3,
    "start_time": "2024-12-09T17:42:03.233Z"
   },
   {
    "duration": 399,
    "start_time": "2024-12-09T17:42:04.233Z"
   },
   {
    "duration": 4,
    "start_time": "2024-12-09T17:42:05.892Z"
   },
   {
    "duration": 4,
    "start_time": "2024-12-09T17:42:20.922Z"
   },
   {
    "duration": 391,
    "start_time": "2024-12-09T17:42:21.401Z"
   },
   {
    "duration": 5,
    "start_time": "2024-12-09T17:42:21.794Z"
   },
   {
    "duration": 122,
    "start_time": "2024-12-09T17:42:25.278Z"
   },
   {
    "duration": 4,
    "start_time": "2024-12-09T17:43:51.244Z"
   },
   {
    "duration": 4,
    "start_time": "2024-12-09T17:43:52.939Z"
   },
   {
    "duration": 405,
    "start_time": "2024-12-09T17:43:53.293Z"
   },
   {
    "duration": 5,
    "start_time": "2024-12-09T17:43:53.701Z"
   },
   {
    "duration": 419,
    "start_time": "2024-12-09T17:43:56.138Z"
   },
   {
    "duration": 4,
    "start_time": "2024-12-09T17:44:09.276Z"
   },
   {
    "duration": 3128,
    "start_time": "2024-12-09T17:44:09.667Z"
   },
   {
    "duration": 5,
    "start_time": "2024-12-09T17:44:12.797Z"
   },
   {
    "duration": 426,
    "start_time": "2024-12-09T17:44:12.803Z"
   },
   {
    "duration": 4,
    "start_time": "2024-12-09T17:48:12.119Z"
   },
   {
    "duration": 393,
    "start_time": "2024-12-09T17:48:12.439Z"
   },
   {
    "duration": 3,
    "start_time": "2024-12-09T17:48:13.367Z"
   },
   {
    "duration": 16970,
    "start_time": "2024-12-09T17:48:15.239Z"
   },
   {
    "duration": 6,
    "start_time": "2024-12-09T17:48:39.215Z"
   },
   {
    "duration": 391,
    "start_time": "2024-12-09T17:48:39.471Z"
   },
   {
    "duration": 3,
    "start_time": "2024-12-09T17:48:40.359Z"
   },
   {
    "duration": 23042,
    "start_time": "2024-12-09T17:48:41.607Z"
   },
   {
    "duration": 4,
    "start_time": "2024-12-09T17:50:11.929Z"
   },
   {
    "duration": 3,
    "start_time": "2024-12-09T17:50:12.382Z"
   },
   {
    "duration": 50192,
    "start_time": "2024-12-09T17:50:14.715Z"
   },
   {
    "duration": 4,
    "start_time": "2024-12-09T17:52:24.802Z"
   },
   {
    "duration": 3,
    "start_time": "2024-12-09T17:52:27.170Z"
   },
   {
    "duration": 83945,
    "start_time": "2024-12-09T17:52:29.562Z"
   },
   {
    "duration": 3,
    "start_time": "2024-12-09T17:57:10.503Z"
   },
   {
    "duration": 3,
    "start_time": "2024-12-09T17:57:10.938Z"
   },
   {
    "duration": 86939,
    "start_time": "2024-12-09T17:57:13.219Z"
   },
   {
    "duration": 4,
    "start_time": "2024-12-09T17:58:46.382Z"
   },
   {
    "duration": 3,
    "start_time": "2024-12-09T17:58:46.943Z"
   },
   {
    "duration": 87118,
    "start_time": "2024-12-09T17:58:48.048Z"
   },
   {
    "duration": 53,
    "start_time": "2024-12-09T18:00:15.168Z"
   },
   {
    "duration": 6,
    "start_time": "2024-12-09T18:00:50.633Z"
   },
   {
    "duration": 3,
    "start_time": "2024-12-09T18:00:51.249Z"
   },
   {
    "duration": 87246,
    "start_time": "2024-12-09T18:00:54.195Z"
   },
   {
    "duration": 19,
    "start_time": "2024-12-09T18:03:45.627Z"
   },
   {
    "duration": 13213,
    "start_time": "2024-12-09T18:03:55.516Z"
   },
   {
    "duration": 242,
    "start_time": "2024-12-09T18:04:42.859Z"
   },
   {
    "duration": 210,
    "start_time": "2024-12-09T18:04:53.291Z"
   },
   {
    "duration": 175,
    "start_time": "2024-12-09T18:05:00.080Z"
   },
   {
    "duration": 167,
    "start_time": "2024-12-09T18:07:00.844Z"
   },
   {
    "duration": 12219,
    "start_time": "2024-12-09T18:07:36.445Z"
   },
   {
    "duration": 167,
    "start_time": "2024-12-09T18:08:15.362Z"
   },
   {
    "duration": 8959,
    "start_time": "2024-12-09T18:08:39.482Z"
   },
   {
    "duration": 1946,
    "start_time": "2024-12-09T18:11:09.620Z"
   },
   {
    "duration": 285,
    "start_time": "2024-12-09T18:11:27.561Z"
   },
   {
    "duration": 314,
    "start_time": "2024-12-09T18:11:40.948Z"
   },
   {
    "duration": 309,
    "start_time": "2024-12-09T18:11:58.409Z"
   },
   {
    "duration": 1418,
    "start_time": "2024-12-09T18:12:11.498Z"
   },
   {
    "duration": 189,
    "start_time": "2024-12-09T18:13:36.843Z"
   },
   {
    "duration": 175,
    "start_time": "2024-12-09T18:13:48.232Z"
   },
   {
    "duration": 1169,
    "start_time": "2024-12-09T18:14:06.060Z"
   },
   {
    "duration": 195,
    "start_time": "2024-12-09T18:15:08.507Z"
   },
   {
    "duration": 169,
    "start_time": "2024-12-09T18:16:31.236Z"
   },
   {
    "duration": 24,
    "start_time": "2024-12-09T18:16:34.627Z"
   },
   {
    "duration": 201,
    "start_time": "2024-12-09T18:16:35.165Z"
   },
   {
    "duration": 300,
    "start_time": "2024-12-09T18:16:37.725Z"
   },
   {
    "duration": 150,
    "start_time": "2024-12-09T18:17:04.654Z"
   },
   {
    "duration": 153,
    "start_time": "2024-12-09T18:17:14.580Z"
   },
   {
    "duration": 408,
    "start_time": "2024-12-09T18:19:23.849Z"
   },
   {
    "duration": 426,
    "start_time": "2024-12-09T18:19:38.441Z"
   },
   {
    "duration": 428,
    "start_time": "2024-12-09T18:19:47.417Z"
   },
   {
    "duration": 845,
    "start_time": "2024-12-09T18:19:58.270Z"
   },
   {
    "duration": 17,
    "start_time": "2024-12-09T18:22:50.156Z"
   },
   {
    "duration": 1334,
    "start_time": "2024-12-09T18:25:30.484Z"
   },
   {
    "duration": 442,
    "start_time": "2024-12-09T18:25:38.229Z"
   },
   {
    "duration": 0,
    "start_time": "2024-12-09T18:26:45.304Z"
   },
   {
    "duration": 2191,
    "start_time": "2024-12-09T18:26:52.180Z"
   },
   {
    "duration": 27020,
    "start_time": "2024-12-09T18:27:06.298Z"
   },
   {
    "duration": 114,
    "start_time": "2024-12-09T18:27:40.079Z"
   },
   {
    "duration": 106,
    "start_time": "2024-12-09T18:27:47.211Z"
   },
   {
    "duration": 116,
    "start_time": "2024-12-09T18:27:53.620Z"
   },
   {
    "duration": 12,
    "start_time": "2024-12-09T18:33:48.283Z"
   },
   {
    "duration": 16,
    "start_time": "2024-12-09T18:33:57.255Z"
   },
   {
    "duration": 18,
    "start_time": "2024-12-09T18:34:14.580Z"
   },
   {
    "duration": 7,
    "start_time": "2024-12-09T18:34:17.843Z"
   },
   {
    "duration": 7,
    "start_time": "2024-12-09T18:34:22.046Z"
   },
   {
    "duration": 2774,
    "start_time": "2024-12-09T18:34:48.236Z"
   },
   {
    "duration": 5,
    "start_time": "2024-12-09T18:34:51.015Z"
   },
   {
    "duration": 58,
    "start_time": "2024-12-09T18:34:51.022Z"
   },
   {
    "duration": 984,
    "start_time": "2024-12-09T18:34:51.082Z"
   },
   {
    "duration": 4,
    "start_time": "2024-12-09T18:34:52.068Z"
   },
   {
    "duration": 19,
    "start_time": "2024-12-09T18:34:52.073Z"
   },
   {
    "duration": 9,
    "start_time": "2024-12-09T18:34:52.094Z"
   },
   {
    "duration": 526,
    "start_time": "2024-12-09T18:34:52.104Z"
   },
   {
    "duration": 29,
    "start_time": "2024-12-09T18:34:52.632Z"
   },
   {
    "duration": 230,
    "start_time": "2024-12-09T18:34:52.663Z"
   },
   {
    "duration": 110,
    "start_time": "2024-12-09T18:34:52.895Z"
   },
   {
    "duration": 163,
    "start_time": "2024-12-09T18:34:53.007Z"
   },
   {
    "duration": 32,
    "start_time": "2024-12-09T18:34:53.172Z"
   },
   {
    "duration": 348,
    "start_time": "2024-12-09T18:34:53.206Z"
   },
   {
    "duration": 3,
    "start_time": "2024-12-09T18:34:53.555Z"
   },
   {
    "duration": 1321,
    "start_time": "2024-12-09T18:34:53.559Z"
   },
   {
    "duration": 46,
    "start_time": "2024-12-09T18:34:54.881Z"
   },
   {
    "duration": 209,
    "start_time": "2024-12-09T18:34:54.928Z"
   },
   {
    "duration": 467,
    "start_time": "2024-12-09T18:34:55.139Z"
   },
   {
    "duration": 118,
    "start_time": "2024-12-09T18:34:55.609Z"
   },
   {
    "duration": 7,
    "start_time": "2024-12-09T18:34:55.728Z"
   },
   {
    "duration": 10,
    "start_time": "2024-12-09T18:35:50.839Z"
   },
   {
    "duration": 11,
    "start_time": "2024-12-09T18:40:48.488Z"
   },
   {
    "duration": 115,
    "start_time": "2024-12-09T18:41:02.292Z"
   },
   {
    "duration": 2812,
    "start_time": "2024-12-09T18:41:18.861Z"
   },
   {
    "duration": 5,
    "start_time": "2024-12-09T18:41:21.676Z"
   },
   {
    "duration": 23,
    "start_time": "2024-12-09T18:41:21.682Z"
   },
   {
    "duration": 928,
    "start_time": "2024-12-09T18:41:21.708Z"
   },
   {
    "duration": 4,
    "start_time": "2024-12-09T18:41:22.638Z"
   },
   {
    "duration": 15,
    "start_time": "2024-12-09T18:41:22.643Z"
   },
   {
    "duration": 5,
    "start_time": "2024-12-09T18:41:22.660Z"
   },
   {
    "duration": 463,
    "start_time": "2024-12-09T18:41:22.666Z"
   },
   {
    "duration": 22,
    "start_time": "2024-12-09T18:41:23.131Z"
   },
   {
    "duration": 170,
    "start_time": "2024-12-09T18:41:23.156Z"
   },
   {
    "duration": 105,
    "start_time": "2024-12-09T18:41:23.328Z"
   },
   {
    "duration": 105,
    "start_time": "2024-12-09T18:41:23.434Z"
   },
   {
    "duration": 21,
    "start_time": "2024-12-09T18:41:23.540Z"
   },
   {
    "duration": 351,
    "start_time": "2024-12-09T18:41:23.562Z"
   },
   {
    "duration": 2,
    "start_time": "2024-12-09T18:41:23.915Z"
   },
   {
    "duration": 1208,
    "start_time": "2024-12-09T18:41:23.919Z"
   },
   {
    "duration": 36,
    "start_time": "2024-12-09T18:41:25.129Z"
   },
   {
    "duration": 212,
    "start_time": "2024-12-09T18:41:25.166Z"
   },
   {
    "duration": 463,
    "start_time": "2024-12-09T18:41:25.380Z"
   },
   {
    "duration": 116,
    "start_time": "2024-12-09T18:41:25.844Z"
   },
   {
    "duration": 6,
    "start_time": "2024-12-09T18:41:25.961Z"
   },
   {
    "duration": 16,
    "start_time": "2024-12-09T18:41:38.632Z"
   },
   {
    "duration": 7,
    "start_time": "2024-12-09T18:42:45.866Z"
   },
   {
    "duration": 10,
    "start_time": "2024-12-09T18:42:47.895Z"
   },
   {
    "duration": 121,
    "start_time": "2024-12-09T18:42:52.337Z"
   },
   {
    "duration": 130,
    "start_time": "2024-12-09T18:43:23.382Z"
   },
   {
    "duration": 48,
    "start_time": "2024-12-09T18:46:00.397Z"
   },
   {
    "duration": 156,
    "start_time": "2024-12-09T18:46:33.940Z"
   },
   {
    "duration": 255,
    "start_time": "2024-12-09T18:46:48.812Z"
   },
   {
    "duration": 271,
    "start_time": "2024-12-09T18:46:59.310Z"
   },
   {
    "duration": 322,
    "start_time": "2024-12-09T18:47:54.525Z"
   },
   {
    "duration": 42,
    "start_time": "2024-12-09T18:50:38.921Z"
   },
   {
    "duration": 49,
    "start_time": "2024-12-09T18:51:01.167Z"
   },
   {
    "duration": 131,
    "start_time": "2024-12-09T18:51:15.893Z"
   },
   {
    "duration": 127,
    "start_time": "2024-12-09T18:51:23.216Z"
   },
   {
    "duration": 61,
    "start_time": "2024-12-09T18:52:40.060Z"
   },
   {
    "duration": 182,
    "start_time": "2024-12-09T18:52:44.286Z"
   },
   {
    "duration": 179,
    "start_time": "2024-12-09T18:53:02.677Z"
   },
   {
    "duration": 169,
    "start_time": "2024-12-09T18:55:39.098Z"
   },
   {
    "duration": 137,
    "start_time": "2024-12-09T18:56:21.628Z"
   },
   {
    "duration": 141,
    "start_time": "2024-12-09T18:56:38.138Z"
   },
   {
    "duration": 3387,
    "start_time": "2024-12-09T18:59:32.278Z"
   },
   {
    "duration": 193,
    "start_time": "2024-12-09T19:00:10.516Z"
   },
   {
    "duration": 160,
    "start_time": "2024-12-09T19:00:29.040Z"
   },
   {
    "duration": 174,
    "start_time": "2024-12-09T19:02:06.161Z"
   },
   {
    "duration": 156,
    "start_time": "2024-12-09T19:03:11.516Z"
   },
   {
    "duration": 476,
    "start_time": "2024-12-09T19:03:53.525Z"
   },
   {
    "duration": 183,
    "start_time": "2024-12-09T19:04:24.185Z"
   },
   {
    "duration": 169,
    "start_time": "2024-12-09T19:04:36.611Z"
   },
   {
    "duration": 147,
    "start_time": "2024-12-09T19:05:19.505Z"
   },
   {
    "duration": 5759,
    "start_time": "2024-12-09T19:06:38.240Z"
   },
   {
    "duration": 24,
    "start_time": "2024-12-09T19:08:28.684Z"
   },
   {
    "duration": 89,
    "start_time": "2024-12-09T19:08:35.549Z"
   },
   {
    "duration": 4,
    "start_time": "2024-12-09T19:11:52.393Z"
   },
   {
    "duration": 13,
    "start_time": "2024-12-09T19:29:55.563Z"
   },
   {
    "duration": 9,
    "start_time": "2024-12-09T19:31:45.028Z"
   },
   {
    "duration": 4253,
    "start_time": "2024-12-09T19:32:33.885Z"
   },
   {
    "duration": 8926,
    "start_time": "2024-12-09T19:33:16.200Z"
   },
   {
    "duration": 2783,
    "start_time": "2024-12-09T19:33:31.186Z"
   },
   {
    "duration": 18,
    "start_time": "2024-12-09T19:33:35.327Z"
   },
   {
    "duration": 10,
    "start_time": "2024-12-09T19:33:42.418Z"
   },
   {
    "duration": 5490,
    "start_time": "2024-12-09T19:35:50.212Z"
   },
   {
    "duration": 69,
    "start_time": "2024-12-09T19:36:01.505Z"
   },
   {
    "duration": 5503,
    "start_time": "2024-12-09T19:37:54.604Z"
   },
   {
    "duration": 6,
    "start_time": "2024-12-09T19:38:00.109Z"
   },
   {
    "duration": 35,
    "start_time": "2024-12-09T19:38:00.116Z"
   },
   {
    "duration": 981,
    "start_time": "2024-12-09T19:38:00.153Z"
   },
   {
    "duration": 3,
    "start_time": "2024-12-09T19:38:01.136Z"
   },
   {
    "duration": 23,
    "start_time": "2024-12-09T19:38:01.140Z"
   },
   {
    "duration": 47,
    "start_time": "2024-12-09T19:38:01.165Z"
   },
   {
    "duration": 479,
    "start_time": "2024-12-09T19:38:01.214Z"
   },
   {
    "duration": 20,
    "start_time": "2024-12-09T19:38:01.695Z"
   },
   {
    "duration": 147,
    "start_time": "2024-12-09T19:38:01.719Z"
   },
   {
    "duration": 99,
    "start_time": "2024-12-09T19:38:01.868Z"
   },
   {
    "duration": 101,
    "start_time": "2024-12-09T19:38:01.969Z"
   },
   {
    "duration": 27,
    "start_time": "2024-12-09T19:38:02.071Z"
   },
   {
    "duration": 363,
    "start_time": "2024-12-09T19:38:02.100Z"
   },
   {
    "duration": 3,
    "start_time": "2024-12-09T19:38:02.464Z"
   },
   {
    "duration": 1223,
    "start_time": "2024-12-09T19:38:02.468Z"
   },
   {
    "duration": 30,
    "start_time": "2024-12-09T19:38:03.693Z"
   },
   {
    "duration": 207,
    "start_time": "2024-12-09T19:38:03.725Z"
   },
   {
    "duration": 431,
    "start_time": "2024-12-09T19:38:03.934Z"
   },
   {
    "duration": 113,
    "start_time": "2024-12-09T19:38:04.366Z"
   },
   {
    "duration": 13,
    "start_time": "2024-12-09T19:38:04.480Z"
   },
   {
    "duration": 141,
    "start_time": "2024-12-09T19:38:04.494Z"
   },
   {
    "duration": 184,
    "start_time": "2024-12-09T19:38:04.637Z"
   },
   {
    "duration": 144,
    "start_time": "2024-12-09T19:38:04.823Z"
   },
   {
    "duration": 169,
    "start_time": "2024-12-09T19:38:04.970Z"
   },
   {
    "duration": 163,
    "start_time": "2024-12-09T19:38:05.141Z"
   },
   {
    "duration": 177,
    "start_time": "2024-12-09T19:38:05.306Z"
   },
   {
    "duration": 166,
    "start_time": "2024-12-09T19:38:05.486Z"
   },
   {
    "duration": 11025,
    "start_time": "2024-12-09T19:38:05.654Z"
   },
   {
    "duration": 31,
    "start_time": "2024-12-09T19:38:16.680Z"
   },
   {
    "duration": 77,
    "start_time": "2024-12-09T19:38:16.712Z"
   },
   {
    "duration": 5,
    "start_time": "2024-12-09T19:38:16.792Z"
   },
   {
    "duration": 3,
    "start_time": "2024-12-09T19:38:24.816Z"
   },
   {
    "duration": 5742,
    "start_time": "2024-12-09T19:41:02.632Z"
   },
   {
    "duration": 6,
    "start_time": "2024-12-09T19:41:08.377Z"
   },
   {
    "duration": 4,
    "start_time": "2024-12-09T19:41:08.384Z"
   },
   {
    "duration": 974,
    "start_time": "2024-12-09T19:41:08.390Z"
   },
   {
    "duration": 3,
    "start_time": "2024-12-09T19:41:09.366Z"
   },
   {
    "duration": 26,
    "start_time": "2024-12-09T19:41:09.371Z"
   },
   {
    "duration": 4,
    "start_time": "2024-12-09T19:41:09.404Z"
   },
   {
    "duration": 506,
    "start_time": "2024-12-09T19:41:09.409Z"
   },
   {
    "duration": 18,
    "start_time": "2024-12-09T19:41:09.917Z"
   },
   {
    "duration": 184,
    "start_time": "2024-12-09T19:41:09.938Z"
   },
   {
    "duration": 91,
    "start_time": "2024-12-09T19:41:10.124Z"
   },
   {
    "duration": 122,
    "start_time": "2024-12-09T19:41:10.217Z"
   },
   {
    "duration": 22,
    "start_time": "2024-12-09T19:41:10.340Z"
   },
   {
    "duration": 353,
    "start_time": "2024-12-09T19:41:10.364Z"
   },
   {
    "duration": 3,
    "start_time": "2024-12-09T19:41:10.719Z"
   },
   {
    "duration": 1682,
    "start_time": "2024-12-09T19:41:10.724Z"
   },
   {
    "duration": 38,
    "start_time": "2024-12-09T19:41:12.409Z"
   },
   {
    "duration": 220,
    "start_time": "2024-12-09T19:41:12.449Z"
   },
   {
    "duration": 469,
    "start_time": "2024-12-09T19:41:12.671Z"
   },
   {
    "duration": 121,
    "start_time": "2024-12-09T19:41:13.142Z"
   },
   {
    "duration": 8,
    "start_time": "2024-12-09T19:41:13.265Z"
   },
   {
    "duration": 135,
    "start_time": "2024-12-09T19:41:13.286Z"
   },
   {
    "duration": 182,
    "start_time": "2024-12-09T19:41:13.422Z"
   },
   {
    "duration": 150,
    "start_time": "2024-12-09T19:41:13.606Z"
   },
   {
    "duration": 171,
    "start_time": "2024-12-09T19:41:13.758Z"
   },
   {
    "duration": 166,
    "start_time": "2024-12-09T19:41:13.930Z"
   },
   {
    "duration": 191,
    "start_time": "2024-12-09T19:41:14.098Z"
   },
   {
    "duration": 153,
    "start_time": "2024-12-09T19:41:14.293Z"
   },
   {
    "duration": 6324,
    "start_time": "2024-12-09T19:41:14.447Z"
   },
   {
    "duration": 26,
    "start_time": "2024-12-09T19:41:20.772Z"
   },
   {
    "duration": 90,
    "start_time": "2024-12-09T19:41:20.801Z"
   },
   {
    "duration": 12,
    "start_time": "2024-12-09T19:41:20.893Z"
   },
   {
    "duration": 5,
    "start_time": "2024-12-09T19:41:20.908Z"
   },
   {
    "duration": 12,
    "start_time": "2024-12-09T19:41:20.915Z"
   },
   {
    "duration": 26,
    "start_time": "2024-12-09T19:41:20.928Z"
   },
   {
    "duration": 6,
    "start_time": "2024-12-09T19:41:20.956Z"
   },
   {
    "duration": 169,
    "start_time": "2024-12-09T19:41:46.330Z"
   },
   {
    "duration": 5651,
    "start_time": "2024-12-09T19:42:02.599Z"
   },
   {
    "duration": 6,
    "start_time": "2024-12-09T19:42:08.253Z"
   },
   {
    "duration": 44,
    "start_time": "2024-12-09T19:42:08.261Z"
   },
   {
    "duration": 1000,
    "start_time": "2024-12-09T19:42:08.307Z"
   },
   {
    "duration": 4,
    "start_time": "2024-12-09T19:42:09.309Z"
   },
   {
    "duration": 27,
    "start_time": "2024-12-09T19:42:09.315Z"
   },
   {
    "duration": 6,
    "start_time": "2024-12-09T19:42:09.344Z"
   },
   {
    "duration": 526,
    "start_time": "2024-12-09T19:42:09.352Z"
   },
   {
    "duration": 22,
    "start_time": "2024-12-09T19:42:09.879Z"
   },
   {
    "duration": 159,
    "start_time": "2024-12-09T19:42:09.903Z"
   },
   {
    "duration": 101,
    "start_time": "2024-12-09T19:42:10.063Z"
   },
   {
    "duration": 127,
    "start_time": "2024-12-09T19:42:10.166Z"
   },
   {
    "duration": 25,
    "start_time": "2024-12-09T19:42:10.296Z"
   },
   {
    "duration": 356,
    "start_time": "2024-12-09T19:42:10.323Z"
   },
   {
    "duration": 9,
    "start_time": "2024-12-09T19:42:10.681Z"
   },
   {
    "duration": 12681,
    "start_time": "2024-12-09T19:42:10.692Z"
   },
   {
    "duration": 44,
    "start_time": "2024-12-09T19:42:23.375Z"
   },
   {
    "duration": 5563,
    "start_time": "2024-12-09T19:42:54.753Z"
   },
   {
    "duration": 5,
    "start_time": "2024-12-09T19:43:00.319Z"
   },
   {
    "duration": 42,
    "start_time": "2024-12-09T19:43:00.326Z"
   },
   {
    "duration": 1032,
    "start_time": "2024-12-09T19:43:00.370Z"
   },
   {
    "duration": 5,
    "start_time": "2024-12-09T19:43:01.404Z"
   },
   {
    "duration": 14,
    "start_time": "2024-12-09T19:43:01.410Z"
   },
   {
    "duration": 17,
    "start_time": "2024-12-09T19:43:01.425Z"
   },
   {
    "duration": 493,
    "start_time": "2024-12-09T19:43:01.444Z"
   },
   {
    "duration": 25,
    "start_time": "2024-12-09T19:43:01.939Z"
   },
   {
    "duration": 197,
    "start_time": "2024-12-09T19:43:01.966Z"
   },
   {
    "duration": 95,
    "start_time": "2024-12-09T19:43:02.165Z"
   },
   {
    "duration": 136,
    "start_time": "2024-12-09T19:43:02.261Z"
   },
   {
    "duration": 34,
    "start_time": "2024-12-09T19:43:02.400Z"
   },
   {
    "duration": 351,
    "start_time": "2024-12-09T19:43:02.435Z"
   },
   {
    "duration": 3,
    "start_time": "2024-12-09T19:43:02.788Z"
   },
   {
    "duration": 2880,
    "start_time": "2024-12-09T19:43:02.793Z"
   },
   {
    "duration": 43,
    "start_time": "2024-12-09T19:43:05.675Z"
   },
   {
    "duration": 176,
    "start_time": "2024-12-09T19:43:05.720Z"
   },
   {
    "duration": 206,
    "start_time": "2024-12-09T19:43:05.897Z"
   },
   {
    "duration": 452,
    "start_time": "2024-12-09T19:43:06.105Z"
   },
   {
    "duration": 123,
    "start_time": "2024-12-09T19:43:06.559Z"
   },
   {
    "duration": 16,
    "start_time": "2024-12-09T19:43:06.686Z"
   },
   {
    "duration": 138,
    "start_time": "2024-12-09T19:43:06.703Z"
   },
   {
    "duration": 183,
    "start_time": "2024-12-09T19:43:06.843Z"
   },
   {
    "duration": 137,
    "start_time": "2024-12-09T19:43:07.028Z"
   },
   {
    "duration": 183,
    "start_time": "2024-12-09T19:43:07.167Z"
   },
   {
    "duration": 174,
    "start_time": "2024-12-09T19:43:07.352Z"
   },
   {
    "duration": 195,
    "start_time": "2024-12-09T19:43:07.530Z"
   },
   {
    "duration": 151,
    "start_time": "2024-12-09T19:43:07.727Z"
   },
   {
    "duration": 6444,
    "start_time": "2024-12-09T19:43:07.879Z"
   },
   {
    "duration": 20,
    "start_time": "2024-12-09T19:43:14.325Z"
   },
   {
    "duration": 92,
    "start_time": "2024-12-09T19:43:14.347Z"
   },
   {
    "duration": 2,
    "start_time": "2024-12-09T19:43:14.441Z"
   },
   {
    "duration": 75,
    "start_time": "2024-12-09T19:43:14.445Z"
   },
   {
    "duration": 3,
    "start_time": "2024-12-09T19:43:14.522Z"
   },
   {
    "duration": 4,
    "start_time": "2024-12-09T19:43:14.526Z"
   },
   {
    "duration": 3,
    "start_time": "2024-12-09T19:43:19.620Z"
   },
   {
    "duration": 4,
    "start_time": "2024-12-09T19:43:20.808Z"
   },
   {
    "duration": 4,
    "start_time": "2024-12-09T19:43:29.456Z"
   },
   {
    "duration": 4,
    "start_time": "2024-12-09T19:43:30.870Z"
   },
   {
    "duration": 48984,
    "start_time": "2024-12-09T19:43:33.165Z"
   },
   {
    "duration": 5655,
    "start_time": "2024-12-09T19:45:50.310Z"
   },
   {
    "duration": 7,
    "start_time": "2024-12-09T19:45:55.968Z"
   },
   {
    "duration": 10,
    "start_time": "2024-12-09T19:45:55.977Z"
   },
   {
    "duration": 977,
    "start_time": "2024-12-09T19:45:55.990Z"
   },
   {
    "duration": 3,
    "start_time": "2024-12-09T19:45:56.969Z"
   },
   {
    "duration": 13,
    "start_time": "2024-12-09T19:45:56.974Z"
   },
   {
    "duration": 14,
    "start_time": "2024-12-09T19:45:56.988Z"
   },
   {
    "duration": 459,
    "start_time": "2024-12-09T19:45:57.003Z"
   },
   {
    "duration": 33,
    "start_time": "2024-12-09T19:45:57.464Z"
   },
   {
    "duration": 156,
    "start_time": "2024-12-09T19:45:57.500Z"
   },
   {
    "duration": 94,
    "start_time": "2024-12-09T19:45:57.657Z"
   },
   {
    "duration": 133,
    "start_time": "2024-12-09T19:45:57.753Z"
   },
   {
    "duration": 28,
    "start_time": "2024-12-09T19:45:57.887Z"
   },
   {
    "duration": 335,
    "start_time": "2024-12-09T19:45:57.917Z"
   },
   {
    "duration": 3,
    "start_time": "2024-12-09T19:45:58.253Z"
   },
   {
    "duration": 1653,
    "start_time": "2024-12-09T19:45:58.257Z"
   },
   {
    "duration": 30,
    "start_time": "2024-12-09T19:45:59.911Z"
   },
   {
    "duration": 185,
    "start_time": "2024-12-09T19:45:59.943Z"
   },
   {
    "duration": 210,
    "start_time": "2024-12-09T19:46:00.130Z"
   },
   {
    "duration": 439,
    "start_time": "2024-12-09T19:46:00.341Z"
   },
   {
    "duration": 137,
    "start_time": "2024-12-09T19:46:00.782Z"
   },
   {
    "duration": 8,
    "start_time": "2024-12-09T19:46:00.921Z"
   },
   {
    "duration": 130,
    "start_time": "2024-12-09T19:46:00.931Z"
   },
   {
    "duration": 175,
    "start_time": "2024-12-09T19:46:01.063Z"
   },
   {
    "duration": 163,
    "start_time": "2024-12-09T19:46:01.240Z"
   },
   {
    "duration": 178,
    "start_time": "2024-12-09T19:46:01.405Z"
   },
   {
    "duration": 167,
    "start_time": "2024-12-09T19:46:01.585Z"
   },
   {
    "duration": 192,
    "start_time": "2024-12-09T19:46:01.756Z"
   },
   {
    "duration": 155,
    "start_time": "2024-12-09T19:46:01.949Z"
   },
   {
    "duration": 6353,
    "start_time": "2024-12-09T19:46:02.106Z"
   },
   {
    "duration": 29,
    "start_time": "2024-12-09T19:46:08.461Z"
   },
   {
    "duration": 89,
    "start_time": "2024-12-09T19:46:08.492Z"
   },
   {
    "duration": 3,
    "start_time": "2024-12-09T19:46:08.582Z"
   },
   {
    "duration": 4,
    "start_time": "2024-12-09T19:46:08.587Z"
   },
   {
    "duration": 3,
    "start_time": "2024-12-09T19:46:08.593Z"
   },
   {
    "duration": 6,
    "start_time": "2024-12-09T19:46:08.598Z"
   },
   {
    "duration": 8,
    "start_time": "2024-12-09T19:46:08.606Z"
   },
   {
    "duration": 5,
    "start_time": "2024-12-09T19:46:08.616Z"
   },
   {
    "duration": 5,
    "start_time": "2024-12-09T19:46:08.623Z"
   },
   {
    "duration": 151771,
    "start_time": "2024-12-09T19:46:08.630Z"
   },
   {
    "duration": 5277,
    "start_time": "2024-12-09T19:48:45.703Z"
   },
   {
    "duration": 6,
    "start_time": "2024-12-09T19:48:50.983Z"
   },
   {
    "duration": 9,
    "start_time": "2024-12-09T19:48:50.991Z"
   },
   {
    "duration": 893,
    "start_time": "2024-12-09T19:48:51.001Z"
   },
   {
    "duration": 4,
    "start_time": "2024-12-09T19:48:51.896Z"
   },
   {
    "duration": 10,
    "start_time": "2024-12-09T19:48:51.901Z"
   },
   {
    "duration": 11,
    "start_time": "2024-12-09T19:48:51.912Z"
   },
   {
    "duration": 431,
    "start_time": "2024-12-09T19:48:51.925Z"
   },
   {
    "duration": 32,
    "start_time": "2024-12-09T19:48:52.358Z"
   },
   {
    "duration": 143,
    "start_time": "2024-12-09T19:48:52.392Z"
   },
   {
    "duration": 87,
    "start_time": "2024-12-09T19:48:52.537Z"
   },
   {
    "duration": 103,
    "start_time": "2024-12-09T19:48:52.626Z"
   },
   {
    "duration": 20,
    "start_time": "2024-12-09T19:48:52.731Z"
   },
   {
    "duration": 318,
    "start_time": "2024-12-09T19:48:52.754Z"
   },
   {
    "duration": 3,
    "start_time": "2024-12-09T19:48:53.073Z"
   },
   {
    "duration": 1527,
    "start_time": "2024-12-09T19:48:53.078Z"
   },
   {
    "duration": 32,
    "start_time": "2024-12-09T19:48:54.607Z"
   },
   {
    "duration": 175,
    "start_time": "2024-12-09T19:48:54.641Z"
   },
   {
    "duration": 191,
    "start_time": "2024-12-09T19:48:54.818Z"
   },
   {
    "duration": 409,
    "start_time": "2024-12-09T19:48:55.010Z"
   },
   {
    "duration": 121,
    "start_time": "2024-12-09T19:48:55.420Z"
   },
   {
    "duration": 7,
    "start_time": "2024-12-09T19:48:55.543Z"
   },
   {
    "duration": 137,
    "start_time": "2024-12-09T19:48:55.552Z"
   },
   {
    "duration": 164,
    "start_time": "2024-12-09T19:48:55.691Z"
   },
   {
    "duration": 134,
    "start_time": "2024-12-09T19:48:55.857Z"
   },
   {
    "duration": 161,
    "start_time": "2024-12-09T19:48:55.993Z"
   },
   {
    "duration": 154,
    "start_time": "2024-12-09T19:48:56.155Z"
   },
   {
    "duration": 169,
    "start_time": "2024-12-09T19:48:56.310Z"
   },
   {
    "duration": 140,
    "start_time": "2024-12-09T19:48:56.480Z"
   },
   {
    "duration": 5769,
    "start_time": "2024-12-09T19:48:56.621Z"
   },
   {
    "duration": 23,
    "start_time": "2024-12-09T19:49:02.391Z"
   },
   {
    "duration": 74,
    "start_time": "2024-12-09T19:49:02.416Z"
   },
   {
    "duration": 3,
    "start_time": "2024-12-09T19:49:02.492Z"
   },
   {
    "duration": 39,
    "start_time": "2024-12-09T19:49:02.496Z"
   },
   {
    "duration": 11,
    "start_time": "2024-12-09T19:49:02.536Z"
   },
   {
    "duration": 4,
    "start_time": "2024-12-09T19:49:02.548Z"
   },
   {
    "duration": 33,
    "start_time": "2024-12-09T19:49:02.553Z"
   },
   {
    "duration": 31,
    "start_time": "2024-12-09T19:49:02.587Z"
   },
   {
    "duration": 15,
    "start_time": "2024-12-09T19:49:02.620Z"
   },
   {
    "duration": 361462,
    "start_time": "2024-12-09T19:49:02.637Z"
   },
   {
    "duration": 23,
    "start_time": "2024-12-09T20:06:37.913Z"
   },
   {
    "duration": 14,
    "start_time": "2024-12-09T20:14:41.632Z"
   },
   {
    "duration": 12,
    "start_time": "2024-12-09T20:14:46.271Z"
   },
   {
    "duration": 2,
    "start_time": "2024-12-09T20:19:35.323Z"
   },
   {
    "duration": 76,
    "start_time": "2024-12-09T20:23:39.872Z"
   },
   {
    "duration": 79,
    "start_time": "2024-12-09T20:23:46.751Z"
   },
   {
    "duration": 30,
    "start_time": "2024-12-09T20:24:16.688Z"
   },
   {
    "duration": 882,
    "start_time": "2024-12-09T20:24:24.592Z"
   },
   {
    "duration": 68,
    "start_time": "2024-12-09T20:24:29.048Z"
   },
   {
    "duration": 78,
    "start_time": "2024-12-09T20:24:48.352Z"
   },
   {
    "duration": 871,
    "start_time": "2024-12-09T20:25:33.978Z"
   },
   {
    "duration": 86,
    "start_time": "2024-12-09T20:25:38.113Z"
   },
   {
    "duration": 4,
    "start_time": "2024-12-09T20:26:06.328Z"
   },
   {
    "duration": 55,
    "start_time": "2024-12-09T20:42:57.250Z"
   },
   {
    "duration": 880,
    "start_time": "2024-12-09T20:43:18.286Z"
   },
   {
    "duration": 18,
    "start_time": "2024-12-09T20:43:22.342Z"
   },
   {
    "duration": 17,
    "start_time": "2024-12-09T20:44:13.316Z"
   },
   {
    "duration": 5,
    "start_time": "2024-12-09T20:44:29.445Z"
   },
   {
    "duration": 735,
    "start_time": "2024-12-09T20:45:03.254Z"
   },
   {
    "duration": 3,
    "start_time": "2024-12-09T20:52:16.211Z"
   },
   {
    "duration": 2,
    "start_time": "2024-12-09T20:52:46.925Z"
   },
   {
    "duration": 876,
    "start_time": "2024-12-09T20:52:49.564Z"
   },
   {
    "duration": 10,
    "start_time": "2024-12-09T20:52:51.749Z"
   },
   {
    "duration": 17,
    "start_time": "2024-12-09T20:53:08.227Z"
   },
   {
    "duration": 1111,
    "start_time": "2024-12-09T20:53:44.175Z"
   },
   {
    "duration": 3,
    "start_time": "2024-12-09T20:53:50.524Z"
   },
   {
    "duration": 728,
    "start_time": "2024-12-09T20:54:30.086Z"
   },
   {
    "duration": 43,
    "start_time": "2024-12-09T20:54:36.803Z"
   },
   {
    "duration": 9,
    "start_time": "2024-12-09T21:00:42.323Z"
   },
   {
    "duration": 9,
    "start_time": "2024-12-09T21:01:18.376Z"
   },
   {
    "duration": 11,
    "start_time": "2024-12-09T21:01:39.276Z"
   },
   {
    "duration": 9,
    "start_time": "2024-12-09T21:01:48.217Z"
   },
   {
    "duration": 5,
    "start_time": "2024-12-09T21:02:07.175Z"
   },
   {
    "duration": 9,
    "start_time": "2024-12-09T21:02:57.182Z"
   },
   {
    "duration": 206,
    "start_time": "2024-12-09T21:09:35.040Z"
   },
   {
    "duration": 6,
    "start_time": "2024-12-09T21:10:08.494Z"
   },
   {
    "duration": 9,
    "start_time": "2024-12-09T21:10:43.712Z"
   },
   {
    "duration": 10,
    "start_time": "2024-12-09T21:11:02.585Z"
   }
  ],
  "kernelspec": {
   "display_name": "Python 3 (ipykernel)",
   "language": "python",
   "name": "python3"
  },
  "language_info": {
   "codemirror_mode": {
    "name": "ipython",
    "version": 3
   },
   "file_extension": ".py",
   "mimetype": "text/x-python",
   "name": "python",
   "nbconvert_exporter": "python",
   "pygments_lexer": "ipython3",
   "version": "3.9.5"
  },
  "toc": {
   "base_numbering": 1,
   "nav_menu": {},
   "number_sections": false,
   "sideBar": true,
   "skip_h1_title": true,
   "title_cell": "Table of Contents",
   "title_sidebar": "Contents",
   "toc_cell": false,
   "toc_position": {},
   "toc_section_display": true,
   "toc_window_display": true
  }
 },
 "nbformat": 4,
 "nbformat_minor": 2
}
