{
 "cells": [
  {
   "cell_type": "markdown",
   "id": "e5c49eb7",
   "metadata": {},
   "source": [
    "# Исследование данных о поездках на самокатах"
   ]
  },
  {
   "cell_type": "markdown",
   "id": "8c4c760e",
   "metadata": {},
   "source": [
    "## Содержание\n",
    "\n",
    "1. Описание исследования\n",
    "\n",
    "    1.1. Описание данных\n",
    "\n",
    "    1.2. Цель исследования\n",
    "\n",
    "    1.3. Ход исследования\n",
    "    \n",
    "2. Предобработка данных\n",
    "\n",
    "3. Исследовательский анализ\n",
    "\n",
    "4. Проверка гипотез\n",
    "\n",
    "5. Работа с распределениями\n",
    "\n",
    "6. Выводы\n",
    "\n",
    "7. Рекомендации заказчику"
   ]
  },
  {
   "cell_type": "markdown",
   "id": "1919513a",
   "metadata": {},
   "source": [
    "## 1. Описание исследования\n",
    "\n",
    "Переданы данные о пользователях сервиса аренды самокатов из разных городов и их поездках. В ходе исследования предстоит определить результаты выручки существующего бизнеса, а также проверить гипотезы, которые помогут бизнесу расшириться. Предоставлена информация о типе подписок сервиса:\n",
    "\n",
    "**без подписки**\n",
    "\n",
    "абонентская плата отсутствует;\n",
    "\n",
    "стоимость одной минуты поездки — 8 рублей;\n",
    "\n",
    "стоимость старта (начала поездки) — 50 рублей;\n",
    "\n",
    "**с подпиской Ultra**\n",
    "\n",
    "абонентская плата — 199 рублей в месяц;\n",
    "\n",
    "стоимость одной минуты поездки — 6 рублей;\n",
    "\n",
    "стоимость старта — бесплатно.\n",
    "\n",
    "### 1.1. Описание данных\n",
    "\n",
    "**Данные о пользователях:**\n",
    "\n",
    "user_id -\tуникальный идентификатор пользователя\n",
    "\n",
    "name -\tимя пользователя\n",
    "\n",
    "age -\tвозраст\n",
    "\n",
    "city -\tгород\n",
    "\n",
    "subscription_type -\tтип подписки (free, ultra)\n",
    "\n",
    "**Данные о поездках:**\n",
    "\n",
    "user_id - уникальный идентификатор пользователя\n",
    "\n",
    "distance - расстояние, которое пользователь проехал в текущей сессии (в метрах)\n",
    "\n",
    "duration - продолжительность сессии (в минутах) — время с того момента, как пользователь нажал кнопку «Начать поездку» \n",
    "до момента, как он нажал кнопку «Завершить поездку»\n",
    "\n",
    "date - дата совершения поездки\n",
    "\n",
    "**Данные о подписках:**\n",
    "\n",
    "subscription_type - тип подписки\n",
    "\n",
    "minute_price - стоимость одной минуты поездки по данной подписке\n",
    "\n",
    "start_ride_price - стоимость начала поездки\n",
    "\n",
    "subscription_fee - стоимость ежемесячного платежа\n",
    "\n",
    "### 1.2. Цель исследования\n",
    "\n",
    "Цель исследования заключается в проверке гипотез, которые помогут разработать стратегию для увеличения количества пользователей сервиса по аренде самокатов.\n",
    "\n",
    "### 1.3. Ход исследования\n",
    "\n",
    "\n",
    "Шаг 1. Изучение общей информации\n",
    "\n",
    "Шаг 2. Предобработка данных\n",
    "\n",
    "Шаг 3. Исследовательский анализ\n",
    "\n",
    "Шаг 4. Объединение данных\n",
    "\n",
    "Шаг 5. Подсчёт выручки\n",
    "\n",
    "Шаг 6. Проверка гипотез\n",
    "\n",
    "Шаг 7. Работа с распределениями"
   ]
  },
  {
   "cell_type": "code",
   "execution_count": 1,
   "id": "72576667",
   "metadata": {},
   "outputs": [],
   "source": [
    "#  импорт библиотек\n",
    "import pandas as pd\n",
    "import numpy as np\n",
    "from math import factorial, sqrt\n",
    "from scipy import stats as st\n",
    "\n",
    "from matplotlib import pyplot as plt"
   ]
  },
  {
   "cell_type": "markdown",
   "id": "9bbdf18d",
   "metadata": {},
   "source": [
    "#### Шаг 1. Загрузка данных"
   ]
  },
  {
   "cell_type": "code",
   "execution_count": 2,
   "id": "78b8f772",
   "metadata": {},
   "outputs": [],
   "source": [
    "# получение данных о пользователях\n",
    "users = pd.read_csv('/datasets/users_go.csv')"
   ]
  },
  {
   "cell_type": "code",
   "execution_count": 3,
   "id": "9b930b58",
   "metadata": {},
   "outputs": [],
   "source": [
    "# получение данных о поездках\n",
    "rides = pd.read_csv('/datasets/rides_go.csv')"
   ]
  },
  {
   "cell_type": "code",
   "execution_count": 4,
   "id": "c2239395",
   "metadata": {},
   "outputs": [],
   "source": [
    "# получение данных о подписках\n",
    "subscriptions = pd.read_csv('/datasets/subscriptions_go.csv')"
   ]
  },
  {
   "cell_type": "code",
   "execution_count": 5,
   "id": "fc31820a",
   "metadata": {},
   "outputs": [],
   "source": [
    "# функция для проверки наборов данных\n",
    "def check_df (df):\n",
    "\n",
    "    # общая информация \n",
    "    display(df.info())\n",
    "\n",
    "    # первые 10 строк\n",
    "    display(df.head(10))\n",
    "\n",
    "    # проверка на дубликаты\n",
    "    print('Полных дубликатов в наборе данных:', df.duplicated().sum())\n",
    "    \n",
    "    # проверка на пропуски\n",
    "    print('Пропусков по столбцам:\\n', df.isna().sum())"
   ]
  },
  {
   "cell_type": "code",
   "execution_count": 6,
   "id": "4b9a7b54",
   "metadata": {},
   "outputs": [
    {
     "name": "stdout",
     "output_type": "stream",
     "text": [
      "<class 'pandas.core.frame.DataFrame'>\n",
      "RangeIndex: 1565 entries, 0 to 1564\n",
      "Data columns (total 5 columns):\n",
      " #   Column             Non-Null Count  Dtype \n",
      "---  ------             --------------  ----- \n",
      " 0   user_id            1565 non-null   int64 \n",
      " 1   name               1565 non-null   object\n",
      " 2   age                1565 non-null   int64 \n",
      " 3   city               1565 non-null   object\n",
      " 4   subscription_type  1565 non-null   object\n",
      "dtypes: int64(2), object(3)\n",
      "memory usage: 61.3+ KB\n"
     ]
    },
    {
     "data": {
      "text/plain": [
       "None"
      ]
     },
     "metadata": {},
     "output_type": "display_data"
    },
    {
     "data": {
      "text/html": [
       "<div>\n",
       "<style scoped>\n",
       "    .dataframe tbody tr th:only-of-type {\n",
       "        vertical-align: middle;\n",
       "    }\n",
       "\n",
       "    .dataframe tbody tr th {\n",
       "        vertical-align: top;\n",
       "    }\n",
       "\n",
       "    .dataframe thead th {\n",
       "        text-align: right;\n",
       "    }\n",
       "</style>\n",
       "<table border=\"1\" class=\"dataframe\">\n",
       "  <thead>\n",
       "    <tr style=\"text-align: right;\">\n",
       "      <th></th>\n",
       "      <th>user_id</th>\n",
       "      <th>name</th>\n",
       "      <th>age</th>\n",
       "      <th>city</th>\n",
       "      <th>subscription_type</th>\n",
       "    </tr>\n",
       "  </thead>\n",
       "  <tbody>\n",
       "    <tr>\n",
       "      <th>0</th>\n",
       "      <td>1</td>\n",
       "      <td>Кира</td>\n",
       "      <td>22</td>\n",
       "      <td>Тюмень</td>\n",
       "      <td>ultra</td>\n",
       "    </tr>\n",
       "    <tr>\n",
       "      <th>1</th>\n",
       "      <td>2</td>\n",
       "      <td>Станислав</td>\n",
       "      <td>31</td>\n",
       "      <td>Омск</td>\n",
       "      <td>ultra</td>\n",
       "    </tr>\n",
       "    <tr>\n",
       "      <th>2</th>\n",
       "      <td>3</td>\n",
       "      <td>Алексей</td>\n",
       "      <td>20</td>\n",
       "      <td>Москва</td>\n",
       "      <td>ultra</td>\n",
       "    </tr>\n",
       "    <tr>\n",
       "      <th>3</th>\n",
       "      <td>4</td>\n",
       "      <td>Константин</td>\n",
       "      <td>26</td>\n",
       "      <td>Ростов-на-Дону</td>\n",
       "      <td>ultra</td>\n",
       "    </tr>\n",
       "    <tr>\n",
       "      <th>4</th>\n",
       "      <td>5</td>\n",
       "      <td>Адель</td>\n",
       "      <td>28</td>\n",
       "      <td>Омск</td>\n",
       "      <td>ultra</td>\n",
       "    </tr>\n",
       "    <tr>\n",
       "      <th>5</th>\n",
       "      <td>6</td>\n",
       "      <td>Регина</td>\n",
       "      <td>25</td>\n",
       "      <td>Краснодар</td>\n",
       "      <td>ultra</td>\n",
       "    </tr>\n",
       "    <tr>\n",
       "      <th>6</th>\n",
       "      <td>7</td>\n",
       "      <td>Игорь</td>\n",
       "      <td>23</td>\n",
       "      <td>Омск</td>\n",
       "      <td>ultra</td>\n",
       "    </tr>\n",
       "    <tr>\n",
       "      <th>7</th>\n",
       "      <td>8</td>\n",
       "      <td>Юрий</td>\n",
       "      <td>23</td>\n",
       "      <td>Краснодар</td>\n",
       "      <td>ultra</td>\n",
       "    </tr>\n",
       "    <tr>\n",
       "      <th>8</th>\n",
       "      <td>9</td>\n",
       "      <td>Ян</td>\n",
       "      <td>21</td>\n",
       "      <td>Пятигорск</td>\n",
       "      <td>ultra</td>\n",
       "    </tr>\n",
       "    <tr>\n",
       "      <th>9</th>\n",
       "      <td>10</td>\n",
       "      <td>Валерий</td>\n",
       "      <td>18</td>\n",
       "      <td>Екатеринбург</td>\n",
       "      <td>ultra</td>\n",
       "    </tr>\n",
       "  </tbody>\n",
       "</table>\n",
       "</div>"
      ],
      "text/plain": [
       "   user_id        name  age            city subscription_type\n",
       "0        1        Кира   22          Тюмень             ultra\n",
       "1        2   Станислав   31            Омск             ultra\n",
       "2        3     Алексей   20          Москва             ultra\n",
       "3        4  Константин   26  Ростов-на-Дону             ultra\n",
       "4        5       Адель   28            Омск             ultra\n",
       "5        6      Регина   25       Краснодар             ultra\n",
       "6        7       Игорь   23            Омск             ultra\n",
       "7        8        Юрий   23       Краснодар             ultra\n",
       "8        9          Ян   21       Пятигорск             ultra\n",
       "9       10     Валерий   18    Екатеринбург             ultra"
      ]
     },
     "metadata": {},
     "output_type": "display_data"
    },
    {
     "name": "stdout",
     "output_type": "stream",
     "text": [
      "Полных дубликатов в наборе данных: 31\n",
      "Пропусков по столбцам:\n",
      " user_id              0\n",
      "name                 0\n",
      "age                  0\n",
      "city                 0\n",
      "subscription_type    0\n",
      "dtype: int64\n"
     ]
    }
   ],
   "source": [
    "# проверим набор данных о пользователях\n",
    "check_df(users)"
   ]
  },
  {
   "cell_type": "code",
   "execution_count": 7,
   "id": "31ff692f",
   "metadata": {},
   "outputs": [
    {
     "name": "stdout",
     "output_type": "stream",
     "text": [
      "<class 'pandas.core.frame.DataFrame'>\n",
      "RangeIndex: 18068 entries, 0 to 18067\n",
      "Data columns (total 4 columns):\n",
      " #   Column    Non-Null Count  Dtype  \n",
      "---  ------    --------------  -----  \n",
      " 0   user_id   18068 non-null  int64  \n",
      " 1   distance  18068 non-null  float64\n",
      " 2   duration  18068 non-null  float64\n",
      " 3   date      18068 non-null  object \n",
      "dtypes: float64(2), int64(1), object(1)\n",
      "memory usage: 564.8+ KB\n"
     ]
    },
    {
     "data": {
      "text/plain": [
       "None"
      ]
     },
     "metadata": {},
     "output_type": "display_data"
    },
    {
     "data": {
      "text/html": [
       "<div>\n",
       "<style scoped>\n",
       "    .dataframe tbody tr th:only-of-type {\n",
       "        vertical-align: middle;\n",
       "    }\n",
       "\n",
       "    .dataframe tbody tr th {\n",
       "        vertical-align: top;\n",
       "    }\n",
       "\n",
       "    .dataframe thead th {\n",
       "        text-align: right;\n",
       "    }\n",
       "</style>\n",
       "<table border=\"1\" class=\"dataframe\">\n",
       "  <thead>\n",
       "    <tr style=\"text-align: right;\">\n",
       "      <th></th>\n",
       "      <th>user_id</th>\n",
       "      <th>distance</th>\n",
       "      <th>duration</th>\n",
       "      <th>date</th>\n",
       "    </tr>\n",
       "  </thead>\n",
       "  <tbody>\n",
       "    <tr>\n",
       "      <th>0</th>\n",
       "      <td>1</td>\n",
       "      <td>4409.919140</td>\n",
       "      <td>25.599769</td>\n",
       "      <td>2021-01-01</td>\n",
       "    </tr>\n",
       "    <tr>\n",
       "      <th>1</th>\n",
       "      <td>1</td>\n",
       "      <td>2617.592153</td>\n",
       "      <td>15.816871</td>\n",
       "      <td>2021-01-18</td>\n",
       "    </tr>\n",
       "    <tr>\n",
       "      <th>2</th>\n",
       "      <td>1</td>\n",
       "      <td>754.159807</td>\n",
       "      <td>6.232113</td>\n",
       "      <td>2021-04-20</td>\n",
       "    </tr>\n",
       "    <tr>\n",
       "      <th>3</th>\n",
       "      <td>1</td>\n",
       "      <td>2694.783254</td>\n",
       "      <td>18.511000</td>\n",
       "      <td>2021-08-11</td>\n",
       "    </tr>\n",
       "    <tr>\n",
       "      <th>4</th>\n",
       "      <td>1</td>\n",
       "      <td>4028.687306</td>\n",
       "      <td>26.265803</td>\n",
       "      <td>2021-08-28</td>\n",
       "    </tr>\n",
       "    <tr>\n",
       "      <th>5</th>\n",
       "      <td>1</td>\n",
       "      <td>2770.890808</td>\n",
       "      <td>16.650138</td>\n",
       "      <td>2021-10-09</td>\n",
       "    </tr>\n",
       "    <tr>\n",
       "      <th>6</th>\n",
       "      <td>1</td>\n",
       "      <td>3039.020292</td>\n",
       "      <td>14.927879</td>\n",
       "      <td>2021-10-19</td>\n",
       "    </tr>\n",
       "    <tr>\n",
       "      <th>7</th>\n",
       "      <td>1</td>\n",
       "      <td>2842.118050</td>\n",
       "      <td>23.117468</td>\n",
       "      <td>2021-11-06</td>\n",
       "    </tr>\n",
       "    <tr>\n",
       "      <th>8</th>\n",
       "      <td>1</td>\n",
       "      <td>3412.690668</td>\n",
       "      <td>15.238072</td>\n",
       "      <td>2021-11-14</td>\n",
       "    </tr>\n",
       "    <tr>\n",
       "      <th>9</th>\n",
       "      <td>1</td>\n",
       "      <td>748.690645</td>\n",
       "      <td>15.041884</td>\n",
       "      <td>2021-11-22</td>\n",
       "    </tr>\n",
       "  </tbody>\n",
       "</table>\n",
       "</div>"
      ],
      "text/plain": [
       "   user_id     distance   duration        date\n",
       "0        1  4409.919140  25.599769  2021-01-01\n",
       "1        1  2617.592153  15.816871  2021-01-18\n",
       "2        1   754.159807   6.232113  2021-04-20\n",
       "3        1  2694.783254  18.511000  2021-08-11\n",
       "4        1  4028.687306  26.265803  2021-08-28\n",
       "5        1  2770.890808  16.650138  2021-10-09\n",
       "6        1  3039.020292  14.927879  2021-10-19\n",
       "7        1  2842.118050  23.117468  2021-11-06\n",
       "8        1  3412.690668  15.238072  2021-11-14\n",
       "9        1   748.690645  15.041884  2021-11-22"
      ]
     },
     "metadata": {},
     "output_type": "display_data"
    },
    {
     "name": "stdout",
     "output_type": "stream",
     "text": [
      "Полных дубликатов в наборе данных: 0\n",
      "Пропусков по столбцам:\n",
      " user_id     0\n",
      "distance    0\n",
      "duration    0\n",
      "date        0\n",
      "dtype: int64\n"
     ]
    }
   ],
   "source": [
    "# проверим набор данных о поездках\n",
    "check_df(rides)"
   ]
  },
  {
   "cell_type": "code",
   "execution_count": 8,
   "id": "a4a9340a",
   "metadata": {},
   "outputs": [
    {
     "name": "stdout",
     "output_type": "stream",
     "text": [
      "<class 'pandas.core.frame.DataFrame'>\n",
      "RangeIndex: 2 entries, 0 to 1\n",
      "Data columns (total 4 columns):\n",
      " #   Column             Non-Null Count  Dtype \n",
      "---  ------             --------------  ----- \n",
      " 0   subscription_type  2 non-null      object\n",
      " 1   minute_price       2 non-null      int64 \n",
      " 2   start_ride_price   2 non-null      int64 \n",
      " 3   subscription_fee   2 non-null      int64 \n",
      "dtypes: int64(3), object(1)\n",
      "memory usage: 192.0+ bytes\n"
     ]
    },
    {
     "data": {
      "text/plain": [
       "None"
      ]
     },
     "metadata": {},
     "output_type": "display_data"
    },
    {
     "data": {
      "text/html": [
       "<div>\n",
       "<style scoped>\n",
       "    .dataframe tbody tr th:only-of-type {\n",
       "        vertical-align: middle;\n",
       "    }\n",
       "\n",
       "    .dataframe tbody tr th {\n",
       "        vertical-align: top;\n",
       "    }\n",
       "\n",
       "    .dataframe thead th {\n",
       "        text-align: right;\n",
       "    }\n",
       "</style>\n",
       "<table border=\"1\" class=\"dataframe\">\n",
       "  <thead>\n",
       "    <tr style=\"text-align: right;\">\n",
       "      <th></th>\n",
       "      <th>subscription_type</th>\n",
       "      <th>minute_price</th>\n",
       "      <th>start_ride_price</th>\n",
       "      <th>subscription_fee</th>\n",
       "    </tr>\n",
       "  </thead>\n",
       "  <tbody>\n",
       "    <tr>\n",
       "      <th>0</th>\n",
       "      <td>free</td>\n",
       "      <td>8</td>\n",
       "      <td>50</td>\n",
       "      <td>0</td>\n",
       "    </tr>\n",
       "    <tr>\n",
       "      <th>1</th>\n",
       "      <td>ultra</td>\n",
       "      <td>6</td>\n",
       "      <td>0</td>\n",
       "      <td>199</td>\n",
       "    </tr>\n",
       "  </tbody>\n",
       "</table>\n",
       "</div>"
      ],
      "text/plain": [
       "  subscription_type  minute_price  start_ride_price  subscription_fee\n",
       "0              free             8                50                 0\n",
       "1             ultra             6                 0               199"
      ]
     },
     "metadata": {},
     "output_type": "display_data"
    },
    {
     "name": "stdout",
     "output_type": "stream",
     "text": [
      "Полных дубликатов в наборе данных: 0\n",
      "Пропусков по столбцам:\n",
      " subscription_type    0\n",
      "minute_price         0\n",
      "start_ride_price     0\n",
      "subscription_fee     0\n",
      "dtype: int64\n"
     ]
    }
   ],
   "source": [
    "# проверим набор данных о подписках\n",
    "check_df(subscriptions)"
   ]
  },
  {
   "cell_type": "markdown",
   "id": "48d469b6",
   "metadata": {},
   "source": [
    "Краткий вывод:\n",
    "\n",
    "В наборе данных о поездках изменить тип данных столбца с информацией о дате поездки. Для дальнейшего анализа сезонности создать новый столбец с информацией о месяце а наборе данных о поездках. В наборах данных о пользователях и поездках необходимо проверить наличие пропусков и дубликатов."
   ]
  },
  {
   "cell_type": "markdown",
   "id": "355b2ace",
   "metadata": {},
   "source": [
    "## 2. Предобработка данных"
   ]
  },
  {
   "cell_type": "markdown",
   "id": "e95ebca7",
   "metadata": {},
   "source": [
    "#### Шаг 2. Предобработка данных"
   ]
  },
  {
   "cell_type": "markdown",
   "id": "8ac4d7e9",
   "metadata": {},
   "source": [
    "**Изменение типов и добавление столбцов**"
   ]
  },
  {
   "cell_type": "code",
   "execution_count": 9,
   "id": "af6d202c",
   "metadata": {},
   "outputs": [
    {
     "name": "stdout",
     "output_type": "stream",
     "text": [
      "2021-01-01 00:00:00 <class 'pandas._libs.tslibs.timestamps.Timestamp'>\n"
     ]
    }
   ],
   "source": [
    "# изменение типа данных в столбце с информацией о дате поездки\n",
    "rides['date'] = pd.to_datetime(rides['date'], format='%Y-%m-%d')\n",
    "\n",
    "# проверка изменений\n",
    "print(rides['date'][0], type(rides['date'][0]))"
   ]
  },
  {
   "cell_type": "code",
   "execution_count": 10,
   "id": "0e1658c9",
   "metadata": {},
   "outputs": [
    {
     "data": {
      "text/html": [
       "<div>\n",
       "<style scoped>\n",
       "    .dataframe tbody tr th:only-of-type {\n",
       "        vertical-align: middle;\n",
       "    }\n",
       "\n",
       "    .dataframe tbody tr th {\n",
       "        vertical-align: top;\n",
       "    }\n",
       "\n",
       "    .dataframe thead th {\n",
       "        text-align: right;\n",
       "    }\n",
       "</style>\n",
       "<table border=\"1\" class=\"dataframe\">\n",
       "  <thead>\n",
       "    <tr style=\"text-align: right;\">\n",
       "      <th></th>\n",
       "      <th>user_id</th>\n",
       "      <th>distance</th>\n",
       "      <th>duration</th>\n",
       "      <th>date</th>\n",
       "      <th>month</th>\n",
       "    </tr>\n",
       "  </thead>\n",
       "  <tbody>\n",
       "    <tr>\n",
       "      <th>0</th>\n",
       "      <td>1</td>\n",
       "      <td>4409.919140</td>\n",
       "      <td>25.599769</td>\n",
       "      <td>2021-01-01</td>\n",
       "      <td>1</td>\n",
       "    </tr>\n",
       "    <tr>\n",
       "      <th>1</th>\n",
       "      <td>1</td>\n",
       "      <td>2617.592153</td>\n",
       "      <td>15.816871</td>\n",
       "      <td>2021-01-18</td>\n",
       "      <td>1</td>\n",
       "    </tr>\n",
       "  </tbody>\n",
       "</table>\n",
       "</div>"
      ],
      "text/plain": [
       "   user_id     distance   duration       date  month\n",
       "0        1  4409.919140  25.599769 2021-01-01      1\n",
       "1        1  2617.592153  15.816871 2021-01-18      1"
      ]
     },
     "execution_count": 10,
     "metadata": {},
     "output_type": "execute_result"
    }
   ],
   "source": [
    "# добавление столбца для анализа сезонности\n",
    "rides['month'] = rides['date'].dt.month\n",
    "\n",
    "#проверка изменений\n",
    "rides.head(2)"
   ]
  },
  {
   "cell_type": "code",
   "execution_count": 11,
   "id": "b48ff251",
   "metadata": {},
   "outputs": [
    {
     "name": "stdout",
     "output_type": "stream",
     "text": [
      "Минимальная дата в наборе данных о поездках: 2021-01-01 00:00:00\n",
      "Максимальная дата в наборе данных о поездках: 2021-12-30 00:00:00\n"
     ]
    }
   ],
   "source": [
    "# проверка актуальности данных\n",
    "print('Минимальная дата в наборе данных о поездках:', rides['date'].min())\n",
    "print('Максимальная дата в наборе данных о поездках:', rides['date'].max())"
   ]
  },
  {
   "cell_type": "markdown",
   "id": "8daa7166",
   "metadata": {},
   "source": [
    "*В наборе данных о поездках представлены данные за 2021 год, следовательно исследование и его результаты будут актуальны для 2022 года.*"
   ]
  },
  {
   "cell_type": "markdown",
   "id": "b99709c8",
   "metadata": {},
   "source": [
    "**Удаление дубликатов**"
   ]
  },
  {
   "cell_type": "code",
   "execution_count": 12,
   "id": "7d8607d2",
   "metadata": {},
   "outputs": [
    {
     "data": {
      "text/plain": [
       "31"
      ]
     },
     "execution_count": 12,
     "metadata": {},
     "output_type": "execute_result"
    }
   ],
   "source": [
    "# проверка наличия полных дубликатов в данных о пользователях\n",
    "users.duplicated().sum()"
   ]
  },
  {
   "cell_type": "code",
   "execution_count": 13,
   "id": "c0888ea6",
   "metadata": {},
   "outputs": [],
   "source": [
    "# удаление дубликатов в данных о пользователях\n",
    "users = users.drop_duplicates().reset_index(drop=True)"
   ]
  },
  {
   "cell_type": "code",
   "execution_count": 14,
   "id": "6aecb2a3",
   "metadata": {},
   "outputs": [
    {
     "data": {
      "text/plain": [
       "0"
      ]
     },
     "execution_count": 14,
     "metadata": {},
     "output_type": "execute_result"
    }
   ],
   "source": [
    "# проверка наличия полных дубликатов в данных о поездках\n",
    "rides.duplicated().sum()"
   ]
  },
  {
   "cell_type": "markdown",
   "id": "a57101d8",
   "metadata": {},
   "source": [
    "**Обработка пропусков**"
   ]
  },
  {
   "cell_type": "code",
   "execution_count": 15,
   "id": "c50e97a0",
   "metadata": {},
   "outputs": [
    {
     "data": {
      "text/plain": [
       "user_id              0\n",
       "name                 0\n",
       "age                  0\n",
       "city                 0\n",
       "subscription_type    0\n",
       "dtype: int64"
      ]
     },
     "execution_count": 15,
     "metadata": {},
     "output_type": "execute_result"
    }
   ],
   "source": [
    "# проверка пропусков в данных о пользователях\n",
    "users.isna().sum()"
   ]
  },
  {
   "cell_type": "code",
   "execution_count": 16,
   "id": "396234c6",
   "metadata": {},
   "outputs": [
    {
     "data": {
      "text/plain": [
       "user_id     0\n",
       "distance    0\n",
       "duration    0\n",
       "date        0\n",
       "month       0\n",
       "dtype: int64"
      ]
     },
     "execution_count": 16,
     "metadata": {},
     "output_type": "execute_result"
    }
   ],
   "source": [
    "# проверка пропусков в данных о поездках\n",
    "rides.isna().sum()"
   ]
  },
  {
   "cell_type": "markdown",
   "id": "093ac21b",
   "metadata": {},
   "source": [
    "## 3. Исследовательский анализ"
   ]
  },
  {
   "cell_type": "markdown",
   "id": "212593c7",
   "metadata": {},
   "source": [
    "#### Шаг 3. Исследовательский анализ данных"
   ]
  },
  {
   "cell_type": "markdown",
   "id": "7a2f0787",
   "metadata": {},
   "source": [
    "**Анализ количества пользователей из разных городов**"
   ]
  },
  {
   "cell_type": "code",
   "execution_count": 17,
   "id": "e3a4274c",
   "metadata": {},
   "outputs": [
    {
     "data": {
      "text/html": [
       "<div>\n",
       "<style scoped>\n",
       "    .dataframe tbody tr th:only-of-type {\n",
       "        vertical-align: middle;\n",
       "    }\n",
       "\n",
       "    .dataframe tbody tr th {\n",
       "        vertical-align: top;\n",
       "    }\n",
       "\n",
       "    .dataframe thead th {\n",
       "        text-align: right;\n",
       "    }\n",
       "</style>\n",
       "<table border=\"1\" class=\"dataframe\">\n",
       "  <thead>\n",
       "    <tr style=\"text-align: right;\">\n",
       "      <th></th>\n",
       "      <th>user_id</th>\n",
       "    </tr>\n",
       "    <tr>\n",
       "      <th>city</th>\n",
       "      <th></th>\n",
       "    </tr>\n",
       "  </thead>\n",
       "  <tbody>\n",
       "    <tr>\n",
       "      <th>Пятигорск</th>\n",
       "      <td>219</td>\n",
       "    </tr>\n",
       "    <tr>\n",
       "      <th>Екатеринбург</th>\n",
       "      <td>204</td>\n",
       "    </tr>\n",
       "    <tr>\n",
       "      <th>Ростов-на-Дону</th>\n",
       "      <td>198</td>\n",
       "    </tr>\n",
       "    <tr>\n",
       "      <th>Краснодар</th>\n",
       "      <td>193</td>\n",
       "    </tr>\n",
       "    <tr>\n",
       "      <th>Сочи</th>\n",
       "      <td>189</td>\n",
       "    </tr>\n",
       "    <tr>\n",
       "      <th>Омск</th>\n",
       "      <td>183</td>\n",
       "    </tr>\n",
       "    <tr>\n",
       "      <th>Тюмень</th>\n",
       "      <td>180</td>\n",
       "    </tr>\n",
       "    <tr>\n",
       "      <th>Москва</th>\n",
       "      <td>168</td>\n",
       "    </tr>\n",
       "  </tbody>\n",
       "</table>\n",
       "</div>"
      ],
      "text/plain": [
       "                user_id\n",
       "city                   \n",
       "Пятигорск           219\n",
       "Екатеринбург        204\n",
       "Ростов-на-Дону      198\n",
       "Краснодар           193\n",
       "Сочи                189\n",
       "Омск                183\n",
       "Тюмень              180\n",
       "Москва              168"
      ]
     },
     "metadata": {},
     "output_type": "display_data"
    }
   ],
   "source": [
    "# частота встречаемости городов таблицей\n",
    "users_by_city = users.pivot_table(index='city', values='user_id', aggfunc='count').sort_values(by='user_id', ascending=False)\n",
    "display(users_by_city)"
   ]
  },
  {
   "cell_type": "code",
   "execution_count": 18,
   "id": "a29da649",
   "metadata": {},
   "outputs": [
    {
     "data": {
      "image/png": "[encoded data removed]",
      "text/plain": [
       "<Figure size 432x288 with 1 Axes>"
      ]
     },
     "metadata": {
      "needs_background": "light"
     },
     "output_type": "display_data"
    }
   ],
   "source": [
    "# частота встречаемости городов столбчатой диаграммой\n",
    "ax = users_by_city.plot(kind='bar')\n",
    "ax.set_title('Количество пользователей')\n",
    "ax.set_xlabel('Город')\n",
    "ax.set_ylabel('Количество пользователей')\n",
    "plt.show()"
   ]
  },
  {
   "cell_type": "markdown",
   "id": "815c0520",
   "metadata": {},
   "source": [
    "*Количество пользователей в городах от 168 до 219. Наибольшее количество в Пятигорске, наименьшее в Москве*"
   ]
  },
  {
   "cell_type": "markdown",
   "id": "c3bfc9a5",
   "metadata": {},
   "source": [
    "**Анализ соотношения количества пользователей с подпиской и без**"
   ]
  },
  {
   "cell_type": "code",
   "execution_count": 19,
   "id": "a3044fcf",
   "metadata": {},
   "outputs": [
    {
     "data": {
      "text/html": [
       "<div>\n",
       "<style scoped>\n",
       "    .dataframe tbody tr th:only-of-type {\n",
       "        vertical-align: middle;\n",
       "    }\n",
       "\n",
       "    .dataframe tbody tr th {\n",
       "        vertical-align: top;\n",
       "    }\n",
       "\n",
       "    .dataframe thead th {\n",
       "        text-align: right;\n",
       "    }\n",
       "</style>\n",
       "<table border=\"1\" class=\"dataframe\">\n",
       "  <thead>\n",
       "    <tr style=\"text-align: right;\">\n",
       "      <th></th>\n",
       "      <th>user_id</th>\n",
       "      <th>sub_percentage</th>\n",
       "    </tr>\n",
       "    <tr>\n",
       "      <th>subscription_type</th>\n",
       "      <th></th>\n",
       "      <th></th>\n",
       "    </tr>\n",
       "  </thead>\n",
       "  <tbody>\n",
       "    <tr>\n",
       "      <th>free</th>\n",
       "      <td>835</td>\n",
       "      <td>54.43</td>\n",
       "    </tr>\n",
       "    <tr>\n",
       "      <th>ultra</th>\n",
       "      <td>699</td>\n",
       "      <td>45.57</td>\n",
       "    </tr>\n",
       "  </tbody>\n",
       "</table>\n",
       "</div>"
      ],
      "text/plain": [
       "                   user_id  sub_percentage\n",
       "subscription_type                         \n",
       "free                   835           54.43\n",
       "ultra                  699           45.57"
      ]
     },
     "metadata": {},
     "output_type": "display_data"
    }
   ],
   "source": [
    "# количество пользователей с подпиской и без таблицей\n",
    "users_by_subscription = users.pivot_table(index='subscription_type', values='user_id', aggfunc='count')\n",
    "users_by_subscription['sub_percentage'] = round(users_by_subscription['user_id'] / len(users) * 100, 2)\n",
    "display(users_by_subscription)"
   ]
  },
  {
   "cell_type": "code",
   "execution_count": 20,
   "id": "2abc0559",
   "metadata": {},
   "outputs": [
    {
     "data": {
      "image/png": "[encoded data removed]",
      "text/plain": [
       "<Figure size 432x288 with 1 Axes>"
      ]
     },
     "metadata": {},
     "output_type": "display_data"
    }
   ],
   "source": [
    "# количество пользователей с подпиской и без круговой диаграммой\n",
    "ax = users_by_subscription.plot(kind='pie', y='user_id')\n",
    "ax.set_title('Количество пользователей')\n",
    "plt.show()"
   ]
  },
  {
   "cell_type": "markdown",
   "id": "62fafeaf",
   "metadata": {},
   "source": [
    "*Сервисом пользуется 835 пользователей без подписки (54%), 699 с подпиской (46%)*"
   ]
  },
  {
   "cell_type": "markdown",
   "id": "26b5639a",
   "metadata": {},
   "source": [
    "**Анализ возраста пользователей**"
   ]
  },
  {
   "cell_type": "code",
   "execution_count": 21,
   "id": "ee38001f",
   "metadata": {},
   "outputs": [
    {
     "data": {
      "text/html": [
       "<div>\n",
       "<style scoped>\n",
       "    .dataframe tbody tr th:only-of-type {\n",
       "        vertical-align: middle;\n",
       "    }\n",
       "\n",
       "    .dataframe tbody tr th {\n",
       "        vertical-align: top;\n",
       "    }\n",
       "\n",
       "    .dataframe thead th {\n",
       "        text-align: right;\n",
       "    }\n",
       "</style>\n",
       "<table border=\"1\" class=\"dataframe\">\n",
       "  <thead>\n",
       "    <tr style=\"text-align: right;\">\n",
       "      <th></th>\n",
       "      <th>user_id</th>\n",
       "    </tr>\n",
       "    <tr>\n",
       "      <th>age</th>\n",
       "      <th></th>\n",
       "    </tr>\n",
       "  </thead>\n",
       "  <tbody>\n",
       "    <tr>\n",
       "      <th>25</th>\n",
       "      <td>145</td>\n",
       "    </tr>\n",
       "    <tr>\n",
       "      <th>24</th>\n",
       "      <td>132</td>\n",
       "    </tr>\n",
       "    <tr>\n",
       "      <th>26</th>\n",
       "      <td>131</td>\n",
       "    </tr>\n",
       "    <tr>\n",
       "      <th>23</th>\n",
       "      <td>129</td>\n",
       "    </tr>\n",
       "    <tr>\n",
       "      <th>27</th>\n",
       "      <td>119</td>\n",
       "    </tr>\n",
       "  </tbody>\n",
       "</table>\n",
       "</div>"
      ],
      "text/plain": [
       "     user_id\n",
       "age         \n",
       "25       145\n",
       "24       132\n",
       "26       131\n",
       "23       129\n",
       "27       119"
      ]
     },
     "execution_count": 21,
     "metadata": {},
     "output_type": "execute_result"
    }
   ],
   "source": [
    "# возраст пользователей табличный анализ\n",
    "users_by_age = users.pivot_table(index='age', values='user_id', aggfunc='count')\n",
    "users_by_age_sorted = users_by_age.sort_values(by='user_id', ascending=False)\n",
    "users_by_age_sorted.head(5)"
   ]
  },
  {
   "cell_type": "code",
   "execution_count": 22,
   "id": "f12c6862",
   "metadata": {},
   "outputs": [
    {
     "data": {
      "image/png": "[encoded data removed]",
      "text/plain": [
       "<Figure size 432x288 with 1 Axes>"
      ]
     },
     "metadata": {
      "needs_background": "light"
     },
     "output_type": "display_data"
    }
   ],
   "source": [
    "# возраст пользователей графически\n",
    "ax = users_by_age.plot(kind='bar')\n",
    "ax.set_title('Количество пользователей')\n",
    "ax.set_xlabel('Возраст')\n",
    "ax.set_ylabel('Количество пользователей')\n",
    "plt.show()"
   ]
  },
  {
   "cell_type": "markdown",
   "id": "ba0a0164",
   "metadata": {},
   "source": [
    "*Возраст пользователей от 12 до 43 лет. Чаще всего встречаются значения возраста от 23 до 27 лет*"
   ]
  },
  {
   "cell_type": "markdown",
   "id": "2f20f5bd",
   "metadata": {},
   "source": [
    "**Расстояние преодоленное пользователем**"
   ]
  },
  {
   "cell_type": "code",
   "execution_count": 23,
   "id": "1645932a",
   "metadata": {},
   "outputs": [
    {
     "name": "stdout",
     "output_type": "stream",
     "text": [
      "Максимальное расстояние за поездку 7211.007744598519\n",
      "Минимальное расстояние за поездку 0.855682925681208\n",
      "Медианное расстояние за поездку 3133.6099936787664\n"
     ]
    }
   ],
   "source": [
    "# анализ расстояния за поездку\n",
    "print('Максимальное расстояние за поездку', rides['distance'].max())\n",
    "print('Минимальное расстояние за поездку', rides['distance'].min())\n",
    "print('Медианное расстояние за поездку', rides['distance'].median())"
   ]
  },
  {
   "cell_type": "code",
   "execution_count": 24,
   "id": "e7ceff88",
   "metadata": {},
   "outputs": [
    {
     "data": {
      "text/plain": [
       "count    18068.000000\n",
       "mean      3070.659976\n",
       "std       1116.831209\n",
       "min          0.855683\n",
       "25%       2543.226360\n",
       "50%       3133.609994\n",
       "75%       3776.222735\n",
       "max       7211.007745\n",
       "Name: distance, dtype: float64"
      ]
     },
     "execution_count": 24,
     "metadata": {},
     "output_type": "execute_result"
    }
   ],
   "source": [
    "# статистика по пройденному расстоянию за поездку\n",
    "rides['distance'].describe()"
   ]
  },
  {
   "cell_type": "code",
   "execution_count": 25,
   "id": "1b92569f",
   "metadata": {},
   "outputs": [
    {
     "data": {
      "image/png": "[encoded data removed]",
      "text/plain": [
       "<Figure size 432x288 with 1 Axes>"
      ]
     },
     "metadata": {
      "needs_background": "light"
     },
     "output_type": "display_data"
    }
   ],
   "source": [
    "# расстояние преодоленное пользователем графически\n",
    "ax = rides['distance'].plot(kind='hist', bins=100)\n",
    "ax.set_title('Расстояние за поездку')\n",
    "ax.set_xlabel('Расстояние')\n",
    "ax.set_ylabel('Количество пользователей')\n",
    "plt.show()"
   ]
  },
  {
   "cell_type": "code",
   "execution_count": 26,
   "id": "a93dbad2",
   "metadata": {},
   "outputs": [
    {
     "data": {
      "text/html": [
       "<div>\n",
       "<style scoped>\n",
       "    .dataframe tbody tr th:only-of-type {\n",
       "        vertical-align: middle;\n",
       "    }\n",
       "\n",
       "    .dataframe tbody tr th {\n",
       "        vertical-align: top;\n",
       "    }\n",
       "\n",
       "    .dataframe thead th {\n",
       "        text-align: right;\n",
       "    }\n",
       "</style>\n",
       "<table border=\"1\" class=\"dataframe\">\n",
       "  <thead>\n",
       "    <tr style=\"text-align: right;\">\n",
       "      <th></th>\n",
       "      <th>user_id</th>\n",
       "      <th>distance</th>\n",
       "      <th>duration</th>\n",
       "      <th>month</th>\n",
       "    </tr>\n",
       "  </thead>\n",
       "  <tbody>\n",
       "    <tr>\n",
       "      <th>count</th>\n",
       "      <td>1372.000000</td>\n",
       "      <td>1372.000000</td>\n",
       "      <td>1372.000000</td>\n",
       "      <td>1372.000000</td>\n",
       "    </tr>\n",
       "    <tr>\n",
       "      <th>mean</th>\n",
       "      <td>977.518222</td>\n",
       "      <td>549.248484</td>\n",
       "      <td>9.555959</td>\n",
       "      <td>6.568513</td>\n",
       "    </tr>\n",
       "    <tr>\n",
       "      <th>std</th>\n",
       "      <td>386.254751</td>\n",
       "      <td>265.731473</td>\n",
       "      <td>3.823324</td>\n",
       "      <td>3.506851</td>\n",
       "    </tr>\n",
       "    <tr>\n",
       "      <th>min</th>\n",
       "      <td>1.000000</td>\n",
       "      <td>0.855683</td>\n",
       "      <td>2.035632</td>\n",
       "      <td>1.000000</td>\n",
       "    </tr>\n",
       "    <tr>\n",
       "      <th>25%</th>\n",
       "      <td>760.000000</td>\n",
       "      <td>333.796146</td>\n",
       "      <td>6.397153</td>\n",
       "      <td>3.000000</td>\n",
       "    </tr>\n",
       "    <tr>\n",
       "      <th>50%</th>\n",
       "      <td>1030.000000</td>\n",
       "      <td>574.118578</td>\n",
       "      <td>9.336174</td>\n",
       "      <td>7.000000</td>\n",
       "    </tr>\n",
       "    <tr>\n",
       "      <th>75%</th>\n",
       "      <td>1285.500000</td>\n",
       "      <td>771.980411</td>\n",
       "      <td>12.832299</td>\n",
       "      <td>10.000000</td>\n",
       "    </tr>\n",
       "    <tr>\n",
       "      <th>max</th>\n",
       "      <td>1534.000000</td>\n",
       "      <td>999.531884</td>\n",
       "      <td>18.235650</td>\n",
       "      <td>12.000000</td>\n",
       "    </tr>\n",
       "  </tbody>\n",
       "</table>\n",
       "</div>"
      ],
      "text/plain": [
       "           user_id     distance     duration        month\n",
       "count  1372.000000  1372.000000  1372.000000  1372.000000\n",
       "mean    977.518222   549.248484     9.555959     6.568513\n",
       "std     386.254751   265.731473     3.823324     3.506851\n",
       "min       1.000000     0.855683     2.035632     1.000000\n",
       "25%     760.000000   333.796146     6.397153     3.000000\n",
       "50%    1030.000000   574.118578     9.336174     7.000000\n",
       "75%    1285.500000   771.980411    12.832299    10.000000\n",
       "max    1534.000000   999.531884    18.235650    12.000000"
      ]
     },
     "metadata": {},
     "output_type": "display_data"
    },
    {
     "data": {
      "text/html": [
       "<div>\n",
       "<style scoped>\n",
       "    .dataframe tbody tr th:only-of-type {\n",
       "        vertical-align: middle;\n",
       "    }\n",
       "\n",
       "    .dataframe tbody tr th {\n",
       "        vertical-align: top;\n",
       "    }\n",
       "\n",
       "    .dataframe thead th {\n",
       "        text-align: right;\n",
       "    }\n",
       "</style>\n",
       "<table border=\"1\" class=\"dataframe\">\n",
       "  <thead>\n",
       "    <tr style=\"text-align: right;\">\n",
       "      <th></th>\n",
       "      <th>user_id</th>\n",
       "      <th>distance</th>\n",
       "      <th>duration</th>\n",
       "      <th>month</th>\n",
       "    </tr>\n",
       "  </thead>\n",
       "  <tbody>\n",
       "    <tr>\n",
       "      <th>count</th>\n",
       "      <td>16696.000000</td>\n",
       "      <td>16696.000000</td>\n",
       "      <td>16696.000000</td>\n",
       "      <td>16696.000000</td>\n",
       "    </tr>\n",
       "    <tr>\n",
       "      <th>mean</th>\n",
       "      <td>831.805163</td>\n",
       "      <td>3277.857901</td>\n",
       "      <td>18.482880</td>\n",
       "      <td>6.480055</td>\n",
       "    </tr>\n",
       "    <tr>\n",
       "      <th>std</th>\n",
       "      <td>436.647865</td>\n",
       "      <td>882.395348</td>\n",
       "      <td>5.735661</td>\n",
       "      <td>3.431662</td>\n",
       "    </tr>\n",
       "    <tr>\n",
       "      <th>min</th>\n",
       "      <td>1.000000</td>\n",
       "      <td>1001.469328</td>\n",
       "      <td>0.500000</td>\n",
       "      <td>1.000000</td>\n",
       "    </tr>\n",
       "    <tr>\n",
       "      <th>25%</th>\n",
       "      <td>468.000000</td>\n",
       "      <td>2697.159003</td>\n",
       "      <td>14.403878</td>\n",
       "      <td>4.000000</td>\n",
       "    </tr>\n",
       "    <tr>\n",
       "      <th>50%</th>\n",
       "      <td>874.000000</td>\n",
       "      <td>3212.765595</td>\n",
       "      <td>18.251272</td>\n",
       "      <td>6.000000</td>\n",
       "    </tr>\n",
       "    <tr>\n",
       "      <th>75%</th>\n",
       "      <td>1206.000000</td>\n",
       "      <td>3852.326767</td>\n",
       "      <td>22.069973</td>\n",
       "      <td>9.000000</td>\n",
       "    </tr>\n",
       "    <tr>\n",
       "      <th>max</th>\n",
       "      <td>1534.000000</td>\n",
       "      <td>7211.007745</td>\n",
       "      <td>40.823963</td>\n",
       "      <td>12.000000</td>\n",
       "    </tr>\n",
       "  </tbody>\n",
       "</table>\n",
       "</div>"
      ],
      "text/plain": [
       "            user_id      distance      duration         month\n",
       "count  16696.000000  16696.000000  16696.000000  16696.000000\n",
       "mean     831.805163   3277.857901     18.482880      6.480055\n",
       "std      436.647865    882.395348      5.735661      3.431662\n",
       "min        1.000000   1001.469328      0.500000      1.000000\n",
       "25%      468.000000   2697.159003     14.403878      4.000000\n",
       "50%      874.000000   3212.765595     18.251272      6.000000\n",
       "75%     1206.000000   3852.326767     22.069973      9.000000\n",
       "max     1534.000000   7211.007745     40.823963     12.000000"
      ]
     },
     "metadata": {},
     "output_type": "display_data"
    }
   ],
   "source": [
    "# рассмотрим небольшой пик количества пользователей от 0 до 1000 м\n",
    "display(rides[rides['distance'] < 1000].describe())\n",
    "display(rides[rides['distance'] > 1000].describe())"
   ]
  },
  {
   "cell_type": "markdown",
   "id": "e1bf9a10",
   "metadata": {},
   "source": [
    "*Наименьшее расстояние поездки 0.85 м, наибольшее 7211 м, в среднем пользователь проезжает 3133 м. Существует небольшой пик количества пользователей в районе 600 метров. Пользователь не отъезжает далеко от паркинга самокатов не далее 1 км, и катается с небольшой скоростью, судя по среднему времени, которое лишь в половину меньше чем при средней поездке на 3 км. Это можно объяснить поездками от одного паркинга самокатов до другого в качестве тестовой поездки для пользователей без подписки или заменой самоката по какой-либо причине.*"
   ]
  },
  {
   "cell_type": "markdown",
   "id": "ab8ebc53",
   "metadata": {},
   "source": [
    "**Продолжительность поездок**"
   ]
  },
  {
   "cell_type": "code",
   "execution_count": 27,
   "id": "2afc0f5a",
   "metadata": {},
   "outputs": [
    {
     "name": "stdout",
     "output_type": "stream",
     "text": [
      "Максимальное время поездки 40.82396261922424\n",
      "Минимальное время поездки 0.5\n",
      "Медианное время поездки 17.678394530393803\n"
     ]
    }
   ],
   "source": [
    "# анализ времени поездки\n",
    "print('Максимальное время поездки', rides['duration'].max())\n",
    "print('Минимальное время поездки', rides['duration'].min())\n",
    "print('Медианное время поездки', rides['duration'].median())"
   ]
  },
  {
   "cell_type": "code",
   "execution_count": 28,
   "id": "39f696ef",
   "metadata": {},
   "outputs": [
    {
     "data": {
      "image/png": "[encoded data removed]",
      "text/plain": [
       "<Figure size 432x288 with 1 Axes>"
      ]
     },
     "metadata": {
      "needs_background": "light"
     },
     "output_type": "display_data"
    }
   ],
   "source": [
    "ax = rides['duration'].plot(kind='hist', bins=100)\n",
    "ax.set_title('Время поездки')\n",
    "ax.set_xlabel('Поездка')\n",
    "ax.set_ylabel('Время поездки')\n",
    "plt.show()"
   ]
  },
  {
   "cell_type": "markdown",
   "id": "7be15b13",
   "metadata": {},
   "source": [
    "*Поездка занимает у пользователя от 0.5 минуты до 40 минут. В среднем поездка длится не более 18 минут.*"
   ]
  },
  {
   "cell_type": "code",
   "execution_count": 29,
   "id": "1a9f3971",
   "metadata": {},
   "outputs": [
    {
     "name": "stdout",
     "output_type": "stream",
     "text": [
      "Количество поездок меньше 1 минуты: 95\n",
      "Средняя продолжительность поездок меньше 1 минуты: 0.5\n",
      "Среднее расстояние поездок меньше 1 минуты: 5052.769410992954\n",
      "Минимальное расстояние поездок меньше 1 минуты: 4030.308008428866\n"
     ]
    }
   ],
   "source": [
    "# анализ возможных выбросов по продолжительности поездки\n",
    "print('Количество поездок меньше 1 минуты:',len(rides[rides['duration'] < 1]))\n",
    "print('Средняя продолжительность поездок меньше 1 минуты:', rides[rides['duration'] < 1]['duration'].median())\n",
    "print('Среднее расстояние поездок меньше 1 минуты:', rides[rides['duration'] < 1]['distance'].median())\n",
    "print('Минимальное расстояние поездок меньше 1 минуты:', rides[rides['duration'] < 1]['distance'].min())"
   ]
  },
  {
   "cell_type": "code",
   "execution_count": 30,
   "id": "b305dc63",
   "metadata": {},
   "outputs": [
    {
     "name": "stdout",
     "output_type": "stream",
     "text": [
      "Размер до преобразования: 18068\n",
      "Размер после преобразования: 17973\n"
     ]
    }
   ],
   "source": [
    "# отбросим аномальные данные\n",
    "print('Размер до преобразования:', len(rides))\n",
    "rides = rides[rides['duration'] >= 1]\n",
    "print('Размер после преобразования:', len(rides))"
   ]
  },
  {
   "cell_type": "markdown",
   "id": "26b9a20b",
   "metadata": {},
   "source": [
    "*Количество предполагаемых выбросов со значением продолжительности поездки меньше 1 минуты составляет 95, их продолжительность 30 секунд, медианное расстояние 5052 м, а минимальное 4030 м. Эти данные являются аномальными (самокат не может развить такую скорость, чтобы преодолеть более 4 км меньше чем за минуту), их количество не очень большое, поэтому можно отбросить эти данные. Скорее всего произошла техническая ошибка при определении расстояния или времени этих поездок*"
   ]
  },
  {
   "cell_type": "markdown",
   "id": "4ef51331",
   "metadata": {},
   "source": [
    "#### Шаг 4. Объединение данных"
   ]
  },
  {
   "cell_type": "code",
   "execution_count": 31,
   "id": "6bf288b5",
   "metadata": {
    "scrolled": false
   },
   "outputs": [
    {
     "data": {
      "text/html": [
       "<div>\n",
       "<style scoped>\n",
       "    .dataframe tbody tr th:only-of-type {\n",
       "        vertical-align: middle;\n",
       "    }\n",
       "\n",
       "    .dataframe tbody tr th {\n",
       "        vertical-align: top;\n",
       "    }\n",
       "\n",
       "    .dataframe thead th {\n",
       "        text-align: right;\n",
       "    }\n",
       "</style>\n",
       "<table border=\"1\" class=\"dataframe\">\n",
       "  <thead>\n",
       "    <tr style=\"text-align: right;\">\n",
       "      <th></th>\n",
       "      <th>user_id</th>\n",
       "      <th>distance</th>\n",
       "      <th>duration</th>\n",
       "      <th>date</th>\n",
       "      <th>month</th>\n",
       "      <th>name</th>\n",
       "      <th>age</th>\n",
       "      <th>city</th>\n",
       "      <th>subscription_type</th>\n",
       "      <th>minute_price</th>\n",
       "      <th>start_ride_price</th>\n",
       "      <th>subscription_fee</th>\n",
       "    </tr>\n",
       "  </thead>\n",
       "  <tbody>\n",
       "    <tr>\n",
       "      <th>0</th>\n",
       "      <td>1</td>\n",
       "      <td>4409.919140</td>\n",
       "      <td>25.599769</td>\n",
       "      <td>2021-01-01</td>\n",
       "      <td>1</td>\n",
       "      <td>Кира</td>\n",
       "      <td>22</td>\n",
       "      <td>Тюмень</td>\n",
       "      <td>ultra</td>\n",
       "      <td>6</td>\n",
       "      <td>0</td>\n",
       "      <td>199</td>\n",
       "    </tr>\n",
       "    <tr>\n",
       "      <th>1</th>\n",
       "      <td>1</td>\n",
       "      <td>2617.592153</td>\n",
       "      <td>15.816871</td>\n",
       "      <td>2021-01-18</td>\n",
       "      <td>1</td>\n",
       "      <td>Кира</td>\n",
       "      <td>22</td>\n",
       "      <td>Тюмень</td>\n",
       "      <td>ultra</td>\n",
       "      <td>6</td>\n",
       "      <td>0</td>\n",
       "      <td>199</td>\n",
       "    </tr>\n",
       "    <tr>\n",
       "      <th>2</th>\n",
       "      <td>1</td>\n",
       "      <td>754.159807</td>\n",
       "      <td>6.232113</td>\n",
       "      <td>2021-04-20</td>\n",
       "      <td>4</td>\n",
       "      <td>Кира</td>\n",
       "      <td>22</td>\n",
       "      <td>Тюмень</td>\n",
       "      <td>ultra</td>\n",
       "      <td>6</td>\n",
       "      <td>0</td>\n",
       "      <td>199</td>\n",
       "    </tr>\n",
       "    <tr>\n",
       "      <th>3</th>\n",
       "      <td>1</td>\n",
       "      <td>2694.783254</td>\n",
       "      <td>18.511000</td>\n",
       "      <td>2021-08-11</td>\n",
       "      <td>8</td>\n",
       "      <td>Кира</td>\n",
       "      <td>22</td>\n",
       "      <td>Тюмень</td>\n",
       "      <td>ultra</td>\n",
       "      <td>6</td>\n",
       "      <td>0</td>\n",
       "      <td>199</td>\n",
       "    </tr>\n",
       "    <tr>\n",
       "      <th>4</th>\n",
       "      <td>1</td>\n",
       "      <td>4028.687306</td>\n",
       "      <td>26.265803</td>\n",
       "      <td>2021-08-28</td>\n",
       "      <td>8</td>\n",
       "      <td>Кира</td>\n",
       "      <td>22</td>\n",
       "      <td>Тюмень</td>\n",
       "      <td>ultra</td>\n",
       "      <td>6</td>\n",
       "      <td>0</td>\n",
       "      <td>199</td>\n",
       "    </tr>\n",
       "  </tbody>\n",
       "</table>\n",
       "</div>"
      ],
      "text/plain": [
       "   user_id     distance   duration       date  month  name  age    city  \\\n",
       "0        1  4409.919140  25.599769 2021-01-01      1  Кира   22  Тюмень   \n",
       "1        1  2617.592153  15.816871 2021-01-18      1  Кира   22  Тюмень   \n",
       "2        1   754.159807   6.232113 2021-04-20      4  Кира   22  Тюмень   \n",
       "3        1  2694.783254  18.511000 2021-08-11      8  Кира   22  Тюмень   \n",
       "4        1  4028.687306  26.265803 2021-08-28      8  Кира   22  Тюмень   \n",
       "\n",
       "  subscription_type  minute_price  start_ride_price  subscription_fee  \n",
       "0             ultra             6                 0               199  \n",
       "1             ultra             6                 0               199  \n",
       "2             ultra             6                 0               199  \n",
       "3             ultra             6                 0               199  \n",
       "4             ultra             6                 0               199  "
      ]
     },
     "execution_count": 31,
     "metadata": {},
     "output_type": "execute_result"
    }
   ],
   "source": [
    "# объединение наборов данных\n",
    "data = rides.merge(users, on='user_id').merge(subscriptions, on='subscription_type')\n",
    "data.head()"
   ]
  },
  {
   "cell_type": "code",
   "execution_count": 32,
   "id": "6045954e",
   "metadata": {},
   "outputs": [
    {
     "name": "stdout",
     "output_type": "stream",
     "text": [
      "Строк в наборе данных о поездках: 17973\n",
      "Строк в объединенном наборе данных: 17973\n",
      "Корректное объединение\n"
     ]
    }
   ],
   "source": [
    "# проверка корректности объединения\n",
    "print('Строк в наборе данных о поездках:', len(rides))\n",
    "print('Строк в объединенном наборе данных:', len(data))\n",
    "print('Корректное объединение' if len(data) == len(rides) else 'Некорректное объединение')"
   ]
  },
  {
   "cell_type": "code",
   "execution_count": 33,
   "id": "8d12274f",
   "metadata": {},
   "outputs": [
    {
     "data": {
      "text/html": [
       "<div>\n",
       "<style scoped>\n",
       "    .dataframe tbody tr th:only-of-type {\n",
       "        vertical-align: middle;\n",
       "    }\n",
       "\n",
       "    .dataframe tbody tr th {\n",
       "        vertical-align: top;\n",
       "    }\n",
       "\n",
       "    .dataframe thead th {\n",
       "        text-align: right;\n",
       "    }\n",
       "</style>\n",
       "<table border=\"1\" class=\"dataframe\">\n",
       "  <thead>\n",
       "    <tr style=\"text-align: right;\">\n",
       "      <th></th>\n",
       "      <th>user_id</th>\n",
       "      <th>distance</th>\n",
       "      <th>duration</th>\n",
       "      <th>date</th>\n",
       "      <th>month</th>\n",
       "      <th>name</th>\n",
       "      <th>age</th>\n",
       "      <th>city</th>\n",
       "      <th>subscription_type</th>\n",
       "      <th>minute_price</th>\n",
       "      <th>start_ride_price</th>\n",
       "      <th>subscription_fee</th>\n",
       "    </tr>\n",
       "  </thead>\n",
       "  <tbody>\n",
       "    <tr>\n",
       "      <th>0</th>\n",
       "      <td>1</td>\n",
       "      <td>4409.919140</td>\n",
       "      <td>25.599769</td>\n",
       "      <td>2021-01-01</td>\n",
       "      <td>1</td>\n",
       "      <td>Кира</td>\n",
       "      <td>22</td>\n",
       "      <td>Тюмень</td>\n",
       "      <td>ultra</td>\n",
       "      <td>6</td>\n",
       "      <td>0</td>\n",
       "      <td>199</td>\n",
       "    </tr>\n",
       "    <tr>\n",
       "      <th>1</th>\n",
       "      <td>1</td>\n",
       "      <td>2617.592153</td>\n",
       "      <td>15.816871</td>\n",
       "      <td>2021-01-18</td>\n",
       "      <td>1</td>\n",
       "      <td>Кира</td>\n",
       "      <td>22</td>\n",
       "      <td>Тюмень</td>\n",
       "      <td>ultra</td>\n",
       "      <td>6</td>\n",
       "      <td>0</td>\n",
       "      <td>199</td>\n",
       "    </tr>\n",
       "    <tr>\n",
       "      <th>2</th>\n",
       "      <td>1</td>\n",
       "      <td>754.159807</td>\n",
       "      <td>6.232113</td>\n",
       "      <td>2021-04-20</td>\n",
       "      <td>4</td>\n",
       "      <td>Кира</td>\n",
       "      <td>22</td>\n",
       "      <td>Тюмень</td>\n",
       "      <td>ultra</td>\n",
       "      <td>6</td>\n",
       "      <td>0</td>\n",
       "      <td>199</td>\n",
       "    </tr>\n",
       "    <tr>\n",
       "      <th>3</th>\n",
       "      <td>1</td>\n",
       "      <td>2694.783254</td>\n",
       "      <td>18.511000</td>\n",
       "      <td>2021-08-11</td>\n",
       "      <td>8</td>\n",
       "      <td>Кира</td>\n",
       "      <td>22</td>\n",
       "      <td>Тюмень</td>\n",
       "      <td>ultra</td>\n",
       "      <td>6</td>\n",
       "      <td>0</td>\n",
       "      <td>199</td>\n",
       "    </tr>\n",
       "    <tr>\n",
       "      <th>4</th>\n",
       "      <td>1</td>\n",
       "      <td>4028.687306</td>\n",
       "      <td>26.265803</td>\n",
       "      <td>2021-08-28</td>\n",
       "      <td>8</td>\n",
       "      <td>Кира</td>\n",
       "      <td>22</td>\n",
       "      <td>Тюмень</td>\n",
       "      <td>ultra</td>\n",
       "      <td>6</td>\n",
       "      <td>0</td>\n",
       "      <td>199</td>\n",
       "    </tr>\n",
       "  </tbody>\n",
       "</table>\n",
       "</div>"
      ],
      "text/plain": [
       "   user_id     distance   duration       date  month  name  age    city  \\\n",
       "0        1  4409.919140  25.599769 2021-01-01      1  Кира   22  Тюмень   \n",
       "1        1  2617.592153  15.816871 2021-01-18      1  Кира   22  Тюмень   \n",
       "2        1   754.159807   6.232113 2021-04-20      4  Кира   22  Тюмень   \n",
       "3        1  2694.783254  18.511000 2021-08-11      8  Кира   22  Тюмень   \n",
       "4        1  4028.687306  26.265803 2021-08-28      8  Кира   22  Тюмень   \n",
       "\n",
       "  subscription_type  minute_price  start_ride_price  subscription_fee  \n",
       "0             ultra             6                 0               199  \n",
       "1             ultra             6                 0               199  \n",
       "2             ultra             6                 0               199  \n",
       "3             ultra             6                 0               199  \n",
       "4             ultra             6                 0               199  "
      ]
     },
     "execution_count": 33,
     "metadata": {},
     "output_type": "execute_result"
    }
   ],
   "source": [
    "# выделение данных с подпиской\n",
    "sub = data[data['subscription_type'] == 'ultra']\n",
    "sub.head()"
   ]
  },
  {
   "cell_type": "code",
   "execution_count": 34,
   "id": "da3f7cdf",
   "metadata": {
    "scrolled": false
   },
   "outputs": [
    {
     "data": {
      "text/html": [
       "<div>\n",
       "<style scoped>\n",
       "    .dataframe tbody tr th:only-of-type {\n",
       "        vertical-align: middle;\n",
       "    }\n",
       "\n",
       "    .dataframe tbody tr th {\n",
       "        vertical-align: top;\n",
       "    }\n",
       "\n",
       "    .dataframe thead th {\n",
       "        text-align: right;\n",
       "    }\n",
       "</style>\n",
       "<table border=\"1\" class=\"dataframe\">\n",
       "  <thead>\n",
       "    <tr style=\"text-align: right;\">\n",
       "      <th></th>\n",
       "      <th>user_id</th>\n",
       "      <th>distance</th>\n",
       "      <th>duration</th>\n",
       "      <th>date</th>\n",
       "      <th>month</th>\n",
       "      <th>name</th>\n",
       "      <th>age</th>\n",
       "      <th>city</th>\n",
       "      <th>subscription_type</th>\n",
       "      <th>minute_price</th>\n",
       "      <th>start_ride_price</th>\n",
       "      <th>subscription_fee</th>\n",
       "    </tr>\n",
       "  </thead>\n",
       "  <tbody>\n",
       "    <tr>\n",
       "      <th>6500</th>\n",
       "      <td>700</td>\n",
       "      <td>2515.690719</td>\n",
       "      <td>14.944286</td>\n",
       "      <td>2021-01-02</td>\n",
       "      <td>1</td>\n",
       "      <td>Айдар</td>\n",
       "      <td>22</td>\n",
       "      <td>Омск</td>\n",
       "      <td>free</td>\n",
       "      <td>8</td>\n",
       "      <td>50</td>\n",
       "      <td>0</td>\n",
       "    </tr>\n",
       "    <tr>\n",
       "      <th>6501</th>\n",
       "      <td>700</td>\n",
       "      <td>846.932642</td>\n",
       "      <td>16.234663</td>\n",
       "      <td>2021-02-01</td>\n",
       "      <td>2</td>\n",
       "      <td>Айдар</td>\n",
       "      <td>22</td>\n",
       "      <td>Омск</td>\n",
       "      <td>free</td>\n",
       "      <td>8</td>\n",
       "      <td>50</td>\n",
       "      <td>0</td>\n",
       "    </tr>\n",
       "    <tr>\n",
       "      <th>6502</th>\n",
       "      <td>700</td>\n",
       "      <td>4004.434142</td>\n",
       "      <td>20.016628</td>\n",
       "      <td>2021-02-04</td>\n",
       "      <td>2</td>\n",
       "      <td>Айдар</td>\n",
       "      <td>22</td>\n",
       "      <td>Омск</td>\n",
       "      <td>free</td>\n",
       "      <td>8</td>\n",
       "      <td>50</td>\n",
       "      <td>0</td>\n",
       "    </tr>\n",
       "    <tr>\n",
       "      <th>6503</th>\n",
       "      <td>700</td>\n",
       "      <td>1205.911290</td>\n",
       "      <td>9.782872</td>\n",
       "      <td>2021-02-10</td>\n",
       "      <td>2</td>\n",
       "      <td>Айдар</td>\n",
       "      <td>22</td>\n",
       "      <td>Омск</td>\n",
       "      <td>free</td>\n",
       "      <td>8</td>\n",
       "      <td>50</td>\n",
       "      <td>0</td>\n",
       "    </tr>\n",
       "    <tr>\n",
       "      <th>6504</th>\n",
       "      <td>700</td>\n",
       "      <td>3047.379435</td>\n",
       "      <td>17.427673</td>\n",
       "      <td>2021-02-14</td>\n",
       "      <td>2</td>\n",
       "      <td>Айдар</td>\n",
       "      <td>22</td>\n",
       "      <td>Омск</td>\n",
       "      <td>free</td>\n",
       "      <td>8</td>\n",
       "      <td>50</td>\n",
       "      <td>0</td>\n",
       "    </tr>\n",
       "  </tbody>\n",
       "</table>\n",
       "</div>"
      ],
      "text/plain": [
       "      user_id     distance   duration       date  month   name  age  city  \\\n",
       "6500      700  2515.690719  14.944286 2021-01-02      1  Айдар   22  Омск   \n",
       "6501      700   846.932642  16.234663 2021-02-01      2  Айдар   22  Омск   \n",
       "6502      700  4004.434142  20.016628 2021-02-04      2  Айдар   22  Омск   \n",
       "6503      700  1205.911290   9.782872 2021-02-10      2  Айдар   22  Омск   \n",
       "6504      700  3047.379435  17.427673 2021-02-14      2  Айдар   22  Омск   \n",
       "\n",
       "     subscription_type  minute_price  start_ride_price  subscription_fee  \n",
       "6500              free             8                50                 0  \n",
       "6501              free             8                50                 0  \n",
       "6502              free             8                50                 0  \n",
       "6503              free             8                50                 0  \n",
       "6504              free             8                50                 0  "
      ]
     },
     "execution_count": 34,
     "metadata": {},
     "output_type": "execute_result"
    }
   ],
   "source": [
    "# выделение данных без подписки\n",
    "unsub = data[data['subscription_type'] == 'free']\n",
    "unsub.head()"
   ]
  },
  {
   "cell_type": "markdown",
   "id": "56b21bb9",
   "metadata": {},
   "source": [
    "**Визуализация данных**"
   ]
  },
  {
   "cell_type": "code",
   "execution_count": 35,
   "id": "165f057d",
   "metadata": {},
   "outputs": [
    {
     "data": {
      "image/png": "[encoded data removed]",
      "text/plain": [
       "<Figure size 1080x360 with 2 Axes>"
      ]
     },
     "metadata": {
      "needs_background": "light"
     },
     "output_type": "display_data"
    }
   ],
   "source": [
    "# визуализация данных о расстоянии поездок с подпиской и без\n",
    "f, (ax1, ax2) = plt.subplots(1, 2, sharey=True, figsize=(15, 5))\n",
    "ax1.set_title('Расстояние с подпиской')\n",
    "ax2.set_title('Расстояние без подписки')\n",
    "ax1.set_xlabel('Расстояние')\n",
    "ax2.set_xlabel('Расстояние')\n",
    "ax1.set_ylabel('Количество пользователей')\n",
    "ax1.hist(x=sub['distance'], bins=100)\n",
    "ax2.hist(x=unsub['distance'], bins=100)\n",
    "ax1.axvline(sub['distance'].median(), color='red')\n",
    "ax2.axvline(unsub['distance'].median(), color='red')\n",
    "plt.show()"
   ]
  },
  {
   "cell_type": "code",
   "execution_count": 36,
   "id": "98871eb2",
   "metadata": {},
   "outputs": [
    {
     "name": "stdout",
     "output_type": "stream",
     "text": [
      "Медианное расстояние с подпиской: 3148.6372291760854\n",
      "Медианное расстояние без подписки: 3102.0830248287657\n",
      "Стандартное отклонение расстояния с подпиской: 836.8953302010374\n",
      "Стандартное отклонение расстояния без подписки: 1235.5410505450013\n"
     ]
    }
   ],
   "source": [
    "# вывод данных по значениям на графике\n",
    "print('Медианное расстояние с подпиской:', sub['distance'].median())\n",
    "print('Медианное расстояние без подписки:', unsub['distance'].median())\n",
    "print('Стандартное отклонение расстояния с подпиской:', sub['distance'].std())\n",
    "print('Стандартное отклонение расстояния без подписки:', unsub['distance'].std())"
   ]
  },
  {
   "cell_type": "code",
   "execution_count": 37,
   "id": "8c3beca4",
   "metadata": {},
   "outputs": [
    {
     "data": {
      "image/png": "[encoded data removed]",
      "text/plain": [
       "<Figure size 1080x360 with 2 Axes>"
      ]
     },
     "metadata": {
      "needs_background": "light"
     },
     "output_type": "display_data"
    }
   ],
   "source": [
    "# визуализация данных о времени поездок с подпиской и без\n",
    "f, (ax1, ax2) = plt.subplots(1, 2, sharey=True, figsize=(15, 5))\n",
    "ax1.set_title('Время с подпиской')\n",
    "ax2.set_title('Время без подписки')\n",
    "ax1.set_xlabel('Время')\n",
    "ax2.set_xlabel('Время')\n",
    "ax1.set_ylabel('Количество пользователей')\n",
    "ax1.hist(x=sub['duration'], bins=100)\n",
    "ax2.hist(x=unsub['duration'], bins=100)\n",
    "ax1.axvline(sub['duration'].median(), color='red')\n",
    "ax2.axvline(unsub['duration'].median(), color='red')\n",
    "plt.show()"
   ]
  },
  {
   "cell_type": "code",
   "execution_count": 38,
   "id": "18ecf9dc",
   "metadata": {},
   "outputs": [
    {
     "name": "stdout",
     "output_type": "stream",
     "text": [
      "Медианное время с подпиской: 18.17815320055055\n",
      "Медианное время без подписки: 17.383807372851628\n",
      "Стандартное отклонение времени с подпиской: 5.572048329261366\n",
      "Стандартное отклонение времени без подписки: 6.162608726726466\n"
     ]
    }
   ],
   "source": [
    "# вывод данных по значениям на графике\n",
    "print('Медианное время с подпиской:', sub['duration'].median())\n",
    "print('Медианное время без подписки:', unsub['duration'].median())\n",
    "print('Стандартное отклонение времени с подпиской:', sub['duration'].std())\n",
    "print('Стандартное отклонение времени без подписки:', unsub['duration'].std())"
   ]
  },
  {
   "cell_type": "markdown",
   "id": "0c21e51a",
   "metadata": {},
   "source": [
    "**Вывод по графикам анализа данных о пользователях с подпиской и без**\n",
    "\n",
    "- Медианное расстояние у пользователей с подпиской и без более 3000 м, но у пользователей с подпиской оно немного выше чем у пользователей без подписки.\n",
    "\n",
    "- У пользователей с подпиской и без подписки присутствует небольшой пик в количестве пользователей в районе 600 м поездки, но у пользователей без подписки этот пик значительно больше.\n",
    "\n",
    "- Среди пользователей без подписки больше тех, кто преодолевает расстояния больше 6000 м.\n",
    "\n",
    "- Пользователи с подпиской скорее всего пользуются самокатами каждый день для поездок по привычным маршрутам, поэтому разброс по дальности и длительности поездки меньше чем у пользователей без подписки.\n",
    "\n",
    "- У пользователей с подпиской и без медианное время находится в районе 17, 18 минут, но у пользователей без подписки оно меньше.\n",
    "\n",
    "- У пользователей без подписки нет тех, чья длительность поездки превышает 35 минут, в отличие от пользователей с подпиской, чья длительность поездки иногда достигает более 40 минут.\n",
    "\n",
    "- С подпиской расстояние за поездку и её длительность незначительно увеличивается. Однако без подписки больше разброс в количестве пользователей как по времени, так и по расстоянию"
   ]
  },
  {
   "cell_type": "markdown",
   "id": "27cd64fa",
   "metadata": {},
   "source": [
    "## 4. Проверка гипотез"
   ]
  },
  {
   "cell_type": "markdown",
   "id": "402d620f",
   "metadata": {},
   "source": [
    "#### Шаг 5. Подсчёт выручки"
   ]
  },
  {
   "cell_type": "code",
   "execution_count": 39,
   "id": "53049e0a",
   "metadata": {},
   "outputs": [
    {
     "data": {
      "text/html": [
       "<div>\n",
       "<style scoped>\n",
       "    .dataframe tbody tr th:only-of-type {\n",
       "        vertical-align: middle;\n",
       "    }\n",
       "\n",
       "    .dataframe tbody tr th {\n",
       "        vertical-align: top;\n",
       "    }\n",
       "\n",
       "    .dataframe thead th {\n",
       "        text-align: right;\n",
       "    }\n",
       "</style>\n",
       "<table border=\"1\" class=\"dataframe\">\n",
       "  <thead>\n",
       "    <tr style=\"text-align: right;\">\n",
       "      <th></th>\n",
       "      <th></th>\n",
       "      <th>subscription_type</th>\n",
       "      <th>start_ride_price</th>\n",
       "      <th>minute_price</th>\n",
       "      <th>subscription_fee</th>\n",
       "      <th>distance</th>\n",
       "      <th>count</th>\n",
       "      <th>duration</th>\n",
       "    </tr>\n",
       "    <tr>\n",
       "      <th>user_id</th>\n",
       "      <th>month</th>\n",
       "      <th></th>\n",
       "      <th></th>\n",
       "      <th></th>\n",
       "      <th></th>\n",
       "      <th></th>\n",
       "      <th></th>\n",
       "      <th></th>\n",
       "    </tr>\n",
       "  </thead>\n",
       "  <tbody>\n",
       "    <tr>\n",
       "      <th rowspan=\"6\" valign=\"top\">1</th>\n",
       "      <th>1</th>\n",
       "      <td>ultra</td>\n",
       "      <td>0</td>\n",
       "      <td>6</td>\n",
       "      <td>199</td>\n",
       "      <td>7027.511294</td>\n",
       "      <td>2</td>\n",
       "      <td>42.0</td>\n",
       "    </tr>\n",
       "    <tr>\n",
       "      <th>4</th>\n",
       "      <td>ultra</td>\n",
       "      <td>0</td>\n",
       "      <td>6</td>\n",
       "      <td>199</td>\n",
       "      <td>754.159807</td>\n",
       "      <td>1</td>\n",
       "      <td>7.0</td>\n",
       "    </tr>\n",
       "    <tr>\n",
       "      <th>8</th>\n",
       "      <td>ultra</td>\n",
       "      <td>0</td>\n",
       "      <td>6</td>\n",
       "      <td>199</td>\n",
       "      <td>6723.470560</td>\n",
       "      <td>2</td>\n",
       "      <td>46.0</td>\n",
       "    </tr>\n",
       "    <tr>\n",
       "      <th>10</th>\n",
       "      <td>ultra</td>\n",
       "      <td>0</td>\n",
       "      <td>6</td>\n",
       "      <td>199</td>\n",
       "      <td>5809.911100</td>\n",
       "      <td>2</td>\n",
       "      <td>32.0</td>\n",
       "    </tr>\n",
       "    <tr>\n",
       "      <th>11</th>\n",
       "      <td>ultra</td>\n",
       "      <td>0</td>\n",
       "      <td>6</td>\n",
       "      <td>199</td>\n",
       "      <td>7003.499363</td>\n",
       "      <td>3</td>\n",
       "      <td>56.0</td>\n",
       "    </tr>\n",
       "    <tr>\n",
       "      <th>12</th>\n",
       "      <td>ultra</td>\n",
       "      <td>0</td>\n",
       "      <td>6</td>\n",
       "      <td>199</td>\n",
       "      <td>6751.629942</td>\n",
       "      <td>2</td>\n",
       "      <td>28.0</td>\n",
       "    </tr>\n",
       "    <tr>\n",
       "      <th rowspan=\"7\" valign=\"top\">2</th>\n",
       "      <th>3</th>\n",
       "      <td>ultra</td>\n",
       "      <td>0</td>\n",
       "      <td>6</td>\n",
       "      <td>199</td>\n",
       "      <td>10187.723006</td>\n",
       "      <td>3</td>\n",
       "      <td>63.0</td>\n",
       "    </tr>\n",
       "    <tr>\n",
       "      <th>4</th>\n",
       "      <td>ultra</td>\n",
       "      <td>0</td>\n",
       "      <td>6</td>\n",
       "      <td>199</td>\n",
       "      <td>6164.381824</td>\n",
       "      <td>2</td>\n",
       "      <td>40.0</td>\n",
       "    </tr>\n",
       "    <tr>\n",
       "      <th>6</th>\n",
       "      <td>ultra</td>\n",
       "      <td>0</td>\n",
       "      <td>6</td>\n",
       "      <td>199</td>\n",
       "      <td>3255.338202</td>\n",
       "      <td>1</td>\n",
       "      <td>14.0</td>\n",
       "    </tr>\n",
       "    <tr>\n",
       "      <th>7</th>\n",
       "      <td>ultra</td>\n",
       "      <td>0</td>\n",
       "      <td>6</td>\n",
       "      <td>199</td>\n",
       "      <td>6780.722964</td>\n",
       "      <td>2</td>\n",
       "      <td>48.0</td>\n",
       "    </tr>\n",
       "    <tr>\n",
       "      <th>8</th>\n",
       "      <td>ultra</td>\n",
       "      <td>0</td>\n",
       "      <td>6</td>\n",
       "      <td>199</td>\n",
       "      <td>923.007439</td>\n",
       "      <td>1</td>\n",
       "      <td>7.0</td>\n",
       "    </tr>\n",
       "    <tr>\n",
       "      <th>10</th>\n",
       "      <td>ultra</td>\n",
       "      <td>0</td>\n",
       "      <td>6</td>\n",
       "      <td>199</td>\n",
       "      <td>2824.636598</td>\n",
       "      <td>1</td>\n",
       "      <td>19.0</td>\n",
       "    </tr>\n",
       "    <tr>\n",
       "      <th>12</th>\n",
       "      <td>ultra</td>\n",
       "      <td>0</td>\n",
       "      <td>6</td>\n",
       "      <td>199</td>\n",
       "      <td>3828.248580</td>\n",
       "      <td>1</td>\n",
       "      <td>12.0</td>\n",
       "    </tr>\n",
       "    <tr>\n",
       "      <th rowspan=\"2\" valign=\"top\">3</th>\n",
       "      <th>1</th>\n",
       "      <td>ultra</td>\n",
       "      <td>0</td>\n",
       "      <td>6</td>\n",
       "      <td>199</td>\n",
       "      <td>3061.777147</td>\n",
       "      <td>1</td>\n",
       "      <td>13.0</td>\n",
       "    </tr>\n",
       "    <tr>\n",
       "      <th>2</th>\n",
       "      <td>ultra</td>\n",
       "      <td>0</td>\n",
       "      <td>6</td>\n",
       "      <td>199</td>\n",
       "      <td>5421.152016</td>\n",
       "      <td>2</td>\n",
       "      <td>39.0</td>\n",
       "    </tr>\n",
       "  </tbody>\n",
       "</table>\n",
       "</div>"
      ],
      "text/plain": [
       "              subscription_type  start_ride_price  minute_price  \\\n",
       "user_id month                                                     \n",
       "1       1                 ultra                 0             6   \n",
       "        4                 ultra                 0             6   \n",
       "        8                 ultra                 0             6   \n",
       "        10                ultra                 0             6   \n",
       "        11                ultra                 0             6   \n",
       "        12                ultra                 0             6   \n",
       "2       3                 ultra                 0             6   \n",
       "        4                 ultra                 0             6   \n",
       "        6                 ultra                 0             6   \n",
       "        7                 ultra                 0             6   \n",
       "        8                 ultra                 0             6   \n",
       "        10                ultra                 0             6   \n",
       "        12                ultra                 0             6   \n",
       "3       1                 ultra                 0             6   \n",
       "        2                 ultra                 0             6   \n",
       "\n",
       "               subscription_fee      distance  count  duration  \n",
       "user_id month                                                   \n",
       "1       1                   199   7027.511294      2      42.0  \n",
       "        4                   199    754.159807      1       7.0  \n",
       "        8                   199   6723.470560      2      46.0  \n",
       "        10                  199   5809.911100      2      32.0  \n",
       "        11                  199   7003.499363      3      56.0  \n",
       "        12                  199   6751.629942      2      28.0  \n",
       "2       3                   199  10187.723006      3      63.0  \n",
       "        4                   199   6164.381824      2      40.0  \n",
       "        6                   199   3255.338202      1      14.0  \n",
       "        7                   199   6780.722964      2      48.0  \n",
       "        8                   199    923.007439      1       7.0  \n",
       "        10                  199   2824.636598      1      19.0  \n",
       "        12                  199   3828.248580      1      12.0  \n",
       "3       1                   199   3061.777147      1      13.0  \n",
       "        2                   199   5421.152016      2      39.0  "
      ]
     },
     "execution_count": 39,
     "metadata": {},
     "output_type": "execute_result"
    }
   ],
   "source": [
    "# округление продолжительности поездки для подсчёта стоимости\n",
    "data['duration'] = np.ceil(data['duration'])\n",
    "\n",
    "# создание агрегированного набора данных по пользователям и месяцам\n",
    "data_by_user = data.groupby(by=['user_id', 'month']).agg({\n",
    "    'subscription_type' : 'first',\n",
    "    'start_ride_price' : 'first',\n",
    "    'minute_price' : 'first',\n",
    "    'subscription_fee' : 'first',\n",
    "    'distance' : 'sum',\n",
    "    'user_id' : 'count',\n",
    "    'duration' : 'sum',\n",
    "})\n",
    "data_by_user = data_by_user.rename(columns={'user_id' : 'count'})\n",
    "\n",
    "# проверка результатов\n",
    "data_by_user.head(15)"
   ]
  },
  {
   "cell_type": "code",
   "execution_count": 40,
   "id": "f2ec1d09",
   "metadata": {},
   "outputs": [],
   "source": [
    "# функция для расчёта выручки за месяц\n",
    "def rev_count(row):\n",
    "    return row['start_ride_price'] * row['count'] + row['minute_price'] * row['duration'] + row['subscription_fee']"
   ]
  },
  {
   "cell_type": "code",
   "execution_count": 41,
   "id": "81ecaaaa",
   "metadata": {
    "scrolled": false
   },
   "outputs": [
    {
     "data": {
      "text/html": [
       "<div>\n",
       "<style scoped>\n",
       "    .dataframe tbody tr th:only-of-type {\n",
       "        vertical-align: middle;\n",
       "    }\n",
       "\n",
       "    .dataframe tbody tr th {\n",
       "        vertical-align: top;\n",
       "    }\n",
       "\n",
       "    .dataframe thead th {\n",
       "        text-align: right;\n",
       "    }\n",
       "</style>\n",
       "<table border=\"1\" class=\"dataframe\">\n",
       "  <thead>\n",
       "    <tr style=\"text-align: right;\">\n",
       "      <th></th>\n",
       "      <th></th>\n",
       "      <th>subscription_type</th>\n",
       "      <th>start_ride_price</th>\n",
       "      <th>minute_price</th>\n",
       "      <th>subscription_fee</th>\n",
       "      <th>distance</th>\n",
       "      <th>count</th>\n",
       "      <th>duration</th>\n",
       "      <th>revenue</th>\n",
       "    </tr>\n",
       "    <tr>\n",
       "      <th>user_id</th>\n",
       "      <th>month</th>\n",
       "      <th></th>\n",
       "      <th></th>\n",
       "      <th></th>\n",
       "      <th></th>\n",
       "      <th></th>\n",
       "      <th></th>\n",
       "      <th></th>\n",
       "      <th></th>\n",
       "    </tr>\n",
       "  </thead>\n",
       "  <tbody>\n",
       "    <tr>\n",
       "      <th rowspan=\"6\" valign=\"top\">1</th>\n",
       "      <th>1</th>\n",
       "      <td>ultra</td>\n",
       "      <td>0</td>\n",
       "      <td>6</td>\n",
       "      <td>199</td>\n",
       "      <td>7027.511294</td>\n",
       "      <td>2</td>\n",
       "      <td>42.0</td>\n",
       "      <td>451.0</td>\n",
       "    </tr>\n",
       "    <tr>\n",
       "      <th>4</th>\n",
       "      <td>ultra</td>\n",
       "      <td>0</td>\n",
       "      <td>6</td>\n",
       "      <td>199</td>\n",
       "      <td>754.159807</td>\n",
       "      <td>1</td>\n",
       "      <td>7.0</td>\n",
       "      <td>241.0</td>\n",
       "    </tr>\n",
       "    <tr>\n",
       "      <th>8</th>\n",
       "      <td>ultra</td>\n",
       "      <td>0</td>\n",
       "      <td>6</td>\n",
       "      <td>199</td>\n",
       "      <td>6723.470560</td>\n",
       "      <td>2</td>\n",
       "      <td>46.0</td>\n",
       "      <td>475.0</td>\n",
       "    </tr>\n",
       "    <tr>\n",
       "      <th>10</th>\n",
       "      <td>ultra</td>\n",
       "      <td>0</td>\n",
       "      <td>6</td>\n",
       "      <td>199</td>\n",
       "      <td>5809.911100</td>\n",
       "      <td>2</td>\n",
       "      <td>32.0</td>\n",
       "      <td>391.0</td>\n",
       "    </tr>\n",
       "    <tr>\n",
       "      <th>11</th>\n",
       "      <td>ultra</td>\n",
       "      <td>0</td>\n",
       "      <td>6</td>\n",
       "      <td>199</td>\n",
       "      <td>7003.499363</td>\n",
       "      <td>3</td>\n",
       "      <td>56.0</td>\n",
       "      <td>535.0</td>\n",
       "    </tr>\n",
       "    <tr>\n",
       "      <th>12</th>\n",
       "      <td>ultra</td>\n",
       "      <td>0</td>\n",
       "      <td>6</td>\n",
       "      <td>199</td>\n",
       "      <td>6751.629942</td>\n",
       "      <td>2</td>\n",
       "      <td>28.0</td>\n",
       "      <td>367.0</td>\n",
       "    </tr>\n",
       "    <tr>\n",
       "      <th rowspan=\"7\" valign=\"top\">2</th>\n",
       "      <th>3</th>\n",
       "      <td>ultra</td>\n",
       "      <td>0</td>\n",
       "      <td>6</td>\n",
       "      <td>199</td>\n",
       "      <td>10187.723006</td>\n",
       "      <td>3</td>\n",
       "      <td>63.0</td>\n",
       "      <td>577.0</td>\n",
       "    </tr>\n",
       "    <tr>\n",
       "      <th>4</th>\n",
       "      <td>ultra</td>\n",
       "      <td>0</td>\n",
       "      <td>6</td>\n",
       "      <td>199</td>\n",
       "      <td>6164.381824</td>\n",
       "      <td>2</td>\n",
       "      <td>40.0</td>\n",
       "      <td>439.0</td>\n",
       "    </tr>\n",
       "    <tr>\n",
       "      <th>6</th>\n",
       "      <td>ultra</td>\n",
       "      <td>0</td>\n",
       "      <td>6</td>\n",
       "      <td>199</td>\n",
       "      <td>3255.338202</td>\n",
       "      <td>1</td>\n",
       "      <td>14.0</td>\n",
       "      <td>283.0</td>\n",
       "    </tr>\n",
       "    <tr>\n",
       "      <th>7</th>\n",
       "      <td>ultra</td>\n",
       "      <td>0</td>\n",
       "      <td>6</td>\n",
       "      <td>199</td>\n",
       "      <td>6780.722964</td>\n",
       "      <td>2</td>\n",
       "      <td>48.0</td>\n",
       "      <td>487.0</td>\n",
       "    </tr>\n",
       "    <tr>\n",
       "      <th>8</th>\n",
       "      <td>ultra</td>\n",
       "      <td>0</td>\n",
       "      <td>6</td>\n",
       "      <td>199</td>\n",
       "      <td>923.007439</td>\n",
       "      <td>1</td>\n",
       "      <td>7.0</td>\n",
       "      <td>241.0</td>\n",
       "    </tr>\n",
       "    <tr>\n",
       "      <th>10</th>\n",
       "      <td>ultra</td>\n",
       "      <td>0</td>\n",
       "      <td>6</td>\n",
       "      <td>199</td>\n",
       "      <td>2824.636598</td>\n",
       "      <td>1</td>\n",
       "      <td>19.0</td>\n",
       "      <td>313.0</td>\n",
       "    </tr>\n",
       "    <tr>\n",
       "      <th>12</th>\n",
       "      <td>ultra</td>\n",
       "      <td>0</td>\n",
       "      <td>6</td>\n",
       "      <td>199</td>\n",
       "      <td>3828.248580</td>\n",
       "      <td>1</td>\n",
       "      <td>12.0</td>\n",
       "      <td>271.0</td>\n",
       "    </tr>\n",
       "    <tr>\n",
       "      <th rowspan=\"2\" valign=\"top\">3</th>\n",
       "      <th>1</th>\n",
       "      <td>ultra</td>\n",
       "      <td>0</td>\n",
       "      <td>6</td>\n",
       "      <td>199</td>\n",
       "      <td>3061.777147</td>\n",
       "      <td>1</td>\n",
       "      <td>13.0</td>\n",
       "      <td>277.0</td>\n",
       "    </tr>\n",
       "    <tr>\n",
       "      <th>2</th>\n",
       "      <td>ultra</td>\n",
       "      <td>0</td>\n",
       "      <td>6</td>\n",
       "      <td>199</td>\n",
       "      <td>5421.152016</td>\n",
       "      <td>2</td>\n",
       "      <td>39.0</td>\n",
       "      <td>433.0</td>\n",
       "    </tr>\n",
       "  </tbody>\n",
       "</table>\n",
       "</div>"
      ],
      "text/plain": [
       "              subscription_type  start_ride_price  minute_price  \\\n",
       "user_id month                                                     \n",
       "1       1                 ultra                 0             6   \n",
       "        4                 ultra                 0             6   \n",
       "        8                 ultra                 0             6   \n",
       "        10                ultra                 0             6   \n",
       "        11                ultra                 0             6   \n",
       "        12                ultra                 0             6   \n",
       "2       3                 ultra                 0             6   \n",
       "        4                 ultra                 0             6   \n",
       "        6                 ultra                 0             6   \n",
       "        7                 ultra                 0             6   \n",
       "        8                 ultra                 0             6   \n",
       "        10                ultra                 0             6   \n",
       "        12                ultra                 0             6   \n",
       "3       1                 ultra                 0             6   \n",
       "        2                 ultra                 0             6   \n",
       "\n",
       "               subscription_fee      distance  count  duration  revenue  \n",
       "user_id month                                                            \n",
       "1       1                   199   7027.511294      2      42.0    451.0  \n",
       "        4                   199    754.159807      1       7.0    241.0  \n",
       "        8                   199   6723.470560      2      46.0    475.0  \n",
       "        10                  199   5809.911100      2      32.0    391.0  \n",
       "        11                  199   7003.499363      3      56.0    535.0  \n",
       "        12                  199   6751.629942      2      28.0    367.0  \n",
       "2       3                   199  10187.723006      3      63.0    577.0  \n",
       "        4                   199   6164.381824      2      40.0    439.0  \n",
       "        6                   199   3255.338202      1      14.0    283.0  \n",
       "        7                   199   6780.722964      2      48.0    487.0  \n",
       "        8                   199    923.007439      1       7.0    241.0  \n",
       "        10                  199   2824.636598      1      19.0    313.0  \n",
       "        12                  199   3828.248580      1      12.0    271.0  \n",
       "3       1                   199   3061.777147      1      13.0    277.0  \n",
       "        2                   199   5421.152016      2      39.0    433.0  "
      ]
     },
     "execution_count": 41,
     "metadata": {},
     "output_type": "execute_result"
    }
   ],
   "source": [
    "# добавление столбца с выручкой по месяцам\n",
    "data_by_user['revenue'] = data_by_user.apply(rev_count, axis=1)\n",
    "data_by_user.head(15)"
   ]
  },
  {
   "cell_type": "code",
   "execution_count": 42,
   "id": "c8277bbc",
   "metadata": {},
   "outputs": [
    {
     "data": {
      "image/png": "[encoded data removed]",
      "text/plain": [
       "<Figure size 1080x360 with 2 Axes>"
      ]
     },
     "metadata": {
      "needs_background": "light"
     },
     "output_type": "display_data"
    }
   ],
   "source": [
    "# Визуализация выручки для пользователей с подпиской и без\n",
    "f, (ax1, ax2) = plt.subplots(1, 2, sharey=True, figsize=(15, 5))\n",
    "ax1.set_title('Выручка с подпиской')\n",
    "ax2.set_title('Выручка без подписки')\n",
    "ax1.set_xlabel('Выручка')\n",
    "ax2.set_xlabel('Выручка')\n",
    "ax1.set_ylabel('Количество пользователей')\n",
    "ax1.hist(x=data_by_user[data_by_user['subscription_type'] == 'ultra']['revenue'], bins=100)\n",
    "ax2.hist(x=data_by_user[data_by_user['subscription_type'] == 'free']['revenue'], bins=100)\n",
    "ax1.axvline(data_by_user[data_by_user['subscription_type'] == 'ultra']['revenue'].median(), color='red')\n",
    "ax2.axvline(data_by_user[data_by_user['subscription_type'] == 'free']['revenue'].median(), color='red')\n",
    "plt.show()"
   ]
  },
  {
   "cell_type": "code",
   "execution_count": 43,
   "id": "3375a9e8",
   "metadata": {},
   "outputs": [
    {
     "name": "stdout",
     "output_type": "stream",
     "text": [
      "Медианная выручка с подпиской 337.0\n",
      "Медианная выручка без подписки 274.0\n"
     ]
    }
   ],
   "source": [
    "# получение медианы по выручке с подпиской и без\n",
    "print('Медианная выручка с подпиской', data_by_user[data_by_user['subscription_type'] == 'ultra']['revenue'].median())\n",
    "print('Медианная выручка без подписки', data_by_user[data_by_user['subscription_type'] == 'free']['revenue'].median())"
   ]
  },
  {
   "cell_type": "markdown",
   "id": "1cfc1a03",
   "metadata": {},
   "source": [
    "*Получили данные по выручке от каждого пользователя по месяцам. Можно сказать, что медианная выручка с подпиской выше. Значит можно предположить, что для расширения бизнеса следует увеличивать количество пользователей с подпиской.*"
   ]
  },
  {
   "cell_type": "markdown",
   "id": "41545ac0",
   "metadata": {},
   "source": [
    "#### Шаг 6. Проверка гипотез"
   ]
  },
  {
   "cell_type": "markdown",
   "id": "3e0d550c",
   "metadata": {},
   "source": [
    "6.1 Важно понять, тратят ли пользователи с подпиской больше времени на поездки? Если да, то пользователи с подпиской могут быть «выгоднее» для компании. Проверьте гипотезу. Используйте исходные данные о продолжительности каждой сессии — отдельно для подписчиков и тех, у кого нет подписки.\n",
    "\n",
    "Проведем статистический тест о равенстве средних значений выборок времени поездки с подпиской и без:\n",
    "\n",
    "H0 - среднее время с подпиской равно среднему времени без подписки\n",
    "\n",
    "H1 - среднее время с подпиской больше среднего времени без подписки\n",
    "\n",
    "уровень статистической значимости примем 0.05"
   ]
  },
  {
   "cell_type": "code",
   "execution_count": 44,
   "id": "2b443fee",
   "metadata": {},
   "outputs": [
    {
     "name": "stdout",
     "output_type": "stream",
     "text": [
      "Размер выборки с подпиской: 6500 дисперсия: 31.047722583624385\n",
      "Размер выборки без подписки: 11473 дисперсия: 37.977746318725195\n"
     ]
    }
   ],
   "source": [
    "# оценим параметры двух выборок, чтобы определить, можем ли мы применить статистический тест с определенными параметрами\n",
    "d1 = sub['duration'].std()**2\n",
    "d2 = unsub['duration'].std()**2\n",
    "\n",
    "print('Размер выборки с подпиской:',len( sub['duration']), 'дисперсия:', d1)\n",
    "print('Размер выборки без подписки:', len(unsub['duration']), 'дисперсия:', d2)"
   ]
  },
  {
   "cell_type": "code",
   "execution_count": 45,
   "id": "9025079d",
   "metadata": {},
   "outputs": [
    {
     "data": {
      "image/png": "[encoded data removed]",
      "text/plain": [
       "<Figure size 1080x360 with 2 Axes>"
      ]
     },
     "metadata": {
      "needs_background": "light"
     },
     "output_type": "display_data"
    }
   ],
   "source": [
    "# построим диаграмму размаха для оценки возможности использования параметра equal_var\n",
    "f, (ax1, ax2) = plt.subplots(1, 2, sharey=True, figsize=(15, 5))\n",
    "ax1.set_title('Диаграмма рассеяния с подпиской')\n",
    "ax2.set_title('Диаграмма рассеяния без подписки')\n",
    "ax1.set_ylabel('Время поездки')\n",
    "sub['duration'].plot(ax=ax1, kind='box')\n",
    "unsub['duration'].plot(ax=ax2, kind='box')\n",
    "plt.show()"
   ]
  },
  {
   "cell_type": "markdown",
   "id": "c65a1904",
   "metadata": {},
   "source": [
    "*Судя по графику можно принять дисперсии двух выборок равными для тестов. Проведем дополнительный тест*"
   ]
  },
  {
   "cell_type": "markdown",
   "id": "87d1f806",
   "metadata": {},
   "source": [
    "Проведем F тест на равенство дисперсий с уровнем статистической значимости 0.05.\n",
    "\n",
    "H 0 : Дисперсия среди каждой группы равна.\n",
    "\n",
    "H 1 : Дисперсии не равны."
   ]
  },
  {
   "cell_type": "code",
   "execution_count": 46,
   "id": "766f8b99",
   "metadata": {},
   "outputs": [],
   "source": [
    "# функция для f-test\n",
    "def f_test(x, y):\n",
    "    x = np.array(x)\n",
    "    y = np.array(y)\n",
    "    f = np.var(x, ddof=1)/np.var(y, ddof=1)\n",
    "    dfn = x.size-1\n",
    "    dfd = y.size-1\n",
    "    p = 1-st.f.cdf(f, dfn, dfd)\n",
    "    return f, p"
   ]
  },
  {
   "cell_type": "code",
   "execution_count": 47,
   "id": "71eb1525",
   "metadata": {},
   "outputs": [
    {
     "name": "stdout",
     "output_type": "stream",
     "text": [
      "Не получилось отвергнуть нулевую гипотезу\n"
     ]
    }
   ],
   "source": [
    "# выполним f-test\n",
    "results = f_test(sub['duration'], unsub['duration'])\n",
    "\n",
    "if results[1] < 0.05:\n",
    "    print('Отвергаем нулевую гипотезу')\n",
    "else:\n",
    "    print('Не получилось отвергнуть нулевую гипотезу')"
   ]
  },
  {
   "cell_type": "markdown",
   "id": "a9e3349c",
   "metadata": {},
   "source": [
    "*Можем использовать статистический тест данных о длительности поездок для двух независимых выборок с подпиской и без.*"
   ]
  },
  {
   "cell_type": "code",
   "execution_count": 48,
   "id": "d3154619",
   "metadata": {},
   "outputs": [
    {
     "name": "stdout",
     "output_type": "stream",
     "text": [
      "p-значение: 4.704468074453899e-28\n",
      "Отвергаем нулевую гипотезу\n"
     ]
    }
   ],
   "source": [
    "# задаем уровень статистической значимости\n",
    "alpha = 0.05\n",
    "\n",
    "# проводим тест\n",
    "results = st.ttest_ind(sub['duration'], unsub['duration'], equal_var=True, alternative='greater')\n",
    "\n",
    "print('p-значение:', results.pvalue)\n",
    "\n",
    "if results.pvalue < alpha:\n",
    "    print('Отвергаем нулевую гипотезу')\n",
    "else:\n",
    "    print('Не получилось отвергнуть нулевую гипотезу')"
   ]
  },
  {
   "cell_type": "markdown",
   "id": "5bb12775",
   "metadata": {},
   "source": [
    "*Можем отвергнуть гипотезу о равенстве среднего времени с подпиской и без. Имеем основания, чтобы предпологать, что люди с подпиской тратят больше времени на поездки.*"
   ]
  },
  {
   "cell_type": "markdown",
   "id": "0d6f8c7c",
   "metadata": {},
   "source": [
    "6.2 Расстояние одной поездки в 3130 метров — оптимальное с точки зрения износа самоката. Можно ли сказать, что среднее расстояние, которое проезжают пользователи с подпиской за одну поездку, не превышает 3130 метров? Проверьте гипотезу и сделайте выводы.\n",
    "\n",
    "Проведем статистический тест о равенстве среднего расстояния поездки с подпиской 3130 метрам:\n",
    "\n",
    "H0 - среднее расстояние с подпиской равно 3130 м\n",
    "\n",
    "H1 - среднее расстояние с подпиской превышает 3130 м\n",
    "\n",
    "уровень статистической значимости примем 0.05"
   ]
  },
  {
   "cell_type": "code",
   "execution_count": 49,
   "id": "fe5fe593",
   "metadata": {},
   "outputs": [
    {
     "name": "stdout",
     "output_type": "stream",
     "text": [
      "p-значение: 0.9195368847849785\n",
      "Не получилось отвергнуть нулевую гипотезу\n"
     ]
    }
   ],
   "source": [
    "# задаем уровень статистической значимости\n",
    "alpha = 0.05\n",
    "\n",
    "# проводим тест\n",
    "results = st.ttest_1samp(sub['distance'], 3130, alternative='greater')\n",
    "\n",
    "print('p-значение:', results.pvalue)\n",
    "\n",
    "if results.pvalue < alpha:\n",
    "    print('Отвергаем нулевую гипотезу')\n",
    "else:\n",
    "    print('Не получилось отвергнуть нулевую гипотезу')"
   ]
  },
  {
   "cell_type": "markdown",
   "id": "81573435",
   "metadata": {},
   "source": [
    "*Не получилось отвергнуть нулевую гипотезу. С большой долей уверенности можем предположить справедливость гипотезы о том, что среднее расстояние равно 3130 м.*"
   ]
  },
  {
   "cell_type": "markdown",
   "id": "8770c207",
   "metadata": {},
   "source": [
    "6.3 Проверьте гипотезу о том, будет ли помесячная выручка от пользователей с подпиской по месяцам выше, чем выручка от пользователей без подписки. Сделайте вывод.\n",
    "\n",
    "Проведем статистический тест о равенстве средней выручки с подпиской и без по месяцам:\n",
    "\n",
    "H0 - средние выручки по месяцам равны\n",
    "\n",
    "H1 - средняя выручка по месяцам с подпиской ниже\n",
    "\n",
    "уровень статистической значимости примем 0.05"
   ]
  },
  {
   "cell_type": "code",
   "execution_count": 50,
   "id": "322c029b",
   "metadata": {},
   "outputs": [
    {
     "data": {
      "image/png": "[encoded data removed]",
      "text/plain": [
       "<Figure size 1080x360 with 2 Axes>"
      ]
     },
     "metadata": {
      "needs_background": "light"
     },
     "output_type": "display_data"
    }
   ],
   "source": [
    "# получим 2 набора данных со значениями выручки с подпиской и без по месяцам\n",
    "sub_by_month = data_by_user[data_by_user['subscription_type'] == 'ultra']\n",
    "unsub_by_month = data_by_user[data_by_user['subscription_type'] == 'free']\n",
    "\n",
    "# изобразим результат графически\n",
    "f, (ax1, ax2) = plt.subplots(1, 2, sharey=True, figsize=(15, 5))\n",
    "ax1.set_title('Выручка с подпиской')\n",
    "ax2.set_title('Выручка без подписки')\n",
    "ax1.set_ylabel('Выручка')\n",
    "sub_by_month['revenue'].plot(ax=ax1, kind='hist', bins=100)\n",
    "unsub_by_month['revenue'].plot(ax=ax2, kind='hist', bins=100)\n",
    "plt.show()"
   ]
  },
  {
   "cell_type": "code",
   "execution_count": 51,
   "id": "863955a7",
   "metadata": {},
   "outputs": [
    {
     "name": "stdout",
     "output_type": "stream",
     "text": [
      "p-значение: 2.0314113674863288e-30\n",
      "Отвергаем нулевую гипотезу\n"
     ]
    }
   ],
   "source": [
    "# задаем уровень статистической значимости\n",
    "alpha = 0.05\n",
    "\n",
    "# проводим тест\n",
    "results = st.ttest_ind(sub_by_month['revenue'], unsub_by_month['revenue'], equal_var=True, alternative='greater')\n",
    "\n",
    "print('p-значение:', results.pvalue)\n",
    "\n",
    "if results.pvalue < alpha:\n",
    "    print('Отвергаем нулевую гипотезу')\n",
    "else:\n",
    "    print('Не получилось отвергнуть нулевую гипотезу')"
   ]
  },
  {
   "cell_type": "markdown",
   "id": "78f56607",
   "metadata": {},
   "source": [
    "*Отвергаем нулевую гипотезу. С большой долей уверенности можем предположить, что выручка с подпиской по месяцам выше чем без.*"
   ]
  },
  {
   "cell_type": "markdown",
   "id": "e71d9d23",
   "metadata": {},
   "source": [
    "6.4 Представьте такую ситуацию: техническая команда сервиса обновила сервера, с которыми взаимодействует мобильное приложение. Она надеется, что из-за этого количество обращений в техподдержку значимо снизилось. Некоторый файл содержит для каждого пользователя данные о количестве обращений до обновления и после него. Какой тест вам понадобился бы для проверки этой гипотезы?"
   ]
  },
  {
   "cell_type": "markdown",
   "id": "28a5f817",
   "metadata": {},
   "source": [
    "*Для проверки этой гипотезы понадобится статистический тест для двух зависимых выборок scipy.stat.ttest_rel(). В аргументы метода при вызове нужно будет передать сначала список значений по количеству обращений до, а затем список значений по количеству обращений после изменений в выборке, указать альтернативную гипотезу alternative='greater', так как проверяем гипотезу о том, что число обращений снизилось (в начальной выборке значения должны быть больше).*"
   ]
  },
  {
   "cell_type": "markdown",
   "id": "61213c5e",
   "metadata": {},
   "source": [
    "#### Шаг 7. Распределения"
   ]
  },
  {
   "cell_type": "markdown",
   "id": "2c6d2b1e",
   "metadata": {},
   "source": [
    "7.1 Отделу маркетинга GoFast поставили задачу: нужно провести акцию с раздачей промокодов на один бесплатный месяц подписки, в рамках которой как минимум 100 существующих клиентов должны продлить эту подписку. То есть по завершении периода действия подписки пользователь может либо отказаться от неё, либо продлить, совершив соответствующий платёж. \n",
    "\n",
    "Эта акция уже проводилась ранее и по итогу выяснилось, что после бесплатного пробного периода подписку продлевают 10 % пользователей. Выясните, какое минимальное количество промокодов нужно разослать, чтобы вероятность не выполнить план была примерно 5 %. Подберите параметры распределения, описывающего эту ситуацию, постройте график распределения и сформулируйте ответ на вопрос о количестве промокодов."
   ]
  },
  {
   "cell_type": "code",
   "execution_count": 52,
   "id": "9b81a3bc",
   "metadata": {},
   "outputs": [],
   "source": [
    "# функция для проверки вероятности биномиального распределения\n",
    "def pcheck(n, p, plan):    \n",
    "    # апроксимируем биномиальное распределение нормальным\n",
    "    mu = n * p\n",
    "    sigma = sqrt(n * p * (1 - p))\n",
    "    norm = st.norm(mu, sigma)\n",
    "\n",
    "    # проверка вероятности выполнить план\n",
    "    res = norm.cdf(plan)\n",
    "    return res"
   ]
  },
  {
   "cell_type": "code",
   "execution_count": 53,
   "id": "687ac452",
   "metadata": {},
   "outputs": [
    {
     "name": "stdout",
     "output_type": "stream",
     "text": [
      "Для выполнени плана с вероятностью 0.05 необходимо выдать 1168 промокодов\n"
     ]
    }
   ],
   "source": [
    "# зададим начальные параметры и условия\n",
    "p = 0.1\n",
    "n = 2000\n",
    "plan = 100\n",
    "\n",
    "# будем уменьшать значение в 2000 промокодов пока вероятность не опустится до необходимого уровня 0.05\n",
    "while pcheck(n, p, plan) < 0.05:\n",
    "    #print(pcheck(n))\n",
    "    n -= 1\n",
    "    \n",
    "# выведем финальное значение n\n",
    "print(f'Для выполнени плана с вероятностью 0.05 необходимо выдать {n} промокодов')"
   ]
  },
  {
   "cell_type": "code",
   "execution_count": 54,
   "id": "2dd89942",
   "metadata": {},
   "outputs": [
    {
     "name": "stderr",
     "output_type": "stream",
     "text": [
      "/opt/conda/lib/python3.9/site-packages/scipy/stats/_discrete_distns.py:78: RuntimeWarning: divide by zero encountered in _binom_pdf\n",
      "  return _boost._binom_pdf(x, n, p)\n"
     ]
    },
    {
     "data": {
      "image/png": "[encoded data removed]",
      "text/plain": [
       "<Figure size 720x432 with 1 Axes>"
      ]
     },
     "metadata": {
      "needs_background": "light"
     },
     "output_type": "display_data"
    },
    {
     "name": "stdout",
     "output_type": "stream",
     "text": [
      "Условие апроксимации выполняется\n"
     ]
    }
   ],
   "source": [
    "# построим график апроксимации и отобразим на нём значение в 100 подписок\n",
    "# параметры биномиального распределения\n",
    "n = 1168\n",
    "p = 0.1\n",
    " \n",
    "# зададим числовой промежуток\n",
    "x = list(range(n))\n",
    "# график биномиального распределения\n",
    "fig, ax = plt.subplots(figsize=(10, 6))\n",
    "# используем синие о-образные маркеры \n",
    "ax.plot(x, st.binom.pmf(x, n, p), 'bo', ms=3, label='вероятности биномиального распределения')\n",
    "\n",
    "# апроксимация нормальным распределением\n",
    "mu = n * p\n",
    "sigma = sqrt(n * p * (1 - p))\n",
    "\n",
    "# используем красную линию\n",
    "ax.plot(x, st.norm.pdf(x, mu, sigma), 'r-', lw=3, alpha=0.3, label='плотность вероятности нормального распределения')\n",
    "\n",
    "# проведем вертикальную линию в 100 продлений подписок\n",
    "ax.axvline(100, color='red')\n",
    "\n",
    "# выводим график\n",
    "ax.legend(loc='best')\n",
    "plt.show()\n",
    "\n",
    "# выводим, выполняется ли наше условие аппроксимации:\n",
    "# лежит ли mu ± 3 sigma в промежутке от 0 до n:\n",
    "if (mu - (3 * sigma) >= 0) and ((mu + (3 * sigma) <= n)):\n",
    "    print('Условие апроксимации выполняется')\n",
    "else:\n",
    "    print('Условие апроксимации не выполняется')"
   ]
  },
  {
   "cell_type": "markdown",
   "id": "8f1dc657",
   "metadata": {},
   "source": [
    "*Апроксимация биномиального распределения нормальным выполняется по правилу 3 сигм. Для выполнения плана по 100 продлениям подписок сервиса, необходимо выдать 1168 промокодов.*"
   ]
  },
  {
   "cell_type": "markdown",
   "id": "dc8ac802",
   "metadata": {},
   "source": [
    "7.2 Отдел маркетинга рассылает клиентам push-уведомления в мобильном приложении. Клиенты могут открыть его или не открывать. Известно, что уведомления открывают около 40 % получивших клиентов. Отдел планирует разослать 1 млн уведомлений. С помощью аппроксимации постройте примерный график распределения и оцените вероятность того, что уведомление откроют не более 399,5 тыс. пользователей."
   ]
  },
  {
   "cell_type": "code",
   "execution_count": 55,
   "id": "0d731515",
   "metadata": {},
   "outputs": [
    {
     "name": "stdout",
     "output_type": "stream",
     "text": [
      "Вероятность, что уведомление откроют не более 399500 пользователей: 0.15371708296369768\n"
     ]
    }
   ],
   "source": [
    "# параметры биноминального распределения и условие\n",
    "n = 1000000\n",
    "p = 0.4\n",
    "plan = 399500\n",
    "\n",
    "# используем функцию проверки вероятности распределения\n",
    "res = pcheck(n, p, plan)\n",
    "\n",
    "# выведем результат\n",
    "print(f'Вероятность, что уведомление откроют не более 399500 пользователей:', res)"
   ]
  },
  {
   "cell_type": "code",
   "execution_count": 56,
   "id": "223171f5",
   "metadata": {},
   "outputs": [
    {
     "data": {
      "image/png": "[encoded data removed]",
      "text/plain": [
       "<Figure size 720x432 with 1 Axes>"
      ]
     },
     "metadata": {
      "needs_background": "light"
     },
     "output_type": "display_data"
    },
    {
     "name": "stdout",
     "output_type": "stream",
     "text": [
      "Условие апроксимации выполняется\n"
     ]
    }
   ],
   "source": [
    "# построим график апроксимации и отобразим на нём значение в 100 подписок\n",
    "# параметры биномиального распределения\n",
    "n = 1000000\n",
    "p = 0.4\n",
    " \n",
    "# границы промежутка, в котором будем строить аппроксимацию -\n",
    "# от n*p минус 4 ст.отклонения бином.распределения\n",
    "# до n*p плюс 4 ст.отклонения бином.распределения\n",
    "# (там, где вероятности значений почти не равны нулю)\n",
    "left = int(n * p - 4 * sqrt(n * p * (1 - p)))\n",
    "right = int(n * p + 4 * sqrt(n * p * (1 - p)))\n",
    " \n",
    "# зададим набор значений биномиальной величины на выбранном промежутке:\n",
    "# все неотрицательные целые числа от left до right\n",
    "x = list(range(max(0, left), right))\n",
    "# график биномиального распределения\n",
    "fig, ax = plt.subplots(figsize=(10, 6))\n",
    "# используем синие о-образные маркеры \n",
    "ax.plot(x, st.binom.pmf(x, n, p), 'bo', ms=3, label='вероятности биномиального распределения')\n",
    "\n",
    "# апроксимация нормальным распределением\n",
    "mu = n * p\n",
    "sigma = sqrt(n * p * (1 - p))\n",
    "\n",
    "# используем красную линию\n",
    "ax.plot(x, st.norm.pdf(x, mu, sigma), 'r-', lw=3, alpha=0.3, label='плотность вероятности нормального распределения')\n",
    "\n",
    "# проведем вертикальную линию в 399500 открытий уведомления\n",
    "ax.axvline(399500, color='red')\n",
    "\n",
    "# выводим график\n",
    "ax.legend(loc='best')\n",
    "plt.show()\n",
    "\n",
    "# выводим, выполняется ли наше условие аппроксимации:\n",
    "# лежит ли mu ± 3 sigma в промежутке от 0 до n:\n",
    "if (mu - (3 * sigma) >= 0) and ((mu + (3 * sigma) <= n)):\n",
    "    print('Условие апроксимации выполняется')\n",
    "else:\n",
    "    print('Условие апроксимации не выполняется')"
   ]
  },
  {
   "cell_type": "markdown",
   "id": "c69dff6e",
   "metadata": {},
   "source": [
    "*Правило 3 сигм для апроксимации выполняется. Вероятность, что уведомление откроют не более 399500 пользователей: 0.15*"
   ]
  },
  {
   "cell_type": "markdown",
   "id": "cc5d1bc9",
   "metadata": {},
   "source": [
    "<div class=\"alert alert-block alert-success\">\n",
    "\n",
    "**Комментарий ревьювера (все отлично)**\n",
    "    \n",
    "Задачи по распределениям выполнены верно.\n",
    "</div>"
   ]
  },
  {
   "cell_type": "markdown",
   "id": "5f57a02b",
   "metadata": {},
   "source": [
    "## 6. Выводы\n",
    "\n",
    "        В ходе выполнения задания была проведена предобработка данных. Из данных о пользователях удалено небольшое количество дубликатов, в наборе данных о поездках изменен тип содержимого столбца для работы с датой. Добавлен столбец с информацией о месяце поездки.\n",
    "        В ходе исследовательского анализа данных обнаружено, что количество пользователей в городах от 168 до 219. Наибольшее количество в Пятигорске, наименьшее в Москве. Сервисом пользуется 835 пользователей без подписки (54%), 699 с подпиской (46%). Возраст пользователей от 12 до 43 лет. Чаще всего встречаются значения возраста от 23 до 27 лет. Наименьшее расстояние поездки 0.85 м, наибольшее 7211 м, в среднем пользователь проезжает 3133 м. Поездка занимает у пользователя от 0.5 минуты до 40 минут. В среднем поездка длится не более 18 минут. С подпиской расстояние за поездку и её длительность незначительно увеличивается. Однако без подписки больше разброс в количестве пользователей как по времени, так и по расстоянию.\n",
    "        Была подсчитана выручка для каждого пользователя по месяцам, и проверены гипотезы о влиянии наличия подписки на выручку сервиса. Можно сказать, что медианная выручка по месяцам с подпиской выше. Значит можно предположить, что для расширения бизнеса следует увеличивать количество пользователей с подпиской. Можем отвергнуть гипотезу о равенстве среднего времени с подпиской и без. Имеем основания, чтобы предпологать, что люди с подпиской тратят больше времени на поездки. Не можем отвергнуть гипотезу о том, что среднее расстояние равно 3130 м. С большой долей уверенности можем предположить, что выручка с подпиской по месяцам выше чем без.\n",
    "        Также были проверены гипотезы отдела маркетинга. Для выполнения плана по 100 продлениям подписок сервиса с 0.05 вероятностью, необходимо выдать 1168 промокодов. При рассылке 100000 уведомлений, вероятность, что его откроют не более 399500 пользователей 0.15."
   ]
  },
  {
   "cell_type": "markdown",
   "id": "4fd8dc20",
   "metadata": {},
   "source": [
    "## 7. Рекомендации заказчику\n",
    "\n",
    "        Для расширения бизнеса по проведенному анализу, можно однозначно рекомендовать разработку стратегий по увеличению числа клиентов с подпиской. Такие клиенты тратят больше времени на поездки, и выручка по месяцам для таких клиентов выше. Среднее расстояние, проезжаемое клиентами, оптимально по износу самоката. Предлагаем рассмотреть варианты с увеличением срока службы самокатов (замена колес, амортизаторов, аккумуляторов), в будущем покупать самокаты с большим ресурсом и высокой ремонтопригодностью."
   ]
  }
 ],
 "metadata": {
  "ExecuteTimeLog": [
   {
    "duration": 885,
    "start_time": "2024-08-09T07:45:58.731Z"
   },
   {
    "duration": 3,
    "start_time": "2024-08-09T07:46:04.713Z"
   },
   {
    "duration": 283,
    "start_time": "2024-08-09T07:51:14.111Z"
   },
   {
    "duration": 29,
    "start_time": "2024-08-09T07:53:51.776Z"
   },
   {
    "duration": 41,
    "start_time": "2024-08-09T07:54:48.439Z"
   },
   {
    "duration": 27,
    "start_time": "2024-08-09T07:54:50.072Z"
   },
   {
    "duration": 659,
    "start_time": "2024-08-09T07:54:54.690Z"
   },
   {
    "duration": 29,
    "start_time": "2024-08-09T07:54:55.351Z"
   },
   {
    "duration": 30,
    "start_time": "2024-08-09T07:54:55.382Z"
   },
   {
    "duration": 15,
    "start_time": "2024-08-09T07:54:55.414Z"
   },
   {
    "duration": 13,
    "start_time": "2024-08-09T07:56:51.272Z"
   },
   {
    "duration": 11,
    "start_time": "2024-08-09T07:57:15.201Z"
   },
   {
    "duration": 9,
    "start_time": "2024-08-09T07:57:44.162Z"
   },
   {
    "duration": 8,
    "start_time": "2024-08-09T07:57:54.808Z"
   },
   {
    "duration": 601,
    "start_time": "2024-08-09T07:58:09.023Z"
   },
   {
    "duration": 31,
    "start_time": "2024-08-09T07:58:09.626Z"
   },
   {
    "duration": 14,
    "start_time": "2024-08-09T07:58:09.658Z"
   },
   {
    "duration": 36,
    "start_time": "2024-08-09T07:58:09.673Z"
   },
   {
    "duration": 9,
    "start_time": "2024-08-09T07:58:09.712Z"
   },
   {
    "duration": 18,
    "start_time": "2024-08-09T07:58:09.722Z"
   },
   {
    "duration": 8,
    "start_time": "2024-08-09T07:58:09.741Z"
   },
   {
    "duration": 15,
    "start_time": "2024-08-09T08:30:48.973Z"
   },
   {
    "duration": 9,
    "start_time": "2024-08-09T08:30:56.365Z"
   },
   {
    "duration": 96,
    "start_time": "2024-08-09T08:33:01.805Z"
   },
   {
    "duration": 10,
    "start_time": "2024-08-09T08:33:16.346Z"
   },
   {
    "duration": 22,
    "start_time": "2024-08-09T08:33:36.068Z"
   },
   {
    "duration": 13,
    "start_time": "2024-08-09T08:33:46.348Z"
   },
   {
    "duration": 14,
    "start_time": "2024-08-09T08:33:59.446Z"
   },
   {
    "duration": 20,
    "start_time": "2024-08-09T08:34:03.877Z"
   },
   {
    "duration": 77,
    "start_time": "2024-08-09T08:34:17.900Z"
   },
   {
    "duration": 12,
    "start_time": "2024-08-09T08:36:32.410Z"
   },
   {
    "duration": 22,
    "start_time": "2024-08-09T08:37:05.830Z"
   },
   {
    "duration": 14,
    "start_time": "2024-08-09T08:37:15.879Z"
   },
   {
    "duration": 5,
    "start_time": "2024-08-09T08:37:31.202Z"
   },
   {
    "duration": 655,
    "start_time": "2024-08-09T08:37:45.960Z"
   },
   {
    "duration": 30,
    "start_time": "2024-08-09T08:37:46.617Z"
   },
   {
    "duration": 12,
    "start_time": "2024-08-09T08:37:46.648Z"
   },
   {
    "duration": 28,
    "start_time": "2024-08-09T08:37:46.662Z"
   },
   {
    "duration": 9,
    "start_time": "2024-08-09T08:37:46.692Z"
   },
   {
    "duration": 17,
    "start_time": "2024-08-09T08:37:46.702Z"
   },
   {
    "duration": 7,
    "start_time": "2024-08-09T08:37:46.720Z"
   },
   {
    "duration": 19,
    "start_time": "2024-08-09T08:37:46.729Z"
   },
   {
    "duration": 12,
    "start_time": "2024-08-09T08:37:46.749Z"
   },
   {
    "duration": 10,
    "start_time": "2024-08-09T08:38:50.520Z"
   },
   {
    "duration": 8,
    "start_time": "2024-08-09T08:38:56.113Z"
   },
   {
    "duration": 6,
    "start_time": "2024-08-09T08:39:26.128Z"
   },
   {
    "duration": 7,
    "start_time": "2024-08-09T08:41:27.043Z"
   },
   {
    "duration": 8,
    "start_time": "2024-08-09T08:42:16.130Z"
   },
   {
    "duration": 68,
    "start_time": "2024-08-09T08:44:17.877Z"
   },
   {
    "duration": 6,
    "start_time": "2024-08-09T08:45:58.560Z"
   },
   {
    "duration": 6,
    "start_time": "2024-08-09T08:46:26.375Z"
   },
   {
    "duration": 5,
    "start_time": "2024-08-09T08:48:01.558Z"
   },
   {
    "duration": 5,
    "start_time": "2024-08-09T08:48:07.119Z"
   },
   {
    "duration": 5,
    "start_time": "2024-08-09T08:48:12.648Z"
   },
   {
    "duration": 5,
    "start_time": "2024-08-09T08:48:18.439Z"
   },
   {
    "duration": 5,
    "start_time": "2024-08-09T08:48:30.048Z"
   },
   {
    "duration": 630,
    "start_time": "2024-08-09T08:48:44.194Z"
   },
   {
    "duration": 30,
    "start_time": "2024-08-09T08:48:44.826Z"
   },
   {
    "duration": 13,
    "start_time": "2024-08-09T08:48:44.857Z"
   },
   {
    "duration": 30,
    "start_time": "2024-08-09T08:48:44.871Z"
   },
   {
    "duration": 9,
    "start_time": "2024-08-09T08:48:44.903Z"
   },
   {
    "duration": 20,
    "start_time": "2024-08-09T08:48:44.913Z"
   },
   {
    "duration": 6,
    "start_time": "2024-08-09T08:48:44.935Z"
   },
   {
    "duration": 9,
    "start_time": "2024-08-09T08:48:44.943Z"
   },
   {
    "duration": 12,
    "start_time": "2024-08-09T08:48:44.954Z"
   },
   {
    "duration": 6,
    "start_time": "2024-08-09T08:48:44.967Z"
   },
   {
    "duration": 8,
    "start_time": "2024-08-09T08:48:44.975Z"
   },
   {
    "duration": 8,
    "start_time": "2024-08-09T08:48:44.985Z"
   },
   {
    "duration": 6,
    "start_time": "2024-08-09T08:48:44.994Z"
   },
   {
    "duration": 71,
    "start_time": "2024-08-09T08:48:45.002Z"
   },
   {
    "duration": 12,
    "start_time": "2024-08-09T08:50:21.329Z"
   },
   {
    "duration": 11,
    "start_time": "2024-08-09T08:50:32.481Z"
   },
   {
    "duration": 12,
    "start_time": "2024-08-09T08:50:44.560Z"
   },
   {
    "duration": 12,
    "start_time": "2024-08-09T08:51:07.121Z"
   },
   {
    "duration": 11,
    "start_time": "2024-08-09T08:52:23.666Z"
   },
   {
    "duration": 719,
    "start_time": "2024-08-09T08:53:42.170Z"
   },
   {
    "duration": 30,
    "start_time": "2024-08-09T08:53:42.892Z"
   },
   {
    "duration": 14,
    "start_time": "2024-08-09T08:53:42.923Z"
   },
   {
    "duration": 35,
    "start_time": "2024-08-09T08:53:42.939Z"
   },
   {
    "duration": 11,
    "start_time": "2024-08-09T08:53:42.976Z"
   },
   {
    "duration": 34,
    "start_time": "2024-08-09T08:53:42.989Z"
   },
   {
    "duration": 8,
    "start_time": "2024-08-09T08:53:43.024Z"
   },
   {
    "duration": 199,
    "start_time": "2024-08-09T08:53:43.033Z"
   },
   {
    "duration": 36,
    "start_time": "2024-08-09T08:53:43.234Z"
   },
   {
    "duration": 11,
    "start_time": "2024-08-09T08:53:43.273Z"
   },
   {
    "duration": 10,
    "start_time": "2024-08-09T08:53:43.286Z"
   },
   {
    "duration": 15,
    "start_time": "2024-08-09T08:53:43.299Z"
   },
   {
    "duration": 7,
    "start_time": "2024-08-09T08:53:43.316Z"
   },
   {
    "duration": 14,
    "start_time": "2024-08-09T08:53:43.324Z"
   },
   {
    "duration": 10,
    "start_time": "2024-08-09T08:53:43.366Z"
   },
   {
    "duration": 8,
    "start_time": "2024-08-09T08:53:43.378Z"
   },
   {
    "duration": 8,
    "start_time": "2024-08-09T08:53:43.387Z"
   },
   {
    "duration": 14,
    "start_time": "2024-08-09T08:56:52.021Z"
   },
   {
    "duration": 12,
    "start_time": "2024-08-09T08:57:01.615Z"
   },
   {
    "duration": 80,
    "start_time": "2024-08-09T08:59:45.896Z"
   },
   {
    "duration": 12,
    "start_time": "2024-08-09T09:00:10.081Z"
   },
   {
    "duration": 12,
    "start_time": "2024-08-09T09:04:53.672Z"
   },
   {
    "duration": 10,
    "start_time": "2024-08-09T09:05:11.221Z"
   },
   {
    "duration": 153,
    "start_time": "2024-08-09T09:05:23.141Z"
   },
   {
    "duration": 112,
    "start_time": "2024-08-09T09:06:12.901Z"
   },
   {
    "duration": 14,
    "start_time": "2024-08-09T09:06:36.917Z"
   },
   {
    "duration": 154,
    "start_time": "2024-08-09T09:06:45.173Z"
   },
   {
    "duration": 184,
    "start_time": "2024-08-09T09:08:22.342Z"
   },
   {
    "duration": 230,
    "start_time": "2024-08-09T09:08:29.854Z"
   },
   {
    "duration": 162,
    "start_time": "2024-08-09T09:08:33.207Z"
   },
   {
    "duration": 13,
    "start_time": "2024-08-09T09:32:30.180Z"
   },
   {
    "duration": 84,
    "start_time": "2024-08-09T09:33:19.815Z"
   },
   {
    "duration": 16,
    "start_time": "2024-08-09T09:36:31.556Z"
   },
   {
    "duration": 13,
    "start_time": "2024-08-09T09:36:42.020Z"
   },
   {
    "duration": 19,
    "start_time": "2024-08-09T09:37:00.756Z"
   },
   {
    "duration": 10,
    "start_time": "2024-08-09T09:38:00.567Z"
   },
   {
    "duration": 13,
    "start_time": "2024-08-09T09:38:33.357Z"
   },
   {
    "duration": 13,
    "start_time": "2024-08-09T09:39:24.838Z"
   },
   {
    "duration": 12,
    "start_time": "2024-08-09T09:39:37.191Z"
   },
   {
    "duration": 12,
    "start_time": "2024-08-09T09:40:08.960Z"
   },
   {
    "duration": 13,
    "start_time": "2024-08-09T09:41:07.703Z"
   },
   {
    "duration": 133,
    "start_time": "2024-08-09T09:41:20.173Z"
   },
   {
    "duration": 13,
    "start_time": "2024-08-09T09:44:39.256Z"
   },
   {
    "duration": 15,
    "start_time": "2024-08-09T09:45:30.314Z"
   },
   {
    "duration": 15,
    "start_time": "2024-08-09T09:46:26.195Z"
   },
   {
    "duration": 11,
    "start_time": "2024-08-09T09:46:46.242Z"
   },
   {
    "duration": 152,
    "start_time": "2024-08-09T09:48:12.597Z"
   },
   {
    "duration": 277,
    "start_time": "2024-08-09T09:48:27.924Z"
   },
   {
    "duration": 651,
    "start_time": "2024-08-09T09:49:36.544Z"
   },
   {
    "duration": 30,
    "start_time": "2024-08-09T09:49:37.197Z"
   },
   {
    "duration": 13,
    "start_time": "2024-08-09T09:49:37.228Z"
   },
   {
    "duration": 30,
    "start_time": "2024-08-09T09:49:37.242Z"
   },
   {
    "duration": 10,
    "start_time": "2024-08-09T09:49:37.274Z"
   },
   {
    "duration": 17,
    "start_time": "2024-08-09T09:49:37.286Z"
   },
   {
    "duration": 6,
    "start_time": "2024-08-09T09:49:37.305Z"
   },
   {
    "duration": 17,
    "start_time": "2024-08-09T09:49:37.313Z"
   },
   {
    "duration": 10,
    "start_time": "2024-08-09T09:49:37.332Z"
   },
   {
    "duration": 29,
    "start_time": "2024-08-09T09:49:37.344Z"
   },
   {
    "duration": 102,
    "start_time": "2024-08-09T09:49:37.375Z"
   },
   {
    "duration": 10,
    "start_time": "2024-08-09T09:49:37.479Z"
   },
   {
    "duration": 6,
    "start_time": "2024-08-09T09:49:37.491Z"
   },
   {
    "duration": 5,
    "start_time": "2024-08-09T09:49:37.500Z"
   },
   {
    "duration": 8,
    "start_time": "2024-08-09T09:49:37.506Z"
   },
   {
    "duration": 6,
    "start_time": "2024-08-09T09:49:37.516Z"
   },
   {
    "duration": 43,
    "start_time": "2024-08-09T09:49:37.523Z"
   },
   {
    "duration": 17,
    "start_time": "2024-08-09T09:49:37.568Z"
   },
   {
    "duration": 229,
    "start_time": "2024-08-09T09:49:37.587Z"
   },
   {
    "duration": 15,
    "start_time": "2024-08-09T09:49:37.818Z"
   },
   {
    "duration": 155,
    "start_time": "2024-08-09T09:49:37.836Z"
   },
   {
    "duration": 12,
    "start_time": "2024-08-09T09:49:37.992Z"
   },
   {
    "duration": 308,
    "start_time": "2024-08-09T09:49:38.006Z"
   },
   {
    "duration": 13,
    "start_time": "2024-08-09T09:51:49.656Z"
   },
   {
    "duration": 429,
    "start_time": "2024-08-09T09:56:06.756Z"
   },
   {
    "duration": 167,
    "start_time": "2024-08-09T09:56:20.677Z"
   },
   {
    "duration": 765,
    "start_time": "2024-08-09T09:57:01.066Z"
   },
   {
    "duration": 31,
    "start_time": "2024-08-09T09:57:01.834Z"
   },
   {
    "duration": 45,
    "start_time": "2024-08-09T09:57:01.867Z"
   },
   {
    "duration": 51,
    "start_time": "2024-08-09T09:57:01.914Z"
   },
   {
    "duration": 12,
    "start_time": "2024-08-09T09:57:01.967Z"
   },
   {
    "duration": 35,
    "start_time": "2024-08-09T09:57:01.981Z"
   },
   {
    "duration": 89,
    "start_time": "2024-08-09T09:57:02.018Z"
   },
   {
    "duration": 21,
    "start_time": "2024-08-09T09:57:02.108Z"
   },
   {
    "duration": 42,
    "start_time": "2024-08-09T09:57:02.131Z"
   },
   {
    "duration": 11,
    "start_time": "2024-08-09T09:57:02.175Z"
   },
   {
    "duration": 33,
    "start_time": "2024-08-09T09:57:02.187Z"
   },
   {
    "duration": 53,
    "start_time": "2024-08-09T09:57:02.222Z"
   },
   {
    "duration": 7,
    "start_time": "2024-08-09T09:57:02.277Z"
   },
   {
    "duration": 53,
    "start_time": "2024-08-09T09:57:02.286Z"
   },
   {
    "duration": 20,
    "start_time": "2024-08-09T09:57:02.341Z"
   },
   {
    "duration": 15,
    "start_time": "2024-08-09T09:57:02.365Z"
   },
   {
    "duration": 64,
    "start_time": "2024-08-09T09:57:02.382Z"
   },
   {
    "duration": 63,
    "start_time": "2024-08-09T09:57:02.448Z"
   },
   {
    "duration": 178,
    "start_time": "2024-08-09T09:57:02.512Z"
   },
   {
    "duration": 13,
    "start_time": "2024-08-09T09:57:02.692Z"
   },
   {
    "duration": 136,
    "start_time": "2024-08-09T09:57:02.707Z"
   },
   {
    "duration": 22,
    "start_time": "2024-08-09T09:57:02.844Z"
   },
   {
    "duration": 293,
    "start_time": "2024-08-09T09:57:02.868Z"
   },
   {
    "duration": 326,
    "start_time": "2024-08-09T09:57:03.164Z"
   },
   {
    "duration": 268,
    "start_time": "2024-08-09T09:57:30.829Z"
   },
   {
    "duration": 264,
    "start_time": "2024-08-09T09:58:53.428Z"
   },
   {
    "duration": 690,
    "start_time": "2024-08-09T10:01:00.467Z"
   },
   {
    "duration": 31,
    "start_time": "2024-08-09T10:01:01.159Z"
   },
   {
    "duration": 39,
    "start_time": "2024-08-09T10:01:01.192Z"
   },
   {
    "duration": 75,
    "start_time": "2024-08-09T10:01:01.233Z"
   },
   {
    "duration": 138,
    "start_time": "2024-08-09T10:01:01.311Z"
   },
   {
    "duration": 141,
    "start_time": "2024-08-09T10:01:01.451Z"
   },
   {
    "duration": 49,
    "start_time": "2024-08-09T10:01:01.594Z"
   },
   {
    "duration": 73,
    "start_time": "2024-08-09T10:01:01.645Z"
   },
   {
    "duration": 59,
    "start_time": "2024-08-09T10:01:01.720Z"
   },
   {
    "duration": 53,
    "start_time": "2024-08-09T10:01:01.781Z"
   },
   {
    "duration": 45,
    "start_time": "2024-08-09T10:01:01.837Z"
   },
   {
    "duration": 45,
    "start_time": "2024-08-09T10:01:01.884Z"
   },
   {
    "duration": 27,
    "start_time": "2024-08-09T10:01:01.930Z"
   },
   {
    "duration": 70,
    "start_time": "2024-08-09T10:01:01.960Z"
   },
   {
    "duration": 45,
    "start_time": "2024-08-09T10:01:02.031Z"
   },
   {
    "duration": 43,
    "start_time": "2024-08-09T10:01:02.077Z"
   },
   {
    "duration": 55,
    "start_time": "2024-08-09T10:01:02.122Z"
   },
   {
    "duration": 49,
    "start_time": "2024-08-09T10:01:02.179Z"
   },
   {
    "duration": 205,
    "start_time": "2024-08-09T10:01:02.230Z"
   },
   {
    "duration": 199,
    "start_time": "2024-08-09T10:01:02.437Z"
   },
   {
    "duration": 162,
    "start_time": "2024-08-09T10:01:02.638Z"
   },
   {
    "duration": 13,
    "start_time": "2024-08-09T10:01:02.801Z"
   },
   {
    "duration": 288,
    "start_time": "2024-08-09T10:01:02.815Z"
   },
   {
    "duration": 320,
    "start_time": "2024-08-09T10:01:03.105Z"
   },
   {
    "duration": 282,
    "start_time": "2024-08-09T10:01:03.427Z"
   },
   {
    "duration": 281,
    "start_time": "2024-08-09T10:09:32.748Z"
   },
   {
    "duration": 310,
    "start_time": "2024-08-09T10:10:30.599Z"
   },
   {
    "duration": 282,
    "start_time": "2024-08-09T10:12:06.761Z"
   },
   {
    "duration": 346,
    "start_time": "2024-08-09T10:12:30.255Z"
   },
   {
    "duration": 5,
    "start_time": "2024-08-09T10:13:56.017Z"
   },
   {
    "duration": 6,
    "start_time": "2024-08-09T10:15:14.345Z"
   },
   {
    "duration": 8,
    "start_time": "2024-08-09T10:17:56.317Z"
   },
   {
    "duration": 14,
    "start_time": "2024-08-09T10:21:38.901Z"
   },
   {
    "duration": 5,
    "start_time": "2024-08-09T10:21:55.807Z"
   },
   {
    "duration": 5,
    "start_time": "2024-08-09T10:22:30.471Z"
   },
   {
    "duration": 5,
    "start_time": "2024-08-09T10:22:36.310Z"
   },
   {
    "duration": 11,
    "start_time": "2024-08-09T10:24:13.025Z"
   },
   {
    "duration": 6,
    "start_time": "2024-08-09T10:24:24.151Z"
   },
   {
    "duration": 7,
    "start_time": "2024-08-09T10:27:19.057Z"
   },
   {
    "duration": 29,
    "start_time": "2024-08-09T11:43:47.471Z"
   },
   {
    "duration": 30,
    "start_time": "2024-08-09T11:46:12.583Z"
   },
   {
    "duration": 15,
    "start_time": "2024-08-09T11:47:23.285Z"
   },
   {
    "duration": 15,
    "start_time": "2024-08-09T11:47:25.540Z"
   },
   {
    "duration": 262,
    "start_time": "2024-08-09T11:51:18.257Z"
   },
   {
    "duration": 450,
    "start_time": "2024-08-09T11:59:50.745Z"
   },
   {
    "duration": 404,
    "start_time": "2024-08-09T12:00:22.830Z"
   },
   {
    "duration": 558,
    "start_time": "2024-08-09T12:01:38.808Z"
   },
   {
    "duration": 458,
    "start_time": "2024-08-09T12:01:45.897Z"
   },
   {
    "duration": 457,
    "start_time": "2024-08-09T12:02:23.650Z"
   },
   {
    "duration": 558,
    "start_time": "2024-08-09T12:03:48.298Z"
   },
   {
    "duration": 696,
    "start_time": "2024-08-09T12:04:50.843Z"
   },
   {
    "duration": 481,
    "start_time": "2024-08-09T12:05:35.507Z"
   },
   {
    "duration": 585,
    "start_time": "2024-08-09T12:05:46.780Z"
   },
   {
    "duration": 564,
    "start_time": "2024-08-09T12:06:05.613Z"
   },
   {
    "duration": 725,
    "start_time": "2024-08-09T12:08:23.853Z"
   },
   {
    "duration": 627,
    "start_time": "2024-08-09T12:09:34.734Z"
   },
   {
    "duration": 6,
    "start_time": "2024-08-09T12:11:47.880Z"
   },
   {
    "duration": 5,
    "start_time": "2024-08-09T12:12:25.449Z"
   },
   {
    "duration": 7,
    "start_time": "2024-08-09T12:14:18.992Z"
   },
   {
    "duration": 9,
    "start_time": "2024-08-09T12:14:52.498Z"
   },
   {
    "duration": 7,
    "start_time": "2024-08-09T12:15:36.209Z"
   },
   {
    "duration": 8,
    "start_time": "2024-08-09T12:15:51.099Z"
   },
   {
    "duration": 6,
    "start_time": "2024-08-09T12:19:03.808Z"
   },
   {
    "duration": 6,
    "start_time": "2024-08-09T12:19:07.604Z"
   },
   {
    "duration": 8,
    "start_time": "2024-08-09T12:22:02.671Z"
   },
   {
    "duration": 8,
    "start_time": "2024-08-09T12:22:11.713Z"
   },
   {
    "duration": 600,
    "start_time": "2024-08-09T12:27:36.917Z"
   },
   {
    "duration": 29,
    "start_time": "2024-08-09T12:27:37.519Z"
   },
   {
    "duration": 13,
    "start_time": "2024-08-09T12:27:37.549Z"
   },
   {
    "duration": 29,
    "start_time": "2024-08-09T12:27:37.563Z"
   },
   {
    "duration": 10,
    "start_time": "2024-08-09T12:27:37.593Z"
   },
   {
    "duration": 16,
    "start_time": "2024-08-09T12:27:37.604Z"
   },
   {
    "duration": 7,
    "start_time": "2024-08-09T12:27:37.621Z"
   },
   {
    "duration": 14,
    "start_time": "2024-08-09T12:27:37.630Z"
   },
   {
    "duration": 22,
    "start_time": "2024-08-09T12:27:37.646Z"
   },
   {
    "duration": 11,
    "start_time": "2024-08-09T12:27:37.671Z"
   },
   {
    "duration": 8,
    "start_time": "2024-08-09T12:27:37.684Z"
   },
   {
    "duration": 13,
    "start_time": "2024-08-09T12:27:37.693Z"
   },
   {
    "duration": 6,
    "start_time": "2024-08-09T12:27:37.708Z"
   },
   {
    "duration": 5,
    "start_time": "2024-08-09T12:27:37.716Z"
   },
   {
    "duration": 45,
    "start_time": "2024-08-09T12:27:37.723Z"
   },
   {
    "duration": 6,
    "start_time": "2024-08-09T12:27:37.769Z"
   },
   {
    "duration": 7,
    "start_time": "2024-08-09T12:27:37.776Z"
   },
   {
    "duration": 13,
    "start_time": "2024-08-09T12:27:37.785Z"
   },
   {
    "duration": 204,
    "start_time": "2024-08-09T12:27:37.800Z"
   },
   {
    "duration": 14,
    "start_time": "2024-08-09T12:27:38.005Z"
   },
   {
    "duration": 140,
    "start_time": "2024-08-09T12:27:38.021Z"
   },
   {
    "duration": 12,
    "start_time": "2024-08-09T12:27:38.164Z"
   },
   {
    "duration": 323,
    "start_time": "2024-08-09T12:27:38.177Z"
   },
   {
    "duration": 7,
    "start_time": "2024-08-09T12:27:38.501Z"
   },
   {
    "duration": 340,
    "start_time": "2024-08-09T12:27:38.510Z"
   },
   {
    "duration": 5,
    "start_time": "2024-08-09T12:27:38.852Z"
   },
   {
    "duration": 265,
    "start_time": "2024-08-09T12:27:38.865Z"
   },
   {
    "duration": 7,
    "start_time": "2024-08-09T12:27:39.133Z"
   },
   {
    "duration": 36,
    "start_time": "2024-08-09T12:27:39.142Z"
   },
   {
    "duration": 16,
    "start_time": "2024-08-09T12:27:39.180Z"
   },
   {
    "duration": 15,
    "start_time": "2024-08-09T12:27:39.198Z"
   },
   {
    "duration": 653,
    "start_time": "2024-08-09T12:27:39.215Z"
   },
   {
    "duration": 9,
    "start_time": "2024-08-09T12:27:39.870Z"
   },
   {
    "duration": 701,
    "start_time": "2024-08-09T12:27:39.881Z"
   },
   {
    "duration": 8,
    "start_time": "2024-08-09T12:27:40.583Z"
   },
   {
    "duration": 82,
    "start_time": "2024-08-09T12:34:18.403Z"
   },
   {
    "duration": 4,
    "start_time": "2024-08-09T12:34:26.099Z"
   },
   {
    "duration": 23,
    "start_time": "2024-08-09T12:34:42.417Z"
   },
   {
    "duration": 22,
    "start_time": "2024-08-09T12:37:46.146Z"
   },
   {
    "duration": 18,
    "start_time": "2024-08-09T12:38:19.450Z"
   },
   {
    "duration": 18,
    "start_time": "2024-08-09T12:39:24.907Z"
   },
   {
    "duration": 613,
    "start_time": "2024-08-09T12:40:59.704Z"
   },
   {
    "duration": 29,
    "start_time": "2024-08-09T12:41:00.318Z"
   },
   {
    "duration": 55,
    "start_time": "2024-08-09T12:41:00.349Z"
   },
   {
    "duration": 92,
    "start_time": "2024-08-09T12:41:00.406Z"
   },
   {
    "duration": 109,
    "start_time": "2024-08-09T12:41:00.500Z"
   },
   {
    "duration": 141,
    "start_time": "2024-08-09T12:41:00.611Z"
   },
   {
    "duration": 71,
    "start_time": "2024-08-09T12:41:00.754Z"
   },
   {
    "duration": 93,
    "start_time": "2024-08-09T12:41:00.828Z"
   },
   {
    "duration": 41,
    "start_time": "2024-08-09T12:41:00.923Z"
   },
   {
    "duration": 96,
    "start_time": "2024-08-09T12:41:00.966Z"
   },
   {
    "duration": 400,
    "start_time": "2024-08-09T12:41:01.064Z"
   },
   {
    "duration": 70,
    "start_time": "2024-08-09T12:41:01.468Z"
   },
   {
    "duration": 45,
    "start_time": "2024-08-09T12:41:01.540Z"
   },
   {
    "duration": 38,
    "start_time": "2024-08-09T12:41:01.587Z"
   },
   {
    "duration": 41,
    "start_time": "2024-08-09T12:41:01.627Z"
   },
   {
    "duration": 22,
    "start_time": "2024-08-09T12:41:01.670Z"
   },
   {
    "duration": 34,
    "start_time": "2024-08-09T12:41:01.694Z"
   },
   {
    "duration": 35,
    "start_time": "2024-08-09T12:41:01.729Z"
   },
   {
    "duration": 237,
    "start_time": "2024-08-09T12:41:01.765Z"
   },
   {
    "duration": 14,
    "start_time": "2024-08-09T12:41:02.004Z"
   },
   {
    "duration": 163,
    "start_time": "2024-08-09T12:41:02.020Z"
   },
   {
    "duration": 12,
    "start_time": "2024-08-09T12:41:02.185Z"
   },
   {
    "duration": 310,
    "start_time": "2024-08-09T12:41:02.198Z"
   },
   {
    "duration": 6,
    "start_time": "2024-08-09T12:41:02.509Z"
   },
   {
    "duration": 358,
    "start_time": "2024-08-09T12:41:02.516Z"
   },
   {
    "duration": 6,
    "start_time": "2024-08-09T12:41:02.876Z"
   },
   {
    "duration": 402,
    "start_time": "2024-08-09T12:41:02.884Z"
   },
   {
    "duration": 8,
    "start_time": "2024-08-09T12:41:03.288Z"
   },
   {
    "duration": 31,
    "start_time": "2024-08-09T12:41:03.298Z"
   },
   {
    "duration": 35,
    "start_time": "2024-08-09T12:41:03.331Z"
   },
   {
    "duration": 16,
    "start_time": "2024-08-09T12:41:03.367Z"
   },
   {
    "duration": 586,
    "start_time": "2024-08-09T12:41:03.384Z"
   },
   {
    "duration": 8,
    "start_time": "2024-08-09T12:41:03.971Z"
   },
   {
    "duration": 620,
    "start_time": "2024-08-09T12:41:03.980Z"
   },
   {
    "duration": 8,
    "start_time": "2024-08-09T12:41:04.602Z"
   },
   {
    "duration": 18,
    "start_time": "2024-08-09T12:41:04.614Z"
   },
   {
    "duration": 12,
    "start_time": "2024-08-09T12:41:43.639Z"
   },
   {
    "duration": 647,
    "start_time": "2024-08-09T12:42:22.689Z"
   },
   {
    "duration": 29,
    "start_time": "2024-08-09T12:42:23.338Z"
   },
   {
    "duration": 14,
    "start_time": "2024-08-09T12:42:23.369Z"
   },
   {
    "duration": 33,
    "start_time": "2024-08-09T12:42:23.385Z"
   },
   {
    "duration": 10,
    "start_time": "2024-08-09T12:42:23.420Z"
   },
   {
    "duration": 41,
    "start_time": "2024-08-09T12:42:23.431Z"
   },
   {
    "duration": 7,
    "start_time": "2024-08-09T12:42:23.474Z"
   },
   {
    "duration": 35,
    "start_time": "2024-08-09T12:42:23.482Z"
   },
   {
    "duration": 38,
    "start_time": "2024-08-09T12:42:23.519Z"
   },
   {
    "duration": 22,
    "start_time": "2024-08-09T12:42:23.560Z"
   },
   {
    "duration": 33,
    "start_time": "2024-08-09T12:42:23.585Z"
   },
   {
    "duration": 29,
    "start_time": "2024-08-09T12:42:23.620Z"
   },
   {
    "duration": 5,
    "start_time": "2024-08-09T12:42:23.651Z"
   },
   {
    "duration": 27,
    "start_time": "2024-08-09T12:42:23.658Z"
   },
   {
    "duration": 15,
    "start_time": "2024-08-09T12:42:23.688Z"
   },
   {
    "duration": 15,
    "start_time": "2024-08-09T12:42:23.705Z"
   },
   {
    "duration": 13,
    "start_time": "2024-08-09T12:42:23.722Z"
   },
   {
    "duration": 18,
    "start_time": "2024-08-09T12:42:23.737Z"
   },
   {
    "duration": 213,
    "start_time": "2024-08-09T12:42:23.758Z"
   },
   {
    "duration": 14,
    "start_time": "2024-08-09T12:42:23.973Z"
   },
   {
    "duration": 136,
    "start_time": "2024-08-09T12:42:23.988Z"
   },
   {
    "duration": 12,
    "start_time": "2024-08-09T12:42:24.125Z"
   },
   {
    "duration": 293,
    "start_time": "2024-08-09T12:42:24.138Z"
   },
   {
    "duration": 7,
    "start_time": "2024-08-09T12:42:24.433Z"
   },
   {
    "duration": 339,
    "start_time": "2024-08-09T12:42:24.441Z"
   },
   {
    "duration": 6,
    "start_time": "2024-08-09T12:42:24.782Z"
   },
   {
    "duration": 310,
    "start_time": "2024-08-09T12:42:24.790Z"
   },
   {
    "duration": 7,
    "start_time": "2024-08-09T12:42:25.103Z"
   },
   {
    "duration": 58,
    "start_time": "2024-08-09T12:42:25.112Z"
   },
   {
    "duration": 17,
    "start_time": "2024-08-09T12:42:25.172Z"
   },
   {
    "duration": 16,
    "start_time": "2024-08-09T12:42:25.191Z"
   },
   {
    "duration": 678,
    "start_time": "2024-08-09T12:42:25.209Z"
   },
   {
    "duration": 7,
    "start_time": "2024-08-09T12:42:25.889Z"
   },
   {
    "duration": 673,
    "start_time": "2024-08-09T12:42:25.898Z"
   },
   {
    "duration": 8,
    "start_time": "2024-08-09T12:42:26.573Z"
   },
   {
    "duration": 19,
    "start_time": "2024-08-09T12:42:26.583Z"
   },
   {
    "duration": 19,
    "start_time": "2024-08-09T12:43:51.417Z"
   },
   {
    "duration": 25,
    "start_time": "2024-08-09T12:43:55.041Z"
   },
   {
    "duration": 3,
    "start_time": "2024-08-09T12:46:11.474Z"
   },
   {
    "duration": 21,
    "start_time": "2024-08-09T12:47:42.449Z"
   },
   {
    "duration": 4,
    "start_time": "2024-08-09T12:58:30.755Z"
   },
   {
    "duration": 1334,
    "start_time": "2024-08-09T13:00:18.486Z"
   },
   {
    "duration": 12,
    "start_time": "2024-08-09T13:02:37.691Z"
   },
   {
    "duration": 19,
    "start_time": "2024-08-09T13:03:01.455Z"
   },
   {
    "duration": 8,
    "start_time": "2024-08-09T13:04:26.825Z"
   },
   {
    "duration": 18,
    "start_time": "2024-08-09T13:04:38.134Z"
   },
   {
    "duration": 19,
    "start_time": "2024-08-09T13:04:42.783Z"
   },
   {
    "duration": 17,
    "start_time": "2024-08-09T13:08:51.393Z"
   },
   {
    "duration": 16,
    "start_time": "2024-08-09T13:09:26.205Z"
   },
   {
    "duration": 16,
    "start_time": "2024-08-09T13:09:56.491Z"
   },
   {
    "duration": 10,
    "start_time": "2024-08-09T13:10:33.012Z"
   },
   {
    "duration": 683,
    "start_time": "2024-08-09T13:10:52.412Z"
   },
   {
    "duration": 26,
    "start_time": "2024-08-09T13:11:00.816Z"
   },
   {
    "duration": 569,
    "start_time": "2024-08-09T13:11:44.597Z"
   },
   {
    "duration": 23,
    "start_time": "2024-08-09T13:12:43.471Z"
   },
   {
    "duration": 39,
    "start_time": "2024-08-09T13:20:19.642Z"
   },
   {
    "duration": 3,
    "start_time": "2024-08-09T13:20:50.879Z"
   },
   {
    "duration": 251,
    "start_time": "2024-08-09T13:20:58.469Z"
   },
   {
    "duration": 26,
    "start_time": "2024-08-09T13:21:37.892Z"
   },
   {
    "duration": 25,
    "start_time": "2024-08-09T13:21:48.996Z"
   },
   {
    "duration": 32,
    "start_time": "2024-08-09T13:21:59.608Z"
   },
   {
    "duration": 27,
    "start_time": "2024-08-09T13:22:18.052Z"
   },
   {
    "duration": 32,
    "start_time": "2024-08-09T13:22:33.269Z"
   },
   {
    "duration": 23,
    "start_time": "2024-08-09T13:22:46.533Z"
   },
   {
    "duration": 1026,
    "start_time": "2024-08-09T13:23:50.195Z"
   },
   {
    "duration": 138,
    "start_time": "2024-08-09T13:24:00.278Z"
   },
   {
    "duration": 28,
    "start_time": "2024-08-09T13:24:20.710Z"
   },
   {
    "duration": 4,
    "start_time": "2024-08-09T13:24:33.428Z"
   },
   {
    "duration": 274,
    "start_time": "2024-08-09T13:24:38.560Z"
   },
   {
    "duration": 655,
    "start_time": "2024-08-09T13:29:11.914Z"
   },
   {
    "duration": 122,
    "start_time": "2024-08-09T13:29:26.512Z"
   },
   {
    "duration": 59,
    "start_time": "2024-08-09T13:38:07.623Z"
   },
   {
    "duration": 28,
    "start_time": "2024-08-09T13:38:15.031Z"
   },
   {
    "duration": 3,
    "start_time": "2024-08-09T13:38:17.713Z"
   },
   {
    "duration": 256,
    "start_time": "2024-08-09T13:38:19.714Z"
   },
   {
    "duration": 479,
    "start_time": "2024-08-09T13:39:23.762Z"
   },
   {
    "duration": 568,
    "start_time": "2024-08-09T13:40:27.137Z"
   },
   {
    "duration": 578,
    "start_time": "2024-08-09T13:40:55.003Z"
   },
   {
    "duration": 8,
    "start_time": "2024-08-09T13:43:07.165Z"
   },
   {
    "duration": 609,
    "start_time": "2024-08-09T16:25:43.696Z"
   },
   {
    "duration": 36,
    "start_time": "2024-08-09T16:38:50.248Z"
   },
   {
    "duration": 7,
    "start_time": "2024-08-09T16:38:59.241Z"
   },
   {
    "duration": 6,
    "start_time": "2024-08-09T16:40:36.609Z"
   },
   {
    "duration": 6,
    "start_time": "2024-08-09T16:40:45.080Z"
   },
   {
    "duration": 6,
    "start_time": "2024-08-09T16:42:32.056Z"
   },
   {
    "duration": 7,
    "start_time": "2024-08-09T16:43:28.075Z"
   },
   {
    "duration": 6,
    "start_time": "2024-08-09T16:46:33.566Z"
   },
   {
    "duration": 5,
    "start_time": "2024-08-09T16:47:27.207Z"
   },
   {
    "duration": 5,
    "start_time": "2024-08-09T16:47:56.773Z"
   },
   {
    "duration": 17,
    "start_time": "2024-08-09T16:49:44.984Z"
   },
   {
    "duration": 6,
    "start_time": "2024-08-09T16:50:07.215Z"
   },
   {
    "duration": 3,
    "start_time": "2024-08-09T16:54:24.058Z"
   },
   {
    "duration": 3,
    "start_time": "2024-08-09T16:57:10.227Z"
   },
   {
    "duration": 8,
    "start_time": "2024-08-09T17:00:19.779Z"
   },
   {
    "duration": 5,
    "start_time": "2024-08-09T17:02:34.080Z"
   },
   {
    "duration": 8,
    "start_time": "2024-08-09T17:03:32.435Z"
   },
   {
    "duration": 6,
    "start_time": "2024-08-09T17:03:35.434Z"
   },
   {
    "duration": 5,
    "start_time": "2024-08-09T17:12:59.691Z"
   },
   {
    "duration": 7,
    "start_time": "2024-08-09T17:13:32.978Z"
   },
   {
    "duration": 6,
    "start_time": "2024-08-09T17:14:48.515Z"
   },
   {
    "duration": 7,
    "start_time": "2024-08-09T17:15:31.916Z"
   },
   {
    "duration": 7,
    "start_time": "2024-08-09T17:18:13.021Z"
   },
   {
    "duration": 6,
    "start_time": "2024-08-09T17:18:18.206Z"
   },
   {
    "duration": 24,
    "start_time": "2024-08-09T17:30:13.502Z"
   },
   {
    "duration": 15,
    "start_time": "2024-08-09T17:30:23.237Z"
   },
   {
    "duration": 20,
    "start_time": "2024-08-09T17:30:53.536Z"
   },
   {
    "duration": 219,
    "start_time": "2024-08-09T17:32:49.511Z"
   },
   {
    "duration": 225,
    "start_time": "2024-08-09T17:33:08.832Z"
   },
   {
    "duration": 208,
    "start_time": "2024-08-09T17:33:27.368Z"
   },
   {
    "duration": 203,
    "start_time": "2024-08-09T17:34:14.972Z"
   },
   {
    "duration": 213,
    "start_time": "2024-08-09T17:36:19.505Z"
   },
   {
    "duration": 109,
    "start_time": "2024-08-09T17:36:35.182Z"
   },
   {
    "duration": 214,
    "start_time": "2024-08-09T17:37:13.067Z"
   },
   {
    "duration": 203,
    "start_time": "2024-08-09T17:37:25.523Z"
   },
   {
    "duration": 237,
    "start_time": "2024-08-09T17:37:31.461Z"
   },
   {
    "duration": 214,
    "start_time": "2024-08-09T17:38:05.204Z"
   },
   {
    "duration": 396,
    "start_time": "2024-08-09T17:39:30.917Z"
   },
   {
    "duration": 264,
    "start_time": "2024-08-09T17:39:57.163Z"
   },
   {
    "duration": 315,
    "start_time": "2024-08-09T17:40:19.461Z"
   },
   {
    "duration": 333,
    "start_time": "2024-08-09T17:41:00.398Z"
   },
   {
    "duration": 16,
    "start_time": "2024-08-09T17:43:18.600Z"
   },
   {
    "duration": 321,
    "start_time": "2024-08-09T17:43:43.392Z"
   },
   {
    "duration": 6,
    "start_time": "2024-08-09T17:43:51.033Z"
   },
   {
    "duration": 1078,
    "start_time": "2024-08-09T17:45:03.051Z"
   },
   {
    "duration": 5,
    "start_time": "2024-08-09T17:45:33.873Z"
   },
   {
    "duration": 6,
    "start_time": "2024-08-09T17:48:15.598Z"
   },
   {
    "duration": 4,
    "start_time": "2024-08-09T17:48:41.716Z"
   },
   {
    "duration": 4,
    "start_time": "2024-08-09T17:52:44.303Z"
   },
   {
    "duration": 6,
    "start_time": "2024-08-09T17:56:56.143Z"
   },
   {
    "duration": 5,
    "start_time": "2024-08-09T17:58:42.596Z"
   },
   {
    "duration": 5,
    "start_time": "2024-08-09T17:59:30.878Z"
   },
   {
    "duration": 6,
    "start_time": "2024-08-09T17:59:35.057Z"
   },
   {
    "duration": 292,
    "start_time": "2024-08-09T18:00:51.392Z"
   },
   {
    "duration": 6,
    "start_time": "2024-08-09T18:01:32.342Z"
   },
   {
    "duration": 1141,
    "start_time": "2024-08-09T18:08:15.367Z"
   },
   {
    "duration": 82,
    "start_time": "2024-08-09T18:08:16.510Z"
   },
   {
    "duration": 12,
    "start_time": "2024-08-09T18:08:16.593Z"
   },
   {
    "duration": 30,
    "start_time": "2024-08-09T18:08:16.607Z"
   },
   {
    "duration": 9,
    "start_time": "2024-08-09T18:08:16.640Z"
   },
   {
    "duration": 22,
    "start_time": "2024-08-09T18:08:16.650Z"
   },
   {
    "duration": 7,
    "start_time": "2024-08-09T18:08:16.674Z"
   },
   {
    "duration": 87,
    "start_time": "2024-08-09T18:08:16.682Z"
   },
   {
    "duration": 18,
    "start_time": "2024-08-09T18:08:16.770Z"
   },
   {
    "duration": 11,
    "start_time": "2024-08-09T18:08:16.790Z"
   },
   {
    "duration": 82,
    "start_time": "2024-08-09T18:08:16.803Z"
   },
   {
    "duration": 25,
    "start_time": "2024-08-09T18:08:16.887Z"
   },
   {
    "duration": 5,
    "start_time": "2024-08-09T18:08:16.913Z"
   },
   {
    "duration": 5,
    "start_time": "2024-08-09T18:08:16.921Z"
   },
   {
    "duration": 9,
    "start_time": "2024-08-09T18:08:16.927Z"
   },
   {
    "duration": 11,
    "start_time": "2024-08-09T18:08:16.938Z"
   },
   {
    "duration": 34,
    "start_time": "2024-08-09T18:08:16.951Z"
   },
   {
    "duration": 18,
    "start_time": "2024-08-09T18:08:16.987Z"
   },
   {
    "duration": 182,
    "start_time": "2024-08-09T18:08:17.007Z"
   },
   {
    "duration": 20,
    "start_time": "2024-08-09T18:08:17.191Z"
   },
   {
    "duration": 170,
    "start_time": "2024-08-09T18:08:17.216Z"
   },
   {
    "duration": 13,
    "start_time": "2024-08-09T18:08:17.387Z"
   },
   {
    "duration": 307,
    "start_time": "2024-08-09T18:08:17.402Z"
   },
   {
    "duration": 8,
    "start_time": "2024-08-09T18:08:17.711Z"
   },
   {
    "duration": 305,
    "start_time": "2024-08-09T18:08:17.721Z"
   },
   {
    "duration": 7,
    "start_time": "2024-08-09T18:08:18.027Z"
   },
   {
    "duration": 286,
    "start_time": "2024-08-09T18:08:18.036Z"
   },
   {
    "duration": 8,
    "start_time": "2024-08-09T18:08:18.324Z"
   },
   {
    "duration": 41,
    "start_time": "2024-08-09T18:08:18.334Z"
   },
   {
    "duration": 15,
    "start_time": "2024-08-09T18:08:18.377Z"
   },
   {
    "duration": 14,
    "start_time": "2024-08-09T18:08:18.394Z"
   },
   {
    "duration": 709,
    "start_time": "2024-08-09T18:08:18.409Z"
   },
   {
    "duration": 8,
    "start_time": "2024-08-09T18:08:19.120Z"
   },
   {
    "duration": 676,
    "start_time": "2024-08-09T18:08:19.130Z"
   },
   {
    "duration": 8,
    "start_time": "2024-08-09T18:08:19.808Z"
   },
   {
    "duration": 35,
    "start_time": "2024-08-09T18:08:19.818Z"
   },
   {
    "duration": 217,
    "start_time": "2024-08-09T18:08:19.864Z"
   },
   {
    "duration": 226,
    "start_time": "2024-08-09T18:08:20.083Z"
   },
   {
    "duration": 694,
    "start_time": "2024-08-09T18:08:20.311Z"
   },
   {
    "duration": 10,
    "start_time": "2024-08-09T18:08:21.007Z"
   },
   {
    "duration": 7,
    "start_time": "2024-08-09T18:08:21.021Z"
   },
   {
    "duration": 9,
    "start_time": "2024-08-09T18:08:21.030Z"
   },
   {
    "duration": 7,
    "start_time": "2024-08-09T18:08:21.066Z"
   },
   {
    "duration": 6,
    "start_time": "2024-08-09T18:08:21.076Z"
   },
   {
    "duration": 343,
    "start_time": "2024-08-09T18:08:21.084Z"
   },
   {
    "duration": 5,
    "start_time": "2024-08-09T18:08:21.429Z"
   },
   {
    "duration": 1061,
    "start_time": "2024-08-09T18:13:27.018Z"
   },
   {
    "duration": 87,
    "start_time": "2024-08-09T18:13:28.081Z"
   },
   {
    "duration": 14,
    "start_time": "2024-08-09T18:13:28.170Z"
   },
   {
    "duration": 32,
    "start_time": "2024-08-09T18:13:28.186Z"
   },
   {
    "duration": 10,
    "start_time": "2024-08-09T18:13:28.220Z"
   },
   {
    "duration": 25,
    "start_time": "2024-08-09T18:13:28.232Z"
   },
   {
    "duration": 9,
    "start_time": "2024-08-09T18:13:28.259Z"
   },
   {
    "duration": 14,
    "start_time": "2024-08-09T18:13:28.270Z"
   },
   {
    "duration": 14,
    "start_time": "2024-08-09T18:13:28.286Z"
   },
   {
    "duration": 11,
    "start_time": "2024-08-09T18:13:28.302Z"
   },
   {
    "duration": 14,
    "start_time": "2024-08-09T18:13:28.315Z"
   },
   {
    "duration": 42,
    "start_time": "2024-08-09T18:13:28.331Z"
   },
   {
    "duration": 7,
    "start_time": "2024-08-09T18:13:28.374Z"
   },
   {
    "duration": 12,
    "start_time": "2024-08-09T18:13:28.382Z"
   },
   {
    "duration": 11,
    "start_time": "2024-08-09T18:13:28.395Z"
   },
   {
    "duration": 6,
    "start_time": "2024-08-09T18:13:28.408Z"
   },
   {
    "duration": 7,
    "start_time": "2024-08-09T18:13:28.416Z"
   },
   {
    "duration": 43,
    "start_time": "2024-08-09T18:13:28.425Z"
   },
   {
    "duration": 189,
    "start_time": "2024-08-09T18:13:28.470Z"
   },
   {
    "duration": 18,
    "start_time": "2024-08-09T18:13:28.661Z"
   },
   {
    "duration": 148,
    "start_time": "2024-08-09T18:13:28.681Z"
   },
   {
    "duration": 12,
    "start_time": "2024-08-09T18:13:28.831Z"
   },
   {
    "duration": 310,
    "start_time": "2024-08-09T18:13:28.845Z"
   },
   {
    "duration": 8,
    "start_time": "2024-08-09T18:13:29.157Z"
   },
   {
    "duration": 315,
    "start_time": "2024-08-09T18:13:29.167Z"
   },
   {
    "duration": 8,
    "start_time": "2024-08-09T18:13:29.484Z"
   },
   {
    "duration": 378,
    "start_time": "2024-08-09T18:13:29.494Z"
   },
   {
    "duration": 7,
    "start_time": "2024-08-09T18:13:29.876Z"
   },
   {
    "duration": 26,
    "start_time": "2024-08-09T18:13:29.885Z"
   },
   {
    "duration": 16,
    "start_time": "2024-08-09T18:13:29.913Z"
   },
   {
    "duration": 48,
    "start_time": "2024-08-09T18:13:29.931Z"
   },
   {
    "duration": 836,
    "start_time": "2024-08-09T18:13:29.980Z"
   },
   {
    "duration": 8,
    "start_time": "2024-08-09T18:13:30.818Z"
   },
   {
    "duration": 850,
    "start_time": "2024-08-09T18:13:30.828Z"
   },
   {
    "duration": 9,
    "start_time": "2024-08-09T18:13:31.680Z"
   },
   {
    "duration": 55,
    "start_time": "2024-08-09T18:13:31.691Z"
   },
   {
    "duration": 24,
    "start_time": "2024-08-09T18:13:31.748Z"
   },
   {
    "duration": 237,
    "start_time": "2024-08-09T18:13:31.775Z"
   },
   {
    "duration": 685,
    "start_time": "2024-08-09T18:13:32.014Z"
   },
   {
    "duration": 15,
    "start_time": "2024-08-09T18:13:32.701Z"
   },
   {
    "duration": 97,
    "start_time": "2024-08-09T18:13:32.718Z"
   },
   {
    "duration": 77,
    "start_time": "2024-08-09T18:13:32.817Z"
   },
   {
    "duration": 9,
    "start_time": "2024-08-09T18:13:32.897Z"
   },
   {
    "duration": 7,
    "start_time": "2024-08-09T18:13:32.909Z"
   },
   {
    "duration": 377,
    "start_time": "2024-08-09T18:13:32.918Z"
   },
   {
    "duration": 5,
    "start_time": "2024-08-09T18:13:33.299Z"
   },
   {
    "duration": 5,
    "start_time": "2024-08-09T18:21:25.380Z"
   },
   {
    "duration": 5,
    "start_time": "2024-08-09T18:21:35.597Z"
   },
   {
    "duration": 107,
    "start_time": "2024-08-09T18:28:41.208Z"
   },
   {
    "duration": 1355,
    "start_time": "2024-08-09T18:28:49.834Z"
   },
   {
    "duration": 15,
    "start_time": "2024-08-09T18:29:56.428Z"
   },
   {
    "duration": 3,
    "start_time": "2024-08-09T18:30:24.314Z"
   },
   {
    "duration": 1295,
    "start_time": "2024-08-09T18:30:33.145Z"
   },
   {
    "duration": 1396,
    "start_time": "2024-08-09T18:30:59.324Z"
   },
   {
    "duration": 9,
    "start_time": "2024-08-09T18:37:15.631Z"
   },
   {
    "duration": 12,
    "start_time": "2024-08-09T18:48:35.993Z"
   },
   {
    "duration": 3,
    "start_time": "2024-08-09T18:48:57.927Z"
   },
   {
    "duration": 11,
    "start_time": "2024-08-09T18:49:09.479Z"
   },
   {
    "duration": 6,
    "start_time": "2024-08-09T18:49:17.587Z"
   },
   {
    "duration": 7,
    "start_time": "2024-08-09T18:49:25.594Z"
   },
   {
    "duration": 122,
    "start_time": "2024-08-09T18:50:09.659Z"
   },
   {
    "duration": 1325,
    "start_time": "2024-08-09T18:50:34.898Z"
   },
   {
    "duration": 1384,
    "start_time": "2024-08-09T18:50:45.096Z"
   },
   {
    "duration": 19,
    "start_time": "2024-08-09T18:51:20.465Z"
   },
   {
    "duration": 1549,
    "start_time": "2024-08-09T18:52:13.051Z"
   },
   {
    "duration": 1452,
    "start_time": "2024-08-09T18:52:17.818Z"
   },
   {
    "duration": 1456,
    "start_time": "2024-08-09T18:52:27.190Z"
   },
   {
    "duration": 11,
    "start_time": "2024-08-09T18:52:37.380Z"
   },
   {
    "duration": 9,
    "start_time": "2024-08-09T18:52:47.146Z"
   },
   {
    "duration": 5,
    "start_time": "2024-08-09T18:55:14.220Z"
   },
   {
    "duration": 7,
    "start_time": "2024-08-09T19:02:29.783Z"
   },
   {
    "duration": 4,
    "start_time": "2024-08-09T19:02:33.196Z"
   },
   {
    "duration": 6,
    "start_time": "2024-08-09T19:06:11.878Z"
   },
   {
    "duration": 11,
    "start_time": "2024-08-09T19:08:28.520Z"
   },
   {
    "duration": 1047,
    "start_time": "2024-08-09T19:09:27.479Z"
   },
   {
    "duration": 101,
    "start_time": "2024-08-09T19:09:28.529Z"
   },
   {
    "duration": 13,
    "start_time": "2024-08-09T19:09:28.631Z"
   },
   {
    "duration": 29,
    "start_time": "2024-08-09T19:09:28.646Z"
   },
   {
    "duration": 9,
    "start_time": "2024-08-09T19:09:28.677Z"
   },
   {
    "duration": 28,
    "start_time": "2024-08-09T19:09:28.688Z"
   },
   {
    "duration": 7,
    "start_time": "2024-08-09T19:09:28.717Z"
   },
   {
    "duration": 18,
    "start_time": "2024-08-09T19:09:28.726Z"
   },
   {
    "duration": 13,
    "start_time": "2024-08-09T19:09:28.746Z"
   },
   {
    "duration": 11,
    "start_time": "2024-08-09T19:09:28.764Z"
   },
   {
    "duration": 13,
    "start_time": "2024-08-09T19:09:28.777Z"
   },
   {
    "duration": 10,
    "start_time": "2024-08-09T19:09:28.791Z"
   },
   {
    "duration": 6,
    "start_time": "2024-08-09T19:09:28.803Z"
   },
   {
    "duration": 5,
    "start_time": "2024-08-09T19:09:28.812Z"
   },
   {
    "duration": 51,
    "start_time": "2024-08-09T19:09:28.819Z"
   },
   {
    "duration": 7,
    "start_time": "2024-08-09T19:09:28.872Z"
   },
   {
    "duration": 16,
    "start_time": "2024-08-09T19:09:28.882Z"
   },
   {
    "duration": 14,
    "start_time": "2024-08-09T19:09:28.899Z"
   },
   {
    "duration": 192,
    "start_time": "2024-08-09T19:09:28.914Z"
   },
   {
    "duration": 13,
    "start_time": "2024-08-09T19:09:29.107Z"
   },
   {
    "duration": 139,
    "start_time": "2024-08-09T19:09:29.121Z"
   },
   {
    "duration": 14,
    "start_time": "2024-08-09T19:09:29.264Z"
   },
   {
    "duration": 291,
    "start_time": "2024-08-09T19:09:29.279Z"
   },
   {
    "duration": 7,
    "start_time": "2024-08-09T19:09:29.572Z"
   },
   {
    "duration": 306,
    "start_time": "2024-08-09T19:09:29.581Z"
   },
   {
    "duration": 8,
    "start_time": "2024-08-09T19:09:29.889Z"
   },
   {
    "duration": 333,
    "start_time": "2024-08-09T19:09:29.899Z"
   },
   {
    "duration": 9,
    "start_time": "2024-08-09T19:09:30.235Z"
   },
   {
    "duration": 90,
    "start_time": "2024-08-09T19:09:30.246Z"
   },
   {
    "duration": 35,
    "start_time": "2024-08-09T19:09:30.338Z"
   },
   {
    "duration": 138,
    "start_time": "2024-08-09T19:09:30.375Z"
   },
   {
    "duration": 735,
    "start_time": "2024-08-09T19:09:30.515Z"
   },
   {
    "duration": 14,
    "start_time": "2024-08-09T19:09:31.251Z"
   },
   {
    "duration": 635,
    "start_time": "2024-08-09T19:09:31.267Z"
   },
   {
    "duration": 12,
    "start_time": "2024-08-09T19:09:31.904Z"
   },
   {
    "duration": 35,
    "start_time": "2024-08-09T19:09:31.918Z"
   },
   {
    "duration": 4,
    "start_time": "2024-08-09T19:09:31.966Z"
   },
   {
    "duration": 223,
    "start_time": "2024-08-09T19:09:31.971Z"
   },
   {
    "duration": 636,
    "start_time": "2024-08-09T19:09:32.196Z"
   },
   {
    "duration": 9,
    "start_time": "2024-08-09T19:09:32.834Z"
   },
   {
    "duration": 20,
    "start_time": "2024-08-09T19:09:32.846Z"
   },
   {
    "duration": 6,
    "start_time": "2024-08-09T19:09:32.867Z"
   },
   {
    "duration": 13,
    "start_time": "2024-08-09T19:09:32.875Z"
   },
   {
    "duration": 7,
    "start_time": "2024-08-09T19:09:32.889Z"
   },
   {
    "duration": 326,
    "start_time": "2024-08-09T19:09:32.898Z"
   },
   {
    "duration": 6,
    "start_time": "2024-08-09T19:09:33.227Z"
   },
   {
    "duration": 1301,
    "start_time": "2024-08-09T19:09:33.235Z"
   },
   {
    "duration": 1253,
    "start_time": "2024-08-09T19:09:34.538Z"
   },
   {
    "duration": 6,
    "start_time": "2024-08-09T19:09:35.794Z"
   },
   {
    "duration": 10,
    "start_time": "2024-08-09T19:09:35.802Z"
   },
   {
    "duration": 8938,
    "start_time": "2024-08-09T19:12:08.931Z"
   },
   {
    "duration": 11,
    "start_time": "2024-08-09T19:12:29.370Z"
   },
   {
    "duration": 5,
    "start_time": "2024-08-09T19:14:39.620Z"
   },
   {
    "duration": 8399,
    "start_time": "2024-08-09T19:14:51.325Z"
   },
   {
    "duration": 1143,
    "start_time": "2024-08-09T19:15:41.875Z"
   },
   {
    "duration": 96,
    "start_time": "2024-08-09T19:15:43.020Z"
   },
   {
    "duration": 12,
    "start_time": "2024-08-09T19:15:43.118Z"
   },
   {
    "duration": 33,
    "start_time": "2024-08-09T19:15:43.132Z"
   },
   {
    "duration": 9,
    "start_time": "2024-08-09T19:15:43.167Z"
   },
   {
    "duration": 18,
    "start_time": "2024-08-09T19:15:43.178Z"
   },
   {
    "duration": 8,
    "start_time": "2024-08-09T19:15:43.197Z"
   },
   {
    "duration": 15,
    "start_time": "2024-08-09T19:15:43.208Z"
   },
   {
    "duration": 36,
    "start_time": "2024-08-09T19:15:43.225Z"
   },
   {
    "duration": 12,
    "start_time": "2024-08-09T19:15:43.264Z"
   },
   {
    "duration": 14,
    "start_time": "2024-08-09T19:15:43.279Z"
   },
   {
    "duration": 23,
    "start_time": "2024-08-09T19:15:43.295Z"
   },
   {
    "duration": 15,
    "start_time": "2024-08-09T19:15:43.320Z"
   },
   {
    "duration": 5,
    "start_time": "2024-08-09T19:15:43.339Z"
   },
   {
    "duration": 30,
    "start_time": "2024-08-09T19:15:43.346Z"
   },
   {
    "duration": 7,
    "start_time": "2024-08-09T19:15:43.377Z"
   },
   {
    "duration": 7,
    "start_time": "2024-08-09T19:15:43.386Z"
   },
   {
    "duration": 14,
    "start_time": "2024-08-09T19:15:43.395Z"
   },
   {
    "duration": 206,
    "start_time": "2024-08-09T19:15:43.410Z"
   },
   {
    "duration": 15,
    "start_time": "2024-08-09T19:15:43.618Z"
   },
   {
    "duration": 139,
    "start_time": "2024-08-09T19:15:43.635Z"
   },
   {
    "duration": 15,
    "start_time": "2024-08-09T19:15:43.777Z"
   },
   {
    "duration": 296,
    "start_time": "2024-08-09T19:15:43.794Z"
   },
   {
    "duration": 8,
    "start_time": "2024-08-09T19:15:44.092Z"
   },
   {
    "duration": 333,
    "start_time": "2024-08-09T19:15:44.102Z"
   },
   {
    "duration": 7,
    "start_time": "2024-08-09T19:15:44.437Z"
   },
   {
    "duration": 273,
    "start_time": "2024-08-09T19:15:44.446Z"
   },
   {
    "duration": 7,
    "start_time": "2024-08-09T19:15:44.721Z"
   },
   {
    "duration": 49,
    "start_time": "2024-08-09T19:15:44.730Z"
   },
   {
    "duration": 21,
    "start_time": "2024-08-09T19:15:44.782Z"
   },
   {
    "duration": 17,
    "start_time": "2024-08-09T19:15:44.805Z"
   },
   {
    "duration": 730,
    "start_time": "2024-08-09T19:15:44.823Z"
   },
   {
    "duration": 15,
    "start_time": "2024-08-09T19:15:45.555Z"
   },
   {
    "duration": 606,
    "start_time": "2024-08-09T19:15:45.572Z"
   },
   {
    "duration": 7,
    "start_time": "2024-08-09T19:15:46.180Z"
   },
   {
    "duration": 28,
    "start_time": "2024-08-09T19:15:46.189Z"
   },
   {
    "duration": 3,
    "start_time": "2024-08-09T19:15:46.219Z"
   },
   {
    "duration": 259,
    "start_time": "2024-08-09T19:15:46.224Z"
   },
   {
    "duration": 645,
    "start_time": "2024-08-09T19:15:46.485Z"
   },
   {
    "duration": 9,
    "start_time": "2024-08-09T19:15:47.131Z"
   },
   {
    "duration": 30,
    "start_time": "2024-08-09T19:15:47.144Z"
   },
   {
    "duration": 7,
    "start_time": "2024-08-09T19:15:47.175Z"
   },
   {
    "duration": 29,
    "start_time": "2024-08-09T19:15:47.184Z"
   },
   {
    "duration": 7,
    "start_time": "2024-08-09T19:15:47.215Z"
   },
   {
    "duration": 329,
    "start_time": "2024-08-09T19:15:47.223Z"
   },
   {
    "duration": 11,
    "start_time": "2024-08-09T19:15:47.554Z"
   },
   {
    "duration": 1367,
    "start_time": "2024-08-09T19:15:47.567Z"
   },
   {
    "duration": 1293,
    "start_time": "2024-08-09T19:15:48.936Z"
   },
   {
    "duration": 6,
    "start_time": "2024-08-09T19:15:50.232Z"
   },
   {
    "duration": 98,
    "start_time": "2024-08-09T19:15:50.240Z"
   },
   {
    "duration": 8,
    "start_time": "2024-08-09T19:19:19.759Z"
   },
   {
    "duration": 1105,
    "start_time": "2024-08-09T19:19:48.300Z"
   },
   {
    "duration": 75,
    "start_time": "2024-08-09T19:19:49.408Z"
   },
   {
    "duration": 11,
    "start_time": "2024-08-09T19:19:49.485Z"
   },
   {
    "duration": 35,
    "start_time": "2024-08-09T19:19:49.497Z"
   },
   {
    "duration": 9,
    "start_time": "2024-08-09T19:19:49.535Z"
   },
   {
    "duration": 40,
    "start_time": "2024-08-09T19:19:49.545Z"
   },
   {
    "duration": 9,
    "start_time": "2024-08-09T19:19:49.586Z"
   },
   {
    "duration": 43,
    "start_time": "2024-08-09T19:19:49.596Z"
   },
   {
    "duration": 28,
    "start_time": "2024-08-09T19:19:49.641Z"
   },
   {
    "duration": 15,
    "start_time": "2024-08-09T19:19:49.671Z"
   },
   {
    "duration": 8,
    "start_time": "2024-08-09T19:19:49.687Z"
   },
   {
    "duration": 10,
    "start_time": "2024-08-09T19:19:49.697Z"
   },
   {
    "duration": 5,
    "start_time": "2024-08-09T19:19:49.709Z"
   },
   {
    "duration": 6,
    "start_time": "2024-08-09T19:19:49.717Z"
   },
   {
    "duration": 42,
    "start_time": "2024-08-09T19:19:49.724Z"
   },
   {
    "duration": 8,
    "start_time": "2024-08-09T19:19:49.768Z"
   },
   {
    "duration": 10,
    "start_time": "2024-08-09T19:19:49.778Z"
   },
   {
    "duration": 28,
    "start_time": "2024-08-09T19:19:49.789Z"
   },
   {
    "duration": 187,
    "start_time": "2024-08-09T19:19:49.819Z"
   },
   {
    "duration": 13,
    "start_time": "2024-08-09T19:19:50.007Z"
   },
   {
    "duration": 137,
    "start_time": "2024-08-09T19:19:50.022Z"
   },
   {
    "duration": 12,
    "start_time": "2024-08-09T19:19:50.161Z"
   },
   {
    "duration": 291,
    "start_time": "2024-08-09T19:19:50.174Z"
   },
   {
    "duration": 6,
    "start_time": "2024-08-09T19:19:50.467Z"
   },
   {
    "duration": 310,
    "start_time": "2024-08-09T19:19:50.475Z"
   },
   {
    "duration": 7,
    "start_time": "2024-08-09T19:19:50.787Z"
   },
   {
    "duration": 285,
    "start_time": "2024-08-09T19:19:50.796Z"
   },
   {
    "duration": 9,
    "start_time": "2024-08-09T19:19:51.083Z"
   },
   {
    "duration": 48,
    "start_time": "2024-08-09T19:19:51.093Z"
   },
   {
    "duration": 15,
    "start_time": "2024-08-09T19:19:51.143Z"
   },
   {
    "duration": 15,
    "start_time": "2024-08-09T19:19:51.160Z"
   },
   {
    "duration": 692,
    "start_time": "2024-08-09T19:19:51.177Z"
   },
   {
    "duration": 9,
    "start_time": "2024-08-09T19:19:51.870Z"
   },
   {
    "duration": 645,
    "start_time": "2024-08-09T19:19:51.881Z"
   },
   {
    "duration": 10,
    "start_time": "2024-08-09T19:19:52.528Z"
   },
   {
    "duration": 48,
    "start_time": "2024-08-09T19:19:52.540Z"
   },
   {
    "duration": 3,
    "start_time": "2024-08-09T19:19:52.590Z"
   },
   {
    "duration": 236,
    "start_time": "2024-08-09T19:19:52.596Z"
   },
   {
    "duration": 616,
    "start_time": "2024-08-09T19:19:52.833Z"
   },
   {
    "duration": 15,
    "start_time": "2024-08-09T19:19:53.451Z"
   },
   {
    "duration": 13,
    "start_time": "2024-08-09T19:19:53.470Z"
   },
   {
    "duration": 9,
    "start_time": "2024-08-09T19:19:53.485Z"
   },
   {
    "duration": 13,
    "start_time": "2024-08-09T19:19:53.496Z"
   },
   {
    "duration": 10,
    "start_time": "2024-08-09T19:19:53.510Z"
   },
   {
    "duration": 339,
    "start_time": "2024-08-09T19:19:53.522Z"
   },
   {
    "duration": 6,
    "start_time": "2024-08-09T19:19:53.865Z"
   },
   {
    "duration": 1276,
    "start_time": "2024-08-09T19:19:53.873Z"
   },
   {
    "duration": 1270,
    "start_time": "2024-08-09T19:19:55.151Z"
   },
   {
    "duration": 5,
    "start_time": "2024-08-09T19:19:56.423Z"
   },
   {
    "duration": 9,
    "start_time": "2024-08-09T19:19:56.430Z"
   },
   {
    "duration": 19,
    "start_time": "2024-08-09T19:19:56.440Z"
   },
   {
    "duration": 5,
    "start_time": "2024-08-09T19:20:00.921Z"
   },
   {
    "duration": 9,
    "start_time": "2024-08-09T19:20:22.439Z"
   },
   {
    "duration": 7,
    "start_time": "2024-08-09T19:20:35.305Z"
   },
   {
    "duration": 7,
    "start_time": "2024-08-09T19:22:15.456Z"
   },
   {
    "duration": 6,
    "start_time": "2024-08-09T19:24:47.466Z"
   },
   {
    "duration": 6,
    "start_time": "2024-08-09T19:26:05.717Z"
   },
   {
    "duration": 7,
    "start_time": "2024-08-09T19:26:16.957Z"
   },
   {
    "duration": 8,
    "start_time": "2024-08-09T19:26:25.781Z"
   },
   {
    "duration": 7,
    "start_time": "2024-08-09T19:26:34.748Z"
   },
   {
    "duration": 6,
    "start_time": "2024-08-09T19:27:45.117Z"
   },
   {
    "duration": 8,
    "start_time": "2024-08-09T19:29:41.446Z"
   },
   {
    "duration": 6,
    "start_time": "2024-08-09T19:29:49.984Z"
   },
   {
    "duration": 8,
    "start_time": "2024-08-09T19:30:23.583Z"
   },
   {
    "duration": 6,
    "start_time": "2024-08-09T19:30:29.598Z"
   },
   {
    "duration": 6,
    "start_time": "2024-08-09T19:31:26.745Z"
   },
   {
    "duration": 9,
    "start_time": "2024-08-09T20:12:21.704Z"
   },
   {
    "duration": 6,
    "start_time": "2024-08-09T20:12:38.268Z"
   },
   {
    "duration": 6,
    "start_time": "2024-08-09T20:12:43.344Z"
   },
   {
    "duration": 6,
    "start_time": "2024-08-09T20:13:35.104Z"
   },
   {
    "duration": 6,
    "start_time": "2024-08-09T20:13:41.608Z"
   },
   {
    "duration": 6,
    "start_time": "2024-08-09T20:15:07.402Z"
   },
   {
    "duration": 241,
    "start_time": "2024-08-09T20:32:43.567Z"
   },
   {
    "duration": 255,
    "start_time": "2024-08-09T20:33:17.847Z"
   },
   {
    "duration": 280,
    "start_time": "2024-08-09T20:33:57.719Z"
   },
   {
    "duration": 366,
    "start_time": "2024-08-09T20:36:01.392Z"
   },
   {
    "duration": 493,
    "start_time": "2024-08-09T20:36:15.689Z"
   },
   {
    "duration": 496,
    "start_time": "2024-08-09T20:36:20.587Z"
   },
   {
    "duration": 1066,
    "start_time": "2024-08-09T20:37:04.857Z"
   },
   {
    "duration": 85,
    "start_time": "2024-08-09T20:37:05.925Z"
   },
   {
    "duration": 14,
    "start_time": "2024-08-09T20:37:06.011Z"
   },
   {
    "duration": 35,
    "start_time": "2024-08-09T20:37:06.027Z"
   },
   {
    "duration": 10,
    "start_time": "2024-08-09T20:37:06.065Z"
   },
   {
    "duration": 36,
    "start_time": "2024-08-09T20:37:06.077Z"
   },
   {
    "duration": 7,
    "start_time": "2024-08-09T20:37:06.115Z"
   },
   {
    "duration": 15,
    "start_time": "2024-08-09T20:37:06.124Z"
   },
   {
    "duration": 29,
    "start_time": "2024-08-09T20:37:06.140Z"
   },
   {
    "duration": 16,
    "start_time": "2024-08-09T20:37:06.171Z"
   },
   {
    "duration": 25,
    "start_time": "2024-08-09T20:37:06.188Z"
   },
   {
    "duration": 31,
    "start_time": "2024-08-09T20:37:06.215Z"
   },
   {
    "duration": 22,
    "start_time": "2024-08-09T20:37:06.247Z"
   },
   {
    "duration": 17,
    "start_time": "2024-08-09T20:37:06.272Z"
   },
   {
    "duration": 22,
    "start_time": "2024-08-09T20:37:06.291Z"
   },
   {
    "duration": 6,
    "start_time": "2024-08-09T20:37:06.315Z"
   },
   {
    "duration": 9,
    "start_time": "2024-08-09T20:37:06.323Z"
   },
   {
    "duration": 19,
    "start_time": "2024-08-09T20:37:06.334Z"
   },
   {
    "duration": 178,
    "start_time": "2024-08-09T20:37:06.355Z"
   },
   {
    "duration": 14,
    "start_time": "2024-08-09T20:37:06.535Z"
   },
   {
    "duration": 137,
    "start_time": "2024-08-09T20:37:06.551Z"
   },
   {
    "duration": 14,
    "start_time": "2024-08-09T20:37:06.690Z"
   },
   {
    "duration": 335,
    "start_time": "2024-08-09T20:37:06.706Z"
   },
   {
    "duration": 8,
    "start_time": "2024-08-09T20:37:07.043Z"
   },
   {
    "duration": 300,
    "start_time": "2024-08-09T20:37:07.064Z"
   },
   {
    "duration": 6,
    "start_time": "2024-08-09T20:37:07.366Z"
   },
   {
    "duration": 274,
    "start_time": "2024-08-09T20:37:07.374Z"
   },
   {
    "duration": 15,
    "start_time": "2024-08-09T20:37:07.650Z"
   },
   {
    "duration": 26,
    "start_time": "2024-08-09T20:37:07.667Z"
   },
   {
    "duration": 17,
    "start_time": "2024-08-09T20:37:07.695Z"
   },
   {
    "duration": 15,
    "start_time": "2024-08-09T20:37:07.714Z"
   },
   {
    "duration": 787,
    "start_time": "2024-08-09T20:37:07.731Z"
   },
   {
    "duration": 8,
    "start_time": "2024-08-09T20:37:08.519Z"
   },
   {
    "duration": 632,
    "start_time": "2024-08-09T20:37:08.529Z"
   },
   {
    "duration": 8,
    "start_time": "2024-08-09T20:37:09.164Z"
   },
   {
    "duration": 39,
    "start_time": "2024-08-09T20:37:09.173Z"
   },
   {
    "duration": 25,
    "start_time": "2024-08-09T20:37:09.214Z"
   },
   {
    "duration": 228,
    "start_time": "2024-08-09T20:37:09.241Z"
   },
   {
    "duration": 616,
    "start_time": "2024-08-09T20:37:09.471Z"
   },
   {
    "duration": 10,
    "start_time": "2024-08-09T20:37:10.089Z"
   },
   {
    "duration": 30,
    "start_time": "2024-08-09T20:37:10.104Z"
   },
   {
    "duration": 15,
    "start_time": "2024-08-09T20:37:10.136Z"
   },
   {
    "duration": 22,
    "start_time": "2024-08-09T20:37:10.153Z"
   },
   {
    "duration": 6,
    "start_time": "2024-08-09T20:37:10.176Z"
   },
   {
    "duration": 336,
    "start_time": "2024-08-09T20:37:10.184Z"
   },
   {
    "duration": 5,
    "start_time": "2024-08-09T20:37:10.522Z"
   },
   {
    "duration": 108,
    "start_time": "2024-08-09T20:37:10.529Z"
   },
   {
    "duration": 0,
    "start_time": "2024-08-09T20:37:10.638Z"
   },
   {
    "duration": 0,
    "start_time": "2024-08-09T20:37:10.640Z"
   },
   {
    "duration": 344,
    "start_time": "2024-08-09T20:37:23.105Z"
   },
   {
    "duration": 474,
    "start_time": "2024-08-09T20:37:44.626Z"
   },
   {
    "duration": 1081,
    "start_time": "2024-08-09T20:38:39.361Z"
   },
   {
    "duration": 83,
    "start_time": "2024-08-09T20:38:40.444Z"
   },
   {
    "duration": 18,
    "start_time": "2024-08-09T20:38:40.528Z"
   },
   {
    "duration": 44,
    "start_time": "2024-08-09T20:38:40.548Z"
   },
   {
    "duration": 15,
    "start_time": "2024-08-09T20:38:40.595Z"
   },
   {
    "duration": 18,
    "start_time": "2024-08-09T20:38:40.612Z"
   },
   {
    "duration": 8,
    "start_time": "2024-08-09T20:38:40.632Z"
   },
   {
    "duration": 27,
    "start_time": "2024-08-09T20:38:40.642Z"
   },
   {
    "duration": 85,
    "start_time": "2024-08-09T20:38:40.672Z"
   },
   {
    "duration": 18,
    "start_time": "2024-08-09T20:38:40.759Z"
   },
   {
    "duration": 12,
    "start_time": "2024-08-09T20:38:40.779Z"
   },
   {
    "duration": 15,
    "start_time": "2024-08-09T20:38:40.793Z"
   },
   {
    "duration": 7,
    "start_time": "2024-08-09T20:38:40.811Z"
   },
   {
    "duration": 6,
    "start_time": "2024-08-09T20:38:40.821Z"
   },
   {
    "duration": 44,
    "start_time": "2024-08-09T20:38:40.828Z"
   },
   {
    "duration": 6,
    "start_time": "2024-08-09T20:38:40.873Z"
   },
   {
    "duration": 11,
    "start_time": "2024-08-09T20:38:40.881Z"
   },
   {
    "duration": 20,
    "start_time": "2024-08-09T20:38:40.894Z"
   },
   {
    "duration": 207,
    "start_time": "2024-08-09T20:38:40.916Z"
   },
   {
    "duration": 14,
    "start_time": "2024-08-09T20:38:41.124Z"
   },
   {
    "duration": 135,
    "start_time": "2024-08-09T20:38:41.139Z"
   },
   {
    "duration": 12,
    "start_time": "2024-08-09T20:38:41.276Z"
   },
   {
    "duration": 294,
    "start_time": "2024-08-09T20:38:41.289Z"
   },
   {
    "duration": 7,
    "start_time": "2024-08-09T20:38:41.585Z"
   },
   {
    "duration": 322,
    "start_time": "2024-08-09T20:38:41.593Z"
   },
   {
    "duration": 9,
    "start_time": "2024-08-09T20:38:41.916Z"
   },
   {
    "duration": 291,
    "start_time": "2024-08-09T20:38:41.927Z"
   },
   {
    "duration": 9,
    "start_time": "2024-08-09T20:38:42.219Z"
   },
   {
    "duration": 56,
    "start_time": "2024-08-09T20:38:42.229Z"
   },
   {
    "duration": 22,
    "start_time": "2024-08-09T20:38:42.287Z"
   },
   {
    "duration": 18,
    "start_time": "2024-08-09T20:38:42.311Z"
   },
   {
    "duration": 734,
    "start_time": "2024-08-09T20:38:42.331Z"
   },
   {
    "duration": 7,
    "start_time": "2024-08-09T20:38:43.067Z"
   },
   {
    "duration": 605,
    "start_time": "2024-08-09T20:38:43.075Z"
   },
   {
    "duration": 8,
    "start_time": "2024-08-09T20:38:43.682Z"
   },
   {
    "duration": 39,
    "start_time": "2024-08-09T20:38:43.692Z"
   },
   {
    "duration": 4,
    "start_time": "2024-08-09T20:38:43.733Z"
   },
   {
    "duration": 286,
    "start_time": "2024-08-09T20:38:43.765Z"
   },
   {
    "duration": 662,
    "start_time": "2024-08-09T20:38:44.054Z"
   },
   {
    "duration": 10,
    "start_time": "2024-08-09T20:38:44.717Z"
   },
   {
    "duration": 21,
    "start_time": "2024-08-09T20:38:44.731Z"
   },
   {
    "duration": 14,
    "start_time": "2024-08-09T20:38:44.754Z"
   },
   {
    "duration": 6,
    "start_time": "2024-08-09T20:38:44.770Z"
   },
   {
    "duration": 6,
    "start_time": "2024-08-09T20:38:44.777Z"
   },
   {
    "duration": 328,
    "start_time": "2024-08-09T20:38:44.785Z"
   },
   {
    "duration": 7,
    "start_time": "2024-08-09T20:38:45.115Z"
   },
   {
    "duration": 643,
    "start_time": "2024-08-09T20:38:45.123Z"
   },
   {
    "duration": 114,
    "start_time": "2024-08-09T20:39:19.337Z"
   },
   {
    "duration": 1008,
    "start_time": "2024-08-09T20:39:32.885Z"
   },
   {
    "duration": 80,
    "start_time": "2024-08-09T20:39:33.896Z"
   },
   {
    "duration": 14,
    "start_time": "2024-08-09T20:39:33.978Z"
   },
   {
    "duration": 28,
    "start_time": "2024-08-09T20:39:33.993Z"
   },
   {
    "duration": 9,
    "start_time": "2024-08-09T20:39:34.023Z"
   },
   {
    "duration": 23,
    "start_time": "2024-08-09T20:39:34.033Z"
   },
   {
    "duration": 7,
    "start_time": "2024-08-09T20:39:34.057Z"
   },
   {
    "duration": 47,
    "start_time": "2024-08-09T20:39:34.065Z"
   },
   {
    "duration": 12,
    "start_time": "2024-08-09T20:39:34.114Z"
   },
   {
    "duration": 16,
    "start_time": "2024-08-09T20:39:34.128Z"
   },
   {
    "duration": 13,
    "start_time": "2024-08-09T20:39:34.146Z"
   },
   {
    "duration": 17,
    "start_time": "2024-08-09T20:39:34.161Z"
   },
   {
    "duration": 11,
    "start_time": "2024-08-09T20:39:34.180Z"
   },
   {
    "duration": 6,
    "start_time": "2024-08-09T20:39:34.196Z"
   },
   {
    "duration": 23,
    "start_time": "2024-08-09T20:39:34.204Z"
   },
   {
    "duration": 9,
    "start_time": "2024-08-09T20:39:34.229Z"
   },
   {
    "duration": 7,
    "start_time": "2024-08-09T20:39:34.240Z"
   },
   {
    "duration": 29,
    "start_time": "2024-08-09T20:39:34.249Z"
   },
   {
    "duration": 181,
    "start_time": "2024-08-09T20:39:34.280Z"
   },
   {
    "duration": 20,
    "start_time": "2024-08-09T20:39:34.463Z"
   },
   {
    "duration": 160,
    "start_time": "2024-08-09T20:39:34.485Z"
   },
   {
    "duration": 23,
    "start_time": "2024-08-09T20:39:34.648Z"
   },
   {
    "duration": 366,
    "start_time": "2024-08-09T20:39:34.673Z"
   },
   {
    "duration": 8,
    "start_time": "2024-08-09T20:39:35.041Z"
   },
   {
    "duration": 281,
    "start_time": "2024-08-09T20:39:35.050Z"
   },
   {
    "duration": 6,
    "start_time": "2024-08-09T20:39:35.333Z"
   },
   {
    "duration": 301,
    "start_time": "2024-08-09T20:39:35.340Z"
   },
   {
    "duration": 7,
    "start_time": "2024-08-09T20:39:35.643Z"
   },
   {
    "duration": 29,
    "start_time": "2024-08-09T20:39:35.664Z"
   },
   {
    "duration": 15,
    "start_time": "2024-08-09T20:39:35.694Z"
   },
   {
    "duration": 17,
    "start_time": "2024-08-09T20:39:35.711Z"
   },
   {
    "duration": 762,
    "start_time": "2024-08-09T20:39:35.731Z"
   },
   {
    "duration": 10,
    "start_time": "2024-08-09T20:39:36.495Z"
   },
   {
    "duration": 697,
    "start_time": "2024-08-09T20:39:36.507Z"
   },
   {
    "duration": 7,
    "start_time": "2024-08-09T20:39:37.206Z"
   },
   {
    "duration": 88,
    "start_time": "2024-08-09T20:39:37.215Z"
   },
   {
    "duration": 4,
    "start_time": "2024-08-09T20:39:37.305Z"
   },
   {
    "duration": 271,
    "start_time": "2024-08-09T20:39:37.311Z"
   },
   {
    "duration": 872,
    "start_time": "2024-08-09T20:39:37.584Z"
   },
   {
    "duration": 14,
    "start_time": "2024-08-09T20:39:38.458Z"
   },
   {
    "duration": 7,
    "start_time": "2024-08-09T20:39:38.478Z"
   },
   {
    "duration": 12,
    "start_time": "2024-08-09T20:39:38.487Z"
   },
   {
    "duration": 7,
    "start_time": "2024-08-09T20:39:38.501Z"
   },
   {
    "duration": 6,
    "start_time": "2024-08-09T20:39:38.509Z"
   },
   {
    "duration": 395,
    "start_time": "2024-08-09T20:39:38.516Z"
   },
   {
    "duration": 5,
    "start_time": "2024-08-09T20:39:38.913Z"
   },
   {
    "duration": 585,
    "start_time": "2024-08-09T20:39:38.920Z"
   },
   {
    "duration": 1082,
    "start_time": "2024-08-09T20:39:54.235Z"
   },
   {
    "duration": 81,
    "start_time": "2024-08-09T20:39:55.319Z"
   },
   {
    "duration": 12,
    "start_time": "2024-08-09T20:39:55.402Z"
   },
   {
    "duration": 52,
    "start_time": "2024-08-09T20:39:55.416Z"
   },
   {
    "duration": 13,
    "start_time": "2024-08-09T20:39:55.470Z"
   },
   {
    "duration": 29,
    "start_time": "2024-08-09T20:39:55.485Z"
   },
   {
    "duration": 15,
    "start_time": "2024-08-09T20:39:55.516Z"
   },
   {
    "duration": 61,
    "start_time": "2024-08-09T20:39:55.533Z"
   },
   {
    "duration": 30,
    "start_time": "2024-08-09T20:39:55.596Z"
   },
   {
    "duration": 50,
    "start_time": "2024-08-09T20:39:55.630Z"
   },
   {
    "duration": 20,
    "start_time": "2024-08-09T20:39:55.683Z"
   },
   {
    "duration": 11,
    "start_time": "2024-08-09T20:39:55.705Z"
   },
   {
    "duration": 18,
    "start_time": "2024-08-09T20:39:55.717Z"
   },
   {
    "duration": 20,
    "start_time": "2024-08-09T20:39:55.737Z"
   },
   {
    "duration": 28,
    "start_time": "2024-08-09T20:39:55.759Z"
   },
   {
    "duration": 22,
    "start_time": "2024-08-09T20:39:55.789Z"
   },
   {
    "duration": 12,
    "start_time": "2024-08-09T20:39:55.813Z"
   },
   {
    "duration": 21,
    "start_time": "2024-08-09T20:39:55.827Z"
   },
   {
    "duration": 198,
    "start_time": "2024-08-09T20:39:55.850Z"
   },
   {
    "duration": 22,
    "start_time": "2024-08-09T20:39:56.050Z"
   },
   {
    "duration": 132,
    "start_time": "2024-08-09T20:39:56.074Z"
   },
   {
    "duration": 16,
    "start_time": "2024-08-09T20:39:56.208Z"
   },
   {
    "duration": 297,
    "start_time": "2024-08-09T20:39:56.226Z"
   },
   {
    "duration": 7,
    "start_time": "2024-08-09T20:39:56.525Z"
   },
   {
    "duration": 348,
    "start_time": "2024-08-09T20:39:56.534Z"
   },
   {
    "duration": 7,
    "start_time": "2024-08-09T20:39:56.884Z"
   },
   {
    "duration": 311,
    "start_time": "2024-08-09T20:39:56.893Z"
   },
   {
    "duration": 8,
    "start_time": "2024-08-09T20:39:57.208Z"
   },
   {
    "duration": 101,
    "start_time": "2024-08-09T20:39:57.218Z"
   },
   {
    "duration": 82,
    "start_time": "2024-08-09T20:39:57.320Z"
   },
   {
    "duration": 55,
    "start_time": "2024-08-09T20:39:57.404Z"
   },
   {
    "duration": 748,
    "start_time": "2024-08-09T20:39:57.461Z"
   },
   {
    "duration": 10,
    "start_time": "2024-08-09T20:39:58.212Z"
   },
   {
    "duration": 723,
    "start_time": "2024-08-09T20:39:58.224Z"
   },
   {
    "duration": 16,
    "start_time": "2024-08-09T20:39:58.949Z"
   },
   {
    "duration": 61,
    "start_time": "2024-08-09T20:39:58.967Z"
   },
   {
    "duration": 3,
    "start_time": "2024-08-09T20:39:59.030Z"
   },
   {
    "duration": 252,
    "start_time": "2024-08-09T20:39:59.035Z"
   },
   {
    "duration": 642,
    "start_time": "2024-08-09T20:39:59.289Z"
   },
   {
    "duration": 12,
    "start_time": "2024-08-09T20:39:59.933Z"
   },
   {
    "duration": 24,
    "start_time": "2024-08-09T20:39:59.947Z"
   },
   {
    "duration": 53,
    "start_time": "2024-08-09T20:39:59.973Z"
   },
   {
    "duration": 85,
    "start_time": "2024-08-09T20:40:00.028Z"
   },
   {
    "duration": 57,
    "start_time": "2024-08-09T20:40:00.115Z"
   },
   {
    "duration": 353,
    "start_time": "2024-08-09T20:40:00.174Z"
   },
   {
    "duration": 8,
    "start_time": "2024-08-09T20:40:00.529Z"
   },
   {
    "duration": 676,
    "start_time": "2024-08-09T20:40:00.539Z"
   },
   {
    "duration": 1034,
    "start_time": "2024-08-09T20:40:11.304Z"
   },
   {
    "duration": 90,
    "start_time": "2024-08-09T20:40:12.340Z"
   },
   {
    "duration": 13,
    "start_time": "2024-08-09T20:40:12.432Z"
   },
   {
    "duration": 41,
    "start_time": "2024-08-09T20:40:12.446Z"
   },
   {
    "duration": 11,
    "start_time": "2024-08-09T20:40:12.489Z"
   },
   {
    "duration": 27,
    "start_time": "2024-08-09T20:40:12.501Z"
   },
   {
    "duration": 8,
    "start_time": "2024-08-09T20:40:12.529Z"
   },
   {
    "duration": 35,
    "start_time": "2024-08-09T20:40:12.539Z"
   },
   {
    "duration": 33,
    "start_time": "2024-08-09T20:40:12.576Z"
   },
   {
    "duration": 16,
    "start_time": "2024-08-09T20:40:12.612Z"
   },
   {
    "duration": 35,
    "start_time": "2024-08-09T20:40:12.629Z"
   },
   {
    "duration": 99,
    "start_time": "2024-08-09T20:40:12.666Z"
   },
   {
    "duration": 24,
    "start_time": "2024-08-09T20:40:12.767Z"
   },
   {
    "duration": 27,
    "start_time": "2024-08-09T20:40:12.796Z"
   },
   {
    "duration": 15,
    "start_time": "2024-08-09T20:40:12.825Z"
   },
   {
    "duration": 8,
    "start_time": "2024-08-09T20:40:12.842Z"
   },
   {
    "duration": 11,
    "start_time": "2024-08-09T20:40:12.853Z"
   },
   {
    "duration": 33,
    "start_time": "2024-08-09T20:40:12.866Z"
   },
   {
    "duration": 258,
    "start_time": "2024-08-09T20:40:12.901Z"
   },
   {
    "duration": 17,
    "start_time": "2024-08-09T20:40:13.162Z"
   },
   {
    "duration": 200,
    "start_time": "2024-08-09T20:40:13.181Z"
   },
   {
    "duration": 16,
    "start_time": "2024-08-09T20:40:13.383Z"
   },
   {
    "duration": 329,
    "start_time": "2024-08-09T20:40:13.400Z"
   },
   {
    "duration": 6,
    "start_time": "2024-08-09T20:40:13.731Z"
   },
   {
    "duration": 309,
    "start_time": "2024-08-09T20:40:13.739Z"
   },
   {
    "duration": 8,
    "start_time": "2024-08-09T20:40:14.050Z"
   },
   {
    "duration": 266,
    "start_time": "2024-08-09T20:40:14.065Z"
   },
   {
    "duration": 7,
    "start_time": "2024-08-09T20:40:14.333Z"
   },
   {
    "duration": 52,
    "start_time": "2024-08-09T20:40:14.342Z"
   },
   {
    "duration": 18,
    "start_time": "2024-08-09T20:40:14.396Z"
   },
   {
    "duration": 27,
    "start_time": "2024-08-09T20:40:14.415Z"
   },
   {
    "duration": 712,
    "start_time": "2024-08-09T20:40:14.444Z"
   },
   {
    "duration": 9,
    "start_time": "2024-08-09T20:40:15.158Z"
   },
   {
    "duration": 629,
    "start_time": "2024-08-09T20:40:15.169Z"
   },
   {
    "duration": 9,
    "start_time": "2024-08-09T20:40:15.800Z"
   },
   {
    "duration": 99,
    "start_time": "2024-08-09T20:40:15.811Z"
   },
   {
    "duration": 4,
    "start_time": "2024-08-09T20:40:15.912Z"
   },
   {
    "duration": 242,
    "start_time": "2024-08-09T20:40:15.918Z"
   },
   {
    "duration": 611,
    "start_time": "2024-08-09T20:40:16.165Z"
   },
   {
    "duration": 25,
    "start_time": "2024-08-09T20:40:16.778Z"
   },
   {
    "duration": 11,
    "start_time": "2024-08-09T20:40:16.810Z"
   },
   {
    "duration": 35,
    "start_time": "2024-08-09T20:40:16.825Z"
   },
   {
    "duration": 34,
    "start_time": "2024-08-09T20:40:16.862Z"
   },
   {
    "duration": 15,
    "start_time": "2024-08-09T20:40:16.897Z"
   },
   {
    "duration": 363,
    "start_time": "2024-08-09T20:40:16.914Z"
   },
   {
    "duration": 6,
    "start_time": "2024-08-09T20:40:17.279Z"
   },
   {
    "duration": 619,
    "start_time": "2024-08-09T20:40:17.286Z"
   },
   {
    "duration": 697,
    "start_time": "2024-08-09T20:40:38.911Z"
   },
   {
    "duration": 658,
    "start_time": "2024-08-09T20:40:55.631Z"
   },
   {
    "duration": 35548,
    "start_time": "2024-08-09T20:45:07.535Z"
   },
   {
    "duration": 36074,
    "start_time": "2024-08-09T20:46:05.218Z"
   },
   {
    "duration": 1220,
    "start_time": "2024-08-10T12:47:59.380Z"
   },
   {
    "duration": 135,
    "start_time": "2024-08-10T12:48:00.602Z"
   },
   {
    "duration": 12,
    "start_time": "2024-08-10T12:48:00.739Z"
   },
   {
    "duration": 243,
    "start_time": "2024-08-10T12:48:00.754Z"
   },
   {
    "duration": 9,
    "start_time": "2024-08-10T12:48:00.999Z"
   },
   {
    "duration": 128,
    "start_time": "2024-08-10T12:48:01.009Z"
   },
   {
    "duration": 7,
    "start_time": "2024-08-10T12:48:01.139Z"
   },
   {
    "duration": 42,
    "start_time": "2024-08-10T12:48:01.148Z"
   },
   {
    "duration": 32,
    "start_time": "2024-08-10T12:48:01.192Z"
   },
   {
    "duration": 22,
    "start_time": "2024-08-10T12:48:01.227Z"
   },
   {
    "duration": 39,
    "start_time": "2024-08-10T12:48:01.251Z"
   },
   {
    "duration": 48,
    "start_time": "2024-08-10T12:48:01.292Z"
   },
   {
    "duration": 38,
    "start_time": "2024-08-10T12:48:01.341Z"
   },
   {
    "duration": 39,
    "start_time": "2024-08-10T12:48:01.381Z"
   },
   {
    "duration": 42,
    "start_time": "2024-08-10T12:48:01.422Z"
   },
   {
    "duration": 18,
    "start_time": "2024-08-10T12:48:01.466Z"
   },
   {
    "duration": 89,
    "start_time": "2024-08-10T12:48:01.486Z"
   },
   {
    "duration": 19,
    "start_time": "2024-08-10T12:48:01.576Z"
   },
   {
    "duration": 192,
    "start_time": "2024-08-10T12:48:01.596Z"
   },
   {
    "duration": 15,
    "start_time": "2024-08-10T12:48:01.790Z"
   },
   {
    "duration": 127,
    "start_time": "2024-08-10T12:48:01.818Z"
   },
   {
    "duration": 13,
    "start_time": "2024-08-10T12:48:01.948Z"
   },
   {
    "duration": 302,
    "start_time": "2024-08-10T12:48:01.962Z"
   },
   {
    "duration": 6,
    "start_time": "2024-08-10T12:48:02.266Z"
   },
   {
    "duration": 278,
    "start_time": "2024-08-10T12:48:02.273Z"
   },
   {
    "duration": 6,
    "start_time": "2024-08-10T12:48:02.553Z"
   },
   {
    "duration": 268,
    "start_time": "2024-08-10T12:48:02.560Z"
   },
   {
    "duration": 7,
    "start_time": "2024-08-10T12:48:02.832Z"
   },
   {
    "duration": 36,
    "start_time": "2024-08-10T12:48:02.841Z"
   },
   {
    "duration": 15,
    "start_time": "2024-08-10T12:48:02.879Z"
   },
   {
    "duration": 29,
    "start_time": "2024-08-10T12:48:02.896Z"
   },
   {
    "duration": 742,
    "start_time": "2024-08-10T12:48:02.927Z"
   },
   {
    "duration": 11,
    "start_time": "2024-08-10T12:48:03.671Z"
   },
   {
    "duration": 626,
    "start_time": "2024-08-10T12:48:03.684Z"
   },
   {
    "duration": 11,
    "start_time": "2024-08-10T12:48:04.311Z"
   },
   {
    "duration": 30,
    "start_time": "2024-08-10T12:48:04.323Z"
   },
   {
    "duration": 2,
    "start_time": "2024-08-10T12:48:04.355Z"
   },
   {
    "duration": 227,
    "start_time": "2024-08-10T12:48:04.359Z"
   },
   {
    "duration": 626,
    "start_time": "2024-08-10T12:48:04.588Z"
   },
   {
    "duration": 14,
    "start_time": "2024-08-10T12:48:05.221Z"
   },
   {
    "duration": 5,
    "start_time": "2024-08-10T12:48:05.237Z"
   },
   {
    "duration": 17,
    "start_time": "2024-08-10T12:48:05.244Z"
   },
   {
    "duration": 14,
    "start_time": "2024-08-10T12:48:05.263Z"
   },
   {
    "duration": 6,
    "start_time": "2024-08-10T12:48:05.279Z"
   },
   {
    "duration": 310,
    "start_time": "2024-08-10T12:48:05.287Z"
   },
   {
    "duration": 6,
    "start_time": "2024-08-10T12:48:05.599Z"
   },
   {
    "duration": 35192,
    "start_time": "2024-08-10T12:48:05.606Z"
   },
   {
    "duration": 4,
    "start_time": "2024-08-10T13:00:17.704Z"
   },
   {
    "duration": 3,
    "start_time": "2024-08-10T13:00:41.759Z"
   },
   {
    "duration": 103,
    "start_time": "2024-08-10T13:00:58.310Z"
   },
   {
    "duration": 4,
    "start_time": "2024-08-10T13:01:15.952Z"
   },
   {
    "duration": 185,
    "start_time": "2024-08-10T13:01:17.063Z"
   },
   {
    "duration": 3,
    "start_time": "2024-08-10T13:05:22.132Z"
   },
   {
    "duration": 5,
    "start_time": "2024-08-10T13:11:01.110Z"
   },
   {
    "duration": 5,
    "start_time": "2024-08-10T13:11:03.975Z"
   },
   {
    "duration": 58,
    "start_time": "2024-08-10T13:15:00.903Z"
   },
   {
    "duration": 841,
    "start_time": "2024-08-10T13:15:06.968Z"
   },
   {
    "duration": 1143,
    "start_time": "2024-08-10T13:15:39.260Z"
   },
   {
    "duration": 2047,
    "start_time": "2024-08-10T13:15:52.363Z"
   },
   {
    "duration": 4,
    "start_time": "2024-08-10T13:16:14.267Z"
   },
   {
    "duration": 5,
    "start_time": "2024-08-10T13:16:53.748Z"
   },
   {
    "duration": 6,
    "start_time": "2024-08-10T13:16:59.745Z"
   },
   {
    "duration": 6,
    "start_time": "2024-08-10T13:17:04.370Z"
   },
   {
    "duration": 5,
    "start_time": "2024-08-10T13:17:09.736Z"
   },
   {
    "duration": 6,
    "start_time": "2024-08-10T13:17:14.858Z"
   },
   {
    "duration": 4,
    "start_time": "2024-08-10T13:17:21.324Z"
   },
   {
    "duration": 1791,
    "start_time": "2024-08-10T13:18:01.469Z"
   },
   {
    "duration": 704,
    "start_time": "2024-08-10T13:18:24.546Z"
   },
   {
    "duration": 810,
    "start_time": "2024-08-10T13:21:24.329Z"
   },
   {
    "duration": 1140,
    "start_time": "2024-08-10T13:23:24.371Z"
   },
   {
    "duration": 866,
    "start_time": "2024-08-10T13:24:02.210Z"
   },
   {
    "duration": 851,
    "start_time": "2024-08-10T13:25:15.804Z"
   },
   {
    "duration": 860,
    "start_time": "2024-08-10T13:25:24.697Z"
   },
   {
    "duration": 902,
    "start_time": "2024-08-10T13:26:22.156Z"
   },
   {
    "duration": 834,
    "start_time": "2024-08-10T13:26:32.066Z"
   },
   {
    "duration": 917,
    "start_time": "2024-08-10T13:26:46.898Z"
   },
   {
    "duration": 15838,
    "start_time": "2024-08-10T13:27:51.846Z"
   },
   {
    "duration": 159,
    "start_time": "2024-08-10T13:28:41.060Z"
   },
   {
    "duration": 728,
    "start_time": "2024-08-10T13:28:56.901Z"
   },
   {
    "duration": 908,
    "start_time": "2024-08-10T13:29:04.090Z"
   },
   {
    "duration": 370,
    "start_time": "2024-08-10T13:29:53.191Z"
   },
   {
    "duration": 878,
    "start_time": "2024-08-10T13:30:11.230Z"
   },
   {
    "duration": 238,
    "start_time": "2024-08-10T13:31:01.237Z"
   },
   {
    "duration": 214,
    "start_time": "2024-08-10T13:31:46.558Z"
   },
   {
    "duration": 310,
    "start_time": "2024-08-10T13:33:06.577Z"
   },
   {
    "duration": 258,
    "start_time": "2024-08-10T13:34:15.305Z"
   },
   {
    "duration": 209,
    "start_time": "2024-08-10T13:34:42.657Z"
   },
   {
    "duration": 32,
    "start_time": "2024-08-10T13:35:16.536Z"
   },
   {
    "duration": 255,
    "start_time": "2024-08-10T13:35:42.091Z"
   },
   {
    "duration": 275,
    "start_time": "2024-08-10T13:36:05.313Z"
   },
   {
    "duration": 106,
    "start_time": "2024-08-10T13:36:41.825Z"
   },
   {
    "duration": 112,
    "start_time": "2024-08-10T13:36:52.033Z"
   },
   {
    "duration": 257,
    "start_time": "2024-08-10T13:37:04.595Z"
   },
   {
    "duration": 265,
    "start_time": "2024-08-10T13:37:50.003Z"
   },
   {
    "duration": 105,
    "start_time": "2024-08-10T13:41:17.096Z"
   },
   {
    "duration": 257,
    "start_time": "2024-08-10T13:42:07.484Z"
   },
   {
    "duration": 201,
    "start_time": "2024-08-10T13:43:46.273Z"
   },
   {
    "duration": 299,
    "start_time": "2024-08-10T13:43:55.721Z"
   },
   {
    "duration": 4,
    "start_time": "2024-08-10T13:51:30.055Z"
   },
   {
    "duration": 673,
    "start_time": "2024-08-10T13:51:34.031Z"
   },
   {
    "duration": 322,
    "start_time": "2024-08-10T13:51:37.101Z"
   },
   {
    "duration": 4,
    "start_time": "2024-08-10T13:54:23.784Z"
   },
   {
    "duration": 713,
    "start_time": "2024-08-10T13:54:24.424Z"
   },
   {
    "duration": 284,
    "start_time": "2024-08-10T13:54:26.239Z"
   },
   {
    "duration": 5,
    "start_time": "2024-08-10T13:56:33.601Z"
   },
   {
    "duration": 2576,
    "start_time": "2024-08-10T13:57:15.298Z"
   },
   {
    "duration": 139,
    "start_time": "2024-08-10T13:59:08.732Z"
   },
   {
    "duration": 35501,
    "start_time": "2024-08-10T13:59:29.516Z"
   },
   {
    "duration": 2558,
    "start_time": "2024-08-10T14:04:53.760Z"
   },
   {
    "duration": 381,
    "start_time": "2024-08-10T14:06:46.601Z"
   },
   {
    "duration": 998,
    "start_time": "2024-08-10T14:30:28.871Z"
   },
   {
    "duration": 83,
    "start_time": "2024-08-10T14:30:29.871Z"
   },
   {
    "duration": 14,
    "start_time": "2024-08-10T14:30:29.956Z"
   },
   {
    "duration": 37,
    "start_time": "2024-08-10T14:30:29.973Z"
   },
   {
    "duration": 10,
    "start_time": "2024-08-10T14:30:30.013Z"
   },
   {
    "duration": 40,
    "start_time": "2024-08-10T14:30:30.025Z"
   },
   {
    "duration": 9,
    "start_time": "2024-08-10T14:30:30.068Z"
   },
   {
    "duration": 41,
    "start_time": "2024-08-10T14:30:30.079Z"
   },
   {
    "duration": 69,
    "start_time": "2024-08-10T14:30:30.122Z"
   },
   {
    "duration": 37,
    "start_time": "2024-08-10T14:30:30.193Z"
   },
   {
    "duration": 65,
    "start_time": "2024-08-10T14:30:30.232Z"
   },
   {
    "duration": 50,
    "start_time": "2024-08-10T14:30:30.299Z"
   },
   {
    "duration": 37,
    "start_time": "2024-08-10T14:30:30.351Z"
   },
   {
    "duration": 35,
    "start_time": "2024-08-10T14:30:30.390Z"
   },
   {
    "duration": 41,
    "start_time": "2024-08-10T14:30:30.427Z"
   },
   {
    "duration": 39,
    "start_time": "2024-08-10T14:30:30.469Z"
   },
   {
    "duration": 74,
    "start_time": "2024-08-10T14:30:30.510Z"
   },
   {
    "duration": 42,
    "start_time": "2024-08-10T14:30:30.586Z"
   },
   {
    "duration": 263,
    "start_time": "2024-08-10T14:30:30.630Z"
   },
   {
    "duration": 14,
    "start_time": "2024-08-10T14:30:30.895Z"
   },
   {
    "duration": 144,
    "start_time": "2024-08-10T14:30:30.918Z"
   },
   {
    "duration": 13,
    "start_time": "2024-08-10T14:30:31.064Z"
   },
   {
    "duration": 304,
    "start_time": "2024-08-10T14:30:31.078Z"
   },
   {
    "duration": 6,
    "start_time": "2024-08-10T14:30:31.384Z"
   },
   {
    "duration": 351,
    "start_time": "2024-08-10T14:30:31.392Z"
   },
   {
    "duration": 7,
    "start_time": "2024-08-10T14:30:31.745Z"
   },
   {
    "duration": 274,
    "start_time": "2024-08-10T14:30:31.754Z"
   },
   {
    "duration": 6,
    "start_time": "2024-08-10T14:30:32.031Z"
   },
   {
    "duration": 24,
    "start_time": "2024-08-10T14:30:32.039Z"
   },
   {
    "duration": 16,
    "start_time": "2024-08-10T14:30:32.065Z"
   },
   {
    "duration": 39,
    "start_time": "2024-08-10T14:30:32.082Z"
   },
   {
    "duration": 685,
    "start_time": "2024-08-10T14:30:32.123Z"
   },
   {
    "duration": 8,
    "start_time": "2024-08-10T14:30:32.817Z"
   },
   {
    "duration": 615,
    "start_time": "2024-08-10T14:30:32.827Z"
   },
   {
    "duration": 8,
    "start_time": "2024-08-10T14:30:33.443Z"
   },
   {
    "duration": 35,
    "start_time": "2024-08-10T14:30:33.452Z"
   },
   {
    "duration": 3,
    "start_time": "2024-08-10T14:30:33.489Z"
   },
   {
    "duration": 220,
    "start_time": "2024-08-10T14:30:33.493Z"
   },
   {
    "duration": 600,
    "start_time": "2024-08-10T14:30:33.715Z"
   },
   {
    "duration": 9,
    "start_time": "2024-08-10T14:30:34.318Z"
   },
   {
    "duration": 6,
    "start_time": "2024-08-10T14:30:34.329Z"
   },
   {
    "duration": 6,
    "start_time": "2024-08-10T14:30:34.337Z"
   },
   {
    "duration": 7,
    "start_time": "2024-08-10T14:30:34.345Z"
   },
   {
    "duration": 5,
    "start_time": "2024-08-10T14:30:34.354Z"
   },
   {
    "duration": 350,
    "start_time": "2024-08-10T14:30:34.361Z"
   },
   {
    "duration": 5,
    "start_time": "2024-08-10T14:30:34.713Z"
   },
   {
    "duration": 5,
    "start_time": "2024-08-10T14:30:34.720Z"
   },
   {
    "duration": 842,
    "start_time": "2024-08-10T14:30:34.726Z"
   },
   {
    "duration": 394,
    "start_time": "2024-08-10T14:30:35.570Z"
   },
   {
    "duration": 6,
    "start_time": "2024-08-10T14:30:35.966Z"
   },
   {
    "duration": 398,
    "start_time": "2024-08-10T14:30:35.974Z"
   },
   {
    "duration": 50,
    "start_time": "2024-08-11T05:05:05.086Z"
   },
   {
    "duration": 7,
    "start_time": "2024-08-11T05:05:06.911Z"
   },
   {
    "duration": 1036,
    "start_time": "2024-08-11T05:05:13.058Z"
   },
   {
    "duration": 127,
    "start_time": "2024-08-11T05:05:14.096Z"
   },
   {
    "duration": 16,
    "start_time": "2024-08-11T05:05:14.224Z"
   },
   {
    "duration": 170,
    "start_time": "2024-08-11T05:05:14.242Z"
   },
   {
    "duration": 8,
    "start_time": "2024-08-11T05:05:14.415Z"
   },
   {
    "duration": 75,
    "start_time": "2024-08-11T05:05:14.425Z"
   },
   {
    "duration": 7,
    "start_time": "2024-08-11T05:05:14.501Z"
   },
   {
    "duration": 37,
    "start_time": "2024-08-11T05:05:14.509Z"
   },
   {
    "duration": 32,
    "start_time": "2024-08-11T05:05:14.547Z"
   },
   {
    "duration": 31,
    "start_time": "2024-08-11T05:05:14.580Z"
   },
   {
    "duration": 20,
    "start_time": "2024-08-11T05:05:14.613Z"
   },
   {
    "duration": 97,
    "start_time": "2024-08-11T05:05:14.635Z"
   },
   {
    "duration": 32,
    "start_time": "2024-08-11T05:05:14.733Z"
   },
   {
    "duration": 38,
    "start_time": "2024-08-11T05:05:14.768Z"
   },
   {
    "duration": 18,
    "start_time": "2024-08-11T05:05:14.807Z"
   },
   {
    "duration": 6,
    "start_time": "2024-08-11T05:05:14.826Z"
   },
   {
    "duration": 18,
    "start_time": "2024-08-11T05:05:14.833Z"
   },
   {
    "duration": 14,
    "start_time": "2024-08-11T05:05:14.852Z"
   },
   {
    "duration": 174,
    "start_time": "2024-08-11T05:05:14.868Z"
   },
   {
    "duration": 20,
    "start_time": "2024-08-11T05:05:15.043Z"
   },
   {
    "duration": 162,
    "start_time": "2024-08-11T05:05:15.064Z"
   },
   {
    "duration": 64,
    "start_time": "2024-08-11T05:05:15.228Z"
   },
   {
    "duration": 310,
    "start_time": "2024-08-11T05:05:15.295Z"
   },
   {
    "duration": 6,
    "start_time": "2024-08-11T05:05:15.607Z"
   },
   {
    "duration": 269,
    "start_time": "2024-08-11T05:05:15.614Z"
   },
   {
    "duration": 6,
    "start_time": "2024-08-11T05:05:15.884Z"
   },
   {
    "duration": 254,
    "start_time": "2024-08-11T05:05:15.891Z"
   },
   {
    "duration": 7,
    "start_time": "2024-08-11T05:05:16.152Z"
   },
   {
    "duration": 36,
    "start_time": "2024-08-11T05:05:16.161Z"
   },
   {
    "duration": 15,
    "start_time": "2024-08-11T05:05:16.199Z"
   },
   {
    "duration": 15,
    "start_time": "2024-08-11T05:05:16.216Z"
   },
   {
    "duration": 696,
    "start_time": "2024-08-11T05:05:16.232Z"
   },
   {
    "duration": 7,
    "start_time": "2024-08-11T05:05:16.930Z"
   },
   {
    "duration": 610,
    "start_time": "2024-08-11T05:05:16.938Z"
   },
   {
    "duration": 7,
    "start_time": "2024-08-11T05:05:17.550Z"
   },
   {
    "duration": 33,
    "start_time": "2024-08-11T05:05:17.559Z"
   },
   {
    "duration": 3,
    "start_time": "2024-08-11T05:05:17.594Z"
   },
   {
    "duration": 210,
    "start_time": "2024-08-11T05:05:17.598Z"
   },
   {
    "duration": 621,
    "start_time": "2024-08-11T05:05:17.810Z"
   },
   {
    "duration": 9,
    "start_time": "2024-08-11T05:05:18.432Z"
   },
   {
    "duration": 6,
    "start_time": "2024-08-11T05:05:18.455Z"
   },
   {
    "duration": 7,
    "start_time": "2024-08-11T05:05:18.462Z"
   },
   {
    "duration": 11,
    "start_time": "2024-08-11T05:05:18.470Z"
   },
   {
    "duration": 8,
    "start_time": "2024-08-11T05:05:18.483Z"
   },
   {
    "duration": 309,
    "start_time": "2024-08-11T05:05:18.493Z"
   },
   {
    "duration": 5,
    "start_time": "2024-08-11T05:05:18.803Z"
   },
   {
    "duration": 18,
    "start_time": "2024-08-11T05:05:18.809Z"
   },
   {
    "duration": 770,
    "start_time": "2024-08-11T05:05:18.829Z"
   },
   {
    "duration": 269,
    "start_time": "2024-08-11T05:05:19.601Z"
   },
   {
    "duration": 6,
    "start_time": "2024-08-11T05:05:19.872Z"
   },
   {
    "duration": 311,
    "start_time": "2024-08-11T05:05:19.880Z"
   },
   {
    "duration": 19,
    "start_time": "2024-08-11T05:06:02.870Z"
   },
   {
    "duration": 18,
    "start_time": "2024-08-11T05:07:08.773Z"
   },
   {
    "duration": 19,
    "start_time": "2024-08-11T05:07:16.053Z"
   },
   {
    "duration": 1045,
    "start_time": "2024-08-11T05:27:03.953Z"
   },
   {
    "duration": 83,
    "start_time": "2024-08-11T05:27:05.000Z"
   },
   {
    "duration": 12,
    "start_time": "2024-08-11T05:27:05.085Z"
   },
   {
    "duration": 28,
    "start_time": "2024-08-11T05:27:05.099Z"
   },
   {
    "duration": 9,
    "start_time": "2024-08-11T05:27:05.129Z"
   },
   {
    "duration": 17,
    "start_time": "2024-08-11T05:27:05.140Z"
   },
   {
    "duration": 9,
    "start_time": "2024-08-11T05:27:05.159Z"
   },
   {
    "duration": 12,
    "start_time": "2024-08-11T05:27:05.170Z"
   },
   {
    "duration": 10,
    "start_time": "2024-08-11T05:27:05.184Z"
   },
   {
    "duration": 11,
    "start_time": "2024-08-11T05:27:05.196Z"
   },
   {
    "duration": 10,
    "start_time": "2024-08-11T05:27:05.208Z"
   },
   {
    "duration": 70,
    "start_time": "2024-08-11T05:27:05.219Z"
   },
   {
    "duration": 21,
    "start_time": "2024-08-11T05:27:05.291Z"
   },
   {
    "duration": 4,
    "start_time": "2024-08-11T05:27:05.315Z"
   },
   {
    "duration": 12,
    "start_time": "2024-08-11T05:27:05.321Z"
   },
   {
    "duration": 7,
    "start_time": "2024-08-11T05:27:05.334Z"
   },
   {
    "duration": 11,
    "start_time": "2024-08-11T05:27:05.343Z"
   },
   {
    "duration": 21,
    "start_time": "2024-08-11T05:27:05.356Z"
   },
   {
    "duration": 179,
    "start_time": "2024-08-11T05:27:05.379Z"
   },
   {
    "duration": 14,
    "start_time": "2024-08-11T05:27:05.559Z"
   },
   {
    "duration": 135,
    "start_time": "2024-08-11T05:27:05.575Z"
   },
   {
    "duration": 12,
    "start_time": "2024-08-11T05:27:05.712Z"
   },
   {
    "duration": 283,
    "start_time": "2024-08-11T05:27:05.725Z"
   },
   {
    "duration": 7,
    "start_time": "2024-08-11T05:27:06.010Z"
   },
   {
    "duration": 292,
    "start_time": "2024-08-11T05:27:06.019Z"
   },
   {
    "duration": 6,
    "start_time": "2024-08-11T05:27:06.314Z"
   },
   {
    "duration": 277,
    "start_time": "2024-08-11T05:27:06.322Z"
   },
   {
    "duration": 8,
    "start_time": "2024-08-11T05:27:06.600Z"
   },
   {
    "duration": 45,
    "start_time": "2024-08-11T05:27:06.610Z"
   },
   {
    "duration": 19,
    "start_time": "2024-08-11T05:27:06.657Z"
   },
   {
    "duration": 16,
    "start_time": "2024-08-11T05:27:06.678Z"
   },
   {
    "duration": 711,
    "start_time": "2024-08-11T05:27:06.696Z"
   },
   {
    "duration": 7,
    "start_time": "2024-08-11T05:27:07.410Z"
   },
   {
    "duration": 696,
    "start_time": "2024-08-11T05:27:07.419Z"
   },
   {
    "duration": 6,
    "start_time": "2024-08-11T05:27:08.117Z"
   },
   {
    "duration": 42,
    "start_time": "2024-08-11T05:27:08.125Z"
   },
   {
    "duration": 3,
    "start_time": "2024-08-11T05:27:08.168Z"
   },
   {
    "duration": 238,
    "start_time": "2024-08-11T05:27:08.172Z"
   },
   {
    "duration": 613,
    "start_time": "2024-08-11T05:27:08.411Z"
   },
   {
    "duration": 10,
    "start_time": "2024-08-11T05:27:09.025Z"
   },
   {
    "duration": 16,
    "start_time": "2024-08-11T05:27:09.039Z"
   },
   {
    "duration": 7,
    "start_time": "2024-08-11T05:27:09.056Z"
   },
   {
    "duration": 13,
    "start_time": "2024-08-11T05:27:09.065Z"
   },
   {
    "duration": 5,
    "start_time": "2024-08-11T05:27:09.080Z"
   },
   {
    "duration": 409,
    "start_time": "2024-08-11T05:27:09.086Z"
   },
   {
    "duration": 5,
    "start_time": "2024-08-11T05:27:09.497Z"
   },
   {
    "duration": 34,
    "start_time": "2024-08-11T05:27:09.504Z"
   },
   {
    "duration": 695,
    "start_time": "2024-08-11T05:27:09.540Z"
   },
   {
    "duration": 316,
    "start_time": "2024-08-11T05:27:10.237Z"
   },
   {
    "duration": 6,
    "start_time": "2024-08-11T05:27:10.554Z"
   },
   {
    "duration": 352,
    "start_time": "2024-08-11T05:27:10.561Z"
   },
   {
    "duration": 1210,
    "start_time": "2024-08-13T11:05:18.887Z"
   },
   {
    "duration": 134,
    "start_time": "2024-08-13T11:05:20.099Z"
   },
   {
    "duration": 12,
    "start_time": "2024-08-13T11:05:20.235Z"
   },
   {
    "duration": 161,
    "start_time": "2024-08-13T11:05:20.249Z"
   },
   {
    "duration": 9,
    "start_time": "2024-08-13T11:05:20.412Z"
   },
   {
    "duration": 96,
    "start_time": "2024-08-13T11:05:20.422Z"
   },
   {
    "duration": 10,
    "start_time": "2024-08-13T11:05:20.520Z"
   },
   {
    "duration": 19,
    "start_time": "2024-08-13T11:05:20.532Z"
   },
   {
    "duration": 13,
    "start_time": "2024-08-13T11:05:20.553Z"
   },
   {
    "duration": 12,
    "start_time": "2024-08-13T11:05:20.568Z"
   },
   {
    "duration": 28,
    "start_time": "2024-08-13T11:05:20.581Z"
   },
   {
    "duration": 24,
    "start_time": "2024-08-13T11:05:20.610Z"
   },
   {
    "duration": 6,
    "start_time": "2024-08-13T11:05:20.636Z"
   },
   {
    "duration": 13,
    "start_time": "2024-08-13T11:05:20.644Z"
   },
   {
    "duration": 11,
    "start_time": "2024-08-13T11:05:20.659Z"
   },
   {
    "duration": 21,
    "start_time": "2024-08-13T11:05:20.671Z"
   },
   {
    "duration": 35,
    "start_time": "2024-08-13T11:05:20.693Z"
   },
   {
    "duration": 14,
    "start_time": "2024-08-13T11:05:20.730Z"
   },
   {
    "duration": 179,
    "start_time": "2024-08-13T11:05:20.746Z"
   },
   {
    "duration": 15,
    "start_time": "2024-08-13T11:05:20.927Z"
   },
   {
    "duration": 135,
    "start_time": "2024-08-13T11:05:20.952Z"
   },
   {
    "duration": 14,
    "start_time": "2024-08-13T11:05:21.088Z"
   },
   {
    "duration": 298,
    "start_time": "2024-08-13T11:05:21.103Z"
   },
   {
    "duration": 7,
    "start_time": "2024-08-13T11:05:21.403Z"
   },
   {
    "duration": 280,
    "start_time": "2024-08-13T11:05:21.412Z"
   },
   {
    "duration": 6,
    "start_time": "2024-08-13T11:05:21.693Z"
   },
   {
    "duration": 312,
    "start_time": "2024-08-13T11:05:21.701Z"
   },
   {
    "duration": 9,
    "start_time": "2024-08-13T11:05:22.018Z"
   },
   {
    "duration": 49,
    "start_time": "2024-08-13T11:05:22.029Z"
   },
   {
    "duration": 22,
    "start_time": "2024-08-13T11:05:22.079Z"
   },
   {
    "duration": 17,
    "start_time": "2024-08-13T11:05:22.103Z"
   },
   {
    "duration": 750,
    "start_time": "2024-08-13T11:05:22.121Z"
   },
   {
    "duration": 8,
    "start_time": "2024-08-13T11:05:22.872Z"
   },
   {
    "duration": 669,
    "start_time": "2024-08-13T11:05:22.881Z"
   },
   {
    "duration": 8,
    "start_time": "2024-08-13T11:05:23.552Z"
   },
   {
    "duration": 108,
    "start_time": "2024-08-13T11:05:23.561Z"
   },
   {
    "duration": 3,
    "start_time": "2024-08-13T11:05:23.671Z"
   },
   {
    "duration": 207,
    "start_time": "2024-08-13T11:05:23.675Z"
   },
   {
    "duration": 585,
    "start_time": "2024-08-13T11:05:23.884Z"
   },
   {
    "duration": 9,
    "start_time": "2024-08-13T11:05:24.471Z"
   },
   {
    "duration": 26,
    "start_time": "2024-08-13T11:05:24.482Z"
   },
   {
    "duration": 13,
    "start_time": "2024-08-13T11:05:24.509Z"
   },
   {
    "duration": 21,
    "start_time": "2024-08-13T11:05:24.524Z"
   },
   {
    "duration": 16,
    "start_time": "2024-08-13T11:05:24.547Z"
   },
   {
    "duration": 304,
    "start_time": "2024-08-13T11:05:24.565Z"
   },
   {
    "duration": 5,
    "start_time": "2024-08-13T11:05:24.871Z"
   },
   {
    "duration": 58,
    "start_time": "2024-08-13T11:05:24.878Z"
   },
   {
    "duration": 817,
    "start_time": "2024-08-13T11:05:24.937Z"
   },
   {
    "duration": 318,
    "start_time": "2024-08-13T11:05:25.755Z"
   },
   {
    "duration": 5,
    "start_time": "2024-08-13T11:05:26.075Z"
   },
   {
    "duration": 352,
    "start_time": "2024-08-13T11:05:26.082Z"
   },
   {
    "duration": 3,
    "start_time": "2024-08-13T11:11:43.755Z"
   },
   {
    "duration": 23,
    "start_time": "2024-08-13T11:12:27.340Z"
   },
   {
    "duration": 4,
    "start_time": "2024-08-13T11:12:48.977Z"
   },
   {
    "duration": 22,
    "start_time": "2024-08-13T11:12:52.397Z"
   },
   {
    "duration": 4,
    "start_time": "2024-08-13T11:13:12.861Z"
   },
   {
    "duration": 24,
    "start_time": "2024-08-13T11:13:16.085Z"
   },
   {
    "duration": 3,
    "start_time": "2024-08-13T11:14:17.827Z"
   },
   {
    "duration": 23,
    "start_time": "2024-08-13T11:14:18.391Z"
   },
   {
    "duration": 3,
    "start_time": "2024-08-13T11:14:42.718Z"
   },
   {
    "duration": 25,
    "start_time": "2024-08-13T11:14:44.429Z"
   },
   {
    "duration": 4,
    "start_time": "2024-08-13T11:15:06.535Z"
   },
   {
    "duration": 26,
    "start_time": "2024-08-13T11:15:07.149Z"
   },
   {
    "duration": 4,
    "start_time": "2024-08-13T11:15:16.158Z"
   },
   {
    "duration": 23,
    "start_time": "2024-08-13T11:15:16.567Z"
   },
   {
    "duration": 22,
    "start_time": "2024-08-13T11:15:31.609Z"
   },
   {
    "duration": 25,
    "start_time": "2024-08-13T11:16:08.450Z"
   },
   {
    "duration": 17,
    "start_time": "2024-08-13T11:16:11.232Z"
   },
   {
    "duration": 1084,
    "start_time": "2024-08-13T11:16:27.847Z"
   },
   {
    "duration": 82,
    "start_time": "2024-08-13T11:16:28.933Z"
   },
   {
    "duration": 29,
    "start_time": "2024-08-13T11:16:29.017Z"
   },
   {
    "duration": 16,
    "start_time": "2024-08-13T11:16:29.048Z"
   },
   {
    "duration": 4,
    "start_time": "2024-08-13T11:16:29.067Z"
   },
   {
    "duration": 62,
    "start_time": "2024-08-13T11:16:29.072Z"
   },
   {
    "duration": 28,
    "start_time": "2024-08-13T11:16:29.136Z"
   },
   {
    "duration": 18,
    "start_time": "2024-08-13T11:16:29.166Z"
   },
   {
    "duration": 9,
    "start_time": "2024-08-13T11:16:29.187Z"
   },
   {
    "duration": 19,
    "start_time": "2024-08-13T11:16:29.197Z"
   },
   {
    "duration": 16,
    "start_time": "2024-08-13T11:16:29.217Z"
   },
   {
    "duration": 21,
    "start_time": "2024-08-13T11:16:29.235Z"
   },
   {
    "duration": 9,
    "start_time": "2024-08-13T11:16:29.258Z"
   },
   {
    "duration": 6,
    "start_time": "2024-08-13T11:16:29.269Z"
   },
   {
    "duration": 8,
    "start_time": "2024-08-13T11:16:29.277Z"
   },
   {
    "duration": 15,
    "start_time": "2024-08-13T11:16:29.287Z"
   },
   {
    "duration": 200,
    "start_time": "2024-08-13T11:16:29.304Z"
   },
   {
    "duration": 14,
    "start_time": "2024-08-13T11:16:29.506Z"
   },
   {
    "duration": 135,
    "start_time": "2024-08-13T11:16:29.522Z"
   },
   {
    "duration": 20,
    "start_time": "2024-08-13T11:16:29.658Z"
   },
   {
    "duration": 269,
    "start_time": "2024-08-13T11:16:29.679Z"
   },
   {
    "duration": 7,
    "start_time": "2024-08-13T11:16:29.950Z"
   },
   {
    "duration": 269,
    "start_time": "2024-08-13T11:16:29.959Z"
   },
   {
    "duration": 7,
    "start_time": "2024-08-13T11:16:30.230Z"
   },
   {
    "duration": 441,
    "start_time": "2024-08-13T11:16:30.239Z"
   },
   {
    "duration": 6,
    "start_time": "2024-08-13T11:16:30.682Z"
   },
   {
    "duration": 121,
    "start_time": "2024-08-13T11:16:30.690Z"
   },
   {
    "duration": 68,
    "start_time": "2024-08-13T11:16:30.813Z"
   },
   {
    "duration": 128,
    "start_time": "2024-08-13T11:16:30.883Z"
   },
   {
    "duration": 745,
    "start_time": "2024-08-13T11:16:31.013Z"
   },
   {
    "duration": 8,
    "start_time": "2024-08-13T11:16:31.760Z"
   },
   {
    "duration": 714,
    "start_time": "2024-08-13T11:16:31.770Z"
   },
   {
    "duration": 7,
    "start_time": "2024-08-13T11:16:32.486Z"
   },
   {
    "duration": 70,
    "start_time": "2024-08-13T11:16:32.494Z"
   },
   {
    "duration": 3,
    "start_time": "2024-08-13T11:16:32.565Z"
   },
   {
    "duration": 209,
    "start_time": "2024-08-13T11:16:32.570Z"
   },
   {
    "duration": 573,
    "start_time": "2024-08-13T11:16:32.781Z"
   },
   {
    "duration": 10,
    "start_time": "2024-08-13T11:16:33.355Z"
   },
   {
    "duration": 10,
    "start_time": "2024-08-13T11:16:33.367Z"
   },
   {
    "duration": 8,
    "start_time": "2024-08-13T11:16:33.379Z"
   },
   {
    "duration": 6,
    "start_time": "2024-08-13T11:16:33.391Z"
   },
   {
    "duration": 14,
    "start_time": "2024-08-13T11:16:33.398Z"
   },
   {
    "duration": 417,
    "start_time": "2024-08-13T11:16:33.414Z"
   },
   {
    "duration": 5,
    "start_time": "2024-08-13T11:16:33.833Z"
   },
   {
    "duration": 4,
    "start_time": "2024-08-13T11:16:33.853Z"
   },
   {
    "duration": 711,
    "start_time": "2024-08-13T11:16:33.858Z"
   },
   {
    "duration": 288,
    "start_time": "2024-08-13T11:16:34.571Z"
   },
   {
    "duration": 4,
    "start_time": "2024-08-13T11:16:34.861Z"
   },
   {
    "duration": 351,
    "start_time": "2024-08-13T11:16:34.867Z"
   },
   {
    "duration": 99,
    "start_time": "2024-08-13T11:19:00.442Z"
   },
   {
    "duration": 5,
    "start_time": "2024-08-13T11:21:11.913Z"
   },
   {
    "duration": 79,
    "start_time": "2024-08-13T11:27:32.110Z"
   },
   {
    "duration": 11,
    "start_time": "2024-08-13T11:28:21.016Z"
   },
   {
    "duration": 9,
    "start_time": "2024-08-13T11:29:41.113Z"
   },
   {
    "duration": 77,
    "start_time": "2024-08-13T11:30:51.307Z"
   },
   {
    "duration": 15,
    "start_time": "2024-08-13T11:36:22.712Z"
   },
   {
    "duration": 20,
    "start_time": "2024-08-13T11:36:33.964Z"
   },
   {
    "duration": 31,
    "start_time": "2024-08-13T11:38:19.944Z"
   },
   {
    "duration": 37,
    "start_time": "2024-08-13T11:38:42.295Z"
   },
   {
    "duration": 39,
    "start_time": "2024-08-13T11:39:06.800Z"
   },
   {
    "duration": 5,
    "start_time": "2024-08-13T11:52:37.893Z"
   },
   {
    "duration": 1080,
    "start_time": "2024-08-13T11:53:18.447Z"
   },
   {
    "duration": 83,
    "start_time": "2024-08-13T11:53:19.529Z"
   },
   {
    "duration": 30,
    "start_time": "2024-08-13T11:53:19.613Z"
   },
   {
    "duration": 16,
    "start_time": "2024-08-13T11:53:19.645Z"
   },
   {
    "duration": 3,
    "start_time": "2024-08-13T11:53:19.663Z"
   },
   {
    "duration": 41,
    "start_time": "2024-08-13T11:53:19.668Z"
   },
   {
    "duration": 47,
    "start_time": "2024-08-13T11:53:19.711Z"
   },
   {
    "duration": 82,
    "start_time": "2024-08-13T11:53:19.760Z"
   },
   {
    "duration": 8,
    "start_time": "2024-08-13T11:53:19.844Z"
   },
   {
    "duration": 81,
    "start_time": "2024-08-13T11:53:19.854Z"
   },
   {
    "duration": 43,
    "start_time": "2024-08-13T11:53:19.936Z"
   },
   {
    "duration": 11,
    "start_time": "2024-08-13T11:53:19.981Z"
   },
   {
    "duration": 18,
    "start_time": "2024-08-13T11:53:19.994Z"
   },
   {
    "duration": 13,
    "start_time": "2024-08-13T11:53:20.014Z"
   },
   {
    "duration": 28,
    "start_time": "2024-08-13T11:53:20.028Z"
   },
   {
    "duration": 22,
    "start_time": "2024-08-13T11:53:20.057Z"
   },
   {
    "duration": 24,
    "start_time": "2024-08-13T11:53:20.081Z"
   },
   {
    "duration": 180,
    "start_time": "2024-08-13T11:53:20.107Z"
   },
   {
    "duration": 18,
    "start_time": "2024-08-13T11:53:20.289Z"
   },
   {
    "duration": 135,
    "start_time": "2024-08-13T11:53:20.308Z"
   },
   {
    "duration": 17,
    "start_time": "2024-08-13T11:53:20.445Z"
   },
   {
    "duration": 302,
    "start_time": "2024-08-13T11:53:20.463Z"
   },
   {
    "duration": 7,
    "start_time": "2024-08-13T11:53:20.768Z"
   },
   {
    "duration": 10,
    "start_time": "2024-08-13T11:53:20.777Z"
   },
   {
    "duration": 299,
    "start_time": "2024-08-13T11:53:20.789Z"
   },
   {
    "duration": 47,
    "start_time": "2024-08-13T11:53:21.091Z"
   },
   {
    "duration": 18,
    "start_time": "2024-08-13T11:53:21.140Z"
   },
   {
    "duration": 329,
    "start_time": "2024-08-13T11:53:21.162Z"
   },
   {
    "duration": 6,
    "start_time": "2024-08-13T11:53:21.493Z"
   },
   {
    "duration": 63,
    "start_time": "2024-08-13T11:53:21.501Z"
   },
   {
    "duration": 4,
    "start_time": "2024-08-13T11:53:21.565Z"
   },
   {
    "duration": 33,
    "start_time": "2024-08-13T11:53:21.570Z"
   },
   {
    "duration": 71,
    "start_time": "2024-08-13T11:53:21.604Z"
   },
   {
    "duration": 684,
    "start_time": "2024-08-13T11:53:21.676Z"
   },
   {
    "duration": 7,
    "start_time": "2024-08-13T11:53:22.362Z"
   },
   {
    "duration": 593,
    "start_time": "2024-08-13T11:53:22.371Z"
   },
   {
    "duration": 6,
    "start_time": "2024-08-13T11:53:22.966Z"
   },
   {
    "duration": 34,
    "start_time": "2024-08-13T11:53:22.974Z"
   },
   {
    "duration": 2,
    "start_time": "2024-08-13T11:53:23.010Z"
   },
   {
    "duration": 210,
    "start_time": "2024-08-13T11:53:23.014Z"
   },
   {
    "duration": 635,
    "start_time": "2024-08-13T11:53:23.225Z"
   },
   {
    "duration": 10,
    "start_time": "2024-08-13T11:53:23.862Z"
   },
   {
    "duration": 79,
    "start_time": "2024-08-13T11:53:23.873Z"
   },
   {
    "duration": 11,
    "start_time": "2024-08-13T11:53:23.954Z"
   },
   {
    "duration": 6,
    "start_time": "2024-08-13T11:53:23.967Z"
   },
   {
    "duration": 6,
    "start_time": "2024-08-13T11:53:23.974Z"
   },
   {
    "duration": 327,
    "start_time": "2024-08-13T11:53:23.981Z"
   },
   {
    "duration": 6,
    "start_time": "2024-08-13T11:53:24.309Z"
   },
   {
    "duration": 4,
    "start_time": "2024-08-13T11:53:24.316Z"
   },
   {
    "duration": 838,
    "start_time": "2024-08-13T11:53:24.322Z"
   },
   {
    "duration": 301,
    "start_time": "2024-08-13T11:53:25.161Z"
   },
   {
    "duration": 5,
    "start_time": "2024-08-13T11:53:25.464Z"
   },
   {
    "duration": 357,
    "start_time": "2024-08-13T11:53:25.470Z"
   },
   {
    "duration": 4,
    "start_time": "2024-08-13T11:54:28.745Z"
   },
   {
    "duration": 4,
    "start_time": "2024-08-13T11:55:11.637Z"
   },
   {
    "duration": 31,
    "start_time": "2024-08-13T12:09:11.355Z"
   },
   {
    "duration": 24,
    "start_time": "2024-08-13T12:09:17.440Z"
   },
   {
    "duration": 24,
    "start_time": "2024-08-13T12:09:59.836Z"
   },
   {
    "duration": 4,
    "start_time": "2024-08-13T12:10:16.064Z"
   },
   {
    "duration": 66,
    "start_time": "2024-08-13T12:17:29.301Z"
   },
   {
    "duration": 28,
    "start_time": "2024-08-13T12:31:02.863Z"
   },
   {
    "duration": 27,
    "start_time": "2024-08-13T12:32:02.958Z"
   },
   {
    "duration": 26,
    "start_time": "2024-08-13T12:32:13.065Z"
   },
   {
    "duration": 26,
    "start_time": "2024-08-13T12:32:26.706Z"
   },
   {
    "duration": 24,
    "start_time": "2024-08-13T12:32:50.345Z"
   },
   {
    "duration": 26,
    "start_time": "2024-08-13T12:32:57.308Z"
   },
   {
    "duration": 7,
    "start_time": "2024-08-13T12:41:10.527Z"
   },
   {
    "duration": 7,
    "start_time": "2024-08-13T12:45:31.352Z"
   },
   {
    "duration": 100,
    "start_time": "2024-08-13T12:47:44.829Z"
   },
   {
    "duration": 6,
    "start_time": "2024-08-13T12:48:04.196Z"
   },
   {
    "duration": 6,
    "start_time": "2024-08-13T12:49:18.922Z"
   },
   {
    "duration": 147,
    "start_time": "2024-08-13T12:51:23.271Z"
   },
   {
    "duration": 6,
    "start_time": "2024-08-13T12:52:45.663Z"
   },
   {
    "duration": 7,
    "start_time": "2024-08-13T12:53:08.088Z"
   },
   {
    "duration": 6,
    "start_time": "2024-08-13T12:53:12.718Z"
   },
   {
    "duration": 4,
    "start_time": "2024-08-13T12:56:17.028Z"
   },
   {
    "duration": 12,
    "start_time": "2024-08-13T12:56:59.512Z"
   },
   {
    "duration": 4,
    "start_time": "2024-08-13T12:57:11.386Z"
   },
   {
    "duration": 5,
    "start_time": "2024-08-13T12:57:12.972Z"
   },
   {
    "duration": 100843,
    "start_time": "2024-08-13T12:57:54.002Z"
   },
   {
    "duration": 212,
    "start_time": "2024-08-13T12:59:35.831Z"
   },
   {
    "duration": 227,
    "start_time": "2024-08-13T13:00:11.705Z"
   },
   {
    "duration": 9,
    "start_time": "2024-08-13T13:02:26.109Z"
   },
   {
    "duration": 5,
    "start_time": "2024-08-13T13:02:39.564Z"
   },
   {
    "duration": 3,
    "start_time": "2024-08-13T13:03:58.165Z"
   },
   {
    "duration": 99,
    "start_time": "2024-08-13T13:03:58.170Z"
   },
   {
    "duration": 59,
    "start_time": "2024-08-13T13:09:57.732Z"
   },
   {
    "duration": 1697,
    "start_time": "2024-08-13T13:21:14.726Z"
   },
   {
    "duration": 1013,
    "start_time": "2024-08-13T13:22:04.391Z"
   },
   {
    "duration": 85,
    "start_time": "2024-08-13T13:22:05.405Z"
   },
   {
    "duration": 30,
    "start_time": "2024-08-13T13:22:05.492Z"
   },
   {
    "duration": 16,
    "start_time": "2024-08-13T13:22:05.524Z"
   },
   {
    "duration": 4,
    "start_time": "2024-08-13T13:22:05.542Z"
   },
   {
    "duration": 37,
    "start_time": "2024-08-13T13:22:05.547Z"
   },
   {
    "duration": 25,
    "start_time": "2024-08-13T13:22:05.585Z"
   },
   {
    "duration": 23,
    "start_time": "2024-08-13T13:22:05.612Z"
   },
   {
    "duration": 23,
    "start_time": "2024-08-13T13:22:05.637Z"
   },
   {
    "duration": 57,
    "start_time": "2024-08-13T13:22:05.662Z"
   },
   {
    "duration": 15,
    "start_time": "2024-08-13T13:22:05.720Z"
   },
   {
    "duration": 10,
    "start_time": "2024-08-13T13:22:05.736Z"
   },
   {
    "duration": 21,
    "start_time": "2024-08-13T13:22:05.747Z"
   },
   {
    "duration": 15,
    "start_time": "2024-08-13T13:22:05.771Z"
   },
   {
    "duration": 7,
    "start_time": "2024-08-13T13:22:05.787Z"
   },
   {
    "duration": 7,
    "start_time": "2024-08-13T13:22:05.796Z"
   },
   {
    "duration": 22,
    "start_time": "2024-08-13T13:22:05.805Z"
   },
   {
    "duration": 177,
    "start_time": "2024-08-13T13:22:05.828Z"
   },
   {
    "duration": 14,
    "start_time": "2024-08-13T13:22:06.006Z"
   },
   {
    "duration": 187,
    "start_time": "2024-08-13T13:22:06.022Z"
   },
   {
    "duration": 14,
    "start_time": "2024-08-13T13:22:06.211Z"
   },
   {
    "duration": 286,
    "start_time": "2024-08-13T13:22:06.227Z"
   },
   {
    "duration": 8,
    "start_time": "2024-08-13T13:22:06.516Z"
   },
   {
    "duration": 27,
    "start_time": "2024-08-13T13:22:06.526Z"
   },
   {
    "duration": 270,
    "start_time": "2024-08-13T13:22:06.555Z"
   },
   {
    "duration": 52,
    "start_time": "2024-08-13T13:22:06.827Z"
   },
   {
    "duration": 6,
    "start_time": "2024-08-13T13:22:06.881Z"
   },
   {
    "duration": 279,
    "start_time": "2024-08-13T13:22:06.889Z"
   },
   {
    "duration": 7,
    "start_time": "2024-08-13T13:22:07.169Z"
   },
   {
    "duration": 29,
    "start_time": "2024-08-13T13:22:07.178Z"
   },
   {
    "duration": 6,
    "start_time": "2024-08-13T13:22:07.209Z"
   },
   {
    "duration": 46,
    "start_time": "2024-08-13T13:22:07.217Z"
   },
   {
    "duration": 17,
    "start_time": "2024-08-13T13:22:07.265Z"
   },
   {
    "duration": 685,
    "start_time": "2024-08-13T13:22:07.284Z"
   },
   {
    "duration": 8,
    "start_time": "2024-08-13T13:22:07.971Z"
   },
   {
    "duration": 587,
    "start_time": "2024-08-13T13:22:07.981Z"
   },
   {
    "duration": 7,
    "start_time": "2024-08-13T13:22:08.569Z"
   },
   {
    "duration": 67,
    "start_time": "2024-08-13T13:22:08.578Z"
   },
   {
    "duration": 2,
    "start_time": "2024-08-13T13:22:08.647Z"
   },
   {
    "duration": 219,
    "start_time": "2024-08-13T13:22:08.651Z"
   },
   {
    "duration": 572,
    "start_time": "2024-08-13T13:22:08.874Z"
   },
   {
    "duration": 11,
    "start_time": "2024-08-13T13:22:09.448Z"
   },
   {
    "duration": 45,
    "start_time": "2024-08-13T13:22:09.461Z"
   },
   {
    "duration": 214,
    "start_time": "2024-08-13T13:22:09.508Z"
   },
   {
    "duration": 3,
    "start_time": "2024-08-13T13:22:09.724Z"
   },
   {
    "duration": 24,
    "start_time": "2024-08-13T13:22:09.729Z"
   },
   {
    "duration": 10,
    "start_time": "2024-08-13T13:22:09.755Z"
   },
   {
    "duration": 4,
    "start_time": "2024-08-13T13:22:09.767Z"
   },
   {
    "duration": 102732,
    "start_time": "2024-08-13T13:22:09.773Z"
   },
   {
    "duration": 0,
    "start_time": "2024-08-13T13:23:52.506Z"
   },
   {
    "duration": 0,
    "start_time": "2024-08-13T13:23:52.508Z"
   },
   {
    "duration": 0,
    "start_time": "2024-08-13T13:23:52.508Z"
   },
   {
    "duration": 0,
    "start_time": "2024-08-13T13:23:52.509Z"
   },
   {
    "duration": 0,
    "start_time": "2024-08-13T13:23:52.510Z"
   },
   {
    "duration": 0,
    "start_time": "2024-08-13T13:23:52.512Z"
   },
   {
    "duration": 72030,
    "start_time": "2024-08-13T13:24:05.463Z"
   },
   {
    "duration": 8,
    "start_time": "2024-08-13T13:25:19.990Z"
   },
   {
    "duration": 8,
    "start_time": "2024-08-13T13:25:33.416Z"
   },
   {
    "duration": 6,
    "start_time": "2024-08-13T13:26:12.102Z"
   },
   {
    "duration": 6,
    "start_time": "2024-08-13T13:26:18.496Z"
   },
   {
    "duration": 6,
    "start_time": "2024-08-13T13:26:38.218Z"
   },
   {
    "duration": 215,
    "start_time": "2024-08-13T13:27:14.274Z"
   },
   {
    "duration": 7,
    "start_time": "2024-08-13T13:28:24.123Z"
   },
   {
    "duration": 314,
    "start_time": "2024-08-13T13:28:30.026Z"
   },
   {
    "duration": 264,
    "start_time": "2024-08-13T13:28:43.402Z"
   },
   {
    "duration": 495,
    "start_time": "2024-08-13T13:29:00.572Z"
   },
   {
    "duration": 6,
    "start_time": "2024-08-13T13:29:12.177Z"
   },
   {
    "duration": 15,
    "start_time": "2024-08-13T13:31:48.023Z"
   },
   {
    "duration": 1091,
    "start_time": "2024-08-14T06:09:30.744Z"
   },
   {
    "duration": 130,
    "start_time": "2024-08-14T06:09:31.837Z"
   },
   {
    "duration": 990,
    "start_time": "2024-08-14T06:09:31.969Z"
   },
   {
    "duration": 221,
    "start_time": "2024-08-14T06:09:32.961Z"
   },
   {
    "duration": 74,
    "start_time": "2024-08-14T06:09:33.184Z"
   },
   {
    "duration": 64,
    "start_time": "2024-08-14T06:09:33.259Z"
   },
   {
    "duration": 50,
    "start_time": "2024-08-14T06:09:33.325Z"
   },
   {
    "duration": 20,
    "start_time": "2024-08-14T06:09:33.377Z"
   },
   {
    "duration": 9,
    "start_time": "2024-08-14T06:09:33.399Z"
   },
   {
    "duration": 45,
    "start_time": "2024-08-14T06:09:33.412Z"
   },
   {
    "duration": 14,
    "start_time": "2024-08-14T06:09:33.459Z"
   },
   {
    "duration": 7,
    "start_time": "2024-08-14T06:09:33.475Z"
   },
   {
    "duration": 24,
    "start_time": "2024-08-14T06:09:33.484Z"
   },
   {
    "duration": 32,
    "start_time": "2024-08-14T06:09:33.510Z"
   },
   {
    "duration": 11,
    "start_time": "2024-08-14T06:09:33.545Z"
   },
   {
    "duration": 29,
    "start_time": "2024-08-14T06:09:33.557Z"
   },
   {
    "duration": 21,
    "start_time": "2024-08-14T06:09:33.588Z"
   },
   {
    "duration": 198,
    "start_time": "2024-08-14T06:09:33.610Z"
   },
   {
    "duration": 35,
    "start_time": "2024-08-14T06:09:33.810Z"
   },
   {
    "duration": 131,
    "start_time": "2024-08-14T06:09:33.847Z"
   },
   {
    "duration": 17,
    "start_time": "2024-08-14T06:09:33.980Z"
   },
   {
    "duration": 285,
    "start_time": "2024-08-14T06:09:33.999Z"
   },
   {
    "duration": 6,
    "start_time": "2024-08-14T06:09:34.286Z"
   },
   {
    "duration": 19,
    "start_time": "2024-08-14T06:09:34.294Z"
   },
   {
    "duration": 464,
    "start_time": "2024-08-14T06:09:34.315Z"
   },
   {
    "duration": 40,
    "start_time": "2024-08-14T06:09:34.781Z"
   },
   {
    "duration": 25,
    "start_time": "2024-08-14T06:09:34.823Z"
   },
   {
    "duration": 261,
    "start_time": "2024-08-14T06:09:34.853Z"
   },
   {
    "duration": 7,
    "start_time": "2024-08-14T06:09:35.115Z"
   },
   {
    "duration": 44,
    "start_time": "2024-08-14T06:09:35.124Z"
   },
   {
    "duration": 4,
    "start_time": "2024-08-14T06:09:35.170Z"
   },
   {
    "duration": 38,
    "start_time": "2024-08-14T06:09:35.176Z"
   },
   {
    "duration": 47,
    "start_time": "2024-08-14T06:09:35.216Z"
   },
   {
    "duration": 694,
    "start_time": "2024-08-14T06:09:35.265Z"
   },
   {
    "duration": 7,
    "start_time": "2024-08-14T06:09:35.961Z"
   },
   {
    "duration": 568,
    "start_time": "2024-08-14T06:09:35.970Z"
   },
   {
    "duration": 10,
    "start_time": "2024-08-14T06:09:36.540Z"
   },
   {
    "duration": 113,
    "start_time": "2024-08-14T06:09:36.552Z"
   },
   {
    "duration": 3,
    "start_time": "2024-08-14T06:09:36.666Z"
   },
   {
    "duration": 220,
    "start_time": "2024-08-14T06:09:36.671Z"
   },
   {
    "duration": 631,
    "start_time": "2024-08-14T06:09:36.892Z"
   },
   {
    "duration": 10,
    "start_time": "2024-08-14T06:09:37.524Z"
   },
   {
    "duration": 9,
    "start_time": "2024-08-14T06:09:37.545Z"
   },
   {
    "duration": 254,
    "start_time": "2024-08-14T06:09:37.556Z"
   },
   {
    "duration": 4,
    "start_time": "2024-08-14T06:09:37.812Z"
   },
   {
    "duration": 26,
    "start_time": "2024-08-14T06:09:37.818Z"
   },
   {
    "duration": 34,
    "start_time": "2024-08-14T06:09:37.845Z"
   },
   {
    "duration": 16,
    "start_time": "2024-08-14T06:09:37.881Z"
   },
   {
    "duration": 600,
    "start_time": "2024-08-14T06:09:37.899Z"
   },
   {
    "duration": 8,
    "start_time": "2024-08-14T06:09:38.501Z"
   },
   {
    "duration": 75,
    "start_time": "2024-08-14T06:09:38.510Z"
   },
   {
    "duration": 794,
    "start_time": "2024-08-14T06:09:38.587Z"
   },
   {
    "duration": 276,
    "start_time": "2024-08-14T06:09:39.382Z"
   },
   {
    "duration": 4,
    "start_time": "2024-08-14T06:09:39.660Z"
   },
   {
    "duration": 333,
    "start_time": "2024-08-14T06:09:39.666Z"
   },
   {
    "duration": 1054,
    "start_time": "2024-08-14T06:33:22.385Z"
   },
   {
    "duration": 87,
    "start_time": "2024-08-14T06:33:23.440Z"
   },
   {
    "duration": 29,
    "start_time": "2024-08-14T06:33:23.529Z"
   },
   {
    "duration": 23,
    "start_time": "2024-08-14T06:33:23.560Z"
   },
   {
    "duration": 14,
    "start_time": "2024-08-14T06:33:23.585Z"
   },
   {
    "duration": 52,
    "start_time": "2024-08-14T06:33:23.601Z"
   },
   {
    "duration": 25,
    "start_time": "2024-08-14T06:33:23.655Z"
   },
   {
    "duration": 20,
    "start_time": "2024-08-14T06:33:23.681Z"
   },
   {
    "duration": 10,
    "start_time": "2024-08-14T06:33:23.703Z"
   },
   {
    "duration": 15,
    "start_time": "2024-08-14T06:33:23.746Z"
   },
   {
    "duration": 40,
    "start_time": "2024-08-14T06:33:23.763Z"
   },
   {
    "duration": 75,
    "start_time": "2024-08-14T06:33:23.805Z"
   },
   {
    "duration": 22,
    "start_time": "2024-08-14T06:33:23.882Z"
   },
   {
    "duration": 17,
    "start_time": "2024-08-14T06:33:23.909Z"
   },
   {
    "duration": 61,
    "start_time": "2024-08-14T06:33:23.928Z"
   },
   {
    "duration": 32,
    "start_time": "2024-08-14T06:33:23.991Z"
   },
   {
    "duration": 15,
    "start_time": "2024-08-14T06:33:24.025Z"
   },
   {
    "duration": 191,
    "start_time": "2024-08-14T06:33:24.041Z"
   },
   {
    "duration": 16,
    "start_time": "2024-08-14T06:33:24.233Z"
   },
   {
    "duration": 154,
    "start_time": "2024-08-14T06:33:24.251Z"
   },
   {
    "duration": 12,
    "start_time": "2024-08-14T06:33:24.407Z"
   },
   {
    "duration": 331,
    "start_time": "2024-08-14T06:33:24.421Z"
   },
   {
    "duration": 6,
    "start_time": "2024-08-14T06:33:24.754Z"
   },
   {
    "duration": 27,
    "start_time": "2024-08-14T06:33:24.762Z"
   },
   {
    "duration": 258,
    "start_time": "2024-08-14T06:33:24.791Z"
   },
   {
    "duration": 38,
    "start_time": "2024-08-14T06:33:25.051Z"
   },
   {
    "duration": 22,
    "start_time": "2024-08-14T06:33:25.091Z"
   },
   {
    "duration": 343,
    "start_time": "2024-08-14T06:33:25.114Z"
   },
   {
    "duration": 6,
    "start_time": "2024-08-14T06:33:25.459Z"
   },
   {
    "duration": 49,
    "start_time": "2024-08-14T06:33:25.467Z"
   },
   {
    "duration": 12,
    "start_time": "2024-08-14T06:33:25.518Z"
   },
   {
    "duration": 36,
    "start_time": "2024-08-14T06:33:25.532Z"
   },
   {
    "duration": 32,
    "start_time": "2024-08-14T06:33:25.569Z"
   },
   {
    "duration": 687,
    "start_time": "2024-08-14T06:33:25.602Z"
   },
   {
    "duration": 7,
    "start_time": "2024-08-14T06:33:26.291Z"
   },
   {
    "duration": 632,
    "start_time": "2024-08-14T06:33:26.299Z"
   },
   {
    "duration": 13,
    "start_time": "2024-08-14T06:33:26.933Z"
   },
   {
    "duration": 64,
    "start_time": "2024-08-14T06:33:26.948Z"
   },
   {
    "duration": 5,
    "start_time": "2024-08-14T06:33:27.014Z"
   },
   {
    "duration": 238,
    "start_time": "2024-08-14T06:33:27.021Z"
   },
   {
    "duration": 616,
    "start_time": "2024-08-14T06:33:27.263Z"
   },
   {
    "duration": 10,
    "start_time": "2024-08-14T06:33:27.880Z"
   },
   {
    "duration": 6,
    "start_time": "2024-08-14T06:33:27.891Z"
   },
   {
    "duration": 268,
    "start_time": "2024-08-14T06:33:27.899Z"
   },
   {
    "duration": 5,
    "start_time": "2024-08-14T06:33:28.168Z"
   },
   {
    "duration": 49,
    "start_time": "2024-08-14T06:33:28.175Z"
   },
   {
    "duration": 31,
    "start_time": "2024-08-14T06:33:28.226Z"
   },
   {
    "duration": 49,
    "start_time": "2024-08-14T06:33:28.258Z"
   },
   {
    "duration": 638,
    "start_time": "2024-08-14T06:33:28.309Z"
   },
   {
    "duration": 5,
    "start_time": "2024-08-14T06:33:28.949Z"
   },
   {
    "duration": 110,
    "start_time": "2024-08-14T06:33:28.955Z"
   },
   {
    "duration": 772,
    "start_time": "2024-08-14T06:33:29.067Z"
   },
   {
    "duration": 320,
    "start_time": "2024-08-14T06:33:29.847Z"
   },
   {
    "duration": 5,
    "start_time": "2024-08-14T06:33:30.169Z"
   },
   {
    "duration": 616,
    "start_time": "2024-08-14T06:33:30.175Z"
   },
   {
    "duration": 1049,
    "start_time": "2024-08-14T06:34:47.897Z"
   },
   {
    "duration": 83,
    "start_time": "2024-08-14T06:34:48.948Z"
   },
   {
    "duration": 28,
    "start_time": "2024-08-14T06:34:49.033Z"
   },
   {
    "duration": 25,
    "start_time": "2024-08-14T06:34:49.063Z"
   },
   {
    "duration": 7,
    "start_time": "2024-08-14T06:34:49.090Z"
   },
   {
    "duration": 40,
    "start_time": "2024-08-14T06:34:49.098Z"
   },
   {
    "duration": 29,
    "start_time": "2024-08-14T06:34:49.140Z"
   },
   {
    "duration": 19,
    "start_time": "2024-08-14T06:34:49.171Z"
   },
   {
    "duration": 7,
    "start_time": "2024-08-14T06:34:49.192Z"
   },
   {
    "duration": 14,
    "start_time": "2024-08-14T06:34:49.202Z"
   },
   {
    "duration": 4,
    "start_time": "2024-08-14T06:34:49.247Z"
   },
   {
    "duration": 34,
    "start_time": "2024-08-14T06:34:49.253Z"
   },
   {
    "duration": 44,
    "start_time": "2024-08-14T06:34:49.289Z"
   },
   {
    "duration": 56,
    "start_time": "2024-08-14T06:34:49.335Z"
   },
   {
    "duration": 28,
    "start_time": "2024-08-14T06:34:49.393Z"
   },
   {
    "duration": 11,
    "start_time": "2024-08-14T06:34:49.423Z"
   },
   {
    "duration": 22,
    "start_time": "2024-08-14T06:34:49.435Z"
   },
   {
    "duration": 192,
    "start_time": "2024-08-14T06:34:49.459Z"
   },
   {
    "duration": 14,
    "start_time": "2024-08-14T06:34:49.653Z"
   },
   {
    "duration": 141,
    "start_time": "2024-08-14T06:34:49.668Z"
   },
   {
    "duration": 11,
    "start_time": "2024-08-14T06:34:49.811Z"
   },
   {
    "duration": 268,
    "start_time": "2024-08-14T06:34:49.824Z"
   },
   {
    "duration": 6,
    "start_time": "2024-08-14T06:34:50.093Z"
   },
   {
    "duration": 14,
    "start_time": "2024-08-14T06:34:50.101Z"
   },
   {
    "duration": 267,
    "start_time": "2024-08-14T06:34:50.116Z"
   },
   {
    "duration": 38,
    "start_time": "2024-08-14T06:34:50.385Z"
   },
   {
    "duration": 21,
    "start_time": "2024-08-14T06:34:50.425Z"
   },
   {
    "duration": 259,
    "start_time": "2024-08-14T06:34:50.449Z"
   },
   {
    "duration": 6,
    "start_time": "2024-08-14T06:34:50.709Z"
   },
   {
    "duration": 56,
    "start_time": "2024-08-14T06:34:50.717Z"
   },
   {
    "duration": 5,
    "start_time": "2024-08-14T06:34:50.774Z"
   },
   {
    "duration": 37,
    "start_time": "2024-08-14T06:34:50.780Z"
   },
   {
    "duration": 16,
    "start_time": "2024-08-14T06:34:50.819Z"
   },
   {
    "duration": 692,
    "start_time": "2024-08-14T06:34:50.837Z"
   },
   {
    "duration": 15,
    "start_time": "2024-08-14T06:34:51.531Z"
   },
   {
    "duration": 582,
    "start_time": "2024-08-14T06:34:51.548Z"
   },
   {
    "duration": 15,
    "start_time": "2024-08-14T06:34:52.132Z"
   },
   {
    "duration": 68,
    "start_time": "2024-08-14T06:34:52.149Z"
   },
   {
    "duration": 3,
    "start_time": "2024-08-14T06:34:52.218Z"
   },
   {
    "duration": 263,
    "start_time": "2024-08-14T06:34:52.223Z"
   },
   {
    "duration": 659,
    "start_time": "2024-08-14T06:34:52.487Z"
   },
   {
    "duration": 10,
    "start_time": "2024-08-14T06:34:53.148Z"
   },
   {
    "duration": 17,
    "start_time": "2024-08-14T06:34:53.160Z"
   },
   {
    "duration": 276,
    "start_time": "2024-08-14T06:34:53.180Z"
   },
   {
    "duration": 5,
    "start_time": "2024-08-14T06:34:53.458Z"
   },
   {
    "duration": 84,
    "start_time": "2024-08-14T06:34:53.465Z"
   },
   {
    "duration": 42,
    "start_time": "2024-08-14T06:34:53.552Z"
   },
   {
    "duration": 32,
    "start_time": "2024-08-14T06:34:53.595Z"
   },
   {
    "duration": 635,
    "start_time": "2024-08-14T06:34:53.628Z"
   },
   {
    "duration": 6,
    "start_time": "2024-08-14T06:34:54.264Z"
   },
   {
    "duration": 48,
    "start_time": "2024-08-14T06:34:54.271Z"
   },
   {
    "duration": 794,
    "start_time": "2024-08-14T06:34:54.320Z"
   },
   {
    "duration": 335,
    "start_time": "2024-08-14T06:34:55.116Z"
   },
   {
    "duration": 5,
    "start_time": "2024-08-14T06:34:55.453Z"
   },
   {
    "duration": 361,
    "start_time": "2024-08-14T06:34:55.459Z"
   },
   {
    "duration": 1041,
    "start_time": "2024-08-14T06:36:14.955Z"
   },
   {
    "duration": 85,
    "start_time": "2024-08-14T06:36:15.998Z"
   },
   {
    "duration": 29,
    "start_time": "2024-08-14T06:36:16.085Z"
   },
   {
    "duration": 16,
    "start_time": "2024-08-14T06:36:16.116Z"
   },
   {
    "duration": 10,
    "start_time": "2024-08-14T06:36:16.134Z"
   },
   {
    "duration": 37,
    "start_time": "2024-08-14T06:36:16.146Z"
   },
   {
    "duration": 29,
    "start_time": "2024-08-14T06:36:16.184Z"
   },
   {
    "duration": 39,
    "start_time": "2024-08-14T06:36:16.215Z"
   },
   {
    "duration": 9,
    "start_time": "2024-08-14T06:36:16.256Z"
   },
   {
    "duration": 10,
    "start_time": "2024-08-14T06:36:16.268Z"
   },
   {
    "duration": 4,
    "start_time": "2024-08-14T06:36:16.280Z"
   },
   {
    "duration": 22,
    "start_time": "2024-08-14T06:36:16.286Z"
   },
   {
    "duration": 11,
    "start_time": "2024-08-14T06:36:16.310Z"
   },
   {
    "duration": 28,
    "start_time": "2024-08-14T06:36:16.323Z"
   },
   {
    "duration": 6,
    "start_time": "2024-08-14T06:36:16.352Z"
   },
   {
    "duration": 20,
    "start_time": "2024-08-14T06:36:16.364Z"
   },
   {
    "duration": 13,
    "start_time": "2024-08-14T06:36:16.386Z"
   },
   {
    "duration": 192,
    "start_time": "2024-08-14T06:36:16.400Z"
   },
   {
    "duration": 13,
    "start_time": "2024-08-14T06:36:16.593Z"
   },
   {
    "duration": 155,
    "start_time": "2024-08-14T06:36:16.608Z"
   },
   {
    "duration": 12,
    "start_time": "2024-08-14T06:36:16.764Z"
   },
   {
    "duration": 278,
    "start_time": "2024-08-14T06:36:16.778Z"
   },
   {
    "duration": 6,
    "start_time": "2024-08-14T06:36:17.058Z"
   },
   {
    "duration": 13,
    "start_time": "2024-08-14T06:36:17.065Z"
   },
   {
    "duration": 280,
    "start_time": "2024-08-14T06:36:17.080Z"
   },
   {
    "duration": 38,
    "start_time": "2024-08-14T06:36:17.362Z"
   },
   {
    "duration": 6,
    "start_time": "2024-08-14T06:36:17.401Z"
   },
   {
    "duration": 282,
    "start_time": "2024-08-14T06:36:17.411Z"
   },
   {
    "duration": 7,
    "start_time": "2024-08-14T06:36:17.694Z"
   },
   {
    "duration": 58,
    "start_time": "2024-08-14T06:36:17.703Z"
   },
   {
    "duration": 5,
    "start_time": "2024-08-14T06:36:17.763Z"
   },
   {
    "duration": 22,
    "start_time": "2024-08-14T06:36:17.769Z"
   },
   {
    "duration": 15,
    "start_time": "2024-08-14T06:36:17.792Z"
   },
   {
    "duration": 728,
    "start_time": "2024-08-14T06:36:17.809Z"
   },
   {
    "duration": 12,
    "start_time": "2024-08-14T06:36:18.539Z"
   },
   {
    "duration": 610,
    "start_time": "2024-08-14T06:36:18.552Z"
   },
   {
    "duration": 7,
    "start_time": "2024-08-14T06:36:19.164Z"
   },
   {
    "duration": 62,
    "start_time": "2024-08-14T06:36:19.173Z"
   },
   {
    "duration": 14,
    "start_time": "2024-08-14T06:36:19.237Z"
   },
   {
    "duration": 218,
    "start_time": "2024-08-14T06:36:19.252Z"
   },
   {
    "duration": 569,
    "start_time": "2024-08-14T06:36:19.472Z"
   },
   {
    "duration": 8,
    "start_time": "2024-08-14T06:36:20.045Z"
   },
   {
    "duration": 67,
    "start_time": "2024-08-14T06:36:20.055Z"
   },
   {
    "duration": 235,
    "start_time": "2024-08-14T06:36:20.124Z"
   },
   {
    "duration": 3,
    "start_time": "2024-08-14T06:36:20.361Z"
   },
   {
    "duration": 16,
    "start_time": "2024-08-14T06:36:20.366Z"
   },
   {
    "duration": 31,
    "start_time": "2024-08-14T06:36:20.384Z"
   },
   {
    "duration": 28,
    "start_time": "2024-08-14T06:36:20.417Z"
   },
   {
    "duration": 600,
    "start_time": "2024-08-14T06:36:20.447Z"
   },
   {
    "duration": 5,
    "start_time": "2024-08-14T06:36:21.048Z"
   },
   {
    "duration": 37,
    "start_time": "2024-08-14T06:36:21.054Z"
   },
   {
    "duration": 737,
    "start_time": "2024-08-14T06:36:21.093Z"
   },
   {
    "duration": 300,
    "start_time": "2024-08-14T06:36:21.831Z"
   },
   {
    "duration": 4,
    "start_time": "2024-08-14T06:36:22.146Z"
   },
   {
    "duration": 336,
    "start_time": "2024-08-14T06:36:22.152Z"
   },
   {
    "duration": 69,
    "start_time": "2024-08-14T08:10:32.757Z"
   },
   {
    "duration": 1159,
    "start_time": "2024-08-14T08:13:20.966Z"
   },
   {
    "duration": 120,
    "start_time": "2024-08-14T08:13:22.127Z"
   },
   {
    "duration": 147,
    "start_time": "2024-08-14T08:13:22.249Z"
   },
   {
    "duration": 67,
    "start_time": "2024-08-14T08:13:22.399Z"
   },
   {
    "duration": 4,
    "start_time": "2024-08-14T08:13:22.468Z"
   },
   {
    "duration": 32,
    "start_time": "2024-08-14T08:13:22.474Z"
   },
   {
    "duration": 23,
    "start_time": "2024-08-14T08:13:22.507Z"
   },
   {
    "duration": 24,
    "start_time": "2024-08-14T08:13:22.532Z"
   },
   {
    "duration": 8,
    "start_time": "2024-08-14T08:13:22.557Z"
   },
   {
    "duration": 23,
    "start_time": "2024-08-14T08:13:22.568Z"
   },
   {
    "duration": 16,
    "start_time": "2024-08-14T08:13:22.593Z"
   },
   {
    "duration": 34,
    "start_time": "2024-08-14T08:13:22.611Z"
   },
   {
    "duration": 5,
    "start_time": "2024-08-14T08:13:22.647Z"
   },
   {
    "duration": 31,
    "start_time": "2024-08-14T08:13:22.654Z"
   },
   {
    "duration": 22,
    "start_time": "2024-08-14T08:13:22.687Z"
   },
   {
    "duration": 15,
    "start_time": "2024-08-14T08:13:22.711Z"
   },
   {
    "duration": 17,
    "start_time": "2024-08-14T08:13:22.727Z"
   },
   {
    "duration": 210,
    "start_time": "2024-08-14T08:13:22.746Z"
   },
   {
    "duration": 21,
    "start_time": "2024-08-14T08:13:22.958Z"
   },
   {
    "duration": 239,
    "start_time": "2024-08-14T08:13:22.982Z"
   },
   {
    "duration": 16,
    "start_time": "2024-08-14T08:13:23.223Z"
   },
   {
    "duration": 270,
    "start_time": "2024-08-14T08:13:23.240Z"
   },
   {
    "duration": 6,
    "start_time": "2024-08-14T08:13:23.512Z"
   },
   {
    "duration": 19,
    "start_time": "2024-08-14T08:13:23.519Z"
   },
   {
    "duration": 249,
    "start_time": "2024-08-14T08:13:23.539Z"
   },
   {
    "duration": 48,
    "start_time": "2024-08-14T08:13:23.790Z"
   },
   {
    "duration": 5,
    "start_time": "2024-08-14T08:13:23.840Z"
   },
   {
    "duration": 260,
    "start_time": "2024-08-14T08:13:23.848Z"
   },
   {
    "duration": 7,
    "start_time": "2024-08-14T08:13:24.110Z"
   },
   {
    "duration": 40,
    "start_time": "2024-08-14T08:13:24.118Z"
   },
   {
    "duration": 4,
    "start_time": "2024-08-14T08:13:24.160Z"
   },
   {
    "duration": 20,
    "start_time": "2024-08-14T08:13:24.165Z"
   },
   {
    "duration": 18,
    "start_time": "2024-08-14T08:13:24.186Z"
   },
   {
    "duration": 741,
    "start_time": "2024-08-14T08:13:24.205Z"
   },
   {
    "duration": 6,
    "start_time": "2024-08-14T08:13:24.948Z"
   },
   {
    "duration": 597,
    "start_time": "2024-08-14T08:13:24.956Z"
   },
   {
    "duration": 7,
    "start_time": "2024-08-14T08:13:25.555Z"
   },
   {
    "duration": 41,
    "start_time": "2024-08-14T08:13:25.563Z"
   },
   {
    "duration": 3,
    "start_time": "2024-08-14T08:13:25.605Z"
   },
   {
    "duration": 269,
    "start_time": "2024-08-14T08:13:25.609Z"
   },
   {
    "duration": 616,
    "start_time": "2024-08-14T08:13:25.879Z"
   },
   {
    "duration": 8,
    "start_time": "2024-08-14T08:13:26.496Z"
   },
   {
    "duration": 6,
    "start_time": "2024-08-14T08:13:26.506Z"
   },
   {
    "duration": 216,
    "start_time": "2024-08-14T08:13:26.514Z"
   },
   {
    "duration": 7,
    "start_time": "2024-08-14T08:13:26.731Z"
   },
   {
    "duration": 11,
    "start_time": "2024-08-14T08:13:26.740Z"
   },
   {
    "duration": 19,
    "start_time": "2024-08-14T08:13:26.753Z"
   },
   {
    "duration": 9,
    "start_time": "2024-08-14T08:13:26.773Z"
   },
   {
    "duration": 556,
    "start_time": "2024-08-14T08:13:26.784Z"
   },
   {
    "duration": 6,
    "start_time": "2024-08-14T08:13:27.342Z"
   },
   {
    "duration": 120,
    "start_time": "2024-08-14T08:13:27.350Z"
   },
   {
    "duration": 732,
    "start_time": "2024-08-14T08:13:27.473Z"
   },
   {
    "duration": 315,
    "start_time": "2024-08-14T08:13:28.207Z"
   },
   {
    "duration": 16,
    "start_time": "2024-08-14T08:13:28.524Z"
   },
   {
    "duration": 321,
    "start_time": "2024-08-14T08:13:28.542Z"
   },
   {
    "duration": 25,
    "start_time": "2024-08-14T08:16:49.906Z"
   },
   {
    "duration": 1066,
    "start_time": "2024-08-14T08:16:56.012Z"
   },
   {
    "duration": 79,
    "start_time": "2024-08-14T08:16:57.080Z"
   },
   {
    "duration": 27,
    "start_time": "2024-08-14T08:16:57.160Z"
   },
   {
    "duration": 15,
    "start_time": "2024-08-14T08:16:57.189Z"
   },
   {
    "duration": 3,
    "start_time": "2024-08-14T08:16:57.206Z"
   },
   {
    "duration": 58,
    "start_time": "2024-08-14T08:16:57.211Z"
   },
   {
    "duration": 33,
    "start_time": "2024-08-14T08:16:57.271Z"
   },
   {
    "duration": 17,
    "start_time": "2024-08-14T08:16:57.306Z"
   },
   {
    "duration": 20,
    "start_time": "2024-08-14T08:16:57.324Z"
   },
   {
    "duration": 20,
    "start_time": "2024-08-14T08:16:57.346Z"
   },
   {
    "duration": 10,
    "start_time": "2024-08-14T08:16:57.368Z"
   },
   {
    "duration": 22,
    "start_time": "2024-08-14T08:16:57.380Z"
   },
   {
    "duration": 15,
    "start_time": "2024-08-14T08:16:57.403Z"
   },
   {
    "duration": 7,
    "start_time": "2024-08-14T08:16:57.420Z"
   },
   {
    "duration": 5,
    "start_time": "2024-08-14T08:16:57.429Z"
   },
   {
    "duration": 8,
    "start_time": "2024-08-14T08:16:57.436Z"
   },
   {
    "duration": 17,
    "start_time": "2024-08-14T08:16:57.445Z"
   },
   {
    "duration": 199,
    "start_time": "2024-08-14T08:16:57.464Z"
   },
   {
    "duration": 13,
    "start_time": "2024-08-14T08:16:57.665Z"
   },
   {
    "duration": 151,
    "start_time": "2024-08-14T08:16:57.679Z"
   },
   {
    "duration": 15,
    "start_time": "2024-08-14T08:16:57.831Z"
   },
   {
    "duration": 298,
    "start_time": "2024-08-14T08:16:57.848Z"
   },
   {
    "duration": 7,
    "start_time": "2024-08-14T08:16:58.147Z"
   },
   {
    "duration": 38,
    "start_time": "2024-08-14T08:16:58.156Z"
   },
   {
    "duration": 267,
    "start_time": "2024-08-14T08:16:58.196Z"
   },
   {
    "duration": 38,
    "start_time": "2024-08-14T08:16:58.465Z"
   },
   {
    "duration": 5,
    "start_time": "2024-08-14T08:16:58.505Z"
   },
   {
    "duration": 279,
    "start_time": "2024-08-14T08:16:58.514Z"
   },
   {
    "duration": 6,
    "start_time": "2024-08-14T08:16:58.794Z"
   },
   {
    "duration": 37,
    "start_time": "2024-08-14T08:16:58.802Z"
   },
   {
    "duration": 4,
    "start_time": "2024-08-14T08:16:58.841Z"
   },
   {
    "duration": 37,
    "start_time": "2024-08-14T08:16:58.846Z"
   },
   {
    "duration": 37,
    "start_time": "2024-08-14T08:16:58.884Z"
   },
   {
    "duration": 656,
    "start_time": "2024-08-14T08:16:58.923Z"
   },
   {
    "duration": 7,
    "start_time": "2024-08-14T08:16:59.580Z"
   },
   {
    "duration": 634,
    "start_time": "2024-08-14T08:16:59.588Z"
   },
   {
    "duration": 19,
    "start_time": "2024-08-14T08:17:00.224Z"
   },
   {
    "duration": 197,
    "start_time": "2024-08-14T08:17:00.245Z"
   },
   {
    "duration": 101,
    "start_time": "2024-08-14T08:17:00.444Z"
   },
   {
    "duration": 228,
    "start_time": "2024-08-14T08:17:00.547Z"
   },
   {
    "duration": 564,
    "start_time": "2024-08-14T08:17:00.776Z"
   },
   {
    "duration": 8,
    "start_time": "2024-08-14T08:17:01.342Z"
   },
   {
    "duration": 192,
    "start_time": "2024-08-14T08:17:01.352Z"
   },
   {
    "duration": 291,
    "start_time": "2024-08-14T08:17:01.546Z"
   },
   {
    "duration": 5,
    "start_time": "2024-08-14T08:17:01.839Z"
   },
   {
    "duration": 48,
    "start_time": "2024-08-14T08:17:01.845Z"
   },
   {
    "duration": 43,
    "start_time": "2024-08-14T08:17:01.895Z"
   },
   {
    "duration": 61,
    "start_time": "2024-08-14T08:17:01.940Z"
   },
   {
    "duration": 791,
    "start_time": "2024-08-14T08:17:02.003Z"
   },
   {
    "duration": 5,
    "start_time": "2024-08-14T08:17:02.796Z"
   },
   {
    "duration": 38,
    "start_time": "2024-08-14T08:17:02.802Z"
   },
   {
    "duration": 715,
    "start_time": "2024-08-14T08:17:02.842Z"
   },
   {
    "duration": 297,
    "start_time": "2024-08-14T08:17:03.559Z"
   },
   {
    "duration": 4,
    "start_time": "2024-08-14T08:17:03.858Z"
   },
   {
    "duration": 316,
    "start_time": "2024-08-14T08:17:03.864Z"
   },
   {
    "duration": 1099,
    "start_time": "2024-08-14T08:17:45.618Z"
   },
   {
    "duration": 82,
    "start_time": "2024-08-14T08:17:46.719Z"
   },
   {
    "duration": 27,
    "start_time": "2024-08-14T08:17:46.803Z"
   },
   {
    "duration": 15,
    "start_time": "2024-08-14T08:17:46.832Z"
   },
   {
    "duration": 4,
    "start_time": "2024-08-14T08:17:46.849Z"
   },
   {
    "duration": 35,
    "start_time": "2024-08-14T08:17:46.854Z"
   },
   {
    "duration": 34,
    "start_time": "2024-08-14T08:17:46.891Z"
   },
   {
    "duration": 24,
    "start_time": "2024-08-14T08:17:46.938Z"
   },
   {
    "duration": 12,
    "start_time": "2024-08-14T08:17:46.964Z"
   },
   {
    "duration": 22,
    "start_time": "2024-08-14T08:17:46.979Z"
   },
   {
    "duration": 8,
    "start_time": "2024-08-14T08:17:47.004Z"
   },
   {
    "duration": 92,
    "start_time": "2024-08-14T08:17:47.038Z"
   },
   {
    "duration": 15,
    "start_time": "2024-08-14T08:17:47.132Z"
   },
   {
    "duration": 18,
    "start_time": "2024-08-14T08:17:47.148Z"
   },
   {
    "duration": 8,
    "start_time": "2024-08-14T08:17:47.168Z"
   },
   {
    "duration": 16,
    "start_time": "2024-08-14T08:17:47.177Z"
   },
   {
    "duration": 24,
    "start_time": "2024-08-14T08:17:47.194Z"
   },
   {
    "duration": 198,
    "start_time": "2024-08-14T08:17:47.220Z"
   },
   {
    "duration": 19,
    "start_time": "2024-08-14T08:17:47.420Z"
   },
   {
    "duration": 166,
    "start_time": "2024-08-14T08:17:47.440Z"
   },
   {
    "duration": 12,
    "start_time": "2024-08-14T08:17:47.608Z"
   },
   {
    "duration": 296,
    "start_time": "2024-08-14T08:17:47.622Z"
   },
   {
    "duration": 18,
    "start_time": "2024-08-14T08:17:47.920Z"
   },
   {
    "duration": 11,
    "start_time": "2024-08-14T08:17:47.941Z"
   },
   {
    "duration": 351,
    "start_time": "2024-08-14T08:17:47.954Z"
   },
   {
    "duration": 53,
    "start_time": "2024-08-14T08:17:48.307Z"
   },
   {
    "duration": 39,
    "start_time": "2024-08-14T08:17:48.362Z"
   },
   {
    "duration": 301,
    "start_time": "2024-08-14T08:17:48.405Z"
   },
   {
    "duration": 7,
    "start_time": "2024-08-14T08:17:48.708Z"
   },
   {
    "duration": 54,
    "start_time": "2024-08-14T08:17:48.717Z"
   },
   {
    "duration": 6,
    "start_time": "2024-08-14T08:17:48.773Z"
   },
   {
    "duration": 31,
    "start_time": "2024-08-14T08:17:48.780Z"
   },
   {
    "duration": 42,
    "start_time": "2024-08-14T08:17:48.813Z"
   },
   {
    "duration": 686,
    "start_time": "2024-08-14T08:17:48.857Z"
   },
   {
    "duration": 7,
    "start_time": "2024-08-14T08:17:49.544Z"
   },
   {
    "duration": 574,
    "start_time": "2024-08-14T08:17:49.553Z"
   },
   {
    "duration": 12,
    "start_time": "2024-08-14T08:17:50.129Z"
   },
   {
    "duration": 56,
    "start_time": "2024-08-14T08:17:50.143Z"
   },
   {
    "duration": 3,
    "start_time": "2024-08-14T08:17:50.201Z"
   },
   {
    "duration": 279,
    "start_time": "2024-08-14T08:17:50.206Z"
   },
   {
    "duration": 632,
    "start_time": "2024-08-14T08:17:50.488Z"
   },
   {
    "duration": 18,
    "start_time": "2024-08-14T08:17:51.122Z"
   },
   {
    "duration": 13,
    "start_time": "2024-08-14T08:17:51.141Z"
   },
   {
    "duration": 234,
    "start_time": "2024-08-14T08:17:51.155Z"
   },
   {
    "duration": 4,
    "start_time": "2024-08-14T08:17:51.390Z"
   },
   {
    "duration": 13,
    "start_time": "2024-08-14T08:17:51.396Z"
   },
   {
    "duration": 18,
    "start_time": "2024-08-14T08:17:51.411Z"
   },
   {
    "duration": 21,
    "start_time": "2024-08-14T08:17:51.431Z"
   },
   {
    "duration": 638,
    "start_time": "2024-08-14T08:17:51.454Z"
   },
   {
    "duration": 6,
    "start_time": "2024-08-14T08:17:52.095Z"
   },
   {
    "duration": 17,
    "start_time": "2024-08-14T08:17:52.103Z"
   },
   {
    "duration": 728,
    "start_time": "2024-08-14T08:17:52.122Z"
   },
   {
    "duration": 321,
    "start_time": "2024-08-14T08:17:52.851Z"
   },
   {
    "duration": 5,
    "start_time": "2024-08-14T08:17:53.173Z"
   },
   {
    "duration": 335,
    "start_time": "2024-08-14T08:17:53.180Z"
   },
   {
    "duration": 1060,
    "start_time": "2024-08-14T08:21:19.567Z"
   },
   {
    "duration": 86,
    "start_time": "2024-08-14T08:21:20.629Z"
   },
   {
    "duration": 28,
    "start_time": "2024-08-14T08:21:20.717Z"
   },
   {
    "duration": 16,
    "start_time": "2024-08-14T08:21:20.747Z"
   },
   {
    "duration": 5,
    "start_time": "2024-08-14T08:21:20.764Z"
   },
   {
    "duration": 39,
    "start_time": "2024-08-14T08:21:20.770Z"
   },
   {
    "duration": 39,
    "start_time": "2024-08-14T08:21:20.811Z"
   },
   {
    "duration": 19,
    "start_time": "2024-08-14T08:21:20.852Z"
   },
   {
    "duration": 9,
    "start_time": "2024-08-14T08:21:20.873Z"
   },
   {
    "duration": 57,
    "start_time": "2024-08-14T08:21:20.885Z"
   },
   {
    "duration": 5,
    "start_time": "2024-08-14T08:21:20.944Z"
   },
   {
    "duration": 12,
    "start_time": "2024-08-14T08:21:20.951Z"
   },
   {
    "duration": 7,
    "start_time": "2024-08-14T08:21:20.965Z"
   },
   {
    "duration": 24,
    "start_time": "2024-08-14T08:21:20.974Z"
   },
   {
    "duration": 12,
    "start_time": "2024-08-14T08:21:21.000Z"
   },
   {
    "duration": 24,
    "start_time": "2024-08-14T08:21:21.015Z"
   },
   {
    "duration": 14,
    "start_time": "2024-08-14T08:21:21.041Z"
   },
   {
    "duration": 273,
    "start_time": "2024-08-14T08:21:21.056Z"
   },
   {
    "duration": 21,
    "start_time": "2024-08-14T08:21:21.331Z"
   },
   {
    "duration": 157,
    "start_time": "2024-08-14T08:21:21.354Z"
   },
   {
    "duration": 15,
    "start_time": "2024-08-14T08:21:21.513Z"
   },
   {
    "duration": 296,
    "start_time": "2024-08-14T08:21:21.543Z"
   },
   {
    "duration": 7,
    "start_time": "2024-08-14T08:21:21.841Z"
   },
   {
    "duration": 10,
    "start_time": "2024-08-14T08:21:21.849Z"
   },
   {
    "duration": 297,
    "start_time": "2024-08-14T08:21:21.861Z"
   },
   {
    "duration": 41,
    "start_time": "2024-08-14T08:21:22.160Z"
   },
   {
    "duration": 6,
    "start_time": "2024-08-14T08:21:22.202Z"
   },
   {
    "duration": 290,
    "start_time": "2024-08-14T08:21:22.212Z"
   },
   {
    "duration": 8,
    "start_time": "2024-08-14T08:21:22.504Z"
   },
   {
    "duration": 54,
    "start_time": "2024-08-14T08:21:22.514Z"
   },
   {
    "duration": 5,
    "start_time": "2024-08-14T08:21:22.570Z"
   },
   {
    "duration": 57,
    "start_time": "2024-08-14T08:21:22.577Z"
   },
   {
    "duration": 21,
    "start_time": "2024-08-14T08:21:22.637Z"
   },
   {
    "duration": 683,
    "start_time": "2024-08-14T08:21:22.660Z"
   },
   {
    "duration": 6,
    "start_time": "2024-08-14T08:21:23.344Z"
   },
   {
    "duration": 624,
    "start_time": "2024-08-14T08:21:23.352Z"
   },
   {
    "duration": 7,
    "start_time": "2024-08-14T08:21:23.977Z"
   },
   {
    "duration": 41,
    "start_time": "2024-08-14T08:21:23.986Z"
   },
   {
    "duration": 8,
    "start_time": "2024-08-14T08:21:24.029Z"
   },
   {
    "duration": 213,
    "start_time": "2024-08-14T08:21:24.039Z"
   },
   {
    "duration": 686,
    "start_time": "2024-08-14T08:21:24.254Z"
   },
   {
    "duration": 8,
    "start_time": "2024-08-14T08:21:24.942Z"
   },
   {
    "duration": 5,
    "start_time": "2024-08-14T08:21:24.952Z"
   },
   {
    "duration": 244,
    "start_time": "2024-08-14T08:21:24.958Z"
   },
   {
    "duration": 4,
    "start_time": "2024-08-14T08:21:25.204Z"
   },
   {
    "duration": 15,
    "start_time": "2024-08-14T08:21:25.210Z"
   },
   {
    "duration": 13,
    "start_time": "2024-08-14T08:21:25.227Z"
   },
   {
    "duration": 6,
    "start_time": "2024-08-14T08:21:25.242Z"
   },
   {
    "duration": 614,
    "start_time": "2024-08-14T08:21:25.250Z"
   },
   {
    "duration": 6,
    "start_time": "2024-08-14T08:21:25.866Z"
   },
   {
    "duration": 12,
    "start_time": "2024-08-14T08:21:25.874Z"
   },
   {
    "duration": 749,
    "start_time": "2024-08-14T08:21:25.888Z"
   },
   {
    "duration": 317,
    "start_time": "2024-08-14T08:21:26.639Z"
   },
   {
    "duration": 6,
    "start_time": "2024-08-14T08:21:26.958Z"
   },
   {
    "duration": 349,
    "start_time": "2024-08-14T08:21:26.966Z"
   },
   {
    "duration": 56,
    "start_time": "2024-08-14T08:31:35.135Z"
   },
   {
    "duration": 9,
    "start_time": "2024-08-14T08:34:09.396Z"
   },
   {
    "duration": 1043,
    "start_time": "2024-08-14T08:34:24.119Z"
   },
   {
    "duration": 82,
    "start_time": "2024-08-14T08:34:25.163Z"
   },
   {
    "duration": 28,
    "start_time": "2024-08-14T08:34:25.246Z"
   },
   {
    "duration": 21,
    "start_time": "2024-08-14T08:34:25.276Z"
   },
   {
    "duration": 3,
    "start_time": "2024-08-14T08:34:25.299Z"
   },
   {
    "duration": 60,
    "start_time": "2024-08-14T08:34:25.304Z"
   },
   {
    "duration": 39,
    "start_time": "2024-08-14T08:34:25.366Z"
   },
   {
    "duration": 27,
    "start_time": "2024-08-14T08:34:25.406Z"
   },
   {
    "duration": 20,
    "start_time": "2024-08-14T08:34:25.434Z"
   },
   {
    "duration": 10,
    "start_time": "2024-08-14T08:34:25.458Z"
   },
   {
    "duration": 7,
    "start_time": "2024-08-14T08:34:25.469Z"
   },
   {
    "duration": 15,
    "start_time": "2024-08-14T08:34:25.478Z"
   },
   {
    "duration": 24,
    "start_time": "2024-08-14T08:34:25.495Z"
   },
   {
    "duration": 26,
    "start_time": "2024-08-14T08:34:25.521Z"
   },
   {
    "duration": 31,
    "start_time": "2024-08-14T08:34:25.549Z"
   },
   {
    "duration": 44,
    "start_time": "2024-08-14T08:34:25.582Z"
   },
   {
    "duration": 36,
    "start_time": "2024-08-14T08:34:25.628Z"
   },
   {
    "duration": 253,
    "start_time": "2024-08-14T08:34:25.666Z"
   },
   {
    "duration": 21,
    "start_time": "2024-08-14T08:34:25.921Z"
   },
   {
    "duration": 140,
    "start_time": "2024-08-14T08:34:25.943Z"
   },
   {
    "duration": 12,
    "start_time": "2024-08-14T08:34:26.084Z"
   },
   {
    "duration": 285,
    "start_time": "2024-08-14T08:34:26.098Z"
   },
   {
    "duration": 6,
    "start_time": "2024-08-14T08:34:26.385Z"
   },
   {
    "duration": 16,
    "start_time": "2024-08-14T08:34:26.392Z"
   },
   {
    "duration": 351,
    "start_time": "2024-08-14T08:34:26.410Z"
   },
   {
    "duration": 37,
    "start_time": "2024-08-14T08:34:26.763Z"
   },
   {
    "duration": 6,
    "start_time": "2024-08-14T08:34:26.801Z"
   },
   {
    "duration": 272,
    "start_time": "2024-08-14T08:34:26.811Z"
   },
   {
    "duration": 9,
    "start_time": "2024-08-14T08:34:27.085Z"
   },
   {
    "duration": 136,
    "start_time": "2024-08-14T08:34:27.095Z"
   },
   {
    "duration": 21,
    "start_time": "2024-08-14T08:34:27.233Z"
   },
   {
    "duration": 57,
    "start_time": "2024-08-14T08:34:27.255Z"
   },
   {
    "duration": 33,
    "start_time": "2024-08-14T08:34:27.314Z"
   },
   {
    "duration": 698,
    "start_time": "2024-08-14T08:34:27.349Z"
   },
   {
    "duration": 9,
    "start_time": "2024-08-14T08:34:28.048Z"
   },
   {
    "duration": 658,
    "start_time": "2024-08-14T08:34:28.058Z"
   },
   {
    "duration": 6,
    "start_time": "2024-08-14T08:34:28.718Z"
   },
   {
    "duration": 63,
    "start_time": "2024-08-14T08:34:28.726Z"
   },
   {
    "duration": 10,
    "start_time": "2024-08-14T08:34:28.791Z"
   },
   {
    "duration": 240,
    "start_time": "2024-08-14T08:34:28.802Z"
   },
   {
    "duration": 618,
    "start_time": "2024-08-14T08:34:29.043Z"
   },
   {
    "duration": 8,
    "start_time": "2024-08-14T08:34:29.663Z"
   },
   {
    "duration": 8,
    "start_time": "2024-08-14T08:34:29.673Z"
   },
   {
    "duration": 293,
    "start_time": "2024-08-14T08:34:29.683Z"
   },
   {
    "duration": 3,
    "start_time": "2024-08-14T08:34:29.978Z"
   },
   {
    "duration": 107,
    "start_time": "2024-08-14T08:34:29.982Z"
   },
   {
    "duration": 129,
    "start_time": "2024-08-14T08:34:30.091Z"
   },
   {
    "duration": 68,
    "start_time": "2024-08-14T08:34:30.222Z"
   },
   {
    "duration": 608,
    "start_time": "2024-08-14T08:34:30.292Z"
   },
   {
    "duration": 6,
    "start_time": "2024-08-14T08:34:30.901Z"
   },
   {
    "duration": 149,
    "start_time": "2024-08-14T08:34:30.908Z"
   },
   {
    "duration": 920,
    "start_time": "2024-08-14T08:34:31.058Z"
   },
   {
    "duration": 361,
    "start_time": "2024-08-14T08:34:31.980Z"
   },
   {
    "duration": 5,
    "start_time": "2024-08-14T08:34:32.343Z"
   },
   {
    "duration": 351,
    "start_time": "2024-08-14T08:34:32.350Z"
   },
   {
    "duration": 59,
    "start_time": "2024-08-14T08:35:21.597Z"
   },
   {
    "duration": 13,
    "start_time": "2024-08-14T08:35:26.323Z"
   },
   {
    "duration": 9,
    "start_time": "2024-08-14T08:37:16.672Z"
   },
   {
    "duration": 9,
    "start_time": "2024-08-14T08:37:50.733Z"
   },
   {
    "duration": 8,
    "start_time": "2024-08-14T08:37:56.876Z"
   },
   {
    "duration": 10,
    "start_time": "2024-08-14T08:38:15.607Z"
   },
   {
    "duration": 20,
    "start_time": "2024-08-14T08:38:19.455Z"
   },
   {
    "duration": 6,
    "start_time": "2024-08-14T08:38:57.230Z"
   },
   {
    "duration": 10,
    "start_time": "2024-08-14T08:42:41.177Z"
   },
   {
    "duration": 1059,
    "start_time": "2024-08-14T08:44:46.765Z"
   },
   {
    "duration": 83,
    "start_time": "2024-08-14T08:44:47.825Z"
   },
   {
    "duration": 28,
    "start_time": "2024-08-14T08:44:47.909Z"
   },
   {
    "duration": 17,
    "start_time": "2024-08-14T08:44:47.940Z"
   },
   {
    "duration": 4,
    "start_time": "2024-08-14T08:44:47.959Z"
   },
   {
    "duration": 42,
    "start_time": "2024-08-14T08:44:47.965Z"
   },
   {
    "duration": 69,
    "start_time": "2024-08-14T08:44:48.009Z"
   },
   {
    "duration": 17,
    "start_time": "2024-08-14T08:44:48.081Z"
   },
   {
    "duration": 22,
    "start_time": "2024-08-14T08:44:48.100Z"
   },
   {
    "duration": 12,
    "start_time": "2024-08-14T08:44:48.125Z"
   },
   {
    "duration": 5,
    "start_time": "2024-08-14T08:44:48.139Z"
   },
   {
    "duration": 6,
    "start_time": "2024-08-14T08:44:48.145Z"
   },
   {
    "duration": 10,
    "start_time": "2024-08-14T08:44:48.152Z"
   },
   {
    "duration": 31,
    "start_time": "2024-08-14T08:44:48.164Z"
   },
   {
    "duration": 7,
    "start_time": "2024-08-14T08:44:48.196Z"
   },
   {
    "duration": 20,
    "start_time": "2024-08-14T08:44:48.204Z"
   },
   {
    "duration": 50,
    "start_time": "2024-08-14T08:44:48.226Z"
   },
   {
    "duration": 178,
    "start_time": "2024-08-14T08:44:48.278Z"
   },
   {
    "duration": 13,
    "start_time": "2024-08-14T08:44:48.458Z"
   },
   {
    "duration": 182,
    "start_time": "2024-08-14T08:44:48.473Z"
   },
   {
    "duration": 13,
    "start_time": "2024-08-14T08:44:48.657Z"
   },
   {
    "duration": 272,
    "start_time": "2024-08-14T08:44:48.671Z"
   },
   {
    "duration": 7,
    "start_time": "2024-08-14T08:44:48.944Z"
   },
   {
    "duration": 24,
    "start_time": "2024-08-14T08:44:48.953Z"
   },
   {
    "duration": 270,
    "start_time": "2024-08-14T08:44:48.979Z"
   },
   {
    "duration": 39,
    "start_time": "2024-08-14T08:44:49.250Z"
   },
   {
    "duration": 5,
    "start_time": "2024-08-14T08:44:49.291Z"
   },
   {
    "duration": 268,
    "start_time": "2024-08-14T08:44:49.301Z"
   },
   {
    "duration": 11,
    "start_time": "2024-08-14T08:44:49.571Z"
   },
   {
    "duration": 11,
    "start_time": "2024-08-14T08:44:49.583Z"
   },
   {
    "duration": 42,
    "start_time": "2024-08-14T08:44:49.596Z"
   },
   {
    "duration": 4,
    "start_time": "2024-08-14T08:44:49.640Z"
   },
   {
    "duration": 22,
    "start_time": "2024-08-14T08:44:49.646Z"
   },
   {
    "duration": 14,
    "start_time": "2024-08-14T08:44:49.670Z"
   },
   {
    "duration": 638,
    "start_time": "2024-08-14T08:44:49.686Z"
   },
   {
    "duration": 14,
    "start_time": "2024-08-14T08:44:50.326Z"
   },
   {
    "duration": 619,
    "start_time": "2024-08-14T08:44:50.342Z"
   },
   {
    "duration": 7,
    "start_time": "2024-08-14T08:44:50.962Z"
   },
   {
    "duration": 43,
    "start_time": "2024-08-14T08:44:50.971Z"
   },
   {
    "duration": 2,
    "start_time": "2024-08-14T08:44:51.016Z"
   },
   {
    "duration": 231,
    "start_time": "2024-08-14T08:44:51.020Z"
   },
   {
    "duration": 569,
    "start_time": "2024-08-14T08:44:51.252Z"
   },
   {
    "duration": 17,
    "start_time": "2024-08-14T08:44:51.823Z"
   },
   {
    "duration": 26,
    "start_time": "2024-08-14T08:44:51.841Z"
   },
   {
    "duration": 245,
    "start_time": "2024-08-14T08:44:51.869Z"
   },
   {
    "duration": 4,
    "start_time": "2024-08-14T08:44:52.115Z"
   },
   {
    "duration": 36,
    "start_time": "2024-08-14T08:44:52.120Z"
   },
   {
    "duration": 30,
    "start_time": "2024-08-14T08:44:52.158Z"
   },
   {
    "duration": 17,
    "start_time": "2024-08-14T08:44:52.190Z"
   },
   {
    "duration": 605,
    "start_time": "2024-08-14T08:44:52.209Z"
   },
   {
    "duration": 5,
    "start_time": "2024-08-14T08:44:52.816Z"
   },
   {
    "duration": 27,
    "start_time": "2024-08-14T08:44:52.823Z"
   },
   {
    "duration": 719,
    "start_time": "2024-08-14T08:44:52.852Z"
   },
   {
    "duration": 278,
    "start_time": "2024-08-14T08:44:53.573Z"
   },
   {
    "duration": 6,
    "start_time": "2024-08-14T08:44:53.853Z"
   },
   {
    "duration": 339,
    "start_time": "2024-08-14T08:44:53.861Z"
   },
   {
    "duration": 1069,
    "start_time": "2024-08-15T03:08:50.855Z"
   },
   {
    "duration": 125,
    "start_time": "2024-08-15T03:08:51.926Z"
   },
   {
    "duration": 148,
    "start_time": "2024-08-15T03:08:52.053Z"
   },
   {
    "duration": 68,
    "start_time": "2024-08-15T03:08:52.203Z"
   },
   {
    "duration": 4,
    "start_time": "2024-08-15T03:08:52.273Z"
   },
   {
    "duration": 41,
    "start_time": "2024-08-15T03:08:52.279Z"
   },
   {
    "duration": 24,
    "start_time": "2024-08-15T03:08:52.322Z"
   },
   {
    "duration": 26,
    "start_time": "2024-08-15T03:08:52.348Z"
   },
   {
    "duration": 9,
    "start_time": "2024-08-15T03:08:52.375Z"
   },
   {
    "duration": 14,
    "start_time": "2024-08-15T03:08:52.391Z"
   },
   {
    "duration": 4,
    "start_time": "2024-08-15T03:08:52.407Z"
   },
   {
    "duration": 24,
    "start_time": "2024-08-15T03:08:52.413Z"
   },
   {
    "duration": 15,
    "start_time": "2024-08-15T03:08:52.439Z"
   },
   {
    "duration": 15,
    "start_time": "2024-08-15T03:08:52.457Z"
   },
   {
    "duration": 6,
    "start_time": "2024-08-15T03:08:52.473Z"
   },
   {
    "duration": 12,
    "start_time": "2024-08-15T03:08:52.481Z"
   },
   {
    "duration": 23,
    "start_time": "2024-08-15T03:08:52.495Z"
   },
   {
    "duration": 195,
    "start_time": "2024-08-15T03:08:52.520Z"
   },
   {
    "duration": 13,
    "start_time": "2024-08-15T03:08:52.717Z"
   },
   {
    "duration": 134,
    "start_time": "2024-08-15T03:08:52.732Z"
   },
   {
    "duration": 12,
    "start_time": "2024-08-15T03:08:52.868Z"
   },
   {
    "duration": 280,
    "start_time": "2024-08-15T03:08:52.882Z"
   },
   {
    "duration": 5,
    "start_time": "2024-08-15T03:08:53.164Z"
   },
   {
    "duration": 101,
    "start_time": "2024-08-15T03:08:53.171Z"
   },
   {
    "duration": 253,
    "start_time": "2024-08-15T03:08:53.274Z"
   },
   {
    "duration": 47,
    "start_time": "2024-08-15T03:08:53.529Z"
   },
   {
    "duration": 5,
    "start_time": "2024-08-15T03:08:53.577Z"
   },
   {
    "duration": 286,
    "start_time": "2024-08-15T03:08:53.583Z"
   },
   {
    "duration": 9,
    "start_time": "2024-08-15T03:08:53.871Z"
   },
   {
    "duration": 29,
    "start_time": "2024-08-15T03:08:53.882Z"
   },
   {
    "duration": 65,
    "start_time": "2024-08-15T03:08:53.913Z"
   },
   {
    "duration": 5,
    "start_time": "2024-08-15T03:08:53.979Z"
   },
   {
    "duration": 25,
    "start_time": "2024-08-15T03:08:53.986Z"
   },
   {
    "duration": 85,
    "start_time": "2024-08-15T03:08:54.013Z"
   },
   {
    "duration": 662,
    "start_time": "2024-08-15T03:08:54.100Z"
   },
   {
    "duration": 8,
    "start_time": "2024-08-15T03:08:54.763Z"
   },
   {
    "duration": 578,
    "start_time": "2024-08-15T03:08:54.772Z"
   },
   {
    "duration": 14,
    "start_time": "2024-08-15T03:08:55.351Z"
   },
   {
    "duration": 76,
    "start_time": "2024-08-15T03:08:55.367Z"
   },
   {
    "duration": 3,
    "start_time": "2024-08-15T03:08:55.444Z"
   },
   {
    "duration": 208,
    "start_time": "2024-08-15T03:08:55.451Z"
   },
   {
    "duration": 578,
    "start_time": "2024-08-15T03:08:55.664Z"
   },
   {
    "duration": 8,
    "start_time": "2024-08-15T03:08:56.244Z"
   },
   {
    "duration": 17,
    "start_time": "2024-08-15T03:08:56.253Z"
   },
   {
    "duration": 257,
    "start_time": "2024-08-15T03:08:56.271Z"
   },
   {
    "duration": 3,
    "start_time": "2024-08-15T03:08:56.530Z"
   },
   {
    "duration": 5,
    "start_time": "2024-08-15T03:08:56.534Z"
   },
   {
    "duration": 16,
    "start_time": "2024-08-15T03:08:56.541Z"
   },
   {
    "duration": 10,
    "start_time": "2024-08-15T03:08:56.559Z"
   },
   {
    "duration": 571,
    "start_time": "2024-08-15T03:08:56.571Z"
   },
   {
    "duration": 4,
    "start_time": "2024-08-15T03:08:57.144Z"
   },
   {
    "duration": 15,
    "start_time": "2024-08-15T03:08:57.150Z"
   },
   {
    "duration": 691,
    "start_time": "2024-08-15T03:08:57.166Z"
   },
   {
    "duration": 327,
    "start_time": "2024-08-15T03:08:57.859Z"
   },
   {
    "duration": 5,
    "start_time": "2024-08-15T03:08:58.189Z"
   },
   {
    "duration": 329,
    "start_time": "2024-08-15T03:08:58.196Z"
   },
   {
    "duration": 984,
    "start_time": "2024-08-15T03:09:31.527Z"
   },
   {
    "duration": 83,
    "start_time": "2024-08-15T03:09:32.513Z"
   },
   {
    "duration": 29,
    "start_time": "2024-08-15T03:09:32.598Z"
   },
   {
    "duration": 16,
    "start_time": "2024-08-15T03:09:32.628Z"
   },
   {
    "duration": 3,
    "start_time": "2024-08-15T03:09:32.647Z"
   },
   {
    "duration": 24,
    "start_time": "2024-08-15T03:09:32.652Z"
   },
   {
    "duration": 23,
    "start_time": "2024-08-15T03:09:32.677Z"
   },
   {
    "duration": 16,
    "start_time": "2024-08-15T03:09:32.702Z"
   },
   {
    "duration": 8,
    "start_time": "2024-08-15T03:09:32.719Z"
   },
   {
    "duration": 11,
    "start_time": "2024-08-15T03:09:32.765Z"
   },
   {
    "duration": 7,
    "start_time": "2024-08-15T03:09:32.777Z"
   },
   {
    "duration": 28,
    "start_time": "2024-08-15T03:09:32.785Z"
   },
   {
    "duration": 44,
    "start_time": "2024-08-15T03:09:32.815Z"
   },
   {
    "duration": 9,
    "start_time": "2024-08-15T03:09:32.863Z"
   },
   {
    "duration": 17,
    "start_time": "2024-08-15T03:09:32.873Z"
   },
   {
    "duration": 12,
    "start_time": "2024-08-15T03:09:32.892Z"
   },
   {
    "duration": 19,
    "start_time": "2024-08-15T03:09:32.906Z"
   },
   {
    "duration": 179,
    "start_time": "2024-08-15T03:09:32.927Z"
   },
   {
    "duration": 13,
    "start_time": "2024-08-15T03:09:33.108Z"
   },
   {
    "duration": 125,
    "start_time": "2024-08-15T03:09:33.123Z"
   },
   {
    "duration": 18,
    "start_time": "2024-08-15T03:09:33.250Z"
   },
   {
    "duration": 297,
    "start_time": "2024-08-15T03:09:33.269Z"
   },
   {
    "duration": 5,
    "start_time": "2024-08-15T03:09:33.568Z"
   },
   {
    "duration": 27,
    "start_time": "2024-08-15T03:09:33.575Z"
   },
   {
    "duration": 264,
    "start_time": "2024-08-15T03:09:33.604Z"
   },
   {
    "duration": 44,
    "start_time": "2024-08-15T03:09:33.871Z"
   },
   {
    "duration": 6,
    "start_time": "2024-08-15T03:09:33.916Z"
   },
   {
    "duration": 280,
    "start_time": "2024-08-15T03:09:33.924Z"
   },
   {
    "duration": 10,
    "start_time": "2024-08-15T03:09:34.206Z"
   },
   {
    "duration": 9,
    "start_time": "2024-08-15T03:09:34.218Z"
   },
   {
    "duration": 39,
    "start_time": "2024-08-15T03:09:34.228Z"
   },
   {
    "duration": 4,
    "start_time": "2024-08-15T03:09:34.268Z"
   },
   {
    "duration": 19,
    "start_time": "2024-08-15T03:09:34.274Z"
   },
   {
    "duration": 15,
    "start_time": "2024-08-15T03:09:34.295Z"
   },
   {
    "duration": 679,
    "start_time": "2024-08-15T03:09:34.312Z"
   },
   {
    "duration": 6,
    "start_time": "2024-08-15T03:09:34.993Z"
   },
   {
    "duration": 567,
    "start_time": "2024-08-15T03:09:35.001Z"
   },
   {
    "duration": 7,
    "start_time": "2024-08-15T03:09:35.569Z"
   },
   {
    "duration": 27,
    "start_time": "2024-08-15T03:09:35.578Z"
   },
   {
    "duration": 4,
    "start_time": "2024-08-15T03:09:35.607Z"
   },
   {
    "duration": 242,
    "start_time": "2024-08-15T03:09:35.615Z"
   },
   {
    "duration": 601,
    "start_time": "2024-08-15T03:09:35.858Z"
   },
   {
    "duration": 11,
    "start_time": "2024-08-15T03:09:36.461Z"
   },
   {
    "duration": 13,
    "start_time": "2024-08-15T03:09:36.473Z"
   },
   {
    "duration": 226,
    "start_time": "2024-08-15T03:09:36.487Z"
   },
   {
    "duration": 3,
    "start_time": "2024-08-15T03:09:36.715Z"
   },
   {
    "duration": 13,
    "start_time": "2024-08-15T03:09:36.720Z"
   },
   {
    "duration": 10,
    "start_time": "2024-08-15T03:09:36.734Z"
   },
   {
    "duration": 22,
    "start_time": "2024-08-15T03:09:36.745Z"
   },
   {
    "duration": 564,
    "start_time": "2024-08-15T03:09:36.768Z"
   },
   {
    "duration": 5,
    "start_time": "2024-08-15T03:09:37.334Z"
   },
   {
    "duration": 60,
    "start_time": "2024-08-15T03:09:37.340Z"
   },
   {
    "duration": 704,
    "start_time": "2024-08-15T03:09:37.402Z"
   },
   {
    "duration": 275,
    "start_time": "2024-08-15T03:09:38.107Z"
   },
   {
    "duration": 5,
    "start_time": "2024-08-15T03:09:38.384Z"
   },
   {
    "duration": 330,
    "start_time": "2024-08-15T03:09:38.391Z"
   },
   {
    "duration": 1079,
    "start_time": "2024-08-15T03:12:08.827Z"
   },
   {
    "duration": 83,
    "start_time": "2024-08-15T03:12:09.908Z"
   },
   {
    "duration": 30,
    "start_time": "2024-08-15T03:12:09.993Z"
   },
   {
    "duration": 15,
    "start_time": "2024-08-15T03:12:10.026Z"
   },
   {
    "duration": 12,
    "start_time": "2024-08-15T03:12:10.042Z"
   },
   {
    "duration": 39,
    "start_time": "2024-08-15T03:12:10.055Z"
   },
   {
    "duration": 26,
    "start_time": "2024-08-15T03:12:10.096Z"
   },
   {
    "duration": 43,
    "start_time": "2024-08-15T03:12:10.124Z"
   },
   {
    "duration": 8,
    "start_time": "2024-08-15T03:12:10.169Z"
   },
   {
    "duration": 9,
    "start_time": "2024-08-15T03:12:10.180Z"
   },
   {
    "duration": 6,
    "start_time": "2024-08-15T03:12:10.191Z"
   },
   {
    "duration": 6,
    "start_time": "2024-08-15T03:12:10.199Z"
   },
   {
    "duration": 5,
    "start_time": "2024-08-15T03:12:10.207Z"
   },
   {
    "duration": 52,
    "start_time": "2024-08-15T03:12:10.213Z"
   },
   {
    "duration": 6,
    "start_time": "2024-08-15T03:12:10.267Z"
   },
   {
    "duration": 7,
    "start_time": "2024-08-15T03:12:10.274Z"
   },
   {
    "duration": 20,
    "start_time": "2024-08-15T03:12:10.282Z"
   },
   {
    "duration": 191,
    "start_time": "2024-08-15T03:12:10.304Z"
   },
   {
    "duration": 14,
    "start_time": "2024-08-15T03:12:10.497Z"
   },
   {
    "duration": 139,
    "start_time": "2024-08-15T03:12:10.513Z"
   },
   {
    "duration": 25,
    "start_time": "2024-08-15T03:12:10.653Z"
   },
   {
    "duration": 309,
    "start_time": "2024-08-15T03:12:10.681Z"
   },
   {
    "duration": 7,
    "start_time": "2024-08-15T03:12:10.992Z"
   },
   {
    "duration": 9,
    "start_time": "2024-08-15T03:12:11.001Z"
   },
   {
    "duration": 271,
    "start_time": "2024-08-15T03:12:11.012Z"
   },
   {
    "duration": 42,
    "start_time": "2024-08-15T03:12:11.285Z"
   },
   {
    "duration": 5,
    "start_time": "2024-08-15T03:12:11.329Z"
   },
   {
    "duration": 330,
    "start_time": "2024-08-15T03:12:11.337Z"
   },
   {
    "duration": 9,
    "start_time": "2024-08-15T03:12:11.668Z"
   },
   {
    "duration": 13,
    "start_time": "2024-08-15T03:12:11.679Z"
   },
   {
    "duration": 25,
    "start_time": "2024-08-15T03:12:11.694Z"
   },
   {
    "duration": 3,
    "start_time": "2024-08-15T03:12:11.721Z"
   },
   {
    "duration": 40,
    "start_time": "2024-08-15T03:12:11.726Z"
   },
   {
    "duration": 15,
    "start_time": "2024-08-15T03:12:11.768Z"
   },
   {
    "duration": 710,
    "start_time": "2024-08-15T03:12:11.784Z"
   },
   {
    "duration": 10,
    "start_time": "2024-08-15T03:12:12.496Z"
   },
   {
    "duration": 662,
    "start_time": "2024-08-15T03:12:12.507Z"
   },
   {
    "duration": 8,
    "start_time": "2024-08-15T03:12:13.171Z"
   },
   {
    "duration": 42,
    "start_time": "2024-08-15T03:12:13.180Z"
   },
   {
    "duration": 3,
    "start_time": "2024-08-15T03:12:13.224Z"
   },
   {
    "duration": 295,
    "start_time": "2024-08-15T03:12:13.228Z"
   },
   {
    "duration": 633,
    "start_time": "2024-08-15T03:12:13.525Z"
   },
   {
    "duration": 10,
    "start_time": "2024-08-15T03:12:14.164Z"
   },
   {
    "duration": 7,
    "start_time": "2024-08-15T03:12:14.176Z"
   },
   {
    "duration": 227,
    "start_time": "2024-08-15T03:12:14.184Z"
   },
   {
    "duration": 4,
    "start_time": "2024-08-15T03:12:14.413Z"
   },
   {
    "duration": 6,
    "start_time": "2024-08-15T03:12:14.419Z"
   },
   {
    "duration": 28,
    "start_time": "2024-08-15T03:12:14.426Z"
   },
   {
    "duration": 8,
    "start_time": "2024-08-15T03:12:14.457Z"
   },
   {
    "duration": 613,
    "start_time": "2024-08-15T03:12:14.467Z"
   },
   {
    "duration": 7,
    "start_time": "2024-08-15T03:12:15.083Z"
   },
   {
    "duration": 21,
    "start_time": "2024-08-15T03:12:15.092Z"
   },
   {
    "duration": 752,
    "start_time": "2024-08-15T03:12:15.114Z"
   },
   {
    "duration": 323,
    "start_time": "2024-08-15T03:12:15.867Z"
   },
   {
    "duration": 5,
    "start_time": "2024-08-15T03:12:16.192Z"
   },
   {
    "duration": 359,
    "start_time": "2024-08-15T03:12:16.199Z"
   },
   {
    "duration": 1117,
    "start_time": "2024-08-15T03:13:18.633Z"
   },
   {
    "duration": 84,
    "start_time": "2024-08-15T03:13:19.752Z"
   },
   {
    "duration": 28,
    "start_time": "2024-08-15T03:13:19.839Z"
   },
   {
    "duration": 16,
    "start_time": "2024-08-15T03:13:19.869Z"
   },
   {
    "duration": 3,
    "start_time": "2024-08-15T03:13:19.887Z"
   },
   {
    "duration": 67,
    "start_time": "2024-08-15T03:13:19.892Z"
   },
   {
    "duration": 52,
    "start_time": "2024-08-15T03:13:19.960Z"
   },
   {
    "duration": 23,
    "start_time": "2024-08-15T03:13:20.014Z"
   },
   {
    "duration": 42,
    "start_time": "2024-08-15T03:13:20.039Z"
   },
   {
    "duration": 42,
    "start_time": "2024-08-15T03:13:20.085Z"
   },
   {
    "duration": 21,
    "start_time": "2024-08-15T03:13:20.129Z"
   },
   {
    "duration": 89,
    "start_time": "2024-08-15T03:13:20.151Z"
   },
   {
    "duration": 53,
    "start_time": "2024-08-15T03:13:20.242Z"
   },
   {
    "duration": 20,
    "start_time": "2024-08-15T03:13:20.297Z"
   },
   {
    "duration": 31,
    "start_time": "2024-08-15T03:13:20.319Z"
   },
   {
    "duration": 20,
    "start_time": "2024-08-15T03:13:20.352Z"
   },
   {
    "duration": 54,
    "start_time": "2024-08-15T03:13:20.374Z"
   },
   {
    "duration": 205,
    "start_time": "2024-08-15T03:13:20.430Z"
   },
   {
    "duration": 15,
    "start_time": "2024-08-15T03:13:20.637Z"
   },
   {
    "duration": 243,
    "start_time": "2024-08-15T03:13:20.654Z"
   },
   {
    "duration": 12,
    "start_time": "2024-08-15T03:13:20.898Z"
   },
   {
    "duration": 287,
    "start_time": "2024-08-15T03:13:20.911Z"
   },
   {
    "duration": 6,
    "start_time": "2024-08-15T03:13:21.200Z"
   },
   {
    "duration": 68,
    "start_time": "2024-08-15T03:13:21.208Z"
   },
   {
    "duration": 317,
    "start_time": "2024-08-15T03:13:21.279Z"
   },
   {
    "duration": 41,
    "start_time": "2024-08-15T03:13:21.598Z"
   },
   {
    "duration": 7,
    "start_time": "2024-08-15T03:13:21.640Z"
   },
   {
    "duration": 325,
    "start_time": "2024-08-15T03:13:21.669Z"
   },
   {
    "duration": 12,
    "start_time": "2024-08-15T03:13:21.997Z"
   },
   {
    "duration": 130,
    "start_time": "2024-08-15T03:13:22.011Z"
   },
   {
    "duration": 53,
    "start_time": "2024-08-15T03:13:22.144Z"
   },
   {
    "duration": 22,
    "start_time": "2024-08-15T03:13:22.199Z"
   },
   {
    "duration": 27,
    "start_time": "2024-08-15T03:13:22.223Z"
   },
   {
    "duration": 26,
    "start_time": "2024-08-15T03:13:22.252Z"
   },
   {
    "duration": 689,
    "start_time": "2024-08-15T03:13:22.280Z"
   },
   {
    "duration": 8,
    "start_time": "2024-08-15T03:13:22.970Z"
   },
   {
    "duration": 758,
    "start_time": "2024-08-15T03:13:22.980Z"
   },
   {
    "duration": 9,
    "start_time": "2024-08-15T03:13:23.741Z"
   },
   {
    "duration": 53,
    "start_time": "2024-08-15T03:13:23.752Z"
   },
   {
    "duration": 4,
    "start_time": "2024-08-15T03:13:23.807Z"
   },
   {
    "duration": 278,
    "start_time": "2024-08-15T03:13:23.812Z"
   },
   {
    "duration": 636,
    "start_time": "2024-08-15T03:13:24.091Z"
   },
   {
    "duration": 10,
    "start_time": "2024-08-15T03:13:24.729Z"
   },
   {
    "duration": 18,
    "start_time": "2024-08-15T03:13:24.740Z"
   },
   {
    "duration": 218,
    "start_time": "2024-08-15T03:13:24.765Z"
   },
   {
    "duration": 4,
    "start_time": "2024-08-15T03:13:24.985Z"
   },
   {
    "duration": 11,
    "start_time": "2024-08-15T03:13:24.990Z"
   },
   {
    "duration": 7,
    "start_time": "2024-08-15T03:13:25.003Z"
   },
   {
    "duration": 44,
    "start_time": "2024-08-15T03:13:25.011Z"
   },
   {
    "duration": 574,
    "start_time": "2024-08-15T03:13:25.057Z"
   },
   {
    "duration": 7,
    "start_time": "2024-08-15T03:13:25.633Z"
   },
   {
    "duration": 6,
    "start_time": "2024-08-15T03:13:25.642Z"
   },
   {
    "duration": 727,
    "start_time": "2024-08-15T03:13:25.649Z"
   },
   {
    "duration": 291,
    "start_time": "2024-08-15T03:13:26.377Z"
   },
   {
    "duration": 5,
    "start_time": "2024-08-15T03:13:26.669Z"
   },
   {
    "duration": 383,
    "start_time": "2024-08-15T03:13:26.676Z"
   },
   {
    "duration": 1131,
    "start_time": "2024-08-15T03:13:47.549Z"
   },
   {
    "duration": 80,
    "start_time": "2024-08-15T03:13:48.682Z"
   },
   {
    "duration": 27,
    "start_time": "2024-08-15T03:13:48.764Z"
   },
   {
    "duration": 15,
    "start_time": "2024-08-15T03:13:48.793Z"
   },
   {
    "duration": 5,
    "start_time": "2024-08-15T03:13:48.810Z"
   },
   {
    "duration": 33,
    "start_time": "2024-08-15T03:13:48.817Z"
   },
   {
    "duration": 43,
    "start_time": "2024-08-15T03:13:48.852Z"
   },
   {
    "duration": 20,
    "start_time": "2024-08-15T03:13:48.897Z"
   },
   {
    "duration": 9,
    "start_time": "2024-08-15T03:13:48.919Z"
   },
   {
    "duration": 43,
    "start_time": "2024-08-15T03:13:48.929Z"
   },
   {
    "duration": 6,
    "start_time": "2024-08-15T03:13:48.974Z"
   },
   {
    "duration": 55,
    "start_time": "2024-08-15T03:13:48.982Z"
   },
   {
    "duration": 12,
    "start_time": "2024-08-15T03:13:49.039Z"
   },
   {
    "duration": 22,
    "start_time": "2024-08-15T03:13:49.054Z"
   },
   {
    "duration": 8,
    "start_time": "2024-08-15T03:13:49.078Z"
   },
   {
    "duration": 23,
    "start_time": "2024-08-15T03:13:49.088Z"
   },
   {
    "duration": 15,
    "start_time": "2024-08-15T03:13:49.113Z"
   },
   {
    "duration": 171,
    "start_time": "2024-08-15T03:13:49.130Z"
   },
   {
    "duration": 14,
    "start_time": "2024-08-15T03:13:49.302Z"
   },
   {
    "duration": 126,
    "start_time": "2024-08-15T03:13:49.317Z"
   },
   {
    "duration": 21,
    "start_time": "2024-08-15T03:13:49.445Z"
   },
   {
    "duration": 286,
    "start_time": "2024-08-15T03:13:49.467Z"
   },
   {
    "duration": 14,
    "start_time": "2024-08-15T03:13:49.755Z"
   },
   {
    "duration": 11,
    "start_time": "2024-08-15T03:13:49.771Z"
   },
   {
    "duration": 284,
    "start_time": "2024-08-15T03:13:49.784Z"
   },
   {
    "duration": 48,
    "start_time": "2024-08-15T03:13:50.069Z"
   },
   {
    "duration": 6,
    "start_time": "2024-08-15T03:13:50.119Z"
   },
   {
    "duration": 277,
    "start_time": "2024-08-15T03:13:50.127Z"
   },
   {
    "duration": 11,
    "start_time": "2024-08-15T03:13:50.406Z"
   },
   {
    "duration": 19,
    "start_time": "2024-08-15T03:13:50.419Z"
   },
   {
    "duration": 45,
    "start_time": "2024-08-15T03:13:50.440Z"
   },
   {
    "duration": 5,
    "start_time": "2024-08-15T03:13:50.487Z"
   },
   {
    "duration": 28,
    "start_time": "2024-08-15T03:13:50.494Z"
   },
   {
    "duration": 17,
    "start_time": "2024-08-15T03:13:50.524Z"
   },
   {
    "duration": 741,
    "start_time": "2024-08-15T03:13:50.544Z"
   },
   {
    "duration": 9,
    "start_time": "2024-08-15T03:13:51.287Z"
   },
   {
    "duration": 616,
    "start_time": "2024-08-15T03:13:51.298Z"
   },
   {
    "duration": 7,
    "start_time": "2024-08-15T03:13:51.916Z"
   },
   {
    "duration": 43,
    "start_time": "2024-08-15T03:13:51.924Z"
   },
   {
    "duration": 4,
    "start_time": "2024-08-15T03:13:51.970Z"
   },
   {
    "duration": 227,
    "start_time": "2024-08-15T03:13:51.979Z"
   },
   {
    "duration": 706,
    "start_time": "2024-08-15T03:13:52.208Z"
   },
   {
    "duration": 9,
    "start_time": "2024-08-15T03:13:52.916Z"
   },
   {
    "duration": 25,
    "start_time": "2024-08-15T03:13:52.926Z"
   },
   {
    "duration": 244,
    "start_time": "2024-08-15T03:13:52.953Z"
   },
   {
    "duration": 4,
    "start_time": "2024-08-15T03:13:53.198Z"
   },
   {
    "duration": 6,
    "start_time": "2024-08-15T03:13:53.205Z"
   },
   {
    "duration": 8,
    "start_time": "2024-08-15T03:13:53.212Z"
   },
   {
    "duration": 78,
    "start_time": "2024-08-15T03:13:53.222Z"
   },
   {
    "duration": 565,
    "start_time": "2024-08-15T03:13:53.302Z"
   },
   {
    "duration": 6,
    "start_time": "2024-08-15T03:13:53.868Z"
   },
   {
    "duration": 4,
    "start_time": "2024-08-15T03:13:53.876Z"
   },
   {
    "duration": 803,
    "start_time": "2024-08-15T03:13:53.881Z"
   },
   {
    "duration": 293,
    "start_time": "2024-08-15T03:13:54.686Z"
   },
   {
    "duration": 6,
    "start_time": "2024-08-15T03:13:54.981Z"
   },
   {
    "duration": 451,
    "start_time": "2024-08-15T03:13:54.989Z"
   }
  ],
  "kernelspec": {
   "display_name": "Python 3 (ipykernel)",
   "language": "python",
   "name": "python3"
  },
  "language_info": {
   "codemirror_mode": {
    "name": "ipython",
    "version": 3
   },
   "file_extension": ".py",
   "mimetype": "text/x-python",
   "name": "python",
   "nbconvert_exporter": "python",
   "pygments_lexer": "ipython3",
   "version": "3.9.5"
  },
  "toc": {
   "base_numbering": 1,
   "nav_menu": {},
   "number_sections": false,
   "sideBar": true,
   "skip_h1_title": true,
   "title_cell": "Table of Contents",
   "title_sidebar": "Contents",
   "toc_cell": false,
   "toc_position": {},
   "toc_section_display": true,
   "toc_window_display": false
  }
 },
 "nbformat": 4,
 "nbformat_minor": 5
}
