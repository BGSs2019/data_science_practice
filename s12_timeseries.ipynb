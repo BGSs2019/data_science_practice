{
 "cells": [
  {
   "cell_type": "markdown",
   "metadata": {},
   "source": [
    "#  Прогнозирование заказов такси"
   ]
  },
  {
   "cell_type": "markdown",
   "metadata": {},
   "source": [
    "<a id='section_id'></a>\n",
    "## Содержание \n",
    "\n",
    "[Шаг 1. Загрузка данных](#section_id1)\n",
    "\n",
    "[Шаг 2. Предобработка и исследовательский анализ](#section_id2)\n",
    "\n",
    "[Шаг 3. Подготовка данных](#section_id3)\n",
    "\n",
    "[Шаг 4. Обучение моделей](#section_id4)\n",
    "\n",
    "[Шаг 5. Проверка на тестовой выборке](#section_id5)\n",
    "\n",
    "[Шаг 6. Вывод](#section_id6)"
   ]
  },
  {
   "cell_type": "markdown",
   "metadata": {},
   "source": [
    "## Описание исследования\n",
    "\n",
    "Компания «Чётенькое такси» собрала исторические данные о заказах такси в аэропортах. Чтобы привлекать больше водителей в период пиковой нагрузки, нужно спрогнозировать количество заказов такси на следующий час. Необходимо построить модель для предсказания.\n",
    "\n",
    "Значение метрики *RMSE* на тестовой выборке должно быть не больше 48."
   ]
  },
  {
   "cell_type": "markdown",
   "metadata": {},
   "source": [
    "## Цель исследования\n",
    "\n",
    "- Создать регрессионную модель для прогнозирования значений временного ряда"
   ]
  },
  {
   "cell_type": "markdown",
   "metadata": {},
   "source": [
    "## Ход исследования\n",
    "\n",
    "1. Загрузка данных\n",
    "2. Предобработка и исследовательский анализ\n",
    "3. Подготовка данных\n",
    "4. Обучение моделей\n",
    "5. Проверка на тестовой выборке\n",
    "6. Вывод"
   ]
  },
  {
   "cell_type": "markdown",
   "metadata": {},
   "source": [
    "## Описание данных\n",
    "\n",
    "- 'datetime' содержит дату и время заказа\n",
    "- 'num_orders' содержит количество заказов"
   ]
  },
  {
   "cell_type": "code",
   "execution_count": 1,
   "metadata": {},
   "outputs": [],
   "source": [
    "# импорт библиотек\n",
    "\n",
    "# работа с данными\n",
    "import pandas as pd\n",
    "import numpy as np\n",
    "\n",
    "# графика\n",
    "import matplotlib.pyplot as plt\n",
    "import seaborn as sns\n",
    "\n",
    "# анализ временных рядов\n",
    "from statsmodels.tsa.seasonal import seasonal_decompose\n",
    "from statsmodels.tsa.stattools import adfuller\n",
    "from statsmodels.graphics.tsaplots import plot_acf\n",
    "\n",
    "# подготовка данных\n",
    "from sklearn.model_selection import train_test_split, TimeSeriesSplit\n",
    "\n",
    "# модели машинного обучения\n",
    "from sklearn.linear_model import LinearRegression\n",
    "from sklearn.tree import DecisionTreeRegressor\n",
    "from lightgbm import LGBMRegressor\n",
    "\n",
    "# пайплайны\n",
    "from sklearn.pipeline import Pipeline\n",
    "\n",
    "# инструменты поиска\n",
    "from sklearn.model_selection import GridSearchCV\n",
    "\n",
    "# инструменты управления ресурсами\n",
    "import joblib\n",
    "\n",
    "# метрика для оценки прогноза\n",
    "from sklearn.metrics import mean_squared_error"
   ]
  },
  {
   "cell_type": "code",
   "execution_count": 2,
   "metadata": {},
   "outputs": [],
   "source": [
    "# константы\n",
    "TEST_SIZE = 0.25 \n",
    "RANDOM_STATE = 42"
   ]
  },
  {
   "cell_type": "markdown",
   "metadata": {},
   "source": [
    "<a id='section_id1'></a>\n",
    "## Шаг 1. Загрузка данных\n",
    "[к содержанию](#section_id)"
   ]
  },
  {
   "cell_type": "code",
   "execution_count": 3,
   "metadata": {},
   "outputs": [
    {
     "data": {
      "text/html": [
       "<div>\n",
       "<style scoped>\n",
       "    .dataframe tbody tr th:only-of-type {\n",
       "        vertical-align: middle;\n",
       "    }\n",
       "\n",
       "    .dataframe tbody tr th {\n",
       "        vertical-align: top;\n",
       "    }\n",
       "\n",
       "    .dataframe thead th {\n",
       "        text-align: right;\n",
       "    }\n",
       "</style>\n",
       "<table border=\"1\" class=\"dataframe\">\n",
       "  <thead>\n",
       "    <tr style=\"text-align: right;\">\n",
       "      <th></th>\n",
       "      <th>num_orders</th>\n",
       "    </tr>\n",
       "    <tr>\n",
       "      <th>datetime</th>\n",
       "      <th></th>\n",
       "    </tr>\n",
       "  </thead>\n",
       "  <tbody>\n",
       "    <tr>\n",
       "      <th>2018-03-01 00:00:00</th>\n",
       "      <td>9</td>\n",
       "    </tr>\n",
       "    <tr>\n",
       "      <th>2018-03-01 00:10:00</th>\n",
       "      <td>14</td>\n",
       "    </tr>\n",
       "    <tr>\n",
       "      <th>2018-03-01 00:20:00</th>\n",
       "      <td>28</td>\n",
       "    </tr>\n",
       "    <tr>\n",
       "      <th>2018-03-01 00:30:00</th>\n",
       "      <td>20</td>\n",
       "    </tr>\n",
       "    <tr>\n",
       "      <th>2018-03-01 00:40:00</th>\n",
       "      <td>32</td>\n",
       "    </tr>\n",
       "  </tbody>\n",
       "</table>\n",
       "</div>"
      ],
      "text/plain": [
       "                     num_orders\n",
       "datetime                       \n",
       "2018-03-01 00:00:00           9\n",
       "2018-03-01 00:10:00          14\n",
       "2018-03-01 00:20:00          28\n",
       "2018-03-01 00:30:00          20\n",
       "2018-03-01 00:40:00          32"
      ]
     },
     "execution_count": 3,
     "metadata": {},
     "output_type": "execute_result"
    }
   ],
   "source": [
    "# загрузка данных\n",
    "df = pd.read_csv('/datasets/taxi.csv',\n",
    "                 parse_dates=['datetime'],\n",
    "                 index_col='datetime')\n",
    "df.head()"
   ]
  },
  {
   "cell_type": "code",
   "execution_count": 4,
   "metadata": {},
   "outputs": [],
   "source": [
    "# сортировка по индексу\n",
    "df.sort_index(inplace=True)\n",
    "\n",
    "# ресэмплирование данных по 1 часу\n",
    "df = df.resample('1H').sum()"
   ]
  },
  {
   "cell_type": "code",
   "execution_count": 5,
   "metadata": {},
   "outputs": [
    {
     "data": {
      "text/plain": [
       "<Hour>"
      ]
     },
     "execution_count": 5,
     "metadata": {},
     "output_type": "execute_result"
    }
   ],
   "source": [
    "# проверка атрибута freq, без которого не работает seasonal_decompose\n",
    "df.index.freq"
   ]
  },
  {
   "cell_type": "markdown",
   "metadata": {},
   "source": [
    "### Обзор данных"
   ]
  },
  {
   "cell_type": "code",
   "execution_count": 6,
   "metadata": {},
   "outputs": [],
   "source": [
    "# функция для обзора данных\n",
    "def preview(dataset):\n",
    "    '''Функция принимает на вход набор данных и выводит основную информацию о нем.'''\n",
    "    display(dataset.head())\n",
    "    dataset.info()\n",
    "    display(dataset.describe(include='all', datetime_is_numeric=True).T)"
   ]
  },
  {
   "cell_type": "code",
   "execution_count": 7,
   "metadata": {},
   "outputs": [
    {
     "data": {
      "text/html": [
       "<div>\n",
       "<style scoped>\n",
       "    .dataframe tbody tr th:only-of-type {\n",
       "        vertical-align: middle;\n",
       "    }\n",
       "\n",
       "    .dataframe tbody tr th {\n",
       "        vertical-align: top;\n",
       "    }\n",
       "\n",
       "    .dataframe thead th {\n",
       "        text-align: right;\n",
       "    }\n",
       "</style>\n",
       "<table border=\"1\" class=\"dataframe\">\n",
       "  <thead>\n",
       "    <tr style=\"text-align: right;\">\n",
       "      <th></th>\n",
       "      <th>num_orders</th>\n",
       "    </tr>\n",
       "    <tr>\n",
       "      <th>datetime</th>\n",
       "      <th></th>\n",
       "    </tr>\n",
       "  </thead>\n",
       "  <tbody>\n",
       "    <tr>\n",
       "      <th>2018-03-01 00:00:00</th>\n",
       "      <td>124</td>\n",
       "    </tr>\n",
       "    <tr>\n",
       "      <th>2018-03-01 01:00:00</th>\n",
       "      <td>85</td>\n",
       "    </tr>\n",
       "    <tr>\n",
       "      <th>2018-03-01 02:00:00</th>\n",
       "      <td>71</td>\n",
       "    </tr>\n",
       "    <tr>\n",
       "      <th>2018-03-01 03:00:00</th>\n",
       "      <td>66</td>\n",
       "    </tr>\n",
       "    <tr>\n",
       "      <th>2018-03-01 04:00:00</th>\n",
       "      <td>43</td>\n",
       "    </tr>\n",
       "  </tbody>\n",
       "</table>\n",
       "</div>"
      ],
      "text/plain": [
       "                     num_orders\n",
       "datetime                       \n",
       "2018-03-01 00:00:00         124\n",
       "2018-03-01 01:00:00          85\n",
       "2018-03-01 02:00:00          71\n",
       "2018-03-01 03:00:00          66\n",
       "2018-03-01 04:00:00          43"
      ]
     },
     "metadata": {},
     "output_type": "display_data"
    },
    {
     "name": "stdout",
     "output_type": "stream",
     "text": [
      "<class 'pandas.core.frame.DataFrame'>\n",
      "DatetimeIndex: 4416 entries, 2018-03-01 00:00:00 to 2018-08-31 23:00:00\n",
      "Freq: H\n",
      "Data columns (total 1 columns):\n",
      " #   Column      Non-Null Count  Dtype\n",
      "---  ------      --------------  -----\n",
      " 0   num_orders  4416 non-null   int64\n",
      "dtypes: int64(1)\n",
      "memory usage: 69.0 KB\n"
     ]
    },
    {
     "data": {
      "text/html": [
       "<div>\n",
       "<style scoped>\n",
       "    .dataframe tbody tr th:only-of-type {\n",
       "        vertical-align: middle;\n",
       "    }\n",
       "\n",
       "    .dataframe tbody tr th {\n",
       "        vertical-align: top;\n",
       "    }\n",
       "\n",
       "    .dataframe thead th {\n",
       "        text-align: right;\n",
       "    }\n",
       "</style>\n",
       "<table border=\"1\" class=\"dataframe\">\n",
       "  <thead>\n",
       "    <tr style=\"text-align: right;\">\n",
       "      <th></th>\n",
       "      <th>count</th>\n",
       "      <th>mean</th>\n",
       "      <th>std</th>\n",
       "      <th>min</th>\n",
       "      <th>25%</th>\n",
       "      <th>50%</th>\n",
       "      <th>75%</th>\n",
       "      <th>max</th>\n",
       "    </tr>\n",
       "  </thead>\n",
       "  <tbody>\n",
       "    <tr>\n",
       "      <th>num_orders</th>\n",
       "      <td>4416.0</td>\n",
       "      <td>84.422781</td>\n",
       "      <td>45.023853</td>\n",
       "      <td>0.0</td>\n",
       "      <td>54.0</td>\n",
       "      <td>78.0</td>\n",
       "      <td>107.0</td>\n",
       "      <td>462.0</td>\n",
       "    </tr>\n",
       "  </tbody>\n",
       "</table>\n",
       "</div>"
      ],
      "text/plain": [
       "             count       mean        std  min   25%   50%    75%    max\n",
       "num_orders  4416.0  84.422781  45.023853  0.0  54.0  78.0  107.0  462.0"
      ]
     },
     "metadata": {},
     "output_type": "display_data"
    }
   ],
   "source": [
    "# обзор данных\n",
    "preview(df)"
   ]
  },
  {
   "cell_type": "markdown",
   "metadata": {},
   "source": [
    "<a id='section_id2'></a>\n",
    "## Шаг 2. Предобработка и исследовательский анализ\n",
    "[к содержанию](#section_id)"
   ]
  },
  {
   "cell_type": "markdown",
   "metadata": {},
   "source": [
    "### Проверка пропусков"
   ]
  },
  {
   "cell_type": "code",
   "execution_count": 8,
   "metadata": {},
   "outputs": [
    {
     "data": {
      "text/plain": [
       "num_orders    0\n",
       "dtype: int64"
      ]
     },
     "execution_count": 8,
     "metadata": {},
     "output_type": "execute_result"
    }
   ],
   "source": [
    "# проверка на наличие пропусков\n",
    "df.isna().sum()"
   ]
  },
  {
   "cell_type": "markdown",
   "metadata": {},
   "source": [
    "### Исследовательский анализ"
   ]
  },
  {
   "cell_type": "code",
   "execution_count": 9,
   "metadata": {},
   "outputs": [
    {
     "data": {
      "text/plain": [
       "True"
      ]
     },
     "execution_count": 9,
     "metadata": {},
     "output_type": "execute_result"
    }
   ],
   "source": [
    "# проверка, что все данные идут в порядке увеличения даты\n",
    "df.index.is_monotonic"
   ]
  },
  {
   "cell_type": "code",
   "execution_count": 10,
   "metadata": {},
   "outputs": [
    {
     "data": {
      "image/png": "[encoded data removed]",
      "text/plain": [
       "<Figure size 1080x720 with 1 Axes>"
      ]
     },
     "metadata": {
      "needs_background": "light"
     },
     "output_type": "display_data"
    }
   ],
   "source": [
    "# расчёт скользящей средней\n",
    "rolling = df.rolling(150).mean() \n",
    "\n",
    "# построение графика временного ряда\n",
    "fig = plt.figure(figsize=(15, 10))\n",
    "sns.lineplot(data=df, x=df.index, y='num_orders')\n",
    "sns.lineplot(data=rolling, x=df.index, y='num_orders')\n",
    "plt.title('Количество заказов')\n",
    "plt.xlabel('Дата и время')\n",
    "plt.ylabel('Количество заказов')\n",
    "plt.show()"
   ]
  },
  {
   "cell_type": "markdown",
   "metadata": {},
   "source": [
    "- Судя по графику есть восходящий тренд в плане количества заказов с течением времени\n",
    "- Примерно раз в месяц наблюдаются пиковые значения количества заказов"
   ]
  },
  {
   "cell_type": "code",
   "execution_count": 11,
   "metadata": {},
   "outputs": [],
   "source": [
    "# разложение временного ряда с предположением, что период сезонных колебаний равен 1 неделе\n",
    "decomposed = seasonal_decompose(df)"
   ]
  },
  {
   "cell_type": "code",
   "execution_count": 12,
   "metadata": {
    "scrolled": true
   },
   "outputs": [
    {
     "data": {
      "image/png": "[encoded data removed]",
      "text/plain": [
       "<Figure size 1440x360 with 3 Axes>"
      ]
     },
     "metadata": {
      "needs_background": "light"
     },
     "output_type": "display_data"
    }
   ],
   "source": [
    "# построение графиков сезонной декомпозиции\n",
    "fig, ax = plt.subplots(ncols=3, figsize=(20, 5), sharex=True, sharey=True)\n",
    "plt.tick_params(labelcolor='none', top=False, bottom=False, left=False, right=False)\n",
    "plt.suptitle('Количество заказов')\n",
    "\n",
    "sns.lineplot(data=decomposed.trend, ax=ax[0])\n",
    "ax[0].set_title('Тренд')\n",
    "ax[0].set_ylabel('Заказов')\n",
    "ax[0].set_xlabel('Время')\n",
    "\n",
    "sns.lineplot(data=decomposed.seasonal, ax=ax[1])\n",
    "ax[1].set_title('Сезонность')\n",
    "ax[1].set_ylabel('Заказов')\n",
    "ax[1].set_xlabel('Время')\n",
    "\n",
    "sns.lineplot(data=decomposed.resid, ax=ax[2])\n",
    "ax[2].set_title('Остатки')\n",
    "ax[2].set_ylabel('Заказов')\n",
    "ax[2].set_xlabel('Время')\n",
    "\n",
    "plt.show()"
   ]
  },
  {
   "cell_type": "code",
   "execution_count": 13,
   "metadata": {},
   "outputs": [
    {
     "data": {
      "image/png": "[encoded data removed]",
      "text/plain": [
       "<Figure size 1440x360 with 1 Axes>"
      ]
     },
     "metadata": {
      "needs_background": "light"
     },
     "output_type": "display_data"
    }
   ],
   "source": [
    "# рассмотрим сезонность в другом масштабе\n",
    "plt.figure(figsize=(20, 5))\n",
    "sns.lineplot(data=decomposed.seasonal)\n",
    "plt.grid()\n",
    "plt.title('Сезонность')\n",
    "plt.ylabel('Заказов')\n",
    "plt.xlabel('Время')\n",
    "plt.show()"
   ]
  },
  {
   "cell_type": "code",
   "execution_count": 14,
   "metadata": {},
   "outputs": [
    {
     "data": {
      "image/png": "[encoded data removed]",
      "text/plain": [
       "<Figure size 1440x360 with 1 Axes>"
      ]
     },
     "metadata": {
      "needs_background": "light"
     },
     "output_type": "display_data"
    }
   ],
   "source": [
    "# рассмотрим временной промежуток\n",
    "plt.figure(figsize=(20, 5))\n",
    "sns.lineplot(data=decomposed.seasonal['2018-07-31':'2018-08-31'])\n",
    "plt.grid()\n",
    "plt.title('Сезонность')\n",
    "plt.ylabel('Заказов')\n",
    "plt.xlabel('Время')\n",
    "plt.show()"
   ]
  },
  {
   "cell_type": "code",
   "execution_count": 15,
   "metadata": {},
   "outputs": [
    {
     "data": {
      "image/png": "[encoded data removed]",
      "text/plain": [
       "<Figure size 1440x360 with 1 Axes>"
      ]
     },
     "metadata": {
      "needs_background": "light"
     },
     "output_type": "display_data"
    }
   ],
   "source": [
    "# рассмотрим временной промежутов\n",
    "plt.figure(figsize=(20, 5))\n",
    "sns.lineplot(data=decomposed.seasonal['2018-07-31':'2018-08-03'])\n",
    "plt.grid()\n",
    "plt.title('Сезонность')\n",
    "plt.ylabel('Заказов')\n",
    "plt.xlabel('Время')\n",
    "plt.show()"
   ]
  },
  {
   "cell_type": "markdown",
   "metadata": {},
   "source": [
    "- виден восходяший тренд\n",
    "- присутствует сезонность в течение одного дня\n",
    "- остатки распределены случайным образом"
   ]
  },
  {
   "cell_type": "markdown",
   "metadata": {},
   "source": [
    "Примем уровень статистической значимости 0.05\n",
    "\n",
    "Проверим гипотезу\n",
    "\n",
    "H0: Ряд нестационарен"
   ]
  },
  {
   "cell_type": "code",
   "execution_count": 16,
   "metadata": {},
   "outputs": [
    {
     "name": "stdout",
     "output_type": "stream",
     "text": [
      "p-value = 0.028940051402612906\n",
      "Отвергаем нулевую гипотезу\n"
     ]
    }
   ],
   "source": [
    "# уровень статистической значимости\n",
    "alpha = 0.05\n",
    "\n",
    "# проверка гипотезы о стационарности ряда\n",
    "adf_test = adfuller(df['num_orders'])\n",
    "\n",
    "# p-value\n",
    "print('p-value = ' + str(adf_test[1]))\n",
    "\n",
    "# проверка гипотезы\n",
    "if adf_test[1] <= alpha:\n",
    "    print('Отвергаем нулевую гипотезу')\n",
    "else:\n",
    "    print('Не можем опровергнуть нулевую гипотезу')"
   ]
  },
  {
   "cell_type": "code",
   "execution_count": 17,
   "metadata": {},
   "outputs": [
    {
     "data": {
      "image/png": "[encoded data removed]",
      "text/plain": [
       "<Figure size 432x288 with 1 Axes>"
      ]
     },
     "execution_count": 17,
     "metadata": {},
     "output_type": "execute_result"
    },
    {
     "data": {
      "image/png": "[encoded data removed]",
      "text/plain": [
       "<Figure size 432x288 with 1 Axes>"
      ]
     },
     "metadata": {
      "needs_background": "light"
     },
     "output_type": "display_data"
    }
   ],
   "source": [
    "# анализ автокорреляции\n",
    "plot_acf(df)"
   ]
  },
  {
   "cell_type": "markdown",
   "metadata": {},
   "source": [
    "- заметна автокорреляция между 1 и 24 лагом, т.е. сезонность временного ряда - 24 часа"
   ]
  },
  {
   "cell_type": "markdown",
   "metadata": {},
   "source": [
    "<a id='section_id3'></a>\n",
    "## Шаг 3. Подготовка данных\n",
    "[к содержанию](#section_id)"
   ]
  },
  {
   "cell_type": "code",
   "execution_count": 18,
   "metadata": {},
   "outputs": [],
   "source": [
    "# функция для создания дополнительных признаков\n",
    "def make_features(dataframe, max_lag, rolling_mean_size):\n",
    "    '''Функция принимает на вход набор данных, максимальную величину лага для признаков отставания,\n",
    "    размер группировки для скользящей средней'''\n",
    "    data = dataframe.copy()\n",
    "    data['month'] = data.index.month\n",
    "    data['day'] = data.index.day\n",
    "    data['dayofweek'] = data.index.dayofweek\n",
    "    \n",
    "    for lag in range(1, max_lag + 1):\n",
    "        data['lag_{}'.format(lag)] = data['num_orders'].shift(lag)\n",
    "\n",
    "    data['rolling_mean'] = data['num_orders'].shift().rolling(rolling_mean_size).mean()\n",
    "    \n",
    "    return data"
   ]
  },
  {
   "cell_type": "code",
   "execution_count": 19,
   "metadata": {},
   "outputs": [
    {
     "name": "stdout",
     "output_type": "stream",
     "text": [
      "<class 'pandas.core.frame.DataFrame'>\n",
      "DatetimeIndex: 4416 entries, 2018-03-01 00:00:00 to 2018-08-31 23:00:00\n",
      "Freq: H\n",
      "Data columns (total 29 columns):\n",
      " #   Column        Non-Null Count  Dtype  \n",
      "---  ------        --------------  -----  \n",
      " 0   num_orders    4416 non-null   int64  \n",
      " 1   month         4416 non-null   int64  \n",
      " 2   day           4416 non-null   int64  \n",
      " 3   dayofweek     4416 non-null   int64  \n",
      " 4   lag_1         4415 non-null   float64\n",
      " 5   lag_2         4414 non-null   float64\n",
      " 6   lag_3         4413 non-null   float64\n",
      " 7   lag_4         4412 non-null   float64\n",
      " 8   lag_5         4411 non-null   float64\n",
      " 9   lag_6         4410 non-null   float64\n",
      " 10  lag_7         4409 non-null   float64\n",
      " 11  lag_8         4408 non-null   float64\n",
      " 12  lag_9         4407 non-null   float64\n",
      " 13  lag_10        4406 non-null   float64\n",
      " 14  lag_11        4405 non-null   float64\n",
      " 15  lag_12        4404 non-null   float64\n",
      " 16  lag_13        4403 non-null   float64\n",
      " 17  lag_14        4402 non-null   float64\n",
      " 18  lag_15        4401 non-null   float64\n",
      " 19  lag_16        4400 non-null   float64\n",
      " 20  lag_17        4399 non-null   float64\n",
      " 21  lag_18        4398 non-null   float64\n",
      " 22  lag_19        4397 non-null   float64\n",
      " 23  lag_20        4396 non-null   float64\n",
      " 24  lag_21        4395 non-null   float64\n",
      " 25  lag_22        4394 non-null   float64\n",
      " 26  lag_23        4393 non-null   float64\n",
      " 27  lag_24        4392 non-null   float64\n",
      " 28  rolling_mean  4266 non-null   float64\n",
      "dtypes: float64(25), int64(4)\n",
      "memory usage: 1.0 MB\n"
     ]
    }
   ],
   "source": [
    "# создание набора данных с дополнительными признаками\n",
    "data = make_features(df, 24, 150)\n",
    "data.info()"
   ]
  },
  {
   "cell_type": "code",
   "execution_count": 20,
   "metadata": {},
   "outputs": [],
   "source": [
    "# создание тренировочной и тестовой выборки\n",
    "train, test = train_test_split(data, shuffle=False, test_size=0.1)\n",
    "train = train.dropna()\n",
    "\n",
    "\n",
    "X_train = train.drop(columns='num_orders')\n",
    "y_train = train['num_orders']\n",
    "X_test = test.drop(columns='num_orders')\n",
    "y_test = test['num_orders']"
   ]
  },
  {
   "cell_type": "markdown",
   "metadata": {},
   "source": [
    "<a id='section_id4'></a>\n",
    "## Шаг 4. Обучение моделей\n",
    "[к содержанию](#section_id)"
   ]
  },
  {
   "cell_type": "code",
   "execution_count": 21,
   "metadata": {},
   "outputs": [],
   "source": [
    "# создание пайплайна\n",
    "pipe_final = Pipeline([\n",
    "    ('models', LinearRegression())\n",
    "])"
   ]
  },
  {
   "cell_type": "code",
   "execution_count": 22,
   "metadata": {},
   "outputs": [],
   "source": [
    "# задание параметров для пайплайна\n",
    "param_grid = [\n",
    "    # словарь для модели LinearRegression()\n",
    "    {\n",
    "        'models': [LinearRegression()]\n",
    "    },\n",
    "    # словарь для модели DecisionTreeRegressor()\n",
    "    {\n",
    "        'models': [DecisionTreeRegressor(random_state=RANDOM_STATE)],\n",
    "        'models__max_features': range(3, 5),\n",
    "        'models__min_samples_leaf': range(2, 4),\n",
    "        'models__max_depth': range(2, 4)\n",
    "    },\n",
    "    # словарь для модели LightGBM()\n",
    "    {\n",
    "        'models': [LGBMRegressor(n_jobs=-1)],\n",
    "        'models__max_depth': [3, 4],\n",
    "        'models__learning_rate': [0.1, 10.0]\n",
    "    }\n",
    "]"
   ]
  },
  {
   "cell_type": "code",
   "execution_count": 23,
   "metadata": {},
   "outputs": [],
   "source": [
    "# инициализация подбора параметров\n",
    "grid_search = GridSearchCV(\n",
    "    pipe_final, \n",
    "    param_grid, \n",
    "    cv=TimeSeriesSplit(),\n",
    "    scoring='neg_root_mean_squared_error',\n",
    "    n_jobs=-1,\n",
    "    verbose=1\n",
    ")"
   ]
  },
  {
   "cell_type": "code",
   "execution_count": 24,
   "metadata": {},
   "outputs": [
    {
     "name": "stdout",
     "output_type": "stream",
     "text": [
      "Fitting 5 folds for each of 13 candidates, totalling 65 fits\n",
      "Лучшая модель и её параметры:\n",
      "\n",
      " Pipeline(steps=[('models', LGBMRegressor(max_depth=4))])\n",
      "Метрика лучшей модели на тренировочной выборке: -25.75360589373331\n",
      "CPU times: user 8min 34s, sys: 2.05 s, total: 8min 36s\n",
      "Wall time: 8min 37s\n"
     ]
    }
   ],
   "source": [
    "%%time\n",
    "# запуск подбора параметров\n",
    "with joblib.parallel_backend(\"threading\"):\n",
    "    grid_search.fit(X_train, y_train)\n",
    "\n",
    "print('Лучшая модель и её параметры:\\n\\n', grid_search.best_estimator_)\n",
    "print ('Метрика лучшей модели на тренировочной выборке:', grid_search.best_score_)"
   ]
  },
  {
   "cell_type": "code",
   "execution_count": 25,
   "metadata": {},
   "outputs": [
    {
     "data": {
      "text/html": [
       "<div>\n",
       "<style scoped>\n",
       "    .dataframe tbody tr th:only-of-type {\n",
       "        vertical-align: middle;\n",
       "    }\n",
       "\n",
       "    .dataframe tbody tr th {\n",
       "        vertical-align: top;\n",
       "    }\n",
       "\n",
       "    .dataframe thead th {\n",
       "        text-align: right;\n",
       "    }\n",
       "</style>\n",
       "<table border=\"1\" class=\"dataframe\">\n",
       "  <thead>\n",
       "    <tr style=\"text-align: right;\">\n",
       "      <th></th>\n",
       "      <th>mean_fit_time</th>\n",
       "      <th>std_fit_time</th>\n",
       "      <th>mean_score_time</th>\n",
       "      <th>std_score_time</th>\n",
       "      <th>param_models</th>\n",
       "      <th>param_models__max_depth</th>\n",
       "      <th>param_models__max_features</th>\n",
       "      <th>param_models__min_samples_leaf</th>\n",
       "      <th>param_models__learning_rate</th>\n",
       "      <th>params</th>\n",
       "      <th>split0_test_score</th>\n",
       "      <th>split1_test_score</th>\n",
       "      <th>split2_test_score</th>\n",
       "      <th>split3_test_score</th>\n",
       "      <th>split4_test_score</th>\n",
       "      <th>mean_test_score</th>\n",
       "      <th>std_test_score</th>\n",
       "      <th>rank_test_score</th>\n",
       "    </tr>\n",
       "  </thead>\n",
       "  <tbody>\n",
       "    <tr>\n",
       "      <th>10</th>\n",
       "      <td>20.402085</td>\n",
       "      <td>16.396401</td>\n",
       "      <td>0.137013</td>\n",
       "      <td>0.043741</td>\n",
       "      <td>LGBMRegressor(max_depth=4)</td>\n",
       "      <td>4</td>\n",
       "      <td>NaN</td>\n",
       "      <td>NaN</td>\n",
       "      <td>0.1</td>\n",
       "      <td>{'models': LGBMRegressor(max_depth=4), 'models...</td>\n",
       "      <td>-22.841146</td>\n",
       "      <td>-22.719548</td>\n",
       "      <td>-23.575226</td>\n",
       "      <td>-26.571375</td>\n",
       "      <td>-33.060735</td>\n",
       "      <td>-25.753606</td>\n",
       "      <td>3.911423</td>\n",
       "      <td>1</td>\n",
       "    </tr>\n",
       "    <tr>\n",
       "      <th>9</th>\n",
       "      <td>72.548894</td>\n",
       "      <td>53.446223</td>\n",
       "      <td>0.151876</td>\n",
       "      <td>0.048160</td>\n",
       "      <td>LGBMRegressor(max_depth=4)</td>\n",
       "      <td>3</td>\n",
       "      <td>NaN</td>\n",
       "      <td>NaN</td>\n",
       "      <td>0.1</td>\n",
       "      <td>{'models': LGBMRegressor(max_depth=4), 'models...</td>\n",
       "      <td>-22.468555</td>\n",
       "      <td>-22.828933</td>\n",
       "      <td>-23.577404</td>\n",
       "      <td>-26.749112</td>\n",
       "      <td>-34.123150</td>\n",
       "      <td>-25.949431</td>\n",
       "      <td>4.357286</td>\n",
       "      <td>2</td>\n",
       "    </tr>\n",
       "    <tr>\n",
       "      <th>0</th>\n",
       "      <td>0.030196</td>\n",
       "      <td>0.033256</td>\n",
       "      <td>0.100264</td>\n",
       "      <td>0.026158</td>\n",
       "      <td>LinearRegression()</td>\n",
       "      <td>NaN</td>\n",
       "      <td>NaN</td>\n",
       "      <td>NaN</td>\n",
       "      <td>NaN</td>\n",
       "      <td>{'models': LinearRegression()}</td>\n",
       "      <td>-24.926069</td>\n",
       "      <td>-25.321090</td>\n",
       "      <td>-24.848959</td>\n",
       "      <td>-27.524302</td>\n",
       "      <td>-34.181157</td>\n",
       "      <td>-27.360315</td>\n",
       "      <td>3.548004</td>\n",
       "      <td>3</td>\n",
       "    </tr>\n",
       "    <tr>\n",
       "      <th>1</th>\n",
       "      <td>0.007392</td>\n",
       "      <td>0.002777</td>\n",
       "      <td>0.004661</td>\n",
       "      <td>0.004954</td>\n",
       "      <td>DecisionTreeRegressor(random_state=42)</td>\n",
       "      <td>2</td>\n",
       "      <td>3</td>\n",
       "      <td>2</td>\n",
       "      <td>NaN</td>\n",
       "      <td>{'models': DecisionTreeRegressor(random_state=...</td>\n",
       "      <td>-27.795720</td>\n",
       "      <td>-31.061512</td>\n",
       "      <td>-30.120665</td>\n",
       "      <td>-36.493960</td>\n",
       "      <td>-44.648425</td>\n",
       "      <td>-34.024056</td>\n",
       "      <td>6.029642</td>\n",
       "      <td>4</td>\n",
       "    </tr>\n",
       "    <tr>\n",
       "      <th>2</th>\n",
       "      <td>0.003412</td>\n",
       "      <td>0.000414</td>\n",
       "      <td>0.001509</td>\n",
       "      <td>0.000036</td>\n",
       "      <td>DecisionTreeRegressor(random_state=42)</td>\n",
       "      <td>2</td>\n",
       "      <td>3</td>\n",
       "      <td>3</td>\n",
       "      <td>NaN</td>\n",
       "      <td>{'models': DecisionTreeRegressor(random_state=...</td>\n",
       "      <td>-27.795720</td>\n",
       "      <td>-31.061512</td>\n",
       "      <td>-30.120665</td>\n",
       "      <td>-36.493960</td>\n",
       "      <td>-44.648425</td>\n",
       "      <td>-34.024056</td>\n",
       "      <td>6.029642</td>\n",
       "      <td>4</td>\n",
       "    </tr>\n",
       "  </tbody>\n",
       "</table>\n",
       "</div>"
      ],
      "text/plain": [
       "    mean_fit_time  std_fit_time  mean_score_time  std_score_time  \\\n",
       "10      20.402085     16.396401         0.137013        0.043741   \n",
       "9       72.548894     53.446223         0.151876        0.048160   \n",
       "0        0.030196      0.033256         0.100264        0.026158   \n",
       "1        0.007392      0.002777         0.004661        0.004954   \n",
       "2        0.003412      0.000414         0.001509        0.000036   \n",
       "\n",
       "                              param_models param_models__max_depth  \\\n",
       "10              LGBMRegressor(max_depth=4)                       4   \n",
       "9               LGBMRegressor(max_depth=4)                       3   \n",
       "0                       LinearRegression()                     NaN   \n",
       "1   DecisionTreeRegressor(random_state=42)                       2   \n",
       "2   DecisionTreeRegressor(random_state=42)                       2   \n",
       "\n",
       "   param_models__max_features param_models__min_samples_leaf  \\\n",
       "10                        NaN                            NaN   \n",
       "9                         NaN                            NaN   \n",
       "0                         NaN                            NaN   \n",
       "1                           3                              2   \n",
       "2                           3                              3   \n",
       "\n",
       "   param_models__learning_rate  \\\n",
       "10                         0.1   \n",
       "9                          0.1   \n",
       "0                          NaN   \n",
       "1                          NaN   \n",
       "2                          NaN   \n",
       "\n",
       "                                               params  split0_test_score  \\\n",
       "10  {'models': LGBMRegressor(max_depth=4), 'models...         -22.841146   \n",
       "9   {'models': LGBMRegressor(max_depth=4), 'models...         -22.468555   \n",
       "0                      {'models': LinearRegression()}         -24.926069   \n",
       "1   {'models': DecisionTreeRegressor(random_state=...         -27.795720   \n",
       "2   {'models': DecisionTreeRegressor(random_state=...         -27.795720   \n",
       "\n",
       "    split1_test_score  split2_test_score  split3_test_score  \\\n",
       "10         -22.719548         -23.575226         -26.571375   \n",
       "9          -22.828933         -23.577404         -26.749112   \n",
       "0          -25.321090         -24.848959         -27.524302   \n",
       "1          -31.061512         -30.120665         -36.493960   \n",
       "2          -31.061512         -30.120665         -36.493960   \n",
       "\n",
       "    split4_test_score  mean_test_score  std_test_score  rank_test_score  \n",
       "10         -33.060735       -25.753606        3.911423                1  \n",
       "9          -34.123150       -25.949431        4.357286                2  \n",
       "0          -34.181157       -27.360315        3.548004                3  \n",
       "1          -44.648425       -34.024056        6.029642                4  \n",
       "2          -44.648425       -34.024056        6.029642                4  "
      ]
     },
     "execution_count": 25,
     "metadata": {},
     "output_type": "execute_result"
    }
   ],
   "source": [
    "# получение результатов лучших моделей\n",
    "results = pd.DataFrame(grid_search.cv_results_)\n",
    "results.sort_values(by='rank_test_score', inplace=True)\n",
    "results.head()"
   ]
  },
  {
   "cell_type": "markdown",
   "metadata": {},
   "source": [
    "<a id='section_id5'></a>\n",
    "## Шаг 5. Проверка на тестовой выборке\n",
    "[к содержанию](#section_id)"
   ]
  },
  {
   "cell_type": "code",
   "execution_count": 26,
   "metadata": {},
   "outputs": [
    {
     "name": "stdout",
     "output_type": "stream",
     "text": [
      "RMSE тестовой выборки: 43.26898121661633\n"
     ]
    }
   ],
   "source": [
    "# проверка лучшей модели на тестовой выборке\n",
    "pred = grid_search.best_estimator_.predict(X_test)\n",
    "\n",
    "print(\"RMSE тестовой выборки:\", mean_squared_error(y_test, pred, squared=False))"
   ]
  },
  {
   "cell_type": "code",
   "execution_count": 27,
   "metadata": {},
   "outputs": [
    {
     "data": {
      "image/png": "[encoded data removed]",
      "text/plain": [
       "<Figure size 1440x504 with 1 Axes>"
      ]
     },
     "metadata": {
      "needs_background": "light"
     },
     "output_type": "display_data"
    }
   ],
   "source": [
    "# построение графика для оценки прогноза\n",
    "res = pd.concat([y_test, pd.Series(pred, index=y_test.index, name='pred')], axis=1)\n",
    "\n",
    "plt.figure(figsize=(20, 7))\n",
    "sns.lineplot(data=res)\n",
    "plt.grid()\n",
    "plt.title('Сезонность')\n",
    "plt.ylabel('Заказов')\n",
    "plt.xlabel('Время')\n",
    "plt.show()"
   ]
  },
  {
   "cell_type": "markdown",
   "metadata": {},
   "source": [
    "<a id='section_id6'></a>\n",
    "## Шаг 6. Вывод\n",
    "[к содержанию](#section_id)"
   ]
  },
  {
   "cell_type": "markdown",
   "metadata": {},
   "source": [
    "Проведен анализ данных временного ряда заказов такси. Обнаружен восходящий тренд, обнаружена сезонность с периодом в 1 день.\n",
    "Данные были обогащены путем создания дополнительных признаков (лаги, скользящая средняя, данные, полученные из даты).\n",
    "Для обучения использованы модели LinearRegression, DecisionTreeRegression, LGBMRegressor. Лучше всего на тренировочной выборке показала себя модель LGBMRegressor с показателем метрики RMSE 25.75. При тестировании на валидационной выборке модель показала результат RMSE 43.27, что удовлетворяет условию в задании.\n",
    "\n",
    "Для дополнительного повышения качества можно продолжить подобор гиперпараметров модели"
   ]
  }
 ],
 "metadata": {
  "ExecuteTimeLog": [
   {
    "duration": 49,
    "start_time": "2024-12-11T17:02:19.999Z"
   },
   {
    "duration": 426,
    "start_time": "2024-12-11T17:02:22.760Z"
   },
   {
    "duration": 366,
    "start_time": "2024-12-11T17:02:24.614Z"
   },
   {
    "duration": 53,
    "start_time": "2024-12-11T17:02:37.496Z"
   },
   {
    "duration": 11,
    "start_time": "2024-12-11T17:02:58.739Z"
   },
   {
    "duration": 49,
    "start_time": "2024-12-11T17:03:42.584Z"
   },
   {
    "duration": 10,
    "start_time": "2024-12-11T17:03:52.972Z"
   },
   {
    "duration": 4,
    "start_time": "2024-12-11T17:04:26.242Z"
   },
   {
    "duration": 3,
    "start_time": "2024-12-11T17:04:47.383Z"
   },
   {
    "duration": 23,
    "start_time": "2024-12-11T17:05:08.322Z"
   },
   {
    "duration": 5,
    "start_time": "2024-12-11T17:06:32.172Z"
   },
   {
    "duration": 900,
    "start_time": "2024-12-11T17:08:12.132Z"
   },
   {
    "duration": 50,
    "start_time": "2024-12-11T17:09:44.692Z"
   },
   {
    "duration": 2073,
    "start_time": "2024-12-11T17:10:01.056Z"
   },
   {
    "duration": 2044,
    "start_time": "2024-12-11T17:11:30.983Z"
   },
   {
    "duration": 1944,
    "start_time": "2024-12-11T17:13:15.744Z"
   },
   {
    "duration": 2083,
    "start_time": "2024-12-11T17:14:03.878Z"
   },
   {
    "duration": 2077,
    "start_time": "2024-12-11T17:15:25.233Z"
   },
   {
    "duration": 2047,
    "start_time": "2024-12-11T17:15:33.299Z"
   },
   {
    "duration": 2081,
    "start_time": "2024-12-11T17:15:46.413Z"
   },
   {
    "duration": 2179,
    "start_time": "2024-12-11T17:15:59.334Z"
   },
   {
    "duration": 1288,
    "start_time": "2024-12-13T18:51:50.691Z"
   },
   {
    "duration": 170,
    "start_time": "2024-12-13T18:51:51.981Z"
   },
   {
    "duration": 3,
    "start_time": "2024-12-13T18:51:52.152Z"
   },
   {
    "duration": 26,
    "start_time": "2024-12-13T18:51:52.157Z"
   },
   {
    "duration": 5,
    "start_time": "2024-12-13T18:51:52.184Z"
   },
   {
    "duration": 4093,
    "start_time": "2024-12-13T18:51:52.190Z"
   },
   {
    "duration": 4021,
    "start_time": "2024-12-13T18:52:09.238Z"
   },
   {
    "duration": 3939,
    "start_time": "2024-12-13T18:52:20.350Z"
   },
   {
    "duration": 3848,
    "start_time": "2024-12-13T18:52:30.854Z"
   },
   {
    "duration": 3933,
    "start_time": "2024-12-13T18:55:01.675Z"
   },
   {
    "duration": 71,
    "start_time": "2024-12-13T18:55:49.259Z"
   },
   {
    "duration": 102,
    "start_time": "2024-12-13T18:56:25.393Z"
   },
   {
    "duration": 10,
    "start_time": "2024-12-13T18:56:30.455Z"
   },
   {
    "duration": 8,
    "start_time": "2024-12-13T18:58:50.039Z"
   },
   {
    "duration": 3,
    "start_time": "2024-12-13T18:58:54.692Z"
   },
   {
    "duration": 8,
    "start_time": "2024-12-13T19:01:17.963Z"
   },
   {
    "duration": 9,
    "start_time": "2024-12-13T19:01:55.860Z"
   },
   {
    "duration": 9,
    "start_time": "2024-12-13T19:04:01.359Z"
   },
   {
    "duration": 9,
    "start_time": "2024-12-13T19:04:07.944Z"
   },
   {
    "duration": 4,
    "start_time": "2024-12-13T19:04:24.464Z"
   },
   {
    "duration": 7,
    "start_time": "2024-12-13T19:05:49.909Z"
   },
   {
    "duration": 9,
    "start_time": "2024-12-13T19:09:21.839Z"
   },
   {
    "duration": 17,
    "start_time": "2024-12-13T19:09:32.383Z"
   },
   {
    "duration": 5,
    "start_time": "2024-12-13T19:09:43.318Z"
   },
   {
    "duration": 9,
    "start_time": "2024-12-13T19:10:01.330Z"
   },
   {
    "duration": 15,
    "start_time": "2024-12-13T19:10:08.587Z"
   },
   {
    "duration": 965,
    "start_time": "2024-12-13T19:10:27.498Z"
   },
   {
    "duration": 10,
    "start_time": "2024-12-13T19:12:37.954Z"
   },
   {
    "duration": 1064,
    "start_time": "2024-12-13T19:12:42.288Z"
   },
   {
    "duration": 1127,
    "start_time": "2024-12-13T19:12:57.305Z"
   },
   {
    "duration": 3080,
    "start_time": "2024-12-13T19:13:47.484Z"
   },
   {
    "duration": 2762,
    "start_time": "2024-12-13T19:14:35.477Z"
   },
   {
    "duration": 51,
    "start_time": "2024-12-13T19:15:06.297Z"
   },
   {
    "duration": 2830,
    "start_time": "2024-12-13T19:15:28.903Z"
   },
   {
    "duration": 2836,
    "start_time": "2024-12-13T19:16:09.921Z"
   },
   {
    "duration": 2836,
    "start_time": "2024-12-13T19:16:24.595Z"
   },
   {
    "duration": 1187,
    "start_time": "2024-12-13T19:17:03.909Z"
   },
   {
    "duration": 1171,
    "start_time": "2024-12-13T19:17:21.248Z"
   },
   {
    "duration": 2835,
    "start_time": "2024-12-13T19:17:34.461Z"
   },
   {
    "duration": 2846,
    "start_time": "2024-12-13T19:17:46.269Z"
   },
   {
    "duration": 2789,
    "start_time": "2024-12-13T19:18:20.561Z"
   },
   {
    "duration": 2877,
    "start_time": "2024-12-13T19:18:44.327Z"
   },
   {
    "duration": 2759,
    "start_time": "2024-12-13T19:18:50.851Z"
   },
   {
    "duration": 2776,
    "start_time": "2024-12-13T19:20:45.881Z"
   },
   {
    "duration": 2908,
    "start_time": "2024-12-13T19:21:15.219Z"
   },
   {
    "duration": 2823,
    "start_time": "2024-12-13T19:23:30.849Z"
   },
   {
    "duration": 2869,
    "start_time": "2024-12-13T19:24:14.012Z"
   },
   {
    "duration": 2874,
    "start_time": "2024-12-13T19:24:50.414Z"
   },
   {
    "duration": 2785,
    "start_time": "2024-12-13T19:25:29.689Z"
   },
   {
    "duration": 1248,
    "start_time": "2024-12-13T19:25:41.876Z"
   },
   {
    "duration": 2837,
    "start_time": "2024-12-13T19:25:54.101Z"
   },
   {
    "duration": 2794,
    "start_time": "2024-12-13T19:26:02.066Z"
   },
   {
    "duration": 11,
    "start_time": "2024-12-13T19:31:14.087Z"
   },
   {
    "duration": 22,
    "start_time": "2024-12-13T19:31:24.665Z"
   },
   {
    "duration": 15756,
    "start_time": "2024-12-13T19:31:31.740Z"
   },
   {
    "duration": 50,
    "start_time": "2024-12-13T19:34:20.514Z"
   },
   {
    "duration": 3,
    "start_time": "2024-12-13T19:38:31.233Z"
   },
   {
    "duration": 15603,
    "start_time": "2024-12-13T19:38:36.188Z"
   },
   {
    "duration": 15329,
    "start_time": "2024-12-13T19:39:13.059Z"
   },
   {
    "duration": 9,
    "start_time": "2024-12-13T19:41:24.138Z"
   },
   {
    "duration": 4,
    "start_time": "2024-12-13T19:41:28.909Z"
   },
   {
    "duration": 10,
    "start_time": "2024-12-13T19:41:34.062Z"
   },
   {
    "duration": 2627,
    "start_time": "2024-12-13T19:41:37.692Z"
   },
   {
    "duration": 269,
    "start_time": "2024-12-13T19:42:50.237Z"
   },
   {
    "duration": 341,
    "start_time": "2024-12-13T19:43:53.771Z"
   },
   {
    "duration": 332,
    "start_time": "2024-12-13T19:45:10.374Z"
   },
   {
    "duration": 341,
    "start_time": "2024-12-13T19:45:15.459Z"
   },
   {
    "duration": 267,
    "start_time": "2024-12-13T19:45:21.638Z"
   },
   {
    "duration": 2129,
    "start_time": "2024-12-13T19:45:29.777Z"
   },
   {
    "duration": 43,
    "start_time": "2024-12-13T19:47:06.420Z"
   },
   {
    "duration": 8,
    "start_time": "2024-12-13T19:51:28.783Z"
   },
   {
    "duration": 4,
    "start_time": "2024-12-13T19:51:40.422Z"
   },
   {
    "duration": 51,
    "start_time": "2024-12-13T19:51:40.427Z"
   },
   {
    "duration": 13,
    "start_time": "2024-12-13T19:51:40.480Z"
   },
   {
    "duration": 6,
    "start_time": "2024-12-13T19:51:40.494Z"
   },
   {
    "duration": 29,
    "start_time": "2024-12-13T19:51:40.502Z"
   },
   {
    "duration": 5,
    "start_time": "2024-12-13T19:51:40.532Z"
   },
   {
    "duration": 6,
    "start_time": "2024-12-13T19:51:40.538Z"
   },
   {
    "duration": 3915,
    "start_time": "2024-12-13T19:51:40.545Z"
   },
   {
    "duration": 5,
    "start_time": "2024-12-13T19:51:44.462Z"
   },
   {
    "duration": 2987,
    "start_time": "2024-12-13T19:51:44.469Z"
   },
   {
    "duration": 15229,
    "start_time": "2024-12-13T19:51:47.458Z"
   },
   {
    "duration": 1738,
    "start_time": "2024-12-13T19:52:02.689Z"
   },
   {
    "duration": 221,
    "start_time": "2024-12-13T19:55:33.119Z"
   },
   {
    "duration": 16,
    "start_time": "2024-12-13T19:56:46.200Z"
   },
   {
    "duration": 4,
    "start_time": "2024-12-13T19:56:52.391Z"
   },
   {
    "duration": 3,
    "start_time": "2024-12-13T20:01:34.384Z"
   },
   {
    "duration": 3,
    "start_time": "2024-12-13T20:03:24.261Z"
   },
   {
    "duration": 59,
    "start_time": "2024-12-13T20:03:24.266Z"
   },
   {
    "duration": 11,
    "start_time": "2024-12-13T20:03:24.326Z"
   },
   {
    "duration": 2,
    "start_time": "2024-12-13T20:03:24.339Z"
   },
   {
    "duration": 21,
    "start_time": "2024-12-13T20:03:24.343Z"
   },
   {
    "duration": 4,
    "start_time": "2024-12-13T20:03:24.365Z"
   },
   {
    "duration": 5,
    "start_time": "2024-12-13T20:03:24.371Z"
   },
   {
    "duration": 4022,
    "start_time": "2024-12-13T20:03:24.386Z"
   },
   {
    "duration": 7,
    "start_time": "2024-12-13T20:03:28.410Z"
   },
   {
    "duration": 2906,
    "start_time": "2024-12-13T20:03:28.419Z"
   },
   {
    "duration": 15160,
    "start_time": "2024-12-13T20:03:31.327Z"
   },
   {
    "duration": 2022,
    "start_time": "2024-12-13T20:03:46.489Z"
   },
   {
    "duration": 4,
    "start_time": "2024-12-13T20:03:48.512Z"
   },
   {
    "duration": 718,
    "start_time": "2024-12-13T20:03:48.518Z"
   },
   {
    "duration": 0,
    "start_time": "2024-12-13T20:03:49.238Z"
   },
   {
    "duration": 4,
    "start_time": "2024-12-13T20:04:33.426Z"
   },
   {
    "duration": 66,
    "start_time": "2024-12-13T20:04:33.431Z"
   },
   {
    "duration": 12,
    "start_time": "2024-12-13T20:04:33.499Z"
   },
   {
    "duration": 11,
    "start_time": "2024-12-13T20:04:33.513Z"
   },
   {
    "duration": 112,
    "start_time": "2024-12-13T20:04:33.526Z"
   },
   {
    "duration": 5,
    "start_time": "2024-12-13T20:04:33.640Z"
   },
   {
    "duration": 12,
    "start_time": "2024-12-13T20:04:33.647Z"
   },
   {
    "duration": 3869,
    "start_time": "2024-12-13T20:04:33.660Z"
   },
   {
    "duration": 8,
    "start_time": "2024-12-13T20:04:37.530Z"
   },
   {
    "duration": 3007,
    "start_time": "2024-12-13T20:04:37.539Z"
   },
   {
    "duration": 15441,
    "start_time": "2024-12-13T20:04:40.547Z"
   },
   {
    "duration": 2002,
    "start_time": "2024-12-13T20:04:55.991Z"
   },
   {
    "duration": 4,
    "start_time": "2024-12-13T20:04:57.994Z"
   },
   {
    "duration": 36,
    "start_time": "2024-12-13T20:04:58.000Z"
   },
   {
    "duration": 6,
    "start_time": "2024-12-13T20:04:58.037Z"
   },
   {
    "duration": 4,
    "start_time": "2024-12-13T20:06:23.484Z"
   },
   {
    "duration": 66,
    "start_time": "2024-12-13T20:06:23.490Z"
   },
   {
    "duration": 11,
    "start_time": "2024-12-13T20:06:23.558Z"
   },
   {
    "duration": 50,
    "start_time": "2024-12-13T20:06:23.571Z"
   },
   {
    "duration": 26,
    "start_time": "2024-12-13T20:06:23.623Z"
   },
   {
    "duration": 5,
    "start_time": "2024-12-13T20:06:23.651Z"
   },
   {
    "duration": 8,
    "start_time": "2024-12-13T20:06:23.657Z"
   },
   {
    "duration": 3845,
    "start_time": "2024-12-13T20:06:23.666Z"
   },
   {
    "duration": 6,
    "start_time": "2024-12-13T20:06:27.514Z"
   },
   {
    "duration": 2896,
    "start_time": "2024-12-13T20:06:27.521Z"
   },
   {
    "duration": 15468,
    "start_time": "2024-12-13T20:06:30.419Z"
   },
   {
    "duration": 1699,
    "start_time": "2024-12-13T20:06:45.889Z"
   },
   {
    "duration": 4,
    "start_time": "2024-12-13T20:06:47.589Z"
   },
   {
    "duration": 57,
    "start_time": "2024-12-13T20:06:47.594Z"
   },
   {
    "duration": 8,
    "start_time": "2024-12-13T20:06:47.652Z"
   },
   {
    "duration": 20,
    "start_time": "2024-12-13T20:07:39.547Z"
   },
   {
    "duration": 4,
    "start_time": "2024-12-13T20:07:47.791Z"
   },
   {
    "duration": 54,
    "start_time": "2024-12-13T20:07:47.796Z"
   },
   {
    "duration": 11,
    "start_time": "2024-12-13T20:07:47.852Z"
   },
   {
    "duration": 5,
    "start_time": "2024-12-13T20:07:47.864Z"
   },
   {
    "duration": 20,
    "start_time": "2024-12-13T20:07:47.871Z"
   },
   {
    "duration": 17,
    "start_time": "2024-12-13T20:07:47.892Z"
   },
   {
    "duration": 4,
    "start_time": "2024-12-13T20:07:47.910Z"
   },
   {
    "duration": 3967,
    "start_time": "2024-12-13T20:07:47.915Z"
   },
   {
    "duration": 5,
    "start_time": "2024-12-13T20:07:51.886Z"
   },
   {
    "duration": 2801,
    "start_time": "2024-12-13T20:07:51.893Z"
   },
   {
    "duration": 16292,
    "start_time": "2024-12-13T20:07:54.696Z"
   },
   {
    "duration": 1821,
    "start_time": "2024-12-13T20:08:10.991Z"
   },
   {
    "duration": 4,
    "start_time": "2024-12-13T20:08:12.814Z"
   },
   {
    "duration": 24,
    "start_time": "2024-12-13T20:08:12.821Z"
   },
   {
    "duration": 8,
    "start_time": "2024-12-13T20:08:12.846Z"
   },
   {
    "duration": 40,
    "start_time": "2024-12-13T20:08:12.855Z"
   },
   {
    "duration": 4,
    "start_time": "2024-12-13T20:08:16.766Z"
   },
   {
    "duration": 47,
    "start_time": "2024-12-13T20:09:30.934Z"
   },
   {
    "duration": 4,
    "start_time": "2024-12-13T20:11:42.330Z"
   },
   {
    "duration": 51,
    "start_time": "2024-12-13T20:11:42.337Z"
   },
   {
    "duration": 12,
    "start_time": "2024-12-13T20:11:42.390Z"
   },
   {
    "duration": 3,
    "start_time": "2024-12-13T20:11:42.403Z"
   },
   {
    "duration": 23,
    "start_time": "2024-12-13T20:11:42.409Z"
   },
   {
    "duration": 5,
    "start_time": "2024-12-13T20:11:42.434Z"
   },
   {
    "duration": 5,
    "start_time": "2024-12-13T20:11:42.441Z"
   },
   {
    "duration": 3951,
    "start_time": "2024-12-13T20:11:42.448Z"
   },
   {
    "duration": 7,
    "start_time": "2024-12-13T20:11:46.401Z"
   },
   {
    "duration": 2970,
    "start_time": "2024-12-13T20:11:46.410Z"
   },
   {
    "duration": 16310,
    "start_time": "2024-12-13T20:11:49.382Z"
   },
   {
    "duration": 2629,
    "start_time": "2024-12-13T20:12:05.693Z"
   },
   {
    "duration": 4,
    "start_time": "2024-12-13T20:12:08.323Z"
   },
   {
    "duration": 28,
    "start_time": "2024-12-13T20:12:08.329Z"
   },
   {
    "duration": 11,
    "start_time": "2024-12-13T20:12:08.359Z"
   },
   {
    "duration": 33,
    "start_time": "2024-12-13T20:12:08.372Z"
   },
   {
    "duration": 5,
    "start_time": "2024-12-13T20:12:33.961Z"
   },
   {
    "duration": 82,
    "start_time": "2024-12-13T20:12:33.967Z"
   },
   {
    "duration": 11,
    "start_time": "2024-12-13T20:12:34.050Z"
   },
   {
    "duration": 3,
    "start_time": "2024-12-13T20:12:34.062Z"
   },
   {
    "duration": 38,
    "start_time": "2024-12-13T20:12:34.068Z"
   },
   {
    "duration": 5,
    "start_time": "2024-12-13T20:12:34.107Z"
   },
   {
    "duration": 13,
    "start_time": "2024-12-13T20:12:34.114Z"
   },
   {
    "duration": 3853,
    "start_time": "2024-12-13T20:12:34.128Z"
   },
   {
    "duration": 6,
    "start_time": "2024-12-13T20:12:37.986Z"
   },
   {
    "duration": 2802,
    "start_time": "2024-12-13T20:12:37.993Z"
   },
   {
    "duration": 15192,
    "start_time": "2024-12-13T20:12:40.796Z"
   },
   {
    "duration": 1800,
    "start_time": "2024-12-13T20:12:55.990Z"
   },
   {
    "duration": 5,
    "start_time": "2024-12-13T20:12:57.791Z"
   },
   {
    "duration": 31,
    "start_time": "2024-12-13T20:12:57.798Z"
   },
   {
    "duration": 15,
    "start_time": "2024-12-13T20:12:57.831Z"
   },
   {
    "duration": 18,
    "start_time": "2024-12-13T20:12:57.847Z"
   },
   {
    "duration": 6,
    "start_time": "2024-12-13T20:13:57.551Z"
   },
   {
    "duration": 4,
    "start_time": "2024-12-13T20:14:27.375Z"
   },
   {
    "duration": 71,
    "start_time": "2024-12-13T20:14:27.381Z"
   },
   {
    "duration": 11,
    "start_time": "2024-12-13T20:14:27.453Z"
   },
   {
    "duration": 3,
    "start_time": "2024-12-13T20:14:27.465Z"
   },
   {
    "duration": 21,
    "start_time": "2024-12-13T20:14:27.469Z"
   },
   {
    "duration": 4,
    "start_time": "2024-12-13T20:14:27.492Z"
   },
   {
    "duration": 3,
    "start_time": "2024-12-13T20:14:27.498Z"
   },
   {
    "duration": 4074,
    "start_time": "2024-12-13T20:14:27.503Z"
   },
   {
    "duration": 5,
    "start_time": "2024-12-13T20:14:31.587Z"
   },
   {
    "duration": 2892,
    "start_time": "2024-12-13T20:14:31.594Z"
   },
   {
    "duration": 15199,
    "start_time": "2024-12-13T20:14:34.488Z"
   },
   {
    "duration": 1699,
    "start_time": "2024-12-13T20:14:49.690Z"
   },
   {
    "duration": 4,
    "start_time": "2024-12-13T20:14:51.390Z"
   },
   {
    "duration": 76,
    "start_time": "2024-12-13T20:14:51.396Z"
   },
   {
    "duration": 12,
    "start_time": "2024-12-13T20:14:51.473Z"
   },
   {
    "duration": 200,
    "start_time": "2024-12-13T20:14:51.486Z"
   },
   {
    "duration": 278,
    "start_time": "2024-12-13T20:16:15.723Z"
   },
   {
    "duration": 52,
    "start_time": "2024-12-13T20:16:37.773Z"
   },
   {
    "duration": 63,
    "start_time": "2024-12-13T20:16:42.293Z"
   },
   {
    "duration": 138,
    "start_time": "2024-12-13T20:16:45.606Z"
   },
   {
    "duration": 109,
    "start_time": "2024-12-13T20:16:52.993Z"
   },
   {
    "duration": 98,
    "start_time": "2024-12-13T20:16:57.512Z"
   },
   {
    "duration": 88,
    "start_time": "2024-12-13T20:17:02.058Z"
   },
   {
    "duration": 75,
    "start_time": "2024-12-13T20:17:05.077Z"
   },
   {
    "duration": 62,
    "start_time": "2024-12-13T20:17:08.375Z"
   },
   {
    "duration": 50,
    "start_time": "2024-12-13T20:17:13.269Z"
   },
   {
    "duration": 50,
    "start_time": "2024-12-13T20:17:28.785Z"
   },
   {
    "duration": 39,
    "start_time": "2024-12-13T20:17:32.014Z"
   },
   {
    "duration": 49,
    "start_time": "2024-12-13T20:17:35.284Z"
   },
   {
    "duration": 52,
    "start_time": "2024-12-13T20:17:38.644Z"
   },
   {
    "duration": 49,
    "start_time": "2024-12-13T20:17:42.456Z"
   },
   {
    "duration": 51,
    "start_time": "2024-12-13T20:17:47.182Z"
   },
   {
    "duration": 62,
    "start_time": "2024-12-13T20:17:51.875Z"
   },
   {
    "duration": 72,
    "start_time": "2024-12-13T20:17:55.160Z"
   },
   {
    "duration": 62,
    "start_time": "2024-12-13T20:18:00.481Z"
   },
   {
    "duration": 87,
    "start_time": "2024-12-13T20:18:03.885Z"
   },
   {
    "duration": 74,
    "start_time": "2024-12-13T20:18:06.467Z"
   },
   {
    "duration": 1510,
    "start_time": "2024-12-13T20:18:47.579Z"
   },
   {
    "duration": 1532,
    "start_time": "2024-12-13T20:19:31.962Z"
   },
   {
    "duration": 1863,
    "start_time": "2024-12-13T20:19:36.523Z"
   },
   {
    "duration": 1843,
    "start_time": "2024-12-13T20:19:43.244Z"
   },
   {
    "duration": 1403,
    "start_time": "2024-12-13T20:19:48.397Z"
   },
   {
    "duration": 1242,
    "start_time": "2024-12-13T20:19:56.150Z"
   },
   {
    "duration": 1266,
    "start_time": "2024-12-13T20:20:03.226Z"
   },
   {
    "duration": 810,
    "start_time": "2024-12-13T20:20:12.080Z"
   },
   {
    "duration": 1073,
    "start_time": "2024-12-13T20:20:19.620Z"
   },
   {
    "duration": 1405,
    "start_time": "2024-12-13T20:20:28.783Z"
   },
   {
    "duration": 1305,
    "start_time": "2024-12-13T20:21:33.284Z"
   },
   {
    "duration": 1306,
    "start_time": "2024-12-13T20:21:47.583Z"
   },
   {
    "duration": 1444,
    "start_time": "2024-12-13T20:22:02.546Z"
   },
   {
    "duration": 4,
    "start_time": "2024-12-13T20:22:46.748Z"
   },
   {
    "duration": 52,
    "start_time": "2024-12-13T20:22:46.753Z"
   },
   {
    "duration": 10,
    "start_time": "2024-12-13T20:22:46.807Z"
   },
   {
    "duration": 2,
    "start_time": "2024-12-13T20:22:46.819Z"
   },
   {
    "duration": 25,
    "start_time": "2024-12-13T20:22:46.823Z"
   },
   {
    "duration": 5,
    "start_time": "2024-12-13T20:22:46.849Z"
   },
   {
    "duration": 6,
    "start_time": "2024-12-13T20:22:46.855Z"
   },
   {
    "duration": 4024,
    "start_time": "2024-12-13T20:22:46.862Z"
   },
   {
    "duration": 6,
    "start_time": "2024-12-13T20:22:50.888Z"
   },
   {
    "duration": 2820,
    "start_time": "2024-12-13T20:22:50.895Z"
   },
   {
    "duration": 15171,
    "start_time": "2024-12-13T20:22:53.717Z"
   },
   {
    "duration": 1622,
    "start_time": "2024-12-13T20:23:08.890Z"
   },
   {
    "duration": 3,
    "start_time": "2024-12-13T20:23:10.515Z"
   },
   {
    "duration": 27,
    "start_time": "2024-12-13T20:23:10.519Z"
   },
   {
    "duration": 11,
    "start_time": "2024-12-13T20:23:10.547Z"
   },
   {
    "duration": 32,
    "start_time": "2024-12-13T20:23:10.560Z"
   },
   {
    "duration": 247,
    "start_time": "2024-12-13T20:23:10.594Z"
   },
   {
    "duration": 1450,
    "start_time": "2024-12-13T20:23:10.842Z"
   },
   {
    "duration": 4,
    "start_time": "2024-12-13T20:24:43.268Z"
   },
   {
    "duration": 52,
    "start_time": "2024-12-13T20:24:43.274Z"
   },
   {
    "duration": 11,
    "start_time": "2024-12-13T20:24:43.327Z"
   },
   {
    "duration": 3,
    "start_time": "2024-12-13T20:24:43.340Z"
   },
   {
    "duration": 21,
    "start_time": "2024-12-13T20:24:43.344Z"
   },
   {
    "duration": 5,
    "start_time": "2024-12-13T20:24:43.366Z"
   },
   {
    "duration": 6,
    "start_time": "2024-12-13T20:24:43.372Z"
   },
   {
    "duration": 3855,
    "start_time": "2024-12-13T20:24:43.386Z"
   },
   {
    "duration": 6,
    "start_time": "2024-12-13T20:24:47.242Z"
   },
   {
    "duration": 2821,
    "start_time": "2024-12-13T20:24:47.250Z"
   },
   {
    "duration": 15114,
    "start_time": "2024-12-13T20:24:50.073Z"
   },
   {
    "duration": 1826,
    "start_time": "2024-12-13T20:25:05.189Z"
   },
   {
    "duration": 5,
    "start_time": "2024-12-13T20:25:07.016Z"
   },
   {
    "duration": 85,
    "start_time": "2024-12-13T20:25:07.024Z"
   },
   {
    "duration": 32,
    "start_time": "2024-12-13T20:25:07.111Z"
   },
   {
    "duration": 142,
    "start_time": "2024-12-13T20:25:07.145Z"
   },
   {
    "duration": 158,
    "start_time": "2024-12-13T20:25:07.289Z"
   },
   {
    "duration": 1446,
    "start_time": "2024-12-13T20:25:07.449Z"
   },
   {
    "duration": 100,
    "start_time": "2024-12-13T20:25:08.987Z"
   },
   {
    "duration": 3,
    "start_time": "2024-12-13T20:25:15.712Z"
   },
   {
    "duration": 100,
    "start_time": "2024-12-13T20:25:15.717Z"
   },
   {
    "duration": 11,
    "start_time": "2024-12-13T20:25:15.819Z"
   },
   {
    "duration": 3,
    "start_time": "2024-12-13T20:25:15.831Z"
   },
   {
    "duration": 28,
    "start_time": "2024-12-13T20:25:15.836Z"
   },
   {
    "duration": 5,
    "start_time": "2024-12-13T20:25:15.865Z"
   },
   {
    "duration": 15,
    "start_time": "2024-12-13T20:25:15.872Z"
   },
   {
    "duration": 4032,
    "start_time": "2024-12-13T20:25:15.889Z"
   },
   {
    "duration": 7,
    "start_time": "2024-12-13T20:25:19.922Z"
   },
   {
    "duration": 2806,
    "start_time": "2024-12-13T20:25:19.930Z"
   },
   {
    "duration": 14857,
    "start_time": "2024-12-13T20:25:22.738Z"
   },
   {
    "duration": 1792,
    "start_time": "2024-12-13T20:25:37.596Z"
   },
   {
    "duration": 3,
    "start_time": "2024-12-13T20:25:39.390Z"
   },
   {
    "duration": 23,
    "start_time": "2024-12-13T20:25:39.397Z"
   },
   {
    "duration": 19,
    "start_time": "2024-12-13T20:25:39.422Z"
   },
   {
    "duration": 142,
    "start_time": "2024-12-13T20:25:39.443Z"
   },
   {
    "duration": 155,
    "start_time": "2024-12-13T20:25:39.590Z"
   },
   {
    "duration": 1342,
    "start_time": "2024-12-13T20:25:39.747Z"
   },
   {
    "duration": 110,
    "start_time": "2024-12-13T20:25:41.091Z"
   },
   {
    "duration": 4,
    "start_time": "2024-12-13T20:26:01.128Z"
   },
   {
    "duration": 4,
    "start_time": "2024-12-13T20:27:15.447Z"
   },
   {
    "duration": 85,
    "start_time": "2024-12-13T20:27:15.452Z"
   },
   {
    "duration": 14,
    "start_time": "2024-12-13T20:27:15.539Z"
   },
   {
    "duration": 15,
    "start_time": "2024-12-13T20:27:15.554Z"
   },
   {
    "duration": 63,
    "start_time": "2024-12-13T20:27:15.572Z"
   },
   {
    "duration": 48,
    "start_time": "2024-12-13T20:27:15.636Z"
   },
   {
    "duration": 71,
    "start_time": "2024-12-13T20:27:15.686Z"
   },
   {
    "duration": 3917,
    "start_time": "2024-12-13T20:27:15.759Z"
   },
   {
    "duration": 13,
    "start_time": "2024-12-13T20:27:19.677Z"
   },
   {
    "duration": 3022,
    "start_time": "2024-12-13T20:27:19.691Z"
   },
   {
    "duration": 15072,
    "start_time": "2024-12-13T20:27:22.715Z"
   },
   {
    "duration": 1728,
    "start_time": "2024-12-13T20:27:37.788Z"
   },
   {
    "duration": 4,
    "start_time": "2024-12-13T20:27:39.518Z"
   },
   {
    "duration": 26,
    "start_time": "2024-12-13T20:27:39.524Z"
   },
   {
    "duration": 12,
    "start_time": "2024-12-13T20:27:39.552Z"
   },
   {
    "duration": 122,
    "start_time": "2024-12-13T20:27:39.565Z"
   },
   {
    "duration": 162,
    "start_time": "2024-12-13T20:27:39.689Z"
   },
   {
    "duration": 1541,
    "start_time": "2024-12-13T20:27:39.853Z"
   },
   {
    "duration": 194,
    "start_time": "2024-12-13T20:27:41.396Z"
   },
   {
    "duration": 4,
    "start_time": "2024-12-13T20:28:20.805Z"
   },
   {
    "duration": 4,
    "start_time": "2024-12-13T20:28:34.108Z"
   },
   {
    "duration": 1329,
    "start_time": "2024-12-13T20:29:27.827Z"
   },
   {
    "duration": 54,
    "start_time": "2024-12-13T20:29:29.158Z"
   },
   {
    "duration": 124,
    "start_time": "2024-12-13T20:29:29.213Z"
   },
   {
    "duration": 0,
    "start_time": "2024-12-13T20:29:29.338Z"
   },
   {
    "duration": 0,
    "start_time": "2024-12-13T20:29:29.340Z"
   },
   {
    "duration": 0,
    "start_time": "2024-12-13T20:29:29.341Z"
   },
   {
    "duration": 0,
    "start_time": "2024-12-13T20:29:29.342Z"
   },
   {
    "duration": 0,
    "start_time": "2024-12-13T20:29:29.343Z"
   },
   {
    "duration": 0,
    "start_time": "2024-12-13T20:29:29.344Z"
   },
   {
    "duration": 0,
    "start_time": "2024-12-13T20:29:29.345Z"
   },
   {
    "duration": 0,
    "start_time": "2024-12-13T20:29:29.345Z"
   },
   {
    "duration": 0,
    "start_time": "2024-12-13T20:29:29.346Z"
   },
   {
    "duration": 0,
    "start_time": "2024-12-13T20:29:29.347Z"
   },
   {
    "duration": 0,
    "start_time": "2024-12-13T20:29:29.348Z"
   },
   {
    "duration": 0,
    "start_time": "2024-12-13T20:29:29.349Z"
   },
   {
    "duration": 0,
    "start_time": "2024-12-13T20:29:29.350Z"
   },
   {
    "duration": 0,
    "start_time": "2024-12-13T20:29:29.351Z"
   },
   {
    "duration": 0,
    "start_time": "2024-12-13T20:29:29.352Z"
   },
   {
    "duration": 0,
    "start_time": "2024-12-13T20:29:29.353Z"
   },
   {
    "duration": 1402,
    "start_time": "2024-12-13T20:30:17.443Z"
   },
   {
    "duration": 53,
    "start_time": "2024-12-13T20:30:18.847Z"
   },
   {
    "duration": 14,
    "start_time": "2024-12-13T20:30:18.901Z"
   },
   {
    "duration": 8,
    "start_time": "2024-12-13T20:30:18.916Z"
   },
   {
    "duration": 22,
    "start_time": "2024-12-13T20:30:18.926Z"
   },
   {
    "duration": 4,
    "start_time": "2024-12-13T20:30:18.950Z"
   },
   {
    "duration": 19,
    "start_time": "2024-12-13T20:30:18.956Z"
   },
   {
    "duration": 4106,
    "start_time": "2024-12-13T20:30:18.977Z"
   },
   {
    "duration": 7,
    "start_time": "2024-12-13T20:30:23.085Z"
   },
   {
    "duration": 2910,
    "start_time": "2024-12-13T20:30:23.093Z"
   },
   {
    "duration": 16583,
    "start_time": "2024-12-13T20:30:26.004Z"
   },
   {
    "duration": 1823,
    "start_time": "2024-12-13T20:30:42.589Z"
   },
   {
    "duration": 3,
    "start_time": "2024-12-13T20:30:44.414Z"
   },
   {
    "duration": 31,
    "start_time": "2024-12-13T20:30:44.420Z"
   },
   {
    "duration": 15,
    "start_time": "2024-12-13T20:30:44.452Z"
   },
   {
    "duration": 38,
    "start_time": "2024-12-13T20:30:44.468Z"
   },
   {
    "duration": 163,
    "start_time": "2024-12-13T20:30:44.587Z"
   },
   {
    "duration": 1439,
    "start_time": "2024-12-13T20:30:44.751Z"
   },
   {
    "duration": 304,
    "start_time": "2024-12-13T20:30:46.194Z"
   },
   {
    "duration": 22,
    "start_time": "2024-12-13T20:31:01.794Z"
   },
   {
    "duration": 5,
    "start_time": "2024-12-13T20:32:18.362Z"
   },
   {
    "duration": 20,
    "start_time": "2024-12-13T20:32:28.967Z"
   },
   {
    "duration": 17,
    "start_time": "2024-12-13T20:32:41.381Z"
   },
   {
    "duration": 1378,
    "start_time": "2024-12-13T20:32:58.484Z"
   },
   {
    "duration": 54,
    "start_time": "2024-12-13T20:32:59.863Z"
   },
   {
    "duration": 13,
    "start_time": "2024-12-13T20:32:59.918Z"
   },
   {
    "duration": 3,
    "start_time": "2024-12-13T20:32:59.932Z"
   },
   {
    "duration": 42,
    "start_time": "2024-12-13T20:32:59.937Z"
   },
   {
    "duration": 4,
    "start_time": "2024-12-13T20:32:59.981Z"
   },
   {
    "duration": 4,
    "start_time": "2024-12-13T20:32:59.986Z"
   },
   {
    "duration": 4012,
    "start_time": "2024-12-13T20:32:59.991Z"
   },
   {
    "duration": 8,
    "start_time": "2024-12-13T20:33:04.004Z"
   },
   {
    "duration": 2861,
    "start_time": "2024-12-13T20:33:04.013Z"
   },
   {
    "duration": 17112,
    "start_time": "2024-12-13T20:33:06.876Z"
   },
   {
    "duration": 1807,
    "start_time": "2024-12-13T20:33:23.989Z"
   },
   {
    "duration": 4,
    "start_time": "2024-12-13T20:33:25.797Z"
   },
   {
    "duration": 27,
    "start_time": "2024-12-13T20:33:25.803Z"
   },
   {
    "duration": 14,
    "start_time": "2024-12-13T20:33:25.831Z"
   },
   {
    "duration": 45,
    "start_time": "2024-12-13T20:33:25.847Z"
   },
   {
    "duration": 242,
    "start_time": "2024-12-13T20:33:25.894Z"
   },
   {
    "duration": 1458,
    "start_time": "2024-12-13T20:33:26.138Z"
   },
   {
    "duration": 5,
    "start_time": "2024-12-13T20:33:27.686Z"
   },
   {
    "duration": 95,
    "start_time": "2024-12-13T20:33:27.693Z"
   },
   {
    "duration": 69,
    "start_time": "2024-12-14T08:02:28.980Z"
   },
   {
    "duration": 1602,
    "start_time": "2024-12-14T08:02:40.020Z"
   },
   {
    "duration": 174,
    "start_time": "2024-12-14T08:02:42.426Z"
   },
   {
    "duration": 13,
    "start_time": "2024-12-14T08:02:51.140Z"
   },
   {
    "duration": 3,
    "start_time": "2024-12-14T08:03:20.549Z"
   },
   {
    "duration": 23,
    "start_time": "2024-12-14T08:03:21.019Z"
   },
   {
    "duration": 5,
    "start_time": "2024-12-14T08:03:24.733Z"
   },
   {
    "duration": 4,
    "start_time": "2024-12-14T08:03:25.548Z"
   },
   {
    "duration": 4199,
    "start_time": "2024-12-14T08:03:28.500Z"
   },
   {
    "duration": 7,
    "start_time": "2024-12-14T08:03:44.323Z"
   },
   {
    "duration": 3095,
    "start_time": "2024-12-14T08:03:45.253Z"
   },
   {
    "duration": 124,
    "start_time": "2024-12-14T08:11:04.910Z"
   },
   {
    "duration": 11,
    "start_time": "2024-12-14T08:14:59.309Z"
   },
   {
    "duration": 2,
    "start_time": "2024-12-14T08:15:16.180Z"
   },
   {
    "duration": 3,
    "start_time": "2024-12-14T08:15:25.740Z"
   },
   {
    "duration": 1741,
    "start_time": "2024-12-15T08:07:32.371Z"
   },
   {
    "duration": 177,
    "start_time": "2024-12-15T08:07:38.118Z"
   },
   {
    "duration": 9,
    "start_time": "2024-12-15T08:09:53.542Z"
   },
   {
    "duration": 13,
    "start_time": "2024-12-15T08:12:23.366Z"
   },
   {
    "duration": 11,
    "start_time": "2024-12-15T08:12:31.102Z"
   },
   {
    "duration": 4,
    "start_time": "2024-12-15T08:14:42.906Z"
   },
   {
    "duration": 52,
    "start_time": "2024-12-15T08:14:44.995Z"
   },
   {
    "duration": 15,
    "start_time": "2024-12-15T08:14:49.594Z"
   },
   {
    "duration": 3,
    "start_time": "2024-12-15T08:14:57.386Z"
   },
   {
    "duration": 128,
    "start_time": "2024-12-15T08:17:32.117Z"
   },
   {
    "duration": 13,
    "start_time": "2024-12-15T08:17:46.221Z"
   },
   {
    "duration": 3,
    "start_time": "2024-12-15T08:18:09.770Z"
   },
   {
    "duration": 12,
    "start_time": "2024-12-15T08:18:28.276Z"
   },
   {
    "duration": 16,
    "start_time": "2024-12-15T08:18:49.482Z"
   },
   {
    "duration": 4,
    "start_time": "2024-12-15T08:18:56.848Z"
   },
   {
    "duration": 4,
    "start_time": "2024-12-15T08:19:05.915Z"
   },
   {
    "duration": 3,
    "start_time": "2024-12-15T08:19:38.582Z"
   },
   {
    "duration": 50,
    "start_time": "2024-12-15T08:19:40.356Z"
   },
   {
    "duration": 9,
    "start_time": "2024-12-15T08:19:41.606Z"
   },
   {
    "duration": 8,
    "start_time": "2024-12-15T08:20:19.921Z"
   },
   {
    "duration": 4,
    "start_time": "2024-12-15T08:20:30.460Z"
   },
   {
    "duration": 48,
    "start_time": "2024-12-15T08:20:31.846Z"
   },
   {
    "duration": 9,
    "start_time": "2024-12-15T08:20:33.147Z"
   },
   {
    "duration": 9,
    "start_time": "2024-12-15T08:20:36.183Z"
   },
   {
    "duration": 9,
    "start_time": "2024-12-15T08:20:47.457Z"
   },
   {
    "duration": 2,
    "start_time": "2024-12-15T08:20:50.534Z"
   },
   {
    "duration": 2,
    "start_time": "2024-12-15T08:20:53.233Z"
   },
   {
    "duration": 9,
    "start_time": "2024-12-15T08:20:59.915Z"
   },
   {
    "duration": 4,
    "start_time": "2024-12-15T08:21:11.431Z"
   },
   {
    "duration": 50,
    "start_time": "2024-12-15T08:21:12.505Z"
   },
   {
    "duration": 6,
    "start_time": "2024-12-15T08:21:13.254Z"
   },
   {
    "duration": 4,
    "start_time": "2024-12-15T08:21:28.545Z"
   },
   {
    "duration": 3,
    "start_time": "2024-12-15T08:23:28.786Z"
   },
   {
    "duration": 23,
    "start_time": "2024-12-15T08:23:29.321Z"
   },
   {
    "duration": 5,
    "start_time": "2024-12-15T08:23:35.562Z"
   },
   {
    "duration": 92,
    "start_time": "2024-12-15T08:23:35.570Z"
   },
   {
    "duration": 8,
    "start_time": "2024-12-15T08:23:35.663Z"
   },
   {
    "duration": 36,
    "start_time": "2024-12-15T08:23:35.673Z"
   },
   {
    "duration": 17,
    "start_time": "2024-12-15T08:23:35.711Z"
   },
   {
    "duration": 60,
    "start_time": "2024-12-15T08:23:35.729Z"
   },
   {
    "duration": 7,
    "start_time": "2024-12-15T08:23:42.633Z"
   },
   {
    "duration": 4,
    "start_time": "2024-12-15T08:23:53.288Z"
   },
   {
    "duration": 996,
    "start_time": "2024-12-15T08:23:55.879Z"
   },
   {
    "duration": 6,
    "start_time": "2024-12-15T08:26:11.747Z"
   },
   {
    "duration": 870,
    "start_time": "2024-12-15T08:26:50.152Z"
   },
   {
    "duration": 7,
    "start_time": "2024-12-15T08:27:02.188Z"
   },
   {
    "duration": 856,
    "start_time": "2024-12-15T08:27:03.252Z"
   },
   {
    "duration": 153,
    "start_time": "2024-12-15T08:29:01.847Z"
   },
   {
    "duration": 364,
    "start_time": "2024-12-15T08:29:09.877Z"
   },
   {
    "duration": 121,
    "start_time": "2024-12-15T08:30:30.620Z"
   },
   {
    "duration": 414,
    "start_time": "2024-12-15T08:30:40.019Z"
   },
   {
    "duration": 19,
    "start_time": "2024-12-15T08:31:27.004Z"
   },
   {
    "duration": 365,
    "start_time": "2024-12-15T08:31:41.115Z"
   },
   {
    "duration": 12,
    "start_time": "2024-12-15T08:33:06.697Z"
   },
   {
    "duration": 380,
    "start_time": "2024-12-15T08:34:46.102Z"
   },
   {
    "duration": 376,
    "start_time": "2024-12-15T08:34:57.742Z"
   },
   {
    "duration": 372,
    "start_time": "2024-12-15T08:35:28.173Z"
   },
   {
    "duration": 466,
    "start_time": "2024-12-15T08:35:41.669Z"
   },
   {
    "duration": 279,
    "start_time": "2024-12-15T09:16:42.266Z"
   },
   {
    "duration": 304,
    "start_time": "2024-12-15T09:16:48.103Z"
   },
   {
    "duration": 244,
    "start_time": "2024-12-15T09:17:01.367Z"
   },
   {
    "duration": 375,
    "start_time": "2024-12-15T09:18:13.786Z"
   },
   {
    "duration": 195,
    "start_time": "2024-12-15T09:19:16.831Z"
   },
   {
    "duration": 208,
    "start_time": "2024-12-15T09:20:05.608Z"
   },
   {
    "duration": 1302,
    "start_time": "2024-12-15T09:22:08.886Z"
   },
   {
    "duration": 1067,
    "start_time": "2024-12-15T09:22:29.926Z"
   },
   {
    "duration": 295,
    "start_time": "2024-12-15T09:23:02.134Z"
   },
   {
    "duration": 4,
    "start_time": "2024-12-15T09:24:28.352Z"
   },
   {
    "duration": 43,
    "start_time": "2024-12-15T09:25:46.960Z"
   },
   {
    "duration": 42,
    "start_time": "2024-12-15T09:29:39.357Z"
   },
   {
    "duration": 26,
    "start_time": "2024-12-15T09:30:02.619Z"
   },
   {
    "duration": 9,
    "start_time": "2024-12-15T09:30:07.961Z"
   },
   {
    "duration": 41,
    "start_time": "2024-12-15T09:31:08.883Z"
   },
   {
    "duration": 6,
    "start_time": "2024-12-15T09:40:31.650Z"
   },
   {
    "duration": 6,
    "start_time": "2024-12-15T09:40:59.600Z"
   },
   {
    "duration": 2,
    "start_time": "2024-12-15T09:41:48.662Z"
   },
   {
    "duration": 15,
    "start_time": "2024-12-15T09:44:57.023Z"
   },
   {
    "duration": 10,
    "start_time": "2024-12-15T09:45:02.641Z"
   },
   {
    "duration": 7,
    "start_time": "2024-12-15T09:45:37.098Z"
   },
   {
    "duration": 4,
    "start_time": "2024-12-15T09:45:40.753Z"
   },
   {
    "duration": 4,
    "start_time": "2024-12-15T09:50:16.237Z"
   },
   {
    "duration": 3,
    "start_time": "2024-12-15T09:52:40.170Z"
   },
   {
    "duration": 3,
    "start_time": "2024-12-15T09:53:03.277Z"
   },
   {
    "duration": 1090171,
    "start_time": "2024-12-15T09:55:13.368Z"
   },
   {
    "duration": 3,
    "start_time": "2024-12-15T10:13:53.271Z"
   },
   {
    "duration": 2,
    "start_time": "2024-12-15T10:13:53.955Z"
   },
   {
    "duration": 1423652,
    "start_time": "2024-12-15T10:13:55.375Z"
   },
   {
    "duration": 55,
    "start_time": "2024-12-15T10:57:26.884Z"
   },
   {
    "duration": 5,
    "start_time": "2024-12-15T10:57:38.465Z"
   },
   {
    "duration": 5,
    "start_time": "2024-12-15T10:57:38.471Z"
   },
   {
    "duration": 59,
    "start_time": "2024-12-15T10:57:38.477Z"
   },
   {
    "duration": 6,
    "start_time": "2024-12-15T10:57:38.537Z"
   },
   {
    "duration": 3,
    "start_time": "2024-12-15T10:57:38.545Z"
   },
   {
    "duration": 6,
    "start_time": "2024-12-15T10:57:38.549Z"
   },
   {
    "duration": 21,
    "start_time": "2024-12-15T10:57:38.557Z"
   },
   {
    "duration": 16,
    "start_time": "2024-12-15T10:57:38.580Z"
   },
   {
    "duration": 5,
    "start_time": "2024-12-15T10:57:38.597Z"
   },
   {
    "duration": 1036,
    "start_time": "2024-12-15T10:57:38.604Z"
   },
   {
    "duration": 7,
    "start_time": "2024-12-15T10:57:39.642Z"
   },
   {
    "duration": 967,
    "start_time": "2024-12-15T10:57:39.651Z"
   },
   {
    "duration": 494,
    "start_time": "2024-12-15T10:57:40.620Z"
   },
   {
    "duration": 282,
    "start_time": "2024-12-15T10:57:41.117Z"
   },
   {
    "duration": 231,
    "start_time": "2024-12-15T10:57:41.400Z"
   },
   {
    "duration": 5455,
    "start_time": "2024-12-15T10:57:41.634Z"
   },
   {
    "duration": 441,
    "start_time": "2024-12-15T10:57:47.091Z"
   },
   {
    "duration": 4,
    "start_time": "2024-12-15T10:57:47.533Z"
   },
   {
    "duration": 33,
    "start_time": "2024-12-15T10:57:47.539Z"
   },
   {
    "duration": 32,
    "start_time": "2024-12-15T10:57:47.574Z"
   },
   {
    "duration": 5,
    "start_time": "2024-12-15T10:57:47.608Z"
   },
   {
    "duration": 6,
    "start_time": "2024-12-15T10:57:47.615Z"
   },
   {
    "duration": 5,
    "start_time": "2024-12-15T10:57:47.623Z"
   },
   {
    "duration": 5,
    "start_time": "2024-12-15T11:07:25.305Z"
   },
   {
    "duration": 98,
    "start_time": "2024-12-15T11:07:25.312Z"
   },
   {
    "duration": 134,
    "start_time": "2024-12-15T11:07:25.412Z"
   },
   {
    "duration": 7,
    "start_time": "2024-12-15T11:07:25.548Z"
   },
   {
    "duration": 5,
    "start_time": "2024-12-15T11:07:25.557Z"
   },
   {
    "duration": 15,
    "start_time": "2024-12-15T11:07:25.564Z"
   },
   {
    "duration": 40,
    "start_time": "2024-12-15T11:07:25.581Z"
   },
   {
    "duration": 7,
    "start_time": "2024-12-15T11:07:25.624Z"
   },
   {
    "duration": 5,
    "start_time": "2024-12-15T11:07:25.634Z"
   },
   {
    "duration": 882,
    "start_time": "2024-12-15T11:07:25.640Z"
   },
   {
    "duration": 6,
    "start_time": "2024-12-15T11:07:26.524Z"
   },
   {
    "duration": 914,
    "start_time": "2024-12-15T11:07:26.531Z"
   },
   {
    "duration": 428,
    "start_time": "2024-12-15T11:07:27.447Z"
   },
   {
    "duration": 270,
    "start_time": "2024-12-15T11:07:27.876Z"
   },
   {
    "duration": 219,
    "start_time": "2024-12-15T11:07:28.148Z"
   },
   {
    "duration": 4742,
    "start_time": "2024-12-15T11:07:28.368Z"
   },
   {
    "duration": 520,
    "start_time": "2024-12-15T11:07:33.198Z"
   },
   {
    "duration": 4,
    "start_time": "2024-12-15T11:07:33.719Z"
   },
   {
    "duration": 31,
    "start_time": "2024-12-15T11:07:33.725Z"
   },
   {
    "duration": 31,
    "start_time": "2024-12-15T11:07:33.758Z"
   },
   {
    "duration": 9,
    "start_time": "2024-12-15T11:07:33.791Z"
   },
   {
    "duration": 41,
    "start_time": "2024-12-15T11:07:33.801Z"
   },
   {
    "duration": 14,
    "start_time": "2024-12-15T11:07:33.846Z"
   },
   {
    "duration": 325952,
    "start_time": "2024-12-15T11:07:33.862Z"
   },
   {
    "duration": 8,
    "start_time": "2024-12-15T11:14:53.446Z"
   },
   {
    "duration": 44,
    "start_time": "2024-12-15T11:16:09.866Z"
   },
   {
    "duration": 6,
    "start_time": "2024-12-15T11:23:04.130Z"
   },
   {
    "duration": 210,
    "start_time": "2024-12-15T11:27:37.045Z"
   },
   {
    "duration": 210,
    "start_time": "2024-12-15T11:28:12.294Z"
   },
   {
    "duration": 39,
    "start_time": "2024-12-15T11:29:34.976Z"
   },
   {
    "duration": 12,
    "start_time": "2024-12-15T11:30:22.014Z"
   },
   {
    "duration": 304,
    "start_time": "2024-12-15T11:31:10.169Z"
   },
   {
    "duration": 176,
    "start_time": "2024-12-15T11:31:26.138Z"
   },
   {
    "duration": 246,
    "start_time": "2024-12-15T11:31:46.300Z"
   },
   {
    "duration": 304,
    "start_time": "2024-12-15T11:31:56.161Z"
   },
   {
    "duration": 372,
    "start_time": "2024-12-15T11:32:02.291Z"
   },
   {
    "duration": 538,
    "start_time": "2024-12-15T11:32:10.570Z"
   },
   {
    "duration": 330,
    "start_time": "2024-12-15T11:32:17.818Z"
   },
   {
    "duration": 1559,
    "start_time": "2024-12-15T11:33:42.550Z"
   },
   {
    "duration": 4,
    "start_time": "2024-12-15T11:33:44.112Z"
   },
   {
    "duration": 97,
    "start_time": "2024-12-15T11:33:44.118Z"
   },
   {
    "duration": 11,
    "start_time": "2024-12-15T11:33:44.218Z"
   },
   {
    "duration": 5,
    "start_time": "2024-12-15T11:33:44.232Z"
   },
   {
    "duration": 4,
    "start_time": "2024-12-15T11:33:44.238Z"
   },
   {
    "duration": 32,
    "start_time": "2024-12-15T11:33:44.244Z"
   },
   {
    "duration": 15,
    "start_time": "2024-12-15T11:33:44.297Z"
   },
   {
    "duration": 8,
    "start_time": "2024-12-15T11:33:44.314Z"
   },
   {
    "duration": 1147,
    "start_time": "2024-12-15T11:33:44.324Z"
   },
   {
    "duration": 9,
    "start_time": "2024-12-15T11:33:45.473Z"
   },
   {
    "duration": 1107,
    "start_time": "2024-12-15T11:33:45.484Z"
   },
   {
    "duration": 537,
    "start_time": "2024-12-15T11:33:46.593Z"
   },
   {
    "duration": 302,
    "start_time": "2024-12-15T11:33:47.134Z"
   },
   {
    "duration": 325,
    "start_time": "2024-12-15T11:33:47.438Z"
   },
   {
    "duration": 4124,
    "start_time": "2024-12-15T11:33:47.765Z"
   },
   {
    "duration": 485,
    "start_time": "2024-12-15T11:33:51.892Z"
   },
   {
    "duration": 4,
    "start_time": "2024-12-15T11:33:52.379Z"
   },
   {
    "duration": 49,
    "start_time": "2024-12-15T11:33:52.384Z"
   },
   {
    "duration": 16,
    "start_time": "2024-12-15T11:33:52.435Z"
   },
   {
    "duration": 126,
    "start_time": "2024-12-15T11:33:52.453Z"
   },
   {
    "duration": 27,
    "start_time": "2024-12-15T11:33:52.581Z"
   },
   {
    "duration": 14,
    "start_time": "2024-12-15T11:33:52.610Z"
   },
   {
    "duration": 517767,
    "start_time": "2024-12-15T11:33:52.626Z"
   },
   {
    "duration": 26,
    "start_time": "2024-12-15T11:42:30.395Z"
   },
   {
    "duration": 74,
    "start_time": "2024-12-15T11:42:30.423Z"
   },
   {
    "duration": 355,
    "start_time": "2024-12-15T11:42:30.500Z"
   }
  ],
  "kernelspec": {
   "display_name": "Python 3 (ipykernel)",
   "language": "python",
   "name": "python3"
  },
  "language_info": {
   "codemirror_mode": {
    "name": "ipython",
    "version": 3
   },
   "file_extension": ".py",
   "mimetype": "text/x-python",
   "name": "python",
   "nbconvert_exporter": "python",
   "pygments_lexer": "ipython3",
   "version": "3.9.5"
  },
  "toc": {
   "base_numbering": 1,
   "nav_menu": {},
   "number_sections": false,
   "sideBar": true,
   "skip_h1_title": false,
   "title_cell": "Содержание",
   "title_sidebar": "Contents",
   "toc_cell": false,
   "toc_position": {
    "height": "calc(100% - 180px)",
    "left": "10px",
    "top": "150px",
    "width": "183px"
   },
   "toc_section_display": true,
   "toc_window_display": true
  }
 },
 "nbformat": 4,
 "nbformat_minor": 2
}
