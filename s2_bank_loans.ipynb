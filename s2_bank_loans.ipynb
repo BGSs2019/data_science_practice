{
 "cells": [
  {
   "cell_type": "markdown",
   "id": "1e5b2ac7",
   "metadata": {
    "deletable": false,
    "editable": false,
    "id": "c81daeeb"
   },
   "source": [
    "# Исследование надежности заемщиков\n"
   ]
  },
  {
   "cell_type": "markdown",
   "id": "fe3d2d60",
   "metadata": {
    "deletable": false,
    "editable": false,
    "id": "827c20bf"
   },
   "source": [
    "Во второй части проекта вы выполните шаги 3 и 4. Их вручную проверит ревьюер.\n",
    "Чтобы вам не пришлось писать код заново для шагов 1 и 2, мы добавили авторские решения в ячейки с кодом. \n",
    "\n"
   ]
  },
  {
   "cell_type": "markdown",
   "id": "ae8c95f3",
   "metadata": {
    "deletable": false,
    "editable": false,
    "id": "744d7639"
   },
   "source": [
    "## Откройте таблицу и изучите общую информацию о данных"
   ]
  },
  {
   "cell_type": "markdown",
   "id": "d0f63e44",
   "metadata": {
    "deletable": false,
    "editable": false,
    "id": "e7a14c31"
   },
   "source": [
    "**Задание 1. Импортируйте библиотеку pandas. Считайте данные из csv-файла в датафрейм и сохраните в переменную `data`. Путь к файлу:**\n",
    "\n",
    "`/datasets/data.csv`"
   ]
  },
  {
   "cell_type": "code",
   "execution_count": 1,
   "id": "332d9af2",
   "metadata": {
    "deletable": false,
    "id": "7bcf75c9"
   },
   "outputs": [],
   "source": [
    "import pandas as pd\n",
    "from matplotlib import pyplot as plt\n",
    "\n",
    "try:\n",
    "    data = pd.read_csv('/datasets/data.csv')\n",
    "except:\n",
    "    data = pd.read_csv('https://code.s3.yandex.net/datasets/data.csv')"
   ]
  },
  {
   "cell_type": "markdown",
   "id": "1ef33201",
   "metadata": {
    "deletable": false,
    "editable": false,
    "id": "b8038fe3"
   },
   "source": [
    "**Задание 2. Выведите первые 20 строчек датафрейма `data` на экран.**"
   ]
  },
  {
   "cell_type": "code",
   "execution_count": 2,
   "id": "67c67441",
   "metadata": {
    "deletable": false,
    "id": "2a7cab99",
    "outputId": "1a8f3ef2-d323-4ec2-ddf7-89670b5944c4"
   },
   "outputs": [
    {
     "data": {
      "text/html": [
       "<div>\n",
       "<style scoped>\n",
       "    .dataframe tbody tr th:only-of-type {\n",
       "        vertical-align: middle;\n",
       "    }\n",
       "\n",
       "    .dataframe tbody tr th {\n",
       "        vertical-align: top;\n",
       "    }\n",
       "\n",
       "    .dataframe thead th {\n",
       "        text-align: right;\n",
       "    }\n",
       "</style>\n",
       "<table border=\"1\" class=\"dataframe\">\n",
       "  <thead>\n",
       "    <tr style=\"text-align: right;\">\n",
       "      <th></th>\n",
       "      <th>children</th>\n",
       "      <th>days_employed</th>\n",
       "      <th>dob_years</th>\n",
       "      <th>education</th>\n",
       "      <th>education_id</th>\n",
       "      <th>family_status</th>\n",
       "      <th>family_status_id</th>\n",
       "      <th>gender</th>\n",
       "      <th>income_type</th>\n",
       "      <th>debt</th>\n",
       "      <th>total_income</th>\n",
       "      <th>purpose</th>\n",
       "    </tr>\n",
       "  </thead>\n",
       "  <tbody>\n",
       "    <tr>\n",
       "      <th>0</th>\n",
       "      <td>1</td>\n",
       "      <td>-8437.673028</td>\n",
       "      <td>42</td>\n",
       "      <td>высшее</td>\n",
       "      <td>0</td>\n",
       "      <td>женат / замужем</td>\n",
       "      <td>0</td>\n",
       "      <td>F</td>\n",
       "      <td>сотрудник</td>\n",
       "      <td>0</td>\n",
       "      <td>253875.639453</td>\n",
       "      <td>покупка жилья</td>\n",
       "    </tr>\n",
       "    <tr>\n",
       "      <th>1</th>\n",
       "      <td>1</td>\n",
       "      <td>-4024.803754</td>\n",
       "      <td>36</td>\n",
       "      <td>среднее</td>\n",
       "      <td>1</td>\n",
       "      <td>женат / замужем</td>\n",
       "      <td>0</td>\n",
       "      <td>F</td>\n",
       "      <td>сотрудник</td>\n",
       "      <td>0</td>\n",
       "      <td>112080.014102</td>\n",
       "      <td>приобретение автомобиля</td>\n",
       "    </tr>\n",
       "    <tr>\n",
       "      <th>2</th>\n",
       "      <td>0</td>\n",
       "      <td>-5623.422610</td>\n",
       "      <td>33</td>\n",
       "      <td>Среднее</td>\n",
       "      <td>1</td>\n",
       "      <td>женат / замужем</td>\n",
       "      <td>0</td>\n",
       "      <td>M</td>\n",
       "      <td>сотрудник</td>\n",
       "      <td>0</td>\n",
       "      <td>145885.952297</td>\n",
       "      <td>покупка жилья</td>\n",
       "    </tr>\n",
       "    <tr>\n",
       "      <th>3</th>\n",
       "      <td>3</td>\n",
       "      <td>-4124.747207</td>\n",
       "      <td>32</td>\n",
       "      <td>среднее</td>\n",
       "      <td>1</td>\n",
       "      <td>женат / замужем</td>\n",
       "      <td>0</td>\n",
       "      <td>M</td>\n",
       "      <td>сотрудник</td>\n",
       "      <td>0</td>\n",
       "      <td>267628.550329</td>\n",
       "      <td>дополнительное образование</td>\n",
       "    </tr>\n",
       "    <tr>\n",
       "      <th>4</th>\n",
       "      <td>0</td>\n",
       "      <td>340266.072047</td>\n",
       "      <td>53</td>\n",
       "      <td>среднее</td>\n",
       "      <td>1</td>\n",
       "      <td>гражданский брак</td>\n",
       "      <td>1</td>\n",
       "      <td>F</td>\n",
       "      <td>пенсионер</td>\n",
       "      <td>0</td>\n",
       "      <td>158616.077870</td>\n",
       "      <td>сыграть свадьбу</td>\n",
       "    </tr>\n",
       "    <tr>\n",
       "      <th>5</th>\n",
       "      <td>0</td>\n",
       "      <td>-926.185831</td>\n",
       "      <td>27</td>\n",
       "      <td>высшее</td>\n",
       "      <td>0</td>\n",
       "      <td>гражданский брак</td>\n",
       "      <td>1</td>\n",
       "      <td>M</td>\n",
       "      <td>компаньон</td>\n",
       "      <td>0</td>\n",
       "      <td>255763.565419</td>\n",
       "      <td>покупка жилья</td>\n",
       "    </tr>\n",
       "    <tr>\n",
       "      <th>6</th>\n",
       "      <td>0</td>\n",
       "      <td>-2879.202052</td>\n",
       "      <td>43</td>\n",
       "      <td>высшее</td>\n",
       "      <td>0</td>\n",
       "      <td>женат / замужем</td>\n",
       "      <td>0</td>\n",
       "      <td>F</td>\n",
       "      <td>компаньон</td>\n",
       "      <td>0</td>\n",
       "      <td>240525.971920</td>\n",
       "      <td>операции с жильем</td>\n",
       "    </tr>\n",
       "    <tr>\n",
       "      <th>7</th>\n",
       "      <td>0</td>\n",
       "      <td>-152.779569</td>\n",
       "      <td>50</td>\n",
       "      <td>СРЕДНЕЕ</td>\n",
       "      <td>1</td>\n",
       "      <td>женат / замужем</td>\n",
       "      <td>0</td>\n",
       "      <td>M</td>\n",
       "      <td>сотрудник</td>\n",
       "      <td>0</td>\n",
       "      <td>135823.934197</td>\n",
       "      <td>образование</td>\n",
       "    </tr>\n",
       "    <tr>\n",
       "      <th>8</th>\n",
       "      <td>2</td>\n",
       "      <td>-6929.865299</td>\n",
       "      <td>35</td>\n",
       "      <td>ВЫСШЕЕ</td>\n",
       "      <td>0</td>\n",
       "      <td>гражданский брак</td>\n",
       "      <td>1</td>\n",
       "      <td>F</td>\n",
       "      <td>сотрудник</td>\n",
       "      <td>0</td>\n",
       "      <td>95856.832424</td>\n",
       "      <td>на проведение свадьбы</td>\n",
       "    </tr>\n",
       "    <tr>\n",
       "      <th>9</th>\n",
       "      <td>0</td>\n",
       "      <td>-2188.756445</td>\n",
       "      <td>41</td>\n",
       "      <td>среднее</td>\n",
       "      <td>1</td>\n",
       "      <td>женат / замужем</td>\n",
       "      <td>0</td>\n",
       "      <td>M</td>\n",
       "      <td>сотрудник</td>\n",
       "      <td>0</td>\n",
       "      <td>144425.938277</td>\n",
       "      <td>покупка жилья для семьи</td>\n",
       "    </tr>\n",
       "    <tr>\n",
       "      <th>10</th>\n",
       "      <td>2</td>\n",
       "      <td>-4171.483647</td>\n",
       "      <td>36</td>\n",
       "      <td>высшее</td>\n",
       "      <td>0</td>\n",
       "      <td>женат / замужем</td>\n",
       "      <td>0</td>\n",
       "      <td>M</td>\n",
       "      <td>компаньон</td>\n",
       "      <td>0</td>\n",
       "      <td>113943.491460</td>\n",
       "      <td>покупка недвижимости</td>\n",
       "    </tr>\n",
       "    <tr>\n",
       "      <th>11</th>\n",
       "      <td>0</td>\n",
       "      <td>-792.701887</td>\n",
       "      <td>40</td>\n",
       "      <td>среднее</td>\n",
       "      <td>1</td>\n",
       "      <td>женат / замужем</td>\n",
       "      <td>0</td>\n",
       "      <td>F</td>\n",
       "      <td>сотрудник</td>\n",
       "      <td>0</td>\n",
       "      <td>77069.234271</td>\n",
       "      <td>покупка коммерческой недвижимости</td>\n",
       "    </tr>\n",
       "    <tr>\n",
       "      <th>12</th>\n",
       "      <td>0</td>\n",
       "      <td>NaN</td>\n",
       "      <td>65</td>\n",
       "      <td>среднее</td>\n",
       "      <td>1</td>\n",
       "      <td>гражданский брак</td>\n",
       "      <td>1</td>\n",
       "      <td>M</td>\n",
       "      <td>пенсионер</td>\n",
       "      <td>0</td>\n",
       "      <td>NaN</td>\n",
       "      <td>сыграть свадьбу</td>\n",
       "    </tr>\n",
       "    <tr>\n",
       "      <th>13</th>\n",
       "      <td>0</td>\n",
       "      <td>-1846.641941</td>\n",
       "      <td>54</td>\n",
       "      <td>неоконченное высшее</td>\n",
       "      <td>2</td>\n",
       "      <td>женат / замужем</td>\n",
       "      <td>0</td>\n",
       "      <td>F</td>\n",
       "      <td>сотрудник</td>\n",
       "      <td>0</td>\n",
       "      <td>130458.228857</td>\n",
       "      <td>приобретение автомобиля</td>\n",
       "    </tr>\n",
       "    <tr>\n",
       "      <th>14</th>\n",
       "      <td>0</td>\n",
       "      <td>-1844.956182</td>\n",
       "      <td>56</td>\n",
       "      <td>высшее</td>\n",
       "      <td>0</td>\n",
       "      <td>гражданский брак</td>\n",
       "      <td>1</td>\n",
       "      <td>F</td>\n",
       "      <td>компаньон</td>\n",
       "      <td>1</td>\n",
       "      <td>165127.911772</td>\n",
       "      <td>покупка жилой недвижимости</td>\n",
       "    </tr>\n",
       "    <tr>\n",
       "      <th>15</th>\n",
       "      <td>1</td>\n",
       "      <td>-972.364419</td>\n",
       "      <td>26</td>\n",
       "      <td>среднее</td>\n",
       "      <td>1</td>\n",
       "      <td>женат / замужем</td>\n",
       "      <td>0</td>\n",
       "      <td>F</td>\n",
       "      <td>сотрудник</td>\n",
       "      <td>0</td>\n",
       "      <td>116820.904450</td>\n",
       "      <td>строительство собственной недвижимости</td>\n",
       "    </tr>\n",
       "    <tr>\n",
       "      <th>16</th>\n",
       "      <td>0</td>\n",
       "      <td>-1719.934226</td>\n",
       "      <td>35</td>\n",
       "      <td>среднее</td>\n",
       "      <td>1</td>\n",
       "      <td>женат / замужем</td>\n",
       "      <td>0</td>\n",
       "      <td>F</td>\n",
       "      <td>сотрудник</td>\n",
       "      <td>0</td>\n",
       "      <td>289202.704229</td>\n",
       "      <td>недвижимость</td>\n",
       "    </tr>\n",
       "    <tr>\n",
       "      <th>17</th>\n",
       "      <td>0</td>\n",
       "      <td>-2369.999720</td>\n",
       "      <td>33</td>\n",
       "      <td>высшее</td>\n",
       "      <td>0</td>\n",
       "      <td>гражданский брак</td>\n",
       "      <td>1</td>\n",
       "      <td>M</td>\n",
       "      <td>сотрудник</td>\n",
       "      <td>0</td>\n",
       "      <td>90410.586745</td>\n",
       "      <td>строительство недвижимости</td>\n",
       "    </tr>\n",
       "    <tr>\n",
       "      <th>18</th>\n",
       "      <td>0</td>\n",
       "      <td>400281.136913</td>\n",
       "      <td>53</td>\n",
       "      <td>среднее</td>\n",
       "      <td>1</td>\n",
       "      <td>вдовец / вдова</td>\n",
       "      <td>2</td>\n",
       "      <td>F</td>\n",
       "      <td>пенсионер</td>\n",
       "      <td>0</td>\n",
       "      <td>56823.777243</td>\n",
       "      <td>на покупку подержанного автомобиля</td>\n",
       "    </tr>\n",
       "    <tr>\n",
       "      <th>19</th>\n",
       "      <td>0</td>\n",
       "      <td>-10038.818549</td>\n",
       "      <td>48</td>\n",
       "      <td>СРЕДНЕЕ</td>\n",
       "      <td>1</td>\n",
       "      <td>в разводе</td>\n",
       "      <td>3</td>\n",
       "      <td>F</td>\n",
       "      <td>сотрудник</td>\n",
       "      <td>0</td>\n",
       "      <td>242831.107982</td>\n",
       "      <td>на покупку своего автомобиля</td>\n",
       "    </tr>\n",
       "  </tbody>\n",
       "</table>\n",
       "</div>"
      ],
      "text/plain": [
       "    children  days_employed  dob_years            education  education_id  \\\n",
       "0          1   -8437.673028         42               высшее             0   \n",
       "1          1   -4024.803754         36              среднее             1   \n",
       "2          0   -5623.422610         33              Среднее             1   \n",
       "3          3   -4124.747207         32              среднее             1   \n",
       "4          0  340266.072047         53              среднее             1   \n",
       "5          0    -926.185831         27               высшее             0   \n",
       "6          0   -2879.202052         43               высшее             0   \n",
       "7          0    -152.779569         50              СРЕДНЕЕ             1   \n",
       "8          2   -6929.865299         35               ВЫСШЕЕ             0   \n",
       "9          0   -2188.756445         41              среднее             1   \n",
       "10         2   -4171.483647         36               высшее             0   \n",
       "11         0    -792.701887         40              среднее             1   \n",
       "12         0            NaN         65              среднее             1   \n",
       "13         0   -1846.641941         54  неоконченное высшее             2   \n",
       "14         0   -1844.956182         56               высшее             0   \n",
       "15         1    -972.364419         26              среднее             1   \n",
       "16         0   -1719.934226         35              среднее             1   \n",
       "17         0   -2369.999720         33               высшее             0   \n",
       "18         0  400281.136913         53              среднее             1   \n",
       "19         0  -10038.818549         48              СРЕДНЕЕ             1   \n",
       "\n",
       "       family_status  family_status_id gender income_type  debt  \\\n",
       "0    женат / замужем                 0      F   сотрудник     0   \n",
       "1    женат / замужем                 0      F   сотрудник     0   \n",
       "2    женат / замужем                 0      M   сотрудник     0   \n",
       "3    женат / замужем                 0      M   сотрудник     0   \n",
       "4   гражданский брак                 1      F   пенсионер     0   \n",
       "5   гражданский брак                 1      M   компаньон     0   \n",
       "6    женат / замужем                 0      F   компаньон     0   \n",
       "7    женат / замужем                 0      M   сотрудник     0   \n",
       "8   гражданский брак                 1      F   сотрудник     0   \n",
       "9    женат / замужем                 0      M   сотрудник     0   \n",
       "10   женат / замужем                 0      M   компаньон     0   \n",
       "11   женат / замужем                 0      F   сотрудник     0   \n",
       "12  гражданский брак                 1      M   пенсионер     0   \n",
       "13   женат / замужем                 0      F   сотрудник     0   \n",
       "14  гражданский брак                 1      F   компаньон     1   \n",
       "15   женат / замужем                 0      F   сотрудник     0   \n",
       "16   женат / замужем                 0      F   сотрудник     0   \n",
       "17  гражданский брак                 1      M   сотрудник     0   \n",
       "18    вдовец / вдова                 2      F   пенсионер     0   \n",
       "19         в разводе                 3      F   сотрудник     0   \n",
       "\n",
       "     total_income                                 purpose  \n",
       "0   253875.639453                           покупка жилья  \n",
       "1   112080.014102                 приобретение автомобиля  \n",
       "2   145885.952297                           покупка жилья  \n",
       "3   267628.550329              дополнительное образование  \n",
       "4   158616.077870                         сыграть свадьбу  \n",
       "5   255763.565419                           покупка жилья  \n",
       "6   240525.971920                       операции с жильем  \n",
       "7   135823.934197                             образование  \n",
       "8    95856.832424                   на проведение свадьбы  \n",
       "9   144425.938277                 покупка жилья для семьи  \n",
       "10  113943.491460                    покупка недвижимости  \n",
       "11   77069.234271       покупка коммерческой недвижимости  \n",
       "12            NaN                         сыграть свадьбу  \n",
       "13  130458.228857                 приобретение автомобиля  \n",
       "14  165127.911772              покупка жилой недвижимости  \n",
       "15  116820.904450  строительство собственной недвижимости  \n",
       "16  289202.704229                            недвижимость  \n",
       "17   90410.586745              строительство недвижимости  \n",
       "18   56823.777243      на покупку подержанного автомобиля  \n",
       "19  242831.107982            на покупку своего автомобиля  "
      ]
     },
     "execution_count": 2,
     "metadata": {},
     "output_type": "execute_result"
    }
   ],
   "source": [
    "data.head(20)"
   ]
  },
  {
   "cell_type": "markdown",
   "id": "6d1916c1",
   "metadata": {
    "deletable": false,
    "editable": false,
    "id": "1c12e233"
   },
   "source": [
    "**Задание 3. Выведите основную информацию о датафрейме с помощью метода `info()`.**"
   ]
  },
  {
   "cell_type": "code",
   "execution_count": 3,
   "id": "9493bc99",
   "metadata": {
    "deletable": false,
    "id": "2b757bca",
    "outputId": "15376089-8dad-46c9-b520-c05248d43158"
   },
   "outputs": [
    {
     "name": "stdout",
     "output_type": "stream",
     "text": [
      "<class 'pandas.core.frame.DataFrame'>\n",
      "RangeIndex: 21525 entries, 0 to 21524\n",
      "Data columns (total 12 columns):\n",
      " #   Column            Non-Null Count  Dtype  \n",
      "---  ------            --------------  -----  \n",
      " 0   children          21525 non-null  int64  \n",
      " 1   days_employed     19351 non-null  float64\n",
      " 2   dob_years         21525 non-null  int64  \n",
      " 3   education         21525 non-null  object \n",
      " 4   education_id      21525 non-null  int64  \n",
      " 5   family_status     21525 non-null  object \n",
      " 6   family_status_id  21525 non-null  int64  \n",
      " 7   gender            21525 non-null  object \n",
      " 8   income_type       21525 non-null  object \n",
      " 9   debt              21525 non-null  int64  \n",
      " 10  total_income      19351 non-null  float64\n",
      " 11  purpose           21525 non-null  object \n",
      "dtypes: float64(2), int64(5), object(5)\n",
      "memory usage: 2.0+ MB\n"
     ]
    }
   ],
   "source": [
    "data.info()"
   ]
  },
  {
   "cell_type": "markdown",
   "id": "879f7b45",
   "metadata": {
    "deletable": false,
    "editable": false,
    "id": "333ec665"
   },
   "source": [
    "## Предобработка данных"
   ]
  },
  {
   "cell_type": "markdown",
   "id": "e9c16013",
   "metadata": {
    "deletable": false,
    "editable": false,
    "id": "02d92d53"
   },
   "source": [
    "### Удаление пропусков"
   ]
  },
  {
   "cell_type": "markdown",
   "id": "3236a395",
   "metadata": {
    "deletable": false,
    "editable": false,
    "id": "cd84967c"
   },
   "source": [
    "**Задание 4. Выведите количество пропущенных значений для каждого столбца. Используйте комбинацию двух методов.**"
   ]
  },
  {
   "cell_type": "code",
   "execution_count": 4,
   "id": "3235dc98",
   "metadata": {
    "deletable": false,
    "id": "7f9b2309",
    "outputId": "81f4d817-781c-465c-ed15-91ce4446810d"
   },
   "outputs": [
    {
     "data": {
      "text/plain": [
       "children               0\n",
       "days_employed       2174\n",
       "dob_years              0\n",
       "education              0\n",
       "education_id           0\n",
       "family_status          0\n",
       "family_status_id       0\n",
       "gender                 0\n",
       "income_type            0\n",
       "debt                   0\n",
       "total_income        2174\n",
       "purpose                0\n",
       "dtype: int64"
      ]
     },
     "execution_count": 4,
     "metadata": {},
     "output_type": "execute_result"
    }
   ],
   "source": [
    "data.isna().sum()"
   ]
  },
  {
   "cell_type": "markdown",
   "id": "a4ed203d",
   "metadata": {
    "deletable": false,
    "editable": false,
    "id": "db86e27b"
   },
   "source": [
    "**Задание 5. В двух столбцах есть пропущенные значения. Один из них — `days_employed`. Пропуски в этом столбце вы обработаете на следующем этапе. Другой столбец с пропущенными значениями — `total_income` — хранит данные о доходах. На сумму дохода сильнее всего влияет тип занятости, поэтому заполнить пропуски в этом столбце нужно медианным значением по каждому типу из столбца `income_type`. Например, у человека с типом занятости `сотрудник` пропуск в столбце `total_income` должен быть заполнен медианным доходом среди всех записей с тем же типом.**"
   ]
  },
  {
   "cell_type": "code",
   "execution_count": 5,
   "id": "a80eb3b7",
   "metadata": {
    "deletable": false,
    "id": "42006a93"
   },
   "outputs": [],
   "source": [
    "for t in data['income_type'].unique():\n",
    "    data.loc[(data['income_type'] == t) & (data['total_income'].isna()), 'total_income'] = \\\n",
    "    data.loc[(data['income_type'] == t), 'total_income'].median()"
   ]
  },
  {
   "cell_type": "markdown",
   "id": "4ece4889",
   "metadata": {
    "deletable": false,
    "editable": false,
    "id": "89da5ece"
   },
   "source": [
    "### Обработка аномальных значений"
   ]
  },
  {
   "cell_type": "markdown",
   "id": "e6fe386e",
   "metadata": {
    "deletable": false,
    "editable": false,
    "id": "57964554"
   },
   "source": [
    "**Задание 6. В данных могут встречаться артефакты (аномалии) — значения, которые не отражают действительность и появились по какой-то ошибке. таким артефактом будет отрицательное количество дней трудового стажа в столбце `days_employed`. Для реальных данных это нормально. Обработайте значения в этом столбце: замените все отрицательные значения положительными с помощью метода `abs()`.**"
   ]
  },
  {
   "cell_type": "code",
   "execution_count": 6,
   "id": "698996c5",
   "metadata": {
    "deletable": false,
    "id": "f6f055bf"
   },
   "outputs": [],
   "source": [
    "data['days_employed'] = data['days_employed'].abs()"
   ]
  },
  {
   "cell_type": "markdown",
   "id": "c54124bc",
   "metadata": {
    "deletable": false,
    "editable": false,
    "id": "6107dd2f"
   },
   "source": [
    "**Задание 7. Для каждого типа занятости выведите медианное значение трудового стажа `days_employed` в днях.**"
   ]
  },
  {
   "cell_type": "code",
   "execution_count": 7,
   "id": "677f8bfd",
   "metadata": {
    "deletable": false,
    "id": "85a5faf6",
    "outputId": "801ef80e-522b-4668-f34e-565af7432bcf"
   },
   "outputs": [
    {
     "data": {
      "text/plain": [
       "income_type\n",
       "безработный        366413.652744\n",
       "в декрете            3296.759962\n",
       "госслужащий          2689.368353\n",
       "компаньон            1547.382223\n",
       "пенсионер          365213.306266\n",
       "предприниматель       520.848083\n",
       "сотрудник            1574.202821\n",
       "студент               578.751554\n",
       "Name: days_employed, dtype: float64"
      ]
     },
     "execution_count": 7,
     "metadata": {},
     "output_type": "execute_result"
    }
   ],
   "source": [
    "data.groupby('income_type')['days_employed'].agg('median')"
   ]
  },
  {
   "cell_type": "markdown",
   "id": "5a459e37",
   "metadata": {
    "deletable": false,
    "editable": false,
    "id": "38d1a030"
   },
   "source": [
    "У двух типов (безработные и пенсионеры) получатся аномально большие значения. Исправить такие значения сложно, поэтому оставьте их как есть. Тем более этот столбец не понадобится вам для исследования."
   ]
  },
  {
   "cell_type": "markdown",
   "id": "ff1248ea",
   "metadata": {
    "deletable": false,
    "editable": false,
    "id": "d8a9f147"
   },
   "source": [
    "**Задание 8. Выведите перечень уникальных значений столбца `children`.**"
   ]
  },
  {
   "cell_type": "code",
   "execution_count": 8,
   "id": "24d2c2ca",
   "metadata": {
    "deletable": false,
    "id": "ef5056eb",
    "outputId": "6975b15c-7f95-4697-d16d-a0c79b657b03"
   },
   "outputs": [
    {
     "data": {
      "text/plain": [
       "array([ 1,  0,  3,  2, -1,  4, 20,  5])"
      ]
     },
     "execution_count": 8,
     "metadata": {},
     "output_type": "execute_result"
    }
   ],
   "source": [
    "data['children'].unique()"
   ]
  },
  {
   "cell_type": "markdown",
   "id": "402c373e",
   "metadata": {
    "deletable": false,
    "editable": false,
    "id": "40b9ebf2"
   },
   "source": [
    "**Задание 9. В столбце `children` есть два аномальных значения. Удалите строки, в которых встречаются такие аномальные значения из датафрейма `data`.**"
   ]
  },
  {
   "cell_type": "code",
   "execution_count": 9,
   "id": "007412f8",
   "metadata": {
    "deletable": false,
    "id": "3ff9801d"
   },
   "outputs": [],
   "source": [
    "data = data[(data['children'] != -1) & (data['children'] != 20)]"
   ]
  },
  {
   "cell_type": "markdown",
   "id": "eea40f66",
   "metadata": {
    "deletable": false,
    "editable": false,
    "id": "bbc4d0ce"
   },
   "source": [
    "**Задание 10. Ещё раз выведите перечень уникальных значений столбца `children`, чтобы убедиться, что артефакты удалены.**"
   ]
  },
  {
   "cell_type": "code",
   "execution_count": 10,
   "id": "b7fbf87c",
   "metadata": {
    "deletable": false,
    "id": "ad4fa8b7",
    "outputId": "b2097101-d49d-44d9-901b-32a65c9463d1"
   },
   "outputs": [
    {
     "data": {
      "text/plain": [
       "array([1, 0, 3, 2, 4, 5])"
      ]
     },
     "execution_count": 10,
     "metadata": {},
     "output_type": "execute_result"
    }
   ],
   "source": [
    "data['children'].unique()"
   ]
  },
  {
   "cell_type": "markdown",
   "id": "33c2c05a",
   "metadata": {
    "deletable": false,
    "editable": false,
    "id": "75440b63"
   },
   "source": [
    "### Удаление пропусков (продолжение)"
   ]
  },
  {
   "cell_type": "markdown",
   "id": "73573fec",
   "metadata": {
    "deletable": false,
    "editable": false,
    "id": "f4ea573f"
   },
   "source": [
    "**Задание 11. Заполните пропуски в столбце `days_employed` медианными значениями по каждого типа занятости `income_type`.**"
   ]
  },
  {
   "cell_type": "code",
   "execution_count": 11,
   "id": "2cb2adb8",
   "metadata": {
    "deletable": false,
    "id": "af6b1a7e"
   },
   "outputs": [],
   "source": [
    "for t in data['income_type'].unique():\n",
    "    data.loc[(data['income_type'] == t) & (data['days_employed'].isna()), 'days_employed'] = \\\n",
    "    data.loc[(data['income_type'] == t), 'days_employed'].median()"
   ]
  },
  {
   "cell_type": "markdown",
   "id": "e2ed4956",
   "metadata": {
    "deletable": false,
    "editable": false,
    "id": "2753f40d"
   },
   "source": [
    "**Задание 12. Убедитесь, что все пропуски заполнены. Проверьте себя и ещё раз выведите количество пропущенных значений для каждого столбца с помощью двух методов.**"
   ]
  },
  {
   "cell_type": "code",
   "execution_count": 12,
   "id": "33f070ef",
   "metadata": {
    "deletable": false,
    "id": "55f78bc2",
    "outputId": "8da1e4e1-358e-4e87-98c9-f261bce0a7b2"
   },
   "outputs": [
    {
     "data": {
      "text/plain": [
       "children            0\n",
       "days_employed       0\n",
       "dob_years           0\n",
       "education           0\n",
       "education_id        0\n",
       "family_status       0\n",
       "family_status_id    0\n",
       "gender              0\n",
       "income_type         0\n",
       "debt                0\n",
       "total_income        0\n",
       "purpose             0\n",
       "dtype: int64"
      ]
     },
     "execution_count": 12,
     "metadata": {},
     "output_type": "execute_result"
    }
   ],
   "source": [
    "data.isna().sum()"
   ]
  },
  {
   "cell_type": "markdown",
   "id": "9c14c87d",
   "metadata": {
    "deletable": false,
    "editable": false,
    "id": "ddc81e43"
   },
   "source": [
    "### Изменение типов данных"
   ]
  },
  {
   "cell_type": "markdown",
   "id": "6bffb171",
   "metadata": {
    "deletable": false,
    "editable": false,
    "id": "42d19d24"
   },
   "source": [
    "**Задание 13. Замените вещественный тип данных в столбце `total_income` на целочисленный с помощью метода `astype()`.**"
   ]
  },
  {
   "cell_type": "code",
   "execution_count": 13,
   "id": "d941d144",
   "metadata": {
    "deletable": false,
    "id": "920b65ad"
   },
   "outputs": [],
   "source": [
    "data['total_income'] = data['total_income'].astype(int)"
   ]
  },
  {
   "cell_type": "markdown",
   "id": "3f4da775",
   "metadata": {
    "deletable": false,
    "editable": false,
    "id": "80c420ba"
   },
   "source": [
    "### Обработка дубликатов"
   ]
  },
  {
   "cell_type": "markdown",
   "id": "e3b83ed8",
   "metadata": {
    "deletable": false,
    "editable": false
   },
   "source": [
    "**Задание 14. Обработайте неявные дубликаты в столбце `education`. В этом столбце есть одни и те же значения, но записанные по-разному: с использованием заглавных и строчных букв. Приведите их к нижнему регистру. Проверьте остальные столбцы.**"
   ]
  },
  {
   "cell_type": "code",
   "execution_count": 14,
   "id": "9b397df3",
   "metadata": {
    "deletable": false
   },
   "outputs": [],
   "source": [
    "data['education'] = data['education'].str.lower()"
   ]
  },
  {
   "cell_type": "markdown",
   "id": "b02880cb",
   "metadata": {
    "deletable": false,
    "editable": false,
    "id": "dc587695"
   },
   "source": [
    "**Задание 15. Выведите на экран количество строк-дубликатов в данных. Если такие строки присутствуют, удалите их.**"
   ]
  },
  {
   "cell_type": "code",
   "execution_count": 15,
   "id": "aaefea17",
   "metadata": {
    "deletable": false,
    "id": "3ee445e4",
    "outputId": "9684deba-1934-42d1-99e1-cda61740f822"
   },
   "outputs": [
    {
     "data": {
      "text/plain": [
       "71"
      ]
     },
     "execution_count": 15,
     "metadata": {},
     "output_type": "execute_result"
    }
   ],
   "source": [
    "data.duplicated().sum()"
   ]
  },
  {
   "cell_type": "code",
   "execution_count": 16,
   "id": "08c334d3",
   "metadata": {
    "deletable": false,
    "id": "8575fe05"
   },
   "outputs": [],
   "source": [
    "data = data.drop_duplicates()"
   ]
  },
  {
   "cell_type": "markdown",
   "id": "405b3768",
   "metadata": {
    "deletable": false,
    "editable": false,
    "id": "9904cf55"
   },
   "source": [
    "### Категоризация данных"
   ]
  },
  {
   "cell_type": "markdown",
   "id": "22dcaaa7",
   "metadata": {
    "deletable": false,
    "editable": false,
    "id": "72fcc8a2"
   },
   "source": [
    "**Задание 16. На основании диапазонов, указанных ниже, создайте в датафрейме `data` столбец `total_income_category` с категориями:**\n",
    "\n",
    "- 0–30000 — `'E'`;\n",
    "- 30001–50000 — `'D'`;\n",
    "- 50001–200000 — `'C'`;\n",
    "- 200001–1000000 — `'B'`;\n",
    "- 1000001 и выше — `'A'`.\n",
    "\n",
    "\n",
    "**Например, кредитополучателю с доходом 25000 нужно назначить категорию `'E'`, а клиенту, получающему 235000, — `'B'`. Используйте собственную функцию с именем `categorize_income()` и метод `apply()`.**"
   ]
  },
  {
   "cell_type": "code",
   "execution_count": 17,
   "id": "cae4ed4d",
   "metadata": {
    "deletable": false,
    "id": "e1771346"
   },
   "outputs": [],
   "source": [
    "def categorize_income(income):\n",
    "    try:\n",
    "        if 0 <= income <= 30000:\n",
    "            return 'E'\n",
    "        elif 30001 <= income <= 50000:\n",
    "            return 'D'\n",
    "        elif 50001 <= income <= 200000:\n",
    "            return 'C'\n",
    "        elif 200001 <= income <= 1000000:\n",
    "            return 'B'\n",
    "        elif income >= 1000001:\n",
    "            return 'A'\n",
    "    except:\n",
    "        pass"
   ]
  },
  {
   "cell_type": "code",
   "execution_count": 18,
   "id": "4c63c214",
   "metadata": {
    "deletable": false,
    "id": "d5f3586d"
   },
   "outputs": [],
   "source": [
    "data['total_income_category'] = data['total_income'].apply(categorize_income)"
   ]
  },
  {
   "cell_type": "markdown",
   "id": "d562ac7c",
   "metadata": {
    "deletable": false,
    "editable": false,
    "id": "dde49b5c"
   },
   "source": [
    "**Задание 17. Выведите на экран перечень уникальных целей взятия кредита из столбца `purpose`.**"
   ]
  },
  {
   "cell_type": "code",
   "execution_count": 19,
   "id": "92db3c7d",
   "metadata": {
    "deletable": false,
    "id": "f67ce9b3",
    "outputId": "673c12d9-7d7e-4ae0-9812-c622c89dd244"
   },
   "outputs": [
    {
     "data": {
      "text/plain": [
       "array(['покупка жилья', 'приобретение автомобиля',\n",
       "       'дополнительное образование', 'сыграть свадьбу',\n",
       "       'операции с жильем', 'образование', 'на проведение свадьбы',\n",
       "       'покупка жилья для семьи', 'покупка недвижимости',\n",
       "       'покупка коммерческой недвижимости', 'покупка жилой недвижимости',\n",
       "       'строительство собственной недвижимости', 'недвижимость',\n",
       "       'строительство недвижимости', 'на покупку подержанного автомобиля',\n",
       "       'на покупку своего автомобиля',\n",
       "       'операции с коммерческой недвижимостью',\n",
       "       'строительство жилой недвижимости', 'жилье',\n",
       "       'операции со своей недвижимостью', 'автомобили',\n",
       "       'заняться образованием', 'сделка с подержанным автомобилем',\n",
       "       'получение образования', 'автомобиль', 'свадьба',\n",
       "       'получение дополнительного образования', 'покупка своего жилья',\n",
       "       'операции с недвижимостью', 'получение высшего образования',\n",
       "       'свой автомобиль', 'сделка с автомобилем',\n",
       "       'профильное образование', 'высшее образование',\n",
       "       'покупка жилья для сдачи', 'на покупку автомобиля', 'ремонт жилью',\n",
       "       'заняться высшим образованием'], dtype=object)"
      ]
     },
     "execution_count": 19,
     "metadata": {},
     "output_type": "execute_result"
    }
   ],
   "source": [
    "data['purpose'].unique()"
   ]
  },
  {
   "cell_type": "markdown",
   "id": "ba2a3133",
   "metadata": {
    "deletable": false,
    "editable": false,
    "id": "85d0aef0"
   },
   "source": [
    "**Задание 18. Создайте функцию, которая на основании данных из столбца `purpose` сформирует новый столбец `purpose_category`, в который войдут следующие категории:**\n",
    "\n",
    "- `'операции с автомобилем'`,\n",
    "- `'операции с недвижимостью'`,\n",
    "- `'проведение свадьбы'`,\n",
    "- `'получение образования'`.\n",
    "\n",
    "**Например, если в столбце `purpose` находится подстрока `'на покупку автомобиля'`, то в столбце `purpose_category` должна появиться строка `'операции с автомобилем'`.**\n",
    "\n",
    "**Используйте собственную функцию с именем `categorize_purpose()` и метод `apply()`. Изучите данные в столбце `purpose` и определите, какие подстроки помогут вам правильно определить категорию.**"
   ]
  },
  {
   "cell_type": "code",
   "execution_count": 20,
   "id": "f98a0963",
   "metadata": {
    "deletable": false,
    "id": "e149fab4"
   },
   "outputs": [],
   "source": [
    "def categorize_purpose(row):\n",
    "    try:\n",
    "        if 'автом' in row:\n",
    "            return 'операции с автомобилем'\n",
    "        elif 'жил' in row or 'недвиж' in row:\n",
    "            return 'операции с недвижимостью'\n",
    "        elif 'свад' in row:\n",
    "            return 'проведение свадьбы'\n",
    "        elif 'образов' in row:\n",
    "            return 'получение образования'\n",
    "    except:\n",
    "        return 'нет категории'"
   ]
  },
  {
   "cell_type": "code",
   "execution_count": 21,
   "id": "c18f8339",
   "metadata": {
    "deletable": false,
    "id": "bf36e69b"
   },
   "outputs": [],
   "source": [
    "data['purpose_category'] = data['purpose'].apply(categorize_purpose)"
   ]
  },
  {
   "cell_type": "markdown",
   "id": "ff851903",
   "metadata": {
    "deletable": false,
    "editable": false,
    "id": "09b242bf"
   },
   "source": [
    "### Шаг 3. Исследуйте данные и ответьте на вопросы"
   ]
  },
  {
   "cell_type": "code",
   "execution_count": 22,
   "id": "bbc90956",
   "metadata": {},
   "outputs": [],
   "source": [
    "# Функция для построения сводных таблиц\n",
    "def pivot_func(column):\n",
    "    # создание сводной таблицы\n",
    "    data_pivot = data.pivot_table(\n",
    "        index=column,\n",
    "        values=\"debt\",\n",
    "        aggfunc=(\"count\", \"sum\", \"mean\")\n",
    "    )\n",
    "    # переименование столбцов\n",
    "    data_pivot = data_pivot.rename(columns={\n",
    "        \"count\" : \"Всего кредитополучателей\",\n",
    "        \"sum\" : 'Всего должников',\n",
    "        \"mean\" : 'Доля должников'\n",
    "    })\n",
    "    \n",
    "    print(data_pivot)"
   ]
  },
  {
   "cell_type": "markdown",
   "id": "049c7704",
   "metadata": {
    "deletable": false,
    "editable": false,
    "id": "c5d66278"
   },
   "source": [
    "#### 3.1 Есть ли зависимость между количеством детей и возвратом кредита в срок?"
   ]
  },
  {
   "cell_type": "code",
   "execution_count": 24,
   "id": "763561b9",
   "metadata": {
    "deletable": false,
    "id": "2cacfc4a"
   },
   "outputs": [
    {
     "name": "stdout",
     "output_type": "stream",
     "text": [
      "          Всего кредитополучателей  Доля должников  Всего должников\n",
      "children                                                           \n",
      "0                          14091.0        0.075438           1063.0\n",
      "1                           4808.0        0.092346            444.0\n",
      "2                           2052.0        0.094542            194.0\n",
      "3                            330.0        0.081818             27.0\n",
      "4                             41.0        0.097561              4.0\n",
      "5                              9.0        0.000000              0.0\n"
     ]
    }
   ],
   "source": [
    "# Применяем полученную функцию к столбцу \"children\" с информацией о количестве детей в семье кредитополучателя\n",
    "pivot_func(\"children\")"
   ]
  },
  {
   "cell_type": "code",
   "execution_count": 25,
   "id": "c992439b",
   "metadata": {},
   "outputs": [
    {
     "data": {
      "text/plain": [
       "<BarContainer object of 3 artists>"
      ]
     },
     "execution_count": 25,
     "metadata": {},
     "output_type": "execute_result"
    },
    {
     "data": {
      "image/png": "[encoded data removed]",
      "text/plain": [
       "<Figure size 432x288 with 1 Axes>"
      ]
     },
     "metadata": {
      "needs_background": "light"
     },
     "output_type": "display_data"
    }
   ],
   "source": [
    "# Построим столбчатую диаграмму зависимости доли должников от количества детей для групп 0, 1, 2 ребенка в семье\n",
    "fam_debt_part = data.groupby(\"children\")[\"debt\"].sum() / data.groupby(\"children\")[\"debt\"].count()\n",
    "fam_debt_part = fam_debt_part[0:3].tolist()\n",
    "children = [\"0\", \"1\", \"2\"]\n",
    "\n",
    "plt.bar(children, fam_debt_part)"
   ]
  },
  {
   "cell_type": "markdown",
   "id": "70534075",
   "metadata": {
    "deletable": false,
    "id": "3a6b99ec"
   },
   "source": [
    "**Вывод:** Данных по кредитополучателям с 3 и более детьми слишком мало. Рассматривая группы с 0, 1, 2 детьми можно сделать вывод, что чем меньше количество детей, тем ниже доля должников среди таких клиентов."
   ]
  },
  {
   "cell_type": "markdown",
   "id": "e5210019",
   "metadata": {
    "deletable": false,
    "editable": false,
    "id": "97be82ca"
   },
   "source": [
    "#### 3.2 Есть ли зависимость между семейным положением и возвратом кредита в срок?"
   ]
  },
  {
   "cell_type": "code",
   "execution_count": 26,
   "id": "446264ef",
   "metadata": {
    "deletable": false,
    "id": "dc3f7ee8"
   },
   "outputs": [
    {
     "name": "stdout",
     "output_type": "stream",
     "text": [
      "                       Всего кредитополучателей  Доля должников  \\\n",
      "family_status                                                     \n",
      "Не женат / не замужем                    2796.0        0.097639   \n",
      "в разводе                                1189.0        0.070648   \n",
      "вдовец / вдова                            951.0        0.066246   \n",
      "гражданский брак                         4134.0        0.093130   \n",
      "женат / замужем                         12261.0        0.075606   \n",
      "\n",
      "                       Всего должников  \n",
      "family_status                           \n",
      "Не женат / не замужем            273.0  \n",
      "в разводе                         84.0  \n",
      "вдовец / вдова                    63.0  \n",
      "гражданский брак                 385.0  \n",
      "женат / замужем                  927.0  \n"
     ]
    }
   ],
   "source": [
    "# Ваш код будет здесь. Вы можете создавать новые ячейки.\n",
    "pivot_func(\"family_status\")"
   ]
  },
  {
   "cell_type": "code",
   "execution_count": 27,
   "id": "e2ef1e5b",
   "metadata": {},
   "outputs": [
    {
     "data": {
      "text/plain": [
       "<BarContainer object of 5 artists>"
      ]
     },
     "execution_count": 27,
     "metadata": {},
     "output_type": "execute_result"
    },
    {
     "data": {
      "image/png": "[encoded data removed]",
      "text/plain": [
       "<Figure size 720x360 with 1 Axes>"
      ]
     },
     "metadata": {
      "needs_background": "light"
     },
     "output_type": "display_data"
    }
   ],
   "source": [
    "#Построим столбчатую диаграмму зависимости доли должников от семейного положения\n",
    "debt_part = data.groupby(\"family_status\")[\"debt\"].sum() / data.groupby(\"family_status\")[\"debt\"].count().tolist()\n",
    "family_status = debt_part.index.tolist()\n",
    "\n",
    "fig = plt.figure(figsize = (10, 5))\n",
    "plt.bar(family_status, debt_part)"
   ]
  },
  {
   "cell_type": "code",
   "execution_count": 28,
   "id": "7a6d2a7c",
   "metadata": {},
   "outputs": [
    {
     "name": "stdout",
     "output_type": "stream",
     "text": [
      "                           debt  dob_years\n",
      "family_status                             \n",
      "Не женат / не замужем  0.097639  38.368026\n",
      "в разводе              0.070648  45.561817\n",
      "вдовец / вдова         0.066246  56.501577\n",
      "гражданский брак       0.093130  42.067731\n",
      "женат / замужем        0.075606  43.558519\n"
     ]
    }
   ],
   "source": [
    "# Проверим связь семейного положения со средним возрастом\n",
    "# создание сводной таблицы\n",
    "fam_pivot = data.pivot_table(\n",
    "    index=\"family_status\",\n",
    "    values=[\"dob_years\", \"debt\"],\n",
    "    aggfunc=\"mean\"\n",
    ")\n",
    "print(fam_pivot)"
   ]
  },
  {
   "cell_type": "markdown",
   "id": "f0ebc8d6",
   "metadata": {
    "deletable": false,
    "id": "1cef7837"
   },
   "source": [
    "**Вывод:** Меньше всего доля должников среди кредитополучателей, побывавших в официальном браке. Как видно из таблицы выше группы \"вдовец/вдова\" и \"в разводе\" обладают наибольшим значением среднего возраста. Этим также может быть обусловлено отсутствие задолженностей в данных категориях"
   ]
  },
  {
   "cell_type": "markdown",
   "id": "10d29cac",
   "metadata": {
    "deletable": false,
    "editable": false,
    "id": "1e8b2fca"
   },
   "source": [
    "#### 3.3 Есть ли зависимость между уровнем дохода и возвратом кредита в срок?"
   ]
  },
  {
   "cell_type": "markdown",
   "id": "d3265089",
   "metadata": {},
   "source": [
    "<span style=\"color:green\">Воспользуемся результатами категоризации по уровню дохода, которую проводили ранее</span>"
   ]
  },
  {
   "cell_type": "code",
   "execution_count": 29,
   "id": "14b62722",
   "metadata": {
    "deletable": false,
    "id": "cd7e3720"
   },
   "outputs": [
    {
     "name": "stdout",
     "output_type": "stream",
     "text": [
      "                       Всего кредитополучателей  Доля должников  \\\n",
      "total_income_category                                             \n",
      "A                                          25.0        0.080000   \n",
      "B                                        5014.0        0.070602   \n",
      "C                                       15921.0        0.084982   \n",
      "D                                         349.0        0.060172   \n",
      "E                                          22.0        0.090909   \n",
      "\n",
      "                       Всего должников  \n",
      "total_income_category                   \n",
      "A                                  2.0  \n",
      "B                                354.0  \n",
      "C                               1353.0  \n",
      "D                                 21.0  \n",
      "E                                  2.0  \n"
     ]
    }
   ],
   "source": [
    "# Ваш код будет здесь. Вы можете создавать новые ячейки.\n",
    "pivot_func(\"total_income_category\")"
   ]
  },
  {
   "cell_type": "code",
   "execution_count": 30,
   "id": "2d846d73",
   "metadata": {},
   "outputs": [
    {
     "data": {
      "text/plain": [
       "<BarContainer object of 2 artists>"
      ]
     },
     "execution_count": 30,
     "metadata": {},
     "output_type": "execute_result"
    },
    {
     "data": {
      "image/png": "[encoded data removed]",
      "text/plain": [
       "<Figure size 432x288 with 1 Axes>"
      ]
     },
     "metadata": {
      "needs_background": "light"
     },
     "output_type": "display_data"
    }
   ],
   "source": [
    "# Проанализируем данные по двум самым большим категориям кредитополучателей, построив график\n",
    "income_debt_part = data.groupby(\"total_income_category\")[\"debt\"].sum() / data.groupby(\"total_income_category\")[\"debt\"].count()\n",
    "income_debt_part = income_debt_part[\"B\":\"C\"].tolist()\n",
    "income_cats = [\"B\", \"C\"]\n",
    "\n",
    "plt.bar(income_cats, income_debt_part)"
   ]
  },
  {
   "cell_type": "markdown",
   "id": "23e4331b",
   "metadata": {
    "deletable": false,
    "id": "e8593def"
   },
   "source": [
    "**Вывод:** По данным двух самых больших категорий кредитополучателей, можно сделать вывод, что с увеличением уровня дохода доля задолженностей падает"
   ]
  },
  {
   "cell_type": "markdown",
   "id": "e1c66db5",
   "metadata": {
    "deletable": false,
    "editable": false,
    "id": "99ecbd1f"
   },
   "source": [
    "#### 3.4 Как разные цели кредита влияют на его возврат в срок?"
   ]
  },
  {
   "cell_type": "code",
   "execution_count": 31,
   "id": "692b3fe0",
   "metadata": {},
   "outputs": [
    {
     "name": "stdout",
     "output_type": "stream",
     "text": [
      "                          Всего кредитополучателей  Доля должников  \\\n",
      "purpose_category                                                     \n",
      "операции с автомобилем                      4279.0        0.093480   \n",
      "операции с недвижимостью                   10751.0        0.072551   \n",
      "получение образования                       3988.0        0.092528   \n",
      "проведение свадьбы                          2313.0        0.079118   \n",
      "\n",
      "                          Всего должников  \n",
      "purpose_category                           \n",
      "операции с автомобилем              400.0  \n",
      "операции с недвижимостью            780.0  \n",
      "получение образования               369.0  \n",
      "проведение свадьбы                  183.0  \n"
     ]
    }
   ],
   "source": [
    "# Используем функцию для создания сводной таблицы\n",
    "pivot_func(\"purpose_category\")"
   ]
  },
  {
   "cell_type": "code",
   "execution_count": 32,
   "id": "2ef3261a",
   "metadata": {
    "deletable": false,
    "id": "2b687290"
   },
   "outputs": [
    {
     "name": "stdout",
     "output_type": "stream",
     "text": [
      "Статус ['операции с недвижимостью', 'операции с автомобилем', 'получение образования', 'проведение свадьбы']\n",
      "Должники [780, 400, 369, 183]\n",
      "Доля должников [0.073, 0.093, 0.093, 0.079]\n"
     ]
    },
    {
     "data": {
      "text/plain": [
       "<BarContainer object of 4 artists>"
      ]
     },
     "execution_count": 32,
     "metadata": {},
     "output_type": "execute_result"
    },
    {
     "data": {
      "image/png": "[encoded data removed]",
      "text/plain": [
       "<Figure size 720x720 with 2 Axes>"
      ]
     },
     "metadata": {
      "needs_background": "light"
     },
     "output_type": "display_data"
    }
   ],
   "source": [
    "# Ваш код будет здесь. Вы можете создавать новые ячейки.\n",
    "# Определим возможные значения семейного положения и наличия задолженностей\n",
    "purpose = data[\"purpose_category\"].unique().tolist()\n",
    "#Определим долю количество и долю должников в каждой группе\n",
    "purpose_debt_count = []\n",
    "purpose_debt_part = []\n",
    "for p in purpose:\n",
    "    debt_sum = data.loc[(data[\"purpose_category\"] == p) & (data[\"debt\"] == 1), \"debt\"].sum()\n",
    "    group_count = data.loc[(data[\"purpose_category\"] == p), \"debt\"].count()\n",
    "    purpose_debt_count.append(debt_sum)\n",
    "    purpose_debt_part.append(round(debt_sum / group_count, 3))\n",
    "\n",
    "# Проверка значений\n",
    "print(\"Статус\", purpose)\n",
    "print(\"Должники\", purpose_debt_count)\n",
    "print(\"Доля должников\", purpose_debt_part)\n",
    "    \n",
    "# Построим график зависимости\n",
    "fig, ax = plt.subplots(nrows=2, ncols=1)\n",
    "fig.set_figheight(10)\n",
    "fig.set_figwidth(10)\n",
    "ax[0].bar(purpose, purpose_debt_count)\n",
    "ax[1].bar(purpose, purpose_debt_part)"
   ]
  },
  {
   "cell_type": "markdown",
   "id": "5890f9c9",
   "metadata": {
    "deletable": false,
    "id": "b4bb2ce6"
   },
   "source": [
    "**Вывод:** Доля должников ниже всего в группах с целями кредитования: \"операции с недвижимостью\", \"проведение свадьбы\", больше всего доля должников в группах с целью \"операции с автомобилем\" и \"получение образования\""
   ]
  },
  {
   "cell_type": "code",
   "execution_count": 33,
   "id": "130ab5eb",
   "metadata": {},
   "outputs": [
    {
     "name": "stdout",
     "output_type": "stream",
     "text": [
      "                          children  days_employed      debt  dob_years  \\\n",
      "purpose_category                                                         \n",
      "операции с автомобилем    0.465296   69379.128539  0.093480  43.503622   \n",
      "операции с недвижимостью  0.477444   65816.592502  0.072551  43.168915   \n",
      "получение образования     0.479438   67700.030397  0.092528  43.415496   \n",
      "проведение свадьбы        0.464764   68266.116011  0.079118  43.130134   \n",
      "\n",
      "                          education_id   total_income  \n",
      "purpose_category                                       \n",
      "операции с автомобилем        0.820051  165162.536808  \n",
      "операции с недвижимостью      0.815273  166752.070598  \n",
      "получение образования         0.828485  162621.224423  \n",
      "проведение свадьбы            0.799395  163817.838738  \n"
     ]
    }
   ],
   "source": [
    "# Проверим связь цели кредитования с другими характеристиками заемщика\n",
    "# создание сводной таблицы\n",
    "purp_pivot = data.pivot_table(\n",
    "    index=\"purpose_category\",\n",
    "    values=[\"children\", \"dob_years\", \"days_employed\", \"education_id\", \"total_income\", \"debt\"],\n",
    "    aggfunc=\"mean\"\n",
    ")\n",
    "print(purp_pivot)"
   ]
  },
  {
   "cell_type": "markdown",
   "id": "45808455",
   "metadata": {
    "deletable": false,
    "editable": false,
    "id": "09c3ac4c"
   },
   "source": [
    "#### 3.5 Приведите возможные причины появления пропусков в исходных данных."
   ]
  },
  {
   "cell_type": "markdown",
   "id": "58599ddd",
   "metadata": {
    "deletable": false,
    "id": "9da2ceda"
   },
   "source": [
    "*Ответ:* В исходых данных пропущены значения, связанные с трудовым стажем и ежемесячным доходом этих значений одинаковое количество в обоих столбцах. Возможные причины:\n",
    "\n",
    "* Технический сбой у конкретных пользователей повлиял на заполенение данных, связанных с трудовой деятельностью (поэтому данные пропущены сразу в обоих столбцах, проверка в ячейке ниже)\n",
    "* Человеческий фактор: клиенты не предоставили информацию, заполнили некорректно"
   ]
  },
  {
   "cell_type": "code",
   "execution_count": 34,
   "id": "8baf5291",
   "metadata": {},
   "outputs": [
    {
     "data": {
      "text/plain": [
       "2174"
      ]
     },
     "execution_count": 34,
     "metadata": {},
     "output_type": "execute_result"
    }
   ],
   "source": [
    "# Проверка совпадения объемов потерянных значений в столбцах со значениями уровня дохода и трудового стажа\n",
    "raw_data = pd.read_csv(\"/datasets/data.csv\")\n",
    "len(raw_data.loc[(raw_data['days_employed'].isna()) & (raw_data['total_income'].isna())])"
   ]
  },
  {
   "cell_type": "markdown",
   "id": "e6169398",
   "metadata": {
    "deletable": false,
    "editable": false,
    "id": "7b0487d6"
   },
   "source": [
    "#### 3.6 Объясните, почему заполнить пропуски медианным значением — лучшее решение для количественных переменных."
   ]
  },
  {
   "cell_type": "markdown",
   "id": "49e9b20e",
   "metadata": {
    "deletable": false,
    "id": "7ecf2b8e"
   },
   "source": [
    "*Ответ:* Пропущенные значения были обнаружены в столбцах с количественными переменными, значения которых можно сравнивать между собой. Следовательно, можно использовать какое-то число для замены. Затем была проведена категоризация данных, мы получили информацию о доходах и стаже заемщиков, которые относятся к тем же категориям, что и заемщики с пропущенными данными. Значения внутри одной категории близки друг к другу. Однако, чтобы учесть возможные выбросы, вместо среднего значения для заполнения пропусков стоит взять медианное значение."
   ]
  },
  {
   "cell_type": "markdown",
   "id": "c749a234",
   "metadata": {
    "deletable": false,
    "editable": false,
    "id": "6db5255a"
   },
   "source": [
    "### Шаг 4: общий вывод."
   ]
  },
  {
   "cell_type": "markdown",
   "id": "0a8db4d4",
   "metadata": {
    "deletable": false,
    "id": "bad65432"
   },
   "source": [
    "Напишите ваш общий вывод.\n",
    "\n",
    "**1. Предобработка данных:**\n",
    "\n",
    "Пропуски в данных по значениям трудового стажа и уровня дохода были заполнены медианными значениями по категориям кредитополучателей. Обработаны аномальные значения количества детей и трудового стажа. Удалены дубликаты. Проведена категоризация данных по уровню дохода и цели оформления кредита.\n",
    "\n",
    "**2. Выявленные зависимости:**\n",
    "\n",
    "2.1. Обнаружена зависимость наличия задолженности от количества детей: чес больше детей у кредитополучателя, тем выше риск задолженности\n",
    "\n",
    "2.2. Обнаружена зависимость между семейным положением и наличием задолженности: кредитополучатели из категорий \"вдовец/вдова\" и \"в разводе\" реже имеют задолженности. Это также связано с возрастом кредитополучателя, чем выше возраст, тем ниже доля задолженностей.\n",
    "\n",
    "2.3. Обнаружена зависимость между уровнем дохода и наличием задолженности. Чем выше доход, тем менее вероятно возникновение задолженности.\n",
    "\n",
    "2.4. Обнаружена зависимость между целью кредитования и наличием задолженности. Меньше всего задолженностей по целям \"операции с недвижимостью\" и \"проведение свадьбы\", больше всего среди целей \"операции с автомобилем\", \"получение образования\"\n",
    "\n",
    "\n",
    "**3. Портреты надежного и рискованного заемщика:**\n",
    "\n",
    "3.1. Надежный заемщик: 0 детей, высокий уровень дохода, прошедший официальный брак, цель: операции с недвижимостью/проведение свадьбы\n",
    "3.2. Рискованный заемщик: 3 и более детей,  низкий уровень дохода, не прошедший официальный брак, цель: операции с автомобилем/получение образования\n",
    "\n",
    "**4. Рекомендации заказчику:**\n",
    "\n",
    "На этапе предобработки данных, обнаружено, что произошла потеря данных в столбцах \"total_income\" и \"days_employed\". Возможно, произошел технический сбой, так как у одних и тех же кредитополучателей данные были не заполнены сразу в двух этих столбцах\n"
   ]
  }
 ],
 "metadata": {
  "ExecuteTimeLog": [
   {
    "duration": 492,
    "start_time": "2024-07-13T13:47:46.320Z"
   },
   {
    "duration": 23,
    "start_time": "2024-07-13T13:47:46.814Z"
   },
   {
    "duration": 16,
    "start_time": "2024-07-13T13:47:46.838Z"
   },
   {
    "duration": 27,
    "start_time": "2024-07-13T13:47:46.855Z"
   },
   {
    "duration": 37,
    "start_time": "2024-07-13T13:47:46.884Z"
   },
   {
    "duration": 3,
    "start_time": "2024-07-13T13:47:46.923Z"
   },
   {
    "duration": 9,
    "start_time": "2024-07-13T13:47:46.928Z"
   },
   {
    "duration": 4,
    "start_time": "2024-07-13T13:47:46.938Z"
   },
   {
    "duration": 38,
    "start_time": "2024-07-13T13:47:46.944Z"
   },
   {
    "duration": 4,
    "start_time": "2024-07-13T13:47:46.984Z"
   },
   {
    "duration": 36,
    "start_time": "2024-07-13T13:47:46.989Z"
   },
   {
    "duration": 10,
    "start_time": "2024-07-13T13:47:47.027Z"
   },
   {
    "duration": 3,
    "start_time": "2024-07-13T13:47:47.039Z"
   },
   {
    "duration": 12,
    "start_time": "2024-07-13T13:47:47.045Z"
   },
   {
    "duration": 20,
    "start_time": "2024-07-13T13:47:47.083Z"
   },
   {
    "duration": 18,
    "start_time": "2024-07-13T13:47:47.104Z"
   },
   {
    "duration": 4,
    "start_time": "2024-07-13T13:47:47.123Z"
   },
   {
    "duration": 13,
    "start_time": "2024-07-13T13:47:47.128Z"
   },
   {
    "duration": 5,
    "start_time": "2024-07-13T13:47:47.142Z"
   },
   {
    "duration": 34,
    "start_time": "2024-07-13T13:47:47.149Z"
   },
   {
    "duration": 9,
    "start_time": "2024-07-13T13:47:47.185Z"
   },
   {
    "duration": 2,
    "start_time": "2024-07-13T13:47:47.195Z"
   },
   {
    "duration": 3,
    "start_time": "2024-07-13T13:47:47.198Z"
   },
   {
    "duration": 4,
    "start_time": "2024-07-13T13:47:47.202Z"
   },
   {
    "duration": 3,
    "start_time": "2024-07-13T13:47:47.207Z"
   },
   {
    "duration": 533,
    "start_time": "2024-07-13T14:20:13.364Z"
   },
   {
    "duration": 28,
    "start_time": "2024-07-13T14:20:13.900Z"
   },
   {
    "duration": 22,
    "start_time": "2024-07-13T14:20:13.930Z"
   },
   {
    "duration": 34,
    "start_time": "2024-07-13T14:20:13.954Z"
   },
   {
    "duration": 54,
    "start_time": "2024-07-13T14:20:13.990Z"
   },
   {
    "duration": 4,
    "start_time": "2024-07-13T14:20:14.045Z"
   },
   {
    "duration": 12,
    "start_time": "2024-07-13T14:20:14.050Z"
   },
   {
    "duration": 21,
    "start_time": "2024-07-13T14:20:14.064Z"
   },
   {
    "duration": 26,
    "start_time": "2024-07-13T14:20:14.087Z"
   },
   {
    "duration": 6,
    "start_time": "2024-07-13T14:20:14.116Z"
   },
   {
    "duration": 37,
    "start_time": "2024-07-13T14:20:14.124Z"
   },
   {
    "duration": 21,
    "start_time": "2024-07-13T14:20:14.162Z"
   },
   {
    "duration": 4,
    "start_time": "2024-07-13T14:20:14.184Z"
   },
   {
    "duration": 13,
    "start_time": "2024-07-13T14:20:14.189Z"
   },
   {
    "duration": 20,
    "start_time": "2024-07-13T14:20:14.203Z"
   },
   {
    "duration": 17,
    "start_time": "2024-07-13T14:20:14.224Z"
   },
   {
    "duration": 4,
    "start_time": "2024-07-13T14:20:14.243Z"
   },
   {
    "duration": 38,
    "start_time": "2024-07-13T14:20:14.248Z"
   },
   {
    "duration": 6,
    "start_time": "2024-07-13T14:20:14.288Z"
   },
   {
    "duration": 12,
    "start_time": "2024-07-13T14:20:14.296Z"
   },
   {
    "duration": 13,
    "start_time": "2024-07-13T14:20:14.309Z"
   },
   {
    "duration": 38,
    "start_time": "2024-07-13T14:20:14.324Z"
   },
   {
    "duration": 26,
    "start_time": "2024-07-13T14:20:14.364Z"
   },
   {
    "duration": 3,
    "start_time": "2024-07-13T14:20:14.392Z"
   },
   {
    "duration": 4,
    "start_time": "2024-07-13T14:20:14.396Z"
   },
   {
    "duration": 529,
    "start_time": "2024-07-13T14:21:15.773Z"
   },
   {
    "duration": 22,
    "start_time": "2024-07-13T14:21:16.304Z"
   },
   {
    "duration": 16,
    "start_time": "2024-07-13T14:21:16.328Z"
   },
   {
    "duration": 112,
    "start_time": "2024-07-13T14:21:16.346Z"
   },
   {
    "duration": 72,
    "start_time": "2024-07-13T14:21:16.460Z"
   },
   {
    "duration": 3,
    "start_time": "2024-07-13T14:21:16.534Z"
   },
   {
    "duration": 10,
    "start_time": "2024-07-13T14:21:16.538Z"
   },
   {
    "duration": 4,
    "start_time": "2024-07-13T14:21:16.549Z"
   },
   {
    "duration": 9,
    "start_time": "2024-07-13T14:21:16.555Z"
   },
   {
    "duration": 6,
    "start_time": "2024-07-13T14:21:16.566Z"
   },
   {
    "duration": 44,
    "start_time": "2024-07-13T14:21:16.573Z"
   },
   {
    "duration": 10,
    "start_time": "2024-07-13T14:21:16.619Z"
   },
   {
    "duration": 4,
    "start_time": "2024-07-13T14:21:16.631Z"
   },
   {
    "duration": 13,
    "start_time": "2024-07-13T14:21:16.636Z"
   },
   {
    "duration": 48,
    "start_time": "2024-07-13T14:21:16.651Z"
   },
   {
    "duration": 19,
    "start_time": "2024-07-13T14:21:16.701Z"
   },
   {
    "duration": 4,
    "start_time": "2024-07-13T14:21:16.721Z"
   },
   {
    "duration": 15,
    "start_time": "2024-07-13T14:21:16.726Z"
   },
   {
    "duration": 6,
    "start_time": "2024-07-13T14:21:16.743Z"
   },
   {
    "duration": 3,
    "start_time": "2024-07-13T14:21:16.752Z"
   },
   {
    "duration": 31,
    "start_time": "2024-07-13T14:21:16.756Z"
   },
   {
    "duration": 6,
    "start_time": "2024-07-13T14:21:16.789Z"
   },
   {
    "duration": 4,
    "start_time": "2024-07-13T14:21:16.797Z"
   },
   {
    "duration": 3,
    "start_time": "2024-07-13T14:21:16.803Z"
   },
   {
    "duration": 4,
    "start_time": "2024-07-13T14:21:16.807Z"
   },
   {
    "duration": 511,
    "start_time": "2024-07-13T14:25:02.376Z"
   },
   {
    "duration": 23,
    "start_time": "2024-07-13T14:25:02.889Z"
   },
   {
    "duration": 21,
    "start_time": "2024-07-13T14:25:02.914Z"
   },
   {
    "duration": 17,
    "start_time": "2024-07-13T14:25:02.937Z"
   },
   {
    "duration": 62,
    "start_time": "2024-07-13T14:25:02.956Z"
   },
   {
    "duration": 5,
    "start_time": "2024-07-13T14:25:03.020Z"
   },
   {
    "duration": 31,
    "start_time": "2024-07-13T14:25:03.027Z"
   },
   {
    "duration": 16,
    "start_time": "2024-07-13T14:25:03.059Z"
   },
   {
    "duration": 8,
    "start_time": "2024-07-13T14:25:03.076Z"
   },
   {
    "duration": 4,
    "start_time": "2024-07-13T14:25:03.086Z"
   },
   {
    "duration": 38,
    "start_time": "2024-07-13T14:25:03.092Z"
   },
   {
    "duration": 11,
    "start_time": "2024-07-13T14:25:03.131Z"
   },
   {
    "duration": 17,
    "start_time": "2024-07-13T14:25:03.144Z"
   },
   {
    "duration": 31,
    "start_time": "2024-07-13T14:25:03.165Z"
   },
   {
    "duration": 24,
    "start_time": "2024-07-13T14:25:03.198Z"
   },
   {
    "duration": 18,
    "start_time": "2024-07-13T14:25:03.223Z"
   },
   {
    "duration": 4,
    "start_time": "2024-07-13T14:25:03.242Z"
   },
   {
    "duration": 14,
    "start_time": "2024-07-13T14:25:03.247Z"
   },
   {
    "duration": 32,
    "start_time": "2024-07-13T14:25:03.263Z"
   },
   {
    "duration": 3,
    "start_time": "2024-07-13T14:25:03.297Z"
   },
   {
    "duration": 11,
    "start_time": "2024-07-13T14:25:03.302Z"
   },
   {
    "duration": 4,
    "start_time": "2024-07-13T14:25:03.314Z"
   },
   {
    "duration": 3,
    "start_time": "2024-07-13T14:25:03.320Z"
   },
   {
    "duration": 4,
    "start_time": "2024-07-13T14:25:03.324Z"
   },
   {
    "duration": 4,
    "start_time": "2024-07-13T14:25:03.329Z"
   },
   {
    "duration": 454,
    "start_time": "2024-07-13T14:28:06.121Z"
   },
   {
    "duration": 23,
    "start_time": "2024-07-13T14:28:06.577Z"
   },
   {
    "duration": 38,
    "start_time": "2024-07-13T14:28:06.601Z"
   },
   {
    "duration": 10,
    "start_time": "2024-07-13T14:28:06.641Z"
   },
   {
    "duration": 61,
    "start_time": "2024-07-13T14:28:06.653Z"
   },
   {
    "duration": 14,
    "start_time": "2024-07-13T14:28:06.715Z"
   },
   {
    "duration": 18,
    "start_time": "2024-07-13T14:28:06.730Z"
   },
   {
    "duration": 14,
    "start_time": "2024-07-13T14:28:06.750Z"
   },
   {
    "duration": 12,
    "start_time": "2024-07-13T14:28:06.766Z"
   },
   {
    "duration": 7,
    "start_time": "2024-07-13T14:28:06.780Z"
   },
   {
    "duration": 52,
    "start_time": "2024-07-13T14:28:06.789Z"
   },
   {
    "duration": 12,
    "start_time": "2024-07-13T14:28:06.843Z"
   },
   {
    "duration": 13,
    "start_time": "2024-07-13T14:28:06.857Z"
   },
   {
    "duration": 28,
    "start_time": "2024-07-13T14:28:06.874Z"
   },
   {
    "duration": 43,
    "start_time": "2024-07-13T14:28:06.904Z"
   },
   {
    "duration": 19,
    "start_time": "2024-07-13T14:28:06.949Z"
   },
   {
    "duration": 9,
    "start_time": "2024-07-13T14:28:06.970Z"
   },
   {
    "duration": 22,
    "start_time": "2024-07-13T14:28:06.981Z"
   },
   {
    "duration": 11,
    "start_time": "2024-07-13T14:28:07.005Z"
   },
   {
    "duration": 21,
    "start_time": "2024-07-13T14:28:07.018Z"
   },
   {
    "duration": 23,
    "start_time": "2024-07-13T14:28:07.041Z"
   },
   {
    "duration": 31,
    "start_time": "2024-07-13T14:28:07.065Z"
   },
   {
    "duration": 16,
    "start_time": "2024-07-13T14:28:07.098Z"
   },
   {
    "duration": 20,
    "start_time": "2024-07-13T14:28:07.116Z"
   },
   {
    "duration": 39,
    "start_time": "2024-07-13T14:28:07.138Z"
   },
   {
    "duration": 4,
    "start_time": "2024-07-13T14:40:52.478Z"
   },
   {
    "duration": 4,
    "start_time": "2024-07-13T14:41:03.879Z"
   },
   {
    "duration": 617,
    "start_time": "2024-07-13T14:57:16.351Z"
   },
   {
    "duration": 130,
    "start_time": "2024-07-13T14:59:07.977Z"
   },
   {
    "duration": 134,
    "start_time": "2024-07-13T14:59:23.305Z"
   },
   {
    "duration": 116,
    "start_time": "2024-07-13T15:00:43.635Z"
   },
   {
    "duration": 193,
    "start_time": "2024-07-13T15:01:18.139Z"
   },
   {
    "duration": 118,
    "start_time": "2024-07-13T15:01:29.556Z"
   },
   {
    "duration": 116,
    "start_time": "2024-07-13T15:01:59.421Z"
   },
   {
    "duration": 143,
    "start_time": "2024-07-13T15:05:53.863Z"
   },
   {
    "duration": 6,
    "start_time": "2024-07-13T15:09:27.346Z"
   },
   {
    "duration": 6,
    "start_time": "2024-07-13T15:09:42.785Z"
   },
   {
    "duration": 5,
    "start_time": "2024-07-13T15:13:24.676Z"
   },
   {
    "duration": 12,
    "start_time": "2024-07-13T15:13:34.596Z"
   },
   {
    "duration": 147,
    "start_time": "2024-07-13T15:13:44.422Z"
   },
   {
    "duration": 137,
    "start_time": "2024-07-13T15:20:10.938Z"
   },
   {
    "duration": 130,
    "start_time": "2024-07-13T15:21:07.963Z"
   },
   {
    "duration": 117,
    "start_time": "2024-07-13T15:26:10.832Z"
   },
   {
    "duration": 155,
    "start_time": "2024-07-13T15:29:29.338Z"
   },
   {
    "duration": 137,
    "start_time": "2024-07-13T15:30:10.026Z"
   },
   {
    "duration": 142,
    "start_time": "2024-07-13T15:30:24.154Z"
   },
   {
    "duration": 507,
    "start_time": "2024-07-13T15:30:41.865Z"
   },
   {
    "duration": 23,
    "start_time": "2024-07-13T15:30:42.374Z"
   },
   {
    "duration": 24,
    "start_time": "2024-07-13T15:30:42.399Z"
   },
   {
    "duration": 17,
    "start_time": "2024-07-13T15:30:42.425Z"
   },
   {
    "duration": 62,
    "start_time": "2024-07-13T15:30:42.445Z"
   },
   {
    "duration": 3,
    "start_time": "2024-07-13T15:30:42.508Z"
   },
   {
    "duration": 9,
    "start_time": "2024-07-13T15:30:42.513Z"
   },
   {
    "duration": 4,
    "start_time": "2024-07-13T15:30:42.524Z"
   },
   {
    "duration": 8,
    "start_time": "2024-07-13T15:30:42.529Z"
   },
   {
    "duration": 6,
    "start_time": "2024-07-13T15:30:42.538Z"
   },
   {
    "duration": 70,
    "start_time": "2024-07-13T15:30:42.545Z"
   },
   {
    "duration": 12,
    "start_time": "2024-07-13T15:30:42.617Z"
   },
   {
    "duration": 5,
    "start_time": "2024-07-13T15:30:42.631Z"
   },
   {
    "duration": 14,
    "start_time": "2024-07-13T15:30:42.638Z"
   },
   {
    "duration": 47,
    "start_time": "2024-07-13T15:30:42.653Z"
   },
   {
    "duration": 19,
    "start_time": "2024-07-13T15:30:42.702Z"
   },
   {
    "duration": 4,
    "start_time": "2024-07-13T15:30:42.722Z"
   },
   {
    "duration": 14,
    "start_time": "2024-07-13T15:30:42.728Z"
   },
   {
    "duration": 7,
    "start_time": "2024-07-13T15:30:42.744Z"
   },
   {
    "duration": 31,
    "start_time": "2024-07-13T15:30:42.753Z"
   },
   {
    "duration": 30,
    "start_time": "2024-07-13T15:30:42.785Z"
   },
   {
    "duration": 365,
    "start_time": "2024-07-13T15:30:42.817Z"
   },
   {
    "duration": 140,
    "start_time": "2024-07-13T15:30:43.183Z"
   },
   {
    "duration": 5,
    "start_time": "2024-07-13T15:30:43.324Z"
   },
   {
    "duration": 4,
    "start_time": "2024-07-13T15:30:43.330Z"
   },
   {
    "duration": 4,
    "start_time": "2024-07-13T15:30:43.335Z"
   },
   {
    "duration": 127,
    "start_time": "2024-07-13T15:31:30.571Z"
   },
   {
    "duration": 131,
    "start_time": "2024-07-13T15:31:42.548Z"
   },
   {
    "duration": 492,
    "start_time": "2024-07-13T15:32:00.807Z"
   },
   {
    "duration": 24,
    "start_time": "2024-07-13T15:32:01.301Z"
   },
   {
    "duration": 36,
    "start_time": "2024-07-13T15:32:01.327Z"
   },
   {
    "duration": 49,
    "start_time": "2024-07-13T15:32:01.365Z"
   },
   {
    "duration": 74,
    "start_time": "2024-07-13T15:32:01.415Z"
   },
   {
    "duration": 3,
    "start_time": "2024-07-13T15:32:01.490Z"
   },
   {
    "duration": 29,
    "start_time": "2024-07-13T15:32:01.495Z"
   },
   {
    "duration": 23,
    "start_time": "2024-07-13T15:32:01.525Z"
   },
   {
    "duration": 34,
    "start_time": "2024-07-13T15:32:01.550Z"
   },
   {
    "duration": 17,
    "start_time": "2024-07-13T15:32:01.588Z"
   },
   {
    "duration": 69,
    "start_time": "2024-07-13T15:32:01.607Z"
   },
   {
    "duration": 11,
    "start_time": "2024-07-13T15:32:01.678Z"
   },
   {
    "duration": 20,
    "start_time": "2024-07-13T15:32:01.690Z"
   },
   {
    "duration": 17,
    "start_time": "2024-07-13T15:32:01.712Z"
   },
   {
    "duration": 42,
    "start_time": "2024-07-13T15:32:01.730Z"
   },
   {
    "duration": 18,
    "start_time": "2024-07-13T15:32:01.774Z"
   },
   {
    "duration": 5,
    "start_time": "2024-07-13T15:32:01.793Z"
   },
   {
    "duration": 32,
    "start_time": "2024-07-13T15:32:01.800Z"
   },
   {
    "duration": 12,
    "start_time": "2024-07-13T15:32:01.833Z"
   },
   {
    "duration": 12,
    "start_time": "2024-07-13T15:32:01.847Z"
   },
   {
    "duration": 18,
    "start_time": "2024-07-13T15:32:01.860Z"
   },
   {
    "duration": 429,
    "start_time": "2024-07-13T15:32:01.880Z"
   },
   {
    "duration": 151,
    "start_time": "2024-07-13T15:32:02.311Z"
   },
   {
    "duration": 5,
    "start_time": "2024-07-13T15:32:02.463Z"
   },
   {
    "duration": 49,
    "start_time": "2024-07-13T15:32:02.469Z"
   },
   {
    "duration": 29,
    "start_time": "2024-07-13T15:32:02.520Z"
   },
   {
    "duration": 118,
    "start_time": "2024-07-13T15:32:42.140Z"
   },
   {
    "duration": 531,
    "start_time": "2024-07-13T15:33:27.680Z"
   },
   {
    "duration": 27,
    "start_time": "2024-07-13T15:33:28.213Z"
   },
   {
    "duration": 16,
    "start_time": "2024-07-13T15:33:28.242Z"
   },
   {
    "duration": 31,
    "start_time": "2024-07-13T15:33:28.261Z"
   },
   {
    "duration": 38,
    "start_time": "2024-07-13T15:33:28.294Z"
   },
   {
    "duration": 3,
    "start_time": "2024-07-13T15:33:28.334Z"
   },
   {
    "duration": 8,
    "start_time": "2024-07-13T15:33:28.340Z"
   },
   {
    "duration": 34,
    "start_time": "2024-07-13T15:33:28.350Z"
   },
   {
    "duration": 9,
    "start_time": "2024-07-13T15:33:28.386Z"
   },
   {
    "duration": 5,
    "start_time": "2024-07-13T15:33:28.398Z"
   },
   {
    "duration": 39,
    "start_time": "2024-07-13T15:33:28.404Z"
   },
   {
    "duration": 38,
    "start_time": "2024-07-13T15:33:28.445Z"
   },
   {
    "duration": 4,
    "start_time": "2024-07-13T15:33:28.484Z"
   },
   {
    "duration": 13,
    "start_time": "2024-07-13T15:33:28.489Z"
   },
   {
    "duration": 21,
    "start_time": "2024-07-13T15:33:28.504Z"
   },
   {
    "duration": 19,
    "start_time": "2024-07-13T15:33:28.527Z"
   },
   {
    "duration": 4,
    "start_time": "2024-07-13T15:33:28.548Z"
   },
   {
    "duration": 11,
    "start_time": "2024-07-13T15:33:28.582Z"
   },
   {
    "duration": 42,
    "start_time": "2024-07-13T15:33:28.595Z"
   },
   {
    "duration": 4,
    "start_time": "2024-07-13T15:33:28.639Z"
   },
   {
    "duration": 19,
    "start_time": "2024-07-13T15:33:28.644Z"
   },
   {
    "duration": 355,
    "start_time": "2024-07-13T15:33:28.665Z"
   },
   {
    "duration": 143,
    "start_time": "2024-07-13T15:33:29.022Z"
   },
   {
    "duration": 4,
    "start_time": "2024-07-13T15:33:29.167Z"
   },
   {
    "duration": 3,
    "start_time": "2024-07-13T15:33:29.181Z"
   },
   {
    "duration": 3,
    "start_time": "2024-07-13T15:33:29.185Z"
   },
   {
    "duration": 485,
    "start_time": "2024-07-13T15:34:05.811Z"
   },
   {
    "duration": 22,
    "start_time": "2024-07-13T15:34:06.298Z"
   },
   {
    "duration": 15,
    "start_time": "2024-07-13T15:34:06.322Z"
   },
   {
    "duration": 14,
    "start_time": "2024-07-13T15:34:06.339Z"
   },
   {
    "duration": 56,
    "start_time": "2024-07-13T15:34:06.355Z"
   },
   {
    "duration": 3,
    "start_time": "2024-07-13T15:34:06.413Z"
   },
   {
    "duration": 9,
    "start_time": "2024-07-13T15:34:06.418Z"
   },
   {
    "duration": 4,
    "start_time": "2024-07-13T15:34:06.428Z"
   },
   {
    "duration": 7,
    "start_time": "2024-07-13T15:34:06.434Z"
   },
   {
    "duration": 5,
    "start_time": "2024-07-13T15:34:06.442Z"
   },
   {
    "duration": 69,
    "start_time": "2024-07-13T15:34:06.449Z"
   },
   {
    "duration": 11,
    "start_time": "2024-07-13T15:34:06.519Z"
   },
   {
    "duration": 8,
    "start_time": "2024-07-13T15:34:06.531Z"
   },
   {
    "duration": 26,
    "start_time": "2024-07-13T15:34:06.541Z"
   },
   {
    "duration": 80,
    "start_time": "2024-07-13T15:34:06.569Z"
   },
   {
    "duration": 17,
    "start_time": "2024-07-13T15:34:06.651Z"
   },
   {
    "duration": 4,
    "start_time": "2024-07-13T15:34:06.670Z"
   },
   {
    "duration": 17,
    "start_time": "2024-07-13T15:34:06.675Z"
   },
   {
    "duration": 6,
    "start_time": "2024-07-13T15:34:06.693Z"
   },
   {
    "duration": 4,
    "start_time": "2024-07-13T15:34:06.700Z"
   },
   {
    "duration": 10,
    "start_time": "2024-07-13T15:34:06.705Z"
   },
   {
    "duration": 367,
    "start_time": "2024-07-13T15:34:06.717Z"
   },
   {
    "duration": 145,
    "start_time": "2024-07-13T15:34:07.086Z"
   },
   {
    "duration": 4,
    "start_time": "2024-07-13T15:34:07.232Z"
   },
   {
    "duration": 3,
    "start_time": "2024-07-13T15:34:07.238Z"
   },
   {
    "duration": 5,
    "start_time": "2024-07-13T15:34:07.243Z"
   },
   {
    "duration": 527,
    "start_time": "2024-07-13T15:35:27.071Z"
   },
   {
    "duration": 23,
    "start_time": "2024-07-13T15:35:27.600Z"
   },
   {
    "duration": 18,
    "start_time": "2024-07-13T15:35:27.624Z"
   },
   {
    "duration": 11,
    "start_time": "2024-07-13T15:35:27.644Z"
   },
   {
    "duration": 60,
    "start_time": "2024-07-13T15:35:27.657Z"
   },
   {
    "duration": 4,
    "start_time": "2024-07-13T15:35:27.718Z"
   },
   {
    "duration": 12,
    "start_time": "2024-07-13T15:35:27.723Z"
   },
   {
    "duration": 4,
    "start_time": "2024-07-13T15:35:27.736Z"
   },
   {
    "duration": 10,
    "start_time": "2024-07-13T15:35:27.741Z"
   },
   {
    "duration": 5,
    "start_time": "2024-07-13T15:35:27.752Z"
   },
   {
    "duration": 58,
    "start_time": "2024-07-13T15:35:27.759Z"
   },
   {
    "duration": 11,
    "start_time": "2024-07-13T15:35:27.819Z"
   },
   {
    "duration": 3,
    "start_time": "2024-07-13T15:35:27.832Z"
   },
   {
    "duration": 43,
    "start_time": "2024-07-13T15:35:27.839Z"
   },
   {
    "duration": 60,
    "start_time": "2024-07-13T15:35:27.884Z"
   },
   {
    "duration": 17,
    "start_time": "2024-07-13T15:35:27.946Z"
   },
   {
    "duration": 5,
    "start_time": "2024-07-13T15:35:27.965Z"
   },
   {
    "duration": 14,
    "start_time": "2024-07-13T15:35:27.972Z"
   },
   {
    "duration": 9,
    "start_time": "2024-07-13T15:35:27.988Z"
   },
   {
    "duration": 4,
    "start_time": "2024-07-13T15:35:27.999Z"
   },
   {
    "duration": 21,
    "start_time": "2024-07-13T15:35:28.005Z"
   },
   {
    "duration": 369,
    "start_time": "2024-07-13T15:35:28.028Z"
   },
   {
    "duration": 153,
    "start_time": "2024-07-13T15:35:28.398Z"
   },
   {
    "duration": 5,
    "start_time": "2024-07-13T15:35:28.552Z"
   },
   {
    "duration": 4,
    "start_time": "2024-07-13T15:35:28.558Z"
   },
   {
    "duration": 3,
    "start_time": "2024-07-13T15:35:28.564Z"
   },
   {
    "duration": 78,
    "start_time": "2024-07-13T15:36:16.433Z"
   },
   {
    "duration": 518,
    "start_time": "2024-07-13T15:36:21.254Z"
   },
   {
    "duration": 24,
    "start_time": "2024-07-13T15:36:21.773Z"
   },
   {
    "duration": 18,
    "start_time": "2024-07-13T15:36:21.799Z"
   },
   {
    "duration": 12,
    "start_time": "2024-07-13T15:36:21.819Z"
   },
   {
    "duration": 67,
    "start_time": "2024-07-13T15:36:21.832Z"
   },
   {
    "duration": 3,
    "start_time": "2024-07-13T15:36:21.901Z"
   },
   {
    "duration": 55,
    "start_time": "2024-07-13T15:36:21.906Z"
   },
   {
    "duration": 6,
    "start_time": "2024-07-13T15:36:21.963Z"
   },
   {
    "duration": 9,
    "start_time": "2024-07-13T15:36:21.972Z"
   },
   {
    "duration": 6,
    "start_time": "2024-07-13T15:36:21.985Z"
   },
   {
    "duration": 51,
    "start_time": "2024-07-13T15:36:21.992Z"
   },
   {
    "duration": 13,
    "start_time": "2024-07-13T15:36:22.044Z"
   },
   {
    "duration": 25,
    "start_time": "2024-07-13T15:36:22.059Z"
   },
   {
    "duration": 14,
    "start_time": "2024-07-13T15:36:22.087Z"
   },
   {
    "duration": 22,
    "start_time": "2024-07-13T15:36:22.103Z"
   },
   {
    "duration": 19,
    "start_time": "2024-07-13T15:36:22.127Z"
   },
   {
    "duration": 34,
    "start_time": "2024-07-13T15:36:22.148Z"
   },
   {
    "duration": 84,
    "start_time": "2024-07-13T15:36:22.184Z"
   },
   {
    "duration": 7,
    "start_time": "2024-07-13T15:36:22.269Z"
   },
   {
    "duration": 4,
    "start_time": "2024-07-13T15:36:22.277Z"
   },
   {
    "duration": 12,
    "start_time": "2024-07-13T15:36:22.282Z"
   },
   {
    "duration": 390,
    "start_time": "2024-07-13T15:36:22.296Z"
   },
   {
    "duration": 78,
    "start_time": "2024-07-13T15:36:22.688Z"
   },
   {
    "duration": 0,
    "start_time": "2024-07-13T15:36:22.767Z"
   },
   {
    "duration": 0,
    "start_time": "2024-07-13T15:36:22.782Z"
   },
   {
    "duration": 0,
    "start_time": "2024-07-13T15:36:22.783Z"
   },
   {
    "duration": 463,
    "start_time": "2024-07-13T15:36:48.128Z"
   },
   {
    "duration": 23,
    "start_time": "2024-07-13T15:36:48.593Z"
   },
   {
    "duration": 55,
    "start_time": "2024-07-13T15:36:48.618Z"
   },
   {
    "duration": 27,
    "start_time": "2024-07-13T15:36:48.675Z"
   },
   {
    "duration": 37,
    "start_time": "2024-07-13T15:36:48.705Z"
   },
   {
    "duration": 3,
    "start_time": "2024-07-13T15:36:48.744Z"
   },
   {
    "duration": 8,
    "start_time": "2024-07-13T15:36:48.749Z"
   },
   {
    "duration": 5,
    "start_time": "2024-07-13T15:36:48.759Z"
   },
   {
    "duration": 17,
    "start_time": "2024-07-13T15:36:48.765Z"
   },
   {
    "duration": 5,
    "start_time": "2024-07-13T15:36:48.784Z"
   },
   {
    "duration": 38,
    "start_time": "2024-07-13T15:36:48.790Z"
   },
   {
    "duration": 11,
    "start_time": "2024-07-13T15:36:48.830Z"
   },
   {
    "duration": 4,
    "start_time": "2024-07-13T15:36:48.842Z"
   },
   {
    "duration": 45,
    "start_time": "2024-07-13T15:36:48.848Z"
   },
   {
    "duration": 30,
    "start_time": "2024-07-13T15:36:48.895Z"
   },
   {
    "duration": 18,
    "start_time": "2024-07-13T15:36:48.927Z"
   },
   {
    "duration": 3,
    "start_time": "2024-07-13T15:36:48.947Z"
   },
   {
    "duration": 16,
    "start_time": "2024-07-13T15:36:48.951Z"
   },
   {
    "duration": 17,
    "start_time": "2024-07-13T15:36:48.981Z"
   },
   {
    "duration": 11,
    "start_time": "2024-07-13T15:36:49.000Z"
   },
   {
    "duration": 10,
    "start_time": "2024-07-13T15:36:49.012Z"
   },
   {
    "duration": 365,
    "start_time": "2024-07-13T15:36:49.023Z"
   },
   {
    "duration": 167,
    "start_time": "2024-07-13T15:36:49.389Z"
   },
   {
    "duration": 4,
    "start_time": "2024-07-13T15:36:49.558Z"
   },
   {
    "duration": 3,
    "start_time": "2024-07-13T15:36:49.564Z"
   },
   {
    "duration": 3,
    "start_time": "2024-07-13T15:36:49.582Z"
   },
   {
    "duration": 495,
    "start_time": "2024-07-13T15:37:19.427Z"
   },
   {
    "duration": 31,
    "start_time": "2024-07-13T15:37:19.924Z"
   },
   {
    "duration": 39,
    "start_time": "2024-07-13T15:37:19.957Z"
   },
   {
    "duration": 13,
    "start_time": "2024-07-13T15:37:19.998Z"
   },
   {
    "duration": 73,
    "start_time": "2024-07-13T15:37:20.012Z"
   },
   {
    "duration": 4,
    "start_time": "2024-07-13T15:37:20.086Z"
   },
   {
    "duration": 9,
    "start_time": "2024-07-13T15:37:20.091Z"
   },
   {
    "duration": 4,
    "start_time": "2024-07-13T15:37:20.101Z"
   },
   {
    "duration": 9,
    "start_time": "2024-07-13T15:37:20.107Z"
   },
   {
    "duration": 4,
    "start_time": "2024-07-13T15:37:20.119Z"
   },
   {
    "duration": 72,
    "start_time": "2024-07-13T15:37:20.126Z"
   },
   {
    "duration": 12,
    "start_time": "2024-07-13T15:37:20.200Z"
   },
   {
    "duration": 49,
    "start_time": "2024-07-13T15:37:20.214Z"
   },
   {
    "duration": 14,
    "start_time": "2024-07-13T15:37:20.265Z"
   },
   {
    "duration": 22,
    "start_time": "2024-07-13T15:37:20.280Z"
   },
   {
    "duration": 19,
    "start_time": "2024-07-13T15:37:20.304Z"
   },
   {
    "duration": 4,
    "start_time": "2024-07-13T15:37:20.325Z"
   },
   {
    "duration": 38,
    "start_time": "2024-07-13T15:37:20.331Z"
   },
   {
    "duration": 13,
    "start_time": "2024-07-13T15:37:20.371Z"
   },
   {
    "duration": 4,
    "start_time": "2024-07-13T15:37:20.386Z"
   },
   {
    "duration": 10,
    "start_time": "2024-07-13T15:37:20.392Z"
   },
   {
    "duration": 365,
    "start_time": "2024-07-13T15:37:20.403Z"
   },
   {
    "duration": 152,
    "start_time": "2024-07-13T15:37:20.770Z"
   },
   {
    "duration": 5,
    "start_time": "2024-07-13T15:37:20.924Z"
   },
   {
    "duration": 10,
    "start_time": "2024-07-13T15:37:20.931Z"
   },
   {
    "duration": 6,
    "start_time": "2024-07-13T15:37:20.943Z"
   },
   {
    "duration": 497,
    "start_time": "2024-07-13T15:41:32.606Z"
   },
   {
    "duration": 24,
    "start_time": "2024-07-13T15:41:33.107Z"
   },
   {
    "duration": 16,
    "start_time": "2024-07-13T15:41:33.133Z"
   },
   {
    "duration": 32,
    "start_time": "2024-07-13T15:41:33.151Z"
   },
   {
    "duration": 38,
    "start_time": "2024-07-13T15:41:33.185Z"
   },
   {
    "duration": 4,
    "start_time": "2024-07-13T15:41:33.225Z"
   },
   {
    "duration": 16,
    "start_time": "2024-07-13T15:41:33.230Z"
   },
   {
    "duration": 4,
    "start_time": "2024-07-13T15:41:33.248Z"
   },
   {
    "duration": 8,
    "start_time": "2024-07-13T15:41:33.281Z"
   },
   {
    "duration": 5,
    "start_time": "2024-07-13T15:41:33.291Z"
   },
   {
    "duration": 38,
    "start_time": "2024-07-13T15:41:33.297Z"
   },
   {
    "duration": 11,
    "start_time": "2024-07-13T15:41:33.336Z"
   },
   {
    "duration": 4,
    "start_time": "2024-07-13T15:41:33.348Z"
   },
   {
    "duration": 39,
    "start_time": "2024-07-13T15:41:33.353Z"
   },
   {
    "duration": 20,
    "start_time": "2024-07-13T15:41:33.393Z"
   },
   {
    "duration": 17,
    "start_time": "2024-07-13T15:41:33.414Z"
   },
   {
    "duration": 4,
    "start_time": "2024-07-13T15:41:33.433Z"
   },
   {
    "duration": 11,
    "start_time": "2024-07-13T15:41:33.438Z"
   },
   {
    "duration": 33,
    "start_time": "2024-07-13T15:41:33.451Z"
   },
   {
    "duration": 4,
    "start_time": "2024-07-13T15:41:33.485Z"
   },
   {
    "duration": 12,
    "start_time": "2024-07-13T15:41:33.490Z"
   },
   {
    "duration": 392,
    "start_time": "2024-07-13T15:41:33.503Z"
   },
   {
    "duration": 170,
    "start_time": "2024-07-13T15:41:33.897Z"
   },
   {
    "duration": 4,
    "start_time": "2024-07-13T15:41:34.069Z"
   },
   {
    "duration": 3,
    "start_time": "2024-07-13T15:41:34.082Z"
   },
   {
    "duration": 4,
    "start_time": "2024-07-13T15:41:34.086Z"
   },
   {
    "duration": 528,
    "start_time": "2024-07-13T15:49:32.162Z"
   },
   {
    "duration": 23,
    "start_time": "2024-07-13T15:49:32.692Z"
   },
   {
    "duration": 16,
    "start_time": "2024-07-13T15:49:32.717Z"
   },
   {
    "duration": 11,
    "start_time": "2024-07-13T15:49:32.735Z"
   },
   {
    "duration": 55,
    "start_time": "2024-07-13T15:49:32.747Z"
   },
   {
    "duration": 4,
    "start_time": "2024-07-13T15:49:32.803Z"
   },
   {
    "duration": 24,
    "start_time": "2024-07-13T15:49:32.809Z"
   },
   {
    "duration": 6,
    "start_time": "2024-07-13T15:49:32.835Z"
   },
   {
    "duration": 10,
    "start_time": "2024-07-13T15:49:32.843Z"
   },
   {
    "duration": 7,
    "start_time": "2024-07-13T15:49:32.856Z"
   },
   {
    "duration": 40,
    "start_time": "2024-07-13T15:49:32.881Z"
   },
   {
    "duration": 11,
    "start_time": "2024-07-13T15:49:32.922Z"
   },
   {
    "duration": 4,
    "start_time": "2024-07-13T15:49:32.934Z"
   },
   {
    "duration": 13,
    "start_time": "2024-07-13T15:49:32.940Z"
   },
   {
    "duration": 50,
    "start_time": "2024-07-13T15:49:32.955Z"
   },
   {
    "duration": 25,
    "start_time": "2024-07-13T15:49:33.006Z"
   },
   {
    "duration": 4,
    "start_time": "2024-07-13T15:49:33.033Z"
   },
   {
    "duration": 17,
    "start_time": "2024-07-13T15:49:33.039Z"
   },
   {
    "duration": 10,
    "start_time": "2024-07-13T15:49:33.058Z"
   },
   {
    "duration": 3,
    "start_time": "2024-07-13T15:49:33.083Z"
   },
   {
    "duration": 14,
    "start_time": "2024-07-13T15:49:33.088Z"
   },
   {
    "duration": 381,
    "start_time": "2024-07-13T15:49:33.104Z"
   },
   {
    "duration": 144,
    "start_time": "2024-07-13T15:49:33.486Z"
   },
   {
    "duration": 5,
    "start_time": "2024-07-13T15:49:33.631Z"
   },
   {
    "duration": 3,
    "start_time": "2024-07-13T15:49:33.637Z"
   },
   {
    "duration": 9,
    "start_time": "2024-07-13T15:49:33.641Z"
   },
   {
    "duration": 520,
    "start_time": "2024-07-13T15:53:14.863Z"
   },
   {
    "duration": 23,
    "start_time": "2024-07-13T15:53:15.385Z"
   },
   {
    "duration": 50,
    "start_time": "2024-07-13T15:53:15.410Z"
   },
   {
    "duration": 31,
    "start_time": "2024-07-13T15:53:15.462Z"
   },
   {
    "duration": 61,
    "start_time": "2024-07-13T15:53:15.494Z"
   },
   {
    "duration": 11,
    "start_time": "2024-07-13T15:53:15.557Z"
   },
   {
    "duration": 61,
    "start_time": "2024-07-13T15:53:15.569Z"
   },
   {
    "duration": 48,
    "start_time": "2024-07-13T15:53:15.632Z"
   },
   {
    "duration": 46,
    "start_time": "2024-07-13T15:53:15.682Z"
   },
   {
    "duration": 23,
    "start_time": "2024-07-13T15:53:15.733Z"
   },
   {
    "duration": 84,
    "start_time": "2024-07-13T15:53:15.758Z"
   },
   {
    "duration": 32,
    "start_time": "2024-07-13T15:53:15.844Z"
   },
   {
    "duration": 35,
    "start_time": "2024-07-13T15:53:15.877Z"
   },
   {
    "duration": 50,
    "start_time": "2024-07-13T15:53:15.914Z"
   },
   {
    "duration": 69,
    "start_time": "2024-07-13T15:53:15.966Z"
   },
   {
    "duration": 35,
    "start_time": "2024-07-13T15:53:16.037Z"
   },
   {
    "duration": 21,
    "start_time": "2024-07-13T15:53:16.074Z"
   },
   {
    "duration": 30,
    "start_time": "2024-07-13T15:53:16.097Z"
   },
   {
    "duration": 21,
    "start_time": "2024-07-13T15:53:16.129Z"
   },
   {
    "duration": 45,
    "start_time": "2024-07-13T15:53:16.152Z"
   },
   {
    "duration": 58,
    "start_time": "2024-07-13T15:53:16.199Z"
   },
   {
    "duration": 428,
    "start_time": "2024-07-13T15:53:16.259Z"
   },
   {
    "duration": 151,
    "start_time": "2024-07-13T15:53:16.688Z"
   },
   {
    "duration": 5,
    "start_time": "2024-07-13T15:53:16.840Z"
   },
   {
    "duration": 40,
    "start_time": "2024-07-13T15:53:16.846Z"
   },
   {
    "duration": 39,
    "start_time": "2024-07-13T15:53:16.887Z"
   },
   {
    "duration": 507,
    "start_time": "2024-07-13T16:00:06.395Z"
   },
   {
    "duration": 24,
    "start_time": "2024-07-13T16:00:06.906Z"
   },
   {
    "duration": 17,
    "start_time": "2024-07-13T16:00:06.932Z"
   },
   {
    "duration": 35,
    "start_time": "2024-07-13T16:00:06.951Z"
   },
   {
    "duration": 39,
    "start_time": "2024-07-13T16:00:06.987Z"
   },
   {
    "duration": 4,
    "start_time": "2024-07-13T16:00:07.028Z"
   },
   {
    "duration": 13,
    "start_time": "2024-07-13T16:00:07.033Z"
   },
   {
    "duration": 6,
    "start_time": "2024-07-13T16:00:07.048Z"
   },
   {
    "duration": 9,
    "start_time": "2024-07-13T16:00:07.082Z"
   },
   {
    "duration": 5,
    "start_time": "2024-07-13T16:00:07.094Z"
   },
   {
    "duration": 49,
    "start_time": "2024-07-13T16:00:07.101Z"
   },
   {
    "duration": 35,
    "start_time": "2024-07-13T16:00:07.151Z"
   },
   {
    "duration": 4,
    "start_time": "2024-07-13T16:00:07.189Z"
   },
   {
    "duration": 17,
    "start_time": "2024-07-13T16:00:07.194Z"
   },
   {
    "duration": 28,
    "start_time": "2024-07-13T16:00:07.212Z"
   },
   {
    "duration": 40,
    "start_time": "2024-07-13T16:00:07.242Z"
   },
   {
    "duration": 4,
    "start_time": "2024-07-13T16:00:07.284Z"
   },
   {
    "duration": 16,
    "start_time": "2024-07-13T16:00:07.289Z"
   },
   {
    "duration": 10,
    "start_time": "2024-07-13T16:00:07.307Z"
   },
   {
    "duration": 5,
    "start_time": "2024-07-13T16:00:07.319Z"
   },
   {
    "duration": 16,
    "start_time": "2024-07-13T16:00:07.328Z"
   },
   {
    "duration": 382,
    "start_time": "2024-07-13T16:00:07.345Z"
   },
   {
    "duration": 154,
    "start_time": "2024-07-13T16:00:07.729Z"
   },
   {
    "duration": 4,
    "start_time": "2024-07-13T16:00:07.885Z"
   },
   {
    "duration": 7,
    "start_time": "2024-07-13T16:00:07.890Z"
   },
   {
    "duration": 4,
    "start_time": "2024-07-13T16:00:07.899Z"
   },
   {
    "duration": 182,
    "start_time": "2024-07-13T16:06:05.554Z"
   },
   {
    "duration": 56,
    "start_time": "2024-07-13T16:06:52.650Z"
   },
   {
    "duration": 117,
    "start_time": "2024-07-13T16:07:15.074Z"
   },
   {
    "duration": 122,
    "start_time": "2024-07-13T16:07:24.048Z"
   },
   {
    "duration": 169,
    "start_time": "2024-07-13T16:08:07.554Z"
   },
   {
    "duration": 127,
    "start_time": "2024-07-13T16:08:22.338Z"
   },
   {
    "duration": 129,
    "start_time": "2024-07-13T16:08:34.316Z"
   },
   {
    "duration": 186,
    "start_time": "2024-07-13T16:10:14.861Z"
   },
   {
    "duration": 194,
    "start_time": "2024-07-13T16:12:27.135Z"
   },
   {
    "duration": 217,
    "start_time": "2024-07-13T16:12:35.406Z"
   },
   {
    "duration": 191,
    "start_time": "2024-07-13T16:13:09.015Z"
   },
   {
    "duration": 200,
    "start_time": "2024-07-13T16:13:13.990Z"
   },
   {
    "duration": 204,
    "start_time": "2024-07-13T16:13:59.471Z"
   },
   {
    "duration": 199,
    "start_time": "2024-07-13T16:14:14.832Z"
   },
   {
    "duration": 346,
    "start_time": "2024-07-13T16:18:01.914Z"
   },
   {
    "duration": 338,
    "start_time": "2024-07-13T16:18:15.754Z"
   },
   {
    "duration": 440,
    "start_time": "2024-07-13T16:19:17.947Z"
   },
   {
    "duration": 422,
    "start_time": "2024-07-13T16:19:24.277Z"
   },
   {
    "duration": 361,
    "start_time": "2024-07-13T16:19:37.043Z"
   },
   {
    "duration": 256,
    "start_time": "2024-07-13T16:19:49.692Z"
   },
   {
    "duration": 488,
    "start_time": "2024-07-13T16:24:12.592Z"
   },
   {
    "duration": 24,
    "start_time": "2024-07-13T16:24:13.082Z"
   },
   {
    "duration": 16,
    "start_time": "2024-07-13T16:24:13.109Z"
   },
   {
    "duration": 12,
    "start_time": "2024-07-13T16:24:13.128Z"
   },
   {
    "duration": 64,
    "start_time": "2024-07-13T16:24:13.142Z"
   },
   {
    "duration": 4,
    "start_time": "2024-07-13T16:24:13.208Z"
   },
   {
    "duration": 19,
    "start_time": "2024-07-13T16:24:13.214Z"
   },
   {
    "duration": 20,
    "start_time": "2024-07-13T16:24:13.235Z"
   },
   {
    "duration": 23,
    "start_time": "2024-07-13T16:24:13.257Z"
   },
   {
    "duration": 5,
    "start_time": "2024-07-13T16:24:13.282Z"
   },
   {
    "duration": 39,
    "start_time": "2024-07-13T16:24:13.288Z"
   },
   {
    "duration": 10,
    "start_time": "2024-07-13T16:24:13.329Z"
   },
   {
    "duration": 4,
    "start_time": "2024-07-13T16:24:13.341Z"
   },
   {
    "duration": 38,
    "start_time": "2024-07-13T16:24:13.346Z"
   },
   {
    "duration": 20,
    "start_time": "2024-07-13T16:24:13.386Z"
   },
   {
    "duration": 18,
    "start_time": "2024-07-13T16:24:13.408Z"
   },
   {
    "duration": 4,
    "start_time": "2024-07-13T16:24:13.428Z"
   },
   {
    "duration": 12,
    "start_time": "2024-07-13T16:24:13.433Z"
   },
   {
    "duration": 37,
    "start_time": "2024-07-13T16:24:13.447Z"
   },
   {
    "duration": 4,
    "start_time": "2024-07-13T16:24:13.485Z"
   },
   {
    "duration": 11,
    "start_time": "2024-07-13T16:24:13.491Z"
   },
   {
    "duration": 414,
    "start_time": "2024-07-13T16:24:13.504Z"
   },
   {
    "duration": 173,
    "start_time": "2024-07-13T16:24:13.920Z"
   },
   {
    "duration": 58,
    "start_time": "2024-07-13T16:24:14.096Z"
   },
   {
    "duration": 0,
    "start_time": "2024-07-13T16:24:14.156Z"
   },
   {
    "duration": 0,
    "start_time": "2024-07-13T16:24:14.158Z"
   },
   {
    "duration": 0,
    "start_time": "2024-07-13T16:24:14.160Z"
   },
   {
    "duration": 263,
    "start_time": "2024-07-13T16:28:20.825Z"
   },
   {
    "duration": 263,
    "start_time": "2024-07-13T16:33:50.181Z"
   },
   {
    "duration": 491,
    "start_time": "2024-07-13T16:34:49.713Z"
   },
   {
    "duration": 22,
    "start_time": "2024-07-13T16:34:50.206Z"
   },
   {
    "duration": 37,
    "start_time": "2024-07-13T16:34:50.230Z"
   },
   {
    "duration": 14,
    "start_time": "2024-07-13T16:34:50.269Z"
   },
   {
    "duration": 42,
    "start_time": "2024-07-13T16:34:50.285Z"
   },
   {
    "duration": 3,
    "start_time": "2024-07-13T16:34:50.329Z"
   },
   {
    "duration": 21,
    "start_time": "2024-07-13T16:34:50.334Z"
   },
   {
    "duration": 5,
    "start_time": "2024-07-13T16:34:50.357Z"
   },
   {
    "duration": 19,
    "start_time": "2024-07-13T16:34:50.363Z"
   },
   {
    "duration": 50,
    "start_time": "2024-07-13T16:34:50.384Z"
   },
   {
    "duration": 60,
    "start_time": "2024-07-13T16:34:50.436Z"
   },
   {
    "duration": 12,
    "start_time": "2024-07-13T16:34:50.498Z"
   },
   {
    "duration": 20,
    "start_time": "2024-07-13T16:34:50.512Z"
   },
   {
    "duration": 15,
    "start_time": "2024-07-13T16:34:50.535Z"
   },
   {
    "duration": 52,
    "start_time": "2024-07-13T16:34:50.551Z"
   },
   {
    "duration": 17,
    "start_time": "2024-07-13T16:34:50.604Z"
   },
   {
    "duration": 4,
    "start_time": "2024-07-13T16:34:50.622Z"
   },
   {
    "duration": 12,
    "start_time": "2024-07-13T16:34:50.628Z"
   },
   {
    "duration": 8,
    "start_time": "2024-07-13T16:34:50.641Z"
   },
   {
    "duration": 4,
    "start_time": "2024-07-13T16:34:50.650Z"
   },
   {
    "duration": 34,
    "start_time": "2024-07-13T16:34:50.655Z"
   },
   {
    "duration": 401,
    "start_time": "2024-07-13T16:34:50.690Z"
   },
   {
    "duration": 153,
    "start_time": "2024-07-13T16:34:51.093Z"
   },
   {
    "duration": 257,
    "start_time": "2024-07-13T16:34:51.248Z"
   },
   {
    "duration": 249,
    "start_time": "2024-07-13T16:34:51.506Z"
   },
   {
    "duration": 2,
    "start_time": "2024-07-13T16:34:51.757Z"
   },
   {
    "duration": 216,
    "start_time": "2024-07-13T16:44:11.677Z"
   },
   {
    "duration": 322,
    "start_time": "2024-07-13T16:44:26.860Z"
   },
   {
    "duration": 548,
    "start_time": "2024-07-13T17:32:31.755Z"
   },
   {
    "duration": 24,
    "start_time": "2024-07-13T17:32:32.305Z"
   },
   {
    "duration": 45,
    "start_time": "2024-07-13T17:32:32.330Z"
   },
   {
    "duration": 21,
    "start_time": "2024-07-13T17:32:32.377Z"
   },
   {
    "duration": 42,
    "start_time": "2024-07-13T17:32:32.399Z"
   },
   {
    "duration": 3,
    "start_time": "2024-07-13T17:32:32.445Z"
   },
   {
    "duration": 9,
    "start_time": "2024-07-13T17:32:32.450Z"
   },
   {
    "duration": 6,
    "start_time": "2024-07-13T17:32:32.460Z"
   },
   {
    "duration": 31,
    "start_time": "2024-07-13T17:32:32.467Z"
   },
   {
    "duration": 17,
    "start_time": "2024-07-13T17:32:32.502Z"
   },
   {
    "duration": 39,
    "start_time": "2024-07-13T17:32:32.521Z"
   },
   {
    "duration": 11,
    "start_time": "2024-07-13T17:32:32.561Z"
   },
   {
    "duration": 27,
    "start_time": "2024-07-13T17:32:32.573Z"
   },
   {
    "duration": 17,
    "start_time": "2024-07-13T17:32:32.602Z"
   },
   {
    "duration": 22,
    "start_time": "2024-07-13T17:32:32.620Z"
   },
   {
    "duration": 18,
    "start_time": "2024-07-13T17:32:32.644Z"
   },
   {
    "duration": 4,
    "start_time": "2024-07-13T17:32:32.663Z"
   },
   {
    "duration": 24,
    "start_time": "2024-07-13T17:32:32.668Z"
   },
   {
    "duration": 6,
    "start_time": "2024-07-13T17:32:32.693Z"
   },
   {
    "duration": 17,
    "start_time": "2024-07-13T17:32:32.700Z"
   },
   {
    "duration": 9,
    "start_time": "2024-07-13T17:32:32.718Z"
   },
   {
    "duration": 378,
    "start_time": "2024-07-13T17:32:32.729Z"
   },
   {
    "duration": 157,
    "start_time": "2024-07-13T17:32:33.108Z"
   },
   {
    "duration": 268,
    "start_time": "2024-07-13T17:32:33.266Z"
   },
   {
    "duration": 270,
    "start_time": "2024-07-13T17:32:33.536Z"
   },
   {
    "duration": 328,
    "start_time": "2024-07-13T17:32:33.808Z"
   },
   {
    "duration": 492,
    "start_time": "2024-07-13T17:35:02.242Z"
   },
   {
    "duration": 24,
    "start_time": "2024-07-13T17:35:02.736Z"
   },
   {
    "duration": 36,
    "start_time": "2024-07-13T17:35:02.762Z"
   },
   {
    "duration": 12,
    "start_time": "2024-07-13T17:35:02.801Z"
   },
   {
    "duration": 53,
    "start_time": "2024-07-13T17:35:02.814Z"
   },
   {
    "duration": 4,
    "start_time": "2024-07-13T17:35:02.868Z"
   },
   {
    "duration": 13,
    "start_time": "2024-07-13T17:35:02.882Z"
   },
   {
    "duration": 4,
    "start_time": "2024-07-13T17:35:02.897Z"
   },
   {
    "duration": 6,
    "start_time": "2024-07-13T17:35:02.903Z"
   },
   {
    "duration": 4,
    "start_time": "2024-07-13T17:35:02.913Z"
   },
   {
    "duration": 42,
    "start_time": "2024-07-13T17:35:02.918Z"
   },
   {
    "duration": 29,
    "start_time": "2024-07-13T17:35:02.962Z"
   },
   {
    "duration": 54,
    "start_time": "2024-07-13T17:35:02.992Z"
   },
   {
    "duration": 13,
    "start_time": "2024-07-13T17:35:03.047Z"
   },
   {
    "duration": 33,
    "start_time": "2024-07-13T17:35:03.061Z"
   },
   {
    "duration": 18,
    "start_time": "2024-07-13T17:35:03.095Z"
   },
   {
    "duration": 4,
    "start_time": "2024-07-13T17:35:03.114Z"
   },
   {
    "duration": 18,
    "start_time": "2024-07-13T17:35:03.119Z"
   },
   {
    "duration": 22,
    "start_time": "2024-07-13T17:35:03.138Z"
   },
   {
    "duration": 5,
    "start_time": "2024-07-13T17:35:03.161Z"
   },
   {
    "duration": 17,
    "start_time": "2024-07-13T17:35:03.167Z"
   },
   {
    "duration": 364,
    "start_time": "2024-07-13T17:35:03.186Z"
   },
   {
    "duration": 153,
    "start_time": "2024-07-13T17:35:03.551Z"
   },
   {
    "duration": 301,
    "start_time": "2024-07-13T17:35:03.706Z"
   },
   {
    "duration": 257,
    "start_time": "2024-07-13T17:35:04.009Z"
   },
   {
    "duration": 283,
    "start_time": "2024-07-13T17:35:04.268Z"
   },
   {
    "duration": 492,
    "start_time": "2024-07-13T17:51:38.710Z"
   },
   {
    "duration": 26,
    "start_time": "2024-07-13T17:51:39.204Z"
   },
   {
    "duration": 23,
    "start_time": "2024-07-13T17:51:39.232Z"
   },
   {
    "duration": 9,
    "start_time": "2024-07-13T17:51:39.257Z"
   },
   {
    "duration": 144,
    "start_time": "2024-07-13T17:51:39.267Z"
   },
   {
    "duration": 54,
    "start_time": "2024-07-13T17:51:39.413Z"
   },
   {
    "duration": 31,
    "start_time": "2024-07-13T17:51:39.468Z"
   },
   {
    "duration": 3,
    "start_time": "2024-07-13T17:51:39.500Z"
   },
   {
    "duration": 7,
    "start_time": "2024-07-13T17:51:39.504Z"
   },
   {
    "duration": 4,
    "start_time": "2024-07-13T17:51:39.512Z"
   },
   {
    "duration": 27,
    "start_time": "2024-07-13T17:51:39.517Z"
   },
   {
    "duration": 7,
    "start_time": "2024-07-13T17:51:39.545Z"
   },
   {
    "duration": 3,
    "start_time": "2024-07-13T17:51:39.554Z"
   },
   {
    "duration": 18,
    "start_time": "2024-07-13T17:51:39.558Z"
   },
   {
    "duration": 35,
    "start_time": "2024-07-13T17:51:39.577Z"
   },
   {
    "duration": 15,
    "start_time": "2024-07-13T17:51:39.614Z"
   },
   {
    "duration": 3,
    "start_time": "2024-07-13T17:51:39.631Z"
   },
   {
    "duration": 16,
    "start_time": "2024-07-13T17:51:39.635Z"
   },
   {
    "duration": 7,
    "start_time": "2024-07-13T17:51:39.652Z"
   },
   {
    "duration": 5,
    "start_time": "2024-07-13T17:51:39.660Z"
   },
   {
    "duration": 11,
    "start_time": "2024-07-13T17:51:39.667Z"
   },
   {
    "duration": 477,
    "start_time": "2024-07-13T17:51:39.679Z"
   },
   {
    "duration": 114,
    "start_time": "2024-07-13T17:51:40.158Z"
   },
   {
    "duration": 206,
    "start_time": "2024-07-13T17:51:40.273Z"
   },
   {
    "duration": 195,
    "start_time": "2024-07-13T17:51:40.481Z"
   },
   {
    "duration": 260,
    "start_time": "2024-07-13T17:51:40.678Z"
   },
   {
    "duration": 10,
    "start_time": "2024-07-14T07:15:54.353Z"
   },
   {
    "duration": 46,
    "start_time": "2024-07-14T07:15:57.684Z"
   },
   {
    "duration": 519,
    "start_time": "2024-07-14T07:16:07.852Z"
   },
   {
    "duration": 28,
    "start_time": "2024-07-14T07:16:08.373Z"
   },
   {
    "duration": 16,
    "start_time": "2024-07-14T07:16:08.402Z"
   },
   {
    "duration": 10,
    "start_time": "2024-07-14T07:16:08.420Z"
   },
   {
    "duration": 36,
    "start_time": "2024-07-14T07:16:08.432Z"
   },
   {
    "duration": 3,
    "start_time": "2024-07-14T07:16:08.470Z"
   },
   {
    "duration": 9,
    "start_time": "2024-07-14T07:16:08.474Z"
   },
   {
    "duration": 5,
    "start_time": "2024-07-14T07:16:08.504Z"
   },
   {
    "duration": 18,
    "start_time": "2024-07-14T07:16:08.510Z"
   },
   {
    "duration": 4,
    "start_time": "2024-07-14T07:16:08.530Z"
   },
   {
    "duration": 36,
    "start_time": "2024-07-14T07:16:08.536Z"
   },
   {
    "duration": 10,
    "start_time": "2024-07-14T07:16:08.573Z"
   },
   {
    "duration": 20,
    "start_time": "2024-07-14T07:16:08.585Z"
   },
   {
    "duration": 17,
    "start_time": "2024-07-14T07:16:08.606Z"
   },
   {
    "duration": 20,
    "start_time": "2024-07-14T07:16:08.625Z"
   },
   {
    "duration": 18,
    "start_time": "2024-07-14T07:16:08.647Z"
   },
   {
    "duration": 8,
    "start_time": "2024-07-14T07:16:08.666Z"
   },
   {
    "duration": 29,
    "start_time": "2024-07-14T07:16:08.676Z"
   },
   {
    "duration": 16,
    "start_time": "2024-07-14T07:16:08.707Z"
   },
   {
    "duration": 4,
    "start_time": "2024-07-14T07:16:08.725Z"
   },
   {
    "duration": 17,
    "start_time": "2024-07-14T07:16:08.730Z"
   },
   {
    "duration": 11,
    "start_time": "2024-07-14T07:16:08.748Z"
   },
   {
    "duration": 77,
    "start_time": "2024-07-14T07:16:08.761Z"
   },
   {
    "duration": 0,
    "start_time": "2024-07-14T07:16:08.839Z"
   },
   {
    "duration": 0,
    "start_time": "2024-07-14T07:16:08.841Z"
   },
   {
    "duration": 0,
    "start_time": "2024-07-14T07:16:08.842Z"
   },
   {
    "duration": 0,
    "start_time": "2024-07-14T07:16:08.843Z"
   },
   {
    "duration": 4,
    "start_time": "2024-07-14T07:16:31.537Z"
   },
   {
    "duration": 17,
    "start_time": "2024-07-14T07:16:33.628Z"
   },
   {
    "duration": 3,
    "start_time": "2024-07-14T07:17:07.784Z"
   },
   {
    "duration": 18,
    "start_time": "2024-07-14T07:17:09.283Z"
   },
   {
    "duration": 3,
    "start_time": "2024-07-14T07:17:22.293Z"
   },
   {
    "duration": 11,
    "start_time": "2024-07-14T07:17:23.748Z"
   },
   {
    "duration": 2,
    "start_time": "2024-07-14T07:17:57.336Z"
   },
   {
    "duration": 11,
    "start_time": "2024-07-14T07:17:59.197Z"
   },
   {
    "duration": 3,
    "start_time": "2024-07-14T07:18:04.502Z"
   },
   {
    "duration": 10,
    "start_time": "2024-07-14T07:18:05.214Z"
   },
   {
    "duration": 62,
    "start_time": "2024-07-14T07:21:09.681Z"
   },
   {
    "duration": 3,
    "start_time": "2024-07-14T07:23:18.723Z"
   },
   {
    "duration": 16,
    "start_time": "2024-07-14T07:23:21.034Z"
   },
   {
    "duration": 3,
    "start_time": "2024-07-14T07:23:44.789Z"
   },
   {
    "duration": 16,
    "start_time": "2024-07-14T07:23:46.672Z"
   },
   {
    "duration": 3,
    "start_time": "2024-07-14T07:25:30.468Z"
   },
   {
    "duration": 11,
    "start_time": "2024-07-14T07:25:31.293Z"
   },
   {
    "duration": 2,
    "start_time": "2024-07-14T07:25:50.405Z"
   },
   {
    "duration": 27,
    "start_time": "2024-07-14T07:25:51.331Z"
   },
   {
    "duration": 3,
    "start_time": "2024-07-14T07:26:05.917Z"
   },
   {
    "duration": 17,
    "start_time": "2024-07-14T07:26:06.725Z"
   },
   {
    "duration": 3,
    "start_time": "2024-07-14T07:27:07.348Z"
   },
   {
    "duration": 18,
    "start_time": "2024-07-14T07:27:09.493Z"
   },
   {
    "duration": 4,
    "start_time": "2024-07-14T07:30:01.184Z"
   },
   {
    "duration": 19,
    "start_time": "2024-07-14T07:30:02.711Z"
   },
   {
    "duration": 64,
    "start_time": "2024-07-14T07:35:43.508Z"
   },
   {
    "duration": 71,
    "start_time": "2024-07-14T07:36:46.853Z"
   },
   {
    "duration": 66,
    "start_time": "2024-07-14T07:38:00.974Z"
   },
   {
    "duration": 4,
    "start_time": "2024-07-14T07:38:31.422Z"
   },
   {
    "duration": 14,
    "start_time": "2024-07-14T07:38:32.662Z"
   },
   {
    "duration": 63,
    "start_time": "2024-07-14T07:38:53.399Z"
   },
   {
    "duration": 58,
    "start_time": "2024-07-14T07:40:33.984Z"
   },
   {
    "duration": 16,
    "start_time": "2024-07-14T07:40:36.088Z"
   },
   {
    "duration": 55,
    "start_time": "2024-07-14T07:40:51.056Z"
   },
   {
    "duration": 3,
    "start_time": "2024-07-14T07:41:29.751Z"
   },
   {
    "duration": 19,
    "start_time": "2024-07-14T07:41:31.577Z"
   },
   {
    "duration": 925,
    "start_time": "2024-07-14T07:43:51.496Z"
   },
   {
    "duration": 19,
    "start_time": "2024-07-14T07:43:52.423Z"
   },
   {
    "duration": 16,
    "start_time": "2024-07-14T07:43:52.444Z"
   },
   {
    "duration": 10,
    "start_time": "2024-07-14T07:43:52.461Z"
   },
   {
    "duration": 69,
    "start_time": "2024-07-14T07:43:52.473Z"
   },
   {
    "duration": 3,
    "start_time": "2024-07-14T07:43:52.544Z"
   },
   {
    "duration": 21,
    "start_time": "2024-07-14T07:43:52.549Z"
   },
   {
    "duration": 97,
    "start_time": "2024-07-14T07:43:52.572Z"
   },
   {
    "duration": 10,
    "start_time": "2024-07-14T07:43:52.671Z"
   },
   {
    "duration": 5,
    "start_time": "2024-07-14T07:43:52.683Z"
   },
   {
    "duration": 66,
    "start_time": "2024-07-14T07:43:52.690Z"
   },
   {
    "duration": 12,
    "start_time": "2024-07-14T07:43:52.758Z"
   },
   {
    "duration": 4,
    "start_time": "2024-07-14T07:43:52.771Z"
   },
   {
    "duration": 13,
    "start_time": "2024-07-14T07:43:52.777Z"
   },
   {
    "duration": 37,
    "start_time": "2024-07-14T07:43:52.792Z"
   },
   {
    "duration": 19,
    "start_time": "2024-07-14T07:43:52.830Z"
   },
   {
    "duration": 3,
    "start_time": "2024-07-14T07:43:52.851Z"
   },
   {
    "duration": 24,
    "start_time": "2024-07-14T07:43:52.856Z"
   },
   {
    "duration": 7,
    "start_time": "2024-07-14T07:43:52.881Z"
   },
   {
    "duration": 12,
    "start_time": "2024-07-14T07:43:52.906Z"
   },
   {
    "duration": 8,
    "start_time": "2024-07-14T07:43:52.921Z"
   },
   {
    "duration": 5,
    "start_time": "2024-07-14T07:43:52.931Z"
   },
   {
    "duration": 30,
    "start_time": "2024-07-14T07:43:52.937Z"
   },
   {
    "duration": 91,
    "start_time": "2024-07-14T07:43:52.969Z"
   },
   {
    "duration": 0,
    "start_time": "2024-07-14T07:43:53.062Z"
   },
   {
    "duration": 0,
    "start_time": "2024-07-14T07:43:53.063Z"
   },
   {
    "duration": 0,
    "start_time": "2024-07-14T07:43:53.064Z"
   },
   {
    "duration": 59,
    "start_time": "2024-07-14T07:46:49.004Z"
   },
   {
    "duration": 20,
    "start_time": "2024-07-14T07:50:37.199Z"
   },
   {
    "duration": 370,
    "start_time": "2024-07-14T08:03:31.416Z"
   },
   {
    "duration": 8,
    "start_time": "2024-07-14T08:04:10.452Z"
   },
   {
    "duration": 9,
    "start_time": "2024-07-14T08:04:15.353Z"
   },
   {
    "duration": 8,
    "start_time": "2024-07-14T08:04:21.504Z"
   },
   {
    "duration": 826,
    "start_time": "2024-07-14T08:05:33.658Z"
   },
   {
    "duration": 775,
    "start_time": "2024-07-14T08:06:35.545Z"
   },
   {
    "duration": 7,
    "start_time": "2024-07-14T08:06:46.913Z"
   },
   {
    "duration": 118,
    "start_time": "2024-07-14T08:07:06.299Z"
   },
   {
    "duration": 102,
    "start_time": "2024-07-14T08:07:51.995Z"
   },
   {
    "duration": 90,
    "start_time": "2024-07-14T08:08:37.324Z"
   },
   {
    "duration": 300,
    "start_time": "2024-07-14T08:10:46.878Z"
   },
   {
    "duration": 21,
    "start_time": "2024-07-14T08:11:45.063Z"
   },
   {
    "duration": 118,
    "start_time": "2024-07-14T08:17:00.531Z"
   },
   {
    "duration": 126,
    "start_time": "2024-07-14T08:17:40.083Z"
   },
   {
    "duration": 144,
    "start_time": "2024-07-14T08:19:55.932Z"
   },
   {
    "duration": 11,
    "start_time": "2024-07-14T08:23:05.968Z"
   },
   {
    "duration": 18,
    "start_time": "2024-07-14T08:23:22.320Z"
   },
   {
    "duration": 15,
    "start_time": "2024-07-14T08:23:38.695Z"
   },
   {
    "duration": 15,
    "start_time": "2024-07-14T08:23:56.065Z"
   },
   {
    "duration": 16,
    "start_time": "2024-07-14T08:24:33.489Z"
   },
   {
    "duration": 8,
    "start_time": "2024-07-14T08:26:56.627Z"
   },
   {
    "duration": 21,
    "start_time": "2024-07-14T08:27:05.186Z"
   },
   {
    "duration": 10,
    "start_time": "2024-07-14T08:30:57.622Z"
   },
   {
    "duration": 14,
    "start_time": "2024-07-14T08:31:36.694Z"
   },
   {
    "duration": 9,
    "start_time": "2024-07-14T08:31:42.119Z"
   },
   {
    "duration": 12,
    "start_time": "2024-07-14T08:31:51.709Z"
   },
   {
    "duration": 12,
    "start_time": "2024-07-14T08:31:56.950Z"
   },
   {
    "duration": 100,
    "start_time": "2024-07-14T08:32:56.423Z"
   },
   {
    "duration": 238,
    "start_time": "2024-07-14T08:34:32.888Z"
   },
   {
    "duration": 3,
    "start_time": "2024-07-14T08:35:17.978Z"
   },
   {
    "duration": 20,
    "start_time": "2024-07-14T08:35:59.168Z"
   },
   {
    "duration": 245,
    "start_time": "2024-07-14T08:36:16.955Z"
   },
   {
    "duration": 223,
    "start_time": "2024-07-14T08:36:34.086Z"
   },
   {
    "duration": 16,
    "start_time": "2024-07-14T08:44:58.603Z"
   },
   {
    "duration": 22,
    "start_time": "2024-07-14T08:46:15.715Z"
   },
   {
    "duration": 14,
    "start_time": "2024-07-14T08:47:01.044Z"
   },
   {
    "duration": 22,
    "start_time": "2024-07-14T08:49:18.821Z"
   },
   {
    "duration": 16,
    "start_time": "2024-07-14T08:49:57.670Z"
   },
   {
    "duration": 741,
    "start_time": "2024-07-14T08:50:01.722Z"
   },
   {
    "duration": 20,
    "start_time": "2024-07-14T08:50:02.465Z"
   },
   {
    "duration": 36,
    "start_time": "2024-07-14T08:50:02.486Z"
   },
   {
    "duration": 11,
    "start_time": "2024-07-14T08:50:02.524Z"
   },
   {
    "duration": 49,
    "start_time": "2024-07-14T08:50:02.537Z"
   },
   {
    "duration": 3,
    "start_time": "2024-07-14T08:50:02.588Z"
   },
   {
    "duration": 29,
    "start_time": "2024-07-14T08:50:02.592Z"
   },
   {
    "duration": 23,
    "start_time": "2024-07-14T08:50:02.623Z"
   },
   {
    "duration": 29,
    "start_time": "2024-07-14T08:50:02.647Z"
   },
   {
    "duration": 5,
    "start_time": "2024-07-14T08:50:02.678Z"
   },
   {
    "duration": 55,
    "start_time": "2024-07-14T08:50:02.685Z"
   },
   {
    "duration": 10,
    "start_time": "2024-07-14T08:50:02.742Z"
   },
   {
    "duration": 13,
    "start_time": "2024-07-14T08:50:02.753Z"
   },
   {
    "duration": 17,
    "start_time": "2024-07-14T08:50:02.768Z"
   },
   {
    "duration": 34,
    "start_time": "2024-07-14T08:50:02.787Z"
   },
   {
    "duration": 17,
    "start_time": "2024-07-14T08:50:02.822Z"
   },
   {
    "duration": 4,
    "start_time": "2024-07-14T08:50:02.840Z"
   },
   {
    "duration": 27,
    "start_time": "2024-07-14T08:50:02.846Z"
   },
   {
    "duration": 25,
    "start_time": "2024-07-14T08:50:02.875Z"
   },
   {
    "duration": 10,
    "start_time": "2024-07-14T08:50:02.902Z"
   },
   {
    "duration": 20,
    "start_time": "2024-07-14T08:50:02.913Z"
   },
   {
    "duration": 3,
    "start_time": "2024-07-14T08:50:02.935Z"
   },
   {
    "duration": 30,
    "start_time": "2024-07-14T08:50:02.939Z"
   },
   {
    "duration": 98,
    "start_time": "2024-07-14T08:50:02.971Z"
   },
   {
    "duration": 20,
    "start_time": "2024-07-14T08:50:03.070Z"
   },
   {
    "duration": 137,
    "start_time": "2024-07-14T08:50:03.091Z"
   },
   {
    "duration": 89,
    "start_time": "2024-07-14T08:50:03.229Z"
   },
   {
    "duration": 0,
    "start_time": "2024-07-14T08:50:03.319Z"
   },
   {
    "duration": 0,
    "start_time": "2024-07-14T08:50:03.320Z"
   },
   {
    "duration": 0,
    "start_time": "2024-07-14T08:50:03.321Z"
   },
   {
    "duration": 0,
    "start_time": "2024-07-14T08:50:03.322Z"
   },
   {
    "duration": 0,
    "start_time": "2024-07-14T08:50:03.323Z"
   },
   {
    "duration": 15,
    "start_time": "2024-07-14T08:50:28.903Z"
   },
   {
    "duration": 17,
    "start_time": "2024-07-14T08:50:44.702Z"
   },
   {
    "duration": 679,
    "start_time": "2024-07-14T08:50:50.836Z"
   },
   {
    "duration": 19,
    "start_time": "2024-07-14T08:50:51.517Z"
   },
   {
    "duration": 15,
    "start_time": "2024-07-14T08:50:51.537Z"
   },
   {
    "duration": 27,
    "start_time": "2024-07-14T08:50:51.554Z"
   },
   {
    "duration": 37,
    "start_time": "2024-07-14T08:50:51.582Z"
   },
   {
    "duration": 3,
    "start_time": "2024-07-14T08:50:51.621Z"
   },
   {
    "duration": 10,
    "start_time": "2024-07-14T08:50:51.625Z"
   },
   {
    "duration": 7,
    "start_time": "2024-07-14T08:50:51.636Z"
   },
   {
    "duration": 15,
    "start_time": "2024-07-14T08:50:51.645Z"
   },
   {
    "duration": 26,
    "start_time": "2024-07-14T08:50:51.662Z"
   },
   {
    "duration": 103,
    "start_time": "2024-07-14T08:50:51.689Z"
   },
   {
    "duration": 11,
    "start_time": "2024-07-14T08:50:51.794Z"
   },
   {
    "duration": 58,
    "start_time": "2024-07-14T08:50:51.806Z"
   },
   {
    "duration": 16,
    "start_time": "2024-07-14T08:50:51.866Z"
   },
   {
    "duration": 31,
    "start_time": "2024-07-14T08:50:51.884Z"
   },
   {
    "duration": 17,
    "start_time": "2024-07-14T08:50:51.916Z"
   },
   {
    "duration": 3,
    "start_time": "2024-07-14T08:50:51.934Z"
   },
   {
    "duration": 13,
    "start_time": "2024-07-14T08:50:51.939Z"
   },
   {
    "duration": 9,
    "start_time": "2024-07-14T08:50:51.953Z"
   },
   {
    "duration": 4,
    "start_time": "2024-07-14T08:50:51.963Z"
   },
   {
    "duration": 38,
    "start_time": "2024-07-14T08:50:51.968Z"
   },
   {
    "duration": 24,
    "start_time": "2024-07-14T08:50:52.007Z"
   },
   {
    "duration": 33,
    "start_time": "2024-07-14T08:50:52.032Z"
   },
   {
    "duration": 107,
    "start_time": "2024-07-14T08:50:52.066Z"
   },
   {
    "duration": 19,
    "start_time": "2024-07-14T08:50:52.174Z"
   },
   {
    "duration": 140,
    "start_time": "2024-07-14T08:50:52.195Z"
   },
   {
    "duration": 15,
    "start_time": "2024-07-14T08:50:52.337Z"
   },
   {
    "duration": 17,
    "start_time": "2024-07-14T08:50:52.356Z"
   },
   {
    "duration": 118,
    "start_time": "2024-07-14T08:50:52.374Z"
   },
   {
    "duration": 29,
    "start_time": "2024-07-14T08:50:52.494Z"
   },
   {
    "duration": 243,
    "start_time": "2024-07-14T08:50:52.524Z"
   },
   {
    "duration": 58,
    "start_time": "2024-07-14T08:50:52.769Z"
   },
   {
    "duration": 21,
    "start_time": "2024-07-14T08:51:03.614Z"
   },
   {
    "duration": 19,
    "start_time": "2024-07-14T08:54:49.136Z"
   },
   {
    "duration": 57,
    "start_time": "2024-07-14T09:04:20.497Z"
   },
   {
    "duration": 7,
    "start_time": "2024-07-14T09:12:10.512Z"
   },
   {
    "duration": 6,
    "start_time": "2024-07-14T09:12:47.128Z"
   },
   {
    "duration": 13,
    "start_time": "2024-07-14T09:12:55.409Z"
   },
   {
    "duration": 731,
    "start_time": "2024-07-14T09:13:07.807Z"
   },
   {
    "duration": 20,
    "start_time": "2024-07-14T09:13:08.540Z"
   },
   {
    "duration": 15,
    "start_time": "2024-07-14T09:13:08.563Z"
   },
   {
    "duration": 27,
    "start_time": "2024-07-14T09:13:08.580Z"
   },
   {
    "duration": 35,
    "start_time": "2024-07-14T09:13:08.608Z"
   },
   {
    "duration": 3,
    "start_time": "2024-07-14T09:13:08.645Z"
   },
   {
    "duration": 15,
    "start_time": "2024-07-14T09:13:08.649Z"
   },
   {
    "duration": 14,
    "start_time": "2024-07-14T09:13:08.665Z"
   },
   {
    "duration": 37,
    "start_time": "2024-07-14T09:13:08.681Z"
   },
   {
    "duration": 15,
    "start_time": "2024-07-14T09:13:08.720Z"
   },
   {
    "duration": 37,
    "start_time": "2024-07-14T09:13:08.736Z"
   },
   {
    "duration": 11,
    "start_time": "2024-07-14T09:13:08.774Z"
   },
   {
    "duration": 4,
    "start_time": "2024-07-14T09:13:08.787Z"
   },
   {
    "duration": 16,
    "start_time": "2024-07-14T09:13:08.792Z"
   },
   {
    "duration": 22,
    "start_time": "2024-07-14T09:13:08.810Z"
   },
   {
    "duration": 23,
    "start_time": "2024-07-14T09:13:08.834Z"
   },
   {
    "duration": 4,
    "start_time": "2024-07-14T09:13:08.859Z"
   },
   {
    "duration": 12,
    "start_time": "2024-07-14T09:13:08.864Z"
   },
   {
    "duration": 28,
    "start_time": "2024-07-14T09:13:08.878Z"
   },
   {
    "duration": 4,
    "start_time": "2024-07-14T09:13:08.907Z"
   },
   {
    "duration": 10,
    "start_time": "2024-07-14T09:13:08.912Z"
   },
   {
    "duration": 4,
    "start_time": "2024-07-14T09:13:08.924Z"
   },
   {
    "duration": 27,
    "start_time": "2024-07-14T09:13:08.929Z"
   },
   {
    "duration": 117,
    "start_time": "2024-07-14T09:13:08.958Z"
   },
   {
    "duration": 30,
    "start_time": "2024-07-14T09:13:09.077Z"
   },
   {
    "duration": 135,
    "start_time": "2024-07-14T09:13:09.109Z"
   },
   {
    "duration": 14,
    "start_time": "2024-07-14T09:13:09.246Z"
   },
   {
    "duration": 18,
    "start_time": "2024-07-14T09:13:09.262Z"
   },
   {
    "duration": 129,
    "start_time": "2024-07-14T09:13:09.282Z"
   },
   {
    "duration": 19,
    "start_time": "2024-07-14T09:13:09.412Z"
   },
   {
    "duration": 263,
    "start_time": "2024-07-14T09:13:09.433Z"
   },
   {
    "duration": 32,
    "start_time": "2024-07-14T09:13:09.698Z"
   },
   {
    "duration": 5,
    "start_time": "2024-07-14T09:13:09.732Z"
   },
   {
    "duration": 59,
    "start_time": "2024-07-14T09:13:09.739Z"
   },
   {
    "duration": 128,
    "start_time": "2024-07-14T09:14:02.026Z"
   },
   {
    "duration": 4,
    "start_time": "2024-07-14T09:14:40.650Z"
   },
   {
    "duration": 5,
    "start_time": "2024-07-14T09:14:50.762Z"
   },
   {
    "duration": 81,
    "start_time": "2024-07-14T09:16:05.676Z"
   },
   {
    "duration": 712,
    "start_time": "2024-07-14T09:18:14.356Z"
   },
   {
    "duration": 19,
    "start_time": "2024-07-14T09:18:15.070Z"
   },
   {
    "duration": 41,
    "start_time": "2024-07-14T09:18:15.091Z"
   },
   {
    "duration": 20,
    "start_time": "2024-07-14T09:18:15.134Z"
   },
   {
    "duration": 54,
    "start_time": "2024-07-14T09:18:15.155Z"
   },
   {
    "duration": 11,
    "start_time": "2024-07-14T09:18:15.210Z"
   },
   {
    "duration": 48,
    "start_time": "2024-07-14T09:18:15.222Z"
   },
   {
    "duration": 32,
    "start_time": "2024-07-14T09:18:15.271Z"
   },
   {
    "duration": 33,
    "start_time": "2024-07-14T09:18:15.305Z"
   },
   {
    "duration": 13,
    "start_time": "2024-07-14T09:18:15.341Z"
   },
   {
    "duration": 40,
    "start_time": "2024-07-14T09:18:15.356Z"
   },
   {
    "duration": 10,
    "start_time": "2024-07-14T09:18:15.398Z"
   },
   {
    "duration": 63,
    "start_time": "2024-07-14T09:18:15.410Z"
   },
   {
    "duration": 29,
    "start_time": "2024-07-14T09:18:15.475Z"
   },
   {
    "duration": 35,
    "start_time": "2024-07-14T09:18:15.506Z"
   },
   {
    "duration": 17,
    "start_time": "2024-07-14T09:18:15.543Z"
   },
   {
    "duration": 3,
    "start_time": "2024-07-14T09:18:15.562Z"
   },
   {
    "duration": 12,
    "start_time": "2024-07-14T09:18:15.567Z"
   },
   {
    "duration": 14,
    "start_time": "2024-07-14T09:18:15.580Z"
   },
   {
    "duration": 6,
    "start_time": "2024-07-14T09:18:15.596Z"
   },
   {
    "duration": 11,
    "start_time": "2024-07-14T09:18:15.605Z"
   },
   {
    "duration": 6,
    "start_time": "2024-07-14T09:18:15.617Z"
   },
   {
    "duration": 27,
    "start_time": "2024-07-14T09:18:15.624Z"
   },
   {
    "duration": 113,
    "start_time": "2024-07-14T09:18:15.652Z"
   },
   {
    "duration": 19,
    "start_time": "2024-07-14T09:18:15.766Z"
   },
   {
    "duration": 158,
    "start_time": "2024-07-14T09:18:15.786Z"
   },
   {
    "duration": 17,
    "start_time": "2024-07-14T09:18:15.945Z"
   },
   {
    "duration": 80,
    "start_time": "2024-07-14T09:18:15.965Z"
   },
   {
    "duration": 134,
    "start_time": "2024-07-14T09:18:16.047Z"
   },
   {
    "duration": 26,
    "start_time": "2024-07-14T09:18:16.183Z"
   },
   {
    "duration": 278,
    "start_time": "2024-07-14T09:18:16.211Z"
   },
   {
    "duration": 30,
    "start_time": "2024-07-14T09:18:16.491Z"
   },
   {
    "duration": 79,
    "start_time": "2024-07-14T09:18:16.523Z"
   },
   {
    "duration": 69,
    "start_time": "2024-07-14T09:19:31.336Z"
   },
   {
    "duration": 58,
    "start_time": "2024-07-14T09:23:39.032Z"
   },
   {
    "duration": 755,
    "start_time": "2024-07-14T09:52:44.376Z"
   },
   {
    "duration": 23,
    "start_time": "2024-07-14T09:52:45.134Z"
   },
   {
    "duration": 16,
    "start_time": "2024-07-14T09:52:45.159Z"
   },
   {
    "duration": 37,
    "start_time": "2024-07-14T09:52:45.177Z"
   },
   {
    "duration": 54,
    "start_time": "2024-07-14T09:52:45.216Z"
   },
   {
    "duration": 29,
    "start_time": "2024-07-14T09:52:45.271Z"
   },
   {
    "duration": 44,
    "start_time": "2024-07-14T09:52:45.302Z"
   },
   {
    "duration": 8,
    "start_time": "2024-07-14T09:52:45.348Z"
   },
   {
    "duration": 27,
    "start_time": "2024-07-14T09:52:45.358Z"
   },
   {
    "duration": 8,
    "start_time": "2024-07-14T09:52:45.387Z"
   },
   {
    "duration": 35,
    "start_time": "2024-07-14T09:52:45.396Z"
   },
   {
    "duration": 10,
    "start_time": "2024-07-14T09:52:45.433Z"
   },
   {
    "duration": 5,
    "start_time": "2024-07-14T09:52:45.444Z"
   },
   {
    "duration": 11,
    "start_time": "2024-07-14T09:52:45.452Z"
   },
   {
    "duration": 20,
    "start_time": "2024-07-14T09:52:45.464Z"
   },
   {
    "duration": 34,
    "start_time": "2024-07-14T09:52:45.485Z"
   },
   {
    "duration": 62,
    "start_time": "2024-07-14T09:52:45.521Z"
   },
   {
    "duration": 21,
    "start_time": "2024-07-14T09:52:45.584Z"
   },
   {
    "duration": 12,
    "start_time": "2024-07-14T09:52:45.607Z"
   },
   {
    "duration": 17,
    "start_time": "2024-07-14T09:52:45.621Z"
   },
   {
    "duration": 18,
    "start_time": "2024-07-14T09:52:45.639Z"
   },
   {
    "duration": 5,
    "start_time": "2024-07-14T09:52:45.659Z"
   },
   {
    "duration": 30,
    "start_time": "2024-07-14T09:52:45.666Z"
   },
   {
    "duration": 89,
    "start_time": "2024-07-14T09:52:45.697Z"
   },
   {
    "duration": 19,
    "start_time": "2024-07-14T09:52:45.788Z"
   },
   {
    "duration": 129,
    "start_time": "2024-07-14T09:52:45.809Z"
   },
   {
    "duration": 16,
    "start_time": "2024-07-14T09:52:45.939Z"
   },
   {
    "duration": 19,
    "start_time": "2024-07-14T09:52:45.957Z"
   },
   {
    "duration": 159,
    "start_time": "2024-07-14T09:52:45.977Z"
   },
   {
    "duration": 19,
    "start_time": "2024-07-14T09:52:46.138Z"
   },
   {
    "duration": 266,
    "start_time": "2024-07-14T09:52:46.158Z"
   },
   {
    "duration": 22,
    "start_time": "2024-07-14T09:52:46.426Z"
   },
   {
    "duration": 81,
    "start_time": "2024-07-14T09:52:46.449Z"
   },
   {
    "duration": 59,
    "start_time": "2024-07-14T09:54:14.250Z"
   },
   {
    "duration": 1004,
    "start_time": "2024-07-14T11:10:45.123Z"
   },
   {
    "duration": 19,
    "start_time": "2024-07-14T11:10:46.129Z"
   },
   {
    "duration": 16,
    "start_time": "2024-07-14T11:10:46.149Z"
   },
   {
    "duration": 10,
    "start_time": "2024-07-14T11:10:46.167Z"
   },
   {
    "duration": 36,
    "start_time": "2024-07-14T11:10:46.178Z"
   },
   {
    "duration": 4,
    "start_time": "2024-07-14T11:10:46.237Z"
   },
   {
    "duration": 15,
    "start_time": "2024-07-14T11:10:46.242Z"
   },
   {
    "duration": 4,
    "start_time": "2024-07-14T11:10:46.258Z"
   },
   {
    "duration": 6,
    "start_time": "2024-07-14T11:10:46.263Z"
   },
   {
    "duration": 4,
    "start_time": "2024-07-14T11:10:46.271Z"
   },
   {
    "duration": 61,
    "start_time": "2024-07-14T11:10:46.276Z"
   },
   {
    "duration": 9,
    "start_time": "2024-07-14T11:10:46.339Z"
   },
   {
    "duration": 3,
    "start_time": "2024-07-14T11:10:46.350Z"
   },
   {
    "duration": 36,
    "start_time": "2024-07-14T11:10:46.354Z"
   },
   {
    "duration": 19,
    "start_time": "2024-07-14T11:10:46.392Z"
   },
   {
    "duration": 25,
    "start_time": "2024-07-14T11:10:46.413Z"
   },
   {
    "duration": 4,
    "start_time": "2024-07-14T11:10:46.439Z"
   },
   {
    "duration": 16,
    "start_time": "2024-07-14T11:10:46.445Z"
   },
   {
    "duration": 6,
    "start_time": "2024-07-14T11:10:46.463Z"
   },
   {
    "duration": 4,
    "start_time": "2024-07-14T11:10:46.471Z"
   },
   {
    "duration": 12,
    "start_time": "2024-07-14T11:10:46.476Z"
   },
   {
    "duration": 3,
    "start_time": "2024-07-14T11:10:46.490Z"
   },
   {
    "duration": 47,
    "start_time": "2024-07-14T11:10:46.494Z"
   },
   {
    "duration": 102,
    "start_time": "2024-07-14T11:10:46.542Z"
   },
   {
    "duration": 19,
    "start_time": "2024-07-14T11:10:46.646Z"
   },
   {
    "duration": 136,
    "start_time": "2024-07-14T11:10:46.666Z"
   },
   {
    "duration": 14,
    "start_time": "2024-07-14T11:10:46.804Z"
   },
   {
    "duration": 31,
    "start_time": "2024-07-14T11:10:46.820Z"
   },
   {
    "duration": 108,
    "start_time": "2024-07-14T11:10:46.852Z"
   },
   {
    "duration": 19,
    "start_time": "2024-07-14T11:10:46.962Z"
   },
   {
    "duration": 257,
    "start_time": "2024-07-14T11:10:46.983Z"
   },
   {
    "duration": 20,
    "start_time": "2024-07-14T11:10:47.242Z"
   },
   {
    "duration": 72,
    "start_time": "2024-07-14T11:10:47.264Z"
   },
   {
    "duration": 184,
    "start_time": "2024-07-14T12:56:43.303Z"
   },
   {
    "duration": 18,
    "start_time": "2024-07-14T12:56:43.488Z"
   },
   {
    "duration": 86,
    "start_time": "2024-07-14T12:56:43.508Z"
   },
   {
    "duration": 12,
    "start_time": "2024-07-14T12:56:43.596Z"
   },
   {
    "duration": 96,
    "start_time": "2024-07-14T12:56:43.610Z"
   },
   {
    "duration": 3,
    "start_time": "2024-07-14T12:56:43.708Z"
   },
   {
    "duration": 72,
    "start_time": "2024-07-14T12:56:43.713Z"
   },
   {
    "duration": 5,
    "start_time": "2024-07-14T12:56:43.786Z"
   },
   {
    "duration": 6,
    "start_time": "2024-07-14T12:56:43.792Z"
   },
   {
    "duration": 5,
    "start_time": "2024-07-14T12:56:43.800Z"
   },
   {
    "duration": 43,
    "start_time": "2024-07-14T12:56:43.807Z"
   },
   {
    "duration": 35,
    "start_time": "2024-07-14T12:56:43.852Z"
   },
   {
    "duration": 8,
    "start_time": "2024-07-14T12:56:43.889Z"
   },
   {
    "duration": 36,
    "start_time": "2024-07-14T12:56:43.899Z"
   },
   {
    "duration": 128,
    "start_time": "2024-07-14T12:56:43.937Z"
   },
   {
    "duration": 23,
    "start_time": "2024-07-14T12:56:44.067Z"
   },
   {
    "duration": 3,
    "start_time": "2024-07-14T12:56:44.092Z"
   },
   {
    "duration": 11,
    "start_time": "2024-07-14T12:56:44.097Z"
   },
   {
    "duration": 5,
    "start_time": "2024-07-14T12:56:44.110Z"
   },
   {
    "duration": 3,
    "start_time": "2024-07-14T12:56:44.117Z"
   },
   {
    "duration": 11,
    "start_time": "2024-07-14T12:56:44.121Z"
   },
   {
    "duration": 6,
    "start_time": "2024-07-14T12:56:44.133Z"
   },
   {
    "duration": 47,
    "start_time": "2024-07-14T12:56:44.141Z"
   },
   {
    "duration": 98,
    "start_time": "2024-07-14T12:56:44.190Z"
   },
   {
    "duration": 20,
    "start_time": "2024-07-14T12:56:44.290Z"
   },
   {
    "duration": 141,
    "start_time": "2024-07-14T12:56:44.312Z"
   },
   {
    "duration": 15,
    "start_time": "2024-07-14T12:56:44.455Z"
   },
   {
    "duration": 19,
    "start_time": "2024-07-14T12:56:44.482Z"
   },
   {
    "duration": 116,
    "start_time": "2024-07-14T12:56:44.503Z"
   },
   {
    "duration": 20,
    "start_time": "2024-07-14T12:56:44.621Z"
   },
   {
    "duration": 269,
    "start_time": "2024-07-14T12:56:44.643Z"
   },
   {
    "duration": 20,
    "start_time": "2024-07-14T12:56:44.913Z"
   },
   {
    "duration": 79,
    "start_time": "2024-07-14T12:56:44.935Z"
   },
   {
    "duration": 762,
    "start_time": "2024-07-14T13:56:27.458Z"
   },
   {
    "duration": 21,
    "start_time": "2024-07-14T13:56:28.222Z"
   },
   {
    "duration": 37,
    "start_time": "2024-07-14T13:56:28.245Z"
   },
   {
    "duration": 25,
    "start_time": "2024-07-14T13:56:28.284Z"
   },
   {
    "duration": 37,
    "start_time": "2024-07-14T13:56:28.311Z"
   },
   {
    "duration": 4,
    "start_time": "2024-07-14T13:56:28.350Z"
   },
   {
    "duration": 13,
    "start_time": "2024-07-14T13:56:28.356Z"
   },
   {
    "duration": 13,
    "start_time": "2024-07-14T13:56:28.371Z"
   },
   {
    "duration": 13,
    "start_time": "2024-07-14T13:56:28.385Z"
   },
   {
    "duration": 6,
    "start_time": "2024-07-14T13:56:28.401Z"
   },
   {
    "duration": 66,
    "start_time": "2024-07-14T13:56:28.409Z"
   },
   {
    "duration": 29,
    "start_time": "2024-07-14T13:56:28.476Z"
   },
   {
    "duration": 8,
    "start_time": "2024-07-14T13:56:28.507Z"
   },
   {
    "duration": 24,
    "start_time": "2024-07-14T13:56:28.516Z"
   },
   {
    "duration": 28,
    "start_time": "2024-07-14T13:56:28.542Z"
   },
   {
    "duration": 17,
    "start_time": "2024-07-14T13:56:28.572Z"
   },
   {
    "duration": 3,
    "start_time": "2024-07-14T13:56:28.591Z"
   },
   {
    "duration": 12,
    "start_time": "2024-07-14T13:56:28.596Z"
   },
   {
    "duration": 8,
    "start_time": "2024-07-14T13:56:28.610Z"
   },
   {
    "duration": 3,
    "start_time": "2024-07-14T13:56:28.619Z"
   },
   {
    "duration": 8,
    "start_time": "2024-07-14T13:56:28.624Z"
   },
   {
    "duration": 3,
    "start_time": "2024-07-14T13:56:28.634Z"
   },
   {
    "duration": 59,
    "start_time": "2024-07-14T13:56:28.639Z"
   },
   {
    "duration": 111,
    "start_time": "2024-07-14T13:56:28.700Z"
   },
   {
    "duration": 21,
    "start_time": "2024-07-14T13:56:28.812Z"
   },
   {
    "duration": 147,
    "start_time": "2024-07-14T13:56:28.835Z"
   },
   {
    "duration": 16,
    "start_time": "2024-07-14T13:56:28.984Z"
   },
   {
    "duration": 19,
    "start_time": "2024-07-14T13:56:29.002Z"
   },
   {
    "duration": 147,
    "start_time": "2024-07-14T13:56:29.023Z"
   },
   {
    "duration": 27,
    "start_time": "2024-07-14T13:56:29.171Z"
   },
   {
    "duration": 256,
    "start_time": "2024-07-14T13:56:29.200Z"
   },
   {
    "duration": 28,
    "start_time": "2024-07-14T13:56:29.458Z"
   },
   {
    "duration": 77,
    "start_time": "2024-07-14T13:56:29.488Z"
   },
   {
    "duration": 3072,
    "start_time": "2024-07-14T14:19:14.313Z"
   },
   {
    "duration": 938,
    "start_time": "2024-07-15T17:00:20.272Z"
   },
   {
    "duration": 21,
    "start_time": "2024-07-15T17:00:21.212Z"
   },
   {
    "duration": 36,
    "start_time": "2024-07-15T17:00:21.234Z"
   },
   {
    "duration": 10,
    "start_time": "2024-07-15T17:00:21.272Z"
   },
   {
    "duration": 33,
    "start_time": "2024-07-15T17:00:21.284Z"
   },
   {
    "duration": 3,
    "start_time": "2024-07-15T17:00:21.318Z"
   },
   {
    "duration": 8,
    "start_time": "2024-07-15T17:00:21.323Z"
   },
   {
    "duration": 28,
    "start_time": "2024-07-15T17:00:21.333Z"
   },
   {
    "duration": 7,
    "start_time": "2024-07-15T17:00:21.362Z"
   },
   {
    "duration": 4,
    "start_time": "2024-07-15T17:00:21.371Z"
   },
   {
    "duration": 58,
    "start_time": "2024-07-15T17:00:21.376Z"
   },
   {
    "duration": 10,
    "start_time": "2024-07-15T17:00:21.435Z"
   },
   {
    "duration": 4,
    "start_time": "2024-07-15T17:00:21.446Z"
   },
   {
    "duration": 17,
    "start_time": "2024-07-15T17:00:21.451Z"
   },
   {
    "duration": 17,
    "start_time": "2024-07-15T17:00:21.470Z"
   },
   {
    "duration": 16,
    "start_time": "2024-07-15T17:00:21.489Z"
   },
   {
    "duration": 3,
    "start_time": "2024-07-15T17:00:21.506Z"
   },
   {
    "duration": 11,
    "start_time": "2024-07-15T17:00:21.511Z"
   },
   {
    "duration": 5,
    "start_time": "2024-07-15T17:00:21.523Z"
   },
   {
    "duration": 31,
    "start_time": "2024-07-15T17:00:21.529Z"
   },
   {
    "duration": 9,
    "start_time": "2024-07-15T17:00:21.562Z"
   },
   {
    "duration": 4,
    "start_time": "2024-07-15T17:00:21.572Z"
   },
   {
    "duration": 545,
    "start_time": "2024-07-15T17:00:21.577Z"
   },
   {
    "duration": 45,
    "start_time": "2024-07-15T17:00:22.124Z"
   },
   {
    "duration": 152,
    "start_time": "2024-07-15T17:00:22.171Z"
   },
   {
    "duration": 47,
    "start_time": "2024-07-15T17:00:22.325Z"
   },
   {
    "duration": 142,
    "start_time": "2024-07-15T17:00:22.374Z"
   },
   {
    "duration": 15,
    "start_time": "2024-07-15T17:00:22.519Z"
   },
   {
    "duration": 36,
    "start_time": "2024-07-15T17:00:22.535Z"
   },
   {
    "duration": 109,
    "start_time": "2024-07-15T17:00:22.573Z"
   },
   {
    "duration": 23,
    "start_time": "2024-07-15T17:00:22.683Z"
   },
   {
    "duration": 259,
    "start_time": "2024-07-15T17:00:22.708Z"
   },
   {
    "duration": 19,
    "start_time": "2024-07-15T17:00:22.969Z"
   },
   {
    "duration": 89,
    "start_time": "2024-07-15T17:00:22.990Z"
   }
  ],
  "colab": {
   "name": "dpp_template_part2.ipynb",
   "provenance": []
  },
  "kernelspec": {
   "display_name": "Python 3 (ipykernel)",
   "language": "python",
   "name": "python3"
  },
  "language_info": {
   "codemirror_mode": {
    "name": "ipython",
    "version": 3
   },
   "file_extension": ".py",
   "mimetype": "text/x-python",
   "name": "python",
   "nbconvert_exporter": "python",
   "pygments_lexer": "ipython3",
   "version": "3.9.5"
  },
  "toc": {
   "base_numbering": 1,
   "nav_menu": {},
   "number_sections": true,
   "sideBar": true,
   "skip_h1_title": true,
   "title_cell": "Table of Contents",
   "title_sidebar": "Contents",
   "toc_cell": false,
   "toc_position": {},
   "toc_section_display": true,
   "toc_window_display": false
  }
 },
 "nbformat": 4,
 "nbformat_minor": 5
}
