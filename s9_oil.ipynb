{
 "cells": [
  {
   "cell_type": "markdown",
   "metadata": {},
   "source": [
    "# Выбор локации для скважины"
   ]
  },
  {
   "cell_type": "markdown",
   "metadata": {},
   "source": [
    "<a id='section_id'></a>\n",
    "## Содержание \n",
    "[1. Загрузка и подготовка данных](#section_id1)\n",
    "\n",
    "[2. Обучение модели](#section_id2)\n",
    "\n",
    "[____2.1. Создание обучающих и валидационных выборок](#section_id3)\n",
    "\n",
    "[____2.2. Обучение модели, получение предсказаний](#section_id4)\n",
    "\n",
    "[____2.3. Сохранение предсказаний и правильных ответов в валидационной выборке](#section_id5)\n",
    "\n",
    "[____2.4. Средний запас сырья и RMSE модели](#section_id6)\n",
    "\n",
    "[____2.5. Анализ результатов](#section_id7)\n",
    "\n",
    "[3. Подготовка расчёта прибыли](#section_id8)\n",
    "\n",
    "[____3.1. Сохранение ключевых значений для расчёта](#section_id9)\n",
    "\n",
    "[____3.2. Расчёт объема сырья для безубыточной разработки. Сравнение со средним запасом в регионе](#section_id10)\n",
    "\n",
    "[____3.3. Выводы по этапу подготовки расчёта прибыли](#section_id11)\n",
    "    \n",
    "[4. Определение функции для расчёта прибыли](#section_id12)\n",
    "\n",
    "[____4.1. Выбор скважин с максимальными значениями предсказаний](#section_id13)\n",
    "\n",
    "[____4.2. Суммирование целевого значения объема сырья](#section_id14)\n",
    "\n",
    "[____4.3. Расчёт прибыли от полученного сырья](#section_id15)\n",
    "\n",
    "[5. Расчёт рисков и прибыли для каждого региона](#section_id16)\n",
    "\n",
    "[____5.1. Применение Bootstrap, поиск распределения прибыли](#section_id17)\n",
    "\n",
    "[____5.2. Определение средней прибыли, 95% доверительного интервала и риска убытков](#section_id18)\n",
    "\n",
    "[____5.3. Выводы. Предложение и обоснование выбора региона для разработки скважин](#section_id19)"
   ]
  },
  {
   "cell_type": "markdown",
   "metadata": {},
   "source": [
    "## Описание исследования\n",
    "\n",
    "Условной нефтедобывающей компании «ГлавРосГосНефть» нужно решить, где бурить новую скважину. \n",
    "Шаги для выбора локации обычно такие:\n",
    "- В избранном регионе собирают характеристики для скважин: качество нефти и объём её запасов;\n",
    "- Строят модель для предсказания объёма запасов в новых скважинах;\n",
    "- Выбирают скважины с самыми высокими оценками значений;\n",
    "- Определяют регион с максимальной суммарной прибылью отобранных скважин.\n",
    "\n",
    "Предоставлены пробы нефти в трёх регионах. Характеристики для каждой скважины в регионе уже известны. Необходимо построить модель для определения региона, где добыча принесёт наибольшую прибыль. Проанализировать возможную прибыль и риски техникой Bootstrap."
   ]
  },
  {
   "cell_type": "markdown",
   "metadata": {},
   "source": [
    "## Цель исследования\n",
    "\n",
    "Определить экономическую целесообразность разработки месторождения на основе предсказаний модели машинного обучения"
   ]
  },
  {
   "cell_type": "markdown",
   "metadata": {},
   "source": [
    "## Ход исследования\n",
    "\n",
    "1. Разработать модель машинного обучения\n",
    "2. Расчитать объем сырья\n",
    "3. Расчитать прибыль\n",
    "4. Расчитать риски"
   ]
  },
  {
   "cell_type": "code",
   "execution_count": null,
   "metadata": {},
   "outputs": [],
   "source": [
    "# установка библиотек\n",
    "!pip install phik -q"
   ]
  },
  {
   "cell_type": "code",
   "execution_count": 1,
   "metadata": {},
   "outputs": [],
   "source": [
    "# импорт библиотек для работы с данными\n",
    "import pandas as pd\n",
    "import numpy as np\n",
    "from numpy.random import RandomState\n",
    "\n",
    "# импорт библиотек для подготовки и обработки данных\n",
    "from sklearn.model_selection import train_test_split\n",
    "from sklearn.pipeline import Pipeline\n",
    "from sklearn.preprocessing import StandardScaler, MinMaxScaler\n",
    "from sklearn.compose import ColumnTransformer\n",
    "from phik.report import plot_correlation_matrix\n",
    "from phik import phik_matrix\n",
    "\n",
    "# импорт моделей машинного обучения\n",
    "from sklearn.linear_model import LinearRegression\n",
    "\n",
    "# импорт метрик\n",
    "from sklearn.metrics import mean_squared_error\n",
    "\n",
    "# импорт инструментов управления ресурсами\n",
    "import joblib\n",
    "import time\n",
    "\n",
    "# импорт инструментов поиска\n",
    "from sklearn.model_selection import GridSearchCV\n",
    "\n",
    "# импорт графических библиотек\n",
    "from plotly.subplots import make_subplots\n",
    "import plotly.graph_objects as go"
   ]
  },
  {
   "cell_type": "code",
   "execution_count": 2,
   "metadata": {},
   "outputs": [],
   "source": [
    "# инициализация констант\n",
    "RANDOM_STATE = 42\n",
    "TEST_SIZE = 0.25\n",
    "STATE = RandomState(12345) "
   ]
  },
  {
   "cell_type": "markdown",
   "metadata": {},
   "source": [
    "<a id='section_id1'></a>\n",
    "## 1. Загрузка и подготовка данных\n",
    "[к содержанию](#section_id)"
   ]
  },
  {
   "cell_type": "markdown",
   "metadata": {},
   "source": [
    "#### Загрузка данных"
   ]
  },
  {
   "cell_type": "code",
   "execution_count": 3,
   "metadata": {},
   "outputs": [],
   "source": [
    "# загрузка данных для 1ого региона\n",
    "geo1 = pd.read_csv('geo_data_0.csv', index_col='id')"
   ]
  },
  {
   "cell_type": "code",
   "execution_count": 4,
   "metadata": {},
   "outputs": [],
   "source": [
    "# загрузка данных для 2ого региона\n",
    "geo2 = pd.read_csv('geo_data_1.csv', index_col='id')"
   ]
  },
  {
   "cell_type": "code",
   "execution_count": 5,
   "metadata": {},
   "outputs": [],
   "source": [
    "# загрузка данных для 3его региона\n",
    "geo3 = pd.read_csv('geo_data_2.csv', index_col='id')"
   ]
  },
  {
   "cell_type": "markdown",
   "metadata": {},
   "source": [
    "#### Обзор"
   ]
  },
  {
   "cell_type": "code",
   "execution_count": 6,
   "metadata": {},
   "outputs": [],
   "source": [
    "# функция для обзора данных\n",
    "def preview(dataset):\n",
    "    '''Функция принимает на вход набор данных и выводит основную информацию о нем.'''\n",
    "    display(dataset.head())\n",
    "    dataset.info()\n",
    "    display(dataset.describe(include='all').T)"
   ]
  },
  {
   "cell_type": "code",
   "execution_count": 7,
   "metadata": {},
   "outputs": [
    {
     "data": {
      "text/html": [
       "<div>\n",
       "<style scoped>\n",
       "    .dataframe tbody tr th:only-of-type {\n",
       "        vertical-align: middle;\n",
       "    }\n",
       "\n",
       "    .dataframe tbody tr th {\n",
       "        vertical-align: top;\n",
       "    }\n",
       "\n",
       "    .dataframe thead th {\n",
       "        text-align: right;\n",
       "    }\n",
       "</style>\n",
       "<table border=\"1\" class=\"dataframe\">\n",
       "  <thead>\n",
       "    <tr style=\"text-align: right;\">\n",
       "      <th></th>\n",
       "      <th>f0</th>\n",
       "      <th>f1</th>\n",
       "      <th>f2</th>\n",
       "      <th>product</th>\n",
       "    </tr>\n",
       "    <tr>\n",
       "      <th>id</th>\n",
       "      <th></th>\n",
       "      <th></th>\n",
       "      <th></th>\n",
       "      <th></th>\n",
       "    </tr>\n",
       "  </thead>\n",
       "  <tbody>\n",
       "    <tr>\n",
       "      <th>txEyH</th>\n",
       "      <td>0.705745</td>\n",
       "      <td>-0.497823</td>\n",
       "      <td>1.221170</td>\n",
       "      <td>105.280062</td>\n",
       "    </tr>\n",
       "    <tr>\n",
       "      <th>2acmU</th>\n",
       "      <td>1.334711</td>\n",
       "      <td>-0.340164</td>\n",
       "      <td>4.365080</td>\n",
       "      <td>73.037750</td>\n",
       "    </tr>\n",
       "    <tr>\n",
       "      <th>409Wp</th>\n",
       "      <td>1.022732</td>\n",
       "      <td>0.151990</td>\n",
       "      <td>1.419926</td>\n",
       "      <td>85.265647</td>\n",
       "    </tr>\n",
       "    <tr>\n",
       "      <th>iJLyR</th>\n",
       "      <td>-0.032172</td>\n",
       "      <td>0.139033</td>\n",
       "      <td>2.978566</td>\n",
       "      <td>168.620776</td>\n",
       "    </tr>\n",
       "    <tr>\n",
       "      <th>Xdl7t</th>\n",
       "      <td>1.988431</td>\n",
       "      <td>0.155413</td>\n",
       "      <td>4.751769</td>\n",
       "      <td>154.036647</td>\n",
       "    </tr>\n",
       "  </tbody>\n",
       "</table>\n",
       "</div>"
      ],
      "text/plain": [
       "             f0        f1        f2     product\n",
       "id                                             \n",
       "txEyH  0.705745 -0.497823  1.221170  105.280062\n",
       "2acmU  1.334711 -0.340164  4.365080   73.037750\n",
       "409Wp  1.022732  0.151990  1.419926   85.265647\n",
       "iJLyR -0.032172  0.139033  2.978566  168.620776\n",
       "Xdl7t  1.988431  0.155413  4.751769  154.036647"
      ]
     },
     "metadata": {},
     "output_type": "display_data"
    },
    {
     "name": "stdout",
     "output_type": "stream",
     "text": [
      "<class 'pandas.core.frame.DataFrame'>\n",
      "Index: 100000 entries, txEyH to 1CWhH\n",
      "Data columns (total 4 columns):\n",
      " #   Column   Non-Null Count   Dtype  \n",
      "---  ------   --------------   -----  \n",
      " 0   f0       100000 non-null  float64\n",
      " 1   f1       100000 non-null  float64\n",
      " 2   f2       100000 non-null  float64\n",
      " 3   product  100000 non-null  float64\n",
      "dtypes: float64(4)\n",
      "memory usage: 3.8+ MB\n"
     ]
    },
    {
     "data": {
      "text/html": [
       "<div>\n",
       "<style scoped>\n",
       "    .dataframe tbody tr th:only-of-type {\n",
       "        vertical-align: middle;\n",
       "    }\n",
       "\n",
       "    .dataframe tbody tr th {\n",
       "        vertical-align: top;\n",
       "    }\n",
       "\n",
       "    .dataframe thead th {\n",
       "        text-align: right;\n",
       "    }\n",
       "</style>\n",
       "<table border=\"1\" class=\"dataframe\">\n",
       "  <thead>\n",
       "    <tr style=\"text-align: right;\">\n",
       "      <th></th>\n",
       "      <th>count</th>\n",
       "      <th>mean</th>\n",
       "      <th>std</th>\n",
       "      <th>min</th>\n",
       "      <th>25%</th>\n",
       "      <th>50%</th>\n",
       "      <th>75%</th>\n",
       "      <th>max</th>\n",
       "    </tr>\n",
       "  </thead>\n",
       "  <tbody>\n",
       "    <tr>\n",
       "      <th>f0</th>\n",
       "      <td>100000.0</td>\n",
       "      <td>0.500419</td>\n",
       "      <td>0.871832</td>\n",
       "      <td>-1.408605</td>\n",
       "      <td>-0.072580</td>\n",
       "      <td>0.502360</td>\n",
       "      <td>1.073581</td>\n",
       "      <td>2.362331</td>\n",
       "    </tr>\n",
       "    <tr>\n",
       "      <th>f1</th>\n",
       "      <td>100000.0</td>\n",
       "      <td>0.250143</td>\n",
       "      <td>0.504433</td>\n",
       "      <td>-0.848218</td>\n",
       "      <td>-0.200881</td>\n",
       "      <td>0.250252</td>\n",
       "      <td>0.700646</td>\n",
       "      <td>1.343769</td>\n",
       "    </tr>\n",
       "    <tr>\n",
       "      <th>f2</th>\n",
       "      <td>100000.0</td>\n",
       "      <td>2.502647</td>\n",
       "      <td>3.248248</td>\n",
       "      <td>-12.088328</td>\n",
       "      <td>0.287748</td>\n",
       "      <td>2.515969</td>\n",
       "      <td>4.715088</td>\n",
       "      <td>16.003790</td>\n",
       "    </tr>\n",
       "    <tr>\n",
       "      <th>product</th>\n",
       "      <td>100000.0</td>\n",
       "      <td>92.500000</td>\n",
       "      <td>44.288691</td>\n",
       "      <td>0.000000</td>\n",
       "      <td>56.497507</td>\n",
       "      <td>91.849972</td>\n",
       "      <td>128.564089</td>\n",
       "      <td>185.364347</td>\n",
       "    </tr>\n",
       "  </tbody>\n",
       "</table>\n",
       "</div>"
      ],
      "text/plain": [
       "            count       mean        std        min        25%        50%  \\\n",
       "f0       100000.0   0.500419   0.871832  -1.408605  -0.072580   0.502360   \n",
       "f1       100000.0   0.250143   0.504433  -0.848218  -0.200881   0.250252   \n",
       "f2       100000.0   2.502647   3.248248 -12.088328   0.287748   2.515969   \n",
       "product  100000.0  92.500000  44.288691   0.000000  56.497507  91.849972   \n",
       "\n",
       "                75%         max  \n",
       "f0         1.073581    2.362331  \n",
       "f1         0.700646    1.343769  \n",
       "f2         4.715088   16.003790  \n",
       "product  128.564089  185.364347  "
      ]
     },
     "metadata": {},
     "output_type": "display_data"
    }
   ],
   "source": [
    "# обзор данных региона 1\n",
    "preview(geo1)"
   ]
  },
  {
   "cell_type": "code",
   "execution_count": 8,
   "metadata": {},
   "outputs": [
    {
     "data": {
      "text/html": [
       "<div>\n",
       "<style scoped>\n",
       "    .dataframe tbody tr th:only-of-type {\n",
       "        vertical-align: middle;\n",
       "    }\n",
       "\n",
       "    .dataframe tbody tr th {\n",
       "        vertical-align: top;\n",
       "    }\n",
       "\n",
       "    .dataframe thead th {\n",
       "        text-align: right;\n",
       "    }\n",
       "</style>\n",
       "<table border=\"1\" class=\"dataframe\">\n",
       "  <thead>\n",
       "    <tr style=\"text-align: right;\">\n",
       "      <th></th>\n",
       "      <th>f0</th>\n",
       "      <th>f1</th>\n",
       "      <th>f2</th>\n",
       "      <th>product</th>\n",
       "    </tr>\n",
       "    <tr>\n",
       "      <th>id</th>\n",
       "      <th></th>\n",
       "      <th></th>\n",
       "      <th></th>\n",
       "      <th></th>\n",
       "    </tr>\n",
       "  </thead>\n",
       "  <tbody>\n",
       "    <tr>\n",
       "      <th>kBEdx</th>\n",
       "      <td>-15.001348</td>\n",
       "      <td>-8.276000</td>\n",
       "      <td>-0.005876</td>\n",
       "      <td>3.179103</td>\n",
       "    </tr>\n",
       "    <tr>\n",
       "      <th>62mP7</th>\n",
       "      <td>14.272088</td>\n",
       "      <td>-3.475083</td>\n",
       "      <td>0.999183</td>\n",
       "      <td>26.953261</td>\n",
       "    </tr>\n",
       "    <tr>\n",
       "      <th>vyE1P</th>\n",
       "      <td>6.263187</td>\n",
       "      <td>-5.948386</td>\n",
       "      <td>5.001160</td>\n",
       "      <td>134.766305</td>\n",
       "    </tr>\n",
       "    <tr>\n",
       "      <th>KcrkZ</th>\n",
       "      <td>-13.081196</td>\n",
       "      <td>-11.506057</td>\n",
       "      <td>4.999415</td>\n",
       "      <td>137.945408</td>\n",
       "    </tr>\n",
       "    <tr>\n",
       "      <th>AHL4O</th>\n",
       "      <td>12.702195</td>\n",
       "      <td>-8.147433</td>\n",
       "      <td>5.004363</td>\n",
       "      <td>134.766305</td>\n",
       "    </tr>\n",
       "  </tbody>\n",
       "</table>\n",
       "</div>"
      ],
      "text/plain": [
       "              f0         f1        f2     product\n",
       "id                                               \n",
       "kBEdx -15.001348  -8.276000 -0.005876    3.179103\n",
       "62mP7  14.272088  -3.475083  0.999183   26.953261\n",
       "vyE1P   6.263187  -5.948386  5.001160  134.766305\n",
       "KcrkZ -13.081196 -11.506057  4.999415  137.945408\n",
       "AHL4O  12.702195  -8.147433  5.004363  134.766305"
      ]
     },
     "metadata": {},
     "output_type": "display_data"
    },
    {
     "name": "stdout",
     "output_type": "stream",
     "text": [
      "<class 'pandas.core.frame.DataFrame'>\n",
      "Index: 100000 entries, kBEdx to relB0\n",
      "Data columns (total 4 columns):\n",
      " #   Column   Non-Null Count   Dtype  \n",
      "---  ------   --------------   -----  \n",
      " 0   f0       100000 non-null  float64\n",
      " 1   f1       100000 non-null  float64\n",
      " 2   f2       100000 non-null  float64\n",
      " 3   product  100000 non-null  float64\n",
      "dtypes: float64(4)\n",
      "memory usage: 3.8+ MB\n"
     ]
    },
    {
     "data": {
      "text/html": [
       "<div>\n",
       "<style scoped>\n",
       "    .dataframe tbody tr th:only-of-type {\n",
       "        vertical-align: middle;\n",
       "    }\n",
       "\n",
       "    .dataframe tbody tr th {\n",
       "        vertical-align: top;\n",
       "    }\n",
       "\n",
       "    .dataframe thead th {\n",
       "        text-align: right;\n",
       "    }\n",
       "</style>\n",
       "<table border=\"1\" class=\"dataframe\">\n",
       "  <thead>\n",
       "    <tr style=\"text-align: right;\">\n",
       "      <th></th>\n",
       "      <th>count</th>\n",
       "      <th>mean</th>\n",
       "      <th>std</th>\n",
       "      <th>min</th>\n",
       "      <th>25%</th>\n",
       "      <th>50%</th>\n",
       "      <th>75%</th>\n",
       "      <th>max</th>\n",
       "    </tr>\n",
       "  </thead>\n",
       "  <tbody>\n",
       "    <tr>\n",
       "      <th>f0</th>\n",
       "      <td>100000.0</td>\n",
       "      <td>1.141296</td>\n",
       "      <td>8.965932</td>\n",
       "      <td>-31.609576</td>\n",
       "      <td>-6.298551</td>\n",
       "      <td>1.153055</td>\n",
       "      <td>8.621015</td>\n",
       "      <td>29.421755</td>\n",
       "    </tr>\n",
       "    <tr>\n",
       "      <th>f1</th>\n",
       "      <td>100000.0</td>\n",
       "      <td>-4.796579</td>\n",
       "      <td>5.119872</td>\n",
       "      <td>-26.358598</td>\n",
       "      <td>-8.267985</td>\n",
       "      <td>-4.813172</td>\n",
       "      <td>-1.332816</td>\n",
       "      <td>18.734063</td>\n",
       "    </tr>\n",
       "    <tr>\n",
       "      <th>f2</th>\n",
       "      <td>100000.0</td>\n",
       "      <td>2.494541</td>\n",
       "      <td>1.703572</td>\n",
       "      <td>-0.018144</td>\n",
       "      <td>1.000021</td>\n",
       "      <td>2.011479</td>\n",
       "      <td>3.999904</td>\n",
       "      <td>5.019721</td>\n",
       "    </tr>\n",
       "    <tr>\n",
       "      <th>product</th>\n",
       "      <td>100000.0</td>\n",
       "      <td>68.825000</td>\n",
       "      <td>45.944423</td>\n",
       "      <td>0.000000</td>\n",
       "      <td>26.953261</td>\n",
       "      <td>57.085625</td>\n",
       "      <td>107.813044</td>\n",
       "      <td>137.945408</td>\n",
       "    </tr>\n",
       "  </tbody>\n",
       "</table>\n",
       "</div>"
      ],
      "text/plain": [
       "            count       mean        std        min        25%        50%  \\\n",
       "f0       100000.0   1.141296   8.965932 -31.609576  -6.298551   1.153055   \n",
       "f1       100000.0  -4.796579   5.119872 -26.358598  -8.267985  -4.813172   \n",
       "f2       100000.0   2.494541   1.703572  -0.018144   1.000021   2.011479   \n",
       "product  100000.0  68.825000  45.944423   0.000000  26.953261  57.085625   \n",
       "\n",
       "                75%         max  \n",
       "f0         8.621015   29.421755  \n",
       "f1        -1.332816   18.734063  \n",
       "f2         3.999904    5.019721  \n",
       "product  107.813044  137.945408  "
      ]
     },
     "metadata": {},
     "output_type": "display_data"
    }
   ],
   "source": [
    "# обзор данных региона 2\n",
    "preview(geo2)"
   ]
  },
  {
   "cell_type": "code",
   "execution_count": 9,
   "metadata": {},
   "outputs": [
    {
     "data": {
      "text/html": [
       "<div>\n",
       "<style scoped>\n",
       "    .dataframe tbody tr th:only-of-type {\n",
       "        vertical-align: middle;\n",
       "    }\n",
       "\n",
       "    .dataframe tbody tr th {\n",
       "        vertical-align: top;\n",
       "    }\n",
       "\n",
       "    .dataframe thead th {\n",
       "        text-align: right;\n",
       "    }\n",
       "</style>\n",
       "<table border=\"1\" class=\"dataframe\">\n",
       "  <thead>\n",
       "    <tr style=\"text-align: right;\">\n",
       "      <th></th>\n",
       "      <th>f0</th>\n",
       "      <th>f1</th>\n",
       "      <th>f2</th>\n",
       "      <th>product</th>\n",
       "    </tr>\n",
       "    <tr>\n",
       "      <th>id</th>\n",
       "      <th></th>\n",
       "      <th></th>\n",
       "      <th></th>\n",
       "      <th></th>\n",
       "    </tr>\n",
       "  </thead>\n",
       "  <tbody>\n",
       "    <tr>\n",
       "      <th>fwXo0</th>\n",
       "      <td>-1.146987</td>\n",
       "      <td>0.963328</td>\n",
       "      <td>-0.828965</td>\n",
       "      <td>27.758673</td>\n",
       "    </tr>\n",
       "    <tr>\n",
       "      <th>WJtFt</th>\n",
       "      <td>0.262778</td>\n",
       "      <td>0.269839</td>\n",
       "      <td>-2.530187</td>\n",
       "      <td>56.069697</td>\n",
       "    </tr>\n",
       "    <tr>\n",
       "      <th>ovLUW</th>\n",
       "      <td>0.194587</td>\n",
       "      <td>0.289035</td>\n",
       "      <td>-5.586433</td>\n",
       "      <td>62.871910</td>\n",
       "    </tr>\n",
       "    <tr>\n",
       "      <th>q6cA6</th>\n",
       "      <td>2.236060</td>\n",
       "      <td>-0.553760</td>\n",
       "      <td>0.930038</td>\n",
       "      <td>114.572842</td>\n",
       "    </tr>\n",
       "    <tr>\n",
       "      <th>WPMUX</th>\n",
       "      <td>-0.515993</td>\n",
       "      <td>1.716266</td>\n",
       "      <td>5.899011</td>\n",
       "      <td>149.600746</td>\n",
       "    </tr>\n",
       "  </tbody>\n",
       "</table>\n",
       "</div>"
      ],
      "text/plain": [
       "             f0        f1        f2     product\n",
       "id                                             \n",
       "fwXo0 -1.146987  0.963328 -0.828965   27.758673\n",
       "WJtFt  0.262778  0.269839 -2.530187   56.069697\n",
       "ovLUW  0.194587  0.289035 -5.586433   62.871910\n",
       "q6cA6  2.236060 -0.553760  0.930038  114.572842\n",
       "WPMUX -0.515993  1.716266  5.899011  149.600746"
      ]
     },
     "metadata": {},
     "output_type": "display_data"
    },
    {
     "name": "stdout",
     "output_type": "stream",
     "text": [
      "<class 'pandas.core.frame.DataFrame'>\n",
      "Index: 100000 entries, fwXo0 to V9kWn\n",
      "Data columns (total 4 columns):\n",
      " #   Column   Non-Null Count   Dtype  \n",
      "---  ------   --------------   -----  \n",
      " 0   f0       100000 non-null  float64\n",
      " 1   f1       100000 non-null  float64\n",
      " 2   f2       100000 non-null  float64\n",
      " 3   product  100000 non-null  float64\n",
      "dtypes: float64(4)\n",
      "memory usage: 3.8+ MB\n"
     ]
    },
    {
     "data": {
      "text/html": [
       "<div>\n",
       "<style scoped>\n",
       "    .dataframe tbody tr th:only-of-type {\n",
       "        vertical-align: middle;\n",
       "    }\n",
       "\n",
       "    .dataframe tbody tr th {\n",
       "        vertical-align: top;\n",
       "    }\n",
       "\n",
       "    .dataframe thead th {\n",
       "        text-align: right;\n",
       "    }\n",
       "</style>\n",
       "<table border=\"1\" class=\"dataframe\">\n",
       "  <thead>\n",
       "    <tr style=\"text-align: right;\">\n",
       "      <th></th>\n",
       "      <th>count</th>\n",
       "      <th>mean</th>\n",
       "      <th>std</th>\n",
       "      <th>min</th>\n",
       "      <th>25%</th>\n",
       "      <th>50%</th>\n",
       "      <th>75%</th>\n",
       "      <th>max</th>\n",
       "    </tr>\n",
       "  </thead>\n",
       "  <tbody>\n",
       "    <tr>\n",
       "      <th>f0</th>\n",
       "      <td>100000.0</td>\n",
       "      <td>0.002023</td>\n",
       "      <td>1.732045</td>\n",
       "      <td>-8.760004</td>\n",
       "      <td>-1.162288</td>\n",
       "      <td>0.009424</td>\n",
       "      <td>1.158535</td>\n",
       "      <td>7.238262</td>\n",
       "    </tr>\n",
       "    <tr>\n",
       "      <th>f1</th>\n",
       "      <td>100000.0</td>\n",
       "      <td>-0.002081</td>\n",
       "      <td>1.730417</td>\n",
       "      <td>-7.084020</td>\n",
       "      <td>-1.174820</td>\n",
       "      <td>-0.009482</td>\n",
       "      <td>1.163678</td>\n",
       "      <td>7.844801</td>\n",
       "    </tr>\n",
       "    <tr>\n",
       "      <th>f2</th>\n",
       "      <td>100000.0</td>\n",
       "      <td>2.495128</td>\n",
       "      <td>3.473445</td>\n",
       "      <td>-11.970335</td>\n",
       "      <td>0.130359</td>\n",
       "      <td>2.484236</td>\n",
       "      <td>4.858794</td>\n",
       "      <td>16.739402</td>\n",
       "    </tr>\n",
       "    <tr>\n",
       "      <th>product</th>\n",
       "      <td>100000.0</td>\n",
       "      <td>95.000000</td>\n",
       "      <td>44.749921</td>\n",
       "      <td>0.000000</td>\n",
       "      <td>59.450441</td>\n",
       "      <td>94.925613</td>\n",
       "      <td>130.595027</td>\n",
       "      <td>190.029838</td>\n",
       "    </tr>\n",
       "  </tbody>\n",
       "</table>\n",
       "</div>"
      ],
      "text/plain": [
       "            count       mean        std        min        25%        50%  \\\n",
       "f0       100000.0   0.002023   1.732045  -8.760004  -1.162288   0.009424   \n",
       "f1       100000.0  -0.002081   1.730417  -7.084020  -1.174820  -0.009482   \n",
       "f2       100000.0   2.495128   3.473445 -11.970335   0.130359   2.484236   \n",
       "product  100000.0  95.000000  44.749921   0.000000  59.450441  94.925613   \n",
       "\n",
       "                75%         max  \n",
       "f0         1.158535    7.238262  \n",
       "f1         1.163678    7.844801  \n",
       "f2         4.858794   16.739402  \n",
       "product  130.595027  190.029838  "
      ]
     },
     "metadata": {},
     "output_type": "display_data"
    }
   ],
   "source": [
    "# обзор данных региона 3\n",
    "preview(geo3)"
   ]
  },
  {
   "cell_type": "markdown",
   "metadata": {},
   "source": [
    "В данных нет пропусков"
   ]
  },
  {
   "cell_type": "markdown",
   "metadata": {},
   "source": [
    "#### Проверка на дубликаты"
   ]
  },
  {
   "cell_type": "code",
   "execution_count": 10,
   "metadata": {},
   "outputs": [
    {
     "data": {
      "text/plain": [
       "np.int64(0)"
      ]
     },
     "execution_count": 10,
     "metadata": {},
     "output_type": "execute_result"
    }
   ],
   "source": [
    "# проверка на дубликаты данных региона 1\n",
    "geo1.duplicated().sum()"
   ]
  },
  {
   "cell_type": "code",
   "execution_count": 11,
   "metadata": {},
   "outputs": [
    {
     "data": {
      "text/plain": [
       "np.int64(0)"
      ]
     },
     "execution_count": 11,
     "metadata": {},
     "output_type": "execute_result"
    }
   ],
   "source": [
    "# проверка на дубликаты данных региона 2\n",
    "geo2.duplicated().sum()"
   ]
  },
  {
   "cell_type": "code",
   "execution_count": 12,
   "metadata": {},
   "outputs": [
    {
     "data": {
      "text/plain": [
       "np.int64(0)"
      ]
     },
     "execution_count": 12,
     "metadata": {},
     "output_type": "execute_result"
    }
   ],
   "source": [
    "# проверка на дубликаты данных региона 3\n",
    "geo3.duplicated().sum()"
   ]
  },
  {
   "cell_type": "markdown",
   "metadata": {},
   "source": [
    "Типы данных определены корректно, в данных нет пропусков и дубликатов. Все признаки количественные"
   ]
  },
  {
   "cell_type": "markdown",
   "metadata": {},
   "source": [
    "#### Исследовательский анализ"
   ]
  },
  {
   "cell_type": "code",
   "execution_count": 13,
   "metadata": {},
   "outputs": [],
   "source": [
    "# функция для построения графиков\n",
    "def plt_chart(data, cols, kind):\n",
    "    '''Функция принимает в качестве аргументов датасет, названия столбцов, тип графика, строит график'''\n",
    "    fig = make_subplots(cols=len(cols), rows=1, subplot_titles=cols)\n",
    "    for i, c in enumerate(cols):\n",
    "        if kind == 'hist':\n",
    "            fig.add_trace(go.Histogram(x=data[c], nbinsx=10, name=c), row=1, col=i+1)\n",
    "            fig.update_xaxes(title_text=c, row=1, col=i+1)\n",
    "        if kind == 'box':\n",
    "            fig.add_trace(go.Box(y=data[c], name=c), row=1, col=i+1)\n",
    "    fig.update_layout(title='Признаки региона', yaxis_title='Количество')\n",
    "    fig.show()"
   ]
  },
  {
   "cell_type": "code",
   "execution_count": null,
   "metadata": {},
   "outputs": [],
   "source": [
    "# построение гистограмм по данным региона 1\n",
    "data_cols = ['f0', 'f1', 'f2', 'product']\n",
    "\n",
    "plt_chart(geo1, data_cols, 'hist')"
   ]
  },
  {
   "cell_type": "code",
   "execution_count": null,
   "metadata": {},
   "outputs": [],
   "source": [
    "# построение гистограмм по данным региона 2\n",
    "plt_chart(geo2, data_cols, 'hist')"
   ]
  },
  {
   "cell_type": "code",
   "execution_count": null,
   "metadata": {},
   "outputs": [],
   "source": [
    "# построение гистограмм по данным региона 3\n",
    "plt_chart(geo3, data_cols, 'hist')"
   ]
  },
  {
   "cell_type": "markdown",
   "metadata": {},
   "source": [
    "Регион 1: f0 в диапазоне от 0 до 2.5, f1 в диапазоне от -1 до 1.5, f2 в диапазоне от -15 до 15, product от 0 до 200\n",
    "\n",
    "Регион 2: f0 в диапазоне от -30 до 30, f1 в диапазоне от -30 до 20, f2 в диапазоне от 0 до 5, product от 0 до 150. Распределение признаков f2 и product отличается, представлено небольшим количеством значений.\n",
    "\n",
    "Регион 3: f0 в диапазоне от -10 до 10, f1 в диапазоне от -7.5 до 7.5, f2 в диапазоне от -12 до 17, product от 0 до 200\n",
    "\n",
    "Признаки имеют разную дисперсию в зависимости от региона, при обучении моделей необходимо использовать скейлер"
   ]
  },
  {
   "cell_type": "markdown",
   "metadata": {},
   "source": [
    "#### Корреляционный анализ"
   ]
  },
  {
   "cell_type": "code",
   "execution_count": 17,
   "metadata": {},
   "outputs": [],
   "source": [
    "# функция для построения тепловой карты по матрице корреляции\n",
    "def plt_phik(data):\n",
    "    '''Фукция принимает на вход датафрейм, строит тепловую карту по матрице корреляции.'''\n",
    "    phik_overview = data.phik_matrix()\n",
    "\n",
    "    plot_correlation_matrix(\n",
    "        phik_overview.values,\n",
    "        x_labels=phik_overview.columns,\n",
    "        y_labels=phik_overview.index,\n",
    "        figsize=(5, 5)\n",
    "    )"
   ]
  },
  {
   "cell_type": "code",
   "execution_count": 18,
   "metadata": {},
   "outputs": [
    {
     "name": "stdout",
     "output_type": "stream",
     "text": [
      "interval columns not set, guessing: ['f0', 'f1', 'f2', 'product']\n"
     ]
    },
    {
     "data": {
      "image/png": "[encoded data removed]",
      "text/plain": [
       "<Figure size 500x500 with 2 Axes>"
      ]
     },
     "metadata": {},
     "output_type": "display_data"
    }
   ],
   "source": [
    "# построение тепловой карты по матрице корреляции для региона 1\n",
    "plt_phik(geo1)"
   ]
  },
  {
   "cell_type": "code",
   "execution_count": 19,
   "metadata": {},
   "outputs": [
    {
     "name": "stdout",
     "output_type": "stream",
     "text": [
      "interval columns not set, guessing: ['f0', 'f1', 'f2', 'product']\n"
     ]
    },
    {
     "data": {
      "image/png": "[encoded data removed]",
      "text/plain": [
       "<Figure size 500x500 with 2 Axes>"
      ]
     },
     "metadata": {},
     "output_type": "display_data"
    }
   ],
   "source": [
    "# построение тепловой карты по матрице корреляции для региона 2\n",
    "plt_phik(geo2)"
   ]
  },
  {
   "cell_type": "code",
   "execution_count": 20,
   "metadata": {},
   "outputs": [
    {
     "name": "stdout",
     "output_type": "stream",
     "text": [
      "interval columns not set, guessing: ['f0', 'f1', 'f2', 'product']\n"
     ]
    },
    {
     "data": {
      "image/png": "[encoded data removed]",
      "text/plain": [
       "<Figure size 500x500 with 2 Axes>"
      ]
     },
     "metadata": {},
     "output_type": "display_data"
    }
   ],
   "source": [
    "# построение тепловой карты по матрице корреляции для региона 3\n",
    "plt_phik(geo3)"
   ]
  },
  {
   "cell_type": "markdown",
   "metadata": {},
   "source": [
    "Сильнее всего целевой признак в регионе 1 и 3 коррелирует с признаком f2, в регионе 2 с f2 и f0.\n",
    "\n",
    "Можно предположить, что признак f2 - индикатор больших объемов нефти"
   ]
  },
  {
   "cell_type": "markdown",
   "metadata": {},
   "source": [
    "<a id='section_id2'></a>\n",
    "## 2. Обучение модели\n",
    "[к содержанию](#section_id)"
   ]
  },
  {
   "cell_type": "markdown",
   "metadata": {},
   "source": [
    "<a id='section_id3'></a>\n",
    "### 2.1. Создание обучающих и валидационных выборок\n",
    "[к содержанию](#section_id)"
   ]
  },
  {
   "cell_type": "code",
   "execution_count": 21,
   "metadata": {},
   "outputs": [],
   "source": [
    "# функция для разделения данных на тренировочную и тестовую выборки\n",
    "def make_split(data):\n",
    "    '''Функция принимает в качестве аргумента набор данных,\n",
    "    возвращает тренировочную, тестовую выборки и значения их целевых признаков'''\n",
    "    X_train, X_test, y_train, y_test = train_test_split(\n",
    "        data.drop(['product'], axis=1),\n",
    "        data['product'],\n",
    "        test_size = TEST_SIZE, \n",
    "        random_state = RANDOM_STATE)\n",
    "    \n",
    "    return X_train, X_test, y_train, y_test"
   ]
  },
  {
   "cell_type": "code",
   "execution_count": 22,
   "metadata": {},
   "outputs": [
    {
     "data": {
      "text/plain": [
       "((75000, 3), (25000, 3))"
      ]
     },
     "execution_count": 22,
     "metadata": {},
     "output_type": "execute_result"
    }
   ],
   "source": [
    "# создание тренировочной и тестовой выборки региона 1\n",
    "X_train1, X_test1, y_train1, y_test1 = make_split(geo1)\n",
    "X_train1.shape, X_test1.shape"
   ]
  },
  {
   "cell_type": "code",
   "execution_count": 23,
   "metadata": {},
   "outputs": [
    {
     "data": {
      "text/plain": [
       "((75000, 3), (25000, 3))"
      ]
     },
     "execution_count": 23,
     "metadata": {},
     "output_type": "execute_result"
    }
   ],
   "source": [
    "# создание тренировочной и тестовой выборки региона 2\n",
    "X_train2, X_test2, y_train2, y_test2 = make_split(geo2)\n",
    "X_train2.shape, X_test2.shape"
   ]
  },
  {
   "cell_type": "code",
   "execution_count": 24,
   "metadata": {},
   "outputs": [
    {
     "data": {
      "text/plain": [
       "((75000, 3), (25000, 3))"
      ]
     },
     "execution_count": 24,
     "metadata": {},
     "output_type": "execute_result"
    }
   ],
   "source": [
    "# создание тренировочной и тестовой выборки региона 1\n",
    "X_train3, X_test3, y_train3, y_test3 = make_split(geo3)\n",
    "X_train3.shape, X_test3.shape"
   ]
  },
  {
   "cell_type": "markdown",
   "metadata": {},
   "source": [
    "<a id='section_id4'></a>\n",
    "### 2.2. Обучение модели, получение предсказаний\n",
    "[к содержанию](#section_id)"
   ]
  },
  {
   "cell_type": "code",
   "execution_count": 25,
   "metadata": {},
   "outputs": [],
   "source": [
    "# создание списков с названиями признаков\n",
    "num_columns = ['f0', 'f1', 'f2']\n",
    "\n",
    "# общий пайплайн для подготовки данных\n",
    "data_preprocessor = ColumnTransformer(\n",
    "    [\n",
    "     ('num', MinMaxScaler(), num_columns)\n",
    "    ], \n",
    "    remainder='passthrough'\n",
    ")"
   ]
  },
  {
   "cell_type": "code",
   "execution_count": 26,
   "metadata": {},
   "outputs": [],
   "source": [
    "# итоговый пайплайн\n",
    "pipe_final = Pipeline([\n",
    "    ('preprocessor', data_preprocessor),\n",
    "    ('models', LinearRegression())\n",
    "])"
   ]
  },
  {
   "cell_type": "code",
   "execution_count": 27,
   "metadata": {},
   "outputs": [],
   "source": [
    "# задание параметров для пайплайна\n",
    "param_grid = [\n",
    "    # словарь для модели LinearRegression()\n",
    "    {\n",
    "        'models': [LinearRegression()],\n",
    "        'preprocessor__num': [StandardScaler(), MinMaxScaler(), 'passthrough']  \n",
    "    }\n",
    "]"
   ]
  },
  {
   "cell_type": "code",
   "execution_count": 28,
   "metadata": {},
   "outputs": [],
   "source": [
    "# функция для получения обученного экземпляра grid_search\n",
    "def do_grid(X_train, y_train):\n",
    "    '''Функция принимает на вход тренировочную и тестовую выборки,\n",
    "    возвращает обученный экземпляр grid_search.'''\n",
    "    # инициализация подбора параметров\n",
    "    grid_search = GridSearchCV(\n",
    "        pipe_final, \n",
    "        param_grid, \n",
    "        cv=5,\n",
    "        scoring='neg_root_mean_squared_error',\n",
    "        n_jobs=-1\n",
    "    )\n",
    "    start_time = time.time()\n",
    "    grid_search.fit(X_train, y_train)\n",
    "    total_time = time.time() - start_time\n",
    "\n",
    "    print(f\"Время поиска: {total_time:.2f} seconds\")\n",
    "    print('Лучшая модель и её параметры:\\n\\n', grid_search.best_estimator_)\n",
    "    print ('Метрика лучшей модели на тренировочной выборке:', grid_search.best_score_)\n",
    "\n",
    "    return grid_search\n",
    "    "
   ]
  },
  {
   "cell_type": "code",
   "execution_count": 29,
   "metadata": {},
   "outputs": [
    {
     "name": "stdout",
     "output_type": "stream",
     "text": [
      "Время поиска: 1.81 seconds\n",
      "Лучшая модель и её параметры:\n",
      "\n",
      " Pipeline(steps=[('preprocessor',\n",
      "                 ColumnTransformer(remainder='passthrough',\n",
      "                                   transformers=[('num', StandardScaler(),\n",
      "                                                  ['f0', 'f1', 'f2'])])),\n",
      "                ('models', LinearRegression())])\n",
      "Метрика лучшей модели на тренировочной выборке: -37.67200536313506\n"
     ]
    }
   ],
   "source": [
    "# запуск подбора параметров для региона 1\n",
    "grid_search1 = do_grid(X_train1, y_train1)"
   ]
  },
  {
   "cell_type": "code",
   "execution_count": 30,
   "metadata": {},
   "outputs": [
    {
     "name": "stdout",
     "output_type": "stream",
     "text": [
      "Время поиска: 1.54 seconds\n",
      "Лучшая модель и её параметры:\n",
      "\n",
      " Pipeline(steps=[('preprocessor',\n",
      "                 ColumnTransformer(remainder='passthrough',\n",
      "                                   transformers=[('num', MinMaxScaler(),\n",
      "                                                  ['f0', 'f1', 'f2'])])),\n",
      "                ('models', LinearRegression())])\n",
      "Метрика лучшей модели на тренировочной выборке: -0.890455962928567\n"
     ]
    }
   ],
   "source": [
    "# запуск подбора параметров для региона 2\n",
    "grid_search2 = do_grid(X_train2, y_train2)"
   ]
  },
  {
   "cell_type": "code",
   "execution_count": 31,
   "metadata": {},
   "outputs": [
    {
     "name": "stdout",
     "output_type": "stream",
     "text": [
      "Время поиска: 2.14 seconds\n",
      "Лучшая модель и её параметры:\n",
      "\n",
      " Pipeline(steps=[('preprocessor',\n",
      "                 ColumnTransformer(remainder='passthrough',\n",
      "                                   transformers=[('num', StandardScaler(),\n",
      "                                                  ['f0', 'f1', 'f2'])])),\n",
      "                ('models', LinearRegression())])\n",
      "Метрика лучшей модели на тренировочной выборке: -40.02698159997838\n"
     ]
    }
   ],
   "source": [
    "# запуск подбора параметров для региона 3\n",
    "grid_search3 = do_grid(X_train3, y_train3)"
   ]
  },
  {
   "cell_type": "markdown",
   "metadata": {},
   "source": [
    "Получили 3 экземпляра grid_search, в каждом из которых содержится обученная модель и подобранный скейлер."
   ]
  },
  {
   "cell_type": "code",
   "execution_count": 32,
   "metadata": {},
   "outputs": [],
   "source": [
    "# получение предсказаний для региона 1\n",
    "y_test1_pred = grid_search1.predict(X_test1)"
   ]
  },
  {
   "cell_type": "code",
   "execution_count": 33,
   "metadata": {},
   "outputs": [],
   "source": [
    "# получение предсказаний для региона 2\n",
    "y_test2_pred = grid_search2.predict(X_test2)"
   ]
  },
  {
   "cell_type": "code",
   "execution_count": 34,
   "metadata": {},
   "outputs": [],
   "source": [
    "# получение предсказаний для региона 3\n",
    "y_test3_pred = grid_search3.predict(X_test3)"
   ]
  },
  {
   "cell_type": "markdown",
   "metadata": {},
   "source": [
    "<a id='section_id5'></a>\n",
    "### 2.3. Сохранение предсказаний и правильных ответов в валидационной выборке\n",
    "[к содержанию](#section_id)"
   ]
  },
  {
   "cell_type": "code",
   "execution_count": 35,
   "metadata": {},
   "outputs": [],
   "source": [
    "# сохранение предсказаний и правильных ответов\n",
    "pred1 = y_test1_pred\n",
    "true1 = y_test1\n",
    "\n",
    "pred2 = y_test2_pred\n",
    "true2 = y_test2\n",
    "\n",
    "pred3 = y_test3_pred\n",
    "true3 = y_test3"
   ]
  },
  {
   "cell_type": "markdown",
   "metadata": {},
   "source": [
    "<a id='section_id6'></a>\n",
    "### 2.4. Средний запас сырья и RMSE модели\n",
    "[к содержанию](#section_id)"
   ]
  },
  {
   "cell_type": "code",
   "execution_count": 36,
   "metadata": {},
   "outputs": [
    {
     "name": "stdout",
     "output_type": "stream",
     "text": [
      "Средний запас предсказанного сырья для региона 1: 2309970.0 тыс. баррелей\n",
      "RMSE модели: 37.76\n"
     ]
    },
    {
     "name": "stderr",
     "output_type": "stream",
     "text": [
      "c:\\Python\\Python312\\Lib\\site-packages\\sklearn\\metrics\\_regression.py:492: FutureWarning:\n",
      "\n",
      "'squared' is deprecated in version 1.4 and will be removed in 1.6. To calculate the root mean squared error, use the function'root_mean_squared_error'.\n",
      "\n"
     ]
    }
   ],
   "source": [
    "# определение среднего запаса предсказанного сырья и RMSE модели для региона 1\n",
    "reserve_pred_1 = round(pred1.mean() * len(pred1), 2)\n",
    "print(f'Средний запас предсказанного сырья для региона 1: {reserve_pred_1} тыс. баррелей')\n",
    "print(f'RMSE модели: {round(mean_squared_error(true1, pred1, squared=False), 2)}')"
   ]
  },
  {
   "cell_type": "code",
   "execution_count": 37,
   "metadata": {},
   "outputs": [
    {
     "name": "stdout",
     "output_type": "stream",
     "text": [
      "Средний запас предсказанного сырья для региона 2: 1717821.95 тыс. баррелей\n",
      "RMSE модели: 0.89\n"
     ]
    },
    {
     "name": "stderr",
     "output_type": "stream",
     "text": [
      "c:\\Python\\Python312\\Lib\\site-packages\\sklearn\\metrics\\_regression.py:492: FutureWarning:\n",
      "\n",
      "'squared' is deprecated in version 1.4 and will be removed in 1.6. To calculate the root mean squared error, use the function'root_mean_squared_error'.\n",
      "\n"
     ]
    }
   ],
   "source": [
    "# определение среднего запаса предсказанного сырья и RMSE модели для региона 2\n",
    "reserve_pred_2 = round(pred2.mean() * len(pred2), 2)\n",
    "print(f'Средний запас предсказанного сырья для региона 2: {reserve_pred_2} тыс. баррелей')\n",
    "print(f'RMSE модели: {round(mean_squared_error(true2, pred2, squared=False), 2)}')"
   ]
  },
  {
   "cell_type": "code",
   "execution_count": 38,
   "metadata": {},
   "outputs": [
    {
     "name": "stdout",
     "output_type": "stream",
     "text": [
      "Средний запас предсказанного сырья для региона 3: 2369275.6 тыс. баррелей\n",
      "RMSE модели: 40.15\n"
     ]
    },
    {
     "name": "stderr",
     "output_type": "stream",
     "text": [
      "c:\\Python\\Python312\\Lib\\site-packages\\sklearn\\metrics\\_regression.py:492: FutureWarning:\n",
      "\n",
      "'squared' is deprecated in version 1.4 and will be removed in 1.6. To calculate the root mean squared error, use the function'root_mean_squared_error'.\n",
      "\n"
     ]
    }
   ],
   "source": [
    "# определение среднего запаса предсказанного сырья и RMSE модели для региона 3\n",
    "reserve_pred_3 = round(pred3.mean() * len(pred3), 2)\n",
    "print(f'Средний запас предсказанного сырья для региона 3: {reserve_pred_3} тыс. баррелей')\n",
    "print(f'RMSE модели: {round(mean_squared_error(true3, pred3, squared=False), 2)}')"
   ]
  },
  {
   "cell_type": "markdown",
   "metadata": {},
   "source": [
    "<a id='section_id7'></a>\n",
    "### 2.5. Анализ результатов\n",
    "[к содержанию](#section_id)"
   ]
  },
  {
   "cell_type": "markdown",
   "metadata": {},
   "source": [
    "Лучше всего модель обучилась на данных региона 2 с ограниченным количеством значений в признаке f2 и product.\n",
    "\n",
    "По регионам 1 и 3 можно сказать, что вместе со средним объемом предсказанных запасов растёт и ошибка модели."
   ]
  },
  {
   "cell_type": "markdown",
   "metadata": {},
   "source": [
    "<a id='section_id8'></a>\n",
    "## 3. Подготовка расчёта прибыли\n",
    "[к содержанию](#section_id)"
   ]
  },
  {
   "cell_type": "markdown",
   "metadata": {},
   "source": [
    "<a id='section_id9'></a>\n",
    "### 3.1. Сохранение ключевых значений для расчёта\n",
    "[к содержанию](#section_id)"
   ]
  },
  {
   "cell_type": "code",
   "execution_count": 39,
   "metadata": {},
   "outputs": [],
   "source": [
    "# переменные для расчёта прибыли\n",
    "RESEARCH_COUNT = 500\n",
    "BEST_COUNT = 200\n",
    "BUDGET = 10_000_000_000\n",
    "BARREL_PROFIT = 450\n",
    "PRODUCT_PROFIT = 450_000\n",
    "LOSS_PROBABILITY = 0.025"
   ]
  },
  {
   "cell_type": "markdown",
   "metadata": {},
   "source": [
    "<a id='section_id10'></a>\n",
    "### 3.2. Расчёт объема сырья для безубыточной разработки. Сравнение со средним запасом в регионе\n",
    "[к содержанию](#section_id)"
   ]
  },
  {
   "cell_type": "code",
   "execution_count": 40,
   "metadata": {},
   "outputs": [
    {
     "name": "stdout",
     "output_type": "stream",
     "text": [
      "Достаточный объем сырья для безубыточной разработки 1 скважины: 111112 баррелей нефти\n"
     ]
    }
   ],
   "source": [
    "# расчет сырья для безубыточной разработки 1 скважины\n",
    "enough_crude = round(BUDGET/BARREL_PROFIT/BEST_COUNT) + 1\n",
    "print(f'Достаточный объем сырья для безубыточной разработки 1 скважины: {enough_crude} баррелей нефти')"
   ]
  },
  {
   "cell_type": "code",
   "execution_count": 41,
   "metadata": {},
   "outputs": [],
   "source": [
    "# функция для проверки безубыточности разработки\n",
    "def check_profit():\n",
    "    '''Функция выводит информацию о безубыточности 1 скважины в регионах.\n",
    "    Возвращает расчет средний запас в 1 скважине в регионе.'''\n",
    "\n",
    "    reserve1 = geo1['product'].mean() * 1000\n",
    "    reserve2 = geo2['product'].mean() * 1000\n",
    "    reserve3 = geo3['product'].mean() * 1000\n",
    "\n",
    "    if reserve1 >= enough_crude:\n",
    "        print('Регион 1 подходит для безубыточной разработки')\n",
    "    else:\n",
    "        print('Регион 1 не подходит для безубыточной разработки')\n",
    "\n",
    "    if reserve2 >= enough_crude:\n",
    "        print('Регион 2 подходит для безубыточной разработки')\n",
    "    else:\n",
    "        print('Регион 2 не подходит для безубыточной разработки')\n",
    "    \n",
    "    if reserve3 >= enough_crude:\n",
    "        print('Регион 3 подходит для безубыточной разработки')\n",
    "    else:\n",
    "        print('Регион 3 не подходит для безубыточной разработки')\n",
    "\n",
    "    return reserve1, reserve2, reserve3"
   ]
  },
  {
   "cell_type": "code",
   "execution_count": 42,
   "metadata": {},
   "outputs": [
    {
     "name": "stdout",
     "output_type": "stream",
     "text": [
      "Регион 1 не подходит для безубыточной разработки\n",
      "Регион 2 не подходит для безубыточной разработки\n",
      "Регион 3 не подходит для безубыточной разработки\n"
     ]
    }
   ],
   "source": [
    "# определение безубыточности регионов\n",
    "reserve1, reserve2, reserve3 = check_profit()"
   ]
  },
  {
   "cell_type": "markdown",
   "metadata": {},
   "source": [
    "<a id='section_id11'></a>\n",
    "### 3.3. Выводы по этапу подготовки расчёта прибыли\n",
    "[к содержанию](#section_id)"
   ]
  },
  {
   "cell_type": "markdown",
   "metadata": {},
   "source": [
    "Выводы по этапу подготовки расчёта прибыли:\n",
    "\n",
    "- для безубыточной разработки необходим запас в скважине 111112 баррелей нефти\n",
    "- каждый из трёх регионов не обладает достаточным запасом нефти на одну скважину\n",
    "- необходимо дальнейшее исследование"
   ]
  },
  {
   "cell_type": "markdown",
   "metadata": {},
   "source": [
    "<a id='section_id12'></a>\n",
    "## 4. Определение функции для расчёта прибыли\n",
    "[к содержанию](#section_id)"
   ]
  },
  {
   "cell_type": "markdown",
   "metadata": {},
   "source": [
    "<a id='section_id13'></a>\n",
    "### 4.1. Выбор скважин с максимальными значениями предсказаний\n",
    "[к содержанию](#section_id)"
   ]
  },
  {
   "cell_type": "code",
   "execution_count": 43,
   "metadata": {},
   "outputs": [],
   "source": [
    "# создание фреймов для сортировки по предсказаниям\n",
    "reg1_true_pred = pd.DataFrame(data={'true': true1, 'pred' : pred1}).sort_values(by='pred', ascending=False)\n",
    "reg2_true_pred = pd.DataFrame(data={'true': true2, 'pred' : pred2}).sort_values(by='pred', ascending=False)\n",
    "reg3_true_pred = pd.DataFrame(data={'true': true3, 'pred' : pred3}).sort_values(by='pred', ascending=False)"
   ]
  },
  {
   "cell_type": "code",
   "execution_count": 44,
   "metadata": {},
   "outputs": [],
   "source": [
    "# выбор настоящих значений 200 скважин с наибольшими предсказанными значениями\n",
    "top200_reg1 = reg1_true_pred['true'][:BEST_COUNT]\n",
    "top200_reg2 = reg2_true_pred['true'][:BEST_COUNT]\n",
    "top200_reg3 = reg3_true_pred['true'][:BEST_COUNT]"
   ]
  },
  {
   "cell_type": "markdown",
   "metadata": {},
   "source": [
    "<a id='section_id14'></a>\n",
    "### 4.2. Суммирование целевого значения объема сырья\n",
    "[к содержанию](#section_id)"
   ]
  },
  {
   "cell_type": "code",
   "execution_count": 45,
   "metadata": {},
   "outputs": [],
   "source": [
    "# суммирование объема 200 скважин\n",
    "sum200_reg1 = top200_reg1.sum()\n",
    "sum200_reg2 = top200_reg2.sum()\n",
    "sum200_reg3 = top200_reg3.sum()"
   ]
  },
  {
   "cell_type": "markdown",
   "metadata": {},
   "source": [
    "<a id='section_id15'></a>\n",
    "### 4.3. Расчёт прибыли от полученного сырья\n",
    "[к содержанию](#section_id)"
   ]
  },
  {
   "cell_type": "code",
   "execution_count": 46,
   "metadata": {},
   "outputs": [],
   "source": [
    "# функция для расчёта прибыли\n",
    "def count_profit():\n",
    "    '''Функция вовращает прибыль от 200 скважин с наибольшими запасами'''\n",
    "    profit1 = round(sum200_reg1 * PRODUCT_PROFIT - BUDGET, 2)\n",
    "    profit2 = round(sum200_reg2 * PRODUCT_PROFIT - BUDGET, 2)\n",
    "    profit3 = round(sum200_reg3 * PRODUCT_PROFIT - BUDGET, 2)\n",
    "    print(f'Прибыль {BEST_COUNT} лучших предсказанных региона 1: {profit1} рублей')\n",
    "    print(f'Прибыль {BEST_COUNT} лучших предсказанных региона 2: {profit2} рублей')\n",
    "    print(f'Прибыль {BEST_COUNT} лучших предсказанных региона 3: {profit3} рублей')\n",
    "    return profit1, profit2, profit3"
   ]
  },
  {
   "cell_type": "code",
   "execution_count": 47,
   "metadata": {},
   "outputs": [
    {
     "name": "stdout",
     "output_type": "stream",
     "text": [
      "Прибыль 200 лучших предсказанных региона 1: 3359141114.46 рублей\n",
      "Прибыль 200 лучших предсказанных региона 2: 2415086696.68 рублей\n",
      "Прибыль 200 лучших предсказанных региона 3: 2598571759.37 рублей\n"
     ]
    }
   ],
   "source": [
    "# расчет прибыли от 200 лучших предсказанных\n",
    "profit1, profit2, profit3 = count_profit()"
   ]
  },
  {
   "cell_type": "markdown",
   "metadata": {},
   "source": [
    "<a id='section_id16'></a>\n",
    "## 5. Расчёт рисков и прибыли для каждого региона\n",
    "[к содержанию](#section_id)"
   ]
  },
  {
   "cell_type": "code",
   "execution_count": 48,
   "metadata": {},
   "outputs": [],
   "source": [
    "# функция для определения прибыли\n",
    "def count_sample_profit(sample):\n",
    "    '''Функция принимает на вход запасы в скважинах, возвращает прибыль от 200 с наибольшими запасами'''\n",
    "    sample_sorted = sample.sort_values(by='pred', ascending=False)[:BEST_COUNT]\n",
    "    return sample_sorted['true'].sum() * PRODUCT_PROFIT - BUDGET"
   ]
  },
  {
   "cell_type": "markdown",
   "metadata": {},
   "source": [
    "<a id='section_id17'></a>\n",
    "### 5.1. Применение Bootstrap, поиск распределения прибыли\n",
    "[к содержанию](#section_id)"
   ]
  },
  {
   "cell_type": "code",
   "execution_count": 49,
   "metadata": {},
   "outputs": [],
   "source": [
    "# добавление целевого признака и предсказанного значения к тестовой выборке\n",
    "geo1_res = pd.concat([X_test1, reg1_true_pred], axis=1)\n",
    "geo2_res = pd.concat([X_test2, reg2_true_pred], axis=1)\n",
    "geo3_res = pd.concat([X_test3, reg3_true_pred], axis=1)"
   ]
  },
  {
   "cell_type": "code",
   "execution_count": 50,
   "metadata": {},
   "outputs": [],
   "source": [
    "# создание 1000 выборок и создание распределения прибыли\n",
    "def distribute_profit(data):\n",
    "    '''Функция принимает на вход набор данных по региону, возвращает искусственное распределение значений прибыли\n",
    "    200 скважин с наибольшими запасами'''\n",
    "    values = []\n",
    "    for i in range(1000):\n",
    "        subsample = data.sample(500, replace=True, random_state=STATE)\n",
    "        values.append(count_sample_profit(subsample))\n",
    "\n",
    "    values = pd.Series(values)\n",
    "    \n",
    "    return values"
   ]
  },
  {
   "cell_type": "code",
   "execution_count": 51,
   "metadata": {},
   "outputs": [],
   "source": [
    "# получение распределений прибыли по регионам\n",
    "dist1 = distribute_profit(geo1_res)\n",
    "dist2 = distribute_profit(geo2_res)\n",
    "dist3 = distribute_profit(geo3_res)"
   ]
  },
  {
   "cell_type": "markdown",
   "metadata": {},
   "source": [
    "<a id='section_id18'></a>\n",
    "### 5.2. Определение средней прибыли, 95% доверительного интервала и риска убытков\n",
    "[к содержанию](#section_id)"
   ]
  },
  {
   "cell_type": "code",
   "execution_count": 52,
   "metadata": {},
   "outputs": [
    {
     "name": "stdout",
     "output_type": "stream",
     "text": [
      "Средняя прибыль 200 скважин по региону 1: 406278783.42 рублей\n",
      "Средняя прибыль 200 скважин по региону 2: 441504277.59 рублей\n",
      "Средняя прибыль 200 скважин по региону 3: 385213195.91 рублей\n"
     ]
    }
   ],
   "source": [
    "# определение средней прибыли по регионам\n",
    "mean_profit1 = round(dist1.mean(), 2)\n",
    "mean_profit2 = round(dist2.mean(), 2)\n",
    "mean_profit3 = round(dist3.mean(), 2)\n",
    "\n",
    "print(f'Средняя прибыль 200 скважин по региону 1: {mean_profit1} рублей')\n",
    "print(f'Средняя прибыль 200 скважин по региону 2: {mean_profit2} рублей')\n",
    "print(f'Средняя прибыль 200 скважин по региону 3: {mean_profit3} рублей')"
   ]
  },
  {
   "cell_type": "code",
   "execution_count": 53,
   "metadata": {},
   "outputs": [],
   "source": [
    "# функция для определение 95% доверительного интервала\n",
    "def count_confidence(dist):\n",
    "    '''Функция принимает на вход распределение,\n",
    "    возвращает список из 2 элементов с границами доверительного интервала.'''\n",
    "    lower = round(dist.quantile(0.025), 2)\n",
    "    upper = round(dist.quantile(0.975), 2)\n",
    "\n",
    "    return [lower, upper]"
   ]
  },
  {
   "cell_type": "code",
   "execution_count": 54,
   "metadata": {},
   "outputs": [
    {
     "name": "stdout",
     "output_type": "stream",
     "text": [
      "95% доверительный интервал прибыли региона 1 находится от -117742136.49 до 911737050.75\n",
      "95% доверительный интервал прибыли региона 2 находится от 35728489.28 до 828006639.0\n",
      "95% доверительный интервал прибыли региона 3 находится от -164785166.11 до 888206234.2\n"
     ]
    }
   ],
   "source": [
    "# определение доверительных интервалов регионов\n",
    "conf1 = count_confidence(dist1)\n",
    "conf2 = count_confidence(dist2)\n",
    "conf3 = count_confidence(dist3)\n",
    "\n",
    "print(f'95% доверительный интервал прибыли региона 1 находится от {conf1[0]} до {conf1[1]}')\n",
    "print(f'95% доверительный интервал прибыли региона 2 находится от {conf2[0]} до {conf2[1]}')\n",
    "print(f'95% доверительный интервал прибыли региона 3 находится от {conf3[0]} до {conf3[1]}')"
   ]
  },
  {
   "cell_type": "code",
   "execution_count": 55,
   "metadata": {},
   "outputs": [],
   "source": [
    "# функция для определения риска убытков\n",
    "def count_risk(dist):\n",
    "    '''Функция возвращает вероятность убытков при разработке региона'''\n",
    "    risk = round((dist < 0).mean() * 100, 2)\n",
    "    return risk"
   ]
  },
  {
   "cell_type": "code",
   "execution_count": 56,
   "metadata": {},
   "outputs": [
    {
     "name": "stdout",
     "output_type": "stream",
     "text": [
      "Риск убытков в регионе 1: 6.7 %\n",
      "Риск убытков в регионе 2: 1.6 %\n",
      "Риск убытков в регионе 3: 7.8 %\n"
     ]
    }
   ],
   "source": [
    "# расчет рисков по регионам\n",
    "risk1 = count_risk(dist1)\n",
    "risk2 = count_risk(dist2)\n",
    "risk3 = count_risk(dist3)\n",
    "\n",
    "print(f'Риск убытков в регионе 1: {risk1} %')\n",
    "print(f'Риск убытков в регионе 2: {risk2} %')\n",
    "print(f'Риск убытков в регионе 3: {risk3} %')"
   ]
  },
  {
   "cell_type": "markdown",
   "metadata": {},
   "source": [
    "<a id='section_id19'></a>\n",
    "### 5.3. Выводы. Предложение и обоснование выбора региона для разработки скважин\n",
    "[к содержанию](#section_id)"
   ]
  },
  {
   "cell_type": "markdown",
   "metadata": {},
   "source": [
    "Все регионы не обладают достаточным запасом нефти в пересчёте на одну скважину.\n",
    "\n",
    "Наибольшую предсказанную моделью прибыль имеет регион 1. Прибыль 200 лучших предсказанных региона 1: 3 359 141 114.46 рублей\n",
    "\n",
    "Средняя прибыль предсказанная моделью для 200 скважин по региону 2 наибольшая: 441 504 277.59 рублей рублей\n",
    "\n",
    "Доверительный интервал региона 2 лежит в положительной зоне:\n",
    "\n",
    "95% доверительный интервал прибыли региона 2 находится от 35 728 489.28 до 828 006 639.0\n",
    "\n",
    "Риск убытков в регионе 2 с учётом заложенного бюджета наименьший: 1.6%\n",
    "\n",
    "Исходя из данных, полученных в результате расчётов, делаем вывод, что регион 2 предпочтителен для разработки по стратегии безубыточности."
   ]
  }
 ],
 "metadata": {
  "ExecuteTimeLog": [
   {
    "duration": 3,
    "start_time": "2024-10-30T18:33:01.561Z"
   },
   {
    "duration": 76,
    "start_time": "2024-10-30T18:44:33.137Z"
   },
   {
    "duration": 1367,
    "start_time": "2024-10-31T19:07:28.749Z"
   },
   {
    "duration": 3,
    "start_time": "2024-10-31T19:08:07.639Z"
   },
   {
    "duration": 538,
    "start_time": "2024-10-31T19:09:47.829Z"
   },
   {
    "duration": 208,
    "start_time": "2024-10-31T19:11:15.934Z"
   },
   {
    "duration": 202,
    "start_time": "2024-10-31T19:11:45.469Z"
   },
   {
    "duration": 4,
    "start_time": "2024-10-31T19:16:51.132Z"
   },
   {
    "duration": 48,
    "start_time": "2024-10-31T19:27:50.918Z"
   },
   {
    "duration": 42,
    "start_time": "2024-10-31T19:28:22.561Z"
   },
   {
    "duration": 39,
    "start_time": "2024-10-31T19:28:40.923Z"
   },
   {
    "duration": 101,
    "start_time": "2024-10-31T19:31:30.964Z"
   },
   {
    "duration": 28,
    "start_time": "2024-10-31T19:31:36.557Z"
   },
   {
    "duration": 22,
    "start_time": "2024-10-31T19:31:50.304Z"
   },
   {
    "duration": 29,
    "start_time": "2024-10-31T19:32:02.829Z"
   },
   {
    "duration": 11,
    "start_time": "2024-10-31T19:33:27.227Z"
   },
   {
    "duration": 13,
    "start_time": "2024-10-31T19:33:39.062Z"
   },
   {
    "duration": 20,
    "start_time": "2024-10-31T19:33:47.854Z"
   },
   {
    "duration": 26,
    "start_time": "2024-10-31T19:33:54.371Z"
   },
   {
    "duration": 5,
    "start_time": "2024-10-31T19:41:24.395Z"
   },
   {
    "duration": 51,
    "start_time": "2024-10-31T19:43:18.360Z"
   },
   {
    "duration": 19,
    "start_time": "2024-10-31T19:46:22.725Z"
   },
   {
    "duration": 236,
    "start_time": "2024-10-31T19:46:37.688Z"
   },
   {
    "duration": 112068,
    "start_time": "2024-10-31T19:47:30.012Z"
   },
   {
    "duration": 0,
    "start_time": "2024-10-31T19:49:22.082Z"
   },
   {
    "duration": 81,
    "start_time": "2024-10-31T19:49:22.272Z"
   },
   {
    "duration": 3,
    "start_time": "2024-10-31T19:58:30.198Z"
   },
   {
    "duration": 1914,
    "start_time": "2024-10-31T19:58:46.377Z"
   },
   {
    "duration": 2,
    "start_time": "2024-10-31T19:59:20.246Z"
   },
   {
    "duration": 68,
    "start_time": "2024-10-31T19:59:21.592Z"
   },
   {
    "duration": 3,
    "start_time": "2024-10-31T19:59:34.134Z"
   },
   {
    "duration": 579,
    "start_time": "2024-10-31T19:59:36.121Z"
   },
   {
    "duration": 3,
    "start_time": "2024-10-31T20:00:56.268Z"
   },
   {
    "duration": 577,
    "start_time": "2024-10-31T20:01:33.394Z"
   },
   {
    "duration": 3,
    "start_time": "2024-10-31T20:01:42.429Z"
   },
   {
    "duration": 551,
    "start_time": "2024-10-31T20:01:44.969Z"
   },
   {
    "duration": 3,
    "start_time": "2024-10-31T20:02:08.608Z"
   },
   {
    "duration": 530,
    "start_time": "2024-10-31T20:02:10.498Z"
   },
   {
    "duration": 4,
    "start_time": "2024-10-31T20:03:00.573Z"
   },
   {
    "duration": 1550,
    "start_time": "2024-10-31T20:03:03.236Z"
   },
   {
    "duration": 3,
    "start_time": "2024-10-31T20:03:34.563Z"
   },
   {
    "duration": 3909,
    "start_time": "2024-10-31T20:03:35.947Z"
   },
   {
    "duration": 3010,
    "start_time": "2024-10-31T20:03:39.858Z"
   },
   {
    "duration": 3,
    "start_time": "2024-10-31T20:04:53.828Z"
   },
   {
    "duration": 3,
    "start_time": "2024-10-31T20:08:22.411Z"
   },
   {
    "duration": 3,
    "start_time": "2024-10-31T20:11:04.423Z"
   },
   {
    "duration": 10,
    "start_time": "2024-10-31T20:11:43.426Z"
   },
   {
    "duration": 31,
    "start_time": "2024-10-31T20:11:49.918Z"
   },
   {
    "duration": 4,
    "start_time": "2024-10-31T20:12:55.828Z"
   },
   {
    "duration": 38,
    "start_time": "2024-10-31T20:12:57.905Z"
   },
   {
    "duration": 4,
    "start_time": "2024-10-31T20:13:35.616Z"
   },
   {
    "duration": 39,
    "start_time": "2024-10-31T20:13:46.990Z"
   },
   {
    "duration": 35,
    "start_time": "2024-10-31T20:14:11.210Z"
   },
   {
    "duration": 44,
    "start_time": "2024-10-31T20:14:11.327Z"
   },
   {
    "duration": 36,
    "start_time": "2024-10-31T20:14:12.221Z"
   },
   {
    "duration": 35,
    "start_time": "2024-10-31T20:14:12.714Z"
   },
   {
    "duration": 38,
    "start_time": "2024-10-31T20:14:13.078Z"
   },
   {
    "duration": 49,
    "start_time": "2024-10-31T20:14:13.460Z"
   },
   {
    "duration": 49,
    "start_time": "2024-10-31T20:14:13.584Z"
   },
   {
    "duration": 3,
    "start_time": "2024-10-31T20:14:46.808Z"
   },
   {
    "duration": 3,
    "start_time": "2024-10-31T20:14:55.900Z"
   },
   {
    "duration": 45,
    "start_time": "2024-10-31T20:14:57.162Z"
   },
   {
    "duration": 3,
    "start_time": "2024-10-31T20:15:25.315Z"
   },
   {
    "duration": 36,
    "start_time": "2024-10-31T20:15:26.547Z"
   },
   {
    "duration": 4,
    "start_time": "2024-10-31T20:16:13.348Z"
   },
   {
    "duration": 14,
    "start_time": "2024-10-31T20:16:13.787Z"
   },
   {
    "duration": 4,
    "start_time": "2024-10-31T20:16:44.547Z"
   },
   {
    "duration": 15,
    "start_time": "2024-10-31T20:16:46.192Z"
   },
   {
    "duration": 13,
    "start_time": "2024-10-31T20:17:00.372Z"
   },
   {
    "duration": 4,
    "start_time": "2024-10-31T20:17:13.716Z"
   },
   {
    "duration": 14,
    "start_time": "2024-10-31T20:17:15.306Z"
   },
   {
    "duration": 3,
    "start_time": "2024-10-31T20:17:37.285Z"
   },
   {
    "duration": 40,
    "start_time": "2024-10-31T20:17:38.347Z"
   },
   {
    "duration": 4,
    "start_time": "2024-10-31T20:17:53.859Z"
   },
   {
    "duration": 42,
    "start_time": "2024-10-31T20:17:55.174Z"
   },
   {
    "duration": 4,
    "start_time": "2024-10-31T20:18:09.821Z"
   },
   {
    "duration": 41,
    "start_time": "2024-10-31T20:18:11.221Z"
   },
   {
    "duration": 4,
    "start_time": "2024-10-31T20:18:23.772Z"
   },
   {
    "duration": 35,
    "start_time": "2024-10-31T20:18:26.004Z"
   },
   {
    "duration": 4,
    "start_time": "2024-10-31T20:19:58.621Z"
   },
   {
    "duration": 40,
    "start_time": "2024-10-31T20:19:59.009Z"
   },
   {
    "duration": 3,
    "start_time": "2024-10-31T20:20:50.950Z"
   },
   {
    "duration": 1348,
    "start_time": "2024-10-31T20:20:52.406Z"
   },
   {
    "duration": 9,
    "start_time": "2024-10-31T20:21:03.664Z"
   },
   {
    "duration": 31,
    "start_time": "2024-10-31T20:21:17.949Z"
   },
   {
    "duration": 4,
    "start_time": "2024-10-31T20:22:44.832Z"
   },
   {
    "duration": 1343,
    "start_time": "2024-10-31T20:22:47.339Z"
   },
   {
    "duration": 49,
    "start_time": "2024-10-31T20:22:48.685Z"
   },
   {
    "duration": 19,
    "start_time": "2024-10-31T20:23:29.635Z"
   },
   {
    "duration": 21,
    "start_time": "2024-10-31T20:23:33.874Z"
   },
   {
    "duration": 4,
    "start_time": "2024-10-31T20:24:39.561Z"
   },
   {
    "duration": 1332,
    "start_time": "2024-10-31T20:24:41.093Z"
   },
   {
    "duration": 1360,
    "start_time": "2024-10-31T20:24:43.092Z"
   },
   {
    "duration": 4,
    "start_time": "2024-10-31T20:25:50.989Z"
   },
   {
    "duration": 37,
    "start_time": "2024-10-31T20:25:52.490Z"
   },
   {
    "duration": 4,
    "start_time": "2024-10-31T20:26:39.193Z"
   },
   {
    "duration": 1327,
    "start_time": "2024-10-31T20:26:40.493Z"
   },
   {
    "duration": 3,
    "start_time": "2024-10-31T20:29:08.077Z"
   },
   {
    "duration": 18,
    "start_time": "2024-10-31T20:29:08.939Z"
   },
   {
    "duration": 4,
    "start_time": "2024-10-31T20:29:19.573Z"
   },
   {
    "duration": 4,
    "start_time": "2024-10-31T20:29:26.296Z"
   },
   {
    "duration": 1376,
    "start_time": "2024-10-31T20:29:26.740Z"
   },
   {
    "duration": 2067,
    "start_time": "2024-10-31T20:29:28.118Z"
   },
   {
    "duration": 1113,
    "start_time": "2024-11-04T17:27:52.582Z"
   },
   {
    "duration": 3,
    "start_time": "2024-11-04T17:27:53.697Z"
   },
   {
    "duration": 545,
    "start_time": "2024-11-04T17:27:53.701Z"
   },
   {
    "duration": 237,
    "start_time": "2024-11-04T17:27:54.248Z"
   },
   {
    "duration": 246,
    "start_time": "2024-11-04T17:27:54.487Z"
   },
   {
    "duration": 4,
    "start_time": "2024-11-04T17:27:54.734Z"
   },
   {
    "duration": 88,
    "start_time": "2024-11-04T17:27:54.739Z"
   },
   {
    "duration": 92,
    "start_time": "2024-11-04T17:27:54.829Z"
   },
   {
    "duration": 114,
    "start_time": "2024-11-04T17:27:54.923Z"
   },
   {
    "duration": 81,
    "start_time": "2024-11-04T17:27:55.038Z"
   },
   {
    "duration": 22,
    "start_time": "2024-11-04T17:27:55.121Z"
   },
   {
    "duration": 81,
    "start_time": "2024-11-04T17:27:55.145Z"
   },
   {
    "duration": 4,
    "start_time": "2024-11-04T17:27:55.228Z"
   },
   {
    "duration": 2417,
    "start_time": "2024-11-04T17:27:55.235Z"
   },
   {
    "duration": 2396,
    "start_time": "2024-11-04T17:27:57.654Z"
   },
   {
    "duration": 5,
    "start_time": "2024-11-04T17:37:11.888Z"
   },
   {
    "duration": 1629,
    "start_time": "2024-11-04T17:37:14.122Z"
   },
   {
    "duration": 4,
    "start_time": "2024-11-04T17:40:39.869Z"
   },
   {
    "duration": 1619,
    "start_time": "2024-11-04T17:40:40.884Z"
   },
   {
    "duration": 83,
    "start_time": "2024-11-04T17:44:07.302Z"
   },
   {
    "duration": 1647,
    "start_time": "2024-11-04T17:44:07.971Z"
   },
   {
    "duration": 6,
    "start_time": "2024-11-04T17:44:48.590Z"
   },
   {
    "duration": 1618,
    "start_time": "2024-11-04T17:44:48.597Z"
   },
   {
    "duration": 1073,
    "start_time": "2024-11-05T17:05:26.604Z"
   },
   {
    "duration": 2,
    "start_time": "2024-11-05T17:05:27.679Z"
   },
   {
    "duration": 543,
    "start_time": "2024-11-05T17:05:27.682Z"
   },
   {
    "duration": 207,
    "start_time": "2024-11-05T17:05:28.226Z"
   },
   {
    "duration": 208,
    "start_time": "2024-11-05T17:05:28.435Z"
   },
   {
    "duration": 3,
    "start_time": "2024-11-05T17:05:28.645Z"
   },
   {
    "duration": 60,
    "start_time": "2024-11-05T17:05:28.649Z"
   },
   {
    "duration": 40,
    "start_time": "2024-11-05T17:05:28.710Z"
   },
   {
    "duration": 59,
    "start_time": "2024-11-05T17:05:28.751Z"
   },
   {
    "duration": 28,
    "start_time": "2024-11-05T17:05:28.811Z"
   },
   {
    "duration": 21,
    "start_time": "2024-11-05T17:05:28.840Z"
   },
   {
    "duration": 45,
    "start_time": "2024-11-05T17:05:28.862Z"
   },
   {
    "duration": 5,
    "start_time": "2024-11-05T17:05:28.908Z"
   },
   {
    "duration": 1892,
    "start_time": "2024-11-05T17:05:28.915Z"
   },
   {
    "duration": 2370,
    "start_time": "2024-11-05T17:05:30.808Z"
   },
   {
    "duration": 4,
    "start_time": "2024-11-05T17:10:53.727Z"
   },
   {
    "duration": 1471,
    "start_time": "2024-11-05T17:10:54.611Z"
   },
   {
    "duration": 1460,
    "start_time": "2024-11-05T17:11:20.569Z"
   },
   {
    "duration": 5,
    "start_time": "2024-11-05T17:12:33.622Z"
   },
   {
    "duration": 5,
    "start_time": "2024-11-05T17:12:41.151Z"
   },
   {
    "duration": 5,
    "start_time": "2024-11-05T17:12:49.990Z"
   },
   {
    "duration": 7,
    "start_time": "2024-11-05T17:12:55.271Z"
   },
   {
    "duration": 1508,
    "start_time": "2024-11-05T17:12:57.192Z"
   },
   {
    "duration": 6,
    "start_time": "2024-11-05T17:19:21.965Z"
   },
   {
    "duration": 1568,
    "start_time": "2024-11-05T17:19:22.469Z"
   },
   {
    "duration": 2263,
    "start_time": "2024-11-05T17:19:24.039Z"
   },
   {
    "duration": 982,
    "start_time": "2024-11-06T03:07:50.454Z"
   },
   {
    "duration": 2,
    "start_time": "2024-11-06T03:07:51.438Z"
   },
   {
    "duration": 523,
    "start_time": "2024-11-06T03:07:51.441Z"
   },
   {
    "duration": 206,
    "start_time": "2024-11-06T03:07:51.966Z"
   },
   {
    "duration": 190,
    "start_time": "2024-11-06T03:07:52.174Z"
   },
   {
    "duration": 3,
    "start_time": "2024-11-06T03:07:52.365Z"
   },
   {
    "duration": 55,
    "start_time": "2024-11-06T03:07:52.369Z"
   },
   {
    "duration": 39,
    "start_time": "2024-11-06T03:07:52.425Z"
   },
   {
    "duration": 58,
    "start_time": "2024-11-06T03:07:52.465Z"
   },
   {
    "duration": 26,
    "start_time": "2024-11-06T03:07:52.525Z"
   },
   {
    "duration": 19,
    "start_time": "2024-11-06T03:07:52.552Z"
   },
   {
    "duration": 40,
    "start_time": "2024-11-06T03:07:52.572Z"
   },
   {
    "duration": 5,
    "start_time": "2024-11-06T03:07:52.614Z"
   },
   {
    "duration": 1953,
    "start_time": "2024-11-06T03:07:52.621Z"
   },
   {
    "duration": 2251,
    "start_time": "2024-11-06T03:07:54.576Z"
   },
   {
    "duration": 4,
    "start_time": "2024-11-06T03:09:03.719Z"
   },
   {
    "duration": 1457,
    "start_time": "2024-11-06T03:09:04.201Z"
   },
   {
    "duration": 2285,
    "start_time": "2024-11-06T03:09:05.660Z"
   },
   {
    "duration": 1437,
    "start_time": "2024-11-06T03:09:51.346Z"
   },
   {
    "duration": 1114,
    "start_time": "2024-11-07T21:09:19.030Z"
   },
   {
    "duration": 0,
    "start_time": "2024-11-07T21:09:20.153Z"
   },
   {
    "duration": 0,
    "start_time": "2024-11-07T21:09:20.154Z"
   },
   {
    "duration": 0,
    "start_time": "2024-11-07T21:09:20.156Z"
   },
   {
    "duration": 0,
    "start_time": "2024-11-07T21:09:20.156Z"
   },
   {
    "duration": 0,
    "start_time": "2024-11-07T21:09:20.158Z"
   },
   {
    "duration": 0,
    "start_time": "2024-11-07T21:09:20.159Z"
   },
   {
    "duration": 0,
    "start_time": "2024-11-07T21:09:20.160Z"
   },
   {
    "duration": 0,
    "start_time": "2024-11-07T21:09:20.161Z"
   },
   {
    "duration": 0,
    "start_time": "2024-11-07T21:09:20.162Z"
   },
   {
    "duration": 0,
    "start_time": "2024-11-07T21:09:20.163Z"
   },
   {
    "duration": 0,
    "start_time": "2024-11-07T21:09:20.164Z"
   },
   {
    "duration": 0,
    "start_time": "2024-11-07T21:09:20.165Z"
   },
   {
    "duration": 0,
    "start_time": "2024-11-07T21:09:20.166Z"
   },
   {
    "duration": 0,
    "start_time": "2024-11-07T21:09:20.167Z"
   },
   {
    "duration": 0,
    "start_time": "2024-11-07T21:09:20.168Z"
   },
   {
    "duration": 0,
    "start_time": "2024-11-07T21:09:20.169Z"
   },
   {
    "duration": 0,
    "start_time": "2024-11-07T21:09:20.170Z"
   },
   {
    "duration": 0,
    "start_time": "2024-11-07T21:09:20.171Z"
   },
   {
    "duration": 0,
    "start_time": "2024-11-07T21:09:20.172Z"
   },
   {
    "duration": 0,
    "start_time": "2024-11-07T21:09:20.173Z"
   },
   {
    "duration": 0,
    "start_time": "2024-11-07T21:09:20.174Z"
   },
   {
    "duration": 0,
    "start_time": "2024-11-07T21:09:20.175Z"
   },
   {
    "duration": 0,
    "start_time": "2024-11-07T21:09:20.176Z"
   },
   {
    "duration": 0,
    "start_time": "2024-11-07T21:09:20.177Z"
   },
   {
    "duration": 0,
    "start_time": "2024-11-07T21:09:20.178Z"
   },
   {
    "duration": 0,
    "start_time": "2024-11-07T21:09:20.179Z"
   },
   {
    "duration": 0,
    "start_time": "2024-11-07T21:09:20.180Z"
   },
   {
    "duration": 0,
    "start_time": "2024-11-07T21:09:20.181Z"
   },
   {
    "duration": 0,
    "start_time": "2024-11-07T21:09:20.182Z"
   },
   {
    "duration": 0,
    "start_time": "2024-11-07T21:09:20.183Z"
   },
   {
    "duration": 0,
    "start_time": "2024-11-07T21:09:20.184Z"
   },
   {
    "duration": 0,
    "start_time": "2024-11-07T21:09:20.185Z"
   },
   {
    "duration": 0,
    "start_time": "2024-11-07T21:09:20.186Z"
   },
   {
    "duration": 0,
    "start_time": "2024-11-07T21:09:20.187Z"
   },
   {
    "duration": 0,
    "start_time": "2024-11-07T21:09:20.188Z"
   },
   {
    "duration": 0,
    "start_time": "2024-11-07T21:09:20.189Z"
   },
   {
    "duration": 0,
    "start_time": "2024-11-07T21:09:20.190Z"
   },
   {
    "duration": 0,
    "start_time": "2024-11-07T21:09:20.254Z"
   },
   {
    "duration": 0,
    "start_time": "2024-11-07T21:09:20.256Z"
   },
   {
    "duration": 0,
    "start_time": "2024-11-07T21:09:20.257Z"
   },
   {
    "duration": 0,
    "start_time": "2024-11-07T21:09:20.258Z"
   },
   {
    "duration": 0,
    "start_time": "2024-11-07T21:09:20.259Z"
   },
   {
    "duration": 0,
    "start_time": "2024-11-07T21:09:20.260Z"
   },
   {
    "duration": 0,
    "start_time": "2024-11-07T21:09:20.261Z"
   },
   {
    "duration": 0,
    "start_time": "2024-11-07T21:09:20.262Z"
   },
   {
    "duration": 0,
    "start_time": "2024-11-07T21:09:20.263Z"
   },
   {
    "duration": 0,
    "start_time": "2024-11-07T21:09:20.264Z"
   },
   {
    "duration": 0,
    "start_time": "2024-11-07T21:09:20.266Z"
   },
   {
    "duration": 0,
    "start_time": "2024-11-07T21:09:20.266Z"
   },
   {
    "duration": 0,
    "start_time": "2024-11-07T21:09:20.268Z"
   },
   {
    "duration": 0,
    "start_time": "2024-11-07T21:09:20.268Z"
   },
   {
    "duration": 44,
    "start_time": "2024-11-07T21:09:52.064Z"
   },
   {
    "duration": 3,
    "start_time": "2024-11-07T21:09:54.388Z"
   },
   {
    "duration": 427,
    "start_time": "2024-11-07T21:09:54.916Z"
   },
   {
    "duration": 381,
    "start_time": "2024-11-07T21:09:55.345Z"
   },
   {
    "duration": 401,
    "start_time": "2024-11-07T21:09:55.728Z"
   },
   {
    "duration": 4,
    "start_time": "2024-11-07T21:09:56.131Z"
   },
   {
    "duration": 62,
    "start_time": "2024-11-07T21:09:56.548Z"
   },
   {
    "duration": 60,
    "start_time": "2024-11-07T21:09:57.080Z"
   },
   {
    "duration": 50,
    "start_time": "2024-11-07T21:09:57.302Z"
   },
   {
    "duration": 34,
    "start_time": "2024-11-07T21:09:57.970Z"
   },
   {
    "duration": 24,
    "start_time": "2024-11-07T21:09:58.142Z"
   },
   {
    "duration": 31,
    "start_time": "2024-11-07T21:09:58.352Z"
   },
   {
    "duration": 3,
    "start_time": "2024-11-07T21:10:02.646Z"
   },
   {
    "duration": 44,
    "start_time": "2024-11-07T21:10:02.816Z"
   },
   {
    "duration": 44,
    "start_time": "2024-11-07T21:10:03.070Z"
   },
   {
    "duration": 45,
    "start_time": "2024-11-07T21:10:03.184Z"
   },
   {
    "duration": 3,
    "start_time": "2024-11-07T21:10:03.594Z"
   },
   {
    "duration": 3,
    "start_time": "2024-11-07T21:10:04.118Z"
   },
   {
    "duration": 3,
    "start_time": "2024-11-07T21:10:04.177Z"
   },
   {
    "duration": 4,
    "start_time": "2024-11-07T21:10:04.229Z"
   },
   {
    "duration": 3073,
    "start_time": "2024-11-07T21:10:04.288Z"
   },
   {
    "duration": 2997,
    "start_time": "2024-11-07T21:10:07.363Z"
   },
   {
    "duration": 2998,
    "start_time": "2024-11-07T21:10:10.362Z"
   },
   {
    "duration": 7,
    "start_time": "2024-11-07T21:10:13.362Z"
   },
   {
    "duration": 88,
    "start_time": "2024-11-07T21:10:13.372Z"
   },
   {
    "duration": 192,
    "start_time": "2024-11-07T21:10:13.462Z"
   },
   {
    "duration": 91,
    "start_time": "2024-11-07T21:10:13.662Z"
   },
   {
    "duration": 99,
    "start_time": "2024-11-07T21:10:13.762Z"
   },
   {
    "duration": 20,
    "start_time": "2024-11-07T21:10:13.862Z"
   },
   {
    "duration": 18,
    "start_time": "2024-11-07T21:10:13.886Z"
   },
   {
    "duration": 6,
    "start_time": "2024-11-07T21:10:13.907Z"
   },
   {
    "duration": 16,
    "start_time": "2024-11-07T21:10:13.915Z"
   },
   {
    "duration": 28,
    "start_time": "2024-11-07T21:10:13.933Z"
   },
   {
    "duration": 8,
    "start_time": "2024-11-07T21:10:13.963Z"
   },
   {
    "duration": 5,
    "start_time": "2024-11-07T21:10:13.974Z"
   },
   {
    "duration": 58,
    "start_time": "2024-11-07T21:10:13.981Z"
   },
   {
    "duration": 12,
    "start_time": "2024-11-07T21:10:14.041Z"
   },
   {
    "duration": 15,
    "start_time": "2024-11-07T21:10:14.054Z"
   },
   {
    "duration": 7899,
    "start_time": "2024-11-07T21:10:14.071Z"
   },
   {
    "duration": 6,
    "start_time": "2024-11-07T21:10:21.972Z"
   },
   {
    "duration": 9,
    "start_time": "2024-11-07T21:10:21.980Z"
   },
   {
    "duration": 12,
    "start_time": "2024-11-07T21:10:21.991Z"
   },
   {
    "duration": 5,
    "start_time": "2024-11-07T21:10:22.005Z"
   },
   {
    "duration": 9,
    "start_time": "2024-11-07T21:10:22.012Z"
   },
   {
    "duration": 4,
    "start_time": "2024-11-07T21:12:15.278Z"
   },
   {
    "duration": 5,
    "start_time": "2024-11-07T21:12:16.500Z"
   },
   {
    "duration": 4,
    "start_time": "2024-11-07T21:12:17.348Z"
   },
   {
    "duration": 5,
    "start_time": "2024-11-07T21:12:23.653Z"
   },
   {
    "duration": 4,
    "start_time": "2024-11-07T21:12:28.483Z"
   },
   {
    "duration": 4,
    "start_time": "2024-11-07T21:12:38.505Z"
   },
   {
    "duration": 5,
    "start_time": "2024-11-07T21:12:41.568Z"
   },
   {
    "duration": 4,
    "start_time": "2024-11-07T21:13:00.154Z"
   },
   {
    "duration": 6,
    "start_time": "2024-11-07T21:13:00.805Z"
   },
   {
    "duration": 4,
    "start_time": "2024-11-07T21:13:04.813Z"
   },
   {
    "duration": 4,
    "start_time": "2024-11-07T21:13:05.082Z"
   },
   {
    "duration": 5,
    "start_time": "2024-11-07T21:13:05.569Z"
   },
   {
    "duration": 83,
    "start_time": "2024-11-07T21:13:23.393Z"
   },
   {
    "duration": 5,
    "start_time": "2024-11-07T21:13:25.223Z"
   },
   {
    "duration": 5,
    "start_time": "2024-11-07T21:13:25.322Z"
   },
   {
    "duration": 5,
    "start_time": "2024-11-07T21:13:55.200Z"
   },
   {
    "duration": 3,
    "start_time": "2024-11-07T21:14:08.994Z"
   },
   {
    "duration": 5,
    "start_time": "2024-11-07T21:14:09.187Z"
   },
   {
    "duration": 6,
    "start_time": "2024-11-07T21:14:10.013Z"
   },
   {
    "duration": 1297,
    "start_time": "2024-11-07T21:29:59.922Z"
   },
   {
    "duration": 0,
    "start_time": "2024-11-07T21:30:01.223Z"
   },
   {
    "duration": 0,
    "start_time": "2024-11-07T21:30:01.224Z"
   },
   {
    "duration": 0,
    "start_time": "2024-11-07T21:30:01.226Z"
   },
   {
    "duration": 0,
    "start_time": "2024-11-07T21:30:01.227Z"
   },
   {
    "duration": 0,
    "start_time": "2024-11-07T21:30:01.229Z"
   },
   {
    "duration": 0,
    "start_time": "2024-11-07T21:30:01.230Z"
   },
   {
    "duration": 0,
    "start_time": "2024-11-07T21:30:01.232Z"
   },
   {
    "duration": 1,
    "start_time": "2024-11-07T21:30:01.233Z"
   },
   {
    "duration": 0,
    "start_time": "2024-11-07T21:30:01.235Z"
   },
   {
    "duration": 0,
    "start_time": "2024-11-07T21:30:01.236Z"
   },
   {
    "duration": 0,
    "start_time": "2024-11-07T21:30:01.238Z"
   },
   {
    "duration": 0,
    "start_time": "2024-11-07T21:30:01.240Z"
   },
   {
    "duration": 0,
    "start_time": "2024-11-07T21:30:01.241Z"
   },
   {
    "duration": 0,
    "start_time": "2024-11-07T21:30:01.242Z"
   },
   {
    "duration": 0,
    "start_time": "2024-11-07T21:30:01.244Z"
   },
   {
    "duration": 0,
    "start_time": "2024-11-07T21:30:01.245Z"
   },
   {
    "duration": 0,
    "start_time": "2024-11-07T21:30:01.246Z"
   },
   {
    "duration": 0,
    "start_time": "2024-11-07T21:30:01.248Z"
   },
   {
    "duration": 0,
    "start_time": "2024-11-07T21:30:01.249Z"
   },
   {
    "duration": 0,
    "start_time": "2024-11-07T21:30:01.251Z"
   },
   {
    "duration": 0,
    "start_time": "2024-11-07T21:30:01.252Z"
   },
   {
    "duration": 0,
    "start_time": "2024-11-07T21:30:01.254Z"
   },
   {
    "duration": 0,
    "start_time": "2024-11-07T21:30:01.256Z"
   },
   {
    "duration": 0,
    "start_time": "2024-11-07T21:30:01.257Z"
   },
   {
    "duration": 0,
    "start_time": "2024-11-07T21:30:01.258Z"
   },
   {
    "duration": 0,
    "start_time": "2024-11-07T21:30:01.259Z"
   },
   {
    "duration": 0,
    "start_time": "2024-11-07T21:30:01.260Z"
   },
   {
    "duration": 0,
    "start_time": "2024-11-07T21:30:01.261Z"
   },
   {
    "duration": 0,
    "start_time": "2024-11-07T21:30:01.262Z"
   },
   {
    "duration": 0,
    "start_time": "2024-11-07T21:30:01.321Z"
   },
   {
    "duration": 0,
    "start_time": "2024-11-07T21:30:01.322Z"
   },
   {
    "duration": 0,
    "start_time": "2024-11-07T21:30:01.323Z"
   },
   {
    "duration": 0,
    "start_time": "2024-11-07T21:30:01.324Z"
   },
   {
    "duration": 0,
    "start_time": "2024-11-07T21:30:01.325Z"
   },
   {
    "duration": 0,
    "start_time": "2024-11-07T21:30:01.326Z"
   },
   {
    "duration": 0,
    "start_time": "2024-11-07T21:30:01.327Z"
   },
   {
    "duration": 0,
    "start_time": "2024-11-07T21:30:01.328Z"
   },
   {
    "duration": 0,
    "start_time": "2024-11-07T21:30:01.329Z"
   },
   {
    "duration": 0,
    "start_time": "2024-11-07T21:30:01.330Z"
   },
   {
    "duration": 0,
    "start_time": "2024-11-07T21:30:01.331Z"
   },
   {
    "duration": 0,
    "start_time": "2024-11-07T21:30:01.332Z"
   },
   {
    "duration": 0,
    "start_time": "2024-11-07T21:30:01.333Z"
   },
   {
    "duration": 0,
    "start_time": "2024-11-07T21:30:01.335Z"
   },
   {
    "duration": 0,
    "start_time": "2024-11-07T21:30:01.336Z"
   },
   {
    "duration": 0,
    "start_time": "2024-11-07T21:30:01.337Z"
   },
   {
    "duration": 0,
    "start_time": "2024-11-07T21:30:01.338Z"
   },
   {
    "duration": 0,
    "start_time": "2024-11-07T21:30:01.339Z"
   },
   {
    "duration": 0,
    "start_time": "2024-11-07T21:30:01.339Z"
   },
   {
    "duration": 0,
    "start_time": "2024-11-07T21:30:01.340Z"
   },
   {
    "duration": 0,
    "start_time": "2024-11-07T21:30:01.341Z"
   },
   {
    "duration": 0,
    "start_time": "2024-11-07T21:30:01.342Z"
   },
   {
    "duration": 3282,
    "start_time": "2024-11-07T21:32:16.180Z"
   },
   {
    "duration": 1706,
    "start_time": "2024-11-07T21:32:19.465Z"
   },
   {
    "duration": 0,
    "start_time": "2024-11-07T21:32:21.174Z"
   },
   {
    "duration": 0,
    "start_time": "2024-11-07T21:32:21.175Z"
   },
   {
    "duration": 0,
    "start_time": "2024-11-07T21:32:21.176Z"
   },
   {
    "duration": 0,
    "start_time": "2024-11-07T21:32:21.177Z"
   },
   {
    "duration": 0,
    "start_time": "2024-11-07T21:32:21.178Z"
   },
   {
    "duration": 0,
    "start_time": "2024-11-07T21:32:21.179Z"
   },
   {
    "duration": 0,
    "start_time": "2024-11-07T21:32:21.180Z"
   },
   {
    "duration": 0,
    "start_time": "2024-11-07T21:32:21.181Z"
   },
   {
    "duration": 0,
    "start_time": "2024-11-07T21:32:21.182Z"
   },
   {
    "duration": 0,
    "start_time": "2024-11-07T21:32:21.183Z"
   },
   {
    "duration": 0,
    "start_time": "2024-11-07T21:32:21.185Z"
   },
   {
    "duration": 0,
    "start_time": "2024-11-07T21:32:21.186Z"
   },
   {
    "duration": 0,
    "start_time": "2024-11-07T21:32:21.186Z"
   },
   {
    "duration": 0,
    "start_time": "2024-11-07T21:32:21.188Z"
   },
   {
    "duration": 0,
    "start_time": "2024-11-07T21:32:21.188Z"
   },
   {
    "duration": 0,
    "start_time": "2024-11-07T21:32:21.190Z"
   },
   {
    "duration": 0,
    "start_time": "2024-11-07T21:32:21.191Z"
   },
   {
    "duration": 0,
    "start_time": "2024-11-07T21:32:21.224Z"
   },
   {
    "duration": 0,
    "start_time": "2024-11-07T21:32:21.225Z"
   },
   {
    "duration": 0,
    "start_time": "2024-11-07T21:32:21.227Z"
   },
   {
    "duration": 0,
    "start_time": "2024-11-07T21:32:21.228Z"
   },
   {
    "duration": 0,
    "start_time": "2024-11-07T21:32:21.229Z"
   },
   {
    "duration": 0,
    "start_time": "2024-11-07T21:32:21.230Z"
   },
   {
    "duration": 0,
    "start_time": "2024-11-07T21:32:21.231Z"
   },
   {
    "duration": 0,
    "start_time": "2024-11-07T21:32:21.232Z"
   },
   {
    "duration": 0,
    "start_time": "2024-11-07T21:32:21.233Z"
   },
   {
    "duration": 0,
    "start_time": "2024-11-07T21:32:21.234Z"
   },
   {
    "duration": 0,
    "start_time": "2024-11-07T21:32:21.235Z"
   },
   {
    "duration": 0,
    "start_time": "2024-11-07T21:32:21.236Z"
   },
   {
    "duration": 0,
    "start_time": "2024-11-07T21:32:21.238Z"
   },
   {
    "duration": 0,
    "start_time": "2024-11-07T21:32:21.239Z"
   },
   {
    "duration": 0,
    "start_time": "2024-11-07T21:32:21.240Z"
   },
   {
    "duration": 0,
    "start_time": "2024-11-07T21:32:21.241Z"
   },
   {
    "duration": 0,
    "start_time": "2024-11-07T21:32:21.242Z"
   },
   {
    "duration": 0,
    "start_time": "2024-11-07T21:32:21.243Z"
   },
   {
    "duration": 0,
    "start_time": "2024-11-07T21:32:21.244Z"
   },
   {
    "duration": 0,
    "start_time": "2024-11-07T21:32:21.245Z"
   },
   {
    "duration": 0,
    "start_time": "2024-11-07T21:32:21.246Z"
   },
   {
    "duration": 0,
    "start_time": "2024-11-07T21:32:21.247Z"
   },
   {
    "duration": 0,
    "start_time": "2024-11-07T21:32:21.248Z"
   },
   {
    "duration": 0,
    "start_time": "2024-11-07T21:32:21.249Z"
   },
   {
    "duration": 0,
    "start_time": "2024-11-07T21:32:21.250Z"
   },
   {
    "duration": 0,
    "start_time": "2024-11-07T21:32:21.251Z"
   },
   {
    "duration": 0,
    "start_time": "2024-11-07T21:32:21.252Z"
   },
   {
    "duration": 0,
    "start_time": "2024-11-07T21:32:21.253Z"
   },
   {
    "duration": 0,
    "start_time": "2024-11-07T21:32:21.254Z"
   },
   {
    "duration": 0,
    "start_time": "2024-11-07T21:32:21.255Z"
   },
   {
    "duration": 0,
    "start_time": "2024-11-07T21:32:21.256Z"
   },
   {
    "duration": 0,
    "start_time": "2024-11-07T21:32:21.257Z"
   },
   {
    "duration": 0,
    "start_time": "2024-11-07T21:32:21.258Z"
   },
   {
    "duration": 0,
    "start_time": "2024-11-07T21:32:21.322Z"
   },
   {
    "duration": 3225,
    "start_time": "2024-11-07T21:34:39.410Z"
   },
   {
    "duration": 1399,
    "start_time": "2024-11-07T21:34:42.638Z"
   },
   {
    "duration": 3,
    "start_time": "2024-11-07T21:34:44.039Z"
   },
   {
    "duration": 390,
    "start_time": "2024-11-07T21:34:44.044Z"
   },
   {
    "duration": 340,
    "start_time": "2024-11-07T21:34:44.436Z"
   },
   {
    "duration": 394,
    "start_time": "2024-11-07T21:34:44.778Z"
   },
   {
    "duration": 4,
    "start_time": "2024-11-07T21:34:45.173Z"
   },
   {
    "duration": 99,
    "start_time": "2024-11-07T21:34:45.179Z"
   },
   {
    "duration": 67,
    "start_time": "2024-11-07T21:34:45.279Z"
   },
   {
    "duration": 73,
    "start_time": "2024-11-07T21:34:45.350Z"
   },
   {
    "duration": 48,
    "start_time": "2024-11-07T21:34:45.425Z"
   },
   {
    "duration": 24,
    "start_time": "2024-11-07T21:34:45.475Z"
   },
   {
    "duration": 36,
    "start_time": "2024-11-07T21:34:45.501Z"
   },
   {
    "duration": 5,
    "start_time": "2024-11-07T21:34:45.538Z"
   },
   {
    "duration": 2060,
    "start_time": "2024-11-07T21:34:45.545Z"
   },
   {
    "duration": 2678,
    "start_time": "2024-11-07T21:34:47.607Z"
   },
   {
    "duration": 2686,
    "start_time": "2024-11-07T21:34:50.287Z"
   },
   {
    "duration": 4,
    "start_time": "2024-11-07T21:34:52.975Z"
   },
   {
    "duration": 1163,
    "start_time": "2024-11-07T21:34:52.980Z"
   },
   {
    "duration": 1005,
    "start_time": "2024-11-07T21:34:54.145Z"
   },
   {
    "duration": 751,
    "start_time": "2024-11-07T21:34:55.151Z"
   },
   {
    "duration": 4,
    "start_time": "2024-11-07T21:34:55.903Z"
   },
   {
    "duration": 42,
    "start_time": "2024-11-07T21:34:55.920Z"
   },
   {
    "duration": 40,
    "start_time": "2024-11-07T21:34:55.964Z"
   },
   {
    "duration": 46,
    "start_time": "2024-11-07T21:34:56.005Z"
   },
   {
    "duration": 4,
    "start_time": "2024-11-07T21:34:56.052Z"
   },
   {
    "duration": 20,
    "start_time": "2024-11-07T21:34:56.058Z"
   },
   {
    "duration": 3,
    "start_time": "2024-11-07T21:34:56.082Z"
   },
   {
    "duration": 10,
    "start_time": "2024-11-07T21:34:56.087Z"
   },
   {
    "duration": 3029,
    "start_time": "2024-11-07T21:34:56.099Z"
   },
   {
    "duration": 2999,
    "start_time": "2024-11-07T21:34:59.130Z"
   },
   {
    "duration": 2993,
    "start_time": "2024-11-07T21:35:02.131Z"
   },
   {
    "duration": 9,
    "start_time": "2024-11-07T21:35:05.126Z"
   },
   {
    "duration": 186,
    "start_time": "2024-11-07T21:35:05.138Z"
   },
   {
    "duration": 214,
    "start_time": "2024-11-07T21:35:05.327Z"
   },
   {
    "duration": 197,
    "start_time": "2024-11-07T21:35:05.543Z"
   },
   {
    "duration": 53,
    "start_time": "2024-11-07T21:35:05.742Z"
   },
   {
    "duration": 80,
    "start_time": "2024-11-07T21:35:05.797Z"
   },
   {
    "duration": 60,
    "start_time": "2024-11-07T21:35:05.879Z"
   },
   {
    "duration": 70,
    "start_time": "2024-11-07T21:35:05.941Z"
   },
   {
    "duration": 53,
    "start_time": "2024-11-07T21:35:06.012Z"
   },
   {
    "duration": 42,
    "start_time": "2024-11-07T21:35:06.066Z"
   },
   {
    "duration": 66,
    "start_time": "2024-11-07T21:35:06.110Z"
   },
   {
    "duration": 33,
    "start_time": "2024-11-07T21:35:06.178Z"
   },
   {
    "duration": 64,
    "start_time": "2024-11-07T21:35:06.213Z"
   },
   {
    "duration": 69,
    "start_time": "2024-11-07T21:35:06.278Z"
   },
   {
    "duration": 50,
    "start_time": "2024-11-07T21:35:06.349Z"
   },
   {
    "duration": 7829,
    "start_time": "2024-11-07T21:35:06.400Z"
   },
   {
    "duration": 7,
    "start_time": "2024-11-07T21:35:14.231Z"
   },
   {
    "duration": 8,
    "start_time": "2024-11-07T21:35:14.240Z"
   },
   {
    "duration": 14,
    "start_time": "2024-11-07T21:35:14.251Z"
   },
   {
    "duration": 3,
    "start_time": "2024-11-07T21:35:14.267Z"
   },
   {
    "duration": 9,
    "start_time": "2024-11-07T21:35:14.271Z"
   },
   {
    "duration": 2626,
    "start_time": "2024-11-07T21:51:43.033Z"
   },
   {
    "duration": 1522,
    "start_time": "2024-11-07T21:51:45.662Z"
   },
   {
    "duration": 3,
    "start_time": "2024-11-07T21:51:47.186Z"
   },
   {
    "duration": 371,
    "start_time": "2024-11-07T21:51:47.191Z"
   },
   {
    "duration": 375,
    "start_time": "2024-11-07T21:51:47.564Z"
   },
   {
    "duration": 429,
    "start_time": "2024-11-07T21:51:47.940Z"
   },
   {
    "duration": 4,
    "start_time": "2024-11-07T21:51:48.370Z"
   },
   {
    "duration": 68,
    "start_time": "2024-11-07T21:51:48.375Z"
   },
   {
    "duration": 48,
    "start_time": "2024-11-07T21:51:48.445Z"
   },
   {
    "duration": 68,
    "start_time": "2024-11-07T21:51:48.497Z"
   },
   {
    "duration": 30,
    "start_time": "2024-11-07T21:51:48.567Z"
   },
   {
    "duration": 45,
    "start_time": "2024-11-07T21:51:48.599Z"
   },
   {
    "duration": 28,
    "start_time": "2024-11-07T21:51:48.646Z"
   },
   {
    "duration": 4,
    "start_time": "2024-11-07T21:51:48.676Z"
   },
   {
    "duration": 1980,
    "start_time": "2024-11-07T21:51:48.682Z"
   },
   {
    "duration": 2580,
    "start_time": "2024-11-07T21:51:50.664Z"
   },
   {
    "duration": 2677,
    "start_time": "2024-11-07T21:51:53.246Z"
   },
   {
    "duration": 5,
    "start_time": "2024-11-07T21:51:55.927Z"
   },
   {
    "duration": 1218,
    "start_time": "2024-11-07T21:51:55.934Z"
   },
   {
    "duration": 940,
    "start_time": "2024-11-07T21:51:57.153Z"
   },
   {
    "duration": 733,
    "start_time": "2024-11-07T21:51:58.094Z"
   },
   {
    "duration": 3,
    "start_time": "2024-11-07T21:51:58.828Z"
   },
   {
    "duration": 65,
    "start_time": "2024-11-07T21:51:58.833Z"
   },
   {
    "duration": 40,
    "start_time": "2024-11-07T21:51:58.899Z"
   },
   {
    "duration": 40,
    "start_time": "2024-11-07T21:51:58.940Z"
   },
   {
    "duration": 3,
    "start_time": "2024-11-07T21:51:58.982Z"
   },
   {
    "duration": 5,
    "start_time": "2024-11-07T21:51:58.987Z"
   },
   {
    "duration": 3,
    "start_time": "2024-11-07T21:51:58.996Z"
   },
   {
    "duration": 23,
    "start_time": "2024-11-07T21:51:59.000Z"
   },
   {
    "duration": 3005,
    "start_time": "2024-11-07T21:51:59.025Z"
   },
   {
    "duration": 2892,
    "start_time": "2024-11-07T21:52:02.032Z"
   },
   {
    "duration": 3001,
    "start_time": "2024-11-07T21:52:04.926Z"
   },
   {
    "duration": 8,
    "start_time": "2024-11-07T21:52:07.929Z"
   },
   {
    "duration": 183,
    "start_time": "2024-11-07T21:52:07.939Z"
   },
   {
    "duration": 125,
    "start_time": "2024-11-07T21:52:08.124Z"
   },
   {
    "duration": 179,
    "start_time": "2024-11-07T21:52:08.255Z"
   },
   {
    "duration": 22,
    "start_time": "2024-11-07T21:52:08.436Z"
   },
   {
    "duration": 32,
    "start_time": "2024-11-07T21:52:08.460Z"
   },
   {
    "duration": 9,
    "start_time": "2024-11-07T21:52:08.494Z"
   },
   {
    "duration": 44,
    "start_time": "2024-11-07T21:52:08.505Z"
   },
   {
    "duration": 136,
    "start_time": "2024-11-07T21:52:08.552Z"
   },
   {
    "duration": 1,
    "start_time": "2024-11-07T21:52:08.689Z"
   },
   {
    "duration": 0,
    "start_time": "2024-11-07T21:52:08.691Z"
   },
   {
    "duration": 0,
    "start_time": "2024-11-07T21:52:08.692Z"
   },
   {
    "duration": 0,
    "start_time": "2024-11-07T21:52:08.693Z"
   },
   {
    "duration": 0,
    "start_time": "2024-11-07T21:52:08.694Z"
   },
   {
    "duration": 0,
    "start_time": "2024-11-07T21:52:08.695Z"
   },
   {
    "duration": 0,
    "start_time": "2024-11-07T21:52:08.696Z"
   },
   {
    "duration": 0,
    "start_time": "2024-11-07T21:52:08.697Z"
   },
   {
    "duration": 0,
    "start_time": "2024-11-07T21:52:08.698Z"
   },
   {
    "duration": 0,
    "start_time": "2024-11-07T21:52:08.699Z"
   },
   {
    "duration": 0,
    "start_time": "2024-11-07T21:52:08.700Z"
   },
   {
    "duration": 0,
    "start_time": "2024-11-07T21:52:08.701Z"
   },
   {
    "duration": 4,
    "start_time": "2024-11-07T21:53:35.422Z"
   },
   {
    "duration": 4,
    "start_time": "2024-11-07T21:53:37.255Z"
   },
   {
    "duration": 7,
    "start_time": "2024-11-07T21:53:37.782Z"
   },
   {
    "duration": 4,
    "start_time": "2024-11-07T21:53:44.094Z"
   },
   {
    "duration": 33,
    "start_time": "2024-11-07T21:53:45.143Z"
   },
   {
    "duration": 4,
    "start_time": "2024-11-07T21:53:59.446Z"
   },
   {
    "duration": 26,
    "start_time": "2024-11-07T21:54:00.031Z"
   },
   {
    "duration": 4,
    "start_time": "2024-11-07T21:54:31.511Z"
   },
   {
    "duration": 44,
    "start_time": "2024-11-07T21:54:31.967Z"
   },
   {
    "duration": 4,
    "start_time": "2024-11-07T21:54:38.151Z"
   },
   {
    "duration": 4,
    "start_time": "2024-11-07T21:54:43.143Z"
   },
   {
    "duration": 25,
    "start_time": "2024-11-07T21:54:45.070Z"
   },
   {
    "duration": 3,
    "start_time": "2024-11-07T21:55:16.711Z"
   },
   {
    "duration": 4,
    "start_time": "2024-11-07T21:55:17.990Z"
   },
   {
    "duration": 24,
    "start_time": "2024-11-07T21:55:20.327Z"
   },
   {
    "duration": 3,
    "start_time": "2024-11-07T21:55:29.207Z"
   },
   {
    "duration": 4,
    "start_time": "2024-11-07T21:55:30.959Z"
   },
   {
    "duration": 7983,
    "start_time": "2024-11-07T21:55:33.614Z"
   },
   {
    "duration": 6,
    "start_time": "2024-11-07T21:55:41.599Z"
   },
   {
    "duration": 3,
    "start_time": "2024-11-07T21:55:43.032Z"
   },
   {
    "duration": 8,
    "start_time": "2024-11-07T21:55:45.663Z"
   },
   {
    "duration": 3,
    "start_time": "2024-11-07T21:55:46.671Z"
   },
   {
    "duration": 14,
    "start_time": "2024-11-07T21:55:47.879Z"
   },
   {
    "duration": 3,
    "start_time": "2024-11-07T21:55:56.296Z"
   },
   {
    "duration": 6,
    "start_time": "2024-11-07T21:55:57.207Z"
   },
   {
    "duration": 2667,
    "start_time": "2024-11-07T21:56:35.305Z"
   },
   {
    "duration": 1452,
    "start_time": "2024-11-07T21:56:37.975Z"
   },
   {
    "duration": 4,
    "start_time": "2024-11-07T21:56:39.428Z"
   },
   {
    "duration": 385,
    "start_time": "2024-11-07T21:56:39.435Z"
   },
   {
    "duration": 341,
    "start_time": "2024-11-07T21:56:39.822Z"
   },
   {
    "duration": 330,
    "start_time": "2024-11-07T21:56:40.165Z"
   },
   {
    "duration": 3,
    "start_time": "2024-11-07T21:56:40.497Z"
   },
   {
    "duration": 61,
    "start_time": "2024-11-07T21:56:40.502Z"
   },
   {
    "duration": 62,
    "start_time": "2024-11-07T21:56:40.565Z"
   },
   {
    "duration": 47,
    "start_time": "2024-11-07T21:56:40.629Z"
   },
   {
    "duration": 48,
    "start_time": "2024-11-07T21:56:40.678Z"
   },
   {
    "duration": 23,
    "start_time": "2024-11-07T21:56:40.728Z"
   },
   {
    "duration": 30,
    "start_time": "2024-11-07T21:56:40.753Z"
   },
   {
    "duration": 5,
    "start_time": "2024-11-07T21:56:40.785Z"
   },
   {
    "duration": 2051,
    "start_time": "2024-11-07T21:56:40.791Z"
   },
   {
    "duration": 2692,
    "start_time": "2024-11-07T21:56:42.844Z"
   },
   {
    "duration": 2652,
    "start_time": "2024-11-07T21:56:45.538Z"
   },
   {
    "duration": 3,
    "start_time": "2024-11-07T21:56:48.192Z"
   },
   {
    "duration": 1237,
    "start_time": "2024-11-07T21:56:48.197Z"
   },
   {
    "duration": 992,
    "start_time": "2024-11-07T21:56:49.436Z"
   },
   {
    "duration": 701,
    "start_time": "2024-11-07T21:56:50.429Z"
   },
   {
    "duration": 4,
    "start_time": "2024-11-07T21:56:51.132Z"
   },
   {
    "duration": 66,
    "start_time": "2024-11-07T21:56:51.137Z"
   },
   {
    "duration": 41,
    "start_time": "2024-11-07T21:56:51.205Z"
   },
   {
    "duration": 40,
    "start_time": "2024-11-07T21:56:51.248Z"
   },
   {
    "duration": 3,
    "start_time": "2024-11-07T21:56:51.290Z"
   },
   {
    "duration": 5,
    "start_time": "2024-11-07T21:56:51.294Z"
   },
   {
    "duration": 10,
    "start_time": "2024-11-07T21:56:51.320Z"
   },
   {
    "duration": 16,
    "start_time": "2024-11-07T21:56:51.332Z"
   },
   {
    "duration": 3080,
    "start_time": "2024-11-07T21:56:51.349Z"
   },
   {
    "duration": 3000,
    "start_time": "2024-11-07T21:56:54.431Z"
   },
   {
    "duration": 3000,
    "start_time": "2024-11-07T21:56:57.433Z"
   },
   {
    "duration": 7,
    "start_time": "2024-11-07T21:57:00.435Z"
   },
   {
    "duration": 180,
    "start_time": "2024-11-07T21:57:00.446Z"
   },
   {
    "duration": 99,
    "start_time": "2024-11-07T21:57:00.629Z"
   },
   {
    "duration": 93,
    "start_time": "2024-11-07T21:57:00.730Z"
   },
   {
    "duration": 114,
    "start_time": "2024-11-07T21:57:00.825Z"
   },
   {
    "duration": 12,
    "start_time": "2024-11-07T21:57:00.941Z"
   },
   {
    "duration": 30,
    "start_time": "2024-11-07T21:57:00.955Z"
   },
   {
    "duration": 32,
    "start_time": "2024-11-07T21:57:00.987Z"
   },
   {
    "duration": 34,
    "start_time": "2024-11-07T21:57:01.021Z"
   },
   {
    "duration": 43,
    "start_time": "2024-11-07T21:57:01.056Z"
   },
   {
    "duration": 79,
    "start_time": "2024-11-07T21:57:01.101Z"
   },
   {
    "duration": 32,
    "start_time": "2024-11-07T21:57:01.182Z"
   },
   {
    "duration": 58,
    "start_time": "2024-11-07T21:57:01.216Z"
   },
   {
    "duration": 35,
    "start_time": "2024-11-07T21:57:01.275Z"
   },
   {
    "duration": 9,
    "start_time": "2024-11-07T21:57:01.312Z"
   },
   {
    "duration": 2758,
    "start_time": "2024-11-07T21:57:01.323Z"
   },
   {
    "duration": 6,
    "start_time": "2024-11-07T21:57:04.083Z"
   },
   {
    "duration": 14,
    "start_time": "2024-11-07T21:57:04.091Z"
   },
   {
    "duration": 22,
    "start_time": "2024-11-07T21:57:04.107Z"
   },
   {
    "duration": 19,
    "start_time": "2024-11-07T21:57:04.130Z"
   },
   {
    "duration": 34,
    "start_time": "2024-11-07T21:57:04.150Z"
   },
   {
    "duration": 2625,
    "start_time": "2024-11-07T22:03:43.416Z"
   },
   {
    "duration": 1425,
    "start_time": "2024-11-07T22:03:46.043Z"
   },
   {
    "duration": 4,
    "start_time": "2024-11-07T22:03:47.470Z"
   },
   {
    "duration": 395,
    "start_time": "2024-11-07T22:03:47.476Z"
   },
   {
    "duration": 396,
    "start_time": "2024-11-07T22:03:47.873Z"
   },
   {
    "duration": 345,
    "start_time": "2024-11-07T22:03:48.270Z"
   },
   {
    "duration": 3,
    "start_time": "2024-11-07T22:03:48.617Z"
   },
   {
    "duration": 62,
    "start_time": "2024-11-07T22:03:48.622Z"
   },
   {
    "duration": 63,
    "start_time": "2024-11-07T22:03:48.685Z"
   },
   {
    "duration": 50,
    "start_time": "2024-11-07T22:03:48.750Z"
   },
   {
    "duration": 49,
    "start_time": "2024-11-07T22:03:48.801Z"
   },
   {
    "duration": 22,
    "start_time": "2024-11-07T22:03:48.852Z"
   },
   {
    "duration": 46,
    "start_time": "2024-11-07T22:03:48.876Z"
   },
   {
    "duration": 4,
    "start_time": "2024-11-07T22:03:48.924Z"
   },
   {
    "duration": 1982,
    "start_time": "2024-11-07T22:03:48.930Z"
   },
   {
    "duration": 2584,
    "start_time": "2024-11-07T22:03:50.920Z"
   },
   {
    "duration": 2645,
    "start_time": "2024-11-07T22:03:53.507Z"
   },
   {
    "duration": 4,
    "start_time": "2024-11-07T22:03:56.154Z"
   },
   {
    "duration": 1271,
    "start_time": "2024-11-07T22:03:56.162Z"
   },
   {
    "duration": 960,
    "start_time": "2024-11-07T22:03:57.435Z"
   },
   {
    "duration": 699,
    "start_time": "2024-11-07T22:03:58.396Z"
   },
   {
    "duration": 3,
    "start_time": "2024-11-07T22:03:59.097Z"
   },
   {
    "duration": 50,
    "start_time": "2024-11-07T22:03:59.102Z"
   },
   {
    "duration": 39,
    "start_time": "2024-11-07T22:03:59.154Z"
   },
   {
    "duration": 54,
    "start_time": "2024-11-07T22:03:59.194Z"
   },
   {
    "duration": 2,
    "start_time": "2024-11-07T22:03:59.250Z"
   },
   {
    "duration": 8,
    "start_time": "2024-11-07T22:03:59.254Z"
   },
   {
    "duration": 7,
    "start_time": "2024-11-07T22:03:59.265Z"
   },
   {
    "duration": 9,
    "start_time": "2024-11-07T22:03:59.273Z"
   },
   {
    "duration": 3046,
    "start_time": "2024-11-07T22:03:59.284Z"
   },
   {
    "duration": 3010,
    "start_time": "2024-11-07T22:04:02.331Z"
   },
   {
    "duration": 2987,
    "start_time": "2024-11-07T22:04:05.343Z"
   },
   {
    "duration": 10,
    "start_time": "2024-11-07T22:04:08.331Z"
   },
   {
    "duration": 84,
    "start_time": "2024-11-07T22:04:08.344Z"
   },
   {
    "duration": 196,
    "start_time": "2024-11-07T22:04:08.430Z"
   },
   {
    "duration": 193,
    "start_time": "2024-11-07T22:04:08.628Z"
   },
   {
    "duration": 49,
    "start_time": "2024-11-07T22:04:08.823Z"
   },
   {
    "duration": 10,
    "start_time": "2024-11-07T22:04:08.873Z"
   },
   {
    "duration": 19,
    "start_time": "2024-11-07T22:04:08.885Z"
   },
   {
    "duration": 15,
    "start_time": "2024-11-07T22:04:08.906Z"
   },
   {
    "duration": 16,
    "start_time": "2024-11-07T22:04:08.923Z"
   },
   {
    "duration": 5,
    "start_time": "2024-11-07T22:04:08.941Z"
   },
   {
    "duration": 9,
    "start_time": "2024-11-07T22:04:08.948Z"
   },
   {
    "duration": 12,
    "start_time": "2024-11-07T22:04:08.959Z"
   },
   {
    "duration": 49,
    "start_time": "2024-11-07T22:04:08.972Z"
   },
   {
    "duration": 23,
    "start_time": "2024-11-07T22:04:09.023Z"
   },
   {
    "duration": 4,
    "start_time": "2024-11-07T22:04:09.048Z"
   },
   {
    "duration": 2713,
    "start_time": "2024-11-07T22:04:09.054Z"
   },
   {
    "duration": 5,
    "start_time": "2024-11-07T22:04:11.769Z"
   },
   {
    "duration": 12,
    "start_time": "2024-11-07T22:04:11.776Z"
   },
   {
    "duration": 29,
    "start_time": "2024-11-07T22:04:11.790Z"
   },
   {
    "duration": 4,
    "start_time": "2024-11-07T22:04:11.821Z"
   },
   {
    "duration": 10,
    "start_time": "2024-11-07T22:04:11.827Z"
   },
   {
    "duration": 2622,
    "start_time": "2024-11-07T22:06:18.522Z"
   },
   {
    "duration": 1380,
    "start_time": "2024-11-07T22:06:21.146Z"
   },
   {
    "duration": 2,
    "start_time": "2024-11-07T22:06:22.528Z"
   },
   {
    "duration": 283,
    "start_time": "2024-11-07T22:06:22.532Z"
   },
   {
    "duration": 262,
    "start_time": "2024-11-07T22:06:22.817Z"
   },
   {
    "duration": 261,
    "start_time": "2024-11-07T22:06:23.080Z"
   },
   {
    "duration": 3,
    "start_time": "2024-11-07T22:06:23.343Z"
   },
   {
    "duration": 65,
    "start_time": "2024-11-07T22:06:23.348Z"
   },
   {
    "duration": 56,
    "start_time": "2024-11-07T22:06:23.414Z"
   },
   {
    "duration": 70,
    "start_time": "2024-11-07T22:06:23.473Z"
   },
   {
    "duration": 31,
    "start_time": "2024-11-07T22:06:23.544Z"
   },
   {
    "duration": 23,
    "start_time": "2024-11-07T22:06:23.577Z"
   },
   {
    "duration": 47,
    "start_time": "2024-11-07T22:06:23.601Z"
   },
   {
    "duration": 4,
    "start_time": "2024-11-07T22:06:23.650Z"
   },
   {
    "duration": 2849,
    "start_time": "2024-11-07T22:06:23.656Z"
   },
   {
    "duration": 2663,
    "start_time": "2024-11-07T22:06:26.507Z"
   },
   {
    "duration": 2675,
    "start_time": "2024-11-07T22:06:29.172Z"
   },
   {
    "duration": 4,
    "start_time": "2024-11-07T22:06:31.849Z"
   },
   {
    "duration": 1265,
    "start_time": "2024-11-07T22:06:31.855Z"
   },
   {
    "duration": 927,
    "start_time": "2024-11-07T22:06:33.122Z"
   },
   {
    "duration": 743,
    "start_time": "2024-11-07T22:06:34.051Z"
   },
   {
    "duration": 4,
    "start_time": "2024-11-07T22:06:34.796Z"
   },
   {
    "duration": 58,
    "start_time": "2024-11-07T22:06:34.801Z"
   },
   {
    "duration": 41,
    "start_time": "2024-11-07T22:06:34.861Z"
   },
   {
    "duration": 50,
    "start_time": "2024-11-07T22:06:34.904Z"
   },
   {
    "duration": 3,
    "start_time": "2024-11-07T22:06:34.956Z"
   },
   {
    "duration": 26,
    "start_time": "2024-11-07T22:06:34.960Z"
   },
   {
    "duration": 17,
    "start_time": "2024-11-07T22:06:34.990Z"
   },
   {
    "duration": 20,
    "start_time": "2024-11-07T22:06:35.009Z"
   },
   {
    "duration": 3001,
    "start_time": "2024-11-07T22:06:35.032Z"
   },
   {
    "duration": 2996,
    "start_time": "2024-11-07T22:06:38.035Z"
   },
   {
    "duration": 2993,
    "start_time": "2024-11-07T22:06:41.033Z"
   },
   {
    "duration": 7,
    "start_time": "2024-11-07T22:06:44.028Z"
   },
   {
    "duration": 188,
    "start_time": "2024-11-07T22:06:44.038Z"
   },
   {
    "duration": 93,
    "start_time": "2024-11-07T22:06:44.228Z"
   },
   {
    "duration": 4,
    "start_time": "2024-11-07T22:06:44.325Z"
   },
   {
    "duration": 111,
    "start_time": "2024-11-07T22:06:44.422Z"
   },
   {
    "duration": 10,
    "start_time": "2024-11-07T22:06:44.534Z"
   },
   {
    "duration": 9,
    "start_time": "2024-11-07T22:06:44.546Z"
   },
   {
    "duration": 14,
    "start_time": "2024-11-07T22:06:44.557Z"
   },
   {
    "duration": 11,
    "start_time": "2024-11-07T22:06:44.573Z"
   },
   {
    "duration": 6,
    "start_time": "2024-11-07T22:06:44.586Z"
   },
   {
    "duration": 29,
    "start_time": "2024-11-07T22:06:44.594Z"
   },
   {
    "duration": 6,
    "start_time": "2024-11-07T22:06:44.625Z"
   },
   {
    "duration": 45,
    "start_time": "2024-11-07T22:06:44.633Z"
   },
   {
    "duration": 4,
    "start_time": "2024-11-07T22:06:44.679Z"
   },
   {
    "duration": 6,
    "start_time": "2024-11-07T22:06:44.685Z"
   },
   {
    "duration": 2873,
    "start_time": "2024-11-07T22:06:44.693Z"
   },
   {
    "duration": 4,
    "start_time": "2024-11-07T22:06:47.568Z"
   },
   {
    "duration": 6,
    "start_time": "2024-11-07T22:06:47.574Z"
   },
   {
    "duration": 18,
    "start_time": "2024-11-07T22:06:47.581Z"
   },
   {
    "duration": 3,
    "start_time": "2024-11-07T22:06:47.600Z"
   },
   {
    "duration": 17,
    "start_time": "2024-11-07T22:06:47.605Z"
   },
   {
    "duration": 3,
    "start_time": "2024-11-07T22:07:14.839Z"
   },
   {
    "duration": 3,
    "start_time": "2024-11-07T22:07:20.127Z"
   },
   {
    "duration": 4,
    "start_time": "2024-11-07T22:07:23.118Z"
   },
   {
    "duration": 3250,
    "start_time": "2024-11-09T11:02:42.310Z"
   },
   {
    "duration": 1593,
    "start_time": "2024-11-09T11:02:45.562Z"
   },
   {
    "duration": 3,
    "start_time": "2024-11-09T11:02:47.157Z"
   },
   {
    "duration": 426,
    "start_time": "2024-11-09T11:02:47.162Z"
   },
   {
    "duration": 411,
    "start_time": "2024-11-09T11:02:47.590Z"
   },
   {
    "duration": 469,
    "start_time": "2024-11-09T11:02:48.003Z"
   },
   {
    "duration": 4,
    "start_time": "2024-11-09T11:02:48.473Z"
   },
   {
    "duration": 51,
    "start_time": "2024-11-09T11:02:48.478Z"
   },
   {
    "duration": 62,
    "start_time": "2024-11-09T11:02:48.530Z"
   },
   {
    "duration": 41,
    "start_time": "2024-11-09T11:02:48.593Z"
   },
   {
    "duration": 42,
    "start_time": "2024-11-09T11:02:48.635Z"
   },
   {
    "duration": 20,
    "start_time": "2024-11-09T11:02:48.679Z"
   },
   {
    "duration": 25,
    "start_time": "2024-11-09T11:02:48.700Z"
   },
   {
    "duration": 5,
    "start_time": "2024-11-09T11:02:48.727Z"
   },
   {
    "duration": 1811,
    "start_time": "2024-11-09T11:02:48.733Z"
   },
   {
    "duration": 2408,
    "start_time": "2024-11-09T11:02:50.546Z"
   },
   {
    "duration": 2348,
    "start_time": "2024-11-09T11:02:52.956Z"
   },
   {
    "duration": 3,
    "start_time": "2024-11-09T11:02:55.306Z"
   },
   {
    "duration": 1105,
    "start_time": "2024-11-09T11:02:55.310Z"
   },
   {
    "duration": 932,
    "start_time": "2024-11-09T11:02:56.416Z"
   },
   {
    "duration": 583,
    "start_time": "2024-11-09T11:02:57.350Z"
   },
   {
    "duration": 4,
    "start_time": "2024-11-09T11:02:57.934Z"
   },
   {
    "duration": 48,
    "start_time": "2024-11-09T11:02:57.939Z"
   },
   {
    "duration": 35,
    "start_time": "2024-11-09T11:02:57.988Z"
   },
   {
    "duration": 33,
    "start_time": "2024-11-09T11:02:58.025Z"
   },
   {
    "duration": 4,
    "start_time": "2024-11-09T11:02:58.075Z"
   },
   {
    "duration": 3,
    "start_time": "2024-11-09T11:02:58.080Z"
   },
   {
    "duration": 5,
    "start_time": "2024-11-09T11:02:58.084Z"
   },
   {
    "duration": 4,
    "start_time": "2024-11-09T11:02:58.090Z"
   },
   {
    "duration": 3090,
    "start_time": "2024-11-09T11:02:58.095Z"
   },
   {
    "duration": 2992,
    "start_time": "2024-11-09T11:03:01.187Z"
   },
   {
    "duration": 3000,
    "start_time": "2024-11-09T11:03:04.181Z"
   },
   {
    "duration": 8,
    "start_time": "2024-11-09T11:03:07.183Z"
   },
   {
    "duration": 182,
    "start_time": "2024-11-09T11:03:07.193Z"
   },
   {
    "duration": 8,
    "start_time": "2024-11-09T11:03:07.378Z"
   },
   {
    "duration": 100,
    "start_time": "2024-11-09T11:03:07.482Z"
   },
   {
    "duration": 11,
    "start_time": "2024-11-09T11:03:07.584Z"
   },
   {
    "duration": 9,
    "start_time": "2024-11-09T11:03:07.596Z"
   },
   {
    "duration": 10,
    "start_time": "2024-11-09T11:03:07.606Z"
   },
   {
    "duration": 3,
    "start_time": "2024-11-09T11:03:07.618Z"
   },
   {
    "duration": 3,
    "start_time": "2024-11-09T11:03:07.626Z"
   },
   {
    "duration": 5,
    "start_time": "2024-11-09T11:03:07.631Z"
   },
   {
    "duration": 39,
    "start_time": "2024-11-09T11:03:07.637Z"
   },
   {
    "duration": 4,
    "start_time": "2024-11-09T11:03:28.374Z"
   },
   {
    "duration": 112,
    "start_time": "2024-11-09T11:04:36.047Z"
   },
   {
    "duration": 5,
    "start_time": "2024-11-09T11:04:43.510Z"
   },
   {
    "duration": 81,
    "start_time": "2024-11-09T11:04:56.391Z"
   },
   {
    "duration": 9,
    "start_time": "2024-11-09T11:08:42.609Z"
   },
   {
    "duration": 4,
    "start_time": "2024-11-09T11:08:49.107Z"
   },
   {
    "duration": 9,
    "start_time": "2024-11-09T11:08:50.370Z"
   },
   {
    "duration": 4,
    "start_time": "2024-11-09T11:09:10.905Z"
   },
   {
    "duration": 6,
    "start_time": "2024-11-09T11:09:29.807Z"
   },
   {
    "duration": 6,
    "start_time": "2024-11-09T11:10:35.107Z"
   },
   {
    "duration": 4,
    "start_time": "2024-11-09T11:13:04.376Z"
   },
   {
    "duration": 4,
    "start_time": "2024-11-09T11:13:38.866Z"
   },
   {
    "duration": 4,
    "start_time": "2024-11-09T11:18:17.818Z"
   },
   {
    "duration": 3,
    "start_time": "2024-11-09T11:18:18.381Z"
   },
   {
    "duration": 3,
    "start_time": "2024-11-09T11:20:16.605Z"
   },
   {
    "duration": 3,
    "start_time": "2024-11-09T11:20:49.871Z"
   },
   {
    "duration": 3,
    "start_time": "2024-11-09T11:20:50.215Z"
   },
   {
    "duration": 3,
    "start_time": "2024-11-09T11:22:03.812Z"
   },
   {
    "duration": 3,
    "start_time": "2024-11-09T11:22:11.655Z"
   },
   {
    "duration": 2426,
    "start_time": "2024-11-09T11:22:20.398Z"
   },
   {
    "duration": 4,
    "start_time": "2024-11-09T11:22:44.343Z"
   },
   {
    "duration": 3,
    "start_time": "2024-11-09T11:22:45.479Z"
   },
   {
    "duration": 7,
    "start_time": "2024-11-09T11:22:47.550Z"
   },
   {
    "duration": 3,
    "start_time": "2024-11-09T11:22:48.438Z"
   },
   {
    "duration": 3,
    "start_time": "2024-11-09T11:24:06.152Z"
   },
   {
    "duration": 51,
    "start_time": "2024-11-09T11:24:48.863Z"
   },
   {
    "duration": 5,
    "start_time": "2024-11-09T11:25:00.370Z"
   },
   {
    "duration": 2290,
    "start_time": "2024-11-09T11:29:45.684Z"
   },
   {
    "duration": 1322,
    "start_time": "2024-11-09T11:29:47.977Z"
   },
   {
    "duration": 2,
    "start_time": "2024-11-09T11:29:49.301Z"
   },
   {
    "duration": 371,
    "start_time": "2024-11-09T11:29:49.305Z"
   },
   {
    "duration": 352,
    "start_time": "2024-11-09T11:29:49.678Z"
   },
   {
    "duration": 444,
    "start_time": "2024-11-09T11:29:50.031Z"
   },
   {
    "duration": 4,
    "start_time": "2024-11-09T11:29:50.476Z"
   },
   {
    "duration": 52,
    "start_time": "2024-11-09T11:29:50.481Z"
   },
   {
    "duration": 68,
    "start_time": "2024-11-09T11:29:50.535Z"
   },
   {
    "duration": 56,
    "start_time": "2024-11-09T11:29:50.606Z"
   },
   {
    "duration": 27,
    "start_time": "2024-11-09T11:29:50.675Z"
   },
   {
    "duration": 19,
    "start_time": "2024-11-09T11:29:50.703Z"
   },
   {
    "duration": 25,
    "start_time": "2024-11-09T11:29:50.724Z"
   },
   {
    "duration": 25,
    "start_time": "2024-11-09T11:29:50.751Z"
   },
   {
    "duration": 1786,
    "start_time": "2024-11-09T11:29:50.778Z"
   },
   {
    "duration": 2330,
    "start_time": "2024-11-09T11:29:52.566Z"
   },
   {
    "duration": 2333,
    "start_time": "2024-11-09T11:29:54.898Z"
   },
   {
    "duration": 3,
    "start_time": "2024-11-09T11:29:57.233Z"
   },
   {
    "duration": 1086,
    "start_time": "2024-11-09T11:29:57.237Z"
   },
   {
    "duration": 863,
    "start_time": "2024-11-09T11:29:58.376Z"
   },
   {
    "duration": 687,
    "start_time": "2024-11-09T11:29:59.241Z"
   },
   {
    "duration": 4,
    "start_time": "2024-11-09T11:29:59.929Z"
   },
   {
    "duration": 46,
    "start_time": "2024-11-09T11:29:59.934Z"
   },
   {
    "duration": 42,
    "start_time": "2024-11-09T11:29:59.981Z"
   },
   {
    "duration": 53,
    "start_time": "2024-11-09T11:30:00.024Z"
   },
   {
    "duration": 3,
    "start_time": "2024-11-09T11:30:00.078Z"
   },
   {
    "duration": 15,
    "start_time": "2024-11-09T11:30:00.082Z"
   },
   {
    "duration": 7,
    "start_time": "2024-11-09T11:30:00.101Z"
   },
   {
    "duration": 28,
    "start_time": "2024-11-09T11:30:00.109Z"
   },
   {
    "duration": 3043,
    "start_time": "2024-11-09T11:30:00.139Z"
   },
   {
    "duration": 2997,
    "start_time": "2024-11-09T11:30:03.184Z"
   },
   {
    "duration": 2996,
    "start_time": "2024-11-09T11:30:06.182Z"
   },
   {
    "duration": 6,
    "start_time": "2024-11-09T11:30:09.180Z"
   },
   {
    "duration": 89,
    "start_time": "2024-11-09T11:30:09.188Z"
   },
   {
    "duration": 98,
    "start_time": "2024-11-09T11:30:09.279Z"
   },
   {
    "duration": 4,
    "start_time": "2024-11-09T11:30:09.379Z"
   },
   {
    "duration": 100,
    "start_time": "2024-11-09T11:30:09.385Z"
   },
   {
    "duration": 10,
    "start_time": "2024-11-09T11:30:09.487Z"
   },
   {
    "duration": 81,
    "start_time": "2024-11-09T11:30:09.499Z"
   },
   {
    "duration": 15,
    "start_time": "2024-11-09T11:30:09.582Z"
   },
   {
    "duration": 7,
    "start_time": "2024-11-09T11:30:09.599Z"
   },
   {
    "duration": 5,
    "start_time": "2024-11-09T11:30:09.608Z"
   },
   {
    "duration": 6,
    "start_time": "2024-11-09T11:30:09.614Z"
   },
   {
    "duration": 11,
    "start_time": "2024-11-09T11:30:09.622Z"
   },
   {
    "duration": 3,
    "start_time": "2024-11-09T11:30:09.634Z"
   },
   {
    "duration": 14,
    "start_time": "2024-11-09T11:30:09.638Z"
   },
   {
    "duration": 5,
    "start_time": "2024-11-09T11:30:09.654Z"
   },
   {
    "duration": 15,
    "start_time": "2024-11-09T11:30:09.661Z"
   },
   {
    "duration": 8,
    "start_time": "2024-11-09T11:30:09.678Z"
   },
   {
    "duration": 2447,
    "start_time": "2024-11-09T11:30:09.688Z"
   },
   {
    "duration": 4,
    "start_time": "2024-11-09T11:30:12.137Z"
   },
   {
    "duration": 12,
    "start_time": "2024-11-09T11:30:12.143Z"
   },
   {
    "duration": 16,
    "start_time": "2024-11-09T11:30:12.156Z"
   },
   {
    "duration": 2,
    "start_time": "2024-11-09T11:30:12.175Z"
   },
   {
    "duration": 7,
    "start_time": "2024-11-09T11:30:12.179Z"
   },
   {
    "duration": 2253,
    "start_time": "2024-11-09T11:36:12.716Z"
   },
   {
    "duration": 1330,
    "start_time": "2024-11-09T11:36:14.972Z"
   },
   {
    "duration": 3,
    "start_time": "2024-11-09T11:36:16.303Z"
   },
   {
    "duration": 397,
    "start_time": "2024-11-09T11:36:16.307Z"
   },
   {
    "duration": 303,
    "start_time": "2024-11-09T11:36:16.706Z"
   },
   {
    "duration": 650,
    "start_time": "2024-11-09T11:36:17.010Z"
   },
   {
    "duration": 2,
    "start_time": "2024-11-09T11:36:17.662Z"
   },
   {
    "duration": 57,
    "start_time": "2024-11-09T11:36:17.666Z"
   },
   {
    "duration": 52,
    "start_time": "2024-11-09T11:36:17.724Z"
   },
   {
    "duration": 43,
    "start_time": "2024-11-09T11:36:17.778Z"
   },
   {
    "duration": 28,
    "start_time": "2024-11-09T11:36:17.823Z"
   },
   {
    "duration": 38,
    "start_time": "2024-11-09T11:36:17.852Z"
   },
   {
    "duration": 26,
    "start_time": "2024-11-09T11:36:17.891Z"
   },
   {
    "duration": 5,
    "start_time": "2024-11-09T11:36:17.920Z"
   },
   {
    "duration": 1835,
    "start_time": "2024-11-09T11:36:17.926Z"
   },
   {
    "duration": 2368,
    "start_time": "2024-11-09T11:36:19.762Z"
   },
   {
    "duration": 2348,
    "start_time": "2024-11-09T11:36:22.132Z"
   },
   {
    "duration": 4,
    "start_time": "2024-11-09T11:36:24.482Z"
   },
   {
    "duration": 1106,
    "start_time": "2024-11-09T11:36:24.488Z"
   },
   {
    "duration": 837,
    "start_time": "2024-11-09T11:36:25.596Z"
   },
   {
    "duration": 676,
    "start_time": "2024-11-09T11:36:26.434Z"
   },
   {
    "duration": 4,
    "start_time": "2024-11-09T11:36:27.111Z"
   },
   {
    "duration": 36,
    "start_time": "2024-11-09T11:36:27.116Z"
   },
   {
    "duration": 50,
    "start_time": "2024-11-09T11:36:27.154Z"
   },
   {
    "duration": 35,
    "start_time": "2024-11-09T11:36:27.205Z"
   },
   {
    "duration": 3,
    "start_time": "2024-11-09T11:36:27.241Z"
   },
   {
    "duration": 3,
    "start_time": "2024-11-09T11:36:27.246Z"
   },
   {
    "duration": 3,
    "start_time": "2024-11-09T11:36:27.250Z"
   },
   {
    "duration": 4,
    "start_time": "2024-11-09T11:36:27.276Z"
   },
   {
    "duration": 3004,
    "start_time": "2024-11-09T11:36:27.282Z"
   },
   {
    "duration": 2990,
    "start_time": "2024-11-09T11:36:30.287Z"
   },
   {
    "duration": 3002,
    "start_time": "2024-11-09T11:36:33.279Z"
   },
   {
    "duration": 8,
    "start_time": "2024-11-09T11:36:36.283Z"
   },
   {
    "duration": 191,
    "start_time": "2024-11-09T11:36:36.293Z"
   },
   {
    "duration": 85,
    "start_time": "2024-11-09T11:36:36.492Z"
   },
   {
    "duration": 91,
    "start_time": "2024-11-09T11:36:36.585Z"
   },
   {
    "duration": 102,
    "start_time": "2024-11-09T11:36:36.679Z"
   },
   {
    "duration": 8,
    "start_time": "2024-11-09T11:36:36.783Z"
   },
   {
    "duration": 11,
    "start_time": "2024-11-09T11:36:36.792Z"
   },
   {
    "duration": 3,
    "start_time": "2024-11-09T11:36:36.804Z"
   },
   {
    "duration": 10,
    "start_time": "2024-11-09T11:36:36.810Z"
   },
   {
    "duration": 5,
    "start_time": "2024-11-09T11:36:36.821Z"
   },
   {
    "duration": 6,
    "start_time": "2024-11-09T11:36:36.827Z"
   },
   {
    "duration": 8,
    "start_time": "2024-11-09T11:36:36.834Z"
   },
   {
    "duration": 4,
    "start_time": "2024-11-09T11:36:36.875Z"
   },
   {
    "duration": 28,
    "start_time": "2024-11-09T11:36:36.880Z"
   },
   {
    "duration": 10,
    "start_time": "2024-11-09T11:36:36.910Z"
   },
   {
    "duration": 6,
    "start_time": "2024-11-09T11:36:36.921Z"
   },
   {
    "duration": 4,
    "start_time": "2024-11-09T11:36:36.928Z"
   },
   {
    "duration": 2573,
    "start_time": "2024-11-09T11:36:36.934Z"
   },
   {
    "duration": 4,
    "start_time": "2024-11-09T11:36:39.509Z"
   },
   {
    "duration": 9,
    "start_time": "2024-11-09T11:36:39.515Z"
   },
   {
    "duration": 7,
    "start_time": "2024-11-09T11:36:39.525Z"
   },
   {
    "duration": 3,
    "start_time": "2024-11-09T11:36:39.533Z"
   },
   {
    "duration": 5,
    "start_time": "2024-11-09T11:36:39.537Z"
   },
   {
    "duration": 3533,
    "start_time": "2024-11-09T17:46:35.717Z"
   },
   {
    "duration": 4931,
    "start_time": "2024-11-09T17:46:39.253Z"
   },
   {
    "duration": 4,
    "start_time": "2024-11-09T17:46:44.186Z"
   },
   {
    "duration": 352,
    "start_time": "2024-11-09T17:46:44.192Z"
   },
   {
    "duration": 366,
    "start_time": "2024-11-09T17:46:44.546Z"
   },
   {
    "duration": 414,
    "start_time": "2024-11-09T17:46:44.913Z"
   },
   {
    "duration": 3,
    "start_time": "2024-11-09T17:46:45.329Z"
   },
   {
    "duration": 65,
    "start_time": "2024-11-09T17:46:45.334Z"
   },
   {
    "duration": 47,
    "start_time": "2024-11-09T17:46:45.401Z"
   },
   {
    "duration": 62,
    "start_time": "2024-11-09T17:46:45.450Z"
   },
   {
    "duration": 30,
    "start_time": "2024-11-09T17:46:45.514Z"
   },
   {
    "duration": 25,
    "start_time": "2024-11-09T17:46:45.564Z"
   },
   {
    "duration": 33,
    "start_time": "2024-11-09T17:46:45.591Z"
   },
   {
    "duration": 5,
    "start_time": "2024-11-09T17:46:45.628Z"
   },
   {
    "duration": 2645,
    "start_time": "2024-11-09T17:46:45.635Z"
   },
   {
    "duration": 2542,
    "start_time": "2024-11-09T19:07:20.209Z"
   },
   {
    "duration": 5,
    "start_time": "2024-11-09T19:07:22.754Z"
   },
   {
    "duration": 14,
    "start_time": "2024-11-09T19:07:22.760Z"
   },
   {
    "duration": 354,
    "start_time": "2024-11-09T19:07:22.776Z"
   },
   {
    "duration": 383,
    "start_time": "2024-11-09T19:07:23.133Z"
   },
   {
    "duration": 427,
    "start_time": "2024-11-09T19:07:23.518Z"
   },
   {
    "duration": 4,
    "start_time": "2024-11-09T19:07:23.947Z"
   },
   {
    "duration": 61,
    "start_time": "2024-11-09T19:07:23.953Z"
   },
   {
    "duration": 69,
    "start_time": "2024-11-09T19:07:24.016Z"
   },
   {
    "duration": 47,
    "start_time": "2024-11-09T19:07:24.086Z"
   },
   {
    "duration": 51,
    "start_time": "2024-11-09T19:07:24.135Z"
   },
   {
    "duration": 24,
    "start_time": "2024-11-09T19:07:24.188Z"
   },
   {
    "duration": 52,
    "start_time": "2024-11-09T19:07:24.214Z"
   },
   {
    "duration": 5,
    "start_time": "2024-11-09T19:07:24.270Z"
   },
   {
    "duration": 1799,
    "start_time": "2024-11-09T19:07:24.277Z"
   },
   {
    "duration": 2499,
    "start_time": "2024-11-09T19:07:26.078Z"
   },
   {
    "duration": 2544,
    "start_time": "2024-11-09T19:07:28.578Z"
   },
   {
    "duration": 4,
    "start_time": "2024-11-09T19:07:31.124Z"
   },
   {
    "duration": 1358,
    "start_time": "2024-11-09T19:07:31.130Z"
   },
   {
    "duration": 887,
    "start_time": "2024-11-09T19:07:32.489Z"
   },
   {
    "duration": 634,
    "start_time": "2024-11-09T19:07:33.378Z"
   },
   {
    "duration": 3,
    "start_time": "2024-11-09T19:07:34.014Z"
   },
   {
    "duration": 56,
    "start_time": "2024-11-09T19:07:34.019Z"
   },
   {
    "duration": 41,
    "start_time": "2024-11-09T19:07:34.077Z"
   },
   {
    "duration": 62,
    "start_time": "2024-11-09T19:07:34.119Z"
   },
   {
    "duration": 3,
    "start_time": "2024-11-09T19:07:34.183Z"
   },
   {
    "duration": 3,
    "start_time": "2024-11-09T19:07:34.188Z"
   },
   {
    "duration": 3,
    "start_time": "2024-11-09T19:07:34.193Z"
   },
   {
    "duration": 4,
    "start_time": "2024-11-09T19:07:34.198Z"
   },
   {
    "duration": 3063,
    "start_time": "2024-11-09T19:07:34.203Z"
   },
   {
    "duration": 2905,
    "start_time": "2024-11-09T19:07:37.268Z"
   },
   {
    "duration": 2991,
    "start_time": "2024-11-09T19:07:40.175Z"
   },
   {
    "duration": 8,
    "start_time": "2024-11-09T19:07:43.168Z"
   },
   {
    "duration": 92,
    "start_time": "2024-11-09T19:07:43.178Z"
   },
   {
    "duration": 10,
    "start_time": "2024-11-09T19:07:43.364Z"
   },
   {
    "duration": 101,
    "start_time": "2024-11-09T19:07:43.466Z"
   },
   {
    "duration": 10,
    "start_time": "2024-11-09T19:07:43.569Z"
   },
   {
    "duration": 20,
    "start_time": "2024-11-09T19:07:43.581Z"
   },
   {
    "duration": 11,
    "start_time": "2024-11-09T19:07:43.602Z"
   },
   {
    "duration": 8,
    "start_time": "2024-11-09T19:07:43.615Z"
   },
   {
    "duration": 11,
    "start_time": "2024-11-09T19:07:43.627Z"
   },
   {
    "duration": 8,
    "start_time": "2024-11-09T19:07:43.639Z"
   },
   {
    "duration": 34,
    "start_time": "2024-11-09T19:07:43.648Z"
   },
   {
    "duration": 16,
    "start_time": "2024-11-09T19:07:43.683Z"
   },
   {
    "duration": 5,
    "start_time": "2024-11-09T19:07:43.701Z"
   },
   {
    "duration": 10,
    "start_time": "2024-11-09T19:07:43.707Z"
   },
   {
    "duration": 24,
    "start_time": "2024-11-09T19:07:43.719Z"
   },
   {
    "duration": 6,
    "start_time": "2024-11-09T19:07:43.745Z"
   },
   {
    "duration": 13,
    "start_time": "2024-11-09T19:07:43.752Z"
   },
   {
    "duration": 2866,
    "start_time": "2024-11-09T19:07:43.767Z"
   },
   {
    "duration": 6,
    "start_time": "2024-11-09T19:07:46.635Z"
   },
   {
    "duration": 15,
    "start_time": "2024-11-09T19:07:46.643Z"
   },
   {
    "duration": 32,
    "start_time": "2024-11-09T19:07:46.660Z"
   },
   {
    "duration": 12,
    "start_time": "2024-11-09T19:07:46.694Z"
   },
   {
    "duration": 33,
    "start_time": "2024-11-09T19:07:46.707Z"
   },
   {
    "duration": 98,
    "start_time": "2024-11-10T05:37:01.637Z"
   },
   {
    "duration": 2304,
    "start_time": "2024-11-10T06:28:29.865Z"
   },
   {
    "duration": 1811,
    "start_time": "2024-11-10T06:28:32.172Z"
   },
   {
    "duration": 3,
    "start_time": "2024-11-10T06:28:33.984Z"
   },
   {
    "duration": 440,
    "start_time": "2024-11-10T06:28:33.988Z"
   },
   {
    "duration": 418,
    "start_time": "2024-11-10T06:28:34.430Z"
   },
   {
    "duration": 311,
    "start_time": "2024-11-10T06:28:34.850Z"
   },
   {
    "duration": 3,
    "start_time": "2024-11-10T06:28:35.162Z"
   },
   {
    "duration": 58,
    "start_time": "2024-11-10T06:28:35.166Z"
   },
   {
    "duration": 70,
    "start_time": "2024-11-10T06:28:35.226Z"
   },
   {
    "duration": 48,
    "start_time": "2024-11-10T06:28:35.297Z"
   },
   {
    "duration": 49,
    "start_time": "2024-11-10T06:28:35.347Z"
   },
   {
    "duration": 23,
    "start_time": "2024-11-10T06:28:35.398Z"
   },
   {
    "duration": 29,
    "start_time": "2024-11-10T06:28:35.423Z"
   },
   {
    "duration": 22,
    "start_time": "2024-11-10T06:28:35.454Z"
   },
   {
    "duration": 1987,
    "start_time": "2024-11-10T06:28:35.479Z"
   },
   {
    "duration": 2409,
    "start_time": "2024-11-10T06:28:37.467Z"
   },
   {
    "duration": 2332,
    "start_time": "2024-11-10T06:28:39.877Z"
   },
   {
    "duration": 6,
    "start_time": "2024-11-10T06:28:42.212Z"
   },
   {
    "duration": 1095,
    "start_time": "2024-11-10T06:28:42.220Z"
   },
   {
    "duration": 830,
    "start_time": "2024-11-10T06:28:43.316Z"
   },
   {
    "duration": 674,
    "start_time": "2024-11-10T06:28:44.148Z"
   },
   {
    "duration": 3,
    "start_time": "2024-11-10T06:28:44.823Z"
   },
   {
    "duration": 95,
    "start_time": "2024-11-10T06:28:44.828Z"
   },
   {
    "duration": 67,
    "start_time": "2024-11-10T06:28:44.925Z"
   },
   {
    "duration": 114,
    "start_time": "2024-11-10T06:28:44.993Z"
   },
   {
    "duration": 9,
    "start_time": "2024-11-10T06:28:45.109Z"
   },
   {
    "duration": 14,
    "start_time": "2024-11-10T06:28:45.120Z"
   },
   {
    "duration": 20,
    "start_time": "2024-11-10T06:28:45.136Z"
   },
   {
    "duration": 22,
    "start_time": "2024-11-10T06:28:45.157Z"
   },
   {
    "duration": 2902,
    "start_time": "2024-11-10T06:28:45.180Z"
   },
   {
    "duration": 2896,
    "start_time": "2024-11-10T06:28:48.084Z"
   },
   {
    "duration": 2906,
    "start_time": "2024-11-10T06:28:50.981Z"
   },
   {
    "duration": 6,
    "start_time": "2024-11-10T06:28:53.888Z"
   },
   {
    "duration": 86,
    "start_time": "2024-11-10T06:28:53.896Z"
   },
   {
    "duration": 101,
    "start_time": "2024-11-10T06:28:54.076Z"
   },
   {
    "duration": 95,
    "start_time": "2024-11-10T06:28:54.183Z"
   },
   {
    "duration": 11,
    "start_time": "2024-11-10T06:28:54.279Z"
   },
   {
    "duration": 8,
    "start_time": "2024-11-10T06:28:54.376Z"
   },
   {
    "duration": 11,
    "start_time": "2024-11-10T06:28:54.386Z"
   },
   {
    "duration": 8,
    "start_time": "2024-11-10T06:28:54.398Z"
   },
   {
    "duration": 5,
    "start_time": "2024-11-10T06:28:54.409Z"
   },
   {
    "duration": 4,
    "start_time": "2024-11-10T06:28:54.415Z"
   },
   {
    "duration": 6,
    "start_time": "2024-11-10T06:28:54.421Z"
   },
   {
    "duration": 19,
    "start_time": "2024-11-10T06:28:54.428Z"
   },
   {
    "duration": 34,
    "start_time": "2024-11-10T06:28:54.448Z"
   },
   {
    "duration": 9,
    "start_time": "2024-11-10T06:28:54.483Z"
   },
   {
    "duration": 6,
    "start_time": "2024-11-10T06:28:54.493Z"
   },
   {
    "duration": 9,
    "start_time": "2024-11-10T06:28:54.501Z"
   },
   {
    "duration": 5,
    "start_time": "2024-11-10T06:28:54.511Z"
   },
   {
    "duration": 5,
    "start_time": "2024-11-10T06:28:54.517Z"
   },
   {
    "duration": 2462,
    "start_time": "2024-11-10T06:28:54.524Z"
   },
   {
    "duration": 5,
    "start_time": "2024-11-10T06:28:56.988Z"
   },
   {
    "duration": 38,
    "start_time": "2024-11-10T06:28:56.994Z"
   },
   {
    "duration": 12,
    "start_time": "2024-11-10T06:28:57.033Z"
   },
   {
    "duration": 4,
    "start_time": "2024-11-10T06:28:57.046Z"
   },
   {
    "duration": 7,
    "start_time": "2024-11-10T06:28:57.052Z"
   },
   {
    "duration": 2240,
    "start_time": "2024-11-10T06:30:23.032Z"
   },
   {
    "duration": 1294,
    "start_time": "2024-11-10T06:30:25.275Z"
   },
   {
    "duration": 3,
    "start_time": "2024-11-10T06:30:26.570Z"
   },
   {
    "duration": 297,
    "start_time": "2024-11-10T06:30:26.576Z"
   },
   {
    "duration": 299,
    "start_time": "2024-11-10T06:30:26.875Z"
   },
   {
    "duration": 309,
    "start_time": "2024-11-10T06:30:27.176Z"
   },
   {
    "duration": 3,
    "start_time": "2024-11-10T06:30:27.487Z"
   },
   {
    "duration": 56,
    "start_time": "2024-11-10T06:30:27.491Z"
   },
   {
    "duration": 59,
    "start_time": "2024-11-10T06:30:27.548Z"
   },
   {
    "duration": 43,
    "start_time": "2024-11-10T06:30:27.609Z"
   },
   {
    "duration": 42,
    "start_time": "2024-11-10T06:30:27.653Z"
   },
   {
    "duration": 20,
    "start_time": "2024-11-10T06:30:27.696Z"
   },
   {
    "duration": 27,
    "start_time": "2024-11-10T06:30:27.717Z"
   },
   {
    "duration": 4,
    "start_time": "2024-11-10T06:30:27.747Z"
   },
   {
    "duration": 1852,
    "start_time": "2024-11-10T06:30:27.752Z"
   },
   {
    "duration": 2326,
    "start_time": "2024-11-10T06:30:29.606Z"
   },
   {
    "duration": 2353,
    "start_time": "2024-11-10T06:30:31.934Z"
   },
   {
    "duration": 3,
    "start_time": "2024-11-10T06:30:34.289Z"
   },
   {
    "duration": 1121,
    "start_time": "2024-11-10T06:30:34.293Z"
   },
   {
    "duration": 835,
    "start_time": "2024-11-10T06:30:35.415Z"
   },
   {
    "duration": 678,
    "start_time": "2024-11-10T06:30:36.252Z"
   },
   {
    "duration": 4,
    "start_time": "2024-11-10T06:30:36.932Z"
   },
   {
    "duration": 111,
    "start_time": "2024-11-10T06:30:36.937Z"
   },
   {
    "duration": 43,
    "start_time": "2024-11-10T06:30:37.050Z"
   },
   {
    "duration": 35,
    "start_time": "2024-11-10T06:30:37.095Z"
   },
   {
    "duration": 3,
    "start_time": "2024-11-10T06:30:37.132Z"
   },
   {
    "duration": 8,
    "start_time": "2024-11-10T06:30:37.136Z"
   },
   {
    "duration": 3,
    "start_time": "2024-11-10T06:30:37.145Z"
   },
   {
    "duration": 4,
    "start_time": "2024-11-10T06:30:37.149Z"
   },
   {
    "duration": 3029,
    "start_time": "2024-11-10T06:30:37.154Z"
   },
   {
    "duration": 2799,
    "start_time": "2024-11-10T06:30:40.184Z"
   },
   {
    "duration": 2992,
    "start_time": "2024-11-10T06:30:42.985Z"
   },
   {
    "duration": 7,
    "start_time": "2024-11-10T06:30:45.978Z"
   },
   {
    "duration": 103,
    "start_time": "2024-11-10T06:30:45.987Z"
   },
   {
    "duration": 9,
    "start_time": "2024-11-10T06:30:46.177Z"
   },
   {
    "duration": 94,
    "start_time": "2024-11-10T06:30:46.282Z"
   },
   {
    "duration": 8,
    "start_time": "2024-11-10T06:30:46.378Z"
   },
   {
    "duration": 8,
    "start_time": "2024-11-10T06:30:46.388Z"
   },
   {
    "duration": 9,
    "start_time": "2024-11-10T06:30:46.398Z"
   },
   {
    "duration": 3,
    "start_time": "2024-11-10T06:30:46.409Z"
   },
   {
    "duration": 4,
    "start_time": "2024-11-10T06:30:46.417Z"
   },
   {
    "duration": 5,
    "start_time": "2024-11-10T06:30:46.423Z"
   },
   {
    "duration": 47,
    "start_time": "2024-11-10T06:30:46.430Z"
   },
   {
    "duration": 19,
    "start_time": "2024-11-10T06:30:46.478Z"
   },
   {
    "duration": 9,
    "start_time": "2024-11-10T06:30:46.498Z"
   },
   {
    "duration": 9,
    "start_time": "2024-11-10T06:30:46.508Z"
   },
   {
    "duration": 7,
    "start_time": "2024-11-10T06:30:46.518Z"
   },
   {
    "duration": 6,
    "start_time": "2024-11-10T06:30:46.527Z"
   },
   {
    "duration": 5,
    "start_time": "2024-11-10T06:30:46.534Z"
   },
   {
    "duration": 4,
    "start_time": "2024-11-10T06:30:46.540Z"
   },
   {
    "duration": 2485,
    "start_time": "2024-11-10T06:30:46.547Z"
   },
   {
    "duration": 6,
    "start_time": "2024-11-10T06:30:49.033Z"
   },
   {
    "duration": 5,
    "start_time": "2024-11-10T06:30:49.040Z"
   },
   {
    "duration": 8,
    "start_time": "2024-11-10T06:30:49.046Z"
   },
   {
    "duration": 15,
    "start_time": "2024-11-10T06:30:49.061Z"
   },
   {
    "duration": 6,
    "start_time": "2024-11-10T06:30:49.078Z"
   },
   {
    "duration": 2313,
    "start_time": "2024-11-10T06:32:01.471Z"
   },
   {
    "duration": 1315,
    "start_time": "2024-11-10T06:32:03.786Z"
   },
   {
    "duration": 4,
    "start_time": "2024-11-10T06:32:05.102Z"
   },
   {
    "duration": 354,
    "start_time": "2024-11-10T06:32:05.107Z"
   },
   {
    "duration": 651,
    "start_time": "2024-11-10T06:32:05.463Z"
   },
   {
    "duration": 320,
    "start_time": "2024-11-10T06:32:06.115Z"
   },
   {
    "duration": 3,
    "start_time": "2024-11-10T06:32:06.436Z"
   },
   {
    "duration": 76,
    "start_time": "2024-11-10T06:32:06.441Z"
   },
   {
    "duration": 59,
    "start_time": "2024-11-10T06:32:06.518Z"
   },
   {
    "duration": 44,
    "start_time": "2024-11-10T06:32:06.578Z"
   },
   {
    "duration": 27,
    "start_time": "2024-11-10T06:32:06.623Z"
   },
   {
    "duration": 20,
    "start_time": "2024-11-10T06:32:06.676Z"
   },
   {
    "duration": 26,
    "start_time": "2024-11-10T06:32:06.697Z"
   },
   {
    "duration": 4,
    "start_time": "2024-11-10T06:32:06.726Z"
   },
   {
    "duration": 1863,
    "start_time": "2024-11-10T06:32:06.731Z"
   },
   {
    "duration": 2354,
    "start_time": "2024-11-10T06:32:08.596Z"
   },
   {
    "duration": 2324,
    "start_time": "2024-11-10T06:32:10.952Z"
   },
   {
    "duration": 5,
    "start_time": "2024-11-10T06:32:13.279Z"
   },
   {
    "duration": 1035,
    "start_time": "2024-11-10T06:32:13.285Z"
   },
   {
    "duration": 911,
    "start_time": "2024-11-10T06:32:14.322Z"
   },
   {
    "duration": 654,
    "start_time": "2024-11-10T06:32:15.235Z"
   },
   {
    "duration": 3,
    "start_time": "2024-11-10T06:32:15.890Z"
   },
   {
    "duration": 37,
    "start_time": "2024-11-10T06:32:15.894Z"
   },
   {
    "duration": 45,
    "start_time": "2024-11-10T06:32:15.932Z"
   },
   {
    "duration": 36,
    "start_time": "2024-11-10T06:32:15.978Z"
   },
   {
    "duration": 44,
    "start_time": "2024-11-10T06:32:16.015Z"
   },
   {
    "duration": 3,
    "start_time": "2024-11-10T06:32:16.060Z"
   },
   {
    "duration": 4,
    "start_time": "2024-11-10T06:32:16.065Z"
   },
   {
    "duration": 7,
    "start_time": "2024-11-10T06:32:16.070Z"
   },
   {
    "duration": 2999,
    "start_time": "2024-11-10T06:32:16.078Z"
   },
   {
    "duration": 2799,
    "start_time": "2024-11-10T06:32:19.078Z"
   },
   {
    "duration": 3001,
    "start_time": "2024-11-10T06:32:21.878Z"
   },
   {
    "duration": 6,
    "start_time": "2024-11-10T06:32:24.881Z"
   },
   {
    "duration": 88,
    "start_time": "2024-11-10T06:32:24.889Z"
   },
   {
    "duration": 103,
    "start_time": "2024-11-10T06:32:24.982Z"
   },
   {
    "duration": 94,
    "start_time": "2024-11-10T06:32:25.182Z"
   },
   {
    "duration": 9,
    "start_time": "2024-11-10T06:32:25.278Z"
   },
   {
    "duration": 8,
    "start_time": "2024-11-10T06:32:25.289Z"
   },
   {
    "duration": 9,
    "start_time": "2024-11-10T06:32:25.298Z"
   },
   {
    "duration": 3,
    "start_time": "2024-11-10T06:32:25.309Z"
   },
   {
    "duration": 3,
    "start_time": "2024-11-10T06:32:25.316Z"
   },
   {
    "duration": 6,
    "start_time": "2024-11-10T06:32:25.320Z"
   },
   {
    "duration": 5,
    "start_time": "2024-11-10T06:32:25.327Z"
   },
   {
    "duration": 20,
    "start_time": "2024-11-10T06:32:25.375Z"
   },
   {
    "duration": 9,
    "start_time": "2024-11-10T06:32:25.397Z"
   },
   {
    "duration": 7,
    "start_time": "2024-11-10T06:32:25.408Z"
   },
   {
    "duration": 4,
    "start_time": "2024-11-10T06:32:25.417Z"
   },
   {
    "duration": 4,
    "start_time": "2024-11-10T06:32:25.422Z"
   },
   {
    "duration": 4,
    "start_time": "2024-11-10T06:32:25.427Z"
   },
   {
    "duration": 4,
    "start_time": "2024-11-10T06:32:25.432Z"
   },
   {
    "duration": 2525,
    "start_time": "2024-11-10T06:32:25.438Z"
   },
   {
    "duration": 13,
    "start_time": "2024-11-10T06:32:27.965Z"
   },
   {
    "duration": 70,
    "start_time": "2024-11-10T06:32:27.980Z"
   },
   {
    "duration": 9,
    "start_time": "2024-11-10T06:32:28.051Z"
   },
   {
    "duration": 3,
    "start_time": "2024-11-10T06:32:28.061Z"
   },
   {
    "duration": 6,
    "start_time": "2024-11-10T06:32:28.065Z"
   },
   {
    "duration": 2952,
    "start_time": "2024-11-10T06:34:51.717Z"
   },
   {
    "duration": 1320,
    "start_time": "2024-11-10T06:34:54.671Z"
   },
   {
    "duration": 2,
    "start_time": "2024-11-10T06:34:55.993Z"
   },
   {
    "duration": 362,
    "start_time": "2024-11-10T06:34:55.997Z"
   },
   {
    "duration": 294,
    "start_time": "2024-11-10T06:34:56.361Z"
   },
   {
    "duration": 396,
    "start_time": "2024-11-10T06:34:56.657Z"
   },
   {
    "duration": 4,
    "start_time": "2024-11-10T06:34:57.054Z"
   },
   {
    "duration": 54,
    "start_time": "2024-11-10T06:34:57.060Z"
   },
   {
    "duration": 43,
    "start_time": "2024-11-10T06:34:57.115Z"
   },
   {
    "duration": 45,
    "start_time": "2024-11-10T06:34:57.177Z"
   },
   {
    "duration": 26,
    "start_time": "2024-11-10T06:34:57.223Z"
   },
   {
    "duration": 41,
    "start_time": "2024-11-10T06:34:57.250Z"
   },
   {
    "duration": 25,
    "start_time": "2024-11-10T06:34:57.293Z"
   },
   {
    "duration": 4,
    "start_time": "2024-11-10T06:34:57.320Z"
   },
   {
    "duration": 1824,
    "start_time": "2024-11-10T06:34:57.325Z"
   },
   {
    "duration": 2328,
    "start_time": "2024-11-10T06:34:59.152Z"
   },
   {
    "duration": 2380,
    "start_time": "2024-11-10T06:35:01.483Z"
   },
   {
    "duration": 4,
    "start_time": "2024-11-10T06:35:03.875Z"
   },
   {
    "duration": 1130,
    "start_time": "2024-11-10T06:35:03.882Z"
   },
   {
    "duration": 879,
    "start_time": "2024-11-10T06:35:05.013Z"
   },
   {
    "duration": 651,
    "start_time": "2024-11-10T06:35:05.894Z"
   },
   {
    "duration": 3,
    "start_time": "2024-11-10T06:35:06.547Z"
   },
   {
    "duration": 48,
    "start_time": "2024-11-10T06:35:06.551Z"
   },
   {
    "duration": 37,
    "start_time": "2024-11-10T06:35:06.601Z"
   },
   {
    "duration": 49,
    "start_time": "2024-11-10T06:35:06.639Z"
   },
   {
    "duration": 3,
    "start_time": "2024-11-10T06:35:06.689Z"
   },
   {
    "duration": 4,
    "start_time": "2024-11-10T06:35:06.694Z"
   },
   {
    "duration": 3,
    "start_time": "2024-11-10T06:35:06.701Z"
   },
   {
    "duration": 26,
    "start_time": "2024-11-10T06:35:06.706Z"
   },
   {
    "duration": 2951,
    "start_time": "2024-11-10T06:35:06.734Z"
   },
   {
    "duration": 2896,
    "start_time": "2024-11-10T06:35:09.686Z"
   },
   {
    "duration": 2994,
    "start_time": "2024-11-10T06:35:12.583Z"
   },
   {
    "duration": 6,
    "start_time": "2024-11-10T06:35:15.578Z"
   },
   {
    "duration": 195,
    "start_time": "2024-11-10T06:35:15.586Z"
   },
   {
    "duration": 94,
    "start_time": "2024-11-10T06:35:15.783Z"
   },
   {
    "duration": 92,
    "start_time": "2024-11-10T06:35:15.885Z"
   },
   {
    "duration": 102,
    "start_time": "2024-11-10T06:35:15.980Z"
   },
   {
    "duration": 16,
    "start_time": "2024-11-10T06:35:16.084Z"
   },
   {
    "duration": 9,
    "start_time": "2024-11-10T06:35:16.101Z"
   },
   {
    "duration": 4,
    "start_time": "2024-11-10T06:35:16.111Z"
   },
   {
    "duration": 4,
    "start_time": "2024-11-10T06:35:16.116Z"
   },
   {
    "duration": 4,
    "start_time": "2024-11-10T06:35:16.121Z"
   },
   {
    "duration": 5,
    "start_time": "2024-11-10T06:35:16.126Z"
   },
   {
    "duration": 46,
    "start_time": "2024-11-10T06:35:16.133Z"
   },
   {
    "duration": 9,
    "start_time": "2024-11-10T06:35:16.181Z"
   },
   {
    "duration": 9,
    "start_time": "2024-11-10T06:35:16.191Z"
   },
   {
    "duration": 4,
    "start_time": "2024-11-10T06:35:16.201Z"
   },
   {
    "duration": 4,
    "start_time": "2024-11-10T06:35:16.206Z"
   },
   {
    "duration": 11,
    "start_time": "2024-11-10T06:35:16.211Z"
   },
   {
    "duration": 5,
    "start_time": "2024-11-10T06:35:16.224Z"
   },
   {
    "duration": 2446,
    "start_time": "2024-11-10T06:35:16.230Z"
   },
   {
    "duration": 4,
    "start_time": "2024-11-10T06:35:18.678Z"
   },
   {
    "duration": 17,
    "start_time": "2024-11-10T06:35:18.683Z"
   },
   {
    "duration": 11,
    "start_time": "2024-11-10T06:35:18.701Z"
   },
   {
    "duration": 3,
    "start_time": "2024-11-10T06:35:18.714Z"
   },
   {
    "duration": 5,
    "start_time": "2024-11-10T06:35:18.718Z"
   },
   {
    "duration": 2260,
    "start_time": "2024-11-10T06:38:36.068Z"
   },
   {
    "duration": 1259,
    "start_time": "2024-11-10T06:38:38.330Z"
   },
   {
    "duration": 3,
    "start_time": "2024-11-10T06:38:39.590Z"
   },
   {
    "duration": 350,
    "start_time": "2024-11-10T06:38:39.594Z"
   },
   {
    "duration": 307,
    "start_time": "2024-11-10T06:38:39.946Z"
   },
   {
    "duration": 301,
    "start_time": "2024-11-10T06:38:40.254Z"
   },
   {
    "duration": 2,
    "start_time": "2024-11-10T06:38:40.557Z"
   },
   {
    "duration": 60,
    "start_time": "2024-11-10T06:38:40.561Z"
   },
   {
    "duration": 60,
    "start_time": "2024-11-10T06:38:40.624Z"
   },
   {
    "duration": 44,
    "start_time": "2024-11-10T06:38:40.686Z"
   },
   {
    "duration": 48,
    "start_time": "2024-11-10T06:38:40.732Z"
   },
   {
    "duration": 21,
    "start_time": "2024-11-10T06:38:40.782Z"
   },
   {
    "duration": 26,
    "start_time": "2024-11-10T06:38:40.805Z"
   },
   {
    "duration": 4,
    "start_time": "2024-11-10T06:38:40.834Z"
   },
   {
    "duration": 1800,
    "start_time": "2024-11-10T06:38:40.840Z"
   },
   {
    "duration": 2321,
    "start_time": "2024-11-10T06:38:42.642Z"
   },
   {
    "duration": 2316,
    "start_time": "2024-11-10T06:38:44.964Z"
   },
   {
    "duration": 4,
    "start_time": "2024-11-10T06:38:47.281Z"
   },
   {
    "duration": 1106,
    "start_time": "2024-11-10T06:38:47.286Z"
   },
   {
    "duration": 831,
    "start_time": "2024-11-10T06:38:48.394Z"
   },
   {
    "duration": 628,
    "start_time": "2024-11-10T06:38:49.227Z"
   },
   {
    "duration": 20,
    "start_time": "2024-11-10T06:38:49.857Z"
   },
   {
    "duration": 37,
    "start_time": "2024-11-10T06:38:49.879Z"
   },
   {
    "duration": 36,
    "start_time": "2024-11-10T06:38:49.918Z"
   },
   {
    "duration": 52,
    "start_time": "2024-11-10T06:38:49.955Z"
   },
   {
    "duration": 3,
    "start_time": "2024-11-10T06:38:50.009Z"
   },
   {
    "duration": 50,
    "start_time": "2024-11-10T06:38:50.013Z"
   },
   {
    "duration": 3,
    "start_time": "2024-11-10T06:38:50.064Z"
   },
   {
    "duration": 5,
    "start_time": "2024-11-10T06:38:50.068Z"
   },
   {
    "duration": 3006,
    "start_time": "2024-11-10T06:38:50.074Z"
   },
   {
    "duration": 3000,
    "start_time": "2024-11-10T06:38:53.081Z"
   },
   {
    "duration": 2995,
    "start_time": "2024-11-10T06:38:56.082Z"
   },
   {
    "duration": 6,
    "start_time": "2024-11-10T06:38:59.078Z"
   },
   {
    "duration": 93,
    "start_time": "2024-11-10T06:38:59.086Z"
   },
   {
    "duration": 106,
    "start_time": "2024-11-10T06:38:59.181Z"
   },
   {
    "duration": 89,
    "start_time": "2024-11-10T06:38:59.289Z"
   },
   {
    "duration": 99,
    "start_time": "2024-11-10T06:38:59.380Z"
   },
   {
    "duration": 9,
    "start_time": "2024-11-10T06:38:59.481Z"
   },
   {
    "duration": 8,
    "start_time": "2024-11-10T06:38:59.492Z"
   },
   {
    "duration": 4,
    "start_time": "2024-11-10T06:38:59.502Z"
   },
   {
    "duration": 3,
    "start_time": "2024-11-10T06:38:59.509Z"
   },
   {
    "duration": 4,
    "start_time": "2024-11-10T06:38:59.514Z"
   },
   {
    "duration": 7,
    "start_time": "2024-11-10T06:38:59.519Z"
   },
   {
    "duration": 59,
    "start_time": "2024-11-10T06:38:59.527Z"
   },
   {
    "duration": 9,
    "start_time": "2024-11-10T06:38:59.588Z"
   },
   {
    "duration": 6,
    "start_time": "2024-11-10T06:38:59.598Z"
   },
   {
    "duration": 3,
    "start_time": "2024-11-10T06:38:59.606Z"
   },
   {
    "duration": 3,
    "start_time": "2024-11-10T06:38:59.610Z"
   },
   {
    "duration": 3,
    "start_time": "2024-11-10T06:38:59.614Z"
   },
   {
    "duration": 4,
    "start_time": "2024-11-10T06:38:59.618Z"
   },
   {
    "duration": 2447,
    "start_time": "2024-11-10T06:38:59.623Z"
   },
   {
    "duration": 7,
    "start_time": "2024-11-10T06:39:02.071Z"
   },
   {
    "duration": 13,
    "start_time": "2024-11-10T06:39:02.079Z"
   },
   {
    "duration": 31,
    "start_time": "2024-11-10T06:39:02.093Z"
   },
   {
    "duration": 19,
    "start_time": "2024-11-10T06:39:02.126Z"
   },
   {
    "duration": 10,
    "start_time": "2024-11-10T06:39:02.147Z"
   },
   {
    "duration": 3457,
    "start_time": "2024-11-10T18:26:12.591Z"
   },
   {
    "duration": 22,
    "start_time": "2024-11-10T18:26:20.503Z"
   },
   {
    "duration": 344,
    "start_time": "2024-11-10T18:26:28.471Z"
   },
   {
    "duration": 2,
    "start_time": "2024-11-10T18:26:29.581Z"
   },
   {
    "duration": 298,
    "start_time": "2024-11-10T18:26:30.067Z"
   },
   {
    "duration": 389,
    "start_time": "2024-11-10T18:26:30.367Z"
   },
   {
    "duration": 418,
    "start_time": "2024-11-10T18:26:30.758Z"
   },
   {
    "duration": 3,
    "start_time": "2024-11-10T18:26:39.041Z"
   },
   {
    "duration": 29,
    "start_time": "2024-11-10T18:26:39.229Z"
   },
   {
    "duration": 24,
    "start_time": "2024-11-10T18:26:39.397Z"
   },
   {
    "duration": 27,
    "start_time": "2024-11-10T18:26:39.565Z"
   },
   {
    "duration": 3,
    "start_time": "2024-11-10T18:26:39.949Z"
   },
   {
    "duration": 2,
    "start_time": "2024-11-10T18:26:40.155Z"
   },
   {
    "duration": 3,
    "start_time": "2024-11-10T18:26:40.451Z"
   },
   {
    "duration": 4,
    "start_time": "2024-11-10T18:26:40.765Z"
   },
   {
    "duration": 2125,
    "start_time": "2024-11-10T18:26:40.995Z"
   },
   {
    "duration": 2210,
    "start_time": "2024-11-10T18:26:43.211Z"
   },
   {
    "duration": 2204,
    "start_time": "2024-11-10T18:26:45.512Z"
   },
   {
    "duration": 6,
    "start_time": "2024-11-10T18:26:47.717Z"
   },
   {
    "duration": 91,
    "start_time": "2024-11-10T18:26:47.725Z"
   },
   {
    "duration": 99,
    "start_time": "2024-11-10T18:26:47.818Z"
   },
   {
    "duration": 92,
    "start_time": "2024-11-10T18:26:47.919Z"
   },
   {
    "duration": 9,
    "start_time": "2024-11-10T18:26:48.013Z"
   },
   {
    "duration": 7,
    "start_time": "2024-11-10T18:26:48.112Z"
   },
   {
    "duration": 7,
    "start_time": "2024-11-10T18:26:48.121Z"
   },
   {
    "duration": 2,
    "start_time": "2024-11-10T18:26:48.130Z"
   },
   {
    "duration": 4,
    "start_time": "2024-11-10T18:26:48.133Z"
   },
   {
    "duration": 8,
    "start_time": "2024-11-10T18:26:48.138Z"
   },
   {
    "duration": 12,
    "start_time": "2024-11-10T18:26:48.147Z"
   },
   {
    "duration": 17,
    "start_time": "2024-11-10T18:26:48.160Z"
   },
   {
    "duration": 33,
    "start_time": "2024-11-10T18:26:48.179Z"
   },
   {
    "duration": 5,
    "start_time": "2024-11-10T18:26:48.214Z"
   },
   {
    "duration": 4,
    "start_time": "2024-11-10T18:26:48.220Z"
   },
   {
    "duration": 3,
    "start_time": "2024-11-10T18:26:48.226Z"
   },
   {
    "duration": 3,
    "start_time": "2024-11-10T18:26:49.095Z"
   },
   {
    "duration": 4,
    "start_time": "2024-11-10T18:26:49.922Z"
   },
   {
    "duration": 1897,
    "start_time": "2024-11-10T18:26:50.817Z"
   },
   {
    "duration": 5,
    "start_time": "2024-11-10T18:26:52.716Z"
   },
   {
    "duration": 3,
    "start_time": "2024-11-10T18:26:52.909Z"
   },
   {
    "duration": 10,
    "start_time": "2024-11-10T18:26:55.763Z"
   },
   {
    "duration": 3,
    "start_time": "2024-11-10T18:26:55.975Z"
   },
   {
    "duration": 6,
    "start_time": "2024-11-10T18:28:19.631Z"
   },
   {
    "duration": 16,
    "start_time": "2024-11-10T18:33:06.573Z"
   },
   {
    "duration": 9,
    "start_time": "2024-11-10T18:33:19.471Z"
   },
   {
    "duration": 5,
    "start_time": "2024-11-10T18:33:34.062Z"
   },
   {
    "duration": 8,
    "start_time": "2024-11-10T18:33:46.502Z"
   },
   {
    "duration": 9,
    "start_time": "2024-11-10T18:35:18.269Z"
   },
   {
    "duration": 8,
    "start_time": "2024-11-10T18:35:23.015Z"
   },
   {
    "duration": 19,
    "start_time": "2024-11-10T18:35:37.485Z"
   },
   {
    "duration": 1851,
    "start_time": "2024-11-10T18:35:40.203Z"
   },
   {
    "duration": 3985,
    "start_time": "2024-11-11T03:26:43.350Z"
   },
   {
    "duration": 1835,
    "start_time": "2024-11-11T03:26:47.338Z"
   },
   {
    "duration": 6,
    "start_time": "2024-11-11T03:26:49.188Z"
   },
   {
    "duration": 577,
    "start_time": "2024-11-11T03:26:49.200Z"
   },
   {
    "duration": 497,
    "start_time": "2024-11-11T03:26:49.778Z"
   },
   {
    "duration": 614,
    "start_time": "2024-11-11T03:26:50.276Z"
   },
   {
    "duration": 3,
    "start_time": "2024-11-11T03:26:50.892Z"
   },
   {
    "duration": 116,
    "start_time": "2024-11-11T03:26:50.901Z"
   },
   {
    "duration": 149,
    "start_time": "2024-11-11T03:26:51.018Z"
   },
   {
    "duration": 113,
    "start_time": "2024-11-11T03:26:51.169Z"
   },
   {
    "duration": 112,
    "start_time": "2024-11-11T03:26:51.292Z"
   },
   {
    "duration": 25,
    "start_time": "2024-11-11T03:26:51.405Z"
   },
   {
    "duration": 51,
    "start_time": "2024-11-11T03:26:51.432Z"
   },
   {
    "duration": 10,
    "start_time": "2024-11-11T03:26:51.485Z"
   },
   {
    "duration": 2151,
    "start_time": "2024-11-11T03:26:51.501Z"
   },
   {
    "duration": 3179,
    "start_time": "2024-11-11T03:26:53.669Z"
   },
   {
    "duration": 3172,
    "start_time": "2024-11-11T03:26:56.849Z"
   },
   {
    "duration": 6,
    "start_time": "2024-11-11T03:27:00.023Z"
   },
   {
    "duration": 1441,
    "start_time": "2024-11-11T03:27:00.030Z"
   },
   {
    "duration": 1241,
    "start_time": "2024-11-11T03:27:01.473Z"
   },
   {
    "duration": 584,
    "start_time": "2024-11-11T03:27:02.715Z"
   },
   {
    "duration": 9,
    "start_time": "2024-11-11T03:27:03.300Z"
   },
   {
    "duration": 30,
    "start_time": "2024-11-11T03:27:03.315Z"
   },
   {
    "duration": 55,
    "start_time": "2024-11-11T03:27:03.346Z"
   },
   {
    "duration": 27,
    "start_time": "2024-11-11T03:27:03.402Z"
   },
   {
    "duration": 16,
    "start_time": "2024-11-11T03:27:03.430Z"
   },
   {
    "duration": 40,
    "start_time": "2024-11-11T03:27:03.447Z"
   },
   {
    "duration": 7,
    "start_time": "2024-11-11T03:27:03.494Z"
   },
   {
    "duration": 6,
    "start_time": "2024-11-11T03:27:03.503Z"
   },
   {
    "duration": 2594,
    "start_time": "2024-11-11T03:27:03.511Z"
   },
   {
    "duration": 2268,
    "start_time": "2024-11-11T03:27:06.107Z"
   },
   {
    "duration": 2399,
    "start_time": "2024-11-11T03:27:08.376Z"
   },
   {
    "duration": 81,
    "start_time": "2024-11-11T03:27:10.776Z"
   },
   {
    "duration": 37,
    "start_time": "2024-11-11T03:27:10.867Z"
   },
   {
    "duration": 69,
    "start_time": "2024-11-11T03:27:10.906Z"
   },
   {
    "duration": 11,
    "start_time": "2024-11-11T03:27:10.976Z"
   },
   {
    "duration": 18,
    "start_time": "2024-11-11T03:27:10.988Z"
   },
   {
    "duration": 28,
    "start_time": "2024-11-11T03:27:11.058Z"
   },
   {
    "duration": 84,
    "start_time": "2024-11-11T03:27:11.099Z"
   },
   {
    "duration": 7,
    "start_time": "2024-11-11T03:27:11.184Z"
   },
   {
    "duration": 8,
    "start_time": "2024-11-11T03:27:11.196Z"
   },
   {
    "duration": 5,
    "start_time": "2024-11-11T03:27:11.205Z"
   },
   {
    "duration": 9,
    "start_time": "2024-11-11T03:27:11.212Z"
   },
   {
    "duration": 19,
    "start_time": "2024-11-11T03:27:11.223Z"
   },
   {
    "duration": 7,
    "start_time": "2024-11-11T03:27:11.244Z"
   },
   {
    "duration": 21,
    "start_time": "2024-11-11T03:27:11.253Z"
   },
   {
    "duration": 4,
    "start_time": "2024-11-11T03:27:11.282Z"
   },
   {
    "duration": 8,
    "start_time": "2024-11-11T03:27:11.287Z"
   },
   {
    "duration": 4,
    "start_time": "2024-11-11T03:27:11.301Z"
   },
   {
    "duration": 180,
    "start_time": "2024-11-11T03:27:11.307Z"
   },
   {
    "duration": 0,
    "start_time": "2024-11-11T03:27:11.490Z"
   },
   {
    "duration": 0,
    "start_time": "2024-11-11T03:27:11.492Z"
   },
   {
    "duration": 0,
    "start_time": "2024-11-11T03:27:11.493Z"
   },
   {
    "duration": 0,
    "start_time": "2024-11-11T03:27:11.495Z"
   },
   {
    "duration": 0,
    "start_time": "2024-11-11T03:27:11.496Z"
   },
   {
    "duration": 0,
    "start_time": "2024-11-11T03:27:11.497Z"
   },
   {
    "duration": 0,
    "start_time": "2024-11-11T03:27:11.499Z"
   },
   {
    "duration": 39,
    "start_time": "2024-11-11T03:27:45.338Z"
   },
   {
    "duration": 45,
    "start_time": "2024-11-11T03:28:17.283Z"
   },
   {
    "duration": 2727,
    "start_time": "2024-11-11T03:30:14.779Z"
   },
   {
    "duration": 1346,
    "start_time": "2024-11-11T03:30:17.508Z"
   },
   {
    "duration": 19,
    "start_time": "2024-11-11T03:30:18.855Z"
   },
   {
    "duration": 311,
    "start_time": "2024-11-11T03:30:18.879Z"
   },
   {
    "duration": 296,
    "start_time": "2024-11-11T03:30:19.192Z"
   },
   {
    "duration": 390,
    "start_time": "2024-11-11T03:30:19.490Z"
   },
   {
    "duration": 4,
    "start_time": "2024-11-11T03:30:19.881Z"
   },
   {
    "duration": 99,
    "start_time": "2024-11-11T03:30:19.888Z"
   },
   {
    "duration": 40,
    "start_time": "2024-11-11T03:30:19.989Z"
   },
   {
    "duration": 48,
    "start_time": "2024-11-11T03:30:20.031Z"
   },
   {
    "duration": 28,
    "start_time": "2024-11-11T03:30:20.080Z"
   },
   {
    "duration": 19,
    "start_time": "2024-11-11T03:30:20.109Z"
   },
   {
    "duration": 56,
    "start_time": "2024-11-11T03:30:20.129Z"
   },
   {
    "duration": 5,
    "start_time": "2024-11-11T03:30:20.187Z"
   },
   {
    "duration": 2024,
    "start_time": "2024-11-11T03:30:20.194Z"
   },
   {
    "duration": 3082,
    "start_time": "2024-11-11T03:30:22.220Z"
   },
   {
    "duration": 3308,
    "start_time": "2024-11-11T03:30:25.304Z"
   },
   {
    "duration": 5,
    "start_time": "2024-11-11T03:30:28.615Z"
   },
   {
    "duration": 1078,
    "start_time": "2024-11-11T03:30:28.622Z"
   },
   {
    "duration": 1085,
    "start_time": "2024-11-11T03:30:29.702Z"
   },
   {
    "duration": 626,
    "start_time": "2024-11-11T03:30:30.788Z"
   },
   {
    "duration": 4,
    "start_time": "2024-11-11T03:30:31.415Z"
   },
   {
    "duration": 50,
    "start_time": "2024-11-11T03:30:31.421Z"
   },
   {
    "duration": 37,
    "start_time": "2024-11-11T03:30:31.472Z"
   },
   {
    "duration": 27,
    "start_time": "2024-11-11T03:30:31.510Z"
   },
   {
    "duration": 3,
    "start_time": "2024-11-11T03:30:31.538Z"
   },
   {
    "duration": 6,
    "start_time": "2024-11-11T03:30:31.542Z"
   },
   {
    "duration": 17,
    "start_time": "2024-11-11T03:30:31.563Z"
   },
   {
    "duration": 10,
    "start_time": "2024-11-11T03:30:31.586Z"
   },
   {
    "duration": 2170,
    "start_time": "2024-11-11T03:30:31.597Z"
   },
   {
    "duration": 2091,
    "start_time": "2024-11-11T03:30:33.775Z"
   },
   {
    "duration": 2295,
    "start_time": "2024-11-11T03:30:35.871Z"
   },
   {
    "duration": 24,
    "start_time": "2024-11-11T03:30:38.168Z"
   },
   {
    "duration": 78,
    "start_time": "2024-11-11T03:30:38.198Z"
   },
   {
    "duration": 84,
    "start_time": "2024-11-11T03:30:38.284Z"
   },
   {
    "duration": 5,
    "start_time": "2024-11-11T03:30:38.374Z"
   },
   {
    "duration": 78,
    "start_time": "2024-11-11T03:30:38.385Z"
   },
   {
    "duration": 25,
    "start_time": "2024-11-11T03:30:38.466Z"
   },
   {
    "duration": 8,
    "start_time": "2024-11-11T03:30:38.495Z"
   },
   {
    "duration": 3,
    "start_time": "2024-11-11T03:30:38.506Z"
   },
   {
    "duration": 4,
    "start_time": "2024-11-11T03:30:38.510Z"
   },
   {
    "duration": 5,
    "start_time": "2024-11-11T03:30:38.516Z"
   },
   {
    "duration": 6,
    "start_time": "2024-11-11T03:30:38.523Z"
   },
   {
    "duration": 48,
    "start_time": "2024-11-11T03:30:38.531Z"
   },
   {
    "duration": 9,
    "start_time": "2024-11-11T03:30:38.580Z"
   },
   {
    "duration": 6,
    "start_time": "2024-11-11T03:30:38.590Z"
   },
   {
    "duration": 3,
    "start_time": "2024-11-11T03:30:38.597Z"
   },
   {
    "duration": 4,
    "start_time": "2024-11-11T03:30:38.602Z"
   },
   {
    "duration": 5,
    "start_time": "2024-11-11T03:30:38.607Z"
   },
   {
    "duration": 73,
    "start_time": "2024-11-11T03:30:38.613Z"
   },
   {
    "duration": 3,
    "start_time": "2024-11-11T03:30:38.688Z"
   },
   {
    "duration": 1384,
    "start_time": "2024-11-11T03:30:38.693Z"
   },
   {
    "duration": 0,
    "start_time": "2024-11-11T03:30:40.079Z"
   },
   {
    "duration": 0,
    "start_time": "2024-11-11T03:30:40.080Z"
   },
   {
    "duration": 0,
    "start_time": "2024-11-11T03:30:40.087Z"
   },
   {
    "duration": 0,
    "start_time": "2024-11-11T03:30:40.089Z"
   },
   {
    "duration": 0,
    "start_time": "2024-11-11T03:30:40.090Z"
   },
   {
    "duration": 2828,
    "start_time": "2024-11-11T03:31:16.981Z"
   },
   {
    "duration": 1379,
    "start_time": "2024-11-11T03:31:19.812Z"
   },
   {
    "duration": 4,
    "start_time": "2024-11-11T03:31:21.196Z"
   },
   {
    "duration": 345,
    "start_time": "2024-11-11T03:31:21.202Z"
   },
   {
    "duration": 332,
    "start_time": "2024-11-11T03:31:21.549Z"
   },
   {
    "duration": 318,
    "start_time": "2024-11-11T03:31:21.890Z"
   },
   {
    "duration": 3,
    "start_time": "2024-11-11T03:31:22.209Z"
   },
   {
    "duration": 57,
    "start_time": "2024-11-11T03:31:22.214Z"
   },
   {
    "duration": 56,
    "start_time": "2024-11-11T03:31:22.272Z"
   },
   {
    "duration": 70,
    "start_time": "2024-11-11T03:31:22.330Z"
   },
   {
    "duration": 31,
    "start_time": "2024-11-11T03:31:22.402Z"
   },
   {
    "duration": 45,
    "start_time": "2024-11-11T03:31:22.434Z"
   },
   {
    "duration": 33,
    "start_time": "2024-11-11T03:31:22.480Z"
   },
   {
    "duration": 5,
    "start_time": "2024-11-11T03:31:22.516Z"
   },
   {
    "duration": 2256,
    "start_time": "2024-11-11T03:31:22.523Z"
   },
   {
    "duration": 3408,
    "start_time": "2024-11-11T03:31:24.788Z"
   },
   {
    "duration": 2928,
    "start_time": "2024-11-11T03:31:28.198Z"
   },
   {
    "duration": 3,
    "start_time": "2024-11-11T03:31:31.127Z"
   },
   {
    "duration": 1460,
    "start_time": "2024-11-11T03:31:31.133Z"
   },
   {
    "duration": 1212,
    "start_time": "2024-11-11T03:31:32.595Z"
   },
   {
    "duration": 611,
    "start_time": "2024-11-11T03:31:33.810Z"
   },
   {
    "duration": 4,
    "start_time": "2024-11-11T03:31:34.423Z"
   },
   {
    "duration": 49,
    "start_time": "2024-11-11T03:31:34.429Z"
   },
   {
    "duration": 33,
    "start_time": "2024-11-11T03:31:34.479Z"
   },
   {
    "duration": 26,
    "start_time": "2024-11-11T03:31:34.513Z"
   },
   {
    "duration": 29,
    "start_time": "2024-11-11T03:31:34.541Z"
   },
   {
    "duration": 2,
    "start_time": "2024-11-11T03:31:34.571Z"
   },
   {
    "duration": 13,
    "start_time": "2024-11-11T03:31:34.579Z"
   },
   {
    "duration": 19,
    "start_time": "2024-11-11T03:31:34.594Z"
   },
   {
    "duration": 2364,
    "start_time": "2024-11-11T03:31:34.614Z"
   },
   {
    "duration": 2094,
    "start_time": "2024-11-11T03:31:36.980Z"
   },
   {
    "duration": 2095,
    "start_time": "2024-11-11T03:31:39.075Z"
   },
   {
    "duration": 19,
    "start_time": "2024-11-11T03:31:41.171Z"
   },
   {
    "duration": 90,
    "start_time": "2024-11-11T03:31:41.192Z"
   },
   {
    "duration": 85,
    "start_time": "2024-11-11T03:31:41.290Z"
   },
   {
    "duration": 9,
    "start_time": "2024-11-11T03:31:41.383Z"
   },
   {
    "duration": 80,
    "start_time": "2024-11-11T03:31:41.397Z"
   },
   {
    "duration": 16,
    "start_time": "2024-11-11T03:31:41.483Z"
   },
   {
    "duration": 18,
    "start_time": "2024-11-11T03:31:41.560Z"
   },
   {
    "duration": 4,
    "start_time": "2024-11-11T03:31:41.580Z"
   },
   {
    "duration": 6,
    "start_time": "2024-11-11T03:31:41.588Z"
   },
   {
    "duration": 5,
    "start_time": "2024-11-11T03:31:41.595Z"
   },
   {
    "duration": 7,
    "start_time": "2024-11-11T03:31:41.601Z"
   },
   {
    "duration": 19,
    "start_time": "2024-11-11T03:31:41.609Z"
   },
   {
    "duration": 7,
    "start_time": "2024-11-11T03:31:41.630Z"
   },
   {
    "duration": 13,
    "start_time": "2024-11-11T03:31:41.663Z"
   },
   {
    "duration": 11,
    "start_time": "2024-11-11T03:31:41.677Z"
   },
   {
    "duration": 6,
    "start_time": "2024-11-11T03:31:41.689Z"
   },
   {
    "duration": 10,
    "start_time": "2024-11-11T03:31:41.696Z"
   },
   {
    "duration": 48,
    "start_time": "2024-11-11T03:31:41.707Z"
   },
   {
    "duration": 14,
    "start_time": "2024-11-11T03:31:41.756Z"
   },
   {
    "duration": 1929,
    "start_time": "2024-11-11T03:31:41.771Z"
   },
   {
    "duration": 5,
    "start_time": "2024-11-11T03:31:43.702Z"
   },
   {
    "duration": 5,
    "start_time": "2024-11-11T03:31:43.708Z"
   },
   {
    "duration": 8,
    "start_time": "2024-11-11T03:31:43.714Z"
   },
   {
    "duration": 3,
    "start_time": "2024-11-11T03:31:43.723Z"
   },
   {
    "duration": 5,
    "start_time": "2024-11-11T03:31:43.727Z"
   },
   {
    "duration": 4,
    "start_time": "2024-11-11T03:33:06.750Z"
   },
   {
    "duration": 2785,
    "start_time": "2024-11-11T03:39:05.337Z"
   },
   {
    "duration": 1363,
    "start_time": "2024-11-11T03:39:08.124Z"
   },
   {
    "duration": 5,
    "start_time": "2024-11-11T03:39:09.488Z"
   },
   {
    "duration": 387,
    "start_time": "2024-11-11T03:39:09.496Z"
   },
   {
    "duration": 339,
    "start_time": "2024-11-11T03:39:09.888Z"
   },
   {
    "duration": 348,
    "start_time": "2024-11-11T03:39:10.229Z"
   },
   {
    "duration": 9,
    "start_time": "2024-11-11T03:39:10.579Z"
   },
   {
    "duration": 48,
    "start_time": "2024-11-11T03:39:10.589Z"
   },
   {
    "duration": 62,
    "start_time": "2024-11-11T03:39:10.638Z"
   },
   {
    "duration": 42,
    "start_time": "2024-11-11T03:39:10.702Z"
   },
   {
    "duration": 60,
    "start_time": "2024-11-11T03:39:10.746Z"
   },
   {
    "duration": 21,
    "start_time": "2024-11-11T03:39:10.808Z"
   },
   {
    "duration": 74,
    "start_time": "2024-11-11T03:39:10.830Z"
   },
   {
    "duration": 5,
    "start_time": "2024-11-11T03:39:10.905Z"
   },
   {
    "duration": 1996,
    "start_time": "2024-11-11T03:39:10.911Z"
   },
   {
    "duration": 3312,
    "start_time": "2024-11-11T03:39:12.908Z"
   },
   {
    "duration": 2884,
    "start_time": "2024-11-11T03:39:16.222Z"
   },
   {
    "duration": 5,
    "start_time": "2024-11-11T03:39:19.109Z"
   },
   {
    "duration": 1559,
    "start_time": "2024-11-11T03:39:19.116Z"
   },
   {
    "duration": 1005,
    "start_time": "2024-11-11T03:39:20.684Z"
   },
   {
    "duration": 617,
    "start_time": "2024-11-11T03:39:21.690Z"
   },
   {
    "duration": 4,
    "start_time": "2024-11-11T03:39:22.309Z"
   },
   {
    "duration": 110,
    "start_time": "2024-11-11T03:39:22.315Z"
   },
   {
    "duration": 28,
    "start_time": "2024-11-11T03:39:22.426Z"
   },
   {
    "duration": 42,
    "start_time": "2024-11-11T03:39:22.456Z"
   },
   {
    "duration": 4,
    "start_time": "2024-11-11T03:39:22.500Z"
   },
   {
    "duration": 3,
    "start_time": "2024-11-11T03:39:22.506Z"
   },
   {
    "duration": 3,
    "start_time": "2024-11-11T03:39:22.516Z"
   },
   {
    "duration": 4,
    "start_time": "2024-11-11T03:39:22.521Z"
   },
   {
    "duration": 2050,
    "start_time": "2024-11-11T03:39:22.526Z"
   },
   {
    "duration": 2113,
    "start_time": "2024-11-11T03:39:24.578Z"
   },
   {
    "duration": 2194,
    "start_time": "2024-11-11T03:39:26.695Z"
   },
   {
    "duration": 7,
    "start_time": "2024-11-11T03:39:28.891Z"
   },
   {
    "duration": 76,
    "start_time": "2024-11-11T03:39:28.900Z"
   },
   {
    "duration": 18,
    "start_time": "2024-11-11T03:39:28.978Z"
   },
   {
    "duration": 15,
    "start_time": "2024-11-11T03:39:29.064Z"
   },
   {
    "duration": 91,
    "start_time": "2024-11-11T03:39:29.080Z"
   },
   {
    "duration": 11,
    "start_time": "2024-11-11T03:39:29.172Z"
   },
   {
    "duration": 7,
    "start_time": "2024-11-11T03:39:29.187Z"
   },
   {
    "duration": 16,
    "start_time": "2024-11-11T03:39:29.195Z"
   },
   {
    "duration": 8,
    "start_time": "2024-11-11T03:39:29.212Z"
   },
   {
    "duration": 4,
    "start_time": "2024-11-11T03:39:29.221Z"
   },
   {
    "duration": 12,
    "start_time": "2024-11-11T03:39:29.226Z"
   },
   {
    "duration": 49,
    "start_time": "2024-11-11T03:39:29.239Z"
   },
   {
    "duration": 10,
    "start_time": "2024-11-11T03:39:29.289Z"
   },
   {
    "duration": 5,
    "start_time": "2024-11-11T03:39:29.301Z"
   },
   {
    "duration": 5,
    "start_time": "2024-11-11T03:39:29.307Z"
   },
   {
    "duration": 6,
    "start_time": "2024-11-11T03:39:29.313Z"
   },
   {
    "duration": 3,
    "start_time": "2024-11-11T03:39:29.320Z"
   },
   {
    "duration": 81,
    "start_time": "2024-11-11T03:39:29.324Z"
   },
   {
    "duration": 5,
    "start_time": "2024-11-11T03:39:29.407Z"
   },
   {
    "duration": 1942,
    "start_time": "2024-11-11T03:39:29.414Z"
   },
   {
    "duration": 21,
    "start_time": "2024-11-11T03:39:31.362Z"
   },
   {
    "duration": 16,
    "start_time": "2024-11-11T03:39:31.385Z"
   },
   {
    "duration": 13,
    "start_time": "2024-11-11T03:39:31.402Z"
   },
   {
    "duration": 4,
    "start_time": "2024-11-11T03:39:31.416Z"
   },
   {
    "duration": 12,
    "start_time": "2024-11-11T03:39:31.421Z"
   },
   {
    "duration": 3041,
    "start_time": "2024-11-11T03:49:42.482Z"
   },
   {
    "duration": 1549,
    "start_time": "2024-11-11T03:49:45.526Z"
   },
   {
    "duration": 4,
    "start_time": "2024-11-11T03:49:47.076Z"
   },
   {
    "duration": 386,
    "start_time": "2024-11-11T03:49:47.084Z"
   },
   {
    "duration": 344,
    "start_time": "2024-11-11T03:49:47.475Z"
   },
   {
    "duration": 309,
    "start_time": "2024-11-11T03:49:47.821Z"
   },
   {
    "duration": 3,
    "start_time": "2024-11-11T03:49:48.132Z"
   },
   {
    "duration": 63,
    "start_time": "2024-11-11T03:49:48.137Z"
   },
   {
    "duration": 45,
    "start_time": "2024-11-11T03:49:48.207Z"
   },
   {
    "duration": 78,
    "start_time": "2024-11-11T03:49:48.275Z"
   },
   {
    "duration": 47,
    "start_time": "2024-11-11T03:49:48.355Z"
   },
   {
    "duration": 50,
    "start_time": "2024-11-11T03:49:48.403Z"
   },
   {
    "duration": 63,
    "start_time": "2024-11-11T03:49:48.454Z"
   },
   {
    "duration": 6,
    "start_time": "2024-11-11T03:49:48.522Z"
   },
   {
    "duration": 2440,
    "start_time": "2024-11-11T03:49:48.529Z"
   },
   {
    "duration": 3171,
    "start_time": "2024-11-11T03:49:50.971Z"
   },
   {
    "duration": 3334,
    "start_time": "2024-11-11T03:49:54.145Z"
   },
   {
    "duration": 5,
    "start_time": "2024-11-11T03:49:57.488Z"
   },
   {
    "duration": 1506,
    "start_time": "2024-11-11T03:49:57.494Z"
   },
   {
    "duration": 1001,
    "start_time": "2024-11-11T03:49:59.002Z"
   },
   {
    "duration": 711,
    "start_time": "2024-11-11T03:50:00.005Z"
   },
   {
    "duration": 4,
    "start_time": "2024-11-11T03:50:00.717Z"
   },
   {
    "duration": 78,
    "start_time": "2024-11-11T03:50:00.723Z"
   },
   {
    "duration": 25,
    "start_time": "2024-11-11T03:50:00.803Z"
   },
   {
    "duration": 56,
    "start_time": "2024-11-11T03:50:00.830Z"
   },
   {
    "duration": 32,
    "start_time": "2024-11-11T03:50:00.888Z"
   },
   {
    "duration": 11,
    "start_time": "2024-11-11T03:50:00.922Z"
   },
   {
    "duration": 4,
    "start_time": "2024-11-11T03:50:00.934Z"
   },
   {
    "duration": 4,
    "start_time": "2024-11-11T03:50:00.940Z"
   },
   {
    "duration": 2434,
    "start_time": "2024-11-11T03:50:00.945Z"
   },
   {
    "duration": 2184,
    "start_time": "2024-11-11T03:50:03.383Z"
   },
   {
    "duration": 2515,
    "start_time": "2024-11-11T03:50:05.572Z"
   },
   {
    "duration": 15,
    "start_time": "2024-11-11T03:50:08.092Z"
   },
   {
    "duration": 90,
    "start_time": "2024-11-11T03:50:08.109Z"
   },
   {
    "duration": 66,
    "start_time": "2024-11-11T03:50:08.201Z"
   },
   {
    "duration": 16,
    "start_time": "2024-11-11T03:50:08.268Z"
   },
   {
    "duration": 86,
    "start_time": "2024-11-11T03:50:08.285Z"
   },
   {
    "duration": 59,
    "start_time": "2024-11-11T03:50:08.373Z"
   },
   {
    "duration": 8,
    "start_time": "2024-11-11T03:50:08.434Z"
   },
   {
    "duration": 8,
    "start_time": "2024-11-11T03:50:08.443Z"
   },
   {
    "duration": 9,
    "start_time": "2024-11-11T03:50:08.457Z"
   },
   {
    "duration": 5,
    "start_time": "2024-11-11T03:50:08.469Z"
   },
   {
    "duration": 6,
    "start_time": "2024-11-11T03:50:08.476Z"
   },
   {
    "duration": 23,
    "start_time": "2024-11-11T03:50:08.484Z"
   },
   {
    "duration": 9,
    "start_time": "2024-11-11T03:50:08.508Z"
   },
   {
    "duration": 6,
    "start_time": "2024-11-11T03:50:08.518Z"
   },
   {
    "duration": 52,
    "start_time": "2024-11-11T03:50:08.526Z"
   },
   {
    "duration": 4,
    "start_time": "2024-11-11T03:50:08.588Z"
   },
   {
    "duration": 4,
    "start_time": "2024-11-11T03:50:08.594Z"
   },
   {
    "duration": 89,
    "start_time": "2024-11-11T03:50:08.600Z"
   },
   {
    "duration": 3,
    "start_time": "2024-11-11T03:50:08.692Z"
   },
   {
    "duration": 1953,
    "start_time": "2024-11-11T03:50:08.697Z"
   },
   {
    "duration": 24,
    "start_time": "2024-11-11T03:50:10.652Z"
   },
   {
    "duration": 17,
    "start_time": "2024-11-11T03:50:10.677Z"
   },
   {
    "duration": 13,
    "start_time": "2024-11-11T03:50:10.696Z"
   },
   {
    "duration": 4,
    "start_time": "2024-11-11T03:50:10.711Z"
   },
   {
    "duration": 10,
    "start_time": "2024-11-11T03:50:10.717Z"
   }
  ],
  "kernelspec": {
   "display_name": "Python 3 (ipykernel)",
   "language": "python",
   "name": "python3"
  },
  "language_info": {
   "codemirror_mode": {
    "name": "ipython",
    "version": 3
   },
   "file_extension": ".py",
   "mimetype": "text/x-python",
   "name": "python",
   "nbconvert_exporter": "python",
   "pygments_lexer": "ipython3",
   "version": "3.12.4"
  },
  "toc": {
   "base_numbering": 1,
   "nav_menu": {},
   "number_sections": false,
   "sideBar": true,
   "skip_h1_title": true,
   "title_cell": "Table of Contents",
   "title_sidebar": "Contents",
   "toc_cell": false,
   "toc_position": {
    "height": "calc(100% - 180px)",
    "left": "10px",
    "top": "150px",
    "width": "384px"
   },
   "toc_section_display": true,
   "toc_window_display": true
  }
 },
 "nbformat": 4,
 "nbformat_minor": 2
}
