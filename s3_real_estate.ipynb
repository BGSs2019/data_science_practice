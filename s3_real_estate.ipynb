{
 "cells": [
  {
   "cell_type": "markdown",
   "metadata": {
    "id": "-VFbjcb3Awb7"
   },
   "source": [
    "# Исследование объявлений о продаже квартир\n",
    "\n",
    "В вашем распоряжении данные сервиса Яндекс Недвижимость — архив объявлений о продаже квартир в Санкт-Петербурге и соседних населённых пунктах за несколько лет. Вам нужно научиться определять рыночную стоимость объектов недвижимости. Для этого проведите исследовательский анализ данных и установите параметры, влияющие на цену объектов. Это позволит построить автоматизированную систему: она отследит аномалии и мошенническую деятельность.\n",
    "\n",
    "По каждой квартире на продажу доступны два вида данных. Первые вписаны пользователем, вторые — получены автоматически на основе картографических данных. Например, расстояние до центра, аэропорта и других объектов — эти данные автоматически получены из геосервисов. Количество парков и водоёмов также заполняется без участия пользователя."
   ]
  },
  {
   "cell_type": "markdown",
   "metadata": {},
   "source": [
    "**Описание данных:** В представленном наборе данных содержится информация по объектам недвижимости в Ленинградской области. Представлены характеристики:\n",
    "\n",
    "airports_nearest — расстояние до ближайшего аэропорта в метрах (м)\n",
    "\n",
    "balcony — число балконов\n",
    "\n",
    "ceiling_height — высота потолков (м)\n",
    "\n",
    "cityCenters_nearest — расстояние до центра города (м)\n",
    "\n",
    "days_exposition — сколько дней было размещено объявление (от публикации до снятия)\n",
    "\n",
    "first_day_exposition — дата публикации\n",
    "\n",
    "floor — этаж\n",
    "\n",
    "floors_total — всего этажей в доме\n",
    "\n",
    "is_apartment — апартаменты (булев тип)\n",
    "\n",
    "kitchen_area — площадь кухни в квадратных метрах (м²)\n",
    "\n",
    "last_price — цена на момент снятия с публикации\n",
    "\n",
    "living_area — жилая площадь в квадратных метрах (м²)\n",
    "\n",
    "locality_name — название населённого пункта\n",
    "\n",
    "open_plan — свободная планировка (булев тип)\n",
    "\n",
    "parks_around3000 — число парков в радиусе 3 км\n",
    "\n",
    "parks_nearest — расстояние до ближайшего парка (м)\n",
    "\n",
    "ponds_around3000 — число водоёмов в радиусе 3 км\n",
    "\n",
    "ponds_nearest — расстояние до ближайшего водоёма (м)\n",
    "\n",
    "rooms — число комнат\n",
    "\n",
    "studio — квартира-студия (булев тип)\n",
    "\n",
    "total_area — общая площадь квартиры в квадратных метрах (м²)\n",
    "\n",
    "total_images — число фотографий квартиры в объявлении\n",
    "\n",
    "**Цель работы:** Определить параметры, влияющие на стоимость объектов недвижимости, с целью автоматизации поиска аномалий в объявлениях.\n",
    "\n",
    "**Ход исследования**:\n",
    "\n",
    "1. Изучение общей информации\n",
    "\n",
    "2. Предобработка данных\n",
    "\n",
    "3. Добавление дополнительных параметров\n",
    "\n",
    "4. Исследование зависимостей в данных\n",
    "\n",
    "5. Общий вывод"
   ]
  },
  {
   "cell_type": "markdown",
   "metadata": {
    "id": "aeFLH07FAwb9"
   },
   "source": [
    "### Откройте файл с данными и изучите общую информацию"
   ]
  },
  {
   "cell_type": "code",
   "execution_count": 1,
   "metadata": {},
   "outputs": [],
   "source": [
    "#импорт библиотек\n",
    "import pandas as pd\n",
    "import matplotlib.pyplot as plt\n",
    "\n",
    "#глобальная настройка для корректного отображения цен на объекты\n",
    "pd.set_option('display.float_format', lambda x: '%.3f' % x)"
   ]
  },
  {
   "cell_type": "code",
   "execution_count": 2,
   "metadata": {
    "id": "7MZxY65pAwb9"
   },
   "outputs": [],
   "source": [
    "#получение данных из файла\n",
    "df = pd.read_csv(\"/datasets/real_estate_data.csv\", sep=\"\\t\")"
   ]
  },
  {
   "cell_type": "code",
   "execution_count": 3,
   "metadata": {},
   "outputs": [
    {
     "data": {
      "text/html": [
       "<div>\n",
       "<style scoped>\n",
       "    .dataframe tbody tr th:only-of-type {\n",
       "        vertical-align: middle;\n",
       "    }\n",
       "\n",
       "    .dataframe tbody tr th {\n",
       "        vertical-align: top;\n",
       "    }\n",
       "\n",
       "    .dataframe thead th {\n",
       "        text-align: right;\n",
       "    }\n",
       "</style>\n",
       "<table border=\"1\" class=\"dataframe\">\n",
       "  <thead>\n",
       "    <tr style=\"text-align: right;\">\n",
       "      <th></th>\n",
       "      <th>total_images</th>\n",
       "      <th>last_price</th>\n",
       "      <th>total_area</th>\n",
       "      <th>first_day_exposition</th>\n",
       "      <th>rooms</th>\n",
       "      <th>ceiling_height</th>\n",
       "      <th>floors_total</th>\n",
       "      <th>living_area</th>\n",
       "      <th>floor</th>\n",
       "      <th>is_apartment</th>\n",
       "      <th>...</th>\n",
       "      <th>kitchen_area</th>\n",
       "      <th>balcony</th>\n",
       "      <th>locality_name</th>\n",
       "      <th>airports_nearest</th>\n",
       "      <th>cityCenters_nearest</th>\n",
       "      <th>parks_around3000</th>\n",
       "      <th>parks_nearest</th>\n",
       "      <th>ponds_around3000</th>\n",
       "      <th>ponds_nearest</th>\n",
       "      <th>days_exposition</th>\n",
       "    </tr>\n",
       "  </thead>\n",
       "  <tbody>\n",
       "    <tr>\n",
       "      <th>0</th>\n",
       "      <td>20</td>\n",
       "      <td>13000000.000</td>\n",
       "      <td>108.000</td>\n",
       "      <td>2019-03-07T00:00:00</td>\n",
       "      <td>3</td>\n",
       "      <td>2.700</td>\n",
       "      <td>16.000</td>\n",
       "      <td>51.000</td>\n",
       "      <td>8</td>\n",
       "      <td>NaN</td>\n",
       "      <td>...</td>\n",
       "      <td>25.000</td>\n",
       "      <td>NaN</td>\n",
       "      <td>Санкт-Петербург</td>\n",
       "      <td>18863.000</td>\n",
       "      <td>16028.000</td>\n",
       "      <td>1.000</td>\n",
       "      <td>482.000</td>\n",
       "      <td>2.000</td>\n",
       "      <td>755.000</td>\n",
       "      <td>NaN</td>\n",
       "    </tr>\n",
       "    <tr>\n",
       "      <th>1</th>\n",
       "      <td>7</td>\n",
       "      <td>3350000.000</td>\n",
       "      <td>40.400</td>\n",
       "      <td>2018-12-04T00:00:00</td>\n",
       "      <td>1</td>\n",
       "      <td>NaN</td>\n",
       "      <td>11.000</td>\n",
       "      <td>18.600</td>\n",
       "      <td>1</td>\n",
       "      <td>NaN</td>\n",
       "      <td>...</td>\n",
       "      <td>11.000</td>\n",
       "      <td>2.000</td>\n",
       "      <td>посёлок Шушары</td>\n",
       "      <td>12817.000</td>\n",
       "      <td>18603.000</td>\n",
       "      <td>0.000</td>\n",
       "      <td>NaN</td>\n",
       "      <td>0.000</td>\n",
       "      <td>NaN</td>\n",
       "      <td>81.000</td>\n",
       "    </tr>\n",
       "    <tr>\n",
       "      <th>2</th>\n",
       "      <td>10</td>\n",
       "      <td>5196000.000</td>\n",
       "      <td>56.000</td>\n",
       "      <td>2015-08-20T00:00:00</td>\n",
       "      <td>2</td>\n",
       "      <td>NaN</td>\n",
       "      <td>5.000</td>\n",
       "      <td>34.300</td>\n",
       "      <td>4</td>\n",
       "      <td>NaN</td>\n",
       "      <td>...</td>\n",
       "      <td>8.300</td>\n",
       "      <td>0.000</td>\n",
       "      <td>Санкт-Петербург</td>\n",
       "      <td>21741.000</td>\n",
       "      <td>13933.000</td>\n",
       "      <td>1.000</td>\n",
       "      <td>90.000</td>\n",
       "      <td>2.000</td>\n",
       "      <td>574.000</td>\n",
       "      <td>558.000</td>\n",
       "    </tr>\n",
       "    <tr>\n",
       "      <th>3</th>\n",
       "      <td>0</td>\n",
       "      <td>64900000.000</td>\n",
       "      <td>159.000</td>\n",
       "      <td>2015-07-24T00:00:00</td>\n",
       "      <td>3</td>\n",
       "      <td>NaN</td>\n",
       "      <td>14.000</td>\n",
       "      <td>NaN</td>\n",
       "      <td>9</td>\n",
       "      <td>NaN</td>\n",
       "      <td>...</td>\n",
       "      <td>NaN</td>\n",
       "      <td>0.000</td>\n",
       "      <td>Санкт-Петербург</td>\n",
       "      <td>28098.000</td>\n",
       "      <td>6800.000</td>\n",
       "      <td>2.000</td>\n",
       "      <td>84.000</td>\n",
       "      <td>3.000</td>\n",
       "      <td>234.000</td>\n",
       "      <td>424.000</td>\n",
       "    </tr>\n",
       "    <tr>\n",
       "      <th>4</th>\n",
       "      <td>2</td>\n",
       "      <td>10000000.000</td>\n",
       "      <td>100.000</td>\n",
       "      <td>2018-06-19T00:00:00</td>\n",
       "      <td>2</td>\n",
       "      <td>3.030</td>\n",
       "      <td>14.000</td>\n",
       "      <td>32.000</td>\n",
       "      <td>13</td>\n",
       "      <td>NaN</td>\n",
       "      <td>...</td>\n",
       "      <td>41.000</td>\n",
       "      <td>NaN</td>\n",
       "      <td>Санкт-Петербург</td>\n",
       "      <td>31856.000</td>\n",
       "      <td>8098.000</td>\n",
       "      <td>2.000</td>\n",
       "      <td>112.000</td>\n",
       "      <td>1.000</td>\n",
       "      <td>48.000</td>\n",
       "      <td>121.000</td>\n",
       "    </tr>\n",
       "    <tr>\n",
       "      <th>5</th>\n",
       "      <td>10</td>\n",
       "      <td>2890000.000</td>\n",
       "      <td>30.400</td>\n",
       "      <td>2018-09-10T00:00:00</td>\n",
       "      <td>1</td>\n",
       "      <td>NaN</td>\n",
       "      <td>12.000</td>\n",
       "      <td>14.400</td>\n",
       "      <td>5</td>\n",
       "      <td>NaN</td>\n",
       "      <td>...</td>\n",
       "      <td>9.100</td>\n",
       "      <td>NaN</td>\n",
       "      <td>городской посёлок Янино-1</td>\n",
       "      <td>NaN</td>\n",
       "      <td>NaN</td>\n",
       "      <td>NaN</td>\n",
       "      <td>NaN</td>\n",
       "      <td>NaN</td>\n",
       "      <td>NaN</td>\n",
       "      <td>55.000</td>\n",
       "    </tr>\n",
       "    <tr>\n",
       "      <th>6</th>\n",
       "      <td>6</td>\n",
       "      <td>3700000.000</td>\n",
       "      <td>37.300</td>\n",
       "      <td>2017-11-02T00:00:00</td>\n",
       "      <td>1</td>\n",
       "      <td>NaN</td>\n",
       "      <td>26.000</td>\n",
       "      <td>10.600</td>\n",
       "      <td>6</td>\n",
       "      <td>NaN</td>\n",
       "      <td>...</td>\n",
       "      <td>14.400</td>\n",
       "      <td>1.000</td>\n",
       "      <td>посёлок Парголово</td>\n",
       "      <td>52996.000</td>\n",
       "      <td>19143.000</td>\n",
       "      <td>0.000</td>\n",
       "      <td>NaN</td>\n",
       "      <td>0.000</td>\n",
       "      <td>NaN</td>\n",
       "      <td>155.000</td>\n",
       "    </tr>\n",
       "    <tr>\n",
       "      <th>7</th>\n",
       "      <td>5</td>\n",
       "      <td>7915000.000</td>\n",
       "      <td>71.600</td>\n",
       "      <td>2019-04-18T00:00:00</td>\n",
       "      <td>2</td>\n",
       "      <td>NaN</td>\n",
       "      <td>24.000</td>\n",
       "      <td>NaN</td>\n",
       "      <td>22</td>\n",
       "      <td>NaN</td>\n",
       "      <td>...</td>\n",
       "      <td>18.900</td>\n",
       "      <td>2.000</td>\n",
       "      <td>Санкт-Петербург</td>\n",
       "      <td>23982.000</td>\n",
       "      <td>11634.000</td>\n",
       "      <td>0.000</td>\n",
       "      <td>NaN</td>\n",
       "      <td>0.000</td>\n",
       "      <td>NaN</td>\n",
       "      <td>NaN</td>\n",
       "    </tr>\n",
       "    <tr>\n",
       "      <th>8</th>\n",
       "      <td>20</td>\n",
       "      <td>2900000.000</td>\n",
       "      <td>33.160</td>\n",
       "      <td>2018-05-23T00:00:00</td>\n",
       "      <td>1</td>\n",
       "      <td>NaN</td>\n",
       "      <td>27.000</td>\n",
       "      <td>15.430</td>\n",
       "      <td>26</td>\n",
       "      <td>NaN</td>\n",
       "      <td>...</td>\n",
       "      <td>8.810</td>\n",
       "      <td>NaN</td>\n",
       "      <td>посёлок Мурино</td>\n",
       "      <td>NaN</td>\n",
       "      <td>NaN</td>\n",
       "      <td>NaN</td>\n",
       "      <td>NaN</td>\n",
       "      <td>NaN</td>\n",
       "      <td>NaN</td>\n",
       "      <td>189.000</td>\n",
       "    </tr>\n",
       "    <tr>\n",
       "      <th>9</th>\n",
       "      <td>18</td>\n",
       "      <td>5400000.000</td>\n",
       "      <td>61.000</td>\n",
       "      <td>2017-02-26T00:00:00</td>\n",
       "      <td>3</td>\n",
       "      <td>2.500</td>\n",
       "      <td>9.000</td>\n",
       "      <td>43.600</td>\n",
       "      <td>7</td>\n",
       "      <td>NaN</td>\n",
       "      <td>...</td>\n",
       "      <td>6.500</td>\n",
       "      <td>2.000</td>\n",
       "      <td>Санкт-Петербург</td>\n",
       "      <td>50898.000</td>\n",
       "      <td>15008.000</td>\n",
       "      <td>0.000</td>\n",
       "      <td>NaN</td>\n",
       "      <td>0.000</td>\n",
       "      <td>NaN</td>\n",
       "      <td>289.000</td>\n",
       "    </tr>\n",
       "  </tbody>\n",
       "</table>\n",
       "<p>10 rows × 22 columns</p>\n",
       "</div>"
      ],
      "text/plain": [
       "   total_images   last_price  total_area first_day_exposition  rooms  \\\n",
       "0            20 13000000.000     108.000  2019-03-07T00:00:00      3   \n",
       "1             7  3350000.000      40.400  2018-12-04T00:00:00      1   \n",
       "2            10  5196000.000      56.000  2015-08-20T00:00:00      2   \n",
       "3             0 64900000.000     159.000  2015-07-24T00:00:00      3   \n",
       "4             2 10000000.000     100.000  2018-06-19T00:00:00      2   \n",
       "5            10  2890000.000      30.400  2018-09-10T00:00:00      1   \n",
       "6             6  3700000.000      37.300  2017-11-02T00:00:00      1   \n",
       "7             5  7915000.000      71.600  2019-04-18T00:00:00      2   \n",
       "8            20  2900000.000      33.160  2018-05-23T00:00:00      1   \n",
       "9            18  5400000.000      61.000  2017-02-26T00:00:00      3   \n",
       "\n",
       "   ceiling_height  floors_total  living_area  floor is_apartment  ...  \\\n",
       "0           2.700        16.000       51.000      8          NaN  ...   \n",
       "1             NaN        11.000       18.600      1          NaN  ...   \n",
       "2             NaN         5.000       34.300      4          NaN  ...   \n",
       "3             NaN        14.000          NaN      9          NaN  ...   \n",
       "4           3.030        14.000       32.000     13          NaN  ...   \n",
       "5             NaN        12.000       14.400      5          NaN  ...   \n",
       "6             NaN        26.000       10.600      6          NaN  ...   \n",
       "7             NaN        24.000          NaN     22          NaN  ...   \n",
       "8             NaN        27.000       15.430     26          NaN  ...   \n",
       "9           2.500         9.000       43.600      7          NaN  ...   \n",
       "\n",
       "   kitchen_area  balcony              locality_name  airports_nearest  \\\n",
       "0        25.000      NaN            Санкт-Петербург         18863.000   \n",
       "1        11.000    2.000             посёлок Шушары         12817.000   \n",
       "2         8.300    0.000            Санкт-Петербург         21741.000   \n",
       "3           NaN    0.000            Санкт-Петербург         28098.000   \n",
       "4        41.000      NaN            Санкт-Петербург         31856.000   \n",
       "5         9.100      NaN  городской посёлок Янино-1               NaN   \n",
       "6        14.400    1.000          посёлок Парголово         52996.000   \n",
       "7        18.900    2.000            Санкт-Петербург         23982.000   \n",
       "8         8.810      NaN             посёлок Мурино               NaN   \n",
       "9         6.500    2.000            Санкт-Петербург         50898.000   \n",
       "\n",
       "  cityCenters_nearest  parks_around3000  parks_nearest  ponds_around3000  \\\n",
       "0           16028.000             1.000        482.000             2.000   \n",
       "1           18603.000             0.000            NaN             0.000   \n",
       "2           13933.000             1.000         90.000             2.000   \n",
       "3            6800.000             2.000         84.000             3.000   \n",
       "4            8098.000             2.000        112.000             1.000   \n",
       "5                 NaN               NaN            NaN               NaN   \n",
       "6           19143.000             0.000            NaN             0.000   \n",
       "7           11634.000             0.000            NaN             0.000   \n",
       "8                 NaN               NaN            NaN               NaN   \n",
       "9           15008.000             0.000            NaN             0.000   \n",
       "\n",
       "   ponds_nearest  days_exposition  \n",
       "0        755.000              NaN  \n",
       "1            NaN           81.000  \n",
       "2        574.000          558.000  \n",
       "3        234.000          424.000  \n",
       "4         48.000          121.000  \n",
       "5            NaN           55.000  \n",
       "6            NaN          155.000  \n",
       "7            NaN              NaN  \n",
       "8            NaN          189.000  \n",
       "9            NaN          289.000  \n",
       "\n",
       "[10 rows x 22 columns]"
      ]
     },
     "execution_count": 3,
     "metadata": {},
     "output_type": "execute_result"
    }
   ],
   "source": [
    "#обзор первых 10 строк данных\n",
    "df.head(10)"
   ]
  },
  {
   "cell_type": "code",
   "execution_count": 4,
   "metadata": {},
   "outputs": [
    {
     "name": "stdout",
     "output_type": "stream",
     "text": [
      "<class 'pandas.core.frame.DataFrame'>\n",
      "RangeIndex: 23699 entries, 0 to 23698\n",
      "Data columns (total 22 columns):\n",
      " #   Column                Non-Null Count  Dtype  \n",
      "---  ------                --------------  -----  \n",
      " 0   total_images          23699 non-null  int64  \n",
      " 1   last_price            23699 non-null  float64\n",
      " 2   total_area            23699 non-null  float64\n",
      " 3   first_day_exposition  23699 non-null  object \n",
      " 4   rooms                 23699 non-null  int64  \n",
      " 5   ceiling_height        14504 non-null  float64\n",
      " 6   floors_total          23613 non-null  float64\n",
      " 7   living_area           21796 non-null  float64\n",
      " 8   floor                 23699 non-null  int64  \n",
      " 9   is_apartment          2775 non-null   object \n",
      " 10  studio                23699 non-null  bool   \n",
      " 11  open_plan             23699 non-null  bool   \n",
      " 12  kitchen_area          21421 non-null  float64\n",
      " 13  balcony               12180 non-null  float64\n",
      " 14  locality_name         23650 non-null  object \n",
      " 15  airports_nearest      18157 non-null  float64\n",
      " 16  cityCenters_nearest   18180 non-null  float64\n",
      " 17  parks_around3000      18181 non-null  float64\n",
      " 18  parks_nearest         8079 non-null   float64\n",
      " 19  ponds_around3000      18181 non-null  float64\n",
      " 20  ponds_nearest         9110 non-null   float64\n",
      " 21  days_exposition       20518 non-null  float64\n",
      "dtypes: bool(2), float64(14), int64(3), object(3)\n",
      "memory usage: 3.7+ MB\n"
     ]
    }
   ],
   "source": [
    "#обзор данных\n",
    "df.info()"
   ]
  },
  {
   "cell_type": "code",
   "execution_count": 5,
   "metadata": {},
   "outputs": [
    {
     "data": {
      "text/plain": [
       "array([[<AxesSubplot:title={'center':'total_images'}>,\n",
       "        <AxesSubplot:title={'center':'last_price'}>,\n",
       "        <AxesSubplot:title={'center':'total_area'}>,\n",
       "        <AxesSubplot:title={'center':'rooms'}>],\n",
       "       [<AxesSubplot:title={'center':'ceiling_height'}>,\n",
       "        <AxesSubplot:title={'center':'floors_total'}>,\n",
       "        <AxesSubplot:title={'center':'living_area'}>,\n",
       "        <AxesSubplot:title={'center':'floor'}>],\n",
       "       [<AxesSubplot:title={'center':'kitchen_area'}>,\n",
       "        <AxesSubplot:title={'center':'balcony'}>,\n",
       "        <AxesSubplot:title={'center':'airports_nearest'}>,\n",
       "        <AxesSubplot:title={'center':'cityCenters_nearest'}>],\n",
       "       [<AxesSubplot:title={'center':'parks_around3000'}>,\n",
       "        <AxesSubplot:title={'center':'parks_nearest'}>,\n",
       "        <AxesSubplot:title={'center':'ponds_around3000'}>,\n",
       "        <AxesSubplot:title={'center':'ponds_nearest'}>],\n",
       "       [<AxesSubplot:title={'center':'days_exposition'}>, <AxesSubplot:>,\n",
       "        <AxesSubplot:>, <AxesSubplot:>]], dtype=object)"
      ]
     },
     "execution_count": 5,
     "metadata": {},
     "output_type": "execute_result"
    },
    {
     "data": {
      "image/png": "[encoded data removed]",
      "text/plain": [
       "<Figure size 1080x1440 with 20 Axes>"
      ]
     },
     "metadata": {
      "needs_background": "light"
     },
     "output_type": "display_data"
    }
   ],
   "source": [
    "#построение гистограмм столбцов\n",
    "df.hist(figsize=(15, 20))"
   ]
  },
  {
   "cell_type": "markdown",
   "metadata": {},
   "source": [
    "**Выводы:**\n",
    "\n",
    "Стоимость объектов не превышает 100 млн. руб.\n",
    "\n",
    "Площадь объектов в большинстве случаев не превышает 400 м2.\n",
    "\n",
    "Встречаются жилые помещения от 1 и не более 10 жилых комнат.\n",
    "\n",
    "Значение высоты потолков большинства объектов имеет адекватное значение. Необходимо проверить выбросы.\n",
    "\n",
    "Большинство объектов имеет жилую площадь ниже 400 м2.\n",
    "\n",
    "Преобладают объекты с небольшим количеством этажей.\n",
    "\n",
    "Площадь кухни большинства объектов менее 75 м2.\n",
    "\n",
    "Присутствуют объекты не более чем с 5 балконами.\n",
    "\n",
    "Объекты расположены на удалении максимум 80 км от аэропорта.\n",
    "\n",
    "Объекты расположены на удалении максимум 60 км от центра города.\n",
    "\n",
    "Представлена информация о наличии парков и прудов рядом с объектом недвижимости.\n",
    "\n",
    "Существуют объекты, которые продаются в течение нескольких дней, а также те, которые не продаются более 1000 дней."
   ]
  },
  {
   "cell_type": "markdown",
   "metadata": {
    "id": "-O5NtivEAwb9"
   },
   "source": [
    "### Выполните предобработку данных"
   ]
  },
  {
   "cell_type": "code",
   "execution_count": 6,
   "metadata": {
    "id": "7v3vAeTuAwb-"
   },
   "outputs": [
    {
     "data": {
      "text/html": [
       "<div>\n",
       "<style scoped>\n",
       "    .dataframe tbody tr th:only-of-type {\n",
       "        vertical-align: middle;\n",
       "    }\n",
       "\n",
       "    .dataframe tbody tr th {\n",
       "        vertical-align: top;\n",
       "    }\n",
       "\n",
       "    .dataframe thead th {\n",
       "        text-align: right;\n",
       "    }\n",
       "</style>\n",
       "<table border=\"1\" class=\"dataframe\">\n",
       "  <thead>\n",
       "    <tr style=\"text-align: right;\">\n",
       "      <th></th>\n",
       "      <th>sum</th>\n",
       "      <th>part</th>\n",
       "    </tr>\n",
       "  </thead>\n",
       "  <tbody>\n",
       "    <tr>\n",
       "      <th>is_apartment</th>\n",
       "      <td>20924</td>\n",
       "      <td>88.291</td>\n",
       "    </tr>\n",
       "    <tr>\n",
       "      <th>parks_nearest</th>\n",
       "      <td>15620</td>\n",
       "      <td>65.910</td>\n",
       "    </tr>\n",
       "    <tr>\n",
       "      <th>ponds_nearest</th>\n",
       "      <td>14589</td>\n",
       "      <td>61.560</td>\n",
       "    </tr>\n",
       "    <tr>\n",
       "      <th>balcony</th>\n",
       "      <td>11519</td>\n",
       "      <td>48.605</td>\n",
       "    </tr>\n",
       "    <tr>\n",
       "      <th>ceiling_height</th>\n",
       "      <td>9195</td>\n",
       "      <td>38.799</td>\n",
       "    </tr>\n",
       "    <tr>\n",
       "      <th>airports_nearest</th>\n",
       "      <td>5542</td>\n",
       "      <td>23.385</td>\n",
       "    </tr>\n",
       "    <tr>\n",
       "      <th>cityCenters_nearest</th>\n",
       "      <td>5519</td>\n",
       "      <td>23.288</td>\n",
       "    </tr>\n",
       "    <tr>\n",
       "      <th>ponds_around3000</th>\n",
       "      <td>5518</td>\n",
       "      <td>23.284</td>\n",
       "    </tr>\n",
       "    <tr>\n",
       "      <th>parks_around3000</th>\n",
       "      <td>5518</td>\n",
       "      <td>23.284</td>\n",
       "    </tr>\n",
       "    <tr>\n",
       "      <th>days_exposition</th>\n",
       "      <td>3181</td>\n",
       "      <td>13.423</td>\n",
       "    </tr>\n",
       "    <tr>\n",
       "      <th>kitchen_area</th>\n",
       "      <td>2278</td>\n",
       "      <td>9.612</td>\n",
       "    </tr>\n",
       "    <tr>\n",
       "      <th>living_area</th>\n",
       "      <td>1903</td>\n",
       "      <td>8.030</td>\n",
       "    </tr>\n",
       "    <tr>\n",
       "      <th>floors_total</th>\n",
       "      <td>86</td>\n",
       "      <td>0.363</td>\n",
       "    </tr>\n",
       "    <tr>\n",
       "      <th>locality_name</th>\n",
       "      <td>49</td>\n",
       "      <td>0.207</td>\n",
       "    </tr>\n",
       "    <tr>\n",
       "      <th>total_images</th>\n",
       "      <td>0</td>\n",
       "      <td>0.000</td>\n",
       "    </tr>\n",
       "    <tr>\n",
       "      <th>last_price</th>\n",
       "      <td>0</td>\n",
       "      <td>0.000</td>\n",
       "    </tr>\n",
       "    <tr>\n",
       "      <th>studio</th>\n",
       "      <td>0</td>\n",
       "      <td>0.000</td>\n",
       "    </tr>\n",
       "    <tr>\n",
       "      <th>floor</th>\n",
       "      <td>0</td>\n",
       "      <td>0.000</td>\n",
       "    </tr>\n",
       "    <tr>\n",
       "      <th>rooms</th>\n",
       "      <td>0</td>\n",
       "      <td>0.000</td>\n",
       "    </tr>\n",
       "    <tr>\n",
       "      <th>first_day_exposition</th>\n",
       "      <td>0</td>\n",
       "      <td>0.000</td>\n",
       "    </tr>\n",
       "    <tr>\n",
       "      <th>total_area</th>\n",
       "      <td>0</td>\n",
       "      <td>0.000</td>\n",
       "    </tr>\n",
       "    <tr>\n",
       "      <th>open_plan</th>\n",
       "      <td>0</td>\n",
       "      <td>0.000</td>\n",
       "    </tr>\n",
       "  </tbody>\n",
       "</table>\n",
       "</div>"
      ],
      "text/plain": [
       "                        sum   part\n",
       "is_apartment          20924 88.291\n",
       "parks_nearest         15620 65.910\n",
       "ponds_nearest         14589 61.560\n",
       "balcony               11519 48.605\n",
       "ceiling_height         9195 38.799\n",
       "airports_nearest       5542 23.385\n",
       "cityCenters_nearest    5519 23.288\n",
       "ponds_around3000       5518 23.284\n",
       "parks_around3000       5518 23.284\n",
       "days_exposition        3181 13.423\n",
       "kitchen_area           2278  9.612\n",
       "living_area            1903  8.030\n",
       "floors_total             86  0.363\n",
       "locality_name            49  0.207\n",
       "total_images              0  0.000\n",
       "last_price                0  0.000\n",
       "studio                    0  0.000\n",
       "floor                     0  0.000\n",
       "rooms                     0  0.000\n",
       "first_day_exposition      0  0.000\n",
       "total_area                0  0.000\n",
       "open_plan                 0  0.000"
      ]
     },
     "metadata": {},
     "output_type": "display_data"
    }
   ],
   "source": [
    "#определение количества пустых строк по столбцам\n",
    "na = pd.DataFrame()\n",
    "na['sum'] = df.isna().sum().sort_values(ascending=False)\n",
    "na['part'] = df.isna().mean().sort_values(ascending=False)*100\n",
    "display(na)"
   ]
  },
  {
   "cell_type": "markdown",
   "metadata": {},
   "source": [
    "Возможные причины пропусков в данных:\n",
    "\n",
    "\n",
    "**ceiling_height - 9195** - возможна техническая ошибка (потеря данных), либо человеческая (человек посчитал заполнения этих данных необязательным по какой-то причине). Так как значения этого столбца являются количественными переменными, было принято решение заполнить пропуск медианным значением.\n",
    "\n",
    "\n",
    "**floors_total - 86** - возможно в доме всего 1 этаж, и по вине человека данное поле было не заполнено, данный столбец связан по смыслу со столбцом \"floor\" в котором нет пропусков, поэтому было принято решение заполнить пропуски данными из этого столбца.\n",
    "\n",
    "\n",
    "**living_area - 1903** - причиной потери данных в этом столбце может быть техническая ошибка, жилое помещение не может быть без жилой площади, это является одной из важнейших характеристик при продаже.\n",
    "\n",
    "**is_apartment - 20924** - причиной потери данных может быть человеческая ошибка, в связи с отсутствием информации об объекте. Так как понятие \"апартаменты\" появилось сравнительно недавно, было принято решение заполнить пропуски значением False.\n",
    "\n",
    "\n",
    "**kitchen_area - 2278** - причиной потери данных в этом столбце может быть техническая или человеческая ошибка (данные потеряны, или человек не заполнил информацию).\n",
    "\n",
    "\n",
    "**balcony - 11519** - причиной потери данных в этом столбце может быть техническая ошибка, поэтому принято решение заполнить пропуски нулевым значением.\n",
    "\n",
    "\n",
    "**locality_name - 49** - причиной потери данных в этом столбце может быть человеческая ошибка, без обогащения данных, пропуски восполнить не получится.\n",
    "\n",
    "\n",
    "**airports_nearest - 5542**, **cityCenters_nearest - 5519**, **parks_nearest - 15620**, **ponds_nearest - 14589** - причиной потери данных в этих столбце может быть как техническая, так и человеческая ошибка, без обогащения данных, пропуски восполнить не получится.\n",
    "\n",
    "**parks_around3000 - 5518**, **ponds_around3000 - 5518** - причиной потери данных в этом столбце может быть техническая ошибка, принято рещение присвоить значение 0.\n",
    "\n",
    "\n",
    "**days_exposition - 3181** - причиной потери данных в этом столбце может быть техническая ошибка, а также путем не заполнения данного параметра могли указать на то, что квартира до сих пор не продана."
   ]
  },
  {
   "cell_type": "code",
   "execution_count": 7,
   "metadata": {},
   "outputs": [
    {
     "data": {
      "text/plain": [
       "0"
      ]
     },
     "execution_count": 7,
     "metadata": {},
     "output_type": "execute_result"
    }
   ],
   "source": [
    "#заполним пустые строки в столбце \"ceiling_height\" медианным значением\n",
    "df['ceiling_height'] = df['ceiling_height'].fillna(df['ceiling_height'].median())\n",
    "df['ceiling_height'].isna().sum()"
   ]
  },
  {
   "cell_type": "code",
   "execution_count": 8,
   "metadata": {},
   "outputs": [
    {
     "data": {
      "text/plain": [
       "0"
      ]
     },
     "execution_count": 8,
     "metadata": {},
     "output_type": "execute_result"
    }
   ],
   "source": [
    "#заполним пустые строки в столбце \"floors_total\" значениями \"floor\"\n",
    "df['floors_total'] = df['floors_total'].fillna(df['floor'])\n",
    "df['floors_total'].isna().sum()"
   ]
  },
  {
   "cell_type": "code",
   "execution_count": 9,
   "metadata": {},
   "outputs": [
    {
     "data": {
      "text/plain": [
       "0"
      ]
     },
     "execution_count": 9,
     "metadata": {},
     "output_type": "execute_result"
    }
   ],
   "source": [
    "#заполним пустые строки в столбце \"is_apartment\" значением False\n",
    "df['is_apartment'] = df['is_apartment'].fillna(False)\n",
    "df['is_apartment'].isna().sum()"
   ]
  },
  {
   "cell_type": "code",
   "execution_count": 10,
   "metadata": {},
   "outputs": [
    {
     "data": {
      "text/plain": [
       "0"
      ]
     },
     "execution_count": 10,
     "metadata": {},
     "output_type": "execute_result"
    }
   ],
   "source": [
    "#заполним пустые строки в столбце \"balcony\" значением 0\n",
    "df['balcony'] = df['balcony'].fillna(0)\n",
    "df['balcony'].isna().sum()"
   ]
  },
  {
   "cell_type": "code",
   "execution_count": 11,
   "metadata": {},
   "outputs": [
    {
     "data": {
      "text/plain": [
       "0"
      ]
     },
     "execution_count": 11,
     "metadata": {},
     "output_type": "execute_result"
    }
   ],
   "source": [
    "#заполним пустые строки в столбце \"parks_around3000\" значением 0\n",
    "df['parks_around3000'] = df['parks_around3000'].fillna(0)\n",
    "df['parks_around3000'].isna().sum()"
   ]
  },
  {
   "cell_type": "code",
   "execution_count": 12,
   "metadata": {},
   "outputs": [
    {
     "data": {
      "text/plain": [
       "0"
      ]
     },
     "execution_count": 12,
     "metadata": {},
     "output_type": "execute_result"
    }
   ],
   "source": [
    "#заполним пустые строки в столбце \"parks_around3000\" значением 0\n",
    "df['ponds_around3000'] = df['ponds_around3000'].fillna(0)\n",
    "df['ponds_around3000'].isna().sum()"
   ]
  },
  {
   "cell_type": "code",
   "execution_count": 13,
   "metadata": {},
   "outputs": [
    {
     "data": {
      "text/plain": [
       "total_images                0\n",
       "last_price                  0\n",
       "total_area                  0\n",
       "first_day_exposition        0\n",
       "rooms                       0\n",
       "ceiling_height              0\n",
       "floors_total                0\n",
       "living_area              1903\n",
       "floor                       0\n",
       "is_apartment                0\n",
       "studio                      0\n",
       "open_plan                   0\n",
       "kitchen_area             2278\n",
       "balcony                     0\n",
       "locality_name              49\n",
       "airports_nearest         5542\n",
       "cityCenters_nearest      5519\n",
       "parks_around3000            0\n",
       "parks_nearest           15620\n",
       "ponds_around3000            0\n",
       "ponds_nearest           14589\n",
       "days_exposition          3181\n",
       "dtype: int64"
      ]
     },
     "execution_count": 13,
     "metadata": {},
     "output_type": "execute_result"
    }
   ],
   "source": [
    "#общая проверка наличия пропусков после проведенных операций\n",
    "df.isna().sum()"
   ]
  },
  {
   "cell_type": "code",
   "execution_count": 14,
   "metadata": {},
   "outputs": [
    {
     "data": {
      "text/plain": [
       "23650"
      ]
     },
     "execution_count": 14,
     "metadata": {},
     "output_type": "execute_result"
    }
   ],
   "source": [
    "#удаление пропусков в столбце с названиями населенных пунктов\n",
    "df = df.dropna(subset=['locality_name'])\n",
    "len(df)"
   ]
  },
  {
   "cell_type": "markdown",
   "metadata": {},
   "source": [
    "**Изменим тип данных в столбцах следующим образом:**\n",
    "\n",
    "\n",
    " **3**   first_day_exposition - object  -> datetime64 -  в столбце хранятся данные о дате\n",
    " \n",
    " \n",
    " **9**   is_apartment         - object  -> bool - в столбце хранятся данные о том, является ли недвижимость апартаментами или нет, возможных значения только 2\n",
    " \n",
    " \n",
    " **13**  balcony              - float64 -> int64 - в столбце хранятся данные количестве балконов, подходит целочисленный тип\n",
    " \n",
    " \n",
    " **17**  parks_around3000     - float64 -> int64 - в столбце хранятся данные количестве парков, подходит целочисленный тип, но есть пропущенные значения, будет ошибка преобразования. Преобразуем в тип Int64\n",
    " \n",
    " \n",
    " **19**  ponds_around3000     - float64 -> int64 - в столбце хранятся данные количестве водоемов, подходит целочисленный тип, но есть пропущенные значения, будет ошибка преобразования. Преобразуем в тип Int64\n",
    " \n",
    " \n",
    " **21**  days_exposition      - float64 -> int64 - в столбце хранятся данные количестве дней, подходит целочисленный тип\n",
    " "
   ]
  },
  {
   "cell_type": "code",
   "execution_count": 15,
   "metadata": {},
   "outputs": [],
   "source": [
    "#преобразование типа данных в столбце 'first_day_exposition'\n",
    "try:\n",
    "    df['first_day_exposition'] = pd.to_datetime(df['first_day_exposition'], format='%Y-%m-%dT%H:%M:%S')\n",
    "except:\n",
    "    print(\"Ошибка преобразования типа\")"
   ]
  },
  {
   "cell_type": "code",
   "execution_count": 16,
   "metadata": {},
   "outputs": [],
   "source": [
    "#преобразование типа данных в столбце 'is_apartment'\n",
    "try:\n",
    "    df['is_apartment'] = df['is_apartment'].astype('bool')\n",
    "except:\n",
    "    print(\"Ошибка преобразования типа\")"
   ]
  },
  {
   "cell_type": "code",
   "execution_count": 17,
   "metadata": {},
   "outputs": [],
   "source": [
    "#преобразование типа данных в столбце 'balcony'\n",
    "try:\n",
    "    df['balcony'] = df['balcony'].astype('int64')\n",
    "except:\n",
    "    print(\"Ошибка преобразования типа\")"
   ]
  },
  {
   "cell_type": "code",
   "execution_count": 18,
   "metadata": {},
   "outputs": [],
   "source": [
    "#преобразование типа данных в столбце 'parks_around3000'\n",
    "try:\n",
    "    df['parks_around3000'] = df['parks_around3000'].astype('Int64')\n",
    "except:\n",
    "    print(\"Ошибка преобразования типа\")"
   ]
  },
  {
   "cell_type": "code",
   "execution_count": 19,
   "metadata": {},
   "outputs": [],
   "source": [
    "#преобразование типа данных в столбце 'ponds_around3000'\n",
    "try:\n",
    "    df['ponds_around3000'] = df['ponds_around3000'].astype('Int64')\n",
    "except:\n",
    "    print(\"Ошибка преобразования типа\")"
   ]
  },
  {
   "cell_type": "code",
   "execution_count": 20,
   "metadata": {},
   "outputs": [],
   "source": [
    "#преобразование типа данных в столбце 'days_exposition'\n",
    "try:\n",
    "    df['days_exposition'] = df['days_exposition'].astype('int64', errors=\"ignore\")\n",
    "except:\n",
    "    print(\"Ошибка преобразования типа\")"
   ]
  },
  {
   "cell_type": "code",
   "execution_count": 21,
   "metadata": {},
   "outputs": [
    {
     "name": "stdout",
     "output_type": "stream",
     "text": [
      "<class 'pandas.core.frame.DataFrame'>\n",
      "Int64Index: 23650 entries, 0 to 23698\n",
      "Data columns (total 22 columns):\n",
      " #   Column                Non-Null Count  Dtype         \n",
      "---  ------                --------------  -----         \n",
      " 0   total_images          23650 non-null  int64         \n",
      " 1   last_price            23650 non-null  float64       \n",
      " 2   total_area            23650 non-null  float64       \n",
      " 3   first_day_exposition  23650 non-null  datetime64[ns]\n",
      " 4   rooms                 23650 non-null  int64         \n",
      " 5   ceiling_height        23650 non-null  float64       \n",
      " 6   floors_total          23650 non-null  float64       \n",
      " 7   living_area           21752 non-null  float64       \n",
      " 8   floor                 23650 non-null  int64         \n",
      " 9   is_apartment          23650 non-null  bool          \n",
      " 10  studio                23650 non-null  bool          \n",
      " 11  open_plan             23650 non-null  bool          \n",
      " 12  kitchen_area          21381 non-null  float64       \n",
      " 13  balcony               23650 non-null  int64         \n",
      " 14  locality_name         23650 non-null  object        \n",
      " 15  airports_nearest      18116 non-null  float64       \n",
      " 16  cityCenters_nearest   18139 non-null  float64       \n",
      " 17  parks_around3000      23650 non-null  Int64         \n",
      " 18  parks_nearest         8064 non-null   float64       \n",
      " 19  ponds_around3000      23650 non-null  Int64         \n",
      " 20  ponds_nearest         9085 non-null   float64       \n",
      " 21  days_exposition       20470 non-null  float64       \n",
      "dtypes: Int64(2), bool(3), datetime64[ns](1), float64(11), int64(4), object(1)\n",
      "memory usage: 3.7+ MB\n"
     ]
    }
   ],
   "source": [
    "#общая проверка внесенных изменений\n",
    "df.info()"
   ]
  },
  {
   "cell_type": "markdown",
   "metadata": {},
   "source": [
    "**Изучение уникальных значений столбца с названиями населенных пунктов**"
   ]
  },
  {
   "cell_type": "code",
   "execution_count": 22,
   "metadata": {},
   "outputs": [
    {
     "data": {
      "text/plain": [
       "array(['Санкт-Петербург', 'посёлок Шушары', 'городской посёлок Янино-1',\n",
       "       'посёлок Парголово', 'посёлок Мурино', 'Ломоносов', 'Сертолово',\n",
       "       'Петергоф', 'Пушкин', 'деревня Кудрово', 'Коммунар', 'Колпино',\n",
       "       'поселок городского типа Красный Бор', 'Гатчина', 'поселок Мурино',\n",
       "       'деревня Фёдоровское', 'Выборг', 'Кронштадт', 'Кировск',\n",
       "       'деревня Новое Девяткино', 'посёлок Металлострой',\n",
       "       'посёлок городского типа Лебяжье',\n",
       "       'посёлок городского типа Сиверский', 'поселок Молодцово',\n",
       "       'поселок городского типа Кузьмоловский',\n",
       "       'садовое товарищество Новая Ропша', 'Павловск',\n",
       "       'деревня Пикколово', 'Всеволожск', 'Волхов', 'Кингисепп',\n",
       "       'Приозерск', 'Сестрорецк', 'деревня Куттузи', 'посёлок Аннино',\n",
       "       'поселок городского типа Ефимовский', 'посёлок Плодовое',\n",
       "       'деревня Заклинье', 'поселок Торковичи', 'поселок Первомайское',\n",
       "       'Красное Село', 'посёлок Понтонный', 'Сясьстрой', 'деревня Старая',\n",
       "       'деревня Лесколово', 'посёлок Новый Свет', 'Сланцы',\n",
       "       'село Путилово', 'Ивангород', 'Мурино', 'Шлиссельбург',\n",
       "       'Никольское', 'Зеленогорск', 'Сосновый Бор', 'поселок Новый Свет',\n",
       "       'деревня Оржицы', 'деревня Кальтино', 'Кудрово',\n",
       "       'поселок Романовка', 'посёлок Бугры', 'поселок Бугры',\n",
       "       'поселок городского типа Рощино', 'Кириши', 'Луга', 'Волосово',\n",
       "       'Отрадное', 'село Павлово', 'поселок Оредеж', 'село Копорье',\n",
       "       'посёлок городского типа Красный Бор', 'посёлок Молодёжное',\n",
       "       'Тихвин', 'посёлок Победа', 'деревня Нурма',\n",
       "       'поселок городского типа Синявино', 'Тосно',\n",
       "       'посёлок городского типа Кузьмоловский', 'посёлок Стрельна',\n",
       "       'Бокситогорск', 'посёлок Александровская', 'деревня Лопухинка',\n",
       "       'Пикалёво', 'поселок Терволово',\n",
       "       'поселок городского типа Советский', 'Подпорожье',\n",
       "       'посёлок Петровское', 'посёлок городского типа Токсово',\n",
       "       'поселок Сельцо', 'посёлок городского типа Вырица',\n",
       "       'деревня Кипень', 'деревня Келози', 'деревня Вартемяги',\n",
       "       'посёлок Тельмана', 'поселок Севастьяново',\n",
       "       'городской поселок Большая Ижора', 'городской посёлок Павлово',\n",
       "       'деревня Агалатово', 'посёлок Новогорелово',\n",
       "       'городской посёлок Лесогорский', 'деревня Лаголово',\n",
       "       'поселок Цвелодубово', 'поселок городского типа Рахья',\n",
       "       'поселок городского типа Вырица', 'деревня Белогорка',\n",
       "       'поселок Заводской', 'городской посёлок Новоселье',\n",
       "       'деревня Большие Колпаны', 'деревня Горбунки', 'деревня Батово',\n",
       "       'деревня Заневка', 'деревня Иссад', 'Приморск',\n",
       "       'городской посёлок Фёдоровское', 'деревня Мистолово',\n",
       "       'Новая Ладога', 'поселок Зимитицы', 'поселок Барышево',\n",
       "       'деревня Разметелево', 'поселок городского типа имени Свердлова',\n",
       "       'деревня Пеники', 'поселок Рябово', 'деревня Пудомяги',\n",
       "       'поселок станции Корнево', 'деревня Низино', 'деревня Бегуницы',\n",
       "       'посёлок Поляны', 'городской посёлок Мга', 'поселок Елизаветино',\n",
       "       'посёлок городского типа Кузнечное', 'деревня Колтуши',\n",
       "       'поселок Запорожское', 'посёлок городского типа Рощино',\n",
       "       'деревня Гостилицы', 'деревня Малое Карлино',\n",
       "       'посёлок Мичуринское', 'посёлок городского типа имени Морозова',\n",
       "       'посёлок Песочный', 'посёлок Сосново', 'деревня Аро',\n",
       "       'поселок Ильичёво', 'посёлок городского типа Тайцы',\n",
       "       'деревня Малое Верево', 'деревня Извара', 'поселок станции Вещево',\n",
       "       'село Паша', 'деревня Калитино',\n",
       "       'посёлок городского типа Ульяновка', 'деревня Чудской Бор',\n",
       "       'поселок городского типа Дубровка', 'деревня Мины',\n",
       "       'поселок Войсковицы', 'посёлок городского типа имени Свердлова',\n",
       "       'деревня Коркино', 'посёлок Ропша',\n",
       "       'поселок городского типа Приладожский', 'посёлок Щеглово',\n",
       "       'посёлок Гаврилово', 'Лодейное Поле', 'деревня Рабитицы',\n",
       "       'поселок городского типа Никольский', 'деревня Кузьмолово',\n",
       "       'деревня Малые Колпаны', 'поселок Тельмана',\n",
       "       'посёлок Петро-Славянка', 'городской посёлок Назия',\n",
       "       'посёлок Репино', 'посёлок Ильичёво', 'поселок Углово',\n",
       "       'поселок Старая Малукса', 'садовое товарищество Рахья',\n",
       "       'поселок Аннино', 'поселок Победа', 'деревня Меньково',\n",
       "       'деревня Старые Бегуницы', 'посёлок Сапёрный', 'поселок Семрино',\n",
       "       'поселок Гаврилово', 'поселок Глажево', 'поселок Кобринское',\n",
       "       'деревня Гарболово', 'деревня Юкки',\n",
       "       'поселок станции Приветнинское', 'деревня Мануйлово',\n",
       "       'деревня Пчева', 'поселок Поляны', 'поселок Цвылёво',\n",
       "       'поселок Мельниково', 'посёлок Пудость', 'посёлок Усть-Луга',\n",
       "       'Светогорск', 'Любань', 'поселок Селезнёво',\n",
       "       'поселок городского типа Рябово', 'Каменногорск', 'деревня Кривко',\n",
       "       'поселок Глебычево', 'деревня Парицы', 'поселок Жилпосёлок',\n",
       "       'посёлок городского типа Мга', 'городской поселок Янино-1',\n",
       "       'посёлок Войскорово', 'село Никольское', 'посёлок Терволово',\n",
       "       'поселок Стеклянный', 'посёлок городского типа Важины',\n",
       "       'посёлок Мыза-Ивановка', 'село Русско-Высоцкое',\n",
       "       'поселок городского типа Лебяжье',\n",
       "       'поселок городского типа Форносово', 'село Старая Ладога',\n",
       "       'поселок Житково', 'городской посёлок Виллози', 'деревня Лампово',\n",
       "       'деревня Шпаньково', 'деревня Лаврики', 'посёлок Сумино',\n",
       "       'посёлок Возрождение', 'деревня Старосиверская',\n",
       "       'посёлок Кикерино', 'поселок Возрождение',\n",
       "       'деревня Старое Хинколово', 'посёлок Пригородный',\n",
       "       'посёлок Торфяное', 'городской посёлок Будогощь',\n",
       "       'поселок Суходолье', 'поселок Красная Долина', 'деревня Хапо-Ое',\n",
       "       'поселок городского типа Дружная Горка', 'поселок Лисий Нос',\n",
       "       'деревня Яльгелево', 'посёлок Стеклянный', 'село Рождествено',\n",
       "       'деревня Старополье', 'посёлок Левашово', 'деревня Сяськелево',\n",
       "       'деревня Камышовка',\n",
       "       'садоводческое некоммерческое товарищество Лесная Поляна',\n",
       "       'деревня Хязельки', 'поселок Жилгородок',\n",
       "       'посёлок городского типа Павлово', 'деревня Ялгино',\n",
       "       'поселок Новый Учхоз', 'городской посёлок Рощино',\n",
       "       'поселок Гончарово', 'поселок Почап', 'посёлок Сапёрное',\n",
       "       'посёлок Платформа 69-й километр', 'поселок Каложицы',\n",
       "       'деревня Фалилеево', 'деревня Пельгора',\n",
       "       'поселок городского типа Лесогорский', 'деревня Торошковичи',\n",
       "       'посёлок Белоостров', 'посёлок Алексеевка', 'поселок Серебрянский',\n",
       "       'поселок Лукаши', 'поселок Петровское', 'деревня Щеглово',\n",
       "       'поселок Мичуринское', 'деревня Тарасово', 'поселок Кингисеппский',\n",
       "       'посёлок при железнодорожной станции Вещево', 'поселок Ушаки',\n",
       "       'деревня Котлы', 'деревня Сижно', 'деревня Торосово',\n",
       "       'посёлок Форт Красная Горка', 'поселок городского типа Токсово',\n",
       "       'деревня Новолисино', 'посёлок станции Громово', 'деревня Глинка',\n",
       "       'посёлок Мельниково', 'поселок городского типа Назия',\n",
       "       'деревня Старая Пустошь', 'поселок Коммунары', 'поселок Починок',\n",
       "       'посёлок городского типа Вознесенье', 'деревня Разбегаево',\n",
       "       'посёлок городского типа Рябово', 'поселок Гладкое',\n",
       "       'посёлок при железнодорожной станции Приветнинское',\n",
       "       'поселок Тёсово-4', 'посёлок Жилгородок', 'деревня Бор',\n",
       "       'посёлок Коробицыно', 'деревня Большая Вруда', 'деревня Курковицы',\n",
       "       'посёлок Лисий Нос', 'городской посёлок Советский',\n",
       "       'посёлок Кобралово', 'деревня Суоранда', 'поселок Кобралово',\n",
       "       'поселок городского типа Кондратьево',\n",
       "       'коттеджный поселок Счастье', 'поселок Любань', 'деревня Реброво',\n",
       "       'деревня Зимитицы', 'деревня Тойворово', 'поселок Семиозерье',\n",
       "       'поселок Лесное', 'поселок Совхозный', 'поселок Усть-Луга',\n",
       "       'посёлок Ленинское', 'посёлок Суйда',\n",
       "       'посёлок городского типа Форносово', 'деревня Нижние Осельки',\n",
       "       'посёлок станции Свирь', 'поселок Перово', 'Высоцк',\n",
       "       'поселок Гарболово', 'село Шум', 'поселок Котельский',\n",
       "       'поселок станции Лужайка', 'деревня Большая Пустомержа',\n",
       "       'поселок Красносельское', 'деревня Вахнова Кара', 'деревня Пижма',\n",
       "       'коттеджный поселок Кивеннапа Север', 'поселок Коробицыно',\n",
       "       'поселок Ромашки', 'посёлок Перово', 'деревня Каськово',\n",
       "       'деревня Куровицы', 'посёлок Плоское', 'поселок Сумино',\n",
       "       'поселок городского типа Большая Ижора', 'поселок Кирпичное',\n",
       "       'деревня Ям-Тесово', 'деревня Раздолье', 'деревня Терпилицы',\n",
       "       'посёлок Шугозеро', 'деревня Ваганово', 'поселок Пушное',\n",
       "       'садовое товарищество Садко', 'посёлок Усть-Ижора',\n",
       "       'деревня Выскатка', 'городской посёлок Свирьстрой',\n",
       "       'поселок Громово', 'деревня Кисельня', 'посёлок Старая Малукса',\n",
       "       'деревня Трубников Бор', 'поселок Калитино',\n",
       "       'посёлок Высокоключевой', 'садовое товарищество Приладожский',\n",
       "       'посёлок Пансионат Зелёный Бор', 'деревня Ненимяки',\n",
       "       'поселок Пансионат Зелёный Бор', 'деревня Снегирёвка',\n",
       "       'деревня Рапполово', 'деревня Пустынка', 'поселок Рабитицы',\n",
       "       'деревня Большой Сабск', 'деревня Русско', 'деревня Лупполово',\n",
       "       'деревня Большое Рейзино', 'деревня Малая Романовка',\n",
       "       'поселок Дружноселье', 'поселок Пчевжа', 'поселок Володарское',\n",
       "       'деревня Нижняя', 'коттеджный посёлок Лесное', 'деревня Тихковицы',\n",
       "       'деревня Борисова Грива', 'посёлок Дзержинского'], dtype=object)"
      ]
     },
     "execution_count": 22,
     "metadata": {},
     "output_type": "execute_result"
    }
   ],
   "source": [
    "#просмотр значений столбца с названием поселений\n",
    "df['locality_name'].unique()"
   ]
  },
  {
   "cell_type": "code",
   "execution_count": 23,
   "metadata": {},
   "outputs": [],
   "source": [
    "#удалим букву \"ё\" и заменим обозначения \"поселок \", \"городской поселок \", \"поселок городского типа \" на пустые строки\n",
    "#df['locality_name'] = (\n",
    "#    df['locality_name']\n",
    "#    .str.lower()\n",
    "#    .str.replace('ё', 'е')\n",
    "#    .replace(['поселок ', 'городской ', 'городского ', 'типа ', 'село ', 'деревня ', 'садовое товарищество '], '', regex=True)\n",
    "#)\n",
    "#определим количество уникальных значений\n",
    "#len(df['locality_name'].unique())"
   ]
  },
  {
   "cell_type": "code",
   "execution_count": 24,
   "metadata": {},
   "outputs": [],
   "source": [
    "#функция для выделения подстрок, начинающихся с большой буквы\n",
    "def upper_only(phrase):\n",
    "    phrase_list = phrase.split(' ')\n",
    "    upper = []\n",
    "    for word in phrase_list:\n",
    "        if word[0].isupper():\n",
    "            upper.append(word)\n",
    "    upper_string = ' '.join(upper)\n",
    "    return upper_string"
   ]
  },
  {
   "cell_type": "code",
   "execution_count": 25,
   "metadata": {},
   "outputs": [],
   "source": [
    "#оставим только имена собственные в столбце \"locality_name\"\n",
    "df['locality_name'] = df['locality_name'].apply(upper_only)"
   ]
  },
  {
   "cell_type": "code",
   "execution_count": 26,
   "metadata": {},
   "outputs": [
    {
     "data": {
      "text/plain": [
       "array(['Санкт-Петербург', 'Шушары', 'Янино-1', 'Парголово', 'Мурино',\n",
       "       'Ломоносов', 'Сертолово', 'Петергоф', 'Пушкин', 'Кудрово',\n",
       "       'Коммунар', 'Колпино', 'Красный Бор', 'Гатчина', 'Фёдоровское',\n",
       "       'Выборг', 'Кронштадт', 'Кировск', 'Новое Девяткино',\n",
       "       'Металлострой', 'Лебяжье', 'Сиверский', 'Молодцово',\n",
       "       'Кузьмоловский', 'Новая Ропша', 'Павловск', 'Пикколово',\n",
       "       'Всеволожск', 'Волхов', 'Кингисепп', 'Приозерск', 'Сестрорецк',\n",
       "       'Куттузи', 'Аннино', 'Ефимовский', 'Плодовое', 'Заклинье',\n",
       "       'Торковичи', 'Первомайское', 'Красное Село', 'Понтонный',\n",
       "       'Сясьстрой', 'Старая', 'Лесколово', 'Новый Свет', 'Сланцы',\n",
       "       'Путилово', 'Ивангород', 'Шлиссельбург', 'Никольское',\n",
       "       'Зеленогорск', 'Сосновый Бор', 'Оржицы', 'Кальтино', 'Романовка',\n",
       "       'Бугры', 'Рощино', 'Кириши', 'Луга', 'Волосово', 'Отрадное',\n",
       "       'Павлово', 'Оредеж', 'Копорье', 'Молодёжное', 'Тихвин', 'Победа',\n",
       "       'Нурма', 'Синявино', 'Тосно', 'Стрельна', 'Бокситогорск',\n",
       "       'Александровская', 'Лопухинка', 'Пикалёво', 'Терволово',\n",
       "       'Советский', 'Подпорожье', 'Петровское', 'Токсово', 'Сельцо',\n",
       "       'Вырица', 'Кипень', 'Келози', 'Вартемяги', 'Тельмана',\n",
       "       'Севастьяново', 'Большая Ижора', 'Агалатово', 'Новогорелово',\n",
       "       'Лесогорский', 'Лаголово', 'Цвелодубово', 'Рахья', 'Белогорка',\n",
       "       'Заводской', 'Новоселье', 'Большие Колпаны', 'Горбунки', 'Батово',\n",
       "       'Заневка', 'Иссад', 'Приморск', 'Мистолово', 'Новая Ладога',\n",
       "       'Зимитицы', 'Барышево', 'Разметелево', 'Свердлова', 'Пеники',\n",
       "       'Рябово', 'Пудомяги', 'Корнево', 'Низино', 'Бегуницы', 'Поляны',\n",
       "       'Мга', 'Елизаветино', 'Кузнечное', 'Колтуши', 'Запорожское',\n",
       "       'Гостилицы', 'Малое Карлино', 'Мичуринское', 'Морозова',\n",
       "       'Песочный', 'Сосново', 'Аро', 'Ильичёво', 'Тайцы', 'Малое Верево',\n",
       "       'Извара', 'Вещево', 'Паша', 'Калитино', 'Ульяновка', 'Чудской Бор',\n",
       "       'Дубровка', 'Мины', 'Войсковицы', 'Коркино', 'Ропша',\n",
       "       'Приладожский', 'Щеглово', 'Гаврилово', 'Лодейное Поле',\n",
       "       'Рабитицы', 'Никольский', 'Кузьмолово', 'Малые Колпаны',\n",
       "       'Петро-Славянка', 'Назия', 'Репино', 'Углово', 'Старая Малукса',\n",
       "       'Меньково', 'Старые Бегуницы', 'Сапёрный', 'Семрино', 'Глажево',\n",
       "       'Кобринское', 'Гарболово', 'Юкки', 'Приветнинское', 'Мануйлово',\n",
       "       'Пчева', 'Цвылёво', 'Мельниково', 'Пудость', 'Усть-Луга',\n",
       "       'Светогорск', 'Любань', 'Селезнёво', 'Каменногорск', 'Кривко',\n",
       "       'Глебычево', 'Парицы', 'Жилпосёлок', 'Войскорово', 'Стеклянный',\n",
       "       'Важины', 'Мыза-Ивановка', 'Русско-Высоцкое', 'Форносово',\n",
       "       'Старая Ладога', 'Житково', 'Виллози', 'Лампово', 'Шпаньково',\n",
       "       'Лаврики', 'Сумино', 'Возрождение', 'Старосиверская', 'Кикерино',\n",
       "       'Старое Хинколово', 'Пригородный', 'Торфяное', 'Будогощь',\n",
       "       'Суходолье', 'Красная Долина', 'Хапо-Ое', 'Дружная Горка',\n",
       "       'Лисий Нос', 'Яльгелево', 'Рождествено', 'Старополье', 'Левашово',\n",
       "       'Сяськелево', 'Камышовка', 'Лесная Поляна', 'Хязельки',\n",
       "       'Жилгородок', 'Ялгино', 'Новый Учхоз', 'Гончарово', 'Почап',\n",
       "       'Сапёрное', 'Платформа', 'Каложицы', 'Фалилеево', 'Пельгора',\n",
       "       'Торошковичи', 'Белоостров', 'Алексеевка', 'Серебрянский',\n",
       "       'Лукаши', 'Тарасово', 'Кингисеппский', 'Ушаки', 'Котлы', 'Сижно',\n",
       "       'Торосово', 'Форт Красная Горка', 'Новолисино', 'Громово',\n",
       "       'Глинка', 'Старая Пустошь', 'Коммунары', 'Починок', 'Вознесенье',\n",
       "       'Разбегаево', 'Гладкое', 'Тёсово-4', 'Бор', 'Коробицыно',\n",
       "       'Большая Вруда', 'Курковицы', 'Кобралово', 'Суоранда',\n",
       "       'Кондратьево', 'Счастье', 'Реброво', 'Тойворово', 'Семиозерье',\n",
       "       'Лесное', 'Совхозный', 'Ленинское', 'Суйда', 'Нижние Осельки',\n",
       "       'Свирь', 'Перово', 'Высоцк', 'Шум', 'Котельский', 'Лужайка',\n",
       "       'Большая Пустомержа', 'Красносельское', 'Вахнова Кара', 'Пижма',\n",
       "       'Кивеннапа Север', 'Ромашки', 'Каськово', 'Куровицы', 'Плоское',\n",
       "       'Кирпичное', 'Ям-Тесово', 'Раздолье', 'Терпилицы', 'Шугозеро',\n",
       "       'Ваганово', 'Пушное', 'Садко', 'Усть-Ижора', 'Выскатка',\n",
       "       'Свирьстрой', 'Кисельня', 'Трубников Бор', 'Высокоключевой',\n",
       "       'Пансионат Зелёный Бор', 'Ненимяки', 'Снегирёвка', 'Рапполово',\n",
       "       'Пустынка', 'Большой Сабск', 'Русско', 'Лупполово',\n",
       "       'Большое Рейзино', 'Малая Романовка', 'Дружноселье', 'Пчевжа',\n",
       "       'Володарское', 'Нижняя', 'Тихковицы', 'Борисова Грива',\n",
       "       'Дзержинского'], dtype=object)"
      ]
     },
     "execution_count": 26,
     "metadata": {},
     "output_type": "execute_result"
    }
   ],
   "source": [
    "#рассмотрим получившийся результат\n",
    "df['locality_name'].unique()"
   ]
  },
  {
   "cell_type": "markdown",
   "metadata": {
    "id": "QCcvyY6YAwb-"
   },
   "source": [
    "### Добавьте в таблицу новые столбцы"
   ]
  },
  {
   "cell_type": "code",
   "execution_count": 27,
   "metadata": {
    "id": "Z8eJek3IAwb-"
   },
   "outputs": [
    {
     "data": {
      "text/plain": [
       "0   120370.370\n",
       "1    82920.790\n",
       "2    92785.710\n",
       "3   408176.100\n",
       "4   100000.000\n",
       "Name: m2price, dtype: float64"
      ]
     },
     "execution_count": 27,
     "metadata": {},
     "output_type": "execute_result"
    }
   ],
   "source": [
    "#добавим столбец с ценой за квадратный метр\n",
    "df['m2price'] = round(df['last_price'] / df['total_area'], 2)\n",
    "df['m2price'].head()"
   ]
  },
  {
   "cell_type": "code",
   "execution_count": 28,
   "metadata": {},
   "outputs": [
    {
     "data": {
      "text/plain": [
       "0    3\n",
       "1    1\n",
       "2    3\n",
       "3    4\n",
       "4    1\n",
       "Name: weekday, dtype: int64"
      ]
     },
     "execution_count": 28,
     "metadata": {},
     "output_type": "execute_result"
    }
   ],
   "source": [
    "#добавим столбец с днем недели\n",
    "df['weekday'] = df['first_day_exposition'].dt.weekday\n",
    "df['weekday'].head()"
   ]
  },
  {
   "cell_type": "code",
   "execution_count": 29,
   "metadata": {},
   "outputs": [
    {
     "data": {
      "text/plain": [
       "0     3\n",
       "1    12\n",
       "2     8\n",
       "3     7\n",
       "4     6\n",
       "Name: month, dtype: int64"
      ]
     },
     "execution_count": 29,
     "metadata": {},
     "output_type": "execute_result"
    }
   ],
   "source": [
    "#добавим столбец с месяцем публикации объявления\n",
    "df['month'] = df['first_day_exposition'].dt.month\n",
    "df['month'].head()"
   ]
  },
  {
   "cell_type": "code",
   "execution_count": 30,
   "metadata": {},
   "outputs": [
    {
     "data": {
      "text/plain": [
       "0    2019\n",
       "1    2018\n",
       "2    2015\n",
       "3    2015\n",
       "4    2018\n",
       "Name: year, dtype: int64"
      ]
     },
     "execution_count": 30,
     "metadata": {},
     "output_type": "execute_result"
    }
   ],
   "source": [
    "#добавим столбец с годом публикации объявления\n",
    "df['year'] = df['first_day_exposition'].dt.year\n",
    "df['year'].head()"
   ]
  },
  {
   "cell_type": "code",
   "execution_count": 31,
   "metadata": {},
   "outputs": [
    {
     "data": {
      "text/plain": [
       "0    другой\n",
       "1    первый\n",
       "2    другой\n",
       "3    другой\n",
       "4    другой\n",
       "Name: floor_type, dtype: object"
      ]
     },
     "execution_count": 31,
     "metadata": {},
     "output_type": "execute_result"
    }
   ],
   "source": [
    "#добавим столбец с типом этажа \"первый\", \"последний\", \"другой\"\n",
    "\n",
    "#функция, которая будет применяться к строке набора данных\n",
    "def floor_type(row):\n",
    "    if row['floor'] == 1:\n",
    "        return \"первый\"\n",
    "    elif row['floor'] == row['floors_total']:\n",
    "        return \"последний\"\n",
    "    else:\n",
    "        return \"другой\"\n",
    "\n",
    "#создание столбца с типом этажа\n",
    "df['floor_type'] = df.apply(floor_type, axis=1)\n",
    "df['floor_type'].head()"
   ]
  },
  {
   "cell_type": "code",
   "execution_count": 32,
   "metadata": {},
   "outputs": [
    {
     "data": {
      "text/plain": [
       "0   16.000\n",
       "1   19.000\n",
       "2   14.000\n",
       "3    7.000\n",
       "4    8.000\n",
       "Name: km_to_center, dtype: float64"
      ]
     },
     "execution_count": 32,
     "metadata": {},
     "output_type": "execute_result"
    }
   ],
   "source": [
    "#добавим столбец с расстоянием от центра города в км\n",
    "df['km_to_center'] = round(df['cityCenters_nearest'] / 1000)\n",
    "df['km_to_center'].head()"
   ]
  },
  {
   "cell_type": "markdown",
   "metadata": {
    "id": "pPyxrKWTAwb-"
   },
   "source": [
    "### Проведите исследовательский анализ данных"
   ]
  },
  {
   "cell_type": "code",
   "execution_count": 33,
   "metadata": {},
   "outputs": [],
   "source": [
    "#создадим список исследуемых параметров\n",
    "explore_columns = ['total_area',\n",
    "                   'living_area',\n",
    "                   'kitchen_area',\n",
    "                   'last_price', 'rooms',\n",
    "                   'ceiling_height',\n",
    "                   'floor_type',\n",
    "                   'floors_total',\n",
    "                   'cityCenters_nearest',\n",
    "                   'parks_nearest']"
   ]
  },
  {
   "cell_type": "code",
   "execution_count": 34,
   "metadata": {
    "id": "V2f0D3kLAwb-"
   },
   "outputs": [],
   "source": [
    "#функция для построения гистограмм параметров из набора данных\n",
    "def hist_func(data, columns):\n",
    "    for column in columns:\n",
    "        ax = data[column].hist(bins=100, figsize=(10, 5))\n",
    "        ax.set_title('Гистограмма ' + column)\n",
    "        ax.set_xlabel(column)\n",
    "        ax.set_ylabel(\"Количество объявлений\")\n",
    "        plt.show()\n",
    "        print(data[column].describe())"
   ]
  },
  {
   "cell_type": "code",
   "execution_count": 35,
   "metadata": {
    "scrolled": false
   },
   "outputs": [
    {
     "data": {
      "image/png": "[encoded data removed]",
      "text/plain": [
       "<Figure size 720x360 with 1 Axes>"
      ]
     },
     "metadata": {
      "needs_background": "light"
     },
     "output_type": "display_data"
    },
    {
     "name": "stdout",
     "output_type": "stream",
     "text": [
      "count   23650.000\n",
      "mean       60.329\n",
      "std        35.662\n",
      "min        12.000\n",
      "25%        40.000\n",
      "50%        52.000\n",
      "75%        69.700\n",
      "max       900.000\n",
      "Name: total_area, dtype: float64\n"
     ]
    },
    {
     "data": {
      "image/png": "[encoded data removed]",
      "text/plain": [
       "<Figure size 720x360 with 1 Axes>"
      ]
     },
     "metadata": {
      "needs_background": "light"
     },
     "output_type": "display_data"
    },
    {
     "name": "stdout",
     "output_type": "stream",
     "text": [
      "count   21752.000\n",
      "mean       34.448\n",
      "std        22.038\n",
      "min         2.000\n",
      "25%        18.600\n",
      "50%        30.000\n",
      "75%        42.300\n",
      "max       409.700\n",
      "Name: living_area, dtype: float64\n"
     ]
    },
    {
     "data": {
      "image/png": "[encoded data removed]",
      "text/plain": [
       "<Figure size 720x360 with 1 Axes>"
      ]
     },
     "metadata": {
      "needs_background": "light"
     },
     "output_type": "display_data"
    },
    {
     "name": "stdout",
     "output_type": "stream",
     "text": [
      "count   21381.000\n",
      "mean       10.566\n",
      "std         5.902\n",
      "min         1.300\n",
      "25%         7.000\n",
      "50%         9.100\n",
      "75%        12.000\n",
      "max       112.000\n",
      "Name: kitchen_area, dtype: float64\n"
     ]
    },
    {
     "data": {
      "image/png": "[encoded data removed]",
      "text/plain": [
       "<Figure size 720x360 with 1 Axes>"
      ]
     },
     "metadata": {
      "needs_background": "light"
     },
     "output_type": "display_data"
    },
    {
     "name": "stdout",
     "output_type": "stream",
     "text": [
      "count       23650.000\n",
      "mean      6541126.898\n",
      "std      10896399.175\n",
      "min         12190.000\n",
      "25%       3400000.000\n",
      "50%       4650000.000\n",
      "75%       6799000.000\n",
      "max     763000000.000\n",
      "Name: last_price, dtype: float64\n"
     ]
    },
    {
     "data": {
      "image/png": "[encoded data removed]",
      "text/plain": [
       "<Figure size 720x360 with 1 Axes>"
      ]
     },
     "metadata": {
      "needs_background": "light"
     },
     "output_type": "display_data"
    },
    {
     "name": "stdout",
     "output_type": "stream",
     "text": [
      "count   23650.000\n",
      "mean        2.070\n",
      "std         1.079\n",
      "min         0.000\n",
      "25%         1.000\n",
      "50%         2.000\n",
      "75%         3.000\n",
      "max        19.000\n",
      "Name: rooms, dtype: float64\n"
     ]
    },
    {
     "data": {
      "image/png": "[encoded data removed]",
      "text/plain": [
       "<Figure size 720x360 with 1 Axes>"
      ]
     },
     "metadata": {
      "needs_background": "light"
     },
     "output_type": "display_data"
    },
    {
     "name": "stdout",
     "output_type": "stream",
     "text": [
      "count   23650.000\n",
      "mean        2.724\n",
      "std         0.989\n",
      "min         1.000\n",
      "25%         2.600\n",
      "50%         2.650\n",
      "75%         2.700\n",
      "max       100.000\n",
      "Name: ceiling_height, dtype: float64\n"
     ]
    },
    {
     "data": {
      "image/png": "[encoded data removed]",
      "text/plain": [
       "<Figure size 720x360 with 1 Axes>"
      ]
     },
     "metadata": {
      "needs_background": "light"
     },
     "output_type": "display_data"
    },
    {
     "name": "stdout",
     "output_type": "stream",
     "text": [
      "count      23650\n",
      "unique         3\n",
      "top       другой\n",
      "freq       17326\n",
      "Name: floor_type, dtype: object\n"
     ]
    },
    {
     "data": {
      "image/png": "[encoded data removed]",
      "text/plain": [
       "<Figure size 720x360 with 1 Axes>"
      ]
     },
     "metadata": {
      "needs_background": "light"
     },
     "output_type": "display_data"
    },
    {
     "name": "stdout",
     "output_type": "stream",
     "text": [
      "count   23650.000\n",
      "mean       10.674\n",
      "std         6.593\n",
      "min         1.000\n",
      "25%         5.000\n",
      "50%         9.000\n",
      "75%        16.000\n",
      "max        60.000\n",
      "Name: floors_total, dtype: float64\n"
     ]
    },
    {
     "data": {
      "image/png": "[encoded data removed]",
      "text/plain": [
       "<Figure size 720x360 with 1 Axes>"
      ]
     },
     "metadata": {
      "needs_background": "light"
     },
     "output_type": "display_data"
    },
    {
     "name": "stdout",
     "output_type": "stream",
     "text": [
      "count   18139.000\n",
      "mean    14197.861\n",
      "std      8606.830\n",
      "min       181.000\n",
      "25%      9241.000\n",
      "50%     13105.000\n",
      "75%     16293.000\n",
      "max     65968.000\n",
      "Name: cityCenters_nearest, dtype: float64\n"
     ]
    },
    {
     "data": {
      "image/png": "[encoded data removed]",
      "text/plain": [
       "<Figure size 720x360 with 1 Axes>"
      ]
     },
     "metadata": {
      "needs_background": "light"
     },
     "output_type": "display_data"
    },
    {
     "name": "stdout",
     "output_type": "stream",
     "text": [
      "count   8064.000\n",
      "mean     490.831\n",
      "std      342.554\n",
      "min        1.000\n",
      "25%      288.000\n",
      "50%      454.500\n",
      "75%      612.000\n",
      "max     3190.000\n",
      "Name: parks_nearest, dtype: float64\n"
     ]
    }
   ],
   "source": [
    "#применим функцию для отрисовки гистограмм к набору данных\n",
    "hist_func(df, explore_columns)"
   ]
  },
  {
   "cell_type": "markdown",
   "metadata": {},
   "source": [
    "**Выводы по гистограммам:**\n",
    "\n",
    "1. **'total_area'** - Площадь помещения для жилой недвижимости больше 400 м2 - редкие значения, их небольшое количество (23 записи). Принято решение отбросить эти значения.\n",
    "\n",
    "2. **'living_area'** - Выбивающиеся значения для этого столбца больше 200 м2 - редкие значения, их небольшое количество (31 записи). Принято решение отбросить эти значения.\n",
    "\n",
    "3. **'kitchen_area'** - Выбивающиеся значения для этого столбца больше 50 м2 - редкие значения, их небольшое количество (44 записи). Принято решение отбросить эти значения.\n",
    "\n",
    "4. **'last_price'** - В данном столбце есть выдающиеся значения, например, более 50 млн. руб., однако таких значений достаточное количество. Принято решение не отбрасывать значения.\n",
    "\n",
    "5. **'rooms'** - 31 объект имеет более 7 комнат, эти объекты можно исключить из рассмотрения\n",
    "\n",
    "5. **'ceiling_height'** - Высота потолка в столбце \"ceiling_height\" имеет выделяющиеся значения, например, максимальное 100м. Для корректировки значений, все значения, которые выше 10м, можно разделить на 10.\n",
    "\n",
    "6. **'floor_type'** - Важная характеристика, по каждому значению несколько тысяч объектов, нельзя отбрасывать значения.\n",
    "\n",
    "7. **'floors_total'** - Объектов с более чем 30 этажами всего 32, принято решение отбросить выбивающиеся значения.\n",
    "\n",
    "8. **'cityCenters_nearest'** - Объектов на удалении свыше 55 км от центра города небольшое количество (12). Принято решение отбросить выбивающиеся значения.\n",
    "\n",
    "9. **'parks_nearest'** - Объектов на удалении свыше 2.5 км от ближайшего парка небольшое количество (16). Принято решение отбросить выбивающиеся значения."
   ]
  },
  {
   "cell_type": "code",
   "execution_count": 36,
   "metadata": {},
   "outputs": [
    {
     "data": {
      "text/plain": [
       "total_images            31\n",
       "last_price              31\n",
       "total_area              31\n",
       "first_day_exposition    31\n",
       "rooms                   31\n",
       "ceiling_height          31\n",
       "floors_total            31\n",
       "living_area             31\n",
       "floor                   31\n",
       "is_apartment            31\n",
       "studio                  31\n",
       "open_plan               31\n",
       "kitchen_area            29\n",
       "balcony                 31\n",
       "locality_name           31\n",
       "airports_nearest        28\n",
       "cityCenters_nearest     30\n",
       "parks_around3000        31\n",
       "parks_nearest           22\n",
       "ponds_around3000        31\n",
       "ponds_nearest           20\n",
       "days_exposition         27\n",
       "m2price                 31\n",
       "weekday                 31\n",
       "month                   31\n",
       "year                    31\n",
       "floor_type              31\n",
       "km_to_center            30\n",
       "dtype: int64"
      ]
     },
     "execution_count": 36,
     "metadata": {},
     "output_type": "execute_result"
    }
   ],
   "source": [
    "df[df['living_area'] > 200].count()"
   ]
  },
  {
   "cell_type": "code",
   "execution_count": 37,
   "metadata": {},
   "outputs": [
    {
     "name": "stdout",
     "output_type": "stream",
     "text": [
      "23\n"
     ]
    }
   ],
   "source": [
    "#определим какое количество значений, можно отбросить в столбце 'total_area', исходя из принципа,\n",
    "#что жилая недвижимость редко строится площадью больше 400 м2\n",
    "huge_realty_count = df[df['total_area'] > 400]['total_area'].count()\n",
    "print(huge_realty_count)"
   ]
  },
  {
   "cell_type": "code",
   "execution_count": 38,
   "metadata": {},
   "outputs": [
    {
     "name": "stdout",
     "output_type": "stream",
     "text": [
      "31\n"
     ]
    }
   ],
   "source": [
    "#определим какое количество значений, можно отбросить в столбце 'living_area', исходя из принципа,\n",
    "#что выдающимися считаются значения больше 200 м2\n",
    "huge_living_count = df[df['living_area'] > 200]['living_area'].count()\n",
    "print(huge_living_count)"
   ]
  },
  {
   "cell_type": "code",
   "execution_count": 39,
   "metadata": {},
   "outputs": [
    {
     "name": "stdout",
     "output_type": "stream",
     "text": [
      "46\n"
     ]
    }
   ],
   "source": [
    "#определим какое количество значений, можно отбросить в столбце 'kitchen_area', исходя из принципа,\n",
    "#что выдающимися считаются значения больше 200 м2\n",
    "huge_kitchen_count = df[df['kitchen_area'] > 50]['kitchen_area'].count()\n",
    "print(huge_kitchen_count)"
   ]
  },
  {
   "cell_type": "code",
   "execution_count": 40,
   "metadata": {},
   "outputs": [
    {
     "name": "stdout",
     "output_type": "stream",
     "text": [
      "131\n"
     ]
    }
   ],
   "source": [
    "#определим количество выдающихся значений в столбце 'last_price'\n",
    "huge_price_count = df[df['last_price'] > 50000000]['last_price'].count()\n",
    "print(huge_price_count)"
   ]
  },
  {
   "cell_type": "code",
   "execution_count": 41,
   "metadata": {},
   "outputs": [
    {
     "name": "stdout",
     "output_type": "stream",
     "text": [
      "31\n"
     ]
    }
   ],
   "source": [
    "#определим количество выдающихся значений в столбце 'rooms'\n",
    "rooms_count = df[df['rooms'] > 7]['rooms'].count()\n",
    "print(rooms_count)"
   ]
  },
  {
   "cell_type": "code",
   "execution_count": 42,
   "metadata": {},
   "outputs": [
    {
     "name": "stdout",
     "output_type": "stream",
     "text": [
      "32\n"
     ]
    }
   ],
   "source": [
    "#определим количество выдающихся значений в столбце 'floors_total'\n",
    "many_floors_count = df[df['floors_total'] > 30]['floors_total'].count()\n",
    "print(many_floors_count)"
   ]
  },
  {
   "cell_type": "code",
   "execution_count": 43,
   "metadata": {},
   "outputs": [
    {
     "name": "stdout",
     "output_type": "stream",
     "text": [
      "12\n"
     ]
    }
   ],
   "source": [
    "#определим количество выдающихся значений в столбце 'cityCenters_nearest'\n",
    "too_far_count = df[df['cityCenters_nearest'] > 55000]['cityCenters_nearest'].count()\n",
    "print(too_far_count)"
   ]
  },
  {
   "cell_type": "code",
   "execution_count": 44,
   "metadata": {},
   "outputs": [
    {
     "name": "stdout",
     "output_type": "stream",
     "text": [
      "16\n"
     ]
    }
   ],
   "source": [
    "#определим количество выдающихся значений в столбце 'parks_nearest'\n",
    "park_far_count = df[df['parks_nearest'] > 2500]['parks_nearest'].count()\n",
    "print(park_far_count)"
   ]
  },
  {
   "cell_type": "code",
   "execution_count": 45,
   "metadata": {
    "scrolled": true
   },
   "outputs": [
    {
     "data": {
      "text/html": [
       "<div>\n",
       "<style scoped>\n",
       "    .dataframe tbody tr th:only-of-type {\n",
       "        vertical-align: middle;\n",
       "    }\n",
       "\n",
       "    .dataframe tbody tr th {\n",
       "        vertical-align: top;\n",
       "    }\n",
       "\n",
       "    .dataframe thead th {\n",
       "        text-align: right;\n",
       "    }\n",
       "</style>\n",
       "<table border=\"1\" class=\"dataframe\">\n",
       "  <thead>\n",
       "    <tr style=\"text-align: right;\">\n",
       "      <th></th>\n",
       "      <th>total_images</th>\n",
       "      <th>last_price</th>\n",
       "      <th>total_area</th>\n",
       "      <th>first_day_exposition</th>\n",
       "      <th>rooms</th>\n",
       "      <th>ceiling_height</th>\n",
       "      <th>floors_total</th>\n",
       "      <th>living_area</th>\n",
       "      <th>floor</th>\n",
       "      <th>is_apartment</th>\n",
       "      <th>...</th>\n",
       "      <th>parks_nearest</th>\n",
       "      <th>ponds_around3000</th>\n",
       "      <th>ponds_nearest</th>\n",
       "      <th>days_exposition</th>\n",
       "      <th>m2price</th>\n",
       "      <th>weekday</th>\n",
       "      <th>month</th>\n",
       "      <th>year</th>\n",
       "      <th>floor_type</th>\n",
       "      <th>km_to_center</th>\n",
       "    </tr>\n",
       "  </thead>\n",
       "  <tbody>\n",
       "    <tr>\n",
       "      <th>0</th>\n",
       "      <td>20</td>\n",
       "      <td>13000000.000</td>\n",
       "      <td>108.000</td>\n",
       "      <td>2019-03-07</td>\n",
       "      <td>3</td>\n",
       "      <td>2.700</td>\n",
       "      <td>16.000</td>\n",
       "      <td>51.000</td>\n",
       "      <td>8</td>\n",
       "      <td>False</td>\n",
       "      <td>...</td>\n",
       "      <td>482.000</td>\n",
       "      <td>2</td>\n",
       "      <td>755.000</td>\n",
       "      <td>NaN</td>\n",
       "      <td>120370.370</td>\n",
       "      <td>3</td>\n",
       "      <td>3</td>\n",
       "      <td>2019</td>\n",
       "      <td>другой</td>\n",
       "      <td>16.000</td>\n",
       "    </tr>\n",
       "    <tr>\n",
       "      <th>1</th>\n",
       "      <td>7</td>\n",
       "      <td>3350000.000</td>\n",
       "      <td>40.400</td>\n",
       "      <td>2018-12-04</td>\n",
       "      <td>1</td>\n",
       "      <td>2.650</td>\n",
       "      <td>11.000</td>\n",
       "      <td>18.600</td>\n",
       "      <td>1</td>\n",
       "      <td>False</td>\n",
       "      <td>...</td>\n",
       "      <td>NaN</td>\n",
       "      <td>0</td>\n",
       "      <td>NaN</td>\n",
       "      <td>81.000</td>\n",
       "      <td>82920.790</td>\n",
       "      <td>1</td>\n",
       "      <td>12</td>\n",
       "      <td>2018</td>\n",
       "      <td>первый</td>\n",
       "      <td>19.000</td>\n",
       "    </tr>\n",
       "    <tr>\n",
       "      <th>2</th>\n",
       "      <td>10</td>\n",
       "      <td>5196000.000</td>\n",
       "      <td>56.000</td>\n",
       "      <td>2015-08-20</td>\n",
       "      <td>2</td>\n",
       "      <td>2.650</td>\n",
       "      <td>5.000</td>\n",
       "      <td>34.300</td>\n",
       "      <td>4</td>\n",
       "      <td>False</td>\n",
       "      <td>...</td>\n",
       "      <td>90.000</td>\n",
       "      <td>2</td>\n",
       "      <td>574.000</td>\n",
       "      <td>558.000</td>\n",
       "      <td>92785.710</td>\n",
       "      <td>3</td>\n",
       "      <td>8</td>\n",
       "      <td>2015</td>\n",
       "      <td>другой</td>\n",
       "      <td>14.000</td>\n",
       "    </tr>\n",
       "    <tr>\n",
       "      <th>3</th>\n",
       "      <td>0</td>\n",
       "      <td>64900000.000</td>\n",
       "      <td>159.000</td>\n",
       "      <td>2015-07-24</td>\n",
       "      <td>3</td>\n",
       "      <td>2.650</td>\n",
       "      <td>14.000</td>\n",
       "      <td>NaN</td>\n",
       "      <td>9</td>\n",
       "      <td>False</td>\n",
       "      <td>...</td>\n",
       "      <td>84.000</td>\n",
       "      <td>3</td>\n",
       "      <td>234.000</td>\n",
       "      <td>424.000</td>\n",
       "      <td>408176.100</td>\n",
       "      <td>4</td>\n",
       "      <td>7</td>\n",
       "      <td>2015</td>\n",
       "      <td>другой</td>\n",
       "      <td>7.000</td>\n",
       "    </tr>\n",
       "    <tr>\n",
       "      <th>4</th>\n",
       "      <td>2</td>\n",
       "      <td>10000000.000</td>\n",
       "      <td>100.000</td>\n",
       "      <td>2018-06-19</td>\n",
       "      <td>2</td>\n",
       "      <td>3.030</td>\n",
       "      <td>14.000</td>\n",
       "      <td>32.000</td>\n",
       "      <td>13</td>\n",
       "      <td>False</td>\n",
       "      <td>...</td>\n",
       "      <td>112.000</td>\n",
       "      <td>1</td>\n",
       "      <td>48.000</td>\n",
       "      <td>121.000</td>\n",
       "      <td>100000.000</td>\n",
       "      <td>1</td>\n",
       "      <td>6</td>\n",
       "      <td>2018</td>\n",
       "      <td>другой</td>\n",
       "      <td>8.000</td>\n",
       "    </tr>\n",
       "  </tbody>\n",
       "</table>\n",
       "<p>5 rows × 28 columns</p>\n",
       "</div>"
      ],
      "text/plain": [
       "   total_images   last_price  total_area first_day_exposition  rooms  \\\n",
       "0            20 13000000.000     108.000           2019-03-07      3   \n",
       "1             7  3350000.000      40.400           2018-12-04      1   \n",
       "2            10  5196000.000      56.000           2015-08-20      2   \n",
       "3             0 64900000.000     159.000           2015-07-24      3   \n",
       "4             2 10000000.000     100.000           2018-06-19      2   \n",
       "\n",
       "   ceiling_height  floors_total  living_area  floor  is_apartment  ...  \\\n",
       "0           2.700        16.000       51.000      8         False  ...   \n",
       "1           2.650        11.000       18.600      1         False  ...   \n",
       "2           2.650         5.000       34.300      4         False  ...   \n",
       "3           2.650        14.000          NaN      9         False  ...   \n",
       "4           3.030        14.000       32.000     13         False  ...   \n",
       "\n",
       "   parks_nearest  ponds_around3000  ponds_nearest  days_exposition    m2price  \\\n",
       "0        482.000                 2        755.000              NaN 120370.370   \n",
       "1            NaN                 0            NaN           81.000  82920.790   \n",
       "2         90.000                 2        574.000          558.000  92785.710   \n",
       "3         84.000                 3        234.000          424.000 408176.100   \n",
       "4        112.000                 1         48.000          121.000 100000.000   \n",
       "\n",
       "   weekday  month  year  floor_type  km_to_center  \n",
       "0        3      3  2019      другой        16.000  \n",
       "1        1     12  2018      первый        19.000  \n",
       "2        3      8  2015      другой        14.000  \n",
       "3        4      7  2015      другой         7.000  \n",
       "4        1      6  2018      другой         8.000  \n",
       "\n",
       "[5 rows x 28 columns]"
      ]
     },
     "execution_count": 45,
     "metadata": {},
     "output_type": "execute_result"
    }
   ],
   "source": [
    "#эти данные можно отбросить 'total_area'\n",
    "df = df[df['total_area'] < 400]\n",
    "df.head()"
   ]
  },
  {
   "cell_type": "code",
   "execution_count": 46,
   "metadata": {},
   "outputs": [
    {
     "data": {
      "text/html": [
       "<div>\n",
       "<style scoped>\n",
       "    .dataframe tbody tr th:only-of-type {\n",
       "        vertical-align: middle;\n",
       "    }\n",
       "\n",
       "    .dataframe tbody tr th {\n",
       "        vertical-align: top;\n",
       "    }\n",
       "\n",
       "    .dataframe thead th {\n",
       "        text-align: right;\n",
       "    }\n",
       "</style>\n",
       "<table border=\"1\" class=\"dataframe\">\n",
       "  <thead>\n",
       "    <tr style=\"text-align: right;\">\n",
       "      <th></th>\n",
       "      <th>total_images</th>\n",
       "      <th>last_price</th>\n",
       "      <th>total_area</th>\n",
       "      <th>first_day_exposition</th>\n",
       "      <th>rooms</th>\n",
       "      <th>ceiling_height</th>\n",
       "      <th>floors_total</th>\n",
       "      <th>living_area</th>\n",
       "      <th>floor</th>\n",
       "      <th>is_apartment</th>\n",
       "      <th>...</th>\n",
       "      <th>parks_nearest</th>\n",
       "      <th>ponds_around3000</th>\n",
       "      <th>ponds_nearest</th>\n",
       "      <th>days_exposition</th>\n",
       "      <th>m2price</th>\n",
       "      <th>weekday</th>\n",
       "      <th>month</th>\n",
       "      <th>year</th>\n",
       "      <th>floor_type</th>\n",
       "      <th>km_to_center</th>\n",
       "    </tr>\n",
       "  </thead>\n",
       "  <tbody>\n",
       "    <tr>\n",
       "      <th>0</th>\n",
       "      <td>20</td>\n",
       "      <td>13000000.000</td>\n",
       "      <td>108.000</td>\n",
       "      <td>2019-03-07</td>\n",
       "      <td>3</td>\n",
       "      <td>2.700</td>\n",
       "      <td>16.000</td>\n",
       "      <td>51.000</td>\n",
       "      <td>8</td>\n",
       "      <td>False</td>\n",
       "      <td>...</td>\n",
       "      <td>482.000</td>\n",
       "      <td>2</td>\n",
       "      <td>755.000</td>\n",
       "      <td>NaN</td>\n",
       "      <td>120370.370</td>\n",
       "      <td>3</td>\n",
       "      <td>3</td>\n",
       "      <td>2019</td>\n",
       "      <td>другой</td>\n",
       "      <td>16.000</td>\n",
       "    </tr>\n",
       "    <tr>\n",
       "      <th>1</th>\n",
       "      <td>7</td>\n",
       "      <td>3350000.000</td>\n",
       "      <td>40.400</td>\n",
       "      <td>2018-12-04</td>\n",
       "      <td>1</td>\n",
       "      <td>2.650</td>\n",
       "      <td>11.000</td>\n",
       "      <td>18.600</td>\n",
       "      <td>1</td>\n",
       "      <td>False</td>\n",
       "      <td>...</td>\n",
       "      <td>NaN</td>\n",
       "      <td>0</td>\n",
       "      <td>NaN</td>\n",
       "      <td>81.000</td>\n",
       "      <td>82920.790</td>\n",
       "      <td>1</td>\n",
       "      <td>12</td>\n",
       "      <td>2018</td>\n",
       "      <td>первый</td>\n",
       "      <td>19.000</td>\n",
       "    </tr>\n",
       "    <tr>\n",
       "      <th>2</th>\n",
       "      <td>10</td>\n",
       "      <td>5196000.000</td>\n",
       "      <td>56.000</td>\n",
       "      <td>2015-08-20</td>\n",
       "      <td>2</td>\n",
       "      <td>2.650</td>\n",
       "      <td>5.000</td>\n",
       "      <td>34.300</td>\n",
       "      <td>4</td>\n",
       "      <td>False</td>\n",
       "      <td>...</td>\n",
       "      <td>90.000</td>\n",
       "      <td>2</td>\n",
       "      <td>574.000</td>\n",
       "      <td>558.000</td>\n",
       "      <td>92785.710</td>\n",
       "      <td>3</td>\n",
       "      <td>8</td>\n",
       "      <td>2015</td>\n",
       "      <td>другой</td>\n",
       "      <td>14.000</td>\n",
       "    </tr>\n",
       "    <tr>\n",
       "      <th>4</th>\n",
       "      <td>2</td>\n",
       "      <td>10000000.000</td>\n",
       "      <td>100.000</td>\n",
       "      <td>2018-06-19</td>\n",
       "      <td>2</td>\n",
       "      <td>3.030</td>\n",
       "      <td>14.000</td>\n",
       "      <td>32.000</td>\n",
       "      <td>13</td>\n",
       "      <td>False</td>\n",
       "      <td>...</td>\n",
       "      <td>112.000</td>\n",
       "      <td>1</td>\n",
       "      <td>48.000</td>\n",
       "      <td>121.000</td>\n",
       "      <td>100000.000</td>\n",
       "      <td>1</td>\n",
       "      <td>6</td>\n",
       "      <td>2018</td>\n",
       "      <td>другой</td>\n",
       "      <td>8.000</td>\n",
       "    </tr>\n",
       "    <tr>\n",
       "      <th>5</th>\n",
       "      <td>10</td>\n",
       "      <td>2890000.000</td>\n",
       "      <td>30.400</td>\n",
       "      <td>2018-09-10</td>\n",
       "      <td>1</td>\n",
       "      <td>2.650</td>\n",
       "      <td>12.000</td>\n",
       "      <td>14.400</td>\n",
       "      <td>5</td>\n",
       "      <td>False</td>\n",
       "      <td>...</td>\n",
       "      <td>NaN</td>\n",
       "      <td>0</td>\n",
       "      <td>NaN</td>\n",
       "      <td>55.000</td>\n",
       "      <td>95065.790</td>\n",
       "      <td>0</td>\n",
       "      <td>9</td>\n",
       "      <td>2018</td>\n",
       "      <td>другой</td>\n",
       "      <td>NaN</td>\n",
       "    </tr>\n",
       "  </tbody>\n",
       "</table>\n",
       "<p>5 rows × 28 columns</p>\n",
       "</div>"
      ],
      "text/plain": [
       "   total_images   last_price  total_area first_day_exposition  rooms  \\\n",
       "0            20 13000000.000     108.000           2019-03-07      3   \n",
       "1             7  3350000.000      40.400           2018-12-04      1   \n",
       "2            10  5196000.000      56.000           2015-08-20      2   \n",
       "4             2 10000000.000     100.000           2018-06-19      2   \n",
       "5            10  2890000.000      30.400           2018-09-10      1   \n",
       "\n",
       "   ceiling_height  floors_total  living_area  floor  is_apartment  ...  \\\n",
       "0           2.700        16.000       51.000      8         False  ...   \n",
       "1           2.650        11.000       18.600      1         False  ...   \n",
       "2           2.650         5.000       34.300      4         False  ...   \n",
       "4           3.030        14.000       32.000     13         False  ...   \n",
       "5           2.650        12.000       14.400      5         False  ...   \n",
       "\n",
       "   parks_nearest  ponds_around3000  ponds_nearest  days_exposition    m2price  \\\n",
       "0        482.000                 2        755.000              NaN 120370.370   \n",
       "1            NaN                 0            NaN           81.000  82920.790   \n",
       "2         90.000                 2        574.000          558.000  92785.710   \n",
       "4        112.000                 1         48.000          121.000 100000.000   \n",
       "5            NaN                 0            NaN           55.000  95065.790   \n",
       "\n",
       "   weekday  month  year  floor_type  km_to_center  \n",
       "0        3      3  2019      другой        16.000  \n",
       "1        1     12  2018      первый        19.000  \n",
       "2        3      8  2015      другой        14.000  \n",
       "4        1      6  2018      другой         8.000  \n",
       "5        0      9  2018      другой           NaN  \n",
       "\n",
       "[5 rows x 28 columns]"
      ]
     },
     "execution_count": 46,
     "metadata": {},
     "output_type": "execute_result"
    }
   ],
   "source": [
    "#эти данные можно отбросить 'living_area'\n",
    "df = df[df['living_area'] < 200]\n",
    "df.head()"
   ]
  },
  {
   "cell_type": "code",
   "execution_count": 47,
   "metadata": {},
   "outputs": [
    {
     "data": {
      "text/html": [
       "<div>\n",
       "<style scoped>\n",
       "    .dataframe tbody tr th:only-of-type {\n",
       "        vertical-align: middle;\n",
       "    }\n",
       "\n",
       "    .dataframe tbody tr th {\n",
       "        vertical-align: top;\n",
       "    }\n",
       "\n",
       "    .dataframe thead th {\n",
       "        text-align: right;\n",
       "    }\n",
       "</style>\n",
       "<table border=\"1\" class=\"dataframe\">\n",
       "  <thead>\n",
       "    <tr style=\"text-align: right;\">\n",
       "      <th></th>\n",
       "      <th>total_images</th>\n",
       "      <th>last_price</th>\n",
       "      <th>total_area</th>\n",
       "      <th>first_day_exposition</th>\n",
       "      <th>rooms</th>\n",
       "      <th>ceiling_height</th>\n",
       "      <th>floors_total</th>\n",
       "      <th>living_area</th>\n",
       "      <th>floor</th>\n",
       "      <th>is_apartment</th>\n",
       "      <th>...</th>\n",
       "      <th>parks_nearest</th>\n",
       "      <th>ponds_around3000</th>\n",
       "      <th>ponds_nearest</th>\n",
       "      <th>days_exposition</th>\n",
       "      <th>m2price</th>\n",
       "      <th>weekday</th>\n",
       "      <th>month</th>\n",
       "      <th>year</th>\n",
       "      <th>floor_type</th>\n",
       "      <th>km_to_center</th>\n",
       "    </tr>\n",
       "  </thead>\n",
       "  <tbody>\n",
       "    <tr>\n",
       "      <th>0</th>\n",
       "      <td>20</td>\n",
       "      <td>13000000.000</td>\n",
       "      <td>108.000</td>\n",
       "      <td>2019-03-07</td>\n",
       "      <td>3</td>\n",
       "      <td>2.700</td>\n",
       "      <td>16.000</td>\n",
       "      <td>51.000</td>\n",
       "      <td>8</td>\n",
       "      <td>False</td>\n",
       "      <td>...</td>\n",
       "      <td>482.000</td>\n",
       "      <td>2</td>\n",
       "      <td>755.000</td>\n",
       "      <td>NaN</td>\n",
       "      <td>120370.370</td>\n",
       "      <td>3</td>\n",
       "      <td>3</td>\n",
       "      <td>2019</td>\n",
       "      <td>другой</td>\n",
       "      <td>16.000</td>\n",
       "    </tr>\n",
       "    <tr>\n",
       "      <th>1</th>\n",
       "      <td>7</td>\n",
       "      <td>3350000.000</td>\n",
       "      <td>40.400</td>\n",
       "      <td>2018-12-04</td>\n",
       "      <td>1</td>\n",
       "      <td>2.650</td>\n",
       "      <td>11.000</td>\n",
       "      <td>18.600</td>\n",
       "      <td>1</td>\n",
       "      <td>False</td>\n",
       "      <td>...</td>\n",
       "      <td>NaN</td>\n",
       "      <td>0</td>\n",
       "      <td>NaN</td>\n",
       "      <td>81.000</td>\n",
       "      <td>82920.790</td>\n",
       "      <td>1</td>\n",
       "      <td>12</td>\n",
       "      <td>2018</td>\n",
       "      <td>первый</td>\n",
       "      <td>19.000</td>\n",
       "    </tr>\n",
       "    <tr>\n",
       "      <th>2</th>\n",
       "      <td>10</td>\n",
       "      <td>5196000.000</td>\n",
       "      <td>56.000</td>\n",
       "      <td>2015-08-20</td>\n",
       "      <td>2</td>\n",
       "      <td>2.650</td>\n",
       "      <td>5.000</td>\n",
       "      <td>34.300</td>\n",
       "      <td>4</td>\n",
       "      <td>False</td>\n",
       "      <td>...</td>\n",
       "      <td>90.000</td>\n",
       "      <td>2</td>\n",
       "      <td>574.000</td>\n",
       "      <td>558.000</td>\n",
       "      <td>92785.710</td>\n",
       "      <td>3</td>\n",
       "      <td>8</td>\n",
       "      <td>2015</td>\n",
       "      <td>другой</td>\n",
       "      <td>14.000</td>\n",
       "    </tr>\n",
       "    <tr>\n",
       "      <th>4</th>\n",
       "      <td>2</td>\n",
       "      <td>10000000.000</td>\n",
       "      <td>100.000</td>\n",
       "      <td>2018-06-19</td>\n",
       "      <td>2</td>\n",
       "      <td>3.030</td>\n",
       "      <td>14.000</td>\n",
       "      <td>32.000</td>\n",
       "      <td>13</td>\n",
       "      <td>False</td>\n",
       "      <td>...</td>\n",
       "      <td>112.000</td>\n",
       "      <td>1</td>\n",
       "      <td>48.000</td>\n",
       "      <td>121.000</td>\n",
       "      <td>100000.000</td>\n",
       "      <td>1</td>\n",
       "      <td>6</td>\n",
       "      <td>2018</td>\n",
       "      <td>другой</td>\n",
       "      <td>8.000</td>\n",
       "    </tr>\n",
       "    <tr>\n",
       "      <th>5</th>\n",
       "      <td>10</td>\n",
       "      <td>2890000.000</td>\n",
       "      <td>30.400</td>\n",
       "      <td>2018-09-10</td>\n",
       "      <td>1</td>\n",
       "      <td>2.650</td>\n",
       "      <td>12.000</td>\n",
       "      <td>14.400</td>\n",
       "      <td>5</td>\n",
       "      <td>False</td>\n",
       "      <td>...</td>\n",
       "      <td>NaN</td>\n",
       "      <td>0</td>\n",
       "      <td>NaN</td>\n",
       "      <td>55.000</td>\n",
       "      <td>95065.790</td>\n",
       "      <td>0</td>\n",
       "      <td>9</td>\n",
       "      <td>2018</td>\n",
       "      <td>другой</td>\n",
       "      <td>NaN</td>\n",
       "    </tr>\n",
       "  </tbody>\n",
       "</table>\n",
       "<p>5 rows × 28 columns</p>\n",
       "</div>"
      ],
      "text/plain": [
       "   total_images   last_price  total_area first_day_exposition  rooms  \\\n",
       "0            20 13000000.000     108.000           2019-03-07      3   \n",
       "1             7  3350000.000      40.400           2018-12-04      1   \n",
       "2            10  5196000.000      56.000           2015-08-20      2   \n",
       "4             2 10000000.000     100.000           2018-06-19      2   \n",
       "5            10  2890000.000      30.400           2018-09-10      1   \n",
       "\n",
       "   ceiling_height  floors_total  living_area  floor  is_apartment  ...  \\\n",
       "0           2.700        16.000       51.000      8         False  ...   \n",
       "1           2.650        11.000       18.600      1         False  ...   \n",
       "2           2.650         5.000       34.300      4         False  ...   \n",
       "4           3.030        14.000       32.000     13         False  ...   \n",
       "5           2.650        12.000       14.400      5         False  ...   \n",
       "\n",
       "   parks_nearest  ponds_around3000  ponds_nearest  days_exposition    m2price  \\\n",
       "0        482.000                 2        755.000              NaN 120370.370   \n",
       "1            NaN                 0            NaN           81.000  82920.790   \n",
       "2         90.000                 2        574.000          558.000  92785.710   \n",
       "4        112.000                 1         48.000          121.000 100000.000   \n",
       "5            NaN                 0            NaN           55.000  95065.790   \n",
       "\n",
       "   weekday  month  year  floor_type  km_to_center  \n",
       "0        3      3  2019      другой        16.000  \n",
       "1        1     12  2018      первый        19.000  \n",
       "2        3      8  2015      другой        14.000  \n",
       "4        1      6  2018      другой         8.000  \n",
       "5        0      9  2018      другой           NaN  \n",
       "\n",
       "[5 rows x 28 columns]"
      ]
     },
     "execution_count": 47,
     "metadata": {},
     "output_type": "execute_result"
    }
   ],
   "source": [
    "#эти данные можно отбросить 'kitchen_area'\n",
    "df = df[df['kitchen_area'] < 50]\n",
    "df.head()"
   ]
  },
  {
   "cell_type": "code",
   "execution_count": 48,
   "metadata": {},
   "outputs": [
    {
     "data": {
      "text/html": [
       "<div>\n",
       "<style scoped>\n",
       "    .dataframe tbody tr th:only-of-type {\n",
       "        vertical-align: middle;\n",
       "    }\n",
       "\n",
       "    .dataframe tbody tr th {\n",
       "        vertical-align: top;\n",
       "    }\n",
       "\n",
       "    .dataframe thead th {\n",
       "        text-align: right;\n",
       "    }\n",
       "</style>\n",
       "<table border=\"1\" class=\"dataframe\">\n",
       "  <thead>\n",
       "    <tr style=\"text-align: right;\">\n",
       "      <th></th>\n",
       "      <th>total_images</th>\n",
       "      <th>last_price</th>\n",
       "      <th>total_area</th>\n",
       "      <th>first_day_exposition</th>\n",
       "      <th>rooms</th>\n",
       "      <th>ceiling_height</th>\n",
       "      <th>floors_total</th>\n",
       "      <th>living_area</th>\n",
       "      <th>floor</th>\n",
       "      <th>is_apartment</th>\n",
       "      <th>...</th>\n",
       "      <th>parks_nearest</th>\n",
       "      <th>ponds_around3000</th>\n",
       "      <th>ponds_nearest</th>\n",
       "      <th>days_exposition</th>\n",
       "      <th>m2price</th>\n",
       "      <th>weekday</th>\n",
       "      <th>month</th>\n",
       "      <th>year</th>\n",
       "      <th>floor_type</th>\n",
       "      <th>km_to_center</th>\n",
       "    </tr>\n",
       "  </thead>\n",
       "  <tbody>\n",
       "    <tr>\n",
       "      <th>0</th>\n",
       "      <td>20</td>\n",
       "      <td>13000000.000</td>\n",
       "      <td>108.000</td>\n",
       "      <td>2019-03-07</td>\n",
       "      <td>3</td>\n",
       "      <td>2.700</td>\n",
       "      <td>16.000</td>\n",
       "      <td>51.000</td>\n",
       "      <td>8</td>\n",
       "      <td>False</td>\n",
       "      <td>...</td>\n",
       "      <td>482.000</td>\n",
       "      <td>2</td>\n",
       "      <td>755.000</td>\n",
       "      <td>NaN</td>\n",
       "      <td>120370.370</td>\n",
       "      <td>3</td>\n",
       "      <td>3</td>\n",
       "      <td>2019</td>\n",
       "      <td>другой</td>\n",
       "      <td>16.000</td>\n",
       "    </tr>\n",
       "    <tr>\n",
       "      <th>1</th>\n",
       "      <td>7</td>\n",
       "      <td>3350000.000</td>\n",
       "      <td>40.400</td>\n",
       "      <td>2018-12-04</td>\n",
       "      <td>1</td>\n",
       "      <td>2.650</td>\n",
       "      <td>11.000</td>\n",
       "      <td>18.600</td>\n",
       "      <td>1</td>\n",
       "      <td>False</td>\n",
       "      <td>...</td>\n",
       "      <td>NaN</td>\n",
       "      <td>0</td>\n",
       "      <td>NaN</td>\n",
       "      <td>81.000</td>\n",
       "      <td>82920.790</td>\n",
       "      <td>1</td>\n",
       "      <td>12</td>\n",
       "      <td>2018</td>\n",
       "      <td>первый</td>\n",
       "      <td>19.000</td>\n",
       "    </tr>\n",
       "    <tr>\n",
       "      <th>2</th>\n",
       "      <td>10</td>\n",
       "      <td>5196000.000</td>\n",
       "      <td>56.000</td>\n",
       "      <td>2015-08-20</td>\n",
       "      <td>2</td>\n",
       "      <td>2.650</td>\n",
       "      <td>5.000</td>\n",
       "      <td>34.300</td>\n",
       "      <td>4</td>\n",
       "      <td>False</td>\n",
       "      <td>...</td>\n",
       "      <td>90.000</td>\n",
       "      <td>2</td>\n",
       "      <td>574.000</td>\n",
       "      <td>558.000</td>\n",
       "      <td>92785.710</td>\n",
       "      <td>3</td>\n",
       "      <td>8</td>\n",
       "      <td>2015</td>\n",
       "      <td>другой</td>\n",
       "      <td>14.000</td>\n",
       "    </tr>\n",
       "    <tr>\n",
       "      <th>4</th>\n",
       "      <td>2</td>\n",
       "      <td>10000000.000</td>\n",
       "      <td>100.000</td>\n",
       "      <td>2018-06-19</td>\n",
       "      <td>2</td>\n",
       "      <td>3.030</td>\n",
       "      <td>14.000</td>\n",
       "      <td>32.000</td>\n",
       "      <td>13</td>\n",
       "      <td>False</td>\n",
       "      <td>...</td>\n",
       "      <td>112.000</td>\n",
       "      <td>1</td>\n",
       "      <td>48.000</td>\n",
       "      <td>121.000</td>\n",
       "      <td>100000.000</td>\n",
       "      <td>1</td>\n",
       "      <td>6</td>\n",
       "      <td>2018</td>\n",
       "      <td>другой</td>\n",
       "      <td>8.000</td>\n",
       "    </tr>\n",
       "    <tr>\n",
       "      <th>5</th>\n",
       "      <td>10</td>\n",
       "      <td>2890000.000</td>\n",
       "      <td>30.400</td>\n",
       "      <td>2018-09-10</td>\n",
       "      <td>1</td>\n",
       "      <td>2.650</td>\n",
       "      <td>12.000</td>\n",
       "      <td>14.400</td>\n",
       "      <td>5</td>\n",
       "      <td>False</td>\n",
       "      <td>...</td>\n",
       "      <td>NaN</td>\n",
       "      <td>0</td>\n",
       "      <td>NaN</td>\n",
       "      <td>55.000</td>\n",
       "      <td>95065.790</td>\n",
       "      <td>0</td>\n",
       "      <td>9</td>\n",
       "      <td>2018</td>\n",
       "      <td>другой</td>\n",
       "      <td>NaN</td>\n",
       "    </tr>\n",
       "  </tbody>\n",
       "</table>\n",
       "<p>5 rows × 28 columns</p>\n",
       "</div>"
      ],
      "text/plain": [
       "   total_images   last_price  total_area first_day_exposition  rooms  \\\n",
       "0            20 13000000.000     108.000           2019-03-07      3   \n",
       "1             7  3350000.000      40.400           2018-12-04      1   \n",
       "2            10  5196000.000      56.000           2015-08-20      2   \n",
       "4             2 10000000.000     100.000           2018-06-19      2   \n",
       "5            10  2890000.000      30.400           2018-09-10      1   \n",
       "\n",
       "   ceiling_height  floors_total  living_area  floor  is_apartment  ...  \\\n",
       "0           2.700        16.000       51.000      8         False  ...   \n",
       "1           2.650        11.000       18.600      1         False  ...   \n",
       "2           2.650         5.000       34.300      4         False  ...   \n",
       "4           3.030        14.000       32.000     13         False  ...   \n",
       "5           2.650        12.000       14.400      5         False  ...   \n",
       "\n",
       "   parks_nearest  ponds_around3000  ponds_nearest  days_exposition    m2price  \\\n",
       "0        482.000                 2        755.000              NaN 120370.370   \n",
       "1            NaN                 0            NaN           81.000  82920.790   \n",
       "2         90.000                 2        574.000          558.000  92785.710   \n",
       "4        112.000                 1         48.000          121.000 100000.000   \n",
       "5            NaN                 0            NaN           55.000  95065.790   \n",
       "\n",
       "   weekday  month  year  floor_type  km_to_center  \n",
       "0        3      3  2019      другой        16.000  \n",
       "1        1     12  2018      первый        19.000  \n",
       "2        3      8  2015      другой        14.000  \n",
       "4        1      6  2018      другой         8.000  \n",
       "5        0      9  2018      другой           NaN  \n",
       "\n",
       "[5 rows x 28 columns]"
      ]
     },
     "execution_count": 48,
     "metadata": {},
     "output_type": "execute_result"
    }
   ],
   "source": [
    "#эти данные можно отбросить 'rooms'\n",
    "df = df[df['rooms'] < 7]\n",
    "df.head()"
   ]
  },
  {
   "cell_type": "code",
   "execution_count": 49,
   "metadata": {},
   "outputs": [
    {
     "data": {
      "text/html": [
       "<div>\n",
       "<style scoped>\n",
       "    .dataframe tbody tr th:only-of-type {\n",
       "        vertical-align: middle;\n",
       "    }\n",
       "\n",
       "    .dataframe tbody tr th {\n",
       "        vertical-align: top;\n",
       "    }\n",
       "\n",
       "    .dataframe thead th {\n",
       "        text-align: right;\n",
       "    }\n",
       "</style>\n",
       "<table border=\"1\" class=\"dataframe\">\n",
       "  <thead>\n",
       "    <tr style=\"text-align: right;\">\n",
       "      <th></th>\n",
       "      <th>total_images</th>\n",
       "      <th>last_price</th>\n",
       "      <th>total_area</th>\n",
       "      <th>first_day_exposition</th>\n",
       "      <th>rooms</th>\n",
       "      <th>ceiling_height</th>\n",
       "      <th>floors_total</th>\n",
       "      <th>living_area</th>\n",
       "      <th>floor</th>\n",
       "      <th>is_apartment</th>\n",
       "      <th>...</th>\n",
       "      <th>parks_nearest</th>\n",
       "      <th>ponds_around3000</th>\n",
       "      <th>ponds_nearest</th>\n",
       "      <th>days_exposition</th>\n",
       "      <th>m2price</th>\n",
       "      <th>weekday</th>\n",
       "      <th>month</th>\n",
       "      <th>year</th>\n",
       "      <th>floor_type</th>\n",
       "      <th>km_to_center</th>\n",
       "    </tr>\n",
       "  </thead>\n",
       "  <tbody>\n",
       "    <tr>\n",
       "      <th>0</th>\n",
       "      <td>20</td>\n",
       "      <td>13000000.000</td>\n",
       "      <td>108.000</td>\n",
       "      <td>2019-03-07</td>\n",
       "      <td>3</td>\n",
       "      <td>2.700</td>\n",
       "      <td>16.000</td>\n",
       "      <td>51.000</td>\n",
       "      <td>8</td>\n",
       "      <td>False</td>\n",
       "      <td>...</td>\n",
       "      <td>482.000</td>\n",
       "      <td>2</td>\n",
       "      <td>755.000</td>\n",
       "      <td>NaN</td>\n",
       "      <td>120370.370</td>\n",
       "      <td>3</td>\n",
       "      <td>3</td>\n",
       "      <td>2019</td>\n",
       "      <td>другой</td>\n",
       "      <td>16.000</td>\n",
       "    </tr>\n",
       "    <tr>\n",
       "      <th>1</th>\n",
       "      <td>7</td>\n",
       "      <td>3350000.000</td>\n",
       "      <td>40.400</td>\n",
       "      <td>2018-12-04</td>\n",
       "      <td>1</td>\n",
       "      <td>2.650</td>\n",
       "      <td>11.000</td>\n",
       "      <td>18.600</td>\n",
       "      <td>1</td>\n",
       "      <td>False</td>\n",
       "      <td>...</td>\n",
       "      <td>NaN</td>\n",
       "      <td>0</td>\n",
       "      <td>NaN</td>\n",
       "      <td>81.000</td>\n",
       "      <td>82920.790</td>\n",
       "      <td>1</td>\n",
       "      <td>12</td>\n",
       "      <td>2018</td>\n",
       "      <td>первый</td>\n",
       "      <td>19.000</td>\n",
       "    </tr>\n",
       "    <tr>\n",
       "      <th>2</th>\n",
       "      <td>10</td>\n",
       "      <td>5196000.000</td>\n",
       "      <td>56.000</td>\n",
       "      <td>2015-08-20</td>\n",
       "      <td>2</td>\n",
       "      <td>2.650</td>\n",
       "      <td>5.000</td>\n",
       "      <td>34.300</td>\n",
       "      <td>4</td>\n",
       "      <td>False</td>\n",
       "      <td>...</td>\n",
       "      <td>90.000</td>\n",
       "      <td>2</td>\n",
       "      <td>574.000</td>\n",
       "      <td>558.000</td>\n",
       "      <td>92785.710</td>\n",
       "      <td>3</td>\n",
       "      <td>8</td>\n",
       "      <td>2015</td>\n",
       "      <td>другой</td>\n",
       "      <td>14.000</td>\n",
       "    </tr>\n",
       "    <tr>\n",
       "      <th>4</th>\n",
       "      <td>2</td>\n",
       "      <td>10000000.000</td>\n",
       "      <td>100.000</td>\n",
       "      <td>2018-06-19</td>\n",
       "      <td>2</td>\n",
       "      <td>3.030</td>\n",
       "      <td>14.000</td>\n",
       "      <td>32.000</td>\n",
       "      <td>13</td>\n",
       "      <td>False</td>\n",
       "      <td>...</td>\n",
       "      <td>112.000</td>\n",
       "      <td>1</td>\n",
       "      <td>48.000</td>\n",
       "      <td>121.000</td>\n",
       "      <td>100000.000</td>\n",
       "      <td>1</td>\n",
       "      <td>6</td>\n",
       "      <td>2018</td>\n",
       "      <td>другой</td>\n",
       "      <td>8.000</td>\n",
       "    </tr>\n",
       "    <tr>\n",
       "      <th>5</th>\n",
       "      <td>10</td>\n",
       "      <td>2890000.000</td>\n",
       "      <td>30.400</td>\n",
       "      <td>2018-09-10</td>\n",
       "      <td>1</td>\n",
       "      <td>2.650</td>\n",
       "      <td>12.000</td>\n",
       "      <td>14.400</td>\n",
       "      <td>5</td>\n",
       "      <td>False</td>\n",
       "      <td>...</td>\n",
       "      <td>NaN</td>\n",
       "      <td>0</td>\n",
       "      <td>NaN</td>\n",
       "      <td>55.000</td>\n",
       "      <td>95065.790</td>\n",
       "      <td>0</td>\n",
       "      <td>9</td>\n",
       "      <td>2018</td>\n",
       "      <td>другой</td>\n",
       "      <td>NaN</td>\n",
       "    </tr>\n",
       "  </tbody>\n",
       "</table>\n",
       "<p>5 rows × 28 columns</p>\n",
       "</div>"
      ],
      "text/plain": [
       "   total_images   last_price  total_area first_day_exposition  rooms  \\\n",
       "0            20 13000000.000     108.000           2019-03-07      3   \n",
       "1             7  3350000.000      40.400           2018-12-04      1   \n",
       "2            10  5196000.000      56.000           2015-08-20      2   \n",
       "4             2 10000000.000     100.000           2018-06-19      2   \n",
       "5            10  2890000.000      30.400           2018-09-10      1   \n",
       "\n",
       "   ceiling_height  floors_total  living_area  floor  is_apartment  ...  \\\n",
       "0           2.700        16.000       51.000      8         False  ...   \n",
       "1           2.650        11.000       18.600      1         False  ...   \n",
       "2           2.650         5.000       34.300      4         False  ...   \n",
       "4           3.030        14.000       32.000     13         False  ...   \n",
       "5           2.650        12.000       14.400      5         False  ...   \n",
       "\n",
       "   parks_nearest  ponds_around3000  ponds_nearest  days_exposition    m2price  \\\n",
       "0        482.000                 2        755.000              NaN 120370.370   \n",
       "1            NaN                 0            NaN           81.000  82920.790   \n",
       "2         90.000                 2        574.000          558.000  92785.710   \n",
       "4        112.000                 1         48.000          121.000 100000.000   \n",
       "5            NaN                 0            NaN           55.000  95065.790   \n",
       "\n",
       "   weekday  month  year  floor_type  km_to_center  \n",
       "0        3      3  2019      другой        16.000  \n",
       "1        1     12  2018      первый        19.000  \n",
       "2        3      8  2015      другой        14.000  \n",
       "4        1      6  2018      другой         8.000  \n",
       "5        0      9  2018      другой           NaN  \n",
       "\n",
       "[5 rows x 28 columns]"
      ]
     },
     "execution_count": 49,
     "metadata": {},
     "output_type": "execute_result"
    }
   ],
   "source": [
    "#эти данные можно отбросить 'floors_total'\n",
    "df = df[df['floors_total'] < 30]\n",
    "df.head()"
   ]
  },
  {
   "cell_type": "code",
   "execution_count": 50,
   "metadata": {},
   "outputs": [
    {
     "data": {
      "text/html": [
       "<div>\n",
       "<style scoped>\n",
       "    .dataframe tbody tr th:only-of-type {\n",
       "        vertical-align: middle;\n",
       "    }\n",
       "\n",
       "    .dataframe tbody tr th {\n",
       "        vertical-align: top;\n",
       "    }\n",
       "\n",
       "    .dataframe thead th {\n",
       "        text-align: right;\n",
       "    }\n",
       "</style>\n",
       "<table border=\"1\" class=\"dataframe\">\n",
       "  <thead>\n",
       "    <tr style=\"text-align: right;\">\n",
       "      <th></th>\n",
       "      <th>total_images</th>\n",
       "      <th>last_price</th>\n",
       "      <th>total_area</th>\n",
       "      <th>first_day_exposition</th>\n",
       "      <th>rooms</th>\n",
       "      <th>ceiling_height</th>\n",
       "      <th>floors_total</th>\n",
       "      <th>living_area</th>\n",
       "      <th>floor</th>\n",
       "      <th>is_apartment</th>\n",
       "      <th>...</th>\n",
       "      <th>parks_nearest</th>\n",
       "      <th>ponds_around3000</th>\n",
       "      <th>ponds_nearest</th>\n",
       "      <th>days_exposition</th>\n",
       "      <th>m2price</th>\n",
       "      <th>weekday</th>\n",
       "      <th>month</th>\n",
       "      <th>year</th>\n",
       "      <th>floor_type</th>\n",
       "      <th>km_to_center</th>\n",
       "    </tr>\n",
       "  </thead>\n",
       "  <tbody>\n",
       "    <tr>\n",
       "      <th>0</th>\n",
       "      <td>20</td>\n",
       "      <td>13000000.000</td>\n",
       "      <td>108.000</td>\n",
       "      <td>2019-03-07</td>\n",
       "      <td>3</td>\n",
       "      <td>2.700</td>\n",
       "      <td>16.000</td>\n",
       "      <td>51.000</td>\n",
       "      <td>8</td>\n",
       "      <td>False</td>\n",
       "      <td>...</td>\n",
       "      <td>482.000</td>\n",
       "      <td>2</td>\n",
       "      <td>755.000</td>\n",
       "      <td>NaN</td>\n",
       "      <td>120370.370</td>\n",
       "      <td>3</td>\n",
       "      <td>3</td>\n",
       "      <td>2019</td>\n",
       "      <td>другой</td>\n",
       "      <td>16.000</td>\n",
       "    </tr>\n",
       "    <tr>\n",
       "      <th>1</th>\n",
       "      <td>7</td>\n",
       "      <td>3350000.000</td>\n",
       "      <td>40.400</td>\n",
       "      <td>2018-12-04</td>\n",
       "      <td>1</td>\n",
       "      <td>2.650</td>\n",
       "      <td>11.000</td>\n",
       "      <td>18.600</td>\n",
       "      <td>1</td>\n",
       "      <td>False</td>\n",
       "      <td>...</td>\n",
       "      <td>NaN</td>\n",
       "      <td>0</td>\n",
       "      <td>NaN</td>\n",
       "      <td>81.000</td>\n",
       "      <td>82920.790</td>\n",
       "      <td>1</td>\n",
       "      <td>12</td>\n",
       "      <td>2018</td>\n",
       "      <td>первый</td>\n",
       "      <td>19.000</td>\n",
       "    </tr>\n",
       "    <tr>\n",
       "      <th>2</th>\n",
       "      <td>10</td>\n",
       "      <td>5196000.000</td>\n",
       "      <td>56.000</td>\n",
       "      <td>2015-08-20</td>\n",
       "      <td>2</td>\n",
       "      <td>2.650</td>\n",
       "      <td>5.000</td>\n",
       "      <td>34.300</td>\n",
       "      <td>4</td>\n",
       "      <td>False</td>\n",
       "      <td>...</td>\n",
       "      <td>90.000</td>\n",
       "      <td>2</td>\n",
       "      <td>574.000</td>\n",
       "      <td>558.000</td>\n",
       "      <td>92785.710</td>\n",
       "      <td>3</td>\n",
       "      <td>8</td>\n",
       "      <td>2015</td>\n",
       "      <td>другой</td>\n",
       "      <td>14.000</td>\n",
       "    </tr>\n",
       "    <tr>\n",
       "      <th>4</th>\n",
       "      <td>2</td>\n",
       "      <td>10000000.000</td>\n",
       "      <td>100.000</td>\n",
       "      <td>2018-06-19</td>\n",
       "      <td>2</td>\n",
       "      <td>3.030</td>\n",
       "      <td>14.000</td>\n",
       "      <td>32.000</td>\n",
       "      <td>13</td>\n",
       "      <td>False</td>\n",
       "      <td>...</td>\n",
       "      <td>112.000</td>\n",
       "      <td>1</td>\n",
       "      <td>48.000</td>\n",
       "      <td>121.000</td>\n",
       "      <td>100000.000</td>\n",
       "      <td>1</td>\n",
       "      <td>6</td>\n",
       "      <td>2018</td>\n",
       "      <td>другой</td>\n",
       "      <td>8.000</td>\n",
       "    </tr>\n",
       "    <tr>\n",
       "      <th>6</th>\n",
       "      <td>6</td>\n",
       "      <td>3700000.000</td>\n",
       "      <td>37.300</td>\n",
       "      <td>2017-11-02</td>\n",
       "      <td>1</td>\n",
       "      <td>2.650</td>\n",
       "      <td>26.000</td>\n",
       "      <td>10.600</td>\n",
       "      <td>6</td>\n",
       "      <td>False</td>\n",
       "      <td>...</td>\n",
       "      <td>NaN</td>\n",
       "      <td>0</td>\n",
       "      <td>NaN</td>\n",
       "      <td>155.000</td>\n",
       "      <td>99195.710</td>\n",
       "      <td>3</td>\n",
       "      <td>11</td>\n",
       "      <td>2017</td>\n",
       "      <td>другой</td>\n",
       "      <td>19.000</td>\n",
       "    </tr>\n",
       "  </tbody>\n",
       "</table>\n",
       "<p>5 rows × 28 columns</p>\n",
       "</div>"
      ],
      "text/plain": [
       "   total_images   last_price  total_area first_day_exposition  rooms  \\\n",
       "0            20 13000000.000     108.000           2019-03-07      3   \n",
       "1             7  3350000.000      40.400           2018-12-04      1   \n",
       "2            10  5196000.000      56.000           2015-08-20      2   \n",
       "4             2 10000000.000     100.000           2018-06-19      2   \n",
       "6             6  3700000.000      37.300           2017-11-02      1   \n",
       "\n",
       "   ceiling_height  floors_total  living_area  floor  is_apartment  ...  \\\n",
       "0           2.700        16.000       51.000      8         False  ...   \n",
       "1           2.650        11.000       18.600      1         False  ...   \n",
       "2           2.650         5.000       34.300      4         False  ...   \n",
       "4           3.030        14.000       32.000     13         False  ...   \n",
       "6           2.650        26.000       10.600      6         False  ...   \n",
       "\n",
       "   parks_nearest  ponds_around3000  ponds_nearest  days_exposition    m2price  \\\n",
       "0        482.000                 2        755.000              NaN 120370.370   \n",
       "1            NaN                 0            NaN           81.000  82920.790   \n",
       "2         90.000                 2        574.000          558.000  92785.710   \n",
       "4        112.000                 1         48.000          121.000 100000.000   \n",
       "6            NaN                 0            NaN          155.000  99195.710   \n",
       "\n",
       "   weekday  month  year  floor_type  km_to_center  \n",
       "0        3      3  2019      другой        16.000  \n",
       "1        1     12  2018      первый        19.000  \n",
       "2        3      8  2015      другой        14.000  \n",
       "4        1      6  2018      другой         8.000  \n",
       "6        3     11  2017      другой        19.000  \n",
       "\n",
       "[5 rows x 28 columns]"
      ]
     },
     "execution_count": 50,
     "metadata": {},
     "output_type": "execute_result"
    }
   ],
   "source": [
    "#эти данные можно отбросить 'cityCenters_nearest'\n",
    "df = df[df['cityCenters_nearest'] < 55000]\n",
    "df.head()"
   ]
  },
  {
   "cell_type": "code",
   "execution_count": 51,
   "metadata": {},
   "outputs": [
    {
     "data": {
      "text/html": [
       "<div>\n",
       "<style scoped>\n",
       "    .dataframe tbody tr th:only-of-type {\n",
       "        vertical-align: middle;\n",
       "    }\n",
       "\n",
       "    .dataframe tbody tr th {\n",
       "        vertical-align: top;\n",
       "    }\n",
       "\n",
       "    .dataframe thead th {\n",
       "        text-align: right;\n",
       "    }\n",
       "</style>\n",
       "<table border=\"1\" class=\"dataframe\">\n",
       "  <thead>\n",
       "    <tr style=\"text-align: right;\">\n",
       "      <th></th>\n",
       "      <th>total_images</th>\n",
       "      <th>last_price</th>\n",
       "      <th>total_area</th>\n",
       "      <th>first_day_exposition</th>\n",
       "      <th>rooms</th>\n",
       "      <th>ceiling_height</th>\n",
       "      <th>floors_total</th>\n",
       "      <th>living_area</th>\n",
       "      <th>floor</th>\n",
       "      <th>is_apartment</th>\n",
       "      <th>...</th>\n",
       "      <th>parks_nearest</th>\n",
       "      <th>ponds_around3000</th>\n",
       "      <th>ponds_nearest</th>\n",
       "      <th>days_exposition</th>\n",
       "      <th>m2price</th>\n",
       "      <th>weekday</th>\n",
       "      <th>month</th>\n",
       "      <th>year</th>\n",
       "      <th>floor_type</th>\n",
       "      <th>km_to_center</th>\n",
       "    </tr>\n",
       "  </thead>\n",
       "  <tbody>\n",
       "    <tr>\n",
       "      <th>0</th>\n",
       "      <td>20</td>\n",
       "      <td>13000000.000</td>\n",
       "      <td>108.000</td>\n",
       "      <td>2019-03-07</td>\n",
       "      <td>3</td>\n",
       "      <td>2.700</td>\n",
       "      <td>16.000</td>\n",
       "      <td>51.000</td>\n",
       "      <td>8</td>\n",
       "      <td>False</td>\n",
       "      <td>...</td>\n",
       "      <td>482.000</td>\n",
       "      <td>2</td>\n",
       "      <td>755.000</td>\n",
       "      <td>NaN</td>\n",
       "      <td>120370.370</td>\n",
       "      <td>3</td>\n",
       "      <td>3</td>\n",
       "      <td>2019</td>\n",
       "      <td>другой</td>\n",
       "      <td>16.000</td>\n",
       "    </tr>\n",
       "    <tr>\n",
       "      <th>2</th>\n",
       "      <td>10</td>\n",
       "      <td>5196000.000</td>\n",
       "      <td>56.000</td>\n",
       "      <td>2015-08-20</td>\n",
       "      <td>2</td>\n",
       "      <td>2.650</td>\n",
       "      <td>5.000</td>\n",
       "      <td>34.300</td>\n",
       "      <td>4</td>\n",
       "      <td>False</td>\n",
       "      <td>...</td>\n",
       "      <td>90.000</td>\n",
       "      <td>2</td>\n",
       "      <td>574.000</td>\n",
       "      <td>558.000</td>\n",
       "      <td>92785.710</td>\n",
       "      <td>3</td>\n",
       "      <td>8</td>\n",
       "      <td>2015</td>\n",
       "      <td>другой</td>\n",
       "      <td>14.000</td>\n",
       "    </tr>\n",
       "    <tr>\n",
       "      <th>4</th>\n",
       "      <td>2</td>\n",
       "      <td>10000000.000</td>\n",
       "      <td>100.000</td>\n",
       "      <td>2018-06-19</td>\n",
       "      <td>2</td>\n",
       "      <td>3.030</td>\n",
       "      <td>14.000</td>\n",
       "      <td>32.000</td>\n",
       "      <td>13</td>\n",
       "      <td>False</td>\n",
       "      <td>...</td>\n",
       "      <td>112.000</td>\n",
       "      <td>1</td>\n",
       "      <td>48.000</td>\n",
       "      <td>121.000</td>\n",
       "      <td>100000.000</td>\n",
       "      <td>1</td>\n",
       "      <td>6</td>\n",
       "      <td>2018</td>\n",
       "      <td>другой</td>\n",
       "      <td>8.000</td>\n",
       "    </tr>\n",
       "    <tr>\n",
       "      <th>10</th>\n",
       "      <td>5</td>\n",
       "      <td>5050000.000</td>\n",
       "      <td>39.600</td>\n",
       "      <td>2017-11-16</td>\n",
       "      <td>1</td>\n",
       "      <td>2.670</td>\n",
       "      <td>12.000</td>\n",
       "      <td>20.300</td>\n",
       "      <td>3</td>\n",
       "      <td>False</td>\n",
       "      <td>...</td>\n",
       "      <td>310.000</td>\n",
       "      <td>2</td>\n",
       "      <td>553.000</td>\n",
       "      <td>137.000</td>\n",
       "      <td>127525.250</td>\n",
       "      <td>3</td>\n",
       "      <td>11</td>\n",
       "      <td>2017</td>\n",
       "      <td>другой</td>\n",
       "      <td>14.000</td>\n",
       "    </tr>\n",
       "    <tr>\n",
       "      <th>13</th>\n",
       "      <td>20</td>\n",
       "      <td>3550000.000</td>\n",
       "      <td>42.800</td>\n",
       "      <td>2017-07-01</td>\n",
       "      <td>2</td>\n",
       "      <td>2.560</td>\n",
       "      <td>5.000</td>\n",
       "      <td>27.000</td>\n",
       "      <td>5</td>\n",
       "      <td>False</td>\n",
       "      <td>...</td>\n",
       "      <td>294.000</td>\n",
       "      <td>3</td>\n",
       "      <td>298.000</td>\n",
       "      <td>366.000</td>\n",
       "      <td>82943.930</td>\n",
       "      <td>5</td>\n",
       "      <td>7</td>\n",
       "      <td>2017</td>\n",
       "      <td>последний</td>\n",
       "      <td>33.000</td>\n",
       "    </tr>\n",
       "  </tbody>\n",
       "</table>\n",
       "<p>5 rows × 28 columns</p>\n",
       "</div>"
      ],
      "text/plain": [
       "    total_images   last_price  total_area first_day_exposition  rooms  \\\n",
       "0             20 13000000.000     108.000           2019-03-07      3   \n",
       "2             10  5196000.000      56.000           2015-08-20      2   \n",
       "4              2 10000000.000     100.000           2018-06-19      2   \n",
       "10             5  5050000.000      39.600           2017-11-16      1   \n",
       "13            20  3550000.000      42.800           2017-07-01      2   \n",
       "\n",
       "    ceiling_height  floors_total  living_area  floor  is_apartment  ...  \\\n",
       "0            2.700        16.000       51.000      8         False  ...   \n",
       "2            2.650         5.000       34.300      4         False  ...   \n",
       "4            3.030        14.000       32.000     13         False  ...   \n",
       "10           2.670        12.000       20.300      3         False  ...   \n",
       "13           2.560         5.000       27.000      5         False  ...   \n",
       "\n",
       "    parks_nearest  ponds_around3000  ponds_nearest  days_exposition  \\\n",
       "0         482.000                 2        755.000              NaN   \n",
       "2          90.000                 2        574.000          558.000   \n",
       "4         112.000                 1         48.000          121.000   \n",
       "10        310.000                 2        553.000          137.000   \n",
       "13        294.000                 3        298.000          366.000   \n",
       "\n",
       "      m2price  weekday  month  year  floor_type  km_to_center  \n",
       "0  120370.370        3      3  2019      другой        16.000  \n",
       "2   92785.710        3      8  2015      другой        14.000  \n",
       "4  100000.000        1      6  2018      другой         8.000  \n",
       "10 127525.250        3     11  2017      другой        14.000  \n",
       "13  82943.930        5      7  2017   последний        33.000  \n",
       "\n",
       "[5 rows x 28 columns]"
      ]
     },
     "execution_count": 51,
     "metadata": {},
     "output_type": "execute_result"
    }
   ],
   "source": [
    "#эти данные можно отбросить 'parks_nearest'\n",
    "df = df[df['parks_nearest'] < 2500]\n",
    "df.head()"
   ]
  },
  {
   "cell_type": "code",
   "execution_count": 52,
   "metadata": {},
   "outputs": [],
   "source": [
    "#функция для корректировки значений высоты потолка\n",
    "def ceil_func(height):\n",
    "    if height >= 10.0:\n",
    "        return height / 10\n",
    "    else:\n",
    "        return height\n",
    "\n",
    "#скорректируем выдающиеся значения в столбце 'ceiling_heihgt'\n",
    "df['ceiling_height'] = df['ceiling_height'].apply(ceil_func)"
   ]
  },
  {
   "cell_type": "code",
   "execution_count": 53,
   "metadata": {},
   "outputs": [
    {
     "data": {
      "text/plain": [
       "count   7131.000\n",
       "mean       2.755\n",
       "std        0.300\n",
       "min        1.000\n",
       "25%        2.600\n",
       "50%        2.650\n",
       "75%        2.800\n",
       "max       10.000\n",
       "Name: ceiling_height, dtype: float64"
      ]
     },
     "execution_count": 53,
     "metadata": {},
     "output_type": "execute_result"
    },
    {
     "data": {
      "image/png": "[encoded data removed]",
      "text/plain": [
       "<Figure size 720x360 with 1 Axes>"
      ]
     },
     "metadata": {
      "needs_background": "light"
     },
     "output_type": "display_data"
    }
   ],
   "source": [
    "#проверка откоррекстированых значений столбца\n",
    "df['ceiling_height'].hist(bins=100, figsize=(10, 5))\n",
    "df['ceiling_height'].describe()"
   ]
  },
  {
   "cell_type": "markdown",
   "metadata": {},
   "source": [
    "Определим, как быстро продавались объекты недвижимости с помощью столбца 'days_exposition':"
   ]
  },
  {
   "cell_type": "code",
   "execution_count": 54,
   "metadata": {},
   "outputs": [
    {
     "data": {
      "text/plain": [
       "<AxesSubplot:>"
      ]
     },
     "execution_count": 54,
     "metadata": {},
     "output_type": "execute_result"
    },
    {
     "data": {
      "image/png": "[encoded data removed]",
      "text/plain": [
       "<Figure size 432x288 with 1 Axes>"
      ]
     },
     "metadata": {
      "needs_background": "light"
     },
     "output_type": "display_data"
    }
   ],
   "source": [
    "df['days_exposition'].hist(bins=100)"
   ]
  },
  {
   "cell_type": "code",
   "execution_count": 55,
   "metadata": {},
   "outputs": [
    {
     "name": "stdout",
     "output_type": "stream",
     "text": [
      "Среднее значение числа дней продажи: 196.07010949501552\n",
      "Медианное значение числа дней продажи: 108.0\n"
     ]
    }
   ],
   "source": [
    "print('Среднее значение числа дней продажи:', df['days_exposition'].mean())\n",
    "print('Медианное значение числа дней продажи:', df['days_exposition'].median())"
   ]
  },
  {
   "cell_type": "code",
   "execution_count": 56,
   "metadata": {},
   "outputs": [
    {
     "data": {
      "text/plain": [
       "<AxesSubplot:>"
      ]
     },
     "execution_count": 56,
     "metadata": {},
     "output_type": "execute_result"
    },
    {
     "data": {
      "image/png": "[encoded data removed]",
      "text/plain": [
       "<Figure size 432x288 with 1 Axes>"
      ]
     },
     "metadata": {
      "needs_background": "light"
     },
     "output_type": "display_data"
    }
   ],
   "source": [
    "#построим диаграмму размаха\n",
    "days_data = pd.DataFrame()\n",
    "days_data['days_exposition'] = df['days_exposition']\n",
    "plt.ylim(-100, 1000)\n",
    "days_data.boxplot()"
   ]
  },
  {
   "cell_type": "code",
   "execution_count": 57,
   "metadata": {},
   "outputs": [
    {
     "data": {
      "text/html": [
       "<div>\n",
       "<style scoped>\n",
       "    .dataframe tbody tr th:only-of-type {\n",
       "        vertical-align: middle;\n",
       "    }\n",
       "\n",
       "    .dataframe tbody tr th {\n",
       "        vertical-align: top;\n",
       "    }\n",
       "\n",
       "    .dataframe thead th {\n",
       "        text-align: right;\n",
       "    }\n",
       "</style>\n",
       "<table border=\"1\" class=\"dataframe\">\n",
       "  <thead>\n",
       "    <tr style=\"text-align: right;\">\n",
       "      <th></th>\n",
       "      <th>days_exposition</th>\n",
       "    </tr>\n",
       "  </thead>\n",
       "  <tbody>\n",
       "    <tr>\n",
       "      <th>count</th>\n",
       "      <td>6119.000</td>\n",
       "    </tr>\n",
       "    <tr>\n",
       "      <th>mean</th>\n",
       "      <td>196.070</td>\n",
       "    </tr>\n",
       "    <tr>\n",
       "      <th>std</th>\n",
       "      <td>233.973</td>\n",
       "    </tr>\n",
       "    <tr>\n",
       "      <th>min</th>\n",
       "      <td>1.000</td>\n",
       "    </tr>\n",
       "    <tr>\n",
       "      <th>25%</th>\n",
       "      <td>45.000</td>\n",
       "    </tr>\n",
       "    <tr>\n",
       "      <th>50%</th>\n",
       "      <td>108.000</td>\n",
       "    </tr>\n",
       "    <tr>\n",
       "      <th>75%</th>\n",
       "      <td>255.000</td>\n",
       "    </tr>\n",
       "    <tr>\n",
       "      <th>max</th>\n",
       "      <td>1572.000</td>\n",
       "    </tr>\n",
       "  </tbody>\n",
       "</table>\n",
       "</div>"
      ],
      "text/plain": [
       "       days_exposition\n",
       "count         6119.000\n",
       "mean           196.070\n",
       "std            233.973\n",
       "min              1.000\n",
       "25%             45.000\n",
       "50%            108.000\n",
       "75%            255.000\n",
       "max           1572.000"
      ]
     },
     "execution_count": 57,
     "metadata": {},
     "output_type": "execute_result"
    }
   ],
   "source": [
    "#получим описание датафрейма с днями от размещения до продажи\n",
    "days_data.describe()"
   ]
  },
  {
   "cell_type": "markdown",
   "metadata": {},
   "source": [
    "**Медианное значение** числа дней от размещения объявления до продажи - 108\n",
    "\n",
    "**Нормальными** можно считать значения в пределах 1.5 межквартильного размаха, т.е. от 1 до 574\n",
    "\n",
    "**Быстрыми** можно считать продажи, которые длятся менее 45 дней\n",
    "\n",
    "**Чрезвычайно медленные** продажи длятся более 574 дней"
   ]
  },
  {
   "cell_type": "code",
   "execution_count": 58,
   "metadata": {},
   "outputs": [
    {
     "name": "stdout",
     "output_type": "stream",
     "text": [
      "Количество чрезвычайно медленных продаж объектов: 466\n"
     ]
    }
   ],
   "source": [
    "print('Количество чрезвычайно медленных продаж объектов:', df[df['days_exposition'] > 574]['days_exposition'].count())"
   ]
  },
  {
   "cell_type": "markdown",
   "metadata": {},
   "source": [
    "**Определим, какие параметры влияют на стоимость объекта:**"
   ]
  },
  {
   "cell_type": "code",
   "execution_count": 59,
   "metadata": {},
   "outputs": [],
   "source": [
    "#список рассматриваемых параметров набора данных\n",
    "price_impact = ['total_area',\n",
    "               'living_area',\n",
    "               'kitchen_area',\n",
    "               'rooms',\n",
    "               'floor_type',\n",
    "               'weekday',\n",
    "               'month',\n",
    "               'year']"
   ]
  },
  {
   "cell_type": "code",
   "execution_count": 60,
   "metadata": {},
   "outputs": [],
   "source": [
    "#функция для отрисовки диаграмм корреляции\n",
    "def corr_func(param):\n",
    "    df.plot(x=param, y='last_price', kind='scatter')\n",
    "    plt.show()\n",
    "    print('Коэффициент корреляции цены от', param, \":\", df[param].corr(df[\"last_price\"]))"
   ]
  },
  {
   "cell_type": "code",
   "execution_count": 61,
   "metadata": {},
   "outputs": [
    {
     "data": {
      "image/png": "[encoded data removed]",
      "text/plain": [
       "<Figure size 432x288 with 1 Axes>"
      ]
     },
     "metadata": {
      "needs_background": "light"
     },
     "output_type": "display_data"
    },
    {
     "name": "stdout",
     "output_type": "stream",
     "text": [
      "Коэффициент корреляции цены от total_area : 0.648331100412092\n"
     ]
    },
    {
     "data": {
      "image/png": "[encoded data removed]",
      "text/plain": [
       "<Figure size 432x288 with 1 Axes>"
      ]
     },
     "metadata": {
      "needs_background": "light"
     },
     "output_type": "display_data"
    },
    {
     "name": "stdout",
     "output_type": "stream",
     "text": [
      "Коэффициент корреляции цены от living_area : 0.5761409412096055\n"
     ]
    },
    {
     "data": {
      "image/png": "[encoded data removed]",
      "text/plain": [
       "<Figure size 432x288 with 1 Axes>"
      ]
     },
     "metadata": {
      "needs_background": "light"
     },
     "output_type": "display_data"
    },
    {
     "name": "stdout",
     "output_type": "stream",
     "text": [
      "Коэффициент корреляции цены от kitchen_area : 0.45872529378248406\n"
     ]
    },
    {
     "data": {
      "image/png": "[encoded data removed]",
      "text/plain": [
       "<Figure size 432x288 with 1 Axes>"
      ]
     },
     "metadata": {
      "needs_background": "light"
     },
     "output_type": "display_data"
    },
    {
     "name": "stdout",
     "output_type": "stream",
     "text": [
      "Коэффициент корреляции цены от rooms : 0.3841478855673642\n"
     ]
    },
    {
     "data": {
      "image/png": "[encoded data removed]",
      "text/plain": [
       "<Figure size 432x288 with 1 Axes>"
      ]
     },
     "metadata": {
      "needs_background": "light"
     },
     "output_type": "display_data"
    },
    {
     "name": "stdout",
     "output_type": "stream",
     "text": [
      "Не сработало с параметром floor_type\n"
     ]
    },
    {
     "data": {
      "image/png": "[encoded data removed]",
      "text/plain": [
       "<Figure size 432x288 with 1 Axes>"
      ]
     },
     "metadata": {
      "needs_background": "light"
     },
     "output_type": "display_data"
    },
    {
     "name": "stdout",
     "output_type": "stream",
     "text": [
      "Коэффициент корреляции цены от weekday : -0.012199748093868826\n"
     ]
    },
    {
     "data": {
      "image/png": "[encoded data removed]",
      "text/plain": [
       "<Figure size 432x288 with 1 Axes>"
      ]
     },
     "metadata": {
      "needs_background": "light"
     },
     "output_type": "display_data"
    },
    {
     "name": "stdout",
     "output_type": "stream",
     "text": [
      "Коэффициент корреляции цены от month : 0.005531731177970437\n"
     ]
    },
    {
     "data": {
      "image/png": "[encoded data removed]",
      "text/plain": [
       "<Figure size 432x288 with 1 Axes>"
      ]
     },
     "metadata": {
      "needs_background": "light"
     },
     "output_type": "display_data"
    },
    {
     "name": "stdout",
     "output_type": "stream",
     "text": [
      "Коэффициент корреляции цены от year : -0.058900004310714654\n"
     ]
    }
   ],
   "source": [
    "#применим функцию к параметрам\n",
    "for param in price_impact:\n",
    "    try:\n",
    "        corr_func(param)\n",
    "    except:\n",
    "        print('Не сработало с параметром', param)"
   ]
  },
  {
   "cell_type": "markdown",
   "metadata": {},
   "source": [
    "**Сильнее всего цена на объект недвижимости зависит от параметров:**\n",
    "\n",
    "1. Общая площадь\n",
    "\n",
    "2. Жилая площадь\n",
    "\n",
    "3. Площадь кухни\n",
    "\n",
    "4. Количество комнат"
   ]
  },
  {
   "cell_type": "markdown",
   "metadata": {},
   "source": [
    "**Определим цену одного квадратного метра в 10 населенных пунктах с наибольшим числом объявлений**"
   ]
  },
  {
   "cell_type": "code",
   "execution_count": 62,
   "metadata": {},
   "outputs": [
    {
     "data": {
      "text/html": [
       "<div>\n",
       "<style scoped>\n",
       "    .dataframe tbody tr th:only-of-type {\n",
       "        vertical-align: middle;\n",
       "    }\n",
       "\n",
       "    .dataframe tbody tr th {\n",
       "        vertical-align: top;\n",
       "    }\n",
       "\n",
       "    .dataframe thead th {\n",
       "        text-align: right;\n",
       "    }\n",
       "</style>\n",
       "<table border=\"1\" class=\"dataframe\">\n",
       "  <thead>\n",
       "    <tr style=\"text-align: right;\">\n",
       "      <th></th>\n",
       "      <th>m2price</th>\n",
       "    </tr>\n",
       "    <tr>\n",
       "      <th>locality_name</th>\n",
       "      <th></th>\n",
       "    </tr>\n",
       "  </thead>\n",
       "  <tbody>\n",
       "    <tr>\n",
       "      <th>Санкт-Петербург</th>\n",
       "      <td>119809.697</td>\n",
       "    </tr>\n",
       "    <tr>\n",
       "      <th>Сестрорецк</th>\n",
       "      <td>107330.777</td>\n",
       "    </tr>\n",
       "    <tr>\n",
       "      <th>Пушкин</th>\n",
       "      <td>104999.384</td>\n",
       "    </tr>\n",
       "    <tr>\n",
       "      <th>Зеленогорск</th>\n",
       "      <td>104801.397</td>\n",
       "    </tr>\n",
       "    <tr>\n",
       "      <th>Павловск</th>\n",
       "      <td>91291.021</td>\n",
       "    </tr>\n",
       "    <tr>\n",
       "      <th>Стрельна</th>\n",
       "      <td>88299.522</td>\n",
       "    </tr>\n",
       "    <tr>\n",
       "      <th>Петергоф</th>\n",
       "      <td>84735.686</td>\n",
       "    </tr>\n",
       "    <tr>\n",
       "      <th>Парголово</th>\n",
       "      <td>81360.781</td>\n",
       "    </tr>\n",
       "    <tr>\n",
       "      <th>Кронштадт</th>\n",
       "      <td>79920.284</td>\n",
       "    </tr>\n",
       "    <tr>\n",
       "      <th>Колпино</th>\n",
       "      <td>75572.331</td>\n",
       "    </tr>\n",
       "  </tbody>\n",
       "</table>\n",
       "</div>"
      ],
      "text/plain": [
       "                   m2price\n",
       "locality_name             \n",
       "Санкт-Петербург 119809.697\n",
       "Сестрорецк      107330.777\n",
       "Пушкин          104999.384\n",
       "Зеленогорск     104801.397\n",
       "Павловск         91291.021\n",
       "Стрельна         88299.522\n",
       "Петергоф         84735.686\n",
       "Парголово        81360.781\n",
       "Кронштадт        79920.284\n",
       "Колпино          75572.331"
      ]
     },
     "metadata": {},
     "output_type": "display_data"
    }
   ],
   "source": [
    "biggest_localities = (df.pivot_table(index='locality_name', \n",
    "                                    values='m2price', \n",
    "                                    aggfunc='mean')\n",
    "                                    .sort_values(by='m2price', \n",
    "                                    ascending=False)\n",
    "                                    [0:10]\n",
    "                     )\n",
    "display(biggest_localities)"
   ]
  },
  {
   "cell_type": "code",
   "execution_count": 63,
   "metadata": {},
   "outputs": [
    {
     "name": "stdout",
     "output_type": "stream",
     "text": [
      "Самая высокая цена за м2:                    m2price\n",
      "locality_name             \n",
      "Санкт-Петербург 119809.697\n",
      "Самая низкая цена за м2:                 m2price\n",
      "locality_name          \n",
      "Колпино       75572.331\n"
     ]
    }
   ],
   "source": [
    "print('Самая высокая цена за м2:', biggest_localities[0:1])\n",
    "\n",
    "print('Самая низкая цена за м2:', biggest_localities[-1:])"
   ]
  },
  {
   "cell_type": "markdown",
   "metadata": {},
   "source": [
    "Самая высокая цена квадратного метра оказалась в Санкт-Петербурге 119809.697.\n",
    "\n",
    "Самая низкая в Колпино 75572,331."
   ]
  },
  {
   "cell_type": "markdown",
   "metadata": {},
   "source": [
    "**Определим, как стоимость объекта зависит от расстояния до центра**"
   ]
  },
  {
   "cell_type": "code",
   "execution_count": 64,
   "metadata": {},
   "outputs": [
    {
     "name": "stdout",
     "output_type": "stream",
     "text": [
      "Санкт-Петербург\n",
      "               last_price\n",
      "km_to_center             \n",
      "0.000        28364081.400\n",
      "1.000        21340776.555\n",
      "2.000        16331066.726\n",
      "3.000        10529644.071\n",
      "4.000        11909699.446\n",
      "5.000        11316650.905\n",
      "6.000        14791182.226\n",
      "7.000        15779978.551\n",
      "8.000         9760611.990\n",
      "9.000         7506000.706\n",
      "10.000        6992681.258\n",
      "11.000        6635089.651\n",
      "12.000        6169635.133\n",
      "13.000        6467367.547\n",
      "14.000        5301402.164\n",
      "15.000        5330449.132\n",
      "16.000        5509701.683\n",
      "17.000        5890082.421\n",
      "18.000        4622500.000\n",
      "19.000        4555365.000\n",
      "20.000        5916666.667\n",
      "21.000        3819285.714\n",
      "22.000        4050000.000\n",
      "25.000        4628333.333\n",
      "26.000        4122000.000\n",
      "27.000       14350000.000\n",
      "28.000        6950000.000\n"
     ]
    },
    {
     "data": {
      "image/png": "[encoded data removed]",
      "text/plain": [
       "<Figure size 720x360 with 1 Axes>"
      ]
     },
     "metadata": {
      "needs_background": "light"
     },
     "output_type": "display_data"
    }
   ],
   "source": [
    "#проведем фильтрацию объектов, чтобы в итоговый результат не попало пустых строк\n",
    "df = df.dropna(subset=['locality_name','last_price', 'km_to_center'], axis=0)\n",
    "\n",
    "#для Санкт-Петербурга определим в цикле стоимость объектов на разном удалении от центра\n",
    "\n",
    "locality_data = df[df['locality_name'] == \"Санкт-Петербург\"]\n",
    "#вывод текстовой информации\n",
    "print(\"Санкт-Петербург\")\n",
    "print(locality_data.pivot_table(\n",
    "    index='km_to_center',\n",
    "    values='last_price',\n",
    "    aggfunc='mean')\n",
    "    .sort_values(by='km_to_center', ascending=True)\n",
    "     )\n",
    "#вывод графика\n",
    "(\n",
    "locality_data.pivot_table(\n",
    "    index='km_to_center',\n",
    "    values='last_price',\n",
    "    aggfunc='mean')\n",
    "    .sort_values(by='km_to_center', ascending=True)\n",
    "    .plot(kind='line', title=\"Санкт-Петербург\", xlabel='Расстояние от центра', ylabel='Стоимость', figsize=(10, 5))\n",
    ")\n",
    "plt.show()"
   ]
  },
  {
   "cell_type": "markdown",
   "metadata": {},
   "source": [
    "**Для объектов в Санкт-Петербурге прослеживается зависимость стоимости объекта недвижимости от значения расстояния до центра города. Чем ближе к центру города, тем выше стоимость объекта.**"
   ]
  },
  {
   "cell_type": "markdown",
   "metadata": {
    "id": "h7VpzkIDAwb-"
   },
   "source": [
    "### Напишите общий вывод"
   ]
  },
  {
   "cell_type": "markdown",
   "metadata": {},
   "source": [
    "**1. Предобработка данных:**\n",
    "\n",
    "В ходе предобработки данных были устранены пропуски в данных. Часть из них может быть связана с техническими ошибками (balcony), можно заполнить эти данные значением 0. Другая часть данных вероятнее всего отсутствует в результате ошибки человека (floors_total, is_apartment), эти данные были заполнены по смыслу содержащихся в них характеристик. Пропуски количественной переменной ceiling_height были заполнены медианным значением. Выполнена обработка выделяющихся значений \"выбросов\" в столбце \"ceiling_height\", все высоты потолков более 10 метров были приведены к правильным значениям. По столбцам \"total_area\", \"living_area\", \"kitchen_area\", \"rooms\", \"floors_total\", \"cityCenters_nearest\", \"parks_nearest\" были отброшены выбивающиеся и одновременно редкие значения. Произведено преобразование типов данных для работы с датой, количественными характеристиками.\n",
    "\n",
    "**2. Выявленные зависимости:**\n",
    "\n",
    "Для изучения данных добавлены столбцы с ценой за квадратный метр, днем недели, месяцем, годом продажи, типом этажа и расстоянием в километрах до центра.\n",
    "\n",
    "2.1. Медианное значение числа дней от размещения объявления до продажи - 108. Нормальными можно считать значения от 1 до 574. Самые быстрые продажи происходят менее чем за 45 дней. Чрезвычайно медленные продажи длятся более 574 дней.\n",
    "\n",
    "2.2. Сильнее всего на цену на объект недвижимости влияют: общая площадь, жилая площадь, площадь кухни, количество комнат.\n",
    "\n",
    "2.3. Самая высокая цена квадратного метра оказалась в Санкт-Петербурге 119809.697. Самая низкая в Колпино 75572,331.\n",
    "\n",
    "2.4 Для объектов в Санкт-Петербурге определена зависимость: чем ближе к центру города, тем выше стоимость объекта.\n",
    "\n",
    "\n",
    "**3. Какие параметры влияют на стоимость объекта:**\n",
    "\n",
    "В соответствии с целью исследования, можно сделать вывод, что на стоимость объекта сильнее всего влияют такие параметры как:\n",
    "\n",
    "1. расстояние до центра города\n",
    "\n",
    "2. площадь объекта\n",
    "\n",
    "3. количество комнат\n",
    "\n",
    "**4. Рекомендации заказчику:**\n",
    "\n",
    "Для автоматизации оценки стоимости объекта, отслеживания аномалий и мошеннической деятельности стоит руководствоваться приведенными выше параметрами. Для оценки адекватности стоимости также можно пользоваться информацией о стоимости квадратного метра в каждом населенном пункте с учетом расстояния от центра.\n"
   ]
  }
 ],
 "metadata": {
  "ExecuteTimeLog": [
   {
    "duration": 46,
    "start_time": "2024-07-27T11:48:22.855Z"
   },
   {
    "duration": 393,
    "start_time": "2024-07-27T11:48:44.416Z"
   },
   {
    "duration": 160,
    "start_time": "2024-07-27T11:48:46.867Z"
   },
   {
    "duration": 112,
    "start_time": "2024-07-27T11:49:11.482Z"
   },
   {
    "duration": 21,
    "start_time": "2024-07-27T11:51:40.897Z"
   },
   {
    "duration": 13,
    "start_time": "2024-07-27T11:51:51.402Z"
   },
   {
    "duration": 2107,
    "start_time": "2024-07-27T11:53:32.795Z"
   },
   {
    "duration": 24,
    "start_time": "2024-07-27T11:55:17.182Z"
   },
   {
    "duration": 10,
    "start_time": "2024-07-27T11:55:24.264Z"
   },
   {
    "duration": 37,
    "start_time": "2024-07-27T11:55:47.031Z"
   },
   {
    "duration": 23,
    "start_time": "2024-07-27T12:02:15.327Z"
   },
   {
    "duration": 48,
    "start_time": "2024-07-27T12:02:34.096Z"
   },
   {
    "duration": 22,
    "start_time": "2024-07-27T12:02:44.152Z"
   },
   {
    "duration": 8,
    "start_time": "2024-07-27T12:02:52.657Z"
   },
   {
    "duration": 3,
    "start_time": "2024-07-27T12:07:08.822Z"
   },
   {
    "duration": 6,
    "start_time": "2024-07-27T12:07:32.916Z"
   },
   {
    "duration": 7,
    "start_time": "2024-07-27T12:11:53.323Z"
   },
   {
    "duration": 9,
    "start_time": "2024-07-27T12:12:44.450Z"
   },
   {
    "duration": 4,
    "start_time": "2024-07-27T12:33:56.131Z"
   },
   {
    "duration": 4,
    "start_time": "2024-07-27T12:34:16.389Z"
   },
   {
    "duration": 6,
    "start_time": "2024-07-27T12:35:35.770Z"
   },
   {
    "duration": 5,
    "start_time": "2024-07-27T12:40:19.489Z"
   },
   {
    "duration": 4,
    "start_time": "2024-07-27T12:40:23.676Z"
   },
   {
    "duration": 5,
    "start_time": "2024-07-27T12:42:39.262Z"
   },
   {
    "duration": 5,
    "start_time": "2024-07-27T12:47:17.304Z"
   },
   {
    "duration": 7,
    "start_time": "2024-07-27T12:54:37.890Z"
   },
   {
    "duration": 8,
    "start_time": "2024-07-27T12:54:50.985Z"
   },
   {
    "duration": 24,
    "start_time": "2024-07-27T12:55:12.659Z"
   },
   {
    "duration": 995,
    "start_time": "2024-07-27T13:03:08.382Z"
   },
   {
    "duration": 6,
    "start_time": "2024-07-27T13:03:20.132Z"
   },
   {
    "duration": 7,
    "start_time": "2024-07-27T13:31:28.029Z"
   },
   {
    "duration": 3,
    "start_time": "2024-07-27T13:58:16.440Z"
   },
   {
    "duration": 68,
    "start_time": "2024-07-27T13:58:30.288Z"
   },
   {
    "duration": 8,
    "start_time": "2024-07-27T13:58:37.448Z"
   },
   {
    "duration": 4,
    "start_time": "2024-07-27T13:58:58.664Z"
   },
   {
    "duration": 10,
    "start_time": "2024-07-27T13:59:11.957Z"
   },
   {
    "duration": 9,
    "start_time": "2024-07-27T14:02:22.335Z"
   },
   {
    "duration": 7,
    "start_time": "2024-07-27T14:03:39.861Z"
   },
   {
    "duration": 11,
    "start_time": "2024-07-27T14:04:11.761Z"
   },
   {
    "duration": 3,
    "start_time": "2024-07-27T14:06:08.412Z"
   },
   {
    "duration": 4,
    "start_time": "2024-07-27T14:06:54.092Z"
   },
   {
    "duration": 5,
    "start_time": "2024-07-27T14:07:30.683Z"
   },
   {
    "duration": 12,
    "start_time": "2024-07-27T14:07:53.294Z"
   },
   {
    "duration": 3,
    "start_time": "2024-07-27T14:09:28.493Z"
   },
   {
    "duration": 3,
    "start_time": "2024-07-27T14:10:02.282Z"
   },
   {
    "duration": 3,
    "start_time": "2024-07-27T14:10:32.833Z"
   },
   {
    "duration": 5,
    "start_time": "2024-07-27T14:11:05.994Z"
   },
   {
    "duration": 18,
    "start_time": "2024-07-27T14:11:57.124Z"
   },
   {
    "duration": 3,
    "start_time": "2024-07-27T14:13:45.397Z"
   },
   {
    "duration": 11,
    "start_time": "2024-07-27T14:13:55.346Z"
   },
   {
    "duration": 4,
    "start_time": "2024-07-27T14:15:58.296Z"
   },
   {
    "duration": 4,
    "start_time": "2024-07-27T14:16:49.777Z"
   },
   {
    "duration": 4,
    "start_time": "2024-07-27T14:16:54.774Z"
   },
   {
    "duration": 11,
    "start_time": "2024-07-27T14:16:57.777Z"
   },
   {
    "duration": 4,
    "start_time": "2024-07-27T14:17:28.680Z"
   },
   {
    "duration": 3,
    "start_time": "2024-07-27T14:17:31.218Z"
   },
   {
    "duration": 3,
    "start_time": "2024-07-27T14:17:31.803Z"
   },
   {
    "duration": 3,
    "start_time": "2024-07-27T14:17:32.330Z"
   },
   {
    "duration": 12,
    "start_time": "2024-07-27T14:17:32.937Z"
   },
   {
    "duration": 3,
    "start_time": "2024-07-27T14:23:23.937Z"
   },
   {
    "duration": 5,
    "start_time": "2024-07-27T14:23:30.944Z"
   },
   {
    "duration": 397,
    "start_time": "2024-07-27T14:30:57.302Z"
   },
   {
    "duration": 130,
    "start_time": "2024-07-27T14:30:57.701Z"
   },
   {
    "duration": 13,
    "start_time": "2024-07-27T14:30:57.833Z"
   },
   {
    "duration": 1935,
    "start_time": "2024-07-27T14:30:57.847Z"
   },
   {
    "duration": 8,
    "start_time": "2024-07-27T14:30:59.784Z"
   },
   {
    "duration": 9,
    "start_time": "2024-07-27T14:30:59.793Z"
   },
   {
    "duration": 5,
    "start_time": "2024-07-27T14:30:59.803Z"
   },
   {
    "duration": 6,
    "start_time": "2024-07-27T14:30:59.809Z"
   },
   {
    "duration": 7,
    "start_time": "2024-07-27T14:30:59.816Z"
   },
   {
    "duration": 7,
    "start_time": "2024-07-27T14:30:59.824Z"
   },
   {
    "duration": 9,
    "start_time": "2024-07-27T14:30:59.832Z"
   },
   {
    "duration": 6,
    "start_time": "2024-07-27T14:30:59.842Z"
   },
   {
    "duration": 6,
    "start_time": "2024-07-27T14:30:59.849Z"
   },
   {
    "duration": 9,
    "start_time": "2024-07-27T14:30:59.858Z"
   },
   {
    "duration": 16,
    "start_time": "2024-07-27T14:30:59.868Z"
   },
   {
    "duration": 26,
    "start_time": "2024-07-27T14:30:59.885Z"
   },
   {
    "duration": 6,
    "start_time": "2024-07-27T14:30:59.913Z"
   },
   {
    "duration": 5,
    "start_time": "2024-07-27T14:30:59.920Z"
   },
   {
    "duration": 4,
    "start_time": "2024-07-27T14:30:59.927Z"
   },
   {
    "duration": 5,
    "start_time": "2024-07-27T14:30:59.932Z"
   },
   {
    "duration": 13,
    "start_time": "2024-07-27T14:30:59.938Z"
   },
   {
    "duration": 409,
    "start_time": "2024-07-27T14:34:47.079Z"
   },
   {
    "duration": 114,
    "start_time": "2024-07-27T14:34:47.489Z"
   },
   {
    "duration": 15,
    "start_time": "2024-07-27T14:34:47.604Z"
   },
   {
    "duration": 1858,
    "start_time": "2024-07-27T14:34:47.620Z"
   },
   {
    "duration": 9,
    "start_time": "2024-07-27T14:34:49.480Z"
   },
   {
    "duration": 8,
    "start_time": "2024-07-27T14:34:49.490Z"
   },
   {
    "duration": 5,
    "start_time": "2024-07-27T14:34:49.499Z"
   },
   {
    "duration": 5,
    "start_time": "2024-07-27T14:34:49.506Z"
   },
   {
    "duration": 7,
    "start_time": "2024-07-27T14:34:49.512Z"
   },
   {
    "duration": 7,
    "start_time": "2024-07-27T14:34:49.521Z"
   },
   {
    "duration": 4,
    "start_time": "2024-07-27T14:34:49.529Z"
   },
   {
    "duration": 5,
    "start_time": "2024-07-27T14:34:49.534Z"
   },
   {
    "duration": 4,
    "start_time": "2024-07-27T14:34:49.540Z"
   },
   {
    "duration": 5,
    "start_time": "2024-07-27T14:34:49.545Z"
   },
   {
    "duration": 10,
    "start_time": "2024-07-27T14:34:49.551Z"
   },
   {
    "duration": 50,
    "start_time": "2024-07-27T14:34:49.563Z"
   },
   {
    "duration": 9,
    "start_time": "2024-07-27T14:34:49.615Z"
   },
   {
    "duration": 8,
    "start_time": "2024-07-27T14:34:49.625Z"
   },
   {
    "duration": 4,
    "start_time": "2024-07-27T14:34:49.635Z"
   },
   {
    "duration": 3,
    "start_time": "2024-07-27T14:34:49.640Z"
   },
   {
    "duration": 6,
    "start_time": "2024-07-27T14:34:49.644Z"
   },
   {
    "duration": 16,
    "start_time": "2024-07-27T14:34:49.651Z"
   },
   {
    "duration": 351,
    "start_time": "2024-07-27T14:36:20.950Z"
   },
   {
    "duration": 124,
    "start_time": "2024-07-27T14:36:21.302Z"
   },
   {
    "duration": 16,
    "start_time": "2024-07-27T14:36:21.427Z"
   },
   {
    "duration": 1857,
    "start_time": "2024-07-27T14:36:21.445Z"
   },
   {
    "duration": 9,
    "start_time": "2024-07-27T14:36:23.304Z"
   },
   {
    "duration": 13,
    "start_time": "2024-07-27T14:36:23.315Z"
   },
   {
    "duration": 5,
    "start_time": "2024-07-27T14:36:23.329Z"
   },
   {
    "duration": 5,
    "start_time": "2024-07-27T14:36:23.336Z"
   },
   {
    "duration": 7,
    "start_time": "2024-07-27T14:36:23.342Z"
   },
   {
    "duration": 5,
    "start_time": "2024-07-27T14:36:23.350Z"
   },
   {
    "duration": 19,
    "start_time": "2024-07-27T14:36:23.356Z"
   },
   {
    "duration": 15,
    "start_time": "2024-07-27T14:36:23.376Z"
   },
   {
    "duration": 20,
    "start_time": "2024-07-27T14:36:23.392Z"
   },
   {
    "duration": 6,
    "start_time": "2024-07-27T14:36:23.415Z"
   },
   {
    "duration": 8,
    "start_time": "2024-07-27T14:36:23.422Z"
   },
   {
    "duration": 8,
    "start_time": "2024-07-27T14:36:23.432Z"
   },
   {
    "duration": 11,
    "start_time": "2024-07-27T14:36:23.442Z"
   },
   {
    "duration": 6,
    "start_time": "2024-07-27T14:36:23.454Z"
   },
   {
    "duration": 6,
    "start_time": "2024-07-27T14:36:23.461Z"
   },
   {
    "duration": 4,
    "start_time": "2024-07-27T14:36:23.468Z"
   },
   {
    "duration": 5,
    "start_time": "2024-07-27T14:36:23.473Z"
   },
   {
    "duration": 38,
    "start_time": "2024-07-27T14:36:23.479Z"
   },
   {
    "duration": 370,
    "start_time": "2024-07-27T14:38:45.224Z"
   },
   {
    "duration": 115,
    "start_time": "2024-07-27T14:38:45.596Z"
   },
   {
    "duration": 13,
    "start_time": "2024-07-27T14:38:45.712Z"
   },
   {
    "duration": 1915,
    "start_time": "2024-07-27T14:38:45.727Z"
   },
   {
    "duration": 9,
    "start_time": "2024-07-27T14:38:47.643Z"
   },
   {
    "duration": 12,
    "start_time": "2024-07-27T14:38:47.653Z"
   },
   {
    "duration": 12,
    "start_time": "2024-07-27T14:38:47.666Z"
   },
   {
    "duration": 4,
    "start_time": "2024-07-27T14:38:47.680Z"
   },
   {
    "duration": 7,
    "start_time": "2024-07-27T14:38:47.685Z"
   },
   {
    "duration": 5,
    "start_time": "2024-07-27T14:38:47.694Z"
   },
   {
    "duration": 15,
    "start_time": "2024-07-27T14:38:47.700Z"
   },
   {
    "duration": 4,
    "start_time": "2024-07-27T14:38:47.717Z"
   },
   {
    "duration": 5,
    "start_time": "2024-07-27T14:38:47.722Z"
   },
   {
    "duration": 4,
    "start_time": "2024-07-27T14:38:47.728Z"
   },
   {
    "duration": 55,
    "start_time": "2024-07-27T14:38:47.734Z"
   },
   {
    "duration": 18,
    "start_time": "2024-07-27T14:38:47.790Z"
   },
   {
    "duration": 3,
    "start_time": "2024-07-27T14:38:47.809Z"
   },
   {
    "duration": 6,
    "start_time": "2024-07-27T14:38:47.813Z"
   },
   {
    "duration": 5,
    "start_time": "2024-07-27T14:38:47.820Z"
   },
   {
    "duration": 3,
    "start_time": "2024-07-27T14:38:47.826Z"
   },
   {
    "duration": 3,
    "start_time": "2024-07-27T14:38:47.830Z"
   },
   {
    "duration": 13,
    "start_time": "2024-07-27T14:38:47.834Z"
   },
   {
    "duration": 5,
    "start_time": "2024-07-27T14:42:48.290Z"
   },
   {
    "duration": 84,
    "start_time": "2024-07-27T14:46:05.434Z"
   },
   {
    "duration": 24,
    "start_time": "2024-07-27T14:46:11.155Z"
   },
   {
    "duration": 38,
    "start_time": "2024-07-27T14:46:15.720Z"
   },
   {
    "duration": 30,
    "start_time": "2024-07-27T14:46:23.288Z"
   },
   {
    "duration": 7,
    "start_time": "2024-07-27T14:46:38.616Z"
   },
   {
    "duration": 408,
    "start_time": "2024-07-27T14:46:57.084Z"
   },
   {
    "duration": 117,
    "start_time": "2024-07-27T14:46:57.494Z"
   },
   {
    "duration": 12,
    "start_time": "2024-07-27T14:46:57.612Z"
   },
   {
    "duration": 1912,
    "start_time": "2024-07-27T14:46:57.626Z"
   },
   {
    "duration": 9,
    "start_time": "2024-07-27T14:46:59.540Z"
   },
   {
    "duration": 7,
    "start_time": "2024-07-27T14:46:59.550Z"
   },
   {
    "duration": 5,
    "start_time": "2024-07-27T14:46:59.559Z"
   },
   {
    "duration": 6,
    "start_time": "2024-07-27T14:46:59.566Z"
   },
   {
    "duration": 9,
    "start_time": "2024-07-27T14:46:59.573Z"
   },
   {
    "duration": 5,
    "start_time": "2024-07-27T14:46:59.584Z"
   },
   {
    "duration": 5,
    "start_time": "2024-07-27T14:46:59.591Z"
   },
   {
    "duration": 5,
    "start_time": "2024-07-27T14:46:59.612Z"
   },
   {
    "duration": 5,
    "start_time": "2024-07-27T14:46:59.619Z"
   },
   {
    "duration": 5,
    "start_time": "2024-07-27T14:46:59.627Z"
   },
   {
    "duration": 8,
    "start_time": "2024-07-27T14:46:59.634Z"
   },
   {
    "duration": 7,
    "start_time": "2024-07-27T14:46:59.644Z"
   },
   {
    "duration": 3,
    "start_time": "2024-07-27T14:46:59.653Z"
   },
   {
    "duration": 5,
    "start_time": "2024-07-27T14:46:59.657Z"
   },
   {
    "duration": 51,
    "start_time": "2024-07-27T14:46:59.664Z"
   },
   {
    "duration": 5,
    "start_time": "2024-07-27T14:46:59.717Z"
   },
   {
    "duration": 7,
    "start_time": "2024-07-27T14:46:59.723Z"
   },
   {
    "duration": 14,
    "start_time": "2024-07-27T14:46:59.731Z"
   },
   {
    "duration": 5,
    "start_time": "2024-07-27T14:46:59.747Z"
   },
   {
    "duration": 30,
    "start_time": "2024-07-27T14:46:59.753Z"
   },
   {
    "duration": 71,
    "start_time": "2024-07-27T14:54:57.822Z"
   },
   {
    "duration": 944,
    "start_time": "2024-07-27T14:55:08.513Z"
   },
   {
    "duration": 93,
    "start_time": "2024-07-27T14:55:30.473Z"
   },
   {
    "duration": 118,
    "start_time": "2024-07-27T14:55:35.720Z"
   },
   {
    "duration": 6,
    "start_time": "2024-07-27T14:56:04.200Z"
   },
   {
    "duration": 348,
    "start_time": "2024-07-27T14:57:57.653Z"
   },
   {
    "duration": 114,
    "start_time": "2024-07-27T14:57:58.003Z"
   },
   {
    "duration": 13,
    "start_time": "2024-07-27T14:57:58.119Z"
   },
   {
    "duration": 1881,
    "start_time": "2024-07-27T14:57:58.133Z"
   },
   {
    "duration": 9,
    "start_time": "2024-07-27T14:58:00.016Z"
   },
   {
    "duration": 33,
    "start_time": "2024-07-27T14:58:00.026Z"
   },
   {
    "duration": 44,
    "start_time": "2024-07-27T14:58:00.060Z"
   },
   {
    "duration": 34,
    "start_time": "2024-07-27T14:58:00.105Z"
   },
   {
    "duration": 47,
    "start_time": "2024-07-27T14:58:00.141Z"
   },
   {
    "duration": 33,
    "start_time": "2024-07-27T14:58:00.190Z"
   },
   {
    "duration": 67,
    "start_time": "2024-07-27T14:58:00.225Z"
   },
   {
    "duration": 44,
    "start_time": "2024-07-27T14:58:00.293Z"
   },
   {
    "duration": 94,
    "start_time": "2024-07-27T14:58:00.338Z"
   },
   {
    "duration": 75,
    "start_time": "2024-07-27T14:58:00.434Z"
   },
   {
    "duration": 45,
    "start_time": "2024-07-27T14:58:00.511Z"
   },
   {
    "duration": 60,
    "start_time": "2024-07-27T14:58:00.558Z"
   },
   {
    "duration": 61,
    "start_time": "2024-07-27T14:58:00.620Z"
   },
   {
    "duration": 34,
    "start_time": "2024-07-27T14:58:00.683Z"
   },
   {
    "duration": 21,
    "start_time": "2024-07-27T14:58:00.719Z"
   },
   {
    "duration": 63,
    "start_time": "2024-07-27T14:58:00.742Z"
   },
   {
    "duration": 44,
    "start_time": "2024-07-27T14:58:00.806Z"
   },
   {
    "duration": 45,
    "start_time": "2024-07-27T14:58:00.852Z"
   },
   {
    "duration": 32,
    "start_time": "2024-07-27T14:58:00.898Z"
   },
   {
    "duration": 127,
    "start_time": "2024-07-27T14:58:00.932Z"
   },
   {
    "duration": 0,
    "start_time": "2024-07-27T14:58:01.061Z"
   },
   {
    "duration": 0,
    "start_time": "2024-07-27T14:58:01.062Z"
   },
   {
    "duration": 18,
    "start_time": "2024-07-27T14:58:13.242Z"
   },
   {
    "duration": 18,
    "start_time": "2024-07-27T14:58:47.819Z"
   },
   {
    "duration": 18,
    "start_time": "2024-07-27T14:59:00.907Z"
   },
   {
    "duration": 97,
    "start_time": "2024-07-27T14:59:04.074Z"
   },
   {
    "duration": 90,
    "start_time": "2024-07-27T14:59:15.235Z"
   },
   {
    "duration": 6,
    "start_time": "2024-07-27T14:59:21.525Z"
   },
   {
    "duration": 100,
    "start_time": "2024-07-27T14:59:38.260Z"
   },
   {
    "duration": 88,
    "start_time": "2024-07-27T14:59:48.804Z"
   },
   {
    "duration": 388,
    "start_time": "2024-07-27T15:00:37.711Z"
   },
   {
    "duration": 131,
    "start_time": "2024-07-27T15:00:38.100Z"
   },
   {
    "duration": 15,
    "start_time": "2024-07-27T15:00:38.233Z"
   },
   {
    "duration": 1932,
    "start_time": "2024-07-27T15:00:38.250Z"
   },
   {
    "duration": 8,
    "start_time": "2024-07-27T15:00:40.184Z"
   },
   {
    "duration": 46,
    "start_time": "2024-07-27T15:00:40.193Z"
   },
   {
    "duration": 12,
    "start_time": "2024-07-27T15:00:40.240Z"
   },
   {
    "duration": 17,
    "start_time": "2024-07-27T15:00:40.254Z"
   },
   {
    "duration": 6,
    "start_time": "2024-07-27T15:00:40.273Z"
   },
   {
    "duration": 19,
    "start_time": "2024-07-27T15:00:40.281Z"
   },
   {
    "duration": 14,
    "start_time": "2024-07-27T15:00:40.302Z"
   },
   {
    "duration": 18,
    "start_time": "2024-07-27T15:00:40.317Z"
   },
   {
    "duration": 5,
    "start_time": "2024-07-27T15:00:40.337Z"
   },
   {
    "duration": 45,
    "start_time": "2024-07-27T15:00:40.344Z"
   },
   {
    "duration": 10,
    "start_time": "2024-07-27T15:00:40.391Z"
   },
   {
    "duration": 27,
    "start_time": "2024-07-27T15:00:40.403Z"
   },
   {
    "duration": 34,
    "start_time": "2024-07-27T15:00:40.432Z"
   },
   {
    "duration": 14,
    "start_time": "2024-07-27T15:00:40.467Z"
   },
   {
    "duration": 15,
    "start_time": "2024-07-27T15:00:40.482Z"
   },
   {
    "duration": 61,
    "start_time": "2024-07-27T15:00:40.498Z"
   },
   {
    "duration": 11,
    "start_time": "2024-07-27T15:00:40.560Z"
   },
   {
    "duration": 13,
    "start_time": "2024-07-27T15:00:40.573Z"
   },
   {
    "duration": 5,
    "start_time": "2024-07-27T15:00:40.588Z"
   },
   {
    "duration": 17,
    "start_time": "2024-07-27T15:00:40.595Z"
   },
   {
    "duration": 130,
    "start_time": "2024-07-27T15:00:40.613Z"
   },
   {
    "duration": 6,
    "start_time": "2024-07-27T15:00:40.744Z"
   },
   {
    "duration": 399,
    "start_time": "2024-07-27T15:01:09.987Z"
   },
   {
    "duration": 114,
    "start_time": "2024-07-27T15:01:10.388Z"
   },
   {
    "duration": 16,
    "start_time": "2024-07-27T15:01:10.503Z"
   },
   {
    "duration": 1934,
    "start_time": "2024-07-27T15:01:10.520Z"
   },
   {
    "duration": 10,
    "start_time": "2024-07-27T15:01:12.456Z"
   },
   {
    "duration": 45,
    "start_time": "2024-07-27T15:01:12.468Z"
   },
   {
    "duration": 16,
    "start_time": "2024-07-27T15:01:12.514Z"
   },
   {
    "duration": 6,
    "start_time": "2024-07-27T15:01:12.531Z"
   },
   {
    "duration": 7,
    "start_time": "2024-07-27T15:01:12.538Z"
   },
   {
    "duration": 6,
    "start_time": "2024-07-27T15:01:12.546Z"
   },
   {
    "duration": 5,
    "start_time": "2024-07-27T15:01:12.554Z"
   },
   {
    "duration": 5,
    "start_time": "2024-07-27T15:01:12.561Z"
   },
   {
    "duration": 5,
    "start_time": "2024-07-27T15:01:12.568Z"
   },
   {
    "duration": 6,
    "start_time": "2024-07-27T15:01:12.611Z"
   },
   {
    "duration": 8,
    "start_time": "2024-07-27T15:01:12.619Z"
   },
   {
    "duration": 7,
    "start_time": "2024-07-27T15:01:12.629Z"
   },
   {
    "duration": 5,
    "start_time": "2024-07-27T15:01:12.637Z"
   },
   {
    "duration": 5,
    "start_time": "2024-07-27T15:01:12.643Z"
   },
   {
    "duration": 5,
    "start_time": "2024-07-27T15:01:12.650Z"
   },
   {
    "duration": 4,
    "start_time": "2024-07-27T15:01:12.657Z"
   },
   {
    "duration": 4,
    "start_time": "2024-07-27T15:01:12.663Z"
   },
   {
    "duration": 50,
    "start_time": "2024-07-27T15:01:12.668Z"
   },
   {
    "duration": 6,
    "start_time": "2024-07-27T15:01:12.720Z"
   },
   {
    "duration": 16,
    "start_time": "2024-07-27T15:01:12.728Z"
   },
   {
    "duration": 137,
    "start_time": "2024-07-27T15:01:12.746Z"
   },
   {
    "duration": 7,
    "start_time": "2024-07-27T15:01:12.884Z"
   },
   {
    "duration": 132,
    "start_time": "2024-07-27T15:02:08.366Z"
   },
   {
    "duration": 5,
    "start_time": "2024-07-27T15:02:10.981Z"
   },
   {
    "duration": 145,
    "start_time": "2024-07-27T15:02:51.958Z"
   },
   {
    "duration": 6,
    "start_time": "2024-07-27T15:02:54.006Z"
   },
   {
    "duration": 6,
    "start_time": "2024-07-27T15:06:21.769Z"
   },
   {
    "duration": 8,
    "start_time": "2024-07-27T15:13:07.365Z"
   },
   {
    "duration": 9,
    "start_time": "2024-07-27T15:14:15.310Z"
   },
   {
    "duration": 7,
    "start_time": "2024-07-27T15:14:22.574Z"
   },
   {
    "duration": 7,
    "start_time": "2024-07-27T15:16:21.154Z"
   },
   {
    "duration": 7,
    "start_time": "2024-07-27T15:16:53.983Z"
   },
   {
    "duration": 318,
    "start_time": "2024-07-27T15:24:21.540Z"
   },
   {
    "duration": 330,
    "start_time": "2024-07-27T15:24:34.718Z"
   },
   {
    "duration": 333,
    "start_time": "2024-07-27T15:25:00.862Z"
   },
   {
    "duration": 434,
    "start_time": "2024-07-27T15:25:06.947Z"
   },
   {
    "duration": 320,
    "start_time": "2024-07-27T15:26:14.028Z"
   },
   {
    "duration": 5,
    "start_time": "2024-07-27T15:27:56.551Z"
   },
   {
    "duration": 6,
    "start_time": "2024-07-27T15:28:00.902Z"
   },
   {
    "duration": 376,
    "start_time": "2024-07-27T15:29:34.242Z"
   },
   {
    "duration": 130,
    "start_time": "2024-07-27T15:29:34.619Z"
   },
   {
    "duration": 12,
    "start_time": "2024-07-27T15:29:34.750Z"
   },
   {
    "duration": 1941,
    "start_time": "2024-07-27T15:29:34.764Z"
   },
   {
    "duration": 9,
    "start_time": "2024-07-27T15:29:36.707Z"
   },
   {
    "duration": 13,
    "start_time": "2024-07-27T15:29:36.718Z"
   },
   {
    "duration": 20,
    "start_time": "2024-07-27T15:29:36.733Z"
   },
   {
    "duration": 19,
    "start_time": "2024-07-27T15:29:36.754Z"
   },
   {
    "duration": 14,
    "start_time": "2024-07-27T15:29:36.774Z"
   },
   {
    "duration": 23,
    "start_time": "2024-07-27T15:29:36.790Z"
   },
   {
    "duration": 20,
    "start_time": "2024-07-27T15:29:36.814Z"
   },
   {
    "duration": 30,
    "start_time": "2024-07-27T15:29:36.835Z"
   },
   {
    "duration": 81,
    "start_time": "2024-07-27T15:29:36.867Z"
   },
   {
    "duration": 6,
    "start_time": "2024-07-27T15:29:36.949Z"
   },
   {
    "duration": 11,
    "start_time": "2024-07-27T15:29:36.957Z"
   },
   {
    "duration": 9,
    "start_time": "2024-07-27T15:29:36.970Z"
   },
   {
    "duration": 14,
    "start_time": "2024-07-27T15:29:36.981Z"
   },
   {
    "duration": 24,
    "start_time": "2024-07-27T15:29:36.997Z"
   },
   {
    "duration": 13,
    "start_time": "2024-07-27T15:29:37.023Z"
   },
   {
    "duration": 29,
    "start_time": "2024-07-27T15:29:37.037Z"
   },
   {
    "duration": 18,
    "start_time": "2024-07-27T15:29:37.067Z"
   },
   {
    "duration": 30,
    "start_time": "2024-07-27T15:29:37.088Z"
   },
   {
    "duration": 8,
    "start_time": "2024-07-27T15:29:37.120Z"
   },
   {
    "duration": 43,
    "start_time": "2024-07-27T15:29:37.129Z"
   },
   {
    "duration": 158,
    "start_time": "2024-07-27T15:29:37.174Z"
   },
   {
    "duration": 7,
    "start_time": "2024-07-27T15:29:37.333Z"
   },
   {
    "duration": 17,
    "start_time": "2024-07-27T15:29:37.341Z"
   },
   {
    "duration": 9,
    "start_time": "2024-07-27T15:29:37.361Z"
   },
   {
    "duration": 25,
    "start_time": "2024-07-27T15:29:37.371Z"
   },
   {
    "duration": 9,
    "start_time": "2024-07-27T15:29:37.397Z"
   },
   {
    "duration": 328,
    "start_time": "2024-07-27T15:29:37.407Z"
   },
   {
    "duration": 5,
    "start_time": "2024-07-27T15:29:37.737Z"
   },
   {
    "duration": 2,
    "start_time": "2024-07-27T17:20:46.766Z"
   },
   {
    "duration": 72,
    "start_time": "2024-07-27T17:21:30.838Z"
   },
   {
    "duration": 698,
    "start_time": "2024-07-27T17:21:36.402Z"
   },
   {
    "duration": 3,
    "start_time": "2024-07-27T17:22:12.369Z"
   },
   {
    "duration": 645,
    "start_time": "2024-07-27T17:22:13.954Z"
   },
   {
    "duration": 4,
    "start_time": "2024-07-27T17:22:54.937Z"
   },
   {
    "duration": 3,
    "start_time": "2024-07-27T17:23:28.392Z"
   },
   {
    "duration": 125,
    "start_time": "2024-07-27T17:23:29.507Z"
   },
   {
    "duration": 3,
    "start_time": "2024-07-27T17:24:26.119Z"
   },
   {
    "duration": 111,
    "start_time": "2024-07-27T17:24:47.433Z"
   },
   {
    "duration": 201,
    "start_time": "2024-07-27T17:25:00.732Z"
   },
   {
    "duration": 3,
    "start_time": "2024-07-27T17:31:41.529Z"
   },
   {
    "duration": 2,
    "start_time": "2024-07-27T17:32:18.683Z"
   },
   {
    "duration": 3,
    "start_time": "2024-07-27T17:32:31.026Z"
   },
   {
    "duration": 2,
    "start_time": "2024-07-27T17:32:32.762Z"
   },
   {
    "duration": 7,
    "start_time": "2024-07-27T17:32:33.962Z"
   },
   {
    "duration": 209,
    "start_time": "2024-07-27T17:32:39.420Z"
   },
   {
    "duration": 3,
    "start_time": "2024-07-27T17:33:46.740Z"
   },
   {
    "duration": 11,
    "start_time": "2024-07-27T17:33:47.651Z"
   },
   {
    "duration": 3,
    "start_time": "2024-07-27T17:34:03.100Z"
   },
   {
    "duration": 9,
    "start_time": "2024-07-27T17:34:03.689Z"
   },
   {
    "duration": 2,
    "start_time": "2024-07-27T17:35:11.637Z"
   },
   {
    "duration": 223,
    "start_time": "2024-07-27T17:35:12.053Z"
   },
   {
    "duration": 2,
    "start_time": "2024-07-27T17:36:42.062Z"
   },
   {
    "duration": 438,
    "start_time": "2024-07-27T17:36:45.077Z"
   },
   {
    "duration": 3,
    "start_time": "2024-07-27T17:36:56.502Z"
   },
   {
    "duration": 115,
    "start_time": "2024-07-27T17:36:58.837Z"
   },
   {
    "duration": 7,
    "start_time": "2024-07-27T17:45:35.062Z"
   },
   {
    "duration": 247,
    "start_time": "2024-07-27T17:45:35.820Z"
   },
   {
    "duration": 607,
    "start_time": "2024-07-27T17:54:02.015Z"
   },
   {
    "duration": 120,
    "start_time": "2024-07-27T17:54:02.623Z"
   },
   {
    "duration": 14,
    "start_time": "2024-07-27T17:54:02.744Z"
   },
   {
    "duration": 1733,
    "start_time": "2024-07-27T17:54:02.760Z"
   },
   {
    "duration": 8,
    "start_time": "2024-07-27T17:54:04.495Z"
   },
   {
    "duration": 6,
    "start_time": "2024-07-27T17:54:04.505Z"
   },
   {
    "duration": 4,
    "start_time": "2024-07-27T17:54:04.512Z"
   },
   {
    "duration": 5,
    "start_time": "2024-07-27T17:54:04.518Z"
   },
   {
    "duration": 8,
    "start_time": "2024-07-27T17:54:04.524Z"
   },
   {
    "duration": 10,
    "start_time": "2024-07-27T17:54:04.533Z"
   },
   {
    "duration": 5,
    "start_time": "2024-07-27T17:54:04.544Z"
   },
   {
    "duration": 5,
    "start_time": "2024-07-27T17:54:04.550Z"
   },
   {
    "duration": 17,
    "start_time": "2024-07-27T17:54:04.556Z"
   },
   {
    "duration": 8,
    "start_time": "2024-07-27T17:54:04.575Z"
   },
   {
    "duration": 30,
    "start_time": "2024-07-27T17:54:04.584Z"
   },
   {
    "duration": 6,
    "start_time": "2024-07-27T17:54:04.616Z"
   },
   {
    "duration": 4,
    "start_time": "2024-07-27T17:54:04.624Z"
   },
   {
    "duration": 9,
    "start_time": "2024-07-27T17:54:04.629Z"
   },
   {
    "duration": 13,
    "start_time": "2024-07-27T17:54:04.639Z"
   },
   {
    "duration": 46,
    "start_time": "2024-07-27T17:54:04.654Z"
   },
   {
    "duration": 12,
    "start_time": "2024-07-27T17:54:04.701Z"
   },
   {
    "duration": 25,
    "start_time": "2024-07-27T17:54:04.714Z"
   },
   {
    "duration": 19,
    "start_time": "2024-07-27T17:54:04.741Z"
   },
   {
    "duration": 18,
    "start_time": "2024-07-27T17:54:04.762Z"
   },
   {
    "duration": 193,
    "start_time": "2024-07-27T17:54:04.781Z"
   },
   {
    "duration": 9,
    "start_time": "2024-07-27T17:54:04.976Z"
   },
   {
    "duration": 17,
    "start_time": "2024-07-27T17:54:04.986Z"
   },
   {
    "duration": 13,
    "start_time": "2024-07-27T17:54:05.004Z"
   },
   {
    "duration": 7,
    "start_time": "2024-07-27T17:54:05.019Z"
   },
   {
    "duration": 9,
    "start_time": "2024-07-27T17:54:05.027Z"
   },
   {
    "duration": 346,
    "start_time": "2024-07-27T17:54:05.037Z"
   },
   {
    "duration": 6,
    "start_time": "2024-07-27T17:54:05.384Z"
   },
   {
    "duration": 78,
    "start_time": "2024-07-27T17:54:05.391Z"
   },
   {
    "duration": 6,
    "start_time": "2024-07-27T17:54:05.470Z"
   },
   {
    "duration": 251,
    "start_time": "2024-07-27T17:54:05.478Z"
   },
   {
    "duration": 2,
    "start_time": "2024-07-27T17:54:13.804Z"
   },
   {
    "duration": 1246,
    "start_time": "2024-07-27T17:54:28.990Z"
   },
   {
    "duration": 3,
    "start_time": "2024-07-27T17:54:55.076Z"
   },
   {
    "duration": 2225,
    "start_time": "2024-07-27T17:54:55.726Z"
   },
   {
    "duration": 3,
    "start_time": "2024-07-27T18:08:09.065Z"
   },
   {
    "duration": 1274,
    "start_time": "2024-07-27T18:08:10.401Z"
   },
   {
    "duration": 3,
    "start_time": "2024-07-27T18:08:28.448Z"
   },
   {
    "duration": 2220,
    "start_time": "2024-07-27T18:08:29.127Z"
   },
   {
    "duration": 296,
    "start_time": "2024-07-27T18:32:16.292Z"
   },
   {
    "duration": 7,
    "start_time": "2024-07-27T18:32:30.701Z"
   },
   {
    "duration": 7,
    "start_time": "2024-07-27T18:32:38.380Z"
   },
   {
    "duration": 199,
    "start_time": "2024-07-27T18:33:52.464Z"
   },
   {
    "duration": 202,
    "start_time": "2024-07-27T18:34:00.624Z"
   },
   {
    "duration": 9,
    "start_time": "2024-07-27T18:39:39.149Z"
   },
   {
    "duration": 7,
    "start_time": "2024-07-27T18:39:51.884Z"
   },
   {
    "duration": 5,
    "start_time": "2024-07-27T18:40:06.558Z"
   },
   {
    "duration": 5,
    "start_time": "2024-07-27T18:40:18.324Z"
   },
   {
    "duration": 30,
    "start_time": "2024-07-27T18:44:30.030Z"
   },
   {
    "duration": 840,
    "start_time": "2024-07-28T08:33:13.535Z"
   },
   {
    "duration": 228,
    "start_time": "2024-07-28T08:33:14.378Z"
   },
   {
    "duration": 19,
    "start_time": "2024-07-28T08:33:14.608Z"
   },
   {
    "duration": 2143,
    "start_time": "2024-07-28T08:33:14.629Z"
   },
   {
    "duration": 12,
    "start_time": "2024-07-28T08:33:16.776Z"
   },
   {
    "duration": 11,
    "start_time": "2024-07-28T08:33:16.789Z"
   },
   {
    "duration": 7,
    "start_time": "2024-07-28T08:33:16.801Z"
   },
   {
    "duration": 18,
    "start_time": "2024-07-28T08:33:16.809Z"
   },
   {
    "duration": 17,
    "start_time": "2024-07-28T08:33:16.829Z"
   },
   {
    "duration": 12,
    "start_time": "2024-07-28T08:33:16.848Z"
   },
   {
    "duration": 6,
    "start_time": "2024-07-28T08:33:16.863Z"
   },
   {
    "duration": 7,
    "start_time": "2024-07-28T08:33:16.871Z"
   },
   {
    "duration": 6,
    "start_time": "2024-07-28T08:33:16.880Z"
   },
   {
    "duration": 10,
    "start_time": "2024-07-28T08:33:16.889Z"
   },
   {
    "duration": 56,
    "start_time": "2024-07-28T08:33:16.901Z"
   },
   {
    "duration": 15,
    "start_time": "2024-07-28T08:33:16.959Z"
   },
   {
    "duration": 18,
    "start_time": "2024-07-28T08:33:16.977Z"
   },
   {
    "duration": 11,
    "start_time": "2024-07-28T08:33:16.998Z"
   },
   {
    "duration": 8,
    "start_time": "2024-07-28T08:33:17.011Z"
   },
   {
    "duration": 5,
    "start_time": "2024-07-28T08:33:17.022Z"
   },
   {
    "duration": 27,
    "start_time": "2024-07-28T08:33:17.029Z"
   },
   {
    "duration": 23,
    "start_time": "2024-07-28T08:33:17.057Z"
   },
   {
    "duration": 10,
    "start_time": "2024-07-28T08:33:17.083Z"
   },
   {
    "duration": 94,
    "start_time": "2024-07-28T08:33:17.094Z"
   },
   {
    "duration": 208,
    "start_time": "2024-07-28T08:33:17.190Z"
   },
   {
    "duration": 6,
    "start_time": "2024-07-28T08:33:17.399Z"
   },
   {
    "duration": 14,
    "start_time": "2024-07-28T08:33:17.408Z"
   },
   {
    "duration": 8,
    "start_time": "2024-07-28T08:33:17.424Z"
   },
   {
    "duration": 8,
    "start_time": "2024-07-28T08:33:17.434Z"
   },
   {
    "duration": 25,
    "start_time": "2024-07-28T08:33:17.443Z"
   },
   {
    "duration": 407,
    "start_time": "2024-07-28T08:33:17.471Z"
   },
   {
    "duration": 6,
    "start_time": "2024-07-28T08:33:17.880Z"
   },
   {
    "duration": 3,
    "start_time": "2024-07-28T08:33:17.888Z"
   },
   {
    "duration": 5,
    "start_time": "2024-07-28T08:33:17.892Z"
   },
   {
    "duration": 2865,
    "start_time": "2024-07-28T08:33:17.899Z"
   },
   {
    "duration": 9,
    "start_time": "2024-07-28T08:33:20.765Z"
   },
   {
    "duration": 268,
    "start_time": "2024-07-28T08:33:20.776Z"
   },
   {
    "duration": 12,
    "start_time": "2024-07-28T08:33:21.046Z"
   },
   {
    "duration": 29,
    "start_time": "2024-07-28T08:33:21.060Z"
   },
   {
    "duration": 172,
    "start_time": "2024-07-28T08:40:34.083Z"
   },
   {
    "duration": 278,
    "start_time": "2024-07-28T08:40:57.718Z"
   },
   {
    "duration": 6,
    "start_time": "2024-07-28T08:42:36.835Z"
   },
   {
    "duration": 3,
    "start_time": "2024-07-28T08:52:36.114Z"
   },
   {
    "duration": 4,
    "start_time": "2024-07-28T09:56:00.043Z"
   },
   {
    "duration": 334,
    "start_time": "2024-07-28T09:56:44.724Z"
   },
   {
    "duration": 3,
    "start_time": "2024-07-28T10:03:15.032Z"
   },
   {
    "duration": 9,
    "start_time": "2024-07-28T10:03:16.202Z"
   },
   {
    "duration": 17,
    "start_time": "2024-07-28T10:03:46.178Z"
   },
   {
    "duration": 335,
    "start_time": "2024-07-28T10:04:23.187Z"
   },
   {
    "duration": 140,
    "start_time": "2024-07-28T10:05:34.545Z"
   },
   {
    "duration": 3,
    "start_time": "2024-07-28T10:05:43.817Z"
   },
   {
    "duration": 1672,
    "start_time": "2024-07-28T10:05:44.554Z"
   },
   {
    "duration": 3,
    "start_time": "2024-07-28T10:06:56.669Z"
   },
   {
    "duration": 1667,
    "start_time": "2024-07-28T10:06:58.732Z"
   },
   {
    "duration": 3,
    "start_time": "2024-07-28T10:07:09.245Z"
   },
   {
    "duration": 1750,
    "start_time": "2024-07-28T10:07:09.693Z"
   },
   {
    "duration": 69,
    "start_time": "2024-07-28T10:17:55.927Z"
   },
   {
    "duration": 9,
    "start_time": "2024-07-28T10:18:04.379Z"
   },
   {
    "duration": 11,
    "start_time": "2024-07-28T10:18:09.365Z"
   },
   {
    "duration": 15,
    "start_time": "2024-07-28T10:18:30.895Z"
   },
   {
    "duration": 15,
    "start_time": "2024-07-28T10:18:46.828Z"
   },
   {
    "duration": 19,
    "start_time": "2024-07-28T10:19:43.429Z"
   },
   {
    "duration": 22,
    "start_time": "2024-07-28T10:20:23.881Z"
   },
   {
    "duration": 15,
    "start_time": "2024-07-28T10:20:32.621Z"
   },
   {
    "duration": 25,
    "start_time": "2024-07-28T10:26:02.189Z"
   },
   {
    "duration": 23,
    "start_time": "2024-07-28T10:26:25.779Z"
   },
   {
    "duration": 23,
    "start_time": "2024-07-28T10:26:38.589Z"
   },
   {
    "duration": 23,
    "start_time": "2024-07-28T10:26:46.773Z"
   },
   {
    "duration": 23,
    "start_time": "2024-07-28T10:27:33.157Z"
   },
   {
    "duration": 36,
    "start_time": "2024-07-28T10:27:37.605Z"
   },
   {
    "duration": 20,
    "start_time": "2024-07-28T10:28:05.722Z"
   },
   {
    "duration": 41,
    "start_time": "2024-07-28T10:28:12.569Z"
   },
   {
    "duration": 22,
    "start_time": "2024-07-28T10:28:38.192Z"
   },
   {
    "duration": 15,
    "start_time": "2024-07-28T10:29:22.045Z"
   },
   {
    "duration": 988,
    "start_time": "2024-07-28T10:29:30.844Z"
   },
   {
    "duration": 14,
    "start_time": "2024-07-28T10:29:38.406Z"
   },
   {
    "duration": 16,
    "start_time": "2024-07-28T10:29:57.526Z"
   },
   {
    "duration": 20,
    "start_time": "2024-07-28T10:30:04.287Z"
   },
   {
    "duration": 27,
    "start_time": "2024-07-28T10:31:00.743Z"
   },
   {
    "duration": 24,
    "start_time": "2024-07-28T10:32:19.913Z"
   },
   {
    "duration": 18,
    "start_time": "2024-07-28T10:34:21.969Z"
   },
   {
    "duration": 26,
    "start_time": "2024-07-28T10:34:26.844Z"
   },
   {
    "duration": 6,
    "start_time": "2024-07-28T10:35:26.922Z"
   },
   {
    "duration": 14,
    "start_time": "2024-07-28T10:37:07.852Z"
   },
   {
    "duration": 15,
    "start_time": "2024-07-28T10:37:15.820Z"
   },
   {
    "duration": 13,
    "start_time": "2024-07-28T10:38:07.931Z"
   },
   {
    "duration": 2154,
    "start_time": "2024-07-28T10:46:48.820Z"
   },
   {
    "duration": 2218,
    "start_time": "2024-07-28T10:47:40.899Z"
   },
   {
    "duration": 3,
    "start_time": "2024-07-28T10:50:33.611Z"
   },
   {
    "duration": 57,
    "start_time": "2024-07-28T10:50:48.003Z"
   },
   {
    "duration": 75,
    "start_time": "2024-07-28T10:51:34.896Z"
   },
   {
    "duration": 102,
    "start_time": "2024-07-28T10:51:49.848Z"
   },
   {
    "duration": 69,
    "start_time": "2024-07-28T10:52:00.264Z"
   },
   {
    "duration": 405,
    "start_time": "2024-07-28T10:52:07.692Z"
   },
   {
    "duration": 17,
    "start_time": "2024-07-28T10:54:49.626Z"
   },
   {
    "duration": 61,
    "start_time": "2024-07-28T10:55:02.300Z"
   },
   {
    "duration": 185,
    "start_time": "2024-07-28T10:55:21.351Z"
   },
   {
    "duration": 435,
    "start_time": "2024-07-28T10:55:39.731Z"
   },
   {
    "duration": 9009,
    "start_time": "2024-07-28T10:56:28.003Z"
   },
   {
    "duration": 668,
    "start_time": "2024-07-28T10:59:13.765Z"
   },
   {
    "duration": 136,
    "start_time": "2024-07-28T10:59:14.435Z"
   },
   {
    "duration": 18,
    "start_time": "2024-07-28T10:59:14.573Z"
   },
   {
    "duration": 2127,
    "start_time": "2024-07-28T10:59:14.593Z"
   },
   {
    "duration": 13,
    "start_time": "2024-07-28T10:59:16.722Z"
   },
   {
    "duration": 8,
    "start_time": "2024-07-28T10:59:16.737Z"
   },
   {
    "duration": 10,
    "start_time": "2024-07-28T10:59:16.747Z"
   },
   {
    "duration": 34,
    "start_time": "2024-07-28T10:59:16.759Z"
   },
   {
    "duration": 68,
    "start_time": "2024-07-28T10:59:16.795Z"
   },
   {
    "duration": 49,
    "start_time": "2024-07-28T10:59:16.867Z"
   },
   {
    "duration": 27,
    "start_time": "2024-07-28T10:59:16.918Z"
   },
   {
    "duration": 29,
    "start_time": "2024-07-28T10:59:16.947Z"
   },
   {
    "duration": 17,
    "start_time": "2024-07-28T10:59:16.978Z"
   },
   {
    "duration": 18,
    "start_time": "2024-07-28T10:59:16.997Z"
   },
   {
    "duration": 11,
    "start_time": "2024-07-28T10:59:17.016Z"
   },
   {
    "duration": 10,
    "start_time": "2024-07-28T10:59:17.028Z"
   },
   {
    "duration": 21,
    "start_time": "2024-07-28T10:59:17.039Z"
   },
   {
    "duration": 43,
    "start_time": "2024-07-28T10:59:17.062Z"
   },
   {
    "duration": 25,
    "start_time": "2024-07-28T10:59:17.107Z"
   },
   {
    "duration": 6,
    "start_time": "2024-07-28T10:59:17.134Z"
   },
   {
    "duration": 16,
    "start_time": "2024-07-28T10:59:17.141Z"
   },
   {
    "duration": 49,
    "start_time": "2024-07-28T10:59:17.158Z"
   },
   {
    "duration": 7,
    "start_time": "2024-07-28T10:59:17.209Z"
   },
   {
    "duration": 34,
    "start_time": "2024-07-28T10:59:17.218Z"
   },
   {
    "duration": 176,
    "start_time": "2024-07-28T10:59:17.254Z"
   },
   {
    "duration": 8,
    "start_time": "2024-07-28T10:59:17.431Z"
   },
   {
    "duration": 19,
    "start_time": "2024-07-28T10:59:17.441Z"
   },
   {
    "duration": 9,
    "start_time": "2024-07-28T10:59:17.465Z"
   },
   {
    "duration": 21,
    "start_time": "2024-07-28T10:59:17.476Z"
   },
   {
    "duration": 79,
    "start_time": "2024-07-28T10:59:17.499Z"
   },
   {
    "duration": 370,
    "start_time": "2024-07-28T10:59:17.580Z"
   },
   {
    "duration": 9,
    "start_time": "2024-07-28T10:59:17.951Z"
   },
   {
    "duration": 19,
    "start_time": "2024-07-28T10:59:17.962Z"
   },
   {
    "duration": 7,
    "start_time": "2024-07-28T10:59:17.982Z"
   },
   {
    "duration": 2795,
    "start_time": "2024-07-28T10:59:17.990Z"
   },
   {
    "duration": 9,
    "start_time": "2024-07-28T10:59:20.786Z"
   },
   {
    "duration": 266,
    "start_time": "2024-07-28T10:59:20.797Z"
   },
   {
    "duration": 8,
    "start_time": "2024-07-28T10:59:21.065Z"
   },
   {
    "duration": 46,
    "start_time": "2024-07-28T10:59:21.075Z"
   },
   {
    "duration": 263,
    "start_time": "2024-07-28T10:59:21.123Z"
   },
   {
    "duration": 5,
    "start_time": "2024-07-28T10:59:21.388Z"
   },
   {
    "duration": 5,
    "start_time": "2024-07-28T10:59:21.394Z"
   },
   {
    "duration": 5,
    "start_time": "2024-07-28T10:59:21.400Z"
   },
   {
    "duration": 1761,
    "start_time": "2024-07-28T10:59:21.406Z"
   },
   {
    "duration": 16,
    "start_time": "2024-07-28T10:59:23.169Z"
   },
   {
    "duration": 27,
    "start_time": "2024-07-28T10:59:23.186Z"
   },
   {
    "duration": 9161,
    "start_time": "2024-07-28T10:59:23.215Z"
   },
   {
    "duration": 8724,
    "start_time": "2024-07-28T11:02:06.535Z"
   },
   {
    "duration": 8906,
    "start_time": "2024-07-28T11:03:16.073Z"
   },
   {
    "duration": 716,
    "start_time": "2024-07-28T11:06:03.774Z"
   },
   {
    "duration": 131,
    "start_time": "2024-07-28T11:06:04.492Z"
   },
   {
    "duration": 16,
    "start_time": "2024-07-28T11:06:04.625Z"
   },
   {
    "duration": 2187,
    "start_time": "2024-07-28T11:06:04.642Z"
   },
   {
    "duration": 10,
    "start_time": "2024-07-28T11:06:06.831Z"
   },
   {
    "duration": 12,
    "start_time": "2024-07-28T11:06:06.842Z"
   },
   {
    "duration": 6,
    "start_time": "2024-07-28T11:06:06.856Z"
   },
   {
    "duration": 12,
    "start_time": "2024-07-28T11:06:06.863Z"
   },
   {
    "duration": 19,
    "start_time": "2024-07-28T11:06:06.876Z"
   },
   {
    "duration": 7,
    "start_time": "2024-07-28T11:06:06.896Z"
   },
   {
    "duration": 5,
    "start_time": "2024-07-28T11:06:06.905Z"
   },
   {
    "duration": 6,
    "start_time": "2024-07-28T11:06:06.911Z"
   },
   {
    "duration": 10,
    "start_time": "2024-07-28T11:06:06.918Z"
   },
   {
    "duration": 28,
    "start_time": "2024-07-28T11:06:06.931Z"
   },
   {
    "duration": 9,
    "start_time": "2024-07-28T11:06:06.960Z"
   },
   {
    "duration": 23,
    "start_time": "2024-07-28T11:06:06.970Z"
   },
   {
    "duration": 15,
    "start_time": "2024-07-28T11:06:06.994Z"
   },
   {
    "duration": 8,
    "start_time": "2024-07-28T11:06:07.011Z"
   },
   {
    "duration": 12,
    "start_time": "2024-07-28T11:06:07.021Z"
   },
   {
    "duration": 10,
    "start_time": "2024-07-28T11:06:07.035Z"
   },
   {
    "duration": 5,
    "start_time": "2024-07-28T11:06:07.048Z"
   },
   {
    "duration": 31,
    "start_time": "2024-07-28T11:06:07.055Z"
   },
   {
    "duration": 7,
    "start_time": "2024-07-28T11:06:07.089Z"
   },
   {
    "duration": 19,
    "start_time": "2024-07-28T11:06:07.098Z"
   },
   {
    "duration": 200,
    "start_time": "2024-07-28T11:06:07.118Z"
   },
   {
    "duration": 6,
    "start_time": "2024-07-28T11:06:07.320Z"
   },
   {
    "duration": 7,
    "start_time": "2024-07-28T11:06:07.328Z"
   },
   {
    "duration": 8,
    "start_time": "2024-07-28T11:06:07.355Z"
   },
   {
    "duration": 11,
    "start_time": "2024-07-28T11:06:07.365Z"
   },
   {
    "duration": 7,
    "start_time": "2024-07-28T11:06:07.378Z"
   },
   {
    "duration": 401,
    "start_time": "2024-07-28T11:06:07.387Z"
   },
   {
    "duration": 6,
    "start_time": "2024-07-28T11:06:07.789Z"
   },
   {
    "duration": 6,
    "start_time": "2024-07-28T11:06:07.796Z"
   },
   {
    "duration": 10,
    "start_time": "2024-07-28T11:06:07.803Z"
   },
   {
    "duration": 2818,
    "start_time": "2024-07-28T11:06:07.815Z"
   },
   {
    "duration": 9,
    "start_time": "2024-07-28T11:06:10.635Z"
   },
   {
    "duration": 266,
    "start_time": "2024-07-28T11:06:10.656Z"
   },
   {
    "duration": 9,
    "start_time": "2024-07-28T11:06:10.924Z"
   },
   {
    "duration": 37,
    "start_time": "2024-07-28T11:06:10.935Z"
   },
   {
    "duration": 263,
    "start_time": "2024-07-28T11:06:10.974Z"
   },
   {
    "duration": 15,
    "start_time": "2024-07-28T11:06:11.241Z"
   },
   {
    "duration": 6,
    "start_time": "2024-07-28T11:06:11.257Z"
   },
   {
    "duration": 26,
    "start_time": "2024-07-28T11:06:11.264Z"
   },
   {
    "duration": 1758,
    "start_time": "2024-07-28T11:06:11.292Z"
   },
   {
    "duration": 16,
    "start_time": "2024-07-28T11:06:13.055Z"
   },
   {
    "duration": 26,
    "start_time": "2024-07-28T11:06:13.073Z"
   },
   {
    "duration": 8912,
    "start_time": "2024-07-28T11:06:13.100Z"
   },
   {
    "duration": 3600,
    "start_time": "2024-07-28T11:07:40.756Z"
   },
   {
    "duration": 3505,
    "start_time": "2024-07-28T11:08:13.572Z"
   },
   {
    "duration": 9082,
    "start_time": "2024-07-28T11:08:22.604Z"
   },
   {
    "duration": 8928,
    "start_time": "2024-07-28T11:09:14.356Z"
   },
   {
    "duration": 599,
    "start_time": "2024-07-28T11:10:24.205Z"
   },
   {
    "duration": 1211,
    "start_time": "2024-07-28T11:10:57.278Z"
   },
   {
    "duration": 1336,
    "start_time": "2024-07-28T11:11:13.614Z"
   },
   {
    "duration": 1562,
    "start_time": "2024-07-28T11:11:35.279Z"
   },
   {
    "duration": 34,
    "start_time": "2024-07-28T11:12:01.735Z"
   },
   {
    "duration": 1168,
    "start_time": "2024-07-28T11:12:29.560Z"
   },
   {
    "duration": 75,
    "start_time": "2024-07-28T11:13:48.176Z"
   },
   {
    "duration": 149,
    "start_time": "2024-07-28T11:14:06.352Z"
   },
   {
    "duration": 29,
    "start_time": "2024-07-28T11:14:18.706Z"
   },
   {
    "duration": 139,
    "start_time": "2024-07-28T11:15:23.300Z"
   },
   {
    "duration": 425,
    "start_time": "2024-07-28T11:16:26.002Z"
   },
   {
    "duration": 9075,
    "start_time": "2024-07-28T11:17:11.516Z"
   },
   {
    "duration": 8673,
    "start_time": "2024-07-28T11:18:08.357Z"
   },
   {
    "duration": 6291,
    "start_time": "2024-07-28T11:20:44.893Z"
   },
   {
    "duration": 15,
    "start_time": "2024-07-28T11:24:06.106Z"
   },
   {
    "duration": 724,
    "start_time": "2024-07-28T11:24:16.641Z"
   },
   {
    "duration": 750,
    "start_time": "2024-07-28T11:24:34.047Z"
   },
   {
    "duration": 16,
    "start_time": "2024-07-28T11:25:01.922Z"
   },
   {
    "duration": 752,
    "start_time": "2024-07-28T11:25:07.928Z"
   },
   {
    "duration": 11,
    "start_time": "2024-07-28T11:28:10.105Z"
   },
   {
    "duration": 15,
    "start_time": "2024-07-28T11:28:46.316Z"
   },
   {
    "duration": 29,
    "start_time": "2024-07-28T11:29:08.277Z"
   },
   {
    "duration": 3495,
    "start_time": "2024-07-28T11:30:32.038Z"
   },
   {
    "duration": 3306,
    "start_time": "2024-07-28T11:30:40.517Z"
   },
   {
    "duration": 5221,
    "start_time": "2024-07-28T11:31:22.213Z"
   },
   {
    "duration": 78,
    "start_time": "2024-07-28T11:32:21.465Z"
   },
   {
    "duration": 14,
    "start_time": "2024-07-28T11:32:40.127Z"
   },
   {
    "duration": 15,
    "start_time": "2024-07-28T11:32:45.440Z"
   },
   {
    "duration": 20,
    "start_time": "2024-07-28T11:32:53.056Z"
   },
   {
    "duration": 3768,
    "start_time": "2024-07-28T11:32:58.979Z"
   },
   {
    "duration": 16,
    "start_time": "2024-07-28T11:33:39.535Z"
   },
   {
    "duration": 17,
    "start_time": "2024-07-28T11:33:45.976Z"
   },
   {
    "duration": 14,
    "start_time": "2024-07-28T11:33:48.141Z"
   },
   {
    "duration": 686,
    "start_time": "2024-07-28T11:33:51.937Z"
   },
   {
    "duration": 129,
    "start_time": "2024-07-28T11:33:52.624Z"
   },
   {
    "duration": 17,
    "start_time": "2024-07-28T11:33:52.754Z"
   },
   {
    "duration": 2102,
    "start_time": "2024-07-28T11:33:52.773Z"
   },
   {
    "duration": 15,
    "start_time": "2024-07-28T11:33:54.878Z"
   },
   {
    "duration": 7,
    "start_time": "2024-07-28T11:33:54.895Z"
   },
   {
    "duration": 5,
    "start_time": "2024-07-28T11:33:54.904Z"
   },
   {
    "duration": 10,
    "start_time": "2024-07-28T11:33:54.910Z"
   },
   {
    "duration": 34,
    "start_time": "2024-07-28T11:33:54.922Z"
   },
   {
    "duration": 6,
    "start_time": "2024-07-28T11:33:54.958Z"
   },
   {
    "duration": 6,
    "start_time": "2024-07-28T11:33:54.965Z"
   },
   {
    "duration": 6,
    "start_time": "2024-07-28T11:33:54.973Z"
   },
   {
    "duration": 8,
    "start_time": "2024-07-28T11:33:54.981Z"
   },
   {
    "duration": 9,
    "start_time": "2024-07-28T11:33:54.992Z"
   },
   {
    "duration": 58,
    "start_time": "2024-07-28T11:33:55.002Z"
   },
   {
    "duration": 12,
    "start_time": "2024-07-28T11:33:55.062Z"
   },
   {
    "duration": 6,
    "start_time": "2024-07-28T11:33:55.076Z"
   },
   {
    "duration": 16,
    "start_time": "2024-07-28T11:33:55.084Z"
   },
   {
    "duration": 7,
    "start_time": "2024-07-28T11:33:55.102Z"
   },
   {
    "duration": 12,
    "start_time": "2024-07-28T11:33:55.111Z"
   },
   {
    "duration": 7,
    "start_time": "2024-07-28T11:33:55.129Z"
   },
   {
    "duration": 16,
    "start_time": "2024-07-28T11:33:55.156Z"
   },
   {
    "duration": 6,
    "start_time": "2024-07-28T11:33:55.174Z"
   },
   {
    "duration": 34,
    "start_time": "2024-07-28T11:33:55.182Z"
   },
   {
    "duration": 198,
    "start_time": "2024-07-28T11:33:55.218Z"
   },
   {
    "duration": 7,
    "start_time": "2024-07-28T11:33:55.417Z"
   },
   {
    "duration": 31,
    "start_time": "2024-07-28T11:33:55.425Z"
   },
   {
    "duration": 13,
    "start_time": "2024-07-28T11:33:55.458Z"
   },
   {
    "duration": 13,
    "start_time": "2024-07-28T11:33:55.472Z"
   },
   {
    "duration": 7,
    "start_time": "2024-07-28T11:33:55.486Z"
   },
   {
    "duration": 392,
    "start_time": "2024-07-28T11:33:55.495Z"
   },
   {
    "duration": 6,
    "start_time": "2024-07-28T11:33:55.889Z"
   },
   {
    "duration": 7,
    "start_time": "2024-07-28T11:33:55.896Z"
   },
   {
    "duration": 33,
    "start_time": "2024-07-28T11:33:55.905Z"
   },
   {
    "duration": 2802,
    "start_time": "2024-07-28T11:33:55.940Z"
   },
   {
    "duration": 18,
    "start_time": "2024-07-28T11:33:58.745Z"
   },
   {
    "duration": 260,
    "start_time": "2024-07-28T11:33:58.764Z"
   },
   {
    "duration": 9,
    "start_time": "2024-07-28T11:33:59.026Z"
   },
   {
    "duration": 43,
    "start_time": "2024-07-28T11:33:59.036Z"
   },
   {
    "duration": 284,
    "start_time": "2024-07-28T11:33:59.081Z"
   },
   {
    "duration": 5,
    "start_time": "2024-07-28T11:33:59.369Z"
   },
   {
    "duration": 63,
    "start_time": "2024-07-28T11:33:59.377Z"
   },
   {
    "duration": 13,
    "start_time": "2024-07-28T11:33:59.443Z"
   },
   {
    "duration": 1791,
    "start_time": "2024-07-28T11:33:59.458Z"
   },
   {
    "duration": 15,
    "start_time": "2024-07-28T11:34:01.255Z"
   },
   {
    "duration": 46,
    "start_time": "2024-07-28T11:34:01.272Z"
   },
   {
    "duration": 98,
    "start_time": "2024-07-28T11:34:01.319Z"
   },
   {
    "duration": 3620,
    "start_time": "2024-07-28T11:34:54.401Z"
   },
   {
    "duration": 3546,
    "start_time": "2024-07-28T11:35:53.723Z"
   },
   {
    "duration": 3591,
    "start_time": "2024-07-28T11:36:28.850Z"
   },
   {
    "duration": 658,
    "start_time": "2024-07-28T11:36:56.485Z"
   },
   {
    "duration": 125,
    "start_time": "2024-07-28T11:36:57.145Z"
   },
   {
    "duration": 16,
    "start_time": "2024-07-28T11:36:57.274Z"
   },
   {
    "duration": 2192,
    "start_time": "2024-07-28T11:36:57.292Z"
   },
   {
    "duration": 10,
    "start_time": "2024-07-28T11:36:59.486Z"
   },
   {
    "duration": 16,
    "start_time": "2024-07-28T11:36:59.498Z"
   },
   {
    "duration": 10,
    "start_time": "2024-07-28T11:36:59.515Z"
   },
   {
    "duration": 26,
    "start_time": "2024-07-28T11:36:59.527Z"
   },
   {
    "duration": 8,
    "start_time": "2024-07-28T11:36:59.554Z"
   },
   {
    "duration": 12,
    "start_time": "2024-07-28T11:36:59.564Z"
   },
   {
    "duration": 9,
    "start_time": "2024-07-28T11:36:59.578Z"
   },
   {
    "duration": 20,
    "start_time": "2024-07-28T11:36:59.590Z"
   },
   {
    "duration": 6,
    "start_time": "2024-07-28T11:36:59.615Z"
   },
   {
    "duration": 65,
    "start_time": "2024-07-28T11:36:59.622Z"
   },
   {
    "duration": 13,
    "start_time": "2024-07-28T11:36:59.689Z"
   },
   {
    "duration": 20,
    "start_time": "2024-07-28T11:36:59.703Z"
   },
   {
    "duration": 18,
    "start_time": "2024-07-28T11:36:59.726Z"
   },
   {
    "duration": 13,
    "start_time": "2024-07-28T11:36:59.746Z"
   },
   {
    "duration": 10,
    "start_time": "2024-07-28T11:36:59.761Z"
   },
   {
    "duration": 19,
    "start_time": "2024-07-28T11:36:59.772Z"
   },
   {
    "duration": 17,
    "start_time": "2024-07-28T11:36:59.793Z"
   },
   {
    "duration": 14,
    "start_time": "2024-07-28T11:36:59.812Z"
   },
   {
    "duration": 49,
    "start_time": "2024-07-28T11:36:59.827Z"
   },
   {
    "duration": 21,
    "start_time": "2024-07-28T11:36:59.878Z"
   },
   {
    "duration": 185,
    "start_time": "2024-07-28T11:36:59.901Z"
   },
   {
    "duration": 9,
    "start_time": "2024-07-28T11:37:00.088Z"
   },
   {
    "duration": 133,
    "start_time": "2024-07-28T11:37:00.099Z"
   },
   {
    "duration": 60,
    "start_time": "2024-07-28T11:37:00.234Z"
   },
   {
    "duration": 64,
    "start_time": "2024-07-28T11:37:00.297Z"
   },
   {
    "duration": 52,
    "start_time": "2024-07-28T11:37:00.362Z"
   },
   {
    "duration": 418,
    "start_time": "2024-07-28T11:37:00.416Z"
   },
   {
    "duration": 7,
    "start_time": "2024-07-28T11:37:00.836Z"
   },
   {
    "duration": 49,
    "start_time": "2024-07-28T11:37:00.854Z"
   },
   {
    "duration": 43,
    "start_time": "2024-07-28T11:37:00.905Z"
   },
   {
    "duration": 2989,
    "start_time": "2024-07-28T11:37:00.950Z"
   },
   {
    "duration": 17,
    "start_time": "2024-07-28T11:37:03.940Z"
   },
   {
    "duration": 292,
    "start_time": "2024-07-28T11:37:03.959Z"
   },
   {
    "duration": 10,
    "start_time": "2024-07-28T11:37:04.252Z"
   },
   {
    "duration": 24,
    "start_time": "2024-07-28T11:37:04.263Z"
   },
   {
    "duration": 289,
    "start_time": "2024-07-28T11:37:04.292Z"
   },
   {
    "duration": 5,
    "start_time": "2024-07-28T11:37:04.583Z"
   },
   {
    "duration": 20,
    "start_time": "2024-07-28T11:37:04.590Z"
   },
   {
    "duration": 4,
    "start_time": "2024-07-28T11:37:04.612Z"
   },
   {
    "duration": 1805,
    "start_time": "2024-07-28T11:37:04.618Z"
   },
   {
    "duration": 17,
    "start_time": "2024-07-28T11:37:06.424Z"
   },
   {
    "duration": 25,
    "start_time": "2024-07-28T11:37:06.455Z"
   },
   {
    "duration": 3474,
    "start_time": "2024-07-28T11:37:06.482Z"
   },
   {
    "duration": 25,
    "start_time": "2024-07-28T11:37:59.851Z"
   },
   {
    "duration": 77,
    "start_time": "2024-07-28T17:14:10.123Z"
   },
   {
    "duration": 873,
    "start_time": "2024-07-28T17:22:42.235Z"
   },
   {
    "duration": 168,
    "start_time": "2024-07-28T17:22:45.910Z"
   },
   {
    "duration": 27,
    "start_time": "2024-07-28T17:22:49.038Z"
   },
   {
    "duration": 16,
    "start_time": "2024-07-28T17:22:52.679Z"
   },
   {
    "duration": 4133,
    "start_time": "2024-07-28T17:26:57.267Z"
   },
   {
    "duration": 3149,
    "start_time": "2024-07-28T17:27:56.170Z"
   },
   {
    "duration": 2213,
    "start_time": "2024-07-28T17:31:54.978Z"
   },
   {
    "duration": 11,
    "start_time": "2024-07-28T17:41:28.841Z"
   },
   {
    "duration": 65,
    "start_time": "2024-07-28T17:42:17.329Z"
   },
   {
    "duration": 9,
    "start_time": "2024-07-28T17:42:25.572Z"
   },
   {
    "duration": 14,
    "start_time": "2024-07-28T17:42:33.356Z"
   },
   {
    "duration": 52,
    "start_time": "2024-07-28T17:42:37.689Z"
   },
   {
    "duration": 80,
    "start_time": "2024-07-28T17:42:49.909Z"
   },
   {
    "duration": 12,
    "start_time": "2024-07-28T17:43:06.244Z"
   },
   {
    "duration": 10,
    "start_time": "2024-07-28T17:43:37.805Z"
   },
   {
    "duration": 20,
    "start_time": "2024-07-28T17:45:27.519Z"
   },
   {
    "duration": 9,
    "start_time": "2024-07-28T17:46:56.184Z"
   },
   {
    "duration": 8,
    "start_time": "2024-07-28T17:47:08.888Z"
   },
   {
    "duration": 22,
    "start_time": "2024-07-28T17:47:14.055Z"
   },
   {
    "duration": 10,
    "start_time": "2024-07-28T17:50:20.466Z"
   },
   {
    "duration": 16,
    "start_time": "2024-07-28T17:51:55.907Z"
   },
   {
    "duration": 19,
    "start_time": "2024-07-28T17:52:55.485Z"
   },
   {
    "duration": 21,
    "start_time": "2024-07-28T17:54:06.174Z"
   },
   {
    "duration": 57,
    "start_time": "2024-07-28T17:54:41.616Z"
   },
   {
    "duration": 20,
    "start_time": "2024-07-28T17:54:46.538Z"
   },
   {
    "duration": 643,
    "start_time": "2024-07-28T18:11:50.194Z"
   },
   {
    "duration": 112,
    "start_time": "2024-07-28T18:11:50.839Z"
   },
   {
    "duration": 28,
    "start_time": "2024-07-28T18:11:50.953Z"
   },
   {
    "duration": 18,
    "start_time": "2024-07-28T18:11:50.982Z"
   },
   {
    "duration": 2110,
    "start_time": "2024-07-28T18:11:51.003Z"
   },
   {
    "duration": 30,
    "start_time": "2024-07-28T18:11:53.115Z"
   },
   {
    "duration": 29,
    "start_time": "2024-07-28T18:11:53.147Z"
   },
   {
    "duration": 47,
    "start_time": "2024-07-28T18:11:53.177Z"
   },
   {
    "duration": 10,
    "start_time": "2024-07-28T18:11:53.226Z"
   },
   {
    "duration": 7,
    "start_time": "2024-07-28T18:11:53.238Z"
   },
   {
    "duration": 5,
    "start_time": "2024-07-28T18:11:53.247Z"
   },
   {
    "duration": 18,
    "start_time": "2024-07-28T18:11:53.254Z"
   },
   {
    "duration": 10,
    "start_time": "2024-07-28T18:11:53.274Z"
   },
   {
    "duration": 9,
    "start_time": "2024-07-28T18:11:53.288Z"
   },
   {
    "duration": 5,
    "start_time": "2024-07-28T18:11:53.299Z"
   },
   {
    "duration": 8,
    "start_time": "2024-07-28T18:11:53.305Z"
   },
   {
    "duration": 7,
    "start_time": "2024-07-28T18:11:53.315Z"
   },
   {
    "duration": 14,
    "start_time": "2024-07-28T18:11:53.324Z"
   },
   {
    "duration": 17,
    "start_time": "2024-07-28T18:11:53.340Z"
   },
   {
    "duration": 26,
    "start_time": "2024-07-28T18:11:53.359Z"
   },
   {
    "duration": 7,
    "start_time": "2024-07-28T18:11:53.386Z"
   },
   {
    "duration": 34,
    "start_time": "2024-07-28T18:11:53.394Z"
   },
   {
    "duration": 181,
    "start_time": "2024-07-28T18:11:53.430Z"
   },
   {
    "duration": 7,
    "start_time": "2024-07-28T18:11:53.612Z"
   },
   {
    "duration": 6,
    "start_time": "2024-07-28T18:11:53.620Z"
   },
   {
    "duration": 30,
    "start_time": "2024-07-28T18:11:53.628Z"
   },
   {
    "duration": 7,
    "start_time": "2024-07-28T18:11:53.659Z"
   },
   {
    "duration": 17,
    "start_time": "2024-07-28T18:11:53.668Z"
   },
   {
    "duration": 372,
    "start_time": "2024-07-28T18:11:53.687Z"
   },
   {
    "duration": 6,
    "start_time": "2024-07-28T18:11:54.061Z"
   },
   {
    "duration": 55,
    "start_time": "2024-07-28T18:11:54.069Z"
   },
   {
    "duration": 10,
    "start_time": "2024-07-28T18:11:54.125Z"
   },
   {
    "duration": 2728,
    "start_time": "2024-07-28T18:11:54.137Z"
   },
   {
    "duration": 9,
    "start_time": "2024-07-28T18:11:56.867Z"
   },
   {
    "duration": 264,
    "start_time": "2024-07-28T18:11:56.878Z"
   },
   {
    "duration": 13,
    "start_time": "2024-07-28T18:11:57.144Z"
   },
   {
    "duration": 114,
    "start_time": "2024-07-28T18:11:57.159Z"
   },
   {
    "duration": 265,
    "start_time": "2024-07-28T18:11:57.275Z"
   },
   {
    "duration": 13,
    "start_time": "2024-07-28T18:11:57.542Z"
   },
   {
    "duration": 3,
    "start_time": "2024-07-28T18:11:57.557Z"
   },
   {
    "duration": 19,
    "start_time": "2024-07-28T18:11:57.565Z"
   },
   {
    "duration": 1792,
    "start_time": "2024-07-28T18:11:57.587Z"
   },
   {
    "duration": 15,
    "start_time": "2024-07-28T18:11:59.381Z"
   },
   {
    "duration": 29,
    "start_time": "2024-07-28T18:11:59.398Z"
   },
   {
    "duration": 3357,
    "start_time": "2024-07-28T18:11:59.429Z"
   },
   {
    "duration": 2,
    "start_time": "2024-07-28T18:14:08.164Z"
   },
   {
    "duration": 103,
    "start_time": "2024-07-28T18:14:10.507Z"
   },
   {
    "duration": 22,
    "start_time": "2024-07-28T18:14:11.944Z"
   },
   {
    "duration": 18,
    "start_time": "2024-07-28T18:14:12.778Z"
   },
   {
    "duration": 2176,
    "start_time": "2024-07-28T18:14:13.434Z"
   },
   {
    "duration": 20,
    "start_time": "2024-07-28T18:14:18.235Z"
   },
   {
    "duration": 7,
    "start_time": "2024-07-28T18:14:22.798Z"
   },
   {
    "duration": 6,
    "start_time": "2024-07-28T18:14:23.294Z"
   },
   {
    "duration": 9,
    "start_time": "2024-07-28T18:14:25.778Z"
   },
   {
    "duration": 7,
    "start_time": "2024-07-28T18:14:27.684Z"
   },
   {
    "duration": 6,
    "start_time": "2024-07-28T18:14:28.299Z"
   },
   {
    "duration": 6,
    "start_time": "2024-07-28T18:14:29.072Z"
   },
   {
    "duration": 9,
    "start_time": "2024-07-28T18:14:32.419Z"
   },
   {
    "duration": 82,
    "start_time": "2024-07-28T18:14:38.347Z"
   },
   {
    "duration": 8,
    "start_time": "2024-07-28T18:15:14.523Z"
   },
   {
    "duration": 11,
    "start_time": "2024-07-28T18:15:33.381Z"
   },
   {
    "duration": 660,
    "start_time": "2024-07-28T18:16:00.116Z"
   },
   {
    "duration": 108,
    "start_time": "2024-07-28T18:16:02.043Z"
   },
   {
    "duration": 26,
    "start_time": "2024-07-28T18:16:02.532Z"
   },
   {
    "duration": 16,
    "start_time": "2024-07-28T18:16:03.124Z"
   },
   {
    "duration": 2096,
    "start_time": "2024-07-28T18:16:03.900Z"
   },
   {
    "duration": 22,
    "start_time": "2024-07-28T18:16:05.998Z"
   },
   {
    "duration": 7,
    "start_time": "2024-07-28T18:16:08.276Z"
   },
   {
    "duration": 5,
    "start_time": "2024-07-28T18:16:08.895Z"
   },
   {
    "duration": 8,
    "start_time": "2024-07-28T18:16:10.220Z"
   },
   {
    "duration": 6,
    "start_time": "2024-07-28T18:16:11.747Z"
   },
   {
    "duration": 6,
    "start_time": "2024-07-28T18:16:12.188Z"
   },
   {
    "duration": 6,
    "start_time": "2024-07-28T18:16:12.684Z"
   },
   {
    "duration": 14,
    "start_time": "2024-07-28T18:16:14.403Z"
   },
   {
    "duration": 4,
    "start_time": "2024-07-28T18:16:16.698Z"
   },
   {
    "duration": 14,
    "start_time": "2024-07-28T18:16:17.643Z"
   },
   {
    "duration": 8,
    "start_time": "2024-07-28T18:16:40.779Z"
   },
   {
    "duration": 3,
    "start_time": "2024-07-28T18:16:43.599Z"
   },
   {
    "duration": 7,
    "start_time": "2024-07-28T18:16:44.396Z"
   },
   {
    "duration": 5,
    "start_time": "2024-07-28T18:16:44.877Z"
   },
   {
    "duration": 5,
    "start_time": "2024-07-28T18:16:45.350Z"
   },
   {
    "duration": 4,
    "start_time": "2024-07-28T18:16:46.010Z"
   },
   {
    "duration": 15,
    "start_time": "2024-07-28T18:16:49.252Z"
   },
   {
    "duration": 6,
    "start_time": "2024-07-28T18:16:56.205Z"
   },
   {
    "duration": 22,
    "start_time": "2024-07-28T18:17:01.525Z"
   },
   {
    "duration": 168,
    "start_time": "2024-07-28T18:17:03.709Z"
   },
   {
    "duration": 8,
    "start_time": "2024-07-28T18:29:41.728Z"
   },
   {
    "duration": 47,
    "start_time": "2024-07-28T18:30:40.423Z"
   },
   {
    "duration": 696,
    "start_time": "2024-07-28T18:30:46.641Z"
   },
   {
    "duration": 106,
    "start_time": "2024-07-28T18:30:47.339Z"
   },
   {
    "duration": 24,
    "start_time": "2024-07-28T18:30:47.447Z"
   },
   {
    "duration": 16,
    "start_time": "2024-07-28T18:30:47.473Z"
   },
   {
    "duration": 2072,
    "start_time": "2024-07-28T18:30:47.492Z"
   },
   {
    "duration": 23,
    "start_time": "2024-07-28T18:30:49.567Z"
   },
   {
    "duration": 9,
    "start_time": "2024-07-28T18:30:49.592Z"
   },
   {
    "duration": 7,
    "start_time": "2024-07-28T18:30:49.603Z"
   },
   {
    "duration": 8,
    "start_time": "2024-07-28T18:30:49.612Z"
   },
   {
    "duration": 34,
    "start_time": "2024-07-28T18:30:49.622Z"
   },
   {
    "duration": 7,
    "start_time": "2024-07-28T18:30:49.658Z"
   },
   {
    "duration": 6,
    "start_time": "2024-07-28T18:30:49.667Z"
   },
   {
    "duration": 10,
    "start_time": "2024-07-28T18:30:49.675Z"
   },
   {
    "duration": 12,
    "start_time": "2024-07-28T18:30:49.689Z"
   },
   {
    "duration": 8,
    "start_time": "2024-07-28T18:30:49.703Z"
   },
   {
    "duration": 4,
    "start_time": "2024-07-28T18:30:49.756Z"
   },
   {
    "duration": 7,
    "start_time": "2024-07-28T18:30:49.762Z"
   },
   {
    "duration": 4,
    "start_time": "2024-07-28T18:30:49.771Z"
   },
   {
    "duration": 9,
    "start_time": "2024-07-28T18:30:49.777Z"
   },
   {
    "duration": 10,
    "start_time": "2024-07-28T18:30:49.787Z"
   },
   {
    "duration": 14,
    "start_time": "2024-07-28T18:30:49.798Z"
   },
   {
    "duration": 6,
    "start_time": "2024-07-28T18:30:49.813Z"
   },
   {
    "duration": 4,
    "start_time": "2024-07-28T18:30:49.821Z"
   },
   {
    "duration": 29,
    "start_time": "2024-07-28T18:30:49.827Z"
   },
   {
    "duration": 22,
    "start_time": "2024-07-28T18:30:49.858Z"
   },
   {
    "duration": 6,
    "start_time": "2024-07-28T18:30:49.881Z"
   },
   {
    "duration": 7,
    "start_time": "2024-07-28T18:30:49.888Z"
   },
   {
    "duration": 8,
    "start_time": "2024-07-28T18:30:49.896Z"
   },
   {
    "duration": 49,
    "start_time": "2024-07-28T18:30:49.906Z"
   },
   {
    "duration": 8,
    "start_time": "2024-07-28T18:30:49.957Z"
   },
   {
    "duration": 376,
    "start_time": "2024-07-28T18:30:49.967Z"
   },
   {
    "duration": 12,
    "start_time": "2024-07-28T18:30:50.344Z"
   },
   {
    "duration": 2,
    "start_time": "2024-07-28T18:30:50.358Z"
   },
   {
    "duration": 21,
    "start_time": "2024-07-28T18:30:50.362Z"
   },
   {
    "duration": 2728,
    "start_time": "2024-07-28T18:30:50.385Z"
   },
   {
    "duration": 9,
    "start_time": "2024-07-28T18:30:53.114Z"
   },
   {
    "duration": 257,
    "start_time": "2024-07-28T18:30:53.124Z"
   },
   {
    "duration": 9,
    "start_time": "2024-07-28T18:30:53.383Z"
   },
   {
    "duration": 24,
    "start_time": "2024-07-28T18:30:53.393Z"
   },
   {
    "duration": 270,
    "start_time": "2024-07-28T18:30:53.419Z"
   },
   {
    "duration": 5,
    "start_time": "2024-07-28T18:30:53.693Z"
   },
   {
    "duration": 28,
    "start_time": "2024-07-28T18:30:53.700Z"
   },
   {
    "duration": 19,
    "start_time": "2024-07-28T18:30:53.730Z"
   },
   {
    "duration": 1732,
    "start_time": "2024-07-28T18:30:53.751Z"
   },
   {
    "duration": 15,
    "start_time": "2024-07-28T18:30:55.484Z"
   },
   {
    "duration": 22,
    "start_time": "2024-07-28T18:30:55.500Z"
   },
   {
    "duration": 3358,
    "start_time": "2024-07-28T18:30:55.525Z"
   },
   {
    "duration": 15,
    "start_time": "2024-07-28T18:32:34.217Z"
   },
   {
    "duration": 6,
    "start_time": "2024-07-28T18:36:30.868Z"
   },
   {
    "duration": 617,
    "start_time": "2024-07-28T18:36:40.602Z"
   },
   {
    "duration": 108,
    "start_time": "2024-07-28T18:36:41.221Z"
   },
   {
    "duration": 32,
    "start_time": "2024-07-28T18:36:41.331Z"
   },
   {
    "duration": 16,
    "start_time": "2024-07-28T18:36:41.364Z"
   },
   {
    "duration": 2102,
    "start_time": "2024-07-28T18:36:41.382Z"
   },
   {
    "duration": 23,
    "start_time": "2024-07-28T18:36:43.487Z"
   },
   {
    "duration": 17,
    "start_time": "2024-07-28T18:36:43.511Z"
   },
   {
    "duration": 10,
    "start_time": "2024-07-28T18:36:43.529Z"
   },
   {
    "duration": 16,
    "start_time": "2024-07-28T18:36:43.541Z"
   },
   {
    "duration": 9,
    "start_time": "2024-07-28T18:36:43.558Z"
   },
   {
    "duration": 8,
    "start_time": "2024-07-28T18:36:43.569Z"
   },
   {
    "duration": 11,
    "start_time": "2024-07-28T18:36:43.578Z"
   },
   {
    "duration": 9,
    "start_time": "2024-07-28T18:36:43.591Z"
   },
   {
    "duration": 11,
    "start_time": "2024-07-28T18:36:43.604Z"
   },
   {
    "duration": 9,
    "start_time": "2024-07-28T18:36:43.616Z"
   },
   {
    "duration": 3,
    "start_time": "2024-07-28T18:36:43.655Z"
   },
   {
    "duration": 9,
    "start_time": "2024-07-28T18:36:43.660Z"
   },
   {
    "duration": 9,
    "start_time": "2024-07-28T18:36:43.670Z"
   },
   {
    "duration": 11,
    "start_time": "2024-07-28T18:36:43.680Z"
   },
   {
    "duration": 5,
    "start_time": "2024-07-28T18:36:43.692Z"
   },
   {
    "duration": 26,
    "start_time": "2024-07-28T18:36:43.699Z"
   },
   {
    "duration": 14,
    "start_time": "2024-07-28T18:36:43.727Z"
   },
   {
    "duration": 12,
    "start_time": "2024-07-28T18:36:43.743Z"
   },
   {
    "duration": 5,
    "start_time": "2024-07-28T18:36:43.757Z"
   },
   {
    "duration": 19,
    "start_time": "2024-07-28T18:36:43.763Z"
   },
   {
    "duration": 7,
    "start_time": "2024-07-28T18:36:43.783Z"
   },
   {
    "duration": 7,
    "start_time": "2024-07-28T18:36:43.791Z"
   },
   {
    "duration": 10,
    "start_time": "2024-07-28T18:36:43.799Z"
   },
   {
    "duration": 14,
    "start_time": "2024-07-28T18:36:43.810Z"
   },
   {
    "duration": 36,
    "start_time": "2024-07-28T18:36:43.825Z"
   },
   {
    "duration": 355,
    "start_time": "2024-07-28T18:36:43.862Z"
   },
   {
    "duration": 7,
    "start_time": "2024-07-28T18:36:44.219Z"
   },
   {
    "duration": 29,
    "start_time": "2024-07-28T18:36:44.228Z"
   },
   {
    "duration": 4,
    "start_time": "2024-07-28T18:36:44.259Z"
   },
   {
    "duration": 2809,
    "start_time": "2024-07-28T18:36:44.265Z"
   },
   {
    "duration": 9,
    "start_time": "2024-07-28T18:36:47.076Z"
   },
   {
    "duration": 299,
    "start_time": "2024-07-28T18:36:47.087Z"
   },
   {
    "duration": 9,
    "start_time": "2024-07-28T18:36:47.388Z"
   },
   {
    "duration": 37,
    "start_time": "2024-07-28T18:36:47.399Z"
   },
   {
    "duration": 274,
    "start_time": "2024-07-28T18:36:47.438Z"
   },
   {
    "duration": 5,
    "start_time": "2024-07-28T18:36:47.716Z"
   },
   {
    "duration": 12,
    "start_time": "2024-07-28T18:36:47.723Z"
   },
   {
    "duration": 30,
    "start_time": "2024-07-28T18:36:47.737Z"
   },
   {
    "duration": 1736,
    "start_time": "2024-07-28T18:36:47.768Z"
   },
   {
    "duration": 14,
    "start_time": "2024-07-28T18:36:49.506Z"
   },
   {
    "duration": 43,
    "start_time": "2024-07-28T18:36:49.521Z"
   },
   {
    "duration": 3342,
    "start_time": "2024-07-28T18:36:49.566Z"
   },
   {
    "duration": 662,
    "start_time": "2024-07-28T18:43:09.483Z"
   },
   {
    "duration": 105,
    "start_time": "2024-07-28T18:43:10.147Z"
   },
   {
    "duration": 25,
    "start_time": "2024-07-28T18:43:10.253Z"
   },
   {
    "duration": 16,
    "start_time": "2024-07-28T18:43:10.280Z"
   },
   {
    "duration": 2045,
    "start_time": "2024-07-28T18:43:10.299Z"
   },
   {
    "duration": 22,
    "start_time": "2024-07-28T18:43:12.346Z"
   },
   {
    "duration": 6,
    "start_time": "2024-07-28T18:43:12.370Z"
   },
   {
    "duration": 15,
    "start_time": "2024-07-28T18:43:12.378Z"
   },
   {
    "duration": 35,
    "start_time": "2024-07-28T18:43:12.394Z"
   },
   {
    "duration": 17,
    "start_time": "2024-07-28T18:43:12.431Z"
   },
   {
    "duration": 23,
    "start_time": "2024-07-28T18:43:12.449Z"
   },
   {
    "duration": 23,
    "start_time": "2024-07-28T18:43:12.473Z"
   },
   {
    "duration": 45,
    "start_time": "2024-07-28T18:43:12.498Z"
   },
   {
    "duration": 26,
    "start_time": "2024-07-28T18:43:12.546Z"
   },
   {
    "duration": 18,
    "start_time": "2024-07-28T18:43:12.573Z"
   },
   {
    "duration": 18,
    "start_time": "2024-07-28T18:43:12.592Z"
   },
   {
    "duration": 40,
    "start_time": "2024-07-28T18:43:12.613Z"
   },
   {
    "duration": 30,
    "start_time": "2024-07-28T18:43:12.655Z"
   },
   {
    "duration": 22,
    "start_time": "2024-07-28T18:43:12.687Z"
   },
   {
    "duration": 37,
    "start_time": "2024-07-28T18:43:12.711Z"
   },
   {
    "duration": 35,
    "start_time": "2024-07-28T18:43:12.750Z"
   },
   {
    "duration": 25,
    "start_time": "2024-07-28T18:43:12.787Z"
   },
   {
    "duration": 19,
    "start_time": "2024-07-28T18:43:12.813Z"
   },
   {
    "duration": 32,
    "start_time": "2024-07-28T18:43:12.834Z"
   },
   {
    "duration": 38,
    "start_time": "2024-07-28T18:43:12.868Z"
   },
   {
    "duration": 21,
    "start_time": "2024-07-28T18:43:12.907Z"
   },
   {
    "duration": 30,
    "start_time": "2024-07-28T18:43:12.929Z"
   },
   {
    "duration": 27,
    "start_time": "2024-07-28T18:43:12.960Z"
   },
   {
    "duration": 24,
    "start_time": "2024-07-28T18:43:12.989Z"
   },
   {
    "duration": 31,
    "start_time": "2024-07-28T18:43:13.015Z"
   },
   {
    "duration": 376,
    "start_time": "2024-07-28T18:43:13.048Z"
   },
   {
    "duration": 7,
    "start_time": "2024-07-28T18:43:13.426Z"
   },
   {
    "duration": 23,
    "start_time": "2024-07-28T18:43:13.434Z"
   },
   {
    "duration": 18,
    "start_time": "2024-07-28T18:43:13.459Z"
   },
   {
    "duration": 321,
    "start_time": "2024-07-28T18:43:13.479Z"
   },
   {
    "duration": 0,
    "start_time": "2024-07-28T18:43:13.802Z"
   },
   {
    "duration": 0,
    "start_time": "2024-07-28T18:43:13.804Z"
   },
   {
    "duration": 0,
    "start_time": "2024-07-28T18:43:13.805Z"
   },
   {
    "duration": 0,
    "start_time": "2024-07-28T18:43:13.806Z"
   },
   {
    "duration": 0,
    "start_time": "2024-07-28T18:43:13.807Z"
   },
   {
    "duration": 0,
    "start_time": "2024-07-28T18:43:13.808Z"
   },
   {
    "duration": 0,
    "start_time": "2024-07-28T18:43:13.809Z"
   },
   {
    "duration": 0,
    "start_time": "2024-07-28T18:43:13.810Z"
   },
   {
    "duration": 0,
    "start_time": "2024-07-28T18:43:13.811Z"
   },
   {
    "duration": 0,
    "start_time": "2024-07-28T18:43:13.812Z"
   },
   {
    "duration": 0,
    "start_time": "2024-07-28T18:43:13.813Z"
   },
   {
    "duration": 0,
    "start_time": "2024-07-28T18:43:13.814Z"
   },
   {
    "duration": 4,
    "start_time": "2024-07-28T18:46:49.309Z"
   },
   {
    "duration": 3,
    "start_time": "2024-07-28T18:47:38.374Z"
   },
   {
    "duration": 2952,
    "start_time": "2024-07-28T18:47:43.471Z"
   },
   {
    "duration": 4,
    "start_time": "2024-07-28T18:48:06.086Z"
   },
   {
    "duration": 3004,
    "start_time": "2024-07-28T18:48:07.709Z"
   },
   {
    "duration": 4,
    "start_time": "2024-07-28T18:48:26.606Z"
   },
   {
    "duration": 271,
    "start_time": "2024-07-28T18:48:28.677Z"
   },
   {
    "duration": 4,
    "start_time": "2024-07-28T18:48:36.319Z"
   },
   {
    "duration": 3040,
    "start_time": "2024-07-28T18:48:37.277Z"
   },
   {
    "duration": 4,
    "start_time": "2024-07-28T18:48:41.460Z"
   },
   {
    "duration": 3026,
    "start_time": "2024-07-28T18:48:42.061Z"
   },
   {
    "duration": 11,
    "start_time": "2024-07-28T18:57:15.580Z"
   },
   {
    "duration": 12,
    "start_time": "2024-07-28T19:01:14.536Z"
   },
   {
    "duration": 6,
    "start_time": "2024-07-28T19:01:28.869Z"
   },
   {
    "duration": 6,
    "start_time": "2024-07-28T19:01:43.913Z"
   },
   {
    "duration": 15,
    "start_time": "2024-07-28T19:08:43.206Z"
   },
   {
    "duration": 8,
    "start_time": "2024-07-28T19:08:53.861Z"
   },
   {
    "duration": 6,
    "start_time": "2024-07-28T19:09:04.791Z"
   },
   {
    "duration": 7,
    "start_time": "2024-07-28T19:09:11.806Z"
   },
   {
    "duration": 6,
    "start_time": "2024-07-28T19:09:18.287Z"
   },
   {
    "duration": 5,
    "start_time": "2024-07-28T19:09:27.800Z"
   },
   {
    "duration": 5,
    "start_time": "2024-07-28T19:11:28.861Z"
   },
   {
    "duration": 6,
    "start_time": "2024-07-28T19:14:28.962Z"
   },
   {
    "duration": 5,
    "start_time": "2024-07-28T19:14:33.826Z"
   },
   {
    "duration": 7,
    "start_time": "2024-07-28T19:18:49.404Z"
   },
   {
    "duration": 5,
    "start_time": "2024-07-28T19:18:55.230Z"
   },
   {
    "duration": 6,
    "start_time": "2024-07-28T19:19:13.765Z"
   },
   {
    "duration": 6,
    "start_time": "2024-07-28T19:22:10.441Z"
   },
   {
    "duration": 6,
    "start_time": "2024-07-28T19:22:14.624Z"
   },
   {
    "duration": 5,
    "start_time": "2024-07-28T19:22:18.742Z"
   },
   {
    "duration": 6,
    "start_time": "2024-07-28T19:22:32.248Z"
   },
   {
    "duration": 1010,
    "start_time": "2024-07-28T19:23:10.986Z"
   },
   {
    "duration": 6,
    "start_time": "2024-07-28T19:23:15.946Z"
   },
   {
    "duration": 7,
    "start_time": "2024-07-28T19:23:20.227Z"
   },
   {
    "duration": 6,
    "start_time": "2024-07-28T19:23:25.625Z"
   },
   {
    "duration": 10,
    "start_time": "2024-07-28T19:26:43.317Z"
   },
   {
    "duration": 5,
    "start_time": "2024-07-28T19:26:47.389Z"
   },
   {
    "duration": 6,
    "start_time": "2024-07-28T19:27:25.191Z"
   },
   {
    "duration": 5,
    "start_time": "2024-07-28T19:27:25.757Z"
   },
   {
    "duration": 5,
    "start_time": "2024-07-28T19:27:26.509Z"
   },
   {
    "duration": 7,
    "start_time": "2024-07-28T19:27:28.205Z"
   },
   {
    "duration": 5,
    "start_time": "2024-07-28T19:27:29.573Z"
   },
   {
    "duration": 5,
    "start_time": "2024-07-28T19:27:30.566Z"
   },
   {
    "duration": 6,
    "start_time": "2024-07-28T19:27:31.885Z"
   },
   {
    "duration": 8,
    "start_time": "2024-07-28T19:27:33.373Z"
   },
   {
    "duration": 25,
    "start_time": "2024-07-28T19:27:34.853Z"
   },
   {
    "duration": 24,
    "start_time": "2024-07-28T19:27:36.261Z"
   },
   {
    "duration": 25,
    "start_time": "2024-07-28T19:27:38.416Z"
   },
   {
    "duration": 26,
    "start_time": "2024-07-28T19:27:39.549Z"
   },
   {
    "duration": 26,
    "start_time": "2024-07-28T19:27:41.173Z"
   },
   {
    "duration": 25,
    "start_time": "2024-07-28T19:27:42.533Z"
   },
   {
    "duration": 23,
    "start_time": "2024-07-28T19:27:43.845Z"
   },
   {
    "duration": 6,
    "start_time": "2024-07-28T19:27:45.142Z"
   },
   {
    "duration": 290,
    "start_time": "2024-07-28T19:27:47.484Z"
   },
   {
    "duration": 256,
    "start_time": "2024-07-28T19:27:58.350Z"
   },
   {
    "duration": 6,
    "start_time": "2024-07-28T19:28:00.735Z"
   },
   {
    "duration": 14,
    "start_time": "2024-07-28T19:34:29.106Z"
   },
   {
    "duration": 10,
    "start_time": "2024-07-28T19:36:51.181Z"
   },
   {
    "duration": 123,
    "start_time": "2024-07-28T19:37:05.525Z"
   },
   {
    "duration": 13,
    "start_time": "2024-07-28T19:43:06.995Z"
   },
   {
    "duration": 10,
    "start_time": "2024-07-28T19:48:23.262Z"
   },
   {
    "duration": 7,
    "start_time": "2024-07-28T19:48:43.949Z"
   },
   {
    "duration": 73,
    "start_time": "2024-07-28T19:49:17.789Z"
   },
   {
    "duration": 7,
    "start_time": "2024-07-28T19:49:22.990Z"
   },
   {
    "duration": 3,
    "start_time": "2024-07-28T19:49:36.749Z"
   },
   {
    "duration": 5,
    "start_time": "2024-07-28T19:49:37.303Z"
   },
   {
    "duration": 1376,
    "start_time": "2024-07-28T19:49:37.910Z"
   },
   {
    "duration": 14,
    "start_time": "2024-07-28T19:49:47.621Z"
   },
   {
    "duration": 59,
    "start_time": "2024-07-28T19:55:44.633Z"
   },
   {
    "duration": 54,
    "start_time": "2024-07-28T19:55:55.945Z"
   },
   {
    "duration": 13,
    "start_time": "2024-07-28T19:56:18.690Z"
   },
   {
    "duration": 13,
    "start_time": "2024-07-28T19:56:33.178Z"
   },
   {
    "duration": 7,
    "start_time": "2024-07-28T19:57:23.161Z"
   },
   {
    "duration": 2174,
    "start_time": "2024-07-28T19:58:20.029Z"
   },
   {
    "duration": 164,
    "start_time": "2024-07-28T19:59:59.366Z"
   },
   {
    "duration": 61,
    "start_time": "2024-07-28T20:01:37.711Z"
   },
   {
    "duration": 57,
    "start_time": "2024-07-28T20:01:44.519Z"
   },
   {
    "duration": 667,
    "start_time": "2024-07-28T20:02:32.381Z"
   },
   {
    "duration": 109,
    "start_time": "2024-07-28T20:02:33.050Z"
   },
   {
    "duration": 25,
    "start_time": "2024-07-28T20:02:33.161Z"
   },
   {
    "duration": 15,
    "start_time": "2024-07-28T20:02:33.189Z"
   },
   {
    "duration": 2154,
    "start_time": "2024-07-28T20:02:33.206Z"
   },
   {
    "duration": 31,
    "start_time": "2024-07-28T20:02:35.362Z"
   },
   {
    "duration": 43,
    "start_time": "2024-07-28T20:02:35.394Z"
   },
   {
    "duration": 28,
    "start_time": "2024-07-28T20:02:35.439Z"
   },
   {
    "duration": 24,
    "start_time": "2024-07-28T20:02:35.469Z"
   },
   {
    "duration": 14,
    "start_time": "2024-07-28T20:02:35.495Z"
   },
   {
    "duration": 15,
    "start_time": "2024-07-28T20:02:35.511Z"
   },
   {
    "duration": 27,
    "start_time": "2024-07-28T20:02:35.528Z"
   },
   {
    "duration": 78,
    "start_time": "2024-07-28T20:02:35.556Z"
   },
   {
    "duration": 72,
    "start_time": "2024-07-28T20:02:35.635Z"
   },
   {
    "duration": 18,
    "start_time": "2024-07-28T20:02:35.709Z"
   },
   {
    "duration": 32,
    "start_time": "2024-07-28T20:02:35.729Z"
   },
   {
    "duration": 29,
    "start_time": "2024-07-28T20:02:35.762Z"
   },
   {
    "duration": 18,
    "start_time": "2024-07-28T20:02:35.793Z"
   },
   {
    "duration": 29,
    "start_time": "2024-07-28T20:02:35.813Z"
   },
   {
    "duration": 39,
    "start_time": "2024-07-28T20:02:35.844Z"
   },
   {
    "duration": 33,
    "start_time": "2024-07-28T20:02:35.884Z"
   },
   {
    "duration": 16,
    "start_time": "2024-07-28T20:02:35.918Z"
   },
   {
    "duration": 17,
    "start_time": "2024-07-28T20:02:35.936Z"
   },
   {
    "duration": 59,
    "start_time": "2024-07-28T20:02:35.955Z"
   },
   {
    "duration": 45,
    "start_time": "2024-07-28T20:02:36.016Z"
   },
   {
    "duration": 17,
    "start_time": "2024-07-28T20:02:36.063Z"
   },
   {
    "duration": 28,
    "start_time": "2024-07-28T20:02:36.081Z"
   },
   {
    "duration": 29,
    "start_time": "2024-07-28T20:02:36.113Z"
   },
   {
    "duration": 43,
    "start_time": "2024-07-28T20:02:36.144Z"
   },
   {
    "duration": 37,
    "start_time": "2024-07-28T20:02:36.188Z"
   },
   {
    "duration": 366,
    "start_time": "2024-07-28T20:02:36.226Z"
   },
   {
    "duration": 9,
    "start_time": "2024-07-28T20:02:36.594Z"
   },
   {
    "duration": 100,
    "start_time": "2024-07-28T20:02:36.605Z"
   },
   {
    "duration": 15,
    "start_time": "2024-07-28T20:02:36.707Z"
   },
   {
    "duration": 2919,
    "start_time": "2024-07-28T20:02:36.723Z"
   },
   {
    "duration": 20,
    "start_time": "2024-07-28T20:02:39.644Z"
   },
   {
    "duration": 28,
    "start_time": "2024-07-28T20:02:39.666Z"
   },
   {
    "duration": 11,
    "start_time": "2024-07-28T20:02:39.696Z"
   },
   {
    "duration": 10,
    "start_time": "2024-07-28T20:02:39.709Z"
   },
   {
    "duration": 26,
    "start_time": "2024-07-28T20:02:39.720Z"
   },
   {
    "duration": 7,
    "start_time": "2024-07-28T20:02:39.748Z"
   },
   {
    "duration": 9,
    "start_time": "2024-07-28T20:02:39.757Z"
   },
   {
    "duration": 12,
    "start_time": "2024-07-28T20:02:39.767Z"
   },
   {
    "duration": 7,
    "start_time": "2024-07-28T20:02:39.781Z"
   },
   {
    "duration": 31,
    "start_time": "2024-07-28T20:02:39.789Z"
   },
   {
    "duration": 34,
    "start_time": "2024-07-28T20:02:39.822Z"
   },
   {
    "duration": 26,
    "start_time": "2024-07-28T20:02:39.857Z"
   },
   {
    "duration": 26,
    "start_time": "2024-07-28T20:02:39.885Z"
   },
   {
    "duration": 45,
    "start_time": "2024-07-28T20:02:39.913Z"
   },
   {
    "duration": 26,
    "start_time": "2024-07-28T20:02:39.959Z"
   },
   {
    "duration": 24,
    "start_time": "2024-07-28T20:02:39.986Z"
   },
   {
    "duration": 6,
    "start_time": "2024-07-28T20:02:40.012Z"
   },
   {
    "duration": 277,
    "start_time": "2024-07-28T20:02:40.020Z"
   },
   {
    "duration": 266,
    "start_time": "2024-07-28T20:02:40.299Z"
   },
   {
    "duration": 6,
    "start_time": "2024-07-28T20:02:40.567Z"
   },
   {
    "duration": 121,
    "start_time": "2024-07-28T20:02:40.574Z"
   },
   {
    "duration": 12,
    "start_time": "2024-07-28T20:02:40.697Z"
   },
   {
    "duration": 21,
    "start_time": "2024-07-28T20:02:40.711Z"
   },
   {
    "duration": 7,
    "start_time": "2024-07-28T20:02:40.734Z"
   },
   {
    "duration": 7,
    "start_time": "2024-07-28T20:02:40.742Z"
   },
   {
    "duration": 1308,
    "start_time": "2024-07-28T20:02:40.751Z"
   },
   {
    "duration": 13,
    "start_time": "2024-07-28T20:02:42.061Z"
   },
   {
    "duration": 7,
    "start_time": "2024-07-28T20:02:42.076Z"
   },
   {
    "duration": 98,
    "start_time": "2024-07-28T20:02:42.084Z"
   },
   {
    "duration": 35,
    "start_time": "2024-07-28T20:06:15.735Z"
   },
   {
    "duration": 158,
    "start_time": "2024-07-28T20:06:22.923Z"
   },
   {
    "duration": 180,
    "start_time": "2024-07-28T20:07:06.610Z"
   },
   {
    "duration": 661,
    "start_time": "2024-07-28T20:36:29.383Z"
   },
   {
    "duration": 122,
    "start_time": "2024-07-28T20:36:30.045Z"
   },
   {
    "duration": 28,
    "start_time": "2024-07-28T20:36:30.169Z"
   },
   {
    "duration": 91,
    "start_time": "2024-07-28T20:36:30.198Z"
   },
   {
    "duration": 2321,
    "start_time": "2024-07-28T20:36:30.291Z"
   },
   {
    "duration": 25,
    "start_time": "2024-07-28T20:36:32.614Z"
   },
   {
    "duration": 133,
    "start_time": "2024-07-28T20:36:32.641Z"
   },
   {
    "duration": 129,
    "start_time": "2024-07-28T20:36:32.776Z"
   },
   {
    "duration": 19,
    "start_time": "2024-07-28T20:36:32.908Z"
   },
   {
    "duration": 9,
    "start_time": "2024-07-28T20:36:32.929Z"
   },
   {
    "duration": 29,
    "start_time": "2024-07-28T20:36:32.940Z"
   },
   {
    "duration": 41,
    "start_time": "2024-07-28T20:36:32.971Z"
   },
   {
    "duration": 29,
    "start_time": "2024-07-28T20:36:33.014Z"
   },
   {
    "duration": 13,
    "start_time": "2024-07-28T20:36:33.048Z"
   },
   {
    "duration": 31,
    "start_time": "2024-07-28T20:36:33.063Z"
   },
   {
    "duration": 27,
    "start_time": "2024-07-28T20:36:33.096Z"
   },
   {
    "duration": 48,
    "start_time": "2024-07-28T20:36:33.124Z"
   },
   {
    "duration": 22,
    "start_time": "2024-07-28T20:36:33.174Z"
   },
   {
    "duration": 34,
    "start_time": "2024-07-28T20:36:33.198Z"
   },
   {
    "duration": 9,
    "start_time": "2024-07-28T20:36:33.234Z"
   },
   {
    "duration": 49,
    "start_time": "2024-07-28T20:36:33.245Z"
   },
   {
    "duration": 17,
    "start_time": "2024-07-28T20:36:33.296Z"
   },
   {
    "duration": 3,
    "start_time": "2024-07-28T20:36:33.314Z"
   },
   {
    "duration": 10,
    "start_time": "2024-07-28T20:36:33.319Z"
   },
   {
    "duration": 24,
    "start_time": "2024-07-28T20:36:33.331Z"
   },
   {
    "duration": 10,
    "start_time": "2024-07-28T20:36:33.357Z"
   },
   {
    "duration": 19,
    "start_time": "2024-07-28T20:36:33.369Z"
   },
   {
    "duration": 10,
    "start_time": "2024-07-28T20:36:33.390Z"
   },
   {
    "duration": 10,
    "start_time": "2024-07-28T20:36:33.402Z"
   },
   {
    "duration": 8,
    "start_time": "2024-07-28T20:36:33.414Z"
   },
   {
    "duration": 375,
    "start_time": "2024-07-28T20:36:33.423Z"
   },
   {
    "duration": 22,
    "start_time": "2024-07-28T20:36:33.800Z"
   },
   {
    "duration": 4,
    "start_time": "2024-07-28T20:36:33.824Z"
   },
   {
    "duration": 14,
    "start_time": "2024-07-28T20:36:33.829Z"
   },
   {
    "duration": 3110,
    "start_time": "2024-07-28T20:36:33.845Z"
   },
   {
    "duration": 13,
    "start_time": "2024-07-28T20:36:36.957Z"
   },
   {
    "duration": 5,
    "start_time": "2024-07-28T20:36:36.972Z"
   },
   {
    "duration": 9,
    "start_time": "2024-07-28T20:36:36.979Z"
   },
   {
    "duration": 20,
    "start_time": "2024-07-28T20:36:36.990Z"
   },
   {
    "duration": 10,
    "start_time": "2024-07-28T20:36:37.013Z"
   },
   {
    "duration": 29,
    "start_time": "2024-07-28T20:36:37.029Z"
   },
   {
    "duration": 6,
    "start_time": "2024-07-28T20:36:37.060Z"
   },
   {
    "duration": 8,
    "start_time": "2024-07-28T20:36:37.068Z"
   },
   {
    "duration": 20,
    "start_time": "2024-07-28T20:36:37.078Z"
   },
   {
    "duration": 45,
    "start_time": "2024-07-28T20:36:37.100Z"
   },
   {
    "duration": 29,
    "start_time": "2024-07-28T20:36:37.148Z"
   },
   {
    "duration": 27,
    "start_time": "2024-07-28T20:36:37.179Z"
   },
   {
    "duration": 54,
    "start_time": "2024-07-28T20:36:37.208Z"
   },
   {
    "duration": 28,
    "start_time": "2024-07-28T20:36:37.264Z"
   },
   {
    "duration": 26,
    "start_time": "2024-07-28T20:36:37.294Z"
   },
   {
    "duration": 53,
    "start_time": "2024-07-28T20:36:37.322Z"
   },
   {
    "duration": 8,
    "start_time": "2024-07-28T20:36:37.377Z"
   },
   {
    "duration": 297,
    "start_time": "2024-07-28T20:36:37.386Z"
   },
   {
    "duration": 262,
    "start_time": "2024-07-28T20:36:37.685Z"
   },
   {
    "duration": 5,
    "start_time": "2024-07-28T20:36:37.954Z"
   },
   {
    "duration": 111,
    "start_time": "2024-07-28T20:36:37.961Z"
   },
   {
    "duration": 12,
    "start_time": "2024-07-28T20:36:38.074Z"
   },
   {
    "duration": 5,
    "start_time": "2024-07-28T20:36:38.088Z"
   },
   {
    "duration": 5,
    "start_time": "2024-07-28T20:36:38.095Z"
   },
   {
    "duration": 4,
    "start_time": "2024-07-28T20:36:38.101Z"
   },
   {
    "duration": 1410,
    "start_time": "2024-07-28T20:36:38.106Z"
   },
   {
    "duration": 13,
    "start_time": "2024-07-28T20:36:39.518Z"
   },
   {
    "duration": 26,
    "start_time": "2024-07-28T20:36:39.533Z"
   },
   {
    "duration": 196,
    "start_time": "2024-07-28T20:36:39.561Z"
   }
  ],
  "colab": {
   "provenance": []
  },
  "kernelspec": {
   "display_name": "Python 3 (ipykernel)",
   "language": "python",
   "name": "python3"
  },
  "language_info": {
   "codemirror_mode": {
    "name": "ipython",
    "version": 3
   },
   "file_extension": ".py",
   "mimetype": "text/x-python",
   "name": "python",
   "nbconvert_exporter": "python",
   "pygments_lexer": "ipython3",
   "version": "3.9.5"
  },
  "toc": {
   "base_numbering": 1,
   "nav_menu": {},
   "number_sections": true,
   "sideBar": true,
   "skip_h1_title": true,
   "title_cell": "Table of Contents",
   "title_sidebar": "Contents",
   "toc_cell": false,
   "toc_position": {},
   "toc_section_display": true,
   "toc_window_display": false
  }
 },
 "nbformat": 4,
 "nbformat_minor": 1
}
