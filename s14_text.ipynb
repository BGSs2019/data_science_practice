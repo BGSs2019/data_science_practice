{
 "cells": [
  {
   "cell_type": "markdown",
   "metadata": {},
   "source": [
    "# Проект для «Викишоп»"
   ]
  },
  {
   "cell_type": "markdown",
   "metadata": {},
   "source": [
    "## Описание исследования\n",
    "\n",
    "Интернет-магазин «Викишоп» запускает новый сервис. Пользователи могут редактировать и дополнять описания товаров, как в вики-сообществах. Клиенты предлагают свои правки и комментируют изменения других. Магазину нужен инструмент, который будет искать токсичные комментарии и отправлять их на модерацию."
   ]
  },
  {
   "cell_type": "markdown",
   "metadata": {},
   "source": [
    "## Цель исследования\n",
    "\n",
    "- Обучить модель классифицировать комментарии как позитивные или негативные. Построить модель со значением метрики качества F1 не меньше 0.75."
   ]
  },
  {
   "cell_type": "markdown",
   "metadata": {},
   "source": [
    "## Ход исследования\n",
    "\n",
    "1. Загрузка и подготовка данных\n",
    "2. Обучение моделей\n",
    "2. Выводы"
   ]
  },
  {
   "cell_type": "markdown",
   "metadata": {},
   "source": [
    "## Описание данных\n",
    "\n",
    "- 'text' - текст комментарий\n",
    "- 'toxic' - целевой признак, является ли комментарий токсичным"
   ]
  },
  {
   "cell_type": "markdown",
   "metadata": {},
   "source": [
    "<a id='section_id'></a>\n",
    "## Содержание \n",
    "\n",
    "[Шаг 1. Загрузка данных](#section_id1)\n",
    "\n",
    "[Шаг 2. Предобработка и исследовательский анализ](#section_id2)\n",
    "\n",
    "[Шаг 3. Подготовка данных](#section_id3)\n",
    "\n",
    "[Шаг 4. Обучение моделей](#section_id4)\n",
    "\n",
    "[Шаг 5. Проверка на тестовой выборке](#section_id5)\n",
    "\n",
    "[Шаг 6. Вывод](#section_id6)"
   ]
  },
  {
   "cell_type": "code",
   "execution_count": 1,
   "metadata": {},
   "outputs": [],
   "source": [
    "# установка библиотек\n",
    "!pip install -q spacy"
   ]
  },
  {
   "cell_type": "code",
   "execution_count": 2,
   "metadata": {},
   "outputs": [],
   "source": [
    "# импорт библиотек\n",
    "\n",
    "# работа с данными\n",
    "import pandas as pd\n",
    "import numpy as np\n",
    "\n",
    "# подготовка данных\n",
    "import spacy\n",
    "import re\n",
    "from sklearn.feature_extraction.text import TfidfVectorizer\n",
    "import nltk\n",
    "from nltk.corpus import stopwords\n",
    "from sklearn.model_selection import train_test_split\n",
    "\n",
    "# модели машинного обучения\n",
    "from sklearn.linear_model import LogisticRegression\n",
    "from sklearn.tree import DecisionTreeClassifier\n",
    "from sklearn.neighbors import KNeighborsClassifier\n",
    "\n",
    "# пайплайны\n",
    "from sklearn.pipeline import Pipeline\n",
    "\n",
    "# инструменты поиска\n",
    "from sklearn.model_selection import GridSearchCV\n",
    "\n",
    "# инструменты управления ресурсами\n",
    "import joblib\n",
    "import warnings\n",
    "\n",
    "# метрика для оценки прогноза\n",
    "from sklearn.metrics import f1_score"
   ]
  },
  {
   "cell_type": "code",
   "execution_count": 3,
   "metadata": {},
   "outputs": [],
   "source": [
    "# константы\n",
    "TEST_SIZE = 0.25 \n",
    "RANDOM_STATE = 42\n",
    "\n",
    "# настройки\n",
    "warnings.filterwarnings('ignore')"
   ]
  },
  {
   "cell_type": "markdown",
   "metadata": {},
   "source": [
    "<a id='section_id1'></a>\n",
    "## Шаг 1. Загрузка данных\n",
    "[к содержанию](#section_id)"
   ]
  },
  {
   "cell_type": "code",
   "execution_count": 4,
   "metadata": {},
   "outputs": [
    {
     "data": {
      "text/html": [
       "<div>\n",
       "<style scoped>\n",
       "    .dataframe tbody tr th:only-of-type {\n",
       "        vertical-align: middle;\n",
       "    }\n",
       "\n",
       "    .dataframe tbody tr th {\n",
       "        vertical-align: top;\n",
       "    }\n",
       "\n",
       "    .dataframe thead th {\n",
       "        text-align: right;\n",
       "    }\n",
       "</style>\n",
       "<table border=\"1\" class=\"dataframe\">\n",
       "  <thead>\n",
       "    <tr style=\"text-align: right;\">\n",
       "      <th></th>\n",
       "      <th>Unnamed: 0</th>\n",
       "      <th>text</th>\n",
       "      <th>toxic</th>\n",
       "    </tr>\n",
       "  </thead>\n",
       "  <tbody>\n",
       "    <tr>\n",
       "      <th>0</th>\n",
       "      <td>0</td>\n",
       "      <td>Explanation\\nWhy the edits made under my usern...</td>\n",
       "      <td>0</td>\n",
       "    </tr>\n",
       "    <tr>\n",
       "      <th>1</th>\n",
       "      <td>1</td>\n",
       "      <td>D'aww! He matches this background colour I'm s...</td>\n",
       "      <td>0</td>\n",
       "    </tr>\n",
       "    <tr>\n",
       "      <th>2</th>\n",
       "      <td>2</td>\n",
       "      <td>Hey man, I'm really not trying to edit war. It...</td>\n",
       "      <td>0</td>\n",
       "    </tr>\n",
       "    <tr>\n",
       "      <th>3</th>\n",
       "      <td>3</td>\n",
       "      <td>\"\\nMore\\nI can't make any real suggestions on ...</td>\n",
       "      <td>0</td>\n",
       "    </tr>\n",
       "    <tr>\n",
       "      <th>4</th>\n",
       "      <td>4</td>\n",
       "      <td>You, sir, are my hero. Any chance you remember...</td>\n",
       "      <td>0</td>\n",
       "    </tr>\n",
       "  </tbody>\n",
       "</table>\n",
       "</div>"
      ],
      "text/plain": [
       "   Unnamed: 0                                               text  toxic\n",
       "0           0  Explanation\\nWhy the edits made under my usern...      0\n",
       "1           1  D'aww! He matches this background colour I'm s...      0\n",
       "2           2  Hey man, I'm really not trying to edit war. It...      0\n",
       "3           3  \"\\nMore\\nI can't make any real suggestions on ...      0\n",
       "4           4  You, sir, are my hero. Any chance you remember...      0"
      ]
     },
     "execution_count": 4,
     "metadata": {},
     "output_type": "execute_result"
    }
   ],
   "source": [
    "# загрузка данных\n",
    "df = pd.read_csv('/datasets/toxic_comments.csv')\n",
    "df.head()"
   ]
  },
  {
   "cell_type": "markdown",
   "metadata": {},
   "source": [
    "<a id='section_id2'></a>\n",
    "## Шаг 2. Предобработка и исследовательский анализ\n",
    "[к содержанию](#section_id)"
   ]
  },
  {
   "cell_type": "code",
   "execution_count": 5,
   "metadata": {},
   "outputs": [],
   "source": [
    "# удаление столбца без названия\n",
    "df = df[['text', 'toxic']]"
   ]
  },
  {
   "cell_type": "code",
   "execution_count": 6,
   "metadata": {},
   "outputs": [],
   "source": [
    "# функция для обзора данных\n",
    "def preview(dataset):\n",
    "    '''Функция принимает на вход набор данных и выводит основную информацию о нем.'''\n",
    "    display(dataset.head())\n",
    "    dataset.info()\n",
    "    display(dataset.describe(include='all', datetime_is_numeric=True).T)"
   ]
  },
  {
   "cell_type": "code",
   "execution_count": 7,
   "metadata": {},
   "outputs": [
    {
     "data": {
      "text/html": [
       "<div>\n",
       "<style scoped>\n",
       "    .dataframe tbody tr th:only-of-type {\n",
       "        vertical-align: middle;\n",
       "    }\n",
       "\n",
       "    .dataframe tbody tr th {\n",
       "        vertical-align: top;\n",
       "    }\n",
       "\n",
       "    .dataframe thead th {\n",
       "        text-align: right;\n",
       "    }\n",
       "</style>\n",
       "<table border=\"1\" class=\"dataframe\">\n",
       "  <thead>\n",
       "    <tr style=\"text-align: right;\">\n",
       "      <th></th>\n",
       "      <th>text</th>\n",
       "      <th>toxic</th>\n",
       "    </tr>\n",
       "  </thead>\n",
       "  <tbody>\n",
       "    <tr>\n",
       "      <th>0</th>\n",
       "      <td>Explanation\\nWhy the edits made under my usern...</td>\n",
       "      <td>0</td>\n",
       "    </tr>\n",
       "    <tr>\n",
       "      <th>1</th>\n",
       "      <td>D'aww! He matches this background colour I'm s...</td>\n",
       "      <td>0</td>\n",
       "    </tr>\n",
       "    <tr>\n",
       "      <th>2</th>\n",
       "      <td>Hey man, I'm really not trying to edit war. It...</td>\n",
       "      <td>0</td>\n",
       "    </tr>\n",
       "    <tr>\n",
       "      <th>3</th>\n",
       "      <td>\"\\nMore\\nI can't make any real suggestions on ...</td>\n",
       "      <td>0</td>\n",
       "    </tr>\n",
       "    <tr>\n",
       "      <th>4</th>\n",
       "      <td>You, sir, are my hero. Any chance you remember...</td>\n",
       "      <td>0</td>\n",
       "    </tr>\n",
       "  </tbody>\n",
       "</table>\n",
       "</div>"
      ],
      "text/plain": [
       "                                                text  toxic\n",
       "0  Explanation\\nWhy the edits made under my usern...      0\n",
       "1  D'aww! He matches this background colour I'm s...      0\n",
       "2  Hey man, I'm really not trying to edit war. It...      0\n",
       "3  \"\\nMore\\nI can't make any real suggestions on ...      0\n",
       "4  You, sir, are my hero. Any chance you remember...      0"
      ]
     },
     "metadata": {},
     "output_type": "display_data"
    },
    {
     "name": "stdout",
     "output_type": "stream",
     "text": [
      "<class 'pandas.core.frame.DataFrame'>\n",
      "RangeIndex: 159292 entries, 0 to 159291\n",
      "Data columns (total 2 columns):\n",
      " #   Column  Non-Null Count   Dtype \n",
      "---  ------  --------------   ----- \n",
      " 0   text    159292 non-null  object\n",
      " 1   toxic   159292 non-null  int64 \n",
      "dtypes: int64(1), object(1)\n",
      "memory usage: 2.4+ MB\n"
     ]
    },
    {
     "data": {
      "text/html": [
       "<div>\n",
       "<style scoped>\n",
       "    .dataframe tbody tr th:only-of-type {\n",
       "        vertical-align: middle;\n",
       "    }\n",
       "\n",
       "    .dataframe tbody tr th {\n",
       "        vertical-align: top;\n",
       "    }\n",
       "\n",
       "    .dataframe thead th {\n",
       "        text-align: right;\n",
       "    }\n",
       "</style>\n",
       "<table border=\"1\" class=\"dataframe\">\n",
       "  <thead>\n",
       "    <tr style=\"text-align: right;\">\n",
       "      <th></th>\n",
       "      <th>count</th>\n",
       "      <th>unique</th>\n",
       "      <th>top</th>\n",
       "      <th>freq</th>\n",
       "      <th>mean</th>\n",
       "      <th>std</th>\n",
       "      <th>min</th>\n",
       "      <th>25%</th>\n",
       "      <th>50%</th>\n",
       "      <th>75%</th>\n",
       "      <th>max</th>\n",
       "    </tr>\n",
       "  </thead>\n",
       "  <tbody>\n",
       "    <tr>\n",
       "      <th>text</th>\n",
       "      <td>159292</td>\n",
       "      <td>159292</td>\n",
       "      <td>Question about Will \\n\\nHi, do you think Will ...</td>\n",
       "      <td>1</td>\n",
       "      <td>NaN</td>\n",
       "      <td>NaN</td>\n",
       "      <td>NaN</td>\n",
       "      <td>NaN</td>\n",
       "      <td>NaN</td>\n",
       "      <td>NaN</td>\n",
       "      <td>NaN</td>\n",
       "    </tr>\n",
       "    <tr>\n",
       "      <th>toxic</th>\n",
       "      <td>159292.0</td>\n",
       "      <td>NaN</td>\n",
       "      <td>NaN</td>\n",
       "      <td>NaN</td>\n",
       "      <td>0.101612</td>\n",
       "      <td>0.302139</td>\n",
       "      <td>0.0</td>\n",
       "      <td>0.0</td>\n",
       "      <td>0.0</td>\n",
       "      <td>0.0</td>\n",
       "      <td>1.0</td>\n",
       "    </tr>\n",
       "  </tbody>\n",
       "</table>\n",
       "</div>"
      ],
      "text/plain": [
       "          count  unique                                                top  \\\n",
       "text     159292  159292  Question about Will \\n\\nHi, do you think Will ...   \n",
       "toxic  159292.0     NaN                                                NaN   \n",
       "\n",
       "      freq      mean       std  min  25%  50%  75%  max  \n",
       "text     1       NaN       NaN  NaN  NaN  NaN  NaN  NaN  \n",
       "toxic  NaN  0.101612  0.302139  0.0  0.0  0.0  0.0  1.0  "
      ]
     },
     "metadata": {},
     "output_type": "display_data"
    }
   ],
   "source": [
    "# обзор данных\n",
    "preview(df)"
   ]
  },
  {
   "cell_type": "code",
   "execution_count": 8,
   "metadata": {},
   "outputs": [
    {
     "data": {
      "text/plain": [
       "0    143106\n",
       "1     16186\n",
       "Name: toxic, dtype: int64"
      ]
     },
     "execution_count": 8,
     "metadata": {},
     "output_type": "execute_result"
    }
   ],
   "source": [
    "# определение баланса классов\n",
    "df['toxic'].value_counts()"
   ]
  },
  {
   "cell_type": "markdown",
   "metadata": {},
   "source": [
    "Выводы о данных:\n",
    "- пропусков нет\n",
    "- повторяющихся комментариев нет\n",
    "- типы данных приведены верно\n",
    "- баланс классов смещен в сторону нетоксичных комментариев"
   ]
  },
  {
   "cell_type": "markdown",
   "metadata": {},
   "source": [
    "<a id='section_id3'></a>\n",
    "## Шаг 3. Подготовка данных\n",
    "[к содержанию](#section_id)"
   ]
  },
  {
   "cell_type": "code",
   "execution_count": 9,
   "metadata": {},
   "outputs": [],
   "source": [
    "# содание тренировочной и тестовой выборки\n",
    "X_train, X_test, y_train, y_test = train_test_split(\n",
    "    df.drop(['toxic'], axis=1),\n",
    "    df['toxic'],\n",
    "    test_size = TEST_SIZE, \n",
    "    random_state = RANDOM_STATE\n",
    ")"
   ]
  },
  {
   "cell_type": "code",
   "execution_count": 10,
   "metadata": {},
   "outputs": [],
   "source": [
    "# создание списков текстов\n",
    "train_texts = X_train['text'].to_list()\n",
    "test_texts = X_test['text'].to_list()"
   ]
  },
  {
   "cell_type": "code",
   "execution_count": 11,
   "metadata": {},
   "outputs": [],
   "source": [
    "# загрузка инструментов для работы с английским языком\n",
    "nlp = spacy.load(\"en_core_web_sm\")"
   ]
  },
  {
   "cell_type": "code",
   "execution_count": 12,
   "metadata": {},
   "outputs": [],
   "source": [
    "# функция для очистки и лемматизации текста\n",
    "def lemm_text(texts):\n",
    "    '''функция принимает на вход список текстов, \n",
    "    возвращает список ощищенных от символов, лемматизированных текстов.'''\n",
    "\n",
    "    # очистка текста от всех символов, кроме латиницы\n",
    "    clean_texts = [re.sub(r'[^a-zA-Z ]', ' ', text) for text in texts]\n",
    "    \n",
    "    # разбиение списка текстов на порции\n",
    "    make_parts = lambda lst, sz: [lst[i:i+sz] for i in range(0, len(lst), sz)]\n",
    "    # разбиение на порции по 100 текстов\n",
    "    text_parts = make_parts(clean_texts, 100)\n",
    "    \n",
    "    # слияние текстов с разделителем\n",
    "    res = []\n",
    "    for part in text_parts:\n",
    "        united_texts = ' '.join([text + '*' for text in part])\n",
    "        \n",
    "        # лемматизация текстов после слияния\n",
    "        nlp_text_object = nlp(united_texts)\n",
    "        lemm_text_part = ' '.join([token.lemma_ for token in nlp_text_object])\n",
    "        \n",
    "        # наполнение списка результатов\n",
    "        lemm_text_list = lemm_text_part.split('*')\n",
    "        for text in lemm_text_list[:-1]:\n",
    "            res.append(text)\n",
    "\n",
    "    return res"
   ]
  },
  {
   "cell_type": "code",
   "execution_count": 13,
   "metadata": {
    "scrolled": true
   },
   "outputs": [
    {
     "name": "stdout",
     "output_type": "stream",
     "text": [
      "CPU times: user 23min 53s, sys: 15.2 s, total: 24min 8s\n",
      "Wall time: 24min 10s\n"
     ]
    }
   ],
   "source": [
    "%%time\n",
    "# создание корпуса лемматизированной тренировочной выборки \n",
    "with joblib.parallel_backend(\"threading\"):\n",
    "    X_train_corpus = lemm_text(train_texts)"
   ]
  },
  {
   "cell_type": "code",
   "execution_count": 14,
   "metadata": {},
   "outputs": [
    {
     "name": "stdout",
     "output_type": "stream",
     "text": [
      "119469 119469\n",
      "==================================================\n",
      "The source was also not acceptable for reasons already stated. You also just rambled on about a load of nonsense.\n",
      "--------------------------------------------------\n",
      "the source be also not acceptable for reason already state   you also just ramble on about a load of nonsense \n",
      "==================================================\n",
      "\"\n",
      "I'm sorry, Tip; the deduction was obvious (and wrong). The article as written did not contain any links to reliable sources, depending instead on the subject's own website, amazon.com, and other notoriously unreliable sources. Remember also that Notability is not contagious; being the agent for a notable person does not make this guy notable. I'd suggest you rewrite this one in a sandbox, using more reliable sources; and if there are no such sources, consider what this says about the guy's notability. Your fellow cheesehead,   |  Talk \"\n",
      "--------------------------------------------------\n",
      "    I m sorry   Tip   the deduction be obvious   and wrong    the article as write do not contain any link to reliable source   depend instead on the subject s own website   amazon com   and other notoriously unreliable source   remember also that notability be not contagious   be the agent for a notable person do not make this guy notable   I d suggest you rewrite this one in a sandbox   use more reliable source   and if there be no such source   consider what this say about the guy s notability   your fellow cheesehead        Talk   \n"
     ]
    }
   ],
   "source": [
    "# проверка корректности лемматизации тренировочной выборки\n",
    "print(len(X_train_corpus), len(train_texts))\n",
    "print('=' * 50)\n",
    "print(train_texts[0])\n",
    "print('-' * 50)\n",
    "print(X_train_corpus[0])\n",
    "print('=' * 50)\n",
    "print(train_texts[-1])\n",
    "print('-' * 50)\n",
    "print(X_train_corpus[-1])"
   ]
  },
  {
   "cell_type": "code",
   "execution_count": 15,
   "metadata": {
    "scrolled": true
   },
   "outputs": [
    {
     "name": "stdout",
     "output_type": "stream",
     "text": [
      "CPU times: user 8min 7s, sys: 6.69 s, total: 8min 14s\n",
      "Wall time: 8min 14s\n"
     ]
    }
   ],
   "source": [
    "%%time\n",
    "# создание корпуса лемматизированной тестовой выборки \n",
    "with joblib.parallel_backend(\"threading\"):\n",
    "    X_test_corpus = lemm_text(test_texts)"
   ]
  },
  {
   "cell_type": "code",
   "execution_count": 16,
   "metadata": {},
   "outputs": [
    {
     "name": "stdout",
     "output_type": "stream",
     "text": [
      "39823 39823\n",
      "==================================================\n",
      "Sometime back, I just happened to log on to www.izoom.in with a friend’s reference and I was amazed to see the concept Fresh Ideas Entertainment has come up with. So many deals… all under one roof. This website is very user friendly and easy to use and is fun to be on.\n",
      "You have Gossip, Games, Facts… Another exciting feature to add to it is Face of the Week… Every week, 4 new faces are selected and put up as izoom faces. It’s great to have been selected in four out of a group of millions. \n",
      "This new start up has already got many a deals in its kitty. Few of them being TheFortune Hotel, The Beach… are my personal favorites. izoom.in has a USP of mobile coupons. Coupons are available even when a user cannot access internet. You just need to SMS izoom support to 56767 and you get attended immediately.\n",
      "All I can say is izoom.in is a must visit website for everyone before they go out for shopping or dining or for outing.\n",
      "Cheers!!!\n",
      "--------------------------------------------------\n",
      "sometime back   I just happen to log on to www izoom in with a friend s reference and I be amazed to see the concept Fresh Ideas Entertainment have come up with   so many deal   all under one roof   this website be very user friendly and easy to use and be fun to be on   you have Gossip   Games   fact   another exciting feature to add to it be face of the Week   every week     new face be select and put up as izoom face   it s great to have be select in four out of a group of million    this new start up have already get many a deal in its kitty   few of they be TheFortune Hotel   the Beach   be my personal favorite   izoom in have a USP of mobile coupon   coupon be available even when a user can not access internet   you just need to sms izoom support to        and you get attend immediately   all I can say be izoom in be a must visit website for everyone before they go out for shopping or dining or for out   cheer    \n",
      "==================================================\n",
      "Thanks for the tip on the currency translation.  Think it's all done now.\n",
      "--------------------------------------------------\n",
      " thank for the tip on the currency translation    think it s all do now \n"
     ]
    }
   ],
   "source": [
    "# проверка корректности лемматизации тестовой выборки\n",
    "print(len(X_test_corpus), len(test_texts))\n",
    "print('=' * 50)\n",
    "print(test_texts[0])\n",
    "print('-' * 50)\n",
    "print(X_test_corpus[0])\n",
    "print('=' * 50)\n",
    "print(test_texts[3])\n",
    "print('-' * 50)\n",
    "print(X_test_corpus[3])"
   ]
  },
  {
   "cell_type": "code",
   "execution_count": 17,
   "metadata": {},
   "outputs": [],
   "source": [
    "# инициализация экземпляра класса векторизатора\n",
    "count = TfidfVectorizer(stop_words=set(stopwords.words('english')))"
   ]
  },
  {
   "cell_type": "code",
   "execution_count": 18,
   "metadata": {},
   "outputs": [
    {
     "name": "stdout",
     "output_type": "stream",
     "text": [
      "CPU times: user 7.31 s, sys: 40 ms, total: 7.35 s\n",
      "Wall time: 7.36 s\n"
     ]
    }
   ],
   "source": [
    "%%time\n",
    "# преобразование корпуса слов тренировочной выборки\n",
    "X_train_tf_idf = count.fit_transform(X_train_corpus)\n",
    "# преобразование корпуса слов тестовой выборки\n",
    "X_test_tf_idf = count.transform(X_test_corpus)"
   ]
  },
  {
   "cell_type": "markdown",
   "metadata": {},
   "source": [
    "<a id='section_id4'></a>\n",
    "## Шаг 4. Обучение моделей\n",
    "[к содержанию](#section_id)"
   ]
  },
  {
   "cell_type": "code",
   "execution_count": 19,
   "metadata": {},
   "outputs": [],
   "source": [
    "# пайплайн обучения\n",
    "pipe_final = Pipeline([\n",
    "    ('models', LogisticRegression(random_state=RANDOM_STATE))\n",
    "])"
   ]
  },
  {
   "cell_type": "code",
   "execution_count": 20,
   "metadata": {},
   "outputs": [],
   "source": [
    "# задание параметров для пайплайна\n",
    "param_grid = [\n",
    "    # словарь для модели LogisticRegression()\n",
    "    {\n",
    "        'models': [LogisticRegression(\n",
    "            random_state=RANDOM_STATE,\n",
    "            solver='liblinear',\n",
    "            penalty='l2'\n",
    "        )],\n",
    "        'models__C': [5, 10, 15],\n",
    "    },\n",
    "    \n",
    "    # словарь для модели DecisionTreeClassifier()\n",
    "    {\n",
    "        'models': [DecisionTreeClassifier(random_state=RANDOM_STATE)],\n",
    "        'models__max_features': range(6, 8),\n",
    "        'models__max_depth': range(8, 10)\n",
    "    },\n",
    "    \n",
    "    # словарь для модели KNeighborsClassifier() \n",
    "    {\n",
    "        'models': [KNeighborsClassifier()],\n",
    "        'models__n_neighbors': [5, 25]   \n",
    "    }\n",
    "]"
   ]
  },
  {
   "cell_type": "code",
   "execution_count": 21,
   "metadata": {},
   "outputs": [],
   "source": [
    "# инициализация подбора параметров\n",
    "grid_search = GridSearchCV(\n",
    "    pipe_final, \n",
    "    param_grid, \n",
    "    cv=5,\n",
    "    scoring='f1',\n",
    "    n_jobs=-1,\n",
    "    verbose=1\n",
    ")"
   ]
  },
  {
   "cell_type": "code",
   "execution_count": 22,
   "metadata": {
    "scrolled": false
   },
   "outputs": [
    {
     "name": "stdout",
     "output_type": "stream",
     "text": [
      "Fitting 5 folds for each of 9 candidates, totalling 45 fits\n",
      "Лучшая модель и её параметры:\n",
      "\n",
      " Pipeline(steps=[('models',\n",
      "                 LogisticRegression(C=15, random_state=42,\n",
      "                                    solver='liblinear'))])\n",
      "Метрика лучшей модели на тренировочной выборке: 0.766682041196146\n",
      "CPU times: user 14min 25s, sys: 6min 30s, total: 20min 56s\n",
      "Wall time: 20min 57s\n"
     ]
    }
   ],
   "source": [
    "%%time\n",
    "# запуск подбора параметров\n",
    "with joblib.parallel_backend(\"threading\"):\n",
    "        grid_search.fit(X_train_tf_idf, y_train)\n",
    "\n",
    "print('Лучшая модель и её параметры:\\n\\n', grid_search.best_estimator_)\n",
    "print ('Метрика лучшей модели на тренировочной выборке:', grid_search.best_score_)"
   ]
  },
  {
   "cell_type": "code",
   "execution_count": 23,
   "metadata": {},
   "outputs": [
    {
     "data": {
      "text/html": [
       "<div>\n",
       "<style scoped>\n",
       "    .dataframe tbody tr th:only-of-type {\n",
       "        vertical-align: middle;\n",
       "    }\n",
       "\n",
       "    .dataframe tbody tr th {\n",
       "        vertical-align: top;\n",
       "    }\n",
       "\n",
       "    .dataframe thead th {\n",
       "        text-align: right;\n",
       "    }\n",
       "</style>\n",
       "<table border=\"1\" class=\"dataframe\">\n",
       "  <thead>\n",
       "    <tr style=\"text-align: right;\">\n",
       "      <th></th>\n",
       "      <th>mean_fit_time</th>\n",
       "      <th>std_fit_time</th>\n",
       "      <th>mean_score_time</th>\n",
       "      <th>std_score_time</th>\n",
       "      <th>param_models</th>\n",
       "      <th>param_models__C</th>\n",
       "      <th>param_models__max_depth</th>\n",
       "      <th>param_models__max_features</th>\n",
       "      <th>param_models__n_neighbors</th>\n",
       "      <th>params</th>\n",
       "      <th>split0_test_score</th>\n",
       "      <th>split1_test_score</th>\n",
       "      <th>split2_test_score</th>\n",
       "      <th>split3_test_score</th>\n",
       "      <th>split4_test_score</th>\n",
       "      <th>mean_test_score</th>\n",
       "      <th>std_test_score</th>\n",
       "      <th>rank_test_score</th>\n",
       "    </tr>\n",
       "  </thead>\n",
       "  <tbody>\n",
       "    <tr>\n",
       "      <th>2</th>\n",
       "      <td>15.547536</td>\n",
       "      <td>0.601210</td>\n",
       "      <td>0.010678</td>\n",
       "      <td>0.000550</td>\n",
       "      <td>LogisticRegression(C=15, random_state=42, solv...</td>\n",
       "      <td>15</td>\n",
       "      <td>NaN</td>\n",
       "      <td>NaN</td>\n",
       "      <td>NaN</td>\n",
       "      <td>{'models': LogisticRegression(C=15, random_sta...</td>\n",
       "      <td>0.765125</td>\n",
       "      <td>0.759722</td>\n",
       "      <td>0.778465</td>\n",
       "      <td>0.760439</td>\n",
       "      <td>0.769659</td>\n",
       "      <td>0.766682</td>\n",
       "      <td>0.006893</td>\n",
       "      <td>1</td>\n",
       "    </tr>\n",
       "    <tr>\n",
       "      <th>1</th>\n",
       "      <td>15.649200</td>\n",
       "      <td>0.163290</td>\n",
       "      <td>0.011057</td>\n",
       "      <td>0.000410</td>\n",
       "      <td>LogisticRegression(C=15, random_state=42, solv...</td>\n",
       "      <td>10</td>\n",
       "      <td>NaN</td>\n",
       "      <td>NaN</td>\n",
       "      <td>NaN</td>\n",
       "      <td>{'models': LogisticRegression(C=15, random_sta...</td>\n",
       "      <td>0.764842</td>\n",
       "      <td>0.758653</td>\n",
       "      <td>0.778496</td>\n",
       "      <td>0.760000</td>\n",
       "      <td>0.767104</td>\n",
       "      <td>0.765819</td>\n",
       "      <td>0.007050</td>\n",
       "      <td>2</td>\n",
       "    </tr>\n",
       "    <tr>\n",
       "      <th>0</th>\n",
       "      <td>13.187956</td>\n",
       "      <td>0.767669</td>\n",
       "      <td>0.010389</td>\n",
       "      <td>0.000076</td>\n",
       "      <td>LogisticRegression(C=15, random_state=42, solv...</td>\n",
       "      <td>5</td>\n",
       "      <td>NaN</td>\n",
       "      <td>NaN</td>\n",
       "      <td>NaN</td>\n",
       "      <td>{'models': LogisticRegression(C=15, random_sta...</td>\n",
       "      <td>0.761120</td>\n",
       "      <td>0.752320</td>\n",
       "      <td>0.773723</td>\n",
       "      <td>0.756976</td>\n",
       "      <td>0.760610</td>\n",
       "      <td>0.760950</td>\n",
       "      <td>0.007121</td>\n",
       "      <td>3</td>\n",
       "    </tr>\n",
       "    <tr>\n",
       "      <th>7</th>\n",
       "      <td>0.032401</td>\n",
       "      <td>0.003908</td>\n",
       "      <td>101.710705</td>\n",
       "      <td>0.620134</td>\n",
       "      <td>KNeighborsClassifier()</td>\n",
       "      <td>NaN</td>\n",
       "      <td>NaN</td>\n",
       "      <td>NaN</td>\n",
       "      <td>5</td>\n",
       "      <td>{'models': KNeighborsClassifier(), 'models__n_...</td>\n",
       "      <td>0.249917</td>\n",
       "      <td>0.250171</td>\n",
       "      <td>0.256110</td>\n",
       "      <td>0.251768</td>\n",
       "      <td>0.243852</td>\n",
       "      <td>0.250364</td>\n",
       "      <td>0.003940</td>\n",
       "      <td>4</td>\n",
       "    </tr>\n",
       "    <tr>\n",
       "      <th>8</th>\n",
       "      <td>0.033375</td>\n",
       "      <td>0.001149</td>\n",
       "      <td>101.527738</td>\n",
       "      <td>0.692606</td>\n",
       "      <td>KNeighborsClassifier()</td>\n",
       "      <td>NaN</td>\n",
       "      <td>NaN</td>\n",
       "      <td>NaN</td>\n",
       "      <td>25</td>\n",
       "      <td>{'models': KNeighborsClassifier(), 'models__n_...</td>\n",
       "      <td>0.117375</td>\n",
       "      <td>0.116647</td>\n",
       "      <td>0.112273</td>\n",
       "      <td>0.103623</td>\n",
       "      <td>0.094716</td>\n",
       "      <td>0.108927</td>\n",
       "      <td>0.008628</td>\n",
       "      <td>5</td>\n",
       "    </tr>\n",
       "    <tr>\n",
       "      <th>3</th>\n",
       "      <td>0.115687</td>\n",
       "      <td>0.006541</td>\n",
       "      <td>0.030254</td>\n",
       "      <td>0.000666</td>\n",
       "      <td>DecisionTreeClassifier(random_state=42)</td>\n",
       "      <td>NaN</td>\n",
       "      <td>8</td>\n",
       "      <td>6</td>\n",
       "      <td>NaN</td>\n",
       "      <td>{'models': DecisionTreeClassifier(random_state...</td>\n",
       "      <td>0.000000</td>\n",
       "      <td>0.001642</td>\n",
       "      <td>0.000821</td>\n",
       "      <td>0.000000</td>\n",
       "      <td>0.000000</td>\n",
       "      <td>0.000493</td>\n",
       "      <td>0.000657</td>\n",
       "      <td>6</td>\n",
       "    </tr>\n",
       "    <tr>\n",
       "      <th>5</th>\n",
       "      <td>0.116077</td>\n",
       "      <td>0.005737</td>\n",
       "      <td>0.029900</td>\n",
       "      <td>0.000246</td>\n",
       "      <td>DecisionTreeClassifier(random_state=42)</td>\n",
       "      <td>NaN</td>\n",
       "      <td>9</td>\n",
       "      <td>6</td>\n",
       "      <td>NaN</td>\n",
       "      <td>{'models': DecisionTreeClassifier(random_state...</td>\n",
       "      <td>0.000000</td>\n",
       "      <td>0.001642</td>\n",
       "      <td>0.000821</td>\n",
       "      <td>0.000000</td>\n",
       "      <td>0.000000</td>\n",
       "      <td>0.000493</td>\n",
       "      <td>0.000657</td>\n",
       "      <td>6</td>\n",
       "    </tr>\n",
       "    <tr>\n",
       "      <th>4</th>\n",
       "      <td>0.116147</td>\n",
       "      <td>0.002403</td>\n",
       "      <td>0.032728</td>\n",
       "      <td>0.004552</td>\n",
       "      <td>DecisionTreeClassifier(random_state=42)</td>\n",
       "      <td>NaN</td>\n",
       "      <td>8</td>\n",
       "      <td>7</td>\n",
       "      <td>NaN</td>\n",
       "      <td>{'models': DecisionTreeClassifier(random_state...</td>\n",
       "      <td>0.000000</td>\n",
       "      <td>0.000000</td>\n",
       "      <td>0.000821</td>\n",
       "      <td>0.000000</td>\n",
       "      <td>0.000000</td>\n",
       "      <td>0.000164</td>\n",
       "      <td>0.000329</td>\n",
       "      <td>8</td>\n",
       "    </tr>\n",
       "    <tr>\n",
       "      <th>6</th>\n",
       "      <td>0.132552</td>\n",
       "      <td>0.008930</td>\n",
       "      <td>0.031114</td>\n",
       "      <td>0.000797</td>\n",
       "      <td>DecisionTreeClassifier(random_state=42)</td>\n",
       "      <td>NaN</td>\n",
       "      <td>9</td>\n",
       "      <td>7</td>\n",
       "      <td>NaN</td>\n",
       "      <td>{'models': DecisionTreeClassifier(random_state...</td>\n",
       "      <td>0.000000</td>\n",
       "      <td>0.000000</td>\n",
       "      <td>0.000821</td>\n",
       "      <td>0.000000</td>\n",
       "      <td>0.000000</td>\n",
       "      <td>0.000164</td>\n",
       "      <td>0.000329</td>\n",
       "      <td>8</td>\n",
       "    </tr>\n",
       "  </tbody>\n",
       "</table>\n",
       "</div>"
      ],
      "text/plain": [
       "   mean_fit_time  std_fit_time  mean_score_time  std_score_time  \\\n",
       "2      15.547536      0.601210         0.010678        0.000550   \n",
       "1      15.649200      0.163290         0.011057        0.000410   \n",
       "0      13.187956      0.767669         0.010389        0.000076   \n",
       "7       0.032401      0.003908       101.710705        0.620134   \n",
       "8       0.033375      0.001149       101.527738        0.692606   \n",
       "3       0.115687      0.006541         0.030254        0.000666   \n",
       "5       0.116077      0.005737         0.029900        0.000246   \n",
       "4       0.116147      0.002403         0.032728        0.004552   \n",
       "6       0.132552      0.008930         0.031114        0.000797   \n",
       "\n",
       "                                        param_models param_models__C  \\\n",
       "2  LogisticRegression(C=15, random_state=42, solv...              15   \n",
       "1  LogisticRegression(C=15, random_state=42, solv...              10   \n",
       "0  LogisticRegression(C=15, random_state=42, solv...               5   \n",
       "7                             KNeighborsClassifier()             NaN   \n",
       "8                             KNeighborsClassifier()             NaN   \n",
       "3            DecisionTreeClassifier(random_state=42)             NaN   \n",
       "5            DecisionTreeClassifier(random_state=42)             NaN   \n",
       "4            DecisionTreeClassifier(random_state=42)             NaN   \n",
       "6            DecisionTreeClassifier(random_state=42)             NaN   \n",
       "\n",
       "  param_models__max_depth param_models__max_features  \\\n",
       "2                     NaN                        NaN   \n",
       "1                     NaN                        NaN   \n",
       "0                     NaN                        NaN   \n",
       "7                     NaN                        NaN   \n",
       "8                     NaN                        NaN   \n",
       "3                       8                          6   \n",
       "5                       9                          6   \n",
       "4                       8                          7   \n",
       "6                       9                          7   \n",
       "\n",
       "  param_models__n_neighbors  \\\n",
       "2                       NaN   \n",
       "1                       NaN   \n",
       "0                       NaN   \n",
       "7                         5   \n",
       "8                        25   \n",
       "3                       NaN   \n",
       "5                       NaN   \n",
       "4                       NaN   \n",
       "6                       NaN   \n",
       "\n",
       "                                              params  split0_test_score  \\\n",
       "2  {'models': LogisticRegression(C=15, random_sta...           0.765125   \n",
       "1  {'models': LogisticRegression(C=15, random_sta...           0.764842   \n",
       "0  {'models': LogisticRegression(C=15, random_sta...           0.761120   \n",
       "7  {'models': KNeighborsClassifier(), 'models__n_...           0.249917   \n",
       "8  {'models': KNeighborsClassifier(), 'models__n_...           0.117375   \n",
       "3  {'models': DecisionTreeClassifier(random_state...           0.000000   \n",
       "5  {'models': DecisionTreeClassifier(random_state...           0.000000   \n",
       "4  {'models': DecisionTreeClassifier(random_state...           0.000000   \n",
       "6  {'models': DecisionTreeClassifier(random_state...           0.000000   \n",
       "\n",
       "   split1_test_score  split2_test_score  split3_test_score  split4_test_score  \\\n",
       "2           0.759722           0.778465           0.760439           0.769659   \n",
       "1           0.758653           0.778496           0.760000           0.767104   \n",
       "0           0.752320           0.773723           0.756976           0.760610   \n",
       "7           0.250171           0.256110           0.251768           0.243852   \n",
       "8           0.116647           0.112273           0.103623           0.094716   \n",
       "3           0.001642           0.000821           0.000000           0.000000   \n",
       "5           0.001642           0.000821           0.000000           0.000000   \n",
       "4           0.000000           0.000821           0.000000           0.000000   \n",
       "6           0.000000           0.000821           0.000000           0.000000   \n",
       "\n",
       "   mean_test_score  std_test_score  rank_test_score  \n",
       "2         0.766682        0.006893                1  \n",
       "1         0.765819        0.007050                2  \n",
       "0         0.760950        0.007121                3  \n",
       "7         0.250364        0.003940                4  \n",
       "8         0.108927        0.008628                5  \n",
       "3         0.000493        0.000657                6  \n",
       "5         0.000493        0.000657                6  \n",
       "4         0.000164        0.000329                8  \n",
       "6         0.000164        0.000329                8  "
      ]
     },
     "execution_count": 23,
     "metadata": {},
     "output_type": "execute_result"
    }
   ],
   "source": [
    "# получение результатов лучших моделей\n",
    "results = pd.DataFrame(grid_search.cv_results_)\n",
    "results.sort_values(by='rank_test_score', inplace=True)\n",
    "results.head(10)"
   ]
  },
  {
   "cell_type": "markdown",
   "metadata": {},
   "source": [
    "<a id='section_id5'></a>\n",
    "## Шаг 5. Проверка на тестовой выборке\n",
    "[к содержанию](#section_id)"
   ]
  },
  {
   "cell_type": "code",
   "execution_count": 24,
   "metadata": {},
   "outputs": [
    {
     "name": "stdout",
     "output_type": "stream",
     "text": [
      "f1 тестовой выборки: 0.7802182621909103\n"
     ]
    }
   ],
   "source": [
    "# проверка лучшей модели на тестовой выборке\n",
    "pred = grid_search.best_estimator_.predict(X_test_tf_idf)\n",
    "\n",
    "print(\"f1 тестовой выборки:\", f1_score(y_test, pred))"
   ]
  },
  {
   "cell_type": "markdown",
   "metadata": {},
   "source": [
    "<a id='section_id6'></a>\n",
    "## Шаг 6. Вывод\n",
    "[к содержанию](#section_id)"
   ]
  },
  {
   "cell_type": "markdown",
   "metadata": {},
   "source": [
    "Решена задача по классификации токсичных комментариев. При создании тренировочной и тестовой выборки выявлено, что токсичных коментариев значительно меньше, поэтому применена стратификация, чтобы равномерно распределить комментарии каждого класса по выборкам. Лемматизация произведена с помощью pymystem3 внутри функции, фильтровались специальные символы и стоп-слова. Для получения наборов признаков для обучения моделей использовался CountVectorizer, так как он показал лучшие результаты в сравнении с TfIdfVectorizer. Обучение производилось в пайплайне: исследовались модели LogisticRegression, DecisionTreeClassifier, KNeighborsClassifier. Лучшей моделью стала LogisticRegression с параметром регуляризации C=15. Неплохие результаты показала модель KNeighborsClassifier с параметрами n_neighbors=5. На тестовой выборке лучшая модель показала значение метрики f1_score равным 0.78"
   ]
  },
  {
   "cell_type": "markdown",
   "metadata": {},
   "source": [
    "## Чек-лист проверки"
   ]
  },
  {
   "cell_type": "markdown",
   "metadata": {},
   "source": [
    "- [x]  Jupyter Notebook открыт\n",
    "- [x]  Весь код выполняется без ошибок\n",
    "- [x]  Ячейки с кодом расположены в порядке исполнения\n",
    "- [x]  Данные загружены и подготовлены\n",
    "- [x]  Модели обучены\n",
    "- [x]  Значение метрики *F1* не меньше 0.75\n",
    "- [x]  Выводы написаны"
   ]
  }
 ],
 "metadata": {
  "ExecuteTimeLog": [
   {
    "duration": 1206,
    "start_time": "2024-12-25T18:21:24.854Z"
   },
   {
    "duration": 4,
    "start_time": "2024-12-25T18:21:40.002Z"
   },
   {
    "duration": 1307,
    "start_time": "2024-12-25T18:22:10.387Z"
   },
   {
    "duration": 997,
    "start_time": "2024-12-25T18:23:14.072Z"
   },
   {
    "duration": 928,
    "start_time": "2024-12-25T18:23:20.639Z"
   },
   {
    "duration": 11,
    "start_time": "2024-12-25T18:24:02.604Z"
   },
   {
    "duration": 22,
    "start_time": "2024-12-25T18:24:26.818Z"
   },
   {
    "duration": 3,
    "start_time": "2024-12-25T18:24:33.119Z"
   },
   {
    "duration": 286,
    "start_time": "2024-12-25T18:24:39.432Z"
   },
   {
    "duration": 11,
    "start_time": "2024-12-25T18:24:50.230Z"
   },
   {
    "duration": 1207,
    "start_time": "2024-12-29T08:36:33.765Z"
   },
   {
    "duration": 3,
    "start_time": "2024-12-29T08:36:34.975Z"
   },
   {
    "duration": 1361,
    "start_time": "2024-12-29T08:36:34.980Z"
   },
   {
    "duration": 10,
    "start_time": "2024-12-29T08:36:36.343Z"
   },
   {
    "duration": 51,
    "start_time": "2024-12-29T08:36:36.354Z"
   },
   {
    "duration": 359,
    "start_time": "2024-12-29T08:36:36.407Z"
   },
   {
    "duration": 104,
    "start_time": "2024-12-29T08:44:00.160Z"
   },
   {
    "duration": 2265,
    "start_time": "2024-12-29T08:44:08.279Z"
   },
   {
    "duration": 245,
    "start_time": "2024-12-29T08:56:27.736Z"
   },
   {
    "duration": 244,
    "start_time": "2024-12-29T09:14:24.099Z"
   },
   {
    "duration": 4,
    "start_time": "2024-12-29T09:20:20.098Z"
   },
   {
    "duration": 4,
    "start_time": "2024-12-29T09:20:21.291Z"
   },
   {
    "duration": 144,
    "start_time": "2024-12-29T09:21:10.951Z"
   },
   {
    "duration": 5,
    "start_time": "2024-12-29T09:21:37.215Z"
   },
   {
    "duration": 4,
    "start_time": "2024-12-29T09:22:07.276Z"
   },
   {
    "duration": 3,
    "start_time": "2024-12-29T09:23:28.245Z"
   },
   {
    "duration": 150,
    "start_time": "2024-12-29T09:25:30.782Z"
   },
   {
    "duration": 41,
    "start_time": "2024-12-29T09:26:57.011Z"
   },
   {
    "duration": 153,
    "start_time": "2024-12-29T09:31:51.374Z"
   },
   {
    "duration": 4,
    "start_time": "2024-12-29T09:34:58.610Z"
   },
   {
    "duration": 92,
    "start_time": "2024-12-29T09:35:07.100Z"
   },
   {
    "duration": 4,
    "start_time": "2024-12-29T09:35:35.667Z"
   },
   {
    "duration": 107,
    "start_time": "2024-12-29T09:35:35.673Z"
   },
   {
    "duration": 988,
    "start_time": "2024-12-29T09:35:35.785Z"
   },
   {
    "duration": 19,
    "start_time": "2024-12-29T09:35:36.775Z"
   },
   {
    "duration": 44,
    "start_time": "2024-12-29T09:35:36.797Z"
   },
   {
    "duration": 524,
    "start_time": "2024-12-29T09:35:36.843Z"
   },
   {
    "duration": 1361,
    "start_time": "2024-12-29T09:35:55.765Z"
   },
   {
    "duration": 2,
    "start_time": "2024-12-29T09:35:57.128Z"
   },
   {
    "duration": 1377,
    "start_time": "2024-12-29T09:35:57.135Z"
   },
   {
    "duration": 11,
    "start_time": "2024-12-29T09:35:58.515Z"
   },
   {
    "duration": 23,
    "start_time": "2024-12-29T09:35:58.528Z"
   },
   {
    "duration": 316,
    "start_time": "2024-12-29T09:35:58.552Z"
   },
   {
    "duration": 2295,
    "start_time": "2024-12-29T09:35:58.870Z"
   },
   {
    "duration": 12,
    "start_time": "2024-12-29T09:36:01.171Z"
   },
   {
    "duration": 11,
    "start_time": "2024-12-29T09:36:01.185Z"
   },
   {
    "duration": 147,
    "start_time": "2024-12-29T09:36:01.198Z"
   },
   {
    "duration": 2,
    "start_time": "2024-12-29T09:36:01.347Z"
   },
   {
    "duration": 269,
    "start_time": "2024-12-29T09:36:01.351Z"
   },
   {
    "duration": 3,
    "start_time": "2024-12-29T09:36:41.939Z"
   },
   {
    "duration": 4,
    "start_time": "2024-12-29T09:37:06.103Z"
   },
   {
    "duration": 14,
    "start_time": "2024-12-29T09:37:17.881Z"
   },
   {
    "duration": 4,
    "start_time": "2024-12-29T09:38:14.052Z"
   },
   {
    "duration": 13,
    "start_time": "2024-12-29T09:38:14.058Z"
   },
   {
    "duration": 953,
    "start_time": "2024-12-29T09:38:14.073Z"
   },
   {
    "duration": 9,
    "start_time": "2024-12-29T09:38:15.028Z"
   },
   {
    "duration": 40,
    "start_time": "2024-12-29T09:38:15.039Z"
   },
   {
    "duration": 304,
    "start_time": "2024-12-29T09:38:15.081Z"
   },
   {
    "duration": 1362,
    "start_time": "2024-12-29T09:38:25.878Z"
   },
   {
    "duration": 2,
    "start_time": "2024-12-29T09:38:27.242Z"
   },
   {
    "duration": 1366,
    "start_time": "2024-12-29T09:38:27.246Z"
   },
   {
    "duration": 11,
    "start_time": "2024-12-29T09:38:28.614Z"
   },
   {
    "duration": 20,
    "start_time": "2024-12-29T09:38:28.627Z"
   },
   {
    "duration": 330,
    "start_time": "2024-12-29T09:38:28.649Z"
   },
   {
    "duration": 2278,
    "start_time": "2024-12-29T09:38:28.981Z"
   },
   {
    "duration": 9,
    "start_time": "2024-12-29T09:38:31.261Z"
   },
   {
    "duration": 3,
    "start_time": "2024-12-29T09:38:31.272Z"
   },
   {
    "duration": 4,
    "start_time": "2024-12-29T09:38:31.277Z"
   },
   {
    "duration": 2,
    "start_time": "2024-12-29T09:38:32.954Z"
   },
   {
    "duration": 204,
    "start_time": "2024-12-29T09:38:33.440Z"
   },
   {
    "duration": 1337,
    "start_time": "2024-12-29T09:39:37.681Z"
   },
   {
    "duration": 3,
    "start_time": "2024-12-29T09:39:39.020Z"
   },
   {
    "duration": 1002,
    "start_time": "2024-12-29T09:39:39.024Z"
   },
   {
    "duration": 10,
    "start_time": "2024-12-29T09:39:40.028Z"
   },
   {
    "duration": 17,
    "start_time": "2024-12-29T09:39:40.039Z"
   },
   {
    "duration": 325,
    "start_time": "2024-12-29T09:39:40.058Z"
   },
   {
    "duration": 2269,
    "start_time": "2024-12-29T09:39:40.385Z"
   },
   {
    "duration": 9,
    "start_time": "2024-12-29T09:39:42.655Z"
   },
   {
    "duration": 3,
    "start_time": "2024-12-29T09:39:42.671Z"
   },
   {
    "duration": 3,
    "start_time": "2024-12-29T09:39:42.676Z"
   },
   {
    "duration": 201,
    "start_time": "2024-12-29T09:39:42.680Z"
   },
   {
    "duration": 4,
    "start_time": "2024-12-29T09:43:04.928Z"
   },
   {
    "duration": 3,
    "start_time": "2024-12-29T09:43:10.095Z"
   },
   {
    "duration": 1328,
    "start_time": "2024-12-29T09:43:18.029Z"
   },
   {
    "duration": 3,
    "start_time": "2024-12-29T09:43:19.359Z"
   },
   {
    "duration": 1094,
    "start_time": "2024-12-29T09:43:19.363Z"
   },
   {
    "duration": 12,
    "start_time": "2024-12-29T09:43:20.459Z"
   },
   {
    "duration": 4,
    "start_time": "2024-12-29T09:43:20.473Z"
   },
   {
    "duration": 311,
    "start_time": "2024-12-29T09:43:20.479Z"
   },
   {
    "duration": 2283,
    "start_time": "2024-12-29T09:43:20.792Z"
   },
   {
    "duration": 18,
    "start_time": "2024-12-29T09:43:23.078Z"
   },
   {
    "duration": 7,
    "start_time": "2024-12-29T09:43:23.097Z"
   },
   {
    "duration": 16,
    "start_time": "2024-12-29T09:43:23.105Z"
   },
   {
    "duration": 25,
    "start_time": "2024-12-29T09:43:23.123Z"
   },
   {
    "duration": 213,
    "start_time": "2024-12-29T09:43:23.150Z"
   },
   {
    "duration": 8,
    "start_time": "2024-12-29T09:43:38.774Z"
   },
   {
    "duration": 10399,
    "start_time": "2024-12-29T09:43:40.327Z"
   },
   {
    "duration": 4,
    "start_time": "2024-12-29T09:45:30.782Z"
   },
   {
    "duration": 25,
    "start_time": "2024-12-29T09:45:30.787Z"
   },
   {
    "duration": 887,
    "start_time": "2024-12-29T09:45:30.813Z"
   },
   {
    "duration": 9,
    "start_time": "2024-12-29T09:45:31.702Z"
   },
   {
    "duration": 71,
    "start_time": "2024-12-29T09:45:31.713Z"
   },
   {
    "duration": 312,
    "start_time": "2024-12-29T09:45:31.786Z"
   },
   {
    "duration": 1356,
    "start_time": "2024-12-29T09:45:43.493Z"
   },
   {
    "duration": 2,
    "start_time": "2024-12-29T09:45:44.851Z"
   },
   {
    "duration": 1364,
    "start_time": "2024-12-29T09:45:44.855Z"
   },
   {
    "duration": 11,
    "start_time": "2024-12-29T09:45:46.221Z"
   },
   {
    "duration": 5,
    "start_time": "2024-12-29T09:45:46.235Z"
   },
   {
    "duration": 312,
    "start_time": "2024-12-29T09:45:46.242Z"
   },
   {
    "duration": 2244,
    "start_time": "2024-12-29T09:45:46.556Z"
   },
   {
    "duration": 5,
    "start_time": "2024-12-29T09:45:48.803Z"
   },
   {
    "duration": 10,
    "start_time": "2024-12-29T09:45:48.810Z"
   },
   {
    "duration": 11,
    "start_time": "2024-12-29T09:45:48.821Z"
   },
   {
    "duration": 11824,
    "start_time": "2024-12-29T09:45:48.833Z"
   },
   {
    "duration": 4,
    "start_time": "2024-12-29T09:46:28.148Z"
   },
   {
    "duration": 81,
    "start_time": "2024-12-29T10:39:39.502Z"
   },
   {
    "duration": 4,
    "start_time": "2024-12-29T10:50:36.663Z"
   },
   {
    "duration": 14,
    "start_time": "2024-12-29T10:50:36.670Z"
   },
   {
    "duration": 891,
    "start_time": "2024-12-29T10:50:36.687Z"
   },
   {
    "duration": 10,
    "start_time": "2024-12-29T10:50:37.580Z"
   },
   {
    "duration": 4,
    "start_time": "2024-12-29T10:50:37.592Z"
   },
   {
    "duration": 290,
    "start_time": "2024-12-29T10:50:37.598Z"
   },
   {
    "duration": 23,
    "start_time": "2024-12-29T10:50:37.890Z"
   },
   {
    "duration": 6,
    "start_time": "2024-12-29T11:02:05.312Z"
   },
   {
    "duration": 57,
    "start_time": "2024-12-29T11:02:05.320Z"
   },
   {
    "duration": 967,
    "start_time": "2024-12-29T11:02:05.379Z"
   },
   {
    "duration": 11,
    "start_time": "2024-12-29T11:02:06.347Z"
   },
   {
    "duration": 12,
    "start_time": "2024-12-29T11:02:06.360Z"
   },
   {
    "duration": 315,
    "start_time": "2024-12-29T11:02:06.373Z"
   },
   {
    "duration": 35,
    "start_time": "2024-12-29T11:02:06.689Z"
   },
   {
    "duration": 172,
    "start_time": "2024-12-29T11:02:06.727Z"
   },
   {
    "duration": 0,
    "start_time": "2024-12-29T11:02:06.901Z"
   },
   {
    "duration": 0,
    "start_time": "2024-12-29T11:02:06.902Z"
   },
   {
    "duration": 0,
    "start_time": "2024-12-29T11:02:06.904Z"
   },
   {
    "duration": 0,
    "start_time": "2024-12-29T11:02:06.905Z"
   },
   {
    "duration": 4,
    "start_time": "2024-12-29T11:02:27.594Z"
   },
   {
    "duration": 6,
    "start_time": "2024-12-29T11:02:27.600Z"
   },
   {
    "duration": 957,
    "start_time": "2024-12-29T11:02:27.608Z"
   },
   {
    "duration": 10,
    "start_time": "2024-12-29T11:02:28.571Z"
   },
   {
    "duration": 72,
    "start_time": "2024-12-29T11:02:28.583Z"
   },
   {
    "duration": 301,
    "start_time": "2024-12-29T11:02:28.657Z"
   },
   {
    "duration": 36,
    "start_time": "2024-12-29T11:02:28.960Z"
   },
   {
    "duration": 35,
    "start_time": "2024-12-29T11:02:28.998Z"
   },
   {
    "duration": 4,
    "start_time": "2024-12-29T11:02:29.035Z"
   },
   {
    "duration": 16,
    "start_time": "2024-12-29T11:02:29.040Z"
   },
   {
    "duration": 27,
    "start_time": "2024-12-29T11:02:29.057Z"
   },
   {
    "duration": 0,
    "start_time": "2024-12-29T11:02:29.085Z"
   },
   {
    "duration": 11,
    "start_time": "2024-12-29T11:02:48.200Z"
   },
   {
    "duration": 141,
    "start_time": "2024-12-29T11:02:54.212Z"
   },
   {
    "duration": 1519,
    "start_time": "2024-12-29T11:03:48.783Z"
   },
   {
    "duration": 3,
    "start_time": "2024-12-29T11:03:50.304Z"
   },
   {
    "duration": 1404,
    "start_time": "2024-12-29T11:03:50.309Z"
   },
   {
    "duration": 11,
    "start_time": "2024-12-29T11:03:51.715Z"
   },
   {
    "duration": 18,
    "start_time": "2024-12-29T11:03:51.728Z"
   },
   {
    "duration": 351,
    "start_time": "2024-12-29T11:03:51.748Z"
   },
   {
    "duration": 40,
    "start_time": "2024-12-29T11:03:52.101Z"
   },
   {
    "duration": 4,
    "start_time": "2024-12-29T11:03:52.142Z"
   },
   {
    "duration": 48,
    "start_time": "2024-12-29T11:03:52.148Z"
   },
   {
    "duration": 1923,
    "start_time": "2024-12-29T11:03:52.198Z"
   },
   {
    "duration": 0,
    "start_time": "2024-12-29T11:03:54.123Z"
   },
   {
    "duration": 0,
    "start_time": "2024-12-29T11:03:54.126Z"
   },
   {
    "duration": 0,
    "start_time": "2024-12-29T11:03:54.128Z"
   },
   {
    "duration": 5,
    "start_time": "2024-12-29T11:06:46.539Z"
   },
   {
    "duration": 5,
    "start_time": "2024-12-29T11:06:46.546Z"
   },
   {
    "duration": 1030,
    "start_time": "2024-12-29T11:06:46.553Z"
   },
   {
    "duration": 12,
    "start_time": "2024-12-29T11:06:47.585Z"
   },
   {
    "duration": 7,
    "start_time": "2024-12-29T11:06:47.599Z"
   },
   {
    "duration": 321,
    "start_time": "2024-12-29T11:06:47.607Z"
   },
   {
    "duration": 45,
    "start_time": "2024-12-29T11:06:47.929Z"
   },
   {
    "duration": 4,
    "start_time": "2024-12-29T11:06:47.977Z"
   },
   {
    "duration": 23,
    "start_time": "2024-12-29T11:06:47.985Z"
   },
   {
    "duration": 1443,
    "start_time": "2024-12-29T11:07:00.706Z"
   },
   {
    "duration": 3,
    "start_time": "2024-12-29T11:07:02.151Z"
   },
   {
    "duration": 1468,
    "start_time": "2024-12-29T11:07:02.156Z"
   },
   {
    "duration": 12,
    "start_time": "2024-12-29T11:07:03.626Z"
   },
   {
    "duration": 13,
    "start_time": "2024-12-29T11:07:03.641Z"
   },
   {
    "duration": 315,
    "start_time": "2024-12-29T11:07:03.656Z"
   },
   {
    "duration": 44,
    "start_time": "2024-12-29T11:07:03.974Z"
   },
   {
    "duration": 114,
    "start_time": "2024-12-29T11:07:04.019Z"
   },
   {
    "duration": 56,
    "start_time": "2024-12-29T11:07:04.135Z"
   },
   {
    "duration": 2006,
    "start_time": "2024-12-29T11:07:04.193Z"
   },
   {
    "duration": 1383,
    "start_time": "2024-12-29T11:09:17.580Z"
   },
   {
    "duration": 6,
    "start_time": "2024-12-29T11:09:18.964Z"
   },
   {
    "duration": 1438,
    "start_time": "2024-12-29T11:09:18.971Z"
   },
   {
    "duration": 12,
    "start_time": "2024-12-29T11:09:20.411Z"
   },
   {
    "duration": 4,
    "start_time": "2024-12-29T11:09:20.426Z"
   },
   {
    "duration": 325,
    "start_time": "2024-12-29T11:09:20.432Z"
   },
   {
    "duration": 49,
    "start_time": "2024-12-29T11:09:20.759Z"
   },
   {
    "duration": 4,
    "start_time": "2024-12-29T11:09:20.809Z"
   },
   {
    "duration": 14,
    "start_time": "2024-12-29T11:09:20.815Z"
   },
   {
    "duration": 2371,
    "start_time": "2024-12-29T11:09:20.830Z"
   },
   {
    "duration": 4,
    "start_time": "2024-12-29T11:11:10.324Z"
   },
   {
    "duration": 6,
    "start_time": "2024-12-29T11:11:10.330Z"
   },
   {
    "duration": 947,
    "start_time": "2024-12-29T11:11:10.338Z"
   },
   {
    "duration": 10,
    "start_time": "2024-12-29T11:11:11.287Z"
   },
   {
    "duration": 119,
    "start_time": "2024-12-29T11:11:11.299Z"
   },
   {
    "duration": 268,
    "start_time": "2024-12-29T11:11:11.419Z"
   },
   {
    "duration": 38,
    "start_time": "2024-12-29T11:11:11.689Z"
   },
   {
    "duration": 3,
    "start_time": "2024-12-29T11:11:11.728Z"
   },
   {
    "duration": 127,
    "start_time": "2024-12-29T11:11:11.733Z"
   },
   {
    "duration": 1432,
    "start_time": "2024-12-29T11:11:22.846Z"
   },
   {
    "duration": 3,
    "start_time": "2024-12-29T11:11:24.280Z"
   },
   {
    "duration": 1511,
    "start_time": "2024-12-29T11:11:24.285Z"
   },
   {
    "duration": 12,
    "start_time": "2024-12-29T11:11:25.798Z"
   },
   {
    "duration": 24,
    "start_time": "2024-12-29T11:11:25.812Z"
   },
   {
    "duration": 321,
    "start_time": "2024-12-29T11:11:25.838Z"
   },
   {
    "duration": 46,
    "start_time": "2024-12-29T11:11:26.161Z"
   },
   {
    "duration": 4,
    "start_time": "2024-12-29T11:11:26.209Z"
   },
   {
    "duration": 8,
    "start_time": "2024-12-29T11:11:26.215Z"
   },
   {
    "duration": 2380,
    "start_time": "2024-12-29T11:11:26.224Z"
   },
   {
    "duration": 140,
    "start_time": "2024-12-29T11:11:28.606Z"
   },
   {
    "duration": 7,
    "start_time": "2024-12-29T11:11:50.809Z"
   },
   {
    "duration": 4,
    "start_time": "2024-12-29T11:13:11.304Z"
   },
   {
    "duration": 70,
    "start_time": "2024-12-29T11:13:11.310Z"
   },
   {
    "duration": 956,
    "start_time": "2024-12-29T11:13:11.381Z"
   },
   {
    "duration": 9,
    "start_time": "2024-12-29T11:13:12.339Z"
   },
   {
    "duration": 6,
    "start_time": "2024-12-29T11:13:12.350Z"
   },
   {
    "duration": 300,
    "start_time": "2024-12-29T11:13:12.357Z"
   },
   {
    "duration": 43,
    "start_time": "2024-12-29T11:13:12.659Z"
   },
   {
    "duration": 4,
    "start_time": "2024-12-29T11:13:12.705Z"
   },
   {
    "duration": 4,
    "start_time": "2024-12-29T11:13:12.711Z"
   },
   {
    "duration": 68,
    "start_time": "2024-12-29T11:13:12.717Z"
   },
   {
    "duration": 6,
    "start_time": "2024-12-29T11:13:12.787Z"
   },
   {
    "duration": 4,
    "start_time": "2024-12-29T11:14:06.457Z"
   },
   {
    "duration": 29,
    "start_time": "2024-12-29T11:14:06.463Z"
   },
   {
    "duration": 969,
    "start_time": "2024-12-29T11:14:06.495Z"
   },
   {
    "duration": 13,
    "start_time": "2024-12-29T11:14:07.466Z"
   },
   {
    "duration": 22,
    "start_time": "2024-12-29T11:14:07.482Z"
   },
   {
    "duration": 309,
    "start_time": "2024-12-29T11:14:07.506Z"
   },
   {
    "duration": 28,
    "start_time": "2024-12-29T11:14:07.817Z"
   },
   {
    "duration": 3,
    "start_time": "2024-12-29T11:14:07.847Z"
   },
   {
    "duration": 16,
    "start_time": "2024-12-29T11:14:07.852Z"
   },
   {
    "duration": 19,
    "start_time": "2024-12-29T11:14:07.870Z"
   },
   {
    "duration": 36,
    "start_time": "2024-12-29T11:14:07.891Z"
   },
   {
    "duration": 16,
    "start_time": "2024-12-29T11:14:26.205Z"
   },
   {
    "duration": 1428,
    "start_time": "2024-12-29T11:14:43.037Z"
   },
   {
    "duration": 3,
    "start_time": "2024-12-29T11:14:44.467Z"
   },
   {
    "duration": 1084,
    "start_time": "2024-12-29T11:14:44.471Z"
   },
   {
    "duration": 16,
    "start_time": "2024-12-29T11:14:45.557Z"
   },
   {
    "duration": 29,
    "start_time": "2024-12-29T11:14:45.576Z"
   },
   {
    "duration": 373,
    "start_time": "2024-12-29T11:14:45.607Z"
   },
   {
    "duration": 41,
    "start_time": "2024-12-29T11:14:45.982Z"
   },
   {
    "duration": 4,
    "start_time": "2024-12-29T11:14:46.025Z"
   },
   {
    "duration": 13,
    "start_time": "2024-12-29T11:14:46.030Z"
   },
   {
    "duration": 30,
    "start_time": "2024-12-29T11:14:46.045Z"
   },
   {
    "duration": 239,
    "start_time": "2024-12-29T11:14:46.077Z"
   },
   {
    "duration": 5,
    "start_time": "2024-12-29T11:15:52.153Z"
   },
   {
    "duration": 28,
    "start_time": "2024-12-29T11:15:52.159Z"
   },
   {
    "duration": 1052,
    "start_time": "2024-12-29T11:15:52.190Z"
   },
   {
    "duration": 11,
    "start_time": "2024-12-29T11:15:53.243Z"
   },
   {
    "duration": 16,
    "start_time": "2024-12-29T11:15:53.256Z"
   },
   {
    "duration": 354,
    "start_time": "2024-12-29T11:15:53.274Z"
   },
   {
    "duration": 54,
    "start_time": "2024-12-29T11:15:53.630Z"
   },
   {
    "duration": 4,
    "start_time": "2024-12-29T11:15:53.686Z"
   },
   {
    "duration": 34,
    "start_time": "2024-12-29T11:15:53.692Z"
   },
   {
    "duration": 60,
    "start_time": "2024-12-29T11:15:53.727Z"
   },
   {
    "duration": 22,
    "start_time": "2024-12-29T11:15:53.789Z"
   },
   {
    "duration": 5,
    "start_time": "2024-12-29T11:16:36.206Z"
   },
   {
    "duration": 5,
    "start_time": "2024-12-29T11:17:05.378Z"
   },
   {
    "duration": 72,
    "start_time": "2024-12-29T11:17:05.386Z"
   },
   {
    "duration": 1050,
    "start_time": "2024-12-29T11:17:05.460Z"
   },
   {
    "duration": 10,
    "start_time": "2024-12-29T11:17:06.512Z"
   },
   {
    "duration": 39,
    "start_time": "2024-12-29T11:17:06.524Z"
   },
   {
    "duration": 435,
    "start_time": "2024-12-29T11:17:06.565Z"
   },
   {
    "duration": 38,
    "start_time": "2024-12-29T11:17:07.002Z"
   },
   {
    "duration": 3,
    "start_time": "2024-12-29T11:17:07.042Z"
   },
   {
    "duration": 24,
    "start_time": "2024-12-29T11:17:07.047Z"
   },
   {
    "duration": 44,
    "start_time": "2024-12-29T11:17:07.074Z"
   },
   {
    "duration": 18,
    "start_time": "2024-12-29T11:17:07.120Z"
   },
   {
    "duration": 0,
    "start_time": "2024-12-29T11:17:07.139Z"
   },
   {
    "duration": 4,
    "start_time": "2024-12-29T11:18:47.457Z"
   },
   {
    "duration": 5,
    "start_time": "2024-12-29T11:18:47.463Z"
   },
   {
    "duration": 1041,
    "start_time": "2024-12-29T11:18:47.469Z"
   },
   {
    "duration": 9,
    "start_time": "2024-12-29T11:18:48.512Z"
   },
   {
    "duration": 3,
    "start_time": "2024-12-29T11:18:48.524Z"
   },
   {
    "duration": 320,
    "start_time": "2024-12-29T11:18:48.528Z"
   },
   {
    "duration": 50,
    "start_time": "2024-12-29T11:18:48.850Z"
   },
   {
    "duration": 3,
    "start_time": "2024-12-29T11:18:48.902Z"
   },
   {
    "duration": 8,
    "start_time": "2024-12-29T11:18:48.907Z"
   },
   {
    "duration": 56,
    "start_time": "2024-12-29T11:18:48.916Z"
   },
   {
    "duration": 9,
    "start_time": "2024-12-29T11:18:48.974Z"
   },
   {
    "duration": 17,
    "start_time": "2024-12-29T11:18:48.985Z"
   },
   {
    "duration": 117,
    "start_time": "2024-12-29T11:18:49.004Z"
   },
   {
    "duration": 3,
    "start_time": "2024-12-29T11:19:19.361Z"
   },
   {
    "duration": 4,
    "start_time": "2024-12-29T11:19:49.876Z"
   },
   {
    "duration": 6,
    "start_time": "2024-12-29T11:19:49.884Z"
   },
   {
    "duration": 1071,
    "start_time": "2024-12-29T11:19:49.892Z"
   },
   {
    "duration": 19,
    "start_time": "2024-12-29T11:19:50.965Z"
   },
   {
    "duration": 17,
    "start_time": "2024-12-29T11:19:50.988Z"
   },
   {
    "duration": 343,
    "start_time": "2024-12-29T11:19:51.007Z"
   },
   {
    "duration": 48,
    "start_time": "2024-12-29T11:19:51.352Z"
   },
   {
    "duration": 22,
    "start_time": "2024-12-29T11:19:51.402Z"
   },
   {
    "duration": 37,
    "start_time": "2024-12-29T11:19:51.426Z"
   },
   {
    "duration": 50,
    "start_time": "2024-12-29T11:19:51.465Z"
   },
   {
    "duration": 25,
    "start_time": "2024-12-29T11:19:51.517Z"
   },
   {
    "duration": 0,
    "start_time": "2024-12-29T11:19:51.544Z"
   },
   {
    "duration": 0,
    "start_time": "2024-12-29T11:19:51.546Z"
   },
   {
    "duration": 31,
    "start_time": "2024-12-29T11:20:06.190Z"
   },
   {
    "duration": 4,
    "start_time": "2024-12-29T11:21:51.654Z"
   },
   {
    "duration": 27,
    "start_time": "2024-12-29T11:21:51.660Z"
   },
   {
    "duration": 1044,
    "start_time": "2024-12-29T11:21:51.689Z"
   },
   {
    "duration": 10,
    "start_time": "2024-12-29T11:21:52.735Z"
   },
   {
    "duration": 14,
    "start_time": "2024-12-29T11:21:52.747Z"
   },
   {
    "duration": 325,
    "start_time": "2024-12-29T11:21:52.762Z"
   },
   {
    "duration": 48,
    "start_time": "2024-12-29T11:21:53.091Z"
   },
   {
    "duration": 3,
    "start_time": "2024-12-29T11:21:53.141Z"
   },
   {
    "duration": 24,
    "start_time": "2024-12-29T11:21:53.147Z"
   },
   {
    "duration": 53,
    "start_time": "2024-12-29T11:21:53.174Z"
   },
   {
    "duration": 15,
    "start_time": "2024-12-29T11:21:53.229Z"
   },
   {
    "duration": 0,
    "start_time": "2024-12-29T11:21:53.246Z"
   },
   {
    "duration": 0,
    "start_time": "2024-12-29T11:21:53.247Z"
   },
   {
    "duration": 6,
    "start_time": "2024-12-29T11:22:10.187Z"
   },
   {
    "duration": 4,
    "start_time": "2024-12-29T11:22:19.943Z"
   },
   {
    "duration": 4,
    "start_time": "2024-12-29T11:24:36.877Z"
   },
   {
    "duration": 16,
    "start_time": "2024-12-29T11:24:36.883Z"
   },
   {
    "duration": 937,
    "start_time": "2024-12-29T11:24:36.901Z"
   },
   {
    "duration": 8,
    "start_time": "2024-12-29T11:24:37.840Z"
   },
   {
    "duration": 23,
    "start_time": "2024-12-29T11:24:37.851Z"
   },
   {
    "duration": 286,
    "start_time": "2024-12-29T11:24:37.875Z"
   },
   {
    "duration": 56,
    "start_time": "2024-12-29T11:24:38.162Z"
   },
   {
    "duration": 4,
    "start_time": "2024-12-29T11:24:38.220Z"
   },
   {
    "duration": 5,
    "start_time": "2024-12-29T11:24:38.226Z"
   },
   {
    "duration": 59,
    "start_time": "2024-12-29T11:24:38.233Z"
   },
   {
    "duration": 23,
    "start_time": "2024-12-29T11:24:38.294Z"
   },
   {
    "duration": 0,
    "start_time": "2024-12-29T11:24:38.319Z"
   },
   {
    "duration": 17,
    "start_time": "2024-12-29T11:27:14.472Z"
   },
   {
    "duration": 4,
    "start_time": "2024-12-29T11:28:44.020Z"
   },
   {
    "duration": 9,
    "start_time": "2024-12-29T11:28:44.026Z"
   },
   {
    "duration": 975,
    "start_time": "2024-12-29T11:28:44.037Z"
   },
   {
    "duration": 10,
    "start_time": "2024-12-29T11:28:45.014Z"
   },
   {
    "duration": 38,
    "start_time": "2024-12-29T11:28:45.026Z"
   },
   {
    "duration": 300,
    "start_time": "2024-12-29T11:28:45.065Z"
   },
   {
    "duration": 35,
    "start_time": "2024-12-29T11:28:45.371Z"
   },
   {
    "duration": 43,
    "start_time": "2024-12-29T11:28:45.407Z"
   },
   {
    "duration": 16,
    "start_time": "2024-12-29T11:28:45.452Z"
   },
   {
    "duration": 50,
    "start_time": "2024-12-29T11:28:45.470Z"
   },
   {
    "duration": 6,
    "start_time": "2024-12-29T11:29:04.796Z"
   },
   {
    "duration": 27,
    "start_time": "2024-12-29T11:29:04.804Z"
   },
   {
    "duration": 950,
    "start_time": "2024-12-29T11:29:04.833Z"
   },
   {
    "duration": 15,
    "start_time": "2024-12-29T11:29:05.786Z"
   },
   {
    "duration": 9,
    "start_time": "2024-12-29T11:29:05.806Z"
   },
   {
    "duration": 311,
    "start_time": "2024-12-29T11:29:05.817Z"
   },
   {
    "duration": 44,
    "start_time": "2024-12-29T11:29:06.130Z"
   },
   {
    "duration": 51,
    "start_time": "2024-12-29T11:29:06.177Z"
   },
   {
    "duration": 16,
    "start_time": "2024-12-29T11:29:06.230Z"
   },
   {
    "duration": 28,
    "start_time": "2024-12-29T11:29:06.247Z"
   },
   {
    "duration": 4,
    "start_time": "2024-12-29T11:30:55.114Z"
   },
   {
    "duration": 8,
    "start_time": "2024-12-29T11:30:55.120Z"
   },
   {
    "duration": 1035,
    "start_time": "2024-12-29T11:30:55.130Z"
   },
   {
    "duration": 13,
    "start_time": "2024-12-29T11:30:56.167Z"
   },
   {
    "duration": 36,
    "start_time": "2024-12-29T11:30:56.184Z"
   },
   {
    "duration": 301,
    "start_time": "2024-12-29T11:30:56.222Z"
   },
   {
    "duration": 28,
    "start_time": "2024-12-29T11:30:56.526Z"
   },
   {
    "duration": 52,
    "start_time": "2024-12-29T11:30:56.556Z"
   },
   {
    "duration": 4,
    "start_time": "2024-12-29T11:30:56.610Z"
   },
   {
    "duration": 100,
    "start_time": "2024-12-29T11:30:56.616Z"
   },
   {
    "duration": 52,
    "start_time": "2024-12-29T11:30:56.718Z"
   },
   {
    "duration": 19,
    "start_time": "2024-12-29T11:31:40.611Z"
   },
   {
    "duration": 5,
    "start_time": "2024-12-29T11:31:56.902Z"
   },
   {
    "duration": 12,
    "start_time": "2024-12-29T11:31:56.909Z"
   },
   {
    "duration": 923,
    "start_time": "2024-12-29T11:31:56.922Z"
   },
   {
    "duration": 8,
    "start_time": "2024-12-29T11:31:57.847Z"
   },
   {
    "duration": 29,
    "start_time": "2024-12-29T11:31:57.857Z"
   },
   {
    "duration": 267,
    "start_time": "2024-12-29T11:31:57.888Z"
   },
   {
    "duration": 42,
    "start_time": "2024-12-29T11:31:58.157Z"
   },
   {
    "duration": 9,
    "start_time": "2024-12-29T11:31:58.200Z"
   },
   {
    "duration": 8,
    "start_time": "2024-12-29T11:31:58.211Z"
   },
   {
    "duration": 19,
    "start_time": "2024-12-29T11:31:58.221Z"
   },
   {
    "duration": 1328,
    "start_time": "2024-12-29T11:32:58.303Z"
   },
   {
    "duration": 15,
    "start_time": "2024-12-29T11:33:07.871Z"
   },
   {
    "duration": 15,
    "start_time": "2024-12-29T11:33:28.638Z"
   },
   {
    "duration": 4,
    "start_time": "2024-12-29T11:33:36.824Z"
   },
   {
    "duration": 20,
    "start_time": "2024-12-29T11:33:36.830Z"
   },
   {
    "duration": 980,
    "start_time": "2024-12-29T11:33:36.851Z"
   },
   {
    "duration": 9,
    "start_time": "2024-12-29T11:33:37.832Z"
   },
   {
    "duration": 4,
    "start_time": "2024-12-29T11:33:37.843Z"
   },
   {
    "duration": 308,
    "start_time": "2024-12-29T11:33:37.848Z"
   },
   {
    "duration": 51,
    "start_time": "2024-12-29T11:33:38.158Z"
   },
   {
    "duration": 24,
    "start_time": "2024-12-29T11:33:38.211Z"
   },
   {
    "duration": 7,
    "start_time": "2024-12-29T11:33:38.237Z"
   },
   {
    "duration": 26,
    "start_time": "2024-12-29T11:33:38.246Z"
   },
   {
    "duration": 15,
    "start_time": "2024-12-29T11:33:50.781Z"
   },
   {
    "duration": 5,
    "start_time": "2024-12-29T11:34:02.683Z"
   },
   {
    "duration": 5,
    "start_time": "2024-12-29T11:34:13.077Z"
   },
   {
    "duration": 4,
    "start_time": "2024-12-29T11:34:18.656Z"
   },
   {
    "duration": 5,
    "start_time": "2024-12-29T11:34:26.349Z"
   },
   {
    "duration": 848,
    "start_time": "2024-12-29T11:34:43.731Z"
   },
   {
    "duration": 7,
    "start_time": "2024-12-29T11:35:34.056Z"
   },
   {
    "duration": 5,
    "start_time": "2024-12-29T11:35:42.713Z"
   },
   {
    "duration": 16,
    "start_time": "2024-12-29T11:36:43.937Z"
   },
   {
    "duration": 4,
    "start_time": "2024-12-29T11:39:26.344Z"
   },
   {
    "duration": 5,
    "start_time": "2024-12-29T11:39:26.350Z"
   },
   {
    "duration": 993,
    "start_time": "2024-12-29T11:39:26.356Z"
   },
   {
    "duration": 23,
    "start_time": "2024-12-29T11:39:27.351Z"
   },
   {
    "duration": 4,
    "start_time": "2024-12-29T11:39:27.377Z"
   },
   {
    "duration": 289,
    "start_time": "2024-12-29T11:39:27.384Z"
   },
   {
    "duration": 37,
    "start_time": "2024-12-29T11:39:27.675Z"
   },
   {
    "duration": 4,
    "start_time": "2024-12-29T11:39:27.713Z"
   },
   {
    "duration": 16,
    "start_time": "2024-12-29T11:39:27.718Z"
   },
   {
    "duration": 24,
    "start_time": "2024-12-29T11:39:27.736Z"
   },
   {
    "duration": 3,
    "start_time": "2024-12-29T11:45:11.994Z"
   },
   {
    "duration": 3,
    "start_time": "2024-12-29T11:45:11.999Z"
   },
   {
    "duration": 1043,
    "start_time": "2024-12-29T11:45:12.004Z"
   },
   {
    "duration": 10,
    "start_time": "2024-12-29T11:45:13.048Z"
   },
   {
    "duration": 4,
    "start_time": "2024-12-29T11:45:13.072Z"
   },
   {
    "duration": 334,
    "start_time": "2024-12-29T11:45:13.078Z"
   },
   {
    "duration": 37,
    "start_time": "2024-12-29T11:45:13.414Z"
   },
   {
    "duration": 19,
    "start_time": "2024-12-29T11:45:13.452Z"
   },
   {
    "duration": 4,
    "start_time": "2024-12-29T11:45:32.895Z"
   },
   {
    "duration": 894,
    "start_time": "2024-12-29T11:45:46.266Z"
   },
   {
    "duration": 6,
    "start_time": "2024-12-29T11:46:18.649Z"
   },
   {
    "duration": 59,
    "start_time": "2024-12-29T11:46:39.592Z"
   },
   {
    "duration": 5,
    "start_time": "2024-12-29T11:48:25.418Z"
   },
   {
    "duration": 5,
    "start_time": "2024-12-29T11:48:36.015Z"
   },
   {
    "duration": 8,
    "start_time": "2024-12-29T11:48:39.657Z"
   },
   {
    "duration": 12,
    "start_time": "2024-12-29T11:48:55.036Z"
   },
   {
    "duration": 7,
    "start_time": "2024-12-29T11:49:03.086Z"
   },
   {
    "duration": 23,
    "start_time": "2024-12-29T11:49:09.291Z"
   },
   {
    "duration": 73,
    "start_time": "2024-12-29T11:50:42.737Z"
   },
   {
    "duration": 6,
    "start_time": "2024-12-29T11:51:18.566Z"
   },
   {
    "duration": 4,
    "start_time": "2024-12-29T11:56:59.227Z"
   },
   {
    "duration": 6,
    "start_time": "2024-12-29T11:56:59.233Z"
   },
   {
    "duration": 947,
    "start_time": "2024-12-29T11:56:59.240Z"
   },
   {
    "duration": 10,
    "start_time": "2024-12-29T11:57:00.189Z"
   },
   {
    "duration": 5,
    "start_time": "2024-12-29T11:57:00.201Z"
   },
   {
    "duration": 314,
    "start_time": "2024-12-29T11:57:00.208Z"
   },
   {
    "duration": 6,
    "start_time": "2024-12-29T11:57:00.523Z"
   },
   {
    "duration": 103,
    "start_time": "2024-12-29T11:57:00.531Z"
   },
   {
    "duration": 3,
    "start_time": "2024-12-29T11:57:00.636Z"
   },
   {
    "duration": 31,
    "start_time": "2024-12-29T11:57:00.640Z"
   },
   {
    "duration": 941,
    "start_time": "2024-12-29T11:57:00.673Z"
   },
   {
    "duration": 8973,
    "start_time": "2024-12-29T11:58:57.318Z"
   },
   {
    "duration": 39666,
    "start_time": "2024-12-29T11:59:46.322Z"
   },
   {
    "duration": 46,
    "start_time": "2024-12-29T12:01:10.747Z"
   },
   {
    "duration": 83,
    "start_time": "2024-12-29T12:02:25.721Z"
   },
   {
    "duration": 98515,
    "start_time": "2024-12-29T12:02:31.799Z"
   },
   {
    "duration": 5,
    "start_time": "2024-12-29T12:04:18.289Z"
   },
   {
    "duration": 29,
    "start_time": "2024-12-29T12:04:18.296Z"
   },
   {
    "duration": 995,
    "start_time": "2024-12-29T12:04:18.327Z"
   },
   {
    "duration": 11,
    "start_time": "2024-12-29T12:04:19.324Z"
   },
   {
    "duration": 3,
    "start_time": "2024-12-29T12:04:19.337Z"
   },
   {
    "duration": 319,
    "start_time": "2024-12-29T12:04:19.342Z"
   },
   {
    "duration": 5,
    "start_time": "2024-12-29T12:04:19.671Z"
   },
   {
    "duration": 71,
    "start_time": "2024-12-29T12:04:19.678Z"
   },
   {
    "duration": 3,
    "start_time": "2024-12-29T12:04:19.750Z"
   },
   {
    "duration": 882,
    "start_time": "2024-12-29T12:04:19.770Z"
   },
   {
    "duration": 903,
    "start_time": "2024-12-29T12:05:02.154Z"
   },
   {
    "duration": 5,
    "start_time": "2024-12-29T12:07:32.800Z"
   },
   {
    "duration": 55,
    "start_time": "2024-12-29T12:07:32.808Z"
   },
   {
    "duration": 968,
    "start_time": "2024-12-29T12:07:32.865Z"
   },
   {
    "duration": 12,
    "start_time": "2024-12-29T12:07:33.835Z"
   },
   {
    "duration": 8,
    "start_time": "2024-12-29T12:07:33.849Z"
   },
   {
    "duration": 313,
    "start_time": "2024-12-29T12:07:33.871Z"
   },
   {
    "duration": 7,
    "start_time": "2024-12-29T12:07:34.186Z"
   },
   {
    "duration": 93,
    "start_time": "2024-12-29T12:07:34.195Z"
   },
   {
    "duration": 4,
    "start_time": "2024-12-29T12:07:34.290Z"
   },
   {
    "duration": 901,
    "start_time": "2024-12-29T12:07:34.295Z"
   },
   {
    "duration": 105697,
    "start_time": "2024-12-29T12:07:35.198Z"
   },
   {
    "duration": 6,
    "start_time": "2024-12-29T12:09:25.868Z"
   },
   {
    "duration": 8,
    "start_time": "2024-12-29T12:09:25.876Z"
   },
   {
    "duration": 998,
    "start_time": "2024-12-29T12:09:25.886Z"
   },
   {
    "duration": 11,
    "start_time": "2024-12-29T12:09:26.886Z"
   },
   {
    "duration": 22,
    "start_time": "2024-12-29T12:09:26.899Z"
   },
   {
    "duration": 286,
    "start_time": "2024-12-29T12:09:26.922Z"
   },
   {
    "duration": 6,
    "start_time": "2024-12-29T12:09:27.210Z"
   },
   {
    "duration": 95,
    "start_time": "2024-12-29T12:09:27.218Z"
   },
   {
    "duration": 5,
    "start_time": "2024-12-29T12:09:27.316Z"
   },
   {
    "duration": 874,
    "start_time": "2024-12-29T12:09:27.323Z"
   },
   {
    "duration": 1348,
    "start_time": "2024-12-29T12:11:53.125Z"
   },
   {
    "duration": 3,
    "start_time": "2024-12-29T12:11:54.475Z"
   },
   {
    "duration": 1032,
    "start_time": "2024-12-29T12:11:54.479Z"
   },
   {
    "duration": 10,
    "start_time": "2024-12-29T12:11:55.512Z"
   },
   {
    "duration": 3,
    "start_time": "2024-12-29T12:11:55.525Z"
   },
   {
    "duration": 358,
    "start_time": "2024-12-29T12:11:55.530Z"
   },
   {
    "duration": 5,
    "start_time": "2024-12-29T12:11:55.890Z"
   },
   {
    "duration": 87,
    "start_time": "2024-12-29T12:11:55.897Z"
   },
   {
    "duration": 4,
    "start_time": "2024-12-29T12:11:55.985Z"
   },
   {
    "duration": 809,
    "start_time": "2024-12-29T12:11:55.990Z"
   },
   {
    "duration": 27506,
    "start_time": "2024-12-29T12:12:01.227Z"
   },
   {
    "duration": 23625,
    "start_time": "2024-12-29T12:12:38.737Z"
   },
   {
    "duration": 7,
    "start_time": "2024-12-29T12:13:33.769Z"
   },
   {
    "duration": 22473,
    "start_time": "2024-12-29T12:14:30.171Z"
   },
   {
    "duration": 3,
    "start_time": "2024-12-29T12:34:21.922Z"
   },
   {
    "duration": 11,
    "start_time": "2024-12-29T12:39:58.533Z"
   },
   {
    "duration": 5,
    "start_time": "2024-12-29T12:40:03.663Z"
   },
   {
    "duration": 5,
    "start_time": "2024-12-29T12:40:09.381Z"
   },
   {
    "duration": 69,
    "start_time": "2024-12-29T12:40:20.000Z"
   },
   {
    "duration": 13,
    "start_time": "2024-12-29T12:42:36.176Z"
   },
   {
    "duration": 20,
    "start_time": "2024-12-29T13:02:04.701Z"
   },
   {
    "duration": 18,
    "start_time": "2024-12-29T13:02:52.655Z"
   },
   {
    "duration": 4,
    "start_time": "2024-12-29T13:03:06.558Z"
   },
   {
    "duration": 13,
    "start_time": "2024-12-29T13:03:14.713Z"
   },
   {
    "duration": 6,
    "start_time": "2024-12-29T13:03:32.791Z"
   },
   {
    "duration": 726,
    "start_time": "2024-12-29T13:03:40.513Z"
   },
   {
    "duration": 6,
    "start_time": "2024-12-29T13:03:55.430Z"
   },
   {
    "duration": 734,
    "start_time": "2024-12-29T13:03:57.903Z"
   },
   {
    "duration": 6,
    "start_time": "2024-12-29T13:06:42.438Z"
   },
   {
    "duration": 745,
    "start_time": "2024-12-29T13:06:44.783Z"
   },
   {
    "duration": 6,
    "start_time": "2024-12-29T13:08:33.056Z"
   },
   {
    "duration": 774,
    "start_time": "2024-12-29T13:08:35.766Z"
   },
   {
    "duration": 6,
    "start_time": "2024-12-29T13:08:49.503Z"
   },
   {
    "duration": 6,
    "start_time": "2024-12-29T13:08:55.568Z"
   },
   {
    "duration": 726,
    "start_time": "2024-12-29T13:08:57.646Z"
   },
   {
    "duration": 7,
    "start_time": "2024-12-29T13:10:00.300Z"
   },
   {
    "duration": 803,
    "start_time": "2024-12-29T13:10:03.529Z"
   },
   {
    "duration": 7,
    "start_time": "2024-12-29T13:10:20.798Z"
   },
   {
    "duration": 801,
    "start_time": "2024-12-29T13:10:23.290Z"
   },
   {
    "duration": 8,
    "start_time": "2024-12-29T13:11:24.510Z"
   },
   {
    "duration": 1434,
    "start_time": "2024-12-29T13:12:44.573Z"
   },
   {
    "duration": 2,
    "start_time": "2024-12-29T13:12:46.009Z"
   },
   {
    "duration": 1344,
    "start_time": "2024-12-29T13:12:46.013Z"
   },
   {
    "duration": 11,
    "start_time": "2024-12-29T13:12:47.359Z"
   },
   {
    "duration": 11,
    "start_time": "2024-12-29T13:12:47.373Z"
   },
   {
    "duration": 300,
    "start_time": "2024-12-29T13:12:47.386Z"
   },
   {
    "duration": 7,
    "start_time": "2024-12-29T13:12:47.689Z"
   },
   {
    "duration": 91,
    "start_time": "2024-12-29T13:12:47.697Z"
   },
   {
    "duration": 12,
    "start_time": "2024-12-29T13:12:47.789Z"
   },
   {
    "duration": 10,
    "start_time": "2024-12-29T13:12:47.803Z"
   },
   {
    "duration": 18,
    "start_time": "2024-12-29T13:12:47.814Z"
   },
   {
    "duration": 39,
    "start_time": "2024-12-29T13:12:47.834Z"
   },
   {
    "duration": 104,
    "start_time": "2024-12-29T13:12:47.874Z"
   },
   {
    "duration": 12,
    "start_time": "2024-12-29T13:16:20.542Z"
   },
   {
    "duration": 47,
    "start_time": "2024-12-29T13:16:22.962Z"
   },
   {
    "duration": 1373,
    "start_time": "2024-12-29T13:16:29.633Z"
   },
   {
    "duration": 3,
    "start_time": "2024-12-29T13:16:31.008Z"
   },
   {
    "duration": 1360,
    "start_time": "2024-12-29T13:16:31.012Z"
   },
   {
    "duration": 9,
    "start_time": "2024-12-29T13:16:32.374Z"
   },
   {
    "duration": 96,
    "start_time": "2024-12-29T13:16:32.386Z"
   },
   {
    "duration": 368,
    "start_time": "2024-12-29T13:16:32.483Z"
   },
   {
    "duration": 6,
    "start_time": "2024-12-29T13:16:32.853Z"
   },
   {
    "duration": 72,
    "start_time": "2024-12-29T13:16:32.871Z"
   },
   {
    "duration": 9,
    "start_time": "2024-12-29T13:16:32.945Z"
   },
   {
    "duration": 23,
    "start_time": "2024-12-29T13:16:32.956Z"
   },
   {
    "duration": 7,
    "start_time": "2024-12-29T13:16:32.980Z"
   },
   {
    "duration": 11,
    "start_time": "2024-12-29T13:16:32.988Z"
   },
   {
    "duration": 42,
    "start_time": "2024-12-29T13:16:33.001Z"
   },
   {
    "duration": 733,
    "start_time": "2024-12-29T13:16:33.045Z"
   },
   {
    "duration": 6,
    "start_time": "2024-12-29T13:20:50.905Z"
   },
   {
    "duration": 5,
    "start_time": "2024-12-29T13:20:52.536Z"
   },
   {
    "duration": 848,
    "start_time": "2024-12-29T13:20:53.366Z"
   },
   {
    "duration": 6,
    "start_time": "2024-12-29T13:21:39.155Z"
   },
   {
    "duration": 6,
    "start_time": "2024-12-29T13:21:39.598Z"
   },
   {
    "duration": 727,
    "start_time": "2024-12-29T13:21:40.050Z"
   },
   {
    "duration": 6,
    "start_time": "2024-12-29T13:21:56.442Z"
   },
   {
    "duration": 5,
    "start_time": "2024-12-29T13:21:57.232Z"
   },
   {
    "duration": 774,
    "start_time": "2024-12-29T13:22:00.699Z"
   },
   {
    "duration": 6,
    "start_time": "2024-12-29T13:22:12.066Z"
   },
   {
    "duration": 6,
    "start_time": "2024-12-29T13:22:12.426Z"
   },
   {
    "duration": 745,
    "start_time": "2024-12-29T13:22:12.847Z"
   },
   {
    "duration": 7,
    "start_time": "2024-12-29T13:23:24.587Z"
   },
   {
    "duration": 5,
    "start_time": "2024-12-29T13:23:24.940Z"
   },
   {
    "duration": 12,
    "start_time": "2024-12-29T13:24:45.653Z"
   },
   {
    "duration": 55,
    "start_time": "2024-12-29T13:24:47.996Z"
   },
   {
    "duration": 6,
    "start_time": "2024-12-29T13:24:48.563Z"
   },
   {
    "duration": 1483,
    "start_time": "2024-12-29T13:24:53.958Z"
   },
   {
    "duration": 2,
    "start_time": "2024-12-29T13:24:55.443Z"
   },
   {
    "duration": 1386,
    "start_time": "2024-12-29T13:24:55.447Z"
   },
   {
    "duration": 10,
    "start_time": "2024-12-29T13:24:56.834Z"
   },
   {
    "duration": 11,
    "start_time": "2024-12-29T13:24:56.847Z"
   },
   {
    "duration": 331,
    "start_time": "2024-12-29T13:24:56.860Z"
   },
   {
    "duration": 7,
    "start_time": "2024-12-29T13:24:57.193Z"
   },
   {
    "duration": 106,
    "start_time": "2024-12-29T13:24:57.202Z"
   },
   {
    "duration": 12,
    "start_time": "2024-12-29T13:24:57.310Z"
   },
   {
    "duration": 12,
    "start_time": "2024-12-29T13:24:57.323Z"
   },
   {
    "duration": 19,
    "start_time": "2024-12-29T13:24:57.337Z"
   },
   {
    "duration": 14,
    "start_time": "2024-12-29T13:24:57.357Z"
   },
   {
    "duration": 9,
    "start_time": "2024-12-29T13:24:57.372Z"
   },
   {
    "duration": 794,
    "start_time": "2024-12-29T13:24:57.383Z"
   },
   {
    "duration": 7,
    "start_time": "2024-12-29T13:25:12.708Z"
   },
   {
    "duration": 5,
    "start_time": "2024-12-29T13:25:13.108Z"
   },
   {
    "duration": 805,
    "start_time": "2024-12-29T13:25:13.540Z"
   },
   {
    "duration": 108,
    "start_time": "2024-12-29T13:25:37.198Z"
   },
   {
    "duration": 6,
    "start_time": "2024-12-29T13:25:43.776Z"
   },
   {
    "duration": 5,
    "start_time": "2024-12-29T13:25:45.956Z"
   },
   {
    "duration": 768,
    "start_time": "2024-12-29T13:25:46.884Z"
   },
   {
    "duration": 3996,
    "start_time": "2024-12-29T13:27:15.950Z"
   },
   {
    "duration": 5,
    "start_time": "2024-12-29T13:27:30.942Z"
   },
   {
    "duration": 3934,
    "start_time": "2024-12-29T13:27:56.758Z"
   },
   {
    "duration": 5,
    "start_time": "2024-12-29T13:28:02.046Z"
   },
   {
    "duration": 4,
    "start_time": "2024-12-29T13:28:03.358Z"
   },
   {
    "duration": 180,
    "start_time": "2024-12-29T13:28:05.517Z"
   },
   {
    "duration": 4,
    "start_time": "2024-12-29T13:28:15.351Z"
   },
   {
    "duration": 50,
    "start_time": "2024-12-29T13:28:56.158Z"
   },
   {
    "duration": 6,
    "start_time": "2024-12-29T13:28:57.855Z"
   },
   {
    "duration": 3931,
    "start_time": "2024-12-29T13:29:07.647Z"
   },
   {
    "duration": 5,
    "start_time": "2024-12-29T13:29:12.424Z"
   },
   {
    "duration": 6,
    "start_time": "2024-12-29T13:29:24.380Z"
   },
   {
    "duration": 231926,
    "start_time": "2024-12-29T13:30:30.704Z"
   },
   {
    "duration": 28643,
    "start_time": "2024-12-29T13:34:35.661Z"
   },
   {
    "duration": 6,
    "start_time": "2024-12-29T13:35:48.701Z"
   },
   {
    "duration": 22878,
    "start_time": "2024-12-29T13:35:49.870Z"
   },
   {
    "duration": 6,
    "start_time": "2024-12-29T13:36:16.637Z"
   },
   {
    "duration": 38163,
    "start_time": "2024-12-29T13:36:18.517Z"
   },
   {
    "duration": 6,
    "start_time": "2024-12-29T13:37:24.027Z"
   },
   {
    "duration": 5165,
    "start_time": "2024-12-29T13:37:24.035Z"
   },
   {
    "duration": 15883,
    "start_time": "2024-12-29T13:37:29.202Z"
   },
   {
    "duration": 6,
    "start_time": "2024-12-29T13:37:45.091Z"
   },
   {
    "duration": 4691,
    "start_time": "2024-12-29T13:37:45.098Z"
   },
   {
    "duration": 7,
    "start_time": "2024-12-29T13:37:51.509Z"
   },
   {
    "duration": 52380,
    "start_time": "2024-12-29T13:37:58.424Z"
   },
   {
    "duration": 6,
    "start_time": "2024-12-29T13:39:31.593Z"
   },
   {
    "duration": 22,
    "start_time": "2024-12-29T13:39:31.602Z"
   },
   {
    "duration": 994,
    "start_time": "2024-12-29T13:39:31.626Z"
   },
   {
    "duration": 11,
    "start_time": "2024-12-29T13:39:32.622Z"
   },
   {
    "duration": 8,
    "start_time": "2024-12-29T13:39:32.635Z"
   },
   {
    "duration": 318,
    "start_time": "2024-12-29T13:39:32.645Z"
   },
   {
    "duration": 7,
    "start_time": "2024-12-29T13:39:32.969Z"
   },
   {
    "duration": 94,
    "start_time": "2024-12-29T13:39:32.978Z"
   },
   {
    "duration": 15,
    "start_time": "2024-12-29T13:39:33.073Z"
   },
   {
    "duration": 69,
    "start_time": "2024-12-29T13:39:33.089Z"
   },
   {
    "duration": 565080,
    "start_time": "2024-12-29T13:39:33.160Z"
   },
   {
    "duration": 1335,
    "start_time": "2024-12-29T13:51:50.317Z"
   },
   {
    "duration": 3,
    "start_time": "2024-12-29T13:51:51.654Z"
   },
   {
    "duration": 1027,
    "start_time": "2024-12-29T13:51:51.658Z"
   },
   {
    "duration": 13,
    "start_time": "2024-12-29T13:51:52.687Z"
   },
   {
    "duration": 23,
    "start_time": "2024-12-29T13:51:52.702Z"
   },
   {
    "duration": 337,
    "start_time": "2024-12-29T13:51:52.726Z"
   },
   {
    "duration": 7,
    "start_time": "2024-12-29T13:51:53.065Z"
   },
   {
    "duration": 78,
    "start_time": "2024-12-29T13:51:53.074Z"
   },
   {
    "duration": 21,
    "start_time": "2024-12-29T13:51:53.154Z"
   },
   {
    "duration": 15,
    "start_time": "2024-12-29T13:51:53.177Z"
   },
   {
    "duration": 241,
    "start_time": "2024-12-29T13:51:53.193Z"
   },
   {
    "duration": 92,
    "start_time": "2024-12-29T13:52:14.806Z"
   },
   {
    "duration": 103,
    "start_time": "2024-12-29T13:52:28.342Z"
   },
   {
    "duration": 98,
    "start_time": "2024-12-29T13:52:40.044Z"
   },
   {
    "duration": 3,
    "start_time": "2024-12-29T13:54:05.848Z"
   },
   {
    "duration": 4,
    "start_time": "2024-12-29T13:55:37.104Z"
   },
   {
    "duration": 38,
    "start_time": "2024-12-29T13:55:37.110Z"
   },
   {
    "duration": 965,
    "start_time": "2024-12-29T13:55:37.150Z"
   },
   {
    "duration": 9,
    "start_time": "2024-12-29T13:55:38.117Z"
   },
   {
    "duration": 39,
    "start_time": "2024-12-29T13:55:38.128Z"
   },
   {
    "duration": 306,
    "start_time": "2024-12-29T13:55:38.168Z"
   },
   {
    "duration": 5,
    "start_time": "2024-12-29T13:55:38.476Z"
   },
   {
    "duration": 93,
    "start_time": "2024-12-29T13:55:38.483Z"
   },
   {
    "duration": 17,
    "start_time": "2024-12-29T13:55:38.578Z"
   },
   {
    "duration": 135,
    "start_time": "2024-12-29T13:55:38.597Z"
   },
   {
    "duration": 29,
    "start_time": "2024-12-29T13:55:38.734Z"
   },
   {
    "duration": 182,
    "start_time": "2024-12-29T13:55:38.764Z"
   },
   {
    "duration": 5,
    "start_time": "2024-12-29T13:55:57.619Z"
   },
   {
    "duration": 4,
    "start_time": "2024-12-29T13:56:08.400Z"
   },
   {
    "duration": 13,
    "start_time": "2024-12-29T13:56:08.406Z"
   },
   {
    "duration": 959,
    "start_time": "2024-12-29T13:56:08.421Z"
   },
   {
    "duration": 9,
    "start_time": "2024-12-29T13:56:09.381Z"
   },
   {
    "duration": 6,
    "start_time": "2024-12-29T13:56:09.393Z"
   },
   {
    "duration": 311,
    "start_time": "2024-12-29T13:56:09.400Z"
   },
   {
    "duration": 5,
    "start_time": "2024-12-29T13:56:09.713Z"
   },
   {
    "duration": 91,
    "start_time": "2024-12-29T13:56:09.720Z"
   },
   {
    "duration": 16,
    "start_time": "2024-12-29T13:56:09.812Z"
   },
   {
    "duration": 7,
    "start_time": "2024-12-29T13:56:09.830Z"
   },
   {
    "duration": 7,
    "start_time": "2024-12-29T13:56:09.838Z"
   },
   {
    "duration": 41623,
    "start_time": "2024-12-29T13:56:09.847Z"
   },
   {
    "duration": 6,
    "start_time": "2024-12-29T13:57:58.991Z"
   },
   {
    "duration": 26,
    "start_time": "2024-12-29T13:58:00.047Z"
   },
   {
    "duration": 5,
    "start_time": "2024-12-29T13:58:33.981Z"
   },
   {
    "duration": 16,
    "start_time": "2024-12-29T13:58:40.799Z"
   },
   {
    "duration": 9,
    "start_time": "2024-12-29T13:59:06.213Z"
   },
   {
    "duration": 15,
    "start_time": "2024-12-29T13:59:07.480Z"
   },
   {
    "duration": 9,
    "start_time": "2024-12-29T13:59:25.978Z"
   },
   {
    "duration": 800,
    "start_time": "2024-12-29T13:59:27.752Z"
   },
   {
    "duration": 830,
    "start_time": "2024-12-29T13:59:43.871Z"
   },
   {
    "duration": 1573,
    "start_time": "2024-12-29T14:00:00.945Z"
   },
   {
    "duration": 2032,
    "start_time": "2024-12-29T14:00:31.342Z"
   },
   {
    "duration": 1638,
    "start_time": "2024-12-29T14:00:44.495Z"
   },
   {
    "duration": 14,
    "start_time": "2024-12-29T14:01:13.693Z"
   },
   {
    "duration": 32,
    "start_time": "2024-12-29T14:02:27.860Z"
   },
   {
    "duration": 7399,
    "start_time": "2024-12-29T14:02:45.851Z"
   },
   {
    "duration": 2101,
    "start_time": "2024-12-29T14:03:00.716Z"
   },
   {
    "duration": 6,
    "start_time": "2024-12-29T14:03:47.240Z"
   },
   {
    "duration": 7833,
    "start_time": "2024-12-29T14:03:50.586Z"
   },
   {
    "duration": 6,
    "start_time": "2024-12-29T14:04:14.891Z"
   },
   {
    "duration": 1801,
    "start_time": "2024-12-29T14:04:15.499Z"
   },
   {
    "duration": 2899,
    "start_time": "2024-12-29T14:04:24.642Z"
   },
   {
    "duration": 1557,
    "start_time": "2024-12-29T14:04:37.220Z"
   },
   {
    "duration": 4,
    "start_time": "2024-12-29T14:04:47.212Z"
   },
   {
    "duration": 5,
    "start_time": "2024-12-29T14:05:14.436Z"
   },
   {
    "duration": 174,
    "start_time": "2024-12-29T14:05:15.004Z"
   },
   {
    "duration": 1371,
    "start_time": "2024-12-29T14:06:03.216Z"
   },
   {
    "duration": 3,
    "start_time": "2024-12-29T14:06:04.589Z"
   },
   {
    "duration": 1160,
    "start_time": "2024-12-29T14:06:04.594Z"
   },
   {
    "duration": 31,
    "start_time": "2024-12-29T14:06:05.756Z"
   },
   {
    "duration": 87,
    "start_time": "2024-12-29T14:06:05.790Z"
   },
   {
    "duration": 341,
    "start_time": "2024-12-29T14:06:05.878Z"
   },
   {
    "duration": 6,
    "start_time": "2024-12-29T14:06:06.221Z"
   },
   {
    "duration": 168,
    "start_time": "2024-12-29T14:06:06.229Z"
   },
   {
    "duration": 12,
    "start_time": "2024-12-29T14:06:06.399Z"
   },
   {
    "duration": 52,
    "start_time": "2024-12-29T14:06:06.412Z"
   },
   {
    "duration": 1947,
    "start_time": "2024-12-29T14:06:06.466Z"
   },
   {
    "duration": 1550,
    "start_time": "2024-12-29T14:06:08.415Z"
   },
   {
    "duration": 5,
    "start_time": "2024-12-29T14:06:09.971Z"
   },
   {
    "duration": 348,
    "start_time": "2024-12-29T14:06:09.978Z"
   },
   {
    "duration": 1520,
    "start_time": "2024-12-29T14:06:21.003Z"
   },
   {
    "duration": 4,
    "start_time": "2024-12-29T14:06:23.366Z"
   },
   {
    "duration": 102,
    "start_time": "2024-12-29T14:06:23.853Z"
   },
   {
    "duration": 5,
    "start_time": "2024-12-29T14:06:38.649Z"
   },
   {
    "duration": 22,
    "start_time": "2024-12-29T14:06:53.934Z"
   },
   {
    "duration": 43,
    "start_time": "2024-12-29T14:07:27.186Z"
   },
   {
    "duration": 4,
    "start_time": "2024-12-29T14:07:38.979Z"
   },
   {
    "duration": 13,
    "start_time": "2024-12-29T14:07:40.439Z"
   },
   {
    "duration": 113,
    "start_time": "2024-12-29T14:08:56.508Z"
   },
   {
    "duration": 4,
    "start_time": "2024-12-29T14:11:11.297Z"
   },
   {
    "duration": 19,
    "start_time": "2024-12-29T14:13:00.666Z"
   },
   {
    "duration": 15,
    "start_time": "2024-12-29T14:13:27.195Z"
   },
   {
    "duration": 3,
    "start_time": "2024-12-29T14:14:29.256Z"
   },
   {
    "duration": 6,
    "start_time": "2024-12-29T14:15:08.988Z"
   },
   {
    "duration": 1893,
    "start_time": "2024-12-29T14:15:10.338Z"
   },
   {
    "duration": 21,
    "start_time": "2024-12-29T14:15:43.685Z"
   },
   {
    "duration": 4,
    "start_time": "2024-12-29T14:15:49.771Z"
   },
   {
    "duration": 27,
    "start_time": "2024-12-29T14:16:00.424Z"
   },
   {
    "duration": 3,
    "start_time": "2024-12-29T14:16:06.509Z"
   },
   {
    "duration": 21,
    "start_time": "2024-12-29T14:16:55.913Z"
   },
   {
    "duration": 27,
    "start_time": "2024-12-29T14:17:11.465Z"
   },
   {
    "duration": 6,
    "start_time": "2024-12-29T14:17:55.557Z"
   },
   {
    "duration": 121500,
    "start_time": "2024-12-29T14:17:57.797Z"
   },
   {
    "duration": 36943,
    "start_time": "2024-12-29T14:19:59.299Z"
   },
   {
    "duration": 4,
    "start_time": "2024-12-29T14:20:36.243Z"
   },
   {
    "duration": 7096,
    "start_time": "2024-12-29T14:20:36.250Z"
   },
   {
    "duration": 29,
    "start_time": "2024-12-29T14:20:43.348Z"
   },
   {
    "duration": 6,
    "start_time": "2024-12-29T16:25:08.343Z"
   },
   {
    "duration": 126605,
    "start_time": "2024-12-29T16:25:10.866Z"
   },
   {
    "duration": 40928,
    "start_time": "2024-12-29T16:27:17.473Z"
   },
   {
    "duration": 22,
    "start_time": "2024-12-29T16:27:58.403Z"
   },
   {
    "duration": 8190,
    "start_time": "2024-12-29T16:27:58.427Z"
   },
   {
    "duration": 19,
    "start_time": "2024-12-29T16:28:09.124Z"
   },
   {
    "duration": 17,
    "start_time": "2024-12-29T16:28:18.750Z"
   },
   {
    "duration": 10,
    "start_time": "2024-12-29T16:28:41.409Z"
   },
   {
    "duration": 10,
    "start_time": "2024-12-29T16:29:36.165Z"
   },
   {
    "duration": 10,
    "start_time": "2024-12-29T16:29:47.456Z"
   },
   {
    "duration": 4,
    "start_time": "2024-12-29T16:29:53.092Z"
   },
   {
    "duration": 16,
    "start_time": "2024-12-29T16:30:39.188Z"
   },
   {
    "duration": 6,
    "start_time": "2024-12-29T16:30:57.022Z"
   },
   {
    "duration": 129869,
    "start_time": "2024-12-29T16:30:58.110Z"
   },
   {
    "duration": 43124,
    "start_time": "2024-12-29T16:33:07.982Z"
   },
   {
    "duration": 22,
    "start_time": "2024-12-29T16:33:51.108Z"
   },
   {
    "duration": 7106,
    "start_time": "2024-12-29T16:33:51.132Z"
   },
   {
    "duration": 4,
    "start_time": "2024-12-29T16:33:58.240Z"
   },
   {
    "duration": 1278,
    "start_time": "2024-12-29T16:40:57.323Z"
   },
   {
    "duration": 2,
    "start_time": "2024-12-29T16:40:58.603Z"
   },
   {
    "duration": 1043,
    "start_time": "2024-12-29T16:40:58.607Z"
   },
   {
    "duration": 19,
    "start_time": "2024-12-29T16:40:59.651Z"
   },
   {
    "duration": 5,
    "start_time": "2024-12-29T16:40:59.673Z"
   },
   {
    "duration": 308,
    "start_time": "2024-12-29T16:40:59.680Z"
   },
   {
    "duration": 6,
    "start_time": "2024-12-29T16:40:59.989Z"
   },
   {
    "duration": 92,
    "start_time": "2024-12-29T16:40:59.996Z"
   },
   {
    "duration": 10,
    "start_time": "2024-12-29T16:41:00.089Z"
   },
   {
    "duration": 42,
    "start_time": "2024-12-29T16:41:00.100Z"
   },
   {
    "duration": 110310,
    "start_time": "2024-12-29T16:41:00.143Z"
   },
   {
    "duration": 34431,
    "start_time": "2024-12-29T16:42:50.455Z"
   },
   {
    "duration": 5,
    "start_time": "2024-12-29T16:43:24.888Z"
   },
   {
    "duration": 7291,
    "start_time": "2024-12-29T16:43:24.895Z"
   },
   {
    "duration": 4,
    "start_time": "2024-12-29T16:43:32.188Z"
   },
   {
    "duration": 145,
    "start_time": "2024-12-29T16:43:32.193Z"
   },
   {
    "duration": 5,
    "start_time": "2024-12-29T16:44:15.183Z"
   },
   {
    "duration": 4,
    "start_time": "2024-12-29T16:44:23.980Z"
   },
   {
    "duration": 23,
    "start_time": "2024-12-29T16:46:10.959Z"
   },
   {
    "duration": 23,
    "start_time": "2024-12-29T16:46:33.491Z"
   },
   {
    "duration": 18,
    "start_time": "2024-12-29T16:46:37.975Z"
   },
   {
    "duration": 42,
    "start_time": "2024-12-29T16:46:56.548Z"
   },
   {
    "duration": 74,
    "start_time": "2024-12-29T16:47:19.351Z"
   },
   {
    "duration": 35,
    "start_time": "2024-12-29T16:47:32.363Z"
   },
   {
    "duration": 39,
    "start_time": "2024-12-29T16:47:40.393Z"
   },
   {
    "duration": 35,
    "start_time": "2024-12-29T16:47:47.827Z"
   },
   {
    "duration": 20,
    "start_time": "2024-12-29T16:47:53.646Z"
   },
   {
    "duration": 912,
    "start_time": "2024-12-29T16:48:03.837Z"
   },
   {
    "duration": 871,
    "start_time": "2024-12-29T16:48:30.813Z"
   },
   {
    "duration": 853,
    "start_time": "2024-12-29T16:48:39.299Z"
   },
   {
    "duration": 1067,
    "start_time": "2024-12-29T16:49:35.477Z"
   },
   {
    "duration": 30,
    "start_time": "2024-12-29T16:51:42.585Z"
   },
   {
    "duration": 31,
    "start_time": "2024-12-29T16:51:56.097Z"
   },
   {
    "duration": 30,
    "start_time": "2024-12-29T16:52:13.454Z"
   },
   {
    "duration": 35,
    "start_time": "2024-12-29T16:52:31.219Z"
   },
   {
    "duration": 12,
    "start_time": "2024-12-29T16:53:12.057Z"
   },
   {
    "duration": 160,
    "start_time": "2024-12-29T16:53:17.294Z"
   },
   {
    "duration": 131,
    "start_time": "2024-12-29T16:54:22.556Z"
   },
   {
    "duration": 127,
    "start_time": "2024-12-29T16:54:46.910Z"
   },
   {
    "duration": 135,
    "start_time": "2024-12-29T16:59:10.046Z"
   },
   {
    "duration": 132,
    "start_time": "2024-12-29T16:59:21.750Z"
   },
   {
    "duration": 143,
    "start_time": "2024-12-29T16:59:46.573Z"
   },
   {
    "duration": 128,
    "start_time": "2024-12-29T16:59:56.612Z"
   },
   {
    "duration": 133,
    "start_time": "2024-12-29T17:00:03.882Z"
   },
   {
    "duration": 144,
    "start_time": "2024-12-29T17:00:25.765Z"
   },
   {
    "duration": 857,
    "start_time": "2024-12-29T17:03:27.256Z"
   },
   {
    "duration": 6,
    "start_time": "2024-12-29T17:03:53.902Z"
   },
   {
    "duration": 6054,
    "start_time": "2024-12-29T17:03:54.358Z"
   },
   {
    "duration": 1326,
    "start_time": "2024-12-29T17:04:11.419Z"
   },
   {
    "duration": 2,
    "start_time": "2024-12-29T17:04:12.747Z"
   },
   {
    "duration": 1019,
    "start_time": "2024-12-29T17:04:12.751Z"
   },
   {
    "duration": 11,
    "start_time": "2024-12-29T17:04:13.771Z"
   },
   {
    "duration": 13,
    "start_time": "2024-12-29T17:04:13.784Z"
   },
   {
    "duration": 314,
    "start_time": "2024-12-29T17:04:13.799Z"
   },
   {
    "duration": 5,
    "start_time": "2024-12-29T17:04:14.115Z"
   },
   {
    "duration": 106,
    "start_time": "2024-12-29T17:04:14.122Z"
   },
   {
    "duration": 9,
    "start_time": "2024-12-29T17:04:14.231Z"
   },
   {
    "duration": 13,
    "start_time": "2024-12-29T17:04:14.242Z"
   },
   {
    "duration": 111672,
    "start_time": "2024-12-29T17:04:14.256Z"
   },
   {
    "duration": 35544,
    "start_time": "2024-12-29T17:06:05.930Z"
   },
   {
    "duration": 4,
    "start_time": "2024-12-29T17:06:41.476Z"
   },
   {
    "duration": 7199,
    "start_time": "2024-12-29T17:06:41.483Z"
   },
   {
    "duration": 140,
    "start_time": "2024-12-29T17:06:48.683Z"
   },
   {
    "duration": 1306,
    "start_time": "2024-12-29T17:09:16.722Z"
   },
   {
    "duration": 2,
    "start_time": "2024-12-29T17:09:18.030Z"
   },
   {
    "duration": 1011,
    "start_time": "2024-12-29T17:09:18.034Z"
   },
   {
    "duration": 11,
    "start_time": "2024-12-29T17:09:19.047Z"
   },
   {
    "duration": 4,
    "start_time": "2024-12-29T17:09:19.069Z"
   },
   {
    "duration": 333,
    "start_time": "2024-12-29T17:09:19.075Z"
   },
   {
    "duration": 6,
    "start_time": "2024-12-29T17:09:19.409Z"
   },
   {
    "duration": 86,
    "start_time": "2024-12-29T17:09:19.417Z"
   },
   {
    "duration": 16,
    "start_time": "2024-12-29T17:09:19.505Z"
   },
   {
    "duration": 14,
    "start_time": "2024-12-29T17:09:19.522Z"
   },
   {
    "duration": 165135,
    "start_time": "2024-12-29T17:09:19.538Z"
   },
   {
    "duration": 52538,
    "start_time": "2024-12-29T17:12:04.675Z"
   },
   {
    "duration": 5,
    "start_time": "2024-12-29T17:12:57.214Z"
   },
   {
    "duration": 221,
    "start_time": "2024-12-29T17:12:57.221Z"
   },
   {
    "duration": 16,
    "start_time": "2024-12-29T17:12:57.443Z"
   },
   {
    "duration": 1338,
    "start_time": "2024-12-29T17:13:54.595Z"
   },
   {
    "duration": 2,
    "start_time": "2024-12-29T17:13:55.935Z"
   },
   {
    "duration": 1034,
    "start_time": "2024-12-29T17:13:55.939Z"
   },
   {
    "duration": 11,
    "start_time": "2024-12-29T17:13:56.974Z"
   },
   {
    "duration": 11,
    "start_time": "2024-12-29T17:13:56.987Z"
   },
   {
    "duration": 303,
    "start_time": "2024-12-29T17:13:57.000Z"
   },
   {
    "duration": 6,
    "start_time": "2024-12-29T17:13:57.304Z"
   },
   {
    "duration": 86,
    "start_time": "2024-12-29T17:13:57.312Z"
   },
   {
    "duration": 10,
    "start_time": "2024-12-29T17:13:57.400Z"
   },
   {
    "duration": 14,
    "start_time": "2024-12-29T17:13:57.411Z"
   },
   {
    "duration": 110402,
    "start_time": "2024-12-29T17:13:57.426Z"
   },
   {
    "duration": 34714,
    "start_time": "2024-12-29T17:15:47.830Z"
   },
   {
    "duration": 4,
    "start_time": "2024-12-29T17:16:22.546Z"
   },
   {
    "duration": 7224,
    "start_time": "2024-12-29T17:16:22.552Z"
   },
   {
    "duration": 135,
    "start_time": "2024-12-29T17:16:29.778Z"
   },
   {
    "duration": 1343,
    "start_time": "2024-12-29T17:17:06.977Z"
   },
   {
    "duration": 2,
    "start_time": "2024-12-29T17:17:08.322Z"
   },
   {
    "duration": 1015,
    "start_time": "2024-12-29T17:17:08.326Z"
   },
   {
    "duration": 11,
    "start_time": "2024-12-29T17:17:09.343Z"
   },
   {
    "duration": 15,
    "start_time": "2024-12-29T17:17:09.356Z"
   },
   {
    "duration": 317,
    "start_time": "2024-12-29T17:17:09.372Z"
   },
   {
    "duration": 6,
    "start_time": "2024-12-29T17:17:09.691Z"
   },
   {
    "duration": 86,
    "start_time": "2024-12-29T17:17:09.698Z"
   },
   {
    "duration": 10,
    "start_time": "2024-12-29T17:17:09.786Z"
   },
   {
    "duration": 14,
    "start_time": "2024-12-29T17:17:09.798Z"
   },
   {
    "duration": 171911,
    "start_time": "2024-12-29T17:17:09.813Z"
   },
   {
    "duration": 53574,
    "start_time": "2024-12-29T17:20:01.727Z"
   },
   {
    "duration": 4,
    "start_time": "2024-12-29T17:20:55.303Z"
   },
   {
    "duration": 208,
    "start_time": "2024-12-29T17:20:55.310Z"
   },
   {
    "duration": 11,
    "start_time": "2024-12-29T17:20:55.520Z"
   },
   {
    "duration": 1313,
    "start_time": "2024-12-29T17:21:40.011Z"
   },
   {
    "duration": 2,
    "start_time": "2024-12-29T17:21:41.326Z"
   },
   {
    "duration": 1019,
    "start_time": "2024-12-29T17:21:41.330Z"
   },
   {
    "duration": 10,
    "start_time": "2024-12-29T17:21:42.351Z"
   },
   {
    "duration": 4,
    "start_time": "2024-12-29T17:21:42.371Z"
   },
   {
    "duration": 306,
    "start_time": "2024-12-29T17:21:42.376Z"
   },
   {
    "duration": 6,
    "start_time": "2024-12-29T17:21:42.684Z"
   },
   {
    "duration": 93,
    "start_time": "2024-12-29T17:21:42.691Z"
   },
   {
    "duration": 11,
    "start_time": "2024-12-29T17:21:42.786Z"
   },
   {
    "duration": 14,
    "start_time": "2024-12-29T17:21:42.798Z"
   },
   {
    "duration": 111305,
    "start_time": "2024-12-29T17:21:42.814Z"
   },
   {
    "duration": 34916,
    "start_time": "2024-12-29T17:23:34.121Z"
   },
   {
    "duration": 4,
    "start_time": "2024-12-29T17:24:09.039Z"
   },
   {
    "duration": 7226,
    "start_time": "2024-12-29T17:24:09.045Z"
   },
   {
    "duration": 138,
    "start_time": "2024-12-29T17:24:16.273Z"
   },
   {
    "duration": 6,
    "start_time": "2024-12-29T17:25:04.303Z"
   },
   {
    "duration": 120378,
    "start_time": "2024-12-29T17:25:04.830Z"
   },
   {
    "duration": 39119,
    "start_time": "2024-12-29T17:27:05.210Z"
   },
   {
    "duration": 23,
    "start_time": "2024-12-29T17:27:44.330Z"
   },
   {
    "duration": 7100,
    "start_time": "2024-12-29T17:27:44.355Z"
   },
   {
    "duration": 48312,
    "start_time": "2024-12-29T17:27:51.457Z"
   },
   {
    "duration": 50725,
    "start_time": "2024-12-29T17:29:05.752Z"
   },
   {
    "duration": 12,
    "start_time": "2024-12-29T17:31:34.875Z"
   },
   {
    "duration": 4,
    "start_time": "2024-12-29T17:31:48.403Z"
   },
   {
    "duration": 119,
    "start_time": "2024-12-29T17:37:36.962Z"
   },
   {
    "duration": 3,
    "start_time": "2024-12-29T17:41:10.257Z"
   },
   {
    "duration": 79,
    "start_time": "2024-12-29T17:41:11.937Z"
   },
   {
    "duration": 5,
    "start_time": "2024-12-29T17:42:15.522Z"
   },
   {
    "duration": 4,
    "start_time": "2024-12-29T17:42:22.512Z"
   },
   {
    "duration": 5,
    "start_time": "2024-12-29T17:42:32.773Z"
   },
   {
    "duration": 49,
    "start_time": "2024-12-29T17:44:32.338Z"
   },
   {
    "duration": 3,
    "start_time": "2024-12-29T17:47:43.065Z"
   },
   {
    "duration": 4,
    "start_time": "2024-12-29T17:47:43.570Z"
   },
   {
    "duration": 18,
    "start_time": "2024-12-29T17:47:44.305Z"
   },
   {
    "duration": 3,
    "start_time": "2024-12-29T17:48:09.057Z"
   },
   {
    "duration": 95,
    "start_time": "2024-12-29T17:48:10.939Z"
   },
   {
    "duration": 92,
    "start_time": "2024-12-29T17:48:18.095Z"
   },
   {
    "duration": 96,
    "start_time": "2024-12-29T17:48:31.206Z"
   },
   {
    "duration": 1293,
    "start_time": "2024-12-29T17:49:22.639Z"
   },
   {
    "duration": 31032,
    "start_time": "2024-12-29T17:50:50.854Z"
   },
   {
    "duration": 3,
    "start_time": "2024-12-29T17:51:27.157Z"
   },
   {
    "duration": 1546,
    "start_time": "2024-12-29T17:51:30.820Z"
   },
   {
    "duration": 3,
    "start_time": "2024-12-29T17:51:32.369Z"
   },
   {
    "duration": 1076,
    "start_time": "2024-12-29T17:51:32.373Z"
   },
   {
    "duration": 19,
    "start_time": "2024-12-29T17:51:33.451Z"
   },
   {
    "duration": 13,
    "start_time": "2024-12-29T17:51:33.473Z"
   },
   {
    "duration": 558,
    "start_time": "2024-12-29T17:51:33.489Z"
   },
   {
    "duration": 6,
    "start_time": "2024-12-29T17:51:34.048Z"
   },
   {
    "duration": 87,
    "start_time": "2024-12-29T17:51:34.055Z"
   },
   {
    "duration": 13,
    "start_time": "2024-12-29T17:51:34.145Z"
   },
   {
    "duration": 17,
    "start_time": "2024-12-29T17:51:34.160Z"
   },
   {
    "duration": 111591,
    "start_time": "2024-12-29T17:51:34.180Z"
   },
   {
    "duration": 36572,
    "start_time": "2024-12-29T17:53:25.774Z"
   },
   {
    "duration": 5,
    "start_time": "2024-12-29T17:54:02.349Z"
   },
   {
    "duration": 7158,
    "start_time": "2024-12-29T17:54:02.357Z"
   },
   {
    "duration": 3,
    "start_time": "2024-12-29T17:54:09.517Z"
   },
   {
    "duration": 6,
    "start_time": "2024-12-29T17:54:09.522Z"
   },
   {
    "duration": 5,
    "start_time": "2024-12-29T17:54:09.530Z"
   },
   {
    "duration": 825289,
    "start_time": "2024-12-29T17:54:09.537Z"
   },
   {
    "duration": 3144749,
    "start_time": "2024-12-29T18:07:57.892Z"
   },
   {
    "duration": 5,
    "start_time": "2024-12-29T19:00:32.278Z"
   },
   {
    "duration": 3,
    "start_time": "2024-12-29T19:00:33.605Z"
   },
   {
    "duration": 1474,
    "start_time": "2024-12-29T19:00:53.194Z"
   },
   {
    "duration": 3,
    "start_time": "2024-12-29T19:00:54.670Z"
   },
   {
    "duration": 1062,
    "start_time": "2024-12-29T19:00:54.675Z"
   },
   {
    "duration": 19,
    "start_time": "2024-12-29T19:00:55.739Z"
   },
   {
    "duration": 11,
    "start_time": "2024-12-29T19:00:55.771Z"
   },
   {
    "duration": 336,
    "start_time": "2024-12-29T19:00:55.784Z"
   },
   {
    "duration": 6,
    "start_time": "2024-12-29T19:00:56.122Z"
   },
   {
    "duration": 90,
    "start_time": "2024-12-29T19:00:56.130Z"
   },
   {
    "duration": 11,
    "start_time": "2024-12-29T19:00:56.222Z"
   },
   {
    "duration": 19,
    "start_time": "2024-12-29T19:00:56.235Z"
   },
   {
    "duration": 113102,
    "start_time": "2024-12-29T19:00:56.256Z"
   },
   {
    "duration": 37678,
    "start_time": "2024-12-29T19:02:49.360Z"
   },
   {
    "duration": 5,
    "start_time": "2024-12-29T19:03:27.040Z"
   },
   {
    "duration": 7288,
    "start_time": "2024-12-29T19:03:27.047Z"
   },
   {
    "duration": 3,
    "start_time": "2024-12-29T19:03:34.337Z"
   },
   {
    "duration": 16,
    "start_time": "2024-12-29T19:03:34.341Z"
   },
   {
    "duration": 16,
    "start_time": "2024-12-29T19:03:34.359Z"
   },
   {
    "duration": 1571830,
    "start_time": "2024-12-29T19:03:34.377Z"
   },
   {
    "duration": 5,
    "start_time": "2024-12-29T19:33:23.714Z"
   },
   {
    "duration": 21,
    "start_time": "2024-12-29T19:33:23.721Z"
   },
   {
    "duration": 999,
    "start_time": "2024-12-29T19:33:23.744Z"
   },
   {
    "duration": 10,
    "start_time": "2024-12-29T19:33:24.745Z"
   },
   {
    "duration": 3,
    "start_time": "2024-12-29T19:33:24.757Z"
   },
   {
    "duration": 300,
    "start_time": "2024-12-29T19:33:24.762Z"
   },
   {
    "duration": 6,
    "start_time": "2024-12-29T19:33:25.071Z"
   },
   {
    "duration": 121,
    "start_time": "2024-12-29T19:33:25.079Z"
   },
   {
    "duration": 15,
    "start_time": "2024-12-29T19:33:25.202Z"
   },
   {
    "duration": 14,
    "start_time": "2024-12-29T19:33:25.219Z"
   },
   {
    "duration": 130133,
    "start_time": "2024-12-29T19:33:25.234Z"
   },
   {
    "duration": 41809,
    "start_time": "2024-12-29T19:35:35.371Z"
   },
   {
    "duration": 25,
    "start_time": "2024-12-29T19:36:17.183Z"
   },
   {
    "duration": 7804,
    "start_time": "2024-12-29T19:36:17.211Z"
   },
   {
    "duration": 3,
    "start_time": "2024-12-29T19:36:25.017Z"
   },
   {
    "duration": 19,
    "start_time": "2024-12-29T19:36:25.021Z"
   },
   {
    "duration": 13,
    "start_time": "2024-12-29T19:36:25.042Z"
   },
   {
    "duration": 164049,
    "start_time": "2024-12-29T19:36:25.056Z"
   },
   {
    "duration": 1409,
    "start_time": "2024-12-29T19:41:04.255Z"
   },
   {
    "duration": 5,
    "start_time": "2024-12-29T19:41:05.665Z"
   },
   {
    "duration": 1106,
    "start_time": "2024-12-29T19:41:05.672Z"
   },
   {
    "duration": 16,
    "start_time": "2024-12-29T19:41:06.781Z"
   },
   {
    "duration": 12,
    "start_time": "2024-12-29T19:41:06.799Z"
   },
   {
    "duration": 343,
    "start_time": "2024-12-29T19:41:06.812Z"
   },
   {
    "duration": 15,
    "start_time": "2024-12-29T19:41:07.157Z"
   },
   {
    "duration": 100,
    "start_time": "2024-12-29T19:41:07.174Z"
   },
   {
    "duration": 19,
    "start_time": "2024-12-29T19:41:07.276Z"
   },
   {
    "duration": 15,
    "start_time": "2024-12-29T19:41:07.297Z"
   },
   {
    "duration": 118496,
    "start_time": "2024-12-29T19:41:07.314Z"
   },
   {
    "duration": 37024,
    "start_time": "2024-12-29T19:43:05.814Z"
   },
   {
    "duration": 4,
    "start_time": "2024-12-29T19:43:42.840Z"
   },
   {
    "duration": 7418,
    "start_time": "2024-12-29T19:43:42.847Z"
   },
   {
    "duration": 4,
    "start_time": "2024-12-29T19:43:50.270Z"
   },
   {
    "duration": 17,
    "start_time": "2024-12-29T19:43:50.276Z"
   },
   {
    "duration": 8,
    "start_time": "2024-12-29T19:43:50.294Z"
   },
   {
    "duration": 280978,
    "start_time": "2024-12-29T19:43:50.304Z"
   },
   {
    "duration": 3,
    "start_time": "2024-12-29T19:50:49.356Z"
   },
   {
    "duration": 4,
    "start_time": "2024-12-29T19:50:51.276Z"
   },
   {
    "duration": 1394,
    "start_time": "2024-12-29T19:53:41.517Z"
   },
   {
    "duration": 3,
    "start_time": "2024-12-29T19:53:42.913Z"
   },
   {
    "duration": 1098,
    "start_time": "2024-12-29T19:53:42.917Z"
   },
   {
    "duration": 10,
    "start_time": "2024-12-29T19:53:44.017Z"
   },
   {
    "duration": 11,
    "start_time": "2024-12-29T19:53:44.029Z"
   },
   {
    "duration": 344,
    "start_time": "2024-12-29T19:53:44.042Z"
   },
   {
    "duration": 6,
    "start_time": "2024-12-29T19:53:44.388Z"
   },
   {
    "duration": 92,
    "start_time": "2024-12-29T19:53:44.396Z"
   },
   {
    "duration": 11,
    "start_time": "2024-12-29T19:53:44.490Z"
   },
   {
    "duration": 14,
    "start_time": "2024-12-29T19:53:44.502Z"
   },
   {
    "duration": 117013,
    "start_time": "2024-12-29T19:53:44.517Z"
   },
   {
    "duration": 38185,
    "start_time": "2024-12-29T19:55:41.532Z"
   },
   {
    "duration": 5,
    "start_time": "2024-12-29T19:56:19.719Z"
   },
   {
    "duration": 7288,
    "start_time": "2024-12-29T19:56:19.727Z"
   },
   {
    "duration": 3,
    "start_time": "2024-12-29T19:56:27.017Z"
   },
   {
    "duration": 5,
    "start_time": "2024-12-29T19:56:27.022Z"
   },
   {
    "duration": 10,
    "start_time": "2024-12-29T19:56:27.028Z"
   },
   {
    "duration": 1203833,
    "start_time": "2024-12-29T19:56:27.039Z"
   },
   {
    "duration": 128,
    "start_time": "2024-12-29T20:17:49.153Z"
   },
   {
    "duration": 19,
    "start_time": "2024-12-29T20:17:55.180Z"
   },
   {
    "duration": 1367,
    "start_time": "2024-12-29T20:18:41.394Z"
   },
   {
    "duration": 3,
    "start_time": "2024-12-29T20:18:42.763Z"
   },
   {
    "duration": 991,
    "start_time": "2024-12-29T20:18:42.767Z"
   },
   {
    "duration": 20,
    "start_time": "2024-12-29T20:18:43.759Z"
   },
   {
    "duration": 9,
    "start_time": "2024-12-29T20:18:43.781Z"
   },
   {
    "duration": 302,
    "start_time": "2024-12-29T20:18:43.792Z"
   },
   {
    "duration": 8,
    "start_time": "2024-12-29T20:18:44.096Z"
   },
   {
    "duration": 105,
    "start_time": "2024-12-29T20:18:44.106Z"
   },
   {
    "duration": 11,
    "start_time": "2024-12-29T20:18:44.212Z"
   },
   {
    "duration": 13,
    "start_time": "2024-12-29T20:18:44.224Z"
   },
   {
    "duration": 110799,
    "start_time": "2024-12-29T20:18:44.239Z"
   },
   {
    "duration": 36103,
    "start_time": "2024-12-29T20:20:35.040Z"
   },
   {
    "duration": 5,
    "start_time": "2024-12-29T20:21:11.145Z"
   },
   {
    "duration": 7114,
    "start_time": "2024-12-29T20:21:11.152Z"
   },
   {
    "duration": 3,
    "start_time": "2024-12-29T20:21:18.269Z"
   },
   {
    "duration": 123,
    "start_time": "2024-12-29T20:21:18.274Z"
   },
   {
    "duration": 26,
    "start_time": "2024-12-29T20:21:18.398Z"
   },
   {
    "duration": 1205947,
    "start_time": "2024-12-29T20:21:18.426Z"
   },
   {
    "duration": 110,
    "start_time": "2024-12-29T20:41:24.375Z"
   },
   {
    "duration": 3,
    "start_time": "2024-12-29T20:42:58.969Z"
   },
   {
    "duration": 3,
    "start_time": "2024-12-29T20:42:59.521Z"
   },
   {
    "duration": 1199520,
    "start_time": "2024-12-29T20:43:01.952Z"
   },
   {
    "duration": 108,
    "start_time": "2024-12-29T21:03:01.475Z"
   },
   {
    "duration": 95,
    "start_time": "2024-12-29T21:04:59.188Z"
   },
   {
    "duration": 7,
    "start_time": "2024-12-29T21:05:05.741Z"
   },
   {
    "duration": 3,
    "start_time": "2024-12-29T21:05:07.602Z"
   },
   {
    "duration": 2268856,
    "start_time": "2024-12-29T21:05:09.465Z"
   },
   {
    "duration": 3680,
    "start_time": "2024-12-29T21:42:58.323Z"
   },
   {
    "duration": 34,
    "start_time": "2024-12-29T21:46:09.490Z"
   },
   {
    "duration": 1709,
    "start_time": "2024-12-31T12:05:25.871Z"
   },
   {
    "duration": 4,
    "start_time": "2024-12-31T12:05:27.582Z"
   },
   {
    "duration": 1438,
    "start_time": "2024-12-31T12:05:27.588Z"
   },
   {
    "duration": 11,
    "start_time": "2024-12-31T12:05:29.030Z"
   },
   {
    "duration": 5,
    "start_time": "2024-12-31T12:05:29.044Z"
   },
   {
    "duration": 353,
    "start_time": "2024-12-31T12:05:29.050Z"
   },
   {
    "duration": 25,
    "start_time": "2024-12-31T12:05:29.405Z"
   },
   {
    "duration": 93,
    "start_time": "2024-12-31T12:05:29.433Z"
   },
   {
    "duration": 11,
    "start_time": "2024-12-31T12:05:29.528Z"
   },
   {
    "duration": 9,
    "start_time": "2024-12-31T12:05:29.541Z"
   },
   {
    "duration": 120468,
    "start_time": "2024-12-31T12:05:29.552Z"
   },
   {
    "duration": 39352,
    "start_time": "2024-12-31T12:07:30.022Z"
   },
   {
    "duration": 5,
    "start_time": "2024-12-31T12:08:09.376Z"
   },
   {
    "duration": 7323,
    "start_time": "2024-12-31T12:08:09.383Z"
   },
   {
    "duration": 19,
    "start_time": "2024-12-31T12:08:16.708Z"
   },
   {
    "duration": 8,
    "start_time": "2024-12-31T12:08:16.728Z"
   },
   {
    "duration": 4,
    "start_time": "2024-12-31T12:08:16.738Z"
   },
   {
    "duration": 1175194,
    "start_time": "2024-12-31T12:08:16.744Z"
   },
   {
    "duration": 54,
    "start_time": "2024-12-31T12:27:52.014Z"
   },
   {
    "duration": 27,
    "start_time": "2024-12-31T12:27:52.070Z"
   },
   {
    "duration": 503,
    "start_time": "2025-01-01T08:59:25.289Z"
   },
   {
    "duration": 1166,
    "start_time": "2025-01-01T09:00:53.544Z"
   },
   {
    "duration": 2712,
    "start_time": "2025-01-01T09:01:02.209Z"
   },
   {
    "duration": 12,
    "start_time": "2025-01-01T09:01:12.890Z"
   },
   {
    "duration": 3737,
    "start_time": "2025-01-01T09:01:22.233Z"
   },
   {
    "duration": 264,
    "start_time": "2025-01-01T09:01:58.921Z"
   },
   {
    "duration": 2442,
    "start_time": "2025-01-01T09:02:11.920Z"
   },
   {
    "duration": 5,
    "start_time": "2025-01-01T09:02:14.364Z"
   },
   {
    "duration": 15,
    "start_time": "2025-01-01T09:02:14.371Z"
   },
   {
    "duration": 1284,
    "start_time": "2025-01-01T09:02:14.387Z"
   },
   {
    "duration": 11,
    "start_time": "2025-01-01T09:02:15.673Z"
   },
   {
    "duration": 34,
    "start_time": "2025-01-01T09:02:15.686Z"
   },
   {
    "duration": 310,
    "start_time": "2025-01-01T09:02:15.722Z"
   },
   {
    "duration": 6,
    "start_time": "2025-01-01T09:02:18.459Z"
   },
   {
    "duration": 39,
    "start_time": "2025-01-01T09:13:24.448Z"
   },
   {
    "duration": 11,
    "start_time": "2025-01-01T09:13:29.653Z"
   },
   {
    "duration": 94,
    "start_time": "2025-01-01T09:15:20.940Z"
   },
   {
    "duration": 455,
    "start_time": "2025-01-01T09:15:51.425Z"
   },
   {
    "duration": 19,
    "start_time": "2025-01-01T09:26:44.639Z"
   },
   {
    "duration": 4,
    "start_time": "2025-01-01T09:27:31.732Z"
   },
   {
    "duration": 4,
    "start_time": "2025-01-01T11:19:48.837Z"
   },
   {
    "duration": 3,
    "start_time": "2025-01-01T11:19:58.638Z"
   },
   {
    "duration": 125,
    "start_time": "2025-01-01T11:20:06.710Z"
   },
   {
    "duration": 2538,
    "start_time": "2025-01-01T11:20:29.095Z"
   },
   {
    "duration": 5,
    "start_time": "2025-01-01T11:20:31.636Z"
   },
   {
    "duration": 82,
    "start_time": "2025-01-01T11:20:31.643Z"
   },
   {
    "duration": 954,
    "start_time": "2025-01-01T11:20:31.727Z"
   },
   {
    "duration": 11,
    "start_time": "2025-01-01T11:20:32.683Z"
   },
   {
    "duration": 18,
    "start_time": "2025-01-01T11:20:32.696Z"
   },
   {
    "duration": 317,
    "start_time": "2025-01-01T11:20:32.716Z"
   },
   {
    "duration": 6,
    "start_time": "2025-01-01T11:20:33.034Z"
   },
   {
    "duration": 50,
    "start_time": "2025-01-01T11:20:33.041Z"
   },
   {
    "duration": 14,
    "start_time": "2025-01-01T11:20:33.092Z"
   },
   {
    "duration": 530,
    "start_time": "2025-01-01T11:20:33.108Z"
   },
   {
    "duration": 3,
    "start_time": "2025-01-01T11:20:33.640Z"
   },
   {
    "duration": 178,
    "start_time": "2025-01-01T11:20:33.645Z"
   },
   {
    "duration": 115,
    "start_time": "2025-01-01T11:22:29.479Z"
   },
   {
    "duration": 3,
    "start_time": "2025-01-01T11:22:34.521Z"
   },
   {
    "duration": 1736,
    "start_time": "2025-01-01T11:22:36.096Z"
   },
   {
    "duration": 4,
    "start_time": "2025-01-01T11:22:56.451Z"
   },
   {
    "duration": 3153,
    "start_time": "2025-01-01T11:22:57.055Z"
   },
   {
    "duration": 48,
    "start_time": "2025-01-01T11:23:10.395Z"
   },
   {
    "duration": 3,
    "start_time": "2025-01-01T11:24:45.826Z"
   },
   {
    "duration": 1632,
    "start_time": "2025-01-01T11:24:47.065Z"
   },
   {
    "duration": 886,
    "start_time": "2025-01-01T11:24:50.165Z"
   },
   {
    "duration": 874,
    "start_time": "2025-01-01T11:24:52.701Z"
   },
   {
    "duration": 1626,
    "start_time": "2025-01-01T11:25:04.133Z"
   },
   {
    "duration": 908,
    "start_time": "2025-01-01T11:25:11.430Z"
   },
   {
    "duration": 874,
    "start_time": "2025-01-01T11:25:18.556Z"
   },
   {
    "duration": 4,
    "start_time": "2025-01-01T11:25:38.415Z"
   },
   {
    "duration": 3205,
    "start_time": "2025-01-01T11:25:39.296Z"
   },
   {
    "duration": 25,
    "start_time": "2025-01-01T11:25:52.783Z"
   },
   {
    "duration": 5,
    "start_time": "2025-01-01T11:26:01.139Z"
   },
   {
    "duration": 4,
    "start_time": "2025-01-01T11:27:15.412Z"
   },
   {
    "duration": 1706,
    "start_time": "2025-01-01T11:27:17.103Z"
   },
   {
    "duration": 4,
    "start_time": "2025-01-01T11:27:31.224Z"
   },
   {
    "duration": 1601,
    "start_time": "2025-01-01T11:27:32.467Z"
   },
   {
    "duration": 4,
    "start_time": "2025-01-01T11:27:35.171Z"
   },
   {
    "duration": 4,
    "start_time": "2025-01-01T11:30:37.769Z"
   },
   {
    "duration": 1774,
    "start_time": "2025-01-01T11:30:39.138Z"
   },
   {
    "duration": 5,
    "start_time": "2025-01-01T11:31:35.112Z"
   },
   {
    "duration": 57,
    "start_time": "2025-01-01T11:31:58.698Z"
   },
   {
    "duration": 4,
    "start_time": "2025-01-01T11:32:22.240Z"
   },
   {
    "duration": 27,
    "start_time": "2025-01-01T11:32:23.944Z"
   },
   {
    "duration": 4,
    "start_time": "2025-01-01T11:32:51.862Z"
   },
   {
    "duration": 338718,
    "start_time": "2025-01-01T11:32:53.430Z"
   },
   {
    "duration": 6,
    "start_time": "2025-01-01T11:42:54.393Z"
   },
   {
    "duration": 23936,
    "start_time": "2025-01-01T11:43:08.964Z"
   },
   {
    "duration": 5,
    "start_time": "2025-01-01T11:44:34.181Z"
   },
   {
    "duration": 1492021,
    "start_time": "2025-01-01T11:44:35.109Z"
   },
   {
    "duration": 4,
    "start_time": "2025-01-01T12:09:27.132Z"
   },
   {
    "duration": 35,
    "start_time": "2025-01-01T12:10:20.388Z"
   },
   {
    "duration": 59,
    "start_time": "2025-01-01T12:10:27.250Z"
   },
   {
    "duration": 500,
    "start_time": "2025-01-01T12:10:31.348Z"
   },
   {
    "duration": 24583,
    "start_time": "2025-01-01T12:11:16.802Z"
   },
   {
    "duration": 64145,
    "start_time": "2025-01-01T12:14:36.587Z"
   },
   {
    "duration": 133179,
    "start_time": "2025-01-01T12:15:53.638Z"
   },
   {
    "duration": 809457,
    "start_time": "2025-01-01T12:18:22.576Z"
   },
   {
    "duration": 5,
    "start_time": "2025-01-01T12:32:17.447Z"
   },
   {
    "duration": 84760,
    "start_time": "2025-01-01T12:32:20.509Z"
   },
   {
    "duration": 7,
    "start_time": "2025-01-01T12:34:00.881Z"
   },
   {
    "duration": 46443,
    "start_time": "2025-01-01T12:34:20.141Z"
   },
   {
    "duration": 28843,
    "start_time": "2025-01-01T12:35:28.783Z"
   },
   {
    "duration": 13,
    "start_time": "2025-01-01T12:36:39.499Z"
   },
   {
    "duration": 15,
    "start_time": "2025-01-01T12:36:44.944Z"
   },
   {
    "duration": 6,
    "start_time": "2025-01-01T12:37:19.059Z"
   },
   {
    "duration": 8741,
    "start_time": "2025-01-01T12:37:25.263Z"
   },
   {
    "duration": 6,
    "start_time": "2025-01-01T12:38:10.422Z"
   },
   {
    "duration": 112282,
    "start_time": "2025-01-01T12:38:12.782Z"
   },
   {
    "duration": 6,
    "start_time": "2025-01-01T12:40:59.089Z"
   },
   {
    "duration": 48567,
    "start_time": "2025-01-01T12:41:02.725Z"
   },
   {
    "duration": 6,
    "start_time": "2025-01-01T12:43:05.176Z"
   },
   {
    "duration": 1127964,
    "start_time": "2025-01-01T12:43:06.920Z"
   },
   {
    "duration": 5,
    "start_time": "2025-01-01T13:04:25.593Z"
   },
   {
    "duration": 4,
    "start_time": "2025-01-01T13:05:22.803Z"
   },
   {
    "duration": 4,
    "start_time": "2025-01-01T13:05:36.410Z"
   },
   {
    "duration": 5,
    "start_time": "2025-01-01T13:05:43.848Z"
   },
   {
    "duration": 5,
    "start_time": "2025-01-01T13:06:07.284Z"
   },
   {
    "duration": 383726,
    "start_time": "2025-01-01T13:06:25.330Z"
   },
   {
    "duration": 4,
    "start_time": "2025-01-01T13:12:49.059Z"
   },
   {
    "duration": 84,
    "start_time": "2025-01-01T13:14:25.737Z"
   },
   {
    "duration": 4,
    "start_time": "2025-01-01T13:14:46.640Z"
   },
   {
    "duration": 324875,
    "start_time": "2025-01-01T13:14:49.404Z"
   },
   {
    "duration": 384368,
    "start_time": "2025-01-01T13:20:19.407Z"
   },
   {
    "duration": 5,
    "start_time": "2025-01-01T13:26:43.777Z"
   },
   {
    "duration": 13,
    "start_time": "2025-01-01T13:26:43.784Z"
   },
   {
    "duration": 6544,
    "start_time": "2025-01-01T13:26:43.799Z"
   },
   {
    "duration": 3,
    "start_time": "2025-01-01T13:26:50.345Z"
   },
   {
    "duration": 4,
    "start_time": "2025-01-01T13:26:50.350Z"
   },
   {
    "duration": 25,
    "start_time": "2025-01-01T13:26:50.356Z"
   },
   {
    "duration": 112,
    "start_time": "2025-01-01T13:29:31.258Z"
   },
   {
    "duration": 2410,
    "start_time": "2025-01-01T13:32:22.358Z"
   },
   {
    "duration": 4099,
    "start_time": "2025-01-01T13:32:24.771Z"
   },
   {
    "duration": 3,
    "start_time": "2025-01-01T13:32:28.872Z"
   },
   {
    "duration": 956,
    "start_time": "2025-01-01T13:32:28.877Z"
   },
   {
    "duration": 11,
    "start_time": "2025-01-01T13:32:29.835Z"
   },
   {
    "duration": 3,
    "start_time": "2025-01-01T13:32:29.848Z"
   },
   {
    "duration": 327,
    "start_time": "2025-01-01T13:32:29.852Z"
   },
   {
    "duration": 6,
    "start_time": "2025-01-01T13:32:30.180Z"
   },
   {
    "duration": 126,
    "start_time": "2025-01-01T13:32:30.187Z"
   },
   {
    "duration": 22,
    "start_time": "2025-01-01T13:32:30.316Z"
   },
   {
    "duration": 530,
    "start_time": "2025-01-01T13:32:30.340Z"
   },
   {
    "duration": 6,
    "start_time": "2025-01-01T13:32:30.871Z"
   },
   {
    "duration": 1145354,
    "start_time": "2025-01-01T13:32:30.879Z"
   },
   {
    "duration": 338,
    "start_time": "2025-01-01T13:51:36.235Z"
   },
   {
    "duration": 0,
    "start_time": "2025-01-01T13:51:36.574Z"
   },
   {
    "duration": 0,
    "start_time": "2025-01-01T13:51:36.576Z"
   },
   {
    "duration": 0,
    "start_time": "2025-01-01T13:51:36.577Z"
   },
   {
    "duration": 0,
    "start_time": "2025-01-01T13:51:36.578Z"
   },
   {
    "duration": 0,
    "start_time": "2025-01-01T13:51:36.579Z"
   },
   {
    "duration": 0,
    "start_time": "2025-01-01T13:51:36.580Z"
   },
   {
    "duration": 0,
    "start_time": "2025-01-01T13:51:36.581Z"
   },
   {
    "duration": 1,
    "start_time": "2025-01-01T13:51:36.582Z"
   },
   {
    "duration": 0,
    "start_time": "2025-01-01T13:51:36.584Z"
   },
   {
    "duration": 0,
    "start_time": "2025-01-01T13:51:36.585Z"
   },
   {
    "duration": 4,
    "start_time": "2025-01-01T14:37:45.067Z"
   },
   {
    "duration": 490,
    "start_time": "2025-01-01T14:41:43.609Z"
   },
   {
    "duration": 5,
    "start_time": "2025-01-01T14:42:32.600Z"
   },
   {
    "duration": 484,
    "start_time": "2025-01-01T14:42:34.160Z"
   },
   {
    "duration": 2444,
    "start_time": "2025-01-01T14:42:48.568Z"
   },
   {
    "duration": 4014,
    "start_time": "2025-01-01T14:42:51.014Z"
   },
   {
    "duration": 3,
    "start_time": "2025-01-01T14:42:55.029Z"
   },
   {
    "duration": 998,
    "start_time": "2025-01-01T14:42:55.033Z"
   },
   {
    "duration": 16,
    "start_time": "2025-01-01T14:42:56.034Z"
   },
   {
    "duration": 17,
    "start_time": "2025-01-01T14:42:56.053Z"
   },
   {
    "duration": 310,
    "start_time": "2025-01-01T14:42:56.072Z"
   },
   {
    "duration": 6,
    "start_time": "2025-01-01T14:42:56.383Z"
   },
   {
    "duration": 78,
    "start_time": "2025-01-01T14:42:56.390Z"
   },
   {
    "duration": 129,
    "start_time": "2025-01-01T14:42:56.469Z"
   },
   {
    "duration": 513,
    "start_time": "2025-01-01T14:42:56.600Z"
   },
   {
    "duration": 6,
    "start_time": "2025-01-01T14:42:57.115Z"
   },
   {
    "duration": 1151090,
    "start_time": "2025-01-01T14:42:57.122Z"
   },
   {
    "duration": 4,
    "start_time": "2025-01-01T15:02:08.215Z"
   },
   {
    "duration": 394468,
    "start_time": "2025-01-01T15:02:08.221Z"
   },
   {
    "duration": 5,
    "start_time": "2025-01-01T15:08:42.691Z"
   },
   {
    "duration": 8,
    "start_time": "2025-01-01T15:08:42.697Z"
   },
   {
    "duration": 6835,
    "start_time": "2025-01-01T15:08:42.707Z"
   },
   {
    "duration": 4,
    "start_time": "2025-01-01T15:08:49.543Z"
   },
   {
    "duration": 24,
    "start_time": "2025-01-01T15:08:49.548Z"
   },
   {
    "duration": 10,
    "start_time": "2025-01-01T15:08:49.574Z"
   },
   {
    "duration": 458,
    "start_time": "2025-01-01T15:08:49.585Z"
   },
   {
    "duration": 22,
    "start_time": "2025-01-01T15:08:50.045Z"
   },
   {
    "duration": 0,
    "start_time": "2025-01-01T15:08:50.069Z"
   },
   {
    "duration": 2696,
    "start_time": "2025-01-01T15:23:56.879Z"
   },
   {
    "duration": 5080,
    "start_time": "2025-01-01T15:23:59.577Z"
   },
   {
    "duration": 2,
    "start_time": "2025-01-01T15:24:04.662Z"
   },
   {
    "duration": 1017,
    "start_time": "2025-01-01T15:24:04.665Z"
   },
   {
    "duration": 10,
    "start_time": "2025-01-01T15:24:05.684Z"
   },
   {
    "duration": 47,
    "start_time": "2025-01-01T15:24:05.696Z"
   },
   {
    "duration": 335,
    "start_time": "2025-01-01T15:24:05.746Z"
   },
   {
    "duration": 8,
    "start_time": "2025-01-01T15:24:06.083Z"
   },
   {
    "duration": 70,
    "start_time": "2025-01-01T15:24:06.095Z"
   },
   {
    "duration": 31,
    "start_time": "2025-01-01T15:24:06.167Z"
   },
   {
    "duration": 577,
    "start_time": "2025-01-01T15:24:06.199Z"
   },
   {
    "duration": 6,
    "start_time": "2025-01-01T15:24:06.778Z"
   },
   {
    "duration": 1992,
    "start_time": "2025-01-01T15:24:06.785Z"
   },
   {
    "duration": 25,
    "start_time": "2025-01-01T15:24:08.779Z"
   },
   {
    "duration": 0,
    "start_time": "2025-01-01T15:24:08.806Z"
   },
   {
    "duration": 0,
    "start_time": "2025-01-01T15:24:08.807Z"
   },
   {
    "duration": 0,
    "start_time": "2025-01-01T15:24:08.808Z"
   },
   {
    "duration": 0,
    "start_time": "2025-01-01T15:24:08.810Z"
   },
   {
    "duration": 0,
    "start_time": "2025-01-01T15:24:08.811Z"
   },
   {
    "duration": 0,
    "start_time": "2025-01-01T15:24:08.812Z"
   },
   {
    "duration": 0,
    "start_time": "2025-01-01T15:24:08.814Z"
   },
   {
    "duration": 0,
    "start_time": "2025-01-01T15:24:08.815Z"
   },
   {
    "duration": 0,
    "start_time": "2025-01-01T15:24:08.817Z"
   },
   {
    "duration": 0,
    "start_time": "2025-01-01T15:24:08.818Z"
   },
   {
    "duration": 2536,
    "start_time": "2025-01-01T15:24:24.678Z"
   },
   {
    "duration": 4490,
    "start_time": "2025-01-01T15:24:27.217Z"
   },
   {
    "duration": 3,
    "start_time": "2025-01-01T15:24:31.708Z"
   },
   {
    "duration": 985,
    "start_time": "2025-01-01T15:24:31.713Z"
   },
   {
    "duration": 11,
    "start_time": "2025-01-01T15:24:32.700Z"
   },
   {
    "duration": 52,
    "start_time": "2025-01-01T15:24:32.712Z"
   },
   {
    "duration": 305,
    "start_time": "2025-01-01T15:24:32.766Z"
   },
   {
    "duration": 7,
    "start_time": "2025-01-01T15:24:33.073Z"
   },
   {
    "duration": 57,
    "start_time": "2025-01-01T15:24:33.082Z"
   },
   {
    "duration": 11,
    "start_time": "2025-01-01T15:24:33.142Z"
   },
   {
    "duration": 547,
    "start_time": "2025-01-01T15:24:33.155Z"
   },
   {
    "duration": 6,
    "start_time": "2025-01-01T15:24:33.704Z"
   },
   {
    "duration": 674,
    "start_time": "2025-01-01T15:24:33.711Z"
   },
   {
    "duration": 23,
    "start_time": "2025-01-01T15:24:34.386Z"
   },
   {
    "duration": 0,
    "start_time": "2025-01-01T15:24:34.411Z"
   },
   {
    "duration": 0,
    "start_time": "2025-01-01T15:24:34.412Z"
   },
   {
    "duration": 0,
    "start_time": "2025-01-01T15:24:34.413Z"
   },
   {
    "duration": 0,
    "start_time": "2025-01-01T15:24:34.415Z"
   },
   {
    "duration": 0,
    "start_time": "2025-01-01T15:24:34.416Z"
   },
   {
    "duration": 0,
    "start_time": "2025-01-01T15:24:34.417Z"
   },
   {
    "duration": 0,
    "start_time": "2025-01-01T15:24:34.418Z"
   },
   {
    "duration": 0,
    "start_time": "2025-01-01T15:24:34.419Z"
   },
   {
    "duration": 0,
    "start_time": "2025-01-01T15:24:34.420Z"
   },
   {
    "duration": 0,
    "start_time": "2025-01-01T15:24:34.421Z"
   },
   {
    "duration": 2568,
    "start_time": "2025-01-01T15:24:48.584Z"
   },
   {
    "duration": 4216,
    "start_time": "2025-01-01T15:24:51.154Z"
   },
   {
    "duration": 3,
    "start_time": "2025-01-01T15:24:55.373Z"
   },
   {
    "duration": 952,
    "start_time": "2025-01-01T15:24:55.379Z"
   },
   {
    "duration": 18,
    "start_time": "2025-01-01T15:24:56.333Z"
   },
   {
    "duration": 17,
    "start_time": "2025-01-01T15:24:56.352Z"
   },
   {
    "duration": 325,
    "start_time": "2025-01-01T15:24:56.371Z"
   },
   {
    "duration": 6,
    "start_time": "2025-01-01T15:24:56.697Z"
   },
   {
    "duration": 115,
    "start_time": "2025-01-01T15:24:56.704Z"
   },
   {
    "duration": 17,
    "start_time": "2025-01-01T15:24:56.821Z"
   },
   {
    "duration": 562,
    "start_time": "2025-01-01T15:24:56.840Z"
   },
   {
    "duration": 6,
    "start_time": "2025-01-01T15:24:57.403Z"
   },
   {
    "duration": 659,
    "start_time": "2025-01-01T15:24:57.410Z"
   },
   {
    "duration": 25,
    "start_time": "2025-01-01T15:24:58.070Z"
   },
   {
    "duration": 0,
    "start_time": "2025-01-01T15:24:58.097Z"
   },
   {
    "duration": 0,
    "start_time": "2025-01-01T15:24:58.098Z"
   },
   {
    "duration": 0,
    "start_time": "2025-01-01T15:24:58.099Z"
   },
   {
    "duration": 0,
    "start_time": "2025-01-01T15:24:58.100Z"
   },
   {
    "duration": 0,
    "start_time": "2025-01-01T15:24:58.101Z"
   },
   {
    "duration": 0,
    "start_time": "2025-01-01T15:24:58.102Z"
   },
   {
    "duration": 0,
    "start_time": "2025-01-01T15:24:58.103Z"
   },
   {
    "duration": 0,
    "start_time": "2025-01-01T15:24:58.105Z"
   },
   {
    "duration": 0,
    "start_time": "2025-01-01T15:24:58.106Z"
   },
   {
    "duration": 0,
    "start_time": "2025-01-01T15:24:58.107Z"
   },
   {
    "duration": 2600,
    "start_time": "2025-01-01T15:25:45.240Z"
   },
   {
    "duration": 4226,
    "start_time": "2025-01-01T15:25:47.844Z"
   },
   {
    "duration": 2,
    "start_time": "2025-01-01T15:25:52.072Z"
   },
   {
    "duration": 975,
    "start_time": "2025-01-01T15:25:52.076Z"
   },
   {
    "duration": 12,
    "start_time": "2025-01-01T15:25:53.053Z"
   },
   {
    "duration": 6,
    "start_time": "2025-01-01T15:25:53.067Z"
   },
   {
    "duration": 348,
    "start_time": "2025-01-01T15:25:53.075Z"
   },
   {
    "duration": 17,
    "start_time": "2025-01-01T15:25:53.424Z"
   },
   {
    "duration": 40,
    "start_time": "2025-01-01T15:25:53.445Z"
   },
   {
    "duration": 11,
    "start_time": "2025-01-01T15:25:53.489Z"
   },
   {
    "duration": 555,
    "start_time": "2025-01-01T15:25:53.502Z"
   },
   {
    "duration": 6,
    "start_time": "2025-01-01T15:25:54.058Z"
   },
   {
    "duration": 2561,
    "start_time": "2025-01-01T15:32:00.910Z"
   },
   {
    "duration": 4212,
    "start_time": "2025-01-01T15:32:03.474Z"
   },
   {
    "duration": 2,
    "start_time": "2025-01-01T15:32:07.688Z"
   },
   {
    "duration": 987,
    "start_time": "2025-01-01T15:32:07.692Z"
   },
   {
    "duration": 11,
    "start_time": "2025-01-01T15:32:08.680Z"
   },
   {
    "duration": 19,
    "start_time": "2025-01-01T15:32:08.693Z"
   },
   {
    "duration": 328,
    "start_time": "2025-01-01T15:32:08.714Z"
   },
   {
    "duration": 6,
    "start_time": "2025-01-01T15:32:09.044Z"
   },
   {
    "duration": 61,
    "start_time": "2025-01-01T15:32:09.052Z"
   },
   {
    "duration": 10,
    "start_time": "2025-01-01T15:32:09.116Z"
   },
   {
    "duration": 564,
    "start_time": "2025-01-01T15:32:09.128Z"
   },
   {
    "duration": 6,
    "start_time": "2025-01-01T15:32:09.694Z"
   },
   {
    "duration": 2510,
    "start_time": "2025-01-01T15:37:23.455Z"
   },
   {
    "duration": 4225,
    "start_time": "2025-01-01T15:37:25.968Z"
   },
   {
    "duration": 2,
    "start_time": "2025-01-01T15:37:30.195Z"
   },
   {
    "duration": 974,
    "start_time": "2025-01-01T15:37:30.199Z"
   },
   {
    "duration": 11,
    "start_time": "2025-01-01T15:37:31.175Z"
   },
   {
    "duration": 17,
    "start_time": "2025-01-01T15:37:31.188Z"
   },
   {
    "duration": 361,
    "start_time": "2025-01-01T15:37:31.207Z"
   },
   {
    "duration": 6,
    "start_time": "2025-01-01T15:37:31.569Z"
   },
   {
    "duration": 57,
    "start_time": "2025-01-01T15:37:31.577Z"
   },
   {
    "duration": 12,
    "start_time": "2025-01-01T15:37:31.640Z"
   },
   {
    "duration": 600,
    "start_time": "2025-01-01T15:37:31.654Z"
   },
   {
    "duration": 5,
    "start_time": "2025-01-01T15:37:32.256Z"
   },
   {
    "duration": 2671499,
    "start_time": "2025-01-01T15:37:32.263Z"
   },
   {
    "duration": 6,
    "start_time": "2025-01-01T16:22:03.764Z"
   },
   {
    "duration": 934413,
    "start_time": "2025-01-01T16:22:03.772Z"
   },
   {
    "duration": 5,
    "start_time": "2025-01-01T16:37:38.186Z"
   },
   {
    "duration": 15,
    "start_time": "2025-01-01T16:37:38.192Z"
   },
   {
    "duration": 7340,
    "start_time": "2025-01-01T16:37:38.209Z"
   },
   {
    "duration": 3,
    "start_time": "2025-01-01T16:37:45.551Z"
   },
   {
    "duration": 6,
    "start_time": "2025-01-01T16:37:45.555Z"
   },
   {
    "duration": 8,
    "start_time": "2025-01-01T16:37:45.562Z"
   },
   {
    "duration": 432,
    "start_time": "2025-01-01T16:37:45.571Z"
   },
   {
    "duration": 25,
    "start_time": "2025-01-01T16:37:46.004Z"
   },
   {
    "duration": 0,
    "start_time": "2025-01-01T16:37:46.031Z"
   },
   {
    "duration": 6,
    "start_time": "2025-01-01T16:46:06.912Z"
   },
   {
    "duration": 18,
    "start_time": "2025-01-01T16:47:54.140Z"
   },
   {
    "duration": 2551,
    "start_time": "2025-01-01T16:49:01.335Z"
   },
   {
    "duration": 5,
    "start_time": "2025-01-01T16:49:03.889Z"
   },
   {
    "duration": 10,
    "start_time": "2025-01-01T16:49:03.896Z"
   },
   {
    "duration": 886,
    "start_time": "2025-01-01T16:49:03.907Z"
   },
   {
    "duration": 10,
    "start_time": "2025-01-01T16:49:04.795Z"
   },
   {
    "duration": 3,
    "start_time": "2025-01-01T16:49:04.807Z"
   },
   {
    "duration": 314,
    "start_time": "2025-01-01T16:49:04.811Z"
   },
   {
    "duration": 8,
    "start_time": "2025-01-01T16:49:05.130Z"
   },
   {
    "duration": 55,
    "start_time": "2025-01-01T16:49:05.141Z"
   },
   {
    "duration": 13,
    "start_time": "2025-01-01T16:49:05.198Z"
   },
   {
    "duration": 508,
    "start_time": "2025-01-01T16:49:05.214Z"
   },
   {
    "duration": 6,
    "start_time": "2025-01-01T16:49:05.724Z"
   },
   {
    "duration": 18702,
    "start_time": "2025-01-01T16:49:05.731Z"
   },
   {
    "duration": 5,
    "start_time": "2025-01-01T16:49:24.435Z"
   },
   {
    "duration": 2531,
    "start_time": "2025-01-01T16:49:29.358Z"
   },
   {
    "duration": 5,
    "start_time": "2025-01-01T16:49:31.891Z"
   },
   {
    "duration": 13,
    "start_time": "2025-01-01T16:49:31.898Z"
   },
   {
    "duration": 837,
    "start_time": "2025-01-01T16:49:31.913Z"
   },
   {
    "duration": 10,
    "start_time": "2025-01-01T16:49:32.752Z"
   },
   {
    "duration": 4,
    "start_time": "2025-01-01T16:49:32.763Z"
   },
   {
    "duration": 297,
    "start_time": "2025-01-01T16:49:32.769Z"
   },
   {
    "duration": 6,
    "start_time": "2025-01-01T16:49:33.067Z"
   },
   {
    "duration": 77,
    "start_time": "2025-01-01T16:49:33.075Z"
   },
   {
    "duration": 12,
    "start_time": "2025-01-01T16:49:33.154Z"
   },
   {
    "duration": 458,
    "start_time": "2025-01-01T16:49:33.168Z"
   },
   {
    "duration": 5,
    "start_time": "2025-01-01T16:49:33.628Z"
   },
   {
    "duration": 1109959,
    "start_time": "2025-01-01T16:49:33.635Z"
   },
   {
    "duration": 5,
    "start_time": "2025-01-01T17:08:03.596Z"
   },
   {
    "duration": 39,
    "start_time": "2025-01-01T17:30:19.813Z"
   },
   {
    "duration": 43,
    "start_time": "2025-01-01T17:30:25.359Z"
   },
   {
    "duration": 35,
    "start_time": "2025-01-01T17:31:28.431Z"
   },
   {
    "duration": 45,
    "start_time": "2025-01-01T17:32:03.489Z"
   },
   {
    "duration": 45,
    "start_time": "2025-01-01T17:32:09.740Z"
   },
   {
    "duration": 5,
    "start_time": "2025-01-01T17:32:28.589Z"
   },
   {
    "duration": 6,
    "start_time": "2025-01-01T17:36:47.420Z"
   },
   {
    "duration": 7,
    "start_time": "2025-01-01T17:37:04.860Z"
   },
   {
    "duration": 1082617,
    "start_time": "2025-01-01T17:37:07.020Z"
   },
   {
    "duration": 6,
    "start_time": "2025-01-01T18:02:01.812Z"
   },
   {
    "duration": 1082040,
    "start_time": "2025-01-01T18:02:07.644Z"
   },
   {
    "duration": 7,
    "start_time": "2025-01-01T18:33:30.105Z"
   },
   {
    "duration": 6,
    "start_time": "2025-01-01T18:34:04.959Z"
   },
   {
    "duration": 5,
    "start_time": "2025-01-01T18:34:14.440Z"
   },
   {
    "duration": 4,
    "start_time": "2025-01-01T18:35:04.718Z"
   },
   {
    "duration": 4,
    "start_time": "2025-01-01T18:35:22.731Z"
   },
   {
    "duration": 4,
    "start_time": "2025-01-01T18:35:36.428Z"
   },
   {
    "duration": 4,
    "start_time": "2025-01-01T18:35:52.254Z"
   },
   {
    "duration": 4,
    "start_time": "2025-01-01T18:35:53.884Z"
   },
   {
    "duration": 5,
    "start_time": "2025-01-01T18:37:59.497Z"
   },
   {
    "duration": 4,
    "start_time": "2025-01-01T18:38:00.774Z"
   },
   {
    "duration": 83,
    "start_time": "2025-01-01T18:38:47.648Z"
   },
   {
    "duration": 4,
    "start_time": "2025-01-01T18:38:54.492Z"
   },
   {
    "duration": 6,
    "start_time": "2025-01-01T18:39:22.995Z"
   },
   {
    "duration": 1043144,
    "start_time": "2025-01-01T18:39:27.452Z"
   },
   {
    "duration": 5,
    "start_time": "2025-01-01T19:17:35.240Z"
   },
   {
    "duration": 83,
    "start_time": "2025-01-01T19:21:13.005Z"
   },
   {
    "duration": 79,
    "start_time": "2025-01-01T19:22:06.257Z"
   },
   {
    "duration": 33,
    "start_time": "2025-01-01T19:22:58.962Z"
   },
   {
    "duration": 1290,
    "start_time": "2025-01-01T19:23:18.068Z"
   },
   {
    "duration": 77,
    "start_time": "2025-01-01T19:23:23.355Z"
   },
   {
    "duration": 1884,
    "start_time": "2025-01-01T19:23:37.822Z"
   },
   {
    "duration": 1555,
    "start_time": "2025-01-01T19:23:55.335Z"
   },
   {
    "duration": 89,
    "start_time": "2025-01-01T19:24:07.514Z"
   },
   {
    "duration": 1904,
    "start_time": "2025-01-01T19:24:34.784Z"
   },
   {
    "duration": 949,
    "start_time": "2025-01-01T19:24:42.856Z"
   },
   {
    "duration": 1559,
    "start_time": "2025-01-01T19:25:27.878Z"
   },
   {
    "duration": 1719,
    "start_time": "2025-01-01T19:25:55.102Z"
   },
   {
    "duration": 236,
    "start_time": "2025-01-01T19:26:37.571Z"
   },
   {
    "duration": 1717,
    "start_time": "2025-01-01T19:26:53.604Z"
   },
   {
    "duration": 125,
    "start_time": "2025-01-01T19:59:16.976Z"
   },
   {
    "duration": 2331,
    "start_time": "2025-01-01T19:59:28.112Z"
   },
   {
    "duration": 2281,
    "start_time": "2025-01-01T19:59:40.048Z"
   },
   {
    "duration": 2274,
    "start_time": "2025-01-01T20:00:34.385Z"
   },
   {
    "duration": 103,
    "start_time": "2025-01-01T20:01:08.577Z"
   },
   {
    "duration": 104,
    "start_time": "2025-01-01T20:01:30.565Z"
   },
   {
    "duration": 2259,
    "start_time": "2025-01-01T20:01:34.737Z"
   },
   {
    "duration": 7,
    "start_time": "2025-01-01T20:02:31.856Z"
   },
   {
    "duration": 1095724,
    "start_time": "2025-01-01T20:02:36.822Z"
   },
   {
    "duration": 6,
    "start_time": "2025-01-01T20:20:52.548Z"
   },
   {
    "duration": 5,
    "start_time": "2025-01-01T20:24:09.094Z"
   },
   {
    "duration": 1300123,
    "start_time": "2025-01-01T20:24:10.575Z"
   },
   {
    "duration": 5,
    "start_time": "2025-01-01T20:45:50.701Z"
   },
   {
    "duration": 6,
    "start_time": "2025-01-01T20:48:13.166Z"
   },
   {
    "duration": 3059,
    "start_time": "2025-01-03T08:06:42.818Z"
   },
   {
    "duration": 4587,
    "start_time": "2025-01-03T08:06:45.880Z"
   },
   {
    "duration": 4,
    "start_time": "2025-01-03T08:06:50.469Z"
   },
   {
    "duration": 3902,
    "start_time": "2025-01-03T08:06:50.475Z"
   },
   {
    "duration": 11,
    "start_time": "2025-01-03T08:06:54.379Z"
   },
   {
    "duration": 23,
    "start_time": "2025-01-03T08:06:54.392Z"
   },
   {
    "duration": 321,
    "start_time": "2025-01-03T08:06:54.416Z"
   },
   {
    "duration": 7,
    "start_time": "2025-01-03T08:06:54.738Z"
   },
   {
    "duration": 39,
    "start_time": "2025-01-03T08:06:54.760Z"
   },
   {
    "duration": 11,
    "start_time": "2025-01-03T08:06:54.801Z"
   },
   {
    "duration": 634,
    "start_time": "2025-01-03T08:06:54.814Z"
   },
   {
    "duration": 10,
    "start_time": "2025-01-03T08:06:55.450Z"
   },
   {
    "duration": 1237814,
    "start_time": "2025-01-03T08:06:55.462Z"
   },
   {
    "duration": 5,
    "start_time": "2025-01-03T08:27:33.278Z"
   },
   {
    "duration": 2747,
    "start_time": "2025-01-03T08:28:04.816Z"
   },
   {
    "duration": 6,
    "start_time": "2025-01-03T08:28:07.565Z"
   },
   {
    "duration": 11,
    "start_time": "2025-01-03T08:28:07.572Z"
   },
   {
    "duration": 981,
    "start_time": "2025-01-03T08:28:07.584Z"
   },
   {
    "duration": 12,
    "start_time": "2025-01-03T08:28:08.567Z"
   },
   {
    "duration": 4,
    "start_time": "2025-01-03T08:28:08.580Z"
   },
   {
    "duration": 330,
    "start_time": "2025-01-03T08:28:08.585Z"
   },
   {
    "duration": 5,
    "start_time": "2025-01-03T08:28:08.917Z"
   },
   {
    "duration": 59,
    "start_time": "2025-01-03T08:28:08.924Z"
   },
   {
    "duration": 16,
    "start_time": "2025-01-03T08:28:08.985Z"
   },
   {
    "duration": 545,
    "start_time": "2025-01-03T08:28:09.003Z"
   },
   {
    "duration": 9,
    "start_time": "2025-01-03T08:28:09.550Z"
   },
   {
    "duration": 1459435,
    "start_time": "2025-01-03T08:28:09.561Z"
   },
   {
    "duration": 5,
    "start_time": "2025-01-03T08:52:28.999Z"
   },
   {
    "duration": 5,
    "start_time": "2025-01-03T08:57:50.385Z"
   },
   {
    "duration": 1084,
    "start_time": "2025-01-03T08:59:45.702Z"
   },
   {
    "duration": 39,
    "start_time": "2025-01-03T09:02:16.035Z"
   },
   {
    "duration": 5,
    "start_time": "2025-01-03T09:02:42.477Z"
   },
   {
    "duration": 14,
    "start_time": "2025-01-03T09:03:33.915Z"
   },
   {
    "duration": 6,
    "start_time": "2025-01-03T09:04:10.448Z"
   },
   {
    "duration": 5,
    "start_time": "2025-01-03T09:04:23.370Z"
   },
   {
    "duration": 1039,
    "start_time": "2025-01-03T09:04:39.782Z"
   },
   {
    "duration": 25,
    "start_time": "2025-01-03T09:04:43.584Z"
   },
   {
    "duration": 7,
    "start_time": "2025-01-03T09:04:44.532Z"
   },
   {
    "duration": 1112,
    "start_time": "2025-01-03T09:05:11.112Z"
   },
   {
    "duration": 26,
    "start_time": "2025-01-03T09:05:14.131Z"
   },
   {
    "duration": 6,
    "start_time": "2025-01-03T09:05:15.982Z"
   },
   {
    "duration": 1445146,
    "start_time": "2025-01-03T09:10:42.694Z"
   },
   {
    "duration": 0,
    "start_time": "2025-01-03T09:34:47.842Z"
   },
   {
    "duration": 339,
    "start_time": "2025-01-03T09:34:58.607Z"
   },
   {
    "duration": 1451187,
    "start_time": "2025-01-03T09:35:10.098Z"
   },
   {
    "duration": 20,
    "start_time": "2025-01-03T09:59:21.287Z"
   },
   {
    "duration": 3,
    "start_time": "2025-01-03T09:59:29.365Z"
   },
   {
    "duration": 1691,
    "start_time": "2025-01-03T10:00:31.229Z"
   },
   {
    "duration": 7,
    "start_time": "2025-01-03T10:00:35.758Z"
   },
   {
    "duration": 1067,
    "start_time": "2025-01-03T10:02:33.125Z"
   },
   {
    "duration": 17,
    "start_time": "2025-01-03T10:02:34.861Z"
   },
   {
    "duration": 13279,
    "start_time": "2025-01-03T10:02:36.421Z"
   },
   {
    "duration": 3,
    "start_time": "2025-01-03T10:02:58.382Z"
   },
   {
    "duration": 4,
    "start_time": "2025-01-03T10:04:35.911Z"
   },
   {
    "duration": 4,
    "start_time": "2025-01-03T10:06:36.961Z"
   },
   {
    "duration": 1237,
    "start_time": "2025-01-03T10:09:02.931Z"
   },
   {
    "duration": 1237,
    "start_time": "2025-01-03T10:09:11.380Z"
   },
   {
    "duration": 1101,
    "start_time": "2025-01-03T10:10:15.187Z"
   },
   {
    "duration": 31,
    "start_time": "2025-01-03T10:10:16.644Z"
   },
   {
    "duration": 5,
    "start_time": "2025-01-03T10:10:22.533Z"
   },
   {
    "duration": 1243,
    "start_time": "2025-01-03T10:10:41.732Z"
   },
   {
    "duration": 13267,
    "start_time": "2025-01-03T10:11:42.759Z"
   },
   {
    "duration": 4,
    "start_time": "2025-01-03T10:12:26.734Z"
   },
   {
    "duration": 13209,
    "start_time": "2025-01-03T10:12:38.309Z"
   },
   {
    "duration": 3,
    "start_time": "2025-01-03T10:12:51.520Z"
   },
   {
    "duration": 64,
    "start_time": "2025-01-03T10:15:47.800Z"
   },
   {
    "duration": 3,
    "start_time": "2025-01-03T10:15:53.389Z"
   },
   {
    "duration": 5,
    "start_time": "2025-01-03T10:17:38.202Z"
   },
   {
    "duration": 7019,
    "start_time": "2025-01-03T10:18:07.257Z"
   },
   {
    "duration": 6,
    "start_time": "2025-01-03T10:20:14.610Z"
   },
   {
    "duration": 2770,
    "start_time": "2025-01-03T10:20:21.106Z"
   },
   {
    "duration": 6,
    "start_time": "2025-01-03T10:20:23.879Z"
   },
   {
    "duration": 9,
    "start_time": "2025-01-03T10:20:23.887Z"
   },
   {
    "duration": 891,
    "start_time": "2025-01-03T10:20:23.898Z"
   },
   {
    "duration": 12,
    "start_time": "2025-01-03T10:20:24.792Z"
   },
   {
    "duration": 4,
    "start_time": "2025-01-03T10:20:24.805Z"
   },
   {
    "duration": 358,
    "start_time": "2025-01-03T10:20:24.810Z"
   },
   {
    "duration": 7,
    "start_time": "2025-01-03T10:20:25.170Z"
   },
   {
    "duration": 49,
    "start_time": "2025-01-03T10:20:25.178Z"
   },
   {
    "duration": 34,
    "start_time": "2025-01-03T10:20:25.228Z"
   },
   {
    "duration": 523,
    "start_time": "2025-01-03T10:20:25.264Z"
   },
   {
    "duration": 6,
    "start_time": "2025-01-03T10:20:25.789Z"
   },
   {
    "duration": 3640923,
    "start_time": "2025-01-03T10:20:25.796Z"
   },
   {
    "duration": 6,
    "start_time": "2025-01-03T11:21:06.721Z"
   },
   {
    "duration": 6,
    "start_time": "2025-01-03T11:22:15.392Z"
   },
   {
    "duration": 5,
    "start_time": "2025-01-03T11:23:14.523Z"
   },
   {
    "duration": 1468870,
    "start_time": "2025-01-03T11:23:16.145Z"
   },
   {
    "duration": 6,
    "start_time": "2025-01-03T11:47:45.017Z"
   },
   {
    "duration": 5,
    "start_time": "2025-01-03T12:48:25.488Z"
   },
   {
    "duration": 207,
    "start_time": "2025-01-03T12:48:54.824Z"
   },
   {
    "duration": 515,
    "start_time": "2025-01-03T12:50:38.507Z"
   },
   {
    "duration": 5,
    "start_time": "2025-01-03T12:50:41.635Z"
   },
   {
    "duration": 211,
    "start_time": "2025-01-03T12:50:43.466Z"
   },
   {
    "duration": 5,
    "start_time": "2025-01-03T12:51:27.769Z"
   },
   {
    "duration": 216,
    "start_time": "2025-01-03T12:51:28.348Z"
   },
   {
    "duration": 5,
    "start_time": "2025-01-03T12:51:54.042Z"
   },
   {
    "duration": 217,
    "start_time": "2025-01-03T12:51:55.203Z"
   },
   {
    "duration": 4,
    "start_time": "2025-01-03T12:52:04.812Z"
   },
   {
    "duration": 204,
    "start_time": "2025-01-03T12:52:06.883Z"
   },
   {
    "duration": 5,
    "start_time": "2025-01-03T12:52:15.965Z"
   },
   {
    "duration": 470,
    "start_time": "2025-01-03T12:53:02.640Z"
   },
   {
    "duration": 5,
    "start_time": "2025-01-03T12:53:06.135Z"
   },
   {
    "duration": 192,
    "start_time": "2025-01-03T12:53:08.273Z"
   },
   {
    "duration": 5,
    "start_time": "2025-01-03T12:54:35.278Z"
   },
   {
    "duration": 717,
    "start_time": "2025-01-03T12:54:36.317Z"
   },
   {
    "duration": 888,
    "start_time": "2025-01-03T12:55:07.375Z"
   },
   {
    "duration": 462,
    "start_time": "2025-01-03T12:55:26.056Z"
   },
   {
    "duration": 4,
    "start_time": "2025-01-03T12:55:29.087Z"
   },
   {
    "duration": 10,
    "start_time": "2025-01-03T12:55:57.448Z"
   },
   {
    "duration": 113,
    "start_time": "2025-01-03T12:55:58.182Z"
   },
   {
    "duration": 2720,
    "start_time": "2025-01-03T12:56:09.365Z"
   },
   {
    "duration": 4771,
    "start_time": "2025-01-03T12:56:12.087Z"
   },
   {
    "duration": 5,
    "start_time": "2025-01-03T12:56:16.860Z"
   },
   {
    "duration": 3951,
    "start_time": "2025-01-03T12:56:16.869Z"
   },
   {
    "duration": 12,
    "start_time": "2025-01-03T12:56:20.822Z"
   },
   {
    "duration": 13,
    "start_time": "2025-01-03T12:56:20.836Z"
   },
   {
    "duration": 363,
    "start_time": "2025-01-03T12:56:20.851Z"
   },
   {
    "duration": 7,
    "start_time": "2025-01-03T12:56:21.215Z"
   },
   {
    "duration": 61,
    "start_time": "2025-01-03T12:56:21.223Z"
   },
   {
    "duration": 11,
    "start_time": "2025-01-03T12:56:21.286Z"
   },
   {
    "duration": 626,
    "start_time": "2025-01-03T12:56:21.299Z"
   },
   {
    "duration": 6,
    "start_time": "2025-01-03T12:56:21.927Z"
   },
   {
    "duration": 6,
    "start_time": "2025-01-03T12:56:21.934Z"
   },
   {
    "duration": 2753,
    "start_time": "2025-01-03T13:01:29.014Z"
   },
   {
    "duration": 4566,
    "start_time": "2025-01-03T13:01:31.774Z"
   },
   {
    "duration": 3,
    "start_time": "2025-01-03T13:01:36.342Z"
   },
   {
    "duration": 3935,
    "start_time": "2025-01-03T13:01:36.347Z"
   },
   {
    "duration": 10,
    "start_time": "2025-01-03T13:01:40.284Z"
   },
   {
    "duration": 6,
    "start_time": "2025-01-03T13:01:40.296Z"
   },
   {
    "duration": 321,
    "start_time": "2025-01-03T13:01:40.304Z"
   },
   {
    "duration": 6,
    "start_time": "2025-01-03T13:01:40.627Z"
   },
   {
    "duration": 66,
    "start_time": "2025-01-03T13:01:40.635Z"
   },
   {
    "duration": 11,
    "start_time": "2025-01-03T13:01:40.702Z"
   },
   {
    "duration": 576,
    "start_time": "2025-01-03T13:01:40.715Z"
   },
   {
    "duration": 6,
    "start_time": "2025-01-03T13:01:41.292Z"
   },
   {
    "duration": 135133,
    "start_time": "2025-01-03T13:01:41.300Z"
   },
   {
    "duration": 6,
    "start_time": "2025-01-03T13:03:56.436Z"
   },
   {
    "duration": 7,
    "start_time": "2025-01-03T13:04:42.544Z"
   },
   {
    "duration": 6,
    "start_time": "2025-01-03T13:05:00.341Z"
   },
   {
    "duration": 370,
    "start_time": "2025-01-03T13:05:21.044Z"
   },
   {
    "duration": 1152,
    "start_time": "2025-01-03T13:07:51.591Z"
   },
   {
    "duration": 1192,
    "start_time": "2025-01-03T13:08:07.748Z"
   },
   {
    "duration": 1186,
    "start_time": "2025-01-03T13:08:39.740Z"
   },
   {
    "duration": 1127,
    "start_time": "2025-01-03T13:09:22.937Z"
   },
   {
    "duration": 45,
    "start_time": "2025-01-03T13:10:59.528Z"
   },
   {
    "duration": 10,
    "start_time": "2025-01-03T13:11:11.085Z"
   },
   {
    "duration": 35,
    "start_time": "2025-01-03T13:14:21.363Z"
   },
   {
    "duration": 36,
    "start_time": "2025-01-03T13:15:16.777Z"
   },
   {
    "duration": 51,
    "start_time": "2025-01-03T13:16:52.453Z"
   },
   {
    "duration": 36,
    "start_time": "2025-01-03T13:16:59.608Z"
   },
   {
    "duration": 35,
    "start_time": "2025-01-03T13:17:51.922Z"
   },
   {
    "duration": 35,
    "start_time": "2025-01-03T13:18:04.802Z"
   },
   {
    "duration": 54,
    "start_time": "2025-01-03T13:23:27.570Z"
   },
   {
    "duration": 58,
    "start_time": "2025-01-03T13:23:35.135Z"
   },
   {
    "duration": 58,
    "start_time": "2025-01-03T13:24:07.009Z"
   },
   {
    "duration": 1099,
    "start_time": "2025-01-03T13:24:17.453Z"
   },
   {
    "duration": 31,
    "start_time": "2025-01-03T13:24:18.553Z"
   },
   {
    "duration": 55,
    "start_time": "2025-01-03T13:24:32.621Z"
   },
   {
    "duration": 4,
    "start_time": "2025-01-03T13:25:09.915Z"
   },
   {
    "duration": 52,
    "start_time": "2025-01-03T13:25:13.089Z"
   },
   {
    "duration": 1086,
    "start_time": "2025-01-03T13:28:04.924Z"
   },
   {
    "duration": 23,
    "start_time": "2025-01-03T13:28:06.012Z"
   },
   {
    "duration": 10238,
    "start_time": "2025-01-03T13:28:06.182Z"
   },
   {
    "duration": 95,
    "start_time": "2025-01-03T13:28:38.101Z"
   },
   {
    "duration": 102,
    "start_time": "2025-01-03T13:28:45.399Z"
   },
   {
    "duration": 16,
    "start_time": "2025-01-03T13:28:47.621Z"
   },
   {
    "duration": 118811,
    "start_time": "2025-01-03T13:28:50.215Z"
   },
   {
    "duration": 96,
    "start_time": "2025-01-03T13:33:33.740Z"
   },
   {
    "duration": 6,
    "start_time": "2025-01-03T13:33:34.386Z"
   },
   {
    "duration": 117274,
    "start_time": "2025-01-03T13:33:35.370Z"
   },
   {
    "duration": 98,
    "start_time": "2025-01-03T13:36:06.244Z"
   },
   {
    "duration": 6,
    "start_time": "2025-01-03T13:36:06.859Z"
   },
   {
    "duration": 122227,
    "start_time": "2025-01-03T13:36:07.702Z"
   },
   {
    "duration": 101,
    "start_time": "2025-01-03T13:38:28.510Z"
   },
   {
    "duration": 15,
    "start_time": "2025-01-03T13:38:35.590Z"
   },
   {
    "duration": 6,
    "start_time": "2025-01-03T13:38:37.460Z"
   },
   {
    "duration": 12767,
    "start_time": "2025-01-03T13:38:50.237Z"
   },
   {
    "duration": 96,
    "start_time": "2025-01-03T13:39:26.664Z"
   },
   {
    "duration": 5,
    "start_time": "2025-01-03T13:39:27.711Z"
   },
   {
    "duration": 123791,
    "start_time": "2025-01-03T13:39:28.399Z"
   },
   {
    "duration": 104,
    "start_time": "2025-01-03T13:43:29.449Z"
   },
   {
    "duration": 6,
    "start_time": "2025-01-03T13:43:30.089Z"
   },
   {
    "duration": 126965,
    "start_time": "2025-01-03T13:43:31.162Z"
   },
   {
    "duration": 129,
    "start_time": "2025-01-03T13:48:31.613Z"
   },
   {
    "duration": 5,
    "start_time": "2025-01-03T13:48:32.078Z"
   },
   {
    "duration": 116520,
    "start_time": "2025-01-03T13:48:32.573Z"
   },
   {
    "duration": 112,
    "start_time": "2025-01-03T13:50:44.615Z"
   },
   {
    "duration": 6,
    "start_time": "2025-01-03T13:50:45.095Z"
   },
   {
    "duration": 119233,
    "start_time": "2025-01-03T13:50:46.064Z"
   },
   {
    "duration": 108,
    "start_time": "2025-01-03T13:53:54.731Z"
   },
   {
    "duration": 5,
    "start_time": "2025-01-03T13:53:55.546Z"
   },
   {
    "duration": 120928,
    "start_time": "2025-01-03T13:53:56.280Z"
   },
   {
    "duration": 6,
    "start_time": "2025-01-03T13:59:49.508Z"
   },
   {
    "duration": 8,
    "start_time": "2025-01-03T14:00:12.952Z"
   },
   {
    "duration": 5,
    "start_time": "2025-01-03T14:01:03.880Z"
   },
   {
    "duration": 120470,
    "start_time": "2025-01-03T14:01:04.790Z"
   },
   {
    "duration": 224,
    "start_time": "2025-01-03T14:04:47.032Z"
   },
   {
    "duration": 4,
    "start_time": "2025-01-03T14:05:16.445Z"
   },
   {
    "duration": 4,
    "start_time": "2025-01-03T14:05:28.270Z"
   },
   {
    "duration": 4,
    "start_time": "2025-01-03T14:06:01.125Z"
   },
   {
    "duration": 116,
    "start_time": "2025-01-03T14:07:17.301Z"
   },
   {
    "duration": 6,
    "start_time": "2025-01-03T14:07:19.795Z"
   },
   {
    "duration": 19,
    "start_time": "2025-01-03T14:08:13.062Z"
   },
   {
    "duration": 6,
    "start_time": "2025-01-03T14:08:14.420Z"
   },
   {
    "duration": 12844,
    "start_time": "2025-01-03T14:08:17.590Z"
   },
   {
    "duration": 15,
    "start_time": "2025-01-03T14:09:00.027Z"
   },
   {
    "duration": 5,
    "start_time": "2025-01-03T14:09:00.540Z"
   },
   {
    "duration": 12754,
    "start_time": "2025-01-03T14:09:01.205Z"
   },
   {
    "duration": 60,
    "start_time": "2025-01-03T14:09:35.064Z"
   },
   {
    "duration": 15,
    "start_time": "2025-01-03T14:09:45.558Z"
   },
   {
    "duration": 5,
    "start_time": "2025-01-03T14:09:46.029Z"
   },
   {
    "duration": 12479,
    "start_time": "2025-01-03T14:09:46.605Z"
   },
   {
    "duration": 20,
    "start_time": "2025-01-03T14:12:02.303Z"
   },
   {
    "duration": 5,
    "start_time": "2025-01-03T14:12:02.783Z"
   },
   {
    "duration": 13039,
    "start_time": "2025-01-03T14:12:03.455Z"
   },
   {
    "duration": 23,
    "start_time": "2025-01-03T14:12:45.840Z"
   },
   {
    "duration": 8,
    "start_time": "2025-01-03T14:12:45.865Z"
   },
   {
    "duration": 12706,
    "start_time": "2025-01-03T14:12:45.875Z"
   },
   {
    "duration": 17,
    "start_time": "2025-01-03T14:18:37.152Z"
   },
   {
    "duration": 6,
    "start_time": "2025-01-03T14:18:37.477Z"
   },
   {
    "duration": 12843,
    "start_time": "2025-01-03T14:18:38.053Z"
   },
   {
    "duration": 15,
    "start_time": "2025-01-03T14:21:03.342Z"
   },
   {
    "duration": 5,
    "start_time": "2025-01-03T14:21:03.792Z"
   },
   {
    "duration": 12886,
    "start_time": "2025-01-03T14:21:04.312Z"
   },
   {
    "duration": 8837,
    "start_time": "2025-01-03T14:21:45.197Z"
   },
   {
    "duration": 25,
    "start_time": "2025-01-03T14:21:56.351Z"
   },
   {
    "duration": 5,
    "start_time": "2025-01-03T14:21:56.648Z"
   },
   {
    "duration": 12820,
    "start_time": "2025-01-03T14:21:57.106Z"
   },
   {
    "duration": 15,
    "start_time": "2025-01-03T14:23:09.697Z"
   },
   {
    "duration": 4,
    "start_time": "2025-01-03T14:23:09.928Z"
   },
   {
    "duration": 12867,
    "start_time": "2025-01-03T14:23:10.208Z"
   },
   {
    "duration": 4,
    "start_time": "2025-01-03T14:26:27.185Z"
   },
   {
    "duration": 15,
    "start_time": "2025-01-03T14:28:33.965Z"
   },
   {
    "duration": 5,
    "start_time": "2025-01-03T14:28:34.364Z"
   },
   {
    "duration": 12858,
    "start_time": "2025-01-03T14:28:34.814Z"
   },
   {
    "duration": 5,
    "start_time": "2025-01-03T14:28:48.643Z"
   },
   {
    "duration": 23,
    "start_time": "2025-01-03T14:29:13.183Z"
   },
   {
    "duration": 5,
    "start_time": "2025-01-03T14:29:23.511Z"
   },
   {
    "duration": 4,
    "start_time": "2025-01-03T14:29:47.720Z"
   },
   {
    "duration": 5,
    "start_time": "2025-01-03T14:29:59.696Z"
   },
   {
    "duration": 15,
    "start_time": "2025-01-03T14:30:50.295Z"
   },
   {
    "duration": 4,
    "start_time": "2025-01-03T14:30:51.851Z"
   },
   {
    "duration": 13123,
    "start_time": "2025-01-03T14:30:54.309Z"
   },
   {
    "duration": 6,
    "start_time": "2025-01-03T14:31:46.855Z"
   },
   {
    "duration": 2667,
    "start_time": "2025-01-03T14:32:01.987Z"
   },
   {
    "duration": 6,
    "start_time": "2025-01-03T14:32:04.657Z"
   },
   {
    "duration": 22,
    "start_time": "2025-01-03T14:32:04.664Z"
   },
   {
    "duration": 987,
    "start_time": "2025-01-03T14:32:04.689Z"
   },
   {
    "duration": 12,
    "start_time": "2025-01-03T14:32:05.678Z"
   },
   {
    "duration": 24,
    "start_time": "2025-01-03T14:32:05.692Z"
   },
   {
    "duration": 326,
    "start_time": "2025-01-03T14:32:05.718Z"
   },
   {
    "duration": 15,
    "start_time": "2025-01-03T14:32:06.046Z"
   },
   {
    "duration": 60,
    "start_time": "2025-01-03T14:32:06.063Z"
   },
   {
    "duration": 17,
    "start_time": "2025-01-03T14:32:06.126Z"
   },
   {
    "duration": 543,
    "start_time": "2025-01-03T14:32:06.145Z"
   },
   {
    "duration": 6,
    "start_time": "2025-01-03T14:32:06.690Z"
   },
   {
    "duration": 21,
    "start_time": "2025-01-03T14:32:06.698Z"
   },
   {
    "duration": 26,
    "start_time": "2025-01-03T14:32:06.721Z"
   },
   {
    "duration": 14421,
    "start_time": "2025-01-03T14:32:06.749Z"
   },
   {
    "duration": 135771,
    "start_time": "2025-01-03T14:32:21.172Z"
   },
   {
    "duration": 24,
    "start_time": "2025-01-03T14:34:36.945Z"
   },
   {
    "duration": 2823,
    "start_time": "2025-01-03T14:37:32.536Z"
   },
   {
    "duration": 10,
    "start_time": "2025-01-03T14:37:35.363Z"
   },
   {
    "duration": 46,
    "start_time": "2025-01-03T14:37:35.376Z"
   },
   {
    "duration": 1037,
    "start_time": "2025-01-03T14:37:35.424Z"
   },
   {
    "duration": 14,
    "start_time": "2025-01-03T14:37:36.465Z"
   },
   {
    "duration": 12,
    "start_time": "2025-01-03T14:37:36.482Z"
   },
   {
    "duration": 384,
    "start_time": "2025-01-03T14:37:36.496Z"
   },
   {
    "duration": 8,
    "start_time": "2025-01-03T14:37:36.882Z"
   },
   {
    "duration": 68,
    "start_time": "2025-01-03T14:37:36.892Z"
   },
   {
    "duration": 26,
    "start_time": "2025-01-03T14:37:36.964Z"
   },
   {
    "duration": 643,
    "start_time": "2025-01-03T14:37:36.992Z"
   },
   {
    "duration": 6,
    "start_time": "2025-01-03T14:37:37.636Z"
   },
   {
    "duration": 33,
    "start_time": "2025-01-03T14:37:37.644Z"
   },
   {
    "duration": 15,
    "start_time": "2025-01-03T14:37:37.681Z"
   },
   {
    "duration": 15913,
    "start_time": "2025-01-03T14:37:37.698Z"
   },
   {
    "duration": 1540897,
    "start_time": "2025-01-03T14:37:53.613Z"
   },
   {
    "duration": 6,
    "start_time": "2025-01-03T15:03:34.513Z"
   },
   {
    "duration": 502516,
    "start_time": "2025-01-03T15:05:04.690Z"
   },
   {
    "duration": 4,
    "start_time": "2025-01-03T15:13:27.209Z"
   },
   {
    "duration": 17,
    "start_time": "2025-01-03T15:13:27.214Z"
   },
   {
    "duration": 7019,
    "start_time": "2025-01-03T15:13:27.233Z"
   },
   {
    "duration": 10,
    "start_time": "2025-01-03T15:13:34.254Z"
   },
   {
    "duration": 23,
    "start_time": "2025-01-03T15:13:34.266Z"
   },
   {
    "duration": 0,
    "start_time": "2025-01-03T15:13:34.291Z"
   },
   {
    "duration": 0,
    "start_time": "2025-01-03T15:13:34.292Z"
   },
   {
    "duration": 0,
    "start_time": "2025-01-03T15:13:34.293Z"
   },
   {
    "duration": 3,
    "start_time": "2025-01-03T15:13:55.797Z"
   },
   {
    "duration": 5,
    "start_time": "2025-01-03T15:13:57.901Z"
   },
   {
    "duration": 4,
    "start_time": "2025-01-03T15:14:01.111Z"
   },
   {
    "duration": 14352657,
    "start_time": "2025-01-03T15:14:05.127Z"
   },
   {
    "duration": 22,
    "start_time": "2025-01-03T19:13:17.786Z"
   },
   {
    "duration": 0,
    "start_time": "2025-01-03T19:13:17.809Z"
   },
   {
    "duration": 2769,
    "start_time": "2025-01-03T19:36:12.125Z"
   },
   {
    "duration": 4122,
    "start_time": "2025-01-03T19:36:14.897Z"
   },
   {
    "duration": 3,
    "start_time": "2025-01-03T19:36:19.021Z"
   },
   {
    "duration": 956,
    "start_time": "2025-01-03T19:36:19.027Z"
   },
   {
    "duration": 12,
    "start_time": "2025-01-03T19:36:19.985Z"
   },
   {
    "duration": 13,
    "start_time": "2025-01-03T19:36:19.998Z"
   },
   {
    "duration": 352,
    "start_time": "2025-01-03T19:36:20.013Z"
   },
   {
    "duration": 7,
    "start_time": "2025-01-03T19:36:20.367Z"
   },
   {
    "duration": 41,
    "start_time": "2025-01-03T19:36:20.376Z"
   },
   {
    "duration": 12,
    "start_time": "2025-01-03T19:36:20.420Z"
   },
   {
    "duration": 770,
    "start_time": "2025-01-03T19:36:20.433Z"
   },
   {
    "duration": 5,
    "start_time": "2025-01-03T19:36:21.205Z"
   },
   {
    "duration": 1450711,
    "start_time": "2025-01-03T19:36:21.212Z"
   },
   {
    "duration": 6,
    "start_time": "2025-01-03T20:00:31.925Z"
   },
   {
    "duration": 494993,
    "start_time": "2025-01-03T20:00:31.932Z"
   },
   {
    "duration": 6,
    "start_time": "2025-01-03T20:08:46.927Z"
   },
   {
    "duration": 24,
    "start_time": "2025-01-03T20:08:46.936Z"
   },
   {
    "duration": 7367,
    "start_time": "2025-01-03T20:08:46.962Z"
   },
   {
    "duration": 3,
    "start_time": "2025-01-03T20:08:54.331Z"
   },
   {
    "duration": 26,
    "start_time": "2025-01-03T20:08:54.335Z"
   },
   {
    "duration": 5,
    "start_time": "2025-01-03T20:08:54.363Z"
   },
   {
    "duration": 1257226,
    "start_time": "2025-01-03T20:08:54.370Z"
   },
   {
    "duration": 34,
    "start_time": "2025-01-03T20:29:51.598Z"
   },
   {
    "duration": 47,
    "start_time": "2025-01-03T20:29:51.634Z"
   }
  ],
  "kernelspec": {
   "display_name": "Python 3 (ipykernel)",
   "language": "python",
   "name": "python3"
  },
  "language_info": {
   "codemirror_mode": {
    "name": "ipython",
    "version": 3
   },
   "file_extension": ".py",
   "mimetype": "text/x-python",
   "name": "python",
   "nbconvert_exporter": "python",
   "pygments_lexer": "ipython3",
   "version": "3.9.5"
  },
  "toc": {
   "base_numbering": 1,
   "nav_menu": {},
   "number_sections": false,
   "sideBar": true,
   "skip_h1_title": true,
   "title_cell": "Содержание",
   "title_sidebar": "Contents",
   "toc_cell": false,
   "toc_position": {
    "height": "calc(100% - 180px)",
    "left": "10px",
    "top": "150px",
    "width": "255px"
   },
   "toc_section_display": true,
   "toc_window_display": true
  }
 },
 "nbformat": 4,
 "nbformat_minor": 2
}
